{
 "cells": [
  {
   "cell_type": "markdown",
   "id": "323d0d21",
   "metadata": {},
   "source": [
    "Todo:\n",
    "- vydefinovat si A festivaly"
   ]
  },
  {
   "cell_type": "code",
   "execution_count": 158,
   "id": "32391d51",
   "metadata": {},
   "outputs": [],
   "source": [
    "import pandas as pd"
   ]
  },
  {
   "cell_type": "code",
   "execution_count": 193,
   "id": "055998a7",
   "metadata": {},
   "outputs": [],
   "source": [
    "df = pd.read_json(\"filmy.json\")"
   ]
  },
  {
   "cell_type": "code",
   "execution_count": 194,
   "id": "2e6f959b",
   "metadata": {},
   "outputs": [],
   "source": [
    "with open(\"seznamove_sloupce.txt\", \"r\", encoding = \"utf-8\") as s_sloupce:\n",
    "    s_sloupce = s_sloupce.readlines()\n",
    "    seznamove_sloupce = [s.strip() for s in s_sloupce]"
   ]
  },
  {
   "cell_type": "code",
   "execution_count": 195,
   "id": "9562db47",
   "metadata": {},
   "outputs": [],
   "source": [
    "oceneni = df.explode(\"Ocenění\").explode(\"Režie\")"
   ]
  },
  {
   "cell_type": "code",
   "execution_count": 196,
   "id": "d7e03002",
   "metadata": {},
   "outputs": [],
   "source": [
    "herectvo = pd.read_json(\"herectvo.json\")"
   ]
  },
  {
   "cell_type": "code",
   "execution_count": 197,
   "id": "cb812f5e",
   "metadata": {},
   "outputs": [
    {
     "data": {
      "text/html": [
       "<div>\n",
       "<style scoped>\n",
       "    .dataframe tbody tr th:only-of-type {\n",
       "        vertical-align: middle;\n",
       "    }\n",
       "\n",
       "    .dataframe tbody tr th {\n",
       "        vertical-align: top;\n",
       "    }\n",
       "\n",
       "    .dataframe thead th {\n",
       "        text-align: right;\n",
       "    }\n",
       "</style>\n",
       "<table border=\"1\" class=\"dataframe\">\n",
       "  <thead>\n",
       "    <tr style=\"text-align: right;\">\n",
       "      <th></th>\n",
       "      <th>Jméno</th>\n",
       "      <th>Bio</th>\n",
       "      <th>Datum narození</th>\n",
       "      <th>Místo narození</th>\n",
       "      <th>Datum úmrtí</th>\n",
       "      <th>Místo úmrtí</th>\n",
       "      <th>Titul</th>\n",
       "      <th>Film</th>\n",
       "      <th>Rok</th>\n",
       "      <th>Úloha</th>\n",
       "      <th>Role</th>\n",
       "      <th>Alternativní jména</th>\n",
       "      <th>Město narození</th>\n",
       "      <th>Stát narození</th>\n",
       "      <th>Město úmrtí</th>\n",
       "      <th>Stát úmrtí</th>\n",
       "      <th>Rok narození</th>\n",
       "      <th>Věk</th>\n",
       "    </tr>\n",
       "  </thead>\n",
       "  <tbody>\n",
       "    <tr>\n",
       "      <th>0</th>\n",
       "      <td>Jan Kašpar (10009)</td>\n",
       "      <td>JAN KAŠPAR (nar. 6.9.1952, Praha – zemřel 11. ...</td>\n",
       "      <td>06.09.1952</td>\n",
       "      <td>Praha, Československo</td>\n",
       "      <td>11.06.2013</td>\n",
       "      <td>Praha, Česká republika</td>\n",
       "      <td>Vratné lahve</td>\n",
       "      <td>Vratné lahve (23639)</td>\n",
       "      <td>2007</td>\n",
       "      <td>Hrají</td>\n",
       "      <td>důchodce v parku</td>\n",
       "      <td>None</td>\n",
       "      <td>Praha</td>\n",
       "      <td>Československo</td>\n",
       "      <td>Česká republika</td>\n",
       "      <td>Česká republika</td>\n",
       "      <td>1952.0</td>\n",
       "      <td>55.0</td>\n",
       "    </tr>\n",
       "    <tr>\n",
       "      <th>1</th>\n",
       "      <td>Jan Kašpar (10009)</td>\n",
       "      <td>JAN KAŠPAR (nar. 6.9.1952, Praha – zemřel 11. ...</td>\n",
       "      <td>06.09.1952</td>\n",
       "      <td>Praha, Československo</td>\n",
       "      <td>11.06.2013</td>\n",
       "      <td>Praha, Česká republika</td>\n",
       "      <td>Nejistá sezóna</td>\n",
       "      <td>Nejistá sezóna (397550)</td>\n",
       "      <td>1987</td>\n",
       "      <td>Hrají</td>\n",
       "      <td>kulisák Honza Melichar</td>\n",
       "      <td>None</td>\n",
       "      <td>Praha</td>\n",
       "      <td>Československo</td>\n",
       "      <td>Česká republika</td>\n",
       "      <td>Česká republika</td>\n",
       "      <td>1952.0</td>\n",
       "      <td>35.0</td>\n",
       "    </tr>\n",
       "    <tr>\n",
       "      <th>2</th>\n",
       "      <td>Jan Kašpar (10009)</td>\n",
       "      <td>JAN KAŠPAR (nar. 6.9.1952, Praha – zemřel 11. ...</td>\n",
       "      <td>06.09.1952</td>\n",
       "      <td>Praha, Československo</td>\n",
       "      <td>11.06.2013</td>\n",
       "      <td>Praha, Česká republika</td>\n",
       "      <td>Vesničko má středisková</td>\n",
       "      <td>Vesničko má středisková (397480)</td>\n",
       "      <td>1985</td>\n",
       "      <td>Hrají</td>\n",
       "      <td>bagrista Ferda</td>\n",
       "      <td>None</td>\n",
       "      <td>Praha</td>\n",
       "      <td>Československo</td>\n",
       "      <td>Česká republika</td>\n",
       "      <td>Česká republika</td>\n",
       "      <td>1952.0</td>\n",
       "      <td>33.0</td>\n",
       "    </tr>\n",
       "    <tr>\n",
       "      <th>3</th>\n",
       "      <td>Jan Kašpar (10009)</td>\n",
       "      <td>JAN KAŠPAR (nar. 6.9.1952, Praha – zemřel 11. ...</td>\n",
       "      <td>06.09.1952</td>\n",
       "      <td>Praha, Československo</td>\n",
       "      <td>11.06.2013</td>\n",
       "      <td>Praha, Česká republika</td>\n",
       "      <td>Rozpuštěný a vypuštěný</td>\n",
       "      <td>Rozpuštěný a vypuštěný (397438)</td>\n",
       "      <td>1984</td>\n",
       "      <td>Hrají</td>\n",
       "      <td>agent Ziegler</td>\n",
       "      <td>None</td>\n",
       "      <td>Praha</td>\n",
       "      <td>Československo</td>\n",
       "      <td>Česká republika</td>\n",
       "      <td>Česká republika</td>\n",
       "      <td>1952.0</td>\n",
       "      <td>32.0</td>\n",
       "    </tr>\n",
       "    <tr>\n",
       "      <th>4</th>\n",
       "      <td>Jan Kašpar (10009)</td>\n",
       "      <td>JAN KAŠPAR (nar. 6.9.1952, Praha – zemřel 11. ...</td>\n",
       "      <td>06.09.1952</td>\n",
       "      <td>Praha, Československo</td>\n",
       "      <td>11.06.2013</td>\n",
       "      <td>Praha, Česká republika</td>\n",
       "      <td>Jára Cimrman, ležící, spící</td>\n",
       "      <td>Jára Cimrman, ležící, spící (397423)</td>\n",
       "      <td>1983</td>\n",
       "      <td>Hrají</td>\n",
       "      <td>krajánek</td>\n",
       "      <td>None</td>\n",
       "      <td>Praha</td>\n",
       "      <td>Československo</td>\n",
       "      <td>Česká republika</td>\n",
       "      <td>Česká republika</td>\n",
       "      <td>1952.0</td>\n",
       "      <td>31.0</td>\n",
       "    </tr>\n",
       "    <tr>\n",
       "      <th>...</th>\n",
       "      <td>...</td>\n",
       "      <td>...</td>\n",
       "      <td>...</td>\n",
       "      <td>...</td>\n",
       "      <td>...</td>\n",
       "      <td>...</td>\n",
       "      <td>...</td>\n",
       "      <td>...</td>\n",
       "      <td>...</td>\n",
       "      <td>...</td>\n",
       "      <td>...</td>\n",
       "      <td>...</td>\n",
       "      <td>...</td>\n",
       "      <td>...</td>\n",
       "      <td>...</td>\n",
       "      <td>...</td>\n",
       "      <td>...</td>\n",
       "      <td>...</td>\n",
       "    </tr>\n",
       "    <tr>\n",
       "      <th>86839</th>\n",
       "      <td>Rostislav Novák st. (person)</td>\n",
       "      <td>None</td>\n",
       "      <td>25.11.1948</td>\n",
       "      <td>Praha, Československo</td>\n",
       "      <td>None</td>\n",
       "      <td>None</td>\n",
       "      <td>Straka v hrsti</td>\n",
       "      <td>Straka v hrsti (397595)</td>\n",
       "      <td>1987</td>\n",
       "      <td>Hrají</td>\n",
       "      <td>čeledín</td>\n",
       "      <td>Rosťa Novák, Rosťa Novák st.</td>\n",
       "      <td>Praha</td>\n",
       "      <td>Československo</td>\n",
       "      <td>None</td>\n",
       "      <td>None</td>\n",
       "      <td>1948.0</td>\n",
       "      <td>39.0</td>\n",
       "    </tr>\n",
       "    <tr>\n",
       "      <th>86840</th>\n",
       "      <td>Rostislav Novák st. (person)</td>\n",
       "      <td>None</td>\n",
       "      <td>25.11.1948</td>\n",
       "      <td>Praha, Československo</td>\n",
       "      <td>None</td>\n",
       "      <td>None</td>\n",
       "      <td>Rekord</td>\n",
       "      <td>Rekord (397357)</td>\n",
       "      <td>1982</td>\n",
       "      <td>Hrají</td>\n",
       "      <td>chlapec</td>\n",
       "      <td>Rosťa Novák, Rosťa Novák st.</td>\n",
       "      <td>Praha</td>\n",
       "      <td>Československo</td>\n",
       "      <td>None</td>\n",
       "      <td>None</td>\n",
       "      <td>1948.0</td>\n",
       "      <td>34.0</td>\n",
       "    </tr>\n",
       "    <tr>\n",
       "      <th>86841</th>\n",
       "      <td>Rostislav Novák st. (person)</td>\n",
       "      <td>None</td>\n",
       "      <td>25.11.1948</td>\n",
       "      <td>Praha, Československo</td>\n",
       "      <td>None</td>\n",
       "      <td>None</td>\n",
       "      <td>Opera ve vinici</td>\n",
       "      <td>Opera ve vinici (397330)</td>\n",
       "      <td>1981</td>\n",
       "      <td>Hrají</td>\n",
       "      <td>přítel Jiří</td>\n",
       "      <td>Rosťa Novák, Rosťa Novák st.</td>\n",
       "      <td>Praha</td>\n",
       "      <td>Československo</td>\n",
       "      <td>None</td>\n",
       "      <td>None</td>\n",
       "      <td>1948.0</td>\n",
       "      <td>33.0</td>\n",
       "    </tr>\n",
       "    <tr>\n",
       "      <th>86842</th>\n",
       "      <td>Rostislav Novák st. (person)</td>\n",
       "      <td>None</td>\n",
       "      <td>25.11.1948</td>\n",
       "      <td>Praha, Československo</td>\n",
       "      <td>None</td>\n",
       "      <td>None</td>\n",
       "      <td>Kalamita</td>\n",
       "      <td>Kalamita (397340)</td>\n",
       "      <td>1980</td>\n",
       "      <td>Hrají</td>\n",
       "      <td>milenec</td>\n",
       "      <td>Rosťa Novák, Rosťa Novák st.</td>\n",
       "      <td>Praha</td>\n",
       "      <td>Československo</td>\n",
       "      <td>None</td>\n",
       "      <td>None</td>\n",
       "      <td>1948.0</td>\n",
       "      <td>32.0</td>\n",
       "    </tr>\n",
       "    <tr>\n",
       "      <th>86843</th>\n",
       "      <td>Rostislav Novák st. (person)</td>\n",
       "      <td>None</td>\n",
       "      <td>25.11.1948</td>\n",
       "      <td>Praha, Československo</td>\n",
       "      <td>None</td>\n",
       "      <td>None</td>\n",
       "      <td>Den pro mou lásku</td>\n",
       "      <td>Den pro mou lásku (397129)</td>\n",
       "      <td>1976</td>\n",
       "      <td>Hrají</td>\n",
       "      <td>svatebčan</td>\n",
       "      <td>Rosťa Novák, Rosťa Novák st.</td>\n",
       "      <td>Praha</td>\n",
       "      <td>Československo</td>\n",
       "      <td>None</td>\n",
       "      <td>None</td>\n",
       "      <td>1948.0</td>\n",
       "      <td>28.0</td>\n",
       "    </tr>\n",
       "  </tbody>\n",
       "</table>\n",
       "<p>86844 rows × 18 columns</p>\n",
       "</div>"
      ],
      "text/plain": [
       "                              Jméno   \n",
       "0                Jan Kašpar (10009)  \\\n",
       "1                Jan Kašpar (10009)   \n",
       "2                Jan Kašpar (10009)   \n",
       "3                Jan Kašpar (10009)   \n",
       "4                Jan Kašpar (10009)   \n",
       "...                             ...   \n",
       "86839  Rostislav Novák st. (person)   \n",
       "86840  Rostislav Novák st. (person)   \n",
       "86841  Rostislav Novák st. (person)   \n",
       "86842  Rostislav Novák st. (person)   \n",
       "86843  Rostislav Novák st. (person)   \n",
       "\n",
       "                                                     Bio Datum narození   \n",
       "0      JAN KAŠPAR (nar. 6.9.1952, Praha – zemřel 11. ...     06.09.1952  \\\n",
       "1      JAN KAŠPAR (nar. 6.9.1952, Praha – zemřel 11. ...     06.09.1952   \n",
       "2      JAN KAŠPAR (nar. 6.9.1952, Praha – zemřel 11. ...     06.09.1952   \n",
       "3      JAN KAŠPAR (nar. 6.9.1952, Praha – zemřel 11. ...     06.09.1952   \n",
       "4      JAN KAŠPAR (nar. 6.9.1952, Praha – zemřel 11. ...     06.09.1952   \n",
       "...                                                  ...            ...   \n",
       "86839                                               None     25.11.1948   \n",
       "86840                                               None     25.11.1948   \n",
       "86841                                               None     25.11.1948   \n",
       "86842                                               None     25.11.1948   \n",
       "86843                                               None     25.11.1948   \n",
       "\n",
       "              Místo narození Datum úmrtí             Místo úmrtí   \n",
       "0      Praha, Československo  11.06.2013  Praha, Česká republika  \\\n",
       "1      Praha, Československo  11.06.2013  Praha, Česká republika   \n",
       "2      Praha, Československo  11.06.2013  Praha, Česká republika   \n",
       "3      Praha, Československo  11.06.2013  Praha, Česká republika   \n",
       "4      Praha, Československo  11.06.2013  Praha, Česká republika   \n",
       "...                      ...         ...                     ...   \n",
       "86839  Praha, Československo        None                    None   \n",
       "86840  Praha, Československo        None                    None   \n",
       "86841  Praha, Československo        None                    None   \n",
       "86842  Praha, Československo        None                    None   \n",
       "86843  Praha, Československo        None                    None   \n",
       "\n",
       "                             Titul                                  Film   \n",
       "0                     Vratné lahve                  Vratné lahve (23639)  \\\n",
       "1                   Nejistá sezóna               Nejistá sezóna (397550)   \n",
       "2          Vesničko má středisková      Vesničko má středisková (397480)   \n",
       "3           Rozpuštěný a vypuštěný       Rozpuštěný a vypuštěný (397438)   \n",
       "4      Jára Cimrman, ležící, spící  Jára Cimrman, ležící, spící (397423)   \n",
       "...                            ...                                   ...   \n",
       "86839               Straka v hrsti               Straka v hrsti (397595)   \n",
       "86840                       Rekord                       Rekord (397357)   \n",
       "86841              Opera ve vinici              Opera ve vinici (397330)   \n",
       "86842                     Kalamita                     Kalamita (397340)   \n",
       "86843            Den pro mou lásku            Den pro mou lásku (397129)   \n",
       "\n",
       "        Rok  Úloha                    Role            Alternativní jména   \n",
       "0      2007  Hrají        důchodce v parku                          None  \\\n",
       "1      1987  Hrají  kulisák Honza Melichar                          None   \n",
       "2      1985  Hrají          bagrista Ferda                          None   \n",
       "3      1984  Hrají           agent Ziegler                          None   \n",
       "4      1983  Hrají                krajánek                          None   \n",
       "...     ...    ...                     ...                           ...   \n",
       "86839  1987  Hrají                 čeledín  Rosťa Novák, Rosťa Novák st.   \n",
       "86840  1982  Hrají                 chlapec  Rosťa Novák, Rosťa Novák st.   \n",
       "86841  1981  Hrají             přítel Jiří  Rosťa Novák, Rosťa Novák st.   \n",
       "86842  1980  Hrají                 milenec  Rosťa Novák, Rosťa Novák st.   \n",
       "86843  1976  Hrají               svatebčan  Rosťa Novák, Rosťa Novák st.   \n",
       "\n",
       "      Město narození    Stát narození       Město úmrtí        Stát úmrtí   \n",
       "0              Praha   Československo   Česká republika   Česká republika  \\\n",
       "1              Praha   Československo   Česká republika   Česká republika   \n",
       "2              Praha   Československo   Česká republika   Česká republika   \n",
       "3              Praha   Československo   Česká republika   Česká republika   \n",
       "4              Praha   Československo   Česká republika   Česká republika   \n",
       "...              ...              ...               ...               ...   \n",
       "86839          Praha   Československo              None              None   \n",
       "86840          Praha   Československo              None              None   \n",
       "86841          Praha   Československo              None              None   \n",
       "86842          Praha   Československo              None              None   \n",
       "86843          Praha   Československo              None              None   \n",
       "\n",
       "       Rok narození   Věk  \n",
       "0            1952.0  55.0  \n",
       "1            1952.0  35.0  \n",
       "2            1952.0  33.0  \n",
       "3            1952.0  32.0  \n",
       "4            1952.0  31.0  \n",
       "...             ...   ...  \n",
       "86839        1948.0  39.0  \n",
       "86840        1948.0  34.0  \n",
       "86841        1948.0  33.0  \n",
       "86842        1948.0  32.0  \n",
       "86843        1948.0  28.0  \n",
       "\n",
       "[86844 rows x 18 columns]"
      ]
     },
     "execution_count": 197,
     "metadata": {},
     "output_type": "execute_result"
    }
   ],
   "source": [
    "herectvo"
   ]
  },
  {
   "cell_type": "code",
   "execution_count": 198,
   "id": "c5805f11",
   "metadata": {},
   "outputs": [],
   "source": [
    "hraji = herectvo.groupby('Film')['Jméno'].agg(list)"
   ]
  },
  {
   "cell_type": "code",
   "execution_count": 188,
   "id": "2269d36e",
   "metadata": {},
   "outputs": [
    {
     "data": {
      "text/plain": [
       "Film\n",
       "...A bílá bledla, až celkem ztmavla (397394)    [Dagmar Čárová (12058), Růžena Rudnická (12652...\n",
       "...a bude hůř (45816)                           [Otmar Brancuzský (1063), Michal Pešek (130039...\n",
       "...a odpusť jim jejich viny (397708)            [Věra Budilová (128897), Jiří Kodeš (2787), Ka...\n",
       "...a pozdravuji vlaštovky (396886)              [Ladislav Trojan (10040), Vítězslav Jandák (10...\n",
       "...a zase ta Lucie! (397427)                    [Petr Nárožný (1052), Jana Viščaková (111617),...\n",
       "                                                                      ...                        \n",
       "„Marečku, podejte mi pero!“ (397112)            [Libuše Švormová (10041), Iva Janžurová (1049)...\n",
       "„Pane, vy jste vdova!“ (396881)                 [Iva Janžurová (1049), Petr Kopřiva (105600), ...\n",
       "„Rakev ve snu viděti...“ (396781)               [Pavel Landovský (1136), Jiřina Součková (1176...\n",
       "„Zavřeno pro rodinný smutek“ (397686)           [Barbora Hrzánová (1146), Barbora Hrzánová (11...\n",
       "„Čtyři vraždy stačí, drahoušku“ (396882)        [Iva Janžurová (1049), Jan Libíček (126342), K...\n",
       "Name: Jméno, Length: 3425, dtype: object"
      ]
     },
     "execution_count": 188,
     "metadata": {},
     "output_type": "execute_result"
    }
   ],
   "source": [
    "hraji"
   ]
  },
  {
   "cell_type": "code",
   "execution_count": 199,
   "id": "3163d81e",
   "metadata": {},
   "outputs": [],
   "source": [
    "df = df.merge(hraji, on=\"Film\").rename(columns={\"Jméno\":\"Hrají\"})"
   ]
  },
  {
   "cell_type": "markdown",
   "id": "f73f54b1",
   "metadata": {},
   "source": [
    "## Nejoceňovanější tvůrci a filmy – nic to neznamená"
   ]
  },
  {
   "cell_type": "code",
   "execution_count": 162,
   "id": "8b3d147f",
   "metadata": {
    "scrolled": true
   },
   "outputs": [
    {
     "data": {
      "text/plain": [
       "Režie\n",
       "Karel Kachyňa (3526)       155\n",
       "Otakar Vávra (9507)        151\n",
       "Jan Svěrák (476)           126\n",
       "Jan Hřebejk (4831)         120\n",
       "Jiří Trnka (28391)          98\n",
       "Jiří Menzel (7887)          97\n",
       "Martin Frič (20324)         90\n",
       "Oldřich Lipský (7883)       83\n",
       "Václav Vorlíček (1044)      77\n",
       "František Vláčil (5191)     76\n",
       "Josef Pinkava (8992)        74\n",
       "Věra Chytilová (1555)       71\n",
       "Jiří Krejčík (7882)         70\n",
       "Petr Zelenka (4806)         70\n",
       "Martin Šulík (5432)         68\n",
       "Name: Ocenění, dtype: int64"
      ]
     },
     "execution_count": 162,
     "metadata": {},
     "output_type": "execute_result"
    }
   ],
   "source": [
    "oceneni[oceneni[\"Ocenění\"].str.lower().str.contains(\"vítěz\", na=False)].groupby(\"Režie\")[\"Ocenění\"].nunique().nlargest(15)"
   ]
  },
  {
   "cell_type": "code",
   "execution_count": 163,
   "id": "af7b1302",
   "metadata": {},
   "outputs": [
    {
     "data": {
      "text/plain": [
       "Film\n",
       "Ve stínu (66076)                  46\n",
       "Návrat idiota (36916)             45\n",
       "Krakatit (396074)                 42\n",
       "Hořící keř (398412)               40\n",
       "Obchod na korze (396649)          40\n",
       "Pelíšky (37635)                   35\n",
       "Lea (9296)                        34\n",
       "Je třeba zabít Sekala (163291)    33\n",
       "Kolja (9013)                      30\n",
       "Knoflíkáři (9793)                 28\n",
       "Name: Ocenění, dtype: int64"
      ]
     },
     "execution_count": 163,
     "metadata": {},
     "output_type": "execute_result"
    }
   ],
   "source": [
    "oceneni.groupby(\"Film\")[\"Ocenění\"].nunique().nlargest(10)"
   ]
  },
  {
   "cell_type": "markdown",
   "id": "5bb87072",
   "metadata": {},
   "source": [
    "## Zkouška: lidé za 3 oskarovými filmy"
   ]
  },
  {
   "cell_type": "code",
   "execution_count": 201,
   "id": "2c48bff3",
   "metadata": {},
   "outputs": [],
   "source": [
    "profese = [\n",
    "    \"Animace\",\n",
    "    \"Architekt\",\n",
    "    \"Asistent kamery\",\n",
    "    \"Asistent režie\",\n",
    "    \"Autor komentáře\",\n",
    "    \"Dramaturg\",\n",
    "    \"Druhá kamera\",\n",
    "    \"Hrají\",\n",
    "    \"Hudba\",\n",
    "    \"Choreografie\",\n",
    "    \"Kamera\",\n",
    "    \"Kaskadéři\",\n",
    "    \"Koordinátor kaskadérů\",\n",
    "    \"Koproducent\",\n",
    "    \"Masky\",\n",
    "    \"Návrhy kostýmů\",\n",
    "    \"Návrhy titulků\",\n",
    "    \"Odborný poradce\",\n",
    "    \"Pedagogické vedení\",\n",
    "    \"Pomocná režie\",\n",
    "    \"Postprodukce\",\n",
    "    \"Producent\",\n",
    "    \"Produkce\",\n",
    "    \"Předloha\",\n",
    "    \"Původní filmový námět\",\n",
    "    \"Režie\",\n",
    "    \"Scénář\",\n",
    "    \"Spolupráce\",\n",
    "    \"Střih\",\n",
    "    \"Technický scénář\",\n",
    "    \"Vedoucí produkce\",\n",
    "    \"Vedoucí výroby\",\n",
    "    \"Výprava\",\n",
    "    \"Výkonná produkce\",\n",
    "    \"Výtvarná spolupráce\",\n",
    "    \"Výtvarník\",\n",
    "    \"Zástupce vedoucího produkce\",\n",
    "    \"Zástupce vedoucího výroby\",\n",
    "    \"Zpívá\"]"
   ]
  },
  {
   "cell_type": "code",
   "execution_count": 202,
   "id": "75c69658",
   "metadata": {},
   "outputs": [],
   "source": [
    "trioskari_filmy = ['Ostře sledované vlaky (396694)','Obchod na korze (396649)','Kolja (9013)',]"
   ]
  },
  {
   "cell_type": "code",
   "execution_count": 203,
   "id": "c27e5d4d",
   "metadata": {},
   "outputs": [],
   "source": [
    "trioskari = df[df[\"Film\"].isin(trioskari_filmy)]"
   ]
  },
  {
   "cell_type": "code",
   "execution_count": 204,
   "id": "105c976b",
   "metadata": {},
   "outputs": [
    {
     "data": {
      "text/plain": [
       "['Obchod na korze (396649)', 'Ostře sledované vlaky (396694)', 'Kolja (9013)']"
      ]
     },
     "execution_count": 204,
     "metadata": {},
     "output_type": "execute_result"
    }
   ],
   "source": [
    "trioskari[\"Film\"].drop_duplicates().to_list()"
   ]
  },
  {
   "cell_type": "code",
   "execution_count": 205,
   "id": "7c910bfa",
   "metadata": {},
   "outputs": [],
   "source": [
    "def spoj(x):\n",
    "    seznam = []\n",
    "    if isinstance(x, str):\n",
    "        if x.strip() not in seznam:\n",
    "            seznam.append(x.strip())\n",
    "    if isinstance(x, list):\n",
    "        for y in x:\n",
    "            if isinstance(y, str):\n",
    "                if y.strip() not in seznam:\n",
    "                    seznam.append(y.strip())\n",
    "    return(seznam)"
   ]
  },
  {
   "cell_type": "code",
   "execution_count": 206,
   "id": "7c9a6508",
   "metadata": {},
   "outputs": [],
   "source": [
    "def spoj2(x):\n",
    "    seznam = []\n",
    "    for y in x:\n",
    "        for z in y:\n",
    "            if z not in seznam:\n",
    "                seznam.append(z)\n",
    "    return(seznam)"
   ]
  },
  {
   "cell_type": "code",
   "execution_count": 208,
   "id": "2145a41d",
   "metadata": {},
   "outputs": [
    {
     "name": "stderr",
     "output_type": "stream",
     "text": [
      "C:\\Users\\micha\\AppData\\Local\\Temp\\ipykernel_4296\\4160761296.py:1: SettingWithCopyWarning: \n",
      "A value is trying to be set on a copy of a slice from a DataFrame.\n",
      "Try using .loc[row_indexer,col_indexer] = value instead\n",
      "\n",
      "See the caveats in the documentation: https://pandas.pydata.org/pandas-docs/stable/user_guide/indexing.html#returning-a-view-versus-a-copy\n",
      "  trioskari[\"Lidé\"] = trioskari[profese].apply(lambda x: [spoj(x) for x in x.values], axis=1).apply(lambda x: spoj2(x))\n"
     ]
    }
   ],
   "source": [
    "trioskari[\"Lidé\"] = trioskari[profese].apply(lambda x: [spoj(x) for x in x.values], axis=1).apply(lambda x: spoj2(x))"
   ]
  },
  {
   "cell_type": "code",
   "execution_count": 209,
   "id": "3ee599e8",
   "metadata": {},
   "outputs": [
    {
     "data": {
      "text/plain": [
       "1472    [Karel Škvor (81834), Jiří Zavřel (2408), Jiří...\n",
       "1547    [Oldřich Bosák (4942), Vojtěch Kuthan (18310),...\n",
       "2627    [Miloš J. Kohout (5609), Jan Carda (7004), Slá...\n",
       "Name: Lidé, dtype: object"
      ]
     },
     "execution_count": 209,
     "metadata": {},
     "output_type": "execute_result"
    }
   ],
   "source": [
    "trioskari[\"Lidé\"]"
   ]
  },
  {
   "cell_type": "code",
   "execution_count": 210,
   "id": "21dce1c2",
   "metadata": {},
   "outputs": [],
   "source": [
    "tri = trioskari[[\"Film\",\"Lidé\"]].explode(\"Lidé\")"
   ]
  },
  {
   "cell_type": "code",
   "execution_count": 211,
   "id": "8cb17317",
   "metadata": {},
   "outputs": [
    {
     "data": {
      "text/plain": [
       "Lidé\n",
       "Jiří Stach (34555)         2\n",
       "Adam Matejka (126967)      1\n",
       "Alois Fišárek (570)        1\n",
       "Alois Vachek (130102)      1\n",
       "Andrej Chalimon (37311)    1\n",
       "Name: Film, dtype: int64"
      ]
     },
     "execution_count": 211,
     "metadata": {},
     "output_type": "execute_result"
    }
   ],
   "source": [
    "tri.groupby(\"Lidé\")[\"Film\"].nunique().nlargest()"
   ]
  },
  {
   "cell_type": "markdown",
   "id": "e24b6cec",
   "metadata": {},
   "source": [
    "## Funguje to, udělám si na to funkci"
   ]
  },
  {
   "cell_type": "code",
   "execution_count": 232,
   "id": "f98505be",
   "metadata": {},
   "outputs": [],
   "source": [
    "def spolecni_lide(dataframe, n):\n",
    "\n",
    "    def spoj(x):\n",
    "        seznam = []\n",
    "        if isinstance(x, str):\n",
    "            if x.strip() not in seznam:\n",
    "                seznam.append(x.strip())\n",
    "        if isinstance(x, list):\n",
    "            for y in x:\n",
    "                if isinstance(y, str):\n",
    "                    if y.strip() not in seznam:\n",
    "                        seznam.append(y.strip())\n",
    "        return(seznam)\n",
    "\n",
    "    def spoj2(x):\n",
    "        seznam = []\n",
    "        for y in x:\n",
    "            for z in y:\n",
    "                if z not in seznam:\n",
    "                    seznam.append(z)\n",
    "        return(seznam)\n",
    "\n",
    "    dataframe[\"Lidé\"] = dataframe[profese].apply(lambda x: [spoj(x) for x in x.values], axis=1).apply(lambda x: spoj2(x))\n",
    "    dataframe = dataframe[[\"Film\",\"Lidé\"]].explode(\"Lidé\")\n",
    "    seskup = dataframe.groupby(\"Lidé\")[\"Film\"].nunique().nlargest(n)\n",
    "    return(seskup)"
   ]
  },
  {
   "cell_type": "code",
   "execution_count": 258,
   "id": "8ed60b86",
   "metadata": {},
   "outputs": [],
   "source": [
    "osk_nominace_vcetne_domacich = oceneni[((oceneni[\"Ocenění\"].str.lower().str.contains(\"oscar za nejlepší cizojazyčný\", na=False)) | (oceneni[\"Ocenění\"].str.lower().str.contains(\"oscar za nejlepší zahraniční film\", na=False)))][\"Film\"].drop_duplicates().to_list()"
   ]
  },
  {
   "cell_type": "code",
   "execution_count": 239,
   "id": "190b8822",
   "metadata": {},
   "outputs": [],
   "source": [
    "oskarianominace = ['Obchod na korze (396649)','Lásky jedné plavovlásky (396651)','Ostře sledované vlaky (396694)','Hoří, má panenko (396750)','Kolja (9013)','Vesničko má středisková (397480)','Obecná škola (397700)','Želary (13452)','Želary (13452)']"
   ]
  },
  {
   "cell_type": "code",
   "execution_count": 248,
   "id": "fa53944d",
   "metadata": {},
   "outputs": [
    {
     "data": {
      "text/plain": [
       "9"
      ]
     },
     "execution_count": 248,
     "metadata": {},
     "output_type": "execute_result"
    }
   ],
   "source": [
    "len(oskarianominace)"
   ]
  },
  {
   "cell_type": "code",
   "execution_count": 247,
   "id": "74ae86b2",
   "metadata": {},
   "outputs": [
    {
     "name": "stderr",
     "output_type": "stream",
     "text": [
      "C:\\Users\\micha\\AppData\\Local\\Temp\\ipykernel_4296\\1984400426.py:23: SettingWithCopyWarning: \n",
      "A value is trying to be set on a copy of a slice from a DataFrame.\n",
      "Try using .loc[row_indexer,col_indexer] = value instead\n",
      "\n",
      "See the caveats in the documentation: https://pandas.pydata.org/pandas-docs/stable/user_guide/indexing.html#returning-a-view-versus-a-copy\n",
      "  dataframe[\"Lidé\"] = dataframe[profese].apply(lambda x: [spoj(x) for x in x.values], axis=1).apply(lambda x: spoj2(x))\n"
     ]
    },
    {
     "data": {
      "text/plain": [
       "Lidé\n",
       "Václav Šašek (1766)            5\n",
       "Milada Ježková (79014)         4\n",
       "Rudolf Hammer (5119)           4\n",
       "Jiří Kučera (114418)           3\n",
       "Jiří Menzel (7887)             3\n",
       "Libuše Šafránková (2272)       3\n",
       "Zdeněk Svěrák (1892)           3\n",
       "Alois Fišárek (570)            2\n",
       "František Příhoda (7109)       2\n",
       "Ivan Passer (7890)             2\n",
       "Jan Hraběta (2677)             2\n",
       "Jan Svěrák (476)               2\n",
       "Jan Tříska (4834)              2\n",
       "Jan Vostrčil (11100)           2\n",
       "Jaromír Komárek (22275)        2\n",
       "Jaromír Lukáš (27426)          2\n",
       "Jaromír Šofr (4285)            2\n",
       "Jaroslav Papoušek (4930)       2\n",
       "Jaroslav Solnička (85467)      2\n",
       "Jaroslav Tomsa (2576)          2\n",
       "Jiří Stach (34555)             2\n",
       "Jiří Šust (4937)               2\n",
       "Josef Kolb (126574)            2\n",
       "Josef Somr (1054)              2\n",
       "Josef Vondráček (22052)        2\n",
       "Josef Šebánek (69908)          2\n",
       "Karel Černý (1241)             2\n",
       "Ladislav Chroust (59307)       2\n",
       "Miloš Forman (7872)            2\n",
       "Miroslav Hájek (54607)         2\n",
       "Miroslav Ondříček (3524)       2\n",
       "Miroslav Táborský (1841)       2\n",
       "Oldřich Vlach (14387)          2\n",
       "Ondřej Vetchý (836)            2\n",
       "Pavla Marková (36607)          2\n",
       "Petr Brukner (7945)            2\n",
       "Petr Čepek (4764)              2\n",
       "Rudolf Hrušínský ml. (2988)    2\n",
       "Rudolf Hrušínský st. (4842)    2\n",
       "Rudolf Hájek (12756)           2\n",
       "Vladimír Hrabánek (1449)       2\n",
       "Vladimír Mácha (127847)        2\n",
       "Vlastimila Vlková (27109)      2\n",
       "Adam Matejka (126967)          1\n",
       "Alena Květová (130279)         1\n",
       "Alexander Kučerenko (13625)    1\n",
       "Aleš Najbrt (5647)             1\n",
       "Alice Dvořáková (4913)         1\n",
       "Alois Vachek (130102)          1\n",
       "Andrej Chalimon (37311)        1\n",
       "Name: Film, dtype: int64"
      ]
     },
     "execution_count": 247,
     "metadata": {},
     "output_type": "execute_result"
    }
   ],
   "source": [
    "spolecni_lide(df[df[\"Film\"].isin(oskarianominace)], 50)"
   ]
  },
  {
   "cell_type": "code",
   "execution_count": 260,
   "id": "47fef567",
   "metadata": {},
   "outputs": [
    {
     "name": "stderr",
     "output_type": "stream",
     "text": [
      "C:\\Users\\micha\\AppData\\Local\\Temp\\ipykernel_4296\\1984400426.py:23: SettingWithCopyWarning: \n",
      "A value is trying to be set on a copy of a slice from a DataFrame.\n",
      "Try using .loc[row_indexer,col_indexer] = value instead\n",
      "\n",
      "See the caveats in the documentation: https://pandas.pydata.org/pandas-docs/stable/user_guide/indexing.html#returning-a-view-versus-a-copy\n",
      "  dataframe[\"Lidé\"] = dataframe[profese].apply(lambda x: [spoj(x) for x in x.values], axis=1).apply(lambda x: spoj2(x))\n"
     ]
    },
    {
     "data": {
      "text/plain": [
       "Lidé\n",
       "Jaroslav Kučera (1647)     17\n",
       "Jiří Koštýř (5973)         17\n",
       "Kristián Suda (927)        12\n",
       "Ladislav Lahoda (1817)     11\n",
       "Helena Uldrichová (267)    10\n",
       "Name: Film, dtype: int64"
      ]
     },
     "execution_count": 260,
     "metadata": {},
     "output_type": "execute_result"
    }
   ],
   "source": [
    "spolecni_lide(df[df[\"Film\"].isin(osk_nominace_vcetne_domacich)], 5)"
   ]
  },
  {
   "cell_type": "markdown",
   "id": "1f902b58",
   "metadata": {},
   "source": [
    "## Lidé za nejvíce českými lvy"
   ]
  },
  {
   "cell_type": "code",
   "execution_count": 223,
   "id": "968a988b",
   "metadata": {},
   "outputs": [],
   "source": [
    "lvizanejlepsifilm = oceneni[(~oceneni[\"Ocenění\"].str.lower().str.contains(\"scénografie\", na=False)) & (oceneni[\"Ocenění\"].str.lower().str.contains(\"ceny český lev\", na=False)) & (oceneni[\"Ocenění\"].str.lower().str.contains(\"nejlepší film\", na=False))  & (oceneni[\"Ocenění\"].str.lower().str.contains(\"vítěz\", na=False))][\"Film\"].drop_duplicates().to_list()"
   ]
  },
  {
   "cell_type": "code",
   "execution_count": 250,
   "id": "e3c4b5bc",
   "metadata": {},
   "outputs": [
    {
     "name": "stderr",
     "output_type": "stream",
     "text": [
      "C:\\Users\\micha\\AppData\\Local\\Temp\\ipykernel_4296\\1984400426.py:23: SettingWithCopyWarning: \n",
      "A value is trying to be set on a copy of a slice from a DataFrame.\n",
      "Try using .loc[row_indexer,col_indexer] = value instead\n",
      "\n",
      "See the caveats in the documentation: https://pandas.pydata.org/pandas-docs/stable/user_guide/indexing.html#returning-a-view-versus-a-copy\n",
      "  dataframe[\"Lidé\"] = dataframe[profese].apply(lambda x: [spoj(x) for x in x.values], axis=1).apply(lambda x: spoj2(x))\n"
     ]
    },
    {
     "data": {
      "text/plain": [
       "Lidé\n",
       "Jaroslav Kučera (1647)     7\n",
       "Jiří Koštýř (5973)         7\n",
       "Katarína Hollá (6534)      5\n",
       "Kristián Suda (927)        5\n",
       "Luděk Jelen (1407)         5\n",
       "Vít Komrzý (1491)          5\n",
       "Helena Uldrichová (267)    4\n",
       "Ivan Hubač (9347)          4\n",
       "Ivan Trojan (6789)         4\n",
       "Ladislav Lahoda (1817)     4\n",
       "Name: Film, dtype: int64"
      ]
     },
     "execution_count": 250,
     "metadata": {},
     "output_type": "execute_result"
    }
   ],
   "source": [
    "spolecni_lide(df[df[\"Film\"].isin(lvizanejlepsifilm)], 10)"
   ]
  },
  {
   "cell_type": "markdown",
   "id": "add08378",
   "metadata": {},
   "source": [
    "Jaroslav Kučera\n",
    "Head of Creative Team, Executive Producer, Producer\n",
    "Date of birth09.02.1963 Place of birthPraha, Československo\n",
    "\n",
    "Jiří Koštýř\n",
    "vedoucí výroby/produkce, karikaturista, kreslíř\n",
    "Datum narození01.01.1968 Místo narozeníPočátky, Československo\n",
    "\n",
    "Katarína Hollá\n",
    "návrhářka kostýmů"
   ]
  },
  {
   "cell_type": "markdown",
   "id": "70ae4a56",
   "metadata": {},
   "source": [
    "## Jde to i pro režiséry například!"
   ]
  },
  {
   "cell_type": "code",
   "execution_count": 251,
   "id": "237f29b0",
   "metadata": {},
   "outputs": [
    {
     "name": "stderr",
     "output_type": "stream",
     "text": [
      "C:\\Users\\micha\\AppData\\Local\\Temp\\ipykernel_4296\\1984400426.py:23: SettingWithCopyWarning: \n",
      "A value is trying to be set on a copy of a slice from a DataFrame.\n",
      "Try using .loc[row_indexer,col_indexer] = value instead\n",
      "\n",
      "See the caveats in the documentation: https://pandas.pydata.org/pandas-docs/stable/user_guide/indexing.html#returning-a-view-versus-a-copy\n",
      "  dataframe[\"Lidé\"] = dataframe[profese].apply(lambda x: [spoj(x) for x in x.values], axis=1).apply(lambda x: spoj2(x))\n"
     ]
    },
    {
     "data": {
      "text/plain": [
       "Lidé\n",
       "Jan Svěrák (476)        10\n",
       "Alois Fišárek (570)      9\n",
       "Zdeněk Svěrák (1892)     8\n",
       "David Rauch (1810)       7\n",
       "Eric Abraham (1767)      6\n",
       "Name: Film, dtype: int64"
      ]
     },
     "execution_count": 251,
     "metadata": {},
     "output_type": "execute_result"
    }
   ],
   "source": [
    "spolecni_lide(df[df[\"Režie\"] == \"Jan Svěrák (476)\"], 5)"
   ]
  },
  {
   "cell_type": "code",
   "execution_count": 252,
   "id": "8a7511b8",
   "metadata": {},
   "outputs": [
    {
     "name": "stderr",
     "output_type": "stream",
     "text": [
      "C:\\Users\\micha\\AppData\\Local\\Temp\\ipykernel_4296\\1984400426.py:23: SettingWithCopyWarning: \n",
      "A value is trying to be set on a copy of a slice from a DataFrame.\n",
      "Try using .loc[row_indexer,col_indexer] = value instead\n",
      "\n",
      "See the caveats in the documentation: https://pandas.pydata.org/pandas-docs/stable/user_guide/indexing.html#returning-a-view-versus-a-copy\n",
      "  dataframe[\"Lidé\"] = dataframe[profese].apply(lambda x: [spoj(x) for x in x.values], axis=1).apply(lambda x: spoj2(x))\n"
     ]
    },
    {
     "data": {
      "text/plain": [
       "Lidé\n",
       "Jan Hřebejk (4831)        22\n",
       "Vladimír Barák (5994)     19\n",
       "Petr Jarchovský (2075)    15\n",
       "Jan Malíř (5933)          11\n",
       "Milan Býček (4811)        11\n",
       "Name: Film, dtype: int64"
      ]
     },
     "execution_count": 252,
     "metadata": {},
     "output_type": "execute_result"
    }
   ],
   "source": [
    "spolecni_lide(df[df[\"Režie\"] == \"Jan Hřebejk (4831)\"], 5)"
   ]
  },
  {
   "cell_type": "code",
   "execution_count": 255,
   "id": "fa92282e",
   "metadata": {},
   "outputs": [
    {
     "name": "stderr",
     "output_type": "stream",
     "text": [
      "C:\\Users\\micha\\AppData\\Local\\Temp\\ipykernel_4296\\1984400426.py:23: SettingWithCopyWarning: \n",
      "A value is trying to be set on a copy of a slice from a DataFrame.\n",
      "Try using .loc[row_indexer,col_indexer] = value instead\n",
      "\n",
      "See the caveats in the documentation: https://pandas.pydata.org/pandas-docs/stable/user_guide/indexing.html#returning-a-view-versus-a-copy\n",
      "  dataframe[\"Lidé\"] = dataframe[profese].apply(lambda x: [spoj(x) for x in x.values], axis=1).apply(lambda x: spoj2(x))\n"
     ]
    },
    {
     "data": {
      "text/plain": [
       "Lidé\n",
       "Věra Chytilová (1555)      19\n",
       "Tereza Kučerová (32811)    10\n",
       "Boleslav Polívka (1556)     5\n",
       "Jan Klusák (8564)           5\n",
       "Jaromír Šofr (4285)         5\n",
       "Name: Film, dtype: int64"
      ]
     },
     "execution_count": 255,
     "metadata": {},
     "output_type": "execute_result"
    }
   ],
   "source": [
    "spolecni_lide(df[df[\"Režie\"] == \"Věra Chytilová (1555)\"], 5)"
   ]
  }
 ],
 "metadata": {
  "kernelspec": {
   "display_name": "Python 3 (ipykernel)",
   "language": "python",
   "name": "python3"
  },
  "language_info": {
   "codemirror_mode": {
    "name": "ipython",
    "version": 3
   },
   "file_extension": ".py",
   "mimetype": "text/x-python",
   "name": "python",
   "nbconvert_exporter": "python",
   "pygments_lexer": "ipython3",
   "version": "3.10.8"
  }
 },
 "nbformat": 4,
 "nbformat_minor": 5
}
