{
 "cells": [
  {
   "cell_type": "code",
   "execution_count": 1,
   "id": "301daece",
   "metadata": {},
   "outputs": [],
   "source": [
    "def loadlist(filename):\n",
    "    with open(filename, 'r') as f:\n",
    "        lines = []\n",
    "        for line in f:\n",
    "            lines.append(line[:-1])\n",
    "    return(lines)"
   ]
  },
  {
   "cell_type": "code",
   "execution_count": 2,
   "id": "c04b85d9",
   "metadata": {},
   "outputs": [],
   "source": [
    "linky = loadlist(\"www.filmovyprehled.cz_all.txt\")"
   ]
  },
  {
   "cell_type": "code",
   "execution_count": 3,
   "id": "51e2e38e",
   "metadata": {},
   "outputs": [
    {
     "data": {
      "text/plain": [
       "['https://www.filmovyprehled.cz/en/person/86426/michal-vican',\n",
       " 'https://www.filmovyprehled.cz/cs/person/84040/boris-krajny',\n",
       " 'https://www.filmovyprehled.cz/cs/person/27613/jiri-hejl',\n",
       " 'https://www.filmovyprehled.cz/cs/kalendar/detail/vsetinsky-filmovy-maraton',\n",
       " 'https://www.filmovyprehled.cz/cs/film/197143/krehka-identita',\n",
       " 'https://www.filmovyprehled.cz/cs/person/92640/mirage-production-service',\n",
       " 'https://www.filmovyprehled.cz/en/person/5210/tamir-ment',\n",
       " 'https://www.filmovyprehled.cz/en/person/24023/sophie-animation-co-ltd',\n",
       " 'https://www.filmovyprehled.cz/cs/person/30140/alos-neuman',\n",
       " 'https://www.filmovyprehled.cz/cs/person/76111/lukas-ujcik']"
      ]
     },
     "execution_count": 3,
     "metadata": {},
     "output_type": "execute_result"
    }
   ],
   "source": [
    "linky[0:10]"
   ]
  },
  {
   "cell_type": "code",
   "execution_count": 4,
   "id": "068b7f1c",
   "metadata": {},
   "outputs": [],
   "source": [
    "linky_filmy = [x for x in linky if \"/cs/film/\" in x]"
   ]
  },
  {
   "cell_type": "code",
   "execution_count": 5,
   "id": "380d5e9b",
   "metadata": {
    "scrolled": true
   },
   "outputs": [
    {
     "data": {
      "text/plain": [
       "['https://www.filmovyprehled.cz/cs/film/197143/krehka-identita',\n",
       " 'https://www.filmovyprehled.cz/cs/film/402101/famu-v-kine-01',\n",
       " 'https://www.filmovyprehled.cz/cs/film/102314/zimni-vila',\n",
       " 'https://www.filmovyprehled.cz/cs/film/401931/barbora-polakova-krosna',\n",
       " 'https://www.filmovyprehled.cz/cs/film/395473/jeji-pastorkyna',\n",
       " 'https://www.filmovyprehled.cz/cs/film/397657/zacatek-dlouheho-podzimu',\n",
       " 'https://www.filmovyprehled.cz/cs/film/397398/vrak',\n",
       " 'https://www.filmovyprehled.cz/cs/film/395884/hvezda-z-posledni-stace',\n",
       " 'https://www.filmovyprehled.cz/cs/film/397649/uzavreny-okruh',\n",
       " 'https://www.filmovyprehled.cz/cs/film/396286/stenata']"
      ]
     },
     "execution_count": 5,
     "metadata": {},
     "output_type": "execute_result"
    }
   ],
   "source": [
    "linky_filmy[0:10]"
   ]
  },
  {
   "cell_type": "markdown",
   "id": "20da540d",
   "metadata": {},
   "source": [
    "## Začínáme scrapovat"
   ]
  },
  {
   "cell_type": "code",
   "execution_count": 6,
   "id": "b837effc",
   "metadata": {},
   "outputs": [],
   "source": [
    "import requests\n",
    "from bs4 import BeautifulSoup"
   ]
  },
  {
   "cell_type": "markdown",
   "id": "a5872fe8",
   "metadata": {},
   "source": [
    "### Nejdřív zjistíme, co všechno budeme scrapovat"
   ]
  },
  {
   "cell_type": "code",
   "execution_count": 8,
   "id": "27ad4788",
   "metadata": {},
   "outputs": [
    {
     "data": {
      "text/plain": [
       "['https://www.filmovyprehled.cz/cs/film/396753/marketa-lazarova',\n",
       " 'https://www.filmovyprehled.cz/cs/film/9013/kolja',\n",
       " 'https://www.filmovyprehled.cz/cs/film/396780/spalovac-mrtvol',\n",
       " 'https://www.filmovyprehled.cz/cs/film/397282/postriziny',\n",
       " 'https://www.filmovyprehled.cz/cs/film/397584/bersidejsi',\n",
       " 'https://www.filmovyprehled.cz/cs/film/395109/dostavenicko-ve-mlynici',\n",
       " 'https://www.filmovyprehled.cz/cs/film/397598/prazska-5',\n",
       " 'https://www.filmovyprehled.cz/cs/film/37635/pelisky']"
      ]
     },
     "execution_count": 8,
     "metadata": {},
     "output_type": "execute_result"
    }
   ],
   "source": [
    "filmy_benchmark = [\"kolja\",\n",
    "                   \"pelisky\",\n",
    "                   \"postriziny\",\n",
    "                   \"lazarova\",\n",
    "                   \"spalovac\",\n",
    "                   \"dostavenicko-ve-mlynici\",\n",
    "                   \"prazska-5\",\n",
    "                   \"bersidejsi\"]\n",
    "linky_benchmark = []\n",
    "for l in linky_filmy:\n",
    "    for f in filmy_benchmark:\n",
    "        if f in l:\n",
    "            linky_benchmark.append(l)\n",
    "linky_benchmark"
   ]
  },
  {
   "cell_type": "code",
   "execution_count": 9,
   "id": "8a4f106e",
   "metadata": {},
   "outputs": [],
   "source": [
    "def jake_jsou_detaily(url):\n",
    "    page = requests.get(url)\n",
    "    soup = BeautifulSoup(page.content, 'html.parser')\n",
    "    item_details = soup.find_all(class_='item-details')\n",
    "    h3_texts = []\n",
    "    for item_detail in item_details:\n",
    "        h3_tags = item_detail.find_all('h3')\n",
    "        for h3_tag in h3_tags:\n",
    "            h3_texts.append(h3_tag.get_text())\n",
    "    return(h3_texts)"
   ]
  },
  {
   "cell_type": "code",
   "execution_count": 10,
   "id": "acd90e0d",
   "metadata": {},
   "outputs": [
    {
     "data": {
      "text/plain": [
       "['Země původu',\n",
       " 'Copyright',\n",
       " 'Rok výroby',\n",
       " 'Premiéra',\n",
       " 'Minutáž',\n",
       " 'Režie',\n",
       " 'Kategorie',\n",
       " 'Žánr',\n",
       " 'Typologie',\n",
       " 'Originální název',\n",
       " 'Český název',\n",
       " 'Anglický název',\n",
       " 'povídkový film',\n",
       " 'Povídky',\n",
       " 'Souběžný název',\n",
       " 'Souběžný anglický název']"
      ]
     },
     "execution_count": 10,
     "metadata": {},
     "output_type": "execute_result"
    }
   ],
   "source": [
    "detaily = []\n",
    "for l in linky_benchmark:\n",
    "    nove_detaily = jake_jsou_detaily(l)\n",
    "    for n in nove_detaily:\n",
    "        if n not in detaily:\n",
    "            detaily.append(n)\n",
    "detaily"
   ]
  },
  {
   "cell_type": "code",
   "execution_count": 15,
   "id": "169bdbd5",
   "metadata": {},
   "outputs": [],
   "source": [
    "def jake_jsou_sekce(url):\n",
    "    page = requests.get(url)\n",
    "    soup = BeautifulSoup(page.content, 'html.parser')\n",
    "    item_details = soup.find_all(class_='db-film-section')\n",
    "    h2_texts = []\n",
    "    for item_detail in item_details:\n",
    "        h2_tags = item_detail.find_all('h2')\n",
    "        for h2_tag in h2_tags:\n",
    "            h2_texts.append(h2_tag.get_text())\n",
    "    return(h2_texts)"
   ]
  },
  {
   "cell_type": "code",
   "execution_count": 16,
   "id": "49c4b5bc",
   "metadata": {},
   "outputs": [
    {
     "data": {
      "text/plain": [
       "['Anotace',\n",
       " 'Obsah',\n",
       " 'Film online',\n",
       " 'Galerie',\n",
       " 'Hrají',\n",
       " 'Štáb a tvůrci',\n",
       " 'Produkční údaje',\n",
       " 'Technické údaje',\n",
       " 'Ocenění',\n",
       " 'Knihovna']"
      ]
     },
     "execution_count": 16,
     "metadata": {},
     "output_type": "execute_result"
    }
   ],
   "source": [
    "jake_jsou_sekce(\"https://www.filmovyprehled.cz/cs/film/397598/prazska-5\")"
   ]
  },
  {
   "cell_type": "code",
   "execution_count": 21,
   "id": "366def59",
   "metadata": {},
   "outputs": [],
   "source": [
    "def jake_jsou_kredity(url):\n",
    "    page = requests.get(url)\n",
    "    soup = BeautifulSoup(page.content, 'html.parser')\n",
    "    item_details = soup.find_all(class_='db-film-credits-section')\n",
    "    h3_texts = []\n",
    "    for item_detail in item_details:\n",
    "        if \"Štáb a tvůrci\" in item_detail.text:\n",
    "            h3_tags = item_detail.find_all('h3')\n",
    "            for h3_tag in h3_tags:\n",
    "                h3_texts.append(h3_tag.get_text())\n",
    "    return(h3_texts)"
   ]
  },
  {
   "cell_type": "code",
   "execution_count": 23,
   "id": "0de8227c",
   "metadata": {},
   "outputs": [
    {
     "data": {
      "text/plain": [
       "['Režie',\n",
       " 'Pomocná režie',\n",
       " 'Asistent režie',\n",
       " 'Skript',\n",
       " 'Původní filmový námět',\n",
       " 'Předloha',\n",
       " 'Scénář',\n",
       " 'Technický scénář',\n",
       " 'Dramaturg',\n",
       " 'Kamera',\n",
       " 'Druhá kamera',\n",
       " 'Asistent kamery',\n",
       " 'Architekt',\n",
       " 'Assistent architekta',\n",
       " 'Výtvarník',\n",
       " 'Výprava',\n",
       " 'Návrhy kostýmů',\n",
       " 'Kostýmy',\n",
       " 'Masky',\n",
       " 'Střih',\n",
       " 'Asistent střihu',\n",
       " 'Zvuk',\n",
       " 'Triky',\n",
       " 'Návrhy titulků',\n",
       " 'Vedoucí výroby',\n",
       " 'Zástupce vedoucího výroby',\n",
       " 'Asistent vedoucího výroby',\n",
       " 'Odborný poradce',\n",
       " 'Spolupráce',\n",
       " 'Výkonná produkce',\n",
       " 'Producent',\n",
       " 'Koproducent',\n",
       " 'Zvláštní efekty',\n",
       " 'Koordinátor kaskadérů',\n",
       " 'Kaskadéři']"
      ]
     },
     "execution_count": 23,
     "metadata": {},
     "output_type": "execute_result"
    }
   ],
   "source": [
    "kredity = []\n",
    "for l in linky_benchmark:\n",
    "    nove_kredity = jake_jsou_kredity(l)\n",
    "    for n in nove_kredity:\n",
    "        if n not in kredity:\n",
    "            kredity.append(n)\n",
    "kredity"
   ]
  },
  {
   "cell_type": "markdown",
   "id": "ce66d3fe",
   "metadata": {},
   "source": [
    "## Scrapování filmů"
   ]
  },
  {
   "cell_type": "code",
   "execution_count": 54,
   "id": "48f6f649",
   "metadata": {},
   "outputs": [],
   "source": [
    "def id_persony(url):\n",
    "    if \"cs/person/\" in url:\n",
    "        id_persony = url.split(\"/\")[-2]\n",
    "    else:\n",
    "        id_persony = 0\n",
    "    return(id_persony)"
   ]
  },
  {
   "cell_type": "code",
   "execution_count": 56,
   "id": "39133465",
   "metadata": {},
   "outputs": [],
   "source": [
    "def scrape_film(url):\n",
    "\n",
    "    page = requests.get(url)\n",
    "    soup = BeautifulSoup(page.content, 'html.parser')\n",
    "\n",
    "    atributy = {}\n",
    "    \n",
    "    ## Detaily – země původu, copyright…\n",
    "    \n",
    "    item_details = soup.find_all(class_='item-details')\n",
    "    divs_text = []\n",
    "\n",
    "    for item_detail in item_details:\n",
    "        divs = item_detail.find_all('div')\n",
    "        for div in divs:\n",
    "            if div.find_all(\"span\"):\n",
    "                prvni = div.find(\"h3\").text\n",
    "                spany = div.find_all(\"span\")\n",
    "                spany2 = []\n",
    "                for s in spany:\n",
    "                    spany2.append(s.text)\n",
    "                druhy = \", \".join(spany2)\n",
    "                divs_text.append(prvni + \" \" + druhy)\n",
    "            else:\n",
    "                divs_text.append(div.text)\n",
    "    \n",
    "    for d in detaily:\n",
    "        for t in divs_text:\n",
    "            if d in t:\n",
    "                t = t.replace(d,\"\")\n",
    "                atributy[d] = t.strip()\n",
    "    \n",
    "    ## Credits\n",
    "    \n",
    "    item_details = soup.find_all(class_='db-film-credits-section')\n",
    "    divs_text = []\n",
    "\n",
    "    for item_detail in item_details:\n",
    "        if \"Štáb a tvůrci\" in item_detail.text:\n",
    "            divs = item_detail.find_all('div')\n",
    "            for div in divs:\n",
    "                if div.find_all(\"a\"):\n",
    "                    prvni = div.find(\"h3\").text\n",
    "                    odkazy = div.find_all(\"a\")\n",
    "                    odkazy2 = []\n",
    "                    for a in odkazy:\n",
    "                        id = id_persony(a[\"href\"])\n",
    "                        odkazy2.append(f\"{a.text} ({id})\")\n",
    "                        druhy = \", \".join(odkazy2)\n",
    "                        divs_text.append(prvni + \" \" + druhy)\n",
    "                else:\n",
    "                    divs_text.append(div.text)\n",
    "    \n",
    "    for k in kredity:\n",
    "        for d in divs_text:\n",
    "            if k in d:\n",
    "                d = d.replace(k,\"\")\n",
    "                atributy[k.strip()] = d.strip()\n",
    "    \n",
    "    return(atributy)"
   ]
  },
  {
   "cell_type": "markdown",
   "id": "7e29d55e",
   "metadata": {},
   "source": [
    "TODO: DOPLNIT ID"
   ]
  },
  {
   "cell_type": "code",
   "execution_count": 57,
   "id": "e5a8b39a",
   "metadata": {},
   "outputs": [
    {
     "data": {
      "text/plain": [
       "{'Země původu': 'Československo',\n",
       " 'Copyright': '1988',\n",
       " 'Rok výroby': '1987—1988',\n",
       " 'Minutáž': '13 min',\n",
       " 'Režie': 'Tomáš Vorel (106)',\n",
       " 'Kategorie': 'povídka',\n",
       " 'Žánr': 'podobenství, povídka',\n",
       " 'Typologie': 'hraný, distribuční, krátkometrážní',\n",
       " 'Originální název': 'Bersidejsi',\n",
       " 'Český název': 'Bersidejsi',\n",
       " 'Anglický název': 'Take-and-Enjoy',\n",
       " 'povídkový film': 'Pražská 5',\n",
       " 'Povídky': 'Směr Karlštejn, Bersidejsi, Oldův večírek, Barvy, Na brigádě!',\n",
       " 'Pomocná režie': 'Věra Pištěková (126010), Dobroslav Zborník (5333)',\n",
       " 'Skript': 'Dana Šomková (63128)',\n",
       " 'Původní filmový námět': 'Čestmír Suška (10946)',\n",
       " 'Scénář': 'Čestmír Suška (10946)',\n",
       " 'Technický scénář': 'Tomáš Vorel (106), Antonín Weiser (1729), Čestmír Suška (10946)',\n",
       " 'Dramaturg': 'Tomáš Tintěra (7386), Libuše Hofmanová (126146)',\n",
       " 'Kamera': 'Antonín Weiser (1729)',\n",
       " 'Druhá kamera': 'Jan Hanzal (14218), Martin Duba (529)',\n",
       " 'Asistent kamery': 'Jan Carda (7004)',\n",
       " 'Architekt': 'Robert Vaněk (78168)',\n",
       " 'Assistent architekta': 'Jaroslav Řeřicha (12607)',\n",
       " 'Výprava': 'Bohumil Kadlec (59026)',\n",
       " 'Kostýmy': 'Olga Marie Michálková (26767), Jana Ledecká (31456)',\n",
       " 'Masky': 'Stanislav Petřek (4854), Jiří Budín (4404)',\n",
       " 'Střih': 'Jiří Brožek (154)',\n",
       " 'Zvuk': 'Tomáš Potůček (26933)',\n",
       " 'Triky': 'Antonín Weiser (1729)',\n",
       " 'Vedoucí výroby': 'Přemysl Pražský (1473)',\n",
       " 'Zástupce vedoucího výroby': 'Václav Marhoul (3781), Bohdan Kysil (127582)',\n",
       " 'Asistent vedoucího výroby': 'Miloš Matula (2012), Karel Vávra (12648), Dušan Vodák (55804)',\n",
       " 'Odborný poradce': 'Čestmír Suška (10946)',\n",
       " 'Spolupráce': 'Dobroslav Zborník (5333), Petra Zelenková (75731)'}"
      ]
     },
     "execution_count": 57,
     "metadata": {},
     "output_type": "execute_result"
    }
   ],
   "source": [
    "scrape_film(\"https://www.filmovyprehled.cz/cs/film/397584/bersidejsi\")"
   ]
  }
 ],
 "metadata": {
  "kernelspec": {
   "display_name": "Python 3 (ipykernel)",
   "language": "python",
   "name": "python3"
  },
  "language_info": {
   "codemirror_mode": {
    "name": "ipython",
    "version": 3
   },
   "file_extension": ".py",
   "mimetype": "text/x-python",
   "name": "python",
   "nbconvert_exporter": "python",
   "pygments_lexer": "ipython3",
   "version": "3.10.8"
  }
 },
 "nbformat": 4,
 "nbformat_minor": 5
}
