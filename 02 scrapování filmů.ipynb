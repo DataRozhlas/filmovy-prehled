{
 "cells": [
  {
   "cell_type": "code",
   "execution_count": 24,
   "id": "70a23cae",
   "metadata": {},
   "outputs": [],
   "source": [
    "def loadlist(filename):\n",
    "    with open(filename, 'r') as f:\n",
    "        lines = []\n",
    "        for line in f:\n",
    "            lines.append(line[:-1])\n",
    "    return(lines)"
   ]
  },
  {
   "cell_type": "code",
   "execution_count": 25,
   "id": "bb54c9d9",
   "metadata": {},
   "outputs": [],
   "source": [
    "linky = loadlist(\"www.filmovyprehled.cz_all.txt\")"
   ]
  },
  {
   "cell_type": "code",
   "execution_count": 31,
   "id": "b67ae120",
   "metadata": {},
   "outputs": [
    {
     "data": {
      "text/plain": [
       "['https://www.filmovyprehled.cz/en/person/86426/michal-vican',\n",
       " 'https://www.filmovyprehled.cz/cs/person/84040/boris-krajny',\n",
       " 'https://www.filmovyprehled.cz/cs/person/27613/jiri-hejl',\n",
       " 'https://www.filmovyprehled.cz/cs/kalendar/detail/vsetinsky-filmovy-maraton',\n",
       " 'https://www.filmovyprehled.cz/cs/film/197143/krehka-identita',\n",
       " 'https://www.filmovyprehled.cz/cs/person/92640/mirage-production-service',\n",
       " 'https://www.filmovyprehled.cz/en/person/5210/tamir-ment',\n",
       " 'https://www.filmovyprehled.cz/en/person/24023/sophie-animation-co-ltd',\n",
       " 'https://www.filmovyprehled.cz/cs/person/30140/alos-neuman',\n",
       " 'https://www.filmovyprehled.cz/cs/person/76111/lukas-ujcik']"
      ]
     },
     "execution_count": 31,
     "metadata": {},
     "output_type": "execute_result"
    }
   ],
   "source": [
    "linky[0:10]"
   ]
  },
  {
   "cell_type": "code",
   "execution_count": 28,
   "id": "cb93be5e",
   "metadata": {},
   "outputs": [],
   "source": [
    "linky_filmy = [x for x in linky if \"/cs/film/\" in x]"
   ]
  },
  {
   "cell_type": "code",
   "execution_count": 30,
   "id": "8512b5f3",
   "metadata": {
    "scrolled": true
   },
   "outputs": [
    {
     "data": {
      "text/plain": [
       "['https://www.filmovyprehled.cz/cs/film/197143/krehka-identita',\n",
       " 'https://www.filmovyprehled.cz/cs/film/402101/famu-v-kine-01',\n",
       " 'https://www.filmovyprehled.cz/cs/film/102314/zimni-vila',\n",
       " 'https://www.filmovyprehled.cz/cs/film/401931/barbora-polakova-krosna',\n",
       " 'https://www.filmovyprehled.cz/cs/film/395473/jeji-pastorkyna',\n",
       " 'https://www.filmovyprehled.cz/cs/film/397657/zacatek-dlouheho-podzimu',\n",
       " 'https://www.filmovyprehled.cz/cs/film/397398/vrak',\n",
       " 'https://www.filmovyprehled.cz/cs/film/395884/hvezda-z-posledni-stace',\n",
       " 'https://www.filmovyprehled.cz/cs/film/397649/uzavreny-okruh',\n",
       " 'https://www.filmovyprehled.cz/cs/film/396286/stenata']"
      ]
     },
     "execution_count": 30,
     "metadata": {},
     "output_type": "execute_result"
    }
   ],
   "source": [
    "linky_filmy[0:10]"
   ]
  },
  {
   "cell_type": "markdown",
   "id": "d29cb14f",
   "metadata": {},
   "source": [
    "## Začínáme scrapovat"
   ]
  },
  {
   "cell_type": "code",
   "execution_count": 32,
   "id": "c4e29542",
   "metadata": {},
   "outputs": [],
   "source": [
    "import requests\n",
    "from bs4 import BeautifulSoup"
   ]
  },
  {
   "cell_type": "markdown",
   "id": "78b87201",
   "metadata": {},
   "source": [
    "### Nejdřív zjistíme, co všechno budeme scrapovat"
   ]
  },
  {
   "cell_type": "code",
   "execution_count": 114,
   "id": "db449350",
   "metadata": {},
   "outputs": [
    {
     "data": {
      "text/plain": [
       "['https://www.filmovyprehled.cz/cs/film/396753/marketa-lazarova',\n",
       " 'https://www.filmovyprehled.cz/cs/film/9013/kolja',\n",
       " 'https://www.filmovyprehled.cz/cs/film/396780/spalovac-mrtvol',\n",
       " 'https://www.filmovyprehled.cz/cs/film/397282/postriziny',\n",
       " 'https://www.filmovyprehled.cz/cs/film/395109/dostavenicko-ve-mlynici',\n",
       " 'https://www.filmovyprehled.cz/cs/film/37635/pelisky']"
      ]
     },
     "execution_count": 114,
     "metadata": {},
     "output_type": "execute_result"
    }
   ],
   "source": [
    "filmy_benchmark = [\"kolja\",\"pelisky\",\"postriziny\",\"lazarova\",\"spalovac\",\"dostavenicko-ve-mlynici\"]\n",
    "linky_benchmark = []\n",
    "for l in linky_filmy:\n",
    "    for f in filmy_benchmark:\n",
    "        if f in l:\n",
    "            linky_benchmark.append(l)\n",
    "linky_benchmark"
   ]
  },
  {
   "cell_type": "code",
   "execution_count": 103,
   "id": "e2a77ad3",
   "metadata": {},
   "outputs": [],
   "source": [
    "def jake_jsou_detaily(url):\n",
    "    page = requests.get(url)\n",
    "    soup = BeautifulSoup(page.content, 'html.parser')\n",
    "    item_details = soup.find_all(class_='item-details')\n",
    "    h3_texts = []\n",
    "    for item_detail in item_details:\n",
    "        h3_tags = item_detail.find_all('h3')\n",
    "        for h3_tag in h3_tags:\n",
    "            h3_texts.append(h3_tag.get_text())\n",
    "    return(h3_texts)"
   ]
  },
  {
   "cell_type": "code",
   "execution_count": 117,
   "id": "5548033e",
   "metadata": {},
   "outputs": [
    {
     "data": {
      "text/plain": [
       "['Země původu',\n",
       " 'Copyright',\n",
       " 'Rok výroby',\n",
       " 'Premiéra',\n",
       " 'Minutáž',\n",
       " 'Režie',\n",
       " 'Kategorie',\n",
       " 'Žánr',\n",
       " 'Typologie',\n",
       " 'Originální název',\n",
       " 'Český název',\n",
       " 'Anglický název',\n",
       " 'Souběžný název',\n",
       " 'Souběžný anglický název']"
      ]
     },
     "execution_count": 117,
     "metadata": {},
     "output_type": "execute_result"
    }
   ],
   "source": [
    "detaily = []\n",
    "for l in linky_benchmark:\n",
    "    nove_detaily = jake_jsou_detaily(l)\n",
    "    for n in nove_detaily:\n",
    "        if n not in detaily:\n",
    "            detaily.append(n)\n",
    "detaily"
   ]
  },
  {
   "cell_type": "markdown",
   "id": "e25fdfb2",
   "metadata": {},
   "source": [
    "## Scrapování filmů"
   ]
  },
  {
   "cell_type": "code",
   "execution_count": 118,
   "id": "0438375b",
   "metadata": {},
   "outputs": [],
   "source": [
    "def scrape_film(url):\n",
    "\n",
    "    page = requests.get(url)\n",
    "    soup = BeautifulSoup(page.content, 'html.parser')\n",
    "\n",
    "    atributy = {}\n",
    "    \n",
    "    ## Detaily – země původu, copyright…\n",
    "    \n",
    "    details_div = soup.find('div', {'class': 'item-details'})\n",
    "    details = []\n",
    "    for div in details_div.find_all('div'):\n",
    "        details.append(div.text)\n",
    "    for x in detaily:\n",
    "        for y in details:\n",
    "            if x in y:\n",
    "                y = y.replace(x,\"\")\n",
    "                atributy[x] = y\n",
    "                \n",
    "    return(atributy)"
   ]
  },
  {
   "cell_type": "code",
   "execution_count": 121,
   "id": "bc7de6c0",
   "metadata": {},
   "outputs": [
    {
     "data": {
      "text/plain": [
       "{'Země původu': 'Československo',\n",
       " 'Copyright': '1967',\n",
       " 'Rok výroby': '1965—1967',\n",
       " 'Premiéra': '24. 11. 1967',\n",
       " 'Minutáž': '160 min',\n",
       " 'Režie': 'František Vláčil'}"
      ]
     },
     "execution_count": 121,
     "metadata": {},
     "output_type": "execute_result"
    }
   ],
   "source": [
    "scrape_film(\"https://www.filmovyprehled.cz/cs/film/396753/marketa-lazarova\")"
   ]
  }
 ],
 "metadata": {
  "kernelspec": {
   "display_name": "Python 3 (ipykernel)",
   "language": "python",
   "name": "python3"
  },
  "language_info": {
   "codemirror_mode": {
    "name": "ipython",
    "version": 3
   },
   "file_extension": ".py",
   "mimetype": "text/x-python",
   "name": "python",
   "nbconvert_exporter": "python",
   "pygments_lexer": "ipython3",
   "version": "3.10.8"
  }
 },
 "nbformat": 4,
 "nbformat_minor": 5
}
