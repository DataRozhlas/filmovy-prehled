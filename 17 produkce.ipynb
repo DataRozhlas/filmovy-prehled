{
 "cells": [
  {
   "cell_type": "code",
   "execution_count": 1,
   "id": "76129f24",
   "metadata": {},
   "outputs": [],
   "source": [
    "import pandas as pd"
   ]
  },
  {
   "cell_type": "code",
   "execution_count": 2,
   "id": "032e7eb9",
   "metadata": {},
   "outputs": [],
   "source": [
    "df = pd.read_json(\"filmy.json\")"
   ]
  },
  {
   "cell_type": "code",
   "execution_count": 3,
   "id": "d23e88f4",
   "metadata": {},
   "outputs": [],
   "source": [
    "pd.set_option('display.max_columns', None)"
   ]
  },
  {
   "cell_type": "code",
   "execution_count": 4,
   "id": "e0c5f30a",
   "metadata": {},
   "outputs": [
    {
     "data": {
      "text/plain": [
       "Produkce\n",
       "Zuzana Vrbová (7187)         15\n",
       "Albert Malinovský (84874)    11\n",
       "Lucie Zvěřinová (24395)      11\n",
       "Dagmar Šperlová (75522)       7\n",
       "Petr Morávek (33355)          7\n",
       "Jaroslav Možíš (129809)       6\n",
       "Jaroslav Novotný (76148)      6\n",
       "Michal Podhradský (9264)      6\n",
       "Zdeněk Hala (29088)           6\n",
       "Alena Prokopová (30863)       5\n",
       "Eva Pavlíčková (33413)        5\n",
       "Jaroslav Kučera (1647)        5\n",
       "Luděk Valchář (21986)         5\n",
       "Roman Blaas (18440)           5\n",
       "Vratislav Šlajer (481)        5\n",
       "Anna Matisová (RTVS)          4\n",
       "Barbora Dlabajová (84697)     4\n",
       "Dagmar Juráková (1250)        4\n",
       "David Prudký (1187)           4\n",
       "Erna Kmínková (130400)        4\n",
       "Name: Film, dtype: int64"
      ]
     },
     "execution_count": 4,
     "metadata": {},
     "output_type": "execute_result"
    }
   ],
   "source": [
    "df.explode(\"Produkce\").groupby(\"Produkce\")[\"Film\"].nunique().nlargest(20)"
   ]
  },
  {
   "cell_type": "code",
   "execution_count": 5,
   "id": "410a0400",
   "metadata": {},
   "outputs": [
    {
     "data": {
      "text/plain": [
       "Výrobce\n",
       "Filmové studio Barrandov                                        1002\n",
       "Česká televize                                                   324\n",
       "Studio FAMU                                                      322\n",
       "Česká televize (koprodukce)                                      270\n",
       "Krátký film Praha                                                201\n",
       "Filmové centrum (Česká televize)                                 119\n",
       "Československý státní film                                        97\n",
       "Filmové studio Gottwaldov                                         94\n",
       "AB                                                                77\n",
       "Rozhlas a televízia Slovenska (koprodukce)                        55\n",
       "Studio uměleckého filmu                                           55\n",
       "Lucernafilm                                                       53\n",
       "Elekta                                                            50\n",
       "Nationalfilm                                                      43\n",
       "Československá filmová společnost                                 43\n",
       "Filmová a televizní fakulta Akademie múzických umění v Praze      42\n",
       "Jan Kříženecký                                                    41\n",
       "i/o post (koprodukce)                                             35\n",
       "IRE-Film                                                          32\n",
       "Meissner                                                          30\n",
       "Name: Film, dtype: int64"
      ]
     },
     "execution_count": 5,
     "metadata": {},
     "output_type": "execute_result"
    }
   ],
   "source": [
    "df.explode(\"Výrobce\").groupby(\"Výrobce\")[\"Film\"].nunique().nlargest(20)"
   ]
  },
  {
   "cell_type": "code",
   "execution_count": 6,
   "id": "4a85a110",
   "metadata": {},
   "outputs": [
    {
     "data": {
      "text/plain": [
       "Výrobce\n",
       "Česká televize                                                  284\n",
       "Česká televize (koprodukce)                                     253\n",
       "Filmové centrum (Česká televize)                                117\n",
       "Rozhlas a televízia Slovenska (koprodukce)                       55\n",
       "i/o post (koprodukce)                                            35\n",
       "Filmové studio Barrandov                                         31\n",
       "NEGATIV s. r. o.                                                 27\n",
       "IN Film Praha s. r. o.                                           25\n",
       "Barrandov Studio (koprodukce)                                    22\n",
       "Negativ                                                          20\n",
       "Barrandov Studio a. s. (spolupráce)                              19\n",
       "innogy (koprodukce)                                              18\n",
       "Magiclab (koprodukce)                                            17\n",
       "endorfilm                                                        17\n",
       "Filmová a televizní fakulta Akademie múzických umění v Praze     16\n",
       "RWE (koprodukce)                                                 16\n",
       "TS Čestmíra Kopeckého (Česká televize)                           15\n",
       "Universal Production Partners a. s. (koprodukce)                 15\n",
       "Bio Illusion                                                     14\n",
       "Evolution Films                                                  14\n",
       "Name: Film, dtype: int64"
      ]
     },
     "execution_count": 6,
     "metadata": {},
     "output_type": "execute_result"
    }
   ],
   "source": [
    "df[(df[\"Copyright\"] > 1989) & (df[\"Délka\"] == \"dlouhometrážní\")].explode(\"Výrobce\").groupby(\"Výrobce\")[\"Film\"].nunique().nlargest(20)"
   ]
  },
  {
   "cell_type": "code",
   "execution_count": 7,
   "id": "2b4984bb",
   "metadata": {},
   "outputs": [
    {
     "data": {
      "text/plain": [
       "Partner\n",
       "Prima (hlavní partner)                                    8\n",
       "Prima TV (hlavní partner)                                 6\n",
       "TV Nova (hlavní partner)                                  6\n",
       "TV NOVA (hlavní partner)                                  5\n",
       "TV Prima (hlavní partner)                                 5\n",
       "hlavní město Praha                                        5\n",
       "PFX                                                       4\n",
       "FTV Prima (hlavní partner)                                3\n",
       "Prima TV                                                  3\n",
       "UPP                                                       3\n",
       "AB BARRANDOV a. s.                                        2\n",
       "Jiří Jurtin (investor)                                    2\n",
       "MICHAEL SAMUELSON LIGHTING PRAGUE s. r. o.                2\n",
       "Michael Samuelson Lighting Prague                         2\n",
       "Michal Šabršula (investor)                                2\n",
       "Ministerstvo obrany ČR                                    2\n",
       "NOGUP agency (investor)                                   2\n",
       "Studio Pokrok                                             2\n",
       "TTP invest – uzavřený investiční fond a. s. (investor)    2\n",
       "TV Prima (generální partner)                              2\n",
       "Name: Film, dtype: int64"
      ]
     },
     "execution_count": 7,
     "metadata": {},
     "output_type": "execute_result"
    }
   ],
   "source": [
    "df[(df[\"Copyright\"] > 1989) & (df[\"Délka\"] == \"dlouhometrážní\")].explode(\"Partner\").groupby(\"Partner\")[\"Film\"].nunique().nlargest(20)"
   ]
  },
  {
   "cell_type": "code",
   "execution_count": 9,
   "id": "c4240149",
   "metadata": {},
   "outputs": [
    {
     "data": {
      "text/plain": [
       "Distribuce\n",
       "Bontonfilm                                   154\n",
       "Bioscop                                       67\n",
       "Falcon a. s.                                  56\n",
       "Falcon                                        29\n",
       "Bontonfilm a. s.                              28\n",
       "Pilot Film                                    23\n",
       "Artcam                                        21\n",
       "A-Company Czech                               20\n",
       "Cinemart a. s.                                16\n",
       "Space Films s. r. o.                          16\n",
       "Bohemia Motion Pictures                       13\n",
       "CinemArt                                      13\n",
       "Bontonfilm – Alfa                             12\n",
       "Bontonfilm – Beta                             12\n",
       "SPI International Czech republic s. r. o.     11\n",
       "Name: Film, dtype: int64"
      ]
     },
     "execution_count": 9,
     "metadata": {},
     "output_type": "execute_result"
    }
   ],
   "source": [
    "df[(df[\"Copyright\"] > 1989) & (df[\"Délka\"] == \"dlouhometrážní\")].explode(\"Distribuce\").groupby(\"Distribuce\")[\"Film\"].nunique().nlargest(15)"
   ]
  },
  {
   "cell_type": "code",
   "execution_count": 10,
   "id": "c167b53f",
   "metadata": {},
   "outputs": [
    {
     "data": {
      "text/plain": [
       "Zvláštní efekty\n",
       "Vít Petrášek (11625)                                 43\n",
       "Martin Oberländer (14111)                            23\n",
       "Milan Blažek (22352)                                 22\n",
       "Pavel Policar (41867)                                22\n",
       "FLASH BARRANDOV Speciální efekty s. r. o. (93097)    20\n",
       "Martin Kulhánek (6120)                               19\n",
       "Trick SFX (123688)                                   12\n",
       "Woodoo effects speciální efekty s. r. o. (100725)    12\n",
       "Petr Lukavec (29368)                                 11\n",
       "ARTsfx (122589)                                      10\n",
       "Flash Barrandov (93097)                              10\n",
       "Swing Gang (94656)                                   10\n",
       "Jaroslav Kolman (17919)                               9\n",
       "Jozef Ťaptík (46754)                                  8\n",
       "Martin Prýca (84926)                                  8\n",
       "Name: Film, dtype: int64"
      ]
     },
     "execution_count": 10,
     "metadata": {},
     "output_type": "execute_result"
    }
   ],
   "source": [
    "df[(df[\"Copyright\"] > 1989) & (df[\"Délka\"] == \"dlouhometrážní\")].explode(\"Zvláštní efekty\").groupby(\"Zvláštní efekty\")[\"Film\"].nunique().nlargest(15)"
   ]
  },
  {
   "cell_type": "code",
   "execution_count": 11,
   "id": "0bd7d9ce",
   "metadata": {},
   "outputs": [
    {
     "data": {
      "text/plain": [
       "S podporou\n",
       "Státní fond České republiky pro podporu a rozvoj české kinematografie      266\n",
       "Státní fond kinematografie ČR                                              109\n",
       "Audiovizuálny fond SR                                                      106\n",
       "Státní fond kinematografie (Program filmových pobídek)                     103\n",
       "Státní fond kinematografie                                                  89\n",
       "Eurimages                                                                   73\n",
       "Státní fond kinematografie České republiky                                  68\n",
       "Státní fond kinematografie ČR (Program filmových pobídek)                   47\n",
       "Ministerstvo kultúry Slovenskej republiky                                   36\n",
       "Audiovizuálny fond Slovenské republiky                                      23\n",
       "Program podpory filmového průmyslu Ministerstva kultury České republiky     22\n",
       "MK SR                                                                       21\n",
       "Kreativní Evropa – Media                                                    20\n",
       "Státní fond ČR pro podporu a rozvoj české kinematografie                    18\n",
       "Magistrát hlavního města Prahy                                              16\n",
       "Name: Film, dtype: int64"
      ]
     },
     "execution_count": 11,
     "metadata": {},
     "output_type": "execute_result"
    }
   ],
   "source": [
    "df[(df[\"Copyright\"] > 1989) & (df[\"Délka\"] == \"dlouhometrážní\")].explode(\"S podporou\").groupby(\"S podporou\")[\"Film\"].nunique().nlargest(15)"
   ]
  },
  {
   "cell_type": "code",
   "execution_count": 19,
   "id": "fd56231c",
   "metadata": {},
   "outputs": [
    {
     "data": {
      "text/plain": [
       "300"
      ]
     },
     "execution_count": 19,
     "metadata": {},
     "output_type": "execute_result"
    }
   ],
   "source": [
    "len(df[(df[\"Copyright\"] > 1989) & (df[\"Délka\"] == \"dlouhometrážní\") & (df[\"S podporou\"].str.lower().str.contains(\"státní fond\"))])"
   ]
  },
  {
   "cell_type": "code",
   "execution_count": 16,
   "id": "1f6a1eb9",
   "metadata": {},
   "outputs": [
    {
     "data": {
      "text/plain": [
       "1140"
      ]
     },
     "execution_count": 16,
     "metadata": {},
     "output_type": "execute_result"
    }
   ],
   "source": [
    "len(df[(df[\"Copyright\"] > 1989) & (df[\"Délka\"] == \"dlouhometrážní\")])"
   ]
  },
  {
   "cell_type": "code",
   "execution_count": 15,
   "id": "a3360a38",
   "metadata": {},
   "outputs": [
    {
     "data": {
      "text/plain": [
       "Ateliéry\n",
       "Barrandov                                 20\n",
       "Barrandov Studio                          18\n",
       "Hostivař                                  12\n",
       "Česká televize Kavčí hory                 10\n",
       "Athanor Knovíz                             7\n",
       "Bratislava                                 4\n",
       "M3D Studio Dolní Jirčany                   4\n",
       "Patmat film Modřany                        4\n",
       "RTVS Mlynska dolina                        4\n",
       "Alkay Animation Prague Chodov              2\n",
       "Ateliéry Bonton Zlín-Kudlov                2\n",
       "FZG Filmové a televizní studio Klecany     2\n",
       "Prague Studios Letňany                     2\n",
       "Prima TV Malešice                          2\n",
       "Studio FAMU                                2\n",
       "Name: Film, dtype: int64"
      ]
     },
     "execution_count": 15,
     "metadata": {},
     "output_type": "execute_result"
    }
   ],
   "source": [
    "df[(df[\"Copyright\"] > 1989) & (df[\"Délka\"] == \"dlouhometrážní\")].explode(\"Ateliéry\").groupby(\"Ateliéry\")[\"Film\"].nunique().nlargest(15)"
   ]
  }
 ],
 "metadata": {
  "kernelspec": {
   "display_name": "Python 3 (ipykernel)",
   "language": "python",
   "name": "python3"
  },
  "language_info": {
   "codemirror_mode": {
    "name": "ipython",
    "version": 3
   },
   "file_extension": ".py",
   "mimetype": "text/x-python",
   "name": "python",
   "nbconvert_exporter": "python",
   "pygments_lexer": "ipython3",
   "version": "3.10.8"
  }
 },
 "nbformat": 4,
 "nbformat_minor": 5
}
