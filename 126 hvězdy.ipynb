{
 "cells": [
  {
   "cell_type": "code",
   "execution_count": 1,
   "id": "dc48ee85",
   "metadata": {},
   "outputs": [],
   "source": [
    "import os"
   ]
  },
  {
   "cell_type": "code",
   "execution_count": 2,
   "id": "b28f7890",
   "metadata": {},
   "outputs": [],
   "source": [
    "import pandas as pd"
   ]
  },
  {
   "cell_type": "code",
   "execution_count": 3,
   "id": "7de58785",
   "metadata": {},
   "outputs": [],
   "source": [
    "df = pd.read_json(os.path.join(\"data\", \"filmy.json\"))"
   ]
  },
  {
   "cell_type": "code",
   "execution_count": 4,
   "id": "4933b899",
   "metadata": {},
   "outputs": [],
   "source": [
    "pd.set_option('display.max_columns', None)"
   ]
  },
  {
   "cell_type": "code",
   "execution_count": 5,
   "id": "8198ace9",
   "metadata": {},
   "outputs": [],
   "source": [
    "profese = [\n",
    "    \"Animace\",\n",
    "    \"Architekt\",\n",
    "    \"Asistent kamery\",\n",
    "    \"Asistent režie\",\n",
    "    \"Autor komentáře\",\n",
    "    \"Dramaturg\",\n",
    "    \"Druhá kamera\",\n",
    "    \"Hrají\",\n",
    "    \"Hudba\",\n",
    "    \"Choreografie\",\n",
    "    \"Kamera\",\n",
    "    \"Kaskadéři\",\n",
    "    \"Koordinátor kaskadérů\",\n",
    "    \"Koproducent\",\n",
    "    \"Masky\",\n",
    "    \"Návrhy kostýmů\",\n",
    "    \"Návrhy titulků\",\n",
    "    \"Odborný poradce\",\n",
    "    \"Pedagogické vedení\",\n",
    "    \"Pomocná režie\",\n",
    "    \"Postprodukce\",\n",
    "    \"Producent\",\n",
    "    \"Produkce\",\n",
    "    \"Předloha\",\n",
    "    \"Původní filmový námět\",\n",
    "    \"Režie\",\n",
    "    \"Scénář\",\n",
    "    \"Spolupráce\",\n",
    "    \"Střih\",\n",
    "    \"Technický scénář\",\n",
    "    \"Vedoucí produkce\",\n",
    "    \"Vedoucí výroby\",\n",
    "    \"Výprava\",\n",
    "    \"Výkonná produkce\",\n",
    "    \"Výtvarná spolupráce\",\n",
    "    \"Výtvarník\",\n",
    "    \"Zástupce vedoucího produkce\",\n",
    "    \"Zástupce vedoucího výroby\",\n",
    "    \"Zpívá\"]"
   ]
  },
  {
   "cell_type": "code",
   "execution_count": 6,
   "id": "c264d6f1",
   "metadata": {},
   "outputs": [],
   "source": [
    "def spoj(x):\n",
    "    seznam = []\n",
    "    if isinstance(x, str):\n",
    "        if x.strip() not in seznam:\n",
    "            seznam.append(x.strip())\n",
    "    if isinstance(x, list):\n",
    "        for y in x:\n",
    "            if isinstance(y, str):\n",
    "                if y.strip() not in seznam:\n",
    "                    seznam.append(y.strip())\n",
    "    return(seznam)"
   ]
  },
  {
   "cell_type": "code",
   "execution_count": 7,
   "id": "61a6e1e5",
   "metadata": {},
   "outputs": [],
   "source": [
    "def spoj2(x):\n",
    "    seznam = []\n",
    "    for y in x:\n",
    "        for z in y:\n",
    "            if z not in seznam:\n",
    "                seznam.append(z)\n",
    "    return(seznam)"
   ]
  },
  {
   "cell_type": "code",
   "execution_count": 8,
   "id": "65be92d2",
   "metadata": {},
   "outputs": [],
   "source": [
    "df[\"Lidé\"] = df[profese].apply(lambda x: [spoj(x) for x in x.values], axis=1).apply(lambda x: spoj2(x))"
   ]
  },
  {
   "cell_type": "code",
   "execution_count": 11,
   "id": "526c4a21",
   "metadata": {},
   "outputs": [],
   "source": [
    "lide = df[[\"Copyright\",\"Film\",\"Lidé\",\"Režie\"]].explode(\"Lidé\").sort_values(by=\"Copyright\")"
   ]
  },
  {
   "cell_type": "code",
   "execution_count": 12,
   "id": "44bbc210",
   "metadata": {},
   "outputs": [],
   "source": [
    "tituly = pd.read_json(os.path.join(\"data\", \"tituly.json\"))"
   ]
  },
  {
   "cell_type": "code",
   "execution_count": 14,
   "id": "e70cd029",
   "metadata": {},
   "outputs": [],
   "source": [
    "lide = lide.merge(tituly, left_on=\"Lidé\", right_on=\"Jméno\")"
   ]
  },
  {
   "cell_type": "code",
   "execution_count": 20,
   "id": "07c7263d",
   "metadata": {},
   "outputs": [
    {
     "data": {
      "text/plain": [
       "Film\n",
       "Velká filmová loupež (397520)     8\n",
       "Putování Jana Amose (397429)      6\n",
       "Don Gio (397715)                  4\n",
       "Komediant (397445)                4\n",
       "Mladé víno (397526)               4\n",
       "Pan Vok odchází (397227)          4\n",
       "Svatá hříšnice (396880)           4\n",
       "Evropa tančila valčík (397641)    3\n",
       "Maratón (396790)                  3\n",
       "Psohlavci (396208)                3\n",
       "Name: Jméno, dtype: int64"
      ]
     },
     "execution_count": 20,
     "metadata": {},
     "output_type": "execute_result"
    }
   ],
   "source": [
    "lide[lide[\"Národní umělec\"] < lide[\"Copyright\"]].groupby(\"Film\")[\"Jméno\"].nunique().nlargest(10)"
   ]
  },
  {
   "cell_type": "code",
   "execution_count": 22,
   "id": "062db24b",
   "metadata": {},
   "outputs": [
    {
     "data": {
      "text/plain": [
       "Film\n",
       "Proti všem (396252)               9\n",
       "Velká filmová loupež (397520)     9\n",
       "Hrátky s čertem (396261)          7\n",
       "Jan Žižka (396216)                7\n",
       "Mezi námi zloději (396538)        7\n",
       "První parta (396362)              7\n",
       "Srpnová neděle (396400)           7\n",
       "Čintamani & podvodník (396606)    7\n",
       "Bez svatozáře (396552)            6\n",
       "Hry a sny (396335)                6\n",
       "Name: Jméno, dtype: int64"
      ]
     },
     "execution_count": 22,
     "metadata": {},
     "output_type": "execute_result"
    }
   ],
   "source": [
    "lide[(lide[\"Národní umělec\"] < lide[\"Copyright\"]) | (lide[\"Zasloužilý umělec\"] < lide[\"Copyright\"])].groupby(\"Film\")[\"Jméno\"].nunique().nlargest(10)"
   ]
  },
  {
   "cell_type": "code",
   "execution_count": 24,
   "id": "7b3df09d",
   "metadata": {},
   "outputs": [
    {
     "data": {
      "text/plain": [
       "<AxesSubplot:xlabel='Copyright'>"
      ]
     },
     "execution_count": 24,
     "metadata": {},
     "output_type": "execute_result"
    },
    {
     "data": {
      "image/png": "[encoded data removed]",
      "text/plain": [
       "<Figure size 1440x360 with 1 Axes>"
      ]
     },
     "metadata": {
      "needs_background": "light"
     },
     "output_type": "display_data"
    }
   ],
   "source": [
    "lide[lide[\"Národní umělec\"] > 1900].groupby(\"Copyright\")[\"Jméno\"].nunique().plot.bar(figsize=(20,5))"
   ]
  },
  {
   "cell_type": "code",
   "execution_count": 25,
   "id": "e54b8a3b",
   "metadata": {
    "scrolled": true
   },
   "outputs": [
    {
     "data": {
      "text/plain": [
       "<AxesSubplot:xlabel='Copyright'>"
      ]
     },
     "execution_count": 25,
     "metadata": {},
     "output_type": "execute_result"
    },
    {
     "data": {
      "image/png": "[encoded data removed]",
      "text/plain": [
       "<Figure size 1440x360 with 1 Axes>"
      ]
     },
     "metadata": {
      "needs_background": "light"
     },
     "output_type": "display_data"
    }
   ],
   "source": [
    "lide[lide[\"Zasloužilý umělec\"] > 1900].groupby(\"Copyright\")[\"Jméno\"].nunique().plot.bar(figsize=(20,5))"
   ]
  },
  {
   "cell_type": "code",
   "execution_count": 26,
   "id": "79a5cd55",
   "metadata": {},
   "outputs": [
    {
     "data": {
      "text/plain": [
       "<AxesSubplot:xlabel='Copyright'>"
      ]
     },
     "execution_count": 26,
     "metadata": {},
     "output_type": "execute_result"
    },
    {
     "data": {
      "image/png": "[encoded data removed]",
      "text/plain": [
       "<Figure size 1440x360 with 1 Axes>"
      ]
     },
     "metadata": {
      "needs_background": "light"
     },
     "output_type": "display_data"
    }
   ],
   "source": [
    "lide[lide[\"První lev\"] > 1900].groupby(\"Copyright\")[\"Jméno\"].nunique().plot.bar(figsize=(20,5))"
   ]
  },
  {
   "cell_type": "code",
   "execution_count": 27,
   "id": "def950d9",
   "metadata": {},
   "outputs": [
    {
     "data": {
      "text/plain": [
       "Film\n",
       "Po strništi bos (401274)                 13\n",
       "Anděl Páně 2 (401251)                    12\n",
       "Polski film (183460)                     11\n",
       "Tři bratři (400626)                      11\n",
       "Tátova volha (401758)                    10\n",
       "Zahradnictví: Dezertér (401670)          10\n",
       "Zahradnictví: Nápadník (401672)          10\n",
       "Zahradnictví: Rodinný přítel (401671)    10\n",
       "Čertí brko (401838)                      10\n",
       "Andělé všedního dne (400528)              9\n",
       "Name: Jméno, dtype: int64"
      ]
     },
     "execution_count": 27,
     "metadata": {},
     "output_type": "execute_result"
    }
   ],
   "source": [
    "lide[(lide[\"První lev\"] < lide[\"Copyright\"])].groupby(\"Film\")[\"Jméno\"].nunique().nlargest(10)"
   ]
  },
  {
   "cell_type": "code",
   "execution_count": 28,
   "id": "3e4f666d",
   "metadata": {},
   "outputs": [
    {
     "data": {
      "text/plain": [
       "Film\n",
       "Po strništi bos (401274)                 13\n",
       "Anděl Páně 2 (401251)                    12\n",
       "Polski film (183460)                     11\n",
       "Tři bratři (400626)                      11\n",
       "Odcházení (56870)                        10\n",
       "Tátova volha (401758)                    10\n",
       "Všichni moji blízcí (53125)              10\n",
       "Zahradnictví: Dezertér (401670)          10\n",
       "Zahradnictví: Nápadník (401672)          10\n",
       "Zahradnictví: Rodinný přítel (401671)    10\n",
       "Name: Jméno, dtype: int64"
      ]
     },
     "execution_count": 28,
     "metadata": {},
     "output_type": "execute_result"
    }
   ],
   "source": [
    "lide[(lide[\"Národní umělec\"] < lide[\"Copyright\"]) | (lide[\"Zasloužilý umělec\"] < lide[\"Copyright\"]) | (lide[\"První lev\"] < lide[\"Copyright\"])].groupby(\"Film\")[\"Jméno\"].nunique().nlargest(10)"
   ]
  },
  {
   "cell_type": "code",
   "execution_count": 30,
   "id": "995131d0",
   "metadata": {},
   "outputs": [],
   "source": [
    "hraji = df[[\"Copyright\",\"Film\",\"Hrají\"]].explode(\"Hrají\").sort_values(by=\"Copyright\")"
   ]
  },
  {
   "cell_type": "code",
   "execution_count": 31,
   "id": "83a486df",
   "metadata": {},
   "outputs": [],
   "source": [
    "hraji = hraji.merge(tituly, left_on=\"Hrají\", right_on=\"Jméno\")"
   ]
  },
  {
   "cell_type": "code",
   "execution_count": 32,
   "id": "b54809bc",
   "metadata": {},
   "outputs": [
    {
     "data": {
      "text/plain": [
       "Film\n",
       "Anděl Páně 2 (401251)             9\n",
       "Odcházení (56870)                 8\n",
       "Velká filmová loupež (397520)     8\n",
       "Anděl Páně (37354)                7\n",
       "Andělé všedního dne (400528)      7\n",
       "Jan Žižka (396216)                7\n",
       "Mezi námi zloději (396538)        7\n",
       "Proti všem (396252)               7\n",
       "Všichni moji blízcí (53125)       7\n",
       "Čintamani & podvodník (396606)    7\n",
       "Name: Jméno, dtype: int64"
      ]
     },
     "execution_count": 32,
     "metadata": {},
     "output_type": "execute_result"
    }
   ],
   "source": [
    "hraji[(hraji[\"Národní umělec\"] < hraji[\"Copyright\"]) | (hraji[\"Zasloužilý umělec\"] < hraji[\"Copyright\"]) | (hraji[\"První lev\"] < hraji[\"Copyright\"])].groupby(\"Film\")[\"Jméno\"].nunique().nlargest(10)"
   ]
  },
  {
   "cell_type": "code",
   "execution_count": 34,
   "id": "795e12a4",
   "metadata": {},
   "outputs": [
    {
     "data": {
      "text/plain": [
       "Film\n",
       "Jan Žižka (396216)                9\n",
       "Jan Hus (396186)                  8\n",
       "Občan Brych (396331)              8\n",
       "Proti všem (396252)               8\n",
       "Psohlavci (396208)                8\n",
       "Velká filmová loupež (397520)     8\n",
       "Glorie (396332)                   7\n",
       "Mezi námi zloději (396538)        7\n",
       "Z mého života (396210)            7\n",
       "Čintamani & podvodník (396606)    7\n",
       "Name: Jméno, dtype: int64"
      ]
     },
     "execution_count": 34,
     "metadata": {},
     "output_type": "execute_result"
    }
   ],
   "source": [
    "hraji[(hraji[\"Národní umělec\"] <= hraji[\"Copyright\"]) | (hraji[\"Zasloužilý umělec\"] <= hraji[\"Copyright\"])].groupby(\"Film\")[\"Jméno\"].nunique().nlargest(10)"
   ]
  }
 ],
 "metadata": {
  "kernelspec": {
   "display_name": "Python 3 (ipykernel)",
   "language": "python",
   "name": "python3"
  },
  "language_info": {
   "codemirror_mode": {
    "name": "ipython",
    "version": 3
   },
   "file_extension": ".py",
   "mimetype": "text/x-python",
   "name": "python",
   "nbconvert_exporter": "python",
   "pygments_lexer": "ipython3",
   "version": "3.10.8"
  }
 },
 "nbformat": 4,
 "nbformat_minor": 5
}
