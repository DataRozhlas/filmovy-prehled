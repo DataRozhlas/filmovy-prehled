{
 "cells": [
  {
   "cell_type": "code",
   "execution_count": 1,
   "id": "7af28229",
   "metadata": {
    "scrolled": true
   },
   "outputs": [
    {
     "name": "stdout",
     "output_type": "stream",
     "text": [
      "2023/06/06 18:10:06 z 4555 řádků odstraněno 133. Aktuální dataframe má 4422 řádků.\n"
     ]
    }
   ],
   "source": [
    "import os\n",
    "import json\n",
    "import time\n",
    "import pandas as pd\n",
    "from src.gender import gender\n",
    "from src.vycisti import vycisti\n",
    "df = pd.read_json(os.path.join(\"data\", \"filmy.json\"))\n",
    "with open(os.path.join(\"data_fixes\", \"opravy.json\"), encoding=\"utf-8\") as opravy:\n",
    "    opravy = json.loads(opravy.read())\n",
    "with open(os.path.join(\"data_fixes\", \"seznamy.json\"), encoding=\"utf-8\") as seznamy:\n",
    "    seznamy = json.loads(seznamy.read())\n",
    "with open(os.path.join(\"data_fixes\", \"zeny.json\"), encoding=\"utf-8\") as zeny:\n",
    "    zeny = json.loads(zeny.read())\n",
    "with open(os.path.join(\"data_fixes\", \"nelide.json\"), encoding=\"utf-8\") as nelide:\n",
    "    nelide = json.loads(nelide.read())\n",
    "df = vycisti(df, opravy)"
   ]
  },
  {
   "cell_type": "markdown",
   "id": "b23d44e2",
   "metadata": {},
   "source": [
    "## Dlouhý výpočet, kterým se nechceme zdržovat v sešitu věnovaném tvůrcům"
   ]
  },
  {
   "cell_type": "code",
   "execution_count": 2,
   "id": "a3ebf930",
   "metadata": {},
   "outputs": [],
   "source": [
    "profese = seznamy[\"profese\"]\n",
    "persony = pd.read_json(os.path.join(\"data\", \"persony.json\"))\n",
    "jmena_lidi = persony[persony[\"Osoba\"] == \"fyzická\"][\"Jméno\"].to_list()"
   ]
  },
  {
   "cell_type": "code",
   "execution_count": 3,
   "id": "d89da8f5",
   "metadata": {},
   "outputs": [],
   "source": [
    "profese.remove(\"Účinkují\")\n",
    "profese.remove(\"Hudba, text a zpěv písně\")\n",
    "profese.remove(\"Hudba k písni\")"
   ]
  },
  {
   "cell_type": "code",
   "execution_count": 4,
   "id": "c8cb7917",
   "metadata": {},
   "outputs": [],
   "source": [
    "def plose_jednoduse(x):\n",
    "    seznam = []\n",
    "    for y in x:\n",
    "        if y == None:\n",
    "            pass\n",
    "        if isinstance(y, str):\n",
    "            if y not in seznam:\n",
    "                seznam.append(y)\n",
    "        if isinstance(y, list):\n",
    "            for z in y:\n",
    "                if z not in seznam:\n",
    "                    seznam.append(z)\n",
    "    return(seznam)"
   ]
  },
  {
   "cell_type": "code",
   "execution_count": 5,
   "id": "b691cb95",
   "metadata": {},
   "outputs": [],
   "source": [
    "def kolik_skoncilo(konce, jmena_lidi):\n",
    "    st = time.time()\n",
    "    konce[\"Lidé\"] = konce[profese].values.tolist()\n",
    "    konce[\"Lidé\"] = konce[\"Lidé\"].apply(lambda x: plose_jednoduse(x))\n",
    "    konce = konce[[\"Copyright\",\"Lidé\",\"Film\"]].explode(\"Lidé\")\n",
    "    konce = konce[konce[\"Lidé\"].isin(jmena_lidi)]\n",
    "    konce = konce.groupby(\"Copyright\")[\"Lidé\"].apply(lambda x: list(set(x)))\n",
    "    konce = pd.DataFrame(konce).explode(\"Lidé\")\n",
    "    konce = konce.reset_index()  \n",
    "    print(f\"{len(konce)} člověkoletopočtů\")\n",
    "    konce[\"Příští film\"] = konce[[\"Lidé\",\"Copyright\"]].apply(lambda x: konce[(konce[\"Lidé\"] == x[\"Lidé\"]) & (konce[\"Copyright\"] > x[\"Copyright\"])][\"Copyright\"].min(), axis = 1)\n",
    "    konce = konce.rename(columns={\"Lidé\": \"Jméno\"})\n",
    "    konce[\"Pauza\"] = konce[\"Příští film\"] - konce[\"Copyright\"]\n",
    "    print(f\"čas výpočtu: {time.time() - st} s\")\n",
    "    return(konce)"
   ]
  },
  {
   "cell_type": "code",
   "execution_count": 6,
   "id": "1d80dd59",
   "metadata": {},
   "outputs": [
    {
     "name": "stdout",
     "output_type": "stream",
     "text": [
      "95401 člověkoletopočtů\n",
      "čas výpočtu: 1149.013797044754 s\n"
     ]
    }
   ],
   "source": [
    "konce = kolik_skoncilo(df, jmena_lidi)"
   ]
  },
  {
   "cell_type": "code",
   "execution_count": 7,
   "id": "b97efc13",
   "metadata": {},
   "outputs": [],
   "source": [
    "konce.to_json(os.path.join(\"data\", \"pauzy.json\"), orient=\"records\")"
   ]
  },
  {
   "cell_type": "code",
   "execution_count": 8,
   "id": "34517d99",
   "metadata": {},
   "outputs": [
    {
     "data": {
      "text/html": [
       "<div>\n",
       "<style scoped>\n",
       "    .dataframe tbody tr th:only-of-type {\n",
       "        vertical-align: middle;\n",
       "    }\n",
       "\n",
       "    .dataframe tbody tr th {\n",
       "        vertical-align: top;\n",
       "    }\n",
       "\n",
       "    .dataframe thead th {\n",
       "        text-align: right;\n",
       "    }\n",
       "</style>\n",
       "<table border=\"1\" class=\"dataframe\">\n",
       "  <thead>\n",
       "    <tr style=\"text-align: right;\">\n",
       "      <th></th>\n",
       "      <th>Copyright</th>\n",
       "      <th>Jméno</th>\n",
       "      <th>Příští film</th>\n",
       "      <th>Pauza</th>\n",
       "    </tr>\n",
       "  </thead>\n",
       "  <tbody>\n",
       "    <tr>\n",
       "      <th>91349</th>\n",
       "      <td>2019</td>\n",
       "      <td>Pavla Traxlerová (105033)</td>\n",
       "      <td>NaN</td>\n",
       "      <td>NaN</td>\n",
       "    </tr>\n",
       "    <tr>\n",
       "      <th>85547</th>\n",
       "      <td>2015</td>\n",
       "      <td>Petr Vaněk (24908)</td>\n",
       "      <td>2017.0</td>\n",
       "      <td>2.0</td>\n",
       "    </tr>\n",
       "    <tr>\n",
       "      <th>3539</th>\n",
       "      <td>1933</td>\n",
       "      <td>Antonín Soukup (87404)</td>\n",
       "      <td>1934.0</td>\n",
       "      <td>1.0</td>\n",
       "    </tr>\n",
       "    <tr>\n",
       "      <th>93059</th>\n",
       "      <td>2020</td>\n",
       "      <td>Radka Malá (28394)</td>\n",
       "      <td>NaN</td>\n",
       "      <td>NaN</td>\n",
       "    </tr>\n",
       "    <tr>\n",
       "      <th>1445</th>\n",
       "      <td>1926</td>\n",
       "      <td>Rosalie Chudobová (130037)</td>\n",
       "      <td>NaN</td>\n",
       "      <td>NaN</td>\n",
       "    </tr>\n",
       "  </tbody>\n",
       "</table>\n",
       "</div>"
      ],
      "text/plain": [
       "       Copyright                       Jméno  Příští film  Pauza\n",
       "91349       2019   Pavla Traxlerová (105033)          NaN    NaN\n",
       "85547       2015          Petr Vaněk (24908)       2017.0    2.0\n",
       "3539        1933      Antonín Soukup (87404)       1934.0    1.0\n",
       "93059       2020          Radka Malá (28394)          NaN    NaN\n",
       "1445        1926  Rosalie Chudobová (130037)          NaN    NaN"
      ]
     },
     "execution_count": 8,
     "metadata": {},
     "output_type": "execute_result"
    }
   ],
   "source": [
    "konce.sample(5)"
   ]
  },
  {
   "cell_type": "markdown",
   "id": "20ba6024",
   "metadata": {},
   "source": [
    "## Explorace"
   ]
  },
  {
   "cell_type": "code",
   "execution_count": 9,
   "id": "d1880422",
   "metadata": {
    "scrolled": true
   },
   "outputs": [
    {
     "data": {
      "text/plain": [
       "<Axes: xlabel='Copyright'>"
      ]
     },
     "execution_count": 9,
     "metadata": {},
     "output_type": "execute_result"
    },
    {
     "data": {
      "image/png": "[encoded data removed]",
      "text/plain": [
       "<Figure size 1440x360 with 1 Axes>"
      ]
     },
     "metadata": {
      "needs_background": "light"
     },
     "output_type": "display_data"
    }
   ],
   "source": [
    "konce.groupby(\"Copyright\")[\"Pauza\"].mean().plot.bar(figsize=(20,5))"
   ]
  },
  {
   "cell_type": "code",
   "execution_count": 10,
   "id": "01d48866",
   "metadata": {},
   "outputs": [],
   "source": [
    "r3 = konce.groupby(\"Jméno\")[\"Copyright\"].nunique()\n",
    "r3 = r3[r3 >= 5]\n",
    "r3 = r3.index.to_list()"
   ]
  },
  {
   "cell_type": "code",
   "execution_count": 11,
   "id": "8b1c6f54",
   "metadata": {},
   "outputs": [],
   "source": [
    "k3 = konce[konce[\"Jméno\"].isin(r3)]"
   ]
  },
  {
   "cell_type": "code",
   "execution_count": 12,
   "id": "1ede0c1a",
   "metadata": {},
   "outputs": [],
   "source": [
    "k3 = k3[k3[\"Copyright\"].isin(range(1920,2011))]"
   ]
  },
  {
   "cell_type": "code",
   "execution_count": 13,
   "id": "6ec36b46",
   "metadata": {},
   "outputs": [],
   "source": [
    "k3 = k3.merge(persony[[\"Jméno\",\"Rok úmrtí\"]], on=\"Jméno\")"
   ]
  },
  {
   "cell_type": "code",
   "execution_count": 14,
   "id": "cc5176a7",
   "metadata": {},
   "outputs": [],
   "source": [
    "k3[\"Příští film\"] = pd.to_numeric(k3[\"Příští film\"], errors=\"coerce\")"
   ]
  },
  {
   "cell_type": "code",
   "execution_count": 15,
   "id": "cd26f151",
   "metadata": {},
   "outputs": [],
   "source": [
    "k3[\"Rok úmrtí\"] = pd.to_numeric(k3[\"Rok úmrtí\"], errors=\"coerce\")"
   ]
  },
  {
   "cell_type": "code",
   "execution_count": 16,
   "id": "35a922e1",
   "metadata": {},
   "outputs": [],
   "source": [
    "k3.loc[k3[\"Příští film\"] > k3[\"Rok úmrtí\"],\"Příští film\"]=None"
   ]
  },
  {
   "cell_type": "code",
   "execution_count": 17,
   "id": "cbb949cb",
   "metadata": {},
   "outputs": [
    {
     "data": {
      "text/plain": [
       "Copyright\n",
       "1920    113\n",
       "1921    138\n",
       "1922    130\n",
       "1923     81\n",
       "1924     78\n",
       "       ... \n",
       "2006    637\n",
       "2007    545\n",
       "2008    704\n",
       "2009    817\n",
       "2010    673\n",
       "Name: Jméno, Length: 91, dtype: int64"
      ]
     },
     "execution_count": 17,
     "metadata": {},
     "output_type": "execute_result"
    }
   ],
   "source": [
    "k3.groupby(\"Copyright\")[\"Jméno\"].nunique()"
   ]
  },
  {
   "cell_type": "code",
   "execution_count": 18,
   "id": "9c2d4eb0",
   "metadata": {},
   "outputs": [
    {
     "data": {
      "text/html": [
       "<div>\n",
       "<style scoped>\n",
       "    .dataframe tbody tr th:only-of-type {\n",
       "        vertical-align: middle;\n",
       "    }\n",
       "\n",
       "    .dataframe tbody tr th {\n",
       "        vertical-align: top;\n",
       "    }\n",
       "\n",
       "    .dataframe thead th {\n",
       "        text-align: right;\n",
       "    }\n",
       "</style>\n",
       "<table border=\"1\" class=\"dataframe\">\n",
       "  <thead>\n",
       "    <tr style=\"text-align: right;\">\n",
       "      <th></th>\n",
       "      <th>Copyright</th>\n",
       "      <th>Jméno</th>\n",
       "      <th>Příští film</th>\n",
       "      <th>Pauza</th>\n",
       "      <th>Rok úmrtí</th>\n",
       "    </tr>\n",
       "  </thead>\n",
       "  <tbody>\n",
       "    <tr>\n",
       "      <th>12951</th>\n",
       "      <td>1950</td>\n",
       "      <td>Růžena Rousová (40493)</td>\n",
       "      <td>NaN</td>\n",
       "      <td>NaN</td>\n",
       "      <td>19.0</td>\n",
       "    </tr>\n",
       "    <tr>\n",
       "      <th>18218</th>\n",
       "      <td>1990</td>\n",
       "      <td>Václav Halama (21254)</td>\n",
       "      <td>NaN</td>\n",
       "      <td>NaN</td>\n",
       "      <td>1975.0</td>\n",
       "    </tr>\n",
       "    <tr>\n",
       "      <th>17118</th>\n",
       "      <td>1964</td>\n",
       "      <td>Pavel Blumenfeld (7870)</td>\n",
       "      <td>1966.0</td>\n",
       "      <td>2.0</td>\n",
       "      <td>1982.0</td>\n",
       "    </tr>\n",
       "    <tr>\n",
       "      <th>33604</th>\n",
       "      <td>1963</td>\n",
       "      <td>Miloš Macourek (1045)</td>\n",
       "      <td>1965.0</td>\n",
       "      <td>2.0</td>\n",
       "      <td>2002.0</td>\n",
       "    </tr>\n",
       "    <tr>\n",
       "      <th>21800</th>\n",
       "      <td>1964</td>\n",
       "      <td>Josef Ouzký (126337)</td>\n",
       "      <td>1966.0</td>\n",
       "      <td>2.0</td>\n",
       "      <td>1977.0</td>\n",
       "    </tr>\n",
       "  </tbody>\n",
       "</table>\n",
       "</div>"
      ],
      "text/plain": [
       "       Copyright                    Jméno  Příští film  Pauza  Rok úmrtí\n",
       "12951       1950   Růžena Rousová (40493)          NaN    NaN       19.0\n",
       "18218       1990    Václav Halama (21254)          NaN    NaN     1975.0\n",
       "17118       1964  Pavel Blumenfeld (7870)       1966.0    2.0     1982.0\n",
       "33604       1963    Miloš Macourek (1045)       1965.0    2.0     2002.0\n",
       "21800       1964     Josef Ouzký (126337)       1966.0    2.0     1977.0"
      ]
     },
     "execution_count": 18,
     "metadata": {},
     "output_type": "execute_result"
    }
   ],
   "source": [
    "k3.sample(5)"
   ]
  },
  {
   "cell_type": "code",
   "execution_count": 19,
   "id": "6510589c",
   "metadata": {
    "scrolled": false
   },
   "outputs": [
    {
     "data": {
      "text/plain": [
       "<Axes: xlabel='Copyright'>"
      ]
     },
     "execution_count": 19,
     "metadata": {},
     "output_type": "execute_result"
    },
    {
     "data": {
      "image/png": "[encoded data removed]",
      "text/plain": [
       "<Figure size 1440x360 with 1 Axes>"
      ]
     },
     "metadata": {
      "needs_background": "light"
     },
     "output_type": "display_data"
    }
   ],
   "source": [
    "pd.Series(k3[k3[\"Pauza\"].isnull()].groupby(\"Copyright\")[\"Jméno\"].nunique() / k3.groupby(\"Copyright\")[\"Jméno\"].nunique()).plot.bar(figsize=(20,5))"
   ]
  },
  {
   "cell_type": "code",
   "execution_count": 20,
   "id": "74897eb7",
   "metadata": {},
   "outputs": [
    {
     "data": {
      "text/html": [
       "<div>\n",
       "<style scoped>\n",
       "    .dataframe tbody tr th:only-of-type {\n",
       "        vertical-align: middle;\n",
       "    }\n",
       "\n",
       "    .dataframe tbody tr th {\n",
       "        vertical-align: top;\n",
       "    }\n",
       "\n",
       "    .dataframe thead th {\n",
       "        text-align: right;\n",
       "    }\n",
       "</style>\n",
       "<table border=\"1\" class=\"dataframe\">\n",
       "  <thead>\n",
       "    <tr style=\"text-align: right;\">\n",
       "      <th></th>\n",
       "      <th>Copyright</th>\n",
       "      <th>Jméno</th>\n",
       "      <th>Příští film</th>\n",
       "      <th>Pauza</th>\n",
       "      <th>Rok úmrtí</th>\n",
       "    </tr>\n",
       "  </thead>\n",
       "  <tbody>\n",
       "    <tr>\n",
       "      <th>7691</th>\n",
       "      <td>1992</td>\n",
       "      <td>Svatopluk Beneš (13617)</td>\n",
       "      <td>2003.0</td>\n",
       "      <td>11.0</td>\n",
       "      <td>2007.0</td>\n",
       "    </tr>\n",
       "    <tr>\n",
       "      <th>7903</th>\n",
       "      <td>1992</td>\n",
       "      <td>Nelly Gaierová (4888)</td>\n",
       "      <td>1993.0</td>\n",
       "      <td>1.0</td>\n",
       "      <td>1995.0</td>\n",
       "    </tr>\n",
       "    <tr>\n",
       "      <th>9524</th>\n",
       "      <td>1992</td>\n",
       "      <td>Jiřina Bohdalová (2878)</td>\n",
       "      <td>1993.0</td>\n",
       "      <td>1.0</td>\n",
       "      <td>NaN</td>\n",
       "    </tr>\n",
       "    <tr>\n",
       "      <th>10478</th>\n",
       "      <td>1992</td>\n",
       "      <td>Karel Černý (1241)</td>\n",
       "      <td>2001.0</td>\n",
       "      <td>9.0</td>\n",
       "      <td>2014.0</td>\n",
       "    </tr>\n",
       "    <tr>\n",
       "      <th>10880</th>\n",
       "      <td>1992</td>\n",
       "      <td>Helena Růžičková (3862)</td>\n",
       "      <td>1993.0</td>\n",
       "      <td>1.0</td>\n",
       "      <td>2004.0</td>\n",
       "    </tr>\n",
       "    <tr>\n",
       "      <th>...</th>\n",
       "      <td>...</td>\n",
       "      <td>...</td>\n",
       "      <td>...</td>\n",
       "      <td>...</td>\n",
       "      <td>...</td>\n",
       "    </tr>\n",
       "    <tr>\n",
       "      <th>52662</th>\n",
       "      <td>1992</td>\n",
       "      <td>Eva Malíková (20167)</td>\n",
       "      <td>1993.0</td>\n",
       "      <td>1.0</td>\n",
       "      <td>NaN</td>\n",
       "    </tr>\n",
       "    <tr>\n",
       "      <th>52665</th>\n",
       "      <td>1992</td>\n",
       "      <td>Richard Řeřicha (2088)</td>\n",
       "      <td>2000.0</td>\n",
       "      <td>8.0</td>\n",
       "      <td>NaN</td>\n",
       "    </tr>\n",
       "    <tr>\n",
       "      <th>52670</th>\n",
       "      <td>1992</td>\n",
       "      <td>Simona Peková (11310)</td>\n",
       "      <td>1996.0</td>\n",
       "      <td>4.0</td>\n",
       "      <td>NaN</td>\n",
       "    </tr>\n",
       "    <tr>\n",
       "      <th>52679</th>\n",
       "      <td>1992</td>\n",
       "      <td>Josef Viewegh (29808)</td>\n",
       "      <td>1996.0</td>\n",
       "      <td>4.0</td>\n",
       "      <td>NaN</td>\n",
       "    </tr>\n",
       "    <tr>\n",
       "      <th>52681</th>\n",
       "      <td>1992</td>\n",
       "      <td>Martin Engel (2610)</td>\n",
       "      <td>1993.0</td>\n",
       "      <td>1.0</td>\n",
       "      <td>NaN</td>\n",
       "    </tr>\n",
       "  </tbody>\n",
       "</table>\n",
       "<p>464 rows × 5 columns</p>\n",
       "</div>"
      ],
      "text/plain": [
       "       Copyright                    Jméno  Příští film  Pauza  Rok úmrtí\n",
       "7691        1992  Svatopluk Beneš (13617)       2003.0   11.0     2007.0\n",
       "7903        1992    Nelly Gaierová (4888)       1993.0    1.0     1995.0\n",
       "9524        1992  Jiřina Bohdalová (2878)       1993.0    1.0        NaN\n",
       "10478       1992       Karel Černý (1241)       2001.0    9.0     2014.0\n",
       "10880       1992  Helena Růžičková (3862)       1993.0    1.0     2004.0\n",
       "...          ...                      ...          ...    ...        ...\n",
       "52662       1992     Eva Malíková (20167)       1993.0    1.0        NaN\n",
       "52665       1992   Richard Řeřicha (2088)       2000.0    8.0        NaN\n",
       "52670       1992    Simona Peková (11310)       1996.0    4.0        NaN\n",
       "52679       1992    Josef Viewegh (29808)       1996.0    4.0        NaN\n",
       "52681       1992      Martin Engel (2610)       1993.0    1.0        NaN\n",
       "\n",
       "[464 rows x 5 columns]"
      ]
     },
     "execution_count": 20,
     "metadata": {},
     "output_type": "execute_result"
    }
   ],
   "source": [
    "k3[k3[\"Copyright\"] == 1992]"
   ]
  },
  {
   "cell_type": "code",
   "execution_count": 21,
   "id": "94241a78",
   "metadata": {},
   "outputs": [
    {
     "data": {
      "text/plain": [
       "<Axes: xlabel='Copyright'>"
      ]
     },
     "execution_count": 21,
     "metadata": {},
     "output_type": "execute_result"
    },
    {
     "data": {
      "image/png": "[encoded data removed]",
      "text/plain": [
       "<Figure size 1440x720 with 1 Axes>"
      ]
     },
     "metadata": {
      "needs_background": "light"
     },
     "output_type": "display_data"
    }
   ],
   "source": [
    "pd.Series(k3[(k3[\"Pauza\"] >= 12)].groupby(\"Copyright\")[\"Jméno\"].nunique() / k3.groupby(\"Copyright\")[\"Jméno\"].nunique()).plot.bar(figsize=(20,10))"
   ]
  },
  {
   "cell_type": "code",
   "execution_count": 22,
   "id": "4ed8eee4",
   "metadata": {},
   "outputs": [
    {
     "data": {
      "text/plain": [
       "<Axes: xlabel='Copyright'>"
      ]
     },
     "execution_count": 22,
     "metadata": {},
     "output_type": "execute_result"
    },
    {
     "data": {
      "image/png": "[encoded data removed]",
      "text/plain": [
       "<Figure size 1440x720 with 1 Axes>"
      ]
     },
     "metadata": {
      "needs_background": "light"
     },
     "output_type": "display_data"
    }
   ],
   "source": [
    "pd.Series(k3[(k3[\"Pauza\"] >= 15) | (k3[\"Pauza\"].isnull())].groupby(\"Copyright\")[\"Jméno\"].nunique() / k3.groupby(\"Copyright\")[\"Jméno\"].nunique()).plot.bar(figsize=(20,10))"
   ]
  },
  {
   "cell_type": "code",
   "execution_count": 23,
   "id": "115c30d3",
   "metadata": {
    "scrolled": true
   },
   "outputs": [
    {
     "data": {
      "text/plain": [
       "<Axes: xlabel='Copyright'>"
      ]
     },
     "execution_count": 23,
     "metadata": {},
     "output_type": "execute_result"
    },
    {
     "data": {
      "image/png": "[encoded data removed]",
      "text/plain": [
       "<Figure size 1440x720 with 1 Axes>"
      ]
     },
     "metadata": {
      "needs_background": "light"
     },
     "output_type": "display_data"
    }
   ],
   "source": [
    "pd.Series(k3[(k3[\"Pauza\"] >= 10)].groupby(\"Copyright\")[\"Jméno\"].nunique() / k3[~k3[\"Pauza\"].isnull()].groupby(\"Copyright\")[\"Jméno\"].nunique()).plot.bar(figsize=(20,10))"
   ]
  }
 ],
 "metadata": {
  "kernelspec": {
   "display_name": "Python 3 (ipykernel)",
   "language": "python",
   "name": "python3"
  },
  "language_info": {
   "codemirror_mode": {
    "name": "ipython",
    "version": 3
   },
   "file_extension": ".py",
   "mimetype": "text/x-python",
   "name": "python",
   "nbconvert_exporter": "python",
   "pygments_lexer": "ipython3",
   "version": "3.10.8"
  }
 },
 "nbformat": 4,
 "nbformat_minor": 5
}
