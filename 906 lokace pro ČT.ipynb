{
 "cells": [
  {
   "cell_type": "code",
   "execution_count": 1,
   "id": "481e1889",
   "metadata": {
    "scrolled": true
   },
   "outputs": [
    {
     "name": "stdout",
     "output_type": "stream",
     "text": [
      "2023/06/01 17:14:46 z 4555 řádků odstraněno 133. Aktuální dataframe má 4422 řádků.\n"
     ]
    }
   ],
   "source": [
    "import os\n",
    "import json\n",
    "import pandas as pd\n",
    "from src.vycisti import vycisti\n",
    "pd.set_option('display.max_columns', None)\n",
    "df = pd.read_json(os.path.join(\"data\", \"filmy.json\"))\n",
    "with open(os.path.join(\"data_fixes\", \"opravy.json\"), encoding=\"utf-8\") as opravy:\n",
    "    opravy = json.loads(opravy.read())\n",
    "with open(os.path.join(\"data_fixes\", \"seznamy.json\"), encoding=\"utf-8\") as seznamy:\n",
    "    seznamy = json.loads(seznamy.read())\n",
    "df = vycisti(df, opravy)"
   ]
  },
  {
   "cell_type": "code",
   "execution_count": 2,
   "id": "f23d3335",
   "metadata": {},
   "outputs": [],
   "source": [
    "persony = pd.read_json(os.path.join(\"data\", \"persony.json\")).drop_duplicates()"
   ]
  },
  {
   "cell_type": "code",
   "execution_count": 3,
   "id": "14fe7207",
   "metadata": {},
   "outputs": [],
   "source": [
    "df = df.explode(\"Lokace\")"
   ]
  },
  {
   "cell_type": "code",
   "execution_count": 4,
   "id": "b5ece9f0",
   "metadata": {},
   "outputs": [],
   "source": [
    "def mesto(lokace):\n",
    "    \n",
    "    if isinstance(lokace, str):\n",
    "    \n",
    "        if \"(\" in lokace:\n",
    "\n",
    "            zavorka = lokace.split(\"(\")[1].replace(\")\",\"\").strip()\n",
    "\n",
    "            if zavorka in seznamy[\"praha\"]:\n",
    "\n",
    "                mesto = \"Praha\"\n",
    "\n",
    "            elif zavorka == \"Česká republika\":\n",
    "                \n",
    "                mesto = lokace.split(\"(\")[0].strip()\n",
    "            \n",
    "            else:\n",
    "\n",
    "                mesto = zavorka\n",
    "\n",
    "        else:\n",
    "            \n",
    "            mesto = lokace\n",
    "            \n",
    "        if \"Česká republika, \" in mesto:\n",
    "                \n",
    "            mesto = mesto.split(\",\")[1].strip()\n",
    "            \n",
    "    else:\n",
    "\n",
    "        mesto = lokace         \n",
    "        \n",
    "    return(mesto)"
   ]
  },
  {
   "cell_type": "code",
   "execution_count": 5,
   "id": "5f095dd1",
   "metadata": {},
   "outputs": [],
   "source": [
    "df[\"Město\"] = df[\"Lokace\"].apply(lambda x: mesto(x))"
   ]
  },
  {
   "cell_type": "markdown",
   "id": "59a27693",
   "metadata": {},
   "source": [
    "## Nejčastější lokace"
   ]
  },
  {
   "cell_type": "markdown",
   "id": "19bb030b",
   "metadata": {},
   "source": [
    "České celovečerní hrané filmy od r. 1998 včetně:"
   ]
  },
  {
   "cell_type": "code",
   "execution_count": 6,
   "id": "dfebcaca",
   "metadata": {},
   "outputs": [],
   "source": [
    "hcf = df[df[\"Délka\"] == \"dlouhometrážní\"].explode(\"Typologie\")\n",
    "hcf = hcf[hcf[\"Typologie\"] == \"hraný\"]\n",
    "hcf = hcf[hcf[\"Copyright\"] >= 1998]"
   ]
  },
  {
   "cell_type": "markdown",
   "id": "1fe460d3",
   "metadata": {},
   "source": [
    "Pořadí měst podle počtu natáčených filmů:"
   ]
  },
  {
   "cell_type": "code",
   "execution_count": 7,
   "id": "e3eb5eed",
   "metadata": {},
   "outputs": [
    {
     "data": {
      "text/plain": [
       "Město\n",
       "Praha                          170\n",
       "Slovensko                       52\n",
       "Brno                            10\n",
       "Jaroměř                          9\n",
       "Bratislava                       8\n",
       "Rakousko                         8\n",
       "Beroun                           7\n",
       "Kladno                           7\n",
       "Zlín                             7\n",
       "Hradec Králové                   6\n",
       "Itálie                           6\n",
       "Liberec                          6\n",
       "Mladá Boleslav                   6\n",
       "Olomouc                          6\n",
       "Polsko                           6\n",
       "Praha a okolí                    6\n",
       "Vysočany                         6\n",
       "Francie                          5\n",
       "Německo                          5\n",
       "Ostrava                          5\n",
       "Plzeň                            5\n",
       "Ústí nad Labem                   5\n",
       "Brdy                             4\n",
       "Doksy                            4\n",
       "Jizerské hory                    4\n",
       "Karlovy Vary                     4\n",
       "Kolín                            4\n",
       "Kouřim                           4\n",
       "Mikulov                          4\n",
       "Mělník                           4\n",
       "Nádražní ulice                   4\n",
       "Přerov nad Labem                 4\n",
       "Příbram                          4\n",
       "Slapy                            4\n",
       "Veltrusy                         4\n",
       "Brandýs nad Labem                3\n",
       "Dunaj                            3\n",
       "Lužná u Rakovníka                3\n",
       "Lysá nad Labem                   3\n",
       "Norsko                           3\n",
       "Náchod                           3\n",
       "Pezinok                          3\n",
       "Poděbrady                        3\n",
       "Slaný                            3\n",
       "Slavonice                        3\n",
       "Staré Město pod Landštejnem      3\n",
       "Staré náměstí                    3\n",
       "Terezín                          3\n",
       "Thajsko                          3\n",
       "USA                              3\n",
       "Varnsdorf                        3\n",
       "Vysoké Tatry                     3\n",
       "Výstaviště                       3\n",
       "Český ráj                        3\n",
       "Špindlerův Mlýn                  3\n",
       "Šumava                           3\n",
       "Bechyně                          2\n",
       "Bedřichov                        2\n",
       "Blatná                           2\n",
       "Chudenice                        2\n",
       "Name: Film, dtype: int64"
      ]
     },
     "execution_count": 7,
     "metadata": {},
     "output_type": "execute_result"
    }
   ],
   "source": [
    "hcf.groupby(\"Město\")[\"Film\"].nunique().nlargest(60)"
   ]
  },
  {
   "cell_type": "code",
   "execution_count": 34,
   "id": "377f080c",
   "metadata": {},
   "outputs": [],
   "source": [
    "top_mesta = hcf.groupby(\"Město\")[\"Film\"].nunique().nlargest(60)\n",
    "top_mesta = top_mesta[top_mesta >= 4]\n",
    "top_mesta = top_mesta.index.to_list()[2:]"
   ]
  },
  {
   "cell_type": "markdown",
   "id": "77189275",
   "metadata": {},
   "source": [
    "Kompletní seznam filmů a lokací ve městech:"
   ]
  },
  {
   "cell_type": "code",
   "execution_count": 43,
   "id": "8609d318",
   "metadata": {},
   "outputs": [
    {
     "name": "stdout",
     "output_type": "stream",
     "text": [
      "BRNO:\n",
      "ZEJTRA NAPOŘÁD (400555) | Lokality: Brno (Česká republika)\n",
      "LÍDA BAAROVÁ (400696) | Lokality: Brno (Česká republika), Národní divadlo – Mahenovo divadlo (Brno), Černá Pole (Brno), Pisárky (Brno)\n",
      "VŠECHNO BUDE FAJN! (401386) | Lokality: Brno\n",
      "PEPA (401760) | Lokality: Brno (Česká republika)\n",
      "ALENKA V ZEMI ZÁZRAKŮ (401746) | Lokality: Brno (Česká republika), hlavní nádraží (Brno), Mendlovo náměstí (Brno), Opatství svatého Tomáše /Starobrněnský klášter/ (Brno), Jakubské náměstí (Brno), kostel sv. Jakuba Staršího (Brno), Petrov (Brno), katedrála sv. Petra a Pavla (Brno), Kraví hora (Brno), hvězdárna a planetárium (Brno), Výstaviště (Brno), Jihlavská ulice (Brno), krematorium (Brno), Ústřední hřbitov (Brno)\n",
      "NABARVENÉ PTÁČE (401962) | Lokality: Česká republika, Brno (Česká republika), ulice Cejl (Brno)\n",
      "SKLENĚNÝ POKOJ (401929) | Lokality: Česká republika, Brno (Česká republika), Výstaviště (Brno), Černá Pole (Brno), Vila Tugendhat (Brno), Pisárky (Brno), Vila Stiassni (Brno), Zelný trh (Brno)\n",
      "MODELÁŘ (402079) | Lokality: Brno (Česká republika), přehrada (Brno), most pod hradem Veveří (Brno), Gorkého ulice (Brno), Zelný trh (Brno), Dominikánská ulice (Brno), Eleven club /interiér/ (Brno), Kounicova ulice (Brno), klub Melodka /interiér/ (Brno), Výstaviště (Brno)\n",
      "MARŤANSKÉ LODĚ (402153) | Lokality: Česká republika, Brno (Česká republika), hlavní nádraží (Brno), hala Malá Amerika (Brno), Kopečná ulice (Brno), Sukova ulice (Brno), Běhounská ulice (Brno), Pisárecká ulice (Brno), Pekařská ulice (Brno), Dominikánské náměstí (Brno), ulice Dornych (Brno), Jezuitská ulice (Brno), Malinovského náměstí (Brno), Váchova ulice (Brno), Lipová ulice (Brno), Zábrdovická ulice (Brno), Dolní Heršpice (Brno), Ořešín (Brno)\n",
      "SHOKY & MORTHY: POSLEDNÍ VELKÁ AKCE (402158) | Lokality: Brno, Výstaviště (Brno), ulice Koliště (Brno), Božetěchova ulice (Brno)\n",
      "***\n",
      "JAROMĚŘ:\n",
      "NĚŽNÉ VLNY (400551) | Lokality: Jaroměř, most Komenského (Jaroměř)\n",
      "WILSONOV (400602) | Lokality: Jaroměř (Česká republika)\n",
      "ZAHRADNICTVÍ: RODINNÝ PŘÍTEL (401671) | Lokality: Jaroměř (Česká republika), ulice (Jaroměř), železniční výtopna (Jaroměř)\n",
      "ZAHRADNICTVÍ: NÁPADNÍK (401672) | Lokality: Jaroměř (Česká republika)\n",
      "ZAHRADNICTVÍ: DEZERTÉR (401670) | Lokality: Jaroměř (Česká republika)\n",
      "NABARVENÉ PTÁČE (401962) | Lokality: Jaroměř (Česká republika)\n",
      "V ZAJETÍ SÍTĚ (401999) | Lokality: Jaroměř, Josefov (Jaroměř)\n",
      "HAVEL (402069) | Lokality: Jaroměř, Josefov (Jaroměř), Okružní ulice (Jaroměř), Nemocniční ulice (Jaroměř), Jungmannova ulice (Jaroměř), Komenského ulice (Jaroměř), Duškova ulice (Jaroměř), Traxlerova ulice (Jaroměř), Zmítkova ulice (Jaroměř), ulice Doktora Reyla (Jaroměř)\n",
      "CASTING NA LÁSKU (402062) | Lokality: Jaroměř, Palackého ulice (Jaroměř)\n",
      "***\n",
      "BRATISLAVA:\n",
      "ŠPÍNA (401181) | Lokality: Most SNP (Bratislava), Prístavný most (Bratislava), Spojená škola Novohradská (Bratislava), Subclub (Bratislava), Rádio FM (Bratislava), Univerzitná nemocnica Bratislava (Bratislava), Nákladný prístav Bratislava (Bratislava), Športová hala Elán (Bratislava), Square Club (Bratislava), Nu Spirit Club (Bratislava), Športová hala Prokofievova Bratislava-Jarovce (Bratislava)\n",
      "DŮVĚRNÝ NEPŘÍTEL (401807) | Lokality: Staré Mesto (Bratislava), Petržalka (Bratislava)\n",
      "OSTRÝM NOŽOM (402013) | Lokality: Dunaj (Bratislava), Mlynská dolina (Bratislava), Mýtna ulice (Bratislava), Šafárikovo náměstí (Bratislava), Radlinského ulice (Bratislava), ulice Drotárska cesta (Bratislava), Ružinovská ulice (Bratislava), Račianska ulica (Bratislava), Grösslingová ulice (Bratislava), Tehelná ulice (Bratislava), náměstí Alexandra Dubčeka (Bratislava), Ružinov (Bratislava), Rača (Bratislava), Petržalka (Bratislava)\n",
      "AMNESTIE (401937) | Lokality: Hviezdoslavovo náměstí (Bratislava), Letiště M. R. Štefánika /interiér/ (Bratislava), Vajnorská ulice (Bratislava), Račianska ulice (Bratislava), Hroboňova ulice (Bratislava), Šúlekova ulice (Bratislava), Moyzesova ulice (Bratislava), Hurbanovo náměstí (Bratislava), Vojanského nábřeží (Bratislava), Kubániho ulice (Bratislava), Náměstí Slovenského národního povstání (Bratislava), Mlynská dolina (Bratislava), Břečtanová ulice (Bratislava), Dunaj (Bratislava), Sad Janka Kráľa (Bratislava), Horský park (Bratislava), Rača (Bratislava), Vrakuňa (Bratislava)\n",
      "SLUŽEBNÍCI (402167) | Lokality: Kapitulská ulice (Bratislava)\n",
      "MUŽ SE ZAJEČÍMA UŠIMA (402182) | Lokality: náměstí Ľudovíta Štúra (Bratislava), Kollárovo náměstí (Bratislava), Pribinova ulice (Bratislava)\n",
      "SVIŇA (402067) | Lokality: Náměstí Alexandra Dubčeka (Bratislava), Náměstí svobody (Bratislava), Dunaj (Bratislava), ulice Mlynské nivy (Bratislava), Primaciálne náměstí (Bratislava), Brečtanová ulice (Bratislava), Náměstí Slovenského národního povstání (Bratislava), Hurbanovo náměstí (Bratislava), Hlavné náměstí (Bratislava), Žižkova ulice (Bratislava), Rudnayovo náměstí (Bratislava), Michalská ulice (Bratislava), Pribinova ulice (Bratislava), Lazaretská ulice (Bratislava), Dvořákovo nábřeží (Bratislava), Gorkého ulice (Bratislava), Staromestská ulice (Bratislava), Továrenská ulice (Bratislava), Tomášiková ulice (Bratislava), Župné náměstí (Bratislava), Podunajské Biskupice (Bratislava), Vlčie hrdlo (Bratislava), nádraží Nové Mesto (Bratislava), Jarovecké rameno (Bratislava), Rusovské jezero (Bratislava), Čunovo (Bratislava)\n",
      "ZNÁMÍ NEZNÁMÍ (402233) | Lokality: Kozia ulice (Bratislava)\n",
      "***\n",
      "RAKOUSKO:\n",
      "KOZA (400585) | Lokality: Rakousko, Kittsee (Rakousko)\n",
      "ROAD-MOVIE (400779) | Lokality: Rakousko, Vídeň (Rakousko), Hallstatt (Rakousko)\n",
      "LÍDA BAAROVÁ (400696) | Lokality: Rakousko\n",
      "MENANDROS & THAÏS (401041) | Lokality: Rakousko, Salzkammergut – Traunsee (Rakousko)\n",
      "DOMA JE TADY (401744) | Lokality: Rakousko, Tyrolsko (Rakousko), Breitenbach (Rakousko), Innsbruck (Rakousko), Kramsach (Rakousko), Rum (Rakousko), Schwaz (Rakousko), Vomp (Rakousko), Völs (Rakousko), Wattens (Rakousko), Zirl (Rakousko)\n",
      "TLUMOČNÍK (401728) | Lokality: Rakousko, Vídeň (Rakousko)\n",
      "SKLENĚNÝ POKOJ (401929) | Lokality: Rakousko, Seewalchen am Attersee (Rakousko), jezero Attersse (Rakousko)\n",
      "ATLAS PTÁKŮ (402154) | Lokality: Rakousko, Sankt Anton am Arlberg /i interiér/ (Rakousko)\n",
      "***\n",
      "BEROUN:\n",
      "ZEJTRA NAPOŘÁD (400555) | Lokality: Česká republika, Beroun (Česká republika)\n",
      "RUDÝ KAPITÁN (400698) | Lokality: Beroun (Česká republika)\n",
      "ČERTÍ BRKO (401838) | Lokality: Beroun (Česká republika), lom Alkazar (Beroun)\n",
      "POSLOUCHEJ (402077) | Lokality: Chomutov /a okolí/, Nechranice /a okolí/, Beroun, Hostim (Beroun), Hředle u Berouna (Beroun)\n",
      "CHLAP NA STŘÍDAČKU (402037) | Lokality: Černošice, Beroun, Wagnerovo náměstí (Beroun)\n",
      "DRAČÍ PRINCEZNA (402241) | Lokality: Koněpruské jeskyně, Beroun, okolí (Beroun)\n",
      "CHYBY (402143) | Lokality: Beroun (Česká republika)\n",
      "***\n",
      "KLADNO:\n",
      "ROZKOŠ (398432) | Lokality: Jablonec nad Nisou, Zákolany, Kladno, Sládečkovo vlastivědné muzeum (Kladno)\n",
      "PEPA (401760) | Lokality: Česká republika, Kladno (Česká republika)\n",
      "HRA (402000) | Lokality: Kladno, Divadelní ulice (Kladno), Ctiborova ulice (Kladno)\n",
      "MSTITEL (402140) | Lokality: Kladno (Česká republika), vrakoviště (Kladno)\n",
      "GUMP – PES, KTERÝ NAUČIL LIDI ŽÍT (402147) | Lokality: Kladno, Slánská ulice (Kladno)\n",
      "OKUPACE (402157) | Lokality: Kladno, bývalá továrna Poldi (Kladno)\n",
      "MĚSTO (402235) | Lokality: Kladno, Vančurova ulice (Kladno)\n",
      "***\n",
      "ZLÍN:\n",
      "DOMÁCÍ PÉČE (400580) | Lokality: Zlín (Česká republika), Krajská nemocnice Zlín (Zlín)\n",
      "ÚSMĚVY SMUTNÝCH MUŽŮ (401749) | Lokality: Zlín (Česká republika), Kudlov (Zlín)\n",
      "MŮJ PŘÍBĚH (402042) | Lokality: Zlín, Vavrečkova ulice (Zlín)\n",
      "HODINÁŘŮV UČEŇ (401938) | Lokality: Český Krumlov, Zlín, okolí (Zlín)\n",
      "SMEČKA (402099) | Lokality: Zlín, panoráma (Zlín), Březnická ulice (Zlín), Broučkova ulice (Zlín), ulice Za Úvozem (Zlín), Luční ulice (Zlín), Jižní Svahy (Zlín)\n",
      "ZPRÁVA O ZÁCHRANĚ MRTVÉHO (402179) | Lokality: Zlín, Havlíčkovo nábřeží (Zlín), Krajská nemocnice Tomáše Bati /interiér/ (Zlín)\n",
      "ATLAS PTÁKŮ (402154) | Lokality: Zlín (Česká republika), Havlíčkovo nábřeží (Zlín)\n",
      "***\n",
      "HRADEC KRÁLOVÉ:\n",
      "GANGSTER KA: AFRIČAN (400868) | Lokality: Hradec Králové (Česká republika)\n",
      "MILADA (401275) | Lokality: Hradec Králové, okolí (Hradec Králové)\n",
      "BÁBA Z LEDU (401257) | Lokality: Hradec Králové (Česká republika)\n",
      "ZLATÝ PODRAZ (401841) | Lokality: Hradec Králové, nádraží (Hradec Králové)\n",
      "NARUŠITEL (401858) | Lokality: Hradec Králové, Hradební ulice (Hradec Králové)\n",
      "V ZAJETÍ SÍTĚ (401999) | Lokality: Hradec Králové, Piletická ulice (Hradec Králové)\n",
      "***\n",
      "ITÁLIE:\n",
      "KRÁSKA V NESNÁZÍCH (37360) | Lokality: Itálie\n",
      "MEDVÍDEK (51760) | Lokality: Itálie, Řím (Itálie)\n",
      "SKOKAN (401277) | Lokality: Itálie, Janov (Itálie), Řím (Itálie), Sabaudia (Itálie)\n",
      "VŠECHNO NEBO NIC (401720) | Lokality: Itálie, Friuli (Itálie)\n",
      "KŘIŽÁČEK (201708) | Lokality: Itálie, Apulie (Itálie), Gargano, Fasano, Ostuni, Altamura, Gallipoli, Kalábrie (Itálie), Sardinie (Itálie)\n",
      "ALENKA V ZEMI ZÁZRAKŮ (401746) | Lokality: Itálie, Benátky /Venezia/ (Itálie), Chioggia (Itálie), Caorle (Itálie), Řím /Roma/ (Itálie)\n",
      "***\n",
      "LIBEREC:\n",
      "KREV ZMIZELÉHO (36420) | Lokality: Česká republika, Liberec (Česká republika)\n",
      "KŘÍDLA VÁNOC (398421) | Lokality: Liberec\n",
      "LÍBÁNKY (398422) | Lokality: Liberec\n",
      "LOVCI A OBĚTI (400587) | Lokality: Liberec\n",
      "MILADA (401275) | Lokality: Liberec, Liberecká radnice /interiér/ (Liberec)\n",
      "KRYŠTOF (402155) | Lokality: Liberec (Česká republika), Horní Růžodol (Liberec), nádraží (Liberec)\n",
      "***\n",
      "MLADÁ BOLESLAV:\n",
      "LÍDA BAAROVÁ (400696) | Lokality: Mladá Boleslav (Česká republika), Viničná ulice (Mladá Boleslav)\n",
      "MILADA (401275) | Lokality: Mladá Boleslav, Viničná ulice (Mladá Boleslav)\n",
      "ZLATÝ PODRAZ (401841) | Lokality: Mladá Boleslav, Viničná ulice (Mladá Boleslav), Palackého ulice (Mladá Boleslav)\n",
      "AMNESTIE (401937) | Lokality: Česká republika, Mladá Boleslav (Česká republika), Viničná ulice (Mladá Boleslav)\n",
      "ŠARLATÁN (402092) | Lokality: Mladá Boleslav, Viničná ulice (Mladá Boleslav), náměstí Republiky (Mladá Boleslav)\n",
      "ATLAS PTÁKŮ (402154) | Lokality: Mladá Boleslav (Česká republika), náměstí Republiky (Mladá Boleslav)\n",
      "***\n",
      "OLOMOUC:\n",
      "RUDÝ KAPITÁN (400698) | Lokality: Olomouc (Česká republika)\n",
      "MILUJI TĚ MODŘE (401205) | Lokality: Olomouc (Česká republika)\n",
      "KVARTETO (401673) | Lokality: Olomouc, Univerzitní ulice (Olomouc), Kosinova ulice (Olomouc), Dolní náměstí (Olomouc), Uhelná ulice (Olomouc), Ztracená ulice (Olomouc), Horní náměstí (Olomouc), Michalská ulice (Olomouc), Sušilovo náměstí (Olomouc), Palackého ulice (Olomouc), třída 1. máje (Olomouc), Václavské náměstí (Olomouc), Přemyslovský palác (Olomouc), Křížkovského ulice (Olomouc), Vojenská nemocnice (Olomouc), Ústřední hřbitov Neředín (Olomouc), Moravské divadlo Olomouc (Olomouc), ulice 28. října (Olomouc), Denisova ulice (Olomouc), Pekařská ulice (Olomouc), Opletalova ulice (Olomouc)\n",
      "PŘÍPAD MRTVÉHO NEBOŽTÍKA (402009) | Lokality: Olomouc, ulice (Olomouc), Křížkovského ulice (Olomouc), Univerzitní ulice (Olomouc), Hněvotínská ulice (Olomouc), Fischerova ulice (Olomouc), Norská ulice (Olomouc), ulice 1. máje (Olomouc)\n",
      "ZPRÁVA O ZÁCHRANĚ MRTVÉHO (402179) | Lokality: Olomouc, ulice I. P. Pavlova (Olomouc), Fakultní nemocnice Olomouc /i interiér/ (Olomouc)\n",
      "VELKÁ PREMIÉRA (402234) | Lokality: Olomouc, ulice (Olomouc), hlavní nádraží /i interiér/ (Olomouc), Dolní náměstí (Olomouc), náměstí Republiky (Olomouc), Denisova ulice (Olomouc), Svatý Kopeček (Olomouc), ulice 17. listopadu (Olomouc), Bezručovy sady (Olomouc), Libušina ulice (Olomouc), Bendlova ulice (Olomouc), ulice 1. máje (Olomouc)\n",
      "***\n",
      "POLSKO:\n",
      "„24“ (5478) | Lokality: Polsko\n",
      "KREV ZMIZELÉHO (36420) | Lokality: Polsko, přírodní rezervace Leba (Polsko)\n",
      "JÁ, OLGA HEPNAROVÁ (400761) | Lokality: Polsko, Kladsko /Kłodzko/ (Polsko), Nová Ruda /Nowa Ruda/ (Polsko), Vratislav /Wrocław/ (Polsko)\n",
      "RUDÝ KAPITÁN (400698) | Lokality: Krakov (Polsko)\n",
      "ODBORNÝ DOHLED NAD VÝKLADEM SNU (401766) | Lokality: Polsko, Bogatyně /Bogatynia/ (Polsko)\n",
      "NABARVENÉ PTÁČE (401962) | Lokality: Świebodzice (Polsko), Svalovičy /a okolí/ (Polsko)\n",
      "***\n",
      "PRAHA A OKOLÍ:\n",
      "KRÁSKA V NESNÁZÍCH (37360) | Lokality: Česká republika, Praha a okolí (Česká republika)\n",
      "MEDVÍDEK (51760) | Lokality: Česká republika, Praha a okolí (Česká republika)\n",
      "U MĚ DOBRÝ (55114) | Lokality: Praha a okolí\n",
      "OBČANSKÝ PRŮKAZ (103354) | Lokality: Praha a okolí\n",
      "HODINOVÝ MANŽEL (400565) | Lokality: Praha a okolí (Česká republika)\n",
      "TAXI 121 (400791) | Lokality: Praha a okolí\n",
      "***\n",
      "VYSOČANY:\n",
      "KAREL, JÁ A TY (402006) | Lokality: ulice U Elektry (Vysočany), Bleší trhy /interiér/ (Vysočany)\n",
      "SMEČKA (402099) | Lokality: Poděbradská ulice (Vysočany)\n",
      "ŠTĚSTÍ JE KRÁSNÁ VĚC (402100) | Lokality: Kolbenova ulice (Vysočany)\n",
      "VYŠEHRAD: SERYJÁL (402090) | Lokality: Podkovářská ulice (Vysočany)\n",
      "MĚSTO (402235) | Lokality: ulice Na Jetelce (Vysočany), ulice U Vinných sklepů (Vysočany), Českomoravská ulice (Vysočany)\n",
      "VYŠEHRAD FYLM (402232) | Lokality: Poděbradská ulice (Vysočany)\n",
      "***\n",
      "FRANCIE:\n",
      "NIKDY NEJSME SAMI (400718) | Lokality: Francie, Le Havre (Francie)\n",
      "ANI VE SNU! (400717) | Lokality: Francie, Etretat (Francie), Normandie (Francie)\n",
      "PRÁZDNINY V PROVENCE (401137) | Lokality: Francie, Var (Francie), Provence-Alpes-Côte d’Azur – Six-Fours-les-Plages (Francie), Sanary (Francie), vinařství Grand Boise à Trets (Francie), La Cadiere d’Azur (Francie)\n",
      "VLK Z KRÁLOVSKÝCH VINOHRAD (400951) | Lokality: Francie, Cannes (Francie)\n",
      "SKOKAN (401277) | Lokality: Francie, region Comté (Francie), Cannes (Francie)\n",
      "***\n",
      "NĚMECKO:\n",
      "NÁVRAT ČÁPŮ (56407) | Lokality: Německo, Frankfurt nad Mohanem (Německo)\n",
      "FAIR PLAY (400561) | Lokality: Německo, Drážďany (Německo), Saská Kamenice (Německo)\n",
      "LÍDA BAAROVÁ (400696) | Lokality: Německo, Berlín (Německo), Obersalzberg (Německo)\n",
      "UZLY A POMERANČE (402004) | Lokality: Německo, Johanngeorgenstadt (Německo), Žitava /Zittau/ (Německo), Großschönau (Německo), Ojbín /Oybin/ (Německo)\n",
      "BUDIŽ SVĚTLO (401925) | Lokality: Německo, Schwangau (Německo), zámek Neuschwanstein (Německo)\n",
      "***\n",
      "OSTRAVA:\n",
      "POUTA (80516) | Lokality: Ostrava (Česká republika)\n",
      "ISABEL (398413) | Lokality: Ostrava, Národní divadlo moravskoslezské – Divadlo Antonína Dvořáka (Ostrava), Divadlo Petra Bezruče (Ostrava), Fifejdy (Ostrava), Nová radnice (Ostrava), Masarykovo náměstí (Ostrava), Jurečkova ulice (Ostrava), Zábřeh (Ostrava), Slezská Ostrava (Ostrava), Moravská Ostrava (Ostrava), Nová Ves (Ostrava), Vítkovice (Ostrava), podzemí (Ostrava)\n",
      "ZEJTRA NAPOŘÁD (400555) | Lokality: Ostrava (Česká republika)\n",
      "PŘES PRSTY (401981) | Lokality: Ostrava, Vítkovice (Ostrava)\n",
      "ŽENSKÁ POMSTA (402078) | Lokality: Ostrava, Nákladní ulice (Ostrava), Hornopolní ulice (Ostrava), ulice Dr. Šmerala (Ostrava), Vítkovice (Ostrava), Stavební ulice (Ostrava)\n",
      "***\n",
      "PLZEŇ:\n",
      "ZEJTRA NAPOŘÁD (400555) | Lokality: Plzeň (Česká republika)\n",
      "BÁBA Z LEDU (401257) | Lokality: Plzeň (Česká republika), rybník Bolevák (Plzeň)\n",
      "SKLENĚNÝ POKOJ (401929) | Lokality: Plzeň (Česká republika), Klatovská třída (Plzeň)\n",
      "PRVOK, ŠAMPÓN, TEČKA A KAREL (402144) | Lokality: Plzeň, Anglické nábřeží (Plzeň), Šeříková ulice (Plzeň), ulice U Letiště (Plzeň)\n",
      "KRYŠTOF (402155) | Lokality: Plzeň (Česká republika), ulice Kopeckého sady (Plzeň)\n",
      "***\n",
      "ÚSTÍ NAD LABEM:\n",
      "TENKRÁT V RÁJI (400994) | Lokality: Ústí nad Labem (Česká republika)\n",
      "SKOKAN (401277) | Lokality: Česká republika, Ústí nad Labem (Česká republika)\n",
      "JAN PALACH (401799) | Lokality: Ústí nad Labem, Velká Hradební ulice (Ústí nad Labem)\n",
      "ÚSMĚVY SMUTNÝCH MUŽŮ (401749) | Lokality: Ústí nad Labem (Česká republika)\n",
      "NA KRÁTKO (401757) | Lokality: Ústí nad Labem (Česká republika), Mírová ulice (Ústí nad Labem), základní škola Mírová (Ústí nad Labem)\n",
      "***\n",
      "BRDY:\n",
      "TOMAN (401772) | Lokality: Česká republika, Brdy (Česká republika)\n",
      "NABARVENÉ PTÁČE (401962) | Lokality: Brdy (Česká republika), pěchotní srub Jordán (Brdy)\n",
      "KRYŠTOF (402155) | Lokality: Brdy (Česká republika)\n",
      "SHOKY & MORTHY: POSLEDNÍ VELKÁ AKCE (402158) | Lokality: Brdy, Baština (Brdy)\n",
      "***\n",
      "DOKSY:\n",
      "PRACH (400770) | Lokality: Doksy, autobusové nádraží (Doksy)\n",
      "LÍDA BAAROVÁ (400696) | Lokality: Doksy (Česká republika), Máchovo jezero (Doksy), Staré Splavy (Doksy)\n",
      "ÚSMĚVY SMUTNÝCH MUŽŮ (401749) | Lokality: Doksy (Česká republika)\n",
      "HASTRMAN (401755) | Lokality: Holany a okolí, Doksy, Máchovo jezero (Doksy)\n",
      "***\n",
      "JIZERSKÉ HORY:\n",
      "ZATRACENÍ (13015) | Lokality: Jizerské hory\n",
      "KREV ZMIZELÉHO (36420) | Lokality: Jizerské hory (Česká republika)\n",
      "TENKRÁT V RÁJI (400994) | Lokality: Jizerské hory (Česká republika), Šámalova chata (Jizerské hory)\n",
      "HODINÁŘŮV UČEŇ (401938) | Lokality: Jizerské hory\n",
      "***\n",
      "KARLOVY VARY:\n",
      "VLK Z KRÁLOVSKÝCH VINOHRAD (400951) | Lokality: Karlovy Vary (Česká republika), Mírové náměstí (Karlovy Vary), Mariánskolázeňská ulice (Karlovy Vary), ulice I. P. Pavlova (Karlovy Vary)\n",
      "PŘÁNÍ K MÁNÍ (401732) | Lokality: Karlovy Vary, hotel Imperial (Karlovy Vary), Národní dům (Karlovy Vary)\n",
      "STAŘÍCI (401990) | Lokality: Karlovy Vary, letiště /interiér/ (Karlovy Vary)\n",
      "ZBOŽŇOVANÝ (402183) | Lokality: Karlovy Vary\n",
      "***\n",
      "KOLÍN:\n",
      "GANGSTER KA (400582) | Lokality: Kolín (Česká republika)\n",
      "GANGSTER KA: AFRIČAN (400868) | Lokality: Kolín (Česká republika)\n",
      "ATLAS PTÁKŮ (402154) | Lokality: Kolín (Česká republika), panorama (Kolín), Rybářská ulice (Kolín), Ovčárecká ulice (Kolín)\n",
      "JAN ŽIŽKA (402240) | Lokality: Kolín, Brandlova ulice (Kolín)\n",
      "***\n",
      "KOUŘIM:\n",
      "DEŠŤOVÁ VÍLA (44393) | Lokality: Česká republika, Kouřim (Česká republika)\n",
      "HASTRMAN (401755) | Lokality: Kouřim, Muzeum lidových staveb /skanzen/ (Kouřim)\n",
      "TÁTOVA VOLHA (401758) | Lokality: Česká republika, Kouřim (Česká republika)\n",
      "TAJEMSTVÍ STARÉ BAMBITKY 2 (402174) | Lokality: zámek Mníšek pod Brdy, hrad Jindřichův Hradec, zámek Jindřichův Hradec, Kouřim, Muzeum lidových staveb (Kouřim)\n",
      "***\n",
      "MIKULOV:\n",
      "TAŤKA (400710) | Lokality: Mikulov\n",
      "CESTA DO ŘÍMA (400992) | Lokality: Králův Dvůr, Dolní Dunajovice, Mikulov, Svatý kopeček (Mikulov)\n",
      "ALENKA V ZEMI ZÁZRAKŮ (401746) | Lokality: Mikulov (Česká republika), panorama (Mikulov), Svatý kopeček (Mikulov)\n",
      "3BOBULE (402068) | Lokality: Klentnice, Sirotčí hrad, Mikulov, amfiteátr (Mikulov)\n",
      "***\n",
      "MĚLNÍK:\n",
      "MANŽEL NA HODINU (401145) | Lokality: Černošice, Řitka, Mělník, Olešno (Mělník)\n",
      "NA KRÁTKO (401757) | Lokality: Mělník (Česká republika)\n",
      "TÁTOVA VOLHA (401758) | Lokality: Mělník (Česká republika)\n",
      "MODELÁŘ (402079) | Lokality: Mělník (Česká republika), přístav (Mělník), ulice Celní (Mělník)\n",
      "***\n",
      "NÁDRAŽNÍ ULICE:\n",
      "JAKO Z FILMU (401239) | Lokality: Nová perla /hala bývalé papírny/ (Nádražní ulice)\n",
      "PREZIDENT BLANÍK (401730) | Lokality: Bistro U Veselé kozy /interiér/ (Nádražní ulice)\n",
      "DARIA (402096) | Lokality: Papírny /interiér/ (Nádražní ulice)\n",
      "PRVOK, ŠAMPÓN, TEČKA A KAREL (402144) | Lokality: restaurace Potrefená husa /interiér/ (Nádražní ulice)\n",
      "***\n",
      "PŘEROV NAD LABEM:\n",
      "DEŠŤOVÁ VÍLA (44393) | Lokality: Přerov nad Labem (Česká republika)\n",
      "ČERTOVINY (401741) | Lokality: Přerov nad Labem, skanzen (Přerov nad Labem)\n",
      "ZAKLETÉ PÍRKO (402047) | Lokality: Blanský les, Přerov nad Labem, skanzen (Přerov nad Labem)\n",
      "TAJEMSTVÍ STARÉ BAMBITKY 2 (402174) | Lokality: Přerov nad Labem, Polabské národopisné muzeum (Přerov nad Labem)\n",
      "***\n",
      "PŘÍBRAM:\n",
      "KŘÍDLA VÁNOC (398421) | Lokality: Příbram, oblastní nemocnice (Příbram)\n",
      "ZLODĚJI ZELENÝCH KONÍ (400792) | Lokality: Chlum u Třeboně, Cep, Majdalena, Nesměň, Matná, Příbram, Divadlo A. Dvořáka Příbram (Příbram)\n",
      "ŽENY V BĚHU (401853) | Lokality: Příbram, letiště (Příbram)\n",
      "CHYBY (402143) | Lokality: Česká republika, Příbram (Česká republika)\n",
      "***\n",
      "SLAPY:\n",
      "ABSENCE BLÍZKOSTI (401273) | Lokality: Slapy, vodní nádrž (Slapy)\n",
      "ZLATÝ PODRAZ (401841) | Lokality: Slapy, zámek (Slapy)\n",
      "TOMAN (401772) | Lokality: Slapy (Česká republika), zámek /i interiér/ (Slapy)\n",
      "NABARVENÉ PTÁČE (401962) | Lokality: Slapy (Česká republika)\n",
      "***\n",
      "VELTRUSY:\n",
      "ZAHRADNICTVÍ: RODINNÝ PŘÍTEL (401671) | Lokality: Veltrusy (Česká republika), zámek /skleníky/ (Veltrusy)\n",
      "ZAHRADNICTVÍ: NÁPADNÍK (401672) | Lokality: Veltrusy (Česká republika), zámek /skleníky/ (Veltrusy)\n",
      "ZAHRADNICTVÍ: DEZERTÉR (401670) | Lokality: Veltrusy (Česká republika), zámek (Veltrusy)\n",
      "NABARVENÉ PTÁČE (401962) | Lokality: Veltrusy (Česká republika), Smetanova ulice (Veltrusy)\n",
      "***\n"
     ]
    }
   ],
   "source": [
    "for t in top_mesta:\n",
    "    print(f\"{t.upper()}:\")\n",
    "    filmy = hcf[hcf[\"Město\"] == t][\"Film\"].drop_duplicates().to_list()\n",
    "    for f in filmy:\n",
    "        print(f\"\"\"{f.upper()} | Lokality: {\", \".join(hcf[(hcf[\"Město\"] == t) & (hcf[\"Film\"] == f)][\"Lokace\"].drop_duplicates().to_list())}\"\"\")\n",
    "    print(\"***\")"
   ]
  },
  {
   "cell_type": "markdown",
   "id": "1cb45488",
   "metadata": {},
   "source": [
    "Místa v Praze:"
   ]
  },
  {
   "cell_type": "code",
   "execution_count": 9,
   "id": "a22f5f98",
   "metadata": {},
   "outputs": [
    {
     "data": {
      "text/plain": [
       "Lokace\n",
       "Česká republika, Praha (Česká republika)    45\n",
       "Nové Město (Praha)                          43\n",
       "Vltava (Praha)                              29\n",
       "Vinohrady (Praha)                           26\n",
       "Žižkov (Praha)                              25\n",
       "Staré Město (Praha)                         24\n",
       "Malá Strana (Praha)                         23\n",
       "Praha (Česká republika)                     20\n",
       "Hradčany (Praha)                            19\n",
       "Bubeneč (Praha)                             18\n",
       "Holešovice (Praha)                          18\n",
       "Smíchov (Praha)                             17\n",
       "Dejvice (Praha)                             15\n",
       "Nusle (Praha)                               15\n",
       "Václavské náměstí (Nové Město)              15\n",
       "Karlín (Praha)                              12\n",
       "Josefov (Praha)                             11\n",
       "Podolí (Praha)                              10\n",
       "Praha, Vltava (Praha)                       10\n",
       "Ruzyně (Praha)                               9\n",
       "Mánesův most (Vltava)                        8\n",
       "Pernerova ulice (Karlín)                     8\n",
       "Pražský hrad (Hradčany)                      8\n",
       "Karlův most (Vltava)                         7\n",
       "Krč (Praha)                                  7\n",
       "Letná (Praha)                                7\n",
       "Národní třída (Nové Město)                   7\n",
       "Praha                                        7\n",
       "Vršovice (Praha)                             7\n",
       "Vysočany (Praha)                             7\n",
       "Vyšehrad (Praha)                             7\n",
       "Bohnice (Praha)                              6\n",
       "Hlavní nádraží (Nové Město)                  6\n",
       "Libeň (Praha)                                6\n",
       "Pankrác (Praha)                              6\n",
       "Praha, panorama (Praha)                      6\n",
       "Strašnice (Praha)                            6\n",
       "most Legií (Vltava)                          6\n",
       "Břevnov (Praha)                              5\n",
       "Koulova ulice (Dejvice)                      5\n",
       "Letňany (Praha)                              5\n",
       "Nuselský most (Praha)                        5\n",
       "Praha, Nové Město (Praha)                    5\n",
       "Střešovice (Praha)                           5\n",
       "náměstí Curieových (Staré Město)             5\n",
       "náměstí Jana Palacha (Josefov)               5\n",
       "náměstí Svobody (Bubeneč)                    5\n",
       "Hlubočepy (Praha)                            4\n",
       "Kbely (Praha)                                4\n",
       "Klánovice (Praha)                            4\n",
       "Name: Film, dtype: int64"
      ]
     },
     "execution_count": 9,
     "metadata": {},
     "output_type": "execute_result"
    }
   ],
   "source": [
    "hcf[hcf[\"Město\"] == \"Praha\"].groupby(\"Lokace\")[\"Film\"].nunique().nlargest(50)"
   ]
  },
  {
   "cell_type": "markdown",
   "id": "c52cad94",
   "metadata": {},
   "source": [
    "## Rodiště herců a hereček"
   ]
  },
  {
   "cell_type": "markdown",
   "id": "fb654d23",
   "metadata": {},
   "source": [
    "Všechny filmy všech délek a typů."
   ]
  },
  {
   "cell_type": "code",
   "execution_count": 10,
   "id": "e14c2f23",
   "metadata": {},
   "outputs": [],
   "source": [
    "top100 = df.explode(\"Hrají\").groupby(\"Hrají\")[\"Film\"].nunique().nlargest(100).index.to_list()"
   ]
  },
  {
   "cell_type": "code",
   "execution_count": 11,
   "id": "276e0e8b",
   "metadata": {},
   "outputs": [],
   "source": [
    "top500 = df.explode(\"Hrají\").groupby(\"Hrají\")[\"Film\"].nunique().nlargest(500).index.to_list()"
   ]
  },
  {
   "cell_type": "markdown",
   "id": "67a6c3de",
   "metadata": {},
   "source": [
    "Města podle toho, kolik se v nich narodilo ze 100 nejobsazovanějších herců a hereček:"
   ]
  },
  {
   "cell_type": "code",
   "execution_count": 12,
   "id": "ec014cc9",
   "metadata": {},
   "outputs": [
    {
     "data": {
      "text/plain": [
       "Město narození\n",
       "Praha                         51\n",
       "Plzeň                          5\n",
       "Pelhřimov                      3\n",
       "Jičín                          2\n",
       "Kutná Hora                     2\n",
       "Pardubice                      2\n",
       "Adamov u Českých Budějovic     1\n",
       "Bozkov u Semil                 1\n",
       "Brno                           1\n",
       "Buštěhrad u Kladna             1\n",
       "Name: Jméno, dtype: int64"
      ]
     },
     "execution_count": 12,
     "metadata": {},
     "output_type": "execute_result"
    }
   ],
   "source": [
    "persony[persony[\"Jméno\"].isin(top100)].groupby(\"Město narození\")[\"Jméno\"].nunique().nlargest(10)"
   ]
  },
  {
   "cell_type": "markdown",
   "id": "d7241b77",
   "metadata": {},
   "source": [
    "### Plzeňáci z top 100"
   ]
  },
  {
   "cell_type": "code",
   "execution_count": 13,
   "id": "8a847ec1",
   "metadata": {},
   "outputs": [
    {
     "data": {
      "text/html": [
       "<div>\n",
       "<style scoped>\n",
       "    .dataframe tbody tr th:only-of-type {\n",
       "        vertical-align: middle;\n",
       "    }\n",
       "\n",
       "    .dataframe tbody tr th {\n",
       "        vertical-align: top;\n",
       "    }\n",
       "\n",
       "    .dataframe thead th {\n",
       "        text-align: right;\n",
       "    }\n",
       "</style>\n",
       "<table border=\"1\" class=\"dataframe\">\n",
       "  <thead>\n",
       "    <tr style=\"text-align: right;\">\n",
       "      <th></th>\n",
       "      <th>Jméno</th>\n",
       "      <th>Rok narození</th>\n",
       "    </tr>\n",
       "  </thead>\n",
       "  <tbody>\n",
       "    <tr>\n",
       "      <th>4775</th>\n",
       "      <td>František Kovářík (126912)</td>\n",
       "      <td>1886.0</td>\n",
       "    </tr>\n",
       "    <tr>\n",
       "      <th>5166</th>\n",
       "      <td>Růžena Šlemrová (127282)</td>\n",
       "      <td>1886.0</td>\n",
       "    </tr>\n",
       "    <tr>\n",
       "      <th>21528</th>\n",
       "      <td>Jindřich Plachta (5829)</td>\n",
       "      <td>1899.0</td>\n",
       "    </tr>\n",
       "    <tr>\n",
       "      <th>24356</th>\n",
       "      <td>František Kreuzmann (75624)</td>\n",
       "      <td>1895.0</td>\n",
       "    </tr>\n",
       "    <tr>\n",
       "      <th>27480</th>\n",
       "      <td>Ota Motyčka (81341)</td>\n",
       "      <td>1899.0</td>\n",
       "    </tr>\n",
       "  </tbody>\n",
       "</table>\n",
       "</div>"
      ],
      "text/plain": [
       "                             Jméno  Rok narození\n",
       "4775    František Kovářík (126912)        1886.0\n",
       "5166      Růžena Šlemrová (127282)        1886.0\n",
       "21528      Jindřich Plachta (5829)        1899.0\n",
       "24356  František Kreuzmann (75624)        1895.0\n",
       "27480          Ota Motyčka (81341)        1899.0"
      ]
     },
     "execution_count": 13,
     "metadata": {},
     "output_type": "execute_result"
    }
   ],
   "source": [
    "persony[(persony[\"Jméno\"].isin(top100) & (persony[\"Město narození\"] == \"Plzeň\"))][[\"Jméno\",\"Rok narození\"]]"
   ]
  },
  {
   "cell_type": "markdown",
   "id": "7b44ef64",
   "metadata": {},
   "source": [
    "### Pelhřimováci z top 100"
   ]
  },
  {
   "cell_type": "code",
   "execution_count": 14,
   "id": "64ad5787",
   "metadata": {},
   "outputs": [
    {
     "data": {
      "text/html": [
       "<div>\n",
       "<style scoped>\n",
       "    .dataframe tbody tr th:only-of-type {\n",
       "        vertical-align: middle;\n",
       "    }\n",
       "\n",
       "    .dataframe tbody tr th {\n",
       "        vertical-align: top;\n",
       "    }\n",
       "\n",
       "    .dataframe thead th {\n",
       "        text-align: right;\n",
       "    }\n",
       "</style>\n",
       "<table border=\"1\" class=\"dataframe\">\n",
       "  <thead>\n",
       "    <tr style=\"text-align: right;\">\n",
       "      <th></th>\n",
       "      <th>Jméno</th>\n",
       "      <th>Rok narození</th>\n",
       "    </tr>\n",
       "  </thead>\n",
       "  <tbody>\n",
       "    <tr>\n",
       "      <th>13821</th>\n",
       "      <td>Karel Hábl (27177)</td>\n",
       "      <td>1936.0</td>\n",
       "    </tr>\n",
       "    <tr>\n",
       "      <th>19618</th>\n",
       "      <td>Jiří Lír (4926)</td>\n",
       "      <td>1923.0</td>\n",
       "    </tr>\n",
       "    <tr>\n",
       "      <th>32334</th>\n",
       "      <td>Lubomír Lipský (9728)</td>\n",
       "      <td>1923.0</td>\n",
       "    </tr>\n",
       "  </tbody>\n",
       "</table>\n",
       "</div>"
      ],
      "text/plain": [
       "                       Jméno  Rok narození\n",
       "13821     Karel Hábl (27177)        1936.0\n",
       "19618        Jiří Lír (4926)        1923.0\n",
       "32334  Lubomír Lipský (9728)        1923.0"
      ]
     },
     "execution_count": 14,
     "metadata": {},
     "output_type": "execute_result"
    }
   ],
   "source": [
    "persony[(persony[\"Jméno\"].isin(top100) & (persony[\"Město narození\"] == \"Pelhřimov\"))][[\"Jméno\",\"Rok narození\"]]"
   ]
  },
  {
   "cell_type": "markdown",
   "id": "496798bc",
   "metadata": {},
   "source": [
    "Města podle toho, kolik se v nich narodilo z 500 nejobsazovanějších herců a hereček:"
   ]
  },
  {
   "cell_type": "code",
   "execution_count": 15,
   "id": "9b1396ff",
   "metadata": {},
   "outputs": [
    {
     "data": {
      "text/plain": [
       "Město narození\n",
       "Praha                                 223\n",
       "Plzeň                                  20\n",
       "Brno                                   10\n",
       "České Budějovice                        7\n",
       "Zlín                                    6\n",
       "Hradec Králové                          5\n",
       "Kutná Hora                              4\n",
       "Ostrava                                 4\n",
       "Pardubice                               4\n",
       "Třebíč                                  4\n",
       "Kroměříž                                3\n",
       "Liberec                                 3\n",
       "Mladá Boleslav                          3\n",
       "Pelhřimov                               3\n",
       "Prostějov                               3\n",
       "Příbram                                 3\n",
       "Bělá pod Bezdězem                       2\n",
       "Dvůr Králové nad Labem                  2\n",
       "Havlíčkův Brod                          2\n",
       "Holice                                  2\n",
       "Horní Suchá u Karviné                   2\n",
       "Hořice v Podkrkonoší                    2\n",
       "Jihlava                                 2\n",
       "Jičín                                   2\n",
       "Nová Včelnice u Kamenice nad Lipou      2\n",
       "Olomouc                                 2\n",
       "Vídeň                                   2\n",
       "Úvaly u Prahy                           2\n",
       "Adamov u Českých Budějovic              1\n",
       "Baumgartenberg u Mauthausenu            1\n",
       "Benešov u Prahy                         1\n",
       "Beroun                                  1\n",
       "Blovice u Plzně                         1\n",
       "Bohdaneč u Pardubic                     1\n",
       "Boskovice                               1\n",
       "Bozkov u Semil                          1\n",
       "Brandýs nad Labem                       1\n",
       "Bratřejov u Sedlčan                     1\n",
       "Buštěhrad u Kladna                      1\n",
       "Běchovice u Prahy                       1\n",
       "Name: Jméno, dtype: int64"
      ]
     },
     "execution_count": 15,
     "metadata": {},
     "output_type": "execute_result"
    }
   ],
   "source": [
    "persony[persony[\"Jméno\"].isin(top500)].groupby(\"Město narození\")[\"Jméno\"].nunique().nlargest(40)"
   ]
  },
  {
   "cell_type": "code",
   "execution_count": 16,
   "id": "62827bb0",
   "metadata": {},
   "outputs": [
    {
     "data": {
      "text/html": [
       "<div>\n",
       "<style scoped>\n",
       "    .dataframe tbody tr th:only-of-type {\n",
       "        vertical-align: middle;\n",
       "    }\n",
       "\n",
       "    .dataframe tbody tr th {\n",
       "        vertical-align: top;\n",
       "    }\n",
       "\n",
       "    .dataframe thead th {\n",
       "        text-align: right;\n",
       "    }\n",
       "</style>\n",
       "<table border=\"1\" class=\"dataframe\">\n",
       "  <thead>\n",
       "    <tr style=\"text-align: right;\">\n",
       "      <th></th>\n",
       "      <th>Jméno</th>\n",
       "      <th>Rok narození</th>\n",
       "    </tr>\n",
       "  </thead>\n",
       "  <tbody>\n",
       "    <tr>\n",
       "      <th>7356</th>\n",
       "      <td>Luděk Munzar (12942)</td>\n",
       "      <td>1933.0</td>\n",
       "    </tr>\n",
       "    <tr>\n",
       "      <th>19510</th>\n",
       "      <td>Rudolf Hrušínský st. (4842)</td>\n",
       "      <td>1920.0</td>\n",
       "    </tr>\n",
       "  </tbody>\n",
       "</table>\n",
       "</div>"
      ],
      "text/plain": [
       "                             Jméno  Rok narození\n",
       "7356          Luděk Munzar (12942)        1933.0\n",
       "19510  Rudolf Hrušínský st. (4842)        1920.0"
      ]
     },
     "execution_count": 16,
     "metadata": {},
     "output_type": "execute_result"
    }
   ],
   "source": [
    "persony[(persony[\"Jméno\"].isin(top500) & (persony[\"Město narození\"] == \"Nová Včelnice u Kamenice nad Lipou\"))][[\"Jméno\",\"Rok narození\"]]"
   ]
  },
  {
   "cell_type": "code",
   "execution_count": 17,
   "id": "910bc5d2",
   "metadata": {},
   "outputs": [
    {
     "data": {
      "text/html": [
       "<div>\n",
       "<style scoped>\n",
       "    .dataframe tbody tr th:only-of-type {\n",
       "        vertical-align: middle;\n",
       "    }\n",
       "\n",
       "    .dataframe tbody tr th {\n",
       "        vertical-align: top;\n",
       "    }\n",
       "\n",
       "    .dataframe thead th {\n",
       "        text-align: right;\n",
       "    }\n",
       "</style>\n",
       "<table border=\"1\" class=\"dataframe\">\n",
       "  <thead>\n",
       "    <tr style=\"text-align: right;\">\n",
       "      <th></th>\n",
       "      <th>Jméno</th>\n",
       "      <th>Rok narození</th>\n",
       "    </tr>\n",
       "  </thead>\n",
       "  <tbody>\n",
       "    <tr>\n",
       "      <th>4274</th>\n",
       "      <td>Jan Maška (126431)</td>\n",
       "      <td>1921.0</td>\n",
       "    </tr>\n",
       "    <tr>\n",
       "      <th>17111</th>\n",
       "      <td>Václav Trégl (35224)</td>\n",
       "      <td>1902.0</td>\n",
       "    </tr>\n",
       "  </tbody>\n",
       "</table>\n",
       "</div>"
      ],
      "text/plain": [
       "                      Jméno  Rok narození\n",
       "4274     Jan Maška (126431)        1921.0\n",
       "17111  Václav Trégl (35224)        1902.0"
      ]
     },
     "execution_count": 17,
     "metadata": {},
     "output_type": "execute_result"
    }
   ],
   "source": [
    "persony[(persony[\"Jméno\"].isin(top500) & (persony[\"Město narození\"] == \"Bělá pod Bezdězem\"))][[\"Jméno\",\"Rok narození\"]]"
   ]
  },
  {
   "cell_type": "code",
   "execution_count": 18,
   "id": "227151fd",
   "metadata": {},
   "outputs": [
    {
     "data": {
      "text/html": [
       "<div>\n",
       "<style scoped>\n",
       "    .dataframe tbody tr th:only-of-type {\n",
       "        vertical-align: middle;\n",
       "    }\n",
       "\n",
       "    .dataframe tbody tr th {\n",
       "        vertical-align: top;\n",
       "    }\n",
       "\n",
       "    .dataframe thead th {\n",
       "        text-align: right;\n",
       "    }\n",
       "</style>\n",
       "<table border=\"1\" class=\"dataframe\">\n",
       "  <thead>\n",
       "    <tr style=\"text-align: right;\">\n",
       "      <th></th>\n",
       "      <th>Jméno</th>\n",
       "      <th>Rok narození</th>\n",
       "    </tr>\n",
       "  </thead>\n",
       "  <tbody>\n",
       "    <tr>\n",
       "      <th>5376</th>\n",
       "      <td>Alois Dvorský (127491)</td>\n",
       "      <td>1883.0</td>\n",
       "    </tr>\n",
       "    <tr>\n",
       "      <th>20244</th>\n",
       "      <td>Stanislav Fišer (5344)</td>\n",
       "      <td>1931.0</td>\n",
       "    </tr>\n",
       "  </tbody>\n",
       "</table>\n",
       "</div>"
      ],
      "text/plain": [
       "                        Jméno  Rok narození\n",
       "5376   Alois Dvorský (127491)        1883.0\n",
       "20244  Stanislav Fišer (5344)        1931.0"
      ]
     },
     "execution_count": 18,
     "metadata": {},
     "output_type": "execute_result"
    }
   ],
   "source": [
    "persony[(persony[\"Jméno\"].isin(top500) & (persony[\"Město narození\"] == \"Hořice v Podkrkonoší\"))][[\"Jméno\",\"Rok narození\"]]"
   ]
  },
  {
   "cell_type": "code",
   "execution_count": 19,
   "id": "b8508004",
   "metadata": {
    "scrolled": true
   },
   "outputs": [
    {
     "data": {
      "text/html": [
       "<div>\n",
       "<style scoped>\n",
       "    .dataframe tbody tr th:only-of-type {\n",
       "        vertical-align: middle;\n",
       "    }\n",
       "\n",
       "    .dataframe tbody tr th {\n",
       "        vertical-align: top;\n",
       "    }\n",
       "\n",
       "    .dataframe thead th {\n",
       "        text-align: right;\n",
       "    }\n",
       "</style>\n",
       "<table border=\"1\" class=\"dataframe\">\n",
       "  <thead>\n",
       "    <tr style=\"text-align: right;\">\n",
       "      <th></th>\n",
       "      <th>Jméno</th>\n",
       "      <th>Rok narození</th>\n",
       "    </tr>\n",
       "  </thead>\n",
       "  <tbody>\n",
       "    <tr>\n",
       "      <th>1985</th>\n",
       "      <td>Jan Kačer (1165)</td>\n",
       "      <td>1936.0</td>\n",
       "    </tr>\n",
       "    <tr>\n",
       "      <th>17533</th>\n",
       "      <td>Václav Lohniský (36488)</td>\n",
       "      <td>1920.0</td>\n",
       "    </tr>\n",
       "  </tbody>\n",
       "</table>\n",
       "</div>"
      ],
      "text/plain": [
       "                         Jméno  Rok narození\n",
       "1985          Jan Kačer (1165)        1936.0\n",
       "17533  Václav Lohniský (36488)        1920.0"
      ]
     },
     "execution_count": 19,
     "metadata": {},
     "output_type": "execute_result"
    }
   ],
   "source": [
    "persony[(persony[\"Jméno\"].isin(top500) & (persony[\"Město narození\"] == \"Holice\"))][[\"Jméno\",\"Rok narození\"]][[\"Jméno\",\"Rok narození\"]]"
   ]
  },
  {
   "cell_type": "code",
   "execution_count": 20,
   "id": "6acc586c",
   "metadata": {},
   "outputs": [
    {
     "data": {
      "text/html": [
       "<div>\n",
       "<style scoped>\n",
       "    .dataframe tbody tr th:only-of-type {\n",
       "        vertical-align: middle;\n",
       "    }\n",
       "\n",
       "    .dataframe tbody tr th {\n",
       "        vertical-align: top;\n",
       "    }\n",
       "\n",
       "    .dataframe thead th {\n",
       "        text-align: right;\n",
       "    }\n",
       "</style>\n",
       "<table border=\"1\" class=\"dataframe\">\n",
       "  <thead>\n",
       "    <tr style=\"text-align: right;\">\n",
       "      <th></th>\n",
       "      <th>Jméno</th>\n",
       "      <th>Rok narození</th>\n",
       "    </tr>\n",
       "  </thead>\n",
       "  <tbody>\n",
       "    <tr>\n",
       "      <th>20685</th>\n",
       "      <td>Josef Střecha (55613)</td>\n",
       "      <td>1907.0</td>\n",
       "    </tr>\n",
       "    <tr>\n",
       "      <th>26363</th>\n",
       "      <td>Oleg Reif (7964)</td>\n",
       "      <td>1928.0</td>\n",
       "    </tr>\n",
       "  </tbody>\n",
       "</table>\n",
       "</div>"
      ],
      "text/plain": [
       "                       Jméno  Rok narození\n",
       "20685  Josef Střecha (55613)        1907.0\n",
       "26363       Oleg Reif (7964)        1928.0"
      ]
     },
     "execution_count": 20,
     "metadata": {},
     "output_type": "execute_result"
    }
   ],
   "source": [
    "persony[(persony[\"Jméno\"].isin(top500) & (persony[\"Město narození\"] == \"Úvaly u Prahy\"))][[\"Jméno\",\"Rok narození\"]]"
   ]
  },
  {
   "cell_type": "code",
   "execution_count": 21,
   "id": "e238cf98",
   "metadata": {},
   "outputs": [
    {
     "data": {
      "text/html": [
       "<div>\n",
       "<style scoped>\n",
       "    .dataframe tbody tr th:only-of-type {\n",
       "        vertical-align: middle;\n",
       "    }\n",
       "\n",
       "    .dataframe tbody tr th {\n",
       "        vertical-align: top;\n",
       "    }\n",
       "\n",
       "    .dataframe thead th {\n",
       "        text-align: right;\n",
       "    }\n",
       "</style>\n",
       "<table border=\"1\" class=\"dataframe\">\n",
       "  <thead>\n",
       "    <tr style=\"text-align: right;\">\n",
       "      <th></th>\n",
       "      <th>Jméno</th>\n",
       "      <th>Rok narození</th>\n",
       "    </tr>\n",
       "  </thead>\n",
       "  <tbody>\n",
       "    <tr>\n",
       "      <th>14641</th>\n",
       "      <td>Bronislav Poloczek (2877)</td>\n",
       "      <td>1939.0</td>\n",
       "    </tr>\n",
       "    <tr>\n",
       "      <th>20102</th>\n",
       "      <td>Marie Glázrová (5247)</td>\n",
       "      <td>1911.0</td>\n",
       "    </tr>\n",
       "  </tbody>\n",
       "</table>\n",
       "</div>"
      ],
      "text/plain": [
       "                           Jméno  Rok narození\n",
       "14641  Bronislav Poloczek (2877)        1939.0\n",
       "20102      Marie Glázrová (5247)        1911.0"
      ]
     },
     "execution_count": 21,
     "metadata": {},
     "output_type": "execute_result"
    }
   ],
   "source": [
    "persony[(persony[\"Jméno\"].isin(top500) & (persony[\"Město narození\"] == \"Horní Suchá u Karviné\"))][[\"Jméno\",\"Rok narození\"]]"
   ]
  },
  {
   "cell_type": "markdown",
   "id": "ece11ff8",
   "metadata": {},
   "source": [
    "### Úmrtí"
   ]
  },
  {
   "cell_type": "markdown",
   "id": "a33a03db",
   "metadata": {},
   "source": [
    "Místa úmrtí stovky nejobsazovanějších:"
   ]
  },
  {
   "cell_type": "code",
   "execution_count": 22,
   "id": "6a638f82",
   "metadata": {},
   "outputs": [
    {
     "data": {
      "text/plain": [
       "Město úmrtí\n",
       "Praha                               338\n",
       "Brno                                  5\n",
       "Plzeň                                 5\n",
       "Mělník                                3\n",
       "Nová Ves pod Pleší                    3\n",
       "Bratislava                            2\n",
       "Olomouc                               2\n",
       "Říčany u Prahy                        2\n",
       "Bořanovice u Prahy                    1\n",
       "Brandýs nad Labem                     1\n",
       "Hamburk                               1\n",
       "Hollenstedt                           1\n",
       "Hostivice u Prahy                     1\n",
       "Houštka u Mladé Boleslavi             1\n",
       "Hradec Králové                        1\n",
       "Jilemnice                             1\n",
       "Kalifornie                            1\n",
       "Karlovy Vary                          1\n",
       "Kladno                                1\n",
       "Kralupy nad Vltavou                   1\n",
       "Kytín                                 1\n",
       "Letovice u Blanska                    1\n",
       "Liberec                               1\n",
       "Libochovice u Roudnice nad Labem      1\n",
       "Mladá Vožice u Tábora                 1\n",
       "Mukařov u Prahy                       1\n",
       "Ostrava                               1\n",
       "Pardubice                             1\n",
       "Poděbrady                             1\n",
       "Písek                                 1\n",
       "Příbram                               1\n",
       "Slunečná u České Lípy                 1\n",
       "Split                                 1\n",
       "Svojšice u Kolína                     1\n",
       "Vrané nad Vltavou                     1\n",
       "Vrchlabí                              1\n",
       "Winnipeg                              1\n",
       "Zlín                                  1\n",
       "Záhřeb                                1\n",
       "koncentrační tábor Terezín            1\n",
       "Name: Jméno, dtype: int64"
      ]
     },
     "execution_count": 22,
     "metadata": {},
     "output_type": "execute_result"
    }
   ],
   "source": [
    "persony[persony[\"Jméno\"].isin(top500)].groupby(\"Město úmrtí\")[\"Jméno\"].nunique().nlargest(40)"
   ]
  },
  {
   "cell_type": "markdown",
   "id": "6752e4a6",
   "metadata": {},
   "source": [
    "Kdo umřel v Nové vsi:"
   ]
  },
  {
   "cell_type": "code",
   "execution_count": 44,
   "id": "df327ea6",
   "metadata": {},
   "outputs": [
    {
     "data": {
      "text/html": [
       "<div>\n",
       "<style scoped>\n",
       "    .dataframe tbody tr th:only-of-type {\n",
       "        vertical-align: middle;\n",
       "    }\n",
       "\n",
       "    .dataframe tbody tr th {\n",
       "        vertical-align: top;\n",
       "    }\n",
       "\n",
       "    .dataframe thead th {\n",
       "        text-align: right;\n",
       "    }\n",
       "</style>\n",
       "<table border=\"1\" class=\"dataframe\">\n",
       "  <thead>\n",
       "    <tr style=\"text-align: right;\">\n",
       "      <th></th>\n",
       "      <th>Jméno</th>\n",
       "      <th>Rok úmrtí</th>\n",
       "    </tr>\n",
       "  </thead>\n",
       "  <tbody>\n",
       "    <tr>\n",
       "      <th>797</th>\n",
       "      <td>Josef Somr (1054)</td>\n",
       "      <td>2022.0</td>\n",
       "    </tr>\n",
       "    <tr>\n",
       "      <th>13887</th>\n",
       "      <td>Věra Kalendová (27289)</td>\n",
       "      <td>2003.0</td>\n",
       "    </tr>\n",
       "    <tr>\n",
       "      <th>17893</th>\n",
       "      <td>Vladimír Brabec (3858)</td>\n",
       "      <td>2017.0</td>\n",
       "    </tr>\n",
       "  </tbody>\n",
       "</table>\n",
       "</div>"
      ],
      "text/plain": [
       "                        Jméno  Rok úmrtí\n",
       "797         Josef Somr (1054)     2022.0\n",
       "13887  Věra Kalendová (27289)     2003.0\n",
       "17893  Vladimír Brabec (3858)     2017.0"
      ]
     },
     "execution_count": 44,
     "metadata": {},
     "output_type": "execute_result"
    }
   ],
   "source": [
    "persony[(persony[\"Jméno\"].isin(top500) & (persony[\"Město úmrtí\"] == \"Nová Ves pod Pleší\"))][[\"Jméno\",\"Rok úmrtí\"]]"
   ]
  },
  {
   "cell_type": "markdown",
   "id": "1b1ef227",
   "metadata": {},
   "source": [
    "## Rodiště režisérů"
   ]
  },
  {
   "cell_type": "markdown",
   "id": "df90d7a3",
   "metadata": {},
   "source": [
    "Stovka nejproduktivnějších režisérů:"
   ]
  },
  {
   "cell_type": "code",
   "execution_count": 45,
   "id": "6567775f",
   "metadata": {},
   "outputs": [],
   "source": [
    "top100r = df.explode(\"Režie\").groupby(\"Režie\")[\"Film\"].nunique().nlargest(100).index.to_list()"
   ]
  },
  {
   "cell_type": "code",
   "execution_count": 46,
   "id": "4947f0d6",
   "metadata": {},
   "outputs": [
    {
     "data": {
      "text/plain": [
       "Město narození\n",
       "Praha                          41\n",
       "Brno                            3\n",
       "Kladno                          3\n",
       "Plzeň                           3\n",
       "Ostrava                         2\n",
       "Prostějov                       2\n",
       "České Budějovice                2\n",
       "Český Těšín                     2\n",
       "Berlín                          1\n",
       "Bratislava                      1\n",
       "Březové Hory u Příbrami         1\n",
       "Chrudim                         1\n",
       "Dobrošov u Náchoda              1\n",
       "Dobřany                         1\n",
       "Dolní Lukavice                  1\n",
       "Dolní Štěpanice u Jilemnice     1\n",
       "Hradec Králové                  1\n",
       "Karlovy Vary                    1\n",
       "Katovice u Strakonic            1\n",
       "Kelč u Valašského Meziříčí      1\n",
       "Kežmarok                        1\n",
       "Ledeč nad Sázavou               1\n",
       "Lomnice nad Popelkou            1\n",
       "Lublaň                          1\n",
       "Michalovce u Humenné            1\n",
       "Mladá Boleslav                  1\n",
       "Moravské Budějovice             1\n",
       "Moskva                          1\n",
       "Mělník                          1\n",
       "Náchod                          1\n",
       "Nýřany u Plzně                  1\n",
       "Opava                           1\n",
       "Pelhřimov                       1\n",
       "Piešťany                        1\n",
       "Písek                           1\n",
       "Sarajevo                        1\n",
       "Strakonice                      1\n",
       "Sušice na Šumavě                1\n",
       "Tišnov                          1\n",
       "Turnov                          1\n",
       "Name: Jméno, dtype: int64"
      ]
     },
     "execution_count": 46,
     "metadata": {},
     "output_type": "execute_result"
    }
   ],
   "source": [
    "persony[persony[\"Jméno\"].isin(top100r)].groupby(\"Město narození\")[\"Jméno\"].nunique().nlargest(40)"
   ]
  },
  {
   "cell_type": "code",
   "execution_count": 47,
   "id": "c4218672",
   "metadata": {},
   "outputs": [
    {
     "data": {
      "text/html": [
       "<div>\n",
       "<style scoped>\n",
       "    .dataframe tbody tr th:only-of-type {\n",
       "        vertical-align: middle;\n",
       "    }\n",
       "\n",
       "    .dataframe tbody tr th {\n",
       "        vertical-align: top;\n",
       "    }\n",
       "\n",
       "    .dataframe thead th {\n",
       "        text-align: right;\n",
       "    }\n",
       "</style>\n",
       "<table border=\"1\" class=\"dataframe\">\n",
       "  <thead>\n",
       "    <tr style=\"text-align: right;\">\n",
       "      <th></th>\n",
       "      <th>Jméno</th>\n",
       "      <th>Rok narození</th>\n",
       "    </tr>\n",
       "  </thead>\n",
       "  <tbody>\n",
       "    <tr>\n",
       "      <th>9840</th>\n",
       "      <td>Jiří Svoboda (1703)</td>\n",
       "      <td>1945.0</td>\n",
       "    </tr>\n",
       "    <tr>\n",
       "      <th>19627</th>\n",
       "      <td>Zdenek Sirový (4935)</td>\n",
       "      <td>1932.0</td>\n",
       "    </tr>\n",
       "    <tr>\n",
       "      <th>25975</th>\n",
       "      <td>Antonín Kachlík (7880)</td>\n",
       "      <td>1923.0</td>\n",
       "    </tr>\n",
       "  </tbody>\n",
       "</table>\n",
       "</div>"
      ],
      "text/plain": [
       "                        Jméno  Rok narození\n",
       "9840      Jiří Svoboda (1703)        1945.0\n",
       "19627    Zdenek Sirový (4935)        1932.0\n",
       "25975  Antonín Kachlík (7880)        1923.0"
      ]
     },
     "execution_count": 47,
     "metadata": {},
     "output_type": "execute_result"
    }
   ],
   "source": [
    "persony[(persony[\"Jméno\"].isin(top100r)) & (persony[\"Město narození\"] == \"Kladno\")][[\"Jméno\",\"Rok narození\"]]"
   ]
  },
  {
   "cell_type": "code",
   "execution_count": 48,
   "id": "57270f24",
   "metadata": {},
   "outputs": [
    {
     "data": {
      "text/html": [
       "<div>\n",
       "<style scoped>\n",
       "    .dataframe tbody tr th:only-of-type {\n",
       "        vertical-align: middle;\n",
       "    }\n",
       "\n",
       "    .dataframe tbody tr th {\n",
       "        vertical-align: top;\n",
       "    }\n",
       "\n",
       "    .dataframe thead th {\n",
       "        text-align: right;\n",
       "    }\n",
       "</style>\n",
       "<table border=\"1\" class=\"dataframe\">\n",
       "  <thead>\n",
       "    <tr style=\"text-align: right;\">\n",
       "      <th></th>\n",
       "      <th>Jméno</th>\n",
       "      <th>Rok narození</th>\n",
       "    </tr>\n",
       "  </thead>\n",
       "  <tbody>\n",
       "    <tr>\n",
       "      <th>17355</th>\n",
       "      <td>Milan Cieslar (3593)</td>\n",
       "      <td>1960.0</td>\n",
       "    </tr>\n",
       "    <tr>\n",
       "      <th>20011</th>\n",
       "      <td>František Vláčil (5191)</td>\n",
       "      <td>1924.0</td>\n",
       "    </tr>\n",
       "  </tbody>\n",
       "</table>\n",
       "</div>"
      ],
      "text/plain": [
       "                         Jméno  Rok narození\n",
       "17355     Milan Cieslar (3593)        1960.0\n",
       "20011  František Vláčil (5191)        1924.0"
      ]
     },
     "execution_count": 48,
     "metadata": {},
     "output_type": "execute_result"
    }
   ],
   "source": [
    "persony[(persony[\"Jméno\"].isin(top100r)) & (persony[\"Město narození\"] == \"Český Těšín\")][[\"Jméno\",\"Rok narození\"]]"
   ]
  }
 ],
 "metadata": {
  "kernelspec": {
   "display_name": "Python 3 (ipykernel)",
   "language": "python",
   "name": "python3"
  },
  "language_info": {
   "codemirror_mode": {
    "name": "ipython",
    "version": 3
   },
   "file_extension": ".py",
   "mimetype": "text/x-python",
   "name": "python",
   "nbconvert_exporter": "python",
   "pygments_lexer": "ipython3",
   "version": "3.10.8"
  }
 },
 "nbformat": 4,
 "nbformat_minor": 5
}
