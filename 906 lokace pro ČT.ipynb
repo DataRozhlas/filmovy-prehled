{
 "cells": [
  {
   "cell_type": "markdown",
   "id": "e570283d",
   "metadata": {},
   "source": [
    "Zdroj dat: databáze Filmový přehled Národního filmového archivu."
   ]
  },
  {
   "cell_type": "code",
   "execution_count": 1,
   "id": "c1736445",
   "metadata": {
    "scrolled": true
   },
   "outputs": [
    {
     "name": "stdout",
     "output_type": "stream",
     "text": [
      "2023/06/02 09:25:04 z 4555 řádků odstraněno 133. Aktuální dataframe má 4422 řádků.\n"
     ]
    }
   ],
   "source": [
    "import os\n",
    "import json\n",
    "import pandas as pd\n",
    "from src.vycisti import vycisti\n",
    "pd.set_option('display.max_columns', None)\n",
    "df = pd.read_json(os.path.join(\"data\", \"filmy.json\"))\n",
    "with open(os.path.join(\"data_fixes\", \"opravy.json\"), encoding=\"utf-8\") as opravy:\n",
    "    opravy = json.loads(opravy.read())\n",
    "with open(os.path.join(\"data_fixes\", \"seznamy.json\"), encoding=\"utf-8\") as seznamy:\n",
    "    seznamy = json.loads(seznamy.read())\n",
    "df = vycisti(df, opravy)"
   ]
  },
  {
   "cell_type": "code",
   "execution_count": 2,
   "id": "3eb066d0",
   "metadata": {},
   "outputs": [],
   "source": [
    "persony = pd.read_json(os.path.join(\"data\", \"persony.json\")).drop_duplicates()"
   ]
  },
  {
   "cell_type": "code",
   "execution_count": 3,
   "id": "74aa80ce",
   "metadata": {},
   "outputs": [],
   "source": [
    "df = df.explode(\"Lokace\")"
   ]
  },
  {
   "cell_type": "code",
   "execution_count": 4,
   "id": "e0d0d16d",
   "metadata": {},
   "outputs": [],
   "source": [
    "df[\"Lokace\"] = df[\"Lokace\"].apply(lambda x: x.split(\", \") if isinstance(x, str) else x)"
   ]
  },
  {
   "cell_type": "code",
   "execution_count": 5,
   "id": "df613067",
   "metadata": {},
   "outputs": [],
   "source": [
    "df = df.explode(\"Lokace\")"
   ]
  },
  {
   "cell_type": "code",
   "execution_count": 6,
   "id": "c1be796b",
   "metadata": {},
   "outputs": [],
   "source": [
    "def mesto(lokace):\n",
    "    \n",
    "    if isinstance(lokace, str):\n",
    "    \n",
    "        if \"(\" in lokace:\n",
    "\n",
    "            zavorka = lokace.split(\"(\")[1].replace(\")\",\"\").strip()\n",
    "\n",
    "            if zavorka in seznamy[\"praha\"]:\n",
    "\n",
    "                mesto = \"Praha\"\n",
    "\n",
    "            elif zavorka == \"Česká republika\":\n",
    "                \n",
    "                mesto = lokace.split(\"(\")[0].strip()\n",
    "            \n",
    "            else:\n",
    "\n",
    "                mesto = zavorka\n",
    "\n",
    "        else:\n",
    "            \n",
    "            mesto = lokace\n",
    "            \n",
    "        if \"Česká republika, \" in mesto:\n",
    "                \n",
    "            mesto = mesto.split(\",\")[1].strip()\n",
    "            \n",
    "    else:\n",
    "\n",
    "        mesto = lokace         \n",
    "        \n",
    "    return(mesto)"
   ]
  },
  {
   "cell_type": "code",
   "execution_count": 7,
   "id": "81994a1a",
   "metadata": {},
   "outputs": [],
   "source": [
    "df[\"Město\"] = df[\"Lokace\"].apply(lambda x: mesto(x))"
   ]
  },
  {
   "cell_type": "markdown",
   "id": "6b3da36b",
   "metadata": {},
   "source": [
    "## Jak jsou data vyplněná"
   ]
  },
  {
   "cell_type": "code",
   "execution_count": 8,
   "id": "4e4ebc94",
   "metadata": {},
   "outputs": [
    {
     "data": {
      "text/plain": [
       "<AxesSubplot:xlabel='Copyright'>"
      ]
     },
     "execution_count": 8,
     "metadata": {},
     "output_type": "execute_result"
    },
    {
     "data": {
      "image/png": "[encoded data removed]",
      "text/plain": [
       "<Figure size 1440x360 with 1 Axes>"
      ]
     },
     "metadata": {
      "needs_background": "light"
     },
     "output_type": "display_data"
    }
   ],
   "source": [
    "df[~df[\"Město\"].isnull()].groupby(\"Copyright\")[\"Film\"].nunique().plot.bar(figsize=(20,5))"
   ]
  },
  {
   "cell_type": "markdown",
   "id": "d1cc41a5",
   "metadata": {},
   "source": [
    "Budeme proto raději kalkulovat hlavně s filmy posledních 10 let."
   ]
  },
  {
   "cell_type": "markdown",
   "id": "d1b416ef",
   "metadata": {},
   "source": [
    "## Nejčastější lokace"
   ]
  },
  {
   "cell_type": "markdown",
   "id": "3eb5d21a",
   "metadata": {},
   "source": [
    "České celovečerní hrané filmy od r. 2013 včetně:"
   ]
  },
  {
   "cell_type": "code",
   "execution_count": 9,
   "id": "a427b1e7",
   "metadata": {},
   "outputs": [],
   "source": [
    "hcf = df[df[\"Délka\"] == \"dlouhometrážní\"].explode(\"Typologie\")\n",
    "hcf = hcf[hcf[\"Typologie\"] == \"hraný\"]\n",
    "hcf = hcf[hcf[\"Copyright\"] >= 2013]"
   ]
  },
  {
   "cell_type": "markdown",
   "id": "cbe53eb4",
   "metadata": {},
   "source": [
    "Pořadí měst podle počtu natáčených filmů:"
   ]
  },
  {
   "cell_type": "code",
   "execution_count": 10,
   "id": "81b8884f",
   "metadata": {},
   "outputs": [
    {
     "data": {
      "text/plain": [
       "Město\n",
       "Praha                   164\n",
       "Česká republika          80\n",
       "Slovensko                47\n",
       "Brno                     11\n",
       "Kladno                   11\n",
       "Jaroměř                  10\n",
       "Mělník                   10\n",
       "Bratislava                9\n",
       "Beroun                    8\n",
       "Rakousko                  8\n",
       "Zlín                      8\n",
       "Hradec Králové            7\n",
       "Mladá Boleslav            7\n",
       "Plzeň                     7\n",
       "Karlovy Vary              6\n",
       "Liberec                   6\n",
       "Litoměřice                6\n",
       "Olomouc                   6\n",
       "Ostrava                   6\n",
       "Ústí nad Labem            6\n",
       "Černošice                 6\n",
       "Brandýs nad Labem         5\n",
       "Brdy                      5\n",
       "Francie                   5\n",
       "Holašovice                5\n",
       "Veltrusy                  5\n",
       "Doksy                     4\n",
       "Hluboká nad Vltavou       4\n",
       "Itálie                    4\n",
       "Kolín                     4\n",
       "Krkonoše                  4\n",
       "Králův Dvůr               4\n",
       "Mikulov                   4\n",
       "Netolice                  4\n",
       "Německo                   4\n",
       "Polsko                    4\n",
       "Příbram                   4\n",
       "Slaný                     4\n",
       "Slapy                     4\n",
       "Terezín                   4\n",
       "Český Krumlov             4\n",
       "Šumava                    4\n",
       "Dobčice                   3\n",
       "Dunaj                     3\n",
       "Dříteň                    3\n",
       "Hartmanice                3\n",
       "Kanárské ostrovy          3\n",
       "Kokořínsko                3\n",
       "Kouřim                    3\n",
       "Kralupy nad Vltavou       3\n",
       "Lužná u Rakovníka         3\n",
       "Lysá nad Labem            3\n",
       "Norsko                    3\n",
       "Náchod                    3\n",
       "Pardubice                 3\n",
       "Pezinok                   3\n",
       "Pištín                    3\n",
       "Poděbrady                 3\n",
       "Přerov nad Labem          3\n",
       "Rožnov pod Radhoštěm      3\n",
       "Name: Film, dtype: int64"
      ]
     },
     "execution_count": 10,
     "metadata": {},
     "output_type": "execute_result"
    }
   ],
   "source": [
    "hcf.groupby(\"Město\")[\"Film\"].nunique().nlargest(60)"
   ]
  },
  {
   "cell_type": "code",
   "execution_count": 11,
   "id": "8151fced",
   "metadata": {},
   "outputs": [],
   "source": [
    "top_mesta = hcf.groupby(\"Město\")[\"Film\"].nunique().nlargest(60)\n",
    "top_mesta = top_mesta[top_mesta >= 4]\n",
    "nemesta = [\"Praha\",\"Česká republika\",\"Slovensko\",\"Bratislava\",\"Rakousko\",\"Německo\",\"Itálie\",\"Polsko\",\"Norsko\",\"Dunaj\"]\n",
    "top_mesta = [x for x in top_mesta.index.to_list() if x not in nemesta]"
   ]
  },
  {
   "cell_type": "markdown",
   "id": "7c895970",
   "metadata": {},
   "source": [
    "Kompletní seznam filmů a lokací ve městech:"
   ]
  },
  {
   "cell_type": "code",
   "execution_count": 12,
   "id": "45619341",
   "metadata": {},
   "outputs": [
    {
     "name": "stdout",
     "output_type": "stream",
     "text": [
      "BRNO:\n",
      "ZEJTRA NAPOŘÁD (400555) | Lokality: Brno (Česká republika)\n",
      "LÍDA BAAROVÁ (400696) | Lokality: Brno (Česká republika), Národní divadlo – Mahenovo divadlo (Brno), Černá Pole (Brno), Pisárky (Brno)\n",
      "KOMICI S.R.O. THE TOUR (401731) | Lokality: Brno\n",
      "VŠECHNO BUDE FAJN! (401386) | Lokality: Brno\n",
      "PEPA (401760) | Lokality: Brno (Česká republika)\n",
      "ALENKA V ZEMI ZÁZRAKŮ (401746) | Lokality: Brno (Česká republika), hlavní nádraží (Brno), Mendlovo náměstí (Brno), Opatství svatého Tomáše /Starobrněnský klášter/ (Brno), Jakubské náměstí (Brno), kostel sv. Jakuba Staršího (Brno), Petrov (Brno), katedrála sv. Petra a Pavla (Brno), Kraví hora (Brno), hvězdárna a planetárium (Brno), Výstaviště (Brno), Jihlavská ulice (Brno), krematorium (Brno), Ústřední hřbitov (Brno)\n",
      "NABARVENÉ PTÁČE (401962) | Lokality: Brno (Česká republika), ulice Cejl (Brno)\n",
      "SKLENĚNÝ POKOJ (401929) | Lokality: Brno (Česká republika), Výstaviště (Brno), Černá Pole (Brno), Vila Tugendhat (Brno), Pisárky (Brno), Vila Stiassni (Brno), Zelný trh (Brno)\n",
      "MODELÁŘ (402079) | Lokality: Brno (Česká republika), přehrada (Brno), most pod hradem Veveří (Brno), Gorkého ulice (Brno), Zelný trh (Brno), Dominikánská ulice (Brno), Eleven club /interiér/ (Brno), Kounicova ulice (Brno), klub Melodka /interiér/ (Brno), Výstaviště (Brno)\n",
      "MARŤANSKÉ LODĚ (402153) | Lokality: Brno (Česká republika), hlavní nádraží (Brno), hala Malá Amerika (Brno), Kopečná ulice (Brno), Sukova ulice (Brno), Běhounská ulice (Brno), Pisárecká ulice (Brno), Pekařská ulice (Brno), Dominikánské náměstí (Brno), ulice Dornych (Brno), Jezuitská ulice (Brno), Malinovského náměstí (Brno), Váchova ulice (Brno), Lipová ulice (Brno), Zábrdovická ulice (Brno), Dolní Heršpice (Brno), Ořešín (Brno)\n",
      "SHOKY & MORTHY: POSLEDNÍ VELKÁ AKCE (402158) | Lokality: Brno, Výstaviště (Brno), ulice Koliště (Brno), Božetěchova ulice (Brno)\n",
      "***\n",
      "KLADNO:\n",
      "PŘÍBĚH KMOTRA (400552) | Lokality: Kladno\n",
      "ROZKOŠ (398432) | Lokality: Kladno, Sládečkovo vlastivědné muzeum (Kladno)\n",
      "REVIVAL (398431) | Lokality: Kladno\n",
      "KOBRY A UŽOVKY (400584) | Lokality: Kladno\n",
      "JAK BÁSNÍCI ČEKAJÍ NA ZÁZRAK (400776) | Lokality: Kladno\n",
      "PEPA (401760) | Lokality: Kladno (Česká republika)\n",
      "HRA (402000) | Lokality: Kladno, Divadelní ulice (Kladno), Ctiborova ulice (Kladno)\n",
      "MSTITEL (402140) | Lokality: Kladno (Česká republika), vrakoviště (Kladno)\n",
      "GUMP – PES, KTERÝ NAUČIL LIDI ŽÍT (402147) | Lokality: Kladno, Slánská ulice (Kladno)\n",
      "OKUPACE (402157) | Lokality: Kladno, bývalá továrna Poldi (Kladno)\n",
      "MĚSTO (402235) | Lokality: Kladno, Vančurova ulice (Kladno)\n",
      "***\n",
      "JAROMĚŘ:\n",
      "NĚŽNÉ VLNY (400551) | Lokality: Jaroměř, most Komenského (Jaroměř)\n",
      "WILSONOV (400602) | Lokality: Jaroměř (Česká republika)\n",
      "ZAHRADNICTVÍ: RODINNÝ PŘÍTEL (401671) | Lokality: Jaroměř (Česká republika), ulice (Jaroměř), železniční výtopna (Jaroměř)\n",
      "ZAHRADNICTVÍ: NÁPADNÍK (401672) | Lokality: Jaroměř (Česká republika)\n",
      "ZAHRADNICTVÍ: DEZERTÉR (401670) | Lokality: Jaroměř (Česká republika)\n",
      "NABARVENÉ PTÁČE (401962) | Lokality: Jaroměř (Česká republika)\n",
      "V ZAJETÍ SÍTĚ (401999) | Lokality: Jaroměř, Josefov (Jaroměř)\n",
      "HAVEL (402069) | Lokality: Jaroměř, Josefov (Jaroměř), Okružní ulice (Jaroměř), Nemocniční ulice (Jaroměř), Jungmannova ulice (Jaroměř), Komenského ulice (Jaroměř), Duškova ulice (Jaroměř), Traxlerova ulice (Jaroměř), Zmítkova ulice (Jaroměř), ulice Doktora Reyla (Jaroměř)\n",
      "ŠARLATÁN (402092) | Lokality: Jaroměř\n",
      "CASTING NA LÁSKU (402062) | Lokality: Jaroměř, Palackého ulice (Jaroměř)\n",
      "***\n",
      "MĚLNÍK:\n",
      "DONŠAJNI (398411) | Lokality: Mělník\n",
      "NĚŽNÉ VLNY (400551) | Lokality: Mělník\n",
      "HOŘÍCÍ KEŘ (398412) | Lokality: Mělník\n",
      "BONY A KLID 2 (400547) | Lokality: Mělník\n",
      "VÁNOČNÍ KAMEŇÁK (400600) | Lokality: Mělník\n",
      "MANŽEL NA HODINU (401145) | Lokality: Mělník, Olešno (Mělník)\n",
      "JAK BÁSNÍCI ČEKAJÍ NA ZÁZRAK (400776) | Lokality: Mělník\n",
      "NA KRÁTKO (401757) | Lokality: Mělník (Česká republika)\n",
      "TÁTOVA VOLHA (401758) | Lokality: Mělník (Česká republika)\n",
      "MODELÁŘ (402079) | Lokality: Mělník (Česká republika), přístav (Mělník), ulice Celní (Mělník)\n",
      "ŠARLATÁN (402092) | Lokality: \n",
      "***\n",
      "BEROUN:\n",
      "ZEJTRA NAPOŘÁD (400555) | Lokality: Beroun (Česká republika)\n",
      "RUDÝ KAPITÁN (400698) | Lokality: Beroun (Česká republika)\n",
      "ZLODĚJI ZELENÝCH KONÍ (400792) | Lokality: Beroun\n",
      "ČERTÍ BRKO (401838) | Lokality: Beroun (Česká republika), lom Alkazar (Beroun)\n",
      "POSLOUCHEJ (402077) | Lokality: Beroun, Hostim (Beroun), Hředle u Berouna (Beroun)\n",
      "KAREL, JÁ A TY (402006) | Lokality: \n",
      "ŠTĚSTÍ JE KRÁSNÁ VĚC (402100) | Lokality: \n",
      "CHLAP NA STŘÍDAČKU (402037) | Lokality: Beroun, Wagnerovo náměstí (Beroun)\n",
      "DRAČÍ PRINCEZNA (402241) | Lokality: Beroun, okolí (Beroun)\n",
      "CHYBY (402143) | Lokality: Beroun (Česká republika)\n",
      "***\n",
      "ZLÍN:\n",
      "DOMÁCÍ PÉČE (400580) | Lokality: Zlín (Česká republika), Krajská nemocnice Zlín (Zlín)\n",
      "KOMICI S.R.O. THE TOUR (401731) | Lokality: Zlín\n",
      "ÚSMĚVY SMUTNÝCH MUŽŮ (401749) | Lokality: Zlín (Česká republika), Kudlov (Zlín)\n",
      "MŮJ PŘÍBĚH (402042) | Lokality: Zlín, Vavrečkova ulice (Zlín)\n",
      "HODINÁŘŮV UČEŇ (401938) | Lokality: Zlín, okolí (Zlín)\n",
      "SMEČKA (402099) | Lokality: Zlín, panoráma (Zlín), Březnická ulice (Zlín), Broučkova ulice (Zlín), ulice Za Úvozem (Zlín), Luční ulice (Zlín), Jižní Svahy (Zlín)\n",
      "ZPRÁVA O ZÁCHRANĚ MRTVÉHO (402179) | Lokality: Zlín, Havlíčkovo nábřeží (Zlín), Krajská nemocnice Tomáše Bati /interiér/ (Zlín)\n",
      "ATLAS PTÁKŮ (402154) | Lokality: Zlín (Česká republika), Havlíčkovo nábřeží (Zlín)\n",
      "***\n",
      "HRADEC KRÁLOVÉ:\n",
      "GANGSTER KA: AFRIČAN (400868) | Lokality: Hradec Králové (Česká republika)\n",
      "KOMICI S.R.O. THE TOUR (401731) | Lokality: Hradec Králové\n",
      "MILADA (401275) | Lokality: Hradec Králové, okolí (Hradec Králové)\n",
      "BÁBA Z LEDU (401257) | Lokality: Hradec Králové (Česká republika)\n",
      "ZLATÝ PODRAZ (401841) | Lokality: Hradec Králové, nádraží (Hradec Králové)\n",
      "NARUŠITEL (401858) | Lokality: Hradec Králové, Hradební ulice (Hradec Králové)\n",
      "V ZAJETÍ SÍTĚ (401999) | Lokality: Hradec Králové, Piletická ulice (Hradec Králové)\n",
      "***\n",
      "MLADÁ BOLESLAV:\n",
      "LÍDA BAAROVÁ (400696) | Lokality: Mladá Boleslav (Česká republika), Viničná ulice (Mladá Boleslav)\n",
      "KOMICI S.R.O. THE TOUR (401731) | Lokality: Mladá Boleslav\n",
      "MILADA (401275) | Lokality: Mladá Boleslav, Viničná ulice (Mladá Boleslav)\n",
      "ZLATÝ PODRAZ (401841) | Lokality: Mladá Boleslav, Viničná ulice (Mladá Boleslav), Palackého ulice (Mladá Boleslav)\n",
      "NABARVENÉ PTÁČE (401962) | Lokality: \n",
      "AMNESTIE (401937) | Lokality: Mladá Boleslav (Česká republika), Viničná ulice (Mladá Boleslav)\n",
      "ŠARLATÁN (402092) | Lokality: Mladá Boleslav, Viničná ulice (Mladá Boleslav), náměstí Republiky (Mladá Boleslav)\n",
      "ATLAS PTÁKŮ (402154) | Lokality: Mladá Boleslav (Česká republika), náměstí Republiky (Mladá Boleslav)\n",
      "***\n",
      "PLZEŇ:\n",
      "ZEJTRA NAPOŘÁD (400555) | Lokality: Plzeň (Česká republika)\n",
      "DECIBELY LÁSKY (400728) | Lokality: Plzeň\n",
      "KOMICI S.R.O. THE TOUR (401731) | Lokality: Plzeň\n",
      "BÁBA Z LEDU (401257) | Lokality: Plzeň (Česká republika), rybník Bolevák (Plzeň)\n",
      "SKLENĚNÝ POKOJ (401929) | Lokality: Plzeň (Česká republika), Klatovská třída (Plzeň)\n",
      "PRVOK, ŠAMPÓN, TEČKA A KAREL (402144) | Lokality: Plzeň, Anglické nábřeží (Plzeň), Šeříková ulice (Plzeň), ulice U Letiště (Plzeň)\n",
      "KRYŠTOF (402155) | Lokality: Plzeň (Česká republika), ulice Kopeckého sady (Plzeň)\n",
      "***\n",
      "KARLOVY VARY:\n",
      "KOMICI S.R.O. THE TOUR (401731) | Lokality: Karlovy Vary\n",
      "VLK Z KRÁLOVSKÝCH VINOHRAD (400951) | Lokality: Karlovy Vary (Česká republika), Mírové náměstí (Karlovy Vary), Mariánskolázeňská ulice (Karlovy Vary), ulice I. P. Pavlova (Karlovy Vary)\n",
      "ABSENCE BLÍZKOSTI (401273) | Lokality: \n",
      "PŘÁNÍ K MÁNÍ (401732) | Lokality: Karlovy Vary, hotel Imperial (Karlovy Vary), Národní dům (Karlovy Vary)\n",
      "TEN, KDO TĚ MILOVAL (401842) | Lokality: Karlovy Vary\n",
      "STAŘÍCI (401990) | Lokality: Karlovy Vary, letiště /interiér/ (Karlovy Vary)\n",
      "ZBOŽŇOVANÝ (402183) | Lokality: Karlovy Vary\n",
      "***\n",
      "LIBEREC:\n",
      "KŘÍDLA VÁNOC (398421) | Lokality: Liberec\n",
      "LÍBÁNKY (398422) | Lokality: Liberec\n",
      "LOVCI A OBĚTI (400587) | Lokality: Liberec\n",
      "KOMICI S.R.O. THE TOUR (401731) | Lokality: Liberec\n",
      "MILADA (401275) | Lokality: Liberec, Liberecká radnice /interiér/ (Liberec)\n",
      "KRYŠTOF (402155) | Lokality: Liberec (Česká republika), Horní Růžodol (Liberec), nádraží (Liberec)\n",
      "***\n",
      "LITOMĚŘICE:\n",
      "MÍSTA (400614) | Lokality: Litoměřice\n",
      "KOZA (400585) | Lokality: Litoměřice (Česká republika)\n",
      "DVOJNÍCI (400694) | Lokality: Litoměřice\n",
      "JAK BÁSNÍCI ČEKAJÍ NA ZÁZRAK (400776) | Lokality: Litoměřice\n",
      "8 HLAV ŠÍLENSTVÍ (401655) | Lokality: Litoměřice\n",
      "PŘÍPAD MRTVÉHO NEBOŽTÍKA (402009) | Lokality: Litoměřice, Žitenická ulice (Litoměřice)\n",
      "***\n",
      "OLOMOUC:\n",
      "RUDÝ KAPITÁN (400698) | Lokality: Olomouc (Česká republika)\n",
      "MILUJI TĚ MODŘE (401205) | Lokality: Olomouc (Česká republika)\n",
      "KVARTETO (401673) | Lokality: Olomouc, Univerzitní ulice (Olomouc), Kosinova ulice (Olomouc), Dolní náměstí (Olomouc), Uhelná ulice (Olomouc), Ztracená ulice (Olomouc), Horní náměstí (Olomouc), Michalská ulice (Olomouc), Sušilovo náměstí (Olomouc), Palackého ulice (Olomouc), třída 1. máje (Olomouc), Václavské náměstí (Olomouc), Přemyslovský palác (Olomouc), Křížkovského ulice (Olomouc), Vojenská nemocnice (Olomouc), Ústřední hřbitov Neředín (Olomouc), Moravské divadlo Olomouc (Olomouc), ulice 28. října (Olomouc), Denisova ulice (Olomouc), Pekařská ulice (Olomouc), Opletalova ulice (Olomouc)\n",
      "PŘÍPAD MRTVÉHO NEBOŽTÍKA (402009) | Lokality: Olomouc, ulice (Olomouc), Křížkovského ulice (Olomouc), Univerzitní ulice (Olomouc), Hněvotínská ulice (Olomouc), Fischerova ulice (Olomouc), Norská ulice (Olomouc), ulice 1. máje (Olomouc)\n",
      "ZPRÁVA O ZÁCHRANĚ MRTVÉHO (402179) | Lokality: Olomouc, ulice I. P. Pavlova (Olomouc), Fakultní nemocnice Olomouc /i interiér/ (Olomouc)\n",
      "VELKÁ PREMIÉRA (402234) | Lokality: Olomouc, ulice (Olomouc), hlavní nádraží /i interiér/ (Olomouc), Dolní náměstí (Olomouc), náměstí Republiky (Olomouc), Denisova ulice (Olomouc), Svatý Kopeček (Olomouc), ulice 17. listopadu (Olomouc), Bezručovy sady (Olomouc), Libušina ulice (Olomouc), Bendlova ulice (Olomouc), ulice 1. máje (Olomouc)\n",
      "***\n",
      "OSTRAVA:\n",
      "ISABEL (398413) | Lokality: Ostrava, Národní divadlo moravskoslezské – Divadlo Antonína Dvořáka (Ostrava), Divadlo Petra Bezruče (Ostrava), Fifejdy (Ostrava), Nová radnice (Ostrava), Masarykovo náměstí (Ostrava), Jurečkova ulice (Ostrava), Zábřeh (Ostrava), Slezská Ostrava (Ostrava), Moravská Ostrava (Ostrava), Nová Ves (Ostrava), Vítkovice (Ostrava), podzemí (Ostrava)\n",
      "ZEJTRA NAPOŘÁD (400555) | Lokality: Ostrava (Česká republika)\n",
      "OSTRAVAK OSTRAVSKI (401021) | Lokality: Ostrava\n",
      "KOMICI S.R.O. THE TOUR (401731) | Lokality: Ostrava\n",
      "PŘES PRSTY (401981) | Lokality: Ostrava, Vítkovice (Ostrava)\n",
      "ŽENSKÁ POMSTA (402078) | Lokality: Ostrava, Nákladní ulice (Ostrava), Hornopolní ulice (Ostrava), ulice Dr. Šmerala (Ostrava), Vítkovice (Ostrava), Stavební ulice (Ostrava)\n",
      "***\n",
      "ÚSTÍ NAD LABEM:\n",
      "MÍSTA (400614) | Lokality: Ústí nad Labem\n",
      "TENKRÁT V RÁJI (400994) | Lokality: Ústí nad Labem (Česká republika)\n",
      "SKOKAN (401277) | Lokality: Ústí nad Labem (Česká republika)\n",
      "JAN PALACH (401799) | Lokality: Ústí nad Labem, Velká Hradební ulice (Ústí nad Labem)\n",
      "ÚSMĚVY SMUTNÝCH MUŽŮ (401749) | Lokality: Ústí nad Labem (Česká republika)\n",
      "NA KRÁTKO (401757) | Lokality: Ústí nad Labem (Česká republika), Mírová ulice (Ústí nad Labem), základní škola Mírová (Ústí nad Labem)\n",
      "***\n",
      "ČERNOŠICE:\n"
     ]
    },
    {
     "name": "stdout",
     "output_type": "stream",
     "text": [
      "TEORIE TYGRA (400705) | Lokality: Černošice\n",
      "MANŽEL NA HODINU (401145) | Lokality: Černošice\n",
      "TEN, KDO TĚ MILOVAL (401842) | Lokality: Černošice\n",
      "TERORISTKA (401826) | Lokality: Černošice, Ukrajinská ulice (Černošice)\n",
      "ŽENSKÁ NA VRCHOLU (402005) | Lokality: Černošice (Česká republika)\n",
      "CHLAP NA STŘÍDAČKU (402037) | Lokality: Černošice\n",
      "***\n",
      "BRANDÝS NAD LABEM:\n",
      "BONY A KLID 2 (400547) | Lokality: Brandýs nad Labem\n",
      "PŘÁNÍ K MÁNÍ (401732) | Lokality: Brandýs nad Labem\n",
      "NA KRÁTKO (401757) | Lokality: Brandýs nad Labem (Česká republika), Brázdimská ulice (Brandýs nad Labem), nemocnice (Brandýs nad Labem)\n",
      "MODELÁŘ (402079) | Lokality: Brandýs nad Labem (Česká republika), okolí (Brandýs nad Labem)\n",
      "MĚSTO (402235) | Lokality: Brandýs nad Labem, vrakoviště (Brandýs nad Labem)\n",
      "***\n",
      "BRDY:\n",
      "CESTA ZA KRÁLEM TROLLŮ (401723) | Lokality: \n",
      "SNĚŽÍ! (401921) | Lokality: Brdy\n",
      "TOMAN (401772) | Lokality: Brdy (Česká republika)\n",
      "NABARVENÉ PTÁČE (401962) | Lokality: Brdy (Česká republika), pěchotní srub Jordán (Brdy)\n",
      "TAJEMSTVÍ STARÉ BAMBITKY 2 (402174) | Lokality: \n",
      "KRYŠTOF (402155) | Lokality: Brdy (Česká republika)\n",
      "SHOKY & MORTHY: POSLEDNÍ VELKÁ AKCE (402158) | Lokality: Brdy, Baština (Brdy)\n",
      "***\n",
      "FRANCIE:\n",
      "NIKDY NEJSME SAMI (400718) | Lokality: Francie, Le Havre (Francie)\n",
      "ANI VE SNU! (400717) | Lokality: Francie, Etretat (Francie), Normandie (Francie)\n",
      "PRÁZDNINY V PROVENCE (401137) | Lokality: Francie, Var (Francie), Provence-Alpes-Côte d’Azur – Six-Fours-les-Plages (Francie), Sanary (Francie), vinařství Grand Boise à Trets (Francie), La Cadiere d’Azur (Francie)\n",
      "VLK Z KRÁLOVSKÝCH VINOHRAD (400951) | Lokality: Francie, Cannes (Francie)\n",
      "SKOKAN (401277) | Lokality: Francie, region Comté (Francie), Cannes (Francie)\n",
      "***\n",
      "HOLAŠOVICE:\n",
      "BABOVŘESKY ANEB Z DOPISU JEDNÉ DRBNY (400563) | Lokality: Holašovice, okolí (Holašovice)\n",
      "BABOVŘESKY 2 (400529) | Lokality: Holašovice\n",
      "BABOVŘESKY 3 (400572) | Lokality: Holašovice (Česká republika)\n",
      "ČERTOVINY (401741) | Lokality: Holašovice\n",
      "ZAKLETÉ PÍRKO (402047) | Lokality: Holašovice\n",
      "***\n",
      "VELTRUSY:\n",
      "HOŘÍCÍ KEŘ (398412) | Lokality: Veltrusy\n",
      "ZAHRADNICTVÍ: RODINNÝ PŘÍTEL (401671) | Lokality: Veltrusy (Česká republika), zámek /skleníky/ (Veltrusy)\n",
      "ZAHRADNICTVÍ: NÁPADNÍK (401672) | Lokality: Veltrusy (Česká republika), zámek /skleníky/ (Veltrusy)\n",
      "ZAHRADNICTVÍ: DEZERTÉR (401670) | Lokality: Veltrusy (Česká republika), zámek (Veltrusy)\n",
      "ZAKLETÉ PÍRKO (402047) | Lokality: \n",
      "NABARVENÉ PTÁČE (401962) | Lokality: Veltrusy (Česká republika), Smetanova ulice (Veltrusy)\n",
      "***\n",
      "DOKSY:\n",
      "PRACH (400770) | Lokality: Doksy, autobusové nádraží (Doksy)\n",
      "LÍDA BAAROVÁ (400696) | Lokality: Doksy (Česká republika), Máchovo jezero (Doksy), Staré Splavy (Doksy)\n",
      "ÚSMĚVY SMUTNÝCH MUŽŮ (401749) | Lokality: Doksy (Česká republika)\n",
      "HASTRMAN (401755) | Lokality: Doksy, Máchovo jezero (Doksy)\n",
      "***\n",
      "HLUBOKÁ NAD VLTAVOU:\n",
      "BABOVŘESKY ANEB Z DOPISU JEDNÉ DRBNY (400563) | Lokality: Hluboká nad Vltavou\n",
      "TŘI BRATŘI (400626) | Lokality: Hluboká nad Vltavou\n",
      "BABOVŘESKY 2 (400529) | Lokality: Hluboká nad Vltavou\n",
      "BABOVŘESKY 3 (400572) | Lokality: Hluboká nad Vltavou (Česká republika)\n",
      "***\n",
      "KOLÍN:\n",
      "GANGSTER KA (400582) | Lokality: Kolín (Česká republika)\n",
      "GANGSTER KA: AFRIČAN (400868) | Lokality: Kolín (Česká republika)\n",
      "ATLAS PTÁKŮ (402154) | Lokality: Kolín (Česká republika), panorama (Kolín), Rybářská ulice (Kolín), Ovčárecká ulice (Kolín)\n",
      "JAN ŽIŽKA (402240) | Lokality: Kolín, Brandlova ulice (Kolín)\n",
      "***\n",
      "KRKONOŠE:\n",
      "MY 2 (400616) | Lokality: Krkonoše\n",
      "ŠPINDL 2 (402022) | Lokality: Krkonoše\n",
      "HODINÁŘŮV UČEŇ (401938) | Lokality: Krkonoše, Luční bouda (Krkonoše)\n",
      "ATLAS PTÁKŮ (402154) | Lokality: Krkonoše (Česká republika)\n",
      "***\n",
      "KRÁLŮV DVŮR:\n",
      "CESTA DO ŘÍMA (400992) | Lokality: Králův Dvůr\n",
      "ZLATÝ PODRAZ (401841) | Lokality: Králův Dvůr, Tovární ulice (Králův Dvůr)\n",
      "CHLAP NA STŘÍDAČKU (402037) | Lokality: Králův Dvůr\n",
      "CHYBY (402143) | Lokality: Králův Dvůr (Česká republika)\n",
      "***\n",
      "MIKULOV:\n",
      "CESTA DO ŘÍMA (400992) | Lokality: Mikulov, Svatý kopeček (Mikulov)\n",
      "ALENKA V ZEMI ZÁZRAKŮ (401746) | Lokality: Mikulov (Česká republika), panorama (Mikulov), Svatý kopeček (Mikulov)\n",
      "NÁRODNÍ TŘÍDA (401993) | Lokality: \n",
      "HODINÁŘŮV UČEŇ (401938) | Lokality: Mikulov\n",
      "3BOBULE (402068) | Lokality: Mikulov, amfiteátr (Mikulov)\n",
      "***\n",
      "NETOLICE:\n",
      "BABOVŘESKY ANEB Z DOPISU JEDNÉ DRBNY (400563) | Lokality: Netolice\n",
      "BABOVŘESKY 2 (400529) | Lokality: Netolice\n",
      "ČERTOVINY (401741) | Lokality: Netolice\n",
      "ZAKLETÉ PÍRKO (402047) | Lokality: Netolice, Mnichská ulice (Netolice)\n",
      "***\n",
      "PŘÍBRAM:\n",
      "KŘÍDLA VÁNOC (398421) | Lokality: Příbram, oblastní nemocnice (Příbram)\n",
      "ZLODĚJI ZELENÝCH KONÍ (400792) | Lokality: Příbram, Divadlo A. Dvořáka Příbram (Příbram)\n",
      "8 HLAV ŠÍLENSTVÍ (401655) | Lokality: \n",
      "ŽENY V BĚHU (401853) | Lokality: Příbram, letiště (Příbram)\n",
      "LÉTO S GENTLEMANEM (401924) | Lokality: \n",
      "CHYBY (402143) | Lokality: Příbram (Česká republika)\n",
      "***\n",
      "SLANÝ:\n",
      "PŘÍBĚH KMOTRA (400552) | Lokality: Slaný, Městské divadlo (Slaný)\n",
      "DVOJNÍCI (400694) | Lokality: Slaný\n",
      "HMYZ (401737) | Lokality: Slaný, Husova ulice (Slaný), Třebízského ulice (Slaný), Soukenická ulice (Slaný)\n",
      "GUMP – PES, KTERÝ NAUČIL LIDI ŽÍT (402147) | Lokality: Slaný, Velvarská ulice (Slaný), Husova ulice (Slaný), náměstí Krále Vladislava (Slaný)\n",
      "***\n",
      "SLAPY:\n",
      "ŽIVOT JE ŽIVOT (400607) | Lokality: \n",
      "ABSENCE BLÍZKOSTI (401273) | Lokality: Slapy, vodní nádrž (Slapy)\n",
      "ZLATÝ PODRAZ (401841) | Lokality: Slapy, zámek (Slapy)\n",
      "TOMAN (401772) | Lokality: Slapy (Česká republika), zámek /i interiér/ (Slapy)\n",
      "NABARVENÉ PTÁČE (401962) | Lokality: Slapy (Česká republika)\n",
      "***\n",
      "TEREZÍN:\n",
      "TENKRÁT V RÁJI (400994) | Lokality: Terezín (Česká republika), Malá pevnost (Terezín)\n",
      "PO STRNIŠTI BOS (401274) | Lokality: Terezín, zahradnictví (Terezín)\n",
      "MILADA (401275) | Lokality: Terezín, Malá pevnost (Terezín)\n",
      "8 HLAV ŠÍLENSTVÍ (401655) | Lokality: Terezín\n",
      "***\n",
      "ČESKÝ KRUMLOV:\n",
      "DONŠAJNI (398411) | Lokality: Český Krumlov\n",
      "ANDĚL PÁNĚ 2 (401251) | Lokality: Český Krumlov\n",
      "NABARVENÉ PTÁČE (401962) | Lokality: Český Krumlov (Česká republika), rybník (Český Krumlov), Linecká ulice (Český Krumlov)\n",
      "HODINÁŘŮV UČEŇ (401938) | Lokality: Český Krumlov\n",
      "ŠARLATÁN (402092) | Lokality: \n",
      "***\n",
      "ŠUMAVA:\n",
      "ANDĚL PÁNĚ 2 (401251) | Lokality: \n",
      "MILADA (401275) | Lokality: Šumava\n",
      "NABARVENÉ PTÁČE (401962) | Lokality: Šumava (Česká republika), Holý vrch (Šumava)\n",
      "TADY HLÍDÁME MY (402221) | Lokality: Šumava, Černé jezero (Šumava)\n",
      "KRYŠTOF (402155) | Lokality: Šumava (Česká republika), Teplá Vltava (Šumava)\n",
      "***\n"
     ]
    }
   ],
   "source": [
    "for t in top_mesta:\n",
    "    print(f\"{t.upper()}:\")\n",
    "    filmy = hcf[hcf[\"Město\"].str.contains(t, na=False)][\"Film\"].drop_duplicates().to_list()\n",
    "    for f in filmy:\n",
    "        print(f\"\"\"{f.upper()} | Lokality: {\", \".join(hcf[(hcf[\"Město\"] == t) & (hcf[\"Film\"] == f)][\"Lokace\"].drop_duplicates().to_list())}\"\"\")\n",
    "    print(\"***\")"
   ]
  },
  {
   "cell_type": "markdown",
   "id": "45987324",
   "metadata": {},
   "source": [
    "Místa v Praze:"
   ]
  },
  {
   "cell_type": "code",
   "execution_count": 13,
   "id": "f9b849cd",
   "metadata": {},
   "outputs": [
    {
     "data": {
      "text/plain": [
       "Lokace\n",
       "Praha                               99\n",
       "Praha (Česká republika)             57\n",
       "Nové Město (Praha)                  49\n",
       "Vltava (Praha)                      39\n",
       "Vinohrady (Praha)                   27\n",
       "Žižkov (Praha)                      27\n",
       "Staré Město (Praha)                 26\n",
       "Malá Strana (Praha)                 24\n",
       "Hradčany (Praha)                    23\n",
       "Holešovice (Praha)                  20\n",
       "Smíchov (Praha)                     19\n",
       "Bubeneč (Praha)                     18\n",
       "Dejvice (Praha)                     18\n",
       "Nusle (Praha)                       18\n",
       "Karlín (Praha)                      14\n",
       "Václavské náměstí (Nové Město)      14\n",
       "Josefov (Praha)                     11\n",
       "Podolí (Praha)                      10\n",
       "Ruzyně (Praha)                      10\n",
       "Vršovice (Praha)                    10\n",
       "Bohnice (Praha)                      8\n",
       "Mánesův most (Vltava)                8\n",
       "Pernerova ulice (Karlín)             8\n",
       "Pražský hrad (Hradčany)              8\n",
       "Vysočany (Praha)                     8\n",
       "Karlův most (Vltava)                 7\n",
       "Krč (Praha)                          7\n",
       "Letná (Praha)                        7\n",
       "Národní třída (Nové Město)           7\n",
       "Vyšehrad (Praha)                     7\n",
       "Břevnov (Praha)                      6\n",
       "Hlavní nádraží (Nové Město)          6\n",
       "Libeň (Praha)                        6\n",
       "Pankrác (Praha)                      6\n",
       "Strašnice (Praha)                    6\n",
       "most Legií (Vltava)                  6\n",
       "panorama (Praha)                     6\n",
       "Koulova ulice (Dejvice)              5\n",
       "Letňany (Praha)                      5\n",
       "Nuselský most (Praha)                5\n",
       "Střešovice (Praha)                   5\n",
       "náměstí Curieových (Staré Město)     5\n",
       "náměstí Jana Palacha (Josefov)       5\n",
       "náměstí Svobody (Bubeneč)            5\n",
       "panoráma (Praha)                     5\n",
       "Chodov (Praha)                       4\n",
       "Hlubočepy (Praha)                    4\n",
       "Kbely (Praha)                        4\n",
       "Klánovice (Praha)                    4\n",
       "Letiště Václava Havla (Ruzyně)       4\n",
       "Name: Film, dtype: int64"
      ]
     },
     "execution_count": 13,
     "metadata": {},
     "output_type": "execute_result"
    }
   ],
   "source": [
    "hcf[hcf[\"Město\"] == \"Praha\"].groupby(\"Lokace\")[\"Film\"].nunique().nlargest(50)"
   ]
  },
  {
   "cell_type": "markdown",
   "id": "1072931b",
   "metadata": {},
   "source": [
    "## Nejčastější mosty, ulice, náměstí atp."
   ]
  },
  {
   "cell_type": "code",
   "execution_count": 14,
   "id": "3dcdd0ba",
   "metadata": {},
   "outputs": [
    {
     "data": {
      "text/plain": [
       "Lokace\n",
       "Mánesův most (Vltava)                          8\n",
       "Karlův most (Vltava)                           7\n",
       "most Legií (Vltava)                            6\n",
       "Nuselský most (Praha)                          5\n",
       "Jiráskův most (Vltava)                         3\n",
       "most Slovenského národního povstání (Dunaj)    3\n",
       "železniční most (Praha)                        3\n",
       "Čechův most (Vltava)                           2\n",
       "Štefánikův most (Vltava)                       2\n",
       "železniční most (Vltava)                       2\n",
       "Name: Film, dtype: int64"
      ]
     },
     "execution_count": 14,
     "metadata": {},
     "output_type": "execute_result"
    }
   ],
   "source": [
    "hcf[hcf[\"Lokace\"].str.lower().str.contains(\"most\", na=False)].groupby(\"Lokace\")[\"Film\"].nunique().nlargest(10)"
   ]
  },
  {
   "cell_type": "code",
   "execution_count": 15,
   "id": "07b02b10",
   "metadata": {},
   "outputs": [
    {
     "data": {
      "text/plain": [
       "Lokace\n",
       "Václavské náměstí (Nové Město)                 14\n",
       "náměstí Curieových (Staré Město)                5\n",
       "náměstí Jana Palacha (Josefov)                  5\n",
       "náměstí Svobody (Bubeneč)                       5\n",
       "Loretánské náměstí (Hradčany)                   4\n",
       "Malostranské náměstí (Malá Strana)              4\n",
       "Staroměstské náměstí (Staré Město)              4\n",
       "Hradčanské náměstí (Hradčany)                   3\n",
       "Lyčkovo náměstí (Karlín)                        3\n",
       "Skleněný palác /interiér/ (náměstí Svobody)     3\n",
       "Name: Film, dtype: int64"
      ]
     },
     "execution_count": 15,
     "metadata": {},
     "output_type": "execute_result"
    }
   ],
   "source": [
    "hcf[hcf[\"Lokace\"].str.lower().str.contains(\"náměstí\", na=False)].groupby(\"Lokace\")[\"Film\"].nunique().nlargest(10)"
   ]
  },
  {
   "cell_type": "code",
   "execution_count": 16,
   "id": "0178ace3",
   "metadata": {},
   "outputs": [
    {
     "data": {
      "text/plain": [
       "Lokace\n",
       "Pernerova ulice (Karlín)          8\n",
       "Koulova ulice (Dejvice)           5\n",
       "Viničná ulice (Mladá Boleslav)    5\n",
       "Nádražní ulice (Smíchov)          4\n",
       "Sokolovská ulice (Karlín)         4\n",
       "Tusarova ulice (Holešovice)       4\n",
       "ulice Na Pankráci (Nusle)         4\n",
       "Bělohorská ulice (Břevnov)        3\n",
       "Hellichova ulice (Malá Strana)    3\n",
       "Jankovcova ulice (Holešovice)     3\n",
       "Name: Film, dtype: int64"
      ]
     },
     "execution_count": 16,
     "metadata": {},
     "output_type": "execute_result"
    }
   ],
   "source": [
    "hcf[hcf[\"Lokace\"].str.lower().str.contains(\"ulice\", na=False)].groupby(\"Lokace\")[\"Film\"].nunique().nlargest(10)"
   ]
  },
  {
   "cell_type": "code",
   "execution_count": 17,
   "id": "5d2e1f81",
   "metadata": {},
   "outputs": [
    {
     "data": {
      "text/plain": [
       "Lokace\n",
       "stadion (Strahov)                                           2\n",
       "Plavecký stadion Podolí /interiér/ (Podolská ulice)         1\n",
       "Plavecký stadion Sk Slavia Praha /interiér/ (Vršovice)      1\n",
       "Plavecký stadion TJ Lokomotiva (Nymburk)                    1\n",
       "Stadion mládeže (ulice Na Kotlářce)                         1\n",
       "Zimní stadion Luďka Čajky /i interiér/ (Březnická ulice)    1\n",
       "fotbalový stadion (Svätý Jur)                               1\n",
       "fotbalový stadion (ulice 5. května)                         1\n",
       "plavecký stadion SK Slavia (Vladivostocká ulice)            1\n",
       "stadion AC Sparty (Letná)                                   1\n",
       "Name: Film, dtype: int64"
      ]
     },
     "execution_count": 17,
     "metadata": {},
     "output_type": "execute_result"
    }
   ],
   "source": [
    "hcf[hcf[\"Lokace\"].str.lower().str.contains(\"stadio\", na=False)].groupby(\"Lokace\")[\"Film\"].nunique().nlargest(10)"
   ]
  },
  {
   "cell_type": "code",
   "execution_count": 18,
   "id": "4a6a88e3",
   "metadata": {},
   "outputs": [
    {
     "data": {
      "text/plain": [
       "Lokace\n",
       "Fakultní Thomayerova nemocnice (Krč)                               2\n",
       "Nemocnice pod Petřínem (Malá Strana)                               2\n",
       "Fakultní nemocnice Královské Vinohrady (Vinohrady)                 1\n",
       "Fakultní nemocnice Olomouc /i interiér/ (Olomouc)                  1\n",
       "Fakultní nemocnice u sv. Anny (Pekařská ulice)                     1\n",
       "Krajská nemocnice Tomáše Bati /i interiér/ (Havlíčkovo nábřeží)    1\n",
       "Krajská nemocnice Tomáše Bati /interiér/ (Zlín)                    1\n",
       "Krajská nemocnice Zlín (Zlín)                                      1\n",
       "Městská nemocnice /interiér/ (Rooseveltova ulice)                  1\n",
       "Městská nemocnice Ostrava (Fifejdy)                                1\n",
       "Name: Film, dtype: int64"
      ]
     },
     "execution_count": 18,
     "metadata": {},
     "output_type": "execute_result"
    }
   ],
   "source": [
    "hcf[hcf[\"Lokace\"].str.lower().str.contains(\"nemocn\", na=False)].groupby(\"Lokace\")[\"Film\"].nunique().nlargest(10)"
   ]
  },
  {
   "cell_type": "code",
   "execution_count": 19,
   "id": "28954dd1",
   "metadata": {},
   "outputs": [
    {
     "data": {
      "text/plain": [
       "Lokace\n",
       "Letiště Václava Havla (Ruzyně)                     4\n",
       "Letiště M. R. Štefánika /interiér/ (Bratislava)    1\n",
       "Letiště Václava Havla (Ruzyň)                      1\n",
       "Letiště Václava Havla /i interiér/ (Ruzyně)        1\n",
       "Mladá Boleslav /letiště/ (Česká republika)         1\n",
       "letiště (Hořice v Podkrkonoší)                     1\n",
       "letiště (Kbely)                                    1\n",
       "letiště (Letňany)                                  1\n",
       "letiště (Praha)                                    1\n",
       "letiště (Příbram)                                  1\n",
       "Name: Film, dtype: int64"
      ]
     },
     "execution_count": 19,
     "metadata": {},
     "output_type": "execute_result"
    }
   ],
   "source": [
    "hcf[hcf[\"Lokace\"].str.lower().str.contains(\"letiš\", na=False)].groupby(\"Lokace\")[\"Film\"].nunique().nlargest(10)"
   ]
  },
  {
   "cell_type": "code",
   "execution_count": 20,
   "id": "53ec3ff7",
   "metadata": {},
   "outputs": [
    {
     "data": {
      "text/plain": [
       "Lokace\n",
       "zámek /skleníky/ (Veltrusy)              2\n",
       "zámek Dolní Beřkovice                    2\n",
       "zámek Ploskovice                         2\n",
       "Egyptský pavilon (zámek Veltrusy)        1\n",
       "Roztoky u Prahy – zámek                  1\n",
       "Topoľčanský hrad (Topoľčianky – zámek    1\n",
       "Topoľčianky – zámek                      1\n",
       "park (zámek Lednice)                     1\n",
       "park (zámek Uherčice)                    1\n",
       "skleníky (zámek)                         1\n",
       "Name: Film, dtype: int64"
      ]
     },
     "execution_count": 20,
     "metadata": {},
     "output_type": "execute_result"
    }
   ],
   "source": [
    "hcf[hcf[\"Lokace\"].str.lower().str.contains(\"zámek\", na=False)].groupby(\"Lokace\")[\"Film\"].nunique().nlargest(10)"
   ]
  },
  {
   "cell_type": "markdown",
   "id": "42524766",
   "metadata": {},
   "source": [
    "Filmy ze zámku Veltrusy:"
   ]
  },
  {
   "cell_type": "code",
   "execution_count": 21,
   "id": "0c5ed96f",
   "metadata": {},
   "outputs": [
    {
     "data": {
      "text/plain": [
       "['Zahradnictví: Rodinný přítel (401671)',\n",
       " 'Zahradnictví: Nápadník (401672)',\n",
       " 'Zahradnictví: Dezertér (401670)',\n",
       " 'Zakleté pírko (402047)']"
      ]
     },
     "execution_count": 21,
     "metadata": {},
     "output_type": "execute_result"
    }
   ],
   "source": [
    "hcf[(hcf[\"Lokace\"].str.lower().str.contains(\"veltrusy\", na=False) & hcf[\"Lokace\"].str.lower().str.contains(\"zámek\", na=False))][\"Film\"].drop_duplicates().to_list()"
   ]
  },
  {
   "cell_type": "markdown",
   "id": "fdfeb25f",
   "metadata": {},
   "source": [
    "Filmy ze zámku Dolní Beřkovice:"
   ]
  },
  {
   "cell_type": "code",
   "execution_count": 22,
   "id": "3e8d9122",
   "metadata": {},
   "outputs": [
    {
     "data": {
      "text/plain": [
       "['Anděl Páně 2 (401251)', 'Hodinářův učeň (401938)']"
      ]
     },
     "execution_count": 22,
     "metadata": {},
     "output_type": "execute_result"
    }
   ],
   "source": [
    "hcf[hcf[\"Lokace\"].str.lower().str.contains(\"zámek dolní beřkovice\", na=False)][\"Film\"].drop_duplicates().to_list()"
   ]
  },
  {
   "cell_type": "markdown",
   "id": "61db6012",
   "metadata": {},
   "source": [
    "Filmy ze zámku Ploskovice:"
   ]
  },
  {
   "cell_type": "code",
   "execution_count": 23,
   "id": "b72eb6ce",
   "metadata": {},
   "outputs": [
    {
     "data": {
      "text/plain": [
       "['Život je život (400607)', 'Zakleté pírko (402047)']"
      ]
     },
     "execution_count": 23,
     "metadata": {},
     "output_type": "execute_result"
    }
   ],
   "source": [
    "hcf[hcf[\"Lokace\"].str.lower().str.contains(\"ploskovice\", na=False)][\"Film\"].drop_duplicates().to_list()"
   ]
  },
  {
   "cell_type": "code",
   "execution_count": 24,
   "id": "57bfd3ac",
   "metadata": {},
   "outputs": [
    {
     "data": {
      "text/plain": [
       "Lokace\n",
       "Pražský hrad (Hradčany)                   8\n",
       "Dívčí hrady (Praha)                       2\n",
       "Katedrála sv. Víta (Pražský hrad)         2\n",
       "Pražský hrad (Hradčanské náměstí)         2\n",
       "panoráma (Pražský hrad)                   2\n",
       "Biskupský palác (Nitranský hrad)          1\n",
       "Budatínský hrad (Žilina)                  1\n",
       "Cihelná brána (hradby)                    1\n",
       "Nitranský hrad (Nitra /ulice i okolí/)    1\n",
       "Pražský hrad (Praha)                      1\n",
       "Name: Film, dtype: int64"
      ]
     },
     "execution_count": 24,
     "metadata": {},
     "output_type": "execute_result"
    }
   ],
   "source": [
    "hcf[hcf[\"Lokace\"].str.contains(\"[^\\w]hrad\", na=False, regex=True)].groupby(\"Lokace\")[\"Film\"].nunique().nlargest(10)"
   ]
  },
  {
   "cell_type": "code",
   "execution_count": 25,
   "id": "36cad792",
   "metadata": {},
   "outputs": [
    {
     "data": {
      "text/plain": [
       "Lokace\n",
       "Olšanské hřbitovy (Žižkov)                 2\n",
       "Národní hřbitov (Malá pevnost)             1\n",
       "Olšanské hřbitovy (Praha)                  1\n",
       "Starý židovský hřbitov (Josefov)           1\n",
       "Vinohradský hřbitov (Strašnice)            1\n",
       "Vinohradský hřbitov (Vinohradská třída)    1\n",
       "hřbitov (Jindřichovice)                    1\n",
       "hřbitov (Komňa)                            1\n",
       "hřbitov (Nečtiny)                          1\n",
       "hřbitov (Slavonice)                        1\n",
       "Name: Film, dtype: int64"
      ]
     },
     "execution_count": 25,
     "metadata": {},
     "output_type": "execute_result"
    }
   ],
   "source": [
    "hcf[hcf[\"Lokace\"].str.lower().str.contains(\"hřbit\", na=False)].groupby(\"Lokace\")[\"Film\"].nunique().nlargest(10)"
   ]
  },
  {
   "cell_type": "markdown",
   "id": "219cc62b",
   "metadata": {},
   "source": [
    "## Rodiště herců a hereček"
   ]
  },
  {
   "cell_type": "markdown",
   "id": "d4622c0d",
   "metadata": {},
   "source": [
    "Všechny filmy všech délek a typů."
   ]
  },
  {
   "cell_type": "code",
   "execution_count": 26,
   "id": "b49899fd",
   "metadata": {},
   "outputs": [],
   "source": [
    "top100 = df.explode(\"Hrají\").groupby(\"Hrají\")[\"Film\"].nunique().nlargest(100).index.to_list()"
   ]
  },
  {
   "cell_type": "code",
   "execution_count": 27,
   "id": "193e21df",
   "metadata": {},
   "outputs": [],
   "source": [
    "top500 = df.explode(\"Hrají\").groupby(\"Hrají\")[\"Film\"].nunique().nlargest(500).index.to_list()"
   ]
  },
  {
   "cell_type": "markdown",
   "id": "56ab8d56",
   "metadata": {},
   "source": [
    "Města podle toho, kolik se v nich narodilo ze 100 nejobsazovanějších herců a hereček:"
   ]
  },
  {
   "cell_type": "code",
   "execution_count": 28,
   "id": "cdf11a31",
   "metadata": {},
   "outputs": [
    {
     "data": {
      "text/plain": [
       "Město narození\n",
       "Praha                                 51\n",
       "Plzeň                                  5\n",
       "Pelhřimov                              3\n",
       "Pardubice                              2\n",
       "Kutná Hora                             2\n",
       "Jičín                                  2\n",
       "Přelouč                                1\n",
       "Přerov                                 1\n",
       "Příbram                                1\n",
       "Radnice u Plzně                        1\n",
       "Adamov u Českých Budějovic             1\n",
       "Sezemice u Pardubic                    1\n",
       "Studená u Dačic                        1\n",
       "Tuřany u Brna                          1\n",
       "Třebíč                                 1\n",
       "Vracov u Kyjova                        1\n",
       "Vídeň                                  1\n",
       "Zbiroh                                 1\n",
       "Červený Kostelec u Náchoda             1\n",
       "Rožmitál pod Třemšínem                 1\n",
       "Olomouc                                1\n",
       "Bozkov u Semil                         1\n",
       "Hrušov nad Odrou u Ostravy             1\n",
       "Brno                                   1\n",
       "Buštěhrad u Kladna                     1\n",
       "Bělá pod Bezdězem                      1\n",
       "Drahovice u Karlových Var              1\n",
       "Holice                                 1\n",
       "Hořice v Podkrkonoší                   1\n",
       "Husinec u Prachatic                    1\n",
       "Okříšky u Brna                         1\n",
       "Ivančice u Brna                        1\n",
       "Litoměřice                             1\n",
       "Lomnice nad Popelkou                   1\n",
       "Mladá Boleslav                         1\n",
       "Most                                   1\n",
       "Nová Včelnice u Kamenice nad Lipou     1\n",
       "Čáslav                                 1\n",
       "Name: Jméno, dtype: int64"
      ]
     },
     "execution_count": 28,
     "metadata": {},
     "output_type": "execute_result"
    }
   ],
   "source": [
    "persony[persony[\"Jméno\"].isin(top100)].groupby(\"Město narození\")[\"Jméno\"].nunique().nlargest(100)"
   ]
  },
  {
   "cell_type": "markdown",
   "id": "1b8c44e5",
   "metadata": {},
   "source": [
    "Plzeňáci z top 100:"
   ]
  },
  {
   "cell_type": "code",
   "execution_count": 29,
   "id": "a0f5ce80",
   "metadata": {},
   "outputs": [
    {
     "data": {
      "text/html": [
       "<div>\n",
       "<style scoped>\n",
       "    .dataframe tbody tr th:only-of-type {\n",
       "        vertical-align: middle;\n",
       "    }\n",
       "\n",
       "    .dataframe tbody tr th {\n",
       "        vertical-align: top;\n",
       "    }\n",
       "\n",
       "    .dataframe thead th {\n",
       "        text-align: right;\n",
       "    }\n",
       "</style>\n",
       "<table border=\"1\" class=\"dataframe\">\n",
       "  <thead>\n",
       "    <tr style=\"text-align: right;\">\n",
       "      <th></th>\n",
       "      <th>Jméno</th>\n",
       "      <th>Rok narození</th>\n",
       "    </tr>\n",
       "  </thead>\n",
       "  <tbody>\n",
       "    <tr>\n",
       "      <th>4775</th>\n",
       "      <td>František Kovářík (126912)</td>\n",
       "      <td>1886.0</td>\n",
       "    </tr>\n",
       "    <tr>\n",
       "      <th>5166</th>\n",
       "      <td>Růžena Šlemrová (127282)</td>\n",
       "      <td>1886.0</td>\n",
       "    </tr>\n",
       "    <tr>\n",
       "      <th>21528</th>\n",
       "      <td>Jindřich Plachta (5829)</td>\n",
       "      <td>1899.0</td>\n",
       "    </tr>\n",
       "    <tr>\n",
       "      <th>24356</th>\n",
       "      <td>František Kreuzmann (75624)</td>\n",
       "      <td>1895.0</td>\n",
       "    </tr>\n",
       "    <tr>\n",
       "      <th>27480</th>\n",
       "      <td>Ota Motyčka (81341)</td>\n",
       "      <td>1899.0</td>\n",
       "    </tr>\n",
       "  </tbody>\n",
       "</table>\n",
       "</div>"
      ],
      "text/plain": [
       "                             Jméno  Rok narození\n",
       "4775    František Kovářík (126912)        1886.0\n",
       "5166      Růžena Šlemrová (127282)        1886.0\n",
       "21528      Jindřich Plachta (5829)        1899.0\n",
       "24356  František Kreuzmann (75624)        1895.0\n",
       "27480          Ota Motyčka (81341)        1899.0"
      ]
     },
     "execution_count": 29,
     "metadata": {},
     "output_type": "execute_result"
    }
   ],
   "source": [
    "persony[(persony[\"Jméno\"].isin(top100) & (persony[\"Město narození\"] == \"Plzeň\"))][[\"Jméno\",\"Rok narození\"]]"
   ]
  },
  {
   "cell_type": "markdown",
   "id": "441393c9",
   "metadata": {},
   "source": [
    "Pelhřimováci z top 100:"
   ]
  },
  {
   "cell_type": "code",
   "execution_count": 30,
   "id": "c511dae4",
   "metadata": {},
   "outputs": [
    {
     "data": {
      "text/html": [
       "<div>\n",
       "<style scoped>\n",
       "    .dataframe tbody tr th:only-of-type {\n",
       "        vertical-align: middle;\n",
       "    }\n",
       "\n",
       "    .dataframe tbody tr th {\n",
       "        vertical-align: top;\n",
       "    }\n",
       "\n",
       "    .dataframe thead th {\n",
       "        text-align: right;\n",
       "    }\n",
       "</style>\n",
       "<table border=\"1\" class=\"dataframe\">\n",
       "  <thead>\n",
       "    <tr style=\"text-align: right;\">\n",
       "      <th></th>\n",
       "      <th>Jméno</th>\n",
       "      <th>Rok narození</th>\n",
       "    </tr>\n",
       "  </thead>\n",
       "  <tbody>\n",
       "    <tr>\n",
       "      <th>13821</th>\n",
       "      <td>Karel Hábl (27177)</td>\n",
       "      <td>1936.0</td>\n",
       "    </tr>\n",
       "    <tr>\n",
       "      <th>19618</th>\n",
       "      <td>Jiří Lír (4926)</td>\n",
       "      <td>1923.0</td>\n",
       "    </tr>\n",
       "    <tr>\n",
       "      <th>32334</th>\n",
       "      <td>Lubomír Lipský (9728)</td>\n",
       "      <td>1923.0</td>\n",
       "    </tr>\n",
       "  </tbody>\n",
       "</table>\n",
       "</div>"
      ],
      "text/plain": [
       "                       Jméno  Rok narození\n",
       "13821     Karel Hábl (27177)        1936.0\n",
       "19618        Jiří Lír (4926)        1923.0\n",
       "32334  Lubomír Lipský (9728)        1923.0"
      ]
     },
     "execution_count": 30,
     "metadata": {},
     "output_type": "execute_result"
    }
   ],
   "source": [
    "persony[(persony[\"Jméno\"].isin(top100) & (persony[\"Město narození\"] == \"Pelhřimov\"))][[\"Jméno\",\"Rok narození\"]]"
   ]
  },
  {
   "cell_type": "markdown",
   "id": "2bdbac20",
   "metadata": {},
   "source": [
    "Města podle toho, kolik se v nich narodilo z 500 nejobsazovanějších herců a hereček:"
   ]
  },
  {
   "cell_type": "code",
   "execution_count": 31,
   "id": "674e83a7",
   "metadata": {},
   "outputs": [
    {
     "data": {
      "text/plain": [
       "Město narození\n",
       "Praha                                 223\n",
       "Plzeň                                  20\n",
       "Brno                                   10\n",
       "České Budějovice                        7\n",
       "Zlín                                    6\n",
       "Hradec Králové                          5\n",
       "Kutná Hora                              4\n",
       "Ostrava                                 4\n",
       "Pardubice                               4\n",
       "Třebíč                                  4\n",
       "Kroměříž                                3\n",
       "Liberec                                 3\n",
       "Mladá Boleslav                          3\n",
       "Pelhřimov                               3\n",
       "Prostějov                               3\n",
       "Příbram                                 3\n",
       "Bělá pod Bezdězem                       2\n",
       "Dvůr Králové nad Labem                  2\n",
       "Havlíčkův Brod                          2\n",
       "Holice                                  2\n",
       "Horní Suchá u Karviné                   2\n",
       "Hořice v Podkrkonoší                    2\n",
       "Jihlava                                 2\n",
       "Jičín                                   2\n",
       "Nová Včelnice u Kamenice nad Lipou      2\n",
       "Olomouc                                 2\n",
       "Vídeň                                   2\n",
       "Úvaly u Prahy                           2\n",
       "Adamov u Českých Budějovic              1\n",
       "Baumgartenberg u Mauthausenu            1\n",
       "Benešov u Prahy                         1\n",
       "Beroun                                  1\n",
       "Blovice u Plzně                         1\n",
       "Bohdaneč u Pardubic                     1\n",
       "Boskovice                               1\n",
       "Bozkov u Semil                          1\n",
       "Brandýs nad Labem                       1\n",
       "Bratřejov u Sedlčan                     1\n",
       "Buštěhrad u Kladna                      1\n",
       "Běchovice u Prahy                       1\n",
       "Name: Jméno, dtype: int64"
      ]
     },
     "execution_count": 31,
     "metadata": {},
     "output_type": "execute_result"
    }
   ],
   "source": [
    "persony[persony[\"Jméno\"].isin(top500)].groupby(\"Město narození\")[\"Jméno\"].nunique().nlargest(40)"
   ]
  },
  {
   "cell_type": "code",
   "execution_count": 32,
   "id": "644ee2da",
   "metadata": {},
   "outputs": [
    {
     "data": {
      "text/html": [
       "<div>\n",
       "<style scoped>\n",
       "    .dataframe tbody tr th:only-of-type {\n",
       "        vertical-align: middle;\n",
       "    }\n",
       "\n",
       "    .dataframe tbody tr th {\n",
       "        vertical-align: top;\n",
       "    }\n",
       "\n",
       "    .dataframe thead th {\n",
       "        text-align: right;\n",
       "    }\n",
       "</style>\n",
       "<table border=\"1\" class=\"dataframe\">\n",
       "  <thead>\n",
       "    <tr style=\"text-align: right;\">\n",
       "      <th></th>\n",
       "      <th>Jméno</th>\n",
       "      <th>Rok narození</th>\n",
       "    </tr>\n",
       "  </thead>\n",
       "  <tbody>\n",
       "    <tr>\n",
       "      <th>4374</th>\n",
       "      <td>Pavla Maršálková (126529)</td>\n",
       "      <td>1917.0</td>\n",
       "    </tr>\n",
       "    <tr>\n",
       "      <th>4775</th>\n",
       "      <td>František Kovářík (126912)</td>\n",
       "      <td>1886.0</td>\n",
       "    </tr>\n",
       "    <tr>\n",
       "      <th>5166</th>\n",
       "      <td>Růžena Šlemrová (127282)</td>\n",
       "      <td>1886.0</td>\n",
       "    </tr>\n",
       "    <tr>\n",
       "      <th>5677</th>\n",
       "      <td>Emil Dlesk (127787)</td>\n",
       "      <td>1894.0</td>\n",
       "    </tr>\n",
       "    <tr>\n",
       "      <th>6769</th>\n",
       "      <td>Emil Bolek (128886)</td>\n",
       "      <td>1897.0</td>\n",
       "    </tr>\n",
       "    <tr>\n",
       "      <th>12412</th>\n",
       "      <td>Oldřich Musil (23387)</td>\n",
       "      <td>1921.0</td>\n",
       "    </tr>\n",
       "    <tr>\n",
       "      <th>13889</th>\n",
       "      <td>Běla Jurdová (27291)</td>\n",
       "      <td>1919.0</td>\n",
       "    </tr>\n",
       "    <tr>\n",
       "      <th>13921</th>\n",
       "      <td>Josef Větrovec (27335)</td>\n",
       "      <td>1922.0</td>\n",
       "    </tr>\n",
       "    <tr>\n",
       "      <th>14291</th>\n",
       "      <td>Jana Dítětová (27934)</td>\n",
       "      <td>1926.0</td>\n",
       "    </tr>\n",
       "    <tr>\n",
       "      <th>15066</th>\n",
       "      <td>Jiří Langmajer (2981)</td>\n",
       "      <td>1966.0</td>\n",
       "    </tr>\n",
       "    <tr>\n",
       "      <th>19346</th>\n",
       "      <td>Marie Rosůlková (4751)</td>\n",
       "      <td>1901.0</td>\n",
       "    </tr>\n",
       "    <tr>\n",
       "      <th>19537</th>\n",
       "      <td>Václav Štekl (4862)</td>\n",
       "      <td>1929.0</td>\n",
       "    </tr>\n",
       "    <tr>\n",
       "      <th>19871</th>\n",
       "      <td>Pavel Nový (510)</td>\n",
       "      <td>1948.0</td>\n",
       "    </tr>\n",
       "    <tr>\n",
       "      <th>19993</th>\n",
       "      <td>Zdeněk Martínek (5173)</td>\n",
       "      <td>1923.0</td>\n",
       "    </tr>\n",
       "    <tr>\n",
       "      <th>20938</th>\n",
       "      <td>Vladimír Majer (56169)</td>\n",
       "      <td>1894.0</td>\n",
       "    </tr>\n",
       "    <tr>\n",
       "      <th>21528</th>\n",
       "      <td>Jindřich Plachta (5829)</td>\n",
       "      <td>1899.0</td>\n",
       "    </tr>\n",
       "    <tr>\n",
       "      <th>22821</th>\n",
       "      <td>Felix le Breux (64127)</td>\n",
       "      <td>1918.0</td>\n",
       "    </tr>\n",
       "    <tr>\n",
       "      <th>24356</th>\n",
       "      <td>František Kreuzmann (75624)</td>\n",
       "      <td>1895.0</td>\n",
       "    </tr>\n",
       "    <tr>\n",
       "      <th>27480</th>\n",
       "      <td>Ota Motyčka (81341)</td>\n",
       "      <td>1899.0</td>\n",
       "    </tr>\n",
       "    <tr>\n",
       "      <th>30649</th>\n",
       "      <td>Vladimír Huber (87403)</td>\n",
       "      <td>1913.0</td>\n",
       "    </tr>\n",
       "  </tbody>\n",
       "</table>\n",
       "</div>"
      ],
      "text/plain": [
       "                             Jméno  Rok narození\n",
       "4374     Pavla Maršálková (126529)        1917.0\n",
       "4775    František Kovářík (126912)        1886.0\n",
       "5166      Růžena Šlemrová (127282)        1886.0\n",
       "5677           Emil Dlesk (127787)        1894.0\n",
       "6769           Emil Bolek (128886)        1897.0\n",
       "12412        Oldřich Musil (23387)        1921.0\n",
       "13889         Běla Jurdová (27291)        1919.0\n",
       "13921       Josef Větrovec (27335)        1922.0\n",
       "14291        Jana Dítětová (27934)        1926.0\n",
       "15066        Jiří Langmajer (2981)        1966.0\n",
       "19346       Marie Rosůlková (4751)        1901.0\n",
       "19537          Václav Štekl (4862)        1929.0\n",
       "19871             Pavel Nový (510)        1948.0\n",
       "19993       Zdeněk Martínek (5173)        1923.0\n",
       "20938       Vladimír Majer (56169)        1894.0\n",
       "21528      Jindřich Plachta (5829)        1899.0\n",
       "22821       Felix le Breux (64127)        1918.0\n",
       "24356  František Kreuzmann (75624)        1895.0\n",
       "27480          Ota Motyčka (81341)        1899.0\n",
       "30649       Vladimír Huber (87403)        1913.0"
      ]
     },
     "execution_count": 32,
     "metadata": {},
     "output_type": "execute_result"
    }
   ],
   "source": [
    "persony[(persony[\"Jméno\"].isin(top500) & (persony[\"Město narození\"] == \"Plzeň\"))][[\"Jméno\",\"Rok narození\"]]"
   ]
  },
  {
   "cell_type": "code",
   "execution_count": 33,
   "id": "31af78da",
   "metadata": {},
   "outputs": [
    {
     "data": {
      "text/html": [
       "<div>\n",
       "<style scoped>\n",
       "    .dataframe tbody tr th:only-of-type {\n",
       "        vertical-align: middle;\n",
       "    }\n",
       "\n",
       "    .dataframe tbody tr th {\n",
       "        vertical-align: top;\n",
       "    }\n",
       "\n",
       "    .dataframe thead th {\n",
       "        text-align: right;\n",
       "    }\n",
       "</style>\n",
       "<table border=\"1\" class=\"dataframe\">\n",
       "  <thead>\n",
       "    <tr style=\"text-align: right;\">\n",
       "      <th></th>\n",
       "      <th>Jméno</th>\n",
       "      <th>Rok narození</th>\n",
       "    </tr>\n",
       "  </thead>\n",
       "  <tbody>\n",
       "    <tr>\n",
       "      <th>7356</th>\n",
       "      <td>Luděk Munzar (12942)</td>\n",
       "      <td>1933.0</td>\n",
       "    </tr>\n",
       "    <tr>\n",
       "      <th>19510</th>\n",
       "      <td>Rudolf Hrušínský st. (4842)</td>\n",
       "      <td>1920.0</td>\n",
       "    </tr>\n",
       "  </tbody>\n",
       "</table>\n",
       "</div>"
      ],
      "text/plain": [
       "                             Jméno  Rok narození\n",
       "7356          Luděk Munzar (12942)        1933.0\n",
       "19510  Rudolf Hrušínský st. (4842)        1920.0"
      ]
     },
     "execution_count": 33,
     "metadata": {},
     "output_type": "execute_result"
    }
   ],
   "source": [
    "persony[(persony[\"Jméno\"].isin(top500) & (persony[\"Město narození\"] == \"Nová Včelnice u Kamenice nad Lipou\"))][[\"Jméno\",\"Rok narození\"]]"
   ]
  },
  {
   "cell_type": "code",
   "execution_count": 34,
   "id": "b13c81ea",
   "metadata": {},
   "outputs": [
    {
     "data": {
      "text/html": [
       "<div>\n",
       "<style scoped>\n",
       "    .dataframe tbody tr th:only-of-type {\n",
       "        vertical-align: middle;\n",
       "    }\n",
       "\n",
       "    .dataframe tbody tr th {\n",
       "        vertical-align: top;\n",
       "    }\n",
       "\n",
       "    .dataframe thead th {\n",
       "        text-align: right;\n",
       "    }\n",
       "</style>\n",
       "<table border=\"1\" class=\"dataframe\">\n",
       "  <thead>\n",
       "    <tr style=\"text-align: right;\">\n",
       "      <th></th>\n",
       "      <th>Jméno</th>\n",
       "      <th>Rok narození</th>\n",
       "    </tr>\n",
       "  </thead>\n",
       "  <tbody>\n",
       "    <tr>\n",
       "      <th>4274</th>\n",
       "      <td>Jan Maška (126431)</td>\n",
       "      <td>1921.0</td>\n",
       "    </tr>\n",
       "    <tr>\n",
       "      <th>17111</th>\n",
       "      <td>Václav Trégl (35224)</td>\n",
       "      <td>1902.0</td>\n",
       "    </tr>\n",
       "  </tbody>\n",
       "</table>\n",
       "</div>"
      ],
      "text/plain": [
       "                      Jméno  Rok narození\n",
       "4274     Jan Maška (126431)        1921.0\n",
       "17111  Václav Trégl (35224)        1902.0"
      ]
     },
     "execution_count": 34,
     "metadata": {},
     "output_type": "execute_result"
    }
   ],
   "source": [
    "persony[(persony[\"Jméno\"].isin(top500) & (persony[\"Město narození\"] == \"Bělá pod Bezdězem\"))][[\"Jméno\",\"Rok narození\"]]"
   ]
  },
  {
   "cell_type": "code",
   "execution_count": 35,
   "id": "c90cb125",
   "metadata": {},
   "outputs": [
    {
     "data": {
      "text/html": [
       "<div>\n",
       "<style scoped>\n",
       "    .dataframe tbody tr th:only-of-type {\n",
       "        vertical-align: middle;\n",
       "    }\n",
       "\n",
       "    .dataframe tbody tr th {\n",
       "        vertical-align: top;\n",
       "    }\n",
       "\n",
       "    .dataframe thead th {\n",
       "        text-align: right;\n",
       "    }\n",
       "</style>\n",
       "<table border=\"1\" class=\"dataframe\">\n",
       "  <thead>\n",
       "    <tr style=\"text-align: right;\">\n",
       "      <th></th>\n",
       "      <th>Jméno</th>\n",
       "      <th>Rok narození</th>\n",
       "    </tr>\n",
       "  </thead>\n",
       "  <tbody>\n",
       "    <tr>\n",
       "      <th>5376</th>\n",
       "      <td>Alois Dvorský (127491)</td>\n",
       "      <td>1883.0</td>\n",
       "    </tr>\n",
       "    <tr>\n",
       "      <th>20244</th>\n",
       "      <td>Stanislav Fišer (5344)</td>\n",
       "      <td>1931.0</td>\n",
       "    </tr>\n",
       "  </tbody>\n",
       "</table>\n",
       "</div>"
      ],
      "text/plain": [
       "                        Jméno  Rok narození\n",
       "5376   Alois Dvorský (127491)        1883.0\n",
       "20244  Stanislav Fišer (5344)        1931.0"
      ]
     },
     "execution_count": 35,
     "metadata": {},
     "output_type": "execute_result"
    }
   ],
   "source": [
    "persony[(persony[\"Jméno\"].isin(top500) & (persony[\"Město narození\"] == \"Hořice v Podkrkonoší\"))][[\"Jméno\",\"Rok narození\"]]"
   ]
  },
  {
   "cell_type": "code",
   "execution_count": 36,
   "id": "76e67f29",
   "metadata": {
    "scrolled": true
   },
   "outputs": [
    {
     "data": {
      "text/html": [
       "<div>\n",
       "<style scoped>\n",
       "    .dataframe tbody tr th:only-of-type {\n",
       "        vertical-align: middle;\n",
       "    }\n",
       "\n",
       "    .dataframe tbody tr th {\n",
       "        vertical-align: top;\n",
       "    }\n",
       "\n",
       "    .dataframe thead th {\n",
       "        text-align: right;\n",
       "    }\n",
       "</style>\n",
       "<table border=\"1\" class=\"dataframe\">\n",
       "  <thead>\n",
       "    <tr style=\"text-align: right;\">\n",
       "      <th></th>\n",
       "      <th>Jméno</th>\n",
       "      <th>Rok narození</th>\n",
       "    </tr>\n",
       "  </thead>\n",
       "  <tbody>\n",
       "    <tr>\n",
       "      <th>1985</th>\n",
       "      <td>Jan Kačer (1165)</td>\n",
       "      <td>1936.0</td>\n",
       "    </tr>\n",
       "    <tr>\n",
       "      <th>17533</th>\n",
       "      <td>Václav Lohniský (36488)</td>\n",
       "      <td>1920.0</td>\n",
       "    </tr>\n",
       "  </tbody>\n",
       "</table>\n",
       "</div>"
      ],
      "text/plain": [
       "                         Jméno  Rok narození\n",
       "1985          Jan Kačer (1165)        1936.0\n",
       "17533  Václav Lohniský (36488)        1920.0"
      ]
     },
     "execution_count": 36,
     "metadata": {},
     "output_type": "execute_result"
    }
   ],
   "source": [
    "persony[(persony[\"Jméno\"].isin(top500) & (persony[\"Město narození\"] == \"Holice\"))][[\"Jméno\",\"Rok narození\"]][[\"Jméno\",\"Rok narození\"]]"
   ]
  },
  {
   "cell_type": "code",
   "execution_count": 37,
   "id": "2787d0c3",
   "metadata": {},
   "outputs": [
    {
     "data": {
      "text/html": [
       "<div>\n",
       "<style scoped>\n",
       "    .dataframe tbody tr th:only-of-type {\n",
       "        vertical-align: middle;\n",
       "    }\n",
       "\n",
       "    .dataframe tbody tr th {\n",
       "        vertical-align: top;\n",
       "    }\n",
       "\n",
       "    .dataframe thead th {\n",
       "        text-align: right;\n",
       "    }\n",
       "</style>\n",
       "<table border=\"1\" class=\"dataframe\">\n",
       "  <thead>\n",
       "    <tr style=\"text-align: right;\">\n",
       "      <th></th>\n",
       "      <th>Jméno</th>\n",
       "      <th>Rok narození</th>\n",
       "    </tr>\n",
       "  </thead>\n",
       "  <tbody>\n",
       "    <tr>\n",
       "      <th>20685</th>\n",
       "      <td>Josef Střecha (55613)</td>\n",
       "      <td>1907.0</td>\n",
       "    </tr>\n",
       "    <tr>\n",
       "      <th>26363</th>\n",
       "      <td>Oleg Reif (7964)</td>\n",
       "      <td>1928.0</td>\n",
       "    </tr>\n",
       "  </tbody>\n",
       "</table>\n",
       "</div>"
      ],
      "text/plain": [
       "                       Jméno  Rok narození\n",
       "20685  Josef Střecha (55613)        1907.0\n",
       "26363       Oleg Reif (7964)        1928.0"
      ]
     },
     "execution_count": 37,
     "metadata": {},
     "output_type": "execute_result"
    }
   ],
   "source": [
    "persony[(persony[\"Jméno\"].isin(top500) & (persony[\"Město narození\"] == \"Úvaly u Prahy\"))][[\"Jméno\",\"Rok narození\"]]"
   ]
  },
  {
   "cell_type": "code",
   "execution_count": 38,
   "id": "992559df",
   "metadata": {},
   "outputs": [
    {
     "data": {
      "text/html": [
       "<div>\n",
       "<style scoped>\n",
       "    .dataframe tbody tr th:only-of-type {\n",
       "        vertical-align: middle;\n",
       "    }\n",
       "\n",
       "    .dataframe tbody tr th {\n",
       "        vertical-align: top;\n",
       "    }\n",
       "\n",
       "    .dataframe thead th {\n",
       "        text-align: right;\n",
       "    }\n",
       "</style>\n",
       "<table border=\"1\" class=\"dataframe\">\n",
       "  <thead>\n",
       "    <tr style=\"text-align: right;\">\n",
       "      <th></th>\n",
       "      <th>Jméno</th>\n",
       "      <th>Rok narození</th>\n",
       "    </tr>\n",
       "  </thead>\n",
       "  <tbody>\n",
       "    <tr>\n",
       "      <th>14641</th>\n",
       "      <td>Bronislav Poloczek (2877)</td>\n",
       "      <td>1939.0</td>\n",
       "    </tr>\n",
       "    <tr>\n",
       "      <th>20102</th>\n",
       "      <td>Marie Glázrová (5247)</td>\n",
       "      <td>1911.0</td>\n",
       "    </tr>\n",
       "  </tbody>\n",
       "</table>\n",
       "</div>"
      ],
      "text/plain": [
       "                           Jméno  Rok narození\n",
       "14641  Bronislav Poloczek (2877)        1939.0\n",
       "20102      Marie Glázrová (5247)        1911.0"
      ]
     },
     "execution_count": 38,
     "metadata": {},
     "output_type": "execute_result"
    }
   ],
   "source": [
    "persony[(persony[\"Jméno\"].isin(top500) & (persony[\"Město narození\"] == \"Horní Suchá u Karviné\"))][[\"Jméno\",\"Rok narození\"]]"
   ]
  },
  {
   "cell_type": "markdown",
   "id": "c4a5aee1",
   "metadata": {},
   "source": [
    "### Úmrtí"
   ]
  },
  {
   "cell_type": "markdown",
   "id": "7c950d79",
   "metadata": {},
   "source": [
    "Místa úmrtí stovky nejobsazovanějších:"
   ]
  },
  {
   "cell_type": "code",
   "execution_count": 39,
   "id": "1b5b1946",
   "metadata": {},
   "outputs": [
    {
     "data": {
      "text/plain": [
       "Město úmrtí\n",
       "Praha                               338\n",
       "Brno                                  5\n",
       "Plzeň                                 5\n",
       "Mělník                                3\n",
       "Nová Ves pod Pleší                    3\n",
       "Bratislava                            2\n",
       "Olomouc                               2\n",
       "Říčany u Prahy                        2\n",
       "Bořanovice u Prahy                    1\n",
       "Brandýs nad Labem                     1\n",
       "Hamburk                               1\n",
       "Hollenstedt                           1\n",
       "Hostivice u Prahy                     1\n",
       "Houštka u Mladé Boleslavi             1\n",
       "Hradec Králové                        1\n",
       "Jilemnice                             1\n",
       "Kalifornie                            1\n",
       "Karlovy Vary                          1\n",
       "Kladno                                1\n",
       "Kralupy nad Vltavou                   1\n",
       "Kytín                                 1\n",
       "Letovice u Blanska                    1\n",
       "Liberec                               1\n",
       "Libochovice u Roudnice nad Labem      1\n",
       "Mladá Vožice u Tábora                 1\n",
       "Mukařov u Prahy                       1\n",
       "Ostrava                               1\n",
       "Pardubice                             1\n",
       "Poděbrady                             1\n",
       "Písek                                 1\n",
       "Příbram                               1\n",
       "Slunečná u České Lípy                 1\n",
       "Split                                 1\n",
       "Svojšice u Kolína                     1\n",
       "Vrané nad Vltavou                     1\n",
       "Vrchlabí                              1\n",
       "Winnipeg                              1\n",
       "Zlín                                  1\n",
       "Záhřeb                                1\n",
       "koncentrační tábor Terezín            1\n",
       "Name: Jméno, dtype: int64"
      ]
     },
     "execution_count": 39,
     "metadata": {},
     "output_type": "execute_result"
    }
   ],
   "source": [
    "persony[persony[\"Jméno\"].isin(top500)].groupby(\"Město úmrtí\")[\"Jméno\"].nunique().nlargest(40)"
   ]
  },
  {
   "cell_type": "markdown",
   "id": "78fe163d",
   "metadata": {},
   "source": [
    "Kdo umřel v Nové vsi:"
   ]
  },
  {
   "cell_type": "code",
   "execution_count": 40,
   "id": "e077cc28",
   "metadata": {},
   "outputs": [
    {
     "data": {
      "text/html": [
       "<div>\n",
       "<style scoped>\n",
       "    .dataframe tbody tr th:only-of-type {\n",
       "        vertical-align: middle;\n",
       "    }\n",
       "\n",
       "    .dataframe tbody tr th {\n",
       "        vertical-align: top;\n",
       "    }\n",
       "\n",
       "    .dataframe thead th {\n",
       "        text-align: right;\n",
       "    }\n",
       "</style>\n",
       "<table border=\"1\" class=\"dataframe\">\n",
       "  <thead>\n",
       "    <tr style=\"text-align: right;\">\n",
       "      <th></th>\n",
       "      <th>Jméno</th>\n",
       "      <th>Rok úmrtí</th>\n",
       "    </tr>\n",
       "  </thead>\n",
       "  <tbody>\n",
       "    <tr>\n",
       "      <th>797</th>\n",
       "      <td>Josef Somr (1054)</td>\n",
       "      <td>2022.0</td>\n",
       "    </tr>\n",
       "    <tr>\n",
       "      <th>13887</th>\n",
       "      <td>Věra Kalendová (27289)</td>\n",
       "      <td>2003.0</td>\n",
       "    </tr>\n",
       "    <tr>\n",
       "      <th>17893</th>\n",
       "      <td>Vladimír Brabec (3858)</td>\n",
       "      <td>2017.0</td>\n",
       "    </tr>\n",
       "  </tbody>\n",
       "</table>\n",
       "</div>"
      ],
      "text/plain": [
       "                        Jméno  Rok úmrtí\n",
       "797         Josef Somr (1054)     2022.0\n",
       "13887  Věra Kalendová (27289)     2003.0\n",
       "17893  Vladimír Brabec (3858)     2017.0"
      ]
     },
     "execution_count": 40,
     "metadata": {},
     "output_type": "execute_result"
    }
   ],
   "source": [
    "persony[(persony[\"Jméno\"].isin(top500) & (persony[\"Město úmrtí\"] == \"Nová Ves pod Pleší\"))][[\"Jméno\",\"Rok úmrtí\"]]"
   ]
  },
  {
   "cell_type": "markdown",
   "id": "c1babf59",
   "metadata": {},
   "source": [
    "Kdo v Mělníku:"
   ]
  },
  {
   "cell_type": "code",
   "execution_count": 41,
   "id": "c145b963",
   "metadata": {},
   "outputs": [
    {
     "data": {
      "text/html": [
       "<div>\n",
       "<style scoped>\n",
       "    .dataframe tbody tr th:only-of-type {\n",
       "        vertical-align: middle;\n",
       "    }\n",
       "\n",
       "    .dataframe tbody tr th {\n",
       "        vertical-align: top;\n",
       "    }\n",
       "\n",
       "    .dataframe thead th {\n",
       "        text-align: right;\n",
       "    }\n",
       "</style>\n",
       "<table border=\"1\" class=\"dataframe\">\n",
       "  <thead>\n",
       "    <tr style=\"text-align: right;\">\n",
       "      <th></th>\n",
       "      <th>Jméno</th>\n",
       "      <th>Rok úmrtí</th>\n",
       "    </tr>\n",
       "  </thead>\n",
       "  <tbody>\n",
       "    <tr>\n",
       "      <th>5203</th>\n",
       "      <td>Betty Kysilková (127318)</td>\n",
       "      <td>1951.0</td>\n",
       "    </tr>\n",
       "    <tr>\n",
       "      <th>12121</th>\n",
       "      <td>Josef Abrhám (2274)</td>\n",
       "      <td>2022.0</td>\n",
       "    </tr>\n",
       "    <tr>\n",
       "      <th>20280</th>\n",
       "      <td>Jana Andresíková (5378)</td>\n",
       "      <td>2020.0</td>\n",
       "    </tr>\n",
       "  </tbody>\n",
       "</table>\n",
       "</div>"
      ],
      "text/plain": [
       "                          Jméno  Rok úmrtí\n",
       "5203   Betty Kysilková (127318)     1951.0\n",
       "12121       Josef Abrhám (2274)     2022.0\n",
       "20280   Jana Andresíková (5378)     2020.0"
      ]
     },
     "execution_count": 41,
     "metadata": {},
     "output_type": "execute_result"
    }
   ],
   "source": [
    "persony[(persony[\"Jméno\"].isin(top500) & (persony[\"Město úmrtí\"] == \"Mělník\"))][[\"Jméno\",\"Rok úmrtí\"]]"
   ]
  },
  {
   "cell_type": "markdown",
   "id": "0d2fb8a5",
   "metadata": {},
   "source": [
    "## Rodiště režisérů"
   ]
  },
  {
   "cell_type": "markdown",
   "id": "9b9ecc2c",
   "metadata": {},
   "source": [
    "Stovka nejproduktivnějších režisérů:"
   ]
  },
  {
   "cell_type": "code",
   "execution_count": 42,
   "id": "f49d81fc",
   "metadata": {},
   "outputs": [],
   "source": [
    "top100r = df.explode(\"Režie\").groupby(\"Režie\")[\"Film\"].nunique().nlargest(100).index.to_list()"
   ]
  },
  {
   "cell_type": "code",
   "execution_count": 43,
   "id": "8557efab",
   "metadata": {},
   "outputs": [
    {
     "data": {
      "text/plain": [
       "Město narození\n",
       "Praha                          41\n",
       "Brno                            3\n",
       "Kladno                          3\n",
       "Plzeň                           3\n",
       "Ostrava                         2\n",
       "Prostějov                       2\n",
       "České Budějovice                2\n",
       "Český Těšín                     2\n",
       "Berlín                          1\n",
       "Bratislava                      1\n",
       "Březové Hory u Příbrami         1\n",
       "Chrudim                         1\n",
       "Dobrošov u Náchoda              1\n",
       "Dobřany                         1\n",
       "Dolní Lukavice                  1\n",
       "Dolní Štěpanice u Jilemnice     1\n",
       "Hradec Králové                  1\n",
       "Karlovy Vary                    1\n",
       "Katovice u Strakonic            1\n",
       "Kelč u Valašského Meziříčí      1\n",
       "Kežmarok                        1\n",
       "Ledeč nad Sázavou               1\n",
       "Lomnice nad Popelkou            1\n",
       "Lublaň                          1\n",
       "Michalovce u Humenné            1\n",
       "Mladá Boleslav                  1\n",
       "Moravské Budějovice             1\n",
       "Moskva                          1\n",
       "Mělník                          1\n",
       "Náchod                          1\n",
       "Nýřany u Plzně                  1\n",
       "Opava                           1\n",
       "Pelhřimov                       1\n",
       "Piešťany                        1\n",
       "Písek                           1\n",
       "Sarajevo                        1\n",
       "Strakonice                      1\n",
       "Sušice na Šumavě                1\n",
       "Tišnov                          1\n",
       "Turnov                          1\n",
       "Name: Jméno, dtype: int64"
      ]
     },
     "execution_count": 43,
     "metadata": {},
     "output_type": "execute_result"
    }
   ],
   "source": [
    "persony[persony[\"Jméno\"].isin(top100r)].groupby(\"Město narození\")[\"Jméno\"].nunique().nlargest(40)"
   ]
  },
  {
   "cell_type": "code",
   "execution_count": 44,
   "id": "6e772de2",
   "metadata": {},
   "outputs": [
    {
     "data": {
      "text/html": [
       "<div>\n",
       "<style scoped>\n",
       "    .dataframe tbody tr th:only-of-type {\n",
       "        vertical-align: middle;\n",
       "    }\n",
       "\n",
       "    .dataframe tbody tr th {\n",
       "        vertical-align: top;\n",
       "    }\n",
       "\n",
       "    .dataframe thead th {\n",
       "        text-align: right;\n",
       "    }\n",
       "</style>\n",
       "<table border=\"1\" class=\"dataframe\">\n",
       "  <thead>\n",
       "    <tr style=\"text-align: right;\">\n",
       "      <th></th>\n",
       "      <th>Jméno</th>\n",
       "      <th>Rok narození</th>\n",
       "    </tr>\n",
       "  </thead>\n",
       "  <tbody>\n",
       "    <tr>\n",
       "      <th>9840</th>\n",
       "      <td>Jiří Svoboda (1703)</td>\n",
       "      <td>1945.0</td>\n",
       "    </tr>\n",
       "    <tr>\n",
       "      <th>19627</th>\n",
       "      <td>Zdenek Sirový (4935)</td>\n",
       "      <td>1932.0</td>\n",
       "    </tr>\n",
       "    <tr>\n",
       "      <th>25975</th>\n",
       "      <td>Antonín Kachlík (7880)</td>\n",
       "      <td>1923.0</td>\n",
       "    </tr>\n",
       "  </tbody>\n",
       "</table>\n",
       "</div>"
      ],
      "text/plain": [
       "                        Jméno  Rok narození\n",
       "9840      Jiří Svoboda (1703)        1945.0\n",
       "19627    Zdenek Sirový (4935)        1932.0\n",
       "25975  Antonín Kachlík (7880)        1923.0"
      ]
     },
     "execution_count": 44,
     "metadata": {},
     "output_type": "execute_result"
    }
   ],
   "source": [
    "persony[(persony[\"Jméno\"].isin(top100r)) & (persony[\"Město narození\"] == \"Kladno\")][[\"Jméno\",\"Rok narození\"]]"
   ]
  },
  {
   "cell_type": "code",
   "execution_count": 45,
   "id": "576bc063",
   "metadata": {},
   "outputs": [
    {
     "data": {
      "text/html": [
       "<div>\n",
       "<style scoped>\n",
       "    .dataframe tbody tr th:only-of-type {\n",
       "        vertical-align: middle;\n",
       "    }\n",
       "\n",
       "    .dataframe tbody tr th {\n",
       "        vertical-align: top;\n",
       "    }\n",
       "\n",
       "    .dataframe thead th {\n",
       "        text-align: right;\n",
       "    }\n",
       "</style>\n",
       "<table border=\"1\" class=\"dataframe\">\n",
       "  <thead>\n",
       "    <tr style=\"text-align: right;\">\n",
       "      <th></th>\n",
       "      <th>Jméno</th>\n",
       "      <th>Rok narození</th>\n",
       "    </tr>\n",
       "  </thead>\n",
       "  <tbody>\n",
       "    <tr>\n",
       "      <th>17355</th>\n",
       "      <td>Milan Cieslar (3593)</td>\n",
       "      <td>1960.0</td>\n",
       "    </tr>\n",
       "    <tr>\n",
       "      <th>20011</th>\n",
       "      <td>František Vláčil (5191)</td>\n",
       "      <td>1924.0</td>\n",
       "    </tr>\n",
       "  </tbody>\n",
       "</table>\n",
       "</div>"
      ],
      "text/plain": [
       "                         Jméno  Rok narození\n",
       "17355     Milan Cieslar (3593)        1960.0\n",
       "20011  František Vláčil (5191)        1924.0"
      ]
     },
     "execution_count": 45,
     "metadata": {},
     "output_type": "execute_result"
    }
   ],
   "source": [
    "persony[(persony[\"Jméno\"].isin(top100r)) & (persony[\"Město narození\"] == \"Český Těšín\")][[\"Jméno\",\"Rok narození\"]]"
   ]
  },
  {
   "cell_type": "markdown",
   "id": "20f1d1ea",
   "metadata": {},
   "source": [
    "## Podpora krajů a měst"
   ]
  },
  {
   "cell_type": "markdown",
   "id": "2a6b71c7",
   "metadata": {},
   "source": [
    "Filmy všech délek a roků výroby:"
   ]
  },
  {
   "cell_type": "code",
   "execution_count": 46,
   "id": "5ce282b8",
   "metadata": {},
   "outputs": [],
   "source": [
    "df = df.explode(\"S podporou\")"
   ]
  },
  {
   "cell_type": "code",
   "execution_count": 47,
   "id": "2045aaa6",
   "metadata": {},
   "outputs": [
    {
     "data": {
      "text/plain": [
       "S podporou\n",
       "Olomoucký kraj (104864)                   7\n",
       "Plzeňský kraj (99379)                     7\n",
       "Zlínský kraj (106382)                     7\n",
       "Bratislavský samosprávny kraj (115876)    6\n",
       "Jihomoravský kraj (103896)                5\n",
       "Moravskoslezský kraj (106661)             5\n",
       "Pardubický kraj (106782)                  3\n",
       "Středočeský kraj (105447)                 3\n",
       "Jihočeský kraj (106419)                   2\n",
       "Kraj Vysočina (106387)                    2\n",
       "Královéhradecký kraj (106795)             1\n",
       "Liberecký kraj (106641)                   1\n",
       "Name: Film, dtype: int64"
      ]
     },
     "execution_count": 47,
     "metadata": {},
     "output_type": "execute_result"
    }
   ],
   "source": [
    "df[df[\"S podporou\"].str.lower().str.contains(\"kraj\",na=False)].groupby(\"S podporou\")[\"Film\"].nunique().nlargest(20)"
   ]
  },
  {
   "cell_type": "code",
   "execution_count": 48,
   "id": "9f7b58fb",
   "metadata": {},
   "outputs": [],
   "source": [
    "kraje = df[df[\"S podporou\"].str.lower().str.contains(\"kraj\",na=False)].groupby(\"S podporou\")[\"Film\"].nunique().nlargest(20).index.to_list()"
   ]
  },
  {
   "cell_type": "code",
   "execution_count": 49,
   "id": "29bf4987",
   "metadata": {},
   "outputs": [
    {
     "name": "stdout",
     "output_type": "stream",
     "text": [
      "OLOMOUCKÝ KRAJ (104864)\n",
      "Krásno (147514), Rudý kapitán (400698), Kvarteto (401673), Na tělo (401748), Případ mrtvého nebožtíka (402009), Zpráva o záchraně mrtvého (402179), Velká premiéra (402234)\n",
      "***\n",
      "PLZEŇSKÝ KRAJ (99379)\n",
      "Čertí brko (401838), Nabarvené ptáče (401962), Úhoři mají nabito (401892), Svět podle Muchy (402075), Prvok, Šampón, Tečka a Karel (402144), Mazel a tajemství lesa (402139), Cesta domů (402219)\n",
      "***\n",
      "ZLÍNSKÝ KRAJ (106382)\n",
      "Domácí péče (400580), Na tělo (401748), Úsměvy smutných mužů (401749), TvMiniUni: Zloděj otázek (401970), Smečka (402099), Zpráva o záchraně mrtvého (402179), Atlas ptáků (402154)\n",
      "***\n",
      "BRATISLAVSKÝ SAMOSPRÁVNY KRAJ (115876)\n",
      "Nina (401835), Špína (401181), Okupace 1968 (401776), Žáby bez jazyka (402141), Ostrým nožom (402013), Služebníci (402167)\n",
      "***\n",
      "JIHOMORAVSKÝ KRAJ (103896)\n",
      "Svatba na bitevním poli (55096), Jmenuji se Hladový Bizon (401658), Dobrý život sokola Bendy (401806), Dunaj vědomí (401965), Svět podle Muchy (402075)\n",
      "***\n",
      "MORAVSKOSLEZSKÝ KRAJ (106661)\n",
      "Zakázané uvolnění (400556), Přes prsty (401981), Ženská pomsta (402078), Nová šichta (402086), Budiž voda! (402151)\n",
      "***\n",
      "PARDUBICKÝ KRAJ (106782)\n",
      "Já, Olga Hepnarová (400761), LOVEní (401928), Můj život s Bohuslavem Martinů (402136)\n",
      "***\n",
      "STŘEDOČESKÝ KRAJ (105447)\n",
      "Anglické jahody (66122), Pouť krkonošská (402059), Jan Žižka (402240)\n",
      "***\n",
      "JIHOČESKÝ KRAJ (106419)\n",
      "Zakleté pírko (402047), Krajina ve stínu (402170)\n",
      "***\n",
      "KRAJ VYSOČINA (106387)\n",
      "Chvilky (401787), Čertí brko (401838)\n",
      "***\n",
      "KRÁLOVÉHRADECKÝ KRAJ (106795)\n",
      "Pouť krkonošská (402059)\n",
      "***\n",
      "LIBERECKÝ KRAJ (106641)\n",
      "Pouť krkonošská (402059)\n",
      "***\n"
     ]
    }
   ],
   "source": [
    "for k in kraje:\n",
    "    print(k.upper())\n",
    "    print(\", \".join(df[df[\"S podporou\"] == k][\"Film\"].drop_duplicates().to_list()))\n",
    "    print(\"***\")"
   ]
  },
  {
   "cell_type": "code",
   "execution_count": 50,
   "id": "dbe1fb07",
   "metadata": {},
   "outputs": [],
   "source": [
    "mesta = df[df[\"S podporou\"].str.lower().str.contains(\"měst\",na=False)].groupby(\"S podporou\")[\"Film\"].nunique().nlargest(20).index.to_list()"
   ]
  },
  {
   "cell_type": "code",
   "execution_count": 51,
   "id": "79e29599",
   "metadata": {},
   "outputs": [
    {
     "name": "stdout",
     "output_type": "stream",
     "text": [
      "MAGISTRÁT HLAVNÍHO MĚSTA PRAHY (99476)\n",
      "Marian (9102), Štvrtý statočný Tereza Kučerová / Pražské nokturno aneb Komora (53057), Anděl Exit (260), Musíme si pomáhat (15231), Noční hovory s matkou (19317), Sentiment (20337), Pravidla lži (44399), Sestra (66053), Anglické jahody (66122), Jan Hus – mše za tři mrtvé muže (103341), Lidice (103495), Ve stínu (66076), Ignatia Amara (402014), Mánes na vodě (400633), Takovej barevnej vocas letící komety (400654), Jako z filmu (401239), Lichožrouti (400940), Masaryk (401331), Jiří & Otto Bubeníček (401237), Svět podle Muchy (402075), Muž zbavený tíže (402137), Planeta Praha (402218)\n",
      "***\n",
      "STATUTÁRNÍ MĚSTO BRNO (106434)\n",
      "Jmenuji se Hladový Bizon (401658), Dobrý život sokola Bendy (401806), Dunaj vědomí (401965), Skleněný pokoj (401929), Svět podle Muchy (402075)\n",
      "***\n",
      "STATUTÁRNÍ MĚSTO OLOMOUC (101702)\n",
      "Kvarteto (401673), Případ mrtvého nebožtíka (402009), Zpráva o záchraně mrtvého (402179), Velká premiéra (402234)\n",
      "***\n",
      "STATUTÁRNÍ MĚSTO OSTRAVA (97257)\n",
      "Sluneční stát (36261), Karel Reisz, Ten filmový život (172433)\n",
      "***\n",
      "MĚSTO POLIČKA (73012)\n",
      "Můj život s Bohuslavem Martinů (402136)\n",
      "***\n",
      "MĚSTO SUCHDOL NAD LUŽNICÍ (92677)\n",
      "Krajina ve stínu (402170)\n",
      "***\n",
      "MĚSTO ZNOJMO (124397)\n",
      "Až zařve lev (402204)\n",
      "***\n",
      "MĚSTO ŠUMPERK (110787)\n",
      "Krásno (147514)\n",
      "***\n",
      "MĚSTSKÁ ČÁST PRAHA 1 (109800)\n",
      "Pouť krkonošská (402059)\n",
      "***\n",
      "MĚSTSKÁ ČÁST PRAHA 2 (87650)\n",
      "Pouť krkonošská (402059)\n",
      "***\n",
      "MĚSTSKÁ ČÁST PRAHA 5 (102224)\n",
      "Planeta Praha (402218)\n",
      "***\n",
      "STATUTÁRNÍ MĚSTO PARDUBICE (99140)\n",
      "LOVEní (401928)\n",
      "***\n",
      "STATUTÁRNÍ MĚSTO ZLÍN (99337)\n",
      "Filmový dobrodruh Karel Zeman (400631)\n",
      "***\n"
     ]
    }
   ],
   "source": [
    "for k in mesta:\n",
    "    print(k.upper())\n",
    "    print(\", \".join(df[df[\"S podporou\"] == k][\"Film\"].drop_duplicates().to_list()))\n",
    "    print(\"***\")"
   ]
  }
 ],
 "metadata": {
  "kernelspec": {
   "display_name": "Python 3 (ipykernel)",
   "language": "python",
   "name": "python3"
  },
  "language_info": {
   "codemirror_mode": {
    "name": "ipython",
    "version": 3
   },
   "file_extension": ".py",
   "mimetype": "text/x-python",
   "name": "python",
   "nbconvert_exporter": "python",
   "pygments_lexer": "ipython3",
   "version": "3.10.8"
  }
 },
 "nbformat": 4,
 "nbformat_minor": 5
}
