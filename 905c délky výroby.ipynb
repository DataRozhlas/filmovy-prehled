{
 "cells": [
  {
   "cell_type": "code",
   "execution_count": 1,
   "id": "4b1edddb",
   "metadata": {},
   "outputs": [
    {
     "name": "stdout",
     "output_type": "stream",
     "text": [
      "2023/06/06 18:10:38 z 4555 řádků odstraněno 133. Aktuální dataframe má 4422 řádků.\n"
     ]
    }
   ],
   "source": [
    "import os\n",
    "import json\n",
    "import pandas as pd\n",
    "from src.vycisti import vycisti\n",
    "pd.set_option('display.max_columns', None)\n",
    "df = pd.read_json(os.path.join(\"data\", \"filmy.json\"))\n",
    "with open(os.path.join(\"data_fixes\", \"opravy.json\"), encoding=\"utf-8\") as opravy:\n",
    "    opravy = json.loads(opravy.read())\n",
    "with open(os.path.join(\"data_fixes\", \"seznamy.json\"), encoding=\"utf-8\") as seznamy:\n",
    "    seznamy = json.loads(seznamy.read())\n",
    "df = vycisti(df, opravy)"
   ]
  },
  {
   "cell_type": "code",
   "execution_count": 2,
   "id": "b65f5422",
   "metadata": {},
   "outputs": [],
   "source": [
    "hcf = df[df[\"Délka\"] == \"dlouhometrážní\"].explode(\"Typologie\")\n",
    "hcf = hcf[hcf[\"Typologie\"] == \"hraný\"]"
   ]
  },
  {
   "cell_type": "code",
   "execution_count": 3,
   "id": "3593e69d",
   "metadata": {},
   "outputs": [],
   "source": [
    "hcf[\"Délka výroby\"] = hcf[\"Konec výroby\"] - hcf[\"Začátek výroby\"] "
   ]
  },
  {
   "cell_type": "code",
   "execution_count": 4,
   "id": "46acbc08",
   "metadata": {},
   "outputs": [],
   "source": [
    "hcf[\"Délka výroby\"] = hcf[\"Copyright\"] - hcf[\"Začátek výroby\"] "
   ]
  },
  {
   "cell_type": "code",
   "execution_count": 5,
   "id": "c21684fa",
   "metadata": {},
   "outputs": [
    {
     "data": {
      "text/plain": [
       "1.0"
      ]
     },
     "execution_count": 5,
     "metadata": {},
     "output_type": "execute_result"
    }
   ],
   "source": [
    "hcf[hcf[\"Copyright\"] > 1998][\"Délka výroby\"].median()"
   ]
  }
 ],
 "metadata": {
  "kernelspec": {
   "display_name": "Python 3 (ipykernel)",
   "language": "python",
   "name": "python3"
  },
  "language_info": {
   "codemirror_mode": {
    "name": "ipython",
    "version": 3
   },
   "file_extension": ".py",
   "mimetype": "text/x-python",
   "name": "python",
   "nbconvert_exporter": "python",
   "pygments_lexer": "ipython3",
   "version": "3.10.8"
  }
 },
 "nbformat": 4,
 "nbformat_minor": 5
}
