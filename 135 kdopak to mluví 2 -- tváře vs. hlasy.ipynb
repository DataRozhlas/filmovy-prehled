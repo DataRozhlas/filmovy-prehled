{
 "cells": [
  {
   "cell_type": "code",
   "execution_count": 1,
   "id": "b0682c4d",
   "metadata": {},
   "outputs": [],
   "source": [
    "import os\n",
    "import pandas as pd\n",
    "daberstvo = pd.read_json(os.path.join(\"data\", \"daberstvo.json\"))"
   ]
  },
  {
   "cell_type": "code",
   "execution_count": 2,
   "id": "3c5eb28c",
   "metadata": {},
   "outputs": [
    {
     "data": {
      "text/plain": [
       "Index(['Film', 'Hraje', 'Mluví'], dtype='object')"
      ]
     },
     "execution_count": 2,
     "metadata": {},
     "output_type": "execute_result"
    }
   ],
   "source": [
    "daberstvo.columns"
   ]
  },
  {
   "cell_type": "code",
   "execution_count": 3,
   "id": "75d366a0",
   "metadata": {},
   "outputs": [],
   "source": [
    "daberstvo = daberstvo.explode(\"Mluví\")"
   ]
  },
  {
   "cell_type": "code",
   "execution_count": 4,
   "id": "0f667859",
   "metadata": {},
   "outputs": [
    {
     "data": {
      "text/plain": [
       "Mluví\n",
       "Mirko Musil (33555)          51\n",
       "Alena Kreuzmannová (4743)    28\n",
       "Jiří Holý (13204)            17\n",
       "Lubor Tokoš (12683)          17\n",
       "Michal Pavlata (5376)        17\n",
       "Dalimil Klapka (1666)        15\n",
       "Eva Klepáčová (1447)         14\n",
       "Jana Andresíková (5378)      14\n",
       "Soběslav Sejk (9018)         14\n",
       "Jan Pohan (7665)             13\n",
       "Name: Hraje, dtype: int64"
      ]
     },
     "execution_count": 4,
     "metadata": {},
     "output_type": "execute_result"
    }
   ],
   "source": [
    "daberstvo.groupby(\"Mluví\")[\"Hraje\"].nunique().nlargest(10)"
   ]
  },
  {
   "cell_type": "code",
   "execution_count": 11,
   "id": "320b6f2a",
   "metadata": {},
   "outputs": [
    {
     "data": {
      "text/plain": [
       "Mluví\n",
       "Mirko Musil (33555)          56\n",
       "Alena Kreuzmannová (4743)    30\n",
       "Jiří Holý (13204)            18\n",
       "Lubor Tokoš (12683)          18\n",
       "Michal Pavlata (5376)        18\n",
       "Dalimil Klapka (1666)        17\n",
       "Jana Andresíková (5378)      16\n",
       "Eva Klepáčová (1447)         14\n",
       "Libuše Švormová (10041)      14\n",
       "Soběslav Sejk (9018)         14\n",
       "Name: Film, dtype: int64"
      ]
     },
     "execution_count": 11,
     "metadata": {},
     "output_type": "execute_result"
    }
   ],
   "source": [
    "daberstvo.groupby(\"Mluví\")[\"Film\"].nunique().nlargest(10)"
   ]
  },
  {
   "cell_type": "code",
   "execution_count": 5,
   "id": "28669a68",
   "metadata": {},
   "outputs": [
    {
     "data": {
      "text/plain": [
       "Hraje\n",
       "Ivan Palúch (6638)             7\n",
       "Jaroslav Tomsa (2576)          7\n",
       "Karla Chadimová (35245)        6\n",
       "Wilhelm Koch-Hooge (126429)    6\n",
       "Zdeněk Srstka (7960)           6\n",
       "Jozef Adamovič (28468)         5\n",
       "Michal Dočolomanský (4351)     5\n",
       "Oldřich Velen (12725)          5\n",
       "Zdena Studenková (18653)       5\n",
       "Zora Ulla Keslerová (84438)    5\n",
       "Name: Mluví, dtype: int64"
      ]
     },
     "execution_count": 5,
     "metadata": {},
     "output_type": "execute_result"
    }
   ],
   "source": [
    "daberstvo.groupby(\"Hraje\")[\"Mluví\"].nunique().nlargest(10)"
   ]
  },
  {
   "cell_type": "code",
   "execution_count": 6,
   "id": "ce6b29ae",
   "metadata": {},
   "outputs": [
    {
     "data": {
      "text/plain": [
       "Hraje\n",
       "Karla Chadimová (35245)        9\n",
       "Ivan Palúch (6638)             8\n",
       "Jaroslav Tomsa (2576)          7\n",
       "Oldřich Velen (12725)          7\n",
       "Zora Ulla Keslerová (84438)    7\n",
       "Wilhelm Koch-Hooge (126429)    6\n",
       "Zdeněk Srstka (7960)           6\n",
       "Antonín Soukup (87404)         5\n",
       "František Velecký (9687)       5\n",
       "Jozef Adamovič (28468)         5\n",
       "Name: Film, dtype: int64"
      ]
     },
     "execution_count": 6,
     "metadata": {},
     "output_type": "execute_result"
    }
   ],
   "source": [
    "daberstvo.groupby(\"Hraje\")[\"Film\"].nunique().nlargest(10)"
   ]
  },
  {
   "cell_type": "code",
   "execution_count": 7,
   "id": "acbe0d39",
   "metadata": {},
   "outputs": [
    {
     "data": {
      "text/html": [
       "<div>\n",
       "<style scoped>\n",
       "    .dataframe tbody tr th:only-of-type {\n",
       "        vertical-align: middle;\n",
       "    }\n",
       "\n",
       "    .dataframe tbody tr th {\n",
       "        vertical-align: top;\n",
       "    }\n",
       "\n",
       "    .dataframe thead th {\n",
       "        text-align: right;\n",
       "    }\n",
       "</style>\n",
       "<table border=\"1\" class=\"dataframe\">\n",
       "  <thead>\n",
       "    <tr style=\"text-align: right;\">\n",
       "      <th></th>\n",
       "      <th>Film</th>\n",
       "      <th>Hraje</th>\n",
       "      <th>Mluví</th>\n",
       "    </tr>\n",
       "  </thead>\n",
       "  <tbody>\n",
       "    <tr>\n",
       "      <th>605</th>\n",
       "      <td>Klíč (396918)</td>\n",
       "      <td>Mirko Musil (33555)</td>\n",
       "      <td>Jindřich Narenta (87097)</td>\n",
       "    </tr>\n",
       "    <tr>\n",
       "      <th>1024</th>\n",
       "      <td>Poprask na silnici E 4 (397224)</td>\n",
       "      <td>Mirko Musil (33555)</td>\n",
       "      <td>Ferdinand Krůta (83907)</td>\n",
       "    </tr>\n",
       "  </tbody>\n",
       "</table>\n",
       "</div>"
      ],
      "text/plain": [
       "                                 Film                Hraje   \n",
       "605                     Klíč (396918)  Mirko Musil (33555)  \\\n",
       "1024  Poprask na silnici E 4 (397224)  Mirko Musil (33555)   \n",
       "\n",
       "                         Mluví  \n",
       "605   Jindřich Narenta (87097)  \n",
       "1024   Ferdinand Krůta (83907)  "
      ]
     },
     "execution_count": 7,
     "metadata": {},
     "output_type": "execute_result"
    }
   ],
   "source": [
    "daberstvo[daberstvo[\"Hraje\"] == \"Mirko Musil (33555)\"]"
   ]
  },
  {
   "cell_type": "code",
   "execution_count": 8,
   "id": "8678ae5c",
   "metadata": {},
   "outputs": [
    {
     "data": {
      "text/plain": [
       "Hraje                        Mluví                     \n",
       "Beta Poničanová (129012)     Marie Vášová (31606)          3\n",
       "Eva Vejmělková (12920)       Zlata Adamovská (18668)       3\n",
       "Juraj Kukura (9694)          Radoslav Brzobohatý (2770)    3\n",
       "Karla Chadimová (35245)      Alena Kreuzmannová (4743)     3\n",
       "Ludvík Hradilek (32768)      Roman Skamene (6363)          3\n",
       "Vladimír Švabík (126391)     Dalimil Klapka (1666)         3\n",
       "Václav Halama (21254)        Mirko Musil (33555)           3\n",
       "Zora Ulla Keslerová (84438)  Jorga Kotrbová (125595)       3\n",
       "Alf Marholm                  Jan Teplý (3601)              2\n",
       "Anatolij Kuzněcov            Leopold Haverl (126670)       2\n",
       "Name: Film, dtype: int64"
      ]
     },
     "execution_count": 8,
     "metadata": {},
     "output_type": "execute_result"
    }
   ],
   "source": [
    "daberstvo.groupby([\"Hraje\",\"Mluví\"])[\"Film\"].nunique().nlargest(10)"
   ]
  }
 ],
 "metadata": {
  "kernelspec": {
   "display_name": "Python 3 (ipykernel)",
   "language": "python",
   "name": "python3"
  },
  "language_info": {
   "codemirror_mode": {
    "name": "ipython",
    "version": 3
   },
   "file_extension": ".py",
   "mimetype": "text/x-python",
   "name": "python",
   "nbconvert_exporter": "python",
   "pygments_lexer": "ipython3",
   "version": "3.10.8"
  }
 },
 "nbformat": 4,
 "nbformat_minor": 5
}
