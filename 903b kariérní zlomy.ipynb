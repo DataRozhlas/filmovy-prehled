{
 "cells": [
  {
   "cell_type": "code",
   "execution_count": 1,
   "id": "7af28229",
   "metadata": {
    "scrolled": true
   },
   "outputs": [
    {
     "name": "stdout",
     "output_type": "stream",
     "text": [
      "2023/05/28 22:56:02 z 4555 řádků odstraněno 125. Aktuální dataframe má 4430 řádků.\n"
     ]
    }
   ],
   "source": [
    "import os\n",
    "import json\n",
    "import time\n",
    "import pandas as pd\n",
    "from src.gender import gender\n",
    "from src.vycisti import vycisti\n",
    "pd.set_option('display.max_columns', None)\n",
    "df = pd.read_json(os.path.join(\"data\", \"filmy.json\"))\n",
    "with open(os.path.join(\"data_fixes\", \"opravy.json\"), encoding=\"utf-8\") as opravy:\n",
    "    opravy = json.loads(opravy.read())\n",
    "with open(os.path.join(\"data_fixes\", \"seznamy.json\"), encoding=\"utf-8\") as seznamy:\n",
    "    seznamy = json.loads(seznamy.read())\n",
    "with open(os.path.join(\"data_fixes\", \"zeny.json\"), encoding=\"utf-8\") as zeny:\n",
    "    zeny = json.loads(zeny.read())\n",
    "with open(os.path.join(\"data_fixes\", \"nelide.json\"), encoding=\"utf-8\") as nelide:\n",
    "    nelide = json.loads(nelide.read())\n",
    "df = vycisti(df, opravy)"
   ]
  },
  {
   "cell_type": "markdown",
   "id": "b23d44e2",
   "metadata": {},
   "source": [
    "## Dlouhý výpočet, kterým se nechceme zdržovat v sešitu věnovaném tvůrcům"
   ]
  },
  {
   "cell_type": "code",
   "execution_count": 2,
   "id": "a3ebf930",
   "metadata": {},
   "outputs": [],
   "source": [
    "profese = seznamy[\"profese\"]\n",
    "persony = pd.read_json(os.path.join(\"data\", \"persony.json\"))\n",
    "jmena_lidi = persony[persony[\"Osoba\"] == \"fyzická\"][\"Jméno\"].to_list()"
   ]
  },
  {
   "cell_type": "code",
   "execution_count": 3,
   "id": "d89da8f5",
   "metadata": {},
   "outputs": [],
   "source": [
    "profese.remove(\"Účinkují\")\n",
    "profese.remove(\"Hudba, text a zpěv písně\")\n",
    "profese.remove(\"Hudba k písni\")"
   ]
  },
  {
   "cell_type": "code",
   "execution_count": 4,
   "id": "c8cb7917",
   "metadata": {},
   "outputs": [],
   "source": [
    "def plose_jednoduse(x):\n",
    "    seznam = []\n",
    "    for y in x:\n",
    "        if y == None:\n",
    "            pass\n",
    "        if isinstance(y, str):\n",
    "            if y not in seznam:\n",
    "                seznam.append(y)\n",
    "        if isinstance(y, list):\n",
    "            for z in y:\n",
    "                if z not in seznam:\n",
    "                    seznam.append(z)\n",
    "    return(seznam)"
   ]
  },
  {
   "cell_type": "code",
   "execution_count": 5,
   "id": "b691cb95",
   "metadata": {},
   "outputs": [],
   "source": [
    "def kolik_skoncilo(konce, jmena_lidi):\n",
    "    st = time.time()\n",
    "    konce[\"Lidé\"] = konce[profese].values.tolist()\n",
    "    konce[\"Lidé\"] = konce[\"Lidé\"].apply(lambda x: plose_jednoduse(x))\n",
    "    konce = konce[[\"Copyright\",\"Lidé\",\"Film\"]].explode(\"Lidé\")\n",
    "    konce = konce[konce[\"Lidé\"].isin(jmena_lidi)]\n",
    "    konce = konce.groupby(\"Copyright\")[\"Lidé\"].apply(lambda x: list(set(x)))\n",
    "    konce = pd.DataFrame(konce).explode(\"Lidé\")\n",
    "    konce = konce.reset_index()  \n",
    "    print(f\"{len(konce)} člověkoletopočtů\")\n",
    "    konce[\"Příští film\"] = konce[[\"Lidé\",\"Copyright\"]].apply(lambda x: konce[(konce[\"Lidé\"] == x[\"Lidé\"]) & (konce[\"Copyright\"] > x[\"Copyright\"])][\"Copyright\"].min(), axis = 1)\n",
    "    konce = konce.rename(columns={\"Lidé\": \"Jméno\"})\n",
    "    konce[\"Pauza\"] = konce[\"Příští film\"] - konce[\"Copyright\"]\n",
    "    print(f\"čas výpočtu: {time.time() - st} s\")\n",
    "    return(konce)"
   ]
  },
  {
   "cell_type": "code",
   "execution_count": null,
   "id": "1d80dd59",
   "metadata": {},
   "outputs": [
    {
     "name": "stdout",
     "output_type": "stream",
     "text": [
      "95431 člověkoletopočtů\n"
     ]
    }
   ],
   "source": [
    "konce = kolik_skoncilo(df, jmena_lidi)"
   ]
  },
  {
   "cell_type": "code",
   "execution_count": null,
   "id": "b97efc13",
   "metadata": {},
   "outputs": [],
   "source": [
    "konce.to_json(os.path.join(\"data\", \"pauzy.json\"), orient=\"records\")"
   ]
  },
  {
   "cell_type": "code",
   "execution_count": null,
   "id": "34517d99",
   "metadata": {},
   "outputs": [],
   "source": [
    "konce.sample(5)"
   ]
  },
  {
   "cell_type": "markdown",
   "id": "20ba6024",
   "metadata": {},
   "source": [
    "## Explorace"
   ]
  },
  {
   "cell_type": "code",
   "execution_count": null,
   "id": "d1880422",
   "metadata": {
    "scrolled": true
   },
   "outputs": [],
   "source": [
    "konce.groupby(\"Copyright\")[\"Pauza\"].mean().plot.bar(figsize=(20,5))"
   ]
  },
  {
   "cell_type": "code",
   "execution_count": null,
   "id": "01d48866",
   "metadata": {},
   "outputs": [],
   "source": [
    "r3 = konce.groupby(\"Jméno\")[\"Copyright\"].nunique()\n",
    "r3 = r3[r3 >= 5]\n",
    "r3 = r3.index.to_list()"
   ]
  },
  {
   "cell_type": "code",
   "execution_count": null,
   "id": "8b1c6f54",
   "metadata": {},
   "outputs": [],
   "source": [
    "k3 = konce[konce[\"Jméno\"].isin(r3)]"
   ]
  },
  {
   "cell_type": "code",
   "execution_count": null,
   "id": "1ede0c1a",
   "metadata": {},
   "outputs": [],
   "source": [
    "k3 = k3[k3[\"Copyright\"].isin(range(1920,2011))]"
   ]
  },
  {
   "cell_type": "code",
   "execution_count": null,
   "id": "6ec36b46",
   "metadata": {},
   "outputs": [],
   "source": [
    "k3 = k3.merge(persony[[\"Jméno\",\"Rok úmrtí\"]], on=\"Jméno\")"
   ]
  },
  {
   "cell_type": "code",
   "execution_count": null,
   "id": "cc5176a7",
   "metadata": {},
   "outputs": [],
   "source": [
    "k3[\"Příští film\"] = pd.to_numeric(k3[\"Příští film\"], errors=\"coerce\")"
   ]
  },
  {
   "cell_type": "code",
   "execution_count": null,
   "id": "cd26f151",
   "metadata": {},
   "outputs": [],
   "source": [
    "k3[\"Rok úmrtí\"] = pd.to_numeric(k3[\"Rok úmrtí\"], errors=\"coerce\")"
   ]
  },
  {
   "cell_type": "code",
   "execution_count": null,
   "id": "35a922e1",
   "metadata": {},
   "outputs": [],
   "source": [
    "k3.loc[k3[\"Příští film\"] > k3[\"Rok úmrtí\"],\"Příští film\"]=None"
   ]
  },
  {
   "cell_type": "code",
   "execution_count": null,
   "id": "cbb949cb",
   "metadata": {},
   "outputs": [],
   "source": [
    "k3.groupby(\"Copyright\")[\"Jméno\"].nunique()"
   ]
  },
  {
   "cell_type": "code",
   "execution_count": null,
   "id": "9c2d4eb0",
   "metadata": {},
   "outputs": [],
   "source": [
    "k3.sample(5)"
   ]
  },
  {
   "cell_type": "code",
   "execution_count": null,
   "id": "6510589c",
   "metadata": {
    "scrolled": false
   },
   "outputs": [],
   "source": [
    "pd.Series(k3[k3[\"Pauza\"].isnull()].groupby(\"Copyright\")[\"Jméno\"].nunique() / k3.groupby(\"Copyright\")[\"Jméno\"].nunique()).plot.bar(figsize=(20,5))"
   ]
  },
  {
   "cell_type": "code",
   "execution_count": null,
   "id": "74897eb7",
   "metadata": {},
   "outputs": [],
   "source": [
    "k3[k3[\"Copyright\"] == 1992]"
   ]
  },
  {
   "cell_type": "code",
   "execution_count": null,
   "id": "94241a78",
   "metadata": {},
   "outputs": [],
   "source": [
    "pd.Series(k3[(k3[\"Pauza\"] >= 12)].groupby(\"Copyright\")[\"Jméno\"].nunique() / k3.groupby(\"Copyright\")[\"Jméno\"].nunique()).plot.bar(figsize=(20,10))"
   ]
  },
  {
   "cell_type": "code",
   "execution_count": null,
   "id": "4ed8eee4",
   "metadata": {},
   "outputs": [],
   "source": [
    "pd.Series(k3[(k3[\"Pauza\"] >= 15) | (k3[\"Pauza\"].isnull())].groupby(\"Copyright\")[\"Jméno\"].nunique() / k3.groupby(\"Copyright\")[\"Jméno\"].nunique()).plot.bar(figsize=(20,10))"
   ]
  },
  {
   "cell_type": "code",
   "execution_count": null,
   "id": "115c30d3",
   "metadata": {},
   "outputs": [],
   "source": [
    "pd.Series(k3[(k3[\"Pauza\"] >= 10)].groupby(\"Copyright\")[\"Jméno\"].nunique() / k3[~k3[\"Pauza\"].isnull()].groupby(\"Copyright\")[\"Jméno\"].nunique()).plot.bar(figsize=(20,10))"
   ]
  }
 ],
 "metadata": {
  "kernelspec": {
   "display_name": "Python 3 (ipykernel)",
   "language": "python",
   "name": "python3"
  },
  "language_info": {
   "codemirror_mode": {
    "name": "ipython",
    "version": 3
   },
   "file_extension": ".py",
   "mimetype": "text/x-python",
   "name": "python",
   "nbconvert_exporter": "python",
   "pygments_lexer": "ipython3",
   "version": "3.10.8"
  }
 },
 "nbformat": 4,
 "nbformat_minor": 5
}
