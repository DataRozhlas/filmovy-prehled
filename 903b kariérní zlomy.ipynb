{
 "cells": [
  {
   "cell_type": "code",
   "execution_count": 1,
   "id": "7af28229",
   "metadata": {
    "scrolled": true
   },
   "outputs": [
    {
     "name": "stdout",
     "output_type": "stream",
     "text": [
      "2023/05/29 11:36:59 z 4555 řádků odstraněno 125. Aktuální dataframe má 4430 řádků.\n"
     ]
    }
   ],
   "source": [
    "import os\n",
    "import json\n",
    "import time\n",
    "import pandas as pd\n",
    "from src.gender import gender\n",
    "from src.vycisti import vycisti\n",
    "pd.set_option('display.max_columns', None)\n",
    "df = pd.read_json(os.path.join(\"data\", \"filmy.json\"))\n",
    "with open(os.path.join(\"data_fixes\", \"opravy.json\"), encoding=\"utf-8\") as opravy:\n",
    "    opravy = json.loads(opravy.read())\n",
    "with open(os.path.join(\"data_fixes\", \"seznamy.json\"), encoding=\"utf-8\") as seznamy:\n",
    "    seznamy = json.loads(seznamy.read())\n",
    "with open(os.path.join(\"data_fixes\", \"zeny.json\"), encoding=\"utf-8\") as zeny:\n",
    "    zeny = json.loads(zeny.read())\n",
    "with open(os.path.join(\"data_fixes\", \"nelide.json\"), encoding=\"utf-8\") as nelide:\n",
    "    nelide = json.loads(nelide.read())\n",
    "df = vycisti(df, opravy)"
   ]
  },
  {
   "cell_type": "markdown",
   "id": "b23d44e2",
   "metadata": {},
   "source": [
    "## Dlouhý výpočet, kterým se nechceme zdržovat v sešitu věnovaném tvůrcům"
   ]
  },
  {
   "cell_type": "code",
   "execution_count": 2,
   "id": "a3ebf930",
   "metadata": {},
   "outputs": [],
   "source": [
    "profese = seznamy[\"profese\"]\n",
    "persony = pd.read_json(os.path.join(\"data\", \"persony.json\"))\n",
    "jmena_lidi = persony[persony[\"Osoba\"] == \"fyzická\"][\"Jméno\"].to_list()"
   ]
  },
  {
   "cell_type": "code",
   "execution_count": 3,
   "id": "d89da8f5",
   "metadata": {},
   "outputs": [],
   "source": [
    "profese.remove(\"Účinkují\")\n",
    "profese.remove(\"Hudba, text a zpěv písně\")\n",
    "profese.remove(\"Hudba k písni\")"
   ]
  },
  {
   "cell_type": "code",
   "execution_count": 4,
   "id": "c8cb7917",
   "metadata": {},
   "outputs": [],
   "source": [
    "def plose_jednoduse(x):\n",
    "    seznam = []\n",
    "    for y in x:\n",
    "        if y == None:\n",
    "            pass\n",
    "        if isinstance(y, str):\n",
    "            if y not in seznam:\n",
    "                seznam.append(y)\n",
    "        if isinstance(y, list):\n",
    "            for z in y:\n",
    "                if z not in seznam:\n",
    "                    seznam.append(z)\n",
    "    return(seznam)"
   ]
  },
  {
   "cell_type": "code",
   "execution_count": 5,
   "id": "b691cb95",
   "metadata": {},
   "outputs": [],
   "source": [
    "def kolik_skoncilo(konce, jmena_lidi):\n",
    "    st = time.time()\n",
    "    konce[\"Lidé\"] = konce[profese].values.tolist()\n",
    "    konce[\"Lidé\"] = konce[\"Lidé\"].apply(lambda x: plose_jednoduse(x))\n",
    "    konce = konce[[\"Copyright\",\"Lidé\",\"Film\"]].explode(\"Lidé\")\n",
    "    konce = konce[konce[\"Lidé\"].isin(jmena_lidi)]\n",
    "    konce = konce.groupby(\"Copyright\")[\"Lidé\"].apply(lambda x: list(set(x)))\n",
    "    konce = pd.DataFrame(konce).explode(\"Lidé\")\n",
    "    konce = konce.reset_index()  \n",
    "    print(f\"{len(konce)} člověkoletopočtů\")\n",
    "    konce[\"Příští film\"] = konce[[\"Lidé\",\"Copyright\"]].apply(lambda x: konce[(konce[\"Lidé\"] == x[\"Lidé\"]) & (konce[\"Copyright\"] > x[\"Copyright\"])][\"Copyright\"].min(), axis = 1)\n",
    "    konce = konce.rename(columns={\"Lidé\": \"Jméno\"})\n",
    "    konce[\"Pauza\"] = konce[\"Příští film\"] - konce[\"Copyright\"]\n",
    "    print(f\"čas výpočtu: {time.time() - st} s\")\n",
    "    return(konce)"
   ]
  },
  {
   "cell_type": "code",
   "execution_count": 6,
   "id": "1d80dd59",
   "metadata": {},
   "outputs": [
    {
     "name": "stdout",
     "output_type": "stream",
     "text": [
      "95431 člověkoletopočtů\n",
      "čas výpočtu: 1239.6945116519928 s\n"
     ]
    }
   ],
   "source": [
    "konce = kolik_skoncilo(df, jmena_lidi)"
   ]
  },
  {
   "cell_type": "code",
   "execution_count": 7,
   "id": "b97efc13",
   "metadata": {},
   "outputs": [],
   "source": [
    "konce.to_json(os.path.join(\"data\", \"pauzy.json\"), orient=\"records\")"
   ]
  },
  {
   "cell_type": "code",
   "execution_count": 8,
   "id": "34517d99",
   "metadata": {},
   "outputs": [
    {
     "data": {
      "text/html": [
       "<div>\n",
       "<style scoped>\n",
       "    .dataframe tbody tr th:only-of-type {\n",
       "        vertical-align: middle;\n",
       "    }\n",
       "\n",
       "    .dataframe tbody tr th {\n",
       "        vertical-align: top;\n",
       "    }\n",
       "\n",
       "    .dataframe thead th {\n",
       "        text-align: right;\n",
       "    }\n",
       "</style>\n",
       "<table border=\"1\" class=\"dataframe\">\n",
       "  <thead>\n",
       "    <tr style=\"text-align: right;\">\n",
       "      <th></th>\n",
       "      <th>Copyright</th>\n",
       "      <th>Jméno</th>\n",
       "      <th>Příští film</th>\n",
       "      <th>Pauza</th>\n",
       "    </tr>\n",
       "  </thead>\n",
       "  <tbody>\n",
       "    <tr>\n",
       "      <th>34547</th>\n",
       "      <td>1974</td>\n",
       "      <td>Anna Štrosová (5187)</td>\n",
       "      <td>1976.0</td>\n",
       "      <td>2.0</td>\n",
       "    </tr>\n",
       "    <tr>\n",
       "      <th>37823</th>\n",
       "      <td>1977</td>\n",
       "      <td>Alena Procházková (14497)</td>\n",
       "      <td>1978.0</td>\n",
       "      <td>1.0</td>\n",
       "    </tr>\n",
       "    <tr>\n",
       "      <th>40540</th>\n",
       "      <td>1979</td>\n",
       "      <td>Boris Moravec ml. (129629)</td>\n",
       "      <td>1980.0</td>\n",
       "      <td>1.0</td>\n",
       "    </tr>\n",
       "    <tr>\n",
       "      <th>64650</th>\n",
       "      <td>2002</td>\n",
       "      <td>Boris Masník (1489)</td>\n",
       "      <td>2003.0</td>\n",
       "      <td>1.0</td>\n",
       "    </tr>\n",
       "    <tr>\n",
       "      <th>51433</th>\n",
       "      <td>1987</td>\n",
       "      <td>Drahoslav Makovička (12737)</td>\n",
       "      <td>1988.0</td>\n",
       "      <td>1.0</td>\n",
       "    </tr>\n",
       "  </tbody>\n",
       "</table>\n",
       "</div>"
      ],
      "text/plain": [
       "       Copyright                        Jméno  Příští film  Pauza\n",
       "34547       1974         Anna Štrosová (5187)       1976.0    2.0\n",
       "37823       1977    Alena Procházková (14497)       1978.0    1.0\n",
       "40540       1979   Boris Moravec ml. (129629)       1980.0    1.0\n",
       "64650       2002          Boris Masník (1489)       2003.0    1.0\n",
       "51433       1987  Drahoslav Makovička (12737)       1988.0    1.0"
      ]
     },
     "execution_count": 8,
     "metadata": {},
     "output_type": "execute_result"
    }
   ],
   "source": [
    "konce.sample(5)"
   ]
  },
  {
   "cell_type": "markdown",
   "id": "20ba6024",
   "metadata": {},
   "source": [
    "## Explorace"
   ]
  },
  {
   "cell_type": "code",
   "execution_count": 9,
   "id": "d1880422",
   "metadata": {
    "scrolled": true
   },
   "outputs": [
    {
     "data": {
      "text/plain": [
       "<AxesSubplot:xlabel='Copyright'>"
      ]
     },
     "execution_count": 9,
     "metadata": {},
     "output_type": "execute_result"
    },
    {
     "data": {
      "image/png": "[encoded data removed]",
      "text/plain": [
       "<Figure size 1440x360 with 1 Axes>"
      ]
     },
     "metadata": {
      "needs_background": "light"
     },
     "output_type": "display_data"
    }
   ],
   "source": [
    "konce.groupby(\"Copyright\")[\"Pauza\"].mean().plot.bar(figsize=(20,5))"
   ]
  },
  {
   "cell_type": "code",
   "execution_count": 10,
   "id": "01d48866",
   "metadata": {},
   "outputs": [],
   "source": [
    "r3 = konce.groupby(\"Jméno\")[\"Copyright\"].nunique()\n",
    "r3 = r3[r3 >= 5]\n",
    "r3 = r3.index.to_list()"
   ]
  },
  {
   "cell_type": "code",
   "execution_count": 11,
   "id": "8b1c6f54",
   "metadata": {},
   "outputs": [],
   "source": [
    "k3 = konce[konce[\"Jméno\"].isin(r3)]"
   ]
  },
  {
   "cell_type": "code",
   "execution_count": 12,
   "id": "1ede0c1a",
   "metadata": {},
   "outputs": [],
   "source": [
    "k3 = k3[k3[\"Copyright\"].isin(range(1920,2011))]"
   ]
  },
  {
   "cell_type": "code",
   "execution_count": 13,
   "id": "6ec36b46",
   "metadata": {},
   "outputs": [],
   "source": [
    "k3 = k3.merge(persony[[\"Jméno\",\"Rok úmrtí\"]], on=\"Jméno\")"
   ]
  },
  {
   "cell_type": "code",
   "execution_count": 14,
   "id": "cc5176a7",
   "metadata": {},
   "outputs": [],
   "source": [
    "k3[\"Příští film\"] = pd.to_numeric(k3[\"Příští film\"], errors=\"coerce\")"
   ]
  },
  {
   "cell_type": "code",
   "execution_count": 15,
   "id": "cd26f151",
   "metadata": {},
   "outputs": [],
   "source": [
    "k3[\"Rok úmrtí\"] = pd.to_numeric(k3[\"Rok úmrtí\"], errors=\"coerce\")"
   ]
  },
  {
   "cell_type": "code",
   "execution_count": 16,
   "id": "35a922e1",
   "metadata": {},
   "outputs": [],
   "source": [
    "k3.loc[k3[\"Příští film\"] > k3[\"Rok úmrtí\"],\"Příští film\"]=None"
   ]
  },
  {
   "cell_type": "code",
   "execution_count": 17,
   "id": "cbb949cb",
   "metadata": {},
   "outputs": [
    {
     "data": {
      "text/plain": [
       "Copyright\n",
       "1920    113\n",
       "1921    138\n",
       "1922    130\n",
       "1923     81\n",
       "1924     78\n",
       "       ... \n",
       "2006    637\n",
       "2007    545\n",
       "2008    704\n",
       "2009    817\n",
       "2010    673\n",
       "Name: Jméno, Length: 91, dtype: int64"
      ]
     },
     "execution_count": 17,
     "metadata": {},
     "output_type": "execute_result"
    }
   ],
   "source": [
    "k3.groupby(\"Copyright\")[\"Jméno\"].nunique()"
   ]
  },
  {
   "cell_type": "code",
   "execution_count": 18,
   "id": "9c2d4eb0",
   "metadata": {},
   "outputs": [
    {
     "data": {
      "text/html": [
       "<div>\n",
       "<style scoped>\n",
       "    .dataframe tbody tr th:only-of-type {\n",
       "        vertical-align: middle;\n",
       "    }\n",
       "\n",
       "    .dataframe tbody tr th {\n",
       "        vertical-align: top;\n",
       "    }\n",
       "\n",
       "    .dataframe thead th {\n",
       "        text-align: right;\n",
       "    }\n",
       "</style>\n",
       "<table border=\"1\" class=\"dataframe\">\n",
       "  <thead>\n",
       "    <tr style=\"text-align: right;\">\n",
       "      <th></th>\n",
       "      <th>Copyright</th>\n",
       "      <th>Jméno</th>\n",
       "      <th>Příští film</th>\n",
       "      <th>Pauza</th>\n",
       "      <th>Rok úmrtí</th>\n",
       "    </tr>\n",
       "  </thead>\n",
       "  <tbody>\n",
       "    <tr>\n",
       "      <th>61063</th>\n",
       "      <td>1995</td>\n",
       "      <td>Šárka Cimbalová (85990)</td>\n",
       "      <td>2014.0</td>\n",
       "      <td>19.0</td>\n",
       "      <td>NaN</td>\n",
       "    </tr>\n",
       "    <tr>\n",
       "      <th>61788</th>\n",
       "      <td>2006</td>\n",
       "      <td>Kristýna Nováková (6366)</td>\n",
       "      <td>2007.0</td>\n",
       "      <td>1.0</td>\n",
       "      <td>NaN</td>\n",
       "    </tr>\n",
       "    <tr>\n",
       "      <th>50106</th>\n",
       "      <td>1992</td>\n",
       "      <td>Jaroslav Šámal (1403)</td>\n",
       "      <td>1998.0</td>\n",
       "      <td>6.0</td>\n",
       "      <td>NaN</td>\n",
       "    </tr>\n",
       "    <tr>\n",
       "      <th>27330</th>\n",
       "      <td>1989</td>\n",
       "      <td>Lubomír Bryg (126444)</td>\n",
       "      <td>NaN</td>\n",
       "      <td>NaN</td>\n",
       "      <td>1994.0</td>\n",
       "    </tr>\n",
       "    <tr>\n",
       "      <th>16921</th>\n",
       "      <td>1981</td>\n",
       "      <td>Jaroslav Mareš (17561)</td>\n",
       "      <td>1983.0</td>\n",
       "      <td>2.0</td>\n",
       "      <td>2003.0</td>\n",
       "    </tr>\n",
       "  </tbody>\n",
       "</table>\n",
       "</div>"
      ],
      "text/plain": [
       "       Copyright                     Jméno  Příští film  Pauza  Rok úmrtí\n",
       "61063       1995   Šárka Cimbalová (85990)       2014.0   19.0        NaN\n",
       "61788       2006  Kristýna Nováková (6366)       2007.0    1.0        NaN\n",
       "50106       1992     Jaroslav Šámal (1403)       1998.0    6.0        NaN\n",
       "27330       1989     Lubomír Bryg (126444)          NaN    NaN     1994.0\n",
       "16921       1981    Jaroslav Mareš (17561)       1983.0    2.0     2003.0"
      ]
     },
     "execution_count": 18,
     "metadata": {},
     "output_type": "execute_result"
    }
   ],
   "source": [
    "k3.sample(5)"
   ]
  },
  {
   "cell_type": "code",
   "execution_count": 19,
   "id": "6510589c",
   "metadata": {
    "scrolled": false
   },
   "outputs": [
    {
     "data": {
      "text/plain": [
       "<AxesSubplot:xlabel='Copyright'>"
      ]
     },
     "execution_count": 19,
     "metadata": {},
     "output_type": "execute_result"
    },
    {
     "data": {
      "image/png": "[encoded data removed]",
      "text/plain": [
       "<Figure size 1440x360 with 1 Axes>"
      ]
     },
     "metadata": {
      "needs_background": "light"
     },
     "output_type": "display_data"
    }
   ],
   "source": [
    "pd.Series(k3[k3[\"Pauza\"].isnull()].groupby(\"Copyright\")[\"Jméno\"].nunique() / k3.groupby(\"Copyright\")[\"Jméno\"].nunique()).plot.bar(figsize=(20,5))"
   ]
  },
  {
   "cell_type": "code",
   "execution_count": 20,
   "id": "74897eb7",
   "metadata": {},
   "outputs": [
    {
     "data": {
      "text/html": [
       "<div>\n",
       "<style scoped>\n",
       "    .dataframe tbody tr th:only-of-type {\n",
       "        vertical-align: middle;\n",
       "    }\n",
       "\n",
       "    .dataframe tbody tr th {\n",
       "        vertical-align: top;\n",
       "    }\n",
       "\n",
       "    .dataframe thead th {\n",
       "        text-align: right;\n",
       "    }\n",
       "</style>\n",
       "<table border=\"1\" class=\"dataframe\">\n",
       "  <thead>\n",
       "    <tr style=\"text-align: right;\">\n",
       "      <th></th>\n",
       "      <th>Copyright</th>\n",
       "      <th>Jméno</th>\n",
       "      <th>Příští film</th>\n",
       "      <th>Pauza</th>\n",
       "      <th>Rok úmrtí</th>\n",
       "    </tr>\n",
       "  </thead>\n",
       "  <tbody>\n",
       "    <tr>\n",
       "      <th>9163</th>\n",
       "      <td>1992</td>\n",
       "      <td>Svatopluk Beneš (13617)</td>\n",
       "      <td>2003.0</td>\n",
       "      <td>11.0</td>\n",
       "      <td>2007.0</td>\n",
       "    </tr>\n",
       "    <tr>\n",
       "      <th>9735</th>\n",
       "      <td>1992</td>\n",
       "      <td>Nelly Gaierová (4888)</td>\n",
       "      <td>1993.0</td>\n",
       "      <td>1.0</td>\n",
       "      <td>1995.0</td>\n",
       "    </tr>\n",
       "    <tr>\n",
       "      <th>9736</th>\n",
       "      <td>1992</td>\n",
       "      <td>Nelly Gaierová (4888)</td>\n",
       "      <td>1993.0</td>\n",
       "      <td>1.0</td>\n",
       "      <td>1995.0</td>\n",
       "    </tr>\n",
       "    <tr>\n",
       "      <th>11417</th>\n",
       "      <td>1992</td>\n",
       "      <td>Jiřina Bohdalová (2878)</td>\n",
       "      <td>1993.0</td>\n",
       "      <td>1.0</td>\n",
       "      <td>NaN</td>\n",
       "    </tr>\n",
       "    <tr>\n",
       "      <th>12425</th>\n",
       "      <td>1992</td>\n",
       "      <td>Karel Černý (1241)</td>\n",
       "      <td>2001.0</td>\n",
       "      <td>9.0</td>\n",
       "      <td>2014.0</td>\n",
       "    </tr>\n",
       "    <tr>\n",
       "      <th>...</th>\n",
       "      <td>...</td>\n",
       "      <td>...</td>\n",
       "      <td>...</td>\n",
       "      <td>...</td>\n",
       "      <td>...</td>\n",
       "    </tr>\n",
       "    <tr>\n",
       "      <th>60415</th>\n",
       "      <td>1992</td>\n",
       "      <td>Pavel Dvořák (1294)</td>\n",
       "      <td>1993.0</td>\n",
       "      <td>1.0</td>\n",
       "      <td>NaN</td>\n",
       "    </tr>\n",
       "    <tr>\n",
       "      <th>60428</th>\n",
       "      <td>1992</td>\n",
       "      <td>Viktor Fančovič (6500)</td>\n",
       "      <td>1994.0</td>\n",
       "      <td>2.0</td>\n",
       "      <td>NaN</td>\n",
       "    </tr>\n",
       "    <tr>\n",
       "      <th>60435</th>\n",
       "      <td>1992</td>\n",
       "      <td>Martin Engel (2610)</td>\n",
       "      <td>1993.0</td>\n",
       "      <td>1.0</td>\n",
       "      <td>NaN</td>\n",
       "    </tr>\n",
       "    <tr>\n",
       "      <th>60439</th>\n",
       "      <td>1992</td>\n",
       "      <td>Martin Písařík (18968)</td>\n",
       "      <td>1993.0</td>\n",
       "      <td>1.0</td>\n",
       "      <td>NaN</td>\n",
       "    </tr>\n",
       "    <tr>\n",
       "      <th>60446</th>\n",
       "      <td>1992</td>\n",
       "      <td>Sandra Nováková (6364)</td>\n",
       "      <td>1995.0</td>\n",
       "      <td>3.0</td>\n",
       "      <td>NaN</td>\n",
       "    </tr>\n",
       "  </tbody>\n",
       "</table>\n",
       "<p>556 rows × 5 columns</p>\n",
       "</div>"
      ],
      "text/plain": [
       "       Copyright                    Jméno  Příští film  Pauza  Rok úmrtí\n",
       "9163        1992  Svatopluk Beneš (13617)       2003.0   11.0     2007.0\n",
       "9735        1992    Nelly Gaierová (4888)       1993.0    1.0     1995.0\n",
       "9736        1992    Nelly Gaierová (4888)       1993.0    1.0     1995.0\n",
       "11417       1992  Jiřina Bohdalová (2878)       1993.0    1.0        NaN\n",
       "12425       1992       Karel Černý (1241)       2001.0    9.0     2014.0\n",
       "...          ...                      ...          ...    ...        ...\n",
       "60415       1992      Pavel Dvořák (1294)       1993.0    1.0        NaN\n",
       "60428       1992   Viktor Fančovič (6500)       1994.0    2.0        NaN\n",
       "60435       1992      Martin Engel (2610)       1993.0    1.0        NaN\n",
       "60439       1992   Martin Písařík (18968)       1993.0    1.0        NaN\n",
       "60446       1992   Sandra Nováková (6364)       1995.0    3.0        NaN\n",
       "\n",
       "[556 rows x 5 columns]"
      ]
     },
     "execution_count": 20,
     "metadata": {},
     "output_type": "execute_result"
    }
   ],
   "source": [
    "k3[k3[\"Copyright\"] == 1992]"
   ]
  },
  {
   "cell_type": "code",
   "execution_count": 21,
   "id": "94241a78",
   "metadata": {},
   "outputs": [
    {
     "data": {
      "text/plain": [
       "<AxesSubplot:xlabel='Copyright'>"
      ]
     },
     "execution_count": 21,
     "metadata": {},
     "output_type": "execute_result"
    },
    {
     "data": {
      "image/png": "[encoded data removed]",
      "text/plain": [
       "<Figure size 1440x720 with 1 Axes>"
      ]
     },
     "metadata": {
      "needs_background": "light"
     },
     "output_type": "display_data"
    }
   ],
   "source": [
    "pd.Series(k3[(k3[\"Pauza\"] >= 12)].groupby(\"Copyright\")[\"Jméno\"].nunique() / k3.groupby(\"Copyright\")[\"Jméno\"].nunique()).plot.bar(figsize=(20,10))"
   ]
  },
  {
   "cell_type": "code",
   "execution_count": 22,
   "id": "4ed8eee4",
   "metadata": {},
   "outputs": [
    {
     "data": {
      "text/plain": [
       "<AxesSubplot:xlabel='Copyright'>"
      ]
     },
     "execution_count": 22,
     "metadata": {},
     "output_type": "execute_result"
    },
    {
     "data": {
      "image/png": "[encoded data removed]",
      "text/plain": [
       "<Figure size 1440x720 with 1 Axes>"
      ]
     },
     "metadata": {
      "needs_background": "light"
     },
     "output_type": "display_data"
    }
   ],
   "source": [
    "pd.Series(k3[(k3[\"Pauza\"] >= 15) | (k3[\"Pauza\"].isnull())].groupby(\"Copyright\")[\"Jméno\"].nunique() / k3.groupby(\"Copyright\")[\"Jméno\"].nunique()).plot.bar(figsize=(20,10))"
   ]
  },
  {
   "cell_type": "code",
   "execution_count": 23,
   "id": "115c30d3",
   "metadata": {},
   "outputs": [
    {
     "data": {
      "text/plain": [
       "<AxesSubplot:xlabel='Copyright'>"
      ]
     },
     "execution_count": 23,
     "metadata": {},
     "output_type": "execute_result"
    },
    {
     "data": {
      "image/png": "[encoded data removed]",
      "text/plain": [
       "<Figure size 1440x720 with 1 Axes>"
      ]
     },
     "metadata": {
      "needs_background": "light"
     },
     "output_type": "display_data"
    }
   ],
   "source": [
    "pd.Series(k3[(k3[\"Pauza\"] >= 10)].groupby(\"Copyright\")[\"Jméno\"].nunique() / k3[~k3[\"Pauza\"].isnull()].groupby(\"Copyright\")[\"Jméno\"].nunique()).plot.bar(figsize=(20,10))"
   ]
  }
 ],
 "metadata": {
  "kernelspec": {
   "display_name": "Python 3 (ipykernel)",
   "language": "python",
   "name": "python3"
  },
  "language_info": {
   "codemirror_mode": {
    "name": "ipython",
    "version": 3
   },
   "file_extension": ".py",
   "mimetype": "text/x-python",
   "name": "python",
   "nbconvert_exporter": "python",
   "pygments_lexer": "ipython3",
   "version": "3.10.8"
  }
 },
 "nbformat": 4,
 "nbformat_minor": 5
}
