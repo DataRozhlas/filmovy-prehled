{
 "cells": [
  {
   "cell_type": "code",
   "execution_count": 74,
   "id": "c5a45c86",
   "metadata": {},
   "outputs": [
    {
     "name": "stdout",
     "output_type": "stream",
     "text": [
      "2023/05/25 14:46:07 z 4532 filmů odstraněno 125. Aktuální dataframe obsahuje 4407 filmů.\n"
     ]
    }
   ],
   "source": [
    "import os\n",
    "import json\n",
    "import time\n",
    "import pandas as pd\n",
    "from src.gender import gender\n",
    "from src.vycisti import vycisti\n",
    "pd.set_option('display.max_columns', None)\n",
    "df = pd.read_json(os.path.join(\"data\", \"filmy.json\"))\n",
    "with open(os.path.join(\"data_fixes\", \"opravy.json\"), encoding=\"utf-8\") as opravy:\n",
    "    opravy = json.loads(opravy.read())\n",
    "with open(os.path.join(\"data_fixes\", \"seznamy.json\"), encoding=\"utf-8\") as seznamy:\n",
    "    seznamy = json.loads(seznamy.read())\n",
    "with open(os.path.join(\"data_fixes\", \"zeny.json\"), encoding=\"utf-8\") as zeny:\n",
    "    zeny = json.loads(zeny.read())\n",
    "with open(os.path.join(\"data_fixes\", \"nelide.json\"), encoding=\"utf-8\") as nelide:\n",
    "    nelide = json.loads(nelide.read())\n",
    "df = vycisti(df, opravy)"
   ]
  },
  {
   "cell_type": "code",
   "execution_count": 75,
   "id": "1c4df7c2",
   "metadata": {},
   "outputs": [],
   "source": [
    "profese = seznamy[\"profese\"]\n",
    "persony = pd.read_json(os.path.join(\"data\", \"persony.json\"))\n",
    "jmena_lidi = persony[persony[\"Osoba\"] == \"fyzická\"][\"Jméno\"].to_list()"
   ]
  },
  {
   "cell_type": "code",
   "execution_count": 76,
   "id": "fe6cf5fa",
   "metadata": {},
   "outputs": [],
   "source": [
    "def plose_jednoduse(x):\n",
    "    seznam = []\n",
    "    for y in x:\n",
    "        if y == None:\n",
    "            pass\n",
    "        if isinstance(y, str):\n",
    "            if y not in seznam:\n",
    "                seznam.append(y)\n",
    "        if isinstance(y, list):\n",
    "            for z in y:\n",
    "                if z not in seznam:\n",
    "                    seznam.append(z)\n",
    "    return(seznam)"
   ]
  },
  {
   "cell_type": "code",
   "execution_count": 82,
   "id": "6304b30b",
   "metadata": {},
   "outputs": [],
   "source": [
    "def kolik_skoncilo(lidodf, jmena_lidi):\n",
    "    st = time.time()\n",
    "    lidodf[\"Lidé\"] = lidodf[profese].values.tolist()\n",
    "    lidodf[\"Lidé\"] = lidodf[\"Lidé\"].apply(lambda x: plose_jednoduse(x))\n",
    "    lidodf = lidodf[[\"Copyright\",\"Lidé\",\"Film\"]].explode(\"Lidé\")\n",
    "    lidodf = lidodf[lidodf[\"Lidé\"].isin(jmena_lidi)]\n",
    "    lidodf = lidodf.groupby(\"Copyright\")[\"Lidé\"].apply(lambda x: list(set(x)))\n",
    "    lidodf = pd.DataFrame(lidodf).explode(\"Lidé\")\n",
    "    lidodf[\"Rok\"] = lidodf.index\n",
    "    print(f\"{len(lidodf)} člověkoletopočtů\")\n",
    "    lidodf[\"Příští film\"] = lidodf[[\"Lidé\",\"Rok\"]].apply(lambda x: lidodf[(lidodf[\"Lidé\"] == x[\"Lidé\"]) & (lidodf[\"Rok\"] > x[\"Rok\"])][\"Rok\"].min(), axis = 1)\n",
    "    print(f\"čas výpočtu: {time.time() - st} s\")\n",
    "    return(lidodf)"
   ]
  },
  {
   "cell_type": "code",
   "execution_count": 78,
   "id": "7f9d105e",
   "metadata": {},
   "outputs": [
    {
     "name": "stderr",
     "output_type": "stream",
     "text": [
      "C:\\Users\\micha\\AppData\\Local\\Temp\\ipykernel_28228\\790359921.py:3: SettingWithCopyWarning: \n",
      "A value is trying to be set on a copy of a slice from a DataFrame.\n",
      "Try using .loc[row_indexer,col_indexer] = value instead\n",
      "\n",
      "See the caveats in the documentation: https://pandas.pydata.org/pandas-docs/stable/user_guide/indexing.html#returning-a-view-versus-a-copy\n",
      "  lidodf[\"Lidé\"] = lidodf[profese].values.tolist()\n",
      "C:\\Users\\micha\\AppData\\Local\\Temp\\ipykernel_28228\\790359921.py:4: SettingWithCopyWarning: \n",
      "A value is trying to be set on a copy of a slice from a DataFrame.\n",
      "Try using .loc[row_indexer,col_indexer] = value instead\n",
      "\n",
      "See the caveats in the documentation: https://pandas.pydata.org/pandas-docs/stable/user_guide/indexing.html#returning-a-view-versus-a-copy\n",
      "  lidodf[\"Lidé\"] = lidodf[\"Lidé\"].apply(lambda x: plose_jednoduse(x))\n"
     ]
    },
    {
     "name": "stdout",
     "output_type": "stream",
     "text": [
      "2708 člověkoletopočtů\n",
      "Čas výpočtu: 2.0810465812683105 s\n"
     ]
    },
    {
     "data": {
      "text/html": [
       "<div>\n",
       "<style scoped>\n",
       "    .dataframe tbody tr th:only-of-type {\n",
       "        vertical-align: middle;\n",
       "    }\n",
       "\n",
       "    .dataframe tbody tr th {\n",
       "        vertical-align: top;\n",
       "    }\n",
       "\n",
       "    .dataframe thead th {\n",
       "        text-align: right;\n",
       "    }\n",
       "</style>\n",
       "<table border=\"1\" class=\"dataframe\">\n",
       "  <thead>\n",
       "    <tr style=\"text-align: right;\">\n",
       "      <th></th>\n",
       "      <th>Lidé</th>\n",
       "      <th>Rok</th>\n",
       "      <th>Příští film</th>\n",
       "    </tr>\n",
       "    <tr>\n",
       "      <th>Copyright</th>\n",
       "      <th></th>\n",
       "      <th></th>\n",
       "      <th></th>\n",
       "    </tr>\n",
       "  </thead>\n",
       "  <tbody>\n",
       "    <tr>\n",
       "      <th>1898</th>\n",
       "      <td>Marie Kříženecká (99776)</td>\n",
       "      <td>1898</td>\n",
       "      <td>NaN</td>\n",
       "    </tr>\n",
       "    <tr>\n",
       "      <th>1898</th>\n",
       "      <td>Ferdinand Gýra (60351)</td>\n",
       "      <td>1898</td>\n",
       "      <td>NaN</td>\n",
       "    </tr>\n",
       "    <tr>\n",
       "      <th>1898</th>\n",
       "      <td>Jan Kříženecký (127419)</td>\n",
       "      <td>1898</td>\n",
       "      <td>1901.0</td>\n",
       "    </tr>\n",
       "    <tr>\n",
       "      <th>1898</th>\n",
       "      <td>Josef Šváb-Malostranský (55291)</td>\n",
       "      <td>1898</td>\n",
       "      <td>1913.0</td>\n",
       "    </tr>\n",
       "    <tr>\n",
       "      <th>1901</th>\n",
       "      <td>Jan Kříženecký (127419)</td>\n",
       "      <td>1901</td>\n",
       "      <td>1902.0</td>\n",
       "    </tr>\n",
       "    <tr>\n",
       "      <th>...</th>\n",
       "      <td>...</td>\n",
       "      <td>...</td>\n",
       "      <td>...</td>\n",
       "    </tr>\n",
       "    <tr>\n",
       "      <th>1931</th>\n",
       "      <td>Jaroslav Gradwohl (127665)</td>\n",
       "      <td>1931</td>\n",
       "      <td>NaN</td>\n",
       "    </tr>\n",
       "    <tr>\n",
       "      <th>1931</th>\n",
       "      <td>Fernand René (128434)</td>\n",
       "      <td>1931</td>\n",
       "      <td>NaN</td>\n",
       "    </tr>\n",
       "    <tr>\n",
       "      <th>1931</th>\n",
       "      <td>Gustav Machatý (33488)</td>\n",
       "      <td>1931</td>\n",
       "      <td>NaN</td>\n",
       "    </tr>\n",
       "    <tr>\n",
       "      <th>1931</th>\n",
       "      <td>Brunhilde Uxová (57967)</td>\n",
       "      <td>1931</td>\n",
       "      <td>NaN</td>\n",
       "    </tr>\n",
       "    <tr>\n",
       "      <th>1931</th>\n",
       "      <td>Jiřina Šejbalová (125559)</td>\n",
       "      <td>1931</td>\n",
       "      <td>NaN</td>\n",
       "    </tr>\n",
       "  </tbody>\n",
       "</table>\n",
       "<p>2708 rows × 3 columns</p>\n",
       "</div>"
      ],
      "text/plain": [
       "                                      Lidé   Rok  Příští film\n",
       "Copyright                                                    \n",
       "1898              Marie Kříženecká (99776)  1898          NaN\n",
       "1898                Ferdinand Gýra (60351)  1898          NaN\n",
       "1898               Jan Kříženecký (127419)  1898       1901.0\n",
       "1898       Josef Šváb-Malostranský (55291)  1898       1913.0\n",
       "1901               Jan Kříženecký (127419)  1901       1902.0\n",
       "...                                    ...   ...          ...\n",
       "1931            Jaroslav Gradwohl (127665)  1931          NaN\n",
       "1931                 Fernand René (128434)  1931          NaN\n",
       "1931                Gustav Machatý (33488)  1931          NaN\n",
       "1931               Brunhilde Uxová (57967)  1931          NaN\n",
       "1931             Jiřina Šejbalová (125559)  1931          NaN\n",
       "\n",
       "[2708 rows x 3 columns]"
      ]
     },
     "execution_count": 78,
     "metadata": {},
     "output_type": "execute_result"
    }
   ],
   "source": [
    "kolik_skoncilo(df.head(500), jmena_lidi)"
   ]
  },
  {
   "cell_type": "code",
   "execution_count": 79,
   "id": "323c0c66",
   "metadata": {},
   "outputs": [
    {
     "name": "stderr",
     "output_type": "stream",
     "text": [
      "C:\\Users\\micha\\AppData\\Local\\Temp\\ipykernel_28228\\790359921.py:3: SettingWithCopyWarning: \n",
      "A value is trying to be set on a copy of a slice from a DataFrame.\n",
      "Try using .loc[row_indexer,col_indexer] = value instead\n",
      "\n",
      "See the caveats in the documentation: https://pandas.pydata.org/pandas-docs/stable/user_guide/indexing.html#returning-a-view-versus-a-copy\n",
      "  lidodf[\"Lidé\"] = lidodf[profese].values.tolist()\n",
      "C:\\Users\\micha\\AppData\\Local\\Temp\\ipykernel_28228\\790359921.py:4: SettingWithCopyWarning: \n",
      "A value is trying to be set on a copy of a slice from a DataFrame.\n",
      "Try using .loc[row_indexer,col_indexer] = value instead\n",
      "\n",
      "See the caveats in the documentation: https://pandas.pydata.org/pandas-docs/stable/user_guide/indexing.html#returning-a-view-versus-a-copy\n",
      "  lidodf[\"Lidé\"] = lidodf[\"Lidé\"].apply(lambda x: plose_jednoduse(x))\n"
     ]
    },
    {
     "name": "stdout",
     "output_type": "stream",
     "text": [
      "7187 člověkoletopočtů\n",
      "Čas výpočtu: 7.631985187530518 s\n"
     ]
    },
    {
     "data": {
      "text/html": [
       "<div>\n",
       "<style scoped>\n",
       "    .dataframe tbody tr th:only-of-type {\n",
       "        vertical-align: middle;\n",
       "    }\n",
       "\n",
       "    .dataframe tbody tr th {\n",
       "        vertical-align: top;\n",
       "    }\n",
       "\n",
       "    .dataframe thead th {\n",
       "        text-align: right;\n",
       "    }\n",
       "</style>\n",
       "<table border=\"1\" class=\"dataframe\">\n",
       "  <thead>\n",
       "    <tr style=\"text-align: right;\">\n",
       "      <th></th>\n",
       "      <th>Lidé</th>\n",
       "      <th>Rok</th>\n",
       "      <th>Příští film</th>\n",
       "    </tr>\n",
       "    <tr>\n",
       "      <th>Copyright</th>\n",
       "      <th></th>\n",
       "      <th></th>\n",
       "      <th></th>\n",
       "    </tr>\n",
       "  </thead>\n",
       "  <tbody>\n",
       "    <tr>\n",
       "      <th>1898</th>\n",
       "      <td>Marie Kříženecká (99776)</td>\n",
       "      <td>1898</td>\n",
       "      <td>NaN</td>\n",
       "    </tr>\n",
       "    <tr>\n",
       "      <th>1898</th>\n",
       "      <td>Ferdinand Gýra (60351)</td>\n",
       "      <td>1898</td>\n",
       "      <td>NaN</td>\n",
       "    </tr>\n",
       "    <tr>\n",
       "      <th>1898</th>\n",
       "      <td>Jan Kříženecký (127419)</td>\n",
       "      <td>1898</td>\n",
       "      <td>1901.0</td>\n",
       "    </tr>\n",
       "    <tr>\n",
       "      <th>1898</th>\n",
       "      <td>Josef Šváb-Malostranský (55291)</td>\n",
       "      <td>1898</td>\n",
       "      <td>1913.0</td>\n",
       "    </tr>\n",
       "    <tr>\n",
       "      <th>1901</th>\n",
       "      <td>Jan Kříženecký (127419)</td>\n",
       "      <td>1901</td>\n",
       "      <td>1902.0</td>\n",
       "    </tr>\n",
       "    <tr>\n",
       "      <th>...</th>\n",
       "      <td>...</td>\n",
       "      <td>...</td>\n",
       "      <td>...</td>\n",
       "    </tr>\n",
       "    <tr>\n",
       "      <th>1940</th>\n",
       "      <td>Jiří Slavíček (31972)</td>\n",
       "      <td>1940</td>\n",
       "      <td>NaN</td>\n",
       "    </tr>\n",
       "    <tr>\n",
       "      <th>1940</th>\n",
       "      <td>František H. Otto (127479)</td>\n",
       "      <td>1940</td>\n",
       "      <td>NaN</td>\n",
       "    </tr>\n",
       "    <tr>\n",
       "      <th>1940</th>\n",
       "      <td>Václav Švec (126974)</td>\n",
       "      <td>1940</td>\n",
       "      <td>NaN</td>\n",
       "    </tr>\n",
       "    <tr>\n",
       "      <th>1940</th>\n",
       "      <td>Antonie Nedošinská (127295)</td>\n",
       "      <td>1940</td>\n",
       "      <td>NaN</td>\n",
       "    </tr>\n",
       "    <tr>\n",
       "      <th>1940</th>\n",
       "      <td>Rudolf Deyl st. (126660)</td>\n",
       "      <td>1940</td>\n",
       "      <td>NaN</td>\n",
       "    </tr>\n",
       "  </tbody>\n",
       "</table>\n",
       "<p>7187 rows × 3 columns</p>\n",
       "</div>"
      ],
      "text/plain": [
       "                                      Lidé   Rok  Příští film\n",
       "Copyright                                                    \n",
       "1898              Marie Kříženecká (99776)  1898          NaN\n",
       "1898                Ferdinand Gýra (60351)  1898          NaN\n",
       "1898               Jan Kříženecký (127419)  1898       1901.0\n",
       "1898       Josef Šváb-Malostranský (55291)  1898       1913.0\n",
       "1901               Jan Kříženecký (127419)  1901       1902.0\n",
       "...                                    ...   ...          ...\n",
       "1940                 Jiří Slavíček (31972)  1940          NaN\n",
       "1940            František H. Otto (127479)  1940          NaN\n",
       "1940                  Václav Švec (126974)  1940          NaN\n",
       "1940           Antonie Nedošinská (127295)  1940          NaN\n",
       "1940              Rudolf Deyl st. (126660)  1940          NaN\n",
       "\n",
       "[7187 rows x 3 columns]"
      ]
     },
     "execution_count": 79,
     "metadata": {},
     "output_type": "execute_result"
    }
   ],
   "source": [
    "kolik_skoncilo(df.head(1000), jmena_lidi)"
   ]
  },
  {
   "cell_type": "code",
   "execution_count": 80,
   "id": "8605162c",
   "metadata": {},
   "outputs": [
    {
     "name": "stdout",
     "output_type": "stream",
     "text": [
      "102301 člověkoletopočtů\n",
      "Čas výpočtu: 1482.15593957901 s\n"
     ]
    }
   ],
   "source": [
    "konce = kolik_skoncilo(df, jmena_lidi)"
   ]
  },
  {
   "cell_type": "code",
   "execution_count": 81,
   "id": "1cd4a6c6",
   "metadata": {},
   "outputs": [
    {
     "data": {
      "text/html": [
       "<div>\n",
       "<style scoped>\n",
       "    .dataframe tbody tr th:only-of-type {\n",
       "        vertical-align: middle;\n",
       "    }\n",
       "\n",
       "    .dataframe tbody tr th {\n",
       "        vertical-align: top;\n",
       "    }\n",
       "\n",
       "    .dataframe thead th {\n",
       "        text-align: right;\n",
       "    }\n",
       "</style>\n",
       "<table border=\"1\" class=\"dataframe\">\n",
       "  <thead>\n",
       "    <tr style=\"text-align: right;\">\n",
       "      <th></th>\n",
       "      <th>Lidé</th>\n",
       "      <th>Rok</th>\n",
       "      <th>Příští film</th>\n",
       "    </tr>\n",
       "    <tr>\n",
       "      <th>Copyright</th>\n",
       "      <th></th>\n",
       "      <th></th>\n",
       "      <th></th>\n",
       "    </tr>\n",
       "  </thead>\n",
       "  <tbody>\n",
       "    <tr>\n",
       "      <th>1898</th>\n",
       "      <td>Marie Kříženecká (99776)</td>\n",
       "      <td>1898</td>\n",
       "      <td>NaN</td>\n",
       "    </tr>\n",
       "    <tr>\n",
       "      <th>1898</th>\n",
       "      <td>Ferdinand Gýra (60351)</td>\n",
       "      <td>1898</td>\n",
       "      <td>NaN</td>\n",
       "    </tr>\n",
       "    <tr>\n",
       "      <th>1898</th>\n",
       "      <td>Jan Kříženecký (127419)</td>\n",
       "      <td>1898</td>\n",
       "      <td>1901.0</td>\n",
       "    </tr>\n",
       "    <tr>\n",
       "      <th>1898</th>\n",
       "      <td>Josef Šváb-Malostranský (55291)</td>\n",
       "      <td>1898</td>\n",
       "      <td>1913.0</td>\n",
       "    </tr>\n",
       "    <tr>\n",
       "      <th>1901</th>\n",
       "      <td>Jan Kříženecký (127419)</td>\n",
       "      <td>1901</td>\n",
       "      <td>1902.0</td>\n",
       "    </tr>\n",
       "    <tr>\n",
       "      <th>...</th>\n",
       "      <td>...</td>\n",
       "      <td>...</td>\n",
       "      <td>...</td>\n",
       "    </tr>\n",
       "    <tr>\n",
       "      <th>2022</th>\n",
       "      <td>Petr Houdek (8112)</td>\n",
       "      <td>2022</td>\n",
       "      <td>NaN</td>\n",
       "    </tr>\n",
       "    <tr>\n",
       "      <th>2022</th>\n",
       "      <td>Igor Chmela (26627)</td>\n",
       "      <td>2022</td>\n",
       "      <td>NaN</td>\n",
       "    </tr>\n",
       "    <tr>\n",
       "      <th>2022</th>\n",
       "      <td>Helena Matušková (80866)</td>\n",
       "      <td>2022</td>\n",
       "      <td>NaN</td>\n",
       "    </tr>\n",
       "    <tr>\n",
       "      <th>2022</th>\n",
       "      <td>Libuše Martínková (7489)</td>\n",
       "      <td>2022</td>\n",
       "      <td>NaN</td>\n",
       "    </tr>\n",
       "    <tr>\n",
       "      <th>2022</th>\n",
       "      <td>Matěj Kovárník (80342)</td>\n",
       "      <td>2022</td>\n",
       "      <td>NaN</td>\n",
       "    </tr>\n",
       "  </tbody>\n",
       "</table>\n",
       "<p>102301 rows × 3 columns</p>\n",
       "</div>"
      ],
      "text/plain": [
       "                                      Lidé   Rok  Příští film\n",
       "Copyright                                                    \n",
       "1898              Marie Kříženecká (99776)  1898          NaN\n",
       "1898                Ferdinand Gýra (60351)  1898          NaN\n",
       "1898               Jan Kříženecký (127419)  1898       1901.0\n",
       "1898       Josef Šváb-Malostranský (55291)  1898       1913.0\n",
       "1901               Jan Kříženecký (127419)  1901       1902.0\n",
       "...                                    ...   ...          ...\n",
       "2022                    Petr Houdek (8112)  2022          NaN\n",
       "2022                   Igor Chmela (26627)  2022          NaN\n",
       "2022              Helena Matušková (80866)  2022          NaN\n",
       "2022              Libuše Martínková (7489)  2022          NaN\n",
       "2022                Matěj Kovárník (80342)  2022          NaN\n",
       "\n",
       "[102301 rows x 3 columns]"
      ]
     },
     "execution_count": 81,
     "metadata": {},
     "output_type": "execute_result"
    }
   ],
   "source": [
    "konce"
   ]
  },
  {
   "cell_type": "code",
   "execution_count": 83,
   "id": "491e2c2d",
   "metadata": {},
   "outputs": [],
   "source": [
    "konce[\"Pauza\"] = konce[\"Příští film\"] - konce[\"Rok\"]"
   ]
  },
  {
   "cell_type": "code",
   "execution_count": 84,
   "id": "f4b18ffc",
   "metadata": {},
   "outputs": [],
   "source": [
    "konce.to_json(os.path.join(\"data\", \"pauzy.json\"), orient=\"records\")"
   ]
  },
  {
   "cell_type": "code",
   "execution_count": 85,
   "id": "663bcc86",
   "metadata": {},
   "outputs": [
    {
     "data": {
      "text/html": [
       "<div>\n",
       "<style scoped>\n",
       "    .dataframe tbody tr th:only-of-type {\n",
       "        vertical-align: middle;\n",
       "    }\n",
       "\n",
       "    .dataframe tbody tr th {\n",
       "        vertical-align: top;\n",
       "    }\n",
       "\n",
       "    .dataframe thead th {\n",
       "        text-align: right;\n",
       "    }\n",
       "</style>\n",
       "<table border=\"1\" class=\"dataframe\">\n",
       "  <thead>\n",
       "    <tr style=\"text-align: right;\">\n",
       "      <th></th>\n",
       "      <th>Lidé</th>\n",
       "      <th>Rok</th>\n",
       "      <th>Příští film</th>\n",
       "      <th>Pauza</th>\n",
       "    </tr>\n",
       "    <tr>\n",
       "      <th>Copyright</th>\n",
       "      <th></th>\n",
       "      <th></th>\n",
       "      <th></th>\n",
       "      <th></th>\n",
       "    </tr>\n",
       "  </thead>\n",
       "  <tbody>\n",
       "    <tr>\n",
       "      <th>1898</th>\n",
       "      <td>Marie Kříženecká (99776)</td>\n",
       "      <td>1898</td>\n",
       "      <td>NaN</td>\n",
       "      <td>NaN</td>\n",
       "    </tr>\n",
       "    <tr>\n",
       "      <th>1898</th>\n",
       "      <td>Ferdinand Gýra (60351)</td>\n",
       "      <td>1898</td>\n",
       "      <td>NaN</td>\n",
       "      <td>NaN</td>\n",
       "    </tr>\n",
       "    <tr>\n",
       "      <th>1898</th>\n",
       "      <td>Jan Kříženecký (127419)</td>\n",
       "      <td>1898</td>\n",
       "      <td>1901.0</td>\n",
       "      <td>3.0</td>\n",
       "    </tr>\n",
       "    <tr>\n",
       "      <th>1898</th>\n",
       "      <td>Josef Šváb-Malostranský (55291)</td>\n",
       "      <td>1898</td>\n",
       "      <td>1913.0</td>\n",
       "      <td>15.0</td>\n",
       "    </tr>\n",
       "    <tr>\n",
       "      <th>1901</th>\n",
       "      <td>Jan Kříženecký (127419)</td>\n",
       "      <td>1901</td>\n",
       "      <td>1902.0</td>\n",
       "      <td>1.0</td>\n",
       "    </tr>\n",
       "    <tr>\n",
       "      <th>...</th>\n",
       "      <td>...</td>\n",
       "      <td>...</td>\n",
       "      <td>...</td>\n",
       "      <td>...</td>\n",
       "    </tr>\n",
       "    <tr>\n",
       "      <th>2022</th>\n",
       "      <td>Petr Houdek (8112)</td>\n",
       "      <td>2022</td>\n",
       "      <td>NaN</td>\n",
       "      <td>NaN</td>\n",
       "    </tr>\n",
       "    <tr>\n",
       "      <th>2022</th>\n",
       "      <td>Igor Chmela (26627)</td>\n",
       "      <td>2022</td>\n",
       "      <td>NaN</td>\n",
       "      <td>NaN</td>\n",
       "    </tr>\n",
       "    <tr>\n",
       "      <th>2022</th>\n",
       "      <td>Helena Matušková (80866)</td>\n",
       "      <td>2022</td>\n",
       "      <td>NaN</td>\n",
       "      <td>NaN</td>\n",
       "    </tr>\n",
       "    <tr>\n",
       "      <th>2022</th>\n",
       "      <td>Libuše Martínková (7489)</td>\n",
       "      <td>2022</td>\n",
       "      <td>NaN</td>\n",
       "      <td>NaN</td>\n",
       "    </tr>\n",
       "    <tr>\n",
       "      <th>2022</th>\n",
       "      <td>Matěj Kovárník (80342)</td>\n",
       "      <td>2022</td>\n",
       "      <td>NaN</td>\n",
       "      <td>NaN</td>\n",
       "    </tr>\n",
       "  </tbody>\n",
       "</table>\n",
       "<p>102301 rows × 4 columns</p>\n",
       "</div>"
      ],
      "text/plain": [
       "                                      Lidé   Rok  Příští film  Pauza\n",
       "Copyright                                                           \n",
       "1898              Marie Kříženecká (99776)  1898          NaN    NaN\n",
       "1898                Ferdinand Gýra (60351)  1898          NaN    NaN\n",
       "1898               Jan Kříženecký (127419)  1898       1901.0    3.0\n",
       "1898       Josef Šváb-Malostranský (55291)  1898       1913.0   15.0\n",
       "1901               Jan Kříženecký (127419)  1901       1902.0    1.0\n",
       "...                                    ...   ...          ...    ...\n",
       "2022                    Petr Houdek (8112)  2022          NaN    NaN\n",
       "2022                   Igor Chmela (26627)  2022          NaN    NaN\n",
       "2022              Helena Matušková (80866)  2022          NaN    NaN\n",
       "2022              Libuše Martínková (7489)  2022          NaN    NaN\n",
       "2022                Matěj Kovárník (80342)  2022          NaN    NaN\n",
       "\n",
       "[102301 rows x 4 columns]"
      ]
     },
     "execution_count": 85,
     "metadata": {},
     "output_type": "execute_result"
    }
   ],
   "source": [
    "konce"
   ]
  },
  {
   "cell_type": "code",
   "execution_count": 88,
   "id": "051b551b",
   "metadata": {},
   "outputs": [
    {
     "data": {
      "text/plain": [
       "<AxesSubplot:xlabel='Rok'>"
      ]
     },
     "execution_count": 88,
     "metadata": {},
     "output_type": "execute_result"
    },
    {
     "data": {
      "image/png": "[encoded data removed]",
      "text/plain": [
       "<Figure size 1440x360 with 1 Axes>"
      ]
     },
     "metadata": {
      "needs_background": "light"
     },
     "output_type": "display_data"
    }
   ],
   "source": [
    "konce.groupby(\"Rok\")[\"Pauza\"].mean().plot.bar(figsize=(20,5))"
   ]
  },
  {
   "cell_type": "code",
   "execution_count": 160,
   "id": "b6c2d681",
   "metadata": {},
   "outputs": [],
   "source": [
    "r3 = konce.groupby(\"Lidé\")[\"Rok\"].nunique()\n",
    "r3 = r3[r3 >= 5]\n",
    "r3 = r3.index.to_list()"
   ]
  },
  {
   "cell_type": "code",
   "execution_count": 161,
   "id": "dd8a1372",
   "metadata": {},
   "outputs": [],
   "source": [
    "k3 = konce[konce[\"Lidé\"].isin(r3)]"
   ]
  },
  {
   "cell_type": "code",
   "execution_count": 162,
   "id": "11e88208",
   "metadata": {},
   "outputs": [],
   "source": [
    "k3 = k3[k3[\"Rok\"].isin(range(1920,2011))]"
   ]
  },
  {
   "cell_type": "code",
   "execution_count": 163,
   "id": "14ff0ad6",
   "metadata": {},
   "outputs": [],
   "source": [
    "k3 = k3.merge(persony[[\"Jméno\",\"Rok úmrtí\"]], left_on=\"Lidé\", right_on=\"Jméno\")"
   ]
  },
  {
   "cell_type": "code",
   "execution_count": 164,
   "id": "a62a8c8c",
   "metadata": {},
   "outputs": [],
   "source": [
    "k3[\"Příští film\"] = pd.to_numeric(k3[\"Příští film\"], errors=\"coerce\")"
   ]
  },
  {
   "cell_type": "code",
   "execution_count": 165,
   "id": "d4ef8a71",
   "metadata": {},
   "outputs": [],
   "source": [
    "k3[\"Rok úmrtí\"] = pd.to_numeric(k3[\"Rok úmrtí\"], errors=\"coerce\")"
   ]
  },
  {
   "cell_type": "code",
   "execution_count": 166,
   "id": "c8b367ab",
   "metadata": {},
   "outputs": [],
   "source": [
    "k3.loc[k3[\"Příští film\"] > k3[\"Rok úmrtí\"],\"Příští film\"]=None"
   ]
  },
  {
   "cell_type": "code",
   "execution_count": 167,
   "id": "a88292c6",
   "metadata": {},
   "outputs": [
    {
     "data": {
      "text/plain": [
       "Rok\n",
       "1920    114\n",
       "1921    138\n",
       "1922    131\n",
       "1923     81\n",
       "1924     78\n",
       "       ... \n",
       "2006    677\n",
       "2007    573\n",
       "2008    759\n",
       "2009    875\n",
       "2010    757\n",
       "Name: Lidé, Length: 91, dtype: int64"
      ]
     },
     "execution_count": 167,
     "metadata": {},
     "output_type": "execute_result"
    }
   ],
   "source": [
    "k3.groupby(\"Rok\")[\"Lidé\"].nunique()"
   ]
  },
  {
   "cell_type": "code",
   "execution_count": 168,
   "id": "aa5c72e3",
   "metadata": {},
   "outputs": [
    {
     "data": {
      "text/html": [
       "<div>\n",
       "<style scoped>\n",
       "    .dataframe tbody tr th:only-of-type {\n",
       "        vertical-align: middle;\n",
       "    }\n",
       "\n",
       "    .dataframe tbody tr th {\n",
       "        vertical-align: top;\n",
       "    }\n",
       "\n",
       "    .dataframe thead th {\n",
       "        text-align: right;\n",
       "    }\n",
       "</style>\n",
       "<table border=\"1\" class=\"dataframe\">\n",
       "  <thead>\n",
       "    <tr style=\"text-align: right;\">\n",
       "      <th></th>\n",
       "      <th>Lidé</th>\n",
       "      <th>Rok</th>\n",
       "      <th>Příští film</th>\n",
       "      <th>Pauza</th>\n",
       "      <th>Jméno</th>\n",
       "      <th>Rok úmrtí</th>\n",
       "    </tr>\n",
       "  </thead>\n",
       "  <tbody>\n",
       "    <tr>\n",
       "      <th>6421</th>\n",
       "      <td>Jaroslav Mottl (55549)</td>\n",
       "      <td>1943</td>\n",
       "      <td>1944.0</td>\n",
       "      <td>1.0</td>\n",
       "      <td>Jaroslav Mottl (55549)</td>\n",
       "      <td>1986.0</td>\n",
       "    </tr>\n",
       "    <tr>\n",
       "      <th>29649</th>\n",
       "      <td>Zdena Hajdová (129514)</td>\n",
       "      <td>1964</td>\n",
       "      <td>1982.0</td>\n",
       "      <td>18.0</td>\n",
       "      <td>Zdena Hajdová (129514)</td>\n",
       "      <td>1991.0</td>\n",
       "    </tr>\n",
       "    <tr>\n",
       "      <th>54307</th>\n",
       "      <td>Tomáš Vacek (126681)</td>\n",
       "      <td>1976</td>\n",
       "      <td>1977.0</td>\n",
       "      <td>1.0</td>\n",
       "      <td>Tomáš Vacek (126681)</td>\n",
       "      <td>NaN</td>\n",
       "    </tr>\n",
       "    <tr>\n",
       "      <th>55836</th>\n",
       "      <td>Jitka Asterová (6081)</td>\n",
       "      <td>1989</td>\n",
       "      <td>1990.0</td>\n",
       "      <td>1.0</td>\n",
       "      <td>Jitka Asterová (6081)</td>\n",
       "      <td>NaN</td>\n",
       "    </tr>\n",
       "    <tr>\n",
       "      <th>7701</th>\n",
       "      <td>Jiří Trnka (28391)</td>\n",
       "      <td>1959</td>\n",
       "      <td>1960.0</td>\n",
       "      <td>1.0</td>\n",
       "      <td>Jiří Trnka (28391)</td>\n",
       "      <td>1969.0</td>\n",
       "    </tr>\n",
       "  </tbody>\n",
       "</table>\n",
       "</div>"
      ],
      "text/plain": [
       "                         Lidé   Rok  Příští film  Pauza   \n",
       "6421   Jaroslav Mottl (55549)  1943       1944.0    1.0  \\\n",
       "29649  Zdena Hajdová (129514)  1964       1982.0   18.0   \n",
       "54307    Tomáš Vacek (126681)  1976       1977.0    1.0   \n",
       "55836   Jitka Asterová (6081)  1989       1990.0    1.0   \n",
       "7701       Jiří Trnka (28391)  1959       1960.0    1.0   \n",
       "\n",
       "                        Jméno  Rok úmrtí  \n",
       "6421   Jaroslav Mottl (55549)     1986.0  \n",
       "29649  Zdena Hajdová (129514)     1991.0  \n",
       "54307    Tomáš Vacek (126681)        NaN  \n",
       "55836   Jitka Asterová (6081)        NaN  \n",
       "7701       Jiří Trnka (28391)     1969.0  "
      ]
     },
     "execution_count": 168,
     "metadata": {},
     "output_type": "execute_result"
    }
   ],
   "source": [
    "k3.sample(5)"
   ]
  },
  {
   "cell_type": "code",
   "execution_count": 169,
   "id": "c84d9167",
   "metadata": {},
   "outputs": [
    {
     "data": {
      "text/plain": [
       "<AxesSubplot:xlabel='Rok'>"
      ]
     },
     "execution_count": 169,
     "metadata": {},
     "output_type": "execute_result"
    },
    {
     "data": {
      "image/png": "[encoded data removed]",
      "text/plain": [
       "<Figure size 1440x360 with 1 Axes>"
      ]
     },
     "metadata": {
      "needs_background": "light"
     },
     "output_type": "display_data"
    }
   ],
   "source": [
    "pd.Series(k3[k3[\"Pauza\"].isnull()].groupby(\"Rok\")[\"Lidé\"].nunique() / k3.groupby(\"Rok\")[\"Lidé\"].nunique()).plot.bar(figsize=(20,5))"
   ]
  },
  {
   "cell_type": "code",
   "execution_count": 170,
   "id": "fa6fd40a",
   "metadata": {},
   "outputs": [
    {
     "data": {
      "text/plain": [
       "<AxesSubplot:xlabel='Rok'>"
      ]
     },
     "execution_count": 170,
     "metadata": {},
     "output_type": "execute_result"
    },
    {
     "data": {
      "image/png": "[encoded data removed]",
      "text/plain": [
       "<Figure size 1440x720 with 1 Axes>"
      ]
     },
     "metadata": {
      "needs_background": "light"
     },
     "output_type": "display_data"
    }
   ],
   "source": [
    "pd.Series(k3[(k3[\"Pauza\"] >= 15) | (k3[\"Pauza\"].isnull())].groupby(\"Rok\")[\"Lidé\"].nunique() / k3.groupby(\"Rok\")[\"Lidé\"].nunique()).plot.bar(figsize=(20,10))"
   ]
  }
 ],
 "metadata": {
  "kernelspec": {
   "display_name": "Python 3 (ipykernel)",
   "language": "python",
   "name": "python3"
  },
  "language_info": {
   "codemirror_mode": {
    "name": "ipython",
    "version": 3
   },
   "file_extension": ".py",
   "mimetype": "text/x-python",
   "name": "python",
   "nbconvert_exporter": "python",
   "pygments_lexer": "ipython3",
   "version": "3.10.8"
  }
 },
 "nbformat": 4,
 "nbformat_minor": 5
}
