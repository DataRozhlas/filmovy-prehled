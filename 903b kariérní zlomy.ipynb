{
 "cells": [
  {
   "cell_type": "code",
   "execution_count": 1,
   "id": "3996262c",
   "metadata": {},
   "outputs": [
    {
     "name": "stdout",
     "output_type": "stream",
     "text": [
      "2023/05/25 21:38:04 z 4532 filmů odstraněno 125. Aktuální dataframe obsahuje 4407 filmů.\n"
     ]
    }
   ],
   "source": [
    "import os\n",
    "import json\n",
    "import time\n",
    "import pandas as pd\n",
    "from src.gender import gender\n",
    "from src.vycisti import vycisti\n",
    "pd.set_option('display.max_columns', None)\n",
    "df = pd.read_json(os.path.join(\"data\", \"filmy.json\"))\n",
    "with open(os.path.join(\"data_fixes\", \"opravy.json\"), encoding=\"utf-8\") as opravy:\n",
    "    opravy = json.loads(opravy.read())\n",
    "with open(os.path.join(\"data_fixes\", \"seznamy.json\"), encoding=\"utf-8\") as seznamy:\n",
    "    seznamy = json.loads(seznamy.read())\n",
    "with open(os.path.join(\"data_fixes\", \"zeny.json\"), encoding=\"utf-8\") as zeny:\n",
    "    zeny = json.loads(zeny.read())\n",
    "with open(os.path.join(\"data_fixes\", \"nelide.json\"), encoding=\"utf-8\") as nelide:\n",
    "    nelide = json.loads(nelide.read())\n",
    "df = vycisti(df, opravy)"
   ]
  },
  {
   "cell_type": "markdown",
   "id": "17261284",
   "metadata": {},
   "source": [
    "## Dlouhý výpočet, kterým se nechceme zdržovat v sešitu věnovaném tvůrcům"
   ]
  },
  {
   "cell_type": "code",
   "execution_count": 2,
   "id": "f761834f",
   "metadata": {},
   "outputs": [],
   "source": [
    "profese = seznamy[\"profese\"]\n",
    "persony = pd.read_json(os.path.join(\"data\", \"persony.json\"))\n",
    "jmena_lidi = persony[persony[\"Osoba\"] == \"fyzická\"][\"Jméno\"].to_list()"
   ]
  },
  {
   "cell_type": "code",
   "execution_count": 3,
   "id": "3935a809",
   "metadata": {},
   "outputs": [],
   "source": [
    "profese.remove(\"Účinkují\")\n",
    "profese.remove(\"Hudba, text a zpěv písně\")\n",
    "profese.remove(\"Hudba k písni\")"
   ]
  },
  {
   "cell_type": "code",
   "execution_count": 4,
   "id": "6c9809fe",
   "metadata": {},
   "outputs": [],
   "source": [
    "def plose_jednoduse(x):\n",
    "    seznam = []\n",
    "    for y in x:\n",
    "        if y == None:\n",
    "            pass\n",
    "        if isinstance(y, str):\n",
    "            if y not in seznam:\n",
    "                seznam.append(y)\n",
    "        if isinstance(y, list):\n",
    "            for z in y:\n",
    "                if z not in seznam:\n",
    "                    seznam.append(z)\n",
    "    return(seznam)"
   ]
  },
  {
   "cell_type": "code",
   "execution_count": 5,
   "id": "864eccc6",
   "metadata": {},
   "outputs": [],
   "source": [
    "def kolik_skoncilo(konce, jmena_lidi):\n",
    "    st = time.time()\n",
    "    konce[\"Lidé\"] = konce[profese].values.tolist()\n",
    "    konce[\"Lidé\"] = konce[\"Lidé\"].apply(lambda x: plose_jednoduse(x))\n",
    "    konce = konce[[\"Copyright\",\"Lidé\",\"Film\"]].explode(\"Lidé\")\n",
    "    konce = konce[konce[\"Lidé\"].isin(jmena_lidi)]\n",
    "    konce = konce.groupby(\"Copyright\")[\"Lidé\"].apply(lambda x: list(set(x)))\n",
    "    konce = pd.DataFrame(konce).explode(\"Lidé\")\n",
    "    konce = konce.reset_index()  \n",
    "    print(f\"{len(konce)} člověkoletopočtů\")\n",
    "    konce[\"Příští film\"] = konce[[\"Lidé\",\"Copyright\"]].apply(lambda x: konce[(konce[\"Lidé\"] == x[\"Lidé\"]) & (konce[\"Copyright\"] > x[\"Copyright\"])][\"Copyright\"].min(), axis = 1)\n",
    "    konce = konce.rename(columns={\"Lidé\": \"Jméno\"})\n",
    "    konce[\"Pauza\"] = konce[\"Příští film\"] - konce[\"Copyright\"]\n",
    "    print(f\"čas výpočtu: {time.time() - st} s\")\n",
    "    return(konce)"
   ]
  },
  {
   "cell_type": "code",
   "execution_count": 6,
   "id": "f5fe7285",
   "metadata": {},
   "outputs": [
    {
     "name": "stdout",
     "output_type": "stream",
     "text": [
      "94896 člověkoletopočtů\n",
      "čas výpočtu: 1096.2808938026428 s\n"
     ]
    }
   ],
   "source": [
    "konce = kolik_skoncilo(df, jmena_lidi)"
   ]
  },
  {
   "cell_type": "code",
   "execution_count": 7,
   "id": "e99f45c8",
   "metadata": {},
   "outputs": [],
   "source": [
    "konce.to_json(os.path.join(\"data\", \"pauzy.json\"), orient=\"records\")"
   ]
  },
  {
   "cell_type": "code",
   "execution_count": 10,
   "id": "be8cadf8",
   "metadata": {},
   "outputs": [
    {
     "data": {
      "text/html": [
       "<div>\n",
       "<style scoped>\n",
       "    .dataframe tbody tr th:only-of-type {\n",
       "        vertical-align: middle;\n",
       "    }\n",
       "\n",
       "    .dataframe tbody tr th {\n",
       "        vertical-align: top;\n",
       "    }\n",
       "\n",
       "    .dataframe thead th {\n",
       "        text-align: right;\n",
       "    }\n",
       "</style>\n",
       "<table border=\"1\" class=\"dataframe\">\n",
       "  <thead>\n",
       "    <tr style=\"text-align: right;\">\n",
       "      <th></th>\n",
       "      <th>Copyright</th>\n",
       "      <th>Jméno</th>\n",
       "      <th>Příští film</th>\n",
       "      <th>Pauza</th>\n",
       "    </tr>\n",
       "  </thead>\n",
       "  <tbody>\n",
       "    <tr>\n",
       "      <th>66046</th>\n",
       "      <td>2003</td>\n",
       "      <td>Marek Tóth (11105)</td>\n",
       "      <td>2009.0</td>\n",
       "      <td>6.0</td>\n",
       "    </tr>\n",
       "    <tr>\n",
       "      <th>32981</th>\n",
       "      <td>1973</td>\n",
       "      <td>Josef Hlinomaz (26212)</td>\n",
       "      <td>1974.0</td>\n",
       "      <td>1.0</td>\n",
       "    </tr>\n",
       "    <tr>\n",
       "      <th>7608</th>\n",
       "      <td>1942</td>\n",
       "      <td>Jiří Sobotka (89459)</td>\n",
       "      <td>1945.0</td>\n",
       "      <td>3.0</td>\n",
       "    </tr>\n",
       "    <tr>\n",
       "      <th>4057</th>\n",
       "      <td>1934</td>\n",
       "      <td>Josef Mach (7885)</td>\n",
       "      <td>1937.0</td>\n",
       "      <td>3.0</td>\n",
       "    </tr>\n",
       "    <tr>\n",
       "      <th>41225</th>\n",
       "      <td>1979</td>\n",
       "      <td>František Havlíček (20158)</td>\n",
       "      <td>1980.0</td>\n",
       "      <td>1.0</td>\n",
       "    </tr>\n",
       "  </tbody>\n",
       "</table>\n",
       "</div>"
      ],
      "text/plain": [
       "       Copyright                       Jméno  Příští film  Pauza\n",
       "66046       2003          Marek Tóth (11105)       2009.0    6.0\n",
       "32981       1973      Josef Hlinomaz (26212)       1974.0    1.0\n",
       "7608        1942        Jiří Sobotka (89459)       1945.0    3.0\n",
       "4057        1934           Josef Mach (7885)       1937.0    3.0\n",
       "41225       1979  František Havlíček (20158)       1980.0    1.0"
      ]
     },
     "execution_count": 10,
     "metadata": {},
     "output_type": "execute_result"
    }
   ],
   "source": [
    "konce.sample(5)"
   ]
  },
  {
   "cell_type": "markdown",
   "id": "4a260d88",
   "metadata": {},
   "source": [
    "## Explorace"
   ]
  },
  {
   "cell_type": "code",
   "execution_count": 11,
   "id": "8f7d228d",
   "metadata": {
    "scrolled": true
   },
   "outputs": [
    {
     "data": {
      "text/plain": [
       "<AxesSubplot:xlabel='Copyright'>"
      ]
     },
     "execution_count": 11,
     "metadata": {},
     "output_type": "execute_result"
    },
    {
     "data": {
      "image/png": "[encoded data removed]",
      "text/plain": [
       "<Figure size 1440x360 with 1 Axes>"
      ]
     },
     "metadata": {
      "needs_background": "light"
     },
     "output_type": "display_data"
    }
   ],
   "source": [
    "konce.groupby(\"Copyright\")[\"Pauza\"].mean().plot.bar(figsize=(20,5))"
   ]
  },
  {
   "cell_type": "code",
   "execution_count": 13,
   "id": "3dc18c4e",
   "metadata": {},
   "outputs": [],
   "source": [
    "r3 = konce.groupby(\"Jméno\")[\"Copyright\"].nunique()\n",
    "r3 = r3[r3 >= 5]\n",
    "r3 = r3.index.to_list()"
   ]
  },
  {
   "cell_type": "code",
   "execution_count": 15,
   "id": "b6bc80f7",
   "metadata": {},
   "outputs": [],
   "source": [
    "k3 = konce[konce[\"Jméno\"].isin(r3)]"
   ]
  },
  {
   "cell_type": "code",
   "execution_count": 16,
   "id": "ec09d664",
   "metadata": {},
   "outputs": [],
   "source": [
    "k3 = k3[k3[\"Copyright\"].isin(range(1920,2011))]"
   ]
  },
  {
   "cell_type": "code",
   "execution_count": 18,
   "id": "91843afa",
   "metadata": {},
   "outputs": [],
   "source": [
    "k3 = k3.merge(persony[[\"Jméno\",\"Rok úmrtí\"]], on=\"Jméno\")"
   ]
  },
  {
   "cell_type": "code",
   "execution_count": 19,
   "id": "c2386c7f",
   "metadata": {},
   "outputs": [],
   "source": [
    "k3[\"Příští film\"] = pd.to_numeric(k3[\"Příští film\"], errors=\"coerce\")"
   ]
  },
  {
   "cell_type": "code",
   "execution_count": 20,
   "id": "f0920658",
   "metadata": {},
   "outputs": [],
   "source": [
    "k3[\"Rok úmrtí\"] = pd.to_numeric(k3[\"Rok úmrtí\"], errors=\"coerce\")"
   ]
  },
  {
   "cell_type": "code",
   "execution_count": 21,
   "id": "c77242df",
   "metadata": {},
   "outputs": [],
   "source": [
    "k3.loc[k3[\"Příští film\"] > k3[\"Rok úmrtí\"],\"Příští film\"]=None"
   ]
  },
  {
   "cell_type": "code",
   "execution_count": 23,
   "id": "7091dcc1",
   "metadata": {},
   "outputs": [
    {
     "data": {
      "text/plain": [
       "Copyright\n",
       "1920    113\n",
       "1921    138\n",
       "1922    130\n",
       "1923     81\n",
       "1924     78\n",
       "       ... \n",
       "2006    634\n",
       "2007    542\n",
       "2008    699\n",
       "2009    812\n",
       "2010    663\n",
       "Name: Jméno, Length: 91, dtype: int64"
      ]
     },
     "execution_count": 23,
     "metadata": {},
     "output_type": "execute_result"
    }
   ],
   "source": [
    "k3.groupby(\"Copyright\")[\"Jméno\"].nunique()"
   ]
  },
  {
   "cell_type": "code",
   "execution_count": 24,
   "id": "b3f8e2b0",
   "metadata": {},
   "outputs": [
    {
     "data": {
      "text/html": [
       "<div>\n",
       "<style scoped>\n",
       "    .dataframe tbody tr th:only-of-type {\n",
       "        vertical-align: middle;\n",
       "    }\n",
       "\n",
       "    .dataframe tbody tr th {\n",
       "        vertical-align: top;\n",
       "    }\n",
       "\n",
       "    .dataframe thead th {\n",
       "        text-align: right;\n",
       "    }\n",
       "</style>\n",
       "<table border=\"1\" class=\"dataframe\">\n",
       "  <thead>\n",
       "    <tr style=\"text-align: right;\">\n",
       "      <th></th>\n",
       "      <th>Copyright</th>\n",
       "      <th>Jméno</th>\n",
       "      <th>Příští film</th>\n",
       "      <th>Pauza</th>\n",
       "      <th>Rok úmrtí</th>\n",
       "    </tr>\n",
       "  </thead>\n",
       "  <tbody>\n",
       "    <tr>\n",
       "      <th>18998</th>\n",
       "      <td>1948</td>\n",
       "      <td>Antonín Rýdl (130015)</td>\n",
       "      <td>1949.0</td>\n",
       "      <td>1.0</td>\n",
       "      <td>1960.0</td>\n",
       "    </tr>\n",
       "    <tr>\n",
       "      <th>38240</th>\n",
       "      <td>1979</td>\n",
       "      <td>Karel Štorkán (31946)</td>\n",
       "      <td>1981.0</td>\n",
       "      <td>2.0</td>\n",
       "      <td>2007.0</td>\n",
       "    </tr>\n",
       "    <tr>\n",
       "      <th>15134</th>\n",
       "      <td>1969</td>\n",
       "      <td>Jaroslav Jílovec (126480)</td>\n",
       "      <td>NaN</td>\n",
       "      <td>NaN</td>\n",
       "      <td>1969.0</td>\n",
       "    </tr>\n",
       "    <tr>\n",
       "      <th>11827</th>\n",
       "      <td>1938</td>\n",
       "      <td>František Voborský (129964)</td>\n",
       "      <td>1944.0</td>\n",
       "      <td>6.0</td>\n",
       "      <td>1980.0</td>\n",
       "    </tr>\n",
       "    <tr>\n",
       "      <th>34637</th>\n",
       "      <td>1971</td>\n",
       "      <td>Milana Melcerová (126034)</td>\n",
       "      <td>1972.0</td>\n",
       "      <td>1.0</td>\n",
       "      <td>NaN</td>\n",
       "    </tr>\n",
       "  </tbody>\n",
       "</table>\n",
       "</div>"
      ],
      "text/plain": [
       "       Copyright                        Jméno  Příští film  Pauza  Rok úmrtí\n",
       "18998       1948        Antonín Rýdl (130015)       1949.0    1.0     1960.0\n",
       "38240       1979        Karel Štorkán (31946)       1981.0    2.0     2007.0\n",
       "15134       1969    Jaroslav Jílovec (126480)          NaN    NaN     1969.0\n",
       "11827       1938  František Voborský (129964)       1944.0    6.0     1980.0\n",
       "34637       1971    Milana Melcerová (126034)       1972.0    1.0        NaN"
      ]
     },
     "execution_count": 24,
     "metadata": {},
     "output_type": "execute_result"
    }
   ],
   "source": [
    "k3.sample(5)"
   ]
  },
  {
   "cell_type": "code",
   "execution_count": 25,
   "id": "8fdcdde6",
   "metadata": {
    "scrolled": false
   },
   "outputs": [
    {
     "data": {
      "text/plain": [
       "<AxesSubplot:xlabel='Copyright'>"
      ]
     },
     "execution_count": 25,
     "metadata": {},
     "output_type": "execute_result"
    },
    {
     "data": {
      "image/png": "[encoded data removed]",
      "text/plain": [
       "<Figure size 1440x360 with 1 Axes>"
      ]
     },
     "metadata": {
      "needs_background": "light"
     },
     "output_type": "display_data"
    }
   ],
   "source": [
    "pd.Series(k3[k3[\"Pauza\"].isnull()].groupby(\"Copyright\")[\"Jméno\"].nunique() / k3.groupby(\"Copyright\")[\"Jméno\"].nunique()).plot.bar(figsize=(20,5))"
   ]
  },
  {
   "cell_type": "code",
   "execution_count": 29,
   "id": "a629187f",
   "metadata": {},
   "outputs": [
    {
     "data": {
      "text/html": [
       "<div>\n",
       "<style scoped>\n",
       "    .dataframe tbody tr th:only-of-type {\n",
       "        vertical-align: middle;\n",
       "    }\n",
       "\n",
       "    .dataframe tbody tr th {\n",
       "        vertical-align: top;\n",
       "    }\n",
       "\n",
       "    .dataframe thead th {\n",
       "        text-align: right;\n",
       "    }\n",
       "</style>\n",
       "<table border=\"1\" class=\"dataframe\">\n",
       "  <thead>\n",
       "    <tr style=\"text-align: right;\">\n",
       "      <th></th>\n",
       "      <th>Copyright</th>\n",
       "      <th>Jméno</th>\n",
       "      <th>Příští film</th>\n",
       "      <th>Pauza</th>\n",
       "      <th>Rok úmrtí</th>\n",
       "    </tr>\n",
       "  </thead>\n",
       "  <tbody>\n",
       "    <tr>\n",
       "      <th>9211</th>\n",
       "      <td>1992</td>\n",
       "      <td>Svatopluk Beneš (13617)</td>\n",
       "      <td>2003.0</td>\n",
       "      <td>11.0</td>\n",
       "      <td>2007.0</td>\n",
       "    </tr>\n",
       "    <tr>\n",
       "      <th>9965</th>\n",
       "      <td>1992</td>\n",
       "      <td>Nelly Gaierová (4888)</td>\n",
       "      <td>1993.0</td>\n",
       "      <td>1.0</td>\n",
       "      <td>1995.0</td>\n",
       "    </tr>\n",
       "    <tr>\n",
       "      <th>9966</th>\n",
       "      <td>1992</td>\n",
       "      <td>Nelly Gaierová (4888)</td>\n",
       "      <td>1993.0</td>\n",
       "      <td>1.0</td>\n",
       "      <td>1995.0</td>\n",
       "    </tr>\n",
       "    <tr>\n",
       "      <th>11097</th>\n",
       "      <td>1992</td>\n",
       "      <td>Jiřina Bohdalová (2878)</td>\n",
       "      <td>1993.0</td>\n",
       "      <td>1.0</td>\n",
       "      <td>NaN</td>\n",
       "    </tr>\n",
       "    <tr>\n",
       "      <th>12730</th>\n",
       "      <td>1992</td>\n",
       "      <td>Karel Černý (1241)</td>\n",
       "      <td>2001.0</td>\n",
       "      <td>9.0</td>\n",
       "      <td>2014.0</td>\n",
       "    </tr>\n",
       "    <tr>\n",
       "      <th>...</th>\n",
       "      <td>...</td>\n",
       "      <td>...</td>\n",
       "      <td>...</td>\n",
       "      <td>...</td>\n",
       "      <td>...</td>\n",
       "    </tr>\n",
       "    <tr>\n",
       "      <th>60354</th>\n",
       "      <td>1992</td>\n",
       "      <td>Eva Malíková (20167)</td>\n",
       "      <td>1993.0</td>\n",
       "      <td>1.0</td>\n",
       "      <td>NaN</td>\n",
       "    </tr>\n",
       "    <tr>\n",
       "      <th>60361</th>\n",
       "      <td>1992</td>\n",
       "      <td>Josef Viewegh (29808)</td>\n",
       "      <td>1996.0</td>\n",
       "      <td>4.0</td>\n",
       "      <td>NaN</td>\n",
       "    </tr>\n",
       "    <tr>\n",
       "      <th>60363</th>\n",
       "      <td>1992</td>\n",
       "      <td>Ivana Šustová (88887)</td>\n",
       "      <td>1993.0</td>\n",
       "      <td>1.0</td>\n",
       "      <td>NaN</td>\n",
       "    </tr>\n",
       "    <tr>\n",
       "      <th>60364</th>\n",
       "      <td>1992</td>\n",
       "      <td>Ivana Šustová (88887)</td>\n",
       "      <td>1993.0</td>\n",
       "      <td>1.0</td>\n",
       "      <td>NaN</td>\n",
       "    </tr>\n",
       "    <tr>\n",
       "      <th>60367</th>\n",
       "      <td>1992</td>\n",
       "      <td>Jan Balej (211)</td>\n",
       "      <td>2000.0</td>\n",
       "      <td>8.0</td>\n",
       "      <td>NaN</td>\n",
       "    </tr>\n",
       "  </tbody>\n",
       "</table>\n",
       "<p>555 rows × 5 columns</p>\n",
       "</div>"
      ],
      "text/plain": [
       "       Copyright                    Jméno  Příští film  Pauza  Rok úmrtí\n",
       "9211        1992  Svatopluk Beneš (13617)       2003.0   11.0     2007.0\n",
       "9965        1992    Nelly Gaierová (4888)       1993.0    1.0     1995.0\n",
       "9966        1992    Nelly Gaierová (4888)       1993.0    1.0     1995.0\n",
       "11097       1992  Jiřina Bohdalová (2878)       1993.0    1.0        NaN\n",
       "12730       1992       Karel Černý (1241)       2001.0    9.0     2014.0\n",
       "...          ...                      ...          ...    ...        ...\n",
       "60354       1992     Eva Malíková (20167)       1993.0    1.0        NaN\n",
       "60361       1992    Josef Viewegh (29808)       1996.0    4.0        NaN\n",
       "60363       1992    Ivana Šustová (88887)       1993.0    1.0        NaN\n",
       "60364       1992    Ivana Šustová (88887)       1993.0    1.0        NaN\n",
       "60367       1992          Jan Balej (211)       2000.0    8.0        NaN\n",
       "\n",
       "[555 rows x 5 columns]"
      ]
     },
     "execution_count": 29,
     "metadata": {},
     "output_type": "execute_result"
    }
   ],
   "source": [
    "k3[k3[\"Copyright\"] == 1992]"
   ]
  },
  {
   "cell_type": "code",
   "execution_count": 42,
   "id": "ac4d3729",
   "metadata": {},
   "outputs": [
    {
     "data": {
      "text/plain": [
       "<AxesSubplot:xlabel='Copyright'>"
      ]
     },
     "execution_count": 42,
     "metadata": {},
     "output_type": "execute_result"
    },
    {
     "data": {
      "image/png": "[encoded data removed]",
      "text/plain": [
       "<Figure size 1440x720 with 1 Axes>"
      ]
     },
     "metadata": {
      "needs_background": "light"
     },
     "output_type": "display_data"
    }
   ],
   "source": [
    "pd.Series(k3[(k3[\"Pauza\"] >= 12)].groupby(\"Copyright\")[\"Jméno\"].nunique() / k3.groupby(\"Copyright\")[\"Jméno\"].nunique()).plot.bar(figsize=(20,10))"
   ]
  },
  {
   "cell_type": "code",
   "execution_count": 33,
   "id": "e03a2fbe",
   "metadata": {},
   "outputs": [
    {
     "data": {
      "text/plain": [
       "<AxesSubplot:xlabel='Copyright'>"
      ]
     },
     "execution_count": 33,
     "metadata": {},
     "output_type": "execute_result"
    },
    {
     "data": {
      "image/png": "[encoded data removed]",
      "text/plain": [
       "<Figure size 1440x720 with 1 Axes>"
      ]
     },
     "metadata": {
      "needs_background": "light"
     },
     "output_type": "display_data"
    }
   ],
   "source": [
    "pd.Series(k3[(k3[\"Pauza\"] >= 15) | (k3[\"Pauza\"].isnull())].groupby(\"Copyright\")[\"Jméno\"].nunique() / k3.groupby(\"Copyright\")[\"Jméno\"].nunique()).plot.bar(figsize=(20,10))"
   ]
  },
  {
   "cell_type": "code",
   "execution_count": 36,
   "id": "ae6735f7",
   "metadata": {},
   "outputs": [
    {
     "data": {
      "text/plain": [
       "<AxesSubplot:xlabel='Copyright'>"
      ]
     },
     "execution_count": 36,
     "metadata": {},
     "output_type": "execute_result"
    },
    {
     "data": {
      "image/png": "[encoded data removed]",
      "text/plain": [
       "<Figure size 1440x720 with 1 Axes>"
      ]
     },
     "metadata": {
      "needs_background": "light"
     },
     "output_type": "display_data"
    }
   ],
   "source": [
    "pd.Series(k3[(k3[\"Pauza\"] >= 10)].groupby(\"Copyright\")[\"Jméno\"].nunique() / k3[~k3[\"Pauza\"].isnull()].groupby(\"Copyright\")[\"Jméno\"].nunique()).plot.bar(figsize=(20,10))"
   ]
  }
 ],
 "metadata": {
  "kernelspec": {
   "display_name": "Python 3 (ipykernel)",
   "language": "python",
   "name": "python3"
  },
  "language_info": {
   "codemirror_mode": {
    "name": "ipython",
    "version": 3
   },
   "file_extension": ".py",
   "mimetype": "text/x-python",
   "name": "python",
   "nbconvert_exporter": "python",
   "pygments_lexer": "ipython3",
   "version": "3.10.8"
  }
 },
 "nbformat": 4,
 "nbformat_minor": 5
}
