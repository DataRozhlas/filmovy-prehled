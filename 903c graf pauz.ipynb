{
 "cells": [
  {
   "cell_type": "code",
   "execution_count": 1,
   "id": "dca42c35",
   "metadata": {},
   "outputs": [],
   "source": [
    "import os\n",
    "import pandas as pd\n",
    "from src.graf import graf"
   ]
  },
  {
   "cell_type": "code",
   "execution_count": 2,
   "id": "0dae124a",
   "metadata": {},
   "outputs": [],
   "source": [
    "persony = pd.read_json(os.path.join(\"data\", \"persony.json\"))"
   ]
  },
  {
   "cell_type": "code",
   "execution_count": 3,
   "id": "3745add9",
   "metadata": {},
   "outputs": [],
   "source": [
    "konce = pd.read_json(os.path.join(\"data\", \"pauzy.json\"), orient=\"records\")"
   ]
  },
  {
   "cell_type": "code",
   "execution_count": 4,
   "id": "858bcd10",
   "metadata": {},
   "outputs": [],
   "source": [
    "r3 = konce.groupby(\"Jméno\")[\"Copyright\"].nunique()\n",
    "r3 = r3[r3 >= 2]\n",
    "r3 = r3.index.to_list()"
   ]
  },
  {
   "cell_type": "code",
   "execution_count": 5,
   "id": "08ad7dfc",
   "metadata": {},
   "outputs": [],
   "source": [
    "k3 = konce[konce[\"Jméno\"].isin(r3)]"
   ]
  },
  {
   "cell_type": "code",
   "execution_count": 6,
   "id": "e4495dda",
   "metadata": {},
   "outputs": [],
   "source": [
    "k3 = k3[k3[\"Copyright\"].isin(range(1920,2011))]"
   ]
  },
  {
   "cell_type": "code",
   "execution_count": 7,
   "id": "5a9a7acd",
   "metadata": {},
   "outputs": [],
   "source": [
    "k3 = k3.merge(persony[[\"Jméno\",\"Rok úmrtí\"]], on=\"Jméno\")"
   ]
  },
  {
   "cell_type": "code",
   "execution_count": 8,
   "id": "e1ebd49d",
   "metadata": {},
   "outputs": [],
   "source": [
    "k3[\"Příští film\"] = pd.to_numeric(k3[\"Příští film\"], errors=\"coerce\")"
   ]
  },
  {
   "cell_type": "code",
   "execution_count": 9,
   "id": "9219cefb",
   "metadata": {},
   "outputs": [],
   "source": [
    "k3[\"Rok úmrtí\"] = pd.to_numeric(k3[\"Rok úmrtí\"], errors=\"coerce\")"
   ]
  },
  {
   "cell_type": "code",
   "execution_count": 10,
   "id": "3b1e9c5e",
   "metadata": {},
   "outputs": [],
   "source": [
    "k3.loc[k3[\"Příští film\"] > k3[\"Rok úmrtí\"],\"Příští film\"]=None"
   ]
  },
  {
   "cell_type": "code",
   "execution_count": 11,
   "id": "7f15fd0c",
   "metadata": {},
   "outputs": [
    {
     "data": {
      "text/plain": [
       "Copyright\n",
       "1920     152\n",
       "1921     189\n",
       "1922     167\n",
       "1923     100\n",
       "1924      89\n",
       "        ... \n",
       "2006     990\n",
       "2007     859\n",
       "2008    1094\n",
       "2009    1360\n",
       "2010    1055\n",
       "Name: Jméno, Length: 91, dtype: int64"
      ]
     },
     "execution_count": 11,
     "metadata": {},
     "output_type": "execute_result"
    }
   ],
   "source": [
    "k3.groupby(\"Copyright\")[\"Jméno\"].nunique()"
   ]
  },
  {
   "cell_type": "code",
   "execution_count": 12,
   "id": "262c818e",
   "metadata": {},
   "outputs": [],
   "source": [
    "pauza_konec = pd.Series((k3[(k3[\"Pauza\"].isnull())].groupby(\"Copyright\")[\"Jméno\"].nunique() / k3.groupby(\"Copyright\")[\"Jméno\"].nunique()).fillna(0).reindex(list(range(1930,2001))), name=\"Konec v (české) kinematografii\")"
   ]
  },
  {
   "cell_type": "code",
   "execution_count": 13,
   "id": "66c35d08",
   "metadata": {},
   "outputs": [
    {
     "data": {
      "text/plain": [
       "Copyright\n",
       "1930    0.092896\n",
       "1931    0.059748\n",
       "1932    0.082840\n",
       "1933    0.106742\n",
       "1934    0.080925\n",
       "          ...   \n",
       "1996    0.127731\n",
       "1997    0.087954\n",
       "1998    0.149278\n",
       "1999    0.144909\n",
       "2000    0.109890\n",
       "Name: Konec v (české) kinematografii, Length: 71, dtype: float64"
      ]
     },
     "execution_count": 13,
     "metadata": {},
     "output_type": "execute_result"
    }
   ],
   "source": [
    "pauza_konec"
   ]
  },
  {
   "cell_type": "code",
   "execution_count": 14,
   "id": "4c964899",
   "metadata": {},
   "outputs": [],
   "source": [
    "pauza_10 = pd.Series((k3[(k3[\"Pauza\"] < 20) & (k3[\"Pauza\"] >= 10)].groupby(\"Copyright\")[\"Jméno\"].nunique() / k3.groupby(\"Copyright\")[\"Jméno\"].nunique()).fillna(0).reindex(list(range(1930,2001))), name=\"Pauza na 10 až 20 let\")"
   ]
  },
  {
   "cell_type": "code",
   "execution_count": 15,
   "id": "0be92619",
   "metadata": {},
   "outputs": [],
   "source": [
    "pauza_20 = pd.Series((k3[(k3[\"Pauza\"] > 20)].groupby(\"Copyright\")[\"Jméno\"].nunique() / k3.groupby(\"Copyright\")[\"Jméno\"].nunique()).fillna(0).reindex(list(range(1930,2001))), name=\"Pauza 20 a více let\")"
   ]
  },
  {
   "cell_type": "code",
   "execution_count": 16,
   "id": "a5a012d0",
   "metadata": {},
   "outputs": [
    {
     "data": {
      "text/plain": [
       "Copyright\n",
       "1930    0.016393\n",
       "1931    0.009434\n",
       "1932    0.005917\n",
       "1933    0.005618\n",
       "1934    0.005780\n",
       "          ...   \n",
       "1996    0.018487\n",
       "1997    0.005736\n",
       "1998    0.008026\n",
       "1999    0.003916\n",
       "2000    0.001570\n",
       "Name: Pauza 20 a více let, Length: 71, dtype: float64"
      ]
     },
     "execution_count": 16,
     "metadata": {},
     "output_type": "execute_result"
    }
   ],
   "source": [
    "pauza_20"
   ]
  },
  {
   "cell_type": "code",
   "execution_count": 17,
   "id": "d04ab6e5",
   "metadata": {},
   "outputs": [
    {
     "name": "stdout",
     "output_type": "stream",
     "text": [
      "Graf uložen.\n"
     ]
    }
   ],
   "source": [
    "graf(sloupcovy=[pauza_10,pauza_20,pauza_konec], procenta=[pauza_konec,pauza_10,pauza_20], skladany=True, max_procenta=40, target=\"pauzy\", titulek=\"Odchody z české kinematografie\", podtitulek=\"Srovnáváme tvůrce a tvůrkyně ve všech filmařských profesích, kteří byli aktivní alespoň ve dvou různých letech, abychom oddělili profesionály od jednorázových brigádníků.\", kredity=[\"Zdroj dat: Filmový přehled | Vizualizace: Michal Kašpárek, iROZHLAS.cz\",\"https://www.irozhlas.cz/zpravy-tag/datova-zurnalistika\"], osay2=\"podíl z celkového počtu tvůrců\")"
   ]
  }
 ],
 "metadata": {
  "kernelspec": {
   "display_name": "Python 3 (ipykernel)",
   "language": "python",
   "name": "python3"
  },
  "language_info": {
   "codemirror_mode": {
    "name": "ipython",
    "version": 3
   },
   "file_extension": ".py",
   "mimetype": "text/x-python",
   "name": "python",
   "nbconvert_exporter": "python",
   "pygments_lexer": "ipython3",
   "version": "3.10.8"
  }
 },
 "nbformat": 4,
 "nbformat_minor": 5
}
