{
 "cells": [
  {
   "cell_type": "code",
   "execution_count": 1,
   "id": "bc53a6d9",
   "metadata": {},
   "outputs": [
    {
     "name": "stdout",
     "output_type": "stream",
     "text": [
      "2023/06/19 16:16:03 z 4555 řádků odstraněno 133. Aktuální dataframe má 4422 řádků.\n"
     ]
    }
   ],
   "source": [
    "import os\n",
    "import json\n",
    "import pandas as pd\n",
    "from src.gender import gender\n",
    "from src.vycisti import vycisti\n",
    "from src.graf import graf\n",
    "pd.set_option('display.max_columns', None)\n",
    "df = pd.read_json(os.path.join(\"data\", \"filmy.json\"))\n",
    "with open(os.path.join(\"data_fixes\", \"opravy.json\"), encoding=\"utf-8\") as opravy:\n",
    "    opravy = json.loads(opravy.read())\n",
    "with open(os.path.join(\"data_fixes\", \"seznamy.json\"), encoding=\"utf-8\") as seznamy:\n",
    "    seznamy = json.loads(seznamy.read())\n",
    "with open(os.path.join(\"data_fixes\", \"zeny.json\"), encoding=\"utf-8\") as zeny:\n",
    "    zeny = json.loads(zeny.read())\n",
    "with open(os.path.join(\"data_fixes\", \"nelide.json\"), encoding=\"utf-8\") as nelide:\n",
    "    nelide = json.loads(nelide.read())\n",
    "df = vycisti(df, opravy)"
   ]
  },
  {
   "cell_type": "code",
   "execution_count": 2,
   "id": "1306cf1c",
   "metadata": {},
   "outputs": [],
   "source": [
    "pd.set_option('display.max_columns', None)"
   ]
  },
  {
   "cell_type": "code",
   "execution_count": 3,
   "id": "192157c7",
   "metadata": {},
   "outputs": [
    {
     "data": {
      "text/plain": [
       "'Film, Země původu, Copyright, Rok výroby, Premiéra, Minutáž, Režie, Kategorie, Žánr, Typologie, Originální název, Český název, Anglický název, Souběžný název, Pracovní název, Hrají, Postavy, Pomocná režie, Asistent režie, Původní filmový námět, Scénář, Dramaturg, Kamera, Asistent kamery, Architekt, Návrhy kostýmů, Masky, Střih, Zvuk, Producent, Vedoucí výroby, Zástupce vedoucího výroby, Odborný poradce, Hudba, Choreografie, Lokace, Distribuční slogan, Výrobce, S podporou, Nositelé copyrightu, Distribuce, Délka, Distribuční nosič, Poměr stran, Barva, Zvukový, Zvukový systém/formát, Verze, Mluveno, Podtitulky, Úvodní/závěrečné titulky, Anotace, Obsah, Technický scénář, Výtvarník, Animace, Triky, Postprodukce, Návrhy titulků, Pedagogické vedení, Použitá hudba, Studentský film, Původní metráž, Mezititulky, Poznámka, Mluví, Vizuální efekty, Vedoucí produkce, Předloha, Kaskadéři, Text písně, Zpívá, pásmo, Části, Produkce, Výtvarná spolupráce, Nahrál, Partner, Animační technika, Výprava, Spolupráce, Komentář, Autor komentáře, Druhá kamera, Zvláštní efekty, Koproducent, Výběr hudby, Hudební dramaturgie, Písně, Hudba, text a zpěv písně, Produkční data, Koordinátor kaskadérů, Výkonná produkce, Zástupce vedoucího produkce, Hudební režie, Účinkují, Dirigent, Ateliéry, Režie české verze, Výrobce české verze, Tančí, České podtitulky, Výrobce českých podtitulků, Asistent vedoucího produkce, Natáčecí formát, Dialogy české verze, Autor projektu, Stav filmu, Souběžný anglický název, Assistent architekta, Asistent zvuku, Podnázev, Asistent vedoucího výroby, Skript, Kostýmy, Asistent střihu, povídkový film, Povídky, Hudba k písni, Prodej práv, Podnázev anglický, Výtvarník pozadí, Výrobní skupina, Zákazník, Vývozní společnost, Umělecké vedení, Zpěv role, Překlad české verze, Rychlost, Přístupnost, cyklus, Začátek výroby, Konec výroby'"
      ]
     },
     "execution_count": 3,
     "metadata": {},
     "output_type": "execute_result"
    }
   ],
   "source": [
    "\", \".join(df.columns.to_list())"
   ]
  },
  {
   "cell_type": "code",
   "execution_count": 4,
   "id": "ef2241c3",
   "metadata": {},
   "outputs": [
    {
     "data": {
      "text/plain": [
       "133"
      ]
     },
     "execution_count": 4,
     "metadata": {},
     "output_type": "execute_result"
    }
   ],
   "source": [
    "len(df.columns.to_list())"
   ]
  },
  {
   "cell_type": "code",
   "execution_count": 5,
   "id": "2534cfda",
   "metadata": {},
   "outputs": [],
   "source": [
    "df = df.explode(\"Mluví\").explode(\"Komentář\")"
   ]
  },
  {
   "cell_type": "code",
   "execution_count": 6,
   "id": "e760c328",
   "metadata": {},
   "outputs": [
    {
     "data": {
      "text/plain": [
       "Mluví\n",
       "Mirko Musil (33555)          41\n",
       "Jindřich Narenta (87097)     17\n",
       "Jiří Lábus (838)             15\n",
       "Antonín Jedlička (4739)      12\n",
       "Jiří Zahajský (8033)         12\n",
       "Oldřich Velen (12725)        12\n",
       "Alena Kreuzmannová (4743)    11\n",
       "Jan Pohan (7665)             11\n",
       "Jiřina Bohdalová (2878)      11\n",
       "Miroslav Moravec (1674)      11\n",
       "Name: Film, dtype: int64"
      ]
     },
     "execution_count": 6,
     "metadata": {},
     "output_type": "execute_result"
    }
   ],
   "source": [
    "df.groupby(\"Mluví\")[\"Film\"].nunique().nlargest(10)"
   ]
  },
  {
   "cell_type": "code",
   "execution_count": 7,
   "id": "c624e360",
   "metadata": {},
   "outputs": [
    {
     "data": {
      "text/plain": [
       "Komentář\n",
       "Karel Höger (38146)            24\n",
       "Otakar Brousek st. (3390)      18\n",
       "Václav Voska (76149)           16\n",
       "Jan Werich (1287)              15\n",
       "Antonín Zíb (99716)            14\n",
       "Eduard Cupák (4944)            10\n",
       "Jiří Šrámek (22529)             9\n",
       "Luděk Munzar (12942)            9\n",
       "Zdeněk Štěpánek (87457)         8\n",
       "František Filipovský (4735)     7\n",
       "Josef Červinka (17588)          7\n",
       "Karel Beníško (125440)          7\n",
       "Rudolf Deyl ml. (126471)        7\n",
       "Bohumil Švarc (27238)           6\n",
       "Jan Kačer (1165)                6\n",
       "Oldřich Kaiser (1794)           6\n",
       "Vlastimil Brodský (833)         6\n",
       "Jindřich Elbl (130127)          5\n",
       "Josef Abrhám (2274)             5\n",
       "Miroslav Táborský (1841)        5\n",
       "Name: Film, dtype: int64"
      ]
     },
     "execution_count": 7,
     "metadata": {},
     "output_type": "execute_result"
    }
   ],
   "source": [
    "df.groupby(\"Komentář\")[\"Film\"].nunique().nlargest(20)"
   ]
  },
  {
   "cell_type": "code",
   "execution_count": 8,
   "id": "d474bf7e",
   "metadata": {},
   "outputs": [
    {
     "data": {
      "text/plain": [
       "Komentář\n",
       "Karel Höger (38146)          16\n",
       "Otakar Brousek st. (3390)    16\n",
       "Antonín Zíb (99716)          14\n",
       "Václav Voska (76149)         14\n",
       "Jan Werich (1287)            11\n",
       "Name: Žánr, dtype: int64"
      ]
     },
     "execution_count": 8,
     "metadata": {},
     "output_type": "execute_result"
    }
   ],
   "source": [
    "df.explode(\"Žánr\").groupby(\"Komentář\")[\"Žánr\"].nunique().nlargest()"
   ]
  },
  {
   "cell_type": "code",
   "execution_count": 9,
   "id": "1e367c65",
   "metadata": {},
   "outputs": [
    {
     "data": {
      "text/plain": [
       "Komentář                     Žánr      \n",
       "Jan Werich (1287)            pohádka       6\n",
       "Karel Höger (38146)          pohádka       6\n",
       "Rudolf Deyl ml. (126471)     pohádka       6\n",
       "Otakar Brousek st. (3390)    drama         5\n",
       "Eduard Cupák (4944)          komedie       4\n",
       "František Filipovský (4735)  agitka        4\n",
       "Zdeněk Štěpánek (87457)      drama         4\n",
       "Bohumil Vošahlík (127436)    reklamní      3\n",
       "Bohumil Švarc (27238)        historický    3\n",
       "David Novotný (1834)         cestopisný    3\n",
       "Name: Film, dtype: int64"
      ]
     },
     "execution_count": 9,
     "metadata": {},
     "output_type": "execute_result"
    }
   ],
   "source": [
    "df.explode(\"Žánr\").groupby([\"Komentář\",\"Žánr\"])[\"Film\"].nunique().nlargest(10)"
   ]
  },
  {
   "cell_type": "code",
   "execution_count": 10,
   "id": "840e86da",
   "metadata": {},
   "outputs": [],
   "source": [
    "df = df.explode(\"Účinkují\")"
   ]
  },
  {
   "cell_type": "code",
   "execution_count": 11,
   "id": "8c8cb2b6",
   "metadata": {},
   "outputs": [
    {
     "data": {
      "text/plain": [
       "Účinkují\n",
       "Václav Havel (676)          17\n",
       "Ivan Martin Jirous (670)    10\n",
       "Miloš Zeman (8591)          10\n",
       "Václav Klaus (251)           9\n",
       "John Bok (8553)              8\n",
       "Jan Kačer (1165)             7\n",
       "Jiří Suchý (2270)            7\n",
       "Vít Klusák (3966)            7\n",
       "Egon Bondy (69366)           6\n",
       "Miloš Forman (7872)          6\n",
       "Name: Film, dtype: int64"
      ]
     },
     "execution_count": 11,
     "metadata": {},
     "output_type": "execute_result"
    }
   ],
   "source": [
    "df.groupby(\"Účinkují\")[\"Film\"].nunique().nlargest(10)"
   ]
  },
  {
   "cell_type": "code",
   "execution_count": 12,
   "id": "dd2c1f7f",
   "metadata": {},
   "outputs": [],
   "source": [
    "df = df.explode(\"Hrají\")"
   ]
  },
  {
   "cell_type": "code",
   "execution_count": 13,
   "id": "cf063a69",
   "metadata": {},
   "outputs": [
    {
     "data": {
      "text/plain": [
       "Hrají\n",
       "Jan W. Speerger (55928)        276\n",
       "Theodor Pištěk (37366)         251\n",
       "Eman Fiala (64088)             211\n",
       "Jaroslav Marvan (9550)         208\n",
       "František Filipovský (4735)    181\n",
       "Alois Dvorský (127491)         167\n",
       "Oldřich Velen (12725)          166\n",
       "Milka Balek-Brodská (28799)    163\n",
       "Josef Kemr (4897)              161\n",
       "Jaroslav Tomsa (2576)          152\n",
       "Name: Film, dtype: int64"
      ]
     },
     "execution_count": 13,
     "metadata": {},
     "output_type": "execute_result"
    }
   ],
   "source": [
    "df.groupby(\"Hrají\")[\"Film\"].nunique().nlargest(10)"
   ]
  },
  {
   "cell_type": "code",
   "execution_count": 17,
   "id": "46154d0a",
   "metadata": {},
   "outputs": [],
   "source": [
    "df[\"Gender\"] = df[\"Komentář\"].apply(lambda x: gender(x, zeny, nelide))"
   ]
  },
  {
   "cell_type": "code",
   "execution_count": 18,
   "id": "26434096",
   "metadata": {},
   "outputs": [
    {
     "data": {
      "text/plain": [
       "Gender\n",
       "muž     466\n",
       "žena     88\n",
       "Name: Film, dtype: int64"
      ]
     },
     "execution_count": 18,
     "metadata": {},
     "output_type": "execute_result"
    }
   ],
   "source": [
    "df.groupby(\"Gender\")[\"Film\"].nunique()"
   ]
  },
  {
   "cell_type": "code",
   "execution_count": 19,
   "id": "3e9be495",
   "metadata": {},
   "outputs": [
    {
     "data": {
      "text/plain": [
       "0.14367816091954022"
      ]
     },
     "execution_count": 19,
     "metadata": {},
     "output_type": "execute_result"
    }
   ],
   "source": [
    "75/(447 + 75)"
   ]
  },
  {
   "cell_type": "code",
   "execution_count": 20,
   "id": "0e30345d",
   "metadata": {},
   "outputs": [
    {
     "data": {
      "text/plain": [
       "Komentář\n",
       "Antonie Hegerliková (7721)    3\n",
       "Zuzana Stivínová (3511)       3\n",
       "Andrea Elsnerová (26762)      2\n",
       "Dana Medřická (64028)         2\n",
       "Eva Šedová (85823)            2\n",
       "Name: Film, dtype: int64"
      ]
     },
     "execution_count": 20,
     "metadata": {},
     "output_type": "execute_result"
    }
   ],
   "source": [
    "df[df[\"Gender\"] == \"žena\"].groupby(\"Komentář\")[\"Film\"].nunique().nlargest()"
   ]
  }
 ],
 "metadata": {
  "kernelspec": {
   "display_name": "Python 3 (ipykernel)",
   "language": "python",
   "name": "python3"
  },
  "language_info": {
   "codemirror_mode": {
    "name": "ipython",
    "version": 3
   },
   "file_extension": ".py",
   "mimetype": "text/x-python",
   "name": "python",
   "nbconvert_exporter": "python",
   "pygments_lexer": "ipython3",
   "version": "3.10.8"
  }
 },
 "nbformat": 4,
 "nbformat_minor": 5
}
