{
 "cells": [
  {
   "cell_type": "markdown",
   "id": "e2f570fb",
   "metadata": {},
   "source": [
    "Todo\n",
    "\n",
    "- Exportovat seznam seznamových sloupců, aby ho další sešit v pipelině načítal automaticky.\n",
    "\n",
    "- Ještě mnoho sloupců seznamových, kvůli čárkám \", sro\" nutno upravit při scrapování.\n",
    "\n",
    "- Ukazují se exulantské filmy! Zároveň tam ale chceme nechat koprodukce. (Ten samý problém u herectva.)\n",
    "\n",
    "- Sloupec Typologie rozbitej, problém při scrapování.\n",
    "\n",
    "- Premiéra do datetime.\n",
    "\n",
    "- Rok výroby do dvou sloupců."
   ]
  },
  {
   "cell_type": "code",
   "execution_count": 1,
   "id": "62a9f206",
   "metadata": {},
   "outputs": [],
   "source": [
    "import pandas as pd"
   ]
  },
  {
   "cell_type": "code",
   "execution_count": 72,
   "id": "1f6b335b",
   "metadata": {},
   "outputs": [],
   "source": [
    "filmy = pd.read_json(\"filmy_raw.json\")"
   ]
  },
  {
   "cell_type": "code",
   "execution_count": 34,
   "id": "5eea6c8d",
   "metadata": {},
   "outputs": [],
   "source": [
    "def citlivy_orez(x):\n",
    "    if isinstance(x, str):\n",
    "        x = x.strip()\n",
    "    if isinstance(x, list):\n",
    "        try:\n",
    "            x = [y.strip() for y in x]\n",
    "        except:\n",
    "            pass\n",
    "    return(x)"
   ]
  },
  {
   "cell_type": "code",
   "execution_count": 36,
   "id": "1a327f20",
   "metadata": {},
   "outputs": [],
   "source": [
    "def do_seznamu(polozka):\n",
    "    polozka = str(polozka).split(\",\")\n",
    "    polozka = [p.strip() for p in polozka]\n",
    "    return(polozka)"
   ]
  },
  {
   "cell_type": "code",
   "execution_count": 73,
   "id": "94d149dc",
   "metadata": {},
   "outputs": [],
   "source": [
    "filmy = filmy.apply(lambda x: citlivy_orez(x))"
   ]
  },
  {
   "cell_type": "code",
   "execution_count": 80,
   "id": "e91d3c4d",
   "metadata": {},
   "outputs": [],
   "source": [
    "seznamove_sloupce = [\"Žánr\",\n",
    "                     \"Režie\",\n",
    "                     \"Mluveno\",\n",
    "                     \"Barva\",\n",
    "                     \"Zvukový systém/formát\",\n",
    "                     \"Země původu\",\n",
    "                     \"Úvodní/závěrečné titulky\",\n",
    "                     \"Distribuční nosič\",\n",
    "                     \"Země původu\"]"
   ]
  },
  {
   "cell_type": "code",
   "execution_count": 75,
   "id": "ff835caa",
   "metadata": {},
   "outputs": [],
   "source": [
    "for s in seznamove_sloupce:\n",
    "    filmy[s] = filmy[s].apply(lambda x: do_seznamu(x))"
   ]
  },
  {
   "cell_type": "code",
   "execution_count": 76,
   "id": "e6e897e5",
   "metadata": {},
   "outputs": [],
   "source": [
    "filmy[\"Minutáž\"] = filmy[\"Minutáž\"].apply(lambda x: str(x).replace(\" min\",\"\"))\n",
    "filmy[\"Minutáž\"] = pd.to_numeric(filmy[\"Minutáž\"], errors=\"coerce\")"
   ]
  },
  {
   "cell_type": "code",
   "execution_count": 78,
   "id": "c6507e88",
   "metadata": {},
   "outputs": [],
   "source": [
    "filmy = filmy.sort_values(by = \"Copyright\")"
   ]
  },
  {
   "cell_type": "code",
   "execution_count": 79,
   "id": "bdb54182",
   "metadata": {},
   "outputs": [],
   "source": [
    "filmy.to_json(\"filmy.json\", orient=\"records\")"
   ]
  }
 ],
 "metadata": {
  "kernelspec": {
   "display_name": "Python 3 (ipykernel)",
   "language": "python",
   "name": "python3"
  },
  "language_info": {
   "codemirror_mode": {
    "name": "ipython",
    "version": 3
   },
   "file_extension": ".py",
   "mimetype": "text/x-python",
   "name": "python",
   "nbconvert_exporter": "python",
   "pygments_lexer": "ipython3",
   "version": "3.10.8"
  }
 },
 "nbformat": 4,
 "nbformat_minor": 5
}
