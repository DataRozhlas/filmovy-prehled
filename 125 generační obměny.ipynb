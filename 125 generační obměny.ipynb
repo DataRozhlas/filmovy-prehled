{
 "cells": [
  {
   "cell_type": "code",
   "execution_count": 1,
   "id": "00b3b190",
   "metadata": {},
   "outputs": [],
   "source": [
    "import os"
   ]
  },
  {
   "cell_type": "code",
   "execution_count": 2,
   "id": "9cee7221",
   "metadata": {},
   "outputs": [],
   "source": [
    "import pandas as pd"
   ]
  },
  {
   "cell_type": "code",
   "execution_count": 3,
   "id": "332c068d",
   "metadata": {},
   "outputs": [],
   "source": [
    "df = pd.read_json(os.path.join(\"data\", \"filmy.json\"))"
   ]
  },
  {
   "cell_type": "code",
   "execution_count": 4,
   "id": "d6656c3c",
   "metadata": {},
   "outputs": [],
   "source": [
    "pd.set_option('display.max_columns', None)"
   ]
  },
  {
   "cell_type": "code",
   "execution_count": 6,
   "id": "da73f1d2",
   "metadata": {},
   "outputs": [],
   "source": [
    "profese = [\n",
    "    \"Animace\",\n",
    "    \"Architekt\",\n",
    "    \"Asistent kamery\",\n",
    "    \"Asistent režie\",\n",
    "    \"Autor komentáře\",\n",
    "    \"Dramaturg\",\n",
    "    \"Druhá kamera\",\n",
    "    \"Hrají\",\n",
    "    \"Hudba\",\n",
    "    \"Choreografie\",\n",
    "    \"Kamera\",\n",
    "    \"Kaskadéři\",\n",
    "    \"Koordinátor kaskadérů\",\n",
    "    \"Koproducent\",\n",
    "    \"Masky\",\n",
    "    \"Návrhy kostýmů\",\n",
    "    \"Návrhy titulků\",\n",
    "    \"Odborný poradce\",\n",
    "    \"Pedagogické vedení\",\n",
    "    \"Pomocná režie\",\n",
    "    \"Postprodukce\",\n",
    "    \"Producent\",\n",
    "    \"Produkce\",\n",
    "    \"Předloha\",\n",
    "    \"Původní filmový námět\",\n",
    "    \"Režie\",\n",
    "    \"Scénář\",\n",
    "    \"Spolupráce\",\n",
    "    \"Střih\",\n",
    "    \"Technický scénář\",\n",
    "    \"Vedoucí produkce\",\n",
    "    \"Vedoucí výroby\",\n",
    "    \"Výprava\",\n",
    "    \"Výkonná produkce\",\n",
    "    \"Výtvarná spolupráce\",\n",
    "    \"Výtvarník\",\n",
    "    \"Zástupce vedoucího produkce\",\n",
    "    \"Zástupce vedoucího výroby\",\n",
    "    \"Zpívá\"]"
   ]
  },
  {
   "cell_type": "code",
   "execution_count": 7,
   "id": "ebd8afdf",
   "metadata": {},
   "outputs": [],
   "source": [
    "def spoj(x):\n",
    "    seznam = []\n",
    "    if isinstance(x, str):\n",
    "        if x.strip() not in seznam:\n",
    "            seznam.append(x.strip())\n",
    "    if isinstance(x, list):\n",
    "        for y in x:\n",
    "            if isinstance(y, str):\n",
    "                if y.strip() not in seznam:\n",
    "                    seznam.append(y.strip())\n",
    "    return(seznam)"
   ]
  },
  {
   "cell_type": "code",
   "execution_count": 8,
   "id": "548eab40",
   "metadata": {},
   "outputs": [],
   "source": [
    "def spoj2(x):\n",
    "    seznam = []\n",
    "    for y in x:\n",
    "        for z in y:\n",
    "            if z not in seznam:\n",
    "                seznam.append(z)\n",
    "    return(seznam)"
   ]
  },
  {
   "cell_type": "code",
   "execution_count": 9,
   "id": "e9ab9326",
   "metadata": {},
   "outputs": [],
   "source": [
    "df[\"Lidé\"] = df[profese].apply(lambda x: [spoj(x) for x in x.values], axis=1).apply(lambda x: spoj2(x))"
   ]
  },
  {
   "cell_type": "code",
   "execution_count": 14,
   "id": "2638597c",
   "metadata": {},
   "outputs": [],
   "source": [
    "lide = df[[\"Copyright\",\"Film\",\"Lidé\"]].explode(\"Lidé\").sort_values(by=\"Copyright\")"
   ]
  },
  {
   "cell_type": "code",
   "execution_count": 55,
   "id": "3fc905de",
   "metadata": {},
   "outputs": [],
   "source": [
    "debuty = pd.DataFrame(lide.groupby(\"Lidé\")[\"Copyright\"].first()).reset_index()"
   ]
  },
  {
   "cell_type": "code",
   "execution_count": 56,
   "id": "c7856ea5",
   "metadata": {},
   "outputs": [
    {
     "data": {
      "text/html": [
       "<div>\n",
       "<style scoped>\n",
       "    .dataframe tbody tr th:only-of-type {\n",
       "        vertical-align: middle;\n",
       "    }\n",
       "\n",
       "    .dataframe tbody tr th {\n",
       "        vertical-align: top;\n",
       "    }\n",
       "\n",
       "    .dataframe thead th {\n",
       "        text-align: right;\n",
       "    }\n",
       "</style>\n",
       "<table border=\"1\" class=\"dataframe\">\n",
       "  <thead>\n",
       "    <tr style=\"text-align: right;\">\n",
       "      <th></th>\n",
       "      <th>Lidé</th>\n",
       "      <th>Copyright</th>\n",
       "    </tr>\n",
       "  </thead>\n",
       "  <tbody>\n",
       "    <tr>\n",
       "      <th>0</th>\n",
       "      <td></td>\n",
       "      <td>2001</td>\n",
       "    </tr>\n",
       "    <tr>\n",
       "      <th>1</th>\n",
       "      <td>(person)</td>\n",
       "      <td>2002</td>\n",
       "    </tr>\n",
       "    <tr>\n",
       "      <th>2</th>\n",
       "      <td>- 123 min (23598)</td>\n",
       "      <td>2006</td>\n",
       "    </tr>\n",
       "    <tr>\n",
       "      <th>3</th>\n",
       "      <td>1997 /česky naposledy Pragma Praha 2012/)</td>\n",
       "      <td>2013</td>\n",
       "    </tr>\n",
       "    <tr>\n",
       "      <th>4</th>\n",
       "      <td>2001 – román)</td>\n",
       "      <td>2016</td>\n",
       "    </tr>\n",
       "    <tr>\n",
       "      <th>...</th>\n",
       "      <td>...</td>\n",
       "      <td>...</td>\n",
       "    </tr>\n",
       "    <tr>\n",
       "      <th>33431</th>\n",
       "      <td>Žán Loose (11369)</td>\n",
       "      <td>2004</td>\n",
       "    </tr>\n",
       "    <tr>\n",
       "      <th>33432</th>\n",
       "      <td>živé malování)</td>\n",
       "      <td>2013</td>\n",
       "    </tr>\n",
       "    <tr>\n",
       "      <th>33433</th>\n",
       "      <td>žáci Scholae cantorum (59846)</td>\n",
       "      <td>1946</td>\n",
       "    </tr>\n",
       "    <tr>\n",
       "      <th>33434</th>\n",
       "      <td>žáci a kurzisté Československého filmového ústavu</td>\n",
       "      <td>1945</td>\n",
       "    </tr>\n",
       "    <tr>\n",
       "      <th>33435</th>\n",
       "      <td>Ǻshild Ramborg /ž/</td>\n",
       "      <td>2017</td>\n",
       "    </tr>\n",
       "  </tbody>\n",
       "</table>\n",
       "<p>33436 rows × 2 columns</p>\n",
       "</div>"
      ],
      "text/plain": [
       "                                                    Lidé  Copyright\n",
       "0                                                              2001\n",
       "1                                               (person)       2002\n",
       "2                                      - 123 min (23598)       2006\n",
       "3              1997 /česky naposledy Pragma Praha 2012/)       2013\n",
       "4                                          2001 – román)       2016\n",
       "...                                                  ...        ...\n",
       "33431                                  Žán Loose (11369)       2004\n",
       "33432                                     živé malování)       2013\n",
       "33433                      žáci Scholae cantorum (59846)       1946\n",
       "33434  žáci a kurzisté Československého filmového ústavu       1945\n",
       "33435                                 Ǻshild Ramborg /ž/       2017\n",
       "\n",
       "[33436 rows x 2 columns]"
      ]
     },
     "execution_count": 56,
     "metadata": {},
     "output_type": "execute_result"
    }
   ],
   "source": [
    "debuty"
   ]
  },
  {
   "cell_type": "code",
   "execution_count": 37,
   "id": "9dfea625",
   "metadata": {
    "scrolled": true
   },
   "outputs": [
    {
     "data": {
      "text/html": [
       "<div>\n",
       "<style scoped>\n",
       "    .dataframe tbody tr th:only-of-type {\n",
       "        vertical-align: middle;\n",
       "    }\n",
       "\n",
       "    .dataframe tbody tr th {\n",
       "        vertical-align: top;\n",
       "    }\n",
       "\n",
       "    .dataframe thead th {\n",
       "        text-align: right;\n",
       "    }\n",
       "</style>\n",
       "<table border=\"1\" class=\"dataframe\">\n",
       "  <thead>\n",
       "    <tr style=\"text-align: right;\">\n",
       "      <th></th>\n",
       "      <th>Copyright</th>\n",
       "    </tr>\n",
       "    <tr>\n",
       "      <th>Lidé</th>\n",
       "      <th></th>\n",
       "    </tr>\n",
       "  </thead>\n",
       "  <tbody>\n",
       "    <tr>\n",
       "      <th>Sára Peková (86287)</th>\n",
       "      <td>2012</td>\n",
       "    </tr>\n",
       "    <tr>\n",
       "      <th>Martin Voldřich (89050)</th>\n",
       "      <td>1993</td>\n",
       "    </tr>\n",
       "    <tr>\n",
       "      <th>Otto Zander (128369)</th>\n",
       "      <td>1932</td>\n",
       "    </tr>\n",
       "    <tr>\n",
       "      <th>Yann Mari Faget (84472)</th>\n",
       "      <td>2012</td>\n",
       "    </tr>\n",
       "    <tr>\n",
       "      <th>Vladimír Mišík (25010)</th>\n",
       "      <td>1977</td>\n",
       "    </tr>\n",
       "    <tr>\n",
       "      <th>Jan Červenka (129511)</th>\n",
       "      <td>1940</td>\n",
       "    </tr>\n",
       "    <tr>\n",
       "      <th>Helen Charmichael /ž/ (psychoterapie)</th>\n",
       "      <td>2018</td>\n",
       "    </tr>\n",
       "    <tr>\n",
       "      <th>Sergej Sanža (49188)</th>\n",
       "      <td>2009</td>\n",
       "    </tr>\n",
       "    <tr>\n",
       "      <th>Milan Gregor (33175)</th>\n",
       "      <td>2007</td>\n",
       "    </tr>\n",
       "    <tr>\n",
       "      <th>Karel Fabián (76223)</th>\n",
       "      <td>1971</td>\n",
       "    </tr>\n",
       "  </tbody>\n",
       "</table>\n",
       "</div>"
      ],
      "text/plain": [
       "                                       Copyright\n",
       "Lidé                                            \n",
       "Sára Peková (86287)                         2012\n",
       "Martin Voldřich (89050)                     1993\n",
       "Otto Zander (128369)                        1932\n",
       "Yann Mari Faget (84472)                     2012\n",
       "Vladimír Mišík (25010)                      1977\n",
       "Jan Červenka (129511)                       1940\n",
       "Helen Charmichael /ž/ (psychoterapie)       2018\n",
       "Sergej Sanža (49188)                        2009\n",
       "Milan Gregor (33175)                        2007\n",
       "Karel Fabián (76223)                        1971"
      ]
     },
     "execution_count": 37,
     "metadata": {},
     "output_type": "execute_result"
    }
   ],
   "source": [
    "debuty.sample(10)"
   ]
  },
  {
   "cell_type": "code",
   "execution_count": 43,
   "id": "008b827e",
   "metadata": {},
   "outputs": [
    {
     "data": {
      "text/plain": [
       "Index(['', '(person)', '- 123 min (23598)',\n",
       "       '1997 /česky naposledy Pragma Praha 2012/)', '2001 – román)',\n",
       "       '2006; Dcera čarodějnice – kniha)', '2007', '2017 – film)',\n",
       "       '2Mouchy (84216)', '3Beep (103102)',\n",
       "       ...\n",
       "       'Žofie Veselá (125302)', 'Žofie Zajíčková (77945)',\n",
       "       'Žofie Červená (130187)', 'Žorž Čamov (37294)', 'Žák (63328)',\n",
       "       'Žán Loose (11369)', 'živé malování)', 'žáci Scholae cantorum (59846)',\n",
       "       'žáci a kurzisté Československého filmového ústavu',\n",
       "       'Ǻshild Ramborg /ž/'],\n",
       "      dtype='object', name='Lidé', length=33436)"
      ]
     },
     "execution_count": 43,
     "metadata": {},
     "output_type": "execute_result"
    }
   ],
   "source": [
    "debuty.index"
   ]
  },
  {
   "cell_type": "code",
   "execution_count": 60,
   "id": "98760bbc",
   "metadata": {},
   "outputs": [
    {
     "data": {
      "text/plain": [
       "<AxesSubplot:xlabel='Copyright'>"
      ]
     },
     "execution_count": 60,
     "metadata": {},
     "output_type": "execute_result"
    },
    {
     "data": {
      "image/png": "[encoded data removed]",
      "text/plain": [
       "<Figure size 1440x360 with 1 Axes>"
      ]
     },
     "metadata": {
      "needs_background": "light"
     },
     "output_type": "display_data"
    }
   ],
   "source": [
    "debuty.groupby(\"Copyright\")[\"Lidé\"].nunique().plot.bar(figsize=(20,5))"
   ]
  },
  {
   "cell_type": "code",
   "execution_count": 62,
   "id": "1d3a393e",
   "metadata": {},
   "outputs": [],
   "source": [
    "derniery = pd.DataFrame(lide.sort_values(by=\"Copyright\").groupby(\"Lidé\")[\"Copyright\"].last()).reset_index()"
   ]
  },
  {
   "cell_type": "code",
   "execution_count": 63,
   "id": "94e66eea",
   "metadata": {
    "scrolled": true
   },
   "outputs": [
    {
     "data": {
      "text/plain": [
       "<AxesSubplot:xlabel='Copyright'>"
      ]
     },
     "execution_count": 63,
     "metadata": {},
     "output_type": "execute_result"
    },
    {
     "data": {
      "image/png": "[encoded data removed]",
      "text/plain": [
       "<Figure size 1440x360 with 1 Axes>"
      ]
     },
     "metadata": {
      "needs_background": "light"
     },
     "output_type": "display_data"
    }
   ],
   "source": [
    "derniery.groupby(\"Copyright\")[\"Lidé\"].nunique().plot.bar(figsize=(20,5))"
   ]
  },
  {
   "cell_type": "code",
   "execution_count": 64,
   "id": "638f3201",
   "metadata": {},
   "outputs": [],
   "source": [
    "rezie = df[[\"Copyright\",\"Film\",\"Režie\"]]"
   ]
  },
  {
   "cell_type": "code",
   "execution_count": 65,
   "id": "78278bd8",
   "metadata": {},
   "outputs": [],
   "source": [
    "rezijni_derniery = pd.DataFrame(rezie.explode(\"Režie\").sort_values(by=\"Copyright\").groupby(\"Režie\")[\"Copyright\"].last()).reset_index()"
   ]
  },
  {
   "cell_type": "code",
   "execution_count": 66,
   "id": "59f46d1e",
   "metadata": {},
   "outputs": [
    {
     "data": {
      "text/plain": [
       "<AxesSubplot:xlabel='Copyright'>"
      ]
     },
     "execution_count": 66,
     "metadata": {},
     "output_type": "execute_result"
    },
    {
     "data": {
      "image/png": "[encoded data removed]",
      "text/plain": [
       "<Figure size 1440x360 with 1 Axes>"
      ]
     },
     "metadata": {
      "needs_background": "light"
     },
     "output_type": "display_data"
    }
   ],
   "source": [
    "rezijni_derniery.groupby(\"Copyright\")[\"Režie\"].nunique().plot.bar(figsize=(20,5))"
   ]
  },
  {
   "cell_type": "code",
   "execution_count": 67,
   "id": "507b5317",
   "metadata": {},
   "outputs": [],
   "source": [
    "rezijni_premiery = pd.DataFrame(rezie.explode(\"Režie\").sort_values(by=\"Copyright\").groupby(\"Režie\")[\"Copyright\"].first()).reset_index()"
   ]
  },
  {
   "cell_type": "code",
   "execution_count": 68,
   "id": "6010648c",
   "metadata": {},
   "outputs": [
    {
     "data": {
      "text/plain": [
       "<AxesSubplot:xlabel='Copyright'>"
      ]
     },
     "execution_count": 68,
     "metadata": {},
     "output_type": "execute_result"
    },
    {
     "data": {
      "image/png": "[encoded data removed]",
      "text/plain": [
       "<Figure size 1440x360 with 1 Axes>"
      ]
     },
     "metadata": {
      "needs_background": "light"
     },
     "output_type": "display_data"
    }
   ],
   "source": [
    "rezijni_premiery.groupby(\"Copyright\")[\"Režie\"].nunique().plot.bar(figsize=(20,5))"
   ]
  },
  {
   "cell_type": "code",
   "execution_count": 71,
   "id": "91da4507",
   "metadata": {},
   "outputs": [
    {
     "data": {
      "text/plain": [
       "<AxesSubplot:xlabel='Copyright'>"
      ]
     },
     "execution_count": 71,
     "metadata": {},
     "output_type": "execute_result"
    },
    {
     "data": {
      "image/png": "[encoded data removed]",
      "text/plain": [
       "<Figure size 1440x360 with 1 Axes>"
      ]
     },
     "metadata": {
      "needs_background": "light"
     },
     "output_type": "display_data"
    }
   ],
   "source": [
    "pd.Series(rezijni_premiery.groupby(\"Copyright\")[\"Režie\"].nunique() / rezijni_derniery.groupby(\"Copyright\")[\"Režie\"].nunique()).plot.bar(figsize=(20,5))"
   ]
  }
 ],
 "metadata": {
  "kernelspec": {
   "display_name": "Python 3 (ipykernel)",
   "language": "python",
   "name": "python3"
  },
  "language_info": {
   "codemirror_mode": {
    "name": "ipython",
    "version": 3
   },
   "file_extension": ".py",
   "mimetype": "text/x-python",
   "name": "python",
   "nbconvert_exporter": "python",
   "pygments_lexer": "ipython3",
   "version": "3.10.8"
  }
 },
 "nbformat": 4,
 "nbformat_minor": 5
}
