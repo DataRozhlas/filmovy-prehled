{
 "cells": [
  {
   "cell_type": "code",
   "execution_count": 1,
   "id": "25a3ef33",
   "metadata": {},
   "outputs": [],
   "source": [
    "import pandas as pd"
   ]
  },
  {
   "cell_type": "code",
   "execution_count": 2,
   "id": "f4068d0f",
   "metadata": {},
   "outputs": [],
   "source": [
    "df = pd.read_json(\"filmy.json\")"
   ]
  },
  {
   "cell_type": "code",
   "execution_count": 4,
   "id": "0c798d00",
   "metadata": {},
   "outputs": [],
   "source": [
    "df = df.explode(\"Žánr\")"
   ]
  },
  {
   "cell_type": "code",
   "execution_count": 6,
   "id": "51f75bc6",
   "metadata": {},
   "outputs": [
    {
     "data": {
      "text/plain": [
       "Žánr\n",
       "komedie              981\n",
       "drama                647\n",
       "psychologický        413\n",
       "povídka              231\n",
       "příběh               229\n",
       "reklamní             223\n",
       "pohádka              216\n",
       "dětský               188\n",
       "historický           184\n",
       "melodrama            164\n",
       "dokument             134\n",
       "kriminální           121\n",
       "životopisný          115\n",
       "hudební              112\n",
       "etuda                110\n",
       "satira                94\n",
       "dobrodružný           91\n",
       "politický             81\n",
       "hořká komedie         79\n",
       "groteska              77\n",
       "povídkový             76\n",
       "osvětový              71\n",
       "reportáž              69\n",
       "rodinný               69\n",
       "sociální              68\n",
       "detektivní            66\n",
       "tragikomedie          62\n",
       "umělecký              58\n",
       "válečný               52\n",
       "fantastický           47\n",
       "thriller              47\n",
       "medailon              43\n",
       "poetický              43\n",
       "sci-fi                43\n",
       "smutná komedie        43\n",
       "podobenství           42\n",
       "road movie            42\n",
       "časosběrný            42\n",
       "esej                  41\n",
       "propagační            39\n",
       "sportovní             38\n",
       "romantický            37\n",
       "experimentální        36\n",
       "milostný              35\n",
       "černá komedie         31\n",
       "populárně-vědecký     29\n",
       "horor                 26\n",
       "střihový              26\n",
       "balada                25\n",
       "parodie               25\n",
       "Name: Film, dtype: int64"
      ]
     },
     "execution_count": 6,
     "metadata": {},
     "output_type": "execute_result"
    }
   ],
   "source": [
    "df.groupby(\"Žánr\")[\"Film\"].nunique().nlargest(50)"
   ]
  },
  {
   "cell_type": "code",
   "execution_count": 17,
   "id": "c5a9981b",
   "metadata": {},
   "outputs": [
    {
     "data": {
      "text/plain": [
       "<AxesSubplot:xlabel='Copyright'>"
      ]
     },
     "execution_count": 17,
     "metadata": {},
     "output_type": "execute_result"
    },
    {
     "data": {
      "image/png": "[encoded data removed]",
      "text/plain": [
       "<Figure size 432x288 with 1 Axes>"
      ]
     },
     "metadata": {
      "needs_background": "light"
     },
     "output_type": "display_data"
    }
   ],
   "source": [
    "df[df[\"Žánr\"] == \"sci-fi\"].groupby(\"Copyright\")[\"Film\"].nunique().fillna(0).plot.bar()"
   ]
  },
  {
   "cell_type": "code",
   "execution_count": 15,
   "id": "dac1d692",
   "metadata": {},
   "outputs": [
    {
     "data": {
      "text/plain": [
       "<AxesSubplot:xlabel='Copyright'>"
      ]
     },
     "execution_count": 15,
     "metadata": {},
     "output_type": "execute_result"
    },
    {
     "data": {
      "image/png": "[encoded data removed]",
      "text/plain": [
       "<Figure size 432x288 with 1 Axes>"
      ]
     },
     "metadata": {
      "needs_background": "light"
     },
     "output_type": "display_data"
    }
   ],
   "source": [
    "df[df[\"Žánr\"] == \"parodie\"].groupby(\"Copyright\")[\"Film\"].nunique().fillna(0).plot.bar()"
   ]
  },
  {
   "cell_type": "code",
   "execution_count": 16,
   "id": "fc47c21f",
   "metadata": {},
   "outputs": [
    {
     "data": {
      "text/plain": [
       "<AxesSubplot:xlabel='Copyright'>"
      ]
     },
     "execution_count": 16,
     "metadata": {},
     "output_type": "execute_result"
    },
    {
     "data": {
      "image/png": "[encoded data removed]",
      "text/plain": [
       "<Figure size 432x288 with 1 Axes>"
      ]
     },
     "metadata": {
      "needs_background": "light"
     },
     "output_type": "display_data"
    }
   ],
   "source": [
    "df[df[\"Žánr\"] == \"melodrama\"].groupby(\"Copyright\")[\"Film\"].nunique().fillna(0).plot.bar()"
   ]
  }
 ],
 "metadata": {
  "kernelspec": {
   "display_name": "Python 3 (ipykernel)",
   "language": "python",
   "name": "python3"
  },
  "language_info": {
   "codemirror_mode": {
    "name": "ipython",
    "version": 3
   },
   "file_extension": ".py",
   "mimetype": "text/x-python",
   "name": "python",
   "nbconvert_exporter": "python",
   "pygments_lexer": "ipython3",
   "version": "3.10.8"
  }
 },
 "nbformat": 4,
 "nbformat_minor": 5
}
