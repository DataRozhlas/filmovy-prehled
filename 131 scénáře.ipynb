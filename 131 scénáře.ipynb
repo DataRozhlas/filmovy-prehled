{
 "cells": [
  {
   "cell_type": "code",
   "execution_count": 1,
   "id": "43e433f5",
   "metadata": {},
   "outputs": [],
   "source": [
    "import os\n",
    "import pandas as pd\n",
    "pd.set_option('display.max_columns', None)\n",
    "df = pd.read_json(os.path.join(\"data\", \"filmy.json\"))"
   ]
  },
  {
   "cell_type": "code",
   "execution_count": 2,
   "id": "f8438c29",
   "metadata": {},
   "outputs": [
    {
     "data": {
      "text/plain": [
       "Scénář\n",
       "Václav Wasserman (37326)      89\n",
       "Otakar Vávra (9507)           68\n",
       "Ota Hofman (126062)           64\n",
       "Karel Steklý (35894)          60\n",
       "Josef Neuberg (127301)        46\n",
       "Vladimír Slavínský (31967)    45\n",
       "Karel Kachyňa (3526)          42\n",
       "Jiří Brdečka (18026)          39\n",
       "Elmar Klos (4742)             38\n",
       "Martin Frič (20324)           38\n",
       "Name: Film, dtype: int64"
      ]
     },
     "execution_count": 2,
     "metadata": {},
     "output_type": "execute_result"
    }
   ],
   "source": [
    "df.explode(\"Scénář\").groupby(\"Scénář\")[\"Film\"].nunique().nlargest(10)"
   ]
  },
  {
   "cell_type": "code",
   "execution_count": 3,
   "id": "4d74a3f3",
   "metadata": {},
   "outputs": [
    {
     "data": {
      "text/plain": [
       "Scénář\n",
       "Ota Hofman (126062)       64\n",
       "Karel Kachyňa (3526)      42\n",
       "Jiří Brdečka (18026)      38\n",
       "Jan Procházka (34081)     37\n",
       "Otakar Vávra (9507)       34\n",
       "Hermína Týrlová (4754)    29\n",
       "Jindřich Polák (7891)     29\n",
       "Karel Steklý (35894)      29\n",
       "Miloš Macourek (1045)     29\n",
       "Jiří Trnka (28391)        26\n",
       "Name: Film, dtype: int64"
      ]
     },
     "execution_count": 3,
     "metadata": {},
     "output_type": "execute_result"
    }
   ],
   "source": [
    "df[df[\"Copyright\"] > 1945].explode(\"Scénář\").groupby(\"Scénář\")[\"Film\"].nunique().nlargest(10)"
   ]
  },
  {
   "cell_type": "code",
   "execution_count": 4,
   "id": "7e46dcf2",
   "metadata": {},
   "outputs": [
    {
     "data": {
      "text/plain": [
       "Původní filmový námět\n",
       "Ota Hofman (126062)        47\n",
       "Jan Procházka (34081)      28\n",
       "Hermína Týrlová (4754)     23\n",
       "František Vlček (87095)    22\n",
       "Miloš Macourek (1045)      22\n",
       "Jindřich Polák (7891)      21\n",
       "Vladimír Kalina (4895)     21\n",
       "Karel Steklý (35894)       18\n",
       "Otakar Vávra (9507)        18\n",
       "Petr Schulhoff (7896)      17\n",
       "Name: Film, dtype: int64"
      ]
     },
     "execution_count": 4,
     "metadata": {},
     "output_type": "execute_result"
    }
   ],
   "source": [
    "df.explode(\"Původní filmový námět\").groupby(\"Původní filmový námět\")[\"Film\"].nunique().nlargest(10)"
   ]
  }
 ],
 "metadata": {
  "kernelspec": {
   "display_name": "Python 3 (ipykernel)",
   "language": "python",
   "name": "python3"
  },
  "language_info": {
   "codemirror_mode": {
    "name": "ipython",
    "version": 3
   },
   "file_extension": ".py",
   "mimetype": "text/x-python",
   "name": "python",
   "nbconvert_exporter": "python",
   "pygments_lexer": "ipython3",
   "version": "3.10.8"
  }
 },
 "nbformat": 4,
 "nbformat_minor": 5
}
