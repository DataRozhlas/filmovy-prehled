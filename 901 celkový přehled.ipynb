{
 "cells": [
  {
   "cell_type": "markdown",
   "id": "0d2a1460",
   "metadata": {},
   "source": [
    "Grafy a otázky:\n",
    "\n",
    "- jak vlastně vypadal úplně první film + první hraný celovečerní film, okolnosti vzniku\n",
    "- nedochované filmy\n",
    "- nástup zvuku\n",
    "- nesocialistická morálka v 50s\n",
    "- nástup barvy a proč se v 60s přestává točit barevně\n",
    "- proč v 80s mizejí komunisté\n",
    "- privatizace: omezení produkce & konec monopolu\n",
    "- koprodukce\n",
    "- čeho jsem si nevšiml, co vystihuje současný film?"
   ]
  },
  {
   "cell_type": "code",
   "execution_count": 1,
   "id": "30a2f73d",
   "metadata": {},
   "outputs": [
    {
     "name": "stdout",
     "output_type": "stream",
     "text": [
      "2023/05/24 15:43:18 z 4532 filmů odstraněno 125. Aktuální dataframe obsahuje 4407 filmů.\n"
     ]
    }
   ],
   "source": [
    "import os\n",
    "import json\n",
    "import pandas as pd\n",
    "from src.gender import gender\n",
    "from src.vycisti import vycisti\n",
    "pd.set_option('display.max_columns', None)\n",
    "df = pd.read_json(os.path.join(\"data\", \"filmy.json\"))\n",
    "with open(os.path.join(\"data_fixes\", \"opravy.json\"), encoding=\"utf-8\") as opravy:\n",
    "    opravy = json.loads(opravy.read())\n",
    "with open(os.path.join(\"data_fixes\", \"seznamy.json\"), encoding=\"utf-8\") as seznamy:\n",
    "    seznamy = json.loads(seznamy.read())\n",
    "with open(os.path.join(\"data_fixes\", \"zeny.json\"), encoding=\"utf-8\") as zeny:\n",
    "    zeny = json.loads(zeny.read())\n",
    "with open(os.path.join(\"data_fixes\", \"nelide.json\"), encoding=\"utf-8\") as nelide:\n",
    "    nelide = json.loads(nelide.read())\n",
    "df = vycisti(df, opravy)"
   ]
  },
  {
   "cell_type": "code",
   "execution_count": 2,
   "id": "80c0fc34",
   "metadata": {},
   "outputs": [
    {
     "data": {
      "text/plain": [
       "'Film, Země původu, Copyright, Rok výroby, Premiéra, Minutáž, Režie, Kategorie, Žánr, Typologie, Originální název, Český název, Anglický název, Souběžný název, Pracovní název, Hrají, Postavy, Pomocná režie, Asistent režie, Původní filmový námět, Scénář, Dramaturg, Kamera, Asistent kamery, Architekt, Návrhy kostýmů, Masky, Střih, Zvuk, Producent, Vedoucí výroby, Zástupce vedoucího výroby, Odborný poradce, Hudba, Choreografie, Lokace, Distribuční slogan, Výrobce, S podporou, Nositelé copyrightu, Distribuce, Délka, Distribuční nosič, Poměr stran, Barva, Zvukový, Zvukový systém/formát, Verze, Mluveno, Podtitulky, Úvodní/závěrečné titulky, Anotace, Obsah, Technický scénář, Výtvarník, Animace, Triky, Postprodukce, Návrhy titulků, Pedagogické vedení, Použitá hudba, Studentský film, Původní metráž, Mezititulky, Ocenění, Poznámka, Mluví, Vizuální efekty, Vedoucí produkce, Předloha, Kaskadéři, Text písně, Zpívá, pásmo, Části, Produkce, Výtvarná spolupráce, Nahrál, Partner, Animační technika, Výprava, Spolupráce, Komentář, Autor komentáře, Druhá kamera, Zvláštní efekty, Koproducent, Výběr hudby, Hudební dramaturgie, Písně, Hudba, text a zpěv písně, Produkční data, Koordinátor kaskadérů, Výkonná produkce, Zástupce vedoucího produkce, Hudební režie, Účinkují, Dirigent, Ateliéry, Režie české verze, Výrobce české verze, Tančí, České podtitulky, Výrobce českých podtitulků, Asistent vedoucího produkce, Natáčecí formát, Dialogy české verze, Autor projektu, Stav filmu, Souběžný anglický název, Assistent architekta, Asistent zvuku, Podnázev, Asistent vedoucího výroby, Skript, Kostýmy, Asistent střihu, povídkový film, Povídky, Hudba k písni, Prodej práv, Podnázev anglický, Výtvarník pozadí, Výrobní skupina, Zákazník, Vývozní společnost, Umělecké vedení, Zpěv role, Překlad české verze, Rychlost, Přístupnost, cyklus, Začátek výroby, Konec výroby'"
      ]
     },
     "execution_count": 2,
     "metadata": {},
     "output_type": "execute_result"
    }
   ],
   "source": [
    "(\", \").join(df.columns.to_list())"
   ]
  },
  {
   "cell_type": "code",
   "execution_count": 3,
   "id": "2a55293b",
   "metadata": {},
   "outputs": [
    {
     "data": {
      "text/plain": [
       "(2438, 134)"
      ]
     },
     "execution_count": 3,
     "metadata": {},
     "output_type": "execute_result"
    }
   ],
   "source": [
    "hcf = df[df[\"Délka\"] == \"dlouhometrážní\"].explode(\"Typologie\")\n",
    "hcf = hcf[hcf[\"Typologie\"] == \"hraný\"]\n",
    "hcf.shape"
   ]
  },
  {
   "cell_type": "markdown",
   "id": "a05fd671",
   "metadata": {},
   "source": [
    "## První č. filmy"
   ]
  },
  {
   "cell_type": "code",
   "execution_count": 4,
   "id": "efef1673",
   "metadata": {},
   "outputs": [
    {
     "data": {
      "text/html": [
       "<div>\n",
       "<style scoped>\n",
       "    .dataframe tbody tr th:only-of-type {\n",
       "        vertical-align: middle;\n",
       "    }\n",
       "\n",
       "    .dataframe tbody tr th {\n",
       "        vertical-align: top;\n",
       "    }\n",
       "\n",
       "    .dataframe thead th {\n",
       "        text-align: right;\n",
       "    }\n",
       "</style>\n",
       "<table border=\"1\" class=\"dataframe\">\n",
       "  <thead>\n",
       "    <tr style=\"text-align: right;\">\n",
       "      <th></th>\n",
       "      <th>Film</th>\n",
       "      <th>Obsah</th>\n",
       "      <th>Premiéra</th>\n",
       "    </tr>\n",
       "  </thead>\n",
       "  <tbody>\n",
       "    <tr>\n",
       "      <th>0</th>\n",
       "      <td>Polední výstřel na Mariánských hradbách (401709)</td>\n",
       "      <td>Na Mariánských hradbách v Praze připravuje sku...</td>\n",
       "      <td>premiéra 19. 6. 1898  (Výstava architektury a ...</td>\n",
       "    </tr>\n",
       "    <tr>\n",
       "      <th>1</th>\n",
       "      <td>Cvičení s kužely Sokolů malostranských (401704)</td>\n",
       "      <td>Dvanáct mužů cvičí skladbu s kužely před budov...</td>\n",
       "      <td>premiéra 24. 7. 1898  (Výstava architektury a ...</td>\n",
       "    </tr>\n",
       "    <tr>\n",
       "      <th>2</th>\n",
       "      <td>Cyklisté (401705)</td>\n",
       "      <td>Cyklisté vjíždí do zatáčky. Někteří z nich pad...</td>\n",
       "      <td>premiéra léto 1898  (Výstava architektury a in...</td>\n",
       "    </tr>\n",
       "    <tr>\n",
       "      <th>3</th>\n",
       "      <td>Defilování vojska o Božím těle na Královských ...</td>\n",
       "      <td>V Praze na Hradčanském náměstí za jezdcem na k...</td>\n",
       "      <td>premiéra 19. 6. 1898  (Výstava architektury a ...</td>\n",
       "    </tr>\n",
       "    <tr>\n",
       "      <th>4</th>\n",
       "      <td>Hanácké banderium (401707)</td>\n",
       "      <td>Záběry přehlídky jezdců na koních a žen v náro...</td>\n",
       "      <td>premiéra 24. 7. 1898  (Výstava architektury a ...</td>\n",
       "    </tr>\n",
       "    <tr>\n",
       "      <th>5</th>\n",
       "      <td>Přenesení kolébky Františka Palackého z Hodsla...</td>\n",
       "      <td>Průvod z Moravského dne na Výstavišti v Praze ...</td>\n",
       "      <td>premiéra 07/1898  (Výstava architektury a inže...</td>\n",
       "    </tr>\n",
       "    <tr>\n",
       "      <th>6</th>\n",
       "      <td>Purkyňovo náměstí na Královských Vinohradech (...</td>\n",
       "      <td>Výjevy z pražského Purkyňova náměstí.</td>\n",
       "      <td>premiéra 19. 6. 1898  (Výstava architektury a ...</td>\n",
       "    </tr>\n",
       "    <tr>\n",
       "      <th>7</th>\n",
       "      <td>Rychlovlak v Podbabí (401713)</td>\n",
       "      <td>Rychlovlak v Podbabí.</td>\n",
       "      <td>premiéra 07/1898  (Výstava architektury a inže...</td>\n",
       "    </tr>\n",
       "    <tr>\n",
       "      <th>8</th>\n",
       "      <td>Staroměstští hasiči (401702)</td>\n",
       "      <td>Hasičské vozy tažené koňhmi vjíždějí ze dvora ...</td>\n",
       "      <td>premiéra 28. 8. 1898  (Výstava architektury a ...</td>\n",
       "    </tr>\n",
       "    <tr>\n",
       "      <th>9</th>\n",
       "      <td>Slavnost zakládání pomníku Františka Palackého...</td>\n",
       "      <td>Na Palackého náměstí v Praze se pod baldachýne...</td>\n",
       "      <td>premiéra 24. 7. 1898  (Výstava architektury a ...</td>\n",
       "    </tr>\n",
       "    <tr>\n",
       "      <th>10</th>\n",
       "      <td>Útok pražského dělostřelectva (401716)</td>\n",
       "      <td>Scéna z útok pražského dělostřelectva.</td>\n",
       "      <td>premiéra 07/1898  (Výstava architektury a inže...</td>\n",
       "    </tr>\n",
       "    <tr>\n",
       "      <th>11</th>\n",
       "      <td>Voltýžování jízdního odboru Sokola pražského (...</td>\n",
       "      <td>Na Letenské pláni v Praze cvičí bílý kůň Vasil...</td>\n",
       "      <td>premiéra 24. 7. 1898  (Výstava architektury a ...</td>\n",
       "    </tr>\n",
       "    <tr>\n",
       "      <th>12</th>\n",
       "      <td>Výstavní párkař a lepič plakátů (395111)</td>\n",
       "      <td>Lepič plakátů lepí na stěnu hospody U Nesmysla...</td>\n",
       "      <td>premiéra 24. 7. 1898  (Výstava architektury a ...</td>\n",
       "    </tr>\n",
       "    <tr>\n",
       "      <th>13</th>\n",
       "      <td>Smích a pláč (395110)</td>\n",
       "      <td>Švábova tvář, natočená v detailu, předvádí mim...</td>\n",
       "      <td>premiéra 07/1898  (Výstava architektury a inže...</td>\n",
       "    </tr>\n",
       "    <tr>\n",
       "      <th>14</th>\n",
       "      <td>Dostaveníčko ve mlýnici (395109)</td>\n",
       "      <td>Před mlýnem rozvine Josef Šváb-Malostranský pl...</td>\n",
       "      <td>premiéra 3. 7. 1898  (Výstava architektury a i...</td>\n",
       "    </tr>\n",
       "    <tr>\n",
       "      <th>15</th>\n",
       "      <td>Žofínská plovárna (401718)</td>\n",
       "      <td>Film zobrazuje komické hemžení návštěvníků Žof...</td>\n",
       "      <td>premiéra 28. 8. 1898  (Výstava architektury a ...</td>\n",
       "    </tr>\n",
       "    <tr>\n",
       "      <th>16</th>\n",
       "      <td>Alarm staroměstských hasičů (401719)</td>\n",
       "      <td>Poplach hasičů, od poplašného znamení zvoncem ...</td>\n",
       "      <td>premiéra 3. 7. 1898  (Výstava architektury a i...</td>\n",
       "    </tr>\n",
       "    <tr>\n",
       "      <th>17</th>\n",
       "      <td>Svatojanská pouť v českoslovanské vesnici (401...</td>\n",
       "      <td>Záběry z expozice Českoslovanská vesnice pražs...</td>\n",
       "      <td>premiéra 19. 6. 1898  (Výstava architektury a ...</td>\n",
       "    </tr>\n",
       "  </tbody>\n",
       "</table>\n",
       "</div>"
      ],
      "text/plain": [
       "                                                 Film   \n",
       "0    Polední výstřel na Mariánských hradbách (401709)  \\\n",
       "1     Cvičení s kužely Sokolů malostranských (401704)   \n",
       "2                                   Cyklisté (401705)   \n",
       "3   Defilování vojska o Božím těle na Královských ...   \n",
       "4                          Hanácké banderium (401707)   \n",
       "5   Přenesení kolébky Františka Palackého z Hodsla...   \n",
       "6   Purkyňovo náměstí na Královských Vinohradech (...   \n",
       "7                       Rychlovlak v Podbabí (401713)   \n",
       "8                        Staroměstští hasiči (401702)   \n",
       "9   Slavnost zakládání pomníku Františka Palackého...   \n",
       "10             Útok pražského dělostřelectva (401716)   \n",
       "11  Voltýžování jízdního odboru Sokola pražského (...   \n",
       "12           Výstavní párkař a lepič plakátů (395111)   \n",
       "13                              Smích a pláč (395110)   \n",
       "14                   Dostaveníčko ve mlýnici (395109)   \n",
       "15                         Žofínská plovárna (401718)   \n",
       "16               Alarm staroměstských hasičů (401719)   \n",
       "17  Svatojanská pouť v českoslovanské vesnici (401...   \n",
       "\n",
       "                                                Obsah   \n",
       "0   Na Mariánských hradbách v Praze připravuje sku...  \\\n",
       "1   Dvanáct mužů cvičí skladbu s kužely před budov...   \n",
       "2   Cyklisté vjíždí do zatáčky. Někteří z nich pad...   \n",
       "3   V Praze na Hradčanském náměstí za jezdcem na k...   \n",
       "4   Záběry přehlídky jezdců na koních a žen v náro...   \n",
       "5   Průvod z Moravského dne na Výstavišti v Praze ...   \n",
       "6               Výjevy z pražského Purkyňova náměstí.   \n",
       "7                               Rychlovlak v Podbabí.   \n",
       "8   Hasičské vozy tažené koňhmi vjíždějí ze dvora ...   \n",
       "9   Na Palackého náměstí v Praze se pod baldachýne...   \n",
       "10             Scéna z útok pražského dělostřelectva.   \n",
       "11  Na Letenské pláni v Praze cvičí bílý kůň Vasil...   \n",
       "12  Lepič plakátů lepí na stěnu hospody U Nesmysla...   \n",
       "13  Švábova tvář, natočená v detailu, předvádí mim...   \n",
       "14  Před mlýnem rozvine Josef Šváb-Malostranský pl...   \n",
       "15  Film zobrazuje komické hemžení návštěvníků Žof...   \n",
       "16  Poplach hasičů, od poplašného znamení zvoncem ...   \n",
       "17  Záběry z expozice Českoslovanská vesnice pražs...   \n",
       "\n",
       "                                             Premiéra  \n",
       "0   premiéra 19. 6. 1898  (Výstava architektury a ...  \n",
       "1   premiéra 24. 7. 1898  (Výstava architektury a ...  \n",
       "2   premiéra léto 1898  (Výstava architektury a in...  \n",
       "3   premiéra 19. 6. 1898  (Výstava architektury a ...  \n",
       "4   premiéra 24. 7. 1898  (Výstava architektury a ...  \n",
       "5   premiéra 07/1898  (Výstava architektury a inže...  \n",
       "6   premiéra 19. 6. 1898  (Výstava architektury a ...  \n",
       "7   premiéra 07/1898  (Výstava architektury a inže...  \n",
       "8   premiéra 28. 8. 1898  (Výstava architektury a ...  \n",
       "9   premiéra 24. 7. 1898  (Výstava architektury a ...  \n",
       "10  premiéra 07/1898  (Výstava architektury a inže...  \n",
       "11  premiéra 24. 7. 1898  (Výstava architektury a ...  \n",
       "12  premiéra 24. 7. 1898  (Výstava architektury a ...  \n",
       "13  premiéra 07/1898  (Výstava architektury a inže...  \n",
       "14  premiéra 3. 7. 1898  (Výstava architektury a i...  \n",
       "15  premiéra 28. 8. 1898  (Výstava architektury a ...  \n",
       "16  premiéra 3. 7. 1898  (Výstava architektury a i...  \n",
       "17  premiéra 19. 6. 1898  (Výstava architektury a ...  "
      ]
     },
     "execution_count": 4,
     "metadata": {},
     "output_type": "execute_result"
    }
   ],
   "source": [
    "df[df[\"Copyright\"] == 1898][[\"Film\",\"Obsah\",\"Premiéra\"]]"
   ]
  },
  {
   "cell_type": "code",
   "execution_count": 5,
   "id": "c2b2cfab",
   "metadata": {},
   "outputs": [
    {
     "data": {
      "text/html": [
       "<div>\n",
       "<style scoped>\n",
       "    .dataframe tbody tr th:only-of-type {\n",
       "        vertical-align: middle;\n",
       "    }\n",
       "\n",
       "    .dataframe tbody tr th {\n",
       "        vertical-align: top;\n",
       "    }\n",
       "\n",
       "    .dataframe thead th {\n",
       "        text-align: right;\n",
       "    }\n",
       "</style>\n",
       "<table border=\"1\" class=\"dataframe\">\n",
       "  <thead>\n",
       "    <tr style=\"text-align: right;\">\n",
       "      <th></th>\n",
       "      <th>Film</th>\n",
       "      <th>Režie</th>\n",
       "      <th>Kamera</th>\n",
       "      <th>Premiéra</th>\n",
       "    </tr>\n",
       "  </thead>\n",
       "  <tbody>\n",
       "    <tr>\n",
       "      <th>0</th>\n",
       "      <td>Polední výstřel na Mariánských hradbách (401709)</td>\n",
       "      <td>[Jan Kříženecký (127419)]</td>\n",
       "      <td>[Jan Kříženecký (127419)]</td>\n",
       "      <td>premiéra 19. 6. 1898  (Výstava architektury a ...</td>\n",
       "    </tr>\n",
       "    <tr>\n",
       "      <th>3</th>\n",
       "      <td>Defilování vojska o Božím těle na Královských ...</td>\n",
       "      <td>[Jan Kříženecký (127419)]</td>\n",
       "      <td>[Jan Kříženecký (127419)]</td>\n",
       "      <td>premiéra 19. 6. 1898  (Výstava architektury a ...</td>\n",
       "    </tr>\n",
       "    <tr>\n",
       "      <th>6</th>\n",
       "      <td>Purkyňovo náměstí na Královských Vinohradech (...</td>\n",
       "      <td>[Jan Kříženecký (127419)]</td>\n",
       "      <td>[Jan Kříženecký (127419)]</td>\n",
       "      <td>premiéra 19. 6. 1898  (Výstava architektury a ...</td>\n",
       "    </tr>\n",
       "    <tr>\n",
       "      <th>17</th>\n",
       "      <td>Svatojanská pouť v českoslovanské vesnici (401...</td>\n",
       "      <td>[Jan Kříženecký (127419)]</td>\n",
       "      <td>[Jan Kříženecký (127419)]</td>\n",
       "      <td>premiéra 19. 6. 1898  (Výstava architektury a ...</td>\n",
       "    </tr>\n",
       "  </tbody>\n",
       "</table>\n",
       "</div>"
      ],
      "text/plain": [
       "                                                 Film   \n",
       "0    Polední výstřel na Mariánských hradbách (401709)  \\\n",
       "3   Defilování vojska o Božím těle na Královských ...   \n",
       "6   Purkyňovo náměstí na Královských Vinohradech (...   \n",
       "17  Svatojanská pouť v českoslovanské vesnici (401...   \n",
       "\n",
       "                        Režie                     Kamera   \n",
       "0   [Jan Kříženecký (127419)]  [Jan Kříženecký (127419)]  \\\n",
       "3   [Jan Kříženecký (127419)]  [Jan Kříženecký (127419)]   \n",
       "6   [Jan Kříženecký (127419)]  [Jan Kříženecký (127419)]   \n",
       "17  [Jan Kříženecký (127419)]  [Jan Kříženecký (127419)]   \n",
       "\n",
       "                                             Premiéra  \n",
       "0   premiéra 19. 6. 1898  (Výstava architektury a ...  \n",
       "3   premiéra 19. 6. 1898  (Výstava architektury a ...  \n",
       "6   premiéra 19. 6. 1898  (Výstava architektury a ...  \n",
       "17  premiéra 19. 6. 1898  (Výstava architektury a ...  "
      ]
     },
     "execution_count": 5,
     "metadata": {},
     "output_type": "execute_result"
    }
   ],
   "source": [
    "df[(df[\"Copyright\"] == 1898) & (df[\"Premiéra\"].str.contains(\"19. 6. 1898\", na=False))][[\"Film\",\"Režie\",\"Kamera\",\"Premiéra\"]]"
   ]
  },
  {
   "cell_type": "code",
   "execution_count": 6,
   "id": "57e0c652",
   "metadata": {},
   "outputs": [
    {
     "data": {
      "text/plain": [
       "['Na Mariánských hradbách v Praze připravuje skupina vojáků dělo k výstřelu, který oznamuje poledne.',\n",
       " 'V Praze na Hradčanském náměstí za jezdcem na koni, přijíždějícím směrem ke kameře, defiluje vojsko.',\n",
       " 'Výjevy z pražského Purkyňova náměstí.',\n",
       " 'Záběry z expozice Českoslovanská vesnice pražského Výstaviště v době konání Svatojánské pouti ve dnech 15. a 16. května 1898. V popředí vidíme tancující páry, za kterými se točí kolotoč. V levém horním rohu provazochodec předvádí své vystoupení.']"
      ]
     },
     "execution_count": 6,
     "metadata": {},
     "output_type": "execute_result"
    }
   ],
   "source": [
    "df[(df[\"Copyright\"] == 1898) & (df[\"Premiéra\"].str.contains(\"19. 6. 1898\", na=False))][\"Obsah\"].to_list()"
   ]
  },
  {
   "cell_type": "code",
   "execution_count": 7,
   "id": "33cca39a",
   "metadata": {},
   "outputs": [
    {
     "data": {
      "text/plain": [
       "Minutáž    4.0\n",
       "dtype: float64"
      ]
     },
     "execution_count": 7,
     "metadata": {},
     "output_type": "execute_result"
    }
   ],
   "source": [
    "df[(df[\"Copyright\"] == 1898) & (df[\"Premiéra\"].str.contains(\"19. 6. 1898\", na=False))][[\"Minutáž\"]].sum()"
   ]
  },
  {
   "cell_type": "code",
   "execution_count": 8,
   "id": "785ec42b",
   "metadata": {},
   "outputs": [
    {
     "data": {
      "text/html": [
       "<div>\n",
       "<style scoped>\n",
       "    .dataframe tbody tr th:only-of-type {\n",
       "        vertical-align: middle;\n",
       "    }\n",
       "\n",
       "    .dataframe tbody tr th {\n",
       "        vertical-align: top;\n",
       "    }\n",
       "\n",
       "    .dataframe thead th {\n",
       "        text-align: right;\n",
       "    }\n",
       "</style>\n",
       "<table border=\"1\" class=\"dataframe\">\n",
       "  <thead>\n",
       "    <tr style=\"text-align: right;\">\n",
       "      <th></th>\n",
       "      <th>Film</th>\n",
       "      <th>Obsah</th>\n",
       "      <th>Premiéra</th>\n",
       "    </tr>\n",
       "  </thead>\n",
       "  <tbody>\n",
       "    <tr>\n",
       "      <th>154</th>\n",
       "      <td>Magdalena (395221)</td>\n",
       "      <td>Jiří se setkává v nevěstinci s Lucií, která se...</td>\n",
       "      <td>premiéra 10. 11. 1921 /nepřístupný mládeži/ (k...</td>\n",
       "    </tr>\n",
       "    <tr>\n",
       "      <th>159</th>\n",
       "      <td>Legionář (395220)</td>\n",
       "      <td>Při VII. všesokolském sletu roku 1920 vypráví ...</td>\n",
       "      <td>premiéra 5. 11. 1920 /přístupný mládeži/ (kino...</td>\n",
       "    </tr>\n",
       "    <tr>\n",
       "      <th>160</th>\n",
       "      <td>Zpěv zlata (395234)</td>\n",
       "      <td>Mladý chemik Edgar Zoran objeví syntetický způ...</td>\n",
       "      <td>předpremiéra 4. 12. 1920  (kino Lucerna, Praha...</td>\n",
       "    </tr>\n",
       "    <tr>\n",
       "      <th>161</th>\n",
       "      <td>Tam na horách (395228)</td>\n",
       "      <td>Vesnická dívka Maruška je svedena lehkomyslným...</td>\n",
       "      <td>premiéra 31. 12. 1920 /nepřístupný mládeži/ (k...</td>\n",
       "    </tr>\n",
       "    <tr>\n",
       "      <th>163</th>\n",
       "      <td>Za čest vítězů (395230)</td>\n",
       "      <td>S legionáři z Ruska se vrací i mladý Drahota s...</td>\n",
       "      <td>premiéra 4. 2. 1921 /nepřístupný mládeži/ (kin...</td>\n",
       "    </tr>\n",
       "    <tr>\n",
       "      <th>164</th>\n",
       "      <td>Za svobodu národa (395231)</td>\n",
       "      <td>Student Jiří Voldán je po vyhlášení mobilizace...</td>\n",
       "      <td>premiéra 12. 11. 1920 /nepřístupný mládeži/ (k...</td>\n",
       "    </tr>\n",
       "    <tr>\n",
       "      <th>165</th>\n",
       "      <td>Zlatá žena (395232)</td>\n",
       "      <td>Ve vile boháče Kodeše se strhne velká hádka me...</td>\n",
       "      <td>premiéra 13. 11. 1920 /nepřístupný mládeži/ (k...</td>\n",
       "    </tr>\n",
       "    <tr>\n",
       "      <th>168</th>\n",
       "      <td>Setřelé písmo (395235)</td>\n",
       "      <td>Sochař a sběratel starých tisků Šalda získá st...</td>\n",
       "      <td>premiéra 25. 2. 1921 /nepřístupný mládeži/ (ki...</td>\n",
       "    </tr>\n",
       "  </tbody>\n",
       "</table>\n",
       "</div>"
      ],
      "text/plain": [
       "                           Film   \n",
       "154          Magdalena (395221)  \\\n",
       "159           Legionář (395220)   \n",
       "160         Zpěv zlata (395234)   \n",
       "161      Tam na horách (395228)   \n",
       "163     Za čest vítězů (395230)   \n",
       "164  Za svobodu národa (395231)   \n",
       "165         Zlatá žena (395232)   \n",
       "168      Setřelé písmo (395235)   \n",
       "\n",
       "                                                 Obsah   \n",
       "154  Jiří se setkává v nevěstinci s Lucií, která se...  \\\n",
       "159  Při VII. všesokolském sletu roku 1920 vypráví ...   \n",
       "160  Mladý chemik Edgar Zoran objeví syntetický způ...   \n",
       "161  Vesnická dívka Maruška je svedena lehkomyslným...   \n",
       "163  S legionáři z Ruska se vrací i mladý Drahota s...   \n",
       "164  Student Jiří Voldán je po vyhlášení mobilizace...   \n",
       "165  Ve vile boháče Kodeše se strhne velká hádka me...   \n",
       "168  Sochař a sběratel starých tisků Šalda získá st...   \n",
       "\n",
       "                                              Premiéra  \n",
       "154  premiéra 10. 11. 1921 /nepřístupný mládeži/ (k...  \n",
       "159  premiéra 5. 11. 1920 /přístupný mládeži/ (kino...  \n",
       "160  předpremiéra 4. 12. 1920  (kino Lucerna, Praha...  \n",
       "161  premiéra 31. 12. 1920 /nepřístupný mládeži/ (k...  \n",
       "163  premiéra 4. 2. 1921 /nepřístupný mládeži/ (kin...  \n",
       "164  premiéra 12. 11. 1920 /nepřístupný mládeži/ (k...  \n",
       "165  premiéra 13. 11. 1920 /nepřístupný mládeži/ (k...  \n",
       "168  premiéra 25. 2. 1921 /nepřístupný mládeži/ (ki...  "
      ]
     },
     "execution_count": 8,
     "metadata": {},
     "output_type": "execute_result"
    }
   ],
   "source": [
    "hcf[hcf[\"Copyright\"] == 1920][[\"Film\",\"Obsah\",\"Premiéra\"]]"
   ]
  },
  {
   "cell_type": "markdown",
   "id": "12c732b0",
   "metadata": {},
   "source": [
    "## Vývoj č. kinematografie"
   ]
  },
  {
   "cell_type": "code",
   "execution_count": 9,
   "id": "9f71777c",
   "metadata": {},
   "outputs": [
    {
     "data": {
      "text/plain": [
       "<AxesSubplot:xlabel='Copyright'>"
      ]
     },
     "execution_count": 9,
     "metadata": {},
     "output_type": "execute_result"
    },
    {
     "data": {
      "image/png": "[encoded data removed]",
      "text/plain": [
       "<Figure size 1800x360 with 1 Axes>"
      ]
     },
     "metadata": {
      "needs_background": "light"
     },
     "output_type": "display_data"
    }
   ],
   "source": [
    "df.groupby(\"Copyright\")[\"Film\"].nunique().plot.bar(figsize=(25,5))"
   ]
  },
  {
   "cell_type": "code",
   "execution_count": 10,
   "id": "ebfcd691",
   "metadata": {},
   "outputs": [
    {
     "data": {
      "text/plain": [
       "['Spolu sami (401989)',\n",
       " 'Pat & Mat zimní radovánky (401837)',\n",
       " 'Člověk Kilimandžáro (401987)',\n",
       " 'Karkulka a sedm trpaslíků (401935)',\n",
       " 'Mimi & Líza (401839)',\n",
       " 'Markéta chce taštičku (401915)',\n",
       " 'Pasažéři (401825)',\n",
       " 'Sněží! (401921)',\n",
       " 'Central Bus Station (401856)',\n",
       " 'Kapela (401855)',\n",
       " 'Vítězové Anifilmu 2018 (401930)',\n",
       " 'Woo-Hoo! (401933)',\n",
       " 'Čertí brko (401838)',\n",
       " 'Chůze a běhy (401934)',\n",
       " 'Na Stojáka v kině (401847)',\n",
       " 'Pod mrakem (401947)',\n",
       " 'Po čem muži touží (401845)',\n",
       " 'Dobrá smrt (401966)',\n",
       " 'Ten, kdo tě miloval (401842)',\n",
       " 'Zlatý podraz (401841)',\n",
       " 'Když draka bolí hlava (401840)',\n",
       " 'Iluze (401851)',\n",
       " 'Odborný dohled nad výkladem snu (401766)',\n",
       " 'Jak se moří revizoři (401822)',\n",
       " 'Až přijde válka (401769)',\n",
       " 'Miss Hanoi (401768)',\n",
       " '30 Amper (402051)',\n",
       " 'Chata na prodej (401767)',\n",
       " 'Žalman aneb Naslouchám tichu Země (401765)',\n",
       " 'Kluci z hor (401764)',\n",
       " 'Pat & Mat znovu v akci (401762)',\n",
       " 'Pepa (401760)',\n",
       " 'Teambuilding (401759)',\n",
       " 'Tátova volha (401758)',\n",
       " 'Na krátko (401757)',\n",
       " 'Výměna rolí (401771)',\n",
       " 'Hastrman (401755)',\n",
       " 'Dukátová skála (401752)',\n",
       " 'Věčně tvá nevěrná (401750)',\n",
       " 'Úsměvy smutných mužů (401749)',\n",
       " 'Na tělo (401748)',\n",
       " 'Archa světel a stínů (401747)',\n",
       " 'Alenka v zemi zázraků (401746)',\n",
       " 'Bohu žel (401740)',\n",
       " 'Hmyz (401737)',\n",
       " 'Do větru (401735)',\n",
       " 'Prezident Blaník (401730)',\n",
       " 'Zoufalé ženy dělají zoufalé věci (401729)',\n",
       " 'Tlumočník (401728)',\n",
       " 'Grygar (401754)',\n",
       " 'Toman (401772)',\n",
       " 'Všechno bude (401774)',\n",
       " 'V Mosulu (401821)',\n",
       " 'Backstage (401812)',\n",
       " 'Dvě nevěsty a jedna svatba (401808)',\n",
       " 'Důvěrný nepřítel (401807)',\n",
       " 'Dobrý život sokola Bendy (401806)',\n",
       " 'Mars (401803)',\n",
       " 'Free Cinema Films (402007)',\n",
       " 'Máme na víc (401802)',\n",
       " 'Feral (401801)',\n",
       " 'Doktor Martin: Záhada v Beskydech (401800)',\n",
       " 'Jan Palach (401799)',\n",
       " 'Cirkus Rwanda (401798)',\n",
       " 'Chvilky (401787)',\n",
       " 'Můj neznámý vojín (401773)',\n",
       " 'Mimořádná zpráva (401785)',\n",
       " 'King Skate (401786)',\n",
       " 'Hovory s TGM (401775)',\n",
       " 'Okupace 1968 (401776)',\n",
       " 'Vratislav Effenberger aneb Lov na černého žraloka (401783)',\n",
       " 'Poslední mise Generála Jermakova (401777)',\n",
       " 'Domestik (401782)',\n",
       " 'Kibera: Příběh slumu (401784)',\n",
       " 'Hlasy v lese (401780)']"
      ]
     },
     "execution_count": 10,
     "metadata": {},
     "output_type": "execute_result"
    }
   ],
   "source": [
    "df[df[\"Copyright\"] == 2018][\"Film\"].to_list()"
   ]
  },
  {
   "cell_type": "code",
   "execution_count": 11,
   "id": "bb37af23",
   "metadata": {},
   "outputs": [
    {
     "data": {
      "text/plain": [
       "<AxesSubplot:xlabel='Copyright'>"
      ]
     },
     "execution_count": 11,
     "metadata": {},
     "output_type": "execute_result"
    },
    {
     "data": {
      "image/png": "[encoded data removed]",
      "text/plain": [
       "<Figure size 1800x360 with 1 Axes>"
      ]
     },
     "metadata": {
      "needs_background": "light"
     },
     "output_type": "display_data"
    }
   ],
   "source": [
    "df.groupby(\"Copyright\")[\"Minutáž\"].sum().plot.bar(figsize=(25,5))"
   ]
  },
  {
   "cell_type": "code",
   "execution_count": 12,
   "id": "8615048f",
   "metadata": {},
   "outputs": [
    {
     "data": {
      "text/plain": [
       "<AxesSubplot:xlabel='Copyright'>"
      ]
     },
     "execution_count": 12,
     "metadata": {},
     "output_type": "execute_result"
    },
    {
     "data": {
      "image/png": "[encoded data removed]",
      "text/plain": [
       "<Figure size 1800x360 with 1 Axes>"
      ]
     },
     "metadata": {
      "needs_background": "light"
     },
     "output_type": "display_data"
    }
   ],
   "source": [
    "hcf.groupby(\"Copyright\")[\"Film\"].nunique().plot.bar(figsize=(25,5))"
   ]
  },
  {
   "cell_type": "code",
   "execution_count": 13,
   "id": "43318de1",
   "metadata": {},
   "outputs": [
    {
     "data": {
      "text/plain": [
       "<AxesSubplot:xlabel='Copyright'>"
      ]
     },
     "execution_count": 13,
     "metadata": {},
     "output_type": "execute_result"
    },
    {
     "data": {
      "image/png": "[encoded data removed]",
      "text/plain": [
       "<Figure size 1800x360 with 1 Axes>"
      ]
     },
     "metadata": {
      "needs_background": "light"
     },
     "output_type": "display_data"
    }
   ],
   "source": [
    "hcf.groupby(\"Copyright\")[\"Minutáž\"].sum().apply(lambda x: x/60).plot.bar(figsize=(25,5))"
   ]
  },
  {
   "cell_type": "code",
   "execution_count": 14,
   "id": "0eaa1df0",
   "metadata": {},
   "outputs": [
    {
     "data": {
      "text/plain": [
       "Copyright\n",
       "1937    44\n",
       "1939    39\n",
       "1938    38\n",
       "1978    38\n",
       "2019    38\n",
       "Name: Film, dtype: int64"
      ]
     },
     "execution_count": 14,
     "metadata": {},
     "output_type": "execute_result"
    }
   ],
   "source": [
    "hcf.groupby(\"Copyright\")[\"Film\"].nunique().nlargest(5)"
   ]
  },
  {
   "cell_type": "code",
   "execution_count": 15,
   "id": "39460175",
   "metadata": {},
   "outputs": [
    {
     "data": {
      "text/plain": [
       "Copyright\n",
       "2022    2\n",
       "1945    4\n",
       "1951    6\n",
       "1920    8\n",
       "1924    8\n",
       "Name: Film, dtype: int64"
      ]
     },
     "execution_count": 15,
     "metadata": {},
     "output_type": "execute_result"
    }
   ],
   "source": [
    "hcf.groupby(\"Copyright\")[\"Film\"].nunique().nsmallest(5)"
   ]
  },
  {
   "cell_type": "code",
   "execution_count": 16,
   "id": "fe1564bc",
   "metadata": {},
   "outputs": [
    {
     "data": {
      "text/plain": [
       "<AxesSubplot:xlabel='Copyright'>"
      ]
     },
     "execution_count": 16,
     "metadata": {},
     "output_type": "execute_result"
    },
    {
     "data": {
      "image/png": "[encoded data removed]",
      "text/plain": [
       "<Figure size 1440x360 with 1 Axes>"
      ]
     },
     "metadata": {
      "needs_background": "light"
     },
     "output_type": "display_data"
    }
   ],
   "source": [
    "hcf.explode(\"Země původu\").groupby(\"Copyright\")[\"Země původu\"].nunique().plot.bar(figsize=(20,5))"
   ]
  },
  {
   "cell_type": "code",
   "execution_count": 17,
   "id": "417bb801",
   "metadata": {
    "scrolled": true
   },
   "outputs": [
    {
     "data": {
      "text/plain": [
       "<AxesSubplot:xlabel='Copyright'>"
      ]
     },
     "execution_count": 17,
     "metadata": {},
     "output_type": "execute_result"
    },
    {
     "data": {
      "image/png": "[encoded data removed]",
      "text/plain": [
       "<Figure size 1440x360 with 1 Axes>"
      ]
     },
     "metadata": {
      "needs_background": "light"
     },
     "output_type": "display_data"
    }
   ],
   "source": [
    "hcf.explode(\"Výrobce\").groupby(\"Copyright\")[\"Výrobce\"].nunique().plot.bar(figsize=(20,5))"
   ]
  },
  {
   "cell_type": "code",
   "execution_count": 18,
   "id": "142ab480",
   "metadata": {},
   "outputs": [
    {
     "data": {
      "text/plain": [
       "Výrobce\n",
       "ČESKÁ TELEVIZE (92472)                         330\n",
       "Filmové centrum (125132)                        88\n",
       "innogy Česká republika a.s. (102179)            53\n",
       "Rozhlas a televízia Slovenska (123177)          50\n",
       "IN Film Praha spol. s r.o. (92591)              37\n",
       "i/o post s.r.o. (101238)                        32\n",
       "NEGATIV s.r.o. (92586)                          31\n",
       "Universal Production Partners, a.s. (92762)     31\n",
       "Barrandov Studio a.s. (92704)                   29\n",
       "KRÁTKÝ FILM PRAHA a. s. [od 1991] (92610)       28\n",
       "Slovenská televízia (94758)                     24\n",
       "Soundsquare, a.s. (100417)                      24\n",
       "CINEART TV Prague s.r.o. (92896)                23\n",
       "HBO Europe s.r.o. (93721)                       23\n",
       "TV Nova s.r.o. (94261)                          21\n",
       "Name: Film, dtype: int64"
      ]
     },
     "execution_count": 18,
     "metadata": {},
     "output_type": "execute_result"
    }
   ],
   "source": [
    "hcf[hcf[\"Copyright\"] >= 1993].explode(\"Výrobce\").groupby(\"Výrobce\")[\"Film\"].nunique().nlargest(15)"
   ]
  },
  {
   "cell_type": "markdown",
   "id": "ba86df94",
   "metadata": {},
   "source": [
    "## Nástup barvy"
   ]
  },
  {
   "cell_type": "code",
   "execution_count": 19,
   "id": "fd1fcf49",
   "metadata": {},
   "outputs": [
    {
     "data": {
      "text/plain": [
       "['černobílý',\n",
       " ['virážovaný', 'černobílý'],\n",
       " ['virážovaný', 'černobílý', 'tónovaný'],\n",
       " ['barevný', 'černobílý'],\n",
       " 'barevný',\n",
       " ['virážovaný', 'barevný']]"
      ]
     },
     "execution_count": 19,
     "metadata": {},
     "output_type": "execute_result"
    }
   ],
   "source": [
    "hcf[\"Barva\"].drop_duplicates().to_list()"
   ]
  },
  {
   "cell_type": "code",
   "execution_count": 20,
   "id": "e2e78410",
   "metadata": {},
   "outputs": [],
   "source": [
    "hcfbarevny = hcf.explode(\"Barva\")\n",
    "hcfbarevny = hcfbarevny[hcfbarevny[\"Barva\"] == \"barevný\"]"
   ]
  },
  {
   "cell_type": "code",
   "execution_count": 71,
   "id": "029e4d4b",
   "metadata": {
    "scrolled": true
   },
   "outputs": [],
   "source": [
    "pomer_barevneho = pd.Series(hcfbarevny[hcfbarevny[\"Barva\"] == \"barevný\"].groupby(\"Copyright\")[\"Film\"].nunique() / hcf.groupby(\"Copyright\")[\"Film\"].nunique())"
   ]
  },
  {
   "cell_type": "code",
   "execution_count": 72,
   "id": "7d7c84b2",
   "metadata": {},
   "outputs": [
    {
     "data": {
      "text/plain": [
       "<AxesSubplot:xlabel='Copyright'>"
      ]
     },
     "execution_count": 72,
     "metadata": {},
     "output_type": "execute_result"
    },
    {
     "data": {
      "image/png": "[encoded data removed]",
      "text/plain": [
       "<Figure size 1440x360 with 1 Axes>"
      ]
     },
     "metadata": {
      "needs_background": "light"
     },
     "output_type": "display_data"
    }
   ],
   "source": [
    "pomer_barevneho.plot.bar(figsize=(20,5))"
   ]
  },
  {
   "cell_type": "code",
   "execution_count": 77,
   "id": "bbeca5a4",
   "metadata": {},
   "outputs": [
    {
     "data": {
      "text/plain": [
       "Copyright\n",
       "1934    0.035714\n",
       "1935    0.035714\n",
       "1947    0.045455\n",
       "Name: Film, dtype: float64"
      ]
     },
     "execution_count": 77,
     "metadata": {},
     "output_type": "execute_result"
    }
   ],
   "source": [
    "pomer_barevneho[pomer_barevneho > 0].head(3)"
   ]
  },
  {
   "cell_type": "code",
   "execution_count": 75,
   "id": "34fbc69a",
   "metadata": {},
   "outputs": [
    {
     "data": {
      "text/plain": [
       "Copyright\n",
       "1954    0.846154\n",
       "1955    0.571429\n",
       "1970    0.555556\n",
       "1971    0.607143\n",
       "1972    0.653846\n",
       "1973    0.714286\n",
       "1974    0.888889\n",
       "1975    1.000000\n",
       "1976    0.965517\n",
       "1977    1.000000\n",
       "1978    1.000000\n",
       "1979    1.000000\n",
       "1980    1.000000\n",
       "1981    0.944444\n",
       "1982    1.000000\n",
       "1983    1.000000\n",
       "1984    1.000000\n",
       "1985    1.000000\n",
       "1986    1.000000\n",
       "1987    1.000000\n",
       "1988    1.000000\n",
       "1989    0.968750\n",
       "1990    0.892857\n",
       "1991    1.000000\n",
       "1992    1.000000\n",
       "1993    1.000000\n",
       "1994    0.950000\n",
       "1995    1.000000\n",
       "1996    0.950000\n",
       "1997    0.937500\n",
       "1998    0.937500\n",
       "1999    0.944444\n",
       "2000    1.000000\n",
       "2001    1.000000\n",
       "2002    1.000000\n",
       "2003    0.941176\n",
       "2004    1.000000\n",
       "2005    1.000000\n",
       "2006    1.000000\n",
       "2007    0.937500\n",
       "2008    1.000000\n",
       "2009    1.000000\n",
       "2010    0.952381\n",
       "2011    1.000000\n",
       "2012    1.000000\n",
       "2013    1.000000\n",
       "2014    0.967742\n",
       "2015    1.000000\n",
       "2016    0.972973\n",
       "2017    1.000000\n",
       "2018    0.972973\n",
       "2019    0.947368\n",
       "2020    0.900000\n",
       "2021    1.000000\n",
       "2022    1.000000\n",
       "Name: Film, dtype: float64"
      ]
     },
     "execution_count": 75,
     "metadata": {},
     "output_type": "execute_result"
    }
   ],
   "source": [
    "pomer_barevneho[pomer_barevneho > 0.5]"
   ]
  },
  {
   "cell_type": "code",
   "execution_count": 54,
   "id": "c49c22f6",
   "metadata": {},
   "outputs": [
    {
     "data": {
      "text/plain": [
       "Copyright\n",
       "1934    0.035714\n",
       "1935    0.035714\n",
       "1947    0.045455\n",
       "1948    0.047619\n",
       "1950    0.058824\n",
       "1965    0.096774\n",
       "1964    0.103448\n",
       "1963    0.147059\n",
       "1951    0.166667\n",
       "1961    0.166667\n",
       "1962    0.166667\n",
       "1958    0.181818\n",
       "1967    0.187500\n",
       "1966    0.218750\n",
       "1960    0.240000\n",
       "Name: Film, dtype: float64"
      ]
     },
     "execution_count": 54,
     "metadata": {},
     "output_type": "execute_result"
    }
   ],
   "source": [
    "pd.Series(hcfbarevny[hcfbarevny[\"Barva\"] == \"barevný\"].groupby(\"Copyright\")[\"Film\"].nunique() / hcf.groupby(\"Copyright\")[\"Film\"].nunique()).nsmallest(15)"
   ]
  },
  {
   "cell_type": "code",
   "execution_count": 22,
   "id": "24eddee2",
   "metadata": {},
   "outputs": [],
   "source": [
    "pd.options.display.max_colwidth = 1000"
   ]
  },
  {
   "cell_type": "code",
   "execution_count": 52,
   "id": "3f763690",
   "metadata": {},
   "outputs": [
    {
     "data": {
      "text/html": [
       "<div>\n",
       "<style scoped>\n",
       "    .dataframe tbody tr th:only-of-type {\n",
       "        vertical-align: middle;\n",
       "    }\n",
       "\n",
       "    .dataframe tbody tr th {\n",
       "        vertical-align: top;\n",
       "    }\n",
       "\n",
       "    .dataframe thead th {\n",
       "        text-align: right;\n",
       "    }\n",
       "</style>\n",
       "<table border=\"1\" class=\"dataframe\">\n",
       "  <thead>\n",
       "    <tr style=\"text-align: right;\">\n",
       "      <th></th>\n",
       "      <th>Copyright</th>\n",
       "      <th>Film</th>\n",
       "      <th>Premiéra</th>\n",
       "      <th>Poznámka</th>\n",
       "      <th>Žánr</th>\n",
       "      <th>Režie</th>\n",
       "    </tr>\n",
       "  </thead>\n",
       "  <tbody>\n",
       "    <tr>\n",
       "      <th>655</th>\n",
       "      <td>1934</td>\n",
       "      <td>Na růžích ustláno (395649)</td>\n",
       "      <td>premiéra 25. 1. 1935 /nepřístupný mládeži/ (kina Avion /2 týdny/, Juliš /2 týdny/ a Světozor /2 ...</td>\n",
       "      <td>Závěr filmu byl natočenm barevně systémem Ing. Horsta a Kretchmera. V roce 1942 byl film uveden ...</td>\n",
       "      <td>[hudební, komedie, opereta]</td>\n",
       "      <td>[Miroslav Cikán (31969)]</td>\n",
       "    </tr>\n",
       "    <tr>\n",
       "      <th>730</th>\n",
       "      <td>1935</td>\n",
       "      <td>Maryša (395704)</td>\n",
       "      <td>premiéra 29. 11. 1935 /nepřístupný mládeži/ (kina Fénix /2 týdny/ a Lucerna /2 týdny/, Praha)   ...</td>\n",
       "      <td>Kroje zapůjčili obyvatelé Vlčnova, zejména pan F. Zemek, poštmistr v. v. Film byl uveden na IV. ...</td>\n",
       "      <td>drama</td>\n",
       "      <td>[Josef Rovenský (37766)]</td>\n",
       "    </tr>\n",
       "    <tr>\n",
       "      <th>1183</th>\n",
       "      <td>1947</td>\n",
       "      <td>Jan Roháč z Dubé (396046)</td>\n",
       "      <td>předpremiéra 21. 3. 1947  (Dubá)                                                                ...</td>\n",
       "      <td>První český barevný hraný film (systém Agfacolor). Negativ byl ještě ve 40. letech zkrácen.</td>\n",
       "      <td>[drama, historický, válečný]</td>\n",
       "      <td>[Vladimír Borský (37346)]</td>\n",
       "    </tr>\n",
       "    <tr>\n",
       "      <th>1224</th>\n",
       "      <td>1948</td>\n",
       "      <td>Pytlákova schovanka aneb Šlechetný milionář (396102)</td>\n",
       "      <td>premiéra 1. 4. 1949 /nepřístupný mládeži/ (kina Olympic /1 týden/, Oko /1 týden/ a Hvězda /8 týd...</td>\n",
       "      <td>Závěr tohoto černobílého snímku je barevný.</td>\n",
       "      <td>[melodrama, parodie]</td>\n",
       "      <td>[Martin Frič (20324)]</td>\n",
       "    </tr>\n",
       "    <tr>\n",
       "      <th>1288</th>\n",
       "      <td>1950</td>\n",
       "      <td>Temno (396119)</td>\n",
       "      <td>premiéra 24. 8. 1951 /přístupný mládeži/ (kina Alfa /4 týdny/ a Lucerna /2 týdny/, Praha)</td>\n",
       "      <td>None</td>\n",
       "      <td>[drama, historický]</td>\n",
       "      <td>[Karel Steklý (35894)]</td>\n",
       "    </tr>\n",
       "    <tr>\n",
       "      <th>1305</th>\n",
       "      <td>1951</td>\n",
       "      <td>Císařův pekař – Pekařův císař (396131)</td>\n",
       "      <td>premiéra 28. 12. 1951 /přístupný mládeži/ (kina Lucerna /13 týdnů/, Moskva /3 týdny od 4. 1. 195...</td>\n",
       "      <td>Film původně roztočil režisér Jiří Krejčík. Po neshodách s Janem Werichem a po politickém zásahu...</td>\n",
       "      <td>[historický, komedie]</td>\n",
       "      <td>[Martin Frič (20324)]</td>\n",
       "    </tr>\n",
       "    <tr>\n",
       "      <th>1321</th>\n",
       "      <td>1952</td>\n",
       "      <td>Mladá léta (396152)</td>\n",
       "      <td>premiéra 27. 2. 1953 /přístupný mládeži/ (kina Alfa /4 týdny/, Blaník /3 týdny/, Kyjev /1 týden ...</td>\n",
       "      <td>None</td>\n",
       "      <td>životopisný</td>\n",
       "      <td>[Václav Krška (20325)]</td>\n",
       "    </tr>\n",
       "    <tr>\n",
       "      <th>1329</th>\n",
       "      <td>1952</td>\n",
       "      <td>Zítra se bude tančit všude (396146)</td>\n",
       "      <td>premiéra 24. 10. 1952 /přístupný mládeži/ (kina Armádní /1 týden/, Blaník /3 týdny/, Lucerna /3 ...</td>\n",
       "      <td>None</td>\n",
       "      <td>hudební</td>\n",
       "      <td>[Vladimír Vlček (72986)]</td>\n",
       "    </tr>\n",
       "    <tr>\n",
       "      <th>1331</th>\n",
       "      <td>1952</td>\n",
       "      <td>Dovolená s Andělem (396144)</td>\n",
       "      <td>premiéra 3. 4. 1953 /přístupný mládeži/ (kina Alfa /5 týdnů/, Lucerna /4 týdny/, Blaník /1 týden...</td>\n",
       "      <td>None</td>\n",
       "      <td>komedie</td>\n",
       "      <td>[Bořivoj Zeman (8886)]</td>\n",
       "    </tr>\n",
       "    <tr>\n",
       "      <th>1346</th>\n",
       "      <td>1952</td>\n",
       "      <td>Nástup (396141)</td>\n",
       "      <td>premiéra 1. 5. 1953 /přístupný mládeži/ (kina Lucerna /4 týdny/, Sevastopol /1 týden/, Armádní /...</td>\n",
       "      <td>None</td>\n",
       "      <td>drama</td>\n",
       "      <td>[Otakar Vávra (9507)]</td>\n",
       "    </tr>\n",
       "    <tr>\n",
       "      <th>1378</th>\n",
       "      <td>1953</td>\n",
       "      <td>Výstraha (396164)</td>\n",
       "      <td>premiéra 4. 6. 1954 /přístupný mládeži/ (kina Jalta /2 týdny/ a Kyjev /1 týden/, Praha)</td>\n",
       "      <td>None</td>\n",
       "      <td>[drama, budovatelský]</td>\n",
       "      <td>[Miroslav Cikán (31969)]</td>\n",
       "    </tr>\n",
       "    <tr>\n",
       "      <th>1375</th>\n",
       "      <td>1953</td>\n",
       "      <td>Tajemství krve (396162)</td>\n",
       "      <td>premiéra 25. 12. 1953 /přístupný mládeži/ (kina Lucerna /4 týdny/, Sevastopol /4 týdny/, Armádní...</td>\n",
       "      <td>None</td>\n",
       "      <td>životopisný</td>\n",
       "      <td>[Martin Frič (20324)]</td>\n",
       "    </tr>\n",
       "    <tr>\n",
       "      <th>1371</th>\n",
       "      <td>1953</td>\n",
       "      <td>Můj přítel Fabián (396166)</td>\n",
       "      <td>premiéra 7. 1. 1955 /přístupný mládeži/ (kina Pasáž /5 týdnů/, Revoluce /1 týden/, Kyjev /1 týde...</td>\n",
       "      <td>None</td>\n",
       "      <td>[drama, psychologický]</td>\n",
       "      <td>[Jiří Weiss (9518)]</td>\n",
       "    </tr>\n",
       "    <tr>\n",
       "      <th>1358</th>\n",
       "      <td>1953</td>\n",
       "      <td>Ještě svatba nebyla... (396185)</td>\n",
       "      <td>premiéra 27. 8. 1954 /přístupný mládeži/ (kina Sevastopol /3 týdny/, Blaník /2 týdny/, Lucerna /...</td>\n",
       "      <td>None</td>\n",
       "      <td>komedie</td>\n",
       "      <td>[Jaroslav Mach (7884)]</td>\n",
       "    </tr>\n",
       "    <tr>\n",
       "      <th>1362</th>\n",
       "      <td>1953</td>\n",
       "      <td>Komedianti (396169)</td>\n",
       "      <td>premiéra 16. 4. 1954 /přístupný mládeži/ (kina Sevastopol /5 týdnů/, Armádní /3 týdny/, Lucerna ...</td>\n",
       "      <td>None</td>\n",
       "      <td>drama</td>\n",
       "      <td>[Vladimír Vlček (72986)]</td>\n",
       "    </tr>\n",
       "  </tbody>\n",
       "</table>\n",
       "</div>"
      ],
      "text/plain": [
       "      Copyright                                                  Film   \n",
       "655        1934                            Na růžích ustláno (395649)  \\\n",
       "730        1935                                       Maryša (395704)   \n",
       "1183       1947                             Jan Roháč z Dubé (396046)   \n",
       "1224       1948  Pytlákova schovanka aneb Šlechetný milionář (396102)   \n",
       "1288       1950                                        Temno (396119)   \n",
       "1305       1951                Císařův pekař – Pekařův císař (396131)   \n",
       "1321       1952                                   Mladá léta (396152)   \n",
       "1329       1952                   Zítra se bude tančit všude (396146)   \n",
       "1331       1952                           Dovolená s Andělem (396144)   \n",
       "1346       1952                                       Nástup (396141)   \n",
       "1378       1953                                     Výstraha (396164)   \n",
       "1375       1953                               Tajemství krve (396162)   \n",
       "1371       1953                            Můj přítel Fabián (396166)   \n",
       "1358       1953                       Ještě svatba nebyla... (396185)   \n",
       "1362       1953                                   Komedianti (396169)   \n",
       "\n",
       "                                                                                                 Premiéra   \n",
       "655   premiéra 25. 1. 1935 /nepřístupný mládeži/ (kina Avion /2 týdny/, Juliš /2 týdny/ a Světozor /2 ...  \\\n",
       "730   premiéra 29. 11. 1935 /nepřístupný mládeži/ (kina Fénix /2 týdny/ a Lucerna /2 týdny/, Praha)   ...   \n",
       "1183  předpremiéra 21. 3. 1947  (Dubá)                                                                ...   \n",
       "1224  premiéra 1. 4. 1949 /nepřístupný mládeži/ (kina Olympic /1 týden/, Oko /1 týden/ a Hvězda /8 týd...   \n",
       "1288            premiéra 24. 8. 1951 /přístupný mládeži/ (kina Alfa /4 týdny/ a Lucerna /2 týdny/, Praha)   \n",
       "1305  premiéra 28. 12. 1951 /přístupný mládeži/ (kina Lucerna /13 týdnů/, Moskva /3 týdny od 4. 1. 195...   \n",
       "1321  premiéra 27. 2. 1953 /přístupný mládeži/ (kina Alfa /4 týdny/, Blaník /3 týdny/, Kyjev /1 týden ...   \n",
       "1329  premiéra 24. 10. 1952 /přístupný mládeži/ (kina Armádní /1 týden/, Blaník /3 týdny/, Lucerna /3 ...   \n",
       "1331  premiéra 3. 4. 1953 /přístupný mládeži/ (kina Alfa /5 týdnů/, Lucerna /4 týdny/, Blaník /1 týden...   \n",
       "1346  premiéra 1. 5. 1953 /přístupný mládeži/ (kina Lucerna /4 týdny/, Sevastopol /1 týden/, Armádní /...   \n",
       "1378              premiéra 4. 6. 1954 /přístupný mládeži/ (kina Jalta /2 týdny/ a Kyjev /1 týden/, Praha)   \n",
       "1375  premiéra 25. 12. 1953 /přístupný mládeži/ (kina Lucerna /4 týdny/, Sevastopol /4 týdny/, Armádní...   \n",
       "1371  premiéra 7. 1. 1955 /přístupný mládeži/ (kina Pasáž /5 týdnů/, Revoluce /1 týden/, Kyjev /1 týde...   \n",
       "1358  premiéra 27. 8. 1954 /přístupný mládeži/ (kina Sevastopol /3 týdny/, Blaník /2 týdny/, Lucerna /...   \n",
       "1362  premiéra 16. 4. 1954 /přístupný mládeži/ (kina Sevastopol /5 týdnů/, Armádní /3 týdny/, Lucerna ...   \n",
       "\n",
       "                                                                                                 Poznámka   \n",
       "655   Závěr filmu byl natočenm barevně systémem Ing. Horsta a Kretchmera. V roce 1942 byl film uveden ...  \\\n",
       "730   Kroje zapůjčili obyvatelé Vlčnova, zejména pan F. Zemek, poštmistr v. v. Film byl uveden na IV. ...   \n",
       "1183          První český barevný hraný film (systém Agfacolor). Negativ byl ještě ve 40. letech zkrácen.   \n",
       "1224                                                          Závěr tohoto černobílého snímku je barevný.   \n",
       "1288                                                                                                 None   \n",
       "1305  Film původně roztočil režisér Jiří Krejčík. Po neshodách s Janem Werichem a po politickém zásahu...   \n",
       "1321                                                                                                 None   \n",
       "1329                                                                                                 None   \n",
       "1331                                                                                                 None   \n",
       "1346                                                                                                 None   \n",
       "1378                                                                                                 None   \n",
       "1375                                                                                                 None   \n",
       "1371                                                                                                 None   \n",
       "1358                                                                                                 None   \n",
       "1362                                                                                                 None   \n",
       "\n",
       "                              Žánr                      Režie  \n",
       "655    [hudební, komedie, opereta]   [Miroslav Cikán (31969)]  \n",
       "730                          drama   [Josef Rovenský (37766)]  \n",
       "1183  [drama, historický, válečný]  [Vladimír Borský (37346)]  \n",
       "1224          [melodrama, parodie]      [Martin Frič (20324)]  \n",
       "1288           [drama, historický]     [Karel Steklý (35894)]  \n",
       "1305         [historický, komedie]      [Martin Frič (20324)]  \n",
       "1321                   životopisný     [Václav Krška (20325)]  \n",
       "1329                       hudební   [Vladimír Vlček (72986)]  \n",
       "1331                       komedie     [Bořivoj Zeman (8886)]  \n",
       "1346                         drama      [Otakar Vávra (9507)]  \n",
       "1378         [drama, budovatelský]   [Miroslav Cikán (31969)]  \n",
       "1375                   životopisný      [Martin Frič (20324)]  \n",
       "1371        [drama, psychologický]        [Jiří Weiss (9518)]  \n",
       "1358                       komedie     [Jaroslav Mach (7884)]  \n",
       "1362                         drama   [Vladimír Vlček (72986)]  "
      ]
     },
     "execution_count": 52,
     "metadata": {},
     "output_type": "execute_result"
    }
   ],
   "source": [
    "hcfbarevny[hcfbarevny[\"Barva\"] == \"barevný\"].sort_values(by=\"Copyright\")[[\"Copyright\",\"Film\",\"Premiéra\",\"Poznámka\",\"Žánr\",\"Režie\"]].head(15)"
   ]
  },
  {
   "cell_type": "code",
   "execution_count": 24,
   "id": "de89880d",
   "metadata": {},
   "outputs": [
    {
     "data": {
      "text/html": [
       "<div>\n",
       "<style scoped>\n",
       "    .dataframe tbody tr th:only-of-type {\n",
       "        vertical-align: middle;\n",
       "    }\n",
       "\n",
       "    .dataframe tbody tr th {\n",
       "        vertical-align: top;\n",
       "    }\n",
       "\n",
       "    .dataframe thead th {\n",
       "        text-align: right;\n",
       "    }\n",
       "</style>\n",
       "<table border=\"1\" class=\"dataframe\">\n",
       "  <thead>\n",
       "    <tr style=\"text-align: right;\">\n",
       "      <th></th>\n",
       "      <th>Copyright</th>\n",
       "      <th>Film</th>\n",
       "      <th>Premiéra</th>\n",
       "      <th>Poznámka</th>\n",
       "    </tr>\n",
       "  </thead>\n",
       "  <tbody>\n",
       "    <tr>\n",
       "      <th>1183</th>\n",
       "      <td>1947</td>\n",
       "      <td>Jan Roháč z Dubé (396046)</td>\n",
       "      <td>předpremiéra 21. 3. 1947  (Dubá)                                                                                                                                                                                                                                                        premiéra 28. 3. 1947 /přístupný mládeži/ (kina Lucerna /4 týdny/, Moskva /3 týdny/ a Sevastopol /4 týdny/, Praha)</td>\n",
       "      <td>První český barevný hraný film (systém Agfacolor). Negativ byl ještě ve 40. letech zkrácen.</td>\n",
       "    </tr>\n",
       "    <tr>\n",
       "      <th>1288</th>\n",
       "      <td>1950</td>\n",
       "      <td>Temno (396119)</td>\n",
       "      <td>premiéra 24. 8. 1951 /přístupný mládeži/ (kina Alfa /4 týdny/ a Lucerna /2 týdny/, Praha)</td>\n",
       "      <td>None</td>\n",
       "    </tr>\n",
       "    <tr>\n",
       "      <th>1305</th>\n",
       "      <td>1951</td>\n",
       "      <td>Císařův pekař – Pekařův císař (396131)</td>\n",
       "      <td>premiéra 28. 12. 1951 /přístupný mládeži/ (kina Lucerna /13 týdnů/, Moskva /3 týdny od 4. 1. 1952/, Blaník /5 týdnů 18. 1. 1952/, Aero /1 týden od 1. 2. 1952/, Oko /1 týden od 1. 2. 1952/, Revoluce /1 týden od 8. 2. 1952/, Dukla /1 týden od 15. 2. 1952/, Odboj /1 týden od 22. 2. 1952/ a Arbes /1 týden od 29. 2. 1952/, Praha /druhá část/)                                                                                                                                                                                                                                                        premiéra 28. 12. 1951 /přístupný mládeži/ (kina Blaník /8 týdnů/, Lucerna /13 týdnů/, Aero /1 týden od 25. 1. 1952/, Oko /1 týden od 1. 2. 1952/, Revoluce /1 týden od 8. 2. 1952/, Dukla /1 týden 15. 2. 1952/, Odboj /1 týden od 22. 2. 1952/ a Arbes /1 týden od 28. 2. 1952/, Praha /první část/)</td>\n",
       "      <td>Film původně roztočil režisér Jiří Krejčík. Po neshodách s Janem Werichem a po politickém zásahu byl odvolán a projekt převzal Martin Frič. S režisérem se částečně změnilo i herecké obsazení. Původně se ve filmu měli objevit Ljuba Hermanová (hraběnka Anna Marie Stradová), Irena Kačírková (Kateřina alias umělá žena Sirael), Karel Höger (magistr Edward Kelley) a Saša Rašilov (vrchní alchymista Jeroným Alessandro Scotta, vlastním jménem Jan Skoták). Hudbu měl složit Václav Trojan.\\n\\n\\n\\nCísařův pekař – Pekařův císař je dvoudílný film (původní metráž jednotlivých částí je 2 451 a 1 949 metrů). Na konci padesátých let byla uvedena do distribuce režisérem Martinem Fričem zkrácená verze (3 064,7 metrů).</td>\n",
       "    </tr>\n",
       "    <tr>\n",
       "      <th>1321</th>\n",
       "      <td>1952</td>\n",
       "      <td>Mladá léta (396152)</td>\n",
       "      <td>premiéra 27. 2. 1953 /přístupný mládeži/ (kina Alfa /4 týdny/, Blaník /3 týdny/, Kyjev /1 týden od 20. 3./ a Bystrica /1 týden od 27. 3./, Praha)</td>\n",
       "      <td>None</td>\n",
       "    </tr>\n",
       "    <tr>\n",
       "      <th>1329</th>\n",
       "      <td>1952</td>\n",
       "      <td>Zítra se bude tančit všude (396146)</td>\n",
       "      <td>premiéra 24. 10. 1952 /přístupný mládeži/ (kina Armádní /1 týden/, Blaník /3 týdny/, Lucerna /3 týdny/ a Kyjev /1 týden od 31. 10./, Praha)</td>\n",
       "      <td>None</td>\n",
       "    </tr>\n",
       "    <tr>\n",
       "      <th>1331</th>\n",
       "      <td>1952</td>\n",
       "      <td>Dovolená s Andělem (396144)</td>\n",
       "      <td>premiéra 3. 4. 1953 /přístupný mládeži/ (kina Alfa /5 týdnů/, Lucerna /4 týdny/, Blaník /1 týden od 10. 4./, Kyjev /1 týden od 24. 4./ a Bystrica /1 týden od 1. 5./, Praha)</td>\n",
       "      <td>None</td>\n",
       "    </tr>\n",
       "    <tr>\n",
       "      <th>1346</th>\n",
       "      <td>1952</td>\n",
       "      <td>Nástup (396141)</td>\n",
       "      <td>premiéra 1. 5. 1953 /přístupný mládeži/ (kina Lucerna /4 týdny/, Sevastopol /1 týden/, Armádní /2 týdny od 8. 5./, Kyjev /1 týden od 8. 5./, Oko /1 týden od 15. 5./, Bystrica /1 týden od 22. 5./, Dukla /1 týden od 22. 5./, Odboj /1 týden od 29. 5./, Arbes /1 týden od 5. 6./, Revoluce /1 týden od 5. 6./ a Aero /1 týden od 12. 6./, Praha)</td>\n",
       "      <td>None</td>\n",
       "    </tr>\n",
       "    <tr>\n",
       "      <th>1378</th>\n",
       "      <td>1953</td>\n",
       "      <td>Výstraha (396164)</td>\n",
       "      <td>premiéra 4. 6. 1954 /přístupný mládeži/ (kina Jalta /2 týdny/ a Kyjev /1 týden/, Praha)</td>\n",
       "      <td>None</td>\n",
       "    </tr>\n",
       "    <tr>\n",
       "      <th>1375</th>\n",
       "      <td>1953</td>\n",
       "      <td>Tajemství krve (396162)</td>\n",
       "      <td>premiéra 25. 12. 1953 /přístupný mládeži/ (kina Lucerna /4 týdny/, Sevastopol /4 týdny/, Armádní /3 týdny/, Bystrica /1 týden od 15. 1. 1954/, Kyjev /1 týden od 15. 1. 1954/, Arbes /1 týden od 22. 1. 1954/, Moskva /1 týden od 22. 1. 1954/, Dukla /1 týden od 29. 1. 1954/, Odboj /1 týden od 29. 1. 1954/, Oko /1 týden od 5. 2. 1954/, Revoluce /1 týden od 5. 2. 1954/ a Aero /1 týden od 12. 2. 1954/, Praha)</td>\n",
       "      <td>None</td>\n",
       "    </tr>\n",
       "    <tr>\n",
       "      <th>1371</th>\n",
       "      <td>1953</td>\n",
       "      <td>Můj přítel Fabián (396166)</td>\n",
       "      <td>premiéra 7. 1. 1955 /přístupný mládeži/ (kina Pasáž /5 týdnů/, Revoluce /1 týden/, Kyjev /1 týden od 14. 1./, Oko /1 týden od 28. 1./ a Vzlet /1 týden od 4. 2./, Praha)</td>\n",
       "      <td>None</td>\n",
       "    </tr>\n",
       "  </tbody>\n",
       "</table>\n",
       "</div>"
      ],
      "text/plain": [
       "      Copyright                                    Film   \n",
       "1183       1947               Jan Roháč z Dubé (396046)  \\\n",
       "1288       1950                          Temno (396119)   \n",
       "1305       1951  Císařův pekař – Pekařův císař (396131)   \n",
       "1321       1952                     Mladá léta (396152)   \n",
       "1329       1952     Zítra se bude tančit všude (396146)   \n",
       "1331       1952             Dovolená s Andělem (396144)   \n",
       "1346       1952                         Nástup (396141)   \n",
       "1378       1953                       Výstraha (396164)   \n",
       "1375       1953                 Tajemství krve (396162)   \n",
       "1371       1953              Můj přítel Fabián (396166)   \n",
       "\n",
       "                                                                                                                                                                                                                                                                                                                                                                                                                                                                                                                                                                                                                                                                                                                                                                                                                                                                                                              Premiéra   \n",
       "1183                                                                                                                                                                                                                                                                                                                                                                                                                                                                                                         předpremiéra 21. 3. 1947  (Dubá)                                                                                                                                                                                                                                                        premiéra 28. 3. 1947 /přístupný mládeži/ (kina Lucerna /4 týdny/, Moskva /3 týdny/ a Sevastopol /4 týdny/, Praha)  \\\n",
       "1288                                                                                                                                                                                                                                                                                                                                                                                                                                                                                                                                                                                                                                                                                                                                                                                                                         premiéra 24. 8. 1951 /přístupný mládeži/ (kina Alfa /4 týdny/ a Lucerna /2 týdny/, Praha)   \n",
       "1305  premiéra 28. 12. 1951 /přístupný mládeži/ (kina Lucerna /13 týdnů/, Moskva /3 týdny od 4. 1. 1952/, Blaník /5 týdnů 18. 1. 1952/, Aero /1 týden od 1. 2. 1952/, Oko /1 týden od 1. 2. 1952/, Revoluce /1 týden od 8. 2. 1952/, Dukla /1 týden od 15. 2. 1952/, Odboj /1 týden od 22. 2. 1952/ a Arbes /1 týden od 29. 2. 1952/, Praha /druhá část/)                                                                                                                                                                                                                                                        premiéra 28. 12. 1951 /přístupný mládeži/ (kina Blaník /8 týdnů/, Lucerna /13 týdnů/, Aero /1 týden od 25. 1. 1952/, Oko /1 týden od 1. 2. 1952/, Revoluce /1 týden od 8. 2. 1952/, Dukla /1 týden 15. 2. 1952/, Odboj /1 týden od 22. 2. 1952/ a Arbes /1 týden od 28. 2. 1952/, Praha /první část/)   \n",
       "1321                                                                                                                                                                                                                                                                                                                                                                                                                                                                                                                                                                                                                                                                                                                                                                 premiéra 27. 2. 1953 /přístupný mládeži/ (kina Alfa /4 týdny/, Blaník /3 týdny/, Kyjev /1 týden od 20. 3./ a Bystrica /1 týden od 27. 3./, Praha)   \n",
       "1329                                                                                                                                                                                                                                                                                                                                                                                                                                                                                                                                                                                                                                                                                                                                                                       premiéra 24. 10. 1952 /přístupný mládeži/ (kina Armádní /1 týden/, Blaník /3 týdny/, Lucerna /3 týdny/ a Kyjev /1 týden od 31. 10./, Praha)   \n",
       "1331                                                                                                                                                                                                                                                                                                                                                                                                                                                                                                                                                                                                                                                                                                                                      premiéra 3. 4. 1953 /přístupný mládeži/ (kina Alfa /5 týdnů/, Lucerna /4 týdny/, Blaník /1 týden od 10. 4./, Kyjev /1 týden od 24. 4./ a Bystrica /1 týden od 1. 5./, Praha)   \n",
       "1346                                                                                                                                                                                                                                                                                                                                                                                                                                                                                                                                                                premiéra 1. 5. 1953 /přístupný mládeži/ (kina Lucerna /4 týdny/, Sevastopol /1 týden/, Armádní /2 týdny od 8. 5./, Kyjev /1 týden od 8. 5./, Oko /1 týden od 15. 5./, Bystrica /1 týden od 22. 5./, Dukla /1 týden od 22. 5./, Odboj /1 týden od 29. 5./, Arbes /1 týden od 5. 6./, Revoluce /1 týden od 5. 6./ a Aero /1 týden od 12. 6./, Praha)   \n",
       "1378                                                                                                                                                                                                                                                                                                                                                                                                                                                                                                                                                                                                                                                                                                                                                                                                                           premiéra 4. 6. 1954 /přístupný mládeži/ (kina Jalta /2 týdny/ a Kyjev /1 týden/, Praha)   \n",
       "1375                                                                                                                                                                                                                                                                                                                                                                                                                                                                                             premiéra 25. 12. 1953 /přístupný mládeži/ (kina Lucerna /4 týdny/, Sevastopol /4 týdny/, Armádní /3 týdny/, Bystrica /1 týden od 15. 1. 1954/, Kyjev /1 týden od 15. 1. 1954/, Arbes /1 týden od 22. 1. 1954/, Moskva /1 týden od 22. 1. 1954/, Dukla /1 týden od 29. 1. 1954/, Odboj /1 týden od 29. 1. 1954/, Oko /1 týden od 5. 2. 1954/, Revoluce /1 týden od 5. 2. 1954/ a Aero /1 týden od 12. 2. 1954/, Praha)   \n",
       "1371                                                                                                                                                                                                                                                                                                                                                                                                                                                                                                                                                                                                                                                                                                                                          premiéra 7. 1. 1955 /přístupný mládeži/ (kina Pasáž /5 týdnů/, Revoluce /1 týden/, Kyjev /1 týden od 14. 1./, Oko /1 týden od 28. 1./ a Vzlet /1 týden od 4. 2./, Praha)   \n",
       "\n",
       "                                                                                                                                                                                                                                                                                                                                                                                                                                                                                                                                                                                                                                                                                                                                Poznámka  \n",
       "1183                                                                                                                                                                                                                                                                                                                                                                                                                                                                                                                                                                                                                                         První český barevný hraný film (systém Agfacolor). Negativ byl ještě ve 40. letech zkrácen.  \n",
       "1288                                                                                                                                                                                                                                                                                                                                                                                                                                                                                                                                                                                                                                                                                                                                None  \n",
       "1305  Film původně roztočil režisér Jiří Krejčík. Po neshodách s Janem Werichem a po politickém zásahu byl odvolán a projekt převzal Martin Frič. S režisérem se částečně změnilo i herecké obsazení. Původně se ve filmu měli objevit Ljuba Hermanová (hraběnka Anna Marie Stradová), Irena Kačírková (Kateřina alias umělá žena Sirael), Karel Höger (magistr Edward Kelley) a Saša Rašilov (vrchní alchymista Jeroným Alessandro Scotta, vlastním jménem Jan Skoták). Hudbu měl složit Václav Trojan.\\n\\n\\n\\nCísařův pekař – Pekařův císař je dvoudílný film (původní metráž jednotlivých částí je 2 451 a 1 949 metrů). Na konci padesátých let byla uvedena do distribuce režisérem Martinem Fričem zkrácená verze (3 064,7 metrů).  \n",
       "1321                                                                                                                                                                                                                                                                                                                                                                                                                                                                                                                                                                                                                                                                                                                                None  \n",
       "1329                                                                                                                                                                                                                                                                                                                                                                                                                                                                                                                                                                                                                                                                                                                                None  \n",
       "1331                                                                                                                                                                                                                                                                                                                                                                                                                                                                                                                                                                                                                                                                                                                                None  \n",
       "1346                                                                                                                                                                                                                                                                                                                                                                                                                                                                                                                                                                                                                                                                                                                                None  \n",
       "1378                                                                                                                                                                                                                                                                                                                                                                                                                                                                                                                                                                                                                                                                                                                                None  \n",
       "1375                                                                                                                                                                                                                                                                                                                                                                                                                                                                                                                                                                                                                                                                                                                                None  \n",
       "1371                                                                                                                                                                                                                                                                                                                                                                                                                                                                                                                                                                                                                                                                                                                                None  "
      ]
     },
     "execution_count": 24,
     "metadata": {},
     "output_type": "execute_result"
    }
   ],
   "source": [
    "hcf[hcf[\"Barva\"] == \"barevný\"].sort_values(by=\"Copyright\")[[\"Copyright\",\"Film\",\"Premiéra\",\"Poznámka\"]].head(10)"
   ]
  },
  {
   "cell_type": "markdown",
   "id": "28679189",
   "metadata": {},
   "source": [
    "## Širokoúhlé formáty"
   ]
  },
  {
   "cell_type": "code",
   "execution_count": 58,
   "id": "d3d3a481",
   "metadata": {},
   "outputs": [
    {
     "data": {
      "text/plain": [
       "[[1.33, 1.26],\n",
       " 1.26,\n",
       " 1.33,\n",
       " [1.33, 1.19],\n",
       " 1.19,\n",
       " [1.37, 1.33],\n",
       " 1.37,\n",
       " [1.37, 1.19],\n",
       " [1.85, 1.37],\n",
       " [1.6600000000000001, 2.35],\n",
       " [1.37, 2.35],\n",
       " [1.6600000000000001, 1.85],\n",
       " 2.35,\n",
       " [1.85, 2.35],\n",
       " 1.6600000000000001,\n",
       " 1.85,\n",
       " [1.6600000000000001, 2.35, 2.55],\n",
       " [1.6600000000000001, 1.37],\n",
       " None,\n",
       " [1.37, 1.78],\n",
       " 1.78,\n",
       " [1.6600000000000001, 1.37, 2.35],\n",
       " [1.85, 1.37, 1.19],\n",
       " [1.85, 1.78],\n",
       " [1.78, 1.33],\n",
       " 2.39,\n",
       " [2.35, 1.78],\n",
       " 2.55]"
      ]
     },
     "execution_count": 58,
     "metadata": {},
     "output_type": "execute_result"
    }
   ],
   "source": [
    "df[\"Poměr stran\"].drop_duplicates().to_list()"
   ]
  },
  {
   "cell_type": "code",
   "execution_count": 67,
   "id": "95fa9ed5",
   "metadata": {},
   "outputs": [],
   "source": [
    "pomerstran = hcf.explode(\"Poměr stran\")"
   ]
  },
  {
   "cell_type": "code",
   "execution_count": 68,
   "id": "0fe16ee6",
   "metadata": {},
   "outputs": [
    {
     "data": {
      "text/plain": [
       "<AxesSubplot:xlabel='Copyright'>"
      ]
     },
     "execution_count": 68,
     "metadata": {},
     "output_type": "execute_result"
    },
    {
     "data": {
      "image/png": "[encoded data removed]",
      "text/plain": [
       "<Figure size 1440x360 with 1 Axes>"
      ]
     },
     "metadata": {
      "needs_background": "light"
     },
     "output_type": "display_data"
    }
   ],
   "source": [
    "pomerstran.groupby(\"Copyright\")[\"Poměr stran\"].max().plot.bar(figsize=(20,5))"
   ]
  },
  {
   "cell_type": "code",
   "execution_count": 70,
   "id": "fa87974f",
   "metadata": {},
   "outputs": [
    {
     "data": {
      "text/plain": [
       "<AxesSubplot:xlabel='Copyright'>"
      ]
     },
     "execution_count": 70,
     "metadata": {},
     "output_type": "execute_result"
    },
    {
     "data": {
      "image/png": "[encoded data removed]",
      "text/plain": [
       "<Figure size 1440x360 with 1 Axes>"
      ]
     },
     "metadata": {
      "needs_background": "light"
     },
     "output_type": "display_data"
    }
   ],
   "source": [
    "pomer = pd.DataFrame(pomerstran.groupby([\"Film\",\"Copyright\"])[\"Poměr stran\"].max())\n",
    "pomer.groupby(\"Copyright\")[\"Poměr stran\"].mean().plot.bar(figsize=(20,5))"
   ]
  },
  {
   "cell_type": "markdown",
   "id": "695f023a",
   "metadata": {},
   "source": [
    "## Nástup zvuku"
   ]
  },
  {
   "cell_type": "code",
   "execution_count": 25,
   "id": "85031917",
   "metadata": {},
   "outputs": [
    {
     "data": {
      "text/plain": [
       "<AxesSubplot:xlabel='Copyright'>"
      ]
     },
     "execution_count": 25,
     "metadata": {},
     "output_type": "execute_result"
    },
    {
     "data": {
      "image/png": "[encoded data removed]",
      "text/plain": [
       "<Figure size 1440x360 with 1 Axes>"
      ]
     },
     "metadata": {
      "needs_background": "light"
     },
     "output_type": "display_data"
    }
   ],
   "source": [
    "pd.Series(hcf[hcf[\"Zvukový\"] == \"zvukový\"].groupby(\"Copyright\")[\"Film\"].nunique() / hcf.groupby(\"Copyright\")[\"Film\"].nunique()).plot.bar(figsize=(20,5))"
   ]
  },
  {
   "cell_type": "code",
   "execution_count": 26,
   "id": "4e24631e",
   "metadata": {
    "scrolled": true
   },
   "outputs": [
    {
     "data": {
      "text/html": [
       "<div>\n",
       "<style scoped>\n",
       "    .dataframe tbody tr th:only-of-type {\n",
       "        vertical-align: middle;\n",
       "    }\n",
       "\n",
       "    .dataframe tbody tr th {\n",
       "        vertical-align: top;\n",
       "    }\n",
       "\n",
       "    .dataframe thead th {\n",
       "        text-align: right;\n",
       "    }\n",
       "</style>\n",
       "<table border=\"1\" class=\"dataframe\">\n",
       "  <thead>\n",
       "    <tr style=\"text-align: right;\">\n",
       "      <th></th>\n",
       "      <th>Copyright</th>\n",
       "      <th>Film</th>\n",
       "      <th>Premiéra</th>\n",
       "      <th>Poznámka</th>\n",
       "      <th>Žánr</th>\n",
       "    </tr>\n",
       "  </thead>\n",
       "  <tbody>\n",
       "    <tr>\n",
       "      <th>459</th>\n",
       "      <td>1930</td>\n",
       "      <td>Tonka Šibenice (395520)</td>\n",
       "      <td>premiéra 27. 2. 1930 /nepřístupný mládeži/ (kino Alfa /6 týdnů/, Praha)</td>\n",
       "      <td>Film byl natočen jako němý, po požáru Kavalírky v roce 1929 byl ozvučen ve Francii v ateliérech Gaumont, Joinville u Paříže. Zároveň byly pořízeny verze v německém (Der Galgentoni) a francouzském (Tonischka) jazyce. V české jazykové mutaci byl na začátek filmu zařazen prolog, kde Karel Hašler za klavírního doprovodu Erno Košťála zazpíval své dvě písně Hradčany krásné a Když v Praze padá sníh. V další části prologu mluvil herec Theodor Pištěk o prostředí, v němž se odehrává děj filmu. V Národním filmovém archivu existuje pouze francouzská verze s distribučním názvem Tonischka, z české verze se dochovalo pouze 15,0 m prologu, v němž Karel Hašler zpívá píseň Hradčany krásné.</td>\n",
       "      <td>drama</td>\n",
       "    </tr>\n",
       "    <tr>\n",
       "      <th>465</th>\n",
       "      <td>1930</td>\n",
       "      <td>Za rodnou hroudu (395518)</td>\n",
       "      <td>premiéra 24. 10. 1930 /nepřístupný mládeži/ (kino Avion /3 týdny/, Praha)</td>\n",
       "      <td>Ve filmu jsou použity četné dokumentární záběry I. světové války. Film je němý a podložený hudbou. Jediná zvuková scéna je v lazaretu, kde Josef Rovenský zpívá píseň Kde domov můj.</td>\n",
       "      <td>drama</td>\n",
       "    </tr>\n",
       "    <tr>\n",
       "      <th>469</th>\n",
       "      <td>1930</td>\n",
       "      <td>Tajemství lékařovo (395513)</td>\n",
       "      <td>premiéra 2. 1. 1931 /nepřístupný mládeži/ (kino Metro /2 týdny/, Praha)</td>\n",
       "      <td>První ze tří filmů amerického Paramountu, natočených v různých jazykových verzích ve stejných dekoracích v pařížských ateliérech: The Doctor's Secret – americká verze, režie William G. DeMille, El secreto del doctor – španělská verze, režie Charles de Rochefort, Il segreto del dottore – italská verze, režie John W. Brunius, Tajemnica lekarza – polská verze, režie Ryszard Ordyński. Filmové materiály jsou pokládány za ztracené.</td>\n",
       "      <td>drama</td>\n",
       "    </tr>\n",
       "    <tr>\n",
       "      <th>474</th>\n",
       "      <td>1930</td>\n",
       "      <td>Lidé v bouři (395507)</td>\n",
       "      <td>zahraniční premiéra 16. 12. 1930  (Berlín, Německo)                                                                                                                                                                                                                                                        premiéra 13. 2. 1931 /nepřístupný mládeži/ (kina Avion /2 týdny/ a Kapitol /1 týden/, Praha)</td>\n",
       "      <td>Film byl natočen pouze v německé verzi. Ve filmu jsou použity vzácné snímky z noční hamburské zábavní čtvrti.</td>\n",
       "      <td>drama</td>\n",
       "    </tr>\n",
       "    <tr>\n",
       "      <th>476</th>\n",
       "      <td>1930</td>\n",
       "      <td>Když struny lkají (395505)</td>\n",
       "      <td>premiéra 19. 9. 1930 /nepřístupný mládeži/ (kino Alfa /5 týdnů/, Praha)</td>\n",
       "      <td>První český dlouhý hraný zvukový film měl být natočen původně podle námětu Quido E. Kujala Slovanské melodie firmou Beda Heller. Pro finanční náročnost projekt převzal Osvald Kosek se společností AB.\\n\\nNovou kopii sestavil roku 1954 Miroslav J. Krňanský s Janem Čermákem z dochované části negativu. Chybějící scény byly nahrazeny vysvětlujícími mezititulky.</td>\n",
       "      <td>melodrama</td>\n",
       "    </tr>\n",
       "    <tr>\n",
       "      <th>477</th>\n",
       "      <td>1930</td>\n",
       "      <td>Fidlovačka (395504)</td>\n",
       "      <td>premiéra 25. 12. 1930 /přístupný mládeži/ (kina Adria /6 týdnů/ a Lucerna /6 týdnů/, Praha)</td>\n",
       "      <td>V dobovém tisku byla Fidlovačka označována za „první ryze český zvukový a mluvící film“.</td>\n",
       "      <td>[hudební, komedie]</td>\n",
       "    </tr>\n",
       "    <tr>\n",
       "      <th>479</th>\n",
       "      <td>1930</td>\n",
       "      <td>Černý plamen (395502)</td>\n",
       "      <td>premiéra 15. 5. 1931 /nepřístupný mládeži/ (kino Fénix /1 týden/, Praha)</td>\n",
       "      <td>Film byl natočen v roce 1929 jako němý s prologem, ve kterém hráli Bronislava Livia a Zvonimir Rogoz (do zvukové verze nebyl prolog zařazen). Film byl vydán 1931 s dodatečně mluvenými scénami a synchronizován hudbou. Zvuková verze je uvedena nafilmovaným proslovem F. X. Svobody.</td>\n",
       "      <td>melodrama</td>\n",
       "    </tr>\n",
       "    <tr>\n",
       "      <th>482</th>\n",
       "      <td>1930</td>\n",
       "      <td>C. a k. polní maršálek (395499)</td>\n",
       "      <td>slavnostní premiéra 23. 10. 1930  (kino Fénix, Praha)                                                                                                                                                                                                                                                        premiéra 24. 10. 1930 /nepřístupný mládeži/ (kina Adria /9 týdnů/ a Fénix /13 týdnů/, Praha)</td>\n",
       "      <td>None</td>\n",
       "      <td>komedie</td>\n",
       "    </tr>\n",
       "    <tr>\n",
       "      <th>514</th>\n",
       "      <td>1931</td>\n",
       "      <td>Kariéra Pavla Čamrdy (395542)</td>\n",
       "      <td>premiéra 25. 12. 1931 /přístupný mládeži/ (kina Hvězda /3 týdny/ a Metro /3 týdny/, Praha)</td>\n",
       "      <td>None</td>\n",
       "      <td>komedie</td>\n",
       "    </tr>\n",
       "    <tr>\n",
       "      <th>515</th>\n",
       "      <td>1931</td>\n",
       "      <td>Karel Havlíček Borovský (395548)</td>\n",
       "      <td>premiéra 25. 9. 1931 /přístupný mládeži/ (kina Adria /2 týdny/, Hvězda /3 týdny/ a Světozor /2 týdny/, Praha)</td>\n",
       "      <td>Tento námět byl již v českém filmu zpracován pod stejným názvem (r. Karel Lamač a Theodor Pištěk, 1925).</td>\n",
       "      <td>životopisný</td>\n",
       "    </tr>\n",
       "  </tbody>\n",
       "</table>\n",
       "</div>"
      ],
      "text/plain": [
       "     Copyright                              Film   \n",
       "459       1930           Tonka Šibenice (395520)  \\\n",
       "465       1930         Za rodnou hroudu (395518)   \n",
       "469       1930       Tajemství lékařovo (395513)   \n",
       "474       1930             Lidé v bouři (395507)   \n",
       "476       1930        Když struny lkají (395505)   \n",
       "477       1930               Fidlovačka (395504)   \n",
       "479       1930             Černý plamen (395502)   \n",
       "482       1930   C. a k. polní maršálek (395499)   \n",
       "514       1931     Kariéra Pavla Čamrdy (395542)   \n",
       "515       1931  Karel Havlíček Borovský (395548)   \n",
       "\n",
       "                                                                                                                                                                                                                                                                                                                                                                                                      Premiéra   \n",
       "459                                                                                                                                                                                                                                                                                                                                    premiéra 27. 2. 1930 /nepřístupný mládeži/ (kino Alfa /6 týdnů/, Praha)  \\\n",
       "465                                                                                                                                                                                                                                                                                                                                  premiéra 24. 10. 1930 /nepřístupný mládeži/ (kino Avion /3 týdny/, Praha)   \n",
       "469                                                                                                                                                                                                                                                                                                                                    premiéra 2. 1. 1931 /nepřístupný mládeži/ (kino Metro /2 týdny/, Praha)   \n",
       "474    zahraniční premiéra 16. 12. 1930  (Berlín, Německo)                                                                                                                                                                                                                                                        premiéra 13. 2. 1931 /nepřístupný mládeži/ (kina Avion /2 týdny/ a Kapitol /1 týden/, Praha)   \n",
       "476                                                                                                                                                                                                                                                                                                                                    premiéra 19. 9. 1930 /nepřístupný mládeži/ (kino Alfa /5 týdnů/, Praha)   \n",
       "477                                                                                                                                                                                                                                                                                                                premiéra 25. 12. 1930 /přístupný mládeži/ (kina Adria /6 týdnů/ a Lucerna /6 týdnů/, Praha)   \n",
       "479                                                                                                                                                                                                                                                                                                                                   premiéra 15. 5. 1931 /nepřístupný mládeži/ (kino Fénix /1 týden/, Praha)   \n",
       "482  slavnostní premiéra 23. 10. 1930  (kino Fénix, Praha)                                                                                                                                                                                                                                                        premiéra 24. 10. 1930 /nepřístupný mládeži/ (kina Adria /9 týdnů/ a Fénix /13 týdnů/, Praha)   \n",
       "514                                                                                                                                                                                                                                                                                                                 premiéra 25. 12. 1931 /přístupný mládeži/ (kina Hvězda /3 týdny/ a Metro /3 týdny/, Praha)   \n",
       "515                                                                                                                                                                                                                                                                                              premiéra 25. 9. 1931 /přístupný mládeži/ (kina Adria /2 týdny/, Hvězda /3 týdny/ a Světozor /2 týdny/, Praha)   \n",
       "\n",
       "                                                                                                                                                                                                                                                                                                                                                                                                                                                                                                                                                                                                                                                                                                     Poznámka   \n",
       "459  Film byl natočen jako němý, po požáru Kavalírky v roce 1929 byl ozvučen ve Francii v ateliérech Gaumont, Joinville u Paříže. Zároveň byly pořízeny verze v německém (Der Galgentoni) a francouzském (Tonischka) jazyce. V české jazykové mutaci byl na začátek filmu zařazen prolog, kde Karel Hašler za klavírního doprovodu Erno Košťála zazpíval své dvě písně Hradčany krásné a Když v Praze padá sníh. V další části prologu mluvil herec Theodor Pištěk o prostředí, v němž se odehrává děj filmu. V Národním filmovém archivu existuje pouze francouzská verze s distribučním názvem Tonischka, z české verze se dochovalo pouze 15,0 m prologu, v němž Karel Hašler zpívá píseň Hradčany krásné.  \\\n",
       "465                                                                                                                                                                                                                                                                                                                                                                                                                                                                                                                      Ve filmu jsou použity četné dokumentární záběry I. světové války. Film je němý a podložený hudbou. Jediná zvuková scéna je v lazaretu, kde Josef Rovenský zpívá píseň Kde domov můj.   \n",
       "469                                                                                                                                                                                                                                                             První ze tří filmů amerického Paramountu, natočených v různých jazykových verzích ve stejných dekoracích v pařížských ateliérech: The Doctor's Secret – americká verze, režie William G. DeMille, El secreto del doctor – španělská verze, režie Charles de Rochefort, Il segreto del dottore – italská verze, režie John W. Brunius, Tajemnica lekarza – polská verze, režie Ryszard Ordyński. Filmové materiály jsou pokládány za ztracené.   \n",
       "474                                                                                                                                                                                                                                                                                                                                                                                                                                                                                                                                                                                             Film byl natočen pouze v německé verzi. Ve filmu jsou použity vzácné snímky z noční hamburské zábavní čtvrti.   \n",
       "476                                                                                                                                                                                                                                                                                                                                    První český dlouhý hraný zvukový film měl být natočen původně podle námětu Quido E. Kujala Slovanské melodie firmou Beda Heller. Pro finanční náročnost projekt převzal Osvald Kosek se společností AB.\\n\\nNovou kopii sestavil roku 1954 Miroslav J. Krňanský s Janem Čermákem z dochované části negativu. Chybějící scény byly nahrazeny vysvětlujícími mezititulky.   \n",
       "477                                                                                                                                                                                                                                                                                                                                                                                                                                                                                                                                                                                                                  V dobovém tisku byla Fidlovačka označována za „první ryze český zvukový a mluvící film“.   \n",
       "479                                                                                                                                                                                                                                                                                                                                                                                                                   Film byl natočen v roce 1929 jako němý s prologem, ve kterém hráli Bronislava Livia a Zvonimir Rogoz (do zvukové verze nebyl prolog zařazen). Film byl vydán 1931 s dodatečně mluvenými scénami a synchronizován hudbou. Zvuková verze je uvedena nafilmovaným proslovem F. X. Svobody.   \n",
       "482                                                                                                                                                                                                                                                                                                                                                                                                                                                                                                                                                                                                                                                                                                      None   \n",
       "514                                                                                                                                                                                                                                                                                                                                                                                                                                                                                                                                                                                                                                                                                                      None   \n",
       "515                                                                                                                                                                                                                                                                                                                                                                                                                                                                                                                                                                                                  Tento námět byl již v českém filmu zpracován pod stejným názvem (r. Karel Lamač a Theodor Pištěk, 1925).   \n",
       "\n",
       "                   Žánr  \n",
       "459               drama  \n",
       "465               drama  \n",
       "469               drama  \n",
       "474               drama  \n",
       "476           melodrama  \n",
       "477  [hudební, komedie]  \n",
       "479           melodrama  \n",
       "482             komedie  \n",
       "514             komedie  \n",
       "515         životopisný  "
      ]
     },
     "execution_count": 26,
     "metadata": {},
     "output_type": "execute_result"
    }
   ],
   "source": [
    "hcf[hcf[\"Zvukový\"] == \"zvukový\"].sort_values(by=\"Copyright\")[[\"Copyright\",\"Film\",\"Premiéra\",\"Poznámka\",\"Žánr\"]].head(10)"
   ]
  },
  {
   "cell_type": "code",
   "execution_count": 27,
   "id": "d6fba1d9",
   "metadata": {},
   "outputs": [
    {
     "data": {
      "text/html": [
       "<div>\n",
       "<style scoped>\n",
       "    .dataframe tbody tr th:only-of-type {\n",
       "        vertical-align: middle;\n",
       "    }\n",
       "\n",
       "    .dataframe tbody tr th {\n",
       "        vertical-align: top;\n",
       "    }\n",
       "\n",
       "    .dataframe thead th {\n",
       "        text-align: right;\n",
       "    }\n",
       "</style>\n",
       "<table border=\"1\" class=\"dataframe\">\n",
       "  <thead>\n",
       "    <tr style=\"text-align: right;\">\n",
       "      <th></th>\n",
       "      <th>Copyright</th>\n",
       "      <th>Film</th>\n",
       "      <th>Premiéra</th>\n",
       "      <th>Poznámka</th>\n",
       "      <th>Žánr</th>\n",
       "      <th>Zvukový</th>\n",
       "      <th>Anotace</th>\n",
       "      <th>Obsah</th>\n",
       "    </tr>\n",
       "  </thead>\n",
       "  <tbody>\n",
       "    <tr>\n",
       "      <th>494</th>\n",
       "      <td>1931</td>\n",
       "      <td>Vesničtí soupeři (395532)</td>\n",
       "      <td>premiéra 02/1931 /přístupný mládeži/</td>\n",
       "      <td>Film byl natočen jako němý. Byl vyroben pro nákupní a prodejní společnost chemického velkoprůmyslu Fosfacid, která jej zdarma půjčovala kinům.</td>\n",
       "      <td>osvětový</td>\n",
       "      <td>němý</td>\n",
       "      <td>None</td>\n",
       "      <td>O práci dvou hospodářů, z nichž jeden pracuje postaru, druhý moderními metodami. Používá umělá hnojiva superfosfátu a granozotu.</td>\n",
       "    </tr>\n",
       "    <tr>\n",
       "      <th>518</th>\n",
       "      <td>1931</td>\n",
       "      <td>Muži v offsidu (395545)</td>\n",
       "      <td>premiéra 11. 9. 1931 /nepřístupný mládeži/ (kina Kotva /6 týdnů/ a Lucerna /6 týdnů/, Praha)                                                                                                                                                                                                                                                        obnovená premiéra 04/1932 /nepřístupný mládeži/ (němá verze)                                                                                                                                                                                                                                                        obnovená premiéra 27. 9. 1946 /přístupný mládeži/                                                                                                                                                                                                                                                         obnovená premiéra 7. 3. 1969 /přístupný mládeži/</td>\n",
       "      <td>Ve filmu jsou použity vzácné snímky ze starého hřiště A. C. Sparty, pohyblivého chodníku na Letnou a ze zábavního parku ve vršovickém Edenu. Volné pokračování viz Načeradec, král kibiců (1932).</td>\n",
       "      <td>komedie</td>\n",
       "      <td>němý,                                                     zvukový</td>\n",
       "      <td>Humoristický román Karla Poláčka se od svého vydání těšil živému čtenářskému zájmu. Nápad přenést příběh o vášnivých fotbalových fanoušcích na filmové plátno se realizoval roce 1931 pod režijním vedením osvědčeného Svatopluka Innemanna. Úspěšný režisér němých snímků teprve zkoumal technické ošidnosti zvukového filmu, přesto však vznikla nestárnoucí komedie, která vdechla filmový život poláčkovským hrdinům i spisovatelovu humoru. V roli žižkovského obchodníka Načeradce, který oddanost „svému“ fotbalovému klubu S. K. Slavie staví vysoko nad své rodinné i pracovní povinnosti, exceluje Hugo Haas. Part Krejčího Habáska, který s dospělým synem Emanem fandí mužstvu S. K. Viktorie, připadl Jindřichu Plachtovi. O rok později natočil Gustav Machatý podle Poláčkovy předlohy komedii Načeradec, král kibiců, opět s Haasem.</td>\n",
       "      <td>Majitel obchodu s konfekcí, pan Richard Načeradec ze Žižkova, je nadšeným fandou S. K. Slavie a přes odpor své ženy chodí každou neděli na fotbal. Krejčí Emanuel Habásko žije osaměle s dospělým synem Emanem. Krejčího nekonečně uhání vdova Ouholičková, ale otec Habásko statečně odolává. Habáskové neuznávají jiný klub kromě S. K. Viktorie. Jednou na utkání Slavie - Viktorie se střetne Načeradec s Emanem. Jejich bouřlivou rozpravu ukončí až strážník a odsoudí oba k pořádkové pokutě. Eman, který je nezaměstnaný, nemá na pokutu peníze. Načeradec zaplatí i za něho a nabídne mu práci ve svém obchodě. V novém zaměstnání se Eman zamiluje do Emilky Šefelínové z Nuslí. Tuto známost chce otec Šefelín bez milosti ukončit. Ale oblíbí si otce Habáska pro jeho bodrou povahu. Proto může všechno skončit svatbou Emana s Emilkou v kostele svaté Ludmily.</td>\n",
       "    </tr>\n",
       "    <tr>\n",
       "      <th>745</th>\n",
       "      <td>1935</td>\n",
       "      <td>Koho jsem včera líbal? (395678)</td>\n",
       "      <td>premiéra 04/1935 /nepřístupný mládeži/</td>\n",
       "      <td>Film původně režíroval Zvonimir Rogoz, týden před koncem natáčení z projektu odstoupil a snímek dokončil Jan Svoboda. Dochovala se neúplná podoba filmu.</td>\n",
       "      <td>komedie</td>\n",
       "      <td>němý,                                                     zvukový</td>\n",
       "      <td>None</td>\n",
       "      <td>Mladý synovec generálního ředitele porcelánky Jan Konvalinka zastupuje svého strýce, ale místo práce se věnuje ženám. Krásná neznámá žena, které není Konvalinkovo dvoření vhod, požádá solidně vyhlížejícího pána, aby se vydával za jejího manžela a odehnal tak dotěrného nápadníka. Zachráncem je malý úředník Popelka, který v Janovi pozná svého nadřízeného. Díky kráse své „manželky“ je Popelka povýšen. Skutečná paní Popelková, semetrika zcela ovládající svého manžela, se vrací z pohřbu příbuzného. S ní příjíždí dcera zemřelého, Eva, jejíž sňatek je podmínkou k rozdělení dědictví. Jan mezitím zjistí, že krásná neznámá je ženou jiného zaměstnance továrny a chce Popelku za „podvod“ propustit. V jeho bytě však potkává Evu, a tentokrát považuje za paní Popelkovou ji. Eva ho v omylu ponechá a přijímá jeho dvoření. Díky záměně dostává pravá paní Popelková od Jana krásnou kytici s láskyplným vzkazem. Věrna své povaze si na mladého muže „došlápne“ a Popelka je propuštěn. Eva však najde cestu, j...</td>\n",
       "    </tr>\n",
       "    <tr>\n",
       "      <th>926</th>\n",
       "      <td>1938</td>\n",
       "      <td>Neporažená armáda (395818)</td>\n",
       "      <td>premiéra 28. 10. 1938 /přístupný mládeži/ (kina Lucerna /2 týdny/ a Pasáž /2 týdny/, Praha)</td>\n",
       "      <td>None</td>\n",
       "      <td>drama</td>\n",
       "      <td>None</td>\n",
       "      <td>None</td>\n",
       "      <td>Mladý zemědělský dělník Jan Aleš z pošumavské vesnice je povolán na vojnu. V novém prostředí se Janovi líbí a tak zůstává jako délesloužící. S úspěchem složí zkoušku na vojenskou akademii. Ve škole se nejvíc přátelí s kolegou Milanem Jurčíkem. Jan pilně studuje a Milan ho k vycházce do města musí přinutit. Seznámí se se dvěma dívkami a do jedné z nich - dcery továrníka Zdenky Jiříkovské - se Jan zamiluje. Dívka jeho cit opětuje, ale otec této známosti nepřeje. Nemá syna a byl by rád, aby se dcera provdala za někoho, kdo převezme v budoucnosti továrnu. Přicházejí vánoce a vojáci se rozjíždějí k rodinám. Jan je pozván k Jiříkovským. Milanův bratr Michal se má vrátit právě na Štědrý den z leteckých závodů v cizině. Marně však na něj čekají manželka s malým synkem, matka i bratr. Michal zahynul při havárii svého letadla. Jan požádá o propuštění z armády, aby se mohl oženit se Zdenkou. Když je vyhlášena mobilizace, Jan svou žádost ruší. Zdenka je na něho hrdá stejně jako budoucí tchán. ...</td>\n",
       "    </tr>\n",
       "    <tr>\n",
       "      <th>3533</th>\n",
       "      <td>2005</td>\n",
       "      <td>Toyen (38739)</td>\n",
       "      <td>slavnostní premiéra 2. 11. 2005  (kino Světozor, Praha)                                                                                                                                                                                                                                                        distribuční premiéra 3. 11. 2005 /doporučená přístupnost od 12 let/</td>\n",
       "      <td>Použité reprodukce obrazů: Léto; Močál; Podzim (Krajina); Procházejí bez ohlédnutí; Samota; Mořské sasanky; Obraz; Jezerní krajina; Z jižních moří; Noc v Oceánii; Jitro; Obraz; Jezerní zahrada; Předjaří; A teď, když plyne čas; Bezesná noc; Cigaretový dým; Holandská krajina; Jarmark; Mlčení zrcadel; Na pasece; Na zámku La Coste; Obraz; Obraz; Past skutečnosti; Půlnoc, erbovní hodina; Sejfy; Spící; Spřízněni volbou; Tonoucí koráb; Tůně; Ve vodě spánku; Vinobraní; Všechny živly; Zástěna. – Použité originály obrazů: Au visage bleu – Modrá tvář; Mýtus světla.</td>\n",
       "      <td>poetický</td>\n",
       "      <td>None</td>\n",
       "      <td>Neúnavný experimentátor Jan Němec se po krajní introspekci ve filmech Noční hovory s matkou (2002) a Krajina mého srdce (2004) zaměřil ve snímku Toyen (s podtitulem Střepiny snů. Ticho a tma) na osobnost přední české malířky (1902-1980), na její vztah s básníkem a výtvarníkem Jindřichem Heislerem (1914-1953), ale zejména na surrealismus, jenž se tak vlastně stává hlavním tématem. Tvůrce ovšem i zde uplatňuje vyhrocený subjektivní pohled, těžící mj. z řetězení asociací a z naprosto svobodného nakládání s filmovou látkou i materiálem. Scénář autorky námětu Terezy Brdečkové tak Jan Němec podřídil vlastním záměrům. Tradiční filmový příběh se vytrácí a nahrazují jej evokace a průniky do různých časových rovin i do různých „světů“. Základem je milostný poměr mezi Toyen a Heislerem, umocněný několika lety skrývání. Heisler jako Žid neodešel za okupace do transportu a ukrýval se od roku 1941 do konce války v žižkovské garsonce své přítelkyně. Klaustrofobické prostředí s neustálým strachem ...</td>\n",
       "      <td>První záběry vedou do Stockholmu a tamního Moderního muzea. – Oprýskaný rohový dům v Praze. Ženská silueta cvičí, jakoby „plave“. Toyen vstupuje v plavkách do vany a láká přihlížejícího k sobě. – Praha, Žižkov, Krásova ulice. Toyen ve své garsonce schovává Jindřicha Heislera, výtvarníka, básníka, filmaře. Mladík je židovského původu, ale odmítl nosit židovskou hvězdu a odejít do transportu. V posmrtně vydané knize Z kasemat spánku vzpomíná Heisler, jak spal u Toyen ve vaně. Podle ní vana tlumila vibrace, a tak je chránila před gestapáky, občas slídícími v domě. – Toyen náznakově maluje štětcem po Heislerově obličeji. – V rozhlasových relacích se mluví o náletech. – Do Prahy přijíždí říšský protektor Heydrich. – V Londýně byl vydán příkaz k atentátu na něj. – Milenci žijí v uzavřeném prostoru žižkovské garsonky. Pracují a milují se. – Dvojice očekává vpád gestapáků, pátrajících v domě; naštěstí nedojdou až do podkroví. – Zní střelba ze samopalu. Rádio přináší zprávy o atentátu na He...</td>\n",
       "    </tr>\n",
       "    <tr>\n",
       "      <th>3614</th>\n",
       "      <td>2007</td>\n",
       "      <td>...a bude hůř (45816)</td>\n",
       "      <td>festivalová premiéra 14. 2. 2007  (57. mezinárodní filmový festival Berlinale Berlín, Německo /sekce Forum/)                                                                                                                                                                                                                                                        slavnostní premiéra 2. 3. 2007  (klub Elko, Karlovy Vary)                                                                                                                                                                                                                                                        distribuční premiéra 7. 3. 2007 /doporučená přístupnost od 15 let/</td>\n",
       "      <td>Snímek byl uváděn zejména v alternativní distribuci, především v klubech či hospodách. Tvůrci totiž předpokládali, že návštěvníci tohoto typu filmu multikina a kina nenavštěvují.</td>\n",
       "      <td>drama</td>\n",
       "      <td>None</td>\n",
       "      <td>Kultovní kniha Jana Pelce ...a bude hůř se dočkala neméně kultovního stejnojmenného filmového přepisu. Scenárista a režisér Petr Nikolaev ovšem zpracoval pouze druhý díl, nazvaný Děti ráje, jenž ostatně vznikl jako první ze třech (zbývající Děti rodičů a Děti cest) a poprvé vyšel v rozsáhlé ukázce ve Svědectví v roce 1984. Kniha (vydaná nejdříve v roce 1985 v Kolíně nad Rýnem a až po roce 1989 v České republice), vzbudila velkou polemiku, jejíž součástí byl též „konflikt tří filozofů“ (Erazim Kohák, Ivan Jirous, Ivan Sviták), což jí ovšem nijak neubralo na čtenářském zájmu (prodalo se zatím 120 000 výtisků). Filmová adaptace vznikla za zcela jiných podmínek než předloha, avšak je vcelku přesným obrazem doby tuhé normalizace na přelomu sedmdesátých a osmdesátých let. Líčí úděl party „mániček“ z průmyslového severočeského města, jejichž touha po svobodném životě se pohříchu realizuje jen jako nekonečná řada hospodských pitek, mejdanů a souloží. Neschází samozřejmě politický kontext, ...</td>\n",
       "      <td>Vlasatý Olin se po roce, stráveném v blázinci kvůli pokusu o sebevraždu, vrací do severočeského průmyslového města. Jeho první kroky z nádraží vedou do hospody U Boučků, kde si dá ruma s hostinským Packou a kde ho přivítá celá parta v čele s kamarádem Špínou. – Opilého Olina odvede v noci jeho nejlepší přítelkyně Olina do kutlochu v kanále, ale jako obvykle odmítne se s ním vyspat. – Ráno si mladík dá prvního vajgla a vyrazí do hospody za Packou. Další noc přespí v parku s podivínským bezdomovcem Lesním mužem. Druhý den spolu vybírají popelnice a za stržené peníze si koupí lahváče. – Packa varuje Olina, že ho sháněli policajti, a pak je sám zavolá. Po kontrole občanek skončí mladík na Bezpečnosti. Když se ohání svými právy, mladý příslušník ho srazí k zemi. Zasáhne otcovský náčelník Adamec. Varuje Olina, aby si rychle našel práci, a konstatuje, že hledají Špínu a taky Olinu, která utekla z domu od své funkcionářské matky. – Olin a Špína kupodivu najdou práci jako metaři. Bodrý šéf ...</td>\n",
       "    </tr>\n",
       "    <tr>\n",
       "      <th>3624</th>\n",
       "      <td>2008</td>\n",
       "      <td>Bába/Druhé dějství (132059)</td>\n",
       "      <td>premiéra 19. 11. 2009 /doporučená přístupnost od 15 let/</td>\n",
       "      <td>None</td>\n",
       "      <td>[drama, psychologický]</td>\n",
       "      <td>None</td>\n",
       "      <td>Pásmo tvoří dva filmy studentů Filmové a televizní fakulty Akademie múzických umění v Praze.</td>\n",
       "      <td>None</td>\n",
       "    </tr>\n",
       "    <tr>\n",
       "      <th>3652</th>\n",
       "      <td>2008</td>\n",
       "      <td>Kuličky (53944)</td>\n",
       "      <td>slavnostní premiéra 29. 4. 2008  (kino Bio Oko, Praha)                                                                                                                                                                                                                                                        distribuční premiéra 1. 5. 2008 /přístupný/</td>\n",
       "      <td>None</td>\n",
       "      <td>povídkový</td>\n",
       "      <td>None</td>\n",
       "      <td>Celovečerní režijní debut scenáristky Olgy Dabrowské Kuličky je skromným nezávislým snímkem, složeným ze tří povídek a úvodního skeče. Autorka v něm podle vlastních slov zachycuje „obraz promarněného lidského života“, začínajícího dětskou hrou a končícího stářím a smrtí. Tématem je ženská sebeláska a manipulativnost. – V prologu nepustí po hře na svatbu „novomanželka“ Julinka čerstvě nabytého „novomanžela“ Péťu hrát si s ostatními dětmi. V další povídce žárlí vzpurná puberťačka na matku, svede jejího milence a pak ho vydíráním přiměje, aby nechal matku být, a má ji tak opět jen sama pro sebe. Následující epizoda vypráví o vdavekchtivé mondéně, která si vytipuje mladého kněze, a konečně poslední povídka líčí tíži až přílišné starostlivosti o partnera, jež je důsledkem vlastního sobectví a jež manželský vztah spíše naleptává, než ochraňuje. V generační stupnici však schází střední věk, zastoupený v náznaku jen bizarní dvojicí evangelického faráře a jeho ženy v podání Jana Buriana a E...</td>\n",
       "      <td>Povídkový film</td>\n",
       "    </tr>\n",
       "    <tr>\n",
       "      <th>3707</th>\n",
       "      <td>2009</td>\n",
       "      <td>Nebe, peklo... zem (127314)</td>\n",
       "      <td>slavnostní premiéra 27. 1. 2010  (kino Lucerna, Praha)                                                                                                                                                                                                                                                        distribuční premiéra 28. 1. 2010 /doporučená přístupnost od 15 let/</td>\n",
       "      <td>None</td>\n",
       "      <td>drama</td>\n",
       "      <td>None</td>\n",
       "      <td>Scenáristka a režisérka Laura Siváková (nar. 1973) na sebe upozornila svým „bergmanovským“ debutem Quartétto (2002), v němž rozkrývala traumatické vztahy mezi umírající matkou a třemi dospělými dcerami. I ve svém dalším psychologickém snímku Nebe, peklo... zem se zabývá obdobným tématem rodinných a milostných vazeb. – Dvaadvacetiletá baletka Klára má před sebou vidinu kariéry v prestižním zahraničním souboru. Náhle ji však začne pronásledovat smůla. Přistihne dlouholetého přítele in flagranti a vzápětí si poraní kotník. Nemůže se tedy nějakou dobu věnovat profesi, což jí poskytne čas k přemýšlení o vlastním životě. Ovlivní ji i setkání s padesátníkem Rudolfem, který ji požádá, aby dělala pečovatelku jeho třináctileté dceři Júlii. Stanou se z nich milenci, avšak muž později přijme zpět svou nevěrnou manželku. Kláru poznamená též pozdní těhotenství její matky a zejména tragická smrt milovaného bratra. Nakonec se mladá žena rozhodne pokračovat v baletu. – Režisérka vplétá do realistic...</td>\n",
       "      <td>Nahá dívka leží pod vodou na dně. – Po baletním tréninku osloví dvaadvacetiletou baletku Kláru šéf proslulého barcelonského baletu Rodriguez a nabídne jí šanci ve svém souboru. – Klára spěchá na letiště za milencem Tomášem, který přiletěl s kolegy z Dubaje. Ale ten ještě musí do firmy. – Dvojice se večer doma dobře baví. Dívka se zmíní o tom, že bude možná rok pryč. Pak se spolu pomilují. – Klára navštíví hypochondrickou matku, která si stále stěžuje na záletného otce. Zavolá Tomášovi, že tu přespí. – Brzy ráno chce překvapit milence snídaní, ale přistihne ho ve sprše s jeho kolegyní z práce. Ta jí řekne, že se s ní chce Tomáš stejně rozejít. Muž dá po Klářině odchodu nové milence facku. – Po tréninku, kde ji střídá její konkurentka Monika, přijde opilá Klára za bratrem Peterem a „pomůže“ mu s malováním bytu. Jeho manželka Oľga se na ně po příchodu z práce zlobí. Peter je už půl roku bez práce. – Vystřízlivělá dívka bloudí ulicemi. Přespí v hotelu. Ráno se vydá do bytu pro své věci...</td>\n",
       "    </tr>\n",
       "    <tr>\n",
       "      <th>4175</th>\n",
       "      <td>2016</td>\n",
       "      <td>Masaryk (401331)</td>\n",
       "      <td>předpremiéra 25. 12. 2016  (kino Lucerna, Praha)                                                                                                                                                                                                                                                        premiéra 9. 3. 2017 /nevhodné pro děti do 12 let/</td>\n",
       "      <td>V titulcích je uváděno jméno scenáristy v podobě Alex Königsmark, jemuž je snímek věnován. Scénář byl vyvinut v rámci programu Scripteast.</td>\n",
       "      <td>[historický, psychologický, životopisný]</td>\n",
       "      <td>None</td>\n",
       "      <td>Historický životopisný snímek Julia Ševčíka s prostým názvem Masaryk zachycuje události ze tří let života Jana Masaryka (1886–1948), syna prezidenta Tomáše Garriguea Masaryka (1850–1937). Děj se odehrává v rozmezí let 1937–1939, ale koncentruje se zejména na události okolo uzavření Mnichovské dohody v září 1938. Odvíjí se ve dvou rovinách. V říjnu 1938 se Masaryk ocitá v psychiatrickém sanatoriu ve Vinelandu ve státě New Jersey. V rozhovorech s ředitelem ústavu, doktorem Steinem, který je německým emigrantem, uprchnuvším před Hitlerem, vzpomíná na nedávnou minulost, na smrt otce v roce 1937 a hlavně na bouřlivé dny konce září 1938, kdy působil jako československý velvyslanec v Londýně. Psychicky labilní muž trpící depresemi si trpce vyčítá, že zklamal a že zavinil okleštění a rozpad republiky. Rekapituluje rozhodující okamžiky z té doby, vybavuje si rozhovory s britskými politiky i telefonáty s Edvardem Benešem, jemuž má za zlé – právě tak jako sobě – že selhal. Nakonec se však s B...</td>\n",
       "      <td>Podle skutečné události. - Vineland, New Jersey, říjen 1938. Dezorientovaný Jan Masaryk je odveden z cizího domu, v němž hrál na klavír českou hymnu a v němž ho přistihl majitel se zbraní v ruce. Z cely na policejní stanici mu pomůže dr. Stein, šéf zdejšího psychiatrického sanatoria, kde Masaryk na vlastní žádost skončí. Pobýval tu již v roce 1912, ale tehdejší lékař už zde nepracuje. Stein mu jasně naznačí, že tam nebude mít takovou svobodu jako kdysi. - Jan vzpomíná na minulost. Zúčastnil se velkého večírku, kde se pomiloval se zpěvačkou Madlou, zazpíval si s ní před publikem a šňupal  kokain. Ráno 13. září 1937 dorazil s kocovinou na Pražský hrad ke smrtelné posteli svého otce, Tomáše Garriguea Masaryka. Setká se tu s prezidentem Edvardem Benešem, s nímž mluví o situaci v Británii, kde je velvyslancem. Poslední otcova slova jej nabádají, aby vždy jednal podle svého, ale aby se také radil s Benešem. 14. září 1937 bývalý prezident zemře. - V sanatoriu vidí doktor Sheldon stát Masa...</td>\n",
       "    </tr>\n",
       "  </tbody>\n",
       "</table>\n",
       "</div>"
      ],
      "text/plain": [
       "      Copyright                             Film   \n",
       "494        1931        Vesničtí soupeři (395532)  \\\n",
       "518        1931          Muži v offsidu (395545)   \n",
       "745        1935  Koho jsem včera líbal? (395678)   \n",
       "926        1938       Neporažená armáda (395818)   \n",
       "3533       2005                    Toyen (38739)   \n",
       "3614       2007            ...a bude hůř (45816)   \n",
       "3624       2008      Bába/Druhé dějství (132059)   \n",
       "3652       2008                  Kuličky (53944)   \n",
       "3707       2009      Nebe, peklo... zem (127314)   \n",
       "4175       2016                 Masaryk (401331)   \n",
       "\n",
       "                                                                                                                                                                                                                                                                                                                                                                                                                                                                                                                                                                                                                                                                                                                                                                                                                                                                                                                                                                                                                                Premiéra   \n",
       "494                                                                                                                                                                                                                                                                                                                                                                                                                                                                                                                                                                                                                                                                                                                                                                                                                                                                                                                                                                                                 premiéra 02/1931 /přístupný mládeži/  \\\n",
       "518   premiéra 11. 9. 1931 /nepřístupný mládeži/ (kina Kotva /6 týdnů/ a Lucerna /6 týdnů/, Praha)                                                                                                                                                                                                                                                        obnovená premiéra 04/1932 /nepřístupný mládeži/ (němá verze)                                                                                                                                                                                                                                                        obnovená premiéra 27. 9. 1946 /přístupný mládeži/                                                                                                                                                                                                                                                         obnovená premiéra 7. 3. 1969 /přístupný mládeži/   \n",
       "745                                                                                                                                                                                                                                                                                                                                                                                                                                                                                                                                                                                                                                                                                                                                                                                                                                                                                                                                                                                               premiéra 04/1935 /nepřístupný mládeži/   \n",
       "926                                                                                                                                                                                                                                                                                                                                                                                                                                                                                                                                                                                                                                                                                                                                                                                                                                                                                                                                          premiéra 28. 10. 1938 /přístupný mládeži/ (kina Lucerna /2 týdny/ a Pasáž /2 týdny/, Praha)   \n",
       "3533                                                                                                                                                                                                                                                                                                                                                                                                                                                                                                                                                                                                                                                  slavnostní premiéra 2. 11. 2005  (kino Světozor, Praha)                                                                                                                                                                                                                                                        distribuční premiéra 3. 11. 2005 /doporučená přístupnost od 12 let/   \n",
       "3614                                                                                                                                                                                                                                                                             festivalová premiéra 14. 2. 2007  (57. mezinárodní filmový festival Berlinale Berlín, Německo /sekce Forum/)                                                                                                                                                                                                                                                        slavnostní premiéra 2. 3. 2007  (klub Elko, Karlovy Vary)                                                                                                                                                                                                                                                        distribuční premiéra 7. 3. 2007 /doporučená přístupnost od 15 let/   \n",
       "3624                                                                                                                                                                                                                                                                                                                                                                                                                                                                                                                                                                                                                                                                                                                                                                                                                                                                                                                                                                            premiéra 19. 11. 2009 /doporučená přístupnost od 15 let/   \n",
       "3652                                                                                                                                                                                                                                                                                                                                                                                                                                                                                                                                                                                                                                                                           slavnostní premiéra 29. 4. 2008  (kino Bio Oko, Praha)                                                                                                                                                                                                                                                        distribuční premiéra 1. 5. 2008 /přístupný/   \n",
       "3707                                                                                                                                                                                                                                                                                                                                                                                                                                                                                                                                                                                                                                                   slavnostní premiéra 27. 1. 2010  (kino Lucerna, Praha)                                                                                                                                                                                                                                                        distribuční premiéra 28. 1. 2010 /doporučená přístupnost od 15 let/   \n",
       "4175                                                                                                                                                                                                                                                                                                                                                                                                                                                                                                                                                                                                                                                                           předpremiéra 25. 12. 2016  (kino Lucerna, Praha)                                                                                                                                                                                                                                                        premiéra 9. 3. 2017 /nevhodné pro děti do 12 let/   \n",
       "\n",
       "                                                                                                                                                                                                                                                                                                                                                                                                                                                                                                                                                                              Poznámka   \n",
       "494                                                                                                                                                                                                                                                                                                                                                                                                                                     Film byl natočen jako němý. Byl vyroben pro nákupní a prodejní společnost chemického velkoprůmyslu Fosfacid, která jej zdarma půjčovala kinům.  \\\n",
       "518                                                                                                                                                                                                                                                                                                                                                                                  Ve filmu jsou použity vzácné snímky ze starého hřiště A. C. Sparty, pohyblivého chodníku na Letnou a ze zábavního parku ve vršovickém Edenu. Volné pokračování viz Načeradec, král kibiců (1932).   \n",
       "745                                                                                                                                                                                                                                                                                                                                                                                                                           Film původně režíroval Zvonimir Rogoz, týden před koncem natáčení z projektu odstoupil a snímek dokončil Jan Svoboda. Dochovala se neúplná podoba filmu.   \n",
       "926                                                                                                                                                                                                                                                                                                                                                                                                                                                                                                                                                                               None   \n",
       "3533  Použité reprodukce obrazů: Léto; Močál; Podzim (Krajina); Procházejí bez ohlédnutí; Samota; Mořské sasanky; Obraz; Jezerní krajina; Z jižních moří; Noc v Oceánii; Jitro; Obraz; Jezerní zahrada; Předjaří; A teď, když plyne čas; Bezesná noc; Cigaretový dým; Holandská krajina; Jarmark; Mlčení zrcadel; Na pasece; Na zámku La Coste; Obraz; Obraz; Past skutečnosti; Půlnoc, erbovní hodina; Sejfy; Spící; Spřízněni volbou; Tonoucí koráb; Tůně; Ve vodě spánku; Vinobraní; Všechny živly; Zástěna. – Použité originály obrazů: Au visage bleu – Modrá tvář; Mýtus světla.   \n",
       "3614                                                                                                                                                                                                                                                                                                                                                                                                Snímek byl uváděn zejména v alternativní distribuci, především v klubech či hospodách. Tvůrci totiž předpokládali, že návštěvníci tohoto typu filmu multikina a kina nenavštěvují.   \n",
       "3624                                                                                                                                                                                                                                                                                                                                                                                                                                                                                                                                                                              None   \n",
       "3652                                                                                                                                                                                                                                                                                                                                                                                                                                                                                                                                                                              None   \n",
       "3707                                                                                                                                                                                                                                                                                                                                                                                                                                                                                                                                                                              None   \n",
       "4175                                                                                                                                                                                                                                                                                                                                                                                                                                        V titulcích je uváděno jméno scenáristy v podobě Alex Königsmark, jemuž je snímek věnován. Scénář byl vyvinut v rámci programu Scripteast.   \n",
       "\n",
       "                                          Žánr   \n",
       "494                                   osvětový  \\\n",
       "518                                    komedie   \n",
       "745                                    komedie   \n",
       "926                                      drama   \n",
       "3533                                  poetický   \n",
       "3614                                     drama   \n",
       "3624                    [drama, psychologický]   \n",
       "3652                                 povídkový   \n",
       "3707                                     drama   \n",
       "4175  [historický, psychologický, životopisný]   \n",
       "\n",
       "                                                                Zvukový   \n",
       "494                                                                němý  \\\n",
       "518   němý,                                                     zvukový   \n",
       "745   němý,                                                     zvukový   \n",
       "926                                                                None   \n",
       "3533                                                               None   \n",
       "3614                                                               None   \n",
       "3624                                                               None   \n",
       "3652                                                               None   \n",
       "3707                                                               None   \n",
       "4175                                                               None   \n",
       "\n",
       "                                                                                                                                                                                                                                                                                                                                                                                                                                                                                                                                                                                                                                                                                                                                                                                                                                                                                                                                                                                                                                      Anotace   \n",
       "494                                                                                                                                                                                                                                                                                                                                                                                                                                                                                                                                                                                                                                                                                                                                                                                                                                                                                                                                                                                                                                      None  \\\n",
       "518                                                                                                                                                                                      Humoristický román Karla Poláčka se od svého vydání těšil živému čtenářskému zájmu. Nápad přenést příběh o vášnivých fotbalových fanoušcích na filmové plátno se realizoval roce 1931 pod režijním vedením osvědčeného Svatopluka Innemanna. Úspěšný režisér němých snímků teprve zkoumal technické ošidnosti zvukového filmu, přesto však vznikla nestárnoucí komedie, která vdechla filmový život poláčkovským hrdinům i spisovatelovu humoru. V roli žižkovského obchodníka Načeradce, který oddanost „svému“ fotbalovému klubu S. K. Slavie staví vysoko nad své rodinné i pracovní povinnosti, exceluje Hugo Haas. Part Krejčího Habáska, který s dospělým synem Emanem fandí mužstvu S. K. Viktorie, připadl Jindřichu Plachtovi. O rok později natočil Gustav Machatý podle Poláčkovy předlohy komedii Načeradec, král kibiců, opět s Haasem.   \n",
       "745                                                                                                                                                                                                                                                                                                                                                                                                                                                                                                                                                                                                                                                                                                                                                                                                                                                                                                                                                                                                                                      None   \n",
       "926                                                                                                                                                                                                                                                                                                                                                                                                                                                                                                                                                                                                                                                                                                                                                                                                                                                                                                                                                                                                                                      None   \n",
       "3533  Neúnavný experimentátor Jan Němec se po krajní introspekci ve filmech Noční hovory s matkou (2002) a Krajina mého srdce (2004) zaměřil ve snímku Toyen (s podtitulem Střepiny snů. Ticho a tma) na osobnost přední české malířky (1902-1980), na její vztah s básníkem a výtvarníkem Jindřichem Heislerem (1914-1953), ale zejména na surrealismus, jenž se tak vlastně stává hlavním tématem. Tvůrce ovšem i zde uplatňuje vyhrocený subjektivní pohled, těžící mj. z řetězení asociací a z naprosto svobodného nakládání s filmovou látkou i materiálem. Scénář autorky námětu Terezy Brdečkové tak Jan Němec podřídil vlastním záměrům. Tradiční filmový příběh se vytrácí a nahrazují jej evokace a průniky do různých časových rovin i do různých „světů“. Základem je milostný poměr mezi Toyen a Heislerem, umocněný několika lety skrývání. Heisler jako Žid neodešel za okupace do transportu a ukrýval se od roku 1941 do konce války v žižkovské garsonce své přítelkyně. Klaustrofobické prostředí s neustálým strachem ...   \n",
       "3614  Kultovní kniha Jana Pelce ...a bude hůř se dočkala neméně kultovního stejnojmenného filmového přepisu. Scenárista a režisér Petr Nikolaev ovšem zpracoval pouze druhý díl, nazvaný Děti ráje, jenž ostatně vznikl jako první ze třech (zbývající Děti rodičů a Děti cest) a poprvé vyšel v rozsáhlé ukázce ve Svědectví v roce 1984. Kniha (vydaná nejdříve v roce 1985 v Kolíně nad Rýnem a až po roce 1989 v České republice), vzbudila velkou polemiku, jejíž součástí byl též „konflikt tří filozofů“ (Erazim Kohák, Ivan Jirous, Ivan Sviták), což jí ovšem nijak neubralo na čtenářském zájmu (prodalo se zatím 120 000 výtisků). Filmová adaptace vznikla za zcela jiných podmínek než předloha, avšak je vcelku přesným obrazem doby tuhé normalizace na přelomu sedmdesátých a osmdesátých let. Líčí úděl party „mániček“ z průmyslového severočeského města, jejichž touha po svobodném životě se pohříchu realizuje jen jako nekonečná řada hospodských pitek, mejdanů a souloží. Neschází samozřejmě politický kontext, ...   \n",
       "3624                                                                                                                                                                                                                                                                                                                                                                                                                                                                                                                                                                                                                                                                                                                                                                                                                                                                                                                                             Pásmo tvoří dva filmy studentů Filmové a televizní fakulty Akademie múzických umění v Praze.   \n",
       "3652  Celovečerní režijní debut scenáristky Olgy Dabrowské Kuličky je skromným nezávislým snímkem, složeným ze tří povídek a úvodního skeče. Autorka v něm podle vlastních slov zachycuje „obraz promarněného lidského života“, začínajícího dětskou hrou a končícího stářím a smrtí. Tématem je ženská sebeláska a manipulativnost. – V prologu nepustí po hře na svatbu „novomanželka“ Julinka čerstvě nabytého „novomanžela“ Péťu hrát si s ostatními dětmi. V další povídce žárlí vzpurná puberťačka na matku, svede jejího milence a pak ho vydíráním přiměje, aby nechal matku být, a má ji tak opět jen sama pro sebe. Následující epizoda vypráví o vdavekchtivé mondéně, která si vytipuje mladého kněze, a konečně poslední povídka líčí tíži až přílišné starostlivosti o partnera, jež je důsledkem vlastního sobectví a jež manželský vztah spíše naleptává, než ochraňuje. V generační stupnici však schází střední věk, zastoupený v náznaku jen bizarní dvojicí evangelického faráře a jeho ženy v podání Jana Buriana a E...   \n",
       "3707  Scenáristka a režisérka Laura Siváková (nar. 1973) na sebe upozornila svým „bergmanovským“ debutem Quartétto (2002), v němž rozkrývala traumatické vztahy mezi umírající matkou a třemi dospělými dcerami. I ve svém dalším psychologickém snímku Nebe, peklo... zem se zabývá obdobným tématem rodinných a milostných vazeb. – Dvaadvacetiletá baletka Klára má před sebou vidinu kariéry v prestižním zahraničním souboru. Náhle ji však začne pronásledovat smůla. Přistihne dlouholetého přítele in flagranti a vzápětí si poraní kotník. Nemůže se tedy nějakou dobu věnovat profesi, což jí poskytne čas k přemýšlení o vlastním životě. Ovlivní ji i setkání s padesátníkem Rudolfem, který ji požádá, aby dělala pečovatelku jeho třináctileté dceři Júlii. Stanou se z nich milenci, avšak muž později přijme zpět svou nevěrnou manželku. Kláru poznamená též pozdní těhotenství její matky a zejména tragická smrt milovaného bratra. Nakonec se mladá žena rozhodne pokračovat v baletu. – Režisérka vplétá do realistic...   \n",
       "4175  Historický životopisný snímek Julia Ševčíka s prostým názvem Masaryk zachycuje události ze tří let života Jana Masaryka (1886–1948), syna prezidenta Tomáše Garriguea Masaryka (1850–1937). Děj se odehrává v rozmezí let 1937–1939, ale koncentruje se zejména na události okolo uzavření Mnichovské dohody v září 1938. Odvíjí se ve dvou rovinách. V říjnu 1938 se Masaryk ocitá v psychiatrickém sanatoriu ve Vinelandu ve státě New Jersey. V rozhovorech s ředitelem ústavu, doktorem Steinem, který je německým emigrantem, uprchnuvším před Hitlerem, vzpomíná na nedávnou minulost, na smrt otce v roce 1937 a hlavně na bouřlivé dny konce září 1938, kdy působil jako československý velvyslanec v Londýně. Psychicky labilní muž trpící depresemi si trpce vyčítá, že zklamal a že zavinil okleštění a rozpad republiky. Rekapituluje rozhodující okamžiky z té doby, vybavuje si rozhovory s britskými politiky i telefonáty s Edvardem Benešem, jemuž má za zlé – právě tak jako sobě – že selhal. Nakonec se však s B...   \n",
       "\n",
       "                                                                                                                                                                                                                                                                                                                                                                                                                                                                                                                                                                                                                                                                                                                                                                                                                                                                                                                                                                                                                                        Obsah  \n",
       "494                                                                                                                                                                                                                                                                                                                                                                                                                                                                                                                                                                                                                                                                                                                                                                                                                                                                                                          O práci dvou hospodářů, z nichž jeden pracuje postaru, druhý moderními metodami. Používá umělá hnojiva superfosfátu a granozotu.  \n",
       "518                                                                                                                                                             Majitel obchodu s konfekcí, pan Richard Načeradec ze Žižkova, je nadšeným fandou S. K. Slavie a přes odpor své ženy chodí každou neděli na fotbal. Krejčí Emanuel Habásko žije osaměle s dospělým synem Emanem. Krejčího nekonečně uhání vdova Ouholičková, ale otec Habásko statečně odolává. Habáskové neuznávají jiný klub kromě S. K. Viktorie. Jednou na utkání Slavie - Viktorie se střetne Načeradec s Emanem. Jejich bouřlivou rozpravu ukončí až strážník a odsoudí oba k pořádkové pokutě. Eman, který je nezaměstnaný, nemá na pokutu peníze. Načeradec zaplatí i za něho a nabídne mu práci ve svém obchodě. V novém zaměstnání se Eman zamiluje do Emilky Šefelínové z Nuslí. Tuto známost chce otec Šefelín bez milosti ukončit. Ale oblíbí si otce Habáska pro jeho bodrou povahu. Proto může všechno skončit svatbou Emana s Emilkou v kostele svaté Ludmily.  \n",
       "745   Mladý synovec generálního ředitele porcelánky Jan Konvalinka zastupuje svého strýce, ale místo práce se věnuje ženám. Krásná neznámá žena, které není Konvalinkovo dvoření vhod, požádá solidně vyhlížejícího pána, aby se vydával za jejího manžela a odehnal tak dotěrného nápadníka. Zachráncem je malý úředník Popelka, který v Janovi pozná svého nadřízeného. Díky kráse své „manželky“ je Popelka povýšen. Skutečná paní Popelková, semetrika zcela ovládající svého manžela, se vrací z pohřbu příbuzného. S ní příjíždí dcera zemřelého, Eva, jejíž sňatek je podmínkou k rozdělení dědictví. Jan mezitím zjistí, že krásná neznámá je ženou jiného zaměstnance továrny a chce Popelku za „podvod“ propustit. V jeho bytě však potkává Evu, a tentokrát považuje za paní Popelkovou ji. Eva ho v omylu ponechá a přijímá jeho dvoření. Díky záměně dostává pravá paní Popelková od Jana krásnou kytici s láskyplným vzkazem. Věrna své povaze si na mladého muže „došlápne“ a Popelka je propuštěn. Eva však najde cestu, j...  \n",
       "926   Mladý zemědělský dělník Jan Aleš z pošumavské vesnice je povolán na vojnu. V novém prostředí se Janovi líbí a tak zůstává jako délesloužící. S úspěchem složí zkoušku na vojenskou akademii. Ve škole se nejvíc přátelí s kolegou Milanem Jurčíkem. Jan pilně studuje a Milan ho k vycházce do města musí přinutit. Seznámí se se dvěma dívkami a do jedné z nich - dcery továrníka Zdenky Jiříkovské - se Jan zamiluje. Dívka jeho cit opětuje, ale otec této známosti nepřeje. Nemá syna a byl by rád, aby se dcera provdala za někoho, kdo převezme v budoucnosti továrnu. Přicházejí vánoce a vojáci se rozjíždějí k rodinám. Jan je pozván k Jiříkovským. Milanův bratr Michal se má vrátit právě na Štědrý den z leteckých závodů v cizině. Marně však na něj čekají manželka s malým synkem, matka i bratr. Michal zahynul při havárii svého letadla. Jan požádá o propuštění z armády, aby se mohl oženit se Zdenkou. Když je vyhlášena mobilizace, Jan svou žádost ruší. Zdenka je na něho hrdá stejně jako budoucí tchán. ...  \n",
       "3533  První záběry vedou do Stockholmu a tamního Moderního muzea. – Oprýskaný rohový dům v Praze. Ženská silueta cvičí, jakoby „plave“. Toyen vstupuje v plavkách do vany a láká přihlížejícího k sobě. – Praha, Žižkov, Krásova ulice. Toyen ve své garsonce schovává Jindřicha Heislera, výtvarníka, básníka, filmaře. Mladík je židovského původu, ale odmítl nosit židovskou hvězdu a odejít do transportu. V posmrtně vydané knize Z kasemat spánku vzpomíná Heisler, jak spal u Toyen ve vaně. Podle ní vana tlumila vibrace, a tak je chránila před gestapáky, občas slídícími v domě. – Toyen náznakově maluje štětcem po Heislerově obličeji. – V rozhlasových relacích se mluví o náletech. – Do Prahy přijíždí říšský protektor Heydrich. – V Londýně byl vydán příkaz k atentátu na něj. – Milenci žijí v uzavřeném prostoru žižkovské garsonky. Pracují a milují se. – Dvojice očekává vpád gestapáků, pátrajících v domě; naštěstí nedojdou až do podkroví. – Zní střelba ze samopalu. Rádio přináší zprávy o atentátu na He...  \n",
       "3614  Vlasatý Olin se po roce, stráveném v blázinci kvůli pokusu o sebevraždu, vrací do severočeského průmyslového města. Jeho první kroky z nádraží vedou do hospody U Boučků, kde si dá ruma s hostinským Packou a kde ho přivítá celá parta v čele s kamarádem Špínou. – Opilého Olina odvede v noci jeho nejlepší přítelkyně Olina do kutlochu v kanále, ale jako obvykle odmítne se s ním vyspat. – Ráno si mladík dá prvního vajgla a vyrazí do hospody za Packou. Další noc přespí v parku s podivínským bezdomovcem Lesním mužem. Druhý den spolu vybírají popelnice a za stržené peníze si koupí lahváče. – Packa varuje Olina, že ho sháněli policajti, a pak je sám zavolá. Po kontrole občanek skončí mladík na Bezpečnosti. Když se ohání svými právy, mladý příslušník ho srazí k zemi. Zasáhne otcovský náčelník Adamec. Varuje Olina, aby si rychle našel práci, a konstatuje, že hledají Špínu a taky Olinu, která utekla z domu od své funkcionářské matky. – Olin a Špína kupodivu najdou práci jako metaři. Bodrý šéf ...  \n",
       "3624                                                                                                                                                                                                                                                                                                                                                                                                                                                                                                                                                                                                                                                                                                                                                                                                                                                                                                                                                                                                                                     None  \n",
       "3652                                                                                                                                                                                                                                                                                                                                                                                                                                                                                                                                                                                                                                                                                                                                                                                                                                                                                                                                                                                                                           Povídkový film  \n",
       "3707  Nahá dívka leží pod vodou na dně. – Po baletním tréninku osloví dvaadvacetiletou baletku Kláru šéf proslulého barcelonského baletu Rodriguez a nabídne jí šanci ve svém souboru. – Klára spěchá na letiště za milencem Tomášem, který přiletěl s kolegy z Dubaje. Ale ten ještě musí do firmy. – Dvojice se večer doma dobře baví. Dívka se zmíní o tom, že bude možná rok pryč. Pak se spolu pomilují. – Klára navštíví hypochondrickou matku, která si stále stěžuje na záletného otce. Zavolá Tomášovi, že tu přespí. – Brzy ráno chce překvapit milence snídaní, ale přistihne ho ve sprše s jeho kolegyní z práce. Ta jí řekne, že se s ní chce Tomáš stejně rozejít. Muž dá po Klářině odchodu nové milence facku. – Po tréninku, kde ji střídá její konkurentka Monika, přijde opilá Klára za bratrem Peterem a „pomůže“ mu s malováním bytu. Jeho manželka Oľga se na ně po příchodu z práce zlobí. Peter je už půl roku bez práce. – Vystřízlivělá dívka bloudí ulicemi. Přespí v hotelu. Ráno se vydá do bytu pro své věci...  \n",
       "4175  Podle skutečné události. - Vineland, New Jersey, říjen 1938. Dezorientovaný Jan Masaryk je odveden z cizího domu, v němž hrál na klavír českou hymnu a v němž ho přistihl majitel se zbraní v ruce. Z cely na policejní stanici mu pomůže dr. Stein, šéf zdejšího psychiatrického sanatoria, kde Masaryk na vlastní žádost skončí. Pobýval tu již v roce 1912, ale tehdejší lékař už zde nepracuje. Stein mu jasně naznačí, že tam nebude mít takovou svobodu jako kdysi. - Jan vzpomíná na minulost. Zúčastnil se velkého večírku, kde se pomiloval se zpěvačkou Madlou, zazpíval si s ní před publikem a šňupal  kokain. Ráno 13. září 1937 dorazil s kocovinou na Pražský hrad ke smrtelné posteli svého otce, Tomáše Garriguea Masaryka. Setká se tu s prezidentem Edvardem Benešem, s nímž mluví o situaci v Británii, kde je velvyslancem. Poslední otcova slova jej nabádají, aby vždy jednal podle svého, ale aby se také radil s Benešem. 14. září 1937 bývalý prezident zemře. - V sanatoriu vidí doktor Sheldon stát Masa...  "
      ]
     },
     "execution_count": 27,
     "metadata": {},
     "output_type": "execute_result"
    }
   ],
   "source": [
    "hcf[hcf[\"Zvukový\"] != \"zvukový\"].sort_values(by=\"Copyright\")[[\"Copyright\",\"Film\",\"Premiéra\",\"Poznámka\",\"Žánr\",\"Zvukový\",\"Anotace\",\"Obsah\"]].tail(10)"
   ]
  },
  {
   "cell_type": "code",
   "execution_count": 28,
   "id": "24cc04a3",
   "metadata": {},
   "outputs": [],
   "source": [
    "pd.options.display.max_colwidth = 100"
   ]
  },
  {
   "cell_type": "code",
   "execution_count": 29,
   "id": "237fd4f4",
   "metadata": {},
   "outputs": [],
   "source": [
    "neme_filmy = hcf[(hcf[\"Mluveno\"].str.contains(\"bez dial\",na=False))][\"Film\"].to_list()"
   ]
  },
  {
   "cell_type": "code",
   "execution_count": 30,
   "id": "a5f090f9",
   "metadata": {},
   "outputs": [
    {
     "data": {
      "text/plain": [
       "<AxesSubplot:xlabel='Copyright'>"
      ]
     },
     "execution_count": 30,
     "metadata": {},
     "output_type": "execute_result"
    },
    {
     "data": {
      "image/png": "[encoded data removed]",
      "text/plain": [
       "<Figure size 1440x360 with 1 Axes>"
      ]
     },
     "metadata": {
      "needs_background": "light"
     },
     "output_type": "display_data"
    }
   ],
   "source": [
    "pd.Series(hcf[~hcf[\"Film\"].isin(neme_filmy)].groupby(\"Copyright\")[\"Film\"].nunique() / hcf.groupby(\"Copyright\")[\"Film\"].nunique()).plot.bar(figsize=(20,5))"
   ]
  },
  {
   "cell_type": "markdown",
   "id": "9dd73f9d",
   "metadata": {},
   "source": [
    "## Nedochované filmy"
   ]
  },
  {
   "cell_type": "code",
   "execution_count": 31,
   "id": "79cc9304",
   "metadata": {},
   "outputs": [
    {
     "data": {
      "text/plain": [
       "0                          None\n",
       "4                   nedochovaný\n",
       "47     nedokončený, nedochovaný\n",
       "169                 nedokončený\n",
       "Name: Stav filmu, dtype: object"
      ]
     },
     "execution_count": 31,
     "metadata": {},
     "output_type": "execute_result"
    }
   ],
   "source": [
    "df[\"Stav filmu\"].drop_duplicates()"
   ]
  },
  {
   "cell_type": "code",
   "execution_count": 32,
   "id": "58f0622e",
   "metadata": {},
   "outputs": [
    {
     "data": {
      "text/plain": [
       "<AxesSubplot:xlabel='Copyright'>"
      ]
     },
     "execution_count": 32,
     "metadata": {},
     "output_type": "execute_result"
    },
    {
     "data": {
      "image/png": "[encoded data removed]",
      "text/plain": [
       "<Figure size 1440x360 with 1 Axes>"
      ]
     },
     "metadata": {
      "needs_background": "light"
     },
     "output_type": "display_data"
    }
   ],
   "source": [
    "(df[df[\"Stav filmu\"].str.lower().str.contains(\"nedocho\",na=False)].groupby(\"Copyright\")[\"Film\"].nunique() / df.groupby(\"Copyright\")[\"Film\"].nunique()).plot.bar(figsize=(20,5))"
   ]
  },
  {
   "cell_type": "code",
   "execution_count": 33,
   "id": "3a511a20",
   "metadata": {},
   "outputs": [],
   "source": [
    "nejobsazovanejsi_herci = df.explode(\"Hrají\").groupby(\"Hrají\")[\"Film\"].nunique().nlargest(50).to_list()"
   ]
  },
  {
   "cell_type": "code",
   "execution_count": 34,
   "id": "4f1cf87c",
   "metadata": {},
   "outputs": [],
   "source": [
    "nedochovane = df[df[\"Stav filmu\"].str.lower().str.contains(\"nedocho\",na=False)].explode(\"Hrají\")"
   ]
  },
  {
   "cell_type": "code",
   "execution_count": 35,
   "id": "c03709b5",
   "metadata": {},
   "outputs": [
    {
     "data": {
      "text/plain": [
       "Hrají\n",
       "Theodor Pištěk (37366)             33\n",
       "Jan W. Speerger (55928)            27\n",
       "Josef Šváb-Malostranský (55291)    22\n",
       "Karel Lamač (37847)                21\n",
       "Suzanne Marwille (127373)          17\n",
       "Karel Schleichert (83230)          15\n",
       "Alois Sedláček (126991)            13\n",
       "Josef Rovenský (37766)             13\n",
       "Luigi Hofman (125431)              13\n",
       "Saša Dobrovolná (127820)           13\n",
       "Name: Film, dtype: int64"
      ]
     },
     "execution_count": 35,
     "metadata": {},
     "output_type": "execute_result"
    }
   ],
   "source": [
    "nedochovane.groupby(\"Hrají\")[\"Film\"].nunique().nlargest(10)"
   ]
  },
  {
   "cell_type": "code",
   "execution_count": 36,
   "id": "10c7d75a",
   "metadata": {
    "scrolled": true
   },
   "outputs": [
    {
     "data": {
      "text/html": [
       "<div>\n",
       "<style scoped>\n",
       "    .dataframe tbody tr th:only-of-type {\n",
       "        vertical-align: middle;\n",
       "    }\n",
       "\n",
       "    .dataframe tbody tr th {\n",
       "        vertical-align: top;\n",
       "    }\n",
       "\n",
       "    .dataframe thead th {\n",
       "        text-align: right;\n",
       "    }\n",
       "</style>\n",
       "<table border=\"1\" class=\"dataframe\">\n",
       "  <thead>\n",
       "    <tr style=\"text-align: right;\">\n",
       "      <th></th>\n",
       "      <th>Film</th>\n",
       "      <th>Země původu</th>\n",
       "      <th>Copyright</th>\n",
       "      <th>Rok výroby</th>\n",
       "      <th>Premiéra</th>\n",
       "      <th>Minutáž</th>\n",
       "      <th>Režie</th>\n",
       "      <th>Kategorie</th>\n",
       "      <th>Žánr</th>\n",
       "      <th>Typologie</th>\n",
       "      <th>Originální název</th>\n",
       "      <th>Český název</th>\n",
       "      <th>Anglický název</th>\n",
       "      <th>Souběžný název</th>\n",
       "      <th>Pracovní název</th>\n",
       "      <th>Hrají</th>\n",
       "      <th>Postavy</th>\n",
       "      <th>Pomocná režie</th>\n",
       "      <th>Asistent režie</th>\n",
       "      <th>Původní filmový námět</th>\n",
       "      <th>Scénář</th>\n",
       "      <th>Dramaturg</th>\n",
       "      <th>Kamera</th>\n",
       "      <th>Asistent kamery</th>\n",
       "      <th>Architekt</th>\n",
       "      <th>Návrhy kostýmů</th>\n",
       "      <th>Masky</th>\n",
       "      <th>Střih</th>\n",
       "      <th>Zvuk</th>\n",
       "      <th>Producent</th>\n",
       "      <th>Vedoucí výroby</th>\n",
       "      <th>Zástupce vedoucího výroby</th>\n",
       "      <th>Odborný poradce</th>\n",
       "      <th>Hudba</th>\n",
       "      <th>Choreografie</th>\n",
       "      <th>Lokace</th>\n",
       "      <th>Distribuční slogan</th>\n",
       "      <th>Výrobce</th>\n",
       "      <th>S podporou</th>\n",
       "      <th>Nositelé copyrightu</th>\n",
       "      <th>Distribuce</th>\n",
       "      <th>Délka</th>\n",
       "      <th>Distribuční nosič</th>\n",
       "      <th>Poměr stran</th>\n",
       "      <th>Barva</th>\n",
       "      <th>Zvukový</th>\n",
       "      <th>Zvukový systém/formát</th>\n",
       "      <th>Verze</th>\n",
       "      <th>Mluveno</th>\n",
       "      <th>Podtitulky</th>\n",
       "      <th>Úvodní/závěrečné titulky</th>\n",
       "      <th>Anotace</th>\n",
       "      <th>Obsah</th>\n",
       "      <th>Technický scénář</th>\n",
       "      <th>Výtvarník</th>\n",
       "      <th>Animace</th>\n",
       "      <th>Triky</th>\n",
       "      <th>Postprodukce</th>\n",
       "      <th>Návrhy titulků</th>\n",
       "      <th>Pedagogické vedení</th>\n",
       "      <th>Použitá hudba</th>\n",
       "      <th>Studentský film</th>\n",
       "      <th>Původní metráž</th>\n",
       "      <th>Mezititulky</th>\n",
       "      <th>Ocenění</th>\n",
       "      <th>Poznámka</th>\n",
       "      <th>Mluví</th>\n",
       "      <th>Vizuální efekty</th>\n",
       "      <th>Vedoucí produkce</th>\n",
       "      <th>Předloha</th>\n",
       "      <th>Kaskadéři</th>\n",
       "      <th>Text písně</th>\n",
       "      <th>Zpívá</th>\n",
       "      <th>pásmo</th>\n",
       "      <th>Části</th>\n",
       "      <th>Produkce</th>\n",
       "      <th>Výtvarná spolupráce</th>\n",
       "      <th>Nahrál</th>\n",
       "      <th>Partner</th>\n",
       "      <th>Animační technika</th>\n",
       "      <th>Výprava</th>\n",
       "      <th>Spolupráce</th>\n",
       "      <th>Komentář</th>\n",
       "      <th>Autor komentáře</th>\n",
       "      <th>Druhá kamera</th>\n",
       "      <th>Zvláštní efekty</th>\n",
       "      <th>Koproducent</th>\n",
       "      <th>Výběr hudby</th>\n",
       "      <th>Hudební dramaturgie</th>\n",
       "      <th>Písně</th>\n",
       "      <th>Hudba, text a zpěv písně</th>\n",
       "      <th>Produkční data</th>\n",
       "      <th>Koordinátor kaskadérů</th>\n",
       "      <th>Výkonná produkce</th>\n",
       "      <th>Zástupce vedoucího produkce</th>\n",
       "      <th>Hudební režie</th>\n",
       "      <th>Účinkují</th>\n",
       "      <th>Dirigent</th>\n",
       "      <th>Ateliéry</th>\n",
       "      <th>Režie české verze</th>\n",
       "      <th>Výrobce české verze</th>\n",
       "      <th>Tančí</th>\n",
       "      <th>České podtitulky</th>\n",
       "      <th>Výrobce českých podtitulků</th>\n",
       "      <th>Asistent vedoucího produkce</th>\n",
       "      <th>Natáčecí formát</th>\n",
       "      <th>Dialogy české verze</th>\n",
       "      <th>Autor projektu</th>\n",
       "      <th>Stav filmu</th>\n",
       "      <th>Souběžný anglický název</th>\n",
       "      <th>Assistent architekta</th>\n",
       "      <th>Asistent zvuku</th>\n",
       "      <th>Podnázev</th>\n",
       "      <th>Asistent vedoucího výroby</th>\n",
       "      <th>Skript</th>\n",
       "      <th>Kostýmy</th>\n",
       "      <th>Asistent střihu</th>\n",
       "      <th>povídkový film</th>\n",
       "      <th>Povídky</th>\n",
       "      <th>Hudba k písni</th>\n",
       "      <th>Prodej práv</th>\n",
       "      <th>Podnázev anglický</th>\n",
       "      <th>Výtvarník pozadí</th>\n",
       "      <th>Výrobní skupina</th>\n",
       "      <th>Zákazník</th>\n",
       "      <th>Vývozní společnost</th>\n",
       "      <th>Umělecké vedení</th>\n",
       "      <th>Zpěv role</th>\n",
       "      <th>Překlad české verze</th>\n",
       "      <th>Rychlost</th>\n",
       "      <th>Přístupnost</th>\n",
       "      <th>cyklus</th>\n",
       "      <th>Začátek výroby</th>\n",
       "      <th>Konec výroby</th>\n",
       "    </tr>\n",
       "  </thead>\n",
       "  <tbody>\n",
       "    <tr>\n",
       "      <th>255</th>\n",
       "      <td>Tu ten kámen (395326)</td>\n",
       "      <td>Československo</td>\n",
       "      <td>1923</td>\n",
       "      <td>1923</td>\n",
       "      <td>premiéra 7. 9. 1923 /nepřístupný mládeži/ (kina Hvězda a Minuta, Praha)</td>\n",
       "      <td>64.0</td>\n",
       "      <td>[Karel Anton (37987)]</td>\n",
       "      <td>film</td>\n",
       "      <td>komedie</td>\n",
       "      <td>[hraný, distribuční]</td>\n",
       "      <td>Tu ten kámen</td>\n",
       "      <td>Tu ten kámen</td>\n",
       "      <td>Tutankhamen</td>\n",
       "      <td>Kterak láskou možno v mžiku vzplanout třeba k nebožtíku</td>\n",
       "      <td>None</td>\n",
       "      <td>Vlasta Burian (11992)</td>\n",
       "      <td>[Fridolín, egyptolog Rapapides Bulva, starosta v Zelené Lhotě, sýrař, darmošlap/nepravý egyptolo...</td>\n",
       "      <td>None</td>\n",
       "      <td>None</td>\n",
       "      <td>[Karel Anton (37987)]</td>\n",
       "      <td>[Karel Anton (37987)]</td>\n",
       "      <td>None</td>\n",
       "      <td>[Otto Heller (127281)]</td>\n",
       "      <td>None</td>\n",
       "      <td>[Bohuslav Šula (127389), František Poneš (127988)]</td>\n",
       "      <td>None</td>\n",
       "      <td>None</td>\n",
       "      <td>None</td>\n",
       "      <td>None</td>\n",
       "      <td>None</td>\n",
       "      <td>None</td>\n",
       "      <td>None</td>\n",
       "      <td>None</td>\n",
       "      <td>None</td>\n",
       "      <td>None</td>\n",
       "      <td>[]</td>\n",
       "      <td>Nejrozpustilejší česká veselohra. V hlavních úlohách: Anny Ondráková, Vlasta Burian, Ferenc Futu...</td>\n",
       "      <td>[Anton (127987)]</td>\n",
       "      <td>None</td>\n",
       "      <td>[Národní filmový archiv (92324)]</td>\n",
       "      <td>[Julius Schmitt (127299)]</td>\n",
       "      <td>dlouhometrážní</td>\n",
       "      <td>35mm</td>\n",
       "      <td>1.33</td>\n",
       "      <td>černobílý</td>\n",
       "      <td>němý</td>\n",
       "      <td>None</td>\n",
       "      <td>česká</td>\n",
       "      <td>bez dialogů</td>\n",
       "      <td>bez titulků</td>\n",
       "      <td>české</td>\n",
       "      <td>None</td>\n",
       "      <td>Hrdinou příběhu je mladý sličný asistent slavného egyptologa. Miluje jeho dceru Aenny a jeho lás...</td>\n",
       "      <td>None</td>\n",
       "      <td>None</td>\n",
       "      <td>None</td>\n",
       "      <td>None</td>\n",
       "      <td>None</td>\n",
       "      <td>None</td>\n",
       "      <td>None</td>\n",
       "      <td>None</td>\n",
       "      <td>None</td>\n",
       "      <td>1800.0</td>\n",
       "      <td>české</td>\n",
       "      <td>None</td>\n",
       "      <td>První filmová role Vlasty Buriana. Filmové materiály jsou pokládány za ztracené.</td>\n",
       "      <td>None</td>\n",
       "      <td>None</td>\n",
       "      <td>None</td>\n",
       "      <td>None</td>\n",
       "      <td>None</td>\n",
       "      <td>None</td>\n",
       "      <td>None</td>\n",
       "      <td>None</td>\n",
       "      <td>None</td>\n",
       "      <td>None</td>\n",
       "      <td>None</td>\n",
       "      <td>None</td>\n",
       "      <td>None</td>\n",
       "      <td>None</td>\n",
       "      <td>None</td>\n",
       "      <td>[Jaroslav Balzar (124087), Jaroslav Balzar]</td>\n",
       "      <td>None</td>\n",
       "      <td>None</td>\n",
       "      <td>None</td>\n",
       "      <td>None</td>\n",
       "      <td>None</td>\n",
       "      <td>None</td>\n",
       "      <td>None</td>\n",
       "      <td>None</td>\n",
       "      <td>None</td>\n",
       "      <td>None</td>\n",
       "      <td>None</td>\n",
       "      <td>None</td>\n",
       "      <td>None</td>\n",
       "      <td>None</td>\n",
       "      <td>None</td>\n",
       "      <td>None</td>\n",
       "      <td>AB Vinohrady</td>\n",
       "      <td>None</td>\n",
       "      <td>None</td>\n",
       "      <td>None</td>\n",
       "      <td>None</td>\n",
       "      <td>None</td>\n",
       "      <td>None</td>\n",
       "      <td>None</td>\n",
       "      <td>None</td>\n",
       "      <td>None</td>\n",
       "      <td>nedochovaný</td>\n",
       "      <td>How Love Can Flame in an Instant, Even for the Dead</td>\n",
       "      <td>None</td>\n",
       "      <td>None</td>\n",
       "      <td>None</td>\n",
       "      <td>None</td>\n",
       "      <td>None</td>\n",
       "      <td>None</td>\n",
       "      <td>None</td>\n",
       "      <td>None</td>\n",
       "      <td>None</td>\n",
       "      <td>None</td>\n",
       "      <td>None</td>\n",
       "      <td>None</td>\n",
       "      <td>None</td>\n",
       "      <td>None</td>\n",
       "      <td>None</td>\n",
       "      <td>None</td>\n",
       "      <td>None</td>\n",
       "      <td>None</td>\n",
       "      <td>None</td>\n",
       "      <td>None</td>\n",
       "      <td>None</td>\n",
       "      <td>None</td>\n",
       "      <td>1923</td>\n",
       "      <td>1923</td>\n",
       "    </tr>\n",
       "  </tbody>\n",
       "</table>\n",
       "</div>"
      ],
      "text/plain": [
       "                      Film     Země původu  Copyright Rok výroby   \n",
       "255  Tu ten kámen (395326)  Československo       1923       1923  \\\n",
       "\n",
       "                                                                    Premiéra   \n",
       "255  premiéra 7. 9. 1923 /nepřístupný mládeži/ (kina Hvězda a Minuta, Praha)  \\\n",
       "\n",
       "     Minutáž                  Režie Kategorie     Žánr             Typologie   \n",
       "255     64.0  [Karel Anton (37987)]      film  komedie  [hraný, distribuční]  \\\n",
       "\n",
       "    Originální název   Český název Anglický název   \n",
       "255     Tu ten kámen  Tu ten kámen    Tutankhamen  \\\n",
       "\n",
       "                                              Souběžný název Pracovní název   \n",
       "255  Kterak láskou možno v mžiku vzplanout třeba k nebožtíku           None  \\\n",
       "\n",
       "                     Hrají   \n",
       "255  Vlasta Burian (11992)  \\\n",
       "\n",
       "                                                                                                 Postavy   \n",
       "255  [Fridolín, egyptolog Rapapides Bulva, starosta v Zelené Lhotě, sýrař, darmošlap/nepravý egyptolo...  \\\n",
       "\n",
       "    Pomocná režie Asistent režie  Původní filmový námět   \n",
       "255          None           None  [Karel Anton (37987)]  \\\n",
       "\n",
       "                    Scénář Dramaturg                  Kamera Asistent kamery   \n",
       "255  [Karel Anton (37987)]      None  [Otto Heller (127281)]            None  \\\n",
       "\n",
       "                                              Architekt Návrhy kostýmů Masky   \n",
       "255  [Bohuslav Šula (127389), František Poneš (127988)]           None  None  \\\n",
       "\n",
       "    Střih  Zvuk Producent Vedoucí výroby Zástupce vedoucího výroby   \n",
       "255  None  None      None           None                      None  \\\n",
       "\n",
       "    Odborný poradce Hudba Choreografie Lokace   \n",
       "255            None  None         None     []  \\\n",
       "\n",
       "                                                                                      Distribuční slogan   \n",
       "255  Nejrozpustilejší česká veselohra. V hlavních úlohách: Anny Ondráková, Vlasta Burian, Ferenc Futu...  \\\n",
       "\n",
       "              Výrobce S podporou               Nositelé copyrightu   \n",
       "255  [Anton (127987)]       None  [Národní filmový archiv (92324)]  \\\n",
       "\n",
       "                    Distribuce           Délka Distribuční nosič Poměr stran   \n",
       "255  [Julius Schmitt (127299)]  dlouhometrážní              35mm        1.33  \\\n",
       "\n",
       "         Barva Zvukový Zvukový systém/formát  Verze      Mluveno   Podtitulky   \n",
       "255  černobílý    němý                  None  česká  bez dialogů  bez titulků  \\\n",
       "\n",
       "    Úvodní/závěrečné titulky Anotace   \n",
       "255                    české    None  \\\n",
       "\n",
       "                                                                                                   Obsah   \n",
       "255  Hrdinou příběhu je mladý sličný asistent slavného egyptologa. Miluje jeho dceru Aenny a jeho lás...  \\\n",
       "\n",
       "    Technický scénář Výtvarník Animace Triky Postprodukce Návrhy titulků   \n",
       "255             None      None    None  None         None           None  \\\n",
       "\n",
       "    Pedagogické vedení Použitá hudba Studentský film  Původní metráž   \n",
       "255               None          None            None          1800.0  \\\n",
       "\n",
       "    Mezititulky Ocenění   \n",
       "255       české    None  \\\n",
       "\n",
       "                                                                             Poznámka   \n",
       "255  První filmová role Vlasty Buriana. Filmové materiály jsou pokládány za ztracené.  \\\n",
       "\n",
       "    Mluví Vizuální efekty Vedoucí produkce Předloha Kaskadéři Text písně   \n",
       "255  None            None             None     None      None       None  \\\n",
       "\n",
       "    Zpívá pásmo Části Produkce Výtvarná spolupráce Nahrál Partner   \n",
       "255  None  None  None     None                None   None    None  \\\n",
       "\n",
       "    Animační technika Výprava                                   Spolupráce   \n",
       "255              None    None  [Jaroslav Balzar (124087), Jaroslav Balzar]  \\\n",
       "\n",
       "    Komentář Autor komentáře Druhá kamera Zvláštní efekty Koproducent   \n",
       "255     None            None         None            None        None  \\\n",
       "\n",
       "    Výběr hudby Hudební dramaturgie Písně Hudba, text a zpěv písně   \n",
       "255        None                None  None                     None  \\\n",
       "\n",
       "    Produkční data Koordinátor kaskadérů Výkonná produkce   \n",
       "255           None                  None             None  \\\n",
       "\n",
       "    Zástupce vedoucího produkce Hudební režie Účinkují Dirigent      Ateliéry   \n",
       "255                        None          None     None     None  AB Vinohrady  \\\n",
       "\n",
       "    Režie české verze Výrobce české verze Tančí České podtitulky   \n",
       "255              None                None  None             None  \\\n",
       "\n",
       "    Výrobce českých podtitulků Asistent vedoucího produkce Natáčecí formát   \n",
       "255                       None                        None            None  \\\n",
       "\n",
       "    Dialogy české verze Autor projektu   Stav filmu   \n",
       "255                None           None  nedochovaný  \\\n",
       "\n",
       "                                 Souběžný anglický název Assistent architekta   \n",
       "255  How Love Can Flame in an Instant, Even for the Dead                 None  \\\n",
       "\n",
       "    Asistent zvuku Podnázev Asistent vedoucího výroby Skript Kostýmy   \n",
       "255           None     None                      None   None    None  \\\n",
       "\n",
       "    Asistent střihu povídkový film Povídky Hudba k písni Prodej práv   \n",
       "255            None           None    None          None        None  \\\n",
       "\n",
       "    Podnázev anglický Výtvarník pozadí Výrobní skupina Zákazník   \n",
       "255              None             None            None     None  \\\n",
       "\n",
       "    Vývozní společnost Umělecké vedení Zpěv role Překlad české verze Rychlost   \n",
       "255               None            None      None                None     None  \\\n",
       "\n",
       "    Přístupnost cyklus  Začátek výroby  Konec výroby  \n",
       "255        None   None            1923          1923  "
      ]
     },
     "execution_count": 36,
     "metadata": {},
     "output_type": "execute_result"
    }
   ],
   "source": [
    "nedochovane[nedochovane[\"Hrají\"] == \"Vlasta Burian (11992)\"]"
   ]
  },
  {
   "cell_type": "code",
   "execution_count": 37,
   "id": "03de3cd1",
   "metadata": {},
   "outputs": [
    {
     "data": {
      "text/plain": [
       "Film\n",
       "Pytagorejci (396963)             1973\n",
       "A v tom zámku... (400451)        1970\n",
       "Anně K. je zima (400452)         1970\n",
       "Hippokratova přísaha (400450)    1970\n",
       "Návštěvy (400449)                1970\n",
       "Vzorný fízl (401944)             1955\n",
       "Jenom krok (396005)              1945\n",
       "Pošťácká pohádka (398617)        1945\n",
       "Z růže kvítek (396004)           1945\n",
       "Předtucha (395984)               1944\n",
       "Name: Copyright, dtype: int64"
      ]
     },
     "execution_count": 37,
     "metadata": {},
     "output_type": "execute_result"
    }
   ],
   "source": [
    "nedochovane.groupby(\"Film\")[\"Copyright\"].max().nlargest(10)"
   ]
  },
  {
   "cell_type": "code",
   "execution_count": 38,
   "id": "b9e442d8",
   "metadata": {},
   "outputs": [
    {
     "data": {
      "text/plain": [
       "Film\n",
       "Jenom krok (396005)                 1945\n",
       "Z růže kvítek (396004)              1945\n",
       "Předtucha (395984)                  1944\n",
       "Královna stříbrných hor (395855)    1939\n",
       "Cikánská láska (395810)             1938\n",
       "Pan otec Karafiát (395673)          1935\n",
       "Polibek ve sněhu (395672)           1935\n",
       "Vězeň na Bezdězi (395556)           1932\n",
       "Aféra plukovníka Redla (395528)     1931\n",
       "Svět bez hranic (395527)            1931\n",
       "Name: Copyright, dtype: int64"
      ]
     },
     "execution_count": 38,
     "metadata": {},
     "output_type": "execute_result"
    }
   ],
   "source": [
    "nedochovane[nedochovane[\"Délka\"] == \"dlouhometrážní\"].groupby(\"Film\")[\"Copyright\"].max().nlargest(10)"
   ]
  },
  {
   "cell_type": "markdown",
   "id": "6dbebad6",
   "metadata": {},
   "source": [
    "## Obsahy"
   ]
  },
  {
   "cell_type": "code",
   "execution_count": 39,
   "id": "40fd5f4b",
   "metadata": {},
   "outputs": [],
   "source": [
    "hcf[\"Délka obsahu\"] = hcf[\"Obsah\"].apply(lambda x: len(x) if x else 0)"
   ]
  },
  {
   "cell_type": "code",
   "execution_count": 40,
   "id": "297ca842",
   "metadata": {},
   "outputs": [
    {
     "data": {
      "text/plain": [
       "<AxesSubplot:xlabel='Copyright'>"
      ]
     },
     "execution_count": 40,
     "metadata": {},
     "output_type": "execute_result"
    },
    {
     "data": {
      "image/png": "[encoded data removed]",
      "text/plain": [
       "<Figure size 1440x360 with 1 Axes>"
      ]
     },
     "metadata": {
      "needs_background": "light"
     },
     "output_type": "display_data"
    }
   ],
   "source": [
    "hcf.groupby(\"Copyright\")[\"Délka obsahu\"].median().plot.bar(figsize=(20,5))"
   ]
  },
  {
   "cell_type": "markdown",
   "id": "5cd1de9c",
   "metadata": {},
   "source": [
    "Metodologický problém: porevoluční obsahy jsou delští, tzn. detailnější. Pomůžeme si prosekáním: necháme začátek, prostředek a konec."
   ]
  },
  {
   "cell_type": "code",
   "execution_count": 41,
   "id": "fe0f85b8",
   "metadata": {},
   "outputs": [
    {
     "data": {
      "text/plain": [
       "1240.1590005678593"
      ]
     },
     "execution_count": 41,
     "metadata": {},
     "output_type": "execute_result"
    }
   ],
   "source": [
    "hcf[hcf[\"Copyright\"] <= 1992][\"Délka obsahu\"].mean()"
   ]
  },
  {
   "cell_type": "code",
   "execution_count": 42,
   "id": "55301522",
   "metadata": {},
   "outputs": [],
   "source": [
    "def zkrat_obsah(obsah):\n",
    "    if not obsah:\n",
    "        pass\n",
    "    elif len(obsah) < 1000:\n",
    "        pass\n",
    "    else:\n",
    "        zacatek = obsah[0:333]\n",
    "        konec = obsah[-333:]\n",
    "        prostredek = len(obsah)\n",
    "        prostredek = obsah[prostredek-166:prostredek+166]\n",
    "        obsah = f\"{zacatek} {prostredek} {konec}\"\n",
    "    return(obsah)"
   ]
  },
  {
   "cell_type": "code",
   "execution_count": 43,
   "id": "aefe3afb",
   "metadata": {},
   "outputs": [],
   "source": [
    "hcf[\"Obsah1k\"] = hcf[\"Obsah\"].apply(lambda x: zkrat_obsah(x))"
   ]
  },
  {
   "cell_type": "code",
   "execution_count": 44,
   "id": "5574d730",
   "metadata": {},
   "outputs": [],
   "source": [
    "hcf[\"Obsah1k délka\"] = hcf[\"Obsah1k\"].apply(lambda x: len(x) if x else 0)"
   ]
  },
  {
   "cell_type": "code",
   "execution_count": 45,
   "id": "357762c6",
   "metadata": {},
   "outputs": [
    {
     "data": {
      "text/plain": [
       "<AxesSubplot:xlabel='Copyright'>"
      ]
     },
     "execution_count": 45,
     "metadata": {},
     "output_type": "execute_result"
    },
    {
     "data": {
      "image/png": "[encoded data removed]",
      "text/plain": [
       "<Figure size 1440x360 with 1 Axes>"
      ]
     },
     "metadata": {
      "needs_background": "light"
     },
     "output_type": "display_data"
    }
   ],
   "source": [
    "hcf.groupby(\"Copyright\")[\"Obsah1k délka\"].mean().plot.bar(figsize=(20,5))"
   ]
  },
  {
   "cell_type": "code",
   "execution_count": 46,
   "id": "635762cc",
   "metadata": {},
   "outputs": [
    {
     "data": {
      "text/plain": [
       "<AxesSubplot:xlabel='Copyright'>"
      ]
     },
     "execution_count": 46,
     "metadata": {},
     "output_type": "execute_result"
    },
    {
     "data": {
      "image/png": "[encoded data removed]",
      "text/plain": [
       "<Figure size 1440x360 with 1 Axes>"
      ]
     },
     "metadata": {
      "needs_background": "light"
     },
     "output_type": "display_data"
    }
   ],
   "source": [
    "hcf.groupby(\"Copyright\")[\"Obsah1k délka\"].median().plot.bar(figsize=(20,5))"
   ]
  },
  {
   "cell_type": "code",
   "execution_count": 47,
   "id": "667e7601",
   "metadata": {},
   "outputs": [],
   "source": [
    "def jak_casto (slovo):\n",
    "    df_pracovni = hcf[[\"Copyright\",\"Film\",\"Obsah1k\",\"Minutáž\"]]\n",
    "    cetnost = df_pracovni[df_pracovni[\"Obsah1k\"].str.lower().str.contains(slovo,regex=True,na=False)].groupby(\"Copyright\")[\"Film\"].nunique() / df_pracovni.groupby(\"Copyright\")[\"Film\"].nunique()\n",
    "    cetnost.plot.bar(figsize=(20,5))\n",
    "    return(cetnost)"
   ]
  },
  {
   "cell_type": "markdown",
   "id": "db08e230",
   "metadata": {},
   "source": [
    "Nejdřív zkusíme \"když\" – zjistíme tak, jestli někde něco nechybí."
   ]
  },
  {
   "cell_type": "code",
   "execution_count": 48,
   "id": "59d96b31",
   "metadata": {},
   "outputs": [
    {
     "data": {
      "text/plain": [
       "Copyright\n",
       "1920    0.125000\n",
       "1921    0.666667\n",
       "1922    0.428571\n",
       "1923    0.307692\n",
       "1924    0.375000\n",
       "          ...   \n",
       "2018    0.189189\n",
       "2019    0.394737\n",
       "2020    0.100000\n",
       "2021    0.227273\n",
       "2022         NaN\n",
       "Name: Film, Length: 103, dtype: float64"
      ]
     },
     "execution_count": 48,
     "metadata": {},
     "output_type": "execute_result"
    },
    {
     "data": {
      "image/png": "[encoded data removed]",
      "text/plain": [
       "<Figure size 1440x360 with 1 Axes>"
      ]
     },
     "metadata": {
      "needs_background": "light"
     },
     "output_type": "display_data"
    }
   ],
   "source": [
    "jak_casto(\"když\")"
   ]
  },
  {
   "cell_type": "markdown",
   "id": "acc9952a",
   "metadata": {},
   "source": [
    "Hurá, nechybí!"
   ]
  },
  {
   "cell_type": "code",
   "execution_count": 49,
   "id": "d29097b0",
   "metadata": {},
   "outputs": [
    {
     "name": "stderr",
     "output_type": "stream",
     "text": [
      "C:\\Users\\micha\\AppData\\Local\\Temp\\ipykernel_22632\\1085284462.py:3: UserWarning: This pattern is interpreted as a regular expression, and has match groups. To actually get the groups, use str.extract.\n",
      "  cetnost = df_pracovni[df_pracovni[\"Obsah1k\"].str.lower().str.contains(slovo,regex=True,na=False)].groupby(\"Copyright\")[\"Film\"].nunique() / df_pracovni.groupby(\"Copyright\")[\"Film\"].nunique()\n"
     ]
    },
    {
     "data": {
      "text/plain": [
       "Copyright\n",
       "1920    0.125000\n",
       "1921    0.222222\n",
       "1922    0.095238\n",
       "1923    0.307692\n",
       "1924    0.250000\n",
       "          ...   \n",
       "2018    0.027027\n",
       "2019    0.052632\n",
       "2020    0.100000\n",
       "2021         NaN\n",
       "2022         NaN\n",
       "Name: Film, Length: 103, dtype: float64"
      ]
     },
     "execution_count": 49,
     "metadata": {},
     "output_type": "execute_result"
    },
    {
     "data": {
      "image/png": "[encoded data removed]",
      "text/plain": [
       "<Figure size 1440x360 with 1 Axes>"
      ]
     },
     "metadata": {
      "needs_background": "light"
     },
     "output_type": "display_data"
    }
   ],
   "source": [
    "jak_casto(\"(milenk|milence|milenec|poměr[^\\w]|nemanželsk)\")"
   ]
  },
  {
   "cell_type": "code",
   "execution_count": 50,
   "id": "8153dc09",
   "metadata": {},
   "outputs": [
    {
     "name": "stderr",
     "output_type": "stream",
     "text": [
      "C:\\Users\\micha\\AppData\\Local\\Temp\\ipykernel_22632\\1085284462.py:3: UserWarning: This pattern is interpreted as a regular expression, and has match groups. To actually get the groups, use str.extract.\n",
      "  cetnost = df_pracovni[df_pracovni[\"Obsah1k\"].str.lower().str.contains(slovo,regex=True,na=False)].groupby(\"Copyright\")[\"Film\"].nunique() / df_pracovni.groupby(\"Copyright\")[\"Film\"].nunique()\n"
     ]
    },
    {
     "data": {
      "text/plain": [
       "Copyright\n",
       "1920   NaN\n",
       "1921   NaN\n",
       "1922   NaN\n",
       "1923   NaN\n",
       "1924   NaN\n",
       "        ..\n",
       "2018   NaN\n",
       "2019   NaN\n",
       "2020   NaN\n",
       "2021   NaN\n",
       "2022   NaN\n",
       "Name: Film, Length: 103, dtype: float64"
      ]
     },
     "execution_count": 50,
     "metadata": {},
     "output_type": "execute_result"
    },
    {
     "data": {
      "image/png": "[encoded data removed]",
      "text/plain": [
       "<Figure size 1440x360 with 1 Axes>"
      ]
     },
     "metadata": {
      "needs_background": "light"
     },
     "output_type": "display_data"
    }
   ],
   "source": [
    "jak_casto(\"(komunis|KSČ)\")"
   ]
  },
  {
   "cell_type": "markdown",
   "id": "7f162880",
   "metadata": {},
   "source": [
    "## Komu patří český film?"
   ]
  },
  {
   "cell_type": "code",
   "execution_count": 51,
   "id": "58056d32",
   "metadata": {},
   "outputs": [
    {
     "data": {
      "text/plain": [
       "Nositelé copyrightu\n",
       "Národní filmový archiv (92324)                                          1946\n",
       "Státní fond kinematografie (124966)                                      918\n",
       "ČESKÁ TELEVIZE (92472)                                                   493\n",
       "Filmová a televizní fakulta Akademie múzických umění v Praze (92300)      84\n",
       "Rozhlas a televízia Slovenska (123177)                                    67\n",
       "NEGATIV s.r.o. (92586)                                                    51\n",
       "KRÁTKÝ FILM PRAHA a. s. [od 1991] (92610)                                 35\n",
       "Universal Production Partners, a.s. (92762)                               33\n",
       "i/o post s.r.o. (101238)                                                  31\n",
       "Bionaut s.r.o. (100839)                                                   28\n",
       "innogy Česká republika a.s. (102179)                                      27\n",
       "CINEART TV Prague s.r.o. (92896)                                          25\n",
       "endorfilm s.r.o. (99496)                                                  25\n",
       "IN Film Praha spol. s r.o. (92591)                                        24\n",
       "Barrandov Studio a.s. (92704)                                             23\n",
       "Filmová a televizní společnost Total HelpArt T.H.A., s.r.o. (92497)       22\n",
       "HBO Europe s.r.o. (93721)                                                 22\n",
       "Slovenská televízia (94758)                                               19\n",
       "BIO ILLUSION s.r.o. (98437)                                               18\n",
       "PubRes s.r.o. (117156)                                                    18\n",
       "Soundsquare, a.s. (100417)                                                18\n",
       "Studio FAMU (96299)                                                       18\n",
       "PRODUKCE RADIM PROCHÁZKA s.r.o. (102321)                                  17\n",
       "Cinemart, a.s. (92567)                                                    16\n",
       "Hypermarket Film s.r.o. (100039)                                          16\n",
       "Evolution Films, s.r.o. (102317)                                          15\n",
       "Punkchart films s. r. o. (123426)                                         15\n",
       "Univerzita Tomáše Bati ve Zlíně (93998)                                   14\n",
       "Magiclab s.r.o. (124040)                                                  13\n",
       "INFINITY PRAGUE Ltd, a.s. (102186)                                        12\n",
       "Name: Film, dtype: int64"
      ]
     },
     "execution_count": 51,
     "metadata": {},
     "output_type": "execute_result"
    }
   ],
   "source": [
    "df.explode(\"Nositelé copyrightu\").groupby(\"Nositelé copyrightu\")[\"Film\"].nunique().nlargest(30)"
   ]
  }
 ],
 "metadata": {
  "kernelspec": {
   "display_name": "Python 3 (ipykernel)",
   "language": "python",
   "name": "python3"
  },
  "language_info": {
   "codemirror_mode": {
    "name": "ipython",
    "version": 3
   },
   "file_extension": ".py",
   "mimetype": "text/x-python",
   "name": "python",
   "nbconvert_exporter": "python",
   "pygments_lexer": "ipython3",
   "version": "3.10.8"
  }
 },
 "nbformat": 4,
 "nbformat_minor": 5
}
