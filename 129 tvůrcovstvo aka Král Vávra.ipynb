{
 "cells": [
  {
   "cell_type": "code",
   "execution_count": 3,
   "id": "e9b0c5af",
   "metadata": {},
   "outputs": [],
   "source": [
    "import os\n",
    "import pandas as pd\n",
    "pd.set_option('display.max_columns', None)\n",
    "df = pd.read_json(os.path.join(\"data\", \"filmy.json\"))"
   ]
  },
  {
   "cell_type": "code",
   "execution_count": 4,
   "id": "75d2b403",
   "metadata": {},
   "outputs": [
    {
     "data": {
      "text/plain": [
       "['Film',\n",
       " 'Země původu',\n",
       " 'Copyright',\n",
       " 'Rok výroby',\n",
       " 'Premiéra',\n",
       " 'Minutáž',\n",
       " 'Režie',\n",
       " 'Kategorie',\n",
       " 'Žánr',\n",
       " 'Typologie',\n",
       " 'Originální název',\n",
       " 'Český název',\n",
       " 'Anglický název',\n",
       " 'Souběžný název',\n",
       " 'Pracovní název',\n",
       " 'Hrají',\n",
       " 'Postavy',\n",
       " 'Pomocná režie',\n",
       " 'Asistent režie',\n",
       " 'Původní filmový námět',\n",
       " 'Scénář',\n",
       " 'Dramaturg',\n",
       " 'Kamera',\n",
       " 'Asistent kamery',\n",
       " 'Architekt',\n",
       " 'Návrhy kostýmů',\n",
       " 'Masky',\n",
       " 'Střih',\n",
       " 'Zvuk',\n",
       " 'Producent',\n",
       " 'Vedoucí výroby',\n",
       " 'Zástupce vedoucího výroby',\n",
       " 'Odborný poradce',\n",
       " 'Hudba',\n",
       " 'Choreografie',\n",
       " 'Lokace',\n",
       " 'Distribuční slogan',\n",
       " 'Výrobce',\n",
       " 'S podporou',\n",
       " 'Nositelé copyrightu',\n",
       " 'Distribuce',\n",
       " 'Délka',\n",
       " 'Distribuční nosič',\n",
       " 'Poměr stran',\n",
       " 'Barva',\n",
       " 'Zvukový systém/formát',\n",
       " 'Verze',\n",
       " 'Mluveno',\n",
       " 'Podtitulky',\n",
       " 'Úvodní/závěrečné titulky',\n",
       " 'Anotace',\n",
       " 'Obsah',\n",
       " 'Technický scénář',\n",
       " 'Výtvarník',\n",
       " 'Animace',\n",
       " 'Triky',\n",
       " 'Postprodukce',\n",
       " 'Návrhy titulků',\n",
       " 'Pedagogické vedení',\n",
       " 'Použitá hudba',\n",
       " 'Studentský film',\n",
       " 'Původní metráž',\n",
       " 'Mezititulky',\n",
       " 'Ocenění',\n",
       " 'Poznámka',\n",
       " 'Mluví',\n",
       " 'Vizuální efekty',\n",
       " 'Vedoucí produkce',\n",
       " 'Předloha',\n",
       " 'Kaskadéři',\n",
       " 'Text písně',\n",
       " 'Zpívá',\n",
       " 'pásmo',\n",
       " 'Části',\n",
       " 'Produkce',\n",
       " 'Výtvarná spolupráce',\n",
       " 'Nahrál',\n",
       " 'Partner',\n",
       " 'Animační technika',\n",
       " 'Výprava',\n",
       " 'Spolupráce',\n",
       " 'Komentář',\n",
       " 'Autor komentáře',\n",
       " 'Druhá kamera',\n",
       " 'Zvláštní efekty',\n",
       " 'Koproducent',\n",
       " 'Výběr hudby',\n",
       " 'Hudební dramaturgie',\n",
       " 'Písně',\n",
       " 'Produkční data',\n",
       " 'Koordinátor kaskadérů',\n",
       " 'Výkonná produkce',\n",
       " 'Zástupce vedoucího produkce',\n",
       " 'Hudební režie',\n",
       " 'Účinkují',\n",
       " 'Dirigent',\n",
       " 'Ateliéry',\n",
       " 'Režie české verze',\n",
       " 'Výrobce české verze',\n",
       " 'Tančí',\n",
       " 'České podtitulky',\n",
       " 'Výrobce českých podtitulků',\n",
       " 'Asistent vedoucího produkce',\n",
       " 'Natáčecí formát',\n",
       " 'Dialogy české verze',\n",
       " 'Hudba k písni',\n",
       " 'Autor projektu',\n",
       " 'Stav filmu',\n",
       " 'Souběžný anglický název',\n",
       " 'Assistent architekta',\n",
       " 'Asistent zvuku',\n",
       " 'Podnázev',\n",
       " 'Asistent vedoucího výroby',\n",
       " 'Skript',\n",
       " 'Kostýmy',\n",
       " 'Asistent střihu',\n",
       " 'Zpěv role',\n",
       " 'povídkový film',\n",
       " 'Povídky',\n",
       " 'Prodej práv',\n",
       " 'Podnázev anglický',\n",
       " 'Výtvarník pozadí',\n",
       " 'Výrobní skupina',\n",
       " 'Zákazník',\n",
       " 'Vývozní společnost',\n",
       " 'Umělecké vedení',\n",
       " 'Překlad české verze',\n",
       " 'Rychlost',\n",
       " 'Přístupnost',\n",
       " 'Začátek výroby',\n",
       " 'Konec výroby']"
      ]
     },
     "execution_count": 4,
     "metadata": {},
     "output_type": "execute_result"
    }
   ],
   "source": [
    "df.columns.to_list()"
   ]
  },
  {
   "cell_type": "code",
   "execution_count": 5,
   "id": "d644fc2c",
   "metadata": {},
   "outputs": [
    {
     "data": {
      "text/plain": [
       "Režie\n",
       "Otakar Vávra (9507)           1014\n",
       "Martin Frič (20324)            821\n",
       "Karel Kachyňa (3526)           813\n",
       "Václav Vorlíček (1044)         684\n",
       "Karel Steklý (35894)           673\n",
       "Dušan Klein (2568)             635\n",
       "Oldřich Lipský (7883)          609\n",
       "Zdeněk Troška (3874)           583\n",
       "Jaroslav Balík (4940)          556\n",
       "Vladimír Čech (7871)           533\n",
       "Ivo Novák (7889)               532\n",
       "Zdeněk Podskalský (4749)       526\n",
       "Jindřich Polák (7891)          518\n",
       "Miroslav Cikán (31969)         517\n",
       "Václav Krška (20325)           508\n",
       "Antonín Kachlík (7880)         504\n",
       "Václav Matějka (29527)         491\n",
       "Juraj Herz (7875)              483\n",
       "Vladimír Slavínský (31967)     479\n",
       "Tomáš Vorel (106)              478\n",
       "Zbyněk Brynych (4881)          468\n",
       "Jiří Hanibal (7873)            448\n",
       "Jaromil Jireš (5317)           443\n",
       "Jan Hřebejk (4831)             427\n",
       "Josef Mach (7885)              425\n",
       "Jiří Krejčík (7882)            422\n",
       "Jaroslav Soukup (1171)         411\n",
       "Ladislav Rychman (7892)        402\n",
       "Svatopluk Innemann (33860)     401\n",
       "Hynek Bočan (2947)             396\n",
       "Name: Hrají, dtype: int64"
      ]
     },
     "execution_count": 5,
     "metadata": {},
     "output_type": "execute_result"
    }
   ],
   "source": [
    "df.explode(\"Režie\").explode(\"Hrají\").groupby(\"Režie\")[\"Hrají\"].nunique().nlargest(30)"
   ]
  },
  {
   "cell_type": "code",
   "execution_count": 6,
   "id": "2c21e0b5",
   "metadata": {},
   "outputs": [],
   "source": [
    "velikost_herectva = pd.Series(df.explode(\"Hrají\").groupby(\"Film\")[\"Hrají\"].nunique(), name=\"Velikost herectva\")"
   ]
  },
  {
   "cell_type": "code",
   "execution_count": 8,
   "id": "fedb8c4d",
   "metadata": {},
   "outputs": [],
   "source": [
    "df = df.merge(velikost_herectva, on=\"Film\")"
   ]
  },
  {
   "cell_type": "code",
   "execution_count": 13,
   "id": "9735ebb1",
   "metadata": {},
   "outputs": [
    {
     "data": {
      "text/plain": [
       "Režie\n",
       "Mirjam Landa /ž/ (11733)                     111.000000\n",
       "Jan Lengyel (2134)                            93.000000\n",
       "Václav Marhoul (3781)                         84.000000\n",
       "Martin Dolenský (652)                         81.000000\n",
       "Jan Kraus (1062)                              79.000000\n",
       "Michal Caban (7826)                           76.000000\n",
       "Vlastimil Peška (76347)                       76.000000\n",
       "Šimon Caban (7827)                            76.000000\n",
       "Julius Ševčík (149)                           73.333333\n",
       "Vlado Štancel (27084)                         72.666667\n",
       "Pjeer Van Eck (24908)                         72.000000\n",
       "Martin Campbell (28668)                       71.000000\n",
       "Tomáš Zelenka (27642)                         70.000000\n",
       "Jakub Sluka (3584)                            69.000000\n",
       "Hannes Zell (51867)                           67.000000\n",
       "Pavel Dražan (74966)                          65.000000\n",
       "Karel Hřib (84118)                            63.000000\n",
       "Vojtěch Trapl (5107)                          61.666667\n",
       "české verze Agnieszka Holland /ž/ (12106)     60.000000\n",
       "Terry Gilliam (23506)                         59.000000\n",
       "Monika Elšíková (4671)                        57.000000\n",
       "Karel Coma (6719)                             56.000000\n",
       "Ladislav Smoljak (8168)                       55.400000\n",
       "Oskar Reif (13244)                            55.000000\n",
       "Viktor Polesný (7797)                         55.000000\n",
       "české verze Hana Starostová (35149)           55.000000\n",
       "Marek Najbrt (6349)                           54.600000\n",
       "Richard Řeřicha (2088)                        53.000000\n",
       "Tomáš Krejčí (4446)                           53.000000\n",
       "Václav Matějka (29527)                        52.642857\n",
       "Roman Polanski (22697)                        51.000000\n",
       "Roman Švejda (3607)                           51.000000\n",
       "Ján Roháč (33863)                             50.333333\n",
       "Uli Edel (50906)                              50.000000\n",
       "Vladimír Morávek (6734)                       50.000000\n",
       "Oldřich Lipský (7883)                         49.818182\n",
       "Viktor Tauš (1823)                            48.666667\n",
       "Karel Steklý (35894)                          47.857143\n",
       "Olivier Dahan (32646)                         47.000000\n",
       "Tomáš Bařina (1676)                           47.000000\n",
       "české verzeIvana Slámová                      47.000000\n",
       "George Agathonikiadis (1235)                  46.000000\n",
       "Petr Šícha (54107)                            45.333333\n",
       "František Salzer (73346)                      45.000000\n",
       "Marie Fronková (40409)                        45.000000\n",
       "Vlad Lanné (23194)                            45.000000\n",
       "Nikolaj Arcel (81662)                         44.000000\n",
       "Tomáš Magnusek (28382)                        44.000000\n",
       "české verze Jiří Balcárek (2541)              44.000000\n",
       "české verze Kateřina Šusterová (26950)        44.000000\n",
       "Name: Velikost herectva, dtype: float64"
      ]
     },
     "execution_count": 13,
     "metadata": {},
     "output_type": "execute_result"
    }
   ],
   "source": [
    "df.explode(\"Režie\").groupby(\"Režie\")[\"Velikost herectva\"].mean().nlargest(50)"
   ]
  },
  {
   "cell_type": "code",
   "execution_count": 12,
   "id": "6496bfa2",
   "metadata": {},
   "outputs": [
    {
     "data": {
      "text/plain": [
       "Režie\n",
       "Mirjam Landa /ž/ (11733)    111.0\n",
       "Jan Lengyel (2134)           93.0\n",
       "Václav Marhoul (3781)        84.0\n",
       "Martin Dolenský (652)        81.0\n",
       "Jan Kraus (1062)             79.0\n",
       "Michal Caban (7826)          76.0\n",
       "Vlastimil Peška (76347)      76.0\n",
       "Šimon Caban (7827)           76.0\n",
       "Pjeer Van Eck (24908)        72.0\n",
       "Martin Campbell (28668)      71.0\n",
       "Name: Velikost herectva, dtype: float64"
      ]
     },
     "execution_count": 12,
     "metadata": {},
     "output_type": "execute_result"
    }
   ],
   "source": [
    "df.explode(\"Režie\").groupby(\"Režie\")[\"Velikost herectva\"].median().nlargest(10)"
   ]
  },
  {
   "cell_type": "code",
   "execution_count": null,
   "id": "4e0edf67",
   "metadata": {},
   "outputs": [],
   "source": [
    "df.explode(\"Režie\").explode(\"Hrají\").groupby(\"Režie\")[\"Hrají\"].nunique().nlargest(30)"
   ]
  },
  {
   "cell_type": "code",
   "execution_count": 38,
   "id": "160913a0",
   "metadata": {},
   "outputs": [
    {
     "data": {
      "text/plain": [
       "Režie\n",
       "Otakar Vávra (9507)           328\n",
       "Martin Frič (20324)           287\n",
       "Karel Steklý (35894)          285\n",
       "Karel Kachyňa (3526)          235\n",
       "Oldřich Lipský (7883)         233\n",
       "Ivo Novák (7889)              230\n",
       "Josef Mach (7885)             229\n",
       "Vladimír Čech (7871)          229\n",
       "Václav Vorlíček (1044)        228\n",
       "Zdeněk Podskalský (4749)      217\n",
       "Miroslav Cikán (31969)        215\n",
       "Dušan Klein (2568)            210\n",
       "Václav Krška (20325)          199\n",
       "Jindřich Polák (7891)         195\n",
       "Jiří Krejčík (7882)           193\n",
       "Jaroslav Balík (4940)         187\n",
       "Jiří Sequens (7893)           180\n",
       "Zbyněk Brynych (4881)         180\n",
       "Vladimír Slavínský (31967)    174\n",
       "Jiří Hanibal (7873)           170\n",
       "Bořivoj Zeman (8886)          162\n",
       "Václav Gajer (5065)           159\n",
       "Václav Matějka (29527)        159\n",
       "Hynek Bočan (2947)            158\n",
       "Václav Kubásek (37286)        153\n",
       "Štěpán Skalský (8999)         153\n",
       "Antonín Kachlík (7880)        151\n",
       "Petr Schulhoff (7896)         143\n",
       "Václav Binovec (37467)        141\n",
       "Jaroslav Mach (7884)          140\n",
       "Name: Hrají, dtype: int64"
      ]
     },
     "execution_count": 38,
     "metadata": {},
     "output_type": "execute_result"
    }
   ],
   "source": [
    "nejobsazovanejsi = df.explode(\"Hrají\").groupby(\"Hrají\")[\"Film\"].nunique().nlargest(500).index.to_list()\n",
    "df_nejobsazovanejsi = df.explode(\"Hrají\")\n",
    "df_nejobsazovanejsi = df_nejobsazovanejsi[df_nejobsazovanejsi[\"Hrají\"].isin(nejobsazovanejsi)]\n",
    "df_nejobsazovanejsi.explode(\"Režie\").groupby(\"Režie\")[\"Hrají\"].nunique().nlargest(30)"
   ]
  },
  {
   "cell_type": "code",
   "execution_count": null,
   "id": "2f4ed397",
   "metadata": {},
   "outputs": [],
   "source": [
    "df.explode(\"Režie\").explode(\"Hrají\").groupby(\"Režie\")[\"Hrají\"].nunique().nlargest(30)"
   ]
  },
  {
   "cell_type": "code",
   "execution_count": 15,
   "id": "654dfffc",
   "metadata": {},
   "outputs": [
    {
     "data": {
      "text/plain": [
       "Režie\n",
       "Martin Frič (20324)           26\n",
       "Otakar Vávra (9507)           25\n",
       "Věra Chytilová (1555)         23\n",
       "Evald Schorm (7895)           22\n",
       "Karel Kachyňa (3526)          19\n",
       "Jaromil Jireš (5317)          16\n",
       "Svatopluk Innemann (33860)    16\n",
       "Václav Vorlíček (1044)        16\n",
       "neuvedeno                     16\n",
       "Elmar Klos (4742)             15\n",
       "Name: Žánr, dtype: int64"
      ]
     },
     "execution_count": 15,
     "metadata": {},
     "output_type": "execute_result"
    }
   ],
   "source": [
    "df.explode(\"Režie\").explode(\"Žánr\").groupby(\"Režie\")[\"Žánr\"].nunique().nlargest(10)"
   ]
  },
  {
   "cell_type": "code",
   "execution_count": 20,
   "id": "3076e713",
   "metadata": {},
   "outputs": [
    {
     "data": {
      "text/plain": [
       "Režie\n",
       "Karel Kachyňa (3526)    29\n",
       "Martin Frič (20324)     27\n",
       "Otakar Vávra (9507)     25\n",
       "Vladimír Čech (7871)    23\n",
       "Jiří Hanibal (7873)     22\n",
       "Name: Kostýmy, dtype: int64"
      ]
     },
     "execution_count": 20,
     "metadata": {},
     "output_type": "execute_result"
    }
   ],
   "source": [
    "df.explode(\"Režie\").explode(\"Kostýmy\").groupby(\"Režie\")[\"Kostýmy\"].nunique().nlargest(5)"
   ]
  },
  {
   "cell_type": "code",
   "execution_count": 17,
   "id": "61e431c2",
   "metadata": {},
   "outputs": [
    {
     "data": {
      "text/plain": [
       "Režie\n",
       "Jan Němec (3041)       6\n",
       "neuvedeno              6\n",
       "Dušan Hanák (9706)     5\n",
       "Evald Schorm (7895)    5\n",
       "Jakub Kohák (2024)     5\n",
       "Name: Typologie, dtype: int64"
      ]
     },
     "execution_count": 17,
     "metadata": {},
     "output_type": "execute_result"
    }
   ],
   "source": [
    "df.explode(\"Režie\").explode(\"Typologie\").groupby(\"Režie\")[\"Typologie\"].nunique().nlargest(5)"
   ]
  },
  {
   "cell_type": "code",
   "execution_count": 18,
   "id": "c1153b64",
   "metadata": {},
   "outputs": [
    {
     "data": {
      "text/plain": [
       "Režie\n",
       "Jan Balej (211)           4\n",
       "Aurel Klimt (1189)        3\n",
       "Břetislav Pojar (3113)    3\n",
       "David Súkup (3104)        3\n",
       "Evald Schorm (7895)       3\n",
       "Name: Kategorie, dtype: int64"
      ]
     },
     "execution_count": 18,
     "metadata": {},
     "output_type": "execute_result"
    }
   ],
   "source": [
    "df.explode(\"Režie\").explode(\"Kategorie\").groupby(\"Režie\")[\"Kategorie\"].nunique().nlargest(5)"
   ]
  },
  {
   "cell_type": "code",
   "execution_count": 12,
   "id": "84eea646",
   "metadata": {},
   "outputs": [
    {
     "data": {
      "text/plain": [
       "16194"
      ]
     },
     "execution_count": 12,
     "metadata": {},
     "output_type": "execute_result"
    }
   ],
   "source": [
    "df.explode(\"Hrají\")[\"Hrají\"].nunique()"
   ]
  },
  {
   "cell_type": "code",
   "execution_count": 5,
   "id": "adc2e1b0",
   "metadata": {},
   "outputs": [
    {
     "data": {
      "text/plain": [
       "Režie\n",
       "Martin Frič (20324)           75\n",
       "Miroslav Cikán (31969)        41\n",
       "Václav Binovec (37467)        41\n",
       "Vladimír Čech (7871)          37\n",
       "Svatopluk Innemann (33860)    35\n",
       "Tomáš Vorel (106)             34\n",
       "Karel Lamač (37847)           29\n",
       "Karel Kachyňa (3526)          27\n",
       "Oldřich Lipský (7883)         27\n",
       "Otakar Vávra (9507)           27\n",
       "Name: Scénář, dtype: int64"
      ]
     },
     "execution_count": 5,
     "metadata": {},
     "output_type": "execute_result"
    }
   ],
   "source": [
    "df.explode(\"Režie\").explode(\"Scénář\").groupby(\"Režie\")[\"Scénář\"].nunique().nlargest(10)"
   ]
  },
  {
   "cell_type": "code",
   "execution_count": 6,
   "id": "08319d18",
   "metadata": {},
   "outputs": [
    {
     "data": {
      "text/plain": [
       "Režie\n",
       "Otakar Vávra (9507)        48\n",
       "J. A. Holman (37290)       32\n",
       "Helena Třeštíková (709)    30\n",
       "Martin Frič (20324)        27\n",
       "Pavel Abrahám (19039)      27\n",
       "Václav Kubásek (37286)     22\n",
       "Adolf Zika (1207)          21\n",
       "Václav Binovec (37467)     21\n",
       "Ivo Novák (7889)           20\n",
       "Václav Vorlíček (1044)     20\n",
       "Name: Kamera, dtype: int64"
      ]
     },
     "execution_count": 6,
     "metadata": {},
     "output_type": "execute_result"
    }
   ],
   "source": [
    "df.explode(\"Režie\").explode(\"Kamera\").groupby(\"Režie\")[\"Kamera\"].nunique().nlargest(10)"
   ]
  },
  {
   "cell_type": "code",
   "execution_count": 19,
   "id": "5971b3e7",
   "metadata": {},
   "outputs": [
    {
     "data": {
      "text/plain": [
       "Režie\n",
       "Jan Hřebejk (4831)       12\n",
       "Matej Mináč (7608)        9\n",
       "Filip Renč (558)          7\n",
       "Petr Nikolaev (540)       6\n",
       "David Ondříček (2028)     5\n",
       "Viktor Polesný (7797)     5\n",
       "Jan Svěrák (476)          4\n",
       "Jiří Vejdělek (24168)     4\n",
       "Miroslav Janek (536)      4\n",
       "Pavel Koutecký (566)      4\n",
       "Name: Dirigent, dtype: int64"
      ]
     },
     "execution_count": 19,
     "metadata": {},
     "output_type": "execute_result"
    }
   ],
   "source": [
    "df.explode(\"Režie\").explode(\"Dirigent\").groupby(\"Režie\")[\"Dirigent\"].nunique().nlargest(10)"
   ]
  },
  {
   "cell_type": "code",
   "execution_count": 10,
   "id": "6dff13c7",
   "metadata": {},
   "outputs": [
    {
     "data": {
      "text/plain": [
       "Režie\n",
       "Karel Vachek (565)                 16\n",
       "Břetislav Pojar (3113)             15\n",
       "Karel Kachyňa (3526)               12\n",
       "Tomáš Vorel (106)                  12\n",
       "Věra Chytilová (1555)              12\n",
       "Milan Cieslar (3593)               11\n",
       "české verze K. M. Walló (51350)    11\n",
       "Evald Schorm (7895)                10\n",
       "Karel Lamač (37847)                10\n",
       "Vladimír Slavínský (31967)         10\n",
       "Name: Střih, dtype: int64"
      ]
     },
     "execution_count": 10,
     "metadata": {},
     "output_type": "execute_result"
    }
   ],
   "source": [
    "df.explode(\"Režie\").explode(\"Střih\").groupby(\"Režie\")[\"Střih\"].nunique().nlargest(10)"
   ]
  },
  {
   "cell_type": "code",
   "execution_count": 11,
   "id": "847e6bda",
   "metadata": {},
   "outputs": [
    {
     "data": {
      "text/plain": [
       "Režie\n",
       "Otakar Vávra (9507)       20\n",
       "Pavel Abrahám (19039)     20\n",
       "Karel Kachyňa (3526)      19\n",
       "Jaromil Jireš (5317)      17\n",
       "Jindřich Polák (7891)     16\n",
       "Jiří Hanibal (7873)       16\n",
       "Ivo Novák (7889)          15\n",
       "Václav Matějka (29527)    15\n",
       "Věra Chytilová (1555)     15\n",
       "Dušan Klein (2568)        13\n",
       "Name: Pomocná režie, dtype: int64"
      ]
     },
     "execution_count": 11,
     "metadata": {},
     "output_type": "execute_result"
    }
   ],
   "source": [
    "df.explode(\"Režie\").explode(\"Pomocná režie\").groupby(\"Režie\")[\"Pomocná režie\"].nunique().nlargest(10)"
   ]
  },
  {
   "cell_type": "code",
   "execution_count": 13,
   "id": "5687d1e8",
   "metadata": {},
   "outputs": [
    {
     "data": {
      "text/plain": [
       "Kamera\n",
       "Vladimír Smutný (1772)    1165\n",
       "Jan Stallich (126242)      999\n",
       "Jaromír Šofr (4285)        965\n",
       "Václav Hanuš (18126)       950\n",
       "Jiří Macháně (11743)       948\n",
       "Ivan Šlapeta (2968)        937\n",
       "Josef Vaniš (9510)         893\n",
       "Jan Čuřík (4946)           865\n",
       "Josef Střecha (55613)      844\n",
       "Jan Roth (6557)            811\n",
       "Name: Hrají, dtype: int64"
      ]
     },
     "execution_count": 13,
     "metadata": {},
     "output_type": "execute_result"
    }
   ],
   "source": [
    "df.explode(\"Kamera\").explode(\"Hrají\").groupby(\"Kamera\")[\"Hrají\"].nunique().nlargest(10)"
   ]
  },
  {
   "cell_type": "code",
   "execution_count": 17,
   "id": "1cbd28d1",
   "metadata": {},
   "outputs": [],
   "source": [
    "kariery_reziseru = pd.Series(df.explode(\"Režie\").groupby(\"Režie\")[\"Copyright\"].max() -df.explode(\"Režie\").groupby(\"Režie\")[\"Copyright\"].min(), name=\"Kariéry režisérů\")"
   ]
  },
  {
   "cell_type": "code",
   "execution_count": 19,
   "id": "ea2ce76c",
   "metadata": {
    "scrolled": true
   },
   "outputs": [
    {
     "data": {
      "text/plain": [
       "Režie\n",
       "Břetislav Pojar (3113)    60\n",
       "Karel Vachek (565)        59\n",
       "Otakar Vávra (9507)       59\n",
       "Hermína Týrlová (4754)    58\n",
       "Václav Vorlíček (1044)    57\n",
       "Jan Němec (3041)          56\n",
       "Dušan Klein (2568)        55\n",
       "Jiří Menzel (7887)        52\n",
       "Jan Švankmajer (406)      50\n",
       "Vojtěch Jasný (4666)      50\n",
       "Karel Kachyňa (3526)      50\n",
       "Rajko Grlić (80991)       47\n",
       "Věra Chytilová (1555)     47\n",
       "Jiří Adamec (28467)       46\n",
       "František Filip (7822)    46\n",
       "Name: Kariéry režisérů, dtype: int64"
      ]
     },
     "execution_count": 19,
     "metadata": {},
     "output_type": "execute_result"
    }
   ],
   "source": [
    "kariery_reziseru.sort_values(ascending=False).nlargest(15)"
   ]
  },
  {
   "cell_type": "code",
   "execution_count": 26,
   "id": "0298f6e8",
   "metadata": {},
   "outputs": [
    {
     "data": {
      "text/plain": [
       "<AxesSubplot:ylabel='Frequency'>"
      ]
     },
     "execution_count": 26,
     "metadata": {},
     "output_type": "execute_result"
    },
    {
     "data": {
      "image/png": "[encoded data removed]",
      "text/plain": [
       "<Figure size 432x288 with 1 Axes>"
      ]
     },
     "metadata": {
      "needs_background": "light"
     },
     "output_type": "display_data"
    }
   ],
   "source": [
    "kariery_reziseru.plot.hist(bins=50)"
   ]
  }
 ],
 "metadata": {
  "kernelspec": {
   "display_name": "Python 3 (ipykernel)",
   "language": "python",
   "name": "python3"
  },
  "language_info": {
   "codemirror_mode": {
    "name": "ipython",
    "version": 3
   },
   "file_extension": ".py",
   "mimetype": "text/x-python",
   "name": "python",
   "nbconvert_exporter": "python",
   "pygments_lexer": "ipython3",
   "version": "3.10.8"
  }
 },
 "nbformat": 4,
 "nbformat_minor": 5
}
