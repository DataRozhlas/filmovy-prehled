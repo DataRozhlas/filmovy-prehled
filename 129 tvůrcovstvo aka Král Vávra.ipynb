{
 "cells": [
  {
   "cell_type": "code",
   "execution_count": 28,
   "id": "e9b0c5af",
   "metadata": {},
   "outputs": [],
   "source": [
    "import os\n",
    "import pandas as pd\n",
    "pd.set_option('display.max_columns', None)\n",
    "df = pd.read_json(os.path.join(\"data\", \"filmy.json\"))"
   ]
  },
  {
   "cell_type": "code",
   "execution_count": 29,
   "id": "1d319108",
   "metadata": {},
   "outputs": [],
   "source": [
    "import json\n",
    "with open(os.path.join(\"data_fixes\", \"seznamy.json\"), encoding=\"utf-8\") as seznamy:\n",
    "    seznamy = json.loads(seznamy.read())"
   ]
  },
  {
   "cell_type": "code",
   "execution_count": 30,
   "id": "ac1506bb",
   "metadata": {},
   "outputs": [],
   "source": [
    "profese = seznamy[\"profese\"]"
   ]
  },
  {
   "cell_type": "code",
   "execution_count": 31,
   "id": "0f98771a",
   "metadata": {},
   "outputs": [],
   "source": [
    "def plose_jednoduse(x):\n",
    "    seznam = []\n",
    "    for y in x:\n",
    "        if y == None:\n",
    "            pass\n",
    "        if isinstance(y, str):\n",
    "            if y not in seznam:\n",
    "                seznam.append(y)\n",
    "        if isinstance(y, list):\n",
    "            for z in y:\n",
    "                if z not in seznam:\n",
    "                    seznam.append(z)\n",
    "    return(seznam)"
   ]
  },
  {
   "cell_type": "code",
   "execution_count": 32,
   "id": "4e292498",
   "metadata": {},
   "outputs": [],
   "source": [
    "df[\"Lidé\"] = df[profese].values.tolist()\n",
    "df[\"Lidé\"] = df[\"Lidé\"].apply(lambda x: plose_jednoduse(x))"
   ]
  },
  {
   "cell_type": "code",
   "execution_count": 33,
   "id": "6d769af9",
   "metadata": {},
   "outputs": [],
   "source": [
    "df[\"Počet lidí\"] = df[\"Lidé\"].apply(lambda x: len(x))"
   ]
  },
  {
   "cell_type": "code",
   "execution_count": 34,
   "id": "5d4aa061",
   "metadata": {},
   "outputs": [
    {
     "data": {
      "text/html": [
       "<div>\n",
       "<style scoped>\n",
       "    .dataframe tbody tr th:only-of-type {\n",
       "        vertical-align: middle;\n",
       "    }\n",
       "\n",
       "    .dataframe tbody tr th {\n",
       "        vertical-align: top;\n",
       "    }\n",
       "\n",
       "    .dataframe thead th {\n",
       "        text-align: right;\n",
       "    }\n",
       "</style>\n",
       "<table border=\"1\" class=\"dataframe\">\n",
       "  <thead>\n",
       "    <tr style=\"text-align: right;\">\n",
       "      <th></th>\n",
       "      <th>Film</th>\n",
       "      <th>Počet lidí</th>\n",
       "    </tr>\n",
       "  </thead>\n",
       "  <tbody>\n",
       "    <tr>\n",
       "      <th>2513</th>\n",
       "      <td>Osvobození Prahy (397108)</td>\n",
       "      <td>219</td>\n",
       "    </tr>\n",
       "    <tr>\n",
       "      <th>2815</th>\n",
       "      <td>Putování Jana Amose (397429)</td>\n",
       "      <td>182</td>\n",
       "    </tr>\n",
       "    <tr>\n",
       "      <th>2383</th>\n",
       "      <td>Dny zrady (396979)</td>\n",
       "      <td>176</td>\n",
       "    </tr>\n",
       "    <tr>\n",
       "      <th>3834</th>\n",
       "      <td>7 dní hříchů (103358)</td>\n",
       "      <td>169</td>\n",
       "    </tr>\n",
       "    <tr>\n",
       "      <th>3462</th>\n",
       "      <td>Mazaný Filip (20319)</td>\n",
       "      <td>162</td>\n",
       "    </tr>\n",
       "    <tr>\n",
       "      <th>3523</th>\n",
       "      <td>Restart (38599)</td>\n",
       "      <td>161</td>\n",
       "    </tr>\n",
       "    <tr>\n",
       "      <th>2534</th>\n",
       "      <td>Vítězný lid (397143)</td>\n",
       "      <td>159</td>\n",
       "    </tr>\n",
       "    <tr>\n",
       "      <th>2396</th>\n",
       "      <td>Dvacátý devátý (397039)</td>\n",
       "      <td>157</td>\n",
       "    </tr>\n",
       "    <tr>\n",
       "      <th>2634</th>\n",
       "      <td>Lásky mezi kapkami deště (397232)</td>\n",
       "      <td>157</td>\n",
       "    </tr>\n",
       "    <tr>\n",
       "      <th>3591</th>\n",
       "      <td>Roming (45350)</td>\n",
       "      <td>153</td>\n",
       "    </tr>\n",
       "  </tbody>\n",
       "</table>\n",
       "</div>"
      ],
      "text/plain": [
       "                                   Film  Počet lidí\n",
       "2513          Osvobození Prahy (397108)         219\n",
       "2815       Putování Jana Amose (397429)         182\n",
       "2383                 Dny zrady (396979)         176\n",
       "3834              7 dní hříchů (103358)         169\n",
       "3462               Mazaný Filip (20319)         162\n",
       "3523                    Restart (38599)         161\n",
       "2534               Vítězný lid (397143)         159\n",
       "2396            Dvacátý devátý (397039)         157\n",
       "2634  Lásky mezi kapkami deště (397232)         157\n",
       "3591                     Roming (45350)         153"
      ]
     },
     "execution_count": 34,
     "metadata": {},
     "output_type": "execute_result"
    }
   ],
   "source": [
    "df[[\"Film\",\"Počet lidí\"]].sort_values(\"Počet lidí\",ascending=False).head(10)"
   ]
  },
  {
   "cell_type": "code",
   "execution_count": 37,
   "id": "41861c29",
   "metadata": {},
   "outputs": [
    {
     "data": {
      "text/html": [
       "<div>\n",
       "<style scoped>\n",
       "    .dataframe tbody tr th:only-of-type {\n",
       "        vertical-align: middle;\n",
       "    }\n",
       "\n",
       "    .dataframe tbody tr th {\n",
       "        vertical-align: top;\n",
       "    }\n",
       "\n",
       "    .dataframe thead th {\n",
       "        text-align: right;\n",
       "    }\n",
       "</style>\n",
       "<table border=\"1\" class=\"dataframe\">\n",
       "  <thead>\n",
       "    <tr style=\"text-align: right;\">\n",
       "      <th></th>\n",
       "      <th>Film</th>\n",
       "      <th>Země původu</th>\n",
       "      <th>Copyright</th>\n",
       "      <th>Rok výroby</th>\n",
       "      <th>Premiéra</th>\n",
       "      <th>Minutáž</th>\n",
       "      <th>Režie</th>\n",
       "      <th>Kategorie</th>\n",
       "      <th>Žánr</th>\n",
       "      <th>Typologie</th>\n",
       "      <th>Originální název</th>\n",
       "      <th>Český název</th>\n",
       "      <th>Anglický název</th>\n",
       "      <th>Souběžný název</th>\n",
       "      <th>Pracovní název</th>\n",
       "      <th>Hrají</th>\n",
       "      <th>Postavy</th>\n",
       "      <th>Pomocná režie</th>\n",
       "      <th>Asistent režie</th>\n",
       "      <th>Původní filmový námět</th>\n",
       "      <th>Scénář</th>\n",
       "      <th>Dramaturg</th>\n",
       "      <th>Kamera</th>\n",
       "      <th>Asistent kamery</th>\n",
       "      <th>Architekt</th>\n",
       "      <th>Návrhy kostýmů</th>\n",
       "      <th>Masky</th>\n",
       "      <th>Střih</th>\n",
       "      <th>Zvuk</th>\n",
       "      <th>Producent</th>\n",
       "      <th>Vedoucí výroby</th>\n",
       "      <th>Zástupce vedoucího výroby</th>\n",
       "      <th>Odborný poradce</th>\n",
       "      <th>Hudba</th>\n",
       "      <th>Choreografie</th>\n",
       "      <th>Lokace</th>\n",
       "      <th>Distribuční slogan</th>\n",
       "      <th>Výrobce</th>\n",
       "      <th>S podporou</th>\n",
       "      <th>Nositelé copyrightu</th>\n",
       "      <th>Distribuce</th>\n",
       "      <th>Délka</th>\n",
       "      <th>Distribuční nosič</th>\n",
       "      <th>Poměr stran</th>\n",
       "      <th>Barva</th>\n",
       "      <th>Zvukový</th>\n",
       "      <th>Zvukový systém/formát</th>\n",
       "      <th>Verze</th>\n",
       "      <th>Mluveno</th>\n",
       "      <th>Podtitulky</th>\n",
       "      <th>Úvodní/závěrečné titulky</th>\n",
       "      <th>Anotace</th>\n",
       "      <th>Obsah</th>\n",
       "      <th>Technický scénář</th>\n",
       "      <th>Výtvarník</th>\n",
       "      <th>Animace</th>\n",
       "      <th>Triky</th>\n",
       "      <th>Postprodukce</th>\n",
       "      <th>Návrhy titulků</th>\n",
       "      <th>Pedagogické vedení</th>\n",
       "      <th>Použitá hudba</th>\n",
       "      <th>Studentský film</th>\n",
       "      <th>Původní metráž</th>\n",
       "      <th>Mezititulky</th>\n",
       "      <th>Ocenění</th>\n",
       "      <th>Poznámka</th>\n",
       "      <th>Mluví</th>\n",
       "      <th>Vizuální efekty</th>\n",
       "      <th>Vedoucí produkce</th>\n",
       "      <th>Předloha</th>\n",
       "      <th>Kaskadéři</th>\n",
       "      <th>Text písně</th>\n",
       "      <th>Zpívá</th>\n",
       "      <th>pásmo</th>\n",
       "      <th>Části</th>\n",
       "      <th>Produkce</th>\n",
       "      <th>Výtvarná spolupráce</th>\n",
       "      <th>Nahrál</th>\n",
       "      <th>Partner</th>\n",
       "      <th>Animační technika</th>\n",
       "      <th>Výprava</th>\n",
       "      <th>Spolupráce</th>\n",
       "      <th>Komentář</th>\n",
       "      <th>Autor komentáře</th>\n",
       "      <th>Druhá kamera</th>\n",
       "      <th>Zvláštní efekty</th>\n",
       "      <th>Koproducent</th>\n",
       "      <th>Výběr hudby</th>\n",
       "      <th>Hudební dramaturgie</th>\n",
       "      <th>Písně</th>\n",
       "      <th>Produkční data</th>\n",
       "      <th>Koordinátor kaskadérů</th>\n",
       "      <th>Výkonná produkce</th>\n",
       "      <th>Zástupce vedoucího produkce</th>\n",
       "      <th>Hudební režie</th>\n",
       "      <th>Účinkují</th>\n",
       "      <th>Dirigent</th>\n",
       "      <th>Ateliéry</th>\n",
       "      <th>Režie české verze</th>\n",
       "      <th>Výrobce české verze</th>\n",
       "      <th>Tančí</th>\n",
       "      <th>České podtitulky</th>\n",
       "      <th>Výrobce českých podtitulků</th>\n",
       "      <th>Asistent vedoucího produkce</th>\n",
       "      <th>Natáčecí formát</th>\n",
       "      <th>Dialogy české verze</th>\n",
       "      <th>Autor projektu</th>\n",
       "      <th>Stav filmu</th>\n",
       "      <th>Souběžný anglický název</th>\n",
       "      <th>Assistent architekta</th>\n",
       "      <th>Asistent zvuku</th>\n",
       "      <th>Podnázev</th>\n",
       "      <th>Asistent vedoucího výroby</th>\n",
       "      <th>Skript</th>\n",
       "      <th>Kostýmy</th>\n",
       "      <th>Asistent střihu</th>\n",
       "      <th>povídkový film</th>\n",
       "      <th>Povídky</th>\n",
       "      <th>Hudba k písni</th>\n",
       "      <th>Prodej práv</th>\n",
       "      <th>Podnázev anglický</th>\n",
       "      <th>Výtvarník pozadí</th>\n",
       "      <th>Výrobní skupina</th>\n",
       "      <th>Zákazník</th>\n",
       "      <th>Vývozní společnost</th>\n",
       "      <th>Umělecké vedení</th>\n",
       "      <th>Zpěv role</th>\n",
       "      <th>Překlad české verze</th>\n",
       "      <th>Rychlost</th>\n",
       "      <th>Přístupnost</th>\n",
       "      <th>Začátek výroby</th>\n",
       "      <th>Konec výroby</th>\n",
       "      <th>Lidé</th>\n",
       "      <th>Počet lidí</th>\n",
       "    </tr>\n",
       "  </thead>\n",
       "  <tbody>\n",
       "    <tr>\n",
       "      <th>3527</th>\n",
       "      <td>Kletba bratří Grimmů (38839)</td>\n",
       "      <td>[Velká Británie, Česká republika]</td>\n",
       "      <td>2005</td>\n",
       "      <td>2005</td>\n",
       "      <td>slavnostní premiéra 9. 11. 2005  (multiplex Pa...</td>\n",
       "      <td>118.0</td>\n",
       "      <td>Terry Gilliam (23506)</td>\n",
       "      <td>film</td>\n",
       "      <td>[dobrodružný, fantastický]</td>\n",
       "      <td>[hraný, distribuční]</td>\n",
       "      <td>Kletba bratří Grimmů</td>\n",
       "      <td>Kletba bratří Grimmů</td>\n",
       "      <td>The Brothers Grimm</td>\n",
       "      <td>The Brothers Grimm</td>\n",
       "      <td>None</td>\n",
       "      <td>[Matt Damon (23533), Heath Ledger (23534), Jon...</td>\n",
       "      <td>[Wilhelm Grimm zvaný Will, Jakob Grimm zvaný J...</td>\n",
       "      <td>[Michele Soavi, Mario Luraschi (režie akčních ...</td>\n",
       "      <td>Michel Cheyko (23567)</td>\n",
       "      <td>None</td>\n",
       "      <td>Ehren Kruger (23526)</td>\n",
       "      <td>None</td>\n",
       "      <td>Newton Thomas Sigel (23527)</td>\n",
       "      <td>None</td>\n",
       "      <td>[Andy Thompson (23577), Jiří Sternwald (831)]</td>\n",
       "      <td>[Gabriella Pescucci (23537), Carlo Poggioli (2...</td>\n",
       "      <td>[Chrissie Beveridge (24968), Jana Dopitová (15...</td>\n",
       "      <td>Lesley Walker (23529)</td>\n",
       "      <td>Ivan Sharrock</td>\n",
       "      <td>[Charles Roven (23531), Daniel Bobker (23530)]</td>\n",
       "      <td>[Guy Hendrix Days (23536), Roberto Malerba (23...</td>\n",
       "      <td>None</td>\n",
       "      <td>None</td>\n",
       "      <td>[Dario Marianelli (23528)]</td>\n",
       "      <td>None</td>\n",
       "      <td>[Křivoklát, Kačina, Kutná Hora, Ledeč nad Sáza...</td>\n",
       "      <td>Neexistuje zaklínadlo, které nemohou zvrátit. ...</td>\n",
       "      <td>[A Mosaic Media Group, Daniel Bobker, Dimensio...</td>\n",
       "      <td>None</td>\n",
       "      <td>Dimension Films</td>\n",
       "      <td>SPI International Czech republic s. r. o.</td>\n",
       "      <td>dlouhometrážní</td>\n",
       "      <td>35mm</td>\n",
       "      <td>1.85</td>\n",
       "      <td>barevný</td>\n",
       "      <td>zvukový</td>\n",
       "      <td>[Dolby Digital, Digital Theater System, Sony D...</td>\n",
       "      <td>anglická</td>\n",
       "      <td>anglicky</td>\n",
       "      <td>české</td>\n",
       "      <td>anglické</td>\n",
       "      <td>Známý režisér Terry Gilliam původně zamýšlel n...</td>\n",
       "      <td>Bylo nebylo... 1796. V chalupě Grimmových je z...</td>\n",
       "      <td>None</td>\n",
       "      <td>None</td>\n",
       "      <td>None</td>\n",
       "      <td>None</td>\n",
       "      <td>None</td>\n",
       "      <td>None</td>\n",
       "      <td>None</td>\n",
       "      <td>None</td>\n",
       "      <td>None</td>\n",
       "      <td>NaN</td>\n",
       "      <td>None</td>\n",
       "      <td>None</td>\n",
       "      <td>None</td>\n",
       "      <td>None</td>\n",
       "      <td>James Madigan (24967)</td>\n",
       "      <td>None</td>\n",
       "      <td>None</td>\n",
       "      <td>Pete White (23594)</td>\n",
       "      <td>None</td>\n",
       "      <td>None</td>\n",
       "      <td>None</td>\n",
       "      <td>None</td>\n",
       "      <td>None</td>\n",
       "      <td>None</td>\n",
       "      <td>None</td>\n",
       "      <td>None</td>\n",
       "      <td>None</td>\n",
       "      <td>Guy Hendrix Dyas</td>\n",
       "      <td>None</td>\n",
       "      <td>None</td>\n",
       "      <td>None</td>\n",
       "      <td>[Dane Clarke (23595), Milan Chadima (4706)]</td>\n",
       "      <td>[Mike Kelt (23592), Duncan Capp (23590), Jo Fe...</td>\n",
       "      <td>[Jake Myers (23570), Michael Solinger (23573)]</td>\n",
       "      <td>None</td>\n",
       "      <td>[]</td>\n",
       "      <td>None</td>\n",
       "      <td>None</td>\n",
       "      <td>[Mario Luraschi (23593), Jiří Kuba (4709)]</td>\n",
       "      <td>[Jonathan Gordon (23568), Chris McGurk (23569)...</td>\n",
       "      <td>None</td>\n",
       "      <td>None</td>\n",
       "      <td>None</td>\n",
       "      <td>[Benjamin Wallfisch (24966)]</td>\n",
       "      <td>Barrandov</td>\n",
       "      <td>None</td>\n",
       "      <td>None</td>\n",
       "      <td>None</td>\n",
       "      <td>Petr Šaroch (17518)</td>\n",
       "      <td>Linguafilm (92659)</td>\n",
       "      <td>None</td>\n",
       "      <td>None</td>\n",
       "      <td>None</td>\n",
       "      <td>None</td>\n",
       "      <td>None</td>\n",
       "      <td>None</td>\n",
       "      <td>None</td>\n",
       "      <td>None</td>\n",
       "      <td>None</td>\n",
       "      <td>None</td>\n",
       "      <td>None</td>\n",
       "      <td>None</td>\n",
       "      <td>None</td>\n",
       "      <td>None</td>\n",
       "      <td>None</td>\n",
       "      <td>None</td>\n",
       "      <td>None</td>\n",
       "      <td>None</td>\n",
       "      <td>None</td>\n",
       "      <td>None</td>\n",
       "      <td>None</td>\n",
       "      <td>None</td>\n",
       "      <td>None</td>\n",
       "      <td>None</td>\n",
       "      <td>None</td>\n",
       "      <td>None</td>\n",
       "      <td>None</td>\n",
       "      <td>2005</td>\n",
       "      <td>2005</td>\n",
       "      <td>[Andy Thompson (23577), Jiří Sternwald (831), ...</td>\n",
       "      <td>84</td>\n",
       "    </tr>\n",
       "  </tbody>\n",
       "</table>\n",
       "</div>"
      ],
      "text/plain": [
       "                              Film                        Země původu   \n",
       "3527  Kletba bratří Grimmů (38839)  [Velká Británie, Česká republika]  \\\n",
       "\n",
       "      Copyright Rok výroby                                           Premiéra   \n",
       "3527       2005       2005  slavnostní premiéra 9. 11. 2005  (multiplex Pa...  \\\n",
       "\n",
       "      Minutáž                  Režie Kategorie                        Žánr   \n",
       "3527    118.0  Terry Gilliam (23506)      film  [dobrodružný, fantastický]  \\\n",
       "\n",
       "                 Typologie      Originální název           Český název   \n",
       "3527  [hraný, distribuční]  Kletba bratří Grimmů  Kletba bratří Grimmů  \\\n",
       "\n",
       "          Anglický název      Souběžný název Pracovní název   \n",
       "3527  The Brothers Grimm  The Brothers Grimm           None  \\\n",
       "\n",
       "                                                  Hrají   \n",
       "3527  [Matt Damon (23533), Heath Ledger (23534), Jon...  \\\n",
       "\n",
       "                                                Postavy   \n",
       "3527  [Wilhelm Grimm zvaný Will, Jakob Grimm zvaný J...  \\\n",
       "\n",
       "                                          Pomocná režie   \n",
       "3527  [Michele Soavi, Mario Luraschi (režie akčních ...  \\\n",
       "\n",
       "             Asistent režie Původní filmový námět                Scénář   \n",
       "3527  Michel Cheyko (23567)                  None  Ehren Kruger (23526)  \\\n",
       "\n",
       "     Dramaturg                       Kamera Asistent kamery   \n",
       "3527      None  Newton Thomas Sigel (23527)            None  \\\n",
       "\n",
       "                                          Architekt   \n",
       "3527  [Andy Thompson (23577), Jiří Sternwald (831)]  \\\n",
       "\n",
       "                                         Návrhy kostýmů   \n",
       "3527  [Gabriella Pescucci (23537), Carlo Poggioli (2...  \\\n",
       "\n",
       "                                                  Masky   \n",
       "3527  [Chrissie Beveridge (24968), Jana Dopitová (15...  \\\n",
       "\n",
       "                      Střih           Zvuk   \n",
       "3527  Lesley Walker (23529)  Ivan Sharrock  \\\n",
       "\n",
       "                                           Producent   \n",
       "3527  [Charles Roven (23531), Daniel Bobker (23530)]  \\\n",
       "\n",
       "                                         Vedoucí výroby   \n",
       "3527  [Guy Hendrix Days (23536), Roberto Malerba (23...  \\\n",
       "\n",
       "     Zástupce vedoucího výroby Odborný poradce                       Hudba   \n",
       "3527                      None            None  [Dario Marianelli (23528)]  \\\n",
       "\n",
       "     Choreografie                                             Lokace   \n",
       "3527         None  [Křivoklát, Kačina, Kutná Hora, Ledeč nad Sáza...  \\\n",
       "\n",
       "                                     Distribuční slogan   \n",
       "3527  Neexistuje zaklínadlo, které nemohou zvrátit. ...  \\\n",
       "\n",
       "                                                Výrobce S podporou   \n",
       "3527  [A Mosaic Media Group, Daniel Bobker, Dimensio...       None  \\\n",
       "\n",
       "     Nositelé copyrightu                                 Distribuce   \n",
       "3527     Dimension Films  SPI International Czech republic s. r. o.  \\\n",
       "\n",
       "               Délka Distribuční nosič Poměr stran    Barva  Zvukový   \n",
       "3527  dlouhometrážní              35mm        1.85  barevný  zvukový  \\\n",
       "\n",
       "                                  Zvukový systém/formát     Verze   Mluveno   \n",
       "3527  [Dolby Digital, Digital Theater System, Sony D...  anglická  anglicky  \\\n",
       "\n",
       "     Podtitulky Úvodní/závěrečné titulky   \n",
       "3527      české                 anglické  \\\n",
       "\n",
       "                                                Anotace   \n",
       "3527  Známý režisér Terry Gilliam původně zamýšlel n...  \\\n",
       "\n",
       "                                                  Obsah Technický scénář   \n",
       "3527  Bylo nebylo... 1796. V chalupě Grimmových je z...             None  \\\n",
       "\n",
       "     Výtvarník Animace Triky Postprodukce Návrhy titulků Pedagogické vedení   \n",
       "3527      None    None  None         None           None               None  \\\n",
       "\n",
       "     Použitá hudba Studentský film  Původní metráž Mezititulky Ocenění   \n",
       "3527          None            None             NaN        None    None  \\\n",
       "\n",
       "     Poznámka Mluví        Vizuální efekty Vedoucí produkce Předloha   \n",
       "3527     None  None  James Madigan (24967)             None     None  \\\n",
       "\n",
       "               Kaskadéři Text písně Zpívá pásmo Části Produkce   \n",
       "3527  Pete White (23594)       None  None  None  None     None  \\\n",
       "\n",
       "     Výtvarná spolupráce Nahrál Partner Animační technika           Výprava   \n",
       "3527                None   None    None              None  Guy Hendrix Dyas  \\\n",
       "\n",
       "     Spolupráce Komentář Autor komentáře   \n",
       "3527       None     None            None  \\\n",
       "\n",
       "                                     Druhá kamera   \n",
       "3527  [Dane Clarke (23595), Milan Chadima (4706)]  \\\n",
       "\n",
       "                                        Zvláštní efekty   \n",
       "3527  [Mike Kelt (23592), Duncan Capp (23590), Jo Fe...  \\\n",
       "\n",
       "                                         Koproducent Výběr hudby   \n",
       "3527  [Jake Myers (23570), Michael Solinger (23573)]        None  \\\n",
       "\n",
       "     Hudební dramaturgie Písně Produkční data   \n",
       "3527                  []  None           None  \\\n",
       "\n",
       "                           Koordinátor kaskadérů   \n",
       "3527  [Mario Luraschi (23593), Jiří Kuba (4709)]  \\\n",
       "\n",
       "                                       Výkonná produkce   \n",
       "3527  [Jonathan Gordon (23568), Chris McGurk (23569)...  \\\n",
       "\n",
       "     Zástupce vedoucího produkce Hudební režie Účinkují   \n",
       "3527                        None          None     None  \\\n",
       "\n",
       "                          Dirigent   Ateliéry Režie české verze   \n",
       "3527  [Benjamin Wallfisch (24966)]  Barrandov              None  \\\n",
       "\n",
       "     Výrobce české verze Tančí     České podtitulky   \n",
       "3527                None  None  Petr Šaroch (17518)  \\\n",
       "\n",
       "     Výrobce českých podtitulků Asistent vedoucího produkce Natáčecí formát   \n",
       "3527         Linguafilm (92659)                        None            None  \\\n",
       "\n",
       "     Dialogy české verze Autor projektu Stav filmu Souběžný anglický název   \n",
       "3527                None           None       None                    None  \\\n",
       "\n",
       "     Assistent architekta Asistent zvuku Podnázev Asistent vedoucího výroby   \n",
       "3527                 None           None     None                      None  \\\n",
       "\n",
       "     Skript Kostýmy Asistent střihu povídkový film Povídky Hudba k písni   \n",
       "3527   None    None            None           None    None          None  \\\n",
       "\n",
       "     Prodej práv Podnázev anglický Výtvarník pozadí Výrobní skupina Zákazník   \n",
       "3527        None              None             None            None     None  \\\n",
       "\n",
       "     Vývozní společnost Umělecké vedení Zpěv role Překlad české verze   \n",
       "3527               None            None      None                None  \\\n",
       "\n",
       "     Rychlost Přístupnost  Začátek výroby  Konec výroby   \n",
       "3527     None        None            2005          2005  \\\n",
       "\n",
       "                                                   Lidé  Počet lidí  \n",
       "3527  [Andy Thompson (23577), Jiří Sternwald (831), ...          84  "
      ]
     },
     "execution_count": 37,
     "metadata": {},
     "output_type": "execute_result"
    }
   ],
   "source": [
    "df[df[\"Režie\"] == \"Terry Gilliam (23506)\"]"
   ]
  },
  {
   "cell_type": "code",
   "execution_count": 36,
   "id": "a9f8d20b",
   "metadata": {},
   "outputs": [
    {
     "data": {
      "text/plain": [
       "Režie\n",
       "Michal Caban (7826)             123.0\n",
       "Šimon Caban (7827)              123.0\n",
       "Hannes Zell (51867)             116.0\n",
       "Martin Dolenský (652)           108.0\n",
       "Mirjam Landa (11733)            108.0\n",
       "Václav Marhoul (3781)           108.0\n",
       "Jan Lengyel (2134)              103.0\n",
       "Jiří Balcárek (2541)            101.5\n",
       "Tomáš Luňák (1968)              101.0\n",
       "Tomáš Zelenka (27642)            98.0\n",
       "Vlastimil Peška (76347)          96.0\n",
       "Jan Kraus (1062)                 95.0\n",
       "Kateřina Šusterová (26950)       92.0\n",
       "Hana Starostová (35149)          91.0\n",
       "Ivana Slámová                    91.0\n",
       "Sean Ellis (130080)              91.0\n",
       "Julius Ševčík (149)              86.0\n",
       "Tomáš Krejčí (4446)              86.0\n",
       "Terry Gilliam (23506)            84.0\n",
       "Viktor Polesný (7797)            84.0\n",
       "Marek Najbrt (6349)              83.0\n",
       "Zdeněk Jiráský (30669)           82.0\n",
       "Kateřina Březinová               81.0\n",
       "Pavel Dražan (74966)             81.0\n",
       "Peter Webber (33466)             81.0\n",
       "Vlado Štancel (27084)            81.0\n",
       "Jakub Sluka (3584)               80.0\n",
       "Václav Matějka (29527)           80.0\n",
       "Pjeer Van Eck (24908)            78.0\n",
       "Marie Fronková (40409)           77.0\n",
       "Richard Řeřicha (2088)           77.0\n",
       "Viktor Tauš (1823)               76.0\n",
       "Monika Elšíková (4671)           75.0\n",
       "Taika Waititi (112477)           75.0\n",
       "Vlad Lanné (23194)               75.0\n",
       "Igor Biťukov (54067)             72.0\n",
       "Olivier Dahan (32646)            72.0\n",
       "Oskar Reif (13244)               72.0\n",
       "Roman Polanski (22697)           72.0\n",
       "Ondřej Trojan (1348)             71.5\n",
       "Karel Coma (6719)                71.0\n",
       "Roman Švejda (3607)              71.0\n",
       "Gyula Nemes (10348)              70.0\n",
       "Michael J. Bassett (73726)       70.0\n",
       "Tomasz Mielnik (47648)           70.0\n",
       "Iveta Grófová (35012)            69.5\n",
       "Karel Steklý (35894)             69.0\n",
       "Oldřich Lipský (7883)            69.0\n",
       "Vladimír Morávek (6734)          69.0\n",
       "Marie Poledňáková (22555)        68.5\n",
       "Ladislav Smoljak (8168)          68.0\n",
       "Martin Ed Woolf (652)            68.0\n",
       "George Agathonikiadis (1235)     67.0\n",
       "Uli Edel (50906)                 67.0\n",
       "František Salzer (73346)         66.0\n",
       "Karel Hřib (84118)               66.0\n",
       "Patrik Hartl (32793)             66.0\n",
       "Agnieszka Smoczyńska             65.0\n",
       "Alfréd Radok (13529)             65.0\n",
       "Christophe Honoré (78740)        65.0\n",
       "Name: Počet lidí, dtype: float64"
      ]
     },
     "execution_count": 36,
     "metadata": {},
     "output_type": "execute_result"
    }
   ],
   "source": [
    "df.explode(\"Režie\").groupby(\"Režie\")[\"Počet lidí\"].median().nlargest(60)"
   ]
  },
  {
   "cell_type": "code",
   "execution_count": 9,
   "id": "5e420bd5",
   "metadata": {},
   "outputs": [
    {
     "data": {
      "text/plain": [
       "0                               [Jan Kříženecký (127419)]\n",
       "1                               [Jan Kříženecký (127419)]\n",
       "2                               [Jan Kříženecký (127419)]\n",
       "3                               [Jan Kříženecký (127419)]\n",
       "4                               [Jan Kříženecký (127419)]\n",
       "                              ...                        \n",
       "4506    [Dáda Němeček, Marek Schnierer (32758), Jiří V...\n",
       "4507    [Matěj Kovárník (80342), Michal Beňa (12174), ...\n",
       "4508    [Ivana Buttry /ž/ (56386), Zuzana Sekorová (59...\n",
       "4509    [Karolína Nováková (Kuli Film), Emma Svobodová...\n",
       "4510    [Petr Houdek (8112), Alena Činčerová (5732), J...\n",
       "Name: Lidé, Length: 4511, dtype: object"
      ]
     },
     "execution_count": 9,
     "metadata": {},
     "output_type": "execute_result"
    }
   ],
   "source": [
    "df[\"Lidé\"]"
   ]
  },
  {
   "cell_type": "markdown",
   "id": "d71b9021",
   "metadata": {},
   "source": [
    "## Režie"
   ]
  },
  {
   "cell_type": "code",
   "execution_count": 17,
   "id": "bc7acd0d",
   "metadata": {},
   "outputs": [],
   "source": [
    "import re"
   ]
  },
  {
   "cell_type": "code",
   "execution_count": 21,
   "id": "f991c7bf",
   "metadata": {},
   "outputs": [],
   "source": [
    "def jen_id(x):\n",
    "    try:\n",
    "        return re.search(\"\\([\\w]*\\)\", x).group(0)[1:-1]\n",
    "    except:\n",
    "        return None"
   ]
  },
  {
   "cell_type": "code",
   "execution_count": 22,
   "id": "a628ceb1",
   "metadata": {},
   "outputs": [],
   "source": [
    "rezie = df.explode(\"Režie\")"
   ]
  },
  {
   "cell_type": "code",
   "execution_count": 23,
   "id": "1e871503",
   "metadata": {},
   "outputs": [],
   "source": [
    "rezie[\"Režie id\"] = rezie[\"Režie\"].apply(lambda x: jen_id(x))"
   ]
  },
  {
   "cell_type": "code",
   "execution_count": 25,
   "id": "da1c273d",
   "metadata": {},
   "outputs": [
    {
     "data": {
      "text/plain": [
       "Režie id\n",
       "20324     88\n",
       "9507      56\n",
       "31967     51\n",
       "31969     49\n",
       "37467     49\n",
       "3526      47\n",
       "33860     46\n",
       "127380    42\n",
       "127419    42\n",
       "37847     42\n",
       "Name: Film, dtype: int64"
      ]
     },
     "execution_count": 25,
     "metadata": {},
     "output_type": "execute_result"
    }
   ],
   "source": [
    "rezie.groupby(\"Režie id\")[\"Film\"].nunique().nlargest(10)"
   ]
  },
  {
   "cell_type": "code",
   "execution_count": 39,
   "id": "974cc16c",
   "metadata": {},
   "outputs": [
    {
     "data": {
      "text/plain": [
       "Režie\n",
       "Břetislav Pojar (3113)    60\n",
       "Karel Vachek (565)        59\n",
       "Otakar Vávra (9507)       59\n",
       "Hermína Týrlová (4754)    58\n",
       "Václav Vorlíček (1044)    57\n",
       "Jan Němec (3041)          56\n",
       "Dušan Klein (2568)        55\n",
       "Jiří Menzel (7887)        52\n",
       "Jan Švankmajer (406)      50\n",
       "Karel Kachyňa (3526)      50\n",
       "Name: Copyright, dtype: int64"
      ]
     },
     "execution_count": 39,
     "metadata": {},
     "output_type": "execute_result"
    }
   ],
   "source": [
    "pd.Series(rezie.groupby(\"Režie\")[\"Copyright\"].max() - rezie.groupby(\"Režie\")[\"Copyright\"].min()).nlargest(10)"
   ]
  },
  {
   "cell_type": "code",
   "execution_count": 40,
   "id": "eeea4226",
   "metadata": {},
   "outputs": [
    {
     "data": {
      "text/plain": [
       "Režie\n",
       "Martin Frič (20324)           85\n",
       "Miroslav Cikán (31969)        48\n",
       "Karel Kachyňa (3526)          47\n",
       "Vladimír Slavínský (31967)    47\n",
       "Otakar Vávra (9507)           45\n",
       "Karel Lamač (37847)           37\n",
       "Svatopluk Innemann (33860)    36\n",
       "Václav Kubásek (37286)        35\n",
       "Václav Binovec (37467)        29\n",
       "Vladimír Čech (7871)          27\n",
       "Name: Film, dtype: int64"
      ]
     },
     "execution_count": 40,
     "metadata": {},
     "output_type": "execute_result"
    }
   ],
   "source": [
    "rezie[rezie[\"Délka\"] == \"dlouhometrážní\"].groupby(\"Režie\")[\"Film\"].nunique().nlargest(10)"
   ]
  },
  {
   "cell_type": "code",
   "execution_count": null,
   "id": "9430426b",
   "metadata": {},
   "outputs": [],
   "source": []
  },
  {
   "cell_type": "code",
   "execution_count": null,
   "id": "d644fc2c",
   "metadata": {},
   "outputs": [],
   "source": [
    "df.explode(\"Režie\").explode(\"Hrají\").groupby(\"Režie\")[\"Hrají\"].nunique().nlargest(30)"
   ]
  },
  {
   "cell_type": "code",
   "execution_count": null,
   "id": "14829cea",
   "metadata": {},
   "outputs": [],
   "source": [
    "velikost_herectva = pd.Series(df.explode(\"Hrají\").groupby(\"Film\")[\"Hrají\"].nunique(), name=\"Velikost herectva\")"
   ]
  },
  {
   "cell_type": "code",
   "execution_count": null,
   "id": "9305108f",
   "metadata": {},
   "outputs": [],
   "source": [
    "df = df.merge(velikost_herectva, on=\"Film\")"
   ]
  },
  {
   "cell_type": "code",
   "execution_count": null,
   "id": "2027bf47",
   "metadata": {},
   "outputs": [],
   "source": [
    "df.explode(\"Režie\").groupby(\"Režie\")[\"Velikost herectva\"].mean().nlargest(50)"
   ]
  },
  {
   "cell_type": "code",
   "execution_count": null,
   "id": "ea534832",
   "metadata": {},
   "outputs": [],
   "source": [
    "df.explode(\"Režie\").groupby(\"Režie\")[\"Velikost herectva\"].median().nlargest(10)"
   ]
  },
  {
   "cell_type": "code",
   "execution_count": null,
   "id": "c6c13ced",
   "metadata": {},
   "outputs": [],
   "source": [
    "df.explode(\"Režie\").explode(\"Hrají\").groupby(\"Režie\")[\"Hrají\"].nunique().nlargest(30)"
   ]
  },
  {
   "cell_type": "code",
   "execution_count": null,
   "id": "160913a0",
   "metadata": {},
   "outputs": [],
   "source": [
    "nejobsazovanejsi = df.explode(\"Hrají\").groupby(\"Hrají\")[\"Film\"].nunique().nlargest(500).index.to_list()\n",
    "df_nejobsazovanejsi = df.explode(\"Hrají\")\n",
    "df_nejobsazovanejsi = df_nejobsazovanejsi[df_nejobsazovanejsi[\"Hrají\"].isin(nejobsazovanejsi)]\n",
    "df_nejobsazovanejsi.explode(\"Režie\").groupby(\"Režie\")[\"Hrají\"].nunique().nlargest(30)"
   ]
  },
  {
   "cell_type": "code",
   "execution_count": null,
   "id": "2f4ed397",
   "metadata": {},
   "outputs": [],
   "source": [
    "df.explode(\"Režie\").explode(\"Hrají\").groupby(\"Režie\")[\"Hrají\"].nunique().nlargest(30)"
   ]
  },
  {
   "cell_type": "code",
   "execution_count": null,
   "id": "654dfffc",
   "metadata": {},
   "outputs": [],
   "source": [
    "df.explode(\"Režie\").explode(\"Žánr\").groupby(\"Režie\")[\"Žánr\"].nunique().nlargest(10)"
   ]
  },
  {
   "cell_type": "code",
   "execution_count": null,
   "id": "3076e713",
   "metadata": {},
   "outputs": [],
   "source": [
    "df.explode(\"Režie\").explode(\"Kostýmy\").groupby(\"Režie\")[\"Kostýmy\"].nunique().nlargest(5)"
   ]
  },
  {
   "cell_type": "code",
   "execution_count": null,
   "id": "61e431c2",
   "metadata": {},
   "outputs": [],
   "source": [
    "df.explode(\"Režie\").explode(\"Typologie\").groupby(\"Režie\")[\"Typologie\"].nunique().nlargest(5)"
   ]
  },
  {
   "cell_type": "code",
   "execution_count": null,
   "id": "c1153b64",
   "metadata": {},
   "outputs": [],
   "source": [
    "df.explode(\"Režie\").explode(\"Kategorie\").groupby(\"Režie\")[\"Kategorie\"].nunique().nlargest(5)"
   ]
  },
  {
   "cell_type": "code",
   "execution_count": null,
   "id": "84eea646",
   "metadata": {},
   "outputs": [],
   "source": [
    "df.explode(\"Hrají\")[\"Hrají\"].nunique()"
   ]
  },
  {
   "cell_type": "code",
   "execution_count": null,
   "id": "adc2e1b0",
   "metadata": {},
   "outputs": [],
   "source": [
    "df.explode(\"Režie\").explode(\"Scénář\").groupby(\"Režie\")[\"Scénář\"].nunique().nlargest(10)"
   ]
  },
  {
   "cell_type": "code",
   "execution_count": null,
   "id": "08319d18",
   "metadata": {},
   "outputs": [],
   "source": [
    "df.explode(\"Režie\").explode(\"Kamera\").groupby(\"Režie\")[\"Kamera\"].nunique().nlargest(10)"
   ]
  },
  {
   "cell_type": "code",
   "execution_count": null,
   "id": "5971b3e7",
   "metadata": {},
   "outputs": [],
   "source": [
    "df.explode(\"Režie\").explode(\"Dirigent\").groupby(\"Režie\")[\"Dirigent\"].nunique().nlargest(10)"
   ]
  },
  {
   "cell_type": "code",
   "execution_count": null,
   "id": "6dff13c7",
   "metadata": {},
   "outputs": [],
   "source": [
    "df.explode(\"Režie\").explode(\"Střih\").groupby(\"Režie\")[\"Střih\"].nunique().nlargest(10)"
   ]
  },
  {
   "cell_type": "code",
   "execution_count": null,
   "id": "847e6bda",
   "metadata": {},
   "outputs": [],
   "source": [
    "df.explode(\"Režie\").explode(\"Pomocná režie\").groupby(\"Režie\")[\"Pomocná režie\"].nunique().nlargest(10)"
   ]
  },
  {
   "cell_type": "code",
   "execution_count": null,
   "id": "5687d1e8",
   "metadata": {},
   "outputs": [],
   "source": [
    "df.explode(\"Kamera\").explode(\"Hrají\").groupby(\"Kamera\")[\"Hrají\"].nunique().nlargest(10)"
   ]
  },
  {
   "cell_type": "code",
   "execution_count": null,
   "id": "975c75f9",
   "metadata": {},
   "outputs": [],
   "source": [
    "kariery_reziseru = pd.Series(df.explode(\"Režie\").groupby(\"Režie\")[\"Copyright\"].max() -df.explode(\"Režie\").groupby(\"Režie\")[\"Copyright\"].min(), name=\"Kariéry režisérů\")"
   ]
  },
  {
   "cell_type": "code",
   "execution_count": null,
   "id": "a7dc1693",
   "metadata": {
    "scrolled": true
   },
   "outputs": [],
   "source": [
    "kariery_reziseru.sort_values(ascending=False).nlargest(15)"
   ]
  },
  {
   "cell_type": "code",
   "execution_count": null,
   "id": "1cbe2af9",
   "metadata": {},
   "outputs": [],
   "source": [
    "kariery_reziseru.plot.hist(bins=50)"
   ]
  },
  {
   "cell_type": "code",
   "execution_count": null,
   "id": "e42e3608",
   "metadata": {},
   "outputs": [],
   "source": [
    "df[(df[\"Copyright\"] > 1918) & (df[\"Copyright\"] < 1939)].explode(\"Režie\").explode(\"Hrají\").groupby(\"Režie\")[\"Hrají\"].nunique().nlargest(5)"
   ]
  },
  {
   "cell_type": "code",
   "execution_count": null,
   "id": "e982be49",
   "metadata": {},
   "outputs": [],
   "source": [
    "df[(df[\"Copyright\"] > 1918) & (df[\"Copyright\"] < 1939)].explode(\"Režie\").groupby(\"Režie\")[\"Film\"].nunique().nlargest(5)"
   ]
  },
  {
   "cell_type": "code",
   "execution_count": null,
   "id": "ddcb737e",
   "metadata": {},
   "outputs": [],
   "source": [
    "df[(df[\"Copyright\"] >= 1939) & (df[\"Copyright\"] <= 1944)].explode(\"Režie\").explode(\"Hrají\").groupby(\"Režie\")[\"Hrají\"].nunique().nlargest(5)"
   ]
  },
  {
   "cell_type": "code",
   "execution_count": null,
   "id": "f10dd6bf",
   "metadata": {},
   "outputs": [],
   "source": [
    "df[(df[\"Copyright\"] >= 1939) & (df[\"Copyright\"] <= 1944)].explode(\"Režie\").groupby(\"Režie\")[\"Film\"].nunique().nlargest(5)"
   ]
  },
  {
   "cell_type": "code",
   "execution_count": null,
   "id": "7f5bab7b",
   "metadata": {},
   "outputs": [],
   "source": [
    "df[(df[\"Copyright\"] >= 1945) & (df[\"Copyright\"] <= 1989)].explode(\"Režie\").explode(\"Hrají\").groupby(\"Režie\")[\"Hrají\"].nunique().nlargest(5)"
   ]
  },
  {
   "cell_type": "code",
   "execution_count": null,
   "id": "dc83388a",
   "metadata": {},
   "outputs": [],
   "source": [
    "df[(df[\"Copyright\"] >= 1945) & (df[\"Copyright\"] <= 1989)].explode(\"Režie\").groupby(\"Režie\")[\"Film\"].nunique().nlargest(5)"
   ]
  },
  {
   "cell_type": "code",
   "execution_count": null,
   "id": "316da52c",
   "metadata": {},
   "outputs": [],
   "source": [
    "df[(df[\"Copyright\"] > 1989)].explode(\"Režie\").explode(\"Hrají\").groupby(\"Režie\")[\"Hrají\"].nunique().nlargest(5)"
   ]
  },
  {
   "cell_type": "code",
   "execution_count": null,
   "id": "84f84d2d",
   "metadata": {},
   "outputs": [],
   "source": [
    "df[(df[\"Copyright\"] > 1989)].explode(\"Režie\").groupby(\"Režie\")[\"Film\"].nunique().nlargest(5)"
   ]
  }
 ],
 "metadata": {
  "kernelspec": {
   "display_name": "Python 3 (ipykernel)",
   "language": "python",
   "name": "python3"
  },
  "language_info": {
   "codemirror_mode": {
    "name": "ipython",
    "version": 3
   },
   "file_extension": ".py",
   "mimetype": "text/x-python",
   "name": "python",
   "nbconvert_exporter": "python",
   "pygments_lexer": "ipython3",
   "version": "3.10.8"
  }
 },
 "nbformat": 4,
 "nbformat_minor": 5
}
