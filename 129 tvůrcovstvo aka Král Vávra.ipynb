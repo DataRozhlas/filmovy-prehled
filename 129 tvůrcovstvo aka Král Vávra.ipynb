{
 "cells": [
  {
   "cell_type": "code",
   "execution_count": 1,
   "id": "e9b0c5af",
   "metadata": {},
   "outputs": [],
   "source": [
    "import os\n",
    "import pandas as pd\n",
    "pd.set_option('display.max_columns', None)\n",
    "df = pd.read_json(os.path.join(\"data\", \"filmy.json\"))"
   ]
  },
  {
   "cell_type": "code",
   "execution_count": 2,
   "id": "1d319108",
   "metadata": {},
   "outputs": [],
   "source": [
    "import json\n",
    "with open(os.path.join(\"data_fixes\", \"seznamy.json\"), encoding=\"utf-8\") as seznamy:\n",
    "    seznamy = json.loads(seznamy.read())"
   ]
  },
  {
   "cell_type": "code",
   "execution_count": 3,
   "id": "ac1506bb",
   "metadata": {},
   "outputs": [],
   "source": [
    "profese = seznamy[\"profese\"]"
   ]
  },
  {
   "cell_type": "code",
   "execution_count": 4,
   "id": "0f98771a",
   "metadata": {},
   "outputs": [],
   "source": [
    "def plose_jednoduse(x):\n",
    "    seznam = []\n",
    "    for y in x:\n",
    "        if y == None:\n",
    "            pass\n",
    "        if isinstance(y, str):\n",
    "            if y not in seznam:\n",
    "                seznam.append(y)\n",
    "        if isinstance(y, list):\n",
    "            for z in y:\n",
    "                if z not in seznam:\n",
    "                    seznam.append(z)\n",
    "    return(seznam)"
   ]
  },
  {
   "cell_type": "code",
   "execution_count": 48,
   "id": "4e292498",
   "metadata": {},
   "outputs": [
    {
     "ename": "AttributeError",
     "evalue": "'numpy.ndarray' object has no attribute 'drop_duplicates'",
     "output_type": "error",
     "traceback": [
      "\u001b[1;31m---------------------------------------------------------------------------\u001b[0m",
      "\u001b[1;31mAttributeError\u001b[0m                            Traceback (most recent call last)",
      "Input \u001b[1;32mIn [48]\u001b[0m, in \u001b[0;36m<cell line: 1>\u001b[1;34m()\u001b[0m\n\u001b[1;32m----> 1\u001b[0m df[\u001b[38;5;124m\"\u001b[39m\u001b[38;5;124mLidé\u001b[39m\u001b[38;5;124m\"\u001b[39m] \u001b[38;5;241m=\u001b[39m \u001b[43mdf\u001b[49m\u001b[43m[\u001b[49m\u001b[43mprofese\u001b[49m\u001b[43m]\u001b[49m\u001b[38;5;241;43m.\u001b[39;49m\u001b[43mvalues\u001b[49m\u001b[38;5;241;43m.\u001b[39;49m\u001b[43mdrop_duplicates\u001b[49m\u001b[38;5;241m.\u001b[39mto_list()\n\u001b[0;32m      2\u001b[0m df[\u001b[38;5;124m\"\u001b[39m\u001b[38;5;124mLidé\u001b[39m\u001b[38;5;124m\"\u001b[39m] \u001b[38;5;241m=\u001b[39m df[\u001b[38;5;124m\"\u001b[39m\u001b[38;5;124mLidé\u001b[39m\u001b[38;5;124m\"\u001b[39m]\u001b[38;5;241m.\u001b[39mapply(\u001b[38;5;28;01mlambda\u001b[39;00m x: plose_jednoduse(x))\n",
      "\u001b[1;31mAttributeError\u001b[0m: 'numpy.ndarray' object has no attribute 'drop_duplicates'"
     ]
    }
   ],
   "source": [
    "df[\"Lidé\"] = df[profese].values.tolist()\n",
    "df[\"Lidé\"] = df[\"Lidé\"].apply(lambda x: plose_jednoduse(x))"
   ]
  },
  {
   "cell_type": "code",
   "execution_count": 6,
   "id": "6d769af9",
   "metadata": {},
   "outputs": [],
   "source": [
    "df[\"Počet lidí\"] = df[\"Lidé\"].apply(lambda x: len(x))"
   ]
  },
  {
   "cell_type": "code",
   "execution_count": 7,
   "id": "5d4aa061",
   "metadata": {
    "scrolled": true
   },
   "outputs": [
    {
     "data": {
      "text/html": [
       "<div>\n",
       "<style scoped>\n",
       "    .dataframe tbody tr th:only-of-type {\n",
       "        vertical-align: middle;\n",
       "    }\n",
       "\n",
       "    .dataframe tbody tr th {\n",
       "        vertical-align: top;\n",
       "    }\n",
       "\n",
       "    .dataframe thead th {\n",
       "        text-align: right;\n",
       "    }\n",
       "</style>\n",
       "<table border=\"1\" class=\"dataframe\">\n",
       "  <thead>\n",
       "    <tr style=\"text-align: right;\">\n",
       "      <th></th>\n",
       "      <th>Film</th>\n",
       "      <th>Počet lidí</th>\n",
       "    </tr>\n",
       "  </thead>\n",
       "  <tbody>\n",
       "    <tr>\n",
       "      <th>2701</th>\n",
       "      <td>Temné slunce (397277)</td>\n",
       "      <td>479</td>\n",
       "    </tr>\n",
       "    <tr>\n",
       "      <th>4373</th>\n",
       "      <td>Nabarvené ptáče (401962)</td>\n",
       "      <td>406</td>\n",
       "    </tr>\n",
       "    <tr>\n",
       "      <th>2513</th>\n",
       "      <td>Osvobození Prahy (397108)</td>\n",
       "      <td>344</td>\n",
       "    </tr>\n",
       "    <tr>\n",
       "      <th>2815</th>\n",
       "      <td>Putování Jana Amose (397429)</td>\n",
       "      <td>344</td>\n",
       "    </tr>\n",
       "    <tr>\n",
       "      <th>2383</th>\n",
       "      <td>Dny zrady (396979)</td>\n",
       "      <td>344</td>\n",
       "    </tr>\n",
       "    <tr>\n",
       "      <th>4348</th>\n",
       "      <td>Králíček Jojo (402171)</td>\n",
       "      <td>279</td>\n",
       "    </tr>\n",
       "    <tr>\n",
       "      <th>2393</th>\n",
       "      <td>Hvězda padá vzhůru (397037)</td>\n",
       "      <td>274</td>\n",
       "    </tr>\n",
       "    <tr>\n",
       "      <th>4380</th>\n",
       "      <td>Skleněný pokoj (401929)</td>\n",
       "      <td>272</td>\n",
       "    </tr>\n",
       "    <tr>\n",
       "      <th>2634</th>\n",
       "      <td>Lásky mezi kapkami deště (397232)</td>\n",
       "      <td>271</td>\n",
       "    </tr>\n",
       "    <tr>\n",
       "      <th>3867</th>\n",
       "      <td>Colette (400571)</td>\n",
       "      <td>264</td>\n",
       "    </tr>\n",
       "  </tbody>\n",
       "</table>\n",
       "</div>"
      ],
      "text/plain": [
       "                                   Film  Počet lidí\n",
       "2701              Temné slunce (397277)         479\n",
       "4373           Nabarvené ptáče (401962)         406\n",
       "2513          Osvobození Prahy (397108)         344\n",
       "2815       Putování Jana Amose (397429)         344\n",
       "2383                 Dny zrady (396979)         344\n",
       "4348             Králíček Jojo (402171)         279\n",
       "2393        Hvězda padá vzhůru (397037)         274\n",
       "4380            Skleněný pokoj (401929)         272\n",
       "2634  Lásky mezi kapkami deště (397232)         271\n",
       "3867                   Colette (400571)         264"
      ]
     },
     "execution_count": 7,
     "metadata": {},
     "output_type": "execute_result"
    }
   ],
   "source": [
    "df[[\"Film\",\"Počet lidí\"]].sort_values(\"Počet lidí\",ascending=False).head(10)"
   ]
  },
  {
   "cell_type": "markdown",
   "id": "d92c1720",
   "metadata": {},
   "source": [
    "## První profese"
   ]
  },
  {
   "cell_type": "code",
   "execution_count": 8,
   "id": "f5ae8d59",
   "metadata": {},
   "outputs": [
    {
     "data": {
      "text/html": [
       "<div>\n",
       "<style scoped>\n",
       "    .dataframe tbody tr th:only-of-type {\n",
       "        vertical-align: middle;\n",
       "    }\n",
       "\n",
       "    .dataframe tbody tr th {\n",
       "        vertical-align: top;\n",
       "    }\n",
       "\n",
       "    .dataframe thead th {\n",
       "        text-align: right;\n",
       "    }\n",
       "</style>\n",
       "<table border=\"1\" class=\"dataframe\">\n",
       "  <thead>\n",
       "    <tr style=\"text-align: right;\">\n",
       "      <th></th>\n",
       "      <th>Rok</th>\n",
       "    </tr>\n",
       "  </thead>\n",
       "  <tbody>\n",
       "    <tr>\n",
       "      <th>Režie</th>\n",
       "      <td>1898</td>\n",
       "    </tr>\n",
       "    <tr>\n",
       "      <th>Původní filmový námět</th>\n",
       "      <td>1898</td>\n",
       "    </tr>\n",
       "    <tr>\n",
       "      <th>Kamera</th>\n",
       "      <td>1898</td>\n",
       "    </tr>\n",
       "    <tr>\n",
       "      <th>Hrají</th>\n",
       "      <td>1898</td>\n",
       "    </tr>\n",
       "    <tr>\n",
       "      <th>Účinkují</th>\n",
       "      <td>1901</td>\n",
       "    </tr>\n",
       "    <tr>\n",
       "      <th>Spolupráce</th>\n",
       "      <td>1902</td>\n",
       "    </tr>\n",
       "    <tr>\n",
       "      <th>Scénář</th>\n",
       "      <td>1910</td>\n",
       "    </tr>\n",
       "    <tr>\n",
       "      <th>Druhá kamera</th>\n",
       "      <td>1913</td>\n",
       "    </tr>\n",
       "    <tr>\n",
       "      <th>Architekt</th>\n",
       "      <td>1914</td>\n",
       "    </tr>\n",
       "    <tr>\n",
       "      <th>Výtvarník</th>\n",
       "      <td>1918</td>\n",
       "    </tr>\n",
       "    <tr>\n",
       "      <th>Návrhy titulků</th>\n",
       "      <td>1919</td>\n",
       "    </tr>\n",
       "    <tr>\n",
       "      <th>Asistent kamery</th>\n",
       "      <td>1919</td>\n",
       "    </tr>\n",
       "    <tr>\n",
       "      <th>Odborný poradce</th>\n",
       "      <td>1919</td>\n",
       "    </tr>\n",
       "    <tr>\n",
       "      <th>Animace</th>\n",
       "      <td>1920</td>\n",
       "    </tr>\n",
       "    <tr>\n",
       "      <th>Asistent režie</th>\n",
       "      <td>1922</td>\n",
       "    </tr>\n",
       "    <tr>\n",
       "      <th>Výprava</th>\n",
       "      <td>1922</td>\n",
       "    </tr>\n",
       "    <tr>\n",
       "      <th>Triky</th>\n",
       "      <td>1922</td>\n",
       "    </tr>\n",
       "    <tr>\n",
       "      <th>Návrhy kostýmů</th>\n",
       "      <td>1922</td>\n",
       "    </tr>\n",
       "    <tr>\n",
       "      <th>Střih</th>\n",
       "      <td>1924</td>\n",
       "    </tr>\n",
       "    <tr>\n",
       "      <th>Choreografie</th>\n",
       "      <td>1924</td>\n",
       "    </tr>\n",
       "    <tr>\n",
       "      <th>Vedoucí výroby</th>\n",
       "      <td>1926</td>\n",
       "    </tr>\n",
       "    <tr>\n",
       "      <th>Masky</th>\n",
       "      <td>1926</td>\n",
       "    </tr>\n",
       "    <tr>\n",
       "      <th>Zvláštní efekty</th>\n",
       "      <td>1928</td>\n",
       "    </tr>\n",
       "    <tr>\n",
       "      <th>Autor komentáře</th>\n",
       "      <td>1929</td>\n",
       "    </tr>\n",
       "    <tr>\n",
       "      <th>Mluví</th>\n",
       "      <td>1929</td>\n",
       "    </tr>\n",
       "    <tr>\n",
       "      <th>Zvuk</th>\n",
       "      <td>1929</td>\n",
       "    </tr>\n",
       "    <tr>\n",
       "      <th>Výtvarná spolupráce</th>\n",
       "      <td>1929</td>\n",
       "    </tr>\n",
       "    <tr>\n",
       "      <th>Pomocná režie</th>\n",
       "      <td>1929</td>\n",
       "    </tr>\n",
       "    <tr>\n",
       "      <th>Zástupce vedoucího výroby</th>\n",
       "      <td>1931</td>\n",
       "    </tr>\n",
       "    <tr>\n",
       "      <th>Kostýmy</th>\n",
       "      <td>1931</td>\n",
       "    </tr>\n",
       "    <tr>\n",
       "      <th>Asistent vedoucího výroby</th>\n",
       "      <td>1932</td>\n",
       "    </tr>\n",
       "    <tr>\n",
       "      <th>Asistent zvuku</th>\n",
       "      <td>1932</td>\n",
       "    </tr>\n",
       "    <tr>\n",
       "      <th>Dirigent</th>\n",
       "      <td>1932</td>\n",
       "    </tr>\n",
       "    <tr>\n",
       "      <th>Hudba k písni</th>\n",
       "      <td>1932</td>\n",
       "    </tr>\n",
       "    <tr>\n",
       "      <th>Dramaturg</th>\n",
       "      <td>1933</td>\n",
       "    </tr>\n",
       "    <tr>\n",
       "      <th>Hudební režie</th>\n",
       "      <td>1933</td>\n",
       "    </tr>\n",
       "    <tr>\n",
       "      <th>Komentář</th>\n",
       "      <td>1933</td>\n",
       "    </tr>\n",
       "    <tr>\n",
       "      <th>Zpívá</th>\n",
       "      <td>1934</td>\n",
       "    </tr>\n",
       "    <tr>\n",
       "      <th>Produkce</th>\n",
       "      <td>1935</td>\n",
       "    </tr>\n",
       "    <tr>\n",
       "      <th>Assistent architekta</th>\n",
       "      <td>1936</td>\n",
       "    </tr>\n",
       "    <tr>\n",
       "      <th>České podtitulky</th>\n",
       "      <td>1936</td>\n",
       "    </tr>\n",
       "    <tr>\n",
       "      <th>Skript</th>\n",
       "      <td>1938</td>\n",
       "    </tr>\n",
       "    <tr>\n",
       "      <th>Producent</th>\n",
       "      <td>1939</td>\n",
       "    </tr>\n",
       "    <tr>\n",
       "      <th>Výběr hudby</th>\n",
       "      <td>1945</td>\n",
       "    </tr>\n",
       "    <tr>\n",
       "      <th>Asistent střihu</th>\n",
       "      <td>1945</td>\n",
       "    </tr>\n",
       "    <tr>\n",
       "      <th>Technický scénář</th>\n",
       "      <td>1947</td>\n",
       "    </tr>\n",
       "    <tr>\n",
       "      <th>Pedagogické vedení</th>\n",
       "      <td>1949</td>\n",
       "    </tr>\n",
       "    <tr>\n",
       "      <th>Asistent vedoucího produkce</th>\n",
       "      <td>1952</td>\n",
       "    </tr>\n",
       "    <tr>\n",
       "      <th>Režie české verze</th>\n",
       "      <td>1965</td>\n",
       "    </tr>\n",
       "    <tr>\n",
       "      <th>Dialogy české verze</th>\n",
       "      <td>1965</td>\n",
       "    </tr>\n",
       "    <tr>\n",
       "      <th>Autor projektu</th>\n",
       "      <td>1967</td>\n",
       "    </tr>\n",
       "    <tr>\n",
       "      <th>Kaskadéři</th>\n",
       "      <td>1970</td>\n",
       "    </tr>\n",
       "    <tr>\n",
       "      <th>Koordinátor kaskadérů</th>\n",
       "      <td>1982</td>\n",
       "    </tr>\n",
       "    <tr>\n",
       "      <th>Výkonná produkce</th>\n",
       "      <td>1990</td>\n",
       "    </tr>\n",
       "    <tr>\n",
       "      <th>Vedoucí produkce</th>\n",
       "      <td>1991</td>\n",
       "    </tr>\n",
       "    <tr>\n",
       "      <th>Zástupce vedoucího produkce</th>\n",
       "      <td>1991</td>\n",
       "    </tr>\n",
       "    <tr>\n",
       "      <th>Postprodukce</th>\n",
       "      <td>1997</td>\n",
       "    </tr>\n",
       "  </tbody>\n",
       "</table>\n",
       "</div>"
      ],
      "text/plain": [
       "                              Rok\n",
       "Režie                        1898\n",
       "Původní filmový námět        1898\n",
       "Kamera                       1898\n",
       "Hrají                        1898\n",
       "Účinkují                     1901\n",
       "Spolupráce                   1902\n",
       "Scénář                       1910\n",
       "Druhá kamera                 1913\n",
       "Architekt                    1914\n",
       "Výtvarník                    1918\n",
       "Návrhy titulků               1919\n",
       "Asistent kamery              1919\n",
       "Odborný poradce              1919\n",
       "Animace                      1920\n",
       "Asistent režie               1922\n",
       "Výprava                      1922\n",
       "Triky                        1922\n",
       "Návrhy kostýmů               1922\n",
       "Střih                        1924\n",
       "Choreografie                 1924\n",
       "Vedoucí výroby               1926\n",
       "Masky                        1926\n",
       "Zvláštní efekty              1928\n",
       "Autor komentáře              1929\n",
       "Mluví                        1929\n",
       "Zvuk                         1929\n",
       "Výtvarná spolupráce          1929\n",
       "Pomocná režie                1929\n",
       "Zástupce vedoucího výroby    1931\n",
       "Kostýmy                      1931\n",
       "Asistent vedoucího výroby    1932\n",
       "Asistent zvuku               1932\n",
       "Dirigent                     1932\n",
       "Hudba k písni                1932\n",
       "Dramaturg                    1933\n",
       "Hudební režie                1933\n",
       "Komentář                     1933\n",
       "Zpívá                        1934\n",
       "Produkce                     1935\n",
       "Assistent architekta         1936\n",
       "České podtitulky             1936\n",
       "Skript                       1938\n",
       "Producent                    1939\n",
       "Výběr hudby                  1945\n",
       "Asistent střihu              1945\n",
       "Technický scénář             1947\n",
       "Pedagogické vedení           1949\n",
       "Asistent vedoucího produkce  1952\n",
       "Režie české verze            1965\n",
       "Dialogy české verze          1965\n",
       "Autor projektu               1967\n",
       "Kaskadéři                    1970\n",
       "Koordinátor kaskadérů        1982\n",
       "Výkonná produkce             1990\n",
       "Vedoucí produkce             1991\n",
       "Zástupce vedoucího produkce  1991\n",
       "Postprodukce                 1997"
      ]
     },
     "execution_count": 8,
     "metadata": {},
     "output_type": "execute_result"
    }
   ],
   "source": [
    "prvni_profese = {}\n",
    "for p in profese:\n",
    "    prvni_profese[p] = df.explode(p).groupby(p)[\"Copyright\"].min().min()\n",
    "prvni_profese = pd.DataFrame.from_dict(prvni_profese, orient=\"index\", columns=[\"Rok\"]).sort_values(by=\"Rok\")\n",
    "prvni_profese"
   ]
  },
  {
   "cell_type": "markdown",
   "id": "2bab7960",
   "metadata": {},
   "source": [
    "## Režie"
   ]
  },
  {
   "cell_type": "markdown",
   "id": "b0aa8675",
   "metadata": {},
   "source": [
    "### Délka kariéry a produktivita"
   ]
  },
  {
   "cell_type": "code",
   "execution_count": 9,
   "id": "0e41ce49",
   "metadata": {},
   "outputs": [],
   "source": [
    "rezie = df.explode(\"Režie\").explode(\"Typologie\")"
   ]
  },
  {
   "cell_type": "code",
   "execution_count": 10,
   "id": "15dc4213",
   "metadata": {},
   "outputs": [],
   "source": [
    "rezie = rezie.replace({\"neuvedeno\": None})"
   ]
  },
  {
   "cell_type": "code",
   "execution_count": 11,
   "id": "eeea4226",
   "metadata": {
    "scrolled": true
   },
   "outputs": [
    {
     "data": {
      "text/plain": [
       "Režie\n",
       "Martin Frič (20324)           85\n",
       "Miroslav Cikán (31969)        48\n",
       "Karel Kachyňa (3526)          47\n",
       "Vladimír Slavínský (31967)    47\n",
       "Otakar Vávra (9507)           45\n",
       "Karel Lamač (37847)           37\n",
       "Svatopluk Innemann (33860)    36\n",
       "Václav Kubásek (37286)        35\n",
       "Václav Binovec (37467)        29\n",
       "Vladimír Čech (7871)          27\n",
       "Name: Film, dtype: int64"
      ]
     },
     "execution_count": 11,
     "metadata": {},
     "output_type": "execute_result"
    }
   ],
   "source": [
    "rezie[rezie[\"Délka\"] == \"dlouhometrážní\"].groupby(\"Režie\")[\"Film\"].nunique().nlargest(10)"
   ]
  },
  {
   "cell_type": "code",
   "execution_count": 12,
   "id": "59e90160",
   "metadata": {},
   "outputs": [
    {
     "data": {
      "text/plain": [
       "Typologie    Režie                     \n",
       "distribuční  Martin Frič (20324)           88\n",
       "hraný        Martin Frič (20324)           86\n",
       "distribuční  Otakar Vávra (9507)           56\n",
       "             Vladimír Slavínský (31967)    51\n",
       "hraný        Vladimír Slavínský (31967)    51\n",
       "distribuční  Miroslav Cikán (31969)        49\n",
       "             Václav Binovec (37467)        49\n",
       "hraný        Miroslav Cikán (31969)        49\n",
       "             Václav Binovec (37467)        49\n",
       "distribuční  Karel Kachyňa (3526)          47\n",
       "Name: Film, dtype: int64"
      ]
     },
     "execution_count": 12,
     "metadata": {},
     "output_type": "execute_result"
    }
   ],
   "source": [
    "rezie.groupby([\"Typologie\",\"Režie\"])[\"Film\"].nunique().nlargest(10)"
   ]
  },
  {
   "cell_type": "code",
   "execution_count": 49,
   "id": "d7b1186e",
   "metadata": {},
   "outputs": [
    {
     "data": {
      "text/plain": [
       "Režie\n",
       "Břetislav Pojar (3113)       60\n",
       "Karel Vachek (565)           59\n",
       "Otakar Vávra (9507)          59\n",
       "Hermína Týrlová (4754)       58\n",
       "Václav Vorlíček (1044)       57\n",
       "Jan Němec (3041)             56\n",
       "Dušan Klein (2568)           55\n",
       "Jiří Menzel (7887)           52\n",
       "Agnieszka Holland (12106)    51\n",
       "Jan Švankmajer (406)         50\n",
       "Karel Kachyňa (3526)         50\n",
       "Vojtěch Jasný (4666)         50\n",
       "Rajko Grlić (80991)          47\n",
       "Věra Chytilová (1555)        47\n",
       "František Filip (7822)       46\n",
       "Name: Copyright, dtype: int64"
      ]
     },
     "execution_count": 49,
     "metadata": {},
     "output_type": "execute_result"
    }
   ],
   "source": [
    "pd.Series(rezie.groupby(\"Režie\")[\"Copyright\"].max() - rezie.groupby(\"Režie\")[\"Copyright\"].min()).nlargest(15)"
   ]
  },
  {
   "cell_type": "code",
   "execution_count": 14,
   "id": "9484eddc",
   "metadata": {},
   "outputs": [],
   "source": [
    "persony = pd.read_json(os.path.join(\"data\", \"persony.json\"))"
   ]
  },
  {
   "cell_type": "code",
   "execution_count": 15,
   "id": "571a3ca9",
   "metadata": {},
   "outputs": [],
   "source": [
    "rezie = rezie.merge(persony, left_on=\"Režie\", right_on=\"Jméno\")"
   ]
  },
  {
   "cell_type": "code",
   "execution_count": 16,
   "id": "9551298c",
   "metadata": {},
   "outputs": [],
   "source": [
    "rezie[\"Věk\"] = rezie[\"Copyright\"] - rezie[\"Rok narození\"]"
   ]
  },
  {
   "cell_type": "code",
   "execution_count": 17,
   "id": "02cab908",
   "metadata": {},
   "outputs": [
    {
     "data": {
      "text/plain": [
       "Režie\n",
       "Břetislav Pojar (3113)    88.0\n",
       "Jan Švankmajer (406)      84.0\n",
       "Karel Steklý (35894)      82.0\n",
       "Václav Vorlíček (1044)    81.0\n",
       "Jan Němec (3041)          80.0\n",
       "Name: Věk, dtype: float64"
      ]
     },
     "execution_count": 17,
     "metadata": {},
     "output_type": "execute_result"
    }
   ],
   "source": [
    "rezie[rezie[\"Délka\"] == \"dlouhometrážní\"].groupby(\"Režie\")[\"Věk\"].max().nlargest()"
   ]
  },
  {
   "cell_type": "code",
   "execution_count": 18,
   "id": "aee64630",
   "metadata": {},
   "outputs": [
    {
     "data": {
      "text/plain": [
       "Režie\n",
       "Václav Havel (676)           75.0\n",
       "Roman Polanski (22697)       72.0\n",
       "Jiří Adamec (28467)          71.0\n",
       "Lev Golub (54110)            71.0\n",
       "José Maria Forqué (79377)    70.0\n",
       "Name: Věk, dtype: float64"
      ]
     },
     "execution_count": 18,
     "metadata": {},
     "output_type": "execute_result"
    }
   ],
   "source": [
    "rezie[rezie[\"Délka\"] == \"dlouhometrážní\"].groupby(\"Režie\")[\"Věk\"].min().nlargest()"
   ]
  },
  {
   "cell_type": "code",
   "execution_count": 19,
   "id": "933f4984",
   "metadata": {},
   "outputs": [
    {
     "data": {
      "text/plain": [
       "Režie\n",
       "Matěj Chlupáček (86730)    18.0\n",
       "David Balda (65707)        19.0\n",
       "Radim Špaček (496)         22.0\n",
       "Tomáš Řehořek (20771)      22.0\n",
       "Eman Fiala (64088)         23.0\n",
       "Name: Věk, dtype: float64"
      ]
     },
     "execution_count": 19,
     "metadata": {},
     "output_type": "execute_result"
    }
   ],
   "source": [
    "rezie[(rezie[\"Typologie\"] == \"hraný\") & (rezie[\"Délka\"] == \"dlouhometrážní\")].groupby(\"Režie\")[\"Věk\"].min().nsmallest()"
   ]
  },
  {
   "cell_type": "code",
   "execution_count": 20,
   "id": "18e0073b",
   "metadata": {
    "scrolled": true
   },
   "outputs": [
    {
     "data": {
      "text/plain": [
       "<AxesSubplot:xlabel='Copyright'>"
      ]
     },
     "execution_count": 20,
     "metadata": {},
     "output_type": "execute_result"
    },
    {
     "data": {
      "image/png": "[encoded data removed]",
      "text/plain": [
       "<Figure size 1440x360 with 1 Axes>"
      ]
     },
     "metadata": {
      "needs_background": "light"
     },
     "output_type": "display_data"
    }
   ],
   "source": [
    "rezie[(rezie[\"Typologie\"] == \"hraný\") & (rezie[\"Délka\"] == \"dlouhometrážní\")].groupby(\"Copyright\")[\"Věk\"].min().plot.bar(figsize=(20,5))"
   ]
  },
  {
   "cell_type": "markdown",
   "id": "9010f4cd",
   "metadata": {},
   "source": [
    "### Režie: další pikošky"
   ]
  },
  {
   "cell_type": "code",
   "execution_count": 21,
   "id": "6d33a604",
   "metadata": {},
   "outputs": [],
   "source": [
    "odrezirovano = pd.Series(rezie.groupby(\"Režie\")[\"Film\"].nunique(), name=\"Odrežírováno\")"
   ]
  },
  {
   "cell_type": "code",
   "execution_count": 22,
   "id": "5cb2ec9e",
   "metadata": {},
   "outputs": [],
   "source": [
    "rezie = rezie.merge(odrezirovano, on=\"Režie\")"
   ]
  },
  {
   "cell_type": "code",
   "execution_count": 23,
   "id": "a9f8d20b",
   "metadata": {},
   "outputs": [
    {
     "data": {
      "text/plain": [
       "Režie\n",
       "Ladislav Rychman (7892)     124.181818\n",
       "Tomáš Vorel (106)           120.833333\n",
       "Václav Matějka (29527)      114.642857\n",
       "Oldřich Lipský (7883)       114.380952\n",
       "K. M. Walló (51350)         107.166667\n",
       "Jan Svěrák (476)            104.200000\n",
       "Juraj Herz (7875)           104.058824\n",
       "Karel Janák (16647)         103.125000\n",
       "Otakar Vávra (9507)         101.511111\n",
       "Zdeněk Podskalský (4749)     99.444444\n",
       "Name: Počet lidí, dtype: float64"
      ]
     },
     "execution_count": 23,
     "metadata": {},
     "output_type": "execute_result"
    }
   ],
   "source": [
    "rezie[(rezie[\"Odrežírováno\"] >= 10) & (rezie[\"Délka\"] == \"dlouhometrážní\")].groupby(\"Režie\")[\"Počet lidí\"].mean().nlargest(10)"
   ]
  },
  {
   "cell_type": "code",
   "execution_count": 24,
   "id": "6f778de9",
   "metadata": {},
   "outputs": [
    {
     "data": {
      "text/plain": [
       "Režie\n",
       "Tomáš Vorel (106)          119.0\n",
       "Václav Matějka (29527)     110.5\n",
       "Jan Svěrák (476)           108.0\n",
       "K. M. Walló (51350)        107.5\n",
       "Karel Janák (16647)        105.5\n",
       "Oldřich Lipský (7883)      105.0\n",
       "Ladislav Rychman (7892)    102.0\n",
       "Juraj Herz (7875)           99.0\n",
       "Zdeněk Troška (3874)        96.0\n",
       "Karel Steklý (35894)        91.5\n",
       "Name: Počet lidí, dtype: float64"
      ]
     },
     "execution_count": 24,
     "metadata": {},
     "output_type": "execute_result"
    }
   ],
   "source": [
    "rezie[(rezie[\"Odrežírováno\"] >= 10) & (rezie[\"Délka\"] == \"dlouhometrážní\")].groupby(\"Režie\")[\"Počet lidí\"].median().nlargest(10)"
   ]
  },
  {
   "cell_type": "code",
   "execution_count": 25,
   "id": "d644fc2c",
   "metadata": {},
   "outputs": [
    {
     "data": {
      "text/plain": [
       "Režie\n",
       "Otakar Vávra (9507)        1993\n",
       "Karel Kachyňa (3526)       1288\n",
       "Oldřich Lipský (7883)      1114\n",
       "Karel Steklý (35894)       1079\n",
       "Zdeněk Troška (3874)        993\n",
       "Martin Frič (20324)         969\n",
       "Juraj Herz (7875)           958\n",
       "Dušan Klein (2568)          942\n",
       "Václav Vorlíček (1044)      928\n",
       "Ladislav Rychman (7892)     913\n",
       "Name: Hrají, dtype: int64"
      ]
     },
     "execution_count": 25,
     "metadata": {},
     "output_type": "execute_result"
    }
   ],
   "source": [
    "rezie.explode(\"Hrají\").groupby(\"Režie\")[\"Hrají\"].nunique().nlargest(10)"
   ]
  },
  {
   "cell_type": "code",
   "execution_count": 26,
   "id": "160913a0",
   "metadata": {},
   "outputs": [
    {
     "data": {
      "text/plain": [
       "Režie\n",
       "Otakar Vávra (9507)         329\n",
       "Martin Frič (20324)         286\n",
       "Karel Steklý (35894)        285\n",
       "Karel Kachyňa (3526)        236\n",
       "Oldřich Lipský (7883)       234\n",
       "Ivo Novák (7889)            229\n",
       "Josef Mach (7885)           229\n",
       "Vladimír Čech (7871)        229\n",
       "Václav Vorlíček (1044)      228\n",
       "Zdeněk Podskalský (4749)    218\n",
       "Name: Hrají, dtype: int64"
      ]
     },
     "execution_count": 26,
     "metadata": {},
     "output_type": "execute_result"
    }
   ],
   "source": [
    "nejobsazovanejsi = df.explode(\"Hrají\").groupby(\"Hrají\")[\"Film\"].nunique().nlargest(500).index.to_list()\n",
    "df_nejobsazovanejsi = df.explode(\"Hrají\")\n",
    "df_nejobsazovanejsi = df_nejobsazovanejsi[df_nejobsazovanejsi[\"Hrají\"].isin(nejobsazovanejsi)]\n",
    "df_nejobsazovanejsi.explode(\"Režie\").groupby(\"Režie\")[\"Hrají\"].nunique().nlargest(10)"
   ]
  },
  {
   "cell_type": "code",
   "execution_count": 27,
   "id": "654dfffc",
   "metadata": {},
   "outputs": [
    {
     "data": {
      "text/plain": [
       "Režie\n",
       "Martin Frič (20324)           26\n",
       "Otakar Vávra (9507)           25\n",
       "Věra Chytilová (1555)         23\n",
       "Evald Schorm (7895)           22\n",
       "Karel Kachyňa (3526)          19\n",
       "F. A. Brabec (5610)           18\n",
       "Jaromil Jireš (5317)          16\n",
       "Svatopluk Innemann (33860)    16\n",
       "Václav Vorlíček (1044)        16\n",
       "neuvedeno                     16\n",
       "Name: Žánr, dtype: int64"
      ]
     },
     "execution_count": 27,
     "metadata": {},
     "output_type": "execute_result"
    }
   ],
   "source": [
    "df.explode(\"Režie\").explode(\"Žánr\").groupby(\"Režie\")[\"Žánr\"].nunique().nlargest(10)"
   ]
  },
  {
   "cell_type": "code",
   "execution_count": 28,
   "id": "adc2e1b0",
   "metadata": {},
   "outputs": [
    {
     "data": {
      "text/plain": [
       "Režie\n",
       "Martin Frič (20324)           82\n",
       "Tomáš Vorel (106)             57\n",
       "Miroslav Cikán (31969)        42\n",
       "Václav Binovec (37467)        42\n",
       "Vladimír Čech (7871)          40\n",
       "Svatopluk Innemann (33860)    36\n",
       "Karel Lamač (37847)           31\n",
       "Karel Kachyňa (3526)          30\n",
       "Otakar Vávra (9507)           30\n",
       "Oldřich Lipský (7883)         29\n",
       "Name: Scénář, dtype: int64"
      ]
     },
     "execution_count": 28,
     "metadata": {},
     "output_type": "execute_result"
    }
   ],
   "source": [
    "rezie.explode(\"Scénář\").groupby(\"Režie\")[\"Scénář\"].nunique().nlargest(10)"
   ]
  },
  {
   "cell_type": "code",
   "execution_count": 29,
   "id": "08319d18",
   "metadata": {},
   "outputs": [
    {
     "data": {
      "text/plain": [
       "Režie\n",
       "Otakar Vávra (9507)         79\n",
       "J. A. Holman (37290)        62\n",
       "Michael Kocáb (9669)        38\n",
       "David Sís (10869)           37\n",
       "Martin Frič (20324)         32\n",
       "Helena Třeštíková (709)     30\n",
       "Miroslav Janek (536)        30\n",
       "Vladimír Škultéty (7223)    30\n",
       "Václav Kubásek (37286)      28\n",
       "Pavel Abrahám (19039)       27\n",
       "Name: Kamera, dtype: int64"
      ]
     },
     "execution_count": 29,
     "metadata": {},
     "output_type": "execute_result"
    }
   ],
   "source": [
    "rezie.explode(\"Kamera\").groupby(\"Režie\")[\"Kamera\"].nunique().nlargest(10)"
   ]
  },
  {
   "cell_type": "code",
   "execution_count": 30,
   "id": "fd048332",
   "metadata": {},
   "outputs": [
    {
     "data": {
      "text/plain": [
       "[]"
      ]
     },
     "execution_count": 30,
     "metadata": {},
     "output_type": "execute_result"
    }
   ],
   "source": [
    "rezie[rezie[\"Režie\"] == \"J. A. Holman\"][\"Kamera\"].to_list()"
   ]
  },
  {
   "cell_type": "code",
   "execution_count": 31,
   "id": "4600fa2f",
   "metadata": {},
   "outputs": [
    {
     "data": {
      "text/html": [
       "<div>\n",
       "<style scoped>\n",
       "    .dataframe tbody tr th:only-of-type {\n",
       "        vertical-align: middle;\n",
       "    }\n",
       "\n",
       "    .dataframe tbody tr th {\n",
       "        vertical-align: top;\n",
       "    }\n",
       "\n",
       "    .dataframe thead th {\n",
       "        text-align: right;\n",
       "    }\n",
       "</style>\n",
       "<table border=\"1\" class=\"dataframe\">\n",
       "  <thead>\n",
       "    <tr style=\"text-align: right;\">\n",
       "      <th></th>\n",
       "      <th>Film</th>\n",
       "      <th>Země původu</th>\n",
       "      <th>Copyright</th>\n",
       "      <th>Rok výroby</th>\n",
       "      <th>Premiéra</th>\n",
       "      <th>Minutáž</th>\n",
       "      <th>Režie</th>\n",
       "      <th>Kategorie</th>\n",
       "      <th>Žánr</th>\n",
       "      <th>Typologie</th>\n",
       "      <th>Originální název</th>\n",
       "      <th>Český název</th>\n",
       "      <th>Anglický název</th>\n",
       "      <th>Souběžný název</th>\n",
       "      <th>Pracovní název</th>\n",
       "      <th>Hrají</th>\n",
       "      <th>Postavy</th>\n",
       "      <th>Pomocná režie</th>\n",
       "      <th>Asistent režie</th>\n",
       "      <th>Původní filmový námět</th>\n",
       "      <th>Scénář</th>\n",
       "      <th>Dramaturg</th>\n",
       "      <th>Kamera</th>\n",
       "      <th>Asistent kamery</th>\n",
       "      <th>Architekt</th>\n",
       "      <th>Návrhy kostýmů</th>\n",
       "      <th>Masky</th>\n",
       "      <th>Střih</th>\n",
       "      <th>Zvuk</th>\n",
       "      <th>Producent</th>\n",
       "      <th>Vedoucí výroby</th>\n",
       "      <th>Zástupce vedoucího výroby</th>\n",
       "      <th>Odborný poradce</th>\n",
       "      <th>Hudba</th>\n",
       "      <th>Choreografie</th>\n",
       "      <th>Lokace</th>\n",
       "      <th>Distribuční slogan</th>\n",
       "      <th>Výrobce</th>\n",
       "      <th>S podporou</th>\n",
       "      <th>Nositelé copyrightu</th>\n",
       "      <th>Distribuce</th>\n",
       "      <th>Délka</th>\n",
       "      <th>Distribuční nosič</th>\n",
       "      <th>Poměr stran</th>\n",
       "      <th>Barva</th>\n",
       "      <th>Zvukový</th>\n",
       "      <th>Zvukový systém/formát</th>\n",
       "      <th>Verze</th>\n",
       "      <th>Mluveno</th>\n",
       "      <th>Podtitulky</th>\n",
       "      <th>Úvodní/závěrečné titulky</th>\n",
       "      <th>Anotace</th>\n",
       "      <th>Obsah</th>\n",
       "      <th>Technický scénář</th>\n",
       "      <th>Výtvarník</th>\n",
       "      <th>Animace</th>\n",
       "      <th>Triky</th>\n",
       "      <th>Postprodukce</th>\n",
       "      <th>Návrhy titulků</th>\n",
       "      <th>Pedagogické vedení</th>\n",
       "      <th>Použitá hudba</th>\n",
       "      <th>Studentský film</th>\n",
       "      <th>Původní metráž</th>\n",
       "      <th>Mezititulky</th>\n",
       "      <th>Ocenění</th>\n",
       "      <th>Poznámka</th>\n",
       "      <th>Mluví</th>\n",
       "      <th>Vizuální efekty</th>\n",
       "      <th>Vedoucí produkce</th>\n",
       "      <th>Předloha</th>\n",
       "      <th>Kaskadéři</th>\n",
       "      <th>Text písně</th>\n",
       "      <th>Zpívá</th>\n",
       "      <th>pásmo</th>\n",
       "      <th>Části</th>\n",
       "      <th>Produkce</th>\n",
       "      <th>Výtvarná spolupráce</th>\n",
       "      <th>Nahrál</th>\n",
       "      <th>Partner</th>\n",
       "      <th>Animační technika</th>\n",
       "      <th>Výprava</th>\n",
       "      <th>Spolupráce</th>\n",
       "      <th>Komentář</th>\n",
       "      <th>Autor komentáře</th>\n",
       "      <th>Druhá kamera</th>\n",
       "      <th>Zvláštní efekty</th>\n",
       "      <th>Koproducent</th>\n",
       "      <th>Výběr hudby</th>\n",
       "      <th>Hudební dramaturgie</th>\n",
       "      <th>Písně</th>\n",
       "      <th>Produkční data</th>\n",
       "      <th>Koordinátor kaskadérů</th>\n",
       "      <th>Výkonná produkce</th>\n",
       "      <th>Zástupce vedoucího produkce</th>\n",
       "      <th>Hudební režie</th>\n",
       "      <th>Účinkují</th>\n",
       "      <th>Dirigent</th>\n",
       "      <th>Ateliéry</th>\n",
       "      <th>Režie české verze</th>\n",
       "      <th>Výrobce české verze</th>\n",
       "      <th>Tančí</th>\n",
       "      <th>České podtitulky</th>\n",
       "      <th>Výrobce českých podtitulků</th>\n",
       "      <th>Asistent vedoucího produkce</th>\n",
       "      <th>Natáčecí formát</th>\n",
       "      <th>Dialogy české verze</th>\n",
       "      <th>Autor projektu</th>\n",
       "      <th>Stav filmu</th>\n",
       "      <th>Souběžný anglický název</th>\n",
       "      <th>Assistent architekta</th>\n",
       "      <th>Asistent zvuku</th>\n",
       "      <th>Podnázev</th>\n",
       "      <th>Asistent vedoucího výroby</th>\n",
       "      <th>Skript</th>\n",
       "      <th>Kostýmy</th>\n",
       "      <th>Asistent střihu</th>\n",
       "      <th>povídkový film</th>\n",
       "      <th>Povídky</th>\n",
       "      <th>Hudba k písni</th>\n",
       "      <th>Prodej práv</th>\n",
       "      <th>Podnázev anglický</th>\n",
       "      <th>Výtvarník pozadí</th>\n",
       "      <th>Výrobní skupina</th>\n",
       "      <th>Zákazník</th>\n",
       "      <th>Vývozní společnost</th>\n",
       "      <th>Umělecké vedení</th>\n",
       "      <th>Zpěv role</th>\n",
       "      <th>Překlad české verze</th>\n",
       "      <th>Rychlost</th>\n",
       "      <th>Přístupnost</th>\n",
       "      <th>Začátek výroby</th>\n",
       "      <th>Konec výroby</th>\n",
       "      <th>Lidé</th>\n",
       "      <th>Počet lidí</th>\n",
       "      <th>Jméno</th>\n",
       "      <th>Id</th>\n",
       "      <th>Medailon</th>\n",
       "      <th>Osoba</th>\n",
       "      <th>Alternativní jména</th>\n",
       "      <th>Životopis</th>\n",
       "      <th>Datum narození</th>\n",
       "      <th>Místo narození</th>\n",
       "      <th>Datum úmrtí</th>\n",
       "      <th>Místo úmrtí</th>\n",
       "      <th>Město narození</th>\n",
       "      <th>Stát narození</th>\n",
       "      <th>Město úmrtí</th>\n",
       "      <th>Stát úmrtí</th>\n",
       "      <th>Rok narození</th>\n",
       "      <th>Rok úmrtí</th>\n",
       "      <th>Věk</th>\n",
       "      <th>Odrežírováno</th>\n",
       "    </tr>\n",
       "  </thead>\n",
       "  <tbody>\n",
       "  </tbody>\n",
       "</table>\n",
       "</div>"
      ],
      "text/plain": [
       "Empty DataFrame\n",
       "Columns: [Film, Země původu, Copyright, Rok výroby, Premiéra, Minutáž, Režie, Kategorie, Žánr, Typologie, Originální název, Český název, Anglický název, Souběžný název, Pracovní název, Hrají, Postavy, Pomocná režie, Asistent režie, Původní filmový námět, Scénář, Dramaturg, Kamera, Asistent kamery, Architekt, Návrhy kostýmů, Masky, Střih, Zvuk, Producent, Vedoucí výroby, Zástupce vedoucího výroby, Odborný poradce, Hudba, Choreografie, Lokace, Distribuční slogan, Výrobce, S podporou, Nositelé copyrightu, Distribuce, Délka, Distribuční nosič, Poměr stran, Barva, Zvukový, Zvukový systém/formát, Verze, Mluveno, Podtitulky, Úvodní/závěrečné titulky, Anotace, Obsah, Technický scénář, Výtvarník, Animace, Triky, Postprodukce, Návrhy titulků, Pedagogické vedení, Použitá hudba, Studentský film, Původní metráž, Mezititulky, Ocenění, Poznámka, Mluví, Vizuální efekty, Vedoucí produkce, Předloha, Kaskadéři, Text písně, Zpívá, pásmo, Části, Produkce, Výtvarná spolupráce, Nahrál, Partner, Animační technika, Výprava, Spolupráce, Komentář, Autor komentáře, Druhá kamera, Zvláštní efekty, Koproducent, Výběr hudby, Hudební dramaturgie, Písně, Produkční data, Koordinátor kaskadérů, Výkonná produkce, Zástupce vedoucího produkce, Hudební režie, Účinkují, Dirigent, Ateliéry, Režie české verze, Výrobce české verze, ...]\n",
       "Index: []"
      ]
     },
     "execution_count": 31,
     "metadata": {},
     "output_type": "execute_result"
    }
   ],
   "source": [
    "rezie[rezie[\"Režie\"].str.contains(\"/ž/\")]"
   ]
  },
  {
   "cell_type": "code",
   "execution_count": 32,
   "id": "df219a61",
   "metadata": {},
   "outputs": [
    {
     "data": {
      "text/html": [
       "<div>\n",
       "<style scoped>\n",
       "    .dataframe tbody tr th:only-of-type {\n",
       "        vertical-align: middle;\n",
       "    }\n",
       "\n",
       "    .dataframe tbody tr th {\n",
       "        vertical-align: top;\n",
       "    }\n",
       "\n",
       "    .dataframe thead th {\n",
       "        text-align: right;\n",
       "    }\n",
       "</style>\n",
       "<table border=\"1\" class=\"dataframe\">\n",
       "  <thead>\n",
       "    <tr style=\"text-align: right;\">\n",
       "      <th></th>\n",
       "      <th>Film</th>\n",
       "      <th>Země původu</th>\n",
       "      <th>Copyright</th>\n",
       "      <th>Rok výroby</th>\n",
       "      <th>Premiéra</th>\n",
       "      <th>Minutáž</th>\n",
       "      <th>Režie</th>\n",
       "      <th>Kategorie</th>\n",
       "      <th>Žánr</th>\n",
       "      <th>Typologie</th>\n",
       "      <th>Originální název</th>\n",
       "      <th>Český název</th>\n",
       "      <th>Anglický název</th>\n",
       "      <th>Souběžný název</th>\n",
       "      <th>Pracovní název</th>\n",
       "      <th>Hrají</th>\n",
       "      <th>Postavy</th>\n",
       "      <th>Pomocná režie</th>\n",
       "      <th>Asistent režie</th>\n",
       "      <th>Původní filmový námět</th>\n",
       "      <th>Scénář</th>\n",
       "      <th>Dramaturg</th>\n",
       "      <th>Kamera</th>\n",
       "      <th>Asistent kamery</th>\n",
       "      <th>Architekt</th>\n",
       "      <th>Návrhy kostýmů</th>\n",
       "      <th>Masky</th>\n",
       "      <th>Střih</th>\n",
       "      <th>Zvuk</th>\n",
       "      <th>Producent</th>\n",
       "      <th>Vedoucí výroby</th>\n",
       "      <th>Zástupce vedoucího výroby</th>\n",
       "      <th>Odborný poradce</th>\n",
       "      <th>Hudba</th>\n",
       "      <th>Choreografie</th>\n",
       "      <th>Lokace</th>\n",
       "      <th>Distribuční slogan</th>\n",
       "      <th>Výrobce</th>\n",
       "      <th>S podporou</th>\n",
       "      <th>Nositelé copyrightu</th>\n",
       "      <th>Distribuce</th>\n",
       "      <th>Délka</th>\n",
       "      <th>Distribuční nosič</th>\n",
       "      <th>Poměr stran</th>\n",
       "      <th>Barva</th>\n",
       "      <th>Zvukový</th>\n",
       "      <th>Zvukový systém/formát</th>\n",
       "      <th>Verze</th>\n",
       "      <th>Mluveno</th>\n",
       "      <th>Podtitulky</th>\n",
       "      <th>Úvodní/závěrečné titulky</th>\n",
       "      <th>Anotace</th>\n",
       "      <th>Obsah</th>\n",
       "      <th>Technický scénář</th>\n",
       "      <th>Výtvarník</th>\n",
       "      <th>Animace</th>\n",
       "      <th>Triky</th>\n",
       "      <th>Postprodukce</th>\n",
       "      <th>Návrhy titulků</th>\n",
       "      <th>Pedagogické vedení</th>\n",
       "      <th>Použitá hudba</th>\n",
       "      <th>Studentský film</th>\n",
       "      <th>Původní metráž</th>\n",
       "      <th>Mezititulky</th>\n",
       "      <th>Ocenění</th>\n",
       "      <th>Poznámka</th>\n",
       "      <th>Mluví</th>\n",
       "      <th>Vizuální efekty</th>\n",
       "      <th>Vedoucí produkce</th>\n",
       "      <th>Předloha</th>\n",
       "      <th>Kaskadéři</th>\n",
       "      <th>Text písně</th>\n",
       "      <th>Zpívá</th>\n",
       "      <th>pásmo</th>\n",
       "      <th>Části</th>\n",
       "      <th>Produkce</th>\n",
       "      <th>Výtvarná spolupráce</th>\n",
       "      <th>Nahrál</th>\n",
       "      <th>Partner</th>\n",
       "      <th>Animační technika</th>\n",
       "      <th>Výprava</th>\n",
       "      <th>Spolupráce</th>\n",
       "      <th>Komentář</th>\n",
       "      <th>Autor komentáře</th>\n",
       "      <th>Druhá kamera</th>\n",
       "      <th>Zvláštní efekty</th>\n",
       "      <th>Koproducent</th>\n",
       "      <th>Výběr hudby</th>\n",
       "      <th>Hudební dramaturgie</th>\n",
       "      <th>Písně</th>\n",
       "      <th>Produkční data</th>\n",
       "      <th>Koordinátor kaskadérů</th>\n",
       "      <th>Výkonná produkce</th>\n",
       "      <th>Zástupce vedoucího produkce</th>\n",
       "      <th>Hudební režie</th>\n",
       "      <th>Účinkují</th>\n",
       "      <th>Dirigent</th>\n",
       "      <th>Ateliéry</th>\n",
       "      <th>Režie české verze</th>\n",
       "      <th>Výrobce české verze</th>\n",
       "      <th>Tančí</th>\n",
       "      <th>České podtitulky</th>\n",
       "      <th>Výrobce českých podtitulků</th>\n",
       "      <th>Asistent vedoucího produkce</th>\n",
       "      <th>Natáčecí formát</th>\n",
       "      <th>Dialogy české verze</th>\n",
       "      <th>Autor projektu</th>\n",
       "      <th>Stav filmu</th>\n",
       "      <th>Souběžný anglický název</th>\n",
       "      <th>Assistent architekta</th>\n",
       "      <th>Asistent zvuku</th>\n",
       "      <th>Podnázev</th>\n",
       "      <th>Asistent vedoucího výroby</th>\n",
       "      <th>Skript</th>\n",
       "      <th>Kostýmy</th>\n",
       "      <th>Asistent střihu</th>\n",
       "      <th>povídkový film</th>\n",
       "      <th>Povídky</th>\n",
       "      <th>Hudba k písni</th>\n",
       "      <th>Prodej práv</th>\n",
       "      <th>Podnázev anglický</th>\n",
       "      <th>Výtvarník pozadí</th>\n",
       "      <th>Výrobní skupina</th>\n",
       "      <th>Zákazník</th>\n",
       "      <th>Vývozní společnost</th>\n",
       "      <th>Umělecké vedení</th>\n",
       "      <th>Zpěv role</th>\n",
       "      <th>Překlad české verze</th>\n",
       "      <th>Rychlost</th>\n",
       "      <th>Přístupnost</th>\n",
       "      <th>Začátek výroby</th>\n",
       "      <th>Konec výroby</th>\n",
       "      <th>Lidé</th>\n",
       "      <th>Počet lidí</th>\n",
       "      <th>Jméno</th>\n",
       "      <th>Id</th>\n",
       "      <th>Medailon</th>\n",
       "      <th>Osoba</th>\n",
       "      <th>Alternativní jména</th>\n",
       "      <th>Životopis</th>\n",
       "      <th>Datum narození</th>\n",
       "      <th>Místo narození</th>\n",
       "      <th>Datum úmrtí</th>\n",
       "      <th>Místo úmrtí</th>\n",
       "      <th>Město narození</th>\n",
       "      <th>Stát narození</th>\n",
       "      <th>Město úmrtí</th>\n",
       "      <th>Stát úmrtí</th>\n",
       "      <th>Rok narození</th>\n",
       "      <th>Rok úmrtí</th>\n",
       "      <th>Věk</th>\n",
       "      <th>Odrežírováno</th>\n",
       "    </tr>\n",
       "  </thead>\n",
       "  <tbody>\n",
       "  </tbody>\n",
       "</table>\n",
       "</div>"
      ],
      "text/plain": [
       "Empty DataFrame\n",
       "Columns: [Film, Země původu, Copyright, Rok výroby, Premiéra, Minutáž, Režie, Kategorie, Žánr, Typologie, Originální název, Český název, Anglický název, Souběžný název, Pracovní název, Hrají, Postavy, Pomocná režie, Asistent režie, Původní filmový námět, Scénář, Dramaturg, Kamera, Asistent kamery, Architekt, Návrhy kostýmů, Masky, Střih, Zvuk, Producent, Vedoucí výroby, Zástupce vedoucího výroby, Odborný poradce, Hudba, Choreografie, Lokace, Distribuční slogan, Výrobce, S podporou, Nositelé copyrightu, Distribuce, Délka, Distribuční nosič, Poměr stran, Barva, Zvukový, Zvukový systém/formát, Verze, Mluveno, Podtitulky, Úvodní/závěrečné titulky, Anotace, Obsah, Technický scénář, Výtvarník, Animace, Triky, Postprodukce, Návrhy titulků, Pedagogické vedení, Použitá hudba, Studentský film, Původní metráž, Mezititulky, Ocenění, Poznámka, Mluví, Vizuální efekty, Vedoucí produkce, Předloha, Kaskadéři, Text písně, Zpívá, pásmo, Části, Produkce, Výtvarná spolupráce, Nahrál, Partner, Animační technika, Výprava, Spolupráce, Komentář, Autor komentáře, Druhá kamera, Zvláštní efekty, Koproducent, Výběr hudby, Hudební dramaturgie, Písně, Produkční data, Koordinátor kaskadérů, Výkonná produkce, Zástupce vedoucího produkce, Hudební režie, Účinkují, Dirigent, Ateliéry, Režie české verze, Výrobce české verze, ...]\n",
       "Index: []"
      ]
     },
     "execution_count": 32,
     "metadata": {},
     "output_type": "execute_result"
    }
   ],
   "source": [
    "rezie[rezie[\"Režie\"] == \"Otakar Vávra\"]"
   ]
  },
  {
   "cell_type": "code",
   "execution_count": 33,
   "id": "5971b3e7",
   "metadata": {},
   "outputs": [
    {
     "data": {
      "text/plain": [
       "Režie\n",
       "Jan Hřebejk (4831)       7\n",
       "Petr Nikolaev (540)      6\n",
       "Viktor Polesný (7797)    5\n",
       "Dušan Klein (2568)       3\n",
       "Filip Renč (558)         3\n",
       "Jiří Vejdělek (24168)    3\n",
       "Tomáš Vorel (106)        3\n",
       "F. A. Brabec (5610)      2\n",
       "Hynek Bočan (2947)       2\n",
       "Jan Svěrák (476)         2\n",
       "Name: Dirigent, dtype: int64"
      ]
     },
     "execution_count": 33,
     "metadata": {},
     "output_type": "execute_result"
    }
   ],
   "source": [
    "df.explode(\"Režie\").explode(\"Dirigent\").groupby(\"Režie\")[\"Dirigent\"].nunique().nlargest(10)"
   ]
  },
  {
   "cell_type": "code",
   "execution_count": 34,
   "id": "6dff13c7",
   "metadata": {},
   "outputs": [
    {
     "data": {
      "text/plain": [
       "Režie\n",
       "K. M. Walló (51350)          19\n",
       "Břetislav Pojar (3113)       17\n",
       "Karel Vachek (565)           17\n",
       "David Čálek (495)            16\n",
       "Tomáš Vorel (106)            13\n",
       "Věra Chytilová (1555)        13\n",
       "Karel Kachyňa (3526)         12\n",
       "Milan Cieslar (3593)         12\n",
       "Vlasta Pospíšilová (4386)    12\n",
       "Radim Špaček (496)           11\n",
       "Name: Střih, dtype: int64"
      ]
     },
     "execution_count": 34,
     "metadata": {},
     "output_type": "execute_result"
    }
   ],
   "source": [
    "df.explode(\"Režie\").explode(\"Střih\").groupby(\"Režie\")[\"Střih\"].nunique().nlargest(10)"
   ]
  },
  {
   "cell_type": "code",
   "execution_count": 35,
   "id": "847e6bda",
   "metadata": {},
   "outputs": [
    {
     "data": {
      "text/plain": [
       "Režie\n",
       "K. M. Walló (51350)          25\n",
       "Otakar Vávra (9507)          23\n",
       "Agnieszka Holland (12106)    21\n",
       "Karel Kachyňa (3526)         20\n",
       "Pavel Abrahám (19039)        20\n",
       "Jindřich Polák (7891)        18\n",
       "Jaromil Jireš (5317)         17\n",
       "Jiří Hanibal (7873)          17\n",
       "Ivo Novák (7889)             15\n",
       "Václav Matějka (29527)       15\n",
       "Name: Pomocná režie, dtype: int64"
      ]
     },
     "execution_count": 35,
     "metadata": {},
     "output_type": "execute_result"
    }
   ],
   "source": [
    "df.explode(\"Režie\").explode(\"Pomocná režie\").groupby(\"Režie\")[\"Pomocná režie\"].nunique().nlargest(10)"
   ]
  },
  {
   "cell_type": "code",
   "execution_count": 36,
   "id": "5687d1e8",
   "metadata": {},
   "outputs": [
    {
     "data": {
      "text/plain": [
       "Kamera\n",
       "Vladimír Smutný (1772)    1733\n",
       "Jaromír Šofr (4285)       1671\n",
       "Josef Illík (12730)       1637\n",
       "Jan Čuřík (4946)          1500\n",
       "Jiří Macháně (11743)      1469\n",
       "Ivan Šlapeta (2968)       1419\n",
       "Josef Vaniš (9510)        1419\n",
       "Jiří Macák (1725)         1389\n",
       "Jan Stallich (126242)     1382\n",
       "Viktor Růžička (10079)    1252\n",
       "Name: Hrají, dtype: int64"
      ]
     },
     "execution_count": 36,
     "metadata": {},
     "output_type": "execute_result"
    }
   ],
   "source": [
    "df.explode(\"Kamera\").explode(\"Hrají\").groupby(\"Kamera\")[\"Hrají\"].nunique().nlargest(10)"
   ]
  },
  {
   "cell_type": "code",
   "execution_count": 37,
   "id": "975c75f9",
   "metadata": {},
   "outputs": [],
   "source": [
    "kariery_reziseru = pd.Series(df.explode(\"Režie\").groupby(\"Režie\")[\"Copyright\"].max() -df.explode(\"Režie\").groupby(\"Režie\")[\"Copyright\"].min(), name=\"Kariéry režisérů\")"
   ]
  },
  {
   "cell_type": "code",
   "execution_count": 38,
   "id": "a7dc1693",
   "metadata": {
    "scrolled": true
   },
   "outputs": [
    {
     "data": {
      "text/plain": [
       "Režie\n",
       "Břetislav Pojar (3113)       60\n",
       "Otakar Vávra (9507)          59\n",
       "Karel Vachek (565)           59\n",
       "Hermína Týrlová (4754)       58\n",
       "Václav Vorlíček (1044)       57\n",
       "Jan Němec (3041)             56\n",
       "Dušan Klein (2568)           55\n",
       "Jiří Menzel (7887)           52\n",
       "Agnieszka Holland (12106)    51\n",
       "Vojtěch Jasný (4666)         50\n",
       "Karel Kachyňa (3526)         50\n",
       "Jan Švankmajer (406)         50\n",
       "Rajko Grlić (80991)          47\n",
       "Věra Chytilová (1555)        47\n",
       "František Filip (7822)       46\n",
       "Name: Kariéry režisérů, dtype: int64"
      ]
     },
     "execution_count": 38,
     "metadata": {},
     "output_type": "execute_result"
    }
   ],
   "source": [
    "kariery_reziseru.sort_values(ascending=False).nlargest(15)"
   ]
  },
  {
   "cell_type": "code",
   "execution_count": 39,
   "id": "1cbe2af9",
   "metadata": {},
   "outputs": [
    {
     "data": {
      "text/plain": [
       "<AxesSubplot:ylabel='Frequency'>"
      ]
     },
     "execution_count": 39,
     "metadata": {},
     "output_type": "execute_result"
    },
    {
     "data": {
      "image/png": "[encoded data removed]",
      "text/plain": [
       "<Figure size 432x288 with 1 Axes>"
      ]
     },
     "metadata": {
      "needs_background": "light"
     },
     "output_type": "display_data"
    }
   ],
   "source": [
    "kariery_reziseru.plot.hist(bins=50)"
   ]
  },
  {
   "cell_type": "code",
   "execution_count": 40,
   "id": "e42e3608",
   "metadata": {},
   "outputs": [
    {
     "data": {
      "text/plain": [
       "Režie\n",
       "Svatopluk Innemann (33860)    486\n",
       "Martin Frič (20324)           473\n",
       "Karel Lamač (37847)           379\n",
       "Vladimír Slavínský (31967)    367\n",
       "Václav Binovec (37467)        351\n",
       "Name: Hrají, dtype: int64"
      ]
     },
     "execution_count": 40,
     "metadata": {},
     "output_type": "execute_result"
    }
   ],
   "source": [
    "df[(df[\"Copyright\"] > 1918) & (df[\"Copyright\"] < 1939)].explode(\"Režie\").explode(\"Hrají\").groupby(\"Režie\")[\"Hrají\"].nunique().nlargest(5)"
   ]
  },
  {
   "cell_type": "code",
   "execution_count": 41,
   "id": "e982be49",
   "metadata": {},
   "outputs": [
    {
     "data": {
      "text/plain": [
       "Režie\n",
       "neuvedeno                     129\n",
       "Svatopluk Innemann (33860)     46\n",
       "Karel Dodal (127380)           42\n",
       "Karel Lamač (37847)            41\n",
       "Martin Frič (20324)            41\n",
       "Name: Film, dtype: int64"
      ]
     },
     "execution_count": 41,
     "metadata": {},
     "output_type": "execute_result"
    }
   ],
   "source": [
    "df[(df[\"Copyright\"] > 1918) & (df[\"Copyright\"] < 1939)].explode(\"Režie\").groupby(\"Režie\")[\"Film\"].nunique().nlargest(5)"
   ]
  },
  {
   "cell_type": "code",
   "execution_count": 42,
   "id": "ddcb737e",
   "metadata": {},
   "outputs": [
    {
     "data": {
      "text/plain": [
       "Režie\n",
       "Miroslav Cikán (31969)        242\n",
       "Martin Frič (20324)           240\n",
       "Vladimír Slavínský (31967)    225\n",
       "Otakar Vávra (9507)           189\n",
       "František Čáp (13530)         183\n",
       "Name: Hrají, dtype: int64"
      ]
     },
     "execution_count": 42,
     "metadata": {},
     "output_type": "execute_result"
    }
   ],
   "source": [
    "df[(df[\"Copyright\"] >= 1939) & (df[\"Copyright\"] <= 1944)].explode(\"Režie\").explode(\"Hrají\").groupby(\"Režie\")[\"Hrají\"].nunique().nlargest(5)"
   ]
  },
  {
   "cell_type": "code",
   "execution_count": 43,
   "id": "f10dd6bf",
   "metadata": {},
   "outputs": [
    {
     "data": {
      "text/plain": [
       "Režie\n",
       "Martin Frič (20324)           19\n",
       "Miroslav Cikán (31969)        17\n",
       "Vladimír Slavínský (31967)    13\n",
       "Otakar Vávra (9507)           12\n",
       "František Čáp (13530)         10\n",
       "Name: Film, dtype: int64"
      ]
     },
     "execution_count": 43,
     "metadata": {},
     "output_type": "execute_result"
    }
   ],
   "source": [
    "df[(df[\"Copyright\"] >= 1939) & (df[\"Copyright\"] <= 1944)].explode(\"Režie\").groupby(\"Režie\")[\"Film\"].nunique().nlargest(5)"
   ]
  },
  {
   "cell_type": "code",
   "execution_count": 44,
   "id": "7f5bab7b",
   "metadata": {},
   "outputs": [
    {
     "data": {
      "text/plain": [
       "Režie\n",
       "Otakar Vávra (9507)        1843\n",
       "Karel Kachyňa (3526)       1173\n",
       "Oldřich Lipský (7883)      1114\n",
       "Karel Steklý (35894)       1074\n",
       "Ladislav Rychman (7892)     913\n",
       "Name: Hrají, dtype: int64"
      ]
     },
     "execution_count": 44,
     "metadata": {},
     "output_type": "execute_result"
    }
   ],
   "source": [
    "df[(df[\"Copyright\"] >= 1945) & (df[\"Copyright\"] <= 1989)].explode(\"Režie\").explode(\"Hrají\").groupby(\"Režie\")[\"Hrají\"].nunique().nlargest(5)"
   ]
  },
  {
   "cell_type": "code",
   "execution_count": 45,
   "id": "dc83388a",
   "metadata": {},
   "outputs": [
    {
     "data": {
      "text/plain": [
       "Režie\n",
       "Karel Kachyňa (3526)      42\n",
       "Hermína Týrlová (4754)    35\n",
       "Otakar Vávra (9507)       34\n",
       "Jindřich Polák (7891)     30\n",
       "Martin Frič (20324)       28\n",
       "Name: Film, dtype: int64"
      ]
     },
     "execution_count": 45,
     "metadata": {},
     "output_type": "execute_result"
    }
   ],
   "source": [
    "df[(df[\"Copyright\"] >= 1945) & (df[\"Copyright\"] <= 1989)].explode(\"Režie\").groupby(\"Režie\")[\"Film\"].nunique().nlargest(5)"
   ]
  },
  {
   "cell_type": "code",
   "execution_count": 46,
   "id": "316da52c",
   "metadata": {},
   "outputs": [
    {
     "data": {
      "text/plain": [
       "Režie\n",
       "Zdeněk Troška (3874)    807\n",
       "Tomáš Vorel (106)       604\n",
       "Jan Hřebejk (4831)      538\n",
       "Jiří Chlumský (539)     457\n",
       "Milan Cieslar (3593)    451\n",
       "Name: Hrají, dtype: int64"
      ]
     },
     "execution_count": 46,
     "metadata": {},
     "output_type": "execute_result"
    }
   ],
   "source": [
    "df[(df[\"Copyright\"] > 1989)].explode(\"Režie\").explode(\"Hrají\").groupby(\"Režie\")[\"Hrají\"].nunique().nlargest(5)"
   ]
  },
  {
   "cell_type": "code",
   "execution_count": 47,
   "id": "84f84d2d",
   "metadata": {},
   "outputs": [
    {
     "data": {
      "text/plain": [
       "Režie\n",
       "Jan Hřebejk (4831)         22\n",
       "Zdeněk Troška (3874)       19\n",
       "Helena Třeštíková (709)    12\n",
       "Milan Cieslar (3593)       12\n",
       "Miroslav Janek (536)       12\n",
       "Name: Film, dtype: int64"
      ]
     },
     "execution_count": 47,
     "metadata": {},
     "output_type": "execute_result"
    }
   ],
   "source": [
    "df[(df[\"Copyright\"] > 1989)].explode(\"Režie\").groupby(\"Režie\")[\"Film\"].nunique().nlargest(5)"
   ]
  }
 ],
 "metadata": {
  "kernelspec": {
   "display_name": "Python 3 (ipykernel)",
   "language": "python",
   "name": "python3"
  },
  "language_info": {
   "codemirror_mode": {
    "name": "ipython",
    "version": 3
   },
   "file_extension": ".py",
   "mimetype": "text/x-python",
   "name": "python",
   "nbconvert_exporter": "python",
   "pygments_lexer": "ipython3",
   "version": "3.10.8"
  }
 },
 "nbformat": 4,
 "nbformat_minor": 5
}
