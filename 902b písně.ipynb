{
 "cells": [
  {
   "cell_type": "markdown",
   "id": "09216f5d",
   "metadata": {},
   "source": [
    "Pozor, tady se při scrapování stalo něco špatného, část interpretů se nenačetla správně."
   ]
  },
  {
   "cell_type": "code",
   "execution_count": 1,
   "id": "609cd512",
   "metadata": {},
   "outputs": [
    {
     "name": "stdout",
     "output_type": "stream",
     "text": [
      "2023/06/13 00:08:09 z 4555 řádků odstraněno 133. Aktuální dataframe má 4422 řádků.\n",
      "2023/06/13 00:08:09 z 10169 řádků odstraněno 8036. Aktuální dataframe má 2133 řádků.\n"
     ]
    }
   ],
   "source": [
    "import os\n",
    "import json\n",
    "import time\n",
    "import pandas as pd\n",
    "from src.vycisti import vycisti\n",
    "from src.tabulka import tabulka\n",
    "pd.set_option('display.max_columns', None)\n",
    "with open(os.path.join(\"data_fixes\", \"opravy.json\"), encoding=\"utf-8\") as opravy:\n",
    "    opravy = json.loads(opravy.read())\n",
    "df = vycisti(pd.read_json(os.path.join(\"data\", \"filmy.json\")), opravy)\n",
    "pisne = vycisti(pd.read_json(os.path.join(\"data\", \"pisne.json\")), opravy)"
   ]
  },
  {
   "cell_type": "code",
   "execution_count": 2,
   "id": "8976209a",
   "metadata": {},
   "outputs": [],
   "source": [
    "df = df[[\"Film\",\"Copyright\",\"Režie\",\"Žánr\",\"Písně\"]]"
   ]
  },
  {
   "cell_type": "code",
   "execution_count": 3,
   "id": "91e60c0d",
   "metadata": {},
   "outputs": [],
   "source": [
    "pisne = pisne.merge(df, on=\"Film\")"
   ]
  },
  {
   "cell_type": "code",
   "execution_count": 4,
   "id": "fb877137",
   "metadata": {},
   "outputs": [
    {
     "data": {
      "text/html": [
       "<div>\n",
       "<style scoped>\n",
       "    .dataframe tbody tr th:only-of-type {\n",
       "        vertical-align: middle;\n",
       "    }\n",
       "\n",
       "    .dataframe tbody tr th {\n",
       "        vertical-align: top;\n",
       "    }\n",
       "\n",
       "    .dataframe thead th {\n",
       "        text-align: right;\n",
       "    }\n",
       "</style>\n",
       "<table border=\"1\" class=\"dataframe\">\n",
       "  <thead>\n",
       "    <tr style=\"text-align: right;\">\n",
       "      <th></th>\n",
       "      <th>Film</th>\n",
       "      <th>Píseň</th>\n",
       "      <th>Hudba k písni</th>\n",
       "      <th>Text písně</th>\n",
       "      <th>Zpívá</th>\n",
       "      <th>Copyright</th>\n",
       "      <th>Režie</th>\n",
       "      <th>Žánr</th>\n",
       "      <th>Písně</th>\n",
       "    </tr>\n",
       "  </thead>\n",
       "  <tbody>\n",
       "    <tr>\n",
       "      <th>1063</th>\n",
       "      <td>Strach (396973)</td>\n",
       "      <td>Tichá noc /Stille Nacht, heilige Nacht/</td>\n",
       "      <td>Franz Xaver Gruber (22651)</td>\n",
       "      <td>Franz Joseph Mohr (129377)</td>\n",
       "      <td>None</td>\n",
       "      <td>1973</td>\n",
       "      <td>[Miloš Bobek (96688)]</td>\n",
       "      <td>etuda</td>\n",
       "      <td>[Tichá noc /Stille Nacht, heilige Nacht/]</td>\n",
       "    </tr>\n",
       "  </tbody>\n",
       "</table>\n",
       "</div>"
      ],
      "text/plain": [
       "                 Film                                    Píseň  \\\n",
       "1063  Strach (396973)  Tichá noc /Stille Nacht, heilige Nacht/   \n",
       "\n",
       "                   Hudba k písni                  Text písně Zpívá  Copyright  \\\n",
       "1063  Franz Xaver Gruber (22651)  Franz Joseph Mohr (129377)  None       1973   \n",
       "\n",
       "                      Režie   Žánr                                      Písně  \n",
       "1063  [Miloš Bobek (96688)]  etuda  [Tichá noc /Stille Nacht, heilige Nacht/]  "
      ]
     },
     "execution_count": 4,
     "metadata": {},
     "output_type": "execute_result"
    }
   ],
   "source": [
    "pisne.sample()"
   ]
  },
  {
   "cell_type": "code",
   "execution_count": 5,
   "id": "d2f00a7a",
   "metadata": {},
   "outputs": [],
   "source": [
    "pisne = pisne.explode(\"Hudba k písni\").explode(\"Text písně\").explode(\"Zpívá\").explode(\"Žánr\").explode(\"Režie\")"
   ]
  },
  {
   "cell_type": "code",
   "execution_count": 6,
   "id": "1fa8c4e9",
   "metadata": {
    "scrolled": true
   },
   "outputs": [
    {
     "data": {
      "text/plain": [
       "Zpívá\n",
       "Karel Gott (3861)                        26\n",
       "Setleři (129620)                         23\n",
       "Waldemar Matuška (1787)                  21\n",
       "Vlasta Burian (11992)                    18\n",
       "Eva Pilarová (10373)                     17\n",
       "Oldřich Kovář (104486)                   15\n",
       "Václav Neckář (8835)                     15\n",
       "Helena Vondráčková (12227)               14\n",
       "Fanda Mrázek (128457)                    13\n",
       "R. A. Dvorský (17596)                    13\n",
       "Jan Werich (1287)                        12\n",
       "Jiří Suchý (2270)                        12\n",
       "Lucie Bílá (7010)                        11\n",
       "Hana Vítová (126418)                     10\n",
       "Hugo Haas (37289)                        10\n",
       "Ladislav Pešek (53326)                   10\n",
       "Oldřich Nový (12009)                     10\n",
       "Jiří Korn (8831)                          9\n",
       "Karel Černoch (22440)                     9\n",
       "Lída Baarová (5202)                       9\n",
       "Michal David (7475)                       9\n",
       "Míla Spazierová-Hezká (126963)            9\n",
       "Eva Olmerová (4746)                       8\n",
       "Hana Hegerová (13526)                     8\n",
       "Jiří Schelinger (25196)                   8\n",
       "Marie Rottrová (4677)                     8\n",
       "Marta Kubišová (2974)                     8\n",
       "Petra Janů (36261)                        8\n",
       "Hana Zagorová (23365)                     7\n",
       "Jana Kratochvílová (13040)                7\n",
       "Jiří Voskovec (1781)                      7\n",
       "Josef Bek (4865)                          7\n",
       "Josef Zíma (2821)                         7\n",
       "Karel Zich (22535)                        7\n",
       "Kühnův smíšený sbor (5381)                7\n",
       "Ljuba Hermanová (4952)                    7\n",
       "Vokální soubor Lubomíra Pánka (15019)     7\n",
       "Bambini di Praga (25483)                  6\n",
       "Jindřich Plachta (5829)                   6\n",
       "Jiřina Šejbalová (125559)                 6\n",
       "Jára Pospíšil (126424)                    6\n",
       "Nelly Gaierová (4888)                     6\n",
       "Ondřej Havelka (7949)                     6\n",
       "Truda Grosslichtová (125521)              6\n",
       "Vladimír Menšík (126036)                  6\n",
       "Vlastimil Brodský (833)                   6\n",
       "Yvetta Simonová (22436)                   6\n",
       "Adina Mandlová [dab] (55611)              5\n",
       "Bajo trio (129660)                        5\n",
       "Inka Zemánková (5310)                     5\n",
       "Name: Film, dtype: int64"
      ]
     },
     "execution_count": 6,
     "metadata": {},
     "output_type": "execute_result"
    }
   ],
   "source": [
    "pisne.groupby(\"Zpívá\")[\"Film\"].nunique().nlargest(50)"
   ]
  },
  {
   "cell_type": "code",
   "execution_count": 7,
   "id": "a0e765d7",
   "metadata": {},
   "outputs": [
    {
     "data": {
      "text/plain": [
       "Zpívá\n",
       "Karel Gott (3861)             23\n",
       "Setleři (129620)              18\n",
       "Waldemar Matuška (1787)       18\n",
       "Eva Pilarová (10373)          14\n",
       "Helena Vondráčková (12227)    14\n",
       "Václav Neckář (8835)          14\n",
       "Jiří Suchý (2270)             13\n",
       "Vlasta Burian (11992)         13\n",
       "R. A. Dvorský (17596)         12\n",
       "Lucie Bílá (7010)             11\n",
       "Oldřich Kovář (104486)        11\n",
       "Jan Werich (1287)             10\n",
       "Lída Baarová (5202)           10\n",
       "Oldřich Nový (12009)          10\n",
       "Hana Zagorová (23365)          9\n",
       "Ladislav Pešek (53326)         9\n",
       "Eva Olmerová (4746)            8\n",
       "Fanda Mrázek (128457)          8\n",
       "Hana Hegerová (13526)          8\n",
       "Hana Vítová (126418)           8\n",
       "Name: Režie, dtype: int64"
      ]
     },
     "execution_count": 7,
     "metadata": {},
     "output_type": "execute_result"
    }
   ],
   "source": [
    "pisne.groupby(\"Zpívá\")[\"Režie\"].nunique().nlargest(20)"
   ]
  },
  {
   "cell_type": "code",
   "execution_count": 8,
   "id": "c20e06d9",
   "metadata": {},
   "outputs": [
    {
     "data": {
      "text/plain": [
       "Text písně\n",
       "Jaroslav Mottl (55549)       67\n",
       "Jiří Suchý (2270)            40\n",
       "Pavel Kopta (42048)          37\n",
       "Karel Melíšek (127503)       29\n",
       "Zdeněk Borovec (2828)        29\n",
       "Zdeněk Rytíř (16047)         25\n",
       "K. M. Walló (51350)          22\n",
       "Karel Hašler (12006)         21\n",
       "Jan Werich (1287)            20\n",
       "František Kudrna (129582)    19\n",
       "Jiří Voskovec (1781)         18\n",
       "Karel Tobis (3635)           18\n",
       "Jiří Štaidl (2827)           16\n",
       "Ladislav Brom (51446)        16\n",
       "Zdeněk Svěrák (1892)         14\n",
       "Ivo Fischer (2835)           13\n",
       "Eduard Krečmar (22460)       12\n",
       "Saša Razov (127510)          12\n",
       "Vladimír Sís (5326)          11\n",
       "Josef Kainar (15007)         10\n",
       "Name: Film, dtype: int64"
      ]
     },
     "execution_count": 8,
     "metadata": {},
     "output_type": "execute_result"
    }
   ],
   "source": [
    "pisne.groupby(\"Text písně\")[\"Film\"].nunique().nlargest(20)"
   ]
  },
  {
   "cell_type": "code",
   "execution_count": 9,
   "id": "bfe68ac8",
   "metadata": {},
   "outputs": [
    {
     "data": {
      "text/plain": [
       "Hudba k písni\n",
       "Josef Stelibský (31111)    42\n",
       "Josef Dobeš (79567)        41\n",
       "Jiří Šlitr (2822)          35\n",
       "Jára Beneš (53046)         32\n",
       "Jaroslav Ježek (1780)      26\n",
       "Petr Hapka (193)           26\n",
       "Jiří Srnka (64086)         22\n",
       "Karel Svoboda (2860)       22\n",
       "Eman Fiala (64088)         21\n",
       "Karel Hašler (12006)       21\n",
       "Karel Mareš (2820)         20\n",
       "Zdeněk Liška (3251)        19\n",
       "Josef Kumok (43206)        18\n",
       "Jaromír Vejvoda (11729)    16\n",
       "Luboš Fišer (1492)         16\n",
       "Vlastimil Hála (69987)     16\n",
       "Julius Kalaš (11040)       15\n",
       "Ladislav Štaidl (8125)     15\n",
       "Angelo Michajlov (5083)    14\n",
       "Jaroslav Uhlíř (9261)      14\n",
       "Name: Film, dtype: int64"
      ]
     },
     "execution_count": 9,
     "metadata": {},
     "output_type": "execute_result"
    }
   ],
   "source": [
    "pisne.groupby(\"Hudba k písni\")[\"Film\"].nunique().nlargest(20)"
   ]
  },
  {
   "cell_type": "code",
   "execution_count": 10,
   "id": "0a403a2c",
   "metadata": {},
   "outputs": [
    {
     "data": {
      "text/plain": [
       "Režie                       Zpívá                     \n",
       "Martin Frič (20324)         Vlasta Burian (11992)         9\n",
       "Jaroslav Soukup (1171)      Michal David (7475)           5\n",
       "Martin Frič (20324)         Hugo Haas (37289)             5\n",
       "Karel Lamač (37847)         Vlasta Burian (11992)         4\n",
       "Miroslav Cikán (31969)      Setleři (129620)              4\n",
       "Svatopluk Innemann (33860)  Fanda Mrázek (128457)         4\n",
       "Alexandra Májová (29008)    David Novotný (1834)          3\n",
       "                            Lukáš Příkazký (20116)        3\n",
       "František Vláčil (5191)     Kühnův smíšený sbor (5381)    3\n",
       "Josef Pinkava (8992)        Eva Pilarová (10373)          3\n",
       "Name: Film, dtype: int64"
      ]
     },
     "execution_count": 10,
     "metadata": {},
     "output_type": "execute_result"
    }
   ],
   "source": [
    "pisne.groupby([\"Režie\",\"Zpívá\"])[\"Film\"].nunique().nlargest(10)"
   ]
  },
  {
   "cell_type": "code",
   "execution_count": 11,
   "id": "c4ca1da4",
   "metadata": {},
   "outputs": [
    {
     "data": {
      "text/plain": [
       "Píseň\n",
       "Škoda lásky                                13\n",
       "Kde domov můj                               8\n",
       "Tichá noc /Stille Nacht, heilige Nacht/     8\n",
       "Hej, Slované                                7\n",
       "Ktož jsú boží bojovníci                     7\n",
       "V Hodoníně za vojáčka mňa vzali             7\n",
       "Zelení hájové                               7\n",
       "Ach, ta láska nebeská                       5\n",
       "Die Fahne hoch /Horst Wessel Lied/          5\n",
       "Kolíne, Kolíne                              5\n",
       "Name: Film, dtype: int64"
      ]
     },
     "execution_count": 11,
     "metadata": {},
     "output_type": "execute_result"
    }
   ],
   "source": [
    "pisne.groupby(\"Píseň\")[\"Film\"].nunique().nlargest(10)"
   ]
  },
  {
   "cell_type": "code",
   "execution_count": 12,
   "id": "c2e11eb8",
   "metadata": {},
   "outputs": [],
   "source": [
    "df_pisne = df.explode(\"Písně\")"
   ]
  },
  {
   "cell_type": "code",
   "execution_count": 13,
   "id": "85c05fd3",
   "metadata": {},
   "outputs": [
    {
     "data": {
      "text/plain": [
       "Písně\n",
       "Kde domov můj                    34\n",
       "Škoda lásky                      28\n",
       "Zelení hájové                    22\n",
       "Internacionála                   19\n",
       "Ktož jsú boží bojovníci          19\n",
       "Život je jen náhoda              19\n",
       "Už mou milou do kostela vedou    17\n",
       "Šly panenky silnicí              16\n",
       "Jen pro ten dnešní den           15\n",
       "Kolíne, Kolíne                   15\n",
       "Name: Film, dtype: int64"
      ]
     },
     "execution_count": 13,
     "metadata": {},
     "output_type": "execute_result"
    }
   ],
   "source": [
    "df_pisne.groupby(\"Písně\")[\"Film\"].nunique().nlargest(10)"
   ]
  },
  {
   "cell_type": "code",
   "execution_count": 14,
   "id": "d3cfa962",
   "metadata": {},
   "outputs": [],
   "source": [
    "pisnickyyy = pd.DataFrame(df_pisne.groupby(\"Písně\")[\"Film\"].nunique().nlargest(10))"
   ]
  },
  {
   "cell_type": "code",
   "execution_count": 15,
   "id": "c4471a6f",
   "metadata": {},
   "outputs": [],
   "source": [
    "pisnickyyy[\"Píseň\"] = pisnickyyy.index\n",
    "pisnickyyy[\"Počet filmů\"] = pisnickyyy[\"Film\"]\n",
    "pisnickyyy = pisnickyyy.drop(columns=[\"Film\"])\n",
    "pisnickyyy[\"Poprvé\"] = pisnickyyy[\"Píseň\"].apply(lambda x: df_pisne[df_pisne[\"Písně\"] == x][\"Copyright\"].min())\n",
    "pisnickyyy[\"Naposled\"] = pisnickyyy[\"Píseň\"].apply(lambda x: df_pisne[df_pisne[\"Písně\"] == x][\"Copyright\"].max())"
   ]
  },
  {
   "cell_type": "code",
   "execution_count": 16,
   "id": "731bd2ef",
   "metadata": {},
   "outputs": [
    {
     "name": "stdout",
     "output_type": "stream",
     "text": [
      "<table class=\"dataframe table table--responsive table--w100p table--striped-red table--plain\"><caption>Nejčastější písně českých filmů</caption><thead><tr style=\"text-align: right;\"><th class=\"text-nowrap\">Píseň</th><th class=\"text-nowrap\">Počet filmů</th><th class=\"text-nowrap\">Poprvé</th><th class=\"text-nowrap\">Naposled</th></tr></thead><tbody class=\"text-sm\"><tr><td>Kde domov můj</td><td>34</td><td>1930</td><td>2022</td></tr><tr><td>Škoda lásky</td><td>28</td><td>1948</td><td>2012</td></tr><tr><td>Zelení hájové</td><td>22</td><td>1930</td><td>1988</td></tr><tr><td>Internacionála</td><td>19</td><td>1949</td><td>2017</td></tr><tr><td>Ktož jsú boží bojovníci</td><td>19</td><td>1945</td><td>2022</td></tr><tr><td>Život je jen náhoda</td><td>19</td><td>1932</td><td>2021</td></tr><tr><td>Už mou milou do kostela vedou</td><td>17</td><td>1930</td><td>1979</td></tr><tr><td>Šly panenky silnicí</td><td>16</td><td>1931</td><td>2021</td></tr><tr><td>Jen pro ten dnešní den</td><td>15</td><td>1939</td><td>2019</td></tr><tr><td>Kolíne, Kolíne</td><td>15</td><td>1930</td><td>2015</td></tr></tbody></table>\n"
     ]
    }
   ],
   "source": [
    "tabulka(pisnickyyy, titulek=\"Nejčastější písně českých filmů\")"
   ]
  },
  {
   "cell_type": "code",
   "execution_count": 17,
   "id": "c74ac3f1",
   "metadata": {},
   "outputs": [
    {
     "data": {
      "text/plain": [
       "Text písně\n",
       "Jaroslav Mottl (55549)       66\n",
       "Pavel Kopta (42048)          37\n",
       "Jiří Suchý (2270)            33\n",
       "Karel Melíšek (127503)       29\n",
       "Zdeněk Borovec (2828)        28\n",
       "Zdeněk Rytíř (16047)         24\n",
       "K. M. Walló (51350)          21\n",
       "František Kudrna (129582)    18\n",
       "Karel Hašler (12006)         18\n",
       "Karel Tobis (3635)           18\n",
       "Name: Píseň, dtype: int64"
      ]
     },
     "execution_count": 17,
     "metadata": {},
     "output_type": "execute_result"
    }
   ],
   "source": [
    "pisne.groupby(\"Text písně\")[\"Píseň\"].nunique().nlargest(10)"
   ]
  },
  {
   "cell_type": "code",
   "execution_count": 18,
   "id": "55be330b",
   "metadata": {},
   "outputs": [
    {
     "data": {
      "text/plain": [
       "Zpívá\n",
       "Karel Gott (3861)             24\n",
       "Setleři (129620)              23\n",
       "Vlasta Burian (11992)         18\n",
       "Waldemar Matuška (1787)       18\n",
       "Oldřich Kovář (104486)        15\n",
       "Václav Neckář (8835)          15\n",
       "Eva Pilarová (10373)          14\n",
       "Fanda Mrázek (128457)         13\n",
       "Helena Vondráčková (12227)    13\n",
       "R. A. Dvorský (17596)         13\n",
       "Name: Píseň, dtype: int64"
      ]
     },
     "execution_count": 18,
     "metadata": {},
     "output_type": "execute_result"
    }
   ],
   "source": [
    "pisne.groupby(\"Zpívá\")[\"Píseň\"].nunique().nlargest(10)"
   ]
  },
  {
   "cell_type": "code",
   "execution_count": 19,
   "id": "765b1faf",
   "metadata": {},
   "outputs": [
    {
     "data": {
      "text/plain": [
       "Píseň\n",
       "Bum, bum, bum                  3\n",
       "...a to mám rád                1\n",
       "Beatles                        1\n",
       "C' est la vie                  1\n",
       "C'est la vie                   1\n",
       "C’est la vie                   1\n",
       "Daleká cesta, daleká           1\n",
       "Den je krásný                  1\n",
       "Kdepak ty ptáčku hnízdo máš    1\n",
       "Když draka bolí hlava          1\n",
       "Kufr iluzí                     1\n",
       "Muka obraznosti                1\n",
       "Mám zlatej důl                 1\n",
       "Máš-li s kým                   1\n",
       "Oudolím, oudolím               1\n",
       "Oči sněhem zaváté              1\n",
       "Svět je dlouhá ulice           1\n",
       "Tam kam chodí vítr spát        1\n",
       "Tvůj stín se má                1\n",
       "Vůně mléka                     1\n",
       "Name: Film, dtype: int64"
      ]
     },
     "execution_count": 19,
     "metadata": {},
     "output_type": "execute_result"
    }
   ],
   "source": [
    "pisne[pisne[\"Zpívá\"] == \"Karel Gott (3861)\"].groupby(\"Píseň\")[\"Film\"].nunique().nlargest(20)"
   ]
  },
  {
   "cell_type": "code",
   "execution_count": 20,
   "id": "8ba0dfe4",
   "metadata": {},
   "outputs": [
    {
     "data": {
      "text/plain": [
       "Píseň                     Zpívá                   \n",
       "Ach, ta láska nebeská     Eva Pilarová (10373)        4\n",
       "                          Waldemar Matuška (1787)     4\n",
       "Bum, bum, bum             Karel Gott (3861)           3\n",
       "Štěstí je krásná věc      Richard Müller (6857)       3\n",
       "Cikánský baron jsem já    Miloš Kopecký (4959)        2\n",
       "Což takhle dát si špenát  Jiří Schelinger (25196)     2\n",
       "Hřebík v botě             Jan Hammer (126512)         2\n",
       "Každý má pohádku svou     Lída Baarová (5202)         2\n",
       "Milujem' to, co ztrácíme  Lída Baarová (5202)         2\n",
       "Měsíc                     Yvonne Přenosilová (910)    2\n",
       "Name: Film, dtype: int64"
      ]
     },
     "execution_count": 20,
     "metadata": {},
     "output_type": "execute_result"
    }
   ],
   "source": [
    "pisne.groupby([\"Píseň\",\"Zpívá\"])[\"Film\"].nunique().nlargest(10)"
   ]
  },
  {
   "cell_type": "code",
   "execution_count": 21,
   "id": "824db99f",
   "metadata": {
    "scrolled": true
   },
   "outputs": [
    {
     "data": {
      "text/plain": [
       "<Axes: xlabel='Copyright'>"
      ]
     },
     "execution_count": 21,
     "metadata": {},
     "output_type": "execute_result"
    },
    {
     "data": {
      "image/png": "[encoded data removed]",
      "text/plain": [
       "<Figure size 1440x360 with 1 Axes>"
      ]
     },
     "metadata": {
      "needs_background": "light"
     },
     "output_type": "display_data"
    }
   ],
   "source": [
    "pisne.groupby(\"Copyright\")[\"Píseň\"].nunique().plot.bar(figsize=(20,5))"
   ]
  },
  {
   "cell_type": "code",
   "execution_count": 22,
   "id": "93673b5b",
   "metadata": {},
   "outputs": [
    {
     "data": {
      "text/plain": [
       "Film\n",
       "...a bude hůř (45816)                    1\n",
       "...a pozdravuji vlaštovky (396886)       1\n",
       "...ani smrt nebere! (8552)               1\n",
       "...nebo být zabit (397490)               1\n",
       "10 pravidel jak sbalit holku (400532)    1\n",
       "2Bobule (112494)                         1\n",
       "3 sezóny v pekle (37531)                 1\n",
       "3Bobule (402068)                         1\n",
       "5 milionů svědků (396634)                1\n",
       "6 medvědů s Cibulkou (396956)            1\n",
       "7 zabitých (396646)                      1\n",
       "8 hlav šílenství (401655)                1\n",
       "A proč.....?? (395676)                   1\n",
       "A pátý jezdec je Strach (396610)         1\n",
       "A to všechno za týden (396564)           1\n",
       "A v tom zámku... (400451)                1\n",
       "AEIOU (397656)                           1\n",
       "Absence blízkosti (401273)               1\n",
       "Abstinent (401996)                       1\n",
       "Ad akta (397301)                         1\n",
       "Name: Píseň, dtype: int64"
      ]
     },
     "execution_count": 22,
     "metadata": {},
     "output_type": "execute_result"
    }
   ],
   "source": [
    "pisne.groupby(\"Film\")[\"Píseň\"].nunique().nlargest(20)"
   ]
  }
 ],
 "metadata": {
  "kernelspec": {
   "display_name": "Python 3 (ipykernel)",
   "language": "python",
   "name": "python3"
  },
  "language_info": {
   "codemirror_mode": {
    "name": "ipython",
    "version": 3
   },
   "file_extension": ".py",
   "mimetype": "text/x-python",
   "name": "python",
   "nbconvert_exporter": "python",
   "pygments_lexer": "ipython3",
   "version": "3.10.8"
  }
 },
 "nbformat": 4,
 "nbformat_minor": 5
}
