{
 "cells": [
  {
   "cell_type": "code",
   "execution_count": 14,
   "id": "15b874ad",
   "metadata": {},
   "outputs": [],
   "source": [
    "pred = f\"\"\"<script src=\"https://code.highcharts.com/highcharts.js\"></script>\n",
    "<figure class=\"target_div\", id=\"target_div\">\n",
    "  <div id=\"container\"></div>\n",
    "</figure>\n",
    "<script>\"\"\""
   ]
  },
  {
   "cell_type": "code",
   "execution_count": 17,
   "id": "ff294905",
   "metadata": {},
   "outputs": [],
   "source": [
    "import os"
   ]
  },
  {
   "cell_type": "code",
   "execution_count": 105,
   "id": "4a8c2974",
   "metadata": {},
   "outputs": [],
   "source": [
    "from highcharts_core.chart import Chart\n",
    "from highcharts_core.options.series.area import LineSeries\n",
    "from highcharts_core.options.series.bar import BarSeries\n",
    "from highcharts_core.options.series.bar import ColumnSeries"
   ]
  },
  {
   "cell_type": "code",
   "execution_count": 70,
   "id": "bc76dd60",
   "metadata": {},
   "outputs": [],
   "source": [
    "from highcharts_core.options.title import Title\n",
    "from highcharts_core.options.subtitle import Subtitle\n",
    "from highcharts_core.options.credits import Credits"
   ]
  },
  {
   "cell_type": "code",
   "execution_count": 121,
   "id": "f90c6cf3",
   "metadata": {},
   "outputs": [],
   "source": [
    "my_chart = Chart(container = 'target_div',\n",
    "                 options = {\n",
    "                     'series': [\n",
    "                         LineSeries(data = [0.125,\n",
    " 0.2222222222222222,\n",
    " 0.047619047619047616,\n",
    " 0.07692307692307693,\n",
    " 0.0,\n",
    " 0.08333333333333333,\n",
    " 0.09090909090909091,\n",
    " 0.10526315789473684,\n",
    " 0.0,\n",
    " 0.0,\n",
    " 0.06666666666666667], name=\"název\"),\n",
    "                     LineSeries(data = [0.25,\n",
    " 0.222222222222222,\n",
    " 0.47619047619047616,\n",
    " 0.7692307692307693,\n",
    " 0.0,\n",
    " 0.8333333333333333,\n",
    " 0.9090909090909091,\n",
    " 0.0526315789473684,\n",
    " 0.0,\n",
    " 0.0,\n",
    " 0.6666666666666667])\n",
    "                     ],\n",
    "                     'xAxis': {\n",
    "                         'categories': [\"1920\", 'B', 'C', 'D', 'E', 'F', 'G', 'H', 'I', 'J', 'K']\n",
    "                    },\n",
    "    'yAxis': {\n",
    "        'title': {\n",
    "            'text': 'Něco'\n",
    "        }\n",
    "    }\n",
    "}, variable_name='urednici')\n",
    "\n",
    "my_chart.options.title = Title(text = 'Frekvence slov v popisech děje českých filmů')\n",
    "my_chart.options.subtitle = Subtitle(text=\"Ahoj ahoj\")\n",
    "\n",
    "my_credits = Credits(text = 'Samizdat.cz pro iROZHLAS.cz', enabled = True, href = 'https://www.irozhlas.cz/zpravy-tag/datova-zurnalistika')\n",
    "my_chart.options.credits = my_credits\n",
    "\n",
    "as_js_literal = my_chart.to_js_literal()"
   ]
  },
  {
   "cell_type": "code",
   "execution_count": 114,
   "id": "3f53dbb0",
   "metadata": {},
   "outputs": [],
   "source": [
    "my_chart = Chart(container = 'target_div', options = {'xAxis': {\n",
    "                         'categories': [\"1920\", 'B', 'C', 'D', 'E', 'F', 'G', 'H', 'I', 'J', 'K']\n",
    "                     }})"
   ]
  },
  {
   "cell_type": "code",
   "execution_count": 115,
   "id": "0edd1e33",
   "metadata": {},
   "outputs": [],
   "source": [
    "my_chart.add_series(LineSeries(data = [0.25,\n",
    " 0.222222222222222,\n",
    " 0.47619047619047616,\n",
    " 0.7692307692307693,\n",
    " 0.0,\n",
    " 0.8333333333333333,\n",
    " 0.9090909090909091,\n",
    " 0.0526315789473684,\n",
    " 0.0,\n",
    " 0.0,\n",
    " 0.6666666666666667], name=\"úředníci\"))"
   ]
  },
  {
   "cell_type": "code",
   "execution_count": 116,
   "id": "7a5fa472",
   "metadata": {},
   "outputs": [],
   "source": [
    "my_chart.add_series(ColumnSeries(data = [0.25,\n",
    " 0.222222222222222,\n",
    " 0.19047619047616,\n",
    " 0.92307692307693,\n",
    " 0.0,\n",
    " 0.33333333333333,\n",
    " 0.0909090909091,\n",
    " 0.26315789473684,\n",
    " 0.0,\n",
    " 0.0,\n",
    " 0.66666666666667], name=\"úředníci\"))"
   ]
  },
  {
   "cell_type": "code",
   "execution_count": 117,
   "id": "5a3b477e",
   "metadata": {},
   "outputs": [],
   "source": [
    "my_chart.options.title = Title(text = 'Frekvence slov v popisech děje českých filmů')\n",
    "my_chart.options.subtitle = Subtitle(text=\"Ahoj ahoj\")\n",
    "\n",
    "my_credits = Credits(text = 'Samizdat.cz pro iROZHLAS.cz', enabled = True, href = 'https://www.irozhlas.cz/zpravy-tag/datova-zurnalistika')\n",
    "my_chart.options.credits = my_credits\n"
   ]
  },
  {
   "cell_type": "code",
   "execution_count": 95,
   "id": "85f3725f",
   "metadata": {},
   "outputs": [],
   "source": []
  },
  {
   "cell_type": "code",
   "execution_count": 122,
   "id": "836388c0",
   "metadata": {},
   "outputs": [],
   "source": [
    "as_js_literal = my_chart.to_js_literal()\n",
    "code = f\"<html><head><title>Pokus s grafem</title></head><body>{pred}{as_js_literal}</script></body></html>\"\n",
    "with open(os.path.join(\"private\",\"graf.html\"), \"w+\") as f:\n",
    "    f.write(code)"
   ]
  },
  {
   "cell_type": "code",
   "execution_count": 123,
   "id": "8a78af9b",
   "metadata": {},
   "outputs": [],
   "source": [
    "import os\n",
    "import json\n",
    "import pandas as pd\n",
    "df = pd.read_json(os.path.join(\"data\", \"filmy.json\"))"
   ]
  },
  {
   "cell_type": "code",
   "execution_count": 124,
   "id": "1f75e858",
   "metadata": {},
   "outputs": [],
   "source": [
    "df = df[[\"Copyright\",\"Režie\",\"Zvuk\",\"Scénář\"]].explode(\"Režie\").explode(\"Zvuk\").explode(\"Scénář\")"
   ]
  },
  {
   "cell_type": "code",
   "execution_count": 125,
   "id": "72868452",
   "metadata": {},
   "outputs": [],
   "source": [
    "rezie = pd.Series(df.groupby(\"Copyright\")[\"Režie\"].nunique())\n",
    "scenar = pd.Series(df.groupby(\"Copyright\")[\"Scénář\"].nunique())\n",
    "zvuk = pd.Series(df.groupby(\"Copyright\")[\"Zvuk\"].nunique())"
   ]
  },
  {
   "cell_type": "code",
   "execution_count": 154,
   "id": "dd1e6e11",
   "metadata": {},
   "outputs": [],
   "source": [
    "def graf(carovy=[], sloupcovy=[], target=\"\", titulek=\"\", podtitulek=\"\", osay=\"\", kredity=\"\"):\n",
    "    \n",
    "    pred = f\"\"\"<script src=\"https://code.highcharts.com/highcharts.js\"></script>\n",
    "        <figure class=\"target_div\", id=\"{target}\">\n",
    "        <div id=\"container\"></div>\n",
    "        </figure>\n",
    "        <script>\"\"\"\n",
    "    \n",
    "    if len(carovy) > 0:\n",
    "        categories = carovy[0].index.to_list()\n",
    "    else:\n",
    "        categories = sloupcovy[0].index.to_list()\n",
    "    categories = [str(x) for x in categories]\n",
    "    \n",
    "    my_chart = Chart(container = target, options = {'xAxis': {\n",
    "                         'categories': categories\n",
    "                     }, 'yAxis': {\n",
    "        'title': {\n",
    "            'text': osay\n",
    "        }}})\n",
    "    \n",
    "    if len(carovy) > 0:\n",
    "        for x in carovy:\n",
    "            my_chart.add_series(LineSeries(data = x.to_list(), name=x.name))\n",
    "\n",
    "    if len(sloupcovy) > 0:\n",
    "        for y in sloupcovy:\n",
    "            my_chart.add_series(ColumnSeries(data = y.to_list(), name=y.name))\n",
    "        \n",
    "    my_chart.options.title = Title(text = titulek)\n",
    "    \n",
    "    if len(podtitulek) > 0:\n",
    "        my_chart.options.subtitle = Subtitle(text = podtitulek)\n",
    "\n",
    "    my_credits = Credits(text = kredity, enabled = True, href = 'https://www.irozhlas.cz/zpravy-tag/datova-zurnalistika')\n",
    "    my_chart.options.credits = my_credits\n",
    "\n",
    "    as_js_literal = my_chart.to_js_literal()\n",
    "        \n",
    "    code = f\"<html><head><title>Pokus s grafem</title></head><body>{pred}{as_js_literal}</script></body></html>\"\n",
    "\n",
    "    if not os.path.exists(\"grafy\"):\n",
    "        os.mkdir(\"grafy\")\n",
    "    \n",
    "    filename = target + \".html\"\n",
    "    \n",
    "    with open(os.path.join(\"grafy\",filename), \"w+\") as f:\n",
    "        f.write(code)"
   ]
  },
  {
   "cell_type": "code",
   "execution_count": 155,
   "id": "3397c74b",
   "metadata": {},
   "outputs": [],
   "source": [
    "graf(carovy=[rezie, scenar], sloupcovy=[zvuk], target=\"filmiky\", titulek=\"Něco\", podtitulek=\"Něco jiného\", kredity=\"Stal jsem se Smrtí\", osay=\"Jabadabadů\")"
   ]
  },
  {
   "cell_type": "code",
   "execution_count": null,
   "id": "448581ef",
   "metadata": {},
   "outputs": [],
   "source": []
  },
  {
   "cell_type": "code",
   "execution_count": 97,
   "id": "09816e0c",
   "metadata": {},
   "outputs": [],
   "source": []
  }
 ],
 "metadata": {
  "kernelspec": {
   "display_name": "Python 3 (ipykernel)",
   "language": "python",
   "name": "python3"
  },
  "language_info": {
   "codemirror_mode": {
    "name": "ipython",
    "version": 3
   },
   "file_extension": ".py",
   "mimetype": "text/x-python",
   "name": "python",
   "nbconvert_exporter": "python",
   "pygments_lexer": "ipython3",
   "version": "3.10.8"
  }
 },
 "nbformat": 4,
 "nbformat_minor": 5
}
