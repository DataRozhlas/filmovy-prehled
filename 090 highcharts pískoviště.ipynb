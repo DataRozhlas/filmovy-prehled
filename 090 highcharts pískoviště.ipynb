{
 "cells": [
  {
   "cell_type": "code",
   "execution_count": 1,
   "id": "cd432287",
   "metadata": {},
   "outputs": [],
   "source": [
    "from highcharts_core.chart import Chart\n",
    "from highcharts_core.options.series.area import LineSeries"
   ]
  },
  {
   "cell_type": "code",
   "execution_count": 4,
   "id": "ec17b233",
   "metadata": {},
   "outputs": [],
   "source": [
    "from highcharts_core.options.title import Title\n",
    "from highcharts_core.options.credits import Credits"
   ]
  },
  {
   "cell_type": "code",
   "execution_count": 32,
   "id": "99e2b816",
   "metadata": {},
   "outputs": [],
   "source": [
    "my_chart = Chart(container = 'target_div',\n",
    "                 options = {\n",
    "                     'series': [\n",
    "                         LineSeries(data = [0.125,\n",
    " 0.2222222222222222,\n",
    " 0.047619047619047616,\n",
    " 0.07692307692307693,\n",
    " 0.0,\n",
    " 0.08333333333333333,\n",
    " 0.09090909090909091,\n",
    " 0.10526315789473684,\n",
    " 0.0,\n",
    " 0.0,\n",
    " 0.06666666666666667])\n",
    "                     ]\n",
    "                 },\n",
    "                 variable_name = 'urednici')\n",
    "\n",
    "my_title = Title(text = 'Frekvence slov v popisech děje českých filmů')\n",
    "my_chart.options.title = my_title\n",
    "\n",
    "my_credits = Credits(text = 'Samizdat.cz pro iROZHLAS.cz', enabled = True, href = 'https://www.irozhlas.cz/zpravy-tag/datova-zurnalistika')\n",
    "my_chart.options.credits = my_credits\n",
    "\n",
    "as_js_literal = my_chart.to_js_literal()"
   ]
  },
  {
   "cell_type": "code",
   "execution_count": 58,
   "id": "18654205",
   "metadata": {},
   "outputs": [],
   "source": [
    "my_chart = Chart(container = 'target_div',\n",
    "                 options = {\n",
    "                     'series': [\n",
    "                         LineSeries(data = [0.125,\n",
    " 0.2222222222222222,\n",
    " 0.047619047619047616,\n",
    " 0.07692307692307693,\n",
    " 0.0,\n",
    " 0.08333333333333333,\n",
    " 0.09090909090909091,\n",
    " 0.10526315789473684,\n",
    " 0.0,\n",
    " 0.0,\n",
    " 0.06666666666666667]),\n",
    "                     LineSeries(data = [0.25,\n",
    " 0.222222222222222,\n",
    " 0.47619047619047616,\n",
    " 0.7692307692307693,\n",
    " 0.0,\n",
    " 0.8333333333333333,\n",
    " 0.9090909090909091,\n",
    " 0.0526315789473684,\n",
    " 0.0,\n",
    " 0.0,\n",
    " 0.6666666666666667])\n",
    "                     ],\n",
    "                     'xAxis': {\n",
    "                         'categories': [\"1920\", 'B', 'C', 'D', 'E', 'F', 'G', 'H', 'I', 'J', 'K']\n",
    "                     }\n",
    "                 },\n",
    "                 variable_name = 'urednici')\n",
    "\n",
    "my_title = Title(text = 'Frekvence slov v popisech děje českých filmů')\n",
    "my_chart.options.title = my_title\n",
    "\n",
    "my_credits = Credits(text = 'Samizdat.cz pro iROZHLAS.cz', enabled = True, href = 'https://www.irozhlas.cz/zpravy-tag/datova-zurnalistika')\n",
    "my_chart.options.credits = my_credits\n",
    "\n",
    "as_js_literal = my_chart.to_js_literal()"
   ]
  },
  {
   "cell_type": "code",
   "execution_count": 49,
   "id": "c22ef9bc",
   "metadata": {},
   "outputs": [
    {
     "name": "stdout",
     "output_type": "stream",
     "text": [
      "document.addEventListener('DOMContentLoaded', function() {\n",
      "var urednici = Highcharts.chart('target_div',\n",
      "{\n",
      "  credits: {\n",
      "  enabled: true,\n",
      "  href: 'https://www.irozhlas.cz/zpravy-tag/datova-zurnalistika',\n",
      "  text: 'Samizdat.cz pro iROZHLAS.cz'\n",
      "},\n",
      "  series: [{\n",
      "  data: [{\n",
      "  y: 0.125\n",
      "},\n",
      "{\n",
      "  y: 0.2222222222222222\n",
      "},\n",
      "{\n",
      "  y: 0.047619047619047616\n",
      "},\n",
      "{\n",
      "  y: 0.07692307692307693\n",
      "},\n",
      "{\n",
      "  y: 0.0\n",
      "},\n",
      "{\n",
      "  y: 0.08333333333333333\n",
      "},\n",
      "{\n",
      "  y: 0.09090909090909091\n",
      "},\n",
      "{\n",
      "  y: 0.10526315789473684\n",
      "},\n",
      "{\n",
      "  y: 0.0\n",
      "},\n",
      "{\n",
      "  y: 0.0\n",
      "},\n",
      "{\n",
      "  y: 0.06666666666666667\n",
      "}],\n",
      "  type: 'line'\n",
      "}],\n",
      "  title: {\n",
      "  text: 'Frekvence slov v popisech děje českých filmů'\n",
      "}\n",
      "},\n",
      ");\n",
      "});\n"
     ]
    }
   ],
   "source": [
    "print(as_js_literal)"
   ]
  },
  {
   "cell_type": "code",
   "execution_count": 14,
   "id": "38e83037",
   "metadata": {},
   "outputs": [],
   "source": [
    "pred = f\"\"\"<script src=\"https://code.highcharts.com/highcharts.js\"></script>\n",
    "<figure class=\"target_div\", id=\"target_div\">\n",
    "  <div id=\"container\"></div>\n",
    "</figure>\n",
    "<script>\"\"\""
   ]
  },
  {
   "cell_type": "code",
   "execution_count": 59,
   "id": "b3cf0447",
   "metadata": {},
   "outputs": [],
   "source": [
    "code = f\"<html><head><title>Pokus s grafem</title></head><body>{pred}{as_js_literal}</script></body></html>\""
   ]
  },
  {
   "cell_type": "code",
   "execution_count": 17,
   "id": "e284810f",
   "metadata": {},
   "outputs": [],
   "source": [
    "import os"
   ]
  },
  {
   "cell_type": "code",
   "execution_count": 60,
   "id": "de54307b",
   "metadata": {},
   "outputs": [],
   "source": [
    "with open(os.path.join(\"private\",\"graf.html\"), \"w+\") as f:\n",
    "    f.write(code)"
   ]
  }
 ],
 "metadata": {
  "kernelspec": {
   "display_name": "Python 3 (ipykernel)",
   "language": "python",
   "name": "python3"
  },
  "language_info": {
   "codemirror_mode": {
    "name": "ipython",
    "version": 3
   },
   "file_extension": ".py",
   "mimetype": "text/x-python",
   "name": "python",
   "nbconvert_exporter": "python",
   "pygments_lexer": "ipython3",
   "version": "3.10.8"
  }
 },
 "nbformat": 4,
 "nbformat_minor": 5
}
