{
 "cells": [
  {
   "cell_type": "markdown",
   "id": "82c32db6",
   "metadata": {},
   "source": [
    "Todo:\n",
    "- vodící čáry\n",
    "- ticks\n",
    "- osa s procenty\n",
    "- různé letopočty v různých řadách"
   ]
  },
  {
   "cell_type": "code",
   "execution_count": 122,
   "id": "733ffade",
   "metadata": {},
   "outputs": [],
   "source": [
    "as_js_literal = my_chart.to_js_literal()\n",
    "code = f\"<html><head><title>Pokus s grafem</title></head><body>{pred}{as_js_literal}</script></body></html>\"\n",
    "with open(os.path.join(\"private\",\"graf.html\"), \"w+\") as f:\n",
    "    f.write(code)"
   ]
  },
  {
   "cell_type": "code",
   "execution_count": 167,
   "id": "9c51bca5",
   "metadata": {},
   "outputs": [],
   "source": [
    "import os\n",
    "import json\n",
    "import pandas as pd\n",
    "df = pd.read_json(os.path.join(\"data\", \"filmy.json\"))"
   ]
  },
  {
   "cell_type": "code",
   "execution_count": 168,
   "id": "ff32f3f1",
   "metadata": {},
   "outputs": [],
   "source": [
    "df = df[[\"Copyright\",\"Režie\",\"Zvuk\",\"Scénář\",\"Film\"]].explode(\"Režie\").explode(\"Zvuk\").explode(\"Scénář\")"
   ]
  },
  {
   "cell_type": "code",
   "execution_count": 188,
   "id": "db2d9851",
   "metadata": {},
   "outputs": [],
   "source": [
    "rezie = pd.Series(df[df[\"Režie\"].str.contains(\"g\",na=False)].groupby(\"Copyright\")[\"Film\"].nunique().fillna(0) / df.groupby(\"Copyright\")[\"Film\"].nunique().fillna(0), name=\"Režie\").fillna(0)\n",
    "scenar = pd.Series(df.groupby(\"Copyright\")[\"Scénář\"].nunique())\n",
    "zvuk = pd.Series(df.groupby(\"Copyright\")[\"Zvuk\"].nunique())"
   ]
  },
  {
   "cell_type": "code",
   "execution_count": 189,
   "id": "272b5700",
   "metadata": {},
   "outputs": [
    {
     "data": {
      "text/plain": [
       "Copyright\n",
       "1898    0.000000\n",
       "1901    0.000000\n",
       "1902    0.000000\n",
       "1906    0.000000\n",
       "1907    0.000000\n",
       "          ...   \n",
       "2018    0.090909\n",
       "2019    0.106383\n",
       "2020    0.057692\n",
       "2021    0.081633\n",
       "2022    0.000000\n",
       "Name: Režie, Length: 119, dtype: float64"
      ]
     },
     "execution_count": 189,
     "metadata": {},
     "output_type": "execute_result"
    }
   ],
   "source": [
    "rezie"
   ]
  },
  {
   "cell_type": "code",
   "execution_count": 390,
   "id": "d72bef6a",
   "metadata": {},
   "outputs": [],
   "source": [
    "def graf(carovy=[], sloupcovy=[], procenta=[], skryte=[], max_procenta=100, target=\"\", titulek=\"\", podtitulek=\"\", osay=\"\", osay2=\"\", kredity=\"\", zaokrouhleni = 2, prvni=True):\n",
    "    \n",
    "    import os\n",
    "    from highcharts_core.chart import Chart\n",
    "    from highcharts_core.options.series.area import LineSeries\n",
    "    from highcharts_core.options.series.bar import ColumnSeries\n",
    "    from highcharts_core.options.title import Title\n",
    "    from highcharts_core.options.subtitle import Subtitle\n",
    "    from highcharts_core.options.credits import Credits\n",
    "\n",
    "    if prvni:\n",
    "        zdrojaky = f\"\"\"<script src=\"https://code.highcharts.com/highcharts.js\"></script>\"\"\"\n",
    "    else:\n",
    "        zdrojaky = \"\"\n",
    "    \n",
    "    pred = f\"\"\"{zdrojaky}\n",
    "        <figure class=\"target_div\", id=\"{target}\">\n",
    "        <div id=\"container\"></div>\n",
    "        </figure>\n",
    "        <script>\"\"\"\n",
    "    \n",
    "    if len(carovy) > 0:\n",
    "        categories = carovy[0].index.to_list()\n",
    "    else:\n",
    "        categories = sloupcovy[0].index.to_list()\n",
    "    categories = [str(x) for x in categories]\n",
    "    \n",
    "    nastaveni = {}\n",
    "    nastaveni[\"xAxis\"] = {'categories': categories, \"min\": 0}\n",
    "    nastaveni[\"yAxis\"] = [{'title': {'text': osay}}]\n",
    "    \n",
    "    if len(procenta) > 0:\n",
    "        \n",
    "        osa_procent = {'title' : {'text': osay2}, \"max\": max_procenta, \"min\": 0}\n",
    "        \n",
    "        if len(procenta) != len(carovy) + len(sloupcovy):\n",
    "            osa_procent[\"opposite\"] = True\n",
    "            druha_osa = 1\n",
    "            nastaveni[\"yAxis\"].append(osa_procent)\n",
    "            nastaveni[\"alignTicks\"] = False\n",
    "        if len(procenta) == len(carovy) + len(sloupcovy):\n",
    "            nastaveni[\"yAxis\"] = [osa_procent]\n",
    "            druha_osa = 0\n",
    " \n",
    "    my_chart = Chart(container = target, options = nastaveni)\n",
    "    \n",
    "    procenta = [p.name for p in procenta]\n",
    "    skryte = [s.name for s in skryte]\n",
    "    \n",
    "    def vykresleni(serie, typ):\n",
    "        for s in serie:\n",
    "            popisek = s.name\n",
    "            if s.name in skryte:\n",
    "                viditelnost = False\n",
    "            else:\n",
    "                viditelnost = True\n",
    "            if s.name in procenta:\n",
    "                s = [round(x * 100, zaokrouhleni) for x in s.fillna(0).to_list()]\n",
    "                my_chart.add_series(typ(data = s, visible=viditelnost, name=popisek, y_axis = druha_osa, tooltip={\"valueSuffix\": \" %\"}))\n",
    "            else:\n",
    "                my_chart.add_series(typ(data = s.fillna(0).to_list(), visible=viditelnost, name=popisek, y_axis = 0))\n",
    "    \n",
    "    if len(sloupcovy) > 0:\n",
    "        vykresleni(sloupcovy, ColumnSeries)\n",
    "    if len(carovy) > 0:\n",
    "        vykresleni(carovy, LineSeries)\n",
    "    \n",
    "    my_chart.options.title = Title(text = titulek)\n",
    "    \n",
    "    if len(podtitulek) > 0:\n",
    "        my_chart.options.subtitle = Subtitle(text = podtitulek)\n",
    "\n",
    "    my_credits = Credits(text = kredity[0], enabled = True, href = kredity[1])\n",
    "    my_chart.options.credits = my_credits\n",
    "\n",
    "    as_js_literal = my_chart.to_js_literal()\n",
    "        \n",
    "    code = f\"<html><head><title>Pokus s grafem</title></head><body>{pred}{as_js_literal}</script></body></html>\"\n",
    "\n",
    "    if not os.path.exists(\"grafy\"):\n",
    "        os.mkdir(\"grafy\")\n",
    "    \n",
    "    filename = target + \".html\"\n",
    "    \n",
    "    with open(os.path.join(\"grafy\",filename), \"w+\") as f:\n",
    "        f.write(code)\n",
    "        print(\"Graf uložen.\")"
   ]
  },
  {
   "cell_type": "code",
   "execution_count": 388,
   "id": "3fc30453",
   "metadata": {},
   "outputs": [
    {
     "name": "stdout",
     "output_type": "stream",
     "text": [
      "Graf uložen.\n"
     ]
    }
   ],
   "source": [
    "graf(carovy=[rezie, scenar], sloupcovy=[zvuk], procenta=[rezie], target=\"filmiky\", titulek=\"Něco\", podtitulek=\"Něco jiného\", kredity=[\"Zdroj dat: Filmový přehled | Vizualizace: Michal Kašpárek, iROZHLAS.cz\",\"https://www.irozhlas.cz/zpravy-tag/datova-zurnalistika\"], osay=\"Počet filmů\")"
   ]
  },
  {
   "cell_type": "code",
   "execution_count": null,
   "id": "722397b5",
   "metadata": {},
   "outputs": [],
   "source": []
  },
  {
   "cell_type": "code",
   "execution_count": 97,
   "id": "0b4c16fd",
   "metadata": {},
   "outputs": [],
   "source": []
  }
 ],
 "metadata": {
  "kernelspec": {
   "display_name": "Python 3 (ipykernel)",
   "language": "python",
   "name": "python3"
  },
  "language_info": {
   "codemirror_mode": {
    "name": "ipython",
    "version": 3
   },
   "file_extension": ".py",
   "mimetype": "text/x-python",
   "name": "python",
   "nbconvert_exporter": "python",
   "pygments_lexer": "ipython3",
   "version": "3.10.8"
  }
 },
 "nbformat": 4,
 "nbformat_minor": 5
}
