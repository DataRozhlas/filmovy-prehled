{
 "cells": [
  {
   "cell_type": "code",
   "execution_count": 2,
   "id": "51e6fee6",
   "metadata": {},
   "outputs": [],
   "source": [
    "import os\n",
    "import pandas as pd\n",
    "pd.set_option('display.max_columns', None)\n",
    "df = pd.read_json(os.path.join(\"data\", \"filmy.json\"))"
   ]
  },
  {
   "cell_type": "code",
   "execution_count": 3,
   "id": "67a697e8",
   "metadata": {},
   "outputs": [
    {
     "data": {
      "text/plain": [
       "Index(['Film', 'Země původu', 'Copyright', 'Rok výroby', 'Premiéra', 'Minutáž',\n",
       "       'Režie', 'Kategorie', 'Žánr', 'Typologie',\n",
       "       ...\n",
       "       'Výtvarník pozadí', 'Výrobní skupina', 'Zákazník', 'Vývozní společnost',\n",
       "       'Umělecké vedení', 'Překlad české verze', 'Rychlost', 'Přístupnost',\n",
       "       'Začátek výroby', 'Konec výroby'],\n",
       "      dtype='object', length=131)"
      ]
     },
     "execution_count": 3,
     "metadata": {},
     "output_type": "execute_result"
    }
   ],
   "source": [
    "df.columns"
   ]
  },
  {
   "cell_type": "code",
   "execution_count": 6,
   "id": "9f51b573",
   "metadata": {},
   "outputs": [
    {
     "data": {
      "text/html": [
       "<div>\n",
       "<style scoped>\n",
       "    .dataframe tbody tr th:only-of-type {\n",
       "        vertical-align: middle;\n",
       "    }\n",
       "\n",
       "    .dataframe tbody tr th {\n",
       "        vertical-align: top;\n",
       "    }\n",
       "\n",
       "    .dataframe thead th {\n",
       "        text-align: right;\n",
       "    }\n",
       "</style>\n",
       "<table border=\"1\" class=\"dataframe\">\n",
       "  <thead>\n",
       "    <tr style=\"text-align: right;\">\n",
       "      <th></th>\n",
       "      <th>Film</th>\n",
       "      <th>Zpívá</th>\n",
       "    </tr>\n",
       "  </thead>\n",
       "  <tbody>\n",
       "    <tr>\n",
       "      <th>529</th>\n",
       "      <td>Tisíc za jednu noc [německá verze] (395555)</td>\n",
       "      <td>[]</td>\n",
       "    </tr>\n",
       "    <tr>\n",
       "      <th>659</th>\n",
       "      <td>Polská krev [německá verze] (395629)</td>\n",
       "      <td>[Anny Ondráková [dab] (127280), Rudolf Carl (1...</td>\n",
       "    </tr>\n",
       "    <tr>\n",
       "      <th>674</th>\n",
       "      <td>Žena, která ví co chce [německá verze] (395630)</td>\n",
       "      <td>[]</td>\n",
       "    </tr>\n",
       "    <tr>\n",
       "      <th>676</th>\n",
       "      <td>Smrt na lovu (398551)</td>\n",
       "      <td>[sbor Červený kohout (127460)]</td>\n",
       "    </tr>\n",
       "    <tr>\n",
       "      <th>725</th>\n",
       "      <td>Jánošík (395695)</td>\n",
       "      <td>[]</td>\n",
       "    </tr>\n",
       "    <tr>\n",
       "      <th>...</th>\n",
       "      <td>...</td>\n",
       "      <td>...</td>\n",
       "    </tr>\n",
       "    <tr>\n",
       "      <th>4223</th>\n",
       "      <td>Špindl (401676)</td>\n",
       "      <td>[]</td>\n",
       "    </tr>\n",
       "    <tr>\n",
       "      <th>4226</th>\n",
       "      <td>Cesta za králem trollů (401723)</td>\n",
       "      <td>[]</td>\n",
       "    </tr>\n",
       "    <tr>\n",
       "      <th>4251</th>\n",
       "      <td>Central Bus Station (401856)</td>\n",
       "      <td>[]</td>\n",
       "    </tr>\n",
       "    <tr>\n",
       "      <th>4288</th>\n",
       "      <td>Alenka v zemi zázraků (401746)</td>\n",
       "      <td>[]</td>\n",
       "    </tr>\n",
       "    <tr>\n",
       "      <th>4480</th>\n",
       "      <td>Pražský výběr Symphony Bizarre (402186)</td>\n",
       "      <td>[Michal Pavlíček (23378)]</td>\n",
       "    </tr>\n",
       "  </tbody>\n",
       "</table>\n",
       "<p>284 rows × 2 columns</p>\n",
       "</div>"
      ],
      "text/plain": [
       "                                                 Film   \n",
       "529       Tisíc za jednu noc [německá verze] (395555)  \\\n",
       "659              Polská krev [německá verze] (395629)   \n",
       "674   Žena, která ví co chce [německá verze] (395630)   \n",
       "676                             Smrt na lovu (398551)   \n",
       "725                                  Jánošík (395695)   \n",
       "...                                               ...   \n",
       "4223                                  Špindl (401676)   \n",
       "4226                  Cesta za králem trollů (401723)   \n",
       "4251                     Central Bus Station (401856)   \n",
       "4288                   Alenka v zemi zázraků (401746)   \n",
       "4480          Pražský výběr Symphony Bizarre (402186)   \n",
       "\n",
       "                                                  Zpívá  \n",
       "529                                                  []  \n",
       "659   [Anny Ondráková [dab] (127280), Rudolf Carl (1...  \n",
       "674                                                  []  \n",
       "676                      [sbor Červený kohout (127460)]  \n",
       "725                                                  []  \n",
       "...                                                 ...  \n",
       "4223                                                 []  \n",
       "4226                                                 []  \n",
       "4251                                                 []  \n",
       "4288                                                 []  \n",
       "4480                          [Michal Pavlíček (23378)]  \n",
       "\n",
       "[284 rows x 2 columns]"
      ]
     },
     "execution_count": 6,
     "metadata": {},
     "output_type": "execute_result"
    }
   ],
   "source": [
    "df[~df[\"Zpívá\"].isnull()][[\"Film\",\"Zpívá\"]]"
   ]
  },
  {
   "cell_type": "code",
   "execution_count": 7,
   "id": "4bdc1dd5",
   "metadata": {},
   "outputs": [],
   "source": [
    "df = df.explode(\"Zpívá\")"
   ]
  },
  {
   "cell_type": "code",
   "execution_count": 10,
   "id": "5759c3e9",
   "metadata": {},
   "outputs": [
    {
     "data": {
      "text/plain": [
       "Zpívá\n",
       "Lucie Bílá (7010)        7\n",
       "Lenka Dusilová (1359)    6\n",
       "Dan Bárta (5428)         5\n",
       "Eva Olmerová (4746)      5\n",
       "Karel Gott (3861)        5\n",
       "Name: Film, dtype: int64"
      ]
     },
     "execution_count": 10,
     "metadata": {},
     "output_type": "execute_result"
    }
   ],
   "source": [
    "df.groupby(\"Zpívá\")[\"Film\"].nunique().nlargest()"
   ]
  },
  {
   "cell_type": "code",
   "execution_count": 13,
   "id": "f34d7445",
   "metadata": {},
   "outputs": [
    {
     "data": {
      "text/plain": [
       "<AxesSubplot:xlabel='Copyright'>"
      ]
     },
     "execution_count": 13,
     "metadata": {},
     "output_type": "execute_result"
    },
    {
     "data": {
      "image/png": "[encoded data removed]",
      "text/plain": [
       "<Figure size 1440x360 with 1 Axes>"
      ]
     },
     "metadata": {
      "needs_background": "light"
     },
     "output_type": "display_data"
    }
   ],
   "source": [
    "df.groupby(\"Copyright\")[\"Zpívá\"].nunique().plot.bar(figsize=(20,5))"
   ]
  }
 ],
 "metadata": {
  "kernelspec": {
   "display_name": "Python 3 (ipykernel)",
   "language": "python",
   "name": "python3"
  },
  "language_info": {
   "codemirror_mode": {
    "name": "ipython",
    "version": 3
   },
   "file_extension": ".py",
   "mimetype": "text/x-python",
   "name": "python",
   "nbconvert_exporter": "python",
   "pygments_lexer": "ipython3",
   "version": "3.10.8"
  }
 },
 "nbformat": 4,
 "nbformat_minor": 5
}
