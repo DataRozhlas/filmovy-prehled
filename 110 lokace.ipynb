{
 "cells": [
  {
   "cell_type": "code",
   "execution_count": 1,
   "id": "86c14e64",
   "metadata": {},
   "outputs": [],
   "source": [
    "import os\n",
    "import pandas as pd\n",
    "pd.set_option('display.max_columns', None)\n",
    "df = pd.read_json(os.path.join(\"data\", \"filmy.json\"))"
   ]
  },
  {
   "cell_type": "code",
   "execution_count": 2,
   "id": "81d06c05",
   "metadata": {},
   "outputs": [],
   "source": [
    "df = df.explode(\"Lokace\")"
   ]
  },
  {
   "cell_type": "markdown",
   "id": "0c7fe99f",
   "metadata": {},
   "source": [
    "## Explorace"
   ]
  },
  {
   "cell_type": "code",
   "execution_count": 3,
   "id": "b0cbb4f3",
   "metadata": {},
   "outputs": [
    {
     "data": {
      "text/plain": [
       "<AxesSubplot:xlabel='Copyright'>"
      ]
     },
     "execution_count": 3,
     "metadata": {},
     "output_type": "execute_result"
    },
    {
     "data": {
      "image/png": "[encoded data removed]",
      "text/plain": [
       "<Figure size 1800x216 with 1 Axes>"
      ]
     },
     "metadata": {
      "needs_background": "light"
     },
     "output_type": "display_data"
    }
   ],
   "source": [
    "df.groupby(\"Copyright\")[\"Lokace\"].nunique().plot.bar(figsize=(25,3))"
   ]
  },
  {
   "cell_type": "code",
   "execution_count": 4,
   "id": "39df0242",
   "metadata": {},
   "outputs": [
    {
     "data": {
      "text/plain": [
       "<AxesSubplot:xlabel='Copyright'>"
      ]
     },
     "execution_count": 4,
     "metadata": {},
     "output_type": "execute_result"
    },
    {
     "data": {
      "image/png": "[encoded data removed]",
      "text/plain": [
       "<Figure size 1800x216 with 1 Axes>"
      ]
     },
     "metadata": {
      "needs_background": "light"
     },
     "output_type": "display_data"
    }
   ],
   "source": [
    "df[df[\"Copyright\"] < 2010].groupby(\"Copyright\")[\"Lokace\"].nunique().plot.bar(figsize=(25,3))"
   ]
  },
  {
   "cell_type": "markdown",
   "id": "f97070ed",
   "metadata": {},
   "source": [
    "## Čištění"
   ]
  },
  {
   "cell_type": "code",
   "execution_count": 5,
   "id": "6f08953c",
   "metadata": {},
   "outputs": [
    {
     "data": {
      "text/plain": [
       "['Česká republika, Praha (Česká republika)',\n",
       " 'Nové Město (Praha)',\n",
       " 'Staré Město (Praha)',\n",
       " 'Malá Strana (Praha)',\n",
       " 'Vltava (Praha)',\n",
       " 'Hradčany (Praha)',\n",
       " 'Vinohrady (Praha)',\n",
       " 'Praha (Česká republika)',\n",
       " 'Holešovice (Praha)',\n",
       " 'Žižkov (Praha)',\n",
       " 'Dejvice (Praha)',\n",
       " 'Smíchov (Praha)',\n",
       " 'Staroměstské náměstí (Staré Město)',\n",
       " 'Slovensko, Bratislava (Slovensko)',\n",
       " 'Bubeneč (Praha)',\n",
       " 'Václavské náměstí (Nové Město)',\n",
       " 'Karlín (Praha)',\n",
       " 'Nusle (Praha)',\n",
       " 'Národní třída (Nové Město)',\n",
       " 'Josefov (Praha)',\n",
       " 'Praha',\n",
       " 'Pražský hrad (Hradčany)',\n",
       " 'Ruzyně (Praha)',\n",
       " 'Výstaviště (Bubeneč)',\n",
       " 'Praha, Nové Město (Praha)',\n",
       " 'Karlův most (Vltava)',\n",
       " 'Letná (Praha)',\n",
       " 'Podolí (Praha)',\n",
       " 'Praha, Vltava (Praha)',\n",
       " 'Brno (Česká republika)',\n",
       " 'Libeň (Praha)',\n",
       " 'Praha, Bubeneč (Praha)',\n",
       " 'bez exteriérů',\n",
       " 'Francie, Paříž (Francie)',\n",
       " 'Vršovice (Praha)',\n",
       " 'Vodičkova ulice (Nové Město)',\n",
       " 'most Legií (Vltava)',\n",
       " 'náměstí Jana Palacha (Josefov)',\n",
       " 'Malostranské náměstí (Malá Strana)',\n",
       " 'Praha, Hradčany (Praha)',\n",
       " 'Praha, Staré Město (Praha)',\n",
       " 'Bratislava (Slovensko)',\n",
       " 'Hradčanské náměstí (Hradčany)',\n",
       " 'Strašnice (Praha)',\n",
       " 'Bohnice (Praha)',\n",
       " 'Hlavní nádraží (Nové Město)',\n",
       " 'Krč (Praha)',\n",
       " 'Letiště Václava Havla (Ruzyně)',\n",
       " 'Národní divadlo (Nové Město)',\n",
       " 'Pernerova ulice (Karlín)',\n",
       " 'Česká republika, Brno (Česká republika)',\n",
       " 'Břevnov (Praha)',\n",
       " 'Kampa (Malá Strana)',\n",
       " 'Mánesův most (Vltava)',\n",
       " 'Petřín (Malá Strana)',\n",
       " 'Smetanovo nábřeží (Vltava)',\n",
       " 'Vyšehrad (Praha)',\n",
       " 'Hlubočepy (Praha)',\n",
       " 'Kbely (Praha)',\n",
       " 'New York City (New York)',\n",
       " 'Národní muzeum (Václavské náměstí)',\n",
       " 'Ostrava (Česká republika)',\n",
       " 'Pankrác (Praha)',\n",
       " 'Praha, panorama (Praha)',\n",
       " 'Praha, ulice (Praha)',\n",
       " 'Rakousko, Vídeň (Rakousko)',\n",
       " 'Slovensko',\n",
       " 'Strahov (Praha)',\n",
       " 'Střešovice (Praha)',\n",
       " 'Velká Británie, Londýn (Velká Británie)',\n",
       " 'Vinohradská ulice (Vinohrady)',\n",
       " 'náměstí Republiky (Staré Město)',\n",
       " 'Bělohorská ulice (Břevnov)',\n",
       " 'Letňany (Praha)',\n",
       " 'Lucerna (Vodičkova ulice)',\n",
       " 'Motol (Praha)',\n",
       " 'Pařížská ulice (Staré Město)',\n",
       " 'Plzeň (Česká republika)',\n",
       " 'Praha, Holešovice (Praha)',\n",
       " 'Praha, Smíchov (Praha)',\n",
       " 'Praha, panoráma (Praha)',\n",
       " 'Slovensko, Vysoké Tatry (Slovensko)',\n",
       " 'Spojené státy americké, New York (Spojené státy americké)',\n",
       " 'Stodůlky (Praha)',\n",
       " 'Troja (Praha)',\n",
       " 'Vysočany (Praha)',\n",
       " 'Václavské náměstí (Praha)',\n",
       " 'náměstí Curieových (Staré Město)',\n",
       " 'ulice Komunardů (Holešovice)',\n",
       " 'Barrandov (Praha)',\n",
       " 'Braník (Praha)',\n",
       " 'Dejvická ulice (Dejvice)',\n",
       " 'Eiffelova věž (Paříž)',\n",
       " 'Jaroměř (Česká republika)',\n",
       " 'Kavčí hory (Podolí)',\n",
       " 'Klánovice (Praha)',\n",
       " 'Kolín (Česká republika)',\n",
       " 'Koulova ulice (Dejvice)',\n",
       " 'Letenská pláň (Letná)',\n",
       " 'Los Angeles (Kalifornie)',\n",
       " 'Michle (Praha)',\n",
       " 'Nuselský most (Praha)',\n",
       " 'Nádražní ulice (Smíchov)',\n",
       " 'Německo, Berlín (Německo)',\n",
       " 'Olšanské hřbitovy (Žižkov)',\n",
       " 'Praha, Dejvice (Praha)',\n",
       " 'Praha, Vinohrady (Praha)',\n",
       " 'Pražský hrad (Hradčanské náměstí)',\n",
       " 'Rašínovo nábřeží (Vltava)',\n",
       " 'Rudolfinum (náměstí Jana Palacha)',\n",
       " 'Sněmovní ulice (Malá Strana)',\n",
       " 'Spálená ulice (Nové Město)',\n",
       " 'Staroměstská radnice (Staroměstské náměstí)',\n",
       " 'Střelecký ostrov (Vltava)',\n",
       " 'Veltrusy (Česká republika)',\n",
       " 'metro (Praha)',\n",
       " 'náměstí Svobody (Bubeneč)',\n",
       " 'ulice Na Pankráci (Nusle)',\n",
       " 'ulice Politických vězňů (Nové Město)',\n",
       " 'železniční most (Praha)',\n",
       " 'Bartolomějská ulice (Staré Město)',\n",
       " 'Bubenské nábřeží (Vltava)',\n",
       " 'Chodov (Praha)',\n",
       " 'Doksy (Česká republika)',\n",
       " 'Dunaj (Bratislava)',\n",
       " 'Hellichova ulice (Malá Strana)',\n",
       " 'Hlavní nádraží (Praha)',\n",
       " 'Hostivař (Praha)',\n",
       " 'Hradec Králové (Česká republika)',\n",
       " 'Háje (Praha)',\n",
       " 'Itálie',\n",
       " 'Jankovcova ulice (Holešovice)',\n",
       " 'Jihlava (Česká republika)',\n",
       " 'Jindřišská ulice (Nové Město)',\n",
       " 'Jiráskův most (Vltava)',\n",
       " 'Karlovo náměstí (Nové Město)',\n",
       " 'Karmelitská ulice (Malá Strana)',\n",
       " 'Loretánské náměstí (Hradčany)',\n",
       " 'Maďarsko, Budapešť (Maďarsko)',\n",
       " 'Nové město (Praha)',\n",
       " 'Národní divadlo (Národní třída)',\n",
       " 'Národní třída (Praha)',\n",
       " 'Olomouc (Česká republika)',\n",
       " 'Praha, Malá Strana (Praha)',\n",
       " 'Praha, Nusle (Praha)',\n",
       " 'Praha, Vršovice (Praha)',\n",
       " 'Radlice (Praha)',\n",
       " 'Rusko, Moskva (Rusko)',\n",
       " 'Ružomberok (Slovensko)',\n",
       " 'Slapy (Česká republika)',\n",
       " 'Slovanský ostrov (Vltava)',\n",
       " 'Sokolovská ulice (Karlín)',\n",
       " 'Stromovka (Bubeneč)',\n",
       " 'Svätý Jur (Slovensko)',\n",
       " 'Tusarova ulice (Holešovice)',\n",
       " 'Vodičkova ulice (Praha)',\n",
       " 'Zlín (Česká republika)',\n",
       " 'ostrov Štvanice (Vltava)',\n",
       " 'panoráma (Hradčany)',\n",
       " 'skanzen Řepora (Řeporyje)',\n",
       " 'stadion (Strahov)',\n",
       " 'ulice Na Františku (Staré Město)',\n",
       " 'Ústí nad Labem (Česká republika)',\n",
       " 'Čechův most (Vltava)',\n",
       " 'železniční most (Vltava)',\n",
       " 'Albertov (Nové Město)',\n",
       " 'Alšovo nábřeží (Vltava)',\n",
       " 'Anděl (Smíchov)',\n",
       " 'Beroun (Česká republika)',\n",
       " 'Brdy (Česká republika)',\n",
       " 'Broumov (Česká republika)',\n",
       " 'Divadlo na Vinohradech (Vinohrady)',\n",
       " 'Dvořákovo nábřeží (Vltava)',\n",
       " 'Erhartova cukrárna /interiér/ (Vinohradská ulice)',\n",
       " 'Fakultní Thomayerova nemocnice (Krč)',\n",
       " 'Hlavní nádraží /interiér/ (Nové Město)',\n",
       " 'Horní náměstí (Olomouc)',\n",
       " 'Husova ulice (Staré Město)',\n",
       " 'Jizerské hory',\n",
       " 'Jizerské hory (Česká republika)',\n",
       " 'Karlův most (Praha)',\n",
       " 'Katedrála sv. Víta (Pražský hrad)',\n",
       " 'Kobylisy (Praha)',\n",
       " 'Krkonoše (Česká republika)',\n",
       " 'Kubelíkova ulice (Žižkov)',\n",
       " 'Kunratice (Praha)',\n",
       " 'Křižíkova ulice (Karlín)',\n",
       " 'Letenské sady (Letná)',\n",
       " 'Liberec',\n",
       " 'Lysá nad Labem (Česká republika)',\n",
       " 'Lyčkovo náměstí (Karlín)',\n",
       " 'Maltézské náměstí (Malá Strana)',\n",
       " 'Mariánské náměstí (Staré Město)',\n",
       " 'Mladá Boleslav, Viničná ulice (Mladá Boleslav)',\n",
       " 'Most (Česká republika)',\n",
       " 'Mostecko',\n",
       " 'Mánes (Nové Město)',\n",
       " 'Mělník (Česká republika)',\n",
       " 'New York (Spojené státy americké)',\n",
       " 'Nižbor (Česká republika)',\n",
       " 'Národní třída (Staré Město)',\n",
       " 'Německo, Drážďany (Německo)',\n",
       " 'O2 arena /interiér/ (Libeň)',\n",
       " 'Olbramov (Česká republika)',\n",
       " 'Opatovická ulice (Nové Město)',\n",
       " 'Petschkův palác (ulice Politických vězňů)',\n",
       " 'Petřín (Praha)',\n",
       " 'Pezinok (Slovensko)',\n",
       " 'Poprad (Slovensko)',\n",
       " 'Poupětova ulice (Holešovice)',\n",
       " 'Praha a okolí',\n",
       " 'Praha, Bohnice (Praha)',\n",
       " 'Praha, Josefov (Praha)',\n",
       " 'Praha, Karlín (Praha)',\n",
       " 'Praha, Letná (Praha)',\n",
       " 'Právnická fakulta Univerzity Karlovy (náměstí Curieových)',\n",
       " 'Radotín (Praha)',\n",
       " 'Reduta (Národní třída)',\n",
       " 'Rohanské nábřeží (Vltava)',\n",
       " 'Rumunsko, Bukurešť (Rumunsko)',\n",
       " 'Seifertova ulice (Žižkov)',\n",
       " 'Skleněný palác /interiér/ (náměstí Svobody)',\n",
       " 'Slavíkova ulice (Žižkov)',\n",
       " 'Slovensko, Žilina (Slovensko)',\n",
       " 'Smetanovo nábřeží (Staré Město)',\n",
       " 'Sokolská ulice (Nové Město)',\n",
       " 'Spojené státy americké, Kalifornie (Spojené státy americké)',\n",
       " 'Staroměstský orloj (Staroměstská radnice)',\n",
       " 'Staroměstský orloj (Staroměstské náměstí)',\n",
       " 'Staré náměstí (Ruzyně)',\n",
       " 'Starý židovský hřbitov (Josefov)',\n",
       " 'Strahovský klášter (Hradčany)',\n",
       " 'Suchdol (Praha)',\n",
       " 'Technická ulice (Dejvice)',\n",
       " 'Thomayerova nemocnice (Krč)',\n",
       " 'Tomášikovo (Slovensko)',\n",
       " 'Trenčianske Teplice (Slovensko)',\n",
       " 'Trojická ulice (Nové Město)',\n",
       " 'USA, New York (USA)',\n",
       " 'Veletržní palác (Holešovice)',\n",
       " 'Veletržní ulice (Holešovice)',\n",
       " 'Velkopřevorské náměstí (Malá Strana)',\n",
       " 'Vinohradská třída (Vinohrady)',\n",
       " 'Vladivostocká ulice (Vršovice)',\n",
       " 'Vršovická ulice (Vršovice)',\n",
       " 'Vysoké Tatry (Slovensko)',\n",
       " 'Vítkov (Praha)',\n",
       " 'Vítkov (Žižkov)',\n",
       " 'Výstaviště (Brno)',\n",
       " 'Všeobecná fakultní nemocnice (Nové Město)',\n",
       " 'Zelená ulice (Dejvice)',\n",
       " 'Zličín (Praha)',\n",
       " 'Záběhlice (Praha)',\n",
       " 'chrám sv. Víta /i interiér/ (Pražský hrad)',\n",
       " 'filmové ateliéry (Barrandov)',\n",
       " 'hotel Pyramida (Bělohorská ulice)',\n",
       " 'kavárna Café Jedna /interiér/ (Veletržní palác)',\n",
       " 'kino (Lucerna)',\n",
       " 'kostel sv. Mikuláše (Malostranské náměstí)',\n",
       " 'most Slovenského národního povstání (Dunaj)',\n",
       " 'nádraží (Smíchov)',\n",
       " 'náměstí Jiřího z Poděbrad (Vinohrady)',\n",
       " 'náplavka (Vltava)',\n",
       " 'okolí (Písek)',\n",
       " 'panoráma (Pražský hrad)',\n",
       " 'přístav (Holešovice)',\n",
       " 'rozhledna (Petřín)',\n",
       " 'ulice (Praha)',\n",
       " 'ulice 28. pluku (Vršovice)',\n",
       " 'ulice Na Hrobci (Nové Město)',\n",
       " 'ulice Na Příkopě (Nové Město)',\n",
       " 'ulice U Sovových mlýnů (Kampa)',\n",
       " 'Ústavní ulice (Bohnice)',\n",
       " 'Ústí nad Labem',\n",
       " 'Česká republika, Křivoklát (Česká republika)',\n",
       " 'České Budějovice (Česká republika)',\n",
       " 'Šafaříkova ulice (Vinohrady)',\n",
       " 'Štefánikova ulice (Smíchov)',\n",
       " 'Šumava (Česká republika)',\n",
       " 'Žilina (Slovensko)',\n",
       " 'Americká ulice (Vinohrady)',\n",
       " 'Anenské náměstí (Staré Město)',\n",
       " 'Archiv bezpečnostních složek /interiér/ (ulice Na Strouze)',\n",
       " 'Arkády Pankrác /interiér/ (ulice Na Pankráci)',\n",
       " 'Banská Bystrica (Slovensko)',\n",
       " 'Barrandov (Kříženeckého náměstí)',\n",
       " 'Basilejské náměstí (Žižkov)',\n",
       " 'Benátky (Itálie)',\n",
       " 'Berlín (Německo)',\n",
       " 'Blatná (Česká republika)',\n",
       " 'Boletice (Česká republika)',\n",
       " 'Bolzanova ulice (Nové Město)',\n",
       " 'Brandýs nad Labem (Česká republika)',\n",
       " 'Bubenská ulice (Praha)',\n",
       " 'Bílá Hora (Praha)',\n",
       " 'Břehová ulice (Josefov)',\n",
       " 'Celetná ulice (Staré Město)',\n",
       " 'Chabařovická ulice (Kobylisy)',\n",
       " 'Chelčického ulice (Žižkov)',\n",
       " 'Chlumova ulice (Žižkov)']"
      ]
     },
     "execution_count": 5,
     "metadata": {},
     "output_type": "execute_result"
    }
   ],
   "source": [
    "df.groupby(\"Lokace\")[\"Film\"].nunique().nlargest(300).index.to_list()"
   ]
  },
  {
   "cell_type": "code",
   "execution_count": 6,
   "id": "601eb009",
   "metadata": {},
   "outputs": [],
   "source": [
    "prazske_ctvrti = [\"Staré Město\",\"Nové Město\",\"Hradčany\",\"Bubeneč\",\"Vltava\",\"Josefov\",\"Malá Strana\",\"Ruzyně\",\"Karlín\",\"Václavské náměstí\",\"Břevnov\",\"Vinohrady\",\"Holešovice\",\"Dejvice\",\"Podolí\",\"Letná\",\"Žižkov\",\"Staroměstské náměstí\",\"Nusle\",\"Řeporyje\",\"Strahov\",\"Krč\",\"Vinohradská ulice\",\"Libeň\",\"ulice Politických vězňů\",\"Smíchov\",\"Vršovice\",\"Národní třída\",\"Bohnice\",\"náměstí Jana Palacha\",\"náměstí Jana Palacha\",\"Hlubočepy\",\"náměstí Republiky\",\"Malostranské náměstí\",\"Vodičkova ulice\",\"Pražský hrad\",\"náměstí Republiky\",\"Hradčanské náměstí\",\"Strašnice\",\"Barrandov\",\"Kavčí hory\",\"Kbely\",\"Smetanovo nábřeží\",\"náměstí Míru\",\"ulice Komunardů\",\"Chodov\",\"Kampa\"]"
   ]
  },
  {
   "cell_type": "code",
   "execution_count": 7,
   "id": "1ced1588",
   "metadata": {},
   "outputs": [],
   "source": [
    "def mesto(lokace):\n",
    "    \n",
    "    if isinstance(lokace, str):\n",
    "    \n",
    "        if \"(\" in lokace:\n",
    "\n",
    "            zavorka = lokace.split(\"(\")[1].replace(\")\",\"\").strip()\n",
    "\n",
    "            if zavorka in prazske_ctvrti:\n",
    "\n",
    "                mesto = \"Praha\"\n",
    "\n",
    "            elif zavorka == \"Česká republika\":\n",
    "                \n",
    "                mesto = lokace.split(\"(\")[0].strip()\n",
    "            \n",
    "            else:\n",
    "\n",
    "                mesto = zavorka\n",
    "\n",
    "        else:\n",
    "            \n",
    "            mesto = lokace\n",
    "            \n",
    "        if \"Česká republika, \" in mesto:\n",
    "                \n",
    "            mesto = mesto.split(\",\")[1].strip()\n",
    "            \n",
    "    else:\n",
    "\n",
    "        mesto = lokace         \n",
    "        \n",
    "    return(mesto)"
   ]
  },
  {
   "cell_type": "code",
   "execution_count": 8,
   "id": "a9534146",
   "metadata": {
    "scrolled": true
   },
   "outputs": [
    {
     "data": {
      "text/plain": [
       "'Praha'"
      ]
     },
     "execution_count": 8,
     "metadata": {},
     "output_type": "execute_result"
    }
   ],
   "source": [
    "mesto(\"Celetná ulice (Staré Město)\")"
   ]
  },
  {
   "cell_type": "code",
   "execution_count": 9,
   "id": "3b51ed1c",
   "metadata": {},
   "outputs": [],
   "source": [
    "df[\"Město\"] = df[\"Lokace\"].apply(lambda x: mesto(x))"
   ]
  },
  {
   "cell_type": "code",
   "execution_count": 10,
   "id": "09e3e767",
   "metadata": {},
   "outputs": [
    {
     "data": {
      "text/plain": [
       "0             Praha\n",
       "0             Praha\n",
       "1             Praha\n",
       "1             Praha\n",
       "1       ulice Újezd\n",
       "           ...     \n",
       "4505          Úštěk\n",
       "4505         Kanada\n",
       "4505       Montreal\n",
       "4505       Montreal\n",
       "4505       Montreal\n",
       "Name: Město, Length: 11000, dtype: object"
      ]
     },
     "execution_count": 10,
     "metadata": {},
     "output_type": "execute_result"
    }
   ],
   "source": [
    "df[\"Město\"]"
   ]
  },
  {
   "cell_type": "code",
   "execution_count": 11,
   "id": "7be0212a",
   "metadata": {},
   "outputs": [
    {
     "data": {
      "text/plain": [
       "41                                             NaN\n",
       "42                                             NaN\n",
       "43                                             NaN\n",
       "45                                             NaN\n",
       "46                                             NaN\n",
       "                           ...                    \n",
       "4495      Česká republika, Praha (Česká republika)\n",
       "4497      Česká republika, Praha (Česká republika)\n",
       "4498    Česká republika, Příbram (Česká republika)\n",
       "4503      Česká republika, Praha (Česká republika)\n",
       "4505      Česká republika, Praha (Česká republika)\n",
       "Name: Lokace, Length: 4019, dtype: object"
      ]
     },
     "execution_count": 11,
     "metadata": {},
     "output_type": "execute_result"
    }
   ],
   "source": [
    "df[df[\"Lokace\"].str.contains(\"Česká republika, \",na=True)][\"Lokace\"]"
   ]
  },
  {
   "cell_type": "code",
   "execution_count": 12,
   "id": "f718c361",
   "metadata": {},
   "outputs": [
    {
     "data": {
      "text/plain": [
       "'Praha, Slovensko, Brno, Francie, Německo, Polsko, Itálie, Rakousko, Bratislava, Spojené státy americké, bez exteriérů, USA, Velká Británie, Ostrava, Ústí nad Labem, Liberec, Rusko, Plzeň, Zlín, Jaroměř, Hradec Králové, Maďarsko, New York, Olomouc, Paříž, Ukrajina, Doksy, Jizerské hory, Kladno, Nizozemsko, Rumunsko, Slapy, Výstaviště, Španělsko, Beroun, Brdy, Chorvatsko, Kalifornie, Karlovy Vary, Krkonoše, Lucerna, Mikulov, Mladá Boleslav, Praha a okolí, Veltrusy, České Budějovice, Šumava, Broumov, Bělohorská ulice, Jihlava, Kolín, Michle, Mělník, New York City, Norsko, Náchod, Nádražní ulice, Pankrác, Pardubice, Pernerova ulice, Poděbrady, Příbram, Slovinsko, Sněmovní ulice, Stodůlky, Viničná ulice, Vysočany, náměstí Svobody, Švýcarsko, Izrael, Japonsko, Kobylisy, Kouřim, Králův Dvůr, Letňany, Loretánské náměstí, Lysá nad Labem, Masarykovo náměstí, Moskva, Motol, Palackého náměstí, Palackého ulice, Petřín, Prostějov, Přerov nad Labem, Radotín, Spálená ulice, Staroměstská radnice, Sušice, Terezín, Varnsdorf, Vinohradská třída, Vysoké Tatry, náměstí Curieových, ulice Na Pankráci, Český ráj, Čína, Špindlerův Mlýn, Štefánikova ulice, Austrálie, Bartolomějská ulice, Bechyně, Bulharsko, Connecticut, Dejvická ulice, Doksany, Dunaj, Dánsko, Děčín, Finsko, Hartmanice, Hodonín, Horní náměstí, Hostivař, Husova ulice, Hýskov, Indie, Jevany, Jindřišská ulice, Kanada, Klatovy, Kokořínsko, Komenského ulice, Křivoklát, Křivoklátsko, Litoměřice, Luční ulice, Lužná u Rakovníka, Mariánské náměstí, Most, Mostecko, Máchovo jezero, Nižbor, Národní divadlo, Olbramov, Opava, Pec pod Sněžkou, Pezinok, Poupětova ulice, Pražská ulice, Písek, Slaný, Slavonice, Slavíkova ulice, Slovanský ostrov, Soběšín, Sokolovská ulice, Spolková republika Německo, Staré Město pod Landštejnem, Staré náměstí, Strahovský klášter, Střešovice, Suchdol, Technická ulice, Telč, Thajsko, Trenčín, Troja, Veletržní palác, Veletržní ulice, Vokovice, Vyšehrad, Vítkov, Všeobecná fakultní nemocnice, Zlín /dříve Gottwaldov/, Záběhlice, náměstí T. G. Masaryka, ulice 5. května, ulice Na Františku, ulice Na Příkopě, ulice Ve Smečkách, Ústavní ulice, Úštěk, Černošice, Český Krumlov, Řecko, Řevnice, Švédsko, Žatec, Afghánistán, Anenské náměstí, Antarktida, Argentina, Banát, Bedřichov, Blatná, Boletice, Bosna a Hercegovina, Brandýs nad Labem, Braník, Brazílie, Budapešť, Buštěhrad, Chabařovická ulice, Chudenice, Dobříš, Dolní Břežany, Doubice, Dubeč, Duchcov, Dříteň, Halenkovice, Havajské ostrovy, Hlavní ulice, Hněvotínská ulice, Holašovice, Horská Kvilda, Hořice v Podkrkonoší, Hořovice, Hracholusky, Háje, Island, Janovského ulice, Jaroměřice nad Rokytnou, Jateční ulice, Jihoafrická republika, Jihoafrická republika, Kanárské ostrovy, Jindřichův Hradec, Josefov, Kadaň, Kanárské ostrovy, Karlovo náměstí, Karlínské náměstí, Karviná, Kaznějov, Keňa, Klánovice, Komárov, Koulova ulice, Kozákov, Košíře, Kroměříž, Krňany, Kubelíkova ulice, Kunratice, Kutná Hora, Kynšperk nad Ohří, Křemencova ulice, Křtiny, Kříženeckého náměstí, Lažanský palác, Lenešice, Lichoceves, Lipno nad Vltavou, Liteň, Litvínov, Londýn, Los Angeles, Lotyšsko, Lukov, Lány, Malešice, Manětín, Michalská ulice, Mlynská dolina, Mostecko, zámek Jezeří, Mánesova ulice, Mýtna ulice, Nerudova ulice, Nová Paka, Nové Mexiko, Nové Strašecí, Nové město, Nymburk, Opletalova ulice, Otrokovice, Palác Akropolis, Ploskovice, Podlešín, Polská ulice, Prachovské skály, Průhonice, Pákistán, Přibyslav, Radlice, Radlická ulice, Rakovník, Ralsko, Rašínovo nábřeží, Rooseveltova ulice, Roudnice nad Labem, Rožnov pod Radhoštěm, Rusava, Ružomberok, Sedličky, Senotín, Severní Korea, Slavkov u Brna, Sokolská ulice, Spojené arabské emiráty, Staré město, Svrkyně, Teplice, Tomášikovo, Tovární ulice, Trnava, Turnov, Utah, Veleslavín, Veleslavínova ulice, Velhartice, Velichovky, Velké Karlovice, Vinařice, Vinohradský hřbitov, Vizovice, Vltava, Vlčková, Vojenský újezd Brdy, Voznice, Vrané nad Vltavou, Vratislav /Wrocław/, Vsetín, Vídeň, Zadní Kopanina, Zbraslav, Zdice, Znojmo, Zvíkov, Záboří, metro, nábřeží Ludvíka Svobody, náměstí 14. října, náměstí Hrdinů, náměstí Jiřího z Poděbrad, okolí, ostrov Štvanice, pasáž U Stýblů, ulice 28. pluku, ulice Cejl, ulice Karolíny Světlé, ulice Na Rejdišti, ulice Na Strouze, ulice Tržiště, ulice U Božích bojovníků, ulice U Nemocnice, ulice U Sovových mlýnů, ulice V tišině, ulice Újezd, zámek, Čechův most, Čeladná, Černá Hora, Černá Pole, Česká Skalice, Česká republika, České středohoří, Český kras, Čáslav, řeka Otava, řeka Sázava, Školní ulice, Štramberk, Žilina, Žítková, Abbey Road, Adamov, Adamov, Tanvald, Nové Město pod Smrkem, Železný Brod, Adršpašsko–teplické skály, Afgánistán, Aksamitová ulice, Al-Baladiya, Alanya, Albertov, Albeř, Allée de Brno, Americká ulice, Amsterdam, Anděl, Anglické nábřeží, Annecy, Annín, Apolinářská ulice, Arizona, Aubusson u Guéretu, Austrálie, Východní Timor, Indonésie, Malajsie, Thajsko, Autokemp Olšovec, Aš, Bangkok, Bankside, Banská Bystrica, Barbados, Barcelona, Bartoňova ulice, Bavoryně, Beethovenova ulice, Belgie, Bellova ulice, Benešov, Benešov u Prahy, Benice, Benátky, Berlín, Bernartice u Javorníka, Bernartice u Javorníku, Beroun, Křivoklát, Otava, Kouřim, Mělník, Šumava, Beroun, Milovice, Berounsko, Besední dům /i interiér/, Besední ulice, Betlém, Bezdružice /nádraží/, Bezděkov, Biancun, Biele Vody, Biskupcova ulice, Blansko, Blatno u Jesenice, Blízkov /i okolí/, Boloňa /Bologna/, Borek, Borkovice, Děčínský Sněžník, Hoslovice, Ještěd, Ledčice, Borovnice, Boskovice a okolí, Botanická zahrada hlavního města Prahy, Boulevard Saint-Martin, Bořejov, Bořena Hora, Budčice, Český Šternberk, Hamry nad Sázavou, Kácov Martinice, Olbramovice, Podveky, Praha – okolí, Soutice, Stvořidla, Sudějov, Vlašim, Bořivojova ulice, Božetěchova ulice, Božice, Boží Dar, Brandejsovo náměstí, Brandýs nad Labem, Liblice u Mělníka, Mělník, Havlín, Okoř, Brandýs nad Labem, Podbořansko, Nechranická přehrada, Žatecko, Mostecko, Branov, Bratislava, Záhorí, Bratislavský kraj, Brdo, Brečtanová ulice, Brloh, Brno, Uhorná, Soběslav, Jindřichův Hradec, Šumperk, Znojmo, Stříbro, Liberec, Karviná, České Budějovice, Trutnov, Bohumín, Plzeň, Kladno, Rudolfov, Strážnice, Cheb, Litoměřice, Kostelec nad Vltavou, Brno-střed, Brná, Broumy, Broučkova ulice, Brtníky, Bubenské nábřeží, Buenos Aires, Buk, Bukurešť, Bykoš u Berouna, Bystrická ulice, Bystré u Poličky, Bystřice pod Lopeníkem, Bystřice u Třince, Bánov, Bílina u Teplic, Bílina, Teplice, Týnec, Běhounská ulice, Bělehrad, Bělorusko, Bělá pod Bezdězem, Břeclav, Břehová ulice, Břetislav, Březnická ulice, Březová u Sokolova, Březová u Uherského Brodu, Břečtanová ulice, Calgary, Cemjata, Centrální park Pankrác, Chanute, Chaplinovo náměstí, Charvatce, Chile, Chlumec, Chlumova ulice, Chmelenská ulice, Chocerady, Chomutov, Chopok, Chorvatsko, Maďarsko, Chotouň, Chotíkov, Chotěboř, Chotěvice, Chotěšov, Chrast u Chrudimi, Chrustenice, Chráněná krajinná oblast Kokořín, Chráněná krajinná oblast Křivoklátsko, Chráněná krajinná oblast Pálava, Panská skála /Varhany/ u Kamenického Šenova, Chráněná krajinná oblast Pálava, Chrášťany u Rakovníka, Chuchelna u Semil, Chvaletice, Chvalšinská ulice, Chýnice, Cimburkova ulice, Cordóba, Cornštejn, Bruntál, Náměšť nad Oslavou, Rožnov pod Radhoštěm, Crimmitschau, Církvice, Dalešice, Dalešice u Třebíče, Davídkova ulice, Daxnerova ulice, Deauville, Denisova ulice, Devínska Nová Ves, Divadelní ulice, Dlouhá Ves, Dlouhá ulice, Dobrovíz, Dobčice, Dobřichovice, Dobříš a okolí, Dolnoslezské vojvodství, Dolní Beřkovice, Dolní Bousov a okolí, Dolní Heřmanice, Dolní Kalná, Dolní Kounice, Dolní Lomná, Dolní Planá, Dolní Radíkov, Dolní Tupadly, Domažlicko, Dominikánská republika, Tunisko, Egypt, Dominikánské náměstí, Domov svatého Josefa, Donovalská ulice, Doupě, Drahomyšl, Drahonice, Dražovce, Drslavice, Drábské světničky, Dubany u Pardubic, Dubnice, Dubá, Dubí, Dubňany, Duchcov, Děčín, Krupka, Vítkov na Opavsku, Ostrava, Duhová ulice, Dvořákova ulice, Dvořákovo nábřeží, Dvůr Králové nad Labem, Dvůr Králové nad Labem /a okolí/, Dürnkrut, Düsseldorf, Dědkov, Dědkovská hora, Děčín, ulice Májová, Herna bar U Davida, kino Sněžník, Klub Sportka, Březiny, Velká Bukovina, Děčínský Sněžník, Dříteč, East Finchley, Elisabeth Street, Evropská třída, Fakultní Thomayerova nemocnice, Fifejdy, Filozofická fakulta Univerzity Palackého, Folimanka, Fortis Green, Francouzská ulice, Františkovy Lázně, Brandýs nad Labem, Frenštát pod Radhoštěm, Frýdek-Místek, Frýdek–Místek, Galerie Harfa, Gdaňsk /Gdańsk/, Glastonbury, Golanské výšiny, Gorkého ulice, Gornja Podgora, Greatstone, Greenburgh, Gruzie, Gruzie, Turecko, Alpy, Grösslingová ulice, Góra Kalwaria, Habsburg, Halenkov, Halenárska ulice, Halle, Hamr u Římova, Hanksville, Hanspaulka, Harrachov, Harrachova ulice, Havanská ulice, Havelská ulice, Havlíčkovo nábřeží, Havlíčkův Brod, Havraň, Havířov, Haštalské náměstí, Hejnice, Hellichova ulice, Heyrovského náměstí, Heřmanova ulice, Hlavní třída, Hlohovec u Břeclavi, Hluboká nad Vltavou, Hlubočepy u Prahy, Hodonínsko, Holany, Holetown, Holý vrch, Homepark Zličín, Hornopolní ulice, Horní Beřkovice, Horní Blatná, Horní Jelení, Horní Jiřetín a okolí, Praha, Horní Lhota u Ostravy, Horní Počernice, Horní Vítkov, Horní Věstonice, Strachotín, Perná, Pavlov, Horní nábřeží, Horní Řasnice, Hostýnské vrchy, Hotel NH Prague City, Hořenec, Hořice na Šumavě, Hořovice, Jihlava, Kladno, Žebrák, Hořín, Hradební ulice, Hradec nad Moravicí, Hradiště, okolí Vlašimi, Kácov, okolí Slap, Hýskov u Berouna, Hranice, Hranice na Moravě, Lipník nad Bečvou, Hrubá Skála, Hrčava, Hurbanovo náměstí, Hustopeče, Hustířany, Hviezdoslavovo náměstí, Hvězda, Hůrka, IJpromenade, Ibsenova ulice, Iffezheim u Baden Badenu, Illinois, Irsko, Irvington, Irák, Islámábád, Isère, Itálie: Benátky, Hrad Kokořín, Ivančice, Jablonec, Jablonec nad Nisou, Jablonné nad Orlicí, Jablonné v Podještědí, Jablonské nábřeží, Jabloňov, Jablunkov, Hrádek, Dolní Lomná, Nová Polana, Třinec, Český Těšín, Hrčava, Bystřice nad Olší, Vendryně, Jablůnka, Jakubská ulice, Jakubské náměstí, Jalubí, Jankovcova ulice, Janská, Janské Lázně, Janáčkovo nábřeží, Jaroměř a okolí, Josefov, Jaronice, Jaroslavice, Jasná, Javorník, Javůrek, Jedovnice, Jeruzalémská ulice, Jesenice, Jeseník, Jeseníky, Jetřichovice, Jeviněves, Jevišovice, Hnánice, Rozkoš, Střelice, Jackov, Rácovice, Moravské Budějovice, Třebelice, Jevišovka, Jilemnice, Jimramov, Jince, Jindřichovice, Jinonice, Jičín, Jičínská pahorkatina, Jičíněves, Jiřího náměstí, Jiříkov, Jiříkov na Bruntálsku, Jižní Korea, Jižní Město, Jižní Shetland, Jižní Shetlandy, Jižní Čechy, Jungmannova ulice, Jurečkova ulice, Jánské Lázně, Jílové, Jílové u Prahy, Jílové u Prahy, Rataje nad Sázavou, Dalovice, Psáry, Kalifornie /California/, Kalkata, Kalčuga, Kamakya, Kamenná, Kamenný Újezd, Jílové u Prahy, Kamenný Újezdec, Kamýk, Kamýk nad Vltavou, Kansas, Kapitulská ulice, Kaproun, Karlov, Karlova Ves, Karlova ulice, Karlovac, Karlovy Vary, Mariánské lázně, Praha, Karlovy Vary, Prachatice, Březina u Poličky, Hrádek nad Nisou, Karlův hrádek, Karmelitská ulice, Karáčí, Kazanlak, Kačerov, Kačina, Kašperské hory, Kersko, Kežmarok, Kladno a okolí, Praha a okolí, Kladruby, Kladsko /Kłodzko/, Kladská u Mariánských Lázní, Klatovská třída, Klecany, Kleť, Klášter Hradiště nad Jizerou, Klášter u Nové Bystřice, Knovíz, Knovíz, Praha, Kněžmost, Kobeřice u Brna, Kobyliské náměstí, Kodaň, Kokořínsko, Studia Three Brothers, Kolbenova ulice, Kolesa Karlovy Vary, Kolešovice, Kolimbia, Kollárova ulice, Kollárovo náměstí, Kolumbie, Kolín, Morava, Kolínec, Komenského náměstí, Komořany, Komňa, Kongresové centrum, Koněprusy, Kopec u Brtníků, Kopečná ulice, Kopidlno, Korkyně, Korpacz, Korunovační ulice, Kosmická ulice, Kosmonosy, Kosov u Berouna, Kost, Kostelec nad Orlicí, Kostelní náměstí, Kostelní ulice, Kounice, Kounicova ulice, Kozia ulice, Kozlov u Jihlavy, Kozojedy u Prahy, Kozí hřbety, Košický kraj, Koželužská ulice, Krakov, Krakov /Kraków/, Kralupská ulice, Kralupy nad Vltavou, Kralupy nad Vltavou, Velvary, Kladno, věznice Oráčov, Krameriova ulice, Kramolna, Kremže, Krompach, Krupá u Rakovníka, Krušné hory, Krynica Morska, Kryštofovo údolí, Kryštofovy Hamry, Králodvorská ulice, Králíky, Králův dvůr /interiér/, Krásno nad Kysucou, Krásná Lípa, Krásné u Nového Města na Moravě, Kublov, Kuks, Kumrovec, Kunovice, Kunvald, Kunčice pod Ondřejníkem, Kunějov, Valeč, Borotín, Kunštát, Kunžak, Kuřívody, Květnice, Kyjevská ulice, Kytlice-Falknov, Kytín, Kácov, Kájov, Kúty, Křenovice u Slavkova, Křivoklát, Kačina, Kutná Hora, Ledeč nad Sázavou, Praha, Křižovnické náměstí, Křižíkova ulice, Křídlovická ulice, Křížkovského ulice, Křížovnické náměstí, Labe, Lazaretská ulice, Lazarská ulice, Lažánky u Tišnova, Ledeč nad Sázavou, Ledeč, Heřmaň, Soběšín, Stříbrná Skalice, Kácov nad Sázavou, Smrčná, Chabeřice, Leningradský prospekt, Leopoldov, Letecká ulice, Letiště Brno-Tuřany, Letohradská ulice, Lety u Písku, Levín, Lešany u Týnce nad Sázavou, Lešetice u Příbrami, Lešná u Valašského Meziříčí, Lešná u Valašského Meziříčí, Velké Karlovice, Jezerné, Semetín u Vsetína, Malá Bystřice, Valašská Polanka, Valašské Klobouky, Valašská Bystřice, Prlov, Lužná, Jasenná, Vsetín, Rožnov pod Radhoštěm, Valašské Meziříčí, Frenštát pod Radhoštěm, Podlesí u Valašského Meziříčí, Zašová, Soláň, Pržno, Jablůnka, Jarcová, Bystřička, Praha, Rakovník, Lhotka, Lhotka u Kremže, Liberty Island, Libkovice, Liboc, Liboháj, Libošovice, Libuš, Libušská ulice, Libušín u Kladna, Družec u Kladna, Hořovice /okolí/, Brdy, Libčeves, Libčice nad Vltavou, Liběchov, Licheń Stary, Lichtenštejnský palác, Lidice, Linecká ulice, Lipiny, Lipnice, Lipnice nad Sázavou /a okolí/, Lipno, Lipová-lázně, Lipsko, Liptovský Mikuláš, Litomyšl, Litoměřice, zámek Ploskovice, Lovosice, Praha, zámek Veltrusy, Lišov, Lobkovický palác, Lochkov, Lochotín, Lochovice, Hořovice, Praha, Kozolupy, Tlustice, Loděnice, Lomená ulice, Londýn /London/, Londýn /ulice/, Londýn, Plešivec, Lopeník, Lotyšsko, Ukrajina, Česká republika, Lovosice, Lublaň, Lucembursko, Lucerna /i interiér/, Lučany nad Nisou, Lužec, Lvov, Lysá nad Labem, Plasy, Mělník, Český Krumlov, Tábor, Řitka u Prahy, Praha, Lyubʹyazʹ, Lyčkovo náměstí, Lány u Kladna, Lázně Libverda, Lázně Mšené, Lázně Toušeň, Líšno, Líšná, Líšná u Zbirohu, Maiselova ulice, Makedonie, Malenice, Malenovice u Zlína, Malešická ulice, Malešov, Malostranská náměstí, Malostranská sokolovna, Maltézské náměstí, Malá Strana, Malá pevnost, Malý Lapáš, Manhattan, Maria Saal, Marianki, Mariánskolázeňská ulice, Maroko, Martin, Martin Brod, Martinice u Dolních Kralovic, Martinice u Dolních Kralovic, Dolní Kralovice, Václavice, Světlá nad Sázavou, Šetějovice, Pyšely, Praha, Masarykovo nábřeží, Masarykovo nábřeží /dříve Riegrovo nábřeží/, Mařenice, Medkovy Kopce u Hlinska, Melantrichova ulice, Melechov, Merano, Merklín, Mersea Island, Metodějova ulice, Metro, Mexiko, Meziříčko, Mikulova ulice, Milevsko, Milevská ulice, Milovice, Milovice, Kvilda, Milíčov, Mimoň, Minice, Ministerstvo obrany České republiky, Mirotice, Mirotice, Písek, Most, Braňany, Pavlov, Mladotice, Mladá Boleslav /letiště/, Mlynky, Mlékojedy, Mníšecká ulice, Mníšek pod Brdy, Modlany u Teplic, Modrava, Modrá u Velehradu, Modřanská ulice, Modřany, Mokropsy, Mongolsko, Dánsko, Moninec, Montreal, Moravská Nová Ves, Moravské Křižánky, Moravský kras, Mostecko, Most, Mostecko, Most, zámek Jezeří, Mouřenec, Mouřínov u Bučovic, Milotice, Modrá u Velehradu, Mozartova ulice, Mořina, Mořina, Příbramsko, Karlštejnsko, Mořinka u Berouna, Mratín, Mrežnički Brig, Mukařov, Muswell Hill, Myštice, Mánesův most, Mírové náměstí, Mělnicko, Mělnická Vrutice, Mělník, Vinařice, Roztoky u Prahy, Čimice, Městec Králové, Městečko u Křivoklátu, Měšice u Prahy, Měšín u Jihlavy, Měšťanská beseda, Mšené–lázně, Nairobi, Napajedla a okolí, Navarov, Nažidla, Nechanice u Hradce Králové, Nechvalice, Nedvědice, Nedvědovo náměstí, Neherovská ulice, Nelahozeves, Nepomuk, Neratovice, Netolice, Nevřeň, New Haven, Nečtiny, Nitra /ulice i okolí/, Nitranský hrad, Nizozemí, Nord, Nosticova ulice, Nouzov, Nouzov u Kladna, Novoborsko, Novobranská ulice'"
      ]
     },
     "execution_count": 12,
     "metadata": {},
     "output_type": "execute_result"
    }
   ],
   "source": [
    "\", \".join(df.groupby(\"Město\")[\"Film\"].nunique().nlargest(1000).index.to_list())"
   ]
  },
  {
   "cell_type": "markdown",
   "id": "7070052b",
   "metadata": {},
   "source": [
    "## Tak co teď?"
   ]
  },
  {
   "cell_type": "code",
   "execution_count": 13,
   "id": "b3d2515a",
   "metadata": {},
   "outputs": [],
   "source": [
    "hcf = df[df[\"Délka\"] == \"dlouhometrážní\"].explode(\"Typologie\")\n",
    "hcf = hcf[hcf[\"Typologie\"] == \"hraný\"]"
   ]
  },
  {
   "cell_type": "code",
   "execution_count": 14,
   "id": "6f398160",
   "metadata": {},
   "outputs": [
    {
     "data": {
      "text/plain": [
       "Město\n",
       "Praha               177\n",
       "Slovensko            56\n",
       "bez exteriérů        13\n",
       "Brno                 11\n",
       "Německo              10\n",
       "Jaroměř               9\n",
       "Polsko                9\n",
       "Francie               8\n",
       "Rakousko              8\n",
       "Bratislava            7\n",
       "Itálie                7\n",
       "Zlín                  7\n",
       "Beroun                6\n",
       "Hradec Králové        6\n",
       "Kladno                6\n",
       "Liberec               6\n",
       "Mladá Boleslav        6\n",
       "Olomouc               6\n",
       "Ostrava               6\n",
       "Praha a okolí         6\n",
       "Brdy                  5\n",
       "Jizerské hory         5\n",
       "Plzeň                 5\n",
       "Slapy                 5\n",
       "Veltrusy              5\n",
       "Viničná ulice         5\n",
       "náměstí Svobody       5\n",
       "Ústí nad Labem        5\n",
       "Doksy                 4\n",
       "Karlovy Vary          4\n",
       "Kouřim                4\n",
       "Mikulov               4\n",
       "Mělník                4\n",
       "Nádražní ulice        4\n",
       "Pankrác               4\n",
       "Pernerova ulice       4\n",
       "Poděbrady             4\n",
       "Přerov nad Labem      4\n",
       "Příbram               4\n",
       "Rumunsko              4\n",
       "Slovinsko             4\n",
       "Terezín               4\n",
       "Vysočany              4\n",
       "Šumava                4\n",
       "Bulharsko             3\n",
       "Chorvatsko            3\n",
       "Doksany               3\n",
       "Dunaj                 3\n",
       "Horní náměstí         3\n",
       "Hýskov                3\n",
       "Name: Film, dtype: int64"
      ]
     },
     "execution_count": 14,
     "metadata": {},
     "output_type": "execute_result"
    }
   ],
   "source": [
    "hcf.groupby(\"Město\")[\"Film\"].nunique().nlargest(50)"
   ]
  },
  {
   "cell_type": "code",
   "execution_count": 15,
   "id": "b17d5172",
   "metadata": {},
   "outputs": [
    {
     "name": "stderr",
     "output_type": "stream",
     "text": [
      "C:\\Users\\micha\\AppData\\Local\\Temp\\ipykernel_25008\\3879034159.py:1: UserWarning: This pattern is interpreted as a regular expression, and has match groups. To actually get the groups, use str.extract.\n",
      "  df[df[\"Lokace\"].str.lower().str.contains(\"(česká republika)\", na=False)].groupby(\"Lokace\")[\"Film\"].nunique().nlargest(50)\n"
     ]
    },
    {
     "data": {
      "text/plain": [
       "Lokace\n",
       "Česká republika, Praha (Česká republika)        99\n",
       "Praha (Česká republika)                         36\n",
       "Brno (Česká republika)                          14\n",
       "Česká republika, Brno (Česká republika)          9\n",
       "Ostrava (Česká republika)                        7\n",
       "Plzeň (Česká republika)                          6\n",
       "Jaroměř (Česká republika)                        5\n",
       "Kolín (Česká republika)                          5\n",
       "Veltrusy (Česká republika)                       5\n",
       "Doksy (Česká republika)                          4\n",
       "Hradec Králové (Česká republika)                 4\n",
       "Jihlava (Česká republika)                        4\n",
       "Olomouc (Česká republika)                        4\n",
       "Slapy (Česká republika)                          4\n",
       "Zlín (Česká republika)                           4\n",
       "Ústí nad Labem (Česká republika)                 4\n",
       "Beroun (Česká republika)                         3\n",
       "Brdy (Česká republika)                           3\n",
       "Broumov (Česká republika)                        3\n",
       "Jizerské hory (Česká republika)                  3\n",
       "Krkonoše (Česká republika)                       3\n",
       "Lysá nad Labem (Česká republika)                 3\n",
       "Most (Česká republika)                           3\n",
       "Mělník (Česká republika)                         3\n",
       "Nižbor (Česká republika)                         3\n",
       "Olbramov (Česká republika)                       3\n",
       "Česká republika, Křivoklát (Česká republika)     3\n",
       "České Budějovice (Česká republika)               3\n",
       "Šumava (Česká republika)                         3\n",
       "Blatná (Česká republika)                         2\n",
       "Boletice (Česká republika)                       2\n",
       "Brandýs nad Labem (Česká republika)              2\n",
       "Doksany (Česká republika)                        2\n",
       "Doubice (Česká republika)                        2\n",
       "Děčín (Česká republika)                          2\n",
       "Halenkovice (Česká republika)                    2\n",
       "Hartmanice (Česká republika)                     2\n",
       "Hodonín (Česká republika)                        2\n",
       "Horská Kvilda (Česká republika)                  2\n",
       "Hořovice (Česká republika)                       2\n",
       "Hýskov (Česká republika)                         2\n",
       "Jaroměřice nad Rokytnou (Česká republika)        2\n",
       "Josefov (Česká republika)                        2\n",
       "Karlovy Vary (Česká republika)                   2\n",
       "Kokořínsko (Česká republika)                     2\n",
       "Králův Dvůr (Česká republika)                    2\n",
       "Kutná Hora (Česká republika)                     2\n",
       "Křivoklátsko (Česká republika)                   2\n",
       "Křtiny (Česká republika)                         2\n",
       "Liberec (Česká republika)                        2\n",
       "Name: Film, dtype: int64"
      ]
     },
     "execution_count": 15,
     "metadata": {},
     "output_type": "execute_result"
    }
   ],
   "source": [
    "df[df[\"Lokace\"].str.lower().str.contains(\"(česká republika)\", na=False)].groupby(\"Lokace\")[\"Film\"].nunique().nlargest(50)"
   ]
  },
  {
   "cell_type": "code",
   "execution_count": 16,
   "id": "7486f7ae",
   "metadata": {},
   "outputs": [
    {
     "data": {
      "text/plain": [
       "Lokace\n",
       "Vodičkova ulice (Nové Město)                         12\n",
       "Pernerova ulice (Karlín)                              9\n",
       "Praha, ulice (Praha)                                  7\n",
       "Vinohradská ulice (Vinohrady)                         7\n",
       "Bělohorská ulice (Břevnov)                            6\n",
       "Lucerna (Vodičkova ulice)                             6\n",
       "Pařížská ulice (Staré Město)                          6\n",
       "ulice Komunardů (Holešovice)                          6\n",
       "Dejvická ulice (Dejvice)                              5\n",
       "Koulova ulice (Dejvice)                               5\n",
       "Nádražní ulice (Smíchov)                              5\n",
       "Sněmovní ulice (Malá Strana)                          5\n",
       "Spálená ulice (Nové Město)                            5\n",
       "ulice Na Pankráci (Nusle)                             5\n",
       "ulice Politických vězňů (Nové Město)                  5\n",
       "Bartolomějská ulice (Staré Město)                     4\n",
       "Hellichova ulice (Malá Strana)                        4\n",
       "Jankovcova ulice (Holešovice)                         4\n",
       "Jindřišská ulice (Nové Město)                         4\n",
       "Karmelitská ulice (Malá Strana)                       4\n",
       "Sokolovská ulice (Karlín)                             4\n",
       "Tusarova ulice (Holešovice)                           4\n",
       "Vodičkova ulice (Praha)                               4\n",
       "ulice Na Františku (Staré Město)                      4\n",
       "Erhartova cukrárna /interiér/ (Vinohradská ulice)     3\n",
       "Husova ulice (Staré Město)                            3\n",
       "Kubelíkova ulice (Žižkov)                             3\n",
       "Křižíkova ulice (Karlín)                              3\n",
       "Mladá Boleslav, Viničná ulice (Mladá Boleslav)        3\n",
       "Opatovická ulice (Nové Město)                         3\n",
       "Petschkův palác (ulice Politických vězňů)             3\n",
       "Poupětova ulice (Holešovice)                          3\n",
       "Seifertova ulice (Žižkov)                             3\n",
       "Slavíkova ulice (Žižkov)                              3\n",
       "Sokolská ulice (Nové Město)                           3\n",
       "Technická ulice (Dejvice)                             3\n",
       "Trojická ulice (Nové Město)                           3\n",
       "Veletržní ulice (Holešovice)                          3\n",
       "Vladivostocká ulice (Vršovice)                        3\n",
       "Vršovická ulice (Vršovice)                            3\n",
       "Zelená ulice (Dejvice)                                3\n",
       "hotel Pyramida (Bělohorská ulice)                     3\n",
       "ulice (Praha)                                         3\n",
       "ulice 28. pluku (Vršovice)                            3\n",
       "ulice Na Hrobci (Nové Město)                          3\n",
       "ulice Na Příkopě (Nové Město)                         3\n",
       "ulice U Sovových mlýnů (Kampa)                        3\n",
       "Ústavní ulice (Bohnice)                               3\n",
       "Šafaříkova ulice (Vinohrady)                          3\n",
       "Štefánikova ulice (Smíchov)                           3\n",
       "Name: Film, dtype: int64"
      ]
     },
     "execution_count": 16,
     "metadata": {},
     "output_type": "execute_result"
    }
   ],
   "source": [
    "df[df[\"Lokace\"].str.lower().str.contains(\"ulice\", na=False)].groupby(\"Lokace\")[\"Film\"].nunique().nlargest(50)"
   ]
  },
  {
   "cell_type": "code",
   "execution_count": 17,
   "id": "2b03377d",
   "metadata": {},
   "outputs": [
    {
     "data": {
      "text/plain": [
       "Lokace\n",
       "Mostecko, zámek Jezeří                                                                                                                                                       2\n",
       "zámek /skleníky/ (Veltrusy)                                                                                                                                                  2\n",
       "Benešovsko, Martinice u Dolních Kralovic, zámek Martinice (Martinice u Dolních Kralovic)                                                                                     1\n",
       "Bobnice, Poděbrady, zámek (Poděbrady)                                                                                                                                        1\n",
       "Egyptský pavilon (zámek Veltrusy)                                                                                                                                            1\n",
       "Hostýnské vrchy, Panská skála (Varahany) u Kamenického Šenova, Zlatý vrch u České Kamenice, tvrz Cuknštejn, Roudnice nad Labem, zámek Uherčice, park (zámek Uherčice)        1\n",
       "Liteň, zámek (Liteň)                                                                                                                                                         1\n",
       "Litoměřice, zámek Ploskovice, Lovosice, Praha, zámek Veltrusy                                                                                                                1\n",
       "Lány, zámek (Lány)                                                                                                                                                           1\n",
       "Lány, zámek /i interiér/ (Lány)                                                                                                                                              1\n",
       "Líšno, zámek (Líšno)                                                                                                                                                         1\n",
       "Mostecko, Most, zámek Jezeří                                                                                                                                                 1\n",
       "Pardubice, zámek (Pardubice)                                                                                                                                                 1\n",
       "Poděbrady /zámek/ (Česká republika)                                                                                                                                          1\n",
       "Praha, zámek Milotice, zámek Buchlovice, zámek Rájec nad Svitavou, zámek Jaroslavice, zámek Lemberk, hrad Grabštejn, Jablonné v Podještědí, Lvová (Jablonné v Podještědí)    1\n",
       "Přírodní rezervace Kopeč, Mělník, zámek (Mělník)                                                                                                                             1\n",
       "Ralská pahorkatina, vrch Vlhošť, Zliv u Libáně, Zahrádky, zámek (Zahrádky)                                                                                                   1\n",
       "Roztoky u Prahy – zámek, přehrada Orlík                                                                                                                                      1\n",
       "Skanzen lidových staveb Kouřim, zámek Chrámce                                                                                                                                1\n",
       "Slapy, zámek (Slapy)                                                                                                                                                         1\n",
       "Slapy, zámek Slapy (Slapy)                                                                                                                                                   1\n",
       "Slovensko, Topoľčianky – zámek, park, okolí (Slovensko)                                                                                                                      1\n",
       "Suchdol nad Lužnicí, Chuchelna, zámek Cerhonice, Český ráj, hora Kozákov (Český ráj)                                                                                         1\n",
       "Svatý Jan pod Skalou, Zdiby, Liteň, zámek Liteň (Liteň)                                                                                                                      1\n",
       "Telč, zámek Náměšť nad Oslavou, hrad Okoř, hrad Kokořín, Průhonice                                                                                                           1\n",
       "Topoľčanský hrad (Topoľčianky – zámek, park, okolí)                                                                                                                          1\n",
       "Valeč, zámek Valeč (Valeč)                                                                                                                                                   1\n",
       "Zbraslavský zámek (Zbraslav)                                                                                                                                                 1\n",
       "hrad Kost, zámek v Dětenicích, lesy u Nouzova                                                                                                                                1\n",
       "hrad Křivoklát /a okolí/, zámek Sobotín /i interiér/, zámecký park (zámek Sobotín /i interiér/)                                                                              1\n",
       "kupole se standartou prezidenta Československé republiky (zámek)                                                                                                             1\n",
       "park (zámek Lednice)                                                                                                                                                         1\n",
       "skleníky (zámek)                                                                                                                                                             1\n",
       "ulice Zámek (Lysá nad Labem)                                                                                                                                                 1\n",
       "zámek (Litomyšl)                                                                                                                                                             1\n",
       "zámek (Nelahozeves)                                                                                                                                                          1\n",
       "zámek (Náchod)                                                                                                                                                               1\n",
       "zámek (Slavkov u Brna)                                                                                                                                                       1\n",
       "zámek (Veltrusy)                                                                                                                                                             1\n",
       "zámek /Domov na zámku/ (Lysá nad Labem)                                                                                                                                      1\n",
       "zámek /i interiér/ (Slapy)                                                                                                                                                   1\n",
       "zámek Bon Repos, Vinohrady (Praha)                                                                                                                                           1\n",
       "zámek Buchlovice, zámek Ploskovice, skanzen Přerov nad Labem, hrad Choustník, rybník Bezdrev                                                                                 1\n",
       "zámek Dobříš (Česká republika)                                                                                                                                               1\n",
       "zámek Fryštát (Karviná)                                                                                                                                                      1\n",
       "zámek Hluboká nad Vltavou                                                                                                                                                    1\n",
       "zámek Hluboká, Plešné jezero, Nová Pec, zámek Libochovice, zámek Ploskovice, údolí Kocáby, Koněpruské jeskyně, Kokořínské údolí, Český kras, lom Paraple (Český kras)        1\n",
       "zámek Horní Staňkov /i interiér/ (Česká republika)                                                                                                                           1\n",
       "zámek Hradec nad Moravicí (Hradec nad Moravicí)                                                                                                                              1\n",
       "zámek Hrádek u Nechanic (Česká republika)                                                                                                                                    1\n",
       "Name: Film, dtype: int64"
      ]
     },
     "execution_count": 17,
     "metadata": {},
     "output_type": "execute_result"
    }
   ],
   "source": [
    "df[df[\"Lokace\"].str.lower().str.contains(\"zámek\", na=False)].groupby(\"Lokace\")[\"Film\"].nunique().nlargest(50)"
   ]
  },
  {
   "cell_type": "code",
   "execution_count": 18,
   "id": "2cd04f00",
   "metadata": {},
   "outputs": [
    {
     "data": {
      "text/plain": [
       "Lokace\n",
       "Staroměstské náměstí (Staré Město)                                            25\n",
       "Václavské náměstí (Nové Město)                                                23\n",
       "náměstí Jana Palacha (Josefov)                                                12\n",
       "Malostranské náměstí (Malá Strana)                                            11\n",
       "Hradčanské náměstí (Hradčany)                                                 10\n",
       "Národní muzeum (Václavské náměstí)                                             7\n",
       "náměstí Republiky (Staré Město)                                                7\n",
       "Václavské náměstí (Praha)                                                      6\n",
       "náměstí Curieových (Staré Město)                                               6\n",
       "Pražský hrad (Hradčanské náměstí)                                              5\n",
       "Rudolfinum (náměstí Jana Palacha)                                              5\n",
       "Staroměstská radnice (Staroměstské náměstí)                                    5\n",
       "náměstí Svobody (Bubeneč)                                                      5\n",
       "Karlovo náměstí (Nové Město)                                                   4\n",
       "Loretánské náměstí (Hradčany)                                                  4\n",
       "Horní náměstí (Olomouc)                                                        3\n",
       "Lyčkovo náměstí (Karlín)                                                       3\n",
       "Maltézské náměstí (Malá Strana)                                                3\n",
       "Mariánské náměstí (Staré Město)                                                3\n",
       "Právnická fakulta Univerzity Karlovy (náměstí Curieových)                      3\n",
       "Skleněný palác /interiér/ (náměstí Svobody)                                    3\n",
       "Staroměstský orloj (Staroměstské náměstí)                                      3\n",
       "Staré náměstí (Ruzyně)                                                         3\n",
       "Velkopřevorské náměstí (Malá Strana)                                           3\n",
       "kostel sv. Mikuláše (Malostranské náměstí)                                     3\n",
       "náměstí Jiřího z Poděbrad (Vinohrady)                                          3\n",
       "Anenské náměstí (Staré Město)                                                  2\n",
       "Barrandov (Kříženeckého náměstí)                                               2\n",
       "Basilejské náměstí (Žižkov)                                                    2\n",
       "Filozofická fakulta Univerzity Karlovy /i interiér/ (náměstí Jana Palacha)     2\n",
       "Haštalské náměstí (Staré Město)                                                2\n",
       "Hurbanovo náměstí (Bratislava)                                                 2\n",
       "Jiráskovo náměstí (Nové Město)                                                 2\n",
       "Karlínské náměstí (Karlín)                                                     2\n",
       "Kříženeckého náměstí (Hlubočepy)                                               2\n",
       "Malostranská beseda (Malostranské náměstí)                                     2\n",
       "Malostranská beseda /i interiér/ (Malostranské náměstí)                        2\n",
       "Malostranské náměstí (Praha)                                                   2\n",
       "Náměstí Slovenského národního povstání (Bratislava)                            2\n",
       "Obecní dům (náměstí Republiky)                                                 2\n",
       "Obecní dům /interiér/ (náměstí Republiky)                                      2\n",
       "Palackého náměstí (Nové Město)                                                 2\n",
       "Rudé náměstí (Moskva)                                                          2\n",
       "Senovážné náměstí (Nové Město)                                                 2\n",
       "Slavonice, náměstí Míru (Slavonice)                                            2\n",
       "Staroměstské náměstí (Praha)                                                   2\n",
       "Strossmayerovo náměstí (Holešovice)                                            2\n",
       "Strossmayerovo náměstí (Praha)                                                 2\n",
       "Vysoká škola uměleckoprůmyslová v Praze (náměstí Jana Palacha)                 2\n",
       "Vítězné náměstí (Dejvice)                                                      2\n",
       "Name: Film, dtype: int64"
      ]
     },
     "execution_count": 18,
     "metadata": {},
     "output_type": "execute_result"
    }
   ],
   "source": [
    "df[df[\"Lokace\"].str.lower().str.contains(\"náměstí\", na=False)].groupby(\"Lokace\")[\"Film\"].nunique().nlargest(50)"
   ]
  },
  {
   "cell_type": "code",
   "execution_count": 19,
   "id": "c27f7ddf",
   "metadata": {},
   "outputs": [
    {
     "name": "stderr",
     "output_type": "stream",
     "text": [
      "C:\\Users\\micha\\AppData\\Local\\Temp\\ipykernel_25008\\356451550.py:1: UserWarning: This pattern is interpreted as a regular expression, and has match groups. To actually get the groups, use str.extract.\n",
      "  df[df[\"Lokace\"].str.lower().str.contains(\"(kostel|katedrála)\", na=False)].groupby(\"Lokace\")[\"Film\"].nunique().nlargest(50)\n"
     ]
    },
    {
     "data": {
      "text/plain": [
       "Lokace\n",
       "Katedrála sv. Víta (Pražský hrad)                                                                                                                                                                        3\n",
       "kostel sv. Mikuláše (Malostranské náměstí)                                                                                                                                                               3\n",
       "Katedrála sv. Víta (Praha)                                                                                                                                                                               2\n",
       "kostel sv. Cyrila a Metoděje (Karlínské náměstí)                                                                                                                                                         2\n",
       "kostel sv. Ludmily (náměstí Míru)                                                                                                                                                                        2\n",
       "kostel sv. Mikuláše (Boletice)                                                                                                                                                                           2\n",
       "kostel sv. Mikuláše (Malá Strana)                                                                                                                                                                        2\n",
       "Annín, kostel sv. Mořice (Dlouhá Ves)                                                                                                                                                                    1\n",
       "Boží Dar, kostel sv. Anny (Boží Dar)                                                                                                                                                                     1\n",
       "Brno, Uhorná, Soběslav, Jindřichův Hradec, Šumperk, Znojmo, Stříbro, Liberec, Karviná, České Budějovice, Trutnov, Bohumín, Plzeň, Kladno, Rudolfov, Strážnice, Cheb, Litoměřice, Kostelec nad Vltavou    1\n",
       "Březová u Uherského Brodu, kostel sv. Cyrila a Metoděje (Březová u Uherského Brodu)                                                                                                                      1\n",
       "Dobčice, Záboří, Pištín, Dříteň, kostel sv. Dismase (Dříteň)                                                                                                                                             1\n",
       "Komenského ulice (Červený Kostelec)                                                                                                                                                                      1\n",
       "Kostelec nad Orlicí (Česká republika)                                                                                                                                                                    1\n",
       "Kostelní náměstí (Broumov)                                                                                                                                                                               1\n",
       "Kostelní náměstí /plac Kościelny/ (Kladsko /Kłodzko/)                                                                                                                                                    1\n",
       "Kostelní ulice (Jimramov)                                                                                                                                                                                1\n",
       "Kostelní ulice (Nymburk)                                                                                                                                                                                 1\n",
       "Nečtiny, kostel sv. Jana Většího /i interiér/ (Nečtiny)                                                                                                                                                  1\n",
       "Praha, Staré Město, kostel sv. Anny, Ungelt                                                                                                                                                              1\n",
       "Svatomikulášská městská zvonice (kostel sv. Mikuláše)                                                                                                                                                    1\n",
       "azylové zařízení Ministerstva vnitra České republiky (Kostelec nad Orlicí)                                                                                                                               1\n",
       "děkanství (Kostelní náměstí)                                                                                                                                                                             1\n",
       "evangelický kostel sv. Trojice (Tatranská Lomnica)                                                                                                                                                       1\n",
       "hrob Václava Havla (kostel sv. Václava)                                                                                                                                                                  1\n",
       "hřbitov Kostelní zmola (Brno)                                                                                                                                                                            1\n",
       "kaplička na Kostelním vrchu (Rokytnice nad Jizerou)                                                                                                                                                      1\n",
       "katedrála (Roskilde)                                                                                                                                                                                     1\n",
       "katedrála sv. Petra a Pavla (Brno)                                                                                                                                                                       1\n",
       "katedrála sv. Štěpána (Vídeň)                                                                                                                                                                            1\n",
       "kavárna Society (Kostelní ulice)                                                                                                                                                                         1\n",
       "klášter a kostel sv. Anežky (ulice Na Františku)                                                                                                                                                         1\n",
       "kostel Nanebevzetí Panny Marie (Klecany)                                                                                                                                                                 1\n",
       "kostel Nanebevzetí Panny Marie /i interiér/ (Doubice)                                                                                                                                                    1\n",
       "kostel Nanebevzetí Panny Marie /i interiér/ (Palackého náměstí)                                                                                                                                          1\n",
       "kostel Nanebevzetí Panny Marie /i interiér/ (náměstí Míru)                                                                                                                                               1\n",
       "kostel Narození Panny Marie (Krameriova ulice)                                                                                                                                                           1\n",
       "kostel Nejsvětějšího Salvátora (Praha)                                                                                                                                                                   1\n",
       "kostel Nejsvětějšího Salvátora (Staré Město)                                                                                                                                                             1\n",
       "kostel Nejsvětějšího Srdce Páně (náměstí Jiřího z Poděbrad)                                                                                                                                              1\n",
       "kostel Nejsvětějšího Srdce Páně /i interiér/ (náměstí Jiřího z Poděbrad)                                                                                                                                 1\n",
       "kostel Nejsvětějšího srdce Páně (Náměstí Jiřího z Poděbrad)                                                                                                                                              1\n",
       "kostel Panny Marie Vítězné (Karmelitská ulice)                                                                                                                                                           1\n",
       "kostel Panny Marie Vítězné /Pražské Jezulátko/ (Praha)                                                                                                                                                   1\n",
       "kostel Panny Marie pod řetězem (Malá Strana)                                                                                                                                                             1\n",
       "kostel apoštola Pavla /interiér/ (Jihlava)                                                                                                                                                               1\n",
       "kostel sv. Antonína Paduánského (Strossmayerovo náměstí)                                                                                                                                                 1\n",
       "kostel sv. Barbory (Adamov)                                                                                                                                                                              1\n",
       "kostel sv. Ducha (Opava)                                                                                                                                                                                 1\n",
       "kostel sv. Filipa a Jakuba (Praha)                                                                                                                                                                       1\n",
       "Name: Film, dtype: int64"
      ]
     },
     "execution_count": 19,
     "metadata": {},
     "output_type": "execute_result"
    }
   ],
   "source": [
    "df[df[\"Lokace\"].str.lower().str.contains(\"(kostel|katedrála)\", na=False)].groupby(\"Lokace\")[\"Film\"].nunique().nlargest(50)"
   ]
  },
  {
   "cell_type": "code",
   "execution_count": 20,
   "id": "3caee95d",
   "metadata": {},
   "outputs": [
    {
     "data": {
      "text/plain": [
       "Lokace\n",
       "Brno (Česká republika)                                                                                                                                                                                   14\n",
       "Česká republika, Brno (Česká republika)                                                                                                                                                                   9\n",
       "Výstaviště (Brno)                                                                                                                                                                                         3\n",
       "Kounicova ulice (Brno)                                                                                                                                                                                    2\n",
       "Kraví hora (Brno)                                                                                                                                                                                         2\n",
       "Pisárky (Brno)                                                                                                                                                                                            2\n",
       "Zelný trh (Brno)                                                                                                                                                                                          2\n",
       "hlavní nádraží (Brno)                                                                                                                                                                                     2\n",
       "ulice Cejl (Brno)                                                                                                                                                                                         2\n",
       "Černá Pole (Brno)                                                                                                                                                                                         2\n",
       "Allée de Brno (Rennes)                                                                                                                                                                                    1\n",
       "Beethovenova ulice (Brno)                                                                                                                                                                                 1\n",
       "Božetěchova ulice (Brno)                                                                                                                                                                                  1\n",
       "Brno                                                                                                                                                                                                      1\n",
       "Brno, Brno-střed (Brno)                                                                                                                                                                                   1\n",
       "Brno, Uhorná, Soběslav, Jindřichův Hradec, Šumperk, Znojmo, Stříbro, Liberec, Karviná, České Budějovice, Trutnov, Bohumín, Plzeň, Kladno, Rudolfov, Strážnice, Cheb, Litoměřice, Kostelec nad Vltavou     1\n",
       "Brno, Výstaviště (Brno)                                                                                                                                                                                   1\n",
       "Brno, hlavní nádraží (Brno)                                                                                                                                                                               1\n",
       "Brno, ulice (Brno)                                                                                                                                                                                        1\n",
       "Brno, řeka Svratka (Brno)                                                                                                                                                                                 1\n",
       "Brno, Židenice (Brno)                                                                                                                                                                                     1\n",
       "Běhounská ulice (Brno)                                                                                                                                                                                    1\n",
       "Dolní Heršpice (Brno)                                                                                                                                                                                     1\n",
       "Dominikánská ulice (Brno)                                                                                                                                                                                 1\n",
       "Dominikánské náměstí (Brno)                                                                                                                                                                               1\n",
       "Dvořákova ulice (Brno)                                                                                                                                                                                    1\n",
       "Eleven club /interiér/ (Brno)                                                                                                                                                                             1\n",
       "Gorkého ulice (Brno)                                                                                                                                                                                      1\n",
       "Husova ulice (Brno)                                                                                                                                                                                       1\n",
       "Hvězdárna a planetárium Brno (Brno)                                                                                                                                                                       1\n",
       "Ivančice (Brno)                                                                                                                                                                                           1\n",
       "Jakubské náměstí (Brno)                                                                                                                                                                                   1\n",
       "Jezuitská ulice (Brno)                                                                                                                                                                                    1\n",
       "Jihlavská ulice (Brno)                                                                                                                                                                                    1\n",
       "Komenského náměstí (Brno)                                                                                                                                                                                 1\n",
       "Kopečná ulice (Brno)                                                                                                                                                                                      1\n",
       "Křídlovická ulice (Brno)                                                                                                                                                                                  1\n",
       "Letiště Brno-Tuřany (Česká republika)                                                                                                                                                                     1\n",
       "Lipová ulice (Brno)                                                                                                                                                                                       1\n",
       "Mahenovo divadlo (Brno-střed)                                                                                                                                                                             1\n",
       "Malinovského náměstí (Brno)                                                                                                                                                                               1\n",
       "Mendlovo náměstí (Brno)                                                                                                                                                                                   1\n",
       "Moravské Slovácko, Hodonínsko, Rohatec, Dolní Bojanovice, Mikulčice, Brno, Trnkova ulice (Brno)                                                                                                           1\n",
       "Novobranská ulice (Brno)                                                                                                                                                                                  1\n",
       "Nádražní ulice (Brno)                                                                                                                                                                                     1\n",
       "Národní divadlo – Mahenovo divadlo (Brno)                                                                                                                                                                 1\n",
       "Opatství svatého Tomáše /Starobrněnský klášter/ (Brno)                                                                                                                                                    1\n",
       "Ořešín (Brno)                                                                                                                                                                                             1\n",
       "Pekařská ulice (Brno)                                                                                                                                                                                     1\n",
       "Petrov (Brno)                                                                                                                                                                                             1\n",
       "Name: Film, dtype: int64"
      ]
     },
     "execution_count": 20,
     "metadata": {},
     "output_type": "execute_result"
    }
   ],
   "source": [
    "df[df[\"Lokace\"].str.lower().str.contains(\"brno\", na=False)].groupby(\"Lokace\")[\"Film\"].nunique().nlargest(50)"
   ]
  }
 ],
 "metadata": {
  "kernelspec": {
   "display_name": "Python 3 (ipykernel)",
   "language": "python",
   "name": "python3"
  },
  "language_info": {
   "codemirror_mode": {
    "name": "ipython",
    "version": 3
   },
   "file_extension": ".py",
   "mimetype": "text/x-python",
   "name": "python",
   "nbconvert_exporter": "python",
   "pygments_lexer": "ipython3",
   "version": "3.10.8"
  }
 },
 "nbformat": 4,
 "nbformat_minor": 5
}
