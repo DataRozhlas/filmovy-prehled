{
 "cells": [
  {
   "cell_type": "code",
   "execution_count": 1,
   "id": "86c14e64",
   "metadata": {},
   "outputs": [],
   "source": [
    "import os\n",
    "import pandas as pd\n",
    "pd.set_option('display.max_columns', None)\n",
    "df = pd.read_json(os.path.join(\"data\", \"filmy.json\"))"
   ]
  },
  {
   "cell_type": "code",
   "execution_count": 2,
   "id": "81d06c05",
   "metadata": {},
   "outputs": [],
   "source": [
    "df = df.explode(\"Lokace\")"
   ]
  },
  {
   "cell_type": "code",
   "execution_count": 3,
   "id": "b0cbb4f3",
   "metadata": {},
   "outputs": [
    {
     "data": {
      "text/plain": [
       "<AxesSubplot:xlabel='Copyright'>"
      ]
     },
     "execution_count": 3,
     "metadata": {},
     "output_type": "execute_result"
    },
    {
     "data": {
      "image/png": "[encoded data removed]",
      "text/plain": [
       "<Figure size 1800x216 with 1 Axes>"
      ]
     },
     "metadata": {
      "needs_background": "light"
     },
     "output_type": "display_data"
    }
   ],
   "source": [
    "df.groupby(\"Copyright\")[\"Lokace\"].nunique().plot.bar(figsize=(25,3))"
   ]
  },
  {
   "cell_type": "code",
   "execution_count": 4,
   "id": "39df0242",
   "metadata": {},
   "outputs": [
    {
     "data": {
      "text/plain": [
       "<AxesSubplot:xlabel='Copyright'>"
      ]
     },
     "execution_count": 4,
     "metadata": {},
     "output_type": "execute_result"
    },
    {
     "data": {
      "image/png": "[encoded data removed]",
      "text/plain": [
       "<Figure size 1800x216 with 1 Axes>"
      ]
     },
     "metadata": {
      "needs_background": "light"
     },
     "output_type": "display_data"
    }
   ],
   "source": [
    "df[df[\"Copyright\"] < 2010].groupby(\"Copyright\")[\"Lokace\"].nunique().plot.bar(figsize=(25,3))"
   ]
  },
  {
   "cell_type": "code",
   "execution_count": 5,
   "id": "6f08953c",
   "metadata": {},
   "outputs": [
    {
     "data": {
      "text/plain": [
       "Lokace\n",
       "Česká republika, Praha (Česká republika)    99\n",
       "Nové Město (Praha)                          77\n",
       "Staré Město (Praha)                         63\n",
       "Malá Strana (Praha)                         56\n",
       "Vltava (Praha)                              56\n",
       "Hradčany (Praha)                            39\n",
       "Vinohrady (Praha)                           37\n",
       "Praha (Česká republika)                     36\n",
       "Holešovice (Praha)                          35\n",
       "Žižkov (Praha)                              32\n",
       "Dejvice (Praha)                             30\n",
       "Smíchov (Praha)                             26\n",
       "Staroměstské náměstí (Staré Město)          25\n",
       "Bubeneč (Praha)                             23\n",
       "Slovensko, Bratislava (Slovensko)           23\n",
       "Václavské náměstí (Nové Město)              23\n",
       "Karlín (Praha)                              22\n",
       "Nusle (Praha)                               20\n",
       "Josefov (Praha)                             19\n",
       "Národní třída (Nové Město)                  19\n",
       "Praha                                       18\n",
       "Pražský hrad (Hradčany)                     18\n",
       "Ruzyně (Praha)                              17\n",
       "Výstaviště (Bubeneč)                        17\n",
       "Praha, Nové Město (Praha)                   16\n",
       "Karlův most (Vltava)                        15\n",
       "Letná (Praha)                               15\n",
       "Podolí (Praha)                              15\n",
       "Praha, Vltava (Praha)                       15\n",
       "Brno (Česká republika)                      14\n",
       "Libeň (Praha)                               14\n",
       "Praha, Bubeneč (Praha)                      14\n",
       "bez exteriérů                               14\n",
       "Francie, Paříž (Francie)                    13\n",
       "Vršovice (Praha)                            13\n",
       "náměstí Jana Palacha (Josefov)              13\n",
       "most Legií (Vltava)                         12\n",
       "Malostranské náměstí (Malá Strana)          11\n",
       "Praha, Hradčany (Praha)                     11\n",
       "Praha, Staré Město (Praha)                  11\n",
       "Vodičkova ulice (Nové Město)                11\n",
       "Bratislava (Slovensko)                      10\n",
       "Hradčanské náměstí (Hradčany)               10\n",
       "Strašnice (Praha)                           10\n",
       "Bohnice (Praha)                              9\n",
       "Hlavní nádraží (Nové Město)                  9\n",
       "Krč (Praha)                                  9\n",
       "Letiště Václava Havla (Ruzyně)               9\n",
       "Národní divadlo (Nové Město)                 9\n",
       "Pernerova ulice (Karlín)                     9\n",
       "Name: Film, dtype: int64"
      ]
     },
     "execution_count": 5,
     "metadata": {},
     "output_type": "execute_result"
    }
   ],
   "source": [
    "df.groupby(\"Lokace\")[\"Film\"].nunique().nlargest(50)"
   ]
  },
  {
   "cell_type": "code",
   "execution_count": 6,
   "id": "b17d5172",
   "metadata": {},
   "outputs": [
    {
     "name": "stderr",
     "output_type": "stream",
     "text": [
      "C:\\Users\\micha\\AppData\\Local\\Temp\\ipykernel_27568\\3879034159.py:1: UserWarning: This pattern is interpreted as a regular expression, and has match groups. To actually get the groups, use str.extract.\n",
      "  df[df[\"Lokace\"].str.lower().str.contains(\"(česká republika)\", na=False)].groupby(\"Lokace\")[\"Film\"].nunique().nlargest(50)\n"
     ]
    },
    {
     "data": {
      "text/plain": [
       "Lokace\n",
       "Česká republika, Praha (Česká republika)        99\n",
       "Praha (Česká republika)                         36\n",
       "Brno (Česká republika)                          14\n",
       "Česká republika, Brno (Česká republika)          9\n",
       "Ostrava (Česká republika)                        6\n",
       "Plzeň (Česká republika)                          6\n",
       "Jaroměř (Česká republika)                        5\n",
       "Kolín (Česká republika)                          5\n",
       "Veltrusy (Česká republika)                       5\n",
       "Doksy (Česká republika)                          4\n",
       "Hradec Králové (Česká republika)                 4\n",
       "Jihlava (Česká republika)                        4\n",
       "Olomouc (Česká republika)                        4\n",
       "Slapy (Česká republika)                          4\n",
       "Zlín (Česká republika)                           4\n",
       "Ústí nad Labem (Česká republika)                 4\n",
       "Beroun (Česká republika)                         3\n",
       "Brdy (Česká republika)                           3\n",
       "Broumov (Česká republika)                        3\n",
       "Jizerské hory (Česká republika)                  3\n",
       "Krkonoše (Česká republika)                       3\n",
       "Lysá nad Labem (Česká republika)                 3\n",
       "Most (Česká republika)                           3\n",
       "Mělník (Česká republika)                         3\n",
       "Nižbor (Česká republika)                         3\n",
       "Olbramov (Česká republika)                       3\n",
       "Průhonice (Česká republika)                      3\n",
       "Česká republika, Křivoklát (Česká republika)     3\n",
       "České Budějovice (Česká republika)               3\n",
       "Šumava (Česká republika)                         3\n",
       "Blatná (Česká republika)                         2\n",
       "Boletice (Česká republika)                       2\n",
       "Brandýs nad Labem (Česká republika)              2\n",
       "Doksany (Česká republika)                        2\n",
       "Doubice (Česká republika)                        2\n",
       "Děčín (Česká republika)                          2\n",
       "Halenkovice (Česká republika)                    2\n",
       "Hartmanice (Česká republika)                     2\n",
       "Hodonín (Česká republika)                        2\n",
       "Horská Kvilda (Česká republika)                  2\n",
       "Hořovice (Česká republika)                       2\n",
       "Hýskov (Česká republika)                         2\n",
       "Jaroměřice nad Rokytnou (Česká republika)        2\n",
       "Josefov (Česká republika)                        2\n",
       "Karlovy Vary (Česká republika)                   2\n",
       "Kokořínsko (Česká republika)                     2\n",
       "Králův Dvůr (Česká republika)                    2\n",
       "Kutná Hora (Česká republika)                     2\n",
       "Křivoklátsko (Česká republika)                   2\n",
       "Křtiny (Česká republika)                         2\n",
       "Name: Film, dtype: int64"
      ]
     },
     "execution_count": 6,
     "metadata": {},
     "output_type": "execute_result"
    }
   ],
   "source": [
    "df[df[\"Lokace\"].str.lower().str.contains(\"(česká republika)\", na=False)].groupby(\"Lokace\")[\"Film\"].nunique().nlargest(50)"
   ]
  },
  {
   "cell_type": "code",
   "execution_count": 7,
   "id": "7486f7ae",
   "metadata": {},
   "outputs": [
    {
     "data": {
      "text/plain": [
       "Lokace\n",
       "Vodičkova ulice (Nové Město)                         11\n",
       "Pernerova ulice (Karlín)                              9\n",
       "Praha, ulice (Praha)                                  7\n",
       "Vinohradská ulice (Vinohrady)                         7\n",
       "Bělohorská ulice (Břevnov)                            6\n",
       "Pařížská ulice (Staré Město)                          6\n",
       "ulice Komunardů (Holešovice)                          6\n",
       "Dejvická ulice (Dejvice)                              5\n",
       "Koulova ulice (Dejvice)                               5\n",
       "Lucerna (Vodičkova ulice)                             5\n",
       "Nádražní ulice (Smíchov)                              5\n",
       "Sněmovní ulice (Malá Strana)                          5\n",
       "Spálená ulice (Nové Město)                            5\n",
       "ulice Na Pankráci (Nusle)                             5\n",
       "ulice Politických vězňů (Nové Město)                  5\n",
       "Bartolomějská ulice (Staré Město)                     4\n",
       "Hellichova ulice (Malá Strana)                        4\n",
       "Jankovcova ulice (Holešovice)                         4\n",
       "Jindřišská ulice (Nové Město)                         4\n",
       "Karmelitská ulice (Malá Strana)                       4\n",
       "Sokolovská ulice (Karlín)                             4\n",
       "Tusarova ulice (Holešovice)                           4\n",
       "Vodičkova ulice (Praha)                               4\n",
       "ulice Na Františku (Staré Město)                      4\n",
       "Erhartova cukrárna /interiér/ (Vinohradská ulice)     3\n",
       "Husova ulice (Staré Město)                            3\n",
       "Kubelíkova ulice (Žižkov)                             3\n",
       "Křižíkova ulice (Karlín)                              3\n",
       "Mladá Boleslav, Viničná ulice (Mladá Boleslav)        3\n",
       "Opatovická ulice (Nové Město)                         3\n",
       "Petschkův palác (ulice Politických vězňů)             3\n",
       "Poupětova ulice (Holešovice)                          3\n",
       "Seifertova ulice (Žižkov)                             3\n",
       "Slavíkova ulice (Žižkov)                              3\n",
       "Sokolská ulice (Nové Město)                           3\n",
       "Technická ulice (Dejvice)                             3\n",
       "Trojická ulice (Nové Město)                           3\n",
       "Veletržní ulice (Holešovice)                          3\n",
       "Vladivostocká ulice (Vršovice)                        3\n",
       "Vršovická ulice (Vršovice)                            3\n",
       "Zelená ulice (Dejvice)                                3\n",
       "hotel Pyramida (Bělohorská ulice)                     3\n",
       "ulice (Praha)                                         3\n",
       "ulice 28. pluku (Vršovice)                            3\n",
       "ulice Na Hrobci (Nové Město)                          3\n",
       "ulice Na Příkopě (Nové Město)                         3\n",
       "ulice U Sovových mlýnů (Kampa)                        3\n",
       "Ústavní ulice (Bohnice)                               3\n",
       "Šafaříkova ulice (Vinohrady)                          3\n",
       "Štefánikova ulice (Smíchov)                           3\n",
       "Name: Film, dtype: int64"
      ]
     },
     "execution_count": 7,
     "metadata": {},
     "output_type": "execute_result"
    }
   ],
   "source": [
    "df[df[\"Lokace\"].str.lower().str.contains(\"ulice\", na=False)].groupby(\"Lokace\")[\"Film\"].nunique().nlargest(50)"
   ]
  },
  {
   "cell_type": "code",
   "execution_count": 8,
   "id": "2b03377d",
   "metadata": {},
   "outputs": [
    {
     "data": {
      "text/plain": [
       "Lokace\n",
       "Mostecko, zámek Jezeří                                                                                                                                                       2\n",
       "zámek /skleníky/ (Veltrusy)                                                                                                                                                  2\n",
       "Benešovsko, Martinice u Dolních Kralovic, zámek Martinice (Martinice u Dolních Kralovic)                                                                                     1\n",
       "Bobnice, Poděbrady, zámek (Poděbrady)                                                                                                                                        1\n",
       "Egyptský pavilon (zámek Veltrusy)                                                                                                                                            1\n",
       "Hostýnské vrchy, Panská skála (Varahany) u Kamenického Šenova, Zlatý vrch u České Kamenice, tvrz Cuknštejn, Roudnice nad Labem, zámek Uherčice, park (zámek Uherčice)        1\n",
       "Liteň, zámek (Liteň)                                                                                                                                                         1\n",
       "Litoměřice, zámek Ploskovice, Lovosice, Praha, zámek Veltrusy                                                                                                                1\n",
       "Lány, zámek (Lány)                                                                                                                                                           1\n",
       "Lány, zámek /i interiér/ (Lány)                                                                                                                                              1\n",
       "Líšno, zámek (Líšno)                                                                                                                                                         1\n",
       "Mostecko, Most, zámek Jezeří                                                                                                                                                 1\n",
       "Pardubice, zámek (Pardubice)                                                                                                                                                 1\n",
       "Poděbrady /zámek/ (Česká republika)                                                                                                                                          1\n",
       "Praha, zámek Milotice, zámek Buchlovice, zámek Rájec nad Svitavou, zámek Jaroslavice, zámek Lemberk, hrad Grabštejn, Jablonné v Podještědí, Lvová (Jablonné v Podještědí)    1\n",
       "Přírodní rezervace Kopeč, Mělník, zámek (Mělník)                                                                                                                             1\n",
       "Ralská pahorkatina, vrch Vlhošť, Zliv u Libáně, Zahrádky, zámek (Zahrádky)                                                                                                   1\n",
       "Roztoky u Prahy – zámek, přehrada Orlík                                                                                                                                      1\n",
       "Skanzen lidových staveb Kouřim, zámek Chrámce                                                                                                                                1\n",
       "Slapy, zámek (Slapy)                                                                                                                                                         1\n",
       "Slapy, zámek Slapy (Slapy)                                                                                                                                                   1\n",
       "Slovensko, Topoľčianky – zámek, park, okolí (Slovensko)                                                                                                                      1\n",
       "Suchdol nad Lužnicí, Chuchelna, zámek Cerhonice, Český ráj, hora Kozákov (Český ráj)                                                                                         1\n",
       "Svatý Jan pod Skalou, Zdiby, Liteň, zámek Liteň (Liteň)                                                                                                                      1\n",
       "Telč, zámek Náměšť nad Oslavou, hrad Okoř, hrad Kokořín, Průhonice                                                                                                           1\n",
       "Topoľčanský hrad (Topoľčianky – zámek, park, okolí)                                                                                                                          1\n",
       "Valeč, zámek Valeč (Valeč)                                                                                                                                                   1\n",
       "Zbraslavský zámek (Zbraslav)                                                                                                                                                 1\n",
       "hrad Kost, zámek v Dětenicích, lesy u Nouzova                                                                                                                                1\n",
       "hrad Křivoklát /a okolí/, zámek Sobotín /i interiér/, zámecký park (zámek Sobotín /i interiér/)                                                                              1\n",
       "kupole se standartou prezidenta Československé republiky (zámek)                                                                                                             1\n",
       "park (zámek Lednice)                                                                                                                                                         1\n",
       "skleníky (zámek)                                                                                                                                                             1\n",
       "ulice Zámek (Lysá nad Labem)                                                                                                                                                 1\n",
       "zámek (Litomyšl)                                                                                                                                                             1\n",
       "zámek (Nelahozeves)                                                                                                                                                          1\n",
       "zámek (Náchod)                                                                                                                                                               1\n",
       "zámek (Slavkov u Brna)                                                                                                                                                       1\n",
       "zámek (Veltrusy)                                                                                                                                                             1\n",
       "zámek /Domov na zámku/ (Lysá nad Labem)                                                                                                                                      1\n",
       "zámek /i interiér/ (Slapy)                                                                                                                                                   1\n",
       "zámek Bon Repos, Vinohrady (Praha)                                                                                                                                           1\n",
       "zámek Buchlovice, zámek Ploskovice, skanzen Přerov nad Labem, hrad Choustník, rybník Bezdrev                                                                                 1\n",
       "zámek Dobříš (Česká republika)                                                                                                                                               1\n",
       "zámek Fryštát (Karviná)                                                                                                                                                      1\n",
       "zámek Hluboká nad Vltavou                                                                                                                                                    1\n",
       "zámek Hluboká, Plešné jezero, Nová Pec, zámek Libochovice, zámek Ploskovice, údolí Kocáby, Koněpruské jeskyně, Kokořínské údolí, Český kras, lom Paraple (Český kras)        1\n",
       "zámek Horní Staňkov /i interiér/ (Česká republika)                                                                                                                           1\n",
       "zámek Hradec nad Moravicí (Hradec nad Moravicí)                                                                                                                              1\n",
       "zámek Hrádek u Nechanic (Česká republika)                                                                                                                                    1\n",
       "Name: Film, dtype: int64"
      ]
     },
     "execution_count": 8,
     "metadata": {},
     "output_type": "execute_result"
    }
   ],
   "source": [
    "df[df[\"Lokace\"].str.lower().str.contains(\"zámek\", na=False)].groupby(\"Lokace\")[\"Film\"].nunique().nlargest(50)"
   ]
  },
  {
   "cell_type": "code",
   "execution_count": 9,
   "id": "2cd04f00",
   "metadata": {},
   "outputs": [
    {
     "data": {
      "text/plain": [
       "Lokace\n",
       "Staroměstské náměstí (Staré Město)                                            25\n",
       "Václavské náměstí (Nové Město)                                                23\n",
       "náměstí Jana Palacha (Josefov)                                                13\n",
       "Malostranské náměstí (Malá Strana)                                            11\n",
       "Hradčanské náměstí (Hradčany)                                                 10\n",
       "Národní muzeum (Václavské náměstí)                                             7\n",
       "náměstí Republiky (Staré Město)                                                7\n",
       "Václavské náměstí (Praha)                                                      6\n",
       "náměstí Curieových (Staré Město)                                               6\n",
       "Pražský hrad (Hradčanské náměstí)                                              5\n",
       "Rudolfinum (náměstí Jana Palacha)                                              5\n",
       "Staroměstská radnice (Staroměstské náměstí)                                    5\n",
       "náměstí Svobody (Bubeneč)                                                      5\n",
       "Karlovo náměstí (Nové Město)                                                   4\n",
       "Loretánské náměstí (Hradčany)                                                  4\n",
       "Horní náměstí (Olomouc)                                                        3\n",
       "Lyčkovo náměstí (Karlín)                                                       3\n",
       "Maltézské náměstí (Malá Strana)                                                3\n",
       "Mariánské náměstí (Staré Město)                                                3\n",
       "Právnická fakulta Univerzity Karlovy (náměstí Curieových)                      3\n",
       "Skleněný palác /interiér/ (náměstí Svobody)                                    3\n",
       "Staroměstský orloj (Staroměstské náměstí)                                      3\n",
       "Staré náměstí (Ruzyně)                                                         3\n",
       "Velkopřevorské náměstí (Malá Strana)                                           3\n",
       "kostel sv. Mikuláše (Malostranské náměstí)                                     3\n",
       "náměstí Jiřího z Poděbrad (Vinohrady)                                          3\n",
       "Anenské náměstí (Staré Město)                                                  2\n",
       "Barrandov (Kříženeckého náměstí)                                               2\n",
       "Basilejské náměstí (Žižkov)                                                    2\n",
       "Filozofická fakulta Univerzity Karlovy /i interiér/ (náměstí Jana Palacha)     2\n",
       "Haštalské náměstí (Staré Město)                                                2\n",
       "Hurbanovo náměstí (Bratislava)                                                 2\n",
       "Jiráskovo náměstí (Nové Město)                                                 2\n",
       "Karlínské náměstí (Karlín)                                                     2\n",
       "Kříženeckého náměstí (Hlubočepy)                                               2\n",
       "Malostranská beseda (Malostranské náměstí)                                     2\n",
       "Malostranská beseda /i interiér/ (Malostranské náměstí)                        2\n",
       "Malostranské náměstí (Praha)                                                   2\n",
       "Náměstí Slovenského národního povstání (Bratislava)                            2\n",
       "Obecní dům (náměstí Republiky)                                                 2\n",
       "Obecní dům /interiér/ (náměstí Republiky)                                      2\n",
       "Palackého náměstí (Nové Město)                                                 2\n",
       "Rudolfinum /interiér/ (náměstí Jana Palacha)                                   2\n",
       "Rudé náměstí (Moskva)                                                          2\n",
       "Senovážné náměstí (Nové Město)                                                 2\n",
       "Slavonice, náměstí Míru (Slavonice)                                            2\n",
       "Staroměstské náměstí (Praha)                                                   2\n",
       "Strossmayerovo náměstí (Holešovice)                                            2\n",
       "Strossmayerovo náměstí (Praha)                                                 2\n",
       "Vysoká škola uměleckoprůmyslová v Praze (náměstí Jana Palacha)                 2\n",
       "Name: Film, dtype: int64"
      ]
     },
     "execution_count": 9,
     "metadata": {},
     "output_type": "execute_result"
    }
   ],
   "source": [
    "df[df[\"Lokace\"].str.lower().str.contains(\"náměstí\", na=False)].groupby(\"Lokace\")[\"Film\"].nunique().nlargest(50)"
   ]
  },
  {
   "cell_type": "code",
   "execution_count": 10,
   "id": "c27f7ddf",
   "metadata": {},
   "outputs": [
    {
     "name": "stderr",
     "output_type": "stream",
     "text": [
      "C:\\Users\\micha\\AppData\\Local\\Temp\\ipykernel_27568\\356451550.py:1: UserWarning: This pattern is interpreted as a regular expression, and has match groups. To actually get the groups, use str.extract.\n",
      "  df[df[\"Lokace\"].str.lower().str.contains(\"(kostel|katedrála)\", na=False)].groupby(\"Lokace\")[\"Film\"].nunique().nlargest(50)\n"
     ]
    },
    {
     "data": {
      "text/plain": [
       "Lokace\n",
       "Katedrála sv. Víta (Pražský hrad)                                                                                                                                                                        3\n",
       "kostel sv. Mikuláše (Malostranské náměstí)                                                                                                                                                               3\n",
       "Katedrála sv. Víta (Praha)                                                                                                                                                                               2\n",
       "kostel sv. Cyrila a Metoděje (Karlínské náměstí)                                                                                                                                                         2\n",
       "kostel sv. Ludmily (náměstí Míru)                                                                                                                                                                        2\n",
       "kostel sv. Mikuláše (Boletice)                                                                                                                                                                           2\n",
       "kostel sv. Mikuláše (Malá Strana)                                                                                                                                                                        2\n",
       "Annín, kostel sv. Mořice (Dlouhá Ves)                                                                                                                                                                    1\n",
       "Boží Dar, kostel sv. Anny (Boží Dar)                                                                                                                                                                     1\n",
       "Brno, Uhorná, Soběslav, Jindřichův Hradec, Šumperk, Znojmo, Stříbro, Liberec, Karviná, České Budějovice, Trutnov, Bohumín, Plzeň, Kladno, Rudolfov, Strážnice, Cheb, Litoměřice, Kostelec nad Vltavou    1\n",
       "Březová u Uherského Brodu, kostel sv. Cyrila a Metoděje (Březová u Uherského Brodu)                                                                                                                      1\n",
       "Dobčice, Záboří, Pištín, Dříteň, kostel sv. Dismase (Dříteň)                                                                                                                                             1\n",
       "Komenského ulice (Červený Kostelec)                                                                                                                                                                      1\n",
       "Kostelec nad Orlicí (Česká republika)                                                                                                                                                                    1\n",
       "Kostelní náměstí (Broumov)                                                                                                                                                                               1\n",
       "Kostelní náměstí /plac Kościelny/ (Kladsko /Kłodzko/)                                                                                                                                                    1\n",
       "Kostelní ulice (Jimramov)                                                                                                                                                                                1\n",
       "Kostelní ulice (Nymburk)                                                                                                                                                                                 1\n",
       "Nečtiny, kostel sv. Jana Většího /i interiér/ (Nečtiny)                                                                                                                                                  1\n",
       "Praha, Staré Město, kostel sv. Anny, Ungelt                                                                                                                                                              1\n",
       "Svatomikulášská městská zvonice (kostel sv. Mikuláše)                                                                                                                                                    1\n",
       "azylové zařízení Ministerstva vnitra České republiky (Kostelec nad Orlicí)                                                                                                                               1\n",
       "děkanství (Kostelní náměstí)                                                                                                                                                                             1\n",
       "evangelický kostel sv. Trojice (Tatranská Lomnica)                                                                                                                                                       1\n",
       "hrob Václava Havla (kostel sv. Václava)                                                                                                                                                                  1\n",
       "hřbitov Kostelní zmola (Brno)                                                                                                                                                                            1\n",
       "kaplička na Kostelním vrchu (Rokytnice nad Jizerou)                                                                                                                                                      1\n",
       "katedrála (Roskilde)                                                                                                                                                                                     1\n",
       "katedrála sv. Petra a Pavla (Brno)                                                                                                                                                                       1\n",
       "katedrála sv. Štěpána (Vídeň)                                                                                                                                                                            1\n",
       "kavárna Society (Kostelní ulice)                                                                                                                                                                         1\n",
       "klášter a kostel sv. Anežky (ulice Na Františku)                                                                                                                                                         1\n",
       "kostel Nanebevzetí Panny Marie (Klecany)                                                                                                                                                                 1\n",
       "kostel Nanebevzetí Panny Marie /i interiér/ (Doubice)                                                                                                                                                    1\n",
       "kostel Nanebevzetí Panny Marie /i interiér/ (Palackého náměstí)                                                                                                                                          1\n",
       "kostel Nanebevzetí Panny Marie /i interiér/ (náměstí Míru)                                                                                                                                               1\n",
       "kostel Narození Panny Marie (Krameriova ulice)                                                                                                                                                           1\n",
       "kostel Nejsvětějšího Salvátora (Praha)                                                                                                                                                                   1\n",
       "kostel Nejsvětějšího Salvátora (Staré Město)                                                                                                                                                             1\n",
       "kostel Nejsvětějšího Srdce Páně (náměstí Jiřího z Poděbrad)                                                                                                                                              1\n",
       "kostel Nejsvětějšího Srdce Páně /i interiér/ (náměstí Jiřího z Poděbrad)                                                                                                                                 1\n",
       "kostel Nejsvětějšího srdce Páně (Náměstí Jiřího z Poděbrad)                                                                                                                                              1\n",
       "kostel Panny Marie Vítězné (Karmelitská ulice)                                                                                                                                                           1\n",
       "kostel Panny Marie Vítězné /Pražské Jezulátko/ (Praha)                                                                                                                                                   1\n",
       "kostel Panny Marie pod řetězem (Malá Strana)                                                                                                                                                             1\n",
       "kostel apoštola Pavla /interiér/ (Jihlava)                                                                                                                                                               1\n",
       "kostel sv. Antonína Paduánského (Strossmayerovo náměstí)                                                                                                                                                 1\n",
       "kostel sv. Barbory (Adamov)                                                                                                                                                                              1\n",
       "kostel sv. Ducha (Opava)                                                                                                                                                                                 1\n",
       "kostel sv. Filipa a Jakuba (Praha)                                                                                                                                                                       1\n",
       "Name: Film, dtype: int64"
      ]
     },
     "execution_count": 10,
     "metadata": {},
     "output_type": "execute_result"
    }
   ],
   "source": [
    "df[df[\"Lokace\"].str.lower().str.contains(\"(kostel|katedrála)\", na=False)].groupby(\"Lokace\")[\"Film\"].nunique().nlargest(50)"
   ]
  },
  {
   "cell_type": "code",
   "execution_count": 11,
   "id": "3caee95d",
   "metadata": {},
   "outputs": [
    {
     "data": {
      "text/plain": [
       "Lokace\n",
       "Brno (Česká republika)                                                                                                                                                                                   14\n",
       "Česká republika, Brno (Česká republika)                                                                                                                                                                   9\n",
       "Výstaviště (Brno)                                                                                                                                                                                         3\n",
       "Kounicova ulice (Brno)                                                                                                                                                                                    2\n",
       "Kraví hora (Brno)                                                                                                                                                                                         2\n",
       "Pisárky (Brno)                                                                                                                                                                                            2\n",
       "Zelný trh (Brno)                                                                                                                                                                                          2\n",
       "hlavní nádraží (Brno)                                                                                                                                                                                     2\n",
       "ulice Cejl (Brno)                                                                                                                                                                                         2\n",
       "Černá Pole (Brno)                                                                                                                                                                                         2\n",
       "Allée de Brno (Rennes)                                                                                                                                                                                    1\n",
       "Beethovenova ulice (Brno)                                                                                                                                                                                 1\n",
       "Božetěchova ulice (Brno)                                                                                                                                                                                  1\n",
       "Brno                                                                                                                                                                                                      1\n",
       "Brno, Brno-střed (Brno)                                                                                                                                                                                   1\n",
       "Brno, Uhorná, Soběslav, Jindřichův Hradec, Šumperk, Znojmo, Stříbro, Liberec, Karviná, České Budějovice, Trutnov, Bohumín, Plzeň, Kladno, Rudolfov, Strážnice, Cheb, Litoměřice, Kostelec nad Vltavou     1\n",
       "Brno, Výstaviště (Brno)                                                                                                                                                                                   1\n",
       "Brno, hlavní nádraží (Brno)                                                                                                                                                                               1\n",
       "Brno, ulice (Brno)                                                                                                                                                                                        1\n",
       "Brno, řeka Svratka (Brno)                                                                                                                                                                                 1\n",
       "Brno, Židenice (Brno)                                                                                                                                                                                     1\n",
       "Běhounská ulice (Brno)                                                                                                                                                                                    1\n",
       "Dolní Heršpice (Brno)                                                                                                                                                                                     1\n",
       "Dominikánská ulice (Brno)                                                                                                                                                                                 1\n",
       "Dominikánské náměstí (Brno)                                                                                                                                                                               1\n",
       "Dvořákova ulice (Brno)                                                                                                                                                                                    1\n",
       "Eleven club /interiér/ (Brno)                                                                                                                                                                             1\n",
       "Gorkého ulice (Brno)                                                                                                                                                                                      1\n",
       "Husova ulice (Brno)                                                                                                                                                                                       1\n",
       "Hvězdárna a planetárium Brno (Brno)                                                                                                                                                                       1\n",
       "Ivančice (Brno)                                                                                                                                                                                           1\n",
       "Jakubské náměstí (Brno)                                                                                                                                                                                   1\n",
       "Jezuitská ulice (Brno)                                                                                                                                                                                    1\n",
       "Jihlavská ulice (Brno)                                                                                                                                                                                    1\n",
       "Komenského náměstí (Brno)                                                                                                                                                                                 1\n",
       "Kopečná ulice (Brno)                                                                                                                                                                                      1\n",
       "Křídlovická ulice (Brno)                                                                                                                                                                                  1\n",
       "Letiště Brno-Tuřany (Česká republika)                                                                                                                                                                     1\n",
       "Lipová ulice (Brno)                                                                                                                                                                                       1\n",
       "Mahenovo divadlo (Brno-střed)                                                                                                                                                                             1\n",
       "Malinovského náměstí (Brno)                                                                                                                                                                               1\n",
       "Mendlovo náměstí (Brno)                                                                                                                                                                                   1\n",
       "Moravské Slovácko, Hodonínsko, Rohatec, Dolní Bojanovice, Mikulčice, Brno, Trnkova ulice (Brno)                                                                                                           1\n",
       "Novobranská ulice (Brno)                                                                                                                                                                                  1\n",
       "Nádražní ulice (Brno)                                                                                                                                                                                     1\n",
       "Národní divadlo – Mahenovo divadlo (Brno)                                                                                                                                                                 1\n",
       "Opatství svatého Tomáše /Starobrněnský klášter/ (Brno)                                                                                                                                                    1\n",
       "Ořešín (Brno)                                                                                                                                                                                             1\n",
       "Pekařská ulice (Brno)                                                                                                                                                                                     1\n",
       "Petrov (Brno)                                                                                                                                                                                             1\n",
       "Name: Film, dtype: int64"
      ]
     },
     "execution_count": 11,
     "metadata": {},
     "output_type": "execute_result"
    }
   ],
   "source": [
    "df[df[\"Lokace\"].str.lower().str.contains(\"brno\", na=False)].groupby(\"Lokace\")[\"Film\"].nunique().nlargest(50)"
   ]
  }
 ],
 "metadata": {
  "kernelspec": {
   "display_name": "Python 3 (ipykernel)",
   "language": "python",
   "name": "python3"
  },
  "language_info": {
   "codemirror_mode": {
    "name": "ipython",
    "version": 3
   },
   "file_extension": ".py",
   "mimetype": "text/x-python",
   "name": "python",
   "nbconvert_exporter": "python",
   "pygments_lexer": "ipython3",
   "version": "3.10.8"
  }
 },
 "nbformat": 4,
 "nbformat_minor": 5
}
