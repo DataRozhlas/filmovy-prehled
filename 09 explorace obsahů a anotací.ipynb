{
 "cells": [
  {
   "cell_type": "code",
   "execution_count": 1,
   "id": "1855a161",
   "metadata": {},
   "outputs": [],
   "source": [
    "import pandas as pd"
   ]
  },
  {
   "cell_type": "code",
   "execution_count": 5,
   "id": "b3ba400e",
   "metadata": {},
   "outputs": [],
   "source": [
    "pd.set_option('display.max_columns', None)"
   ]
  },
  {
   "cell_type": "code",
   "execution_count": 2,
   "id": "4141cde9",
   "metadata": {},
   "outputs": [],
   "source": [
    "df = pd.read_json(\"filmy.json\")"
   ]
  },
  {
   "cell_type": "code",
   "execution_count": 15,
   "id": "cf6880e7",
   "metadata": {},
   "outputs": [
    {
     "data": {
      "text/plain": [
       "219                                                  None\n",
       "3119    Lenka Vlasáková patří k nejvýznamnějším hereck...\n",
       "501     Vlasta Burian se coby titulní hrdina veselohry...\n",
       "3304    Celovečerní snímek mladého dokumentaristy Jana...\n",
       "4442    Tvůrci česko-slovenského celovečerního dokumen...\n",
       "2552    Dobrodružné knihy spisovatele Eduarda Štorcha ...\n",
       "4226    Celovečerní autorský debut absolventa FAMU Jos...\n",
       "3411    Román předního estonského spisovatele Nikolaje...\n",
       "1165                                                 None\n",
       "4180    Intimní portrét populárního a zároveň kontrove...\n",
       "3869    Celovečerní autorský debut Richarda Řeřichy (p...\n",
       "3115    Nález čarodějné knihy pomůže dvěma kamarádkám ...\n",
       "3325    Psychologické drama Hanele natočil režisér Kar...\n",
       "1820    Podle vlastního námětu natočila Věra Chytilová...\n",
       "4466    Přípravy k filmu T jsou filmovým debutem Milan...\n",
       "2983    Silné herecké obsazení se povedlo získat režis...\n",
       "217                                                  None\n",
       "771                                                  None\n",
       "1462                                                 None\n",
       "2414    Podle své novely napsal spisovatel Karel Štork...\n",
       "3577    Prázdninová komedie Účastníci zájezdu je čtvrt...\n",
       "1987    Spisovatel a scenárista Jiří Marek se do histo...\n",
       "3539    Celovečerní debut anglického režiséra a scenár...\n",
       "4092    Časosběrnou metodou, jež neodmyslitelně patří ...\n",
       "640                                                  None\n",
       "2599    Pod povídkovým snímkem z roku 1978 je jako rež...\n",
       "4405    V autorské pohádce Jitky Rudolfové Hodinářův u...\n",
       "423     Sociální drama Takový je život (uváděný též po...\n",
       "2077    Scenárista a režisér Miloš Makovec se přiblíži...\n",
       "4174    Experiment konceptuálního umělce Tomáše Svobod...\n",
       "2198    Jedna z nejoblíbenějších komedií šedesátých le...\n",
       "2181    Filmaři se o dílo Josefa Škvoreckého v šedesát...\n",
       "668                                                  None\n",
       "2545    Režisér Oldřich Lipský se do zlatého fondu čes...\n",
       "382                                                  None\n",
       "2394    Koprodukční pohádka Václava Vorlíčka Tři oříšk...\n",
       "3062    Po vesnické veselohře Slunce seno jahody (1983...\n",
       "4161    Celovečerní debut francouzské scenáristky, rež...\n",
       "1678    Šedesátá léta přinesla nový a složitější pohle...\n",
       "3861    Režisér Martin Přívratský (nar. 1981) a motocy...\n",
       "1495                                                 None\n",
       "3801    Časosběrný dokument Veroniky Sobkové se strohý...\n",
       "3259    Synopse dlouhometrážního debutu režiséra David...\n",
       "3587    Snímek Jiřího Chlumského Prachy dělaj člověka ...\n",
       "3450    Snímek Děvčátko je celovečerním debutem scenár...\n",
       "3840    Rodinný snímek Modrý tygr poněkud nezvykle nav...\n",
       "1606    Podle literární předlohy spisovatele Jana Otče...\n",
       "3745    Časosběrný dokument Olgy Špátové Oko nad Praho...\n",
       "1977    V roce 1965 natočil zkušený režisér Jaroslav M...\n",
       "3479    Snímek Mazaný Filip napsal a natočil Václav Ma...\n",
       "Name: Anotace, dtype: object"
      ]
     },
     "execution_count": 15,
     "metadata": {},
     "output_type": "execute_result"
    }
   ],
   "source": [
    "df[df[\"Délka\"] == \"dlouhometrážní\"][\"Anotace\"].sample(50)"
   ]
  },
  {
   "cell_type": "code",
   "execution_count": 18,
   "id": "88236af5",
   "metadata": {},
   "outputs": [
    {
     "data": {
      "text/plain": [
       "1041    Rodina bohatého sedláka Staňka se přistěhovala...\n",
       "3946    Jan Kačer, Pavel Landovský, Josef Abrhám, Vlad...\n",
       "2450    Do Moskvy přiletěli účastníci mezinárodní konf...\n",
       "3971    Estébák Zdeněk Špulák, který byl Wonkovým „říd...\n",
       "3598    Asi čtyřicetiletá Julie Konešínská přijde pozd...\n",
       "4304    Fotograf Jindřich Štreit navštíví bezdomovce, ...\n",
       "1473    Sarajevo 1914. Atentátník Gavrilo Princip zast...\n",
       "4107    Růžové a Liliové království spolu sousedí. V R...\n",
       "3143    Původní verze 1992:\\n\\nFotografka Nona otevře ...\n",
       "4455    („Vizuální, inscenované situace“, dále S) Plec...\n",
       "4178    Čtyřicátník Petr Miller pracuje jako imigrační...\n",
       "2968    Mladí manželé Lída a Petr Kadlecovi se rozhodl...\n",
       "2653    Je pátek, na moderním pražském sídlišti se rod...\n",
       "2368    Druhá světová válka. Ve výcvikovém středisku N...\n",
       "2676    Rodina ředitele výzkumného ústavu Mašky večeří...\n",
       "3649    V opuštěné zimní krajině začíná kat vyprávět p...\n",
       "3092    Marek veze do pionýrského tábora kamaráda Ondr...\n",
       "3168    Zuzana už je dospělá; čas prvních lásek je nen...\n",
       "3938    Bývalý policista Čestmír Cajthaml vzpomíná, ja...\n",
       "2253    Rodina Homolkova oslavuje velkou událost: kone...\n",
       "514     Ševci Bambous, Čumpelík a Kysela, kteří žijí v...\n",
       "3664    Ubr tančí na diskotéce, Ofka stojí u baru. – D...\n",
       "4473    Umělkyně Papia Ghoshal maluje obrazy posvátným...\n",
       "845     Dcera chudého chalupníka z Detvy Eva Batelová ...\n",
       "4508    Červená divadelní opona. – V roce 1945 osvobod...\n",
       "2351    Na Dagmar Královou, které pro její pyšné chová...\n",
       "4442    Jan Švankmajer natočil (po zhlédnutí konečné v...\n",
       "2615    Honza a Zuzana jsou velmi mladí manželé. Mají ...\n",
       "1380    Na představení v cirkusu Slavia přijede několi...\n",
       "1613    Ve velkém sanatoriu obklopeném parkem se léčí ...\n",
       "3754    Lanýže = hľuzovky = velice ceněné houby. – Och...\n",
       "3244    Podzim 1987. Raprechtice v Jizerských horách. ...\n",
       "3909    Herečka a muzikantka Dorota Nvotová kráčí po k...\n",
       "2358    Televizní reportér Cyril Dadák se při reportáž...\n",
       "3849    Věra Čáslavská na půdě vyhledá památeční artef...\n",
       "2390    Hraná rekonstrukce událostí roku 1938 je kroni...\n",
       "1087    Úředník pojišťovny Valentin Plavec je velice p...\n",
       "3067    Sociolog Víťa Jakoubek, ženatý třicátník a ote...\n",
       "3994    Mladý Martin skončil jako knihovník zrušeného ...\n",
       "4285    Tři staří muži, Muzikant, Cirkusák a Slovák zl...\n",
       "3236    Stárnoucí Johanka Ovšena tráví dovolenou na Ší...\n",
       "1317    Lid truchlí nad smrtí vojvody Čecha, který jej...\n",
       "1596                                      Povídkový film.\n",
       "4195    Plavkyni Věrce Závorkové amputovali kvůli nádo...\n",
       "2754    V Domově důchodců v malém městě žijí lidé různ...\n",
       "4308    Jan Švankmajer v ateliéru, kde panuje běžný ru...\n",
       "4254    Maďarsko, jaro 2015. Policie doprovází ve vesn...\n",
       "4165    Noční hlídač překvapí skupinu maskovaných mužů...\n",
       "1720    Růženka, Miloš, Petr a Tonda, děti z pražského...\n",
       "3226    Několik Sarajevanů, starých kolem dvaceti let,...\n",
       "Name: Obsah, dtype: object"
      ]
     },
     "execution_count": 18,
     "metadata": {},
     "output_type": "execute_result"
    }
   ],
   "source": [
    "df[df[\"Délka\"] == \"dlouhometrážní\"][\"Obsah\"].sample(50)"
   ]
  },
  {
   "cell_type": "code",
   "execution_count": 25,
   "id": "168bda05",
   "metadata": {},
   "outputs": [
    {
     "data": {
      "text/plain": [
       "['Revident Hadimrška je vyslán do Prahy. Má reorganizovat Zlatníkovu gramofonovou firmu, aby mohla bance zaplatit dluhy. Mladý majitel se zruinoval vydržováním kabaretní zpěvačky Mici Angory. Z finančních problémů ho má dostat sňatek s Astou, bohatou dcerou konzula Wielanda. Zlatník netuší, že dívka netouží po sňatku naslepo a že nastoupila do jeho firmy inkognito jako sekretářka. Zlatník se s Mici rozejde. Astě se mladý muž líbí a ona se do něho zamiluje. Nekompromisní Hadimrška začne ihned po příjezdu úřadovat. Rozhodne, že se bude šetřit a pracovat a že bude prodána Angořina vila, kterou jí koupil Jiří Zlatník. Nechtěné popularity se Hadimrškovi dostane v kabaretu, kde ho Angora zapojí do svého čísla a text písně doplní o jeho jméno. Když jde Hadimrška převzít zpěvaččinu vilu, dostane nervový záchvat. Mokrý po nucené sprše je nucen okolnostmi uprchnout v ženském negližé a šéf banky ho propustí. Angora získá v konzulovi nového milence. Firma zbohatne na nové písni o Hadimrškovi a Zlatník požádá konzulovu dceru o ruku. Zdrcený Hadimrška se vrací domů. Spoluobčané ho však zvolili mezitím starostou, takže i on má zisk ze své popularity.',\n",
       " 'Kapitán pražské lodní společnosti Adam Korkorán žije svými sny o tom, jak velí zaoceánským lodím, i když ve skutečnosti jezdí jen s malým parníkem po Vltavě. Ředitelství společnosti s ním má stále problémy, a tak když Korkorán odmítá odchod do důchodu, pošle ho alespoň do lázní. Na nádraží v Poděbradech však sluha z nejdražšího lázeňského hotelu omylem odveze jeho kufr se zavazadly bohaté dámy. Tím se stane, že Korkorán je pokládán za korvetního kapitána a boháče. Korkorán, oslněný přepychem, se spřátelí s admirálem ve výslužbě a začne hrát hru s lázeňskými hosty i sám se sebou. Dokonce je vyhlášen nejoblíbenějším hostem sezóny. Když mu dojdou peníze, napíše své hospodyni, aby mu poslala všechny jeho úspory. Zděšená žena se rozhodne za Korkoránem jet, a tak vyjde pravda najevo. Zničený kapitán odjede domů a čeká na výpověď, ale ukáže se, že majitelem paroplavební společnosti je admirál ve výslužbě, jeho přítel z lázní. Korkorán je jmenován vrchním inspektorem a ožení se se svou hospodyní.',\n",
       " 'Vincenc Babočka je bezvýznamným zaměstnancem na policejní stanici. V soukromí si hraje na detektiva, neboť má pocit, že jeho schopnosti nejsou dostatečně využity. Na dovolené v Karlových Varech však dojde k záměně a Babočka je považován za stíhaného dobrodruha Leona Webera. Muž okamžitě vycítí možnost konečně na sebe upozornit a setrvá v přestrojení, aby odhalil Weberovy komplice, kteří se chystají ukrást diamanty mahárádži z Yohiru. S mahárádžou se Babočka seznámí podle Weberova plánu v přestrojení za knížete Nariškina. Celá situace se však zkomplikuje, když se v Karlových Varech objeví skutečný Weber. Pro jeho podobu s Babočkou ani komplicové nemají docela jasno, kdo je vlastně jejich šéf. Babočkovi se nakonec podaří zjistit, že ani mahárádža není tím, za koho se vydává, a dostane všechny podvodníky do jednoho letadla. Se zachráněnými diamanty pak vyskočí padákem a zavolá policii, která si povedené pasažéry už jen vyzvedne na letišti.',\n",
       " 'Ošetřovatel Rozruch z nemocnice sv. Jakuba dostal z nemocenské pojišťovny místo očekávaného léčivého bahna umělý chrup. Když v pojišťovně osobně vyřizuje přehmat, jsou úředníci velmi neochotní. Rada Pěna přijde do pojišťovny, aby si domluvil výlet se svou tajnou milenkou, sekretářkou Věrou, kterou si chce vzít, až se provdá jeho dcera Heda. Pěna ohlašuje v pojišťovně návštěvu primáře Marka od sv. Jakuba a přestože ho osobně nezná, přimlouvá se za vyřízení jeho žádosti. Když rozčilený Rozruch za chvíli sdělí, že je z nemocnice od sv. Jakuba, úředníci ho považují za Marka a jejich chování se rázem mění. Šéflékař Bruner mu předepíše lázně, kam ho druhého dne osobně doveze. Skutečný Marek přijíždí do lázní s Hedou, které se představil jako Rozruch, aby se přesvědčil o nezištnosti jejích citů. I rada Pěna s Věrou přijíždějí, aniž tuší, že je přítomna i Věřina matka. V malých lázních se nakonec všichni potkají a jejich tajemství se prozradí. Po návratu do Prahy Rozruch, který tajně dostudoval medicínu, promuje, a dostává od Brunera místo v nemocenské pojišťovně.',\n",
       " 'Julinka Svobodová pracuje jako úřednice u obchodní firmy Hrubý a syn. Bydlí v podnájmu u paní Pokorné, náhodou v tomtéž domě jako ministr obchodu dr. Horák. Paní Pokorná v dobrém úmyslu roznese pomluvu, že je Julinka přítelkyní pana ministra. Julinka proto ztratí žárlivého nápadníka Evžena, ale příliš ji to netrápí. Firma Hrubý je v nesnázích. Mladý šéf, Jan Hrubý, se rozhodne využít Julinčina „vlivu“ a povýší Julinku na místo sekretářky. Julinka má vyšší plat, vede se jí dobře a tak se ani příliš nesnaží omyl vysvětlit. Shodou okolností začne firma vzkvétat a všichni se domnívají, že je to zásluhou Julinky a její známosti s ministrem. Jmenování Jana Hrubého komorním radou jejich domněnky jen potvrdí. Jan se do Julinky zamiluje, vadí mu však, že pan ministr stojí v cestě jeho lásce. Teprve když Julinku požádá o ruku, náhoda mu potvrdí, že vše byla jenom neškodná pomluva.',\n",
       " 'Svérázný nosič reklam Ťopka se dokáže přizpůsobit každé situaci. Odstavený vagon, ve kterém přespává, je jednoho dne připojen k vlaku, se kterým odjíždí generální inspektor drah Kokrhel na okružní kontrolní cestu. Objevení černého pasažéra způsobí neplánovanou zastávku na nádraží v Mokrém nad Soupravou. Ťopka uprchne, ale Kokrhel trvá na jeho nalezení a potrestání. Místní přednosta Jelen odešel mezitím naneštěstí na zkoušku pěveckého sboru. Půvabná paní Jelenová proto téměř uvítá, když se objeví Ťopka, převlečený do uniformy jejího muže, a vydává se za přednostu stanice. Kokrhelovi se mladá žena velmi líbí a ve světle jejího úsměvu přehlíží totální přednostovu neschopnost. Rozhodne se vyhovět Jelenově žádosti o přeložení blíže k hlavnímu městu. Když se objeví skutečný přednosta stanice, začne být Kokrhel komisní. Ťopka mu však připomene, jak pro flirt zapomněl na své povinnosti, a Kokrhel musí svému slibu dostát.',\n",
       " 'Rudolf Bartoš, majitel statku, lomu a továrny, je velmi bohatý. Je to však muž nepřístupný a popudlivý, postrach všech zaměstnanců. Jednoho dne se nešťastně zraní po pádu ze srázu u řeky. Naříkajícího muže najde skalák Fábera a dopraví ho do své chalupy. Fábera žije s hezkou dcerou Anči a svými osiřelými synovci - dvojčaty Tondou a Vaškem. Několik dní strávených mezi těmito chudými, ale láskyplnými lidmi, zcela změní Bartošův pohled na svět. Přívětivým chováním po návratu do své vily šokuje své podřízené, lamačům v lomu přidá na platech. Pravidelně navštěvuje Fáberovu rodinu. Stará pýcha však znovu nabude vrchu, když zjistí, že se jeho synovec Oldřich chce oženit s Anči. Rozejde se s ním ve zlém a Fáberovi, který nechce dceři zakázat sňatek, dá dokonce výpověď. Brzy si však uvědomí, že přestřelil. Fáberovi pošle ve výplatním sáčku omluvný dopis. Málem je pozdě. Rozrušený Fábera se ještě před výplatou zřítil ze skály. Jeho zranění není naštěstí smrtelné a tak Bartoš nepřijde o svého jediného přítele.',\n",
       " 'Starožitník Bořivoj Kohout si velice zakládá na tom, jak přísně vede svou ženu i děti - dvě dcery a syna. Nápadník dcery Zdeňky ing. Bečvář chce jeho krutovládu překonat a tak pomoci všem v rodině ke klidnějšímu životu a sobě ke sňatku se Zdeňkou. Musí vynaložit mnoho úsilí, aby se mu to podařilo. Mezitím se chce Jaroslav, bratr Bořivoje Kohouta, usmířit se svým zásadovým bratrem a rozjede se za ním do Prahy. Bořivoj se snaží překazit v cirkusu produkci krotitele lvů. Jako předseda spolku pro ochranu zvířat ji pokládá za týrání. Je odvezen do nervového sanatoria, neboť nikdo nevěří, že by takto mohl jednat zdravý člověk. Ing. Bečvář se spojí s Jaroslavem Kohoutem, aby dostal Bořivoje z ústavu. Cenou za tuto pomoc je výměna rolí - místo Bořivoje zůstane v ústavu Jaroslav a Bořivoj, který je bratrovi k nerozeznání podoben, se vrátí domů jako Jaroslav. Záměna umožní Bořivojovi poznat pravý stav v rodině i názor manželky a dětí na jeho tyranské chování. Toto poznání ho vyléčí z diktátorského jednání a do rodiny se vrátí klid a vzájemné porozumění.',\n",
       " 'Strojvůdce Matys zachrání za druhé světové války při náletu hloubkových letců svou lokomotivu, které láskyplně říká Líza. Sám je při útoku zraněn. Čeká pak doma na uzdravení a na konec války a těší se, že bude znovu na opravené lokomotivě jezdit. Konečně je po válce. Matysův zeť Vojta se stane také strojvůdcem. V den narození svého syna se Vojta opije a zapomene, že má služební pohotovost. Když je pak volán k plnění povinnosti, není k nalezení. Starý Matys se nechá přemluvit, aby ho tajně zastoupil. Na trati zabrání nehodě, když zastaví odpojené vagony. Všichni se domnívají, že vagony zachránil Vojta. Vojta na nátlak rodiny o celé věci mlčí. Matys je poslán do penze. Ještě předtím, než mu přátelé uspořádají slavnost na rozloučenou, spojí se Matys s učni a s jejich pomocí lokomotivu opraví. A v Matysův den poslední se všechno obrátí - stroj je v pořádku a přednosta vyzve Matyse, aby na něm dál jezdil.',\n",
       " 'Blíží se konec války, občané Prahy strhávají německé vlajky a nápisy. Také v tramvaji číslo 12 panuje radostná nálada. U Trojského mostu náhle zazní výstřely a několik lidí leží v krvi. Lidé začnou ihned stavět před mostem barikádu. Je jasné, že na druhé straně stojí ozbrojení příslušníci Schörnerovy armády. Barikádníky, jimž velí holešovický zámečník Hošek, čeká tvrdý boj. Na barikádě společně bojují četař československé armády, dobrovolník ze španělské války, český strážník, uhlíř, pekař, Polka Halina, která přežila Osvětim, ženy, muži a mládež. Také Hoškův syn Pepík, kterému se podařilo nalezenou pancéřovou pěstí zničit tank a tím odrazit německý tankový útok. Jsou mezi nimi i takoví, kteří ztratí odvahu. Němci stupňují útok, barikádníci se brání s vypětím všech sil. Situace se stává neudržitelnou, naštěstí přijíždějí sovětské tanky. Rudá armáda vstupuje do Prahy a lidé ji vítají kyticemi šeříku.',\n",
       " 'Do zotavovny ROH Jezerka přijíždějí rekreanti z celé republiky. Jsou to lidé různého povolání, věku i zájmů, ale všichni vzorní pracovníci svých podniků. Revizor pražského Dopravního podniku Anděl se těžko přizpůsobuje a neustále bručí. Naopak Václav Mašek se nedostatečně rekreuje, neboť je velmi činorodý a neustále něco opravuje. Pavlátovi, jejichž manželství bylo v krizi, mají příležitost vysvětlit si svá nedorozumění a znovu se dají dohromady. Štefan Palko se zamiloval do řidičky autobusu Marienky a ta přijímá jeho nabídku k sňatku. Aktivní údržbář Mašek organizuje brigádu. Spolu s dalšími rekreanty přestaví polorozpadlou bývalou hospodu na krásný žňový útulek pro děti družstevníků. Na začátku pobytu měli rekreanti možnost objednat si písničky v rozhlasovém pořadu na přání. Koncert je vysílán až v druhém týdnu pobytu. Andělovi věnovali společně skladbu Starý bručoun. V době vysílání se však Anděl už polepšil. Optimistická nálada a kamarádský duch způsobil, že se po čtrnácti dnech všichni loučí jako dobří přátelé.',\n",
       " 'Tři mladí zaměstnanci Spofany, Zdeněk Soukup, jeho milá Věra Novotná a jejich kamarádka Věra Matoušková dostali za dobrou práci výběrovou rekreaci v Tatranské Lomnici. Revizor pražského Dopravního podniku Gustav Anděl jede také za odměnu do stejného místa. Nezná totiž zatím Věru, nastávající ženu svého syna Mirka, a rozhodl se tajně a inkognito zkontrolovat její chování v nepřítomnosti snoubence. Omylem považuje za synovu dívku Věru Novotnou a jeho pátrací akce mu přinesou spoustu trapných zážitků. Na horách se mu však velmi líbí, zvláště když se tam setká s Bohoušem Vyhlídkou, se kterým se spřátelil před dvěma roky na letní rekreaci. V Praze zatím paní Andělová pomáhá Věřině matce vyměnit byt, aby jejich děti měly kde bydlet. Při výletě na Lomnický štít uvízne trojice rekreantů v mlze na horské chatě. Gustav Anděl, jenž byl doposud zoufalý z chování své budoucí snachy, která se neustále tulila ke Zdeňkovi, si až tam s Věrou Matouškovou vysvětlí svůj omyl. Teď je spokojený, tato Věra je totiž pro jeho syna naprosto ideální.',\n",
       " 'Povídkový film.',\n",
       " 'Dva dřevorubci si krátí dlouhou chvíli strašením pocestných. Chasník Franta se jim vysměje a přizná, že se ani bát neumí. Rád by pocit strachu poznal. Dřevorubci ho proto pošlou do mlýna, kde prý straší. Franta chce ve mlýně přenocovat. Ani mlynář, který se ze mlýna právě vystěhoval, ho nemůže odradit. Frantovi se líbí jeho dcera Verunka a slíbí, že strašidla ze mlýna vyžene. Verunka za Frantou večer přijde a dá mu škapulíř, který ho má chránit. V noci začnou ve mlýně strašit dva duchové, ale nebojácný Franta jim ještě zatleská. Když se pak strašidla chystají odlétnout oknem, Franta jedno z nich chytí. To mu pak za svobodu slibuje peníze, ukryté ve sklepě. Duchové se přiznají, že jsou zakletí mlynáři a že kdysi okrádali lidi. Nyní za trest musí strašit. Franta zbaví duchy kletby, když jim dá přivonět ke škapulíři. Peníze s dopisem na rozloučenou nechá mlynáři, aby je rozdal chudým. Pak běží dřevorubcům vyprávět, jak duchy zahnal a přizná, že z mlýna odešel, protože měl strach, že ho Verunka nebude chtít. Když si ale uvědomí, že dosud neznámý pocit strachu právě zažil, spěchá za Verunkou. Najde ji uplakanou a ví, že už se bát nemusí.',\n",
       " 'Princezna Blanka se tajně schází se svým milým, myslivcem Ondřejem. Jejich lásce přeje jen komorná Anežka, královský otec se nesmí nic dozvědět. Blanka odmítá všechny ženichy, které král na zámek pozval. Nepochodí ani princ Hynek. Král už má rozmarů své dcery dost. Zavře ji ve věži, nápadníci ji mají hledat a ona se má provdat za toho, kdo ji najde první. Blanka si vymíní, že jí bude Anežka dělat společnost. Doufá, že komorná bude moci Ondřejovi ukázat tajný vchod do věže. Král ale zakáže Anežce vycházet. Zámek je plný ženichů, kteří hledají vchod do věže. Ondřej zatím marně čeká na Anežku a její rady. Když potká ve vsi medvědáře, napadne ho převléci se za medvěda a svého otce požádá, aby ho do zámku doprovodil. Král je nadšen kousky falešného medvěda a svolí, aby ho medvědář předvedl jeho dceři. Ondřej se tak dostane tajným vchodem do věže. Pak se převlékne a spěchá za Blankou. Král se zatím snaží naznačit princi Hynkovi, kde je tajný vchod. Když to Hynek konečně pochopí a dveře se otevřou, stojí za nimi Blanka s Ondřejem. Král konečně pozná, že Blanka je s myslivcem šťastná a oběma požehná.',\n",
       " 'Starý Březina je odkázán na skrovný důchod. Se snachou Štefkou nevychází a syn je slaboch, který se otce nedokáže zastat. Větší část peněz si Březina nechává u hostinského, který ho za to jakžtakž po celý měsíc živí. Hostinský nečekaně nastoupí léčbu v lázních a jeho zástupce odmítne Březinovi pomáhat. Březina proto musí nějak přežít čas, než se jeho hostinský vrátí. Je to obtížné, penze je malá, a tak starci brzy dochází chleba i pití. Kamarádi dědkové by mu rádi pomohli, ale nevědí jak. Březina se nakonec rozhodne sáhnout na „železnou zásobu“, jíž je živý králík. Když jej však starý muž bere z kotce, králík se mu vysmekne a uteče. S posledními silami se Březina snaží králíka chytit, ale nepodaří se mu to. Znavený se vrátí do své kůlny, kam ho vyhnala Štefka, a umře. Po pohřbu sedí smutně před hospodou tři dědci - jediní Březinovi kamarádi.',\n",
       " 'Králové Jindřich Spravedlivý a Dobromysl Veselý si před mnoha lety slíbili, že se jejich děti Václav a Helena v dospělosti vezmou. Mladí lidé se nehodlají podřídit slibům svých otců. Václav proto na cestě do Dobromyslova království otci uteče, aby se na případnou nevěstu podíval sám. Když chce tajně proniknout do zámku, seznámí se s půvabnou dívkou, ale vzápětí je zatčen a uvržen do vězení. Dívka, jíž se ztřeštěný mládenec zalíbil, ho navštíví v hladomorně, ale nepoví mu, že je princezna. Také Václav, který se do ní zamiloval, jí svou totožnost neprozradí. Na dvoře Helenina otce zatím vládne zmatek, rádcové králů Ypsilon a Iks kují pikle, aby zabránili sňatku královských dětí. Helenin otec dá dceři jasně najevo, že si nemůže vzít neurozeného muže. Helena si začne hrát na smutnou princeznu, aby vymohla na otci svolení provdat se za neznámého mladíka. Dobromysl vyzve všechny muže v zemi, aby se pokusili rozesmát jeho dceru. Václav uprchne z vězení, ale ani jemu se nepodaří Helenu vyléčit, protože ta si tajně čichne ke křenu a místo úsměvu se rozpláče. Princ je znovu uvězněn a s ním uvíznou nešťastnou náhodou v cele oba králové i princezna. Zde teprve všichni poznají pravdu. Nikdo ale nemá klíč a Iks s Ypsilonem mezitím rozpoutají válku. Odemkne jim až chůva. Mladí válku zastaví a jejich štěstí už nic nestojí v cestě.',\n",
       " 'V předměstské vile je zavražděna bohatá soukromnice Zuzánková. Libeňský policejní komisař Zdychynec ohlásí případ radovi Vacátkovi, na jehož pokyn se ihned rozběhne pátrání. Po výpovědi souseda Zuzánkové Zdychynec začne podezřívat ze zločinu nápadníka své dcery Kamilky, krásného dragouna Rudiho. Zdychynec v Rudiho nepřítomnosti prohledá jeho pokoj u elegantní paní Dragičové. Veškeré nálezy – mimo jiné písek na Rudiho holinkách i značný obnos peněz v jeho nočním stolku – utvrdí komisaře, že je na správné stopě, zvláště když Rudi odmítne sdělit, kde byl v době vraždy. Komisař se navíc dozví, že jeho Kamilka čeká s Rudim dítě. Svěří se Vacátkovi a ten pověří detektiva Brůžka sledováním Rudiho. Brůžkovi nedá moc práce, aby zjistil, že Rudi, kromě Kamilky, přivedl ještě další tři důvěřivé dívky do jiného stavu. Tímto způsobem dodává zákaznice Dragičové, která za slušnou úplatu pomáhá dívkám od nežádoucího těhotenství a s Rudim se dělí o výdělek. Na stopu skutečného vraha přivede policii paní Zdychyncová. Prozradí radovi, že Zuzánková měla synovce Pepu, který utekl k cirkusu. A právě v den vraždy jel kolem cirkus Coloredo. Pepa se pod tíhou důkazů přizná. Rudi se žení, ale jeho nevěstou je stará a ošklivá ženská. „Boží mlýny…“ komentuje jeho sňatek pan rada Vacátko.',\n",
       " 'Za ranního šera je v Praze ve Vltavě nalezena mrtvola kasaře Toufara se zabodnutým nožem v zádech. Inspektoři Bouše a Brůžek navštíví jeho milenku, prostitutku Annu Kulatou zvanou Paraplíčko a je zjevné, že než otevřela dveře svého bytu, oknem kdosi utekl. Paraplíčko je předvedena k výslechu k šéfovi kriminálky - radovi Vacátkovi, ale i když je šokována fotografií mrtvého, nepřizná nic. Před Toufarem žila Paraplíčko s kasařem Pěničkou, který jí velmi miloval a odvedl ji od pouličního řemesla. Když však dostal tři roky kriminálu, Paraplíčko začala žít se surovým Toufarem a ten ji znovu vyhnal na ulici. Pěnička je proto v případě vraždy nejpodezřelejší. Už je tři měsíce doma a pracuje u uhlířů, kteří mu potvrdí alibi. Paraplíčko má ale z Pěničky strach a na radu kriminálníka Mlíka oznámí Vacátkovi, že vražedný nůž byl Pěničkův. Policisté přijdou kasaře zatknout, ale ten uprchne k půdě domu, tam se zabarikáduje a po pronásledovatelích střílí. Nakonec se za ním vydá sám pan rada. Pěnička se přizná k zabití Toufara v sebeobraně při rvačce a Vacátko ho přemluví, aby se odevzdal do rukou spravedlnosti. Odjedou spolu fiakrem a rozlítostněná Anna se vrací ke starému způsobu života, zavěšená do nového milence - Mlíka.',\n",
       " 'Pohledná Magda Králová se v tramvaji seznámí s údajným studentem Josefem Kořínkem zvaným Pépi, aniž tuší, že jde o kapsáře. Magdin otec Ludvík Král, inkasista firmy Globus, zatím popíjí s přáteli v zahradní restauraci, i když ho sužují velké bolesti žaludku. Vyhledá ho mladý šéf Vili Berger, spolumajitel firmy Globus, a předá mu šek na čtyřicet dva tisíc korun. Nemá v plánu poslat třicet tisíc otci do Brna na obchodní transakci, ale utéci i s tajně navýšenou částkou a sekretářkou Zuzankou do Vídně. Král dostane ráno ještě další šek od prokuristy Hrádka, tentokrát na dvacet tisíc. Inkasista vyzvedne peníze v bance a cestou do firmy koupí dopisní papír a obálku v trafice. Večer Hrádek ohlásí na kriminálce Královo zmizení. Inspektor Bouše najde svázaného mrtvého inkasistu, samozřejmě bez peněz, na břehu potoka. Rada Vacátko zjistí při výslechu mladého Bergera i Hrádka, že se zřejmě pokusili o defraudaci, ale Berger senior to zamítne. Pojišťovna by mu peníze nenahradila. Podezřelými z vraždy se stanou postupně Pépi, Magdin druh Vycpálek i Královi kamarádi, ale chybí důkazy. Až na pohřbu se nakonec objeví tetka v šátku - Králova švagrová. Kriminalisté zjistí, že k ní poslal Král peníze a sám pak fingoval vlastní vraždu. Těžce nemocný muž chtěl takto zabezpečit dceru Magdu i manželku. Obě chladné a bezcitné ženy se rozpláčou teprve tehdy, když zjistí, že jim zpronevěřené peníze nezůstanou.',\n",
       " 'V sále hotelu Excelsior doprovází zpěvák tanec elegantních a bohatých hostů, mezi něž patří i dva manželské páry z Kladna - Janíkovi a Matoušovi. Druhý den přijde do kanceláře kriminálního rady Vacátka ředitel hotelu Arno Hnízdo. Po mnoha vytáčkách a upozornění na bezvadné renomé svého podniku nakonec prozradí, že v noci byla v hotelu zavražděna Dana Matoušová. Rada Vacátko s inspektory Boušem a Brůžkem vyslýchají hotelový personál i hosty. Penzionovaný inspektor Mrázek, nyní náhodou hotelový detektiv, jim nemůže pomoci, neboť byl zjevně z formy a spal. V apartmá Matoušových byl předchozí noc čilý ruch. Vražedný nástroj, láhev od koňaku, někdo vyhodil oknem z koupelny, kde byla koketní Matoušová nalezena svým opilým mužem brzy ráno. Podezřelý je i perský diplomat Zade, jenž předchozí večer se ženou flirtoval a jehož otisky prstů byly zjištěny na rámu koupelny. Kriminalisté brzy zjistí příčinu nervozity ředitele i ostatního personálu. V hotelu se hrály hazardně a hlavně falešně karty. Vedle číšníka Pepy, klavíristy Krofty a ředitele, si hrou pravidelně přilepšovali i Janík s Matoušem. Rekonstrukce postupně vyloučí většinu podezřelých. Matouš se snaží svalit vinu na diplomata. Svou ženu však ze žárlivosti zabil sám. Prozradí se, neboť jediný ví, kam vražedná láhev zmizela.',\n",
       " 'Vousatý muž přijíždí k divadlu, v němž vystupuje slavná zpěvačka. Představení je ale vyprodáno a muž se marně pokouší proniknout dovnitř přes nekompromisního stepujícího vrátného. Nakonec je vousáč i se svým košem květin nemilosrdně polit vodou. Po představení se obdivovatel ke své hvězdě dostane. Zpěvačka je smutná, neboť jí kamsi zmizel její starý song. Muž se vydá do světa českých hudebních filmů, aby pro paní svého srdce nalezl vhodný evergreen, jímž by ji potěšil. Použity jsou scény nebo písně z filmů: Limonádový Joe aneb Koňská opera, Hrdinný kapitán Korkorán, Funebrák, Provdám svou ženu, On a jeho sestra, Za tichých nocí, Ta naše písnička česká, Kdyby tisíc klarinetů, Madla zpívá Evropě, Zločin v šantánu, Hotel Modrá hvězda, Pytlákova schovanka aneb Šlechetný milionář, Kristian, Přítelkyně pana ministra, Noční motýl, Těžký život dobrodruha, Ďábelské líbánky, Znamení kotvy. Nakonec se muž vrátí do divadla se spoustou nalezených melodií a vděčná zpěvačka si s ním zazpívá duet.',\n",
       " 'Mladá Eliška Pomořanská marně čeká, že se její muž císař Karel IV. zúčastní slavnosti na Pražském hradě. Král je zaneprázdněn státními záležitostmi. Eliška se těší, že si s Karlem aspoň vyjedou na Karlštejn. K velkému překvapení se dozví, že ženám je vstup na hrad zakázán. Odjede proto aspoň na hrádek Karlík, aby byla manželovi nablízku. – Na Karlštejně se všechno připravuje na vladařův příjezd. Už zde čekají hosté – cyperský král Petr a bavorský vévoda Štěpán. Ani jeden z nich nevěří, že by králův příkaz ohledně ženských návštěv byl přísně dodržován. Sami však netuší, že příkaz už byl porušen. Na Karlštejn pronikly dokonce dvě ženy. Jednou je královna Eliška, druhou je neteř purkrabího Alena, převlečená za páže, která se vsadila s otcem, že stráví na hradě jednu noc. Výhrou má být souhlas ke sňatku s královským šenkem Peškem. Arcibiskup Arnošt z Pardubic brzy zjistí, že Eliška je na hradě. Aby její přítomnost zůstala utajena, nastoupí královna v přestrojení jako stráž noční službu v předpokoji královy ložnice. Málem ji zde odhalí král Petr, ale zcela určitě ji pozná císař. Nedá však na sobě nic znát, a když se dozví i o druhé dívce, dá vyhlásit pátrání. Pešek se svěří purkrabímu, že Alena je na hradě. Když celý hrad hledá vetřelkyně, Arnošt se králi ke všemu přizná. Císař zruší pátrání. Alena musí okamžitě opustit hrad, Elišku Arnošt v nastalém zmatku nepozorovaně vyvede ven a vzápětí oznamuje její příjezd. Císař ji vítá na hradě, který bude nadále patřit i jí.',\n",
       " None]"
      ]
     },
     "execution_count": 25,
     "metadata": {},
     "output_type": "execute_result"
    }
   ],
   "source": [
    "df[df.Anotace.str.lower().str.contains(\"marvan\", na=False)][\"Obsah\"].to_list()"
   ]
  },
  {
   "cell_type": "code",
   "execution_count": 22,
   "id": "f1b75b10",
   "metadata": {},
   "outputs": [
    {
     "data": {
      "text/plain": [
       "2115    Na chodbě Akademie výtvarných umění čeká skupi...\n",
       "2866    Středoškolský profesor češtiny Robert Kilian t...\n",
       "3311    Spěchající debil přinese do vysílacího studia ...\n",
       "Name: Obsah, dtype: object"
      ]
     },
     "execution_count": 22,
     "metadata": {},
     "output_type": "execute_result"
    }
   ],
   "source": [
    "df[df.Obsah.str.lower().str.contains(\"hanzlík\", na=False)][\"Obsah\"]"
   ]
  }
 ],
 "metadata": {
  "kernelspec": {
   "display_name": "Python 3 (ipykernel)",
   "language": "python",
   "name": "python3"
  },
  "language_info": {
   "codemirror_mode": {
    "name": "ipython",
    "version": 3
   },
   "file_extension": ".py",
   "mimetype": "text/x-python",
   "name": "python",
   "nbconvert_exporter": "python",
   "pygments_lexer": "ipython3",
   "version": "3.10.8"
  }
 },
 "nbformat": 4,
 "nbformat_minor": 5
}
