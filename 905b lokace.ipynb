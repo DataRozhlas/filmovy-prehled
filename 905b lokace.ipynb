{
 "cells": [
  {
   "cell_type": "code",
   "execution_count": 1,
   "id": "86c14e64",
   "metadata": {},
   "outputs": [
    {
     "name": "stdout",
     "output_type": "stream",
     "text": [
      "2023/05/30 11:22:48 z 4555 řádků odstraněno 125. Aktuální dataframe má 4430 řádků.\n"
     ]
    }
   ],
   "source": [
    "import os\n",
    "import json\n",
    "import pandas as pd\n",
    "from src.vycisti import vycisti\n",
    "pd.set_option('display.max_columns', None)\n",
    "df = pd.read_json(os.path.join(\"data\", \"filmy.json\"))\n",
    "with open(os.path.join(\"data_fixes\", \"opravy.json\"), encoding=\"utf-8\") as opravy:\n",
    "    opravy = json.loads(opravy.read())\n",
    "with open(os.path.join(\"data_fixes\", \"seznamy.json\"), encoding=\"utf-8\") as seznamy:\n",
    "    seznamy = json.loads(seznamy.read())\n",
    "df = vycisti(df, opravy)"
   ]
  },
  {
   "cell_type": "code",
   "execution_count": 2,
   "id": "81d06c05",
   "metadata": {},
   "outputs": [],
   "source": [
    "df = df.explode(\"Lokace\")"
   ]
  },
  {
   "cell_type": "markdown",
   "id": "0c7fe99f",
   "metadata": {},
   "source": [
    "## Explorace"
   ]
  },
  {
   "cell_type": "code",
   "execution_count": 3,
   "id": "b0cbb4f3",
   "metadata": {},
   "outputs": [
    {
     "data": {
      "text/plain": [
       "<AxesSubplot:xlabel='Copyright'>"
      ]
     },
     "execution_count": 3,
     "metadata": {},
     "output_type": "execute_result"
    },
    {
     "data": {
      "image/png": "[encoded data removed]",
      "text/plain": [
       "<Figure size 1800x216 with 1 Axes>"
      ]
     },
     "metadata": {
      "needs_background": "light"
     },
     "output_type": "display_data"
    }
   ],
   "source": [
    "df.groupby(\"Copyright\")[\"Lokace\"].nunique().plot.bar(figsize=(25,3))"
   ]
  },
  {
   "cell_type": "code",
   "execution_count": 4,
   "id": "39df0242",
   "metadata": {},
   "outputs": [
    {
     "data": {
      "text/plain": [
       "<AxesSubplot:xlabel='Copyright'>"
      ]
     },
     "execution_count": 4,
     "metadata": {},
     "output_type": "execute_result"
    },
    {
     "data": {
      "image/png": "[encoded data removed]",
      "text/plain": [
       "<Figure size 1800x216 with 1 Axes>"
      ]
     },
     "metadata": {
      "needs_background": "light"
     },
     "output_type": "display_data"
    }
   ],
   "source": [
    "df[df[\"Copyright\"] < 2010].groupby(\"Copyright\")[\"Lokace\"].nunique().plot.bar(figsize=(25,3))"
   ]
  },
  {
   "cell_type": "markdown",
   "id": "f97070ed",
   "metadata": {},
   "source": [
    "## Čištění"
   ]
  },
  {
   "cell_type": "code",
   "execution_count": 5,
   "id": "6f08953c",
   "metadata": {},
   "outputs": [
    {
     "data": {
      "text/plain": [
       "['Česká republika, Praha (Česká republika)',\n",
       " 'Nové Město (Praha)',\n",
       " 'Staré Město (Praha)',\n",
       " 'Malá Strana (Praha)',\n",
       " 'Vltava (Praha)',\n",
       " 'Hradčany (Praha)',\n",
       " 'Vinohrady (Praha)',\n",
       " 'Žižkov (Praha)',\n",
       " 'Holešovice (Praha)',\n",
       " 'Praha (Česká republika)',\n",
       " 'Dejvice (Praha)',\n",
       " 'Smíchov (Praha)',\n",
       " 'Václavské náměstí (Nové Město)',\n",
       " 'Staroměstské náměstí (Staré Město)',\n",
       " 'Bubeneč (Praha)',\n",
       " 'Slovensko, Bratislava (Slovensko)',\n",
       " 'Nusle (Praha)',\n",
       " 'Karlín (Praha)',\n",
       " 'Pražský hrad (Hradčany)',\n",
       " 'Josefov (Praha)',\n",
       " 'Národní třída (Nové Město)',\n",
       " 'Ruzyně (Praha)',\n",
       " 'Podolí (Praha)',\n",
       " 'Praha',\n",
       " 'Karlův most (Vltava)',\n",
       " 'Letná (Praha)',\n",
       " 'Praha, Vltava (Praha)',\n",
       " 'Výstaviště (Bubeneč)',\n",
       " 'Praha, Nové Město (Praha)',\n",
       " 'Brno (Česká republika)',\n",
       " 'Libeň (Praha)',\n",
       " 'Praha, Bubeneč (Praha)',\n",
       " 'náměstí Jana Palacha (Josefov)',\n",
       " 'Vršovice (Praha)',\n",
       " 'bez exteriérů',\n",
       " 'Malostranské náměstí (Malá Strana)',\n",
       " 'Praha, Hradčany (Praha)',\n",
       " 'Praha, Staré Město (Praha)',\n",
       " 'Vodičkova ulice (Nové Město)',\n",
       " 'most Legií (Vltava)',\n",
       " 'Francie, Paříž (Francie)',\n",
       " 'Krč (Praha)',\n",
       " 'Mánesův most (Vltava)',\n",
       " 'Petřín (Malá Strana)',\n",
       " 'Strašnice (Praha)',\n",
       " 'Česká republika, Brno (Česká republika)',\n",
       " 'Bohnice (Praha)',\n",
       " 'Bratislava (Slovensko)',\n",
       " 'Břevnov (Praha)',\n",
       " 'Hlavní nádraží (Nové Město)',\n",
       " 'Hradčanské náměstí (Hradčany)',\n",
       " 'Letiště Václava Havla (Ruzyně)',\n",
       " 'Národní divadlo (Nové Město)',\n",
       " 'Pernerova ulice (Karlín)',\n",
       " 'Smetanovo nábřeží (Vltava)',\n",
       " 'Vyšehrad (Praha)',\n",
       " 'Kampa (Malá Strana)',\n",
       " 'Pankrác (Praha)',\n",
       " 'Praha, ulice (Praha)',\n",
       " 'Strahov (Praha)',\n",
       " 'Střešovice (Praha)',\n",
       " 'Vysočany (Praha)',\n",
       " 'Hlubočepy (Praha)',\n",
       " 'Kbely (Praha)',\n",
       " 'Letňany (Praha)',\n",
       " 'New York City (New York)',\n",
       " 'Národní muzeum (Václavské náměstí)',\n",
       " 'Ostrava (Česká republika)',\n",
       " 'Rakousko, Vídeň (Rakousko)',\n",
       " 'Troja (Praha)',\n",
       " 'náměstí Republiky (Staré Město)',\n",
       " 'Bělohorská ulice (Břevnov)',\n",
       " 'Kavčí hory (Podolí)',\n",
       " 'Lucerna (Vodičkova ulice)',\n",
       " 'Michle (Praha)',\n",
       " 'Motol (Praha)',\n",
       " 'Nuselský most (Praha)',\n",
       " 'Pařížská ulice (Staré Město)',\n",
       " 'Plzeň (Česká republika)',\n",
       " 'Praha, Smíchov (Praha)',\n",
       " 'Praha, panorama (Praha)',\n",
       " 'Praha, panoráma (Praha)',\n",
       " 'Rašínovo nábřeží (Vltava)',\n",
       " 'Slovensko',\n",
       " 'Slovensko, Vysoké Tatry (Slovensko)',\n",
       " 'Spojené státy americké, New York (Spojené státy americké)',\n",
       " 'Stodůlky (Praha)',\n",
       " 'Střelecký ostrov (Vltava)',\n",
       " 'Velká Británie, Londýn (Velká Británie)',\n",
       " 'Vinohradská ulice (Vinohrady)',\n",
       " 'Václavské náměstí (Praha)',\n",
       " 'ulice Komunardů (Holešovice)',\n",
       " 'Barrandov (Praha)',\n",
       " 'Braník (Praha)',\n",
       " 'Dejvická ulice (Dejvice)',\n",
       " 'Eiffelova věž (Paříž)',\n",
       " 'Hellichova ulice (Malá Strana)',\n",
       " 'Jaroměř (Česká republika)',\n",
       " 'Jindřišská ulice (Nové Město)',\n",
       " 'Jiráskův most (Vltava)',\n",
       " 'Karlovo náměstí (Nové Město)',\n",
       " 'Klánovice (Praha)',\n",
       " 'Kolín (Česká republika)',\n",
       " 'Koulova ulice (Dejvice)',\n",
       " 'Krkonoše (Česká republika)',\n",
       " 'Letenská pláň (Letná)',\n",
       " 'Loretánské náměstí (Hradčany)',\n",
       " 'Los Angeles (Kalifornie)',\n",
       " 'Nádražní ulice (Smíchov)',\n",
       " 'Německo, Berlín (Německo)',\n",
       " 'Olomouc (Česká republika)',\n",
       " 'Olšanské hřbitovy (Žižkov)',\n",
       " 'Praha, Dejvice (Praha)',\n",
       " 'Praha, Holešovice (Praha)',\n",
       " 'Rudolfinum (náměstí Jana Palacha)',\n",
       " 'Sněmovní ulice (Malá Strana)',\n",
       " 'Spálená ulice (Nové Město)',\n",
       " 'Staroměstská radnice (Staroměstské náměstí)',\n",
       " 'Tusarova ulice (Holešovice)',\n",
       " 'Veltrusy (Česká republika)',\n",
       " 'metro (Praha)',\n",
       " 'náměstí Curieových (Staré Město)',\n",
       " 'náměstí Jiřího z Poděbrad (Vinohrady)',\n",
       " 'náměstí Svobody (Bubeneč)',\n",
       " 'ulice Na Pankráci (Nusle)',\n",
       " 'železniční most (Praha)',\n",
       " 'Alšovo nábřeží (Vltava)',\n",
       " 'Bartolomějská ulice (Staré Město)',\n",
       " 'Bubenské nábřeží (Vltava)',\n",
       " 'Chodov (Praha)',\n",
       " 'Doksy (Česká republika)',\n",
       " 'Dunaj (Bratislava)',\n",
       " 'Hlavní nádraží (Praha)',\n",
       " 'Hostivař (Praha)',\n",
       " 'Hradec Králové (Česká republika)',\n",
       " 'Háje (Praha)',\n",
       " 'Jankovcova ulice (Holešovice)',\n",
       " 'Jihlava (Česká republika)',\n",
       " 'Karmelitská ulice (Malá Strana)',\n",
       " 'Mariánské náměstí (Staré Město)',\n",
       " 'Maďarsko, Budapešť (Maďarsko)',\n",
       " 'Mánes (Nové Město)',\n",
       " 'Nové město (Praha)',\n",
       " 'Národní divadlo (Národní třída)',\n",
       " 'Národní třída (Praha)',\n",
       " 'Národní třída (Staré Město)',\n",
       " 'Praha, Josefov (Praha)',\n",
       " 'Praha, Malá Strana (Praha)',\n",
       " 'Praha, Nusle (Praha)',\n",
       " 'Praha, Vinohrady (Praha)',\n",
       " 'Praha, Vršovice (Praha)',\n",
       " 'Pražský hrad (Hradčanské náměstí)',\n",
       " 'Radlice (Praha)',\n",
       " 'Ružomberok (Slovensko)',\n",
       " 'Seifertova ulice (Žižkov)',\n",
       " 'Slapy (Česká republika)',\n",
       " 'Slavíkova ulice (Žižkov)',\n",
       " 'Slovanský ostrov (Vltava)',\n",
       " 'Sokolovská ulice (Karlín)',\n",
       " 'Sokolská ulice (Nové Město)',\n",
       " 'Stromovka (Bubeneč)',\n",
       " 'Velkopřevorské náměstí (Malá Strana)',\n",
       " 'Vodičkova ulice (Praha)',\n",
       " 'Zlín (Česká republika)',\n",
       " 'ostrov Štvanice (Vltava)',\n",
       " 'panoráma (Hradčany)',\n",
       " 'rozhledna (Petřín)',\n",
       " 'skanzen Řepora (Řeporyje)',\n",
       " 'stadion (Strahov)',\n",
       " 'ulice Na Františku (Staré Město)',\n",
       " 'Ústí nad Labem (Česká republika)',\n",
       " 'Čechův most (Vltava)',\n",
       " 'železniční most (Vltava)',\n",
       " 'Albertov (Nové Město)',\n",
       " 'Anděl (Smíchov)',\n",
       " 'Beroun (Česká republika)',\n",
       " 'Brdy (Česká republika)',\n",
       " 'Broumov (Česká republika)',\n",
       " 'Denisova ulice (Olomouc)',\n",
       " 'Dvořákovo nábřeží (Vltava)',\n",
       " 'Fakultní Thomayerova nemocnice (Krč)',\n",
       " 'Hlavní nádraží /interiér/ (Nové Město)',\n",
       " 'Horní náměstí (Olomouc)',\n",
       " 'Husova ulice (Staré Město)',\n",
       " 'Itálie',\n",
       " 'Jablonec nad Nisou (Česká republika)',\n",
       " 'Jizerské hory',\n",
       " 'Jizerské hory (Česká republika)',\n",
       " 'Karlova ulice (Staré Město)',\n",
       " 'Karlův most (Praha)',\n",
       " 'Katedrála sv. Víta (Pražský hrad)',\n",
       " 'Kobylisy (Praha)',\n",
       " 'Kubelíkova ulice (Žižkov)',\n",
       " 'Kunratice (Praha)',\n",
       " 'Křižíkova ulice (Karlín)',\n",
       " 'Letenské sady (Letná)',\n",
       " 'Letiště Václava Havla /i interiér/ (Ruzyně)',\n",
       " 'Liberec',\n",
       " 'Loretánská ulice (Hradčany)',\n",
       " 'Luční ulice (Žižkov)',\n",
       " 'Lysá nad Labem (Česká republika)',\n",
       " 'Lyčkovo náměstí (Karlín)',\n",
       " 'Maltézské náměstí (Malá Strana)',\n",
       " 'Mladá Boleslav, Viničná ulice (Mladá Boleslav)',\n",
       " 'Modřany (Praha)',\n",
       " 'Most (Česká republika)',\n",
       " 'Mostecko',\n",
       " 'Mělník (Česká republika)',\n",
       " 'Nerudova ulice (Malá Strana)',\n",
       " 'New York (Spojené státy americké)',\n",
       " 'Nižbor (Česká republika)',\n",
       " 'Nosticova ulice (Malá Strana)',\n",
       " 'O2 arena /interiér/ (Libeň)',\n",
       " 'Olbramov (Česká republika)',\n",
       " 'Olomouc, ulice (Olomouc)',\n",
       " 'Opatovická ulice (Nové Město)',\n",
       " 'Petřín (Praha)',\n",
       " 'Pezinok (Slovensko)',\n",
       " 'Podolská ulice (Podolí)',\n",
       " 'Poprad (Slovensko)',\n",
       " 'Poupětova ulice (Holešovice)',\n",
       " 'Prachovské skály (Česká republika)',\n",
       " 'Praha a okolí',\n",
       " 'Praha, Bohnice (Praha)',\n",
       " 'Praha, Karlín (Praha)',\n",
       " 'Praha, Letná (Praha)',\n",
       " 'Praha, metro (Praha)',\n",
       " 'Radotín (Praha)',\n",
       " 'Reduta (Národní třída)',\n",
       " 'Rohanské nábřeží (Vltava)',\n",
       " 'Rusko, Moskva (Rusko)',\n",
       " 'Sanatorium sv. Anny /interiér/ (Luční ulice)',\n",
       " 'Skleněný palác /interiér/ (náměstí Svobody)',\n",
       " 'Slovensko, Žilina (Slovensko)',\n",
       " 'Smetanovo nábřeží (Staré Město)',\n",
       " 'Spojené státy americké, Kalifornie (Spojené státy americké)',\n",
       " 'Staroměstský orloj (Staroměstská radnice)',\n",
       " 'Staroměstský orloj (Staroměstské náměstí)',\n",
       " 'Staré náměstí (Ruzyně)',\n",
       " 'Starý židovský hřbitov (Josefov)',\n",
       " 'Strahovský klášter (Hradčany)',\n",
       " 'Suchdol (Praha)',\n",
       " 'Svätý Jur (Slovensko)',\n",
       " 'Technická ulice (Dejvice)',\n",
       " 'Thomayerova nemocnice (Krč)',\n",
       " 'Tomášikovo (Slovensko)',\n",
       " 'Trenčianske Teplice (Slovensko)',\n",
       " 'Trojická ulice (Nové Město)',\n",
       " 'USA, New York (USA)',\n",
       " 'Veletržní ulice (Holešovice)',\n",
       " 'Vinohradská třída (Vinohrady)',\n",
       " 'Vinohradská třída (Žižkov)',\n",
       " 'Vladivostocká ulice (Vršovice)',\n",
       " 'Vrchlického sady (Nové Město)',\n",
       " 'Vršovická ulice (Vršovice)',\n",
       " 'Vysoké Tatry (Slovensko)',\n",
       " 'Vítkov (Praha)',\n",
       " 'Vítkov (Žižkov)',\n",
       " 'Výstaviště (Brno)',\n",
       " 'Všeobecná fakultní nemocnice (Nové Město)',\n",
       " 'Zelená ulice (Dejvice)',\n",
       " 'Zličín (Praha)',\n",
       " 'Záběhlice (Praha)',\n",
       " 'chrám sv. Víta /i interiér/ (Pražský hrad)',\n",
       " 'filmové ateliéry (Barrandov)',\n",
       " 'hotel Pyramida (Bělohorská ulice)',\n",
       " 'kino (Lucerna)',\n",
       " 'kostel sv. Ludmily (náměstí Míru)',\n",
       " 'kostel sv. Mikuláše (Malostranské náměstí)',\n",
       " 'magistrála (Praha)',\n",
       " 'most Slovenského národního povstání (Dunaj)',\n",
       " 'nádraží (Smíchov)',\n",
       " 'náměstí Míru (Vinohrady)',\n",
       " 'náplavka (Vltava)',\n",
       " 'okolí (Písek)',\n",
       " 'panoráma (Praha)',\n",
       " 'panoráma (Pražský hrad)',\n",
       " 'přístav (Holešovice)',\n",
       " 'ulice (Praha)',\n",
       " 'ulice 28. pluku (Vršovice)',\n",
       " 'ulice Na Hrobci (Nové Město)',\n",
       " 'ulice Na Příkopě (Nové Město)',\n",
       " 'ulice Politických vězňů (Nové Město)',\n",
       " 'Ústavní ulice (Bohnice)',\n",
       " 'Černínský palác (Loretánské náměstí)',\n",
       " 'Česká televize /interiér/ (Kavčí hory)',\n",
       " 'České Budějovice (Česká republika)',\n",
       " 'Český ráj (Česká republika)',\n",
       " 'Řeporyje (Praha)',\n",
       " 'Štefánikova ulice (Smíchov)',\n",
       " 'Šumava (Česká republika)',\n",
       " 'Žilina (Slovensko)',\n",
       " 'Americká ulice (Vinohrady)',\n",
       " 'Anenské náměstí (Staré Město)',\n",
       " 'Archiv bezpečnostních složek /interiér/ (ulice Na Strouze)',\n",
       " 'Arkády Pankrác /interiér/ (ulice Na Pankráci)',\n",
       " 'Atletická ulice (Strahov)',\n",
       " 'Banská Bystrica (Slovensko)',\n",
       " 'Barrandov (Kříženeckého náměstí)',\n",
       " 'Basilejské náměstí (Žižkov)']"
      ]
     },
     "execution_count": 5,
     "metadata": {},
     "output_type": "execute_result"
    }
   ],
   "source": [
    "df.groupby(\"Lokace\")[\"Film\"].nunique().nlargest(300).index.to_list()"
   ]
  },
  {
   "cell_type": "code",
   "execution_count": 6,
   "id": "1ced1588",
   "metadata": {},
   "outputs": [],
   "source": [
    "def mesto(lokace):\n",
    "    \n",
    "    if isinstance(lokace, str):\n",
    "    \n",
    "        if \"(\" in lokace:\n",
    "\n",
    "            zavorka = lokace.split(\"(\")[1].replace(\")\",\"\").strip()\n",
    "\n",
    "            if zavorka in seznamy[\"praha\"]:\n",
    "\n",
    "                mesto = \"Praha\"\n",
    "\n",
    "            elif zavorka == \"Česká republika\":\n",
    "                \n",
    "                mesto = lokace.split(\"(\")[0].strip()\n",
    "            \n",
    "            else:\n",
    "\n",
    "                mesto = zavorka\n",
    "\n",
    "        else:\n",
    "            \n",
    "            mesto = lokace\n",
    "            \n",
    "        if \"Česká republika, \" in mesto:\n",
    "                \n",
    "            mesto = mesto.split(\",\")[1].strip()\n",
    "            \n",
    "    else:\n",
    "\n",
    "        mesto = lokace         \n",
    "        \n",
    "    return(mesto)"
   ]
  },
  {
   "cell_type": "code",
   "execution_count": 7,
   "id": "a9534146",
   "metadata": {
    "scrolled": true
   },
   "outputs": [
    {
     "data": {
      "text/plain": [
       "'Praha'"
      ]
     },
     "execution_count": 7,
     "metadata": {},
     "output_type": "execute_result"
    }
   ],
   "source": [
    "mesto(\"Celetná ulice (Staré Město)\")"
   ]
  },
  {
   "cell_type": "code",
   "execution_count": 1,
   "id": "3b51ed1c",
   "metadata": {},
   "outputs": [
    {
     "ename": "NameError",
     "evalue": "name 'df' is not defined",
     "output_type": "error",
     "traceback": [
      "\u001b[1;31m---------------------------------------------------------------------------\u001b[0m",
      "\u001b[1;31mNameError\u001b[0m                                 Traceback (most recent call last)",
      "Input \u001b[1;32mIn [1]\u001b[0m, in \u001b[0;36m<cell line: 1>\u001b[1;34m()\u001b[0m\n\u001b[1;32m----> 1\u001b[0m df[\u001b[38;5;124m\"\u001b[39m\u001b[38;5;124mMěsto\u001b[39m\u001b[38;5;124m\"\u001b[39m] \u001b[38;5;241m=\u001b[39m \u001b[43mdf\u001b[49m[\u001b[38;5;124m\"\u001b[39m\u001b[38;5;124mLokace\u001b[39m\u001b[38;5;124m\"\u001b[39m]\u001b[38;5;241m.\u001b[39mapply(\u001b[38;5;28;01mlambda\u001b[39;00m x: mesto(x))\n",
      "\u001b[1;31mNameError\u001b[0m: name 'df' is not defined"
     ]
    }
   ],
   "source": [
    "df[\"Město\"] = df[\"Lokace\"].apply(lambda x: mesto(x))"
   ]
  },
  {
   "cell_type": "code",
   "execution_count": 9,
   "id": "09e3e767",
   "metadata": {},
   "outputs": [
    {
     "data": {
      "text/plain": [
       "0                     Praha\n",
       "0                     Praha\n",
       "1                     Praha\n",
       "1                     Praha\n",
       "2                     Praha\n",
       "               ...         \n",
       "4554    ulice 17. listopadu\n",
       "4554                Olomouc\n",
       "4554                Olomouc\n",
       "4554                Olomouc\n",
       "4554                Olomouc\n",
       "Name: Město, Length: 11035, dtype: object"
      ]
     },
     "execution_count": 9,
     "metadata": {},
     "output_type": "execute_result"
    }
   ],
   "source": [
    "df[\"Město\"]"
   ]
  },
  {
   "cell_type": "code",
   "execution_count": 10,
   "id": "7be0212a",
   "metadata": {},
   "outputs": [
    {
     "data": {
      "text/plain": [
       "40                                           NaN\n",
       "42                                           NaN\n",
       "43                                           NaN\n",
       "44                                           NaN\n",
       "45                                           NaN\n",
       "                          ...                   \n",
       "4544    Česká republika, Praha (Česká republika)\n",
       "4547    Česká republika, Praha (Česká republika)\n",
       "4549    Česká republika, Praha (Česká republika)\n",
       "4550                                         NaN\n",
       "4551                                         NaN\n",
       "Name: Lokace, Length: 3958, dtype: object"
      ]
     },
     "execution_count": 10,
     "metadata": {},
     "output_type": "execute_result"
    }
   ],
   "source": [
    "df[df[\"Lokace\"].str.contains(\"Česká republika, \",na=True)][\"Lokace\"]"
   ]
  },
  {
   "cell_type": "code",
   "execution_count": 11,
   "id": "f718c361",
   "metadata": {},
   "outputs": [
    {
     "data": {
      "text/plain": [
       "'Praha, Slovensko, Brno, Francie, Německo, Polsko, Itálie, Rakousko, Bratislava, Spojené státy americké, USA, bez exteriérů, Velká Británie, Liberec, Ostrava, Ústí nad Labem, Olomouc, Plzeň, Zlín, Jaroměř, Hradec Králové, Jizerské hory, Kladno, Krkonoše, New York, Paříž, Beroun, Doksy, Nizozemsko, Rusko, Vysočany, Výstaviště, Španělsko, Kalifornie, Karlovy Vary, Kolín, Lucerna, Michle, Mikulov, Mladá Boleslav, Petřín, Praha a okolí, Slapy, Ukrajina, České Budějovice, Šumava, Švýcarsko, Brdy, Japonsko, Jihlava, Letňany, Loretánské náměstí, Maďarsko, Mělník, New York City, Norsko, Náchod, Nádražní ulice, Pardubice, Příbram, Stodůlky, Veltrusy, Vinohradská třída, Český ráj, Bedřichov, Broumov, Jindřišská ulice, Kouřim, Luční ulice, Lysá nad Labem, Mariánské náměstí, Masarykovo náměstí, Motol, Palackého náměstí, Poděbrady, Prostějov, Přerov nad Labem, Radotín, Slavíkova ulice, Spálená ulice, Staroměstská radnice, Sušice, Troja, Varnsdorf, Vysoké Tatry, Vyšehrad, Čína, Řecko, Špindlerův Mlýn, Štefánikova ulice, Austrálie, Bartolomějská ulice, Bechyně, Brandýs nad Labem, Connecticut, Dunaj, Děčín, Finsko, Hartmanice, Hodonín, Horní náměstí, Hostivař, Husova ulice, Indie, Izrael, Jablonec nad Nisou, Jevany, Kanada, Klatovy, Kokořínsko, Komenského ulice, Králův Dvůr, Lužná u Rakovníka, Most, Mostecko, Máchovo jezero, Nižbor, Národní divadlo, Olbramov, Opava, Pec pod Sněžkou, Pezinok, Poupětova ulice, Prachovské skály, Pražská ulice, Pákistán, Písek, Rumunsko, Slaný, Slavonice, Slovanský ostrov, Soběšín, Sokolovská ulice, Staré Město pod Landštejnem, Staré město, Staré náměstí, Strahovský klášter, Suchdol, Technická ulice, Telč, Terezín, Thajsko, Trenčín, Veleslavínova ulice, Veletržní ulice, Vokovice, Vítkov, Všeobecná fakultní nemocnice, Zlín /dříve Gottwaldov/, Záběhlice, metro, náměstí T. G. Masaryka, ulice Na Františku, ulice Na Příkopě, ulice Ve Smečkách, Ústavní ulice, Černošice, Řevnice, Švédsko, Afghánistán, Anenské náměstí, Antarktida, Banát, Blatná, Boletice, Bosna a Hercegovina, Braník, Brazílie, Budapešť, Bulharsko, Buštěhrad, Chabařovická ulice, Chorvatsko, Chudenice, Denisova ulice, Dobřichovice, Dobříš, Doksany, Dolní Břežany, Doubice, Dubeč, Duchcov, Dánsko, Dříteň, Halenkovice, Havajské ostrovy, Hejnice, Hlavní ulice, Hněvotínská ulice, Holašovice, Horská Kvilda, Hořice v Podkrkonoší, Hořovice, Hracholusky, Hvězda, Háje, Hýskov, Island, Janovského ulice, Jateční ulice, Jetřichovice, Jihoafrická republika, Jihoafrická republika, Kanárské ostrovy, Jindřichův Hradec, Josefov, Kadaň, Kanárské ostrovy, Karlova ulice, Karlovo náměstí, Karlínské náměstí, Karviná, Kaznějov, Keňa, Klánovice, Komárov, Koulova ulice, Kozákov, Košíře, Krňany, Kubelíkova ulice, Kunratice, Kutná Hora, Kynšperk nad Ohří, Křemencova ulice, Křivoklát, Křivoklátsko, Křtiny, Kříženeckého náměstí, Lažanský palác, Lichoceves, Lipno nad Vltavou, Liteň, Litoměřice, Litvínov, Londýn, Los Angeles, Lukov, Lány, Lázně Libverda, Malešice, Manětín, Michalská ulice, Milevská ulice, Mlynská dolina, Modřany, Moravský kras, Moskva, Mostecko, zámek Jezeří, Mořina, Mánesova ulice, Mýtna ulice, Nerudova ulice, Nová Paka, Nové Mexiko, Nové Strašecí, Nové město, Nuselská ulice, Nymburk, Opletalova ulice, Otrokovice, Palác Akropolis, Podlešín, Podolská ulice, Přibyslav, Příhrazské skály, Radlice, Rakovník, Ralsko, Rašínovo nábřeží, Rooseveltova ulice, Roudnice nad Labem, Rožnov pod Radhoštěm, Rusava, Ružomberok, Saská ulice, Sedličky, Senotín, Slavkov u Brna, Slovinsko, Sokolská ulice, Spojené arabské emiráty, Spolková republika Německo, Svatý Kopeček, Svrkyně, Teplice, Tomášikovo, Tovární ulice, Trnava, Turnov, Tusarova ulice, Utah, Vančurova ulice, Veleslavín, Veletržní palác, Velhartice, Velichovky, Velké Karlovice, Vinařice, Vinohradský hřbitov, Vltava, Vlčková, Vojenský újezd Brdy, Voznice, Vrané nad Vltavou, Vratislav /Wrocław/, Vsetín, Vídeň, Zadní Kopanina, Zbraslav, Zdice, Znojmo, Ztracená ulice, Zvíkov, Záboří, nábřeží Ludvíka Svobody, náměstí 14. října, náměstí Hrdinů, náměstí Jiřího z Poděbrad, okolí, ostrov Štvanice, pasáž U Stýblů, ulice 17. listopadu, ulice 28. pluku, ulice Cejl, ulice Karolíny Světlé, ulice Na Rejdišti, ulice Tržiště, ulice U Božích bojovníků, ulice U Nemocnice, ulice U Sovových mlýnů, ulice Újezd, zámek, Úštěk, Čechův most, Čeladná, Černá Hora, Černá Pole, Česká Skalice, Česká republika, České středohoří, Český Krumlov, Český kras, Čáslav, řeka Otava, řeka Sázava, Školní ulice, Štramberk, Žatec, Žilina, Žítková, Abbey Road, Adamov, Adamov, Tanvald, Nové Město pod Smrkem, Železný Brod, Adršpašsko-teplické skály, Adršpašsko–teplické skály, Afgánistán, Aksamitová ulice, Al-Baladiya, Alanya, Albertov, Albeř, Albrechtice v Jizerských horách, Allée de Brno, Americká ulice, Amsterdam, Anděl, Anglické nábřeží, Annecy, Annín, Apolinářská ulice, Argentina, Arizona, Atletická ulice, Aubusson u Guéretu, Austrálie, Východní Timor, Indonésie, Malajsie, Thajsko, Autokemp Olšovec, Aš, Bangkok, Bankside, Banská Bystrica, Barbados, Barcelona, Bartoňova ulice, Bavoryně, Beethovenova ulice, Belgie, Bellova ulice, Benešov, Benešov u Prahy, Benice, Benátky, Berlín, Bernartice u Javorníka, Bernartice u Javorníku, Beroun, Křivoklát, Otava, Kouřim, Mělník, Šumava, Beroun, Milovice, Berounka, Berounsko, Besední dům /i interiér/, Besední ulice, Betlém, Betlémské náměstí, Bezdružice /nádraží/, Bezděkov, Biancun, Biele Vody, Biskupcova ulice, Blansko, Blatno u Jesenice, Blízkov /i okolí/, Boloňa /Bologna/, Borek, Borkovice, Děčínský Sněžník, Hoslovice, Ještěd, Ledčice, Borovnice, Boskovice a okolí, Botanická zahrada hlavního města Prahy, Boulevard Saint-Martin, Bořejov, Bořena Hora, Budčice, Český Šternberk, Hamry nad Sázavou, Kácov Martinice, Olbramovice, Podveky, Praha – okolí, Soutice, Stvořidla, Sudějov, Vlašim, Bořivojova ulice, Božetěchova ulice, Božice, Boží Dar, Brandejsovo náměstí, Brandlova ulice, Brandýs nad Labem, Liblice u Mělníka, Mělník, Havlín, Okoř, Brandýs nad Labem, Podbořansko, Nechranická přehrada, Žatecko, Mostecko, Bratislavský kraj, Brdo, Brečtanová ulice, Brloh, Brno, Uhorná, Soběslav, Jindřichův Hradec, Šumperk, Znojmo, Stříbro, Liberec, Karviná, České Budějovice, Trutnov, Bohumín, Plzeň, Kladno, Rudolfov, Strážnice, Cheb, Litoměřice, Kostelec nad Vltavou, Brná, Broumy, Broučkova ulice, Brtníky, Bubenská ulice, Bubenské nábřeží, Buk, Bykoš u Berouna, Bystré u Poličky, Bystřice pod Lopeníkem, Bystřice u Třince, Bánov, Bílina u Teplic, Bílina, Teplice, Týnec, Bílý Potok, Běhounská ulice, Bělorusko, Bělá pod Bezdězem, Břeclav, Břehová ulice, Břetislav, Březnická ulice, Březová u Sokolova, Březová u Uherského Brodu, Břečtanová ulice, Calgary, Cemjata, Centrální park Pankrác, Chanute, Chaplinovo náměstí, Charvatce, Chile, Chlumec, Chlumova ulice, Chmelenská ulice, Chocerady, Chomutov, Chopok, Chorvatsko, Maďarsko, Chotouň, Chotíkov, Chotěboř, Chotěvice, Chrast u Chrudimi, Chrustenice, Chráněná krajinná oblast Kokořín, Chráněná krajinná oblast Křivoklátsko, Chráněná krajinná oblast Pálava, Panská skála /Varhany/ u Kamenického Šenova, Chráněná krajinná oblast Pálava, Chrášťany u Rakovníka, Chuchelna u Semil, Chvaletice, Chvalšinská ulice, Chýnice, Cimburkova ulice, Clam-gallasovská obora, Cornštejn, Bruntál, Náměšť nad Oslavou, Rožnov pod Radhoštěm, Církvice, Dalešice, Dalešice u Třebíče, Davídkova ulice, Daxnerova ulice, Deauville, Divadelní ulice, Dlouhá Ves, Dlouhá ulice, Dobrovíz, Dobčice, Dobříš a okolí, Dolní Bousov a okolí, Dolní Hbity, Dolní Heřmanice, Dolní Kalná, Dolní Kounice, Dolní Lomná, Dolní Planá, Dolní Radíkov, Dolní Tupadly, Domažlicko, Dominikánská republika, Tunisko, Egypt, Dominikánské náměstí, Domov svatého Josefa, Donovalská ulice, Doupě, Drahomyšl, Drahonice, Dražovce, Drslavice, Drábské světničky, Dubany u Pardubic, Dubnice, Dubá, Dubí, Dubňany, Duchcov, Děčín, Krupka, Vítkov na Opavsku, Ostrava, Duhová ulice, Dvořákova ulice, Dvořákovo nábřeží, Dvůr Králové nad Labem, Dvůr Králové nad Labem /a okolí/, Dürnkrut, Düsseldorf, Dědkov, Dědkovská hora, Děčín, ulice Májová, Herna bar U Davida, kino Sněžník, Klub Sportka, Březiny, Velká Bukovina, Děčínský Sněžník, Dříteč, East Finchley, Elisabeth Street, Evropská třída, Fakultní Thomayerova nemocnice, Fifejdy, Filozofická fakulta Univerzity Palackého, Folimanka, Fortis Green, Francouzská ulice, Františkovy Lázně, Brandýs nad Labem, Frenštát pod Radhoštěm, Frýdek-Místek, Frýdek–Místek, Frýdlant, Galerie Harfa, Gdaňsk /Gdańsk/, Glastonbury, Golanské výšiny, Gorkého ulice, Greatstone, Greenburgh, Gruzie, Grösslingová ulice, Góra Kalwaria, Habsburg, Halenkov, Halenárska ulice, Hamr u Římova, Hanksville, Hanspaulka, Harrachov, Harrachova ulice, Havanská ulice, Havelská ulice, Havlíčkovo nábřeží, Havlíčkův Brod, Havraň, Havířov, Haštalské náměstí, Hellichova ulice, Heyrovského náměstí, Heřmanova ulice, Himaláj, Hlavní třída, Hlohovec u Břeclavi, Hloubětín, Hluboká nad Vltavou, Hlubočepy u Prahy, Hodonínsko, Holany, Holetown, Holý vrch, Homepark Zličín, Hornopolní ulice, Horní Beřkovice, Horní Blatná, Horní Jelení, Horní Jiřetín a okolí, Praha, Horní Lhota u Ostravy, Horní Počernice, Horní Vítkov, Horní Věstonice, Strachotín, Perná, Pavlov, Horní nábřeží, Horní Řasnice, Hostýnské vrchy, Hotel NH Prague City, Hořenec, Hořice na Šumavě, Hořovice, Jihlava, Kladno, Žebrák, Hradební ulice, Hradec nad Moravicí, Hradiště, okolí Vlašimi, Kácov, okolí Slap, Hýskov u Berouna, Hranice, Hranice na Moravě, Lipník nad Bečvou, Hrubá Skála, Hrčava, Hurbanovo náměstí, Hustopeče, Hustířany, Hviezdoslavovo náměstí, Hůrka, IJpromenade, Ibsenova ulice, Iffezheim u Baden Badenu, Illinois, Irsko, Irvington, Irák, Islámábád, Italská ulice, Itálie: Benátky, Hrad Kokořín, Ivančice, Jablonec, Jablonné nad Orlicí, Jablonné v Podještědí, Jablonské nábřeží, Jabloňov, Jablunkov, Hrádek, Dolní Lomná, Nová Polana, Třinec, Český Těšín, Hrčava, Bystřice nad Olší, Vendryně, Jablůnka, Jakubská ulice, Jakubské náměstí, Jalubí, Jankovcova ulice, Janská, Janské Lázně, Janáčkovo nábřeží, Jaroměř a okolí, Josefov, Jaroměřice nad Rokytnou, Jaronice, Jaroslavice, Jasná, Javůrek, Jedovnice, Jeruzalémská ulice, Jesenice, Jeseník, Jevišovice, Hnánice, Rozkoš, Střelice, Jackov, Rácovice, Moravské Budějovice, Třebelice, Jevišovka, Jilemnice, Jimramov, Jince, Jindřichovice, Jinonice, Jizerka, Jičín, Jičínská pahorkatina, Jičíněves, Jiřího náměstí, Jiříkov, Jiříkov na Bruntálsku, Jižní Korea, Jižní Město, Jižní Shetland, Jižní Shetlandy, Jižní Čechy, Josefův Důl, Jungmannova ulice, Jurečkova ulice, Jánské Lázně, Jílové, Jílové u Prahy, Jílové u Prahy, Rataje nad Sázavou, Dalovice, Psáry, Kalifornie /California/, Kalkata, Kalčuga, Kamakya, Kamenná, Kamenný Újezd, Jílové u Prahy, Kamenný Újezdec, Kamýk, Kamýk nad Vltavou, Kansas, Kapitulská ulice, Kaproun, Karlov, Karlovy Vary, Mariánské lázně, Praha, Karlovy Vary, Prachatice, Březina u Poličky, Hrádek nad Nisou, Karlův hrádek, Karmelitská ulice, Karákóram, Karáčí, Kazanlak, Kačerov, Kašperské hory, Kersko, Kežmarok, Kladno a okolí, Praha a okolí, Kladruby, Kladsko /Kłodzko/, Kladská u Mariánských Lázní, Klatovská třída, Klecany, Kleť, Klášter Hradiště nad Jizerou, Klášter u Nové Bystřice, Knovíz, Knovíz, Praha, Kněžmost, Kobeřice u Brna, Kobyliské náměstí, Kodaň, Kokořínsko, Studia Three Brothers, Kolbenova ulice, Kolesa Karlovy Vary, Kolešovice, Kolimbia, Kollárova ulice, Kollárovo náměstí, Kolumbie, Kolín, Morava, Kolínec, Komenského náměstí, Komořany, Komňa, Kongresové centrum, Koněprusy, Kopec u Brtníků, Kopečná ulice, Kopidlno, Korkyně, Korpacz, Korunovační ulice, Kosmická ulice, Kosmonosy, Kosov u Berouna, Kostelec nad Orlicí, Kostelní náměstí, Kostelní ulice, Kounice, Kounicova ulice, Kozia ulice, Kozlov u Jihlavy, Kozojedy u Prahy, Kozí hřbety, Kořenov, Košický kraj, Koželužská ulice, Krakov /Kraków/, Kralupská ulice, Kralupy nad Vltavou, Kralupy nad Vltavou, Velvary, Kladno, věznice Oráčov, Krameriova ulice, Kramolna, Kremže, Krompach, Kroměříž, Krupá u Rakovníka, Krušné hory, Krynica Morska, Kryštofovo údolí, Kryštofovy Hamry, Králodvorská ulice, Krásno nad Kysucou, Krásná Lípa, Krásné u Nového Města na Moravě, Kublov, Kunovice, Kunvald, Kunčice pod Ondřejníkem, Kunějov, Valeč, Borotín, Kunštát, Kunžak, Kuřívody, Květnice, Kyjevská ulice, Kytlice-Falknov, Kácov, Kájov, Kúty, Křenovice u Slavkova, Křižovnické náměstí, Křižíkova ulice, Křídlovická ulice, Křížkovského ulice, Křížovnické náměstí, Křížová ulice, Labe, Lazaretská ulice, Lazarská ulice, Lažánky u Tišnova, Ledeč nad Sázavou, Ledeč, Heřmaň, Soběšín, Stříbrná Skalice, Kácov nad Sázavou, Smrčná, Chabeřice, Leningradský prospekt, Leopoldov, Letecká ulice, Letiště Brno-Tuřany, Letohradská ulice, Lety u Písku, Levín, Lešany u Týnce nad Sázavou, Lešetice u Příbrami, Lešná u Valašského Meziříčí, Lešná u Valašského Meziříčí, Velké Karlovice, Jezerné, Semetín u Vsetína, Malá Bystřice, Valašská Polanka, Valašské Klobouky, Valašská Bystřice, Prlov, Lužná, Jasenná, Vsetín, Rožnov pod Radhoštěm, Valašské Meziříčí, Frenštát pod Radhoštěm, Podlesí u Valašského Meziříčí, Zašová, Soláň, Pržno, Jablůnka, Jarcová, Bystřička, Praha, Rakovník, Lhotka, Lhotka u Kremže, Liberecká ulice, Liberty Island, Libkovice, Liboc, Liboháj, Libošovice, Libuš, Libušská ulice, Libušín u Kladna, Družec u Kladna, Hořovice /okolí/, Brdy, Libčeves, Libčice nad Vltavou, Liběchov, Licheń Stary, Lichtenštejnský palác, Lidice, Linecká ulice, Lipnice, Lipnice nad Sázavou /a okolí/, Lipno, Lipová-lázně, Liptovský Mikuláš, Litomyšl, Litoměřice, zámek Ploskovice, Lovosice, Praha, zámek Veltrusy, Lišov, Lobkovický palác, Lochkov, Lochotín, Lochovice, Hořovice, Praha, Kozolupy, Tlustice, Loděnice, Lomená ulice, Londýn /London/, Londýn /ulice/, Londýn, Plešivec, Lopeník, Lotyšsko, Lotyšsko, Ukrajina, Česká republika, Lovosice, Lucembursko, Lucerna /i interiér/, Lučany nad Nisou, Lužec, Lvov, Lysá nad Labem, Plasy, Mělník, Český Krumlov, Tábor, Řitka u Prahy, Praha, Lyubʹyazʹ, Lyčkovo náměstí, Lány u Kladna, Lázně Mšené, Lázně Toušeň, Líbeznice, Líšno, Líšná, Líšná u Zbirohu, Maiselova ulice, Makedonie, Malenice, Malenovice u Zlína, Malešická ulice, Malešov, Malostranská náměstí, Malostranská sokolovna, Malostranská ulice, Maltézské náměstí, Malá Strana, Malá pevnost, Malá Úpa, Malý Lapáš, Manhattan, Maria Saal, Marianki, Mariánskolázeňská ulice, Maroko, Martin, Martin Brod, Martinice u Dolních Kralovic, Martinice u Dolních Kralovic, Dolní Kralovice, Václavice, Světlá nad Sázavou, Šetějovice, Pyšely, Praha, Martinské stěny, Masarykovo nábřeží, Masarykovo nábřeží /dříve Riegrovo nábřeží/, Mařenice, Mařákova ulice, Medkovy Kopce u Hlinska, Melantrichova ulice, Melechov, Merano, Merklín, Mersea Island, Metodějova ulice, Metro, Mexiko, Meziříčko, Mikulova ulice, Milevsko, Milovice, Milovice, Kvilda, Milíčov, Mimoň, Minice, Ministerstvo obrany České republiky, Mirotice, Mirotice, Písek, Most, Braňany, Pavlov, Mladotice, Mladá Boleslav /letiště/, Mlynky, Mlékojedy, Mníšecká ulice, Mníšek pod Brdy, Modlany u Teplic, Modrava, Modrá u Velehradu, Modřanská ulice, Mokropsy, Mongolsko, Dánsko, Moninec, Montreal, Moravská Nová Ves, Moravské Křižánky, Mostecko, Most, Mostecko, Most, zámek Jezeří, Mouřenec, Mouřínov u Bučovic, Milotice, Modrá u Velehradu, Mozartova ulice, Mořina, Příbramsko, Karlštejnsko, Mořinka u Berouna, Mratín, Mukařov, Muswell Hill, Myštice, Mánes, Mánesův most, Mírové náměstí, Mělnicko, Mělnická Vrutice, Mělník, Vinařice, Roztoky u Prahy, Čimice, Městec Králové, Městečko u Křivoklátu, Měšice u Prahy, Měšická ulice, Měšín u Jihlavy, Měšťanská beseda, Mšené–lázně, Nademlejnská ulice, Nairobi, Napajedla a okolí, Navarov, Nažidla, Nechanice u Hradce Králové, Nechvalice, Nedvědice, Nedvědovo náměstí, Neherovská ulice, Nelahozeves, Nepomuk, Nepál, Neratovice, Netolice, Nevřeň, New Haven, Nečtiny, Nitra /ulice i okolí/, Nitranský hrad, Nizozemí, Nosticova ulice, Nouzov, Nouzov u Kladna, Novoborsko, Novobranská ulice, Novohradské hory, Novostrašnická ulice, Nová Bystřice, Nová Role, Nová Ruda /Nowa Ruda/, Nová Ves pod Pleší, Nová radnice, Nové Butovice, Nové Hrady, Nové Město na Moravě, Nové Město nad Metují, Nové Město pod Smrkem, Nové Sady u Písečné, Nový Jižní Wales, Nový Přerov, Nymburk a okolí, Nábřeží Ludvíka Svobody, Nákladní ulice, Náklo, Náměstí Alexandra Dubčeka, Náměstí Jiřího z Poděbrad'"
      ]
     },
     "execution_count": 11,
     "metadata": {},
     "output_type": "execute_result"
    }
   ],
   "source": [
    "\", \".join(df.groupby(\"Město\")[\"Film\"].nunique().nlargest(1000).index.to_list())"
   ]
  },
  {
   "cell_type": "markdown",
   "id": "7070052b",
   "metadata": {},
   "source": [
    "## Tak co teď?"
   ]
  },
  {
   "cell_type": "code",
   "execution_count": 12,
   "id": "b3d2515a",
   "metadata": {},
   "outputs": [],
   "source": [
    "hcf = df[df[\"Délka\"] == \"dlouhometrážní\"].explode(\"Typologie\")\n",
    "hcf = hcf[hcf[\"Typologie\"] == \"hraný\"]\n",
    "hcf = hcf[hcf[\"Copyright\"] >= 1999]"
   ]
  },
  {
   "cell_type": "code",
   "execution_count": 13,
   "id": "c9c58439",
   "metadata": {},
   "outputs": [
    {
     "data": {
      "text/plain": [
       "576"
      ]
     },
     "execution_count": 13,
     "metadata": {},
     "output_type": "execute_result"
    }
   ],
   "source": [
    "hcf[\"Film\"].nunique()"
   ]
  },
  {
   "cell_type": "code",
   "execution_count": 14,
   "id": "6f398160",
   "metadata": {},
   "outputs": [
    {
     "data": {
      "text/plain": [
       "Město\n",
       "Praha                 169\n",
       "Slovensko              52\n",
       "Brno                   10\n",
       "Jaroměř                 9\n",
       "Bratislava              8\n",
       "Rakousko                8\n",
       "Beroun                  7\n",
       "Kladno                  7\n",
       "Zlín                    7\n",
       "Hradec Králové          6\n",
       "Itálie                  6\n",
       "Liberec                 6\n",
       "Mladá Boleslav          6\n",
       "Olomouc                 6\n",
       "Polsko                  6\n",
       "Praha a okolí           6\n",
       "Vysočany                6\n",
       "Francie                 5\n",
       "Německo                 5\n",
       "Ostrava                 5\n",
       "Plzeň                   5\n",
       "Ústí nad Labem          5\n",
       "Brdy                    4\n",
       "Doksy                   4\n",
       "Jizerské hory           4\n",
       "Karlovy Vary            4\n",
       "Kolín                   4\n",
       "Kouřim                  4\n",
       "Luční ulice             4\n",
       "Michle                  4\n",
       "Mikulov                 4\n",
       "Mělník                  4\n",
       "Nádražní ulice          4\n",
       "Přerov nad Labem        4\n",
       "Příbram                 4\n",
       "Slapy                   4\n",
       "Veltrusy                4\n",
       "Vinohradská třída       4\n",
       "Brandýs nad Labem       3\n",
       "Dunaj                   3\n",
       "Letňany                 3\n",
       "Loretánské náměstí      3\n",
       "Lucerna                 3\n",
       "Lužná u Rakovníka       3\n",
       "Lysá nad Labem          3\n",
       "Norsko                  3\n",
       "Náchod                  3\n",
       "Petřín                  3\n",
       "Pezinok                 3\n",
       "Poděbrady               3\n",
       "Name: Film, dtype: int64"
      ]
     },
     "execution_count": 14,
     "metadata": {},
     "output_type": "execute_result"
    }
   ],
   "source": [
    "hcf.groupby(\"Město\")[\"Film\"].nunique().nlargest(50)"
   ]
  },
  {
   "cell_type": "code",
   "execution_count": 15,
   "id": "b17d5172",
   "metadata": {},
   "outputs": [
    {
     "name": "stderr",
     "output_type": "stream",
     "text": [
      "C:\\Users\\micha\\AppData\\Local\\Temp\\ipykernel_10568\\3879034159.py:1: UserWarning: This pattern is interpreted as a regular expression, and has match groups. To actually get the groups, use str.extract.\n",
      "  df[df[\"Lokace\"].str.lower().str.contains(\"(česká republika)\", na=False)].groupby(\"Lokace\")[\"Film\"].nunique().nlargest(50)\n"
     ]
    },
    {
     "data": {
      "text/plain": [
       "Lokace\n",
       "Česká republika, Praha (Česká republika)    101\n",
       "Praha (Česká republika)                      36\n",
       "Brno (Česká republika)                       14\n",
       "Česká republika, Brno (Česká republika)      10\n",
       "Ostrava (Česká republika)                     7\n",
       "Plzeň (Česká republika)                       6\n",
       "Jaroměř (Česká republika)                     5\n",
       "Kolín (Česká republika)                       5\n",
       "Krkonoše (Česká republika)                    5\n",
       "Olomouc (Česká republika)                     5\n",
       "Veltrusy (Česká republika)                    5\n",
       "Doksy (Česká republika)                       4\n",
       "Hradec Králové (Česká republika)              4\n",
       "Jihlava (Česká republika)                     4\n",
       "Slapy (Česká republika)                       4\n",
       "Zlín (Česká republika)                        4\n",
       "Ústí nad Labem (Česká republika)              4\n",
       "Beroun (Česká republika)                      3\n",
       "Brdy (Česká republika)                        3\n",
       "Broumov (Česká republika)                     3\n",
       "Jablonec nad Nisou (Česká republika)          3\n",
       "Jizerské hory (Česká republika)               3\n",
       "Lysá nad Labem (Česká republika)              3\n",
       "Most (Česká republika)                        3\n",
       "Mělník (Česká republika)                      3\n",
       "Nižbor (Česká republika)                      3\n",
       "Olbramov (Česká republika)                    3\n",
       "Prachovské skály (Česká republika)            3\n",
       "České Budějovice (Česká republika)            3\n",
       "Český ráj (Česká republika)                   3\n",
       "Šumava (Česká republika)                      3\n",
       "Bedřichov (Česká republika)                   2\n",
       "Blatná (Česká republika)                      2\n",
       "Boletice (Česká republika)                    2\n",
       "Brandýs nad Labem (Česká republika)           2\n",
       "Doubice (Česká republika)                     2\n",
       "Děčín (Česká republika)                       2\n",
       "Halenkovice (Česká republika)                 2\n",
       "Hartmanice (Česká republika)                  2\n",
       "Hejnice (Česká republika)                     2\n",
       "Hodonín (Česká republika)                     2\n",
       "Horská Kvilda (Česká republika)               2\n",
       "Hořovice (Česká republika)                    2\n",
       "Josefov (Česká republika)                     2\n",
       "Karlovy Vary (Česká republika)                2\n",
       "Kokořínsko (Česká republika)                  2\n",
       "Králův Dvůr (Česká republika)                 2\n",
       "Kutná Hora (Česká republika)                  2\n",
       "Křtiny (Česká republika)                      2\n",
       "Liberec (Česká republika)                     2\n",
       "Name: Film, dtype: int64"
      ]
     },
     "execution_count": 15,
     "metadata": {},
     "output_type": "execute_result"
    }
   ],
   "source": [
    "df[df[\"Lokace\"].str.lower().str.contains(\"(česká republika)\", na=False)].groupby(\"Lokace\")[\"Film\"].nunique().nlargest(50)"
   ]
  },
  {
   "cell_type": "code",
   "execution_count": 16,
   "id": "c5128678",
   "metadata": {},
   "outputs": [
    {
     "data": {
      "text/plain": [
       "Lokace\n",
       "Denisova ulice (Olomouc)                                                3\n",
       "Mladá Boleslav, Viničná ulice (Mladá Boleslav)                          3\n",
       "Olomouc, ulice (Olomouc)                                                3\n",
       "Sanatorium sv. Anny /interiér/ (Luční ulice)                            3\n",
       "Hněvotínská ulice (Olomouc)                                             2\n",
       "Kamýcká ulice (Suchdol)                                                 2\n",
       "Kladno, Vančurova ulice (Kladno)                                        2\n",
       "Kounicova ulice (Brno)                                                  2\n",
       "Kozia ulice (Bratislava)                                                2\n",
       "Křížkovského ulice (Olomouc)                                            2\n",
       "Linecká ulice (Český Krumlov)                                           2\n",
       "Mýtna ulice (Bratislava)                                                2\n",
       "Poděbradská ulice (Vysočany)                                            2\n",
       "Pribinova ulice (Bratislava)                                            2\n",
       "V Tower (Milevská ulice)                                                2\n",
       "Viničná ulice (Mladá Boleslav)                                          2\n",
       "Východní ulice (Varnsdorf)                                              2\n",
       "káznice (ulice Cejl)                                                    2\n",
       "oblastní nemocnice /interiér/ (Vančurova ulice)                         2\n",
       "ulice (Paříž)                                                           2\n",
       "ulice 1. máje (Olomouc)                                                 2\n",
       "ulice Cejl (Brno)                                                       2\n",
       "Žitavská ulice (Varnsdorf)                                              2\n",
       "Akademie výtvarných umění /interiér/ (ulice U Akademie)                 1\n",
       "Akademie řemesel Praha – Střední škola technická (ulice Zelený pruh)    1\n",
       "Aksamitová ulice (Olomouc)                                              1\n",
       "Bagarova ulice (Trenčianske Teplice)                                    1\n",
       "Banícka ulice (Poprad)                                                  1\n",
       "Bartoňova ulice (Náchod)                                                1\n",
       "Baráčnická rychta (ulice Tržiště)                                       1\n",
       "Beach Volleyball Klánovice (ulice V Jehličině)                          1\n",
       "Beachklub Ládví (Chabařovická ulice)                                    1\n",
       "Beethovenova ulice (Brno)                                               1\n",
       "Bellova ulice (Petrovice)                                               1\n",
       "Bendlova ulice (Olomouc)                                                1\n",
       "Benešov u Prahy, Táborská ulice (Benešov u Prahy)                       1\n",
       "Benešova ulice (Jihlava)                                                1\n",
       "Beroun, Pardubice, Komenského ulice (Pardubice)                         1\n",
       "Besední dům /i interiér/ (Husova ulice)                                 1\n",
       "Bio Oko /i interiér/ (ulice Františka Křížka)                           1\n",
       "Bistro U Veselé kozy /interiér/ (Nádražní ulice)                        1\n",
       "Botanická zahrada hlavního města Prahy (Trojská ulice)                  1\n",
       "Božetěchova ulice (Brno)                                                1\n",
       "Bratislavská ulice (Varnsdorf)                                          1\n",
       "Brečtanová ulice (Bratislava)                                           1\n",
       "Brno, ulice (Brno)                                                      1\n",
       "Broučkova ulice (Zlín)                                                  1\n",
       "Brázdimská ulice (Brandýs nad Labem)                                    1\n",
       "Buštěhrad, ulice Na Bouchalce (Buštěhrad)                               1\n",
       "Běhounská ulice (Brno)                                                  1\n",
       "Name: Film, dtype: int64"
      ]
     },
     "execution_count": 16,
     "metadata": {},
     "output_type": "execute_result"
    }
   ],
   "source": [
    "df[(df[\"Město\"] != \"Praha\") & (df[\"Lokace\"].str.lower().str.contains(\"ulice\", na=False))].groupby(\"Lokace\")[\"Film\"].nunique().nlargest(50)"
   ]
  },
  {
   "cell_type": "code",
   "execution_count": 17,
   "id": "7486f7ae",
   "metadata": {},
   "outputs": [
    {
     "data": {
      "text/plain": [
       "Lokace\n",
       "Vodičkova ulice (Nové Město)                      12\n",
       "Pernerova ulice (Karlín)                           9\n",
       "Praha, ulice (Praha)                               8\n",
       "Bělohorská ulice (Břevnov)                         6\n",
       "Lucerna (Vodičkova ulice)                          6\n",
       "Pařížská ulice (Staré Město)                       6\n",
       "Vinohradská ulice (Vinohrady)                      6\n",
       "ulice Komunardů (Holešovice)                       6\n",
       "Dejvická ulice (Dejvice)                           5\n",
       "Hellichova ulice (Malá Strana)                     5\n",
       "Jindřišská ulice (Nové Město)                      5\n",
       "Koulova ulice (Dejvice)                            5\n",
       "Nádražní ulice (Smíchov)                           5\n",
       "Sněmovní ulice (Malá Strana)                       5\n",
       "Spálená ulice (Nové Město)                         5\n",
       "Tusarova ulice (Holešovice)                        5\n",
       "ulice Na Pankráci (Nusle)                          5\n",
       "Bartolomějská ulice (Staré Město)                  4\n",
       "Jankovcova ulice (Holešovice)                      4\n",
       "Karmelitská ulice (Malá Strana)                    4\n",
       "Seifertova ulice (Žižkov)                          4\n",
       "Slavíkova ulice (Žižkov)                           4\n",
       "Sokolovská ulice (Karlín)                          4\n",
       "Sokolská ulice (Nové Město)                        4\n",
       "Vodičkova ulice (Praha)                            4\n",
       "ulice Na Františku (Staré Město)                   4\n",
       "Denisova ulice (Olomouc)                           3\n",
       "Husova ulice (Staré Město)                         3\n",
       "Karlova ulice (Staré Město)                        3\n",
       "Kubelíkova ulice (Žižkov)                          3\n",
       "Křižíkova ulice (Karlín)                           3\n",
       "Loretánská ulice (Hradčany)                        3\n",
       "Luční ulice (Žižkov)                               3\n",
       "Mladá Boleslav, Viničná ulice (Mladá Boleslav)     3\n",
       "Nerudova ulice (Malá Strana)                       3\n",
       "Nosticova ulice (Malá Strana)                      3\n",
       "Olomouc, ulice (Olomouc)                           3\n",
       "Opatovická ulice (Nové Město)                      3\n",
       "Podolská ulice (Podolí)                            3\n",
       "Poupětova ulice (Holešovice)                       3\n",
       "Sanatorium sv. Anny /interiér/ (Luční ulice)       3\n",
       "Technická ulice (Dejvice)                          3\n",
       "Trojická ulice (Nové Město)                        3\n",
       "Veletržní ulice (Holešovice)                       3\n",
       "Vladivostocká ulice (Vršovice)                     3\n",
       "Vršovická ulice (Vršovice)                         3\n",
       "Zelená ulice (Dejvice)                             3\n",
       "hotel Pyramida (Bělohorská ulice)                  3\n",
       "ulice (Praha)                                      3\n",
       "ulice 28. pluku (Vršovice)                         3\n",
       "Name: Film, dtype: int64"
      ]
     },
     "execution_count": 17,
     "metadata": {},
     "output_type": "execute_result"
    }
   ],
   "source": [
    "df[df[\"Lokace\"].str.lower().str.contains(\"ulice\", na=False)].groupby(\"Lokace\")[\"Film\"].nunique().nlargest(50)"
   ]
  },
  {
   "cell_type": "code",
   "execution_count": 18,
   "id": "2b03377d",
   "metadata": {},
   "outputs": [
    {
     "data": {
      "text/plain": [
       "Lokace\n",
       "Mostecko, zámek Jezeří                                                                                                                                                       2\n",
       "zámek /skleníky/ (Veltrusy)                                                                                                                                                  2\n",
       "Benešovsko, Martinice u Dolních Kralovic, zámek Martinice (Martinice u Dolních Kralovic)                                                                                     1\n",
       "Bobnice, Poděbrady, zámek (Poděbrady)                                                                                                                                        1\n",
       "Egyptský pavilon (zámek Veltrusy)                                                                                                                                            1\n",
       "Hostýnské vrchy, Panská skála (Varahany) u Kamenického Šenova, Zlatý vrch u České Kamenice, tvrz Cuknštejn, Roudnice nad Labem, zámek Uherčice, park (zámek Uherčice)        1\n",
       "Liteň, zámek (Liteň)                                                                                                                                                         1\n",
       "Litoměřice, zámek Ploskovice, Lovosice, Praha, zámek Veltrusy                                                                                                                1\n",
       "Lány, zámek (Lány)                                                                                                                                                           1\n",
       "Lány, zámek /i interiér/ (Lány)                                                                                                                                              1\n",
       "Líšno, zámek (Líšno)                                                                                                                                                         1\n",
       "Mostecko, Most, zámek Jezeří                                                                                                                                                 1\n",
       "Pardubice, zámek (Pardubice)                                                                                                                                                 1\n",
       "Poděbrady /zámek/ (Česká republika)                                                                                                                                          1\n",
       "Praha, zámek Milotice, zámek Buchlovice, zámek Rájec nad Svitavou, zámek Jaroslavice, zámek Lemberk, hrad Grabštejn, Jablonné v Podještědí, Lvová (Jablonné v Podještědí)    1\n",
       "Přírodní rezervace Kopeč, Mělník, zámek (Mělník)                                                                                                                             1\n",
       "Ralská pahorkatina, vrch Vlhošť, Zliv u Libáně, Zahrádky, zámek (Zahrádky)                                                                                                   1\n",
       "Roztoky u Prahy – zámek, přehrada Orlík                                                                                                                                      1\n",
       "Skanzen lidových staveb Kouřim, zámek Chrámce                                                                                                                                1\n",
       "Slapy, zámek (Slapy)                                                                                                                                                         1\n",
       "Slovensko, Topoľčianky – zámek, park, okolí (Slovensko)                                                                                                                      1\n",
       "Suchdol nad Lužnicí, Chuchelna, zámek Cerhonice, Český ráj, hora Kozákov (Český ráj)                                                                                         1\n",
       "Svatý Jan pod Skalou, Zdiby, Liteň, zámek Liteň (Liteň)                                                                                                                      1\n",
       "Telč, zámek Náměšť nad Oslavou, hrad Okoř, hrad Kokořín, Průhonice                                                                                                           1\n",
       "Topoľčanský hrad (Topoľčianky – zámek, park, okolí)                                                                                                                          1\n",
       "Valeč, zámek Valeč (Valeč)                                                                                                                                                   1\n",
       "Zbraslavský zámek (Zbraslav)                                                                                                                                                 1\n",
       "hrad Kost, zámek v Dětenicích, lesy u Nouzova                                                                                                                                1\n",
       "hrad Křivoklát /a okolí/, zámek Sobotín /i interiér/, zámecký park (zámek Sobotín /i interiér/)                                                                              1\n",
       "kupole se standartou prezidenta Československé republiky (zámek)                                                                                                             1\n",
       "park (zámek Lednice)                                                                                                                                                         1\n",
       "skleníky (zámek)                                                                                                                                                             1\n",
       "ulice Zámek (Lysá nad Labem)                                                                                                                                                 1\n",
       "zámek (Litomyšl)                                                                                                                                                             1\n",
       "zámek (Nelahozeves)                                                                                                                                                          1\n",
       "zámek (Náchod)                                                                                                                                                               1\n",
       "zámek (Slavkov u Brna)                                                                                                                                                       1\n",
       "zámek (Veltrusy)                                                                                                                                                             1\n",
       "zámek /Domov na zámku/ (Lysá nad Labem)                                                                                                                                      1\n",
       "zámek /i interiér/ (Slapy)                                                                                                                                                   1\n",
       "zámek Bon Repos, Vinohrady (Praha)                                                                                                                                           1\n",
       "zámek Buchlovice, zámek Ploskovice, skanzen Přerov nad Labem, hrad Choustník, rybník Bezdrev                                                                                 1\n",
       "zámek Dobříš (Česká republika)                                                                                                                                               1\n",
       "zámek Fryštát (Karviná)                                                                                                                                                      1\n",
       "zámek Frýdlant (Česká republika)                                                                                                                                             1\n",
       "zámek Hluboká nad Vltavou                                                                                                                                                    1\n",
       "zámek Hluboká, Plešné jezero, Nová Pec, zámek Libochovice, zámek Ploskovice, údolí Kocáby, Koněpruské jeskyně, Kokořínské údolí, Český kras, lom Paraple (Český kras)        1\n",
       "zámek Horní Staňkov /i interiér/ (Česká republika)                                                                                                                           1\n",
       "zámek Hradec nad Moravicí (Hradec nad Moravicí)                                                                                                                              1\n",
       "zámek Hrádek u Nechanic (Česká republika)                                                                                                                                    1\n",
       "Name: Film, dtype: int64"
      ]
     },
     "execution_count": 18,
     "metadata": {},
     "output_type": "execute_result"
    }
   ],
   "source": [
    "df[df[\"Lokace\"].str.lower().str.contains(\"zámek\", na=False)].groupby(\"Lokace\")[\"Film\"].nunique().nlargest(50)"
   ]
  },
  {
   "cell_type": "code",
   "execution_count": 19,
   "id": "2cd04f00",
   "metadata": {
    "scrolled": true
   },
   "outputs": [
    {
     "data": {
      "text/plain": [
       "Lokace\n",
       "Václavské náměstí (Nové Město)                                                26\n",
       "Staroměstské náměstí (Staré Město)                                            25\n",
       "náměstí Jana Palacha (Josefov)                                                14\n",
       "Malostranské náměstí (Malá Strana)                                            12\n",
       "Hradčanské náměstí (Hradčany)                                                  9\n",
       "Národní muzeum (Václavské náměstí)                                             7\n",
       "náměstí Republiky (Staré Město)                                                7\n",
       "Václavské náměstí (Praha)                                                      6\n",
       "Karlovo náměstí (Nové Město)                                                   5\n",
       "Loretánské náměstí (Hradčany)                                                  5\n",
       "Rudolfinum (náměstí Jana Palacha)                                              5\n",
       "Staroměstská radnice (Staroměstské náměstí)                                    5\n",
       "náměstí Curieových (Staré Město)                                               5\n",
       "náměstí Jiřího z Poděbrad (Vinohrady)                                          5\n",
       "náměstí Svobody (Bubeneč)                                                      5\n",
       "Mariánské náměstí (Staré Město)                                                4\n",
       "Pražský hrad (Hradčanské náměstí)                                              4\n",
       "Velkopřevorské náměstí (Malá Strana)                                           4\n",
       "Horní náměstí (Olomouc)                                                        3\n",
       "Lyčkovo náměstí (Karlín)                                                       3\n",
       "Maltézské náměstí (Malá Strana)                                                3\n",
       "Skleněný palác /interiér/ (náměstí Svobody)                                    3\n",
       "Staroměstský orloj (Staroměstské náměstí)                                      3\n",
       "Staré náměstí (Ruzyně)                                                         3\n",
       "kostel sv. Ludmily (náměstí Míru)                                              3\n",
       "kostel sv. Mikuláše (Malostranské náměstí)                                     3\n",
       "náměstí Míru (Vinohrady)                                                       3\n",
       "Černínský palác (Loretánské náměstí)                                           3\n",
       "Anenské náměstí (Staré Město)                                                  2\n",
       "Barrandov (Kříženeckého náměstí)                                               2\n",
       "Basilejské náměstí (Žižkov)                                                    2\n",
       "Dolní náměstí (Olomouc)                                                        2\n",
       "Filozofická fakulta Univerzity Karlovy /i interiér/ (náměstí Jana Palacha)     2\n",
       "Haštalské náměstí (Staré Město)                                                2\n",
       "Hurbanovo náměstí (Bratislava)                                                 2\n",
       "Jiráskovo náměstí (Nové Město)                                                 2\n",
       "Karlínské náměstí (Karlín)                                                     2\n",
       "Kříženeckého náměstí (Hlubočepy)                                               2\n",
       "Malostranská beseda (Malostranské náměstí)                                     2\n",
       "Malostranská beseda /i interiér/ (Malostranské náměstí)                        2\n",
       "Malostranské náměstí (Praha)                                                   2\n",
       "Náměstí Slovenského národního povstání (Bratislava)                            2\n",
       "Obecní dům (náměstí Republiky)                                                 2\n",
       "Obecní dům /interiér/ (náměstí Republiky)                                      2\n",
       "Palackého náměstí (Nové Město)                                                 2\n",
       "Právnická fakulta Univerzity Karlovy (náměstí Curieových)                      2\n",
       "Rudolfinum /interiér/ (náměstí Jana Palacha)                                   2\n",
       "Senovážné náměstí (Nové Město)                                                 2\n",
       "Slavonice, náměstí Míru (Slavonice)                                            2\n",
       "Staroměstské náměstí (Praha)                                                   2\n",
       "Name: Film, dtype: int64"
      ]
     },
     "execution_count": 19,
     "metadata": {},
     "output_type": "execute_result"
    }
   ],
   "source": [
    "df[df[\"Lokace\"].str.lower().str.contains(\"náměstí\", na=False)].groupby(\"Lokace\")[\"Film\"].nunique().nlargest(50)"
   ]
  },
  {
   "cell_type": "markdown",
   "id": "b5b07ed1",
   "metadata": {},
   "source": [
    "## Jaroměř pro vysílání"
   ]
  },
  {
   "cell_type": "code",
   "execution_count": 25,
   "id": "9f704eae",
   "metadata": {},
   "outputs": [
    {
     "data": {
      "text/html": [
       "<div>\n",
       "<style scoped>\n",
       "    .dataframe tbody tr th:only-of-type {\n",
       "        vertical-align: middle;\n",
       "    }\n",
       "\n",
       "    .dataframe tbody tr th {\n",
       "        vertical-align: top;\n",
       "    }\n",
       "\n",
       "    .dataframe thead th {\n",
       "        text-align: right;\n",
       "    }\n",
       "</style>\n",
       "<table border=\"1\" class=\"dataframe\">\n",
       "  <thead>\n",
       "    <tr style=\"text-align: right;\">\n",
       "      <th></th>\n",
       "      <th>Film</th>\n",
       "      <th>Copyright</th>\n",
       "      <th>Režie</th>\n",
       "    </tr>\n",
       "  </thead>\n",
       "  <tbody>\n",
       "    <tr>\n",
       "      <th>3368</th>\n",
       "      <td>Musíme si pomáhat (15231)</td>\n",
       "      <td>2000</td>\n",
       "      <td>Jan Hřebejk (4831)</td>\n",
       "    </tr>\n",
       "    <tr>\n",
       "      <th>3456</th>\n",
       "      <td>Andělská tvář (12880)</td>\n",
       "      <td>2002</td>\n",
       "      <td>Zdeněk Troška (3874)</td>\n",
       "    </tr>\n",
       "    <tr>\n",
       "      <th>3920</th>\n",
       "      <td>Něžné vlny (400551)</td>\n",
       "      <td>2013</td>\n",
       "      <td>Jiří Vejdělek (24168)</td>\n",
       "    </tr>\n",
       "    <tr>\n",
       "      <th>4061</th>\n",
       "      <td>Wilsonov (400602)</td>\n",
       "      <td>2015</td>\n",
       "      <td>Tomáš Mašín (1495)</td>\n",
       "    </tr>\n",
       "    <tr>\n",
       "      <th>4219</th>\n",
       "      <td>Zahradnictví: Rodinný přítel (401671)</td>\n",
       "      <td>2017</td>\n",
       "      <td>Jan Hřebejk (4831)</td>\n",
       "    </tr>\n",
       "    <tr>\n",
       "      <th>4221</th>\n",
       "      <td>Zahradnictví: Nápadník (401672)</td>\n",
       "      <td>2017</td>\n",
       "      <td>Jan Hřebejk (4831)</td>\n",
       "    </tr>\n",
       "    <tr>\n",
       "      <th>4222</th>\n",
       "      <td>Zahradnictví: Dezertér (401670)</td>\n",
       "      <td>2017</td>\n",
       "      <td>Jan Hřebejk (4831)</td>\n",
       "    </tr>\n",
       "    <tr>\n",
       "      <th>4386</th>\n",
       "      <td>Nabarvené ptáče (401962)</td>\n",
       "      <td>2019</td>\n",
       "      <td>Alice Hurychová (81624)</td>\n",
       "    </tr>\n",
       "    <tr>\n",
       "      <th>4390</th>\n",
       "      <td>V zajetí sítě (401999)</td>\n",
       "      <td>2019</td>\n",
       "      <td>Matěj Krátký (109159)</td>\n",
       "    </tr>\n",
       "    <tr>\n",
       "      <th>4453</th>\n",
       "      <td>Havel (402069)</td>\n",
       "      <td>2020</td>\n",
       "      <td>Slávek Horák (80123)</td>\n",
       "    </tr>\n",
       "    <tr>\n",
       "      <th>4467</th>\n",
       "      <td>Šarlatán (402092)</td>\n",
       "      <td>2020</td>\n",
       "      <td>Agnieszka Holland (12106)</td>\n",
       "    </tr>\n",
       "    <tr>\n",
       "      <th>4476</th>\n",
       "      <td>Casting na lásku (402062)</td>\n",
       "      <td>2020</td>\n",
       "      <td>Eva Toulová (77526)</td>\n",
       "    </tr>\n",
       "  </tbody>\n",
       "</table>\n",
       "</div>"
      ],
      "text/plain": [
       "                                       Film  Copyright   \n",
       "3368              Musíme si pomáhat (15231)       2000  \\\n",
       "3456                  Andělská tvář (12880)       2002   \n",
       "3920                    Něžné vlny (400551)       2013   \n",
       "4061                      Wilsonov (400602)       2015   \n",
       "4219  Zahradnictví: Rodinný přítel (401671)       2017   \n",
       "4221        Zahradnictví: Nápadník (401672)       2017   \n",
       "4222        Zahradnictví: Dezertér (401670)       2017   \n",
       "4386               Nabarvené ptáče (401962)       2019   \n",
       "4390                 V zajetí sítě (401999)       2019   \n",
       "4453                         Havel (402069)       2020   \n",
       "4467                      Šarlatán (402092)       2020   \n",
       "4476              Casting na lásku (402062)       2020   \n",
       "\n",
       "                          Režie  \n",
       "3368         Jan Hřebejk (4831)  \n",
       "3456       Zdeněk Troška (3874)  \n",
       "3920      Jiří Vejdělek (24168)  \n",
       "4061         Tomáš Mašín (1495)  \n",
       "4219         Jan Hřebejk (4831)  \n",
       "4221         Jan Hřebejk (4831)  \n",
       "4222         Jan Hřebejk (4831)  \n",
       "4386    Alice Hurychová (81624)  \n",
       "4390      Matěj Krátký (109159)  \n",
       "4453       Slávek Horák (80123)  \n",
       "4467  Agnieszka Holland (12106)  \n",
       "4476        Eva Toulová (77526)  "
      ]
     },
     "execution_count": 25,
     "metadata": {},
     "output_type": "execute_result"
    }
   ],
   "source": [
    "jaromer = hcf[hcf[\"Lokace\"].str.contains(\"Jaroměř\",na=False)].explode(\"Režie\")[[\"Film\",\"Copyright\",\"Režie\"]].drop_duplicates()\n",
    "jaromer"
   ]
  },
  {
   "cell_type": "code",
   "execution_count": 26,
   "id": "ede2c1d1",
   "metadata": {},
   "outputs": [
    {
     "data": {
      "text/plain": [
       "12"
      ]
     },
     "execution_count": 26,
     "metadata": {},
     "output_type": "execute_result"
    }
   ],
   "source": [
    "len(jaromer)"
   ]
  }
 ],
 "metadata": {
  "kernelspec": {
   "display_name": "Python 3 (ipykernel)",
   "language": "python",
   "name": "python3"
  },
  "language_info": {
   "codemirror_mode": {
    "name": "ipython",
    "version": 3
   },
   "file_extension": ".py",
   "mimetype": "text/x-python",
   "name": "python",
   "nbconvert_exporter": "python",
   "pygments_lexer": "ipython3",
   "version": "3.10.8"
  }
 },
 "nbformat": 4,
 "nbformat_minor": 5
}
