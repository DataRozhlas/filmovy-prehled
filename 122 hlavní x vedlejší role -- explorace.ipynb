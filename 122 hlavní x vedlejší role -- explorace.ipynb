{
 "cells": [
  {
   "cell_type": "code",
   "execution_count": 1,
   "id": "2b962e72",
   "metadata": {},
   "outputs": [],
   "source": [
    "import os\n",
    "from src.gender import gender"
   ]
  },
  {
   "cell_type": "code",
   "execution_count": 2,
   "id": "5fa32102",
   "metadata": {},
   "outputs": [],
   "source": [
    "import pandas as pd"
   ]
  },
  {
   "cell_type": "code",
   "execution_count": 3,
   "id": "44063a6f",
   "metadata": {},
   "outputs": [],
   "source": [
    "df = pd.read_json(os.path.join(\"data\", \"filmy.json\"))"
   ]
  },
  {
   "cell_type": "code",
   "execution_count": 4,
   "id": "7ab532d6",
   "metadata": {},
   "outputs": [
    {
     "data": {
      "text/plain": [
       "0                                                    None\n",
       "1                                                    None\n",
       "2                                                    None\n",
       "3                                                    None\n",
       "4                                                    None\n",
       "                              ...                        \n",
       "4510    [Igor Chmela (26627), Jana Plodková (24916), C...\n",
       "4511    [Anna Polívková (15610), Jiří Langmajer (2981)...\n",
       "4512                                                   []\n",
       "4513                                                 None\n",
       "4514                               [Jiří Ployhar (17086)]\n",
       "Name: Hrají, Length: 4515, dtype: object"
      ]
     },
     "execution_count": 4,
     "metadata": {},
     "output_type": "execute_result"
    }
   ],
   "source": [
    "df[\"Hrají\"]"
   ]
  },
  {
   "cell_type": "code",
   "execution_count": 5,
   "id": "3bf9e72e",
   "metadata": {},
   "outputs": [],
   "source": [
    "df[\"Hlavní role\"] = df[\"Hrají\"].dropna().apply(lambda x: x[:3])"
   ]
  },
  {
   "cell_type": "code",
   "execution_count": 6,
   "id": "8da90d12",
   "metadata": {},
   "outputs": [],
   "source": [
    "df[\"Vedlejší role\"] = df[\"Hrají\"].dropna().apply(lambda x: x[3:])"
   ]
  },
  {
   "cell_type": "markdown",
   "id": "ee5a975e",
   "metadata": {},
   "source": [
    "## Gender hlavních rolí"
   ]
  },
  {
   "cell_type": "code",
   "execution_count": 7,
   "id": "dd5cda24",
   "metadata": {},
   "outputs": [],
   "source": [
    "def gender_hlavnich_roli(x):\n",
    "\n",
    "    if not isinstance(x, list):\n",
    "        return x\n",
    "    \n",
    "    muz_item = []\n",
    "    zena_item = []\n",
    "    \n",
    "    for item in x:\n",
    "        \n",
    "        item_stripped = item.split(\"(\")[0].strip()\n",
    "        gender_result = gender(item_stripped)\n",
    "        if gender_result == \"muž\":\n",
    "            muz_item.append(item)\n",
    "        elif gender_result == \"žena\":\n",
    "            zena_item.append(item)\n",
    "            \n",
    "    return [muz_item, zena_item]"
   ]
  },
  {
   "cell_type": "code",
   "execution_count": 8,
   "id": "5fdf1f99",
   "metadata": {},
   "outputs": [],
   "source": [
    "df[\"Muži v hlavních rolích\"] = df[\"Hlavní role\"].dropna().apply(lambda x: gender_hlavnich_roli(x)[0])\n",
    "df[\"Ženy v hlavních rolích\"] = df[\"Hlavní role\"].dropna().apply(lambda x: gender_hlavnich_roli(x)[1])"
   ]
  },
  {
   "cell_type": "code",
   "execution_count": 9,
   "id": "b5c692d0",
   "metadata": {},
   "outputs": [
    {
     "data": {
      "text/plain": [
       "Muži v hlavních rolích     Ženy v hlavních rolích     \n",
       "Karel Lamač (37847)        Anny Ondráková (127280)        17\n",
       "Theodor Pištěk (37366)     Antonie Nedošinská (127295)    12\n",
       "                           Anny Ondráková (127280)        10\n",
       "V. Ch. Vladimírov (38066)  Suzanne Marwille (127373)       8\n",
       "Otto Šimánek (35353)       Veronika Renčová (128659)       7\n",
       "Theodor Pištěk (37366)     Máňa Ženíšková (126674)         7\n",
       "Jan Werich (1287)          Veronika Renčová (128659)       6\n",
       "Karel Roden (494)          Ivana Chýlková (4684)           6\n",
       "Hugo Haas (37289)          Adina Mandlová (55611)          5\n",
       "                           Antonie Nedošinská (127295)     5\n",
       "Name: Film, dtype: int64"
      ]
     },
     "execution_count": 9,
     "metadata": {},
     "output_type": "execute_result"
    }
   ],
   "source": [
    "df.explode(\"Muži v hlavních rolích\").explode(\"Ženy v hlavních rolích\").groupby([\"Muži v hlavních rolích\",\"Ženy v hlavních rolích\"])[\"Film\"].nunique().nlargest(10)"
   ]
  },
  {
   "cell_type": "code",
   "execution_count": 10,
   "id": "3d19f7f3",
   "metadata": {},
   "outputs": [
    {
     "data": {
      "text/plain": [
       "Muži v hlavních rolích      Ženy v hlavních rolích     \n",
       "Otto Šimánek (35353)        Veronika Renčová (128659)      7\n",
       "Jan Werich (1287)           Veronika Renčová (128659)      6\n",
       "Karel Roden (494)           Ivana Chýlková (4684)          6\n",
       "Jaromír Hanzlík (14425)     Daniela Kolářová (1847)        5\n",
       "Vlastimil Brodský (833)     Jana Brejchová (7710)          5\n",
       "Boleslav Polívka (1556)     Eva Holubová (5948)            4\n",
       "Gustáv Valach (10715)       Jana Brejchová (7710)          4\n",
       "Jiří Schmitzer (2936)       Helena Vitovská (34062)        4\n",
       "Jiří Sovák (5288)           Iva Janžurová (1049)           4\n",
       "Tomáš Holý (27091)          Jana Brejchová (7710)          4\n",
       "Jan Kačer (1165)            Jana Brejchová (7710)          3\n",
       "Jiří Bartoška (827)         Ivana Chýlková (4684)          3\n",
       "Jiří Sovák (5288)           Jana Hlaváčová (11370)         3\n",
       "Josef Abrhám (2274)         Libuše Šafránková (2272)       3\n",
       "Josef Šebánek (69908)       Marie Motlová (35339)          3\n",
       "Karel Höger (38146)         Dana Medřická (64028)          3\n",
       "                            Jana Brejchová (7710)          3\n",
       "Martin Finger (19835)       Anna Geislerová (5433)         3\n",
       "Petr Čepek (4764)           Taťána Fischerová (12886)      3\n",
       "Radoslav Brzobohatý (2770)  Jiřina Bohdalová (2878)        3\n",
       "Radovan Lukavský (3301)     Jiřina Švorcová (25688)        3\n",
       "Vladimír Menšík (126036)    Božidara Turzonovová (7765)    3\n",
       "                            Iva Janžurová (1049)           3\n",
       "                            Jana Brejchová (7710)          3\n",
       "Václav Vydra (2666)         Jana Paulová (8262)            3\n",
       "Zdeněk Svěrák (1892)        Libuše Šafránková (2272)       3\n",
       "Zdeněk Štěpánek (87457)     Dana Medřická (64028)          3\n",
       "Boleslav Polívka (1556)     Anna Šišková (6600)            2\n",
       "                            Ivana Chýlková (4684)          2\n",
       "                            Veronika Žilková (1517)        2\n",
       "                            Zlata Adamovská (18668)        2\n",
       "Eduard Cupák (4944)         Alena Vránová (4984)           2\n",
       "Emil Horváth ml. (126551)   Magda Vášáryová (31019)        2\n",
       "                            Petronela Vančíková (88860)    2\n",
       "František Husák (81389)     Marie Motlová (35339)          2\n",
       "Name: Film, dtype: int64"
      ]
     },
     "execution_count": 10,
     "metadata": {},
     "output_type": "execute_result"
    }
   ],
   "source": [
    "df[df[\"Copyright\"] > 1945].explode(\"Muži v hlavních rolích\").explode(\"Ženy v hlavních rolích\").groupby([\"Muži v hlavních rolích\",\"Ženy v hlavních rolích\"])[\"Film\"].nunique().nlargest(35)"
   ]
  },
  {
   "cell_type": "markdown",
   "id": "721abae0",
   "metadata": {},
   "source": [
    "## První muž v titulcích + první žena v titulcích"
   ]
  },
  {
   "cell_type": "code",
   "execution_count": 11,
   "id": "67005f94",
   "metadata": {},
   "outputs": [],
   "source": [
    "def hlavni_hvezdy(x):\n",
    "\n",
    "    if not isinstance(x, list):\n",
    "        return x\n",
    "    \n",
    "    muz_item = None\n",
    "    zena_item = None\n",
    "    \n",
    "    for item in x:\n",
    "        \n",
    "        item_stripped = item.split(\"(\")[0].strip()\n",
    "        gender_result = gender(item_stripped)\n",
    "        if gender_result == \"muž\" and not muz_item:\n",
    "            muz_item = item\n",
    "        elif gender_result == \"žena\" and not zena_item:\n",
    "            zena_item = item\n",
    "        \n",
    "        if muz_item and zena_item:\n",
    "            break\n",
    "    \n",
    "    return [muz_item, zena_item]"
   ]
  },
  {
   "cell_type": "code",
   "execution_count": 12,
   "id": "c4ba3807",
   "metadata": {},
   "outputs": [],
   "source": [
    "pokus = [\"Igor Chmela (26627)\", \"Jana Plodková (24916)\"]"
   ]
  },
  {
   "cell_type": "code",
   "execution_count": 13,
   "id": "afb2d3fe",
   "metadata": {},
   "outputs": [
    {
     "data": {
      "text/plain": [
       "['Igor Chmela (26627)', 'Jana Plodková (24916)']"
      ]
     },
     "execution_count": 13,
     "metadata": {},
     "output_type": "execute_result"
    }
   ],
   "source": [
    "hlavni_hvezdy(pokus)"
   ]
  },
  {
   "cell_type": "code",
   "execution_count": 14,
   "id": "38bf3e0c",
   "metadata": {},
   "outputs": [],
   "source": [
    "df[\"Muž v hlavní roli\"] = df[\"Hrají\"].dropna().apply(lambda x: hlavni_hvezdy(x)[0])\n",
    "df[\"Žena v hlavní roli\"] = df[\"Hrají\"].dropna().apply(lambda x: hlavni_hvezdy(x)[1])"
   ]
  },
  {
   "cell_type": "code",
   "execution_count": 15,
   "id": "60275fe5",
   "metadata": {},
   "outputs": [
    {
     "data": {
      "text/plain": [
       "Muž v hlavní roli          Žena v hlavní roli         \n",
       "Karel Lamač (37847)        Anny Ondráková (127280)        12\n",
       "Theodor Pištěk (37366)     Antonie Nedošinská (127295)    12\n",
       "Otto Šimánek (35353)       Veronika Renčová (128659)       7\n",
       "V. Ch. Vladimírov (38066)  Suzanne Marwille (127373)       6\n",
       "Theodor Pištěk (37366)     Anny Ondráková (127280)         5\n",
       "Zdeněk Štěpánek (87457)    Vlasta Matulová (998)           5\n",
       "Boleslav Polívka (1556)    Eva Holubová (5948)             4\n",
       "Hugo Haas (37289)          Antonie Nedošinská (127295)     4\n",
       "Jindřich Plachta (5829)    Zdeňka Baldová (28798)          4\n",
       "Jiří Schmitzer (2936)      Helena Vitovská (34062)         4\n",
       "Name: Film, dtype: int64"
      ]
     },
     "execution_count": 15,
     "metadata": {},
     "output_type": "execute_result"
    }
   ],
   "source": [
    "df.groupby([\"Muž v hlavní roli\",\"Žena v hlavní roli\"])[\"Film\"].nunique().nlargest(10)"
   ]
  },
  {
   "cell_type": "code",
   "execution_count": 16,
   "id": "c53d51ed",
   "metadata": {},
   "outputs": [
    {
     "data": {
      "text/plain": [
       "Muž v hlavní roli           Žena v hlavní roli         \n",
       "Otto Šimánek (35353)        Veronika Renčová (128659)      7\n",
       "Boleslav Polívka (1556)     Eva Holubová (5948)            4\n",
       "Jiří Schmitzer (2936)       Helena Vitovská (34062)        4\n",
       "Vlastimil Brodský (833)     Jana Brejchová (7710)          4\n",
       "Zdeněk Štěpánek (87457)     Vlasta Matulová (998)          4\n",
       "Gustáv Valach (10715)       Jana Brejchová (7710)          3\n",
       "Jan Kačer (1165)            Jana Brejchová (7710)          3\n",
       "Jiří Sovák (5288)           Jiřina Bohdalová (2878)        3\n",
       "Josef Abrhám (2274)         Libuše Šafránková (2272)       3\n",
       "Josef Šebánek (69908)       Marie Motlová (35339)          3\n",
       "Karel Heřmánek (6274)       Jana Synková (12616)           3\n",
       "Karel Höger (38146)         Dana Medřická (64028)          3\n",
       "                            Slávka Budínová (8606)         3\n",
       "Martin Finger (19835)       Anna Geislerová (5433)         3\n",
       "Otomar Krejča (7597)        Antonie Hegerliková (7721)     3\n",
       "Otto Šimánek (35353)        Slávka Budínová (8606)         3\n",
       "Radoslav Brzobohatý (2770)  Jiřina Bohdalová (2878)        3\n",
       "Vladimír Menšík (126036)    Božidara Turzonovová (7765)    3\n",
       "Václav Vydra (2666)         Jana Paulová (8262)            3\n",
       "Bohuš Záhorský (53346)      Jiřina Šejbalová (125559)      2\n",
       "Name: Film, dtype: int64"
      ]
     },
     "execution_count": 16,
     "metadata": {},
     "output_type": "execute_result"
    }
   ],
   "source": [
    "df[df[\"Copyright\"] > 1945].groupby([\"Muž v hlavní roli\",\"Žena v hlavní roli\"])[\"Film\"].nunique().nlargest(20)"
   ]
  },
  {
   "cell_type": "code",
   "execution_count": 17,
   "id": "8c64d437",
   "metadata": {
    "scrolled": true
   },
   "outputs": [
    {
     "data": {
      "text/plain": [
       "Muž v hlavní roli          Žena v hlavní roli         \n",
       "Boleslav Polívka (1556)    Eva Holubová (5948)            4\n",
       "Karel Heřmánek (6274)      Jana Synková (12616)           3\n",
       "Martin Finger (19835)      Anna Geislerová (5433)         3\n",
       "Václav Vydra (2666)        Jana Paulová (8262)            3\n",
       "Boleslav Polívka (1556)    Veronika Žilková (1517)        2\n",
       "                           Zlata Adamovská (18668)        2\n",
       "                           Zuzana Bydžovská (4683)        2\n",
       "Jaromír Dulava (1837)      Marie Mazurová (4266)          2\n",
       "Jiří Bartoška (827)        Ivana Chýlková (4684)          2\n",
       "Jiří Langmajer (2981)      Anna Polívková (15610)         2\n",
       "Jiří Schmitzer (2936)      Helena Vitovská (34062)        2\n",
       "Josef Abrhám (2274)        Libuše Šafránková (2272)       2\n",
       "Karel Roden (494)          Anna Geislerová (5433)         2\n",
       "                           Chantal Poullain /ž/ (1573)    2\n",
       "                           Lenka Vlasáková (1912)         2\n",
       "                           Lucie Bílá (7010)              2\n",
       "Ladislav Potměšil (12606)  Simona Krainová (12617)        2\n",
       "Martin Myšička (13007)     Jana Plodková (24916)          2\n",
       "Martin Pechlát (9426)      Gabriela Míčová (9758)         2\n",
       "Miroslav Šimůnek (3860)    Michaela Kuklová (3313)        2\n",
       "Name: Film, dtype: int64"
      ]
     },
     "execution_count": 17,
     "metadata": {},
     "output_type": "execute_result"
    }
   ],
   "source": [
    "df[df[\"Copyright\"] > 1989].groupby([\"Muž v hlavní roli\",\"Žena v hlavní roli\"])[\"Film\"].nunique().nlargest(20)"
   ]
  },
  {
   "cell_type": "code",
   "execution_count": 18,
   "id": "7983eab4",
   "metadata": {},
   "outputs": [
    {
     "data": {
      "text/plain": [
       "Muž v hlavní roli         Žena v hlavní roli      \n",
       "Boleslav Polívka (1556)   Eva Holubová (5948)         4\n",
       "Martin Finger (19835)     Anna Geislerová (5433)      3\n",
       "Václav Vydra (2666)       Jana Paulová (8262)         3\n",
       "Boleslav Polívka (1556)   Zlata Adamovská (18668)     2\n",
       "Jiří Langmajer (2981)     Anna Polívková (15610)      2\n",
       "Martin Myšička (13007)    Jana Plodková (24916)       2\n",
       "Martin Pechlát (9426)     Gabriela Míčová (9758)      2\n",
       "Oldřich Kaiser (1794)     Kamila Magálová (55419)     2\n",
       "Ondřej Vetchý (836)       Anna Geislerová (5433)      2\n",
       "                          Vica Kerekes /ž/ (78381)    2\n",
       "Vratislav Brabenec (663)  Nikol Fischerová (2527)     2\n",
       "Václav Vydra (2666)       Dana Morávková (2293)       2\n",
       "Aaron Monaghan (59068)    Réka Derzsi /ž/ (35476)     1\n",
       "Adam Gebert (19050)       Anna Lísalová (78487)       1\n",
       "Adam Mihál (122066)       Mária Fornayová (130007)    1\n",
       "Adam Mišík (27584)        Anna Fialová (21871)        1\n",
       "                          Hana Vagnerová (16186)      1\n",
       "Adam Stivín (13966)       Anna Veselá (584)           1\n",
       "Alexandr Rašilov (8072)   Taťjana Medvecká (7064)     1\n",
       "Alexej Bardukov (40286)   Marie Štípková (34971)      1\n",
       "Name: Film, dtype: int64"
      ]
     },
     "execution_count": 18,
     "metadata": {},
     "output_type": "execute_result"
    }
   ],
   "source": [
    "df[df[\"Copyright\"] > 2002].groupby([\"Muž v hlavní roli\",\"Žena v hlavní roli\"])[\"Film\"].nunique().nlargest(20)"
   ]
  },
  {
   "cell_type": "code",
   "execution_count": 19,
   "id": "cfd1509c",
   "metadata": {},
   "outputs": [
    {
     "data": {
      "text/plain": [
       "Žena v hlavní roli\n",
       "Antonie Nedošinská (127295)    41\n",
       "Jana Brejchová (7710)          37\n",
       "Suzanne Marwille (127373)      35\n",
       "Anny Ondráková (127280)        31\n",
       "Iva Janžurová (1049)           29\n",
       "Adina Mandlová (55611)         26\n",
       "Hana Vítová (126418)           26\n",
       "Jiřina Bohdalová (2878)        25\n",
       "Anna Geislerová (5433)         23\n",
       "Jiřina Štěpničková (29765)     23\n",
       "Ivana Chýlková (4684)          21\n",
       "Zdeňka Baldová (28798)         21\n",
       "Lída Baarová (5202)            19\n",
       "Jiřina Šejbalová (125559)      18\n",
       "Květa Fialová (5338)           17\n",
       "Libuše Šafránková (2272)       17\n",
       "Slávka Budínová (8606)         17\n",
       "Dana Medřická (64028)          16\n",
       "Růžena Šlemrová (127282)       16\n",
       "Věra Ferbasová (33991)         16\n",
       "Name: Film, dtype: int64"
      ]
     },
     "execution_count": 19,
     "metadata": {},
     "output_type": "execute_result"
    }
   ],
   "source": [
    "df.groupby(\"Žena v hlavní roli\")[\"Film\"].nunique().nlargest(20)"
   ]
  },
  {
   "cell_type": "code",
   "execution_count": 20,
   "id": "4d3e5170",
   "metadata": {},
   "outputs": [
    {
     "data": {
      "text/plain": [
       "Režie                       Žena v hlavní roli         \n",
       "Václav Binovec (37467)      Suzanne Marwille (127373)      21\n",
       "Karel Lamač (37847)         Anny Ondráková (127280)        17\n",
       "Max Urban (95056)           Andula Sedláčková (126987)     10\n",
       "Vladimír Slavínský (31967)  Antonie Nedošinská (127295)    10\n",
       "                            Věra Ferbasová (33991)          9\n",
       "Jindřich Polák (7891)       Veronika Renčová (128659)       7\n",
       "Martin Frič (20324)         Adina Mandlová (55611)          7\n",
       "                            Suzanne Marwille (127373)       7\n",
       "Jan Hřebejk (4831)          Anna Geislerová (5433)          6\n",
       "Svatopluk Innemann (33860)  Zdena Kavková (127457)          6\n",
       "Martin Frič (20324)         Běla Jurdová (27291)            5\n",
       "                            Zdeňka Baldová (28798)          5\n",
       "Miroslav Cikán (31969)      Hana Vítová (126418)            5\n",
       "Oldřich Kmínek (37986)      Anita Janová (128156)           5\n",
       "Otakar Vávra (9507)         Vlasta Matulová (998)           5\n",
       "Evald Schorm (7895)         Jana Brejchová (7710)           4\n",
       "Jiří Slavíček (31972)       Hana Vítová (126418)            4\n",
       "Karel Anton (37987)         Antonie Nedošinská (127295)     4\n",
       "Martin Frič (20324)         Jiřina Štěpničková (29765)      4\n",
       "                            Nataša Gollová (36491)          4\n",
       "Name: Film, dtype: int64"
      ]
     },
     "execution_count": 20,
     "metadata": {},
     "output_type": "execute_result"
    }
   ],
   "source": [
    "df.explode(\"Režie\").groupby([\"Režie\",\"Žena v hlavní roli\"])[\"Film\"].nunique().nlargest(20)"
   ]
  },
  {
   "cell_type": "code",
   "execution_count": 21,
   "id": "88429fb9",
   "metadata": {},
   "outputs": [
    {
     "data": {
      "text/plain": [
       "Režie                       Muž v hlavní roli          \n",
       "Jindřich Polák (7891)       Otto Šimánek (35353)           16\n",
       "Martin Frič (20324)         Vlasta Burian (11992)          14\n",
       "Karel Lamač (37847)         Vlasta Burian (11992)          11\n",
       "                            Karel Lamač (37847)            10\n",
       "Martin Frič (20324)         Hugo Haas (37289)               8\n",
       "Dušan Klein (2568)          Pavel Kříž (2990)               7\n",
       "Otakar Vávra (9507)         Zdeněk Štěpánek (87457)         7\n",
       "Martin Frič (20324)         František Smolík (126955)       6\n",
       "                            Oldřich Nový (12009)            6\n",
       "Vladimír Slavínský (31967)  Theodor Pištěk (37366)          6\n",
       "                            Vladimír Slavínský (31967)      6\n",
       "Václav Binovec (37467)      V. Ch. Vladimírov (38066)       6\n",
       "Josef Kokeisl (55986)       Roman Roda-Růžička (128234)     5\n",
       "Karel Lamač (37847)         Theodor Pištěk (37366)          5\n",
       "Martin Frič (20324)         Zdeněk Štěpánek (87457)         5\n",
       "Miroslav Cikán (31969)      Jindřich Plachta (5829)         5\n",
       "Otakar Vávra (9507)         Karel Höger (38146)             5\n",
       "Svatopluk Innemann (33860)  Theodor Pištěk (37366)          5\n",
       "V. Ch. Vladimírov (38066)   V. Ch. Vladimírov (38066)       5\n",
       "Václav Kubásek (37286)      L. H. Struna (126711)           5\n",
       "Name: Film, dtype: int64"
      ]
     },
     "execution_count": 21,
     "metadata": {},
     "output_type": "execute_result"
    }
   ],
   "source": [
    "df.explode(\"Režie\").groupby([\"Režie\",\"Muž v hlavní roli\"])[\"Film\"].nunique().nlargest(20)"
   ]
  },
  {
   "cell_type": "markdown",
   "id": "cbe6d0ca",
   "metadata": {},
   "source": [
    "## Hvězdnost herectva"
   ]
  },
  {
   "cell_type": "code",
   "execution_count": 22,
   "id": "50770de7",
   "metadata": {},
   "outputs": [],
   "source": [
    "hvezdnost = pd.Series(df.explode(\"Hlavní role\").groupby(\"Hlavní role\")[\"Film\"].nunique() / df.explode(\"Hrají\").groupby(\"Hrají\")[\"Film\"].nunique(), name=\"Hvězdnost\")"
   ]
  },
  {
   "cell_type": "code",
   "execution_count": 23,
   "id": "f03b62f7",
   "metadata": {},
   "outputs": [
    {
     "data": {
      "text/plain": [
       " (person)                        NaN\n",
       " Ajala (77698)                   NaN\n",
       " Baky (13703)                    NaN\n",
       " Bohemia Big Band (18563)        NaN\n",
       " Boni Pueri (22837)              NaN\n",
       "                                ... \n",
       "Žofie Veselá (125302)            NaN\n",
       "Žofie Červená (130187)           NaN\n",
       "Žák (63328)                      NaN\n",
       "Žán Loose (11369)                1.0\n",
       "žáci Scholae cantorum (59846)    NaN\n",
       "Name: Hvězdnost, Length: 16107, dtype: float64"
      ]
     },
     "execution_count": 23,
     "metadata": {},
     "output_type": "execute_result"
    }
   ],
   "source": [
    "hvezdnost"
   ]
  },
  {
   "cell_type": "code",
   "execution_count": 24,
   "id": "c7d6932a",
   "metadata": {},
   "outputs": [],
   "source": [
    "obsazovanost = pd.Series(df.explode(\"Hrají\").groupby(\"Hrají\")[\"Film\"].nunique(), name=\"Obsazovanost\")"
   ]
  },
  {
   "cell_type": "code",
   "execution_count": 25,
   "id": "92caee85",
   "metadata": {},
   "outputs": [
    {
     "data": {
      "text/plain": [
       "Hrají\n",
       " (person)                         2\n",
       " Ajala (77698)                    1\n",
       " Baky (13703)                     1\n",
       " Bohemia Big Band (18563)         1\n",
       " Boni Pueri (22837)               1\n",
       "                                 ..\n",
       "Žofie Veselá (125302)            14\n",
       "Žofie Červená (130187)            1\n",
       "Žák (63328)                       1\n",
       "Žán Loose (11369)                 1\n",
       "žáci Scholae cantorum (59846)     1\n",
       "Name: Obsazovanost, Length: 16107, dtype: int64"
      ]
     },
     "execution_count": 25,
     "metadata": {},
     "output_type": "execute_result"
    }
   ],
   "source": [
    "obsazovanost"
   ]
  },
  {
   "cell_type": "code",
   "execution_count": 26,
   "id": "5d16e26d",
   "metadata": {},
   "outputs": [],
   "source": [
    "hvezdy = pd.DataFrame([hvezdnost, obsazovanost]).transpose()"
   ]
  },
  {
   "cell_type": "code",
   "execution_count": 27,
   "id": "a4aec401",
   "metadata": {},
   "outputs": [
    {
     "data": {
      "text/html": [
       "<div>\n",
       "<style scoped>\n",
       "    .dataframe tbody tr th:only-of-type {\n",
       "        vertical-align: middle;\n",
       "    }\n",
       "\n",
       "    .dataframe tbody tr th {\n",
       "        vertical-align: top;\n",
       "    }\n",
       "\n",
       "    .dataframe thead th {\n",
       "        text-align: right;\n",
       "    }\n",
       "</style>\n",
       "<table border=\"1\" class=\"dataframe\">\n",
       "  <thead>\n",
       "    <tr style=\"text-align: right;\">\n",
       "      <th></th>\n",
       "      <th>Hvězdnost</th>\n",
       "      <th>Obsazovanost</th>\n",
       "    </tr>\n",
       "  </thead>\n",
       "  <tbody>\n",
       "    <tr>\n",
       "      <th>(person)</th>\n",
       "      <td>NaN</td>\n",
       "      <td>2.0</td>\n",
       "    </tr>\n",
       "    <tr>\n",
       "      <th>Ajala (77698)</th>\n",
       "      <td>NaN</td>\n",
       "      <td>1.0</td>\n",
       "    </tr>\n",
       "    <tr>\n",
       "      <th>Baky (13703)</th>\n",
       "      <td>NaN</td>\n",
       "      <td>1.0</td>\n",
       "    </tr>\n",
       "    <tr>\n",
       "      <th>Bohemia Big Band (18563)</th>\n",
       "      <td>NaN</td>\n",
       "      <td>1.0</td>\n",
       "    </tr>\n",
       "    <tr>\n",
       "      <th>Boni Pueri (22837)</th>\n",
       "      <td>NaN</td>\n",
       "      <td>1.0</td>\n",
       "    </tr>\n",
       "    <tr>\n",
       "      <th>...</th>\n",
       "      <td>...</td>\n",
       "      <td>...</td>\n",
       "    </tr>\n",
       "    <tr>\n",
       "      <th>Žofie Veselá (125302)</th>\n",
       "      <td>NaN</td>\n",
       "      <td>14.0</td>\n",
       "    </tr>\n",
       "    <tr>\n",
       "      <th>Žofie Červená (130187)</th>\n",
       "      <td>NaN</td>\n",
       "      <td>1.0</td>\n",
       "    </tr>\n",
       "    <tr>\n",
       "      <th>Žák (63328)</th>\n",
       "      <td>NaN</td>\n",
       "      <td>1.0</td>\n",
       "    </tr>\n",
       "    <tr>\n",
       "      <th>Žán Loose (11369)</th>\n",
       "      <td>1.0</td>\n",
       "      <td>1.0</td>\n",
       "    </tr>\n",
       "    <tr>\n",
       "      <th>žáci Scholae cantorum (59846)</th>\n",
       "      <td>NaN</td>\n",
       "      <td>1.0</td>\n",
       "    </tr>\n",
       "  </tbody>\n",
       "</table>\n",
       "<p>16107 rows × 2 columns</p>\n",
       "</div>"
      ],
      "text/plain": [
       "                               Hvězdnost  Obsazovanost\n",
       " (person)                            NaN           2.0\n",
       " Ajala (77698)                       NaN           1.0\n",
       " Baky (13703)                        NaN           1.0\n",
       " Bohemia Big Band (18563)            NaN           1.0\n",
       " Boni Pueri (22837)                  NaN           1.0\n",
       "...                                  ...           ...\n",
       "Žofie Veselá (125302)                NaN          14.0\n",
       "Žofie Červená (130187)               NaN           1.0\n",
       "Žák (63328)                          NaN           1.0\n",
       "Žán Loose (11369)                    1.0           1.0\n",
       "žáci Scholae cantorum (59846)        NaN           1.0\n",
       "\n",
       "[16107 rows x 2 columns]"
      ]
     },
     "execution_count": 27,
     "metadata": {},
     "output_type": "execute_result"
    }
   ],
   "source": [
    "hvezdy"
   ]
  },
  {
   "cell_type": "code",
   "execution_count": 28,
   "id": "4c8d6052",
   "metadata": {},
   "outputs": [],
   "source": [
    "q = 30"
   ]
  },
  {
   "cell_type": "code",
   "execution_count": 29,
   "id": "89a582c0",
   "metadata": {},
   "outputs": [
    {
     "data": {
      "text/html": [
       "<div>\n",
       "<style scoped>\n",
       "    .dataframe tbody tr th:only-of-type {\n",
       "        vertical-align: middle;\n",
       "    }\n",
       "\n",
       "    .dataframe tbody tr th {\n",
       "        vertical-align: top;\n",
       "    }\n",
       "\n",
       "    .dataframe thead th {\n",
       "        text-align: right;\n",
       "    }\n",
       "</style>\n",
       "<table border=\"1\" class=\"dataframe\">\n",
       "  <thead>\n",
       "    <tr style=\"text-align: right;\">\n",
       "      <th></th>\n",
       "      <th>Hvězdnost</th>\n",
       "      <th>Obsazovanost</th>\n",
       "    </tr>\n",
       "  </thead>\n",
       "  <tbody>\n",
       "    <tr>\n",
       "      <th>Vlasta Burian (11992)</th>\n",
       "      <td>0.974359</td>\n",
       "      <td>39.0</td>\n",
       "    </tr>\n",
       "    <tr>\n",
       "      <th>Suzanne Marwille (127373)</th>\n",
       "      <td>0.900000</td>\n",
       "      <td>40.0</td>\n",
       "    </tr>\n",
       "    <tr>\n",
       "      <th>Anny Ondráková (127280)</th>\n",
       "      <td>0.810811</td>\n",
       "      <td>37.0</td>\n",
       "    </tr>\n",
       "    <tr>\n",
       "      <th>Hugo Haas (37289)</th>\n",
       "      <td>0.766667</td>\n",
       "      <td>30.0</td>\n",
       "    </tr>\n",
       "    <tr>\n",
       "      <th>Karel Lamač (37847)</th>\n",
       "      <td>0.698413</td>\n",
       "      <td>63.0</td>\n",
       "    </tr>\n",
       "    <tr>\n",
       "      <th>Karel Roden (494)</th>\n",
       "      <td>0.698113</td>\n",
       "      <td>53.0</td>\n",
       "    </tr>\n",
       "    <tr>\n",
       "      <th>Karel Höger (38146)</th>\n",
       "      <td>0.691176</td>\n",
       "      <td>68.0</td>\n",
       "    </tr>\n",
       "    <tr>\n",
       "      <th>Anna Geislerová (5433)</th>\n",
       "      <td>0.685714</td>\n",
       "      <td>35.0</td>\n",
       "    </tr>\n",
       "    <tr>\n",
       "      <th>Jana Brejchová (7710)</th>\n",
       "      <td>0.666667</td>\n",
       "      <td>60.0</td>\n",
       "    </tr>\n",
       "    <tr>\n",
       "      <th>Oldřich Nový (12009)</th>\n",
       "      <td>0.658537</td>\n",
       "      <td>41.0</td>\n",
       "    </tr>\n",
       "    <tr>\n",
       "      <th>Lída Baarová (5202)</th>\n",
       "      <td>0.656250</td>\n",
       "      <td>32.0</td>\n",
       "    </tr>\n",
       "    <tr>\n",
       "      <th>Zdeněk Štěpánek (87457)</th>\n",
       "      <td>0.640625</td>\n",
       "      <td>64.0</td>\n",
       "    </tr>\n",
       "    <tr>\n",
       "      <th>Hana Vítová (126418)</th>\n",
       "      <td>0.620690</td>\n",
       "      <td>58.0</td>\n",
       "    </tr>\n",
       "    <tr>\n",
       "      <th>Tatiana Vilhelmová (935)</th>\n",
       "      <td>0.600000</td>\n",
       "      <td>30.0</td>\n",
       "    </tr>\n",
       "    <tr>\n",
       "      <th>Otomar Korbelář (126899)</th>\n",
       "      <td>0.586957</td>\n",
       "      <td>46.0</td>\n",
       "    </tr>\n",
       "    <tr>\n",
       "      <th>Jiří Vala (17786)</th>\n",
       "      <td>0.580645</td>\n",
       "      <td>31.0</td>\n",
       "    </tr>\n",
       "    <tr>\n",
       "      <th>Jaromír Hanzlík (14425)</th>\n",
       "      <td>0.565217</td>\n",
       "      <td>46.0</td>\n",
       "    </tr>\n",
       "    <tr>\n",
       "      <th>Eduard Cupák (4944)</th>\n",
       "      <td>0.565217</td>\n",
       "      <td>46.0</td>\n",
       "    </tr>\n",
       "    <tr>\n",
       "      <th>Boleslav Polívka (1556)</th>\n",
       "      <td>0.564516</td>\n",
       "      <td>62.0</td>\n",
       "    </tr>\n",
       "    <tr>\n",
       "      <th>Václav Voska (76149)</th>\n",
       "      <td>0.548387</td>\n",
       "      <td>31.0</td>\n",
       "    </tr>\n",
       "    <tr>\n",
       "      <th>Kryštof Hádek (1830)</th>\n",
       "      <td>0.548387</td>\n",
       "      <td>31.0</td>\n",
       "    </tr>\n",
       "    <tr>\n",
       "      <th>Jiří Adamíra (4730)</th>\n",
       "      <td>0.542857</td>\n",
       "      <td>35.0</td>\n",
       "    </tr>\n",
       "    <tr>\n",
       "      <th>Adina Mandlová (55611)</th>\n",
       "      <td>0.541667</td>\n",
       "      <td>48.0</td>\n",
       "    </tr>\n",
       "    <tr>\n",
       "      <th>Iva Janžurová (1049)</th>\n",
       "      <td>0.523077</td>\n",
       "      <td>65.0</td>\n",
       "    </tr>\n",
       "    <tr>\n",
       "      <th>Jiřina Štěpničková (29765)</th>\n",
       "      <td>0.521739</td>\n",
       "      <td>46.0</td>\n",
       "    </tr>\n",
       "    <tr>\n",
       "      <th>Josef Abrhám (2274)</th>\n",
       "      <td>0.519231</td>\n",
       "      <td>52.0</td>\n",
       "    </tr>\n",
       "    <tr>\n",
       "      <th>Oldřich Kaiser (1794)</th>\n",
       "      <td>0.511111</td>\n",
       "      <td>45.0</td>\n",
       "    </tr>\n",
       "    <tr>\n",
       "      <th>Lukáš Vaculík (3864)</th>\n",
       "      <td>0.500000</td>\n",
       "      <td>30.0</td>\n",
       "    </tr>\n",
       "    <tr>\n",
       "      <th>Vladimír Dlouhý (5496)</th>\n",
       "      <td>0.500000</td>\n",
       "      <td>32.0</td>\n",
       "    </tr>\n",
       "    <tr>\n",
       "      <th>Daniela Kolářová (1847)</th>\n",
       "      <td>0.500000</td>\n",
       "      <td>30.0</td>\n",
       "    </tr>\n",
       "    <tr>\n",
       "      <th>Antonie Nedošinská (127295)</th>\n",
       "      <td>0.500000</td>\n",
       "      <td>92.0</td>\n",
       "    </tr>\n",
       "    <tr>\n",
       "      <th>Jana Hlaváčová (11370)</th>\n",
       "      <td>0.500000</td>\n",
       "      <td>32.0</td>\n",
       "    </tr>\n",
       "    <tr>\n",
       "      <th>Jiří Sovák (5288)</th>\n",
       "      <td>0.494737</td>\n",
       "      <td>95.0</td>\n",
       "    </tr>\n",
       "    <tr>\n",
       "      <th>Libuše Šafránková (2272)</th>\n",
       "      <td>0.483871</td>\n",
       "      <td>31.0</td>\n",
       "    </tr>\n",
       "    <tr>\n",
       "      <th>Ladislav Boháč (127074)</th>\n",
       "      <td>0.481481</td>\n",
       "      <td>54.0</td>\n",
       "    </tr>\n",
       "    <tr>\n",
       "      <th>Pavel Kříž (2990)</th>\n",
       "      <td>0.466667</td>\n",
       "      <td>30.0</td>\n",
       "    </tr>\n",
       "    <tr>\n",
       "      <th>Jiřina Šejbalová (125559)</th>\n",
       "      <td>0.465116</td>\n",
       "      <td>43.0</td>\n",
       "    </tr>\n",
       "    <tr>\n",
       "      <th>Rudolf Hrušínský (4842)</th>\n",
       "      <td>0.452991</td>\n",
       "      <td>117.0</td>\n",
       "    </tr>\n",
       "    <tr>\n",
       "      <th>Tomáš Hanák (198)</th>\n",
       "      <td>0.450000</td>\n",
       "      <td>40.0</td>\n",
       "    </tr>\n",
       "    <tr>\n",
       "      <th>Ondřej Vetchý (836)</th>\n",
       "      <td>0.445946</td>\n",
       "      <td>74.0</td>\n",
       "    </tr>\n",
       "    <tr>\n",
       "      <th>Jiří Bartoška (827)</th>\n",
       "      <td>0.442623</td>\n",
       "      <td>61.0</td>\n",
       "    </tr>\n",
       "    <tr>\n",
       "      <th>Jiří Langmajer (2981)</th>\n",
       "      <td>0.439024</td>\n",
       "      <td>41.0</td>\n",
       "    </tr>\n",
       "    <tr>\n",
       "      <th>Otomar Krejča (7597)</th>\n",
       "      <td>0.435897</td>\n",
       "      <td>39.0</td>\n",
       "    </tr>\n",
       "    <tr>\n",
       "      <th>Marie Glázrová (5247)</th>\n",
       "      <td>0.432432</td>\n",
       "      <td>37.0</td>\n",
       "    </tr>\n",
       "    <tr>\n",
       "      <th>Radoslav Brzobohatý (2770)</th>\n",
       "      <td>0.430556</td>\n",
       "      <td>72.0</td>\n",
       "    </tr>\n",
       "    <tr>\n",
       "      <th>Petr Čepek (4764)</th>\n",
       "      <td>0.423077</td>\n",
       "      <td>52.0</td>\n",
       "    </tr>\n",
       "    <tr>\n",
       "      <th>Jan Tříska (4834)</th>\n",
       "      <td>0.421053</td>\n",
       "      <td>38.0</td>\n",
       "    </tr>\n",
       "    <tr>\n",
       "      <th>Jana Šulcová (19707)</th>\n",
       "      <td>0.419355</td>\n",
       "      <td>31.0</td>\n",
       "    </tr>\n",
       "    <tr>\n",
       "      <th>Ivan Vyskočil (2671)</th>\n",
       "      <td>0.416667</td>\n",
       "      <td>48.0</td>\n",
       "    </tr>\n",
       "    <tr>\n",
       "      <th>Vlastimil Brodský (833)</th>\n",
       "      <td>0.413793</td>\n",
       "      <td>116.0</td>\n",
       "    </tr>\n",
       "    <tr>\n",
       "      <th>Petr Kostka (27684)</th>\n",
       "      <td>0.409091</td>\n",
       "      <td>44.0</td>\n",
       "    </tr>\n",
       "    <tr>\n",
       "      <th>Vilma Cibulková (2416)</th>\n",
       "      <td>0.406250</td>\n",
       "      <td>32.0</td>\n",
       "    </tr>\n",
       "    <tr>\n",
       "      <th>Miroslav Donutil (7954)</th>\n",
       "      <td>0.406250</td>\n",
       "      <td>32.0</td>\n",
       "    </tr>\n",
       "    <tr>\n",
       "      <th>Vladimír Ráž (2991)</th>\n",
       "      <td>0.404255</td>\n",
       "      <td>47.0</td>\n",
       "    </tr>\n",
       "    <tr>\n",
       "      <th>Jiří Schmitzer (2936)</th>\n",
       "      <td>0.403846</td>\n",
       "      <td>52.0</td>\n",
       "    </tr>\n",
       "    <tr>\n",
       "      <th>Karel Heřmánek (6274)</th>\n",
       "      <td>0.400000</td>\n",
       "      <td>45.0</td>\n",
       "    </tr>\n",
       "    <tr>\n",
       "      <th>Máňa Ženíšková (126674)</th>\n",
       "      <td>0.393939</td>\n",
       "      <td>33.0</td>\n",
       "    </tr>\n",
       "    <tr>\n",
       "      <th>Nataša Gollová (36491)</th>\n",
       "      <td>0.391304</td>\n",
       "      <td>46.0</td>\n",
       "    </tr>\n",
       "    <tr>\n",
       "      <th>František Smolík (126955)</th>\n",
       "      <td>0.387500</td>\n",
       "      <td>80.0</td>\n",
       "    </tr>\n",
       "    <tr>\n",
       "      <th>Jiří Ornest (6011)</th>\n",
       "      <td>0.387097</td>\n",
       "      <td>31.0</td>\n",
       "    </tr>\n",
       "  </tbody>\n",
       "</table>\n",
       "</div>"
      ],
      "text/plain": [
       "                             Hvězdnost  Obsazovanost\n",
       "Vlasta Burian (11992)         0.974359          39.0\n",
       "Suzanne Marwille (127373)     0.900000          40.0\n",
       "Anny Ondráková (127280)       0.810811          37.0\n",
       "Hugo Haas (37289)             0.766667          30.0\n",
       "Karel Lamač (37847)           0.698413          63.0\n",
       "Karel Roden (494)             0.698113          53.0\n",
       "Karel Höger (38146)           0.691176          68.0\n",
       "Anna Geislerová (5433)        0.685714          35.0\n",
       "Jana Brejchová (7710)         0.666667          60.0\n",
       "Oldřich Nový (12009)          0.658537          41.0\n",
       "Lída Baarová (5202)           0.656250          32.0\n",
       "Zdeněk Štěpánek (87457)       0.640625          64.0\n",
       "Hana Vítová (126418)          0.620690          58.0\n",
       "Tatiana Vilhelmová (935)      0.600000          30.0\n",
       "Otomar Korbelář (126899)      0.586957          46.0\n",
       "Jiří Vala (17786)             0.580645          31.0\n",
       "Jaromír Hanzlík (14425)       0.565217          46.0\n",
       "Eduard Cupák (4944)           0.565217          46.0\n",
       "Boleslav Polívka (1556)       0.564516          62.0\n",
       "Václav Voska (76149)          0.548387          31.0\n",
       "Kryštof Hádek (1830)          0.548387          31.0\n",
       "Jiří Adamíra (4730)           0.542857          35.0\n",
       "Adina Mandlová (55611)        0.541667          48.0\n",
       "Iva Janžurová (1049)          0.523077          65.0\n",
       "Jiřina Štěpničková (29765)    0.521739          46.0\n",
       "Josef Abrhám (2274)           0.519231          52.0\n",
       "Oldřich Kaiser (1794)         0.511111          45.0\n",
       "Lukáš Vaculík (3864)          0.500000          30.0\n",
       "Vladimír Dlouhý (5496)        0.500000          32.0\n",
       "Daniela Kolářová (1847)       0.500000          30.0\n",
       "Antonie Nedošinská (127295)   0.500000          92.0\n",
       "Jana Hlaváčová (11370)        0.500000          32.0\n",
       "Jiří Sovák (5288)             0.494737          95.0\n",
       "Libuše Šafránková (2272)      0.483871          31.0\n",
       "Ladislav Boháč (127074)       0.481481          54.0\n",
       "Pavel Kříž (2990)             0.466667          30.0\n",
       "Jiřina Šejbalová (125559)     0.465116          43.0\n",
       "Rudolf Hrušínský (4842)       0.452991         117.0\n",
       "Tomáš Hanák (198)             0.450000          40.0\n",
       "Ondřej Vetchý (836)           0.445946          74.0\n",
       "Jiří Bartoška (827)           0.442623          61.0\n",
       "Jiří Langmajer (2981)         0.439024          41.0\n",
       "Otomar Krejča (7597)          0.435897          39.0\n",
       "Marie Glázrová (5247)         0.432432          37.0\n",
       "Radoslav Brzobohatý (2770)    0.430556          72.0\n",
       "Petr Čepek (4764)             0.423077          52.0\n",
       "Jan Tříska (4834)             0.421053          38.0\n",
       "Jana Šulcová (19707)          0.419355          31.0\n",
       "Ivan Vyskočil (2671)          0.416667          48.0\n",
       "Vlastimil Brodský (833)       0.413793         116.0\n",
       "Petr Kostka (27684)           0.409091          44.0\n",
       "Vilma Cibulková (2416)        0.406250          32.0\n",
       "Miroslav Donutil (7954)       0.406250          32.0\n",
       "Vladimír Ráž (2991)           0.404255          47.0\n",
       "Jiří Schmitzer (2936)         0.403846          52.0\n",
       "Karel Heřmánek (6274)         0.400000          45.0\n",
       "Máňa Ženíšková (126674)       0.393939          33.0\n",
       "Nataša Gollová (36491)        0.391304          46.0\n",
       "František Smolík (126955)     0.387500          80.0\n",
       "Jiří Ornest (6011)            0.387097          31.0"
      ]
     },
     "execution_count": 29,
     "metadata": {},
     "output_type": "execute_result"
    }
   ],
   "source": [
    "hvezdy[hvezdy[\"Obsazovanost\"] >= q].sort_values(by=\"Hvězdnost\", ascending=False).head(60)"
   ]
  },
  {
   "cell_type": "code",
   "execution_count": 30,
   "id": "a7346978",
   "metadata": {},
   "outputs": [
    {
     "data": {
      "text/html": [
       "<div>\n",
       "<style scoped>\n",
       "    .dataframe tbody tr th:only-of-type {\n",
       "        vertical-align: middle;\n",
       "    }\n",
       "\n",
       "    .dataframe tbody tr th {\n",
       "        vertical-align: top;\n",
       "    }\n",
       "\n",
       "    .dataframe thead th {\n",
       "        text-align: right;\n",
       "    }\n",
       "</style>\n",
       "<table border=\"1\" class=\"dataframe\">\n",
       "  <thead>\n",
       "    <tr style=\"text-align: right;\">\n",
       "      <th></th>\n",
       "      <th>Film</th>\n",
       "      <th>Země původu</th>\n",
       "      <th>Copyright</th>\n",
       "      <th>Rok výroby</th>\n",
       "      <th>Premiéra</th>\n",
       "      <th>Minutáž</th>\n",
       "      <th>Režie</th>\n",
       "      <th>Kategorie</th>\n",
       "      <th>Žánr</th>\n",
       "      <th>Typologie</th>\n",
       "      <th>...</th>\n",
       "      <th>Rychlost</th>\n",
       "      <th>Přístupnost</th>\n",
       "      <th>Začátek výroby</th>\n",
       "      <th>Konec výroby</th>\n",
       "      <th>Hlavní role</th>\n",
       "      <th>Vedlejší role</th>\n",
       "      <th>Muži v hlavních rolích</th>\n",
       "      <th>Ženy v hlavních rolích</th>\n",
       "      <th>Muž v hlavní roli</th>\n",
       "      <th>Žena v hlavní roli</th>\n",
       "    </tr>\n",
       "  </thead>\n",
       "  <tbody>\n",
       "    <tr>\n",
       "      <th>1459</th>\n",
       "      <td>Zaostřit prosím! (396247)</td>\n",
       "      <td>Československo</td>\n",
       "      <td>1956</td>\n",
       "      <td>1956</td>\n",
       "      <td>premiéra 25. 12. 1956 /přístupný mládeži/ (kin...</td>\n",
       "      <td>77.0</td>\n",
       "      <td>Martin Frič (20324)</td>\n",
       "      <td>film</td>\n",
       "      <td>[komedie, satira]</td>\n",
       "      <td>[hraný, distribuční]</td>\n",
       "      <td>...</td>\n",
       "      <td>None</td>\n",
       "      <td>None</td>\n",
       "      <td>1956</td>\n",
       "      <td>1956</td>\n",
       "      <td>[Jan Pivec (127312), Josef Kemr (4897), Zdeňka...</td>\n",
       "      <td>Vlasta Burian (11992)</td>\n",
       "      <td>[Jan Pivec (127312), Josef Kemr (4897)]</td>\n",
       "      <td>[Zdeňka Baldová (28798)]</td>\n",
       "      <td>Jan Pivec (127312)</td>\n",
       "      <td>Zdeňka Baldová (28798)</td>\n",
       "    </tr>\n",
       "  </tbody>\n",
       "</table>\n",
       "<p>1 rows × 137 columns</p>\n",
       "</div>"
      ],
      "text/plain": [
       "                           Film     Země původu  Copyright Rok výroby   \n",
       "1459  Zaostřit prosím! (396247)  Československo       1956       1956  \\\n",
       "\n",
       "                                               Premiéra  Minutáž   \n",
       "1459  premiéra 25. 12. 1956 /přístupný mládeži/ (kin...     77.0  \\\n",
       "\n",
       "                    Režie Kategorie               Žánr             Typologie   \n",
       "1459  Martin Frič (20324)      film  [komedie, satira]  [hraný, distribuční]  \\\n",
       "\n",
       "      ... Rychlost Přístupnost Začátek výroby Konec výroby   \n",
       "1459  ...     None        None           1956         1956  \\\n",
       "\n",
       "                                            Hlavní role   \n",
       "1459  [Jan Pivec (127312), Josef Kemr (4897), Zdeňka...  \\\n",
       "\n",
       "              Vedlejší role                   Muži v hlavních rolích   \n",
       "1459  Vlasta Burian (11992)  [Jan Pivec (127312), Josef Kemr (4897)]  \\\n",
       "\n",
       "        Ženy v hlavních rolích   Muž v hlavní roli      Žena v hlavní roli  \n",
       "1459  [Zdeňka Baldová (28798)]  Jan Pivec (127312)  Zdeňka Baldová (28798)  \n",
       "\n",
       "[1 rows x 137 columns]"
      ]
     },
     "execution_count": 30,
     "metadata": {},
     "output_type": "execute_result"
    }
   ],
   "source": [
    "burian = df.explode(\"Vedlejší role\")\n",
    "burian[burian[\"Vedlejší role\"] == \"Vlasta Burian (11992)\"]"
   ]
  },
  {
   "cell_type": "code",
   "execution_count": 31,
   "id": "7f539d91",
   "metadata": {
    "scrolled": true
   },
   "outputs": [
    {
     "data": {
      "text/html": [
       "<div>\n",
       "<style scoped>\n",
       "    .dataframe tbody tr th:only-of-type {\n",
       "        vertical-align: middle;\n",
       "    }\n",
       "\n",
       "    .dataframe tbody tr th {\n",
       "        vertical-align: top;\n",
       "    }\n",
       "\n",
       "    .dataframe thead th {\n",
       "        text-align: right;\n",
       "    }\n",
       "</style>\n",
       "<table border=\"1\" class=\"dataframe\">\n",
       "  <thead>\n",
       "    <tr style=\"text-align: right;\">\n",
       "      <th></th>\n",
       "      <th>Hvězdnost</th>\n",
       "      <th>Obsazovanost</th>\n",
       "    </tr>\n",
       "  </thead>\n",
       "  <tbody>\n",
       "    <tr>\n",
       "      <th>Karel Hovorka (76534)</th>\n",
       "      <td>NaN</td>\n",
       "      <td>135.0</td>\n",
       "    </tr>\n",
       "    <tr>\n",
       "      <th>Vladimír Navrátil (12670)</th>\n",
       "      <td>NaN</td>\n",
       "      <td>126.0</td>\n",
       "    </tr>\n",
       "    <tr>\n",
       "      <th>Jan Kuželka (1445)</th>\n",
       "      <td>NaN</td>\n",
       "      <td>116.0</td>\n",
       "    </tr>\n",
       "    <tr>\n",
       "      <th>Zdeněk Srstka (7960)</th>\n",
       "      <td>NaN</td>\n",
       "      <td>111.0</td>\n",
       "    </tr>\n",
       "    <tr>\n",
       "      <th>Karel Bělohradský (6370)</th>\n",
       "      <td>NaN</td>\n",
       "      <td>101.0</td>\n",
       "    </tr>\n",
       "    <tr>\n",
       "      <th>Zdeněk Skalický (126510)</th>\n",
       "      <td>NaN</td>\n",
       "      <td>93.0</td>\n",
       "    </tr>\n",
       "    <tr>\n",
       "      <th>Jan Cmíral (125562)</th>\n",
       "      <td>NaN</td>\n",
       "      <td>92.0</td>\n",
       "    </tr>\n",
       "    <tr>\n",
       "      <th>Antonín Jirsa (129711)</th>\n",
       "      <td>NaN</td>\n",
       "      <td>87.0</td>\n",
       "    </tr>\n",
       "    <tr>\n",
       "      <th>Vítězslav Černý (126687)</th>\n",
       "      <td>NaN</td>\n",
       "      <td>85.0</td>\n",
       "    </tr>\n",
       "    <tr>\n",
       "      <th>Vladimír Smíchovský (127807)</th>\n",
       "      <td>NaN</td>\n",
       "      <td>83.0</td>\n",
       "    </tr>\n",
       "  </tbody>\n",
       "</table>\n",
       "</div>"
      ],
      "text/plain": [
       "                              Hvězdnost  Obsazovanost\n",
       "Karel Hovorka (76534)               NaN         135.0\n",
       "Vladimír Navrátil (12670)           NaN         126.0\n",
       "Jan Kuželka (1445)                  NaN         116.0\n",
       "Zdeněk Srstka (7960)                NaN         111.0\n",
       "Karel Bělohradský (6370)            NaN         101.0\n",
       "Zdeněk Skalický (126510)            NaN          93.0\n",
       "Jan Cmíral (125562)                 NaN          92.0\n",
       "Antonín Jirsa (129711)              NaN          87.0\n",
       "Vítězslav Černý (126687)            NaN          85.0\n",
       "Vladimír Smíchovský (127807)        NaN          83.0"
      ]
     },
     "execution_count": 31,
     "metadata": {},
     "output_type": "execute_result"
    }
   ],
   "source": [
    "hvezdy[(hvezdy[\"Obsazovanost\"] >= 30) & (hvezdy[\"Hvězdnost\"].isnull())].sort_values(by=\"Obsazovanost\", ascending=False).head(10)"
   ]
  },
  {
   "cell_type": "code",
   "execution_count": 32,
   "id": "110ed461",
   "metadata": {},
   "outputs": [
    {
     "data": {
      "text/plain": [
       "(108, 2)"
      ]
     },
     "execution_count": 32,
     "metadata": {},
     "output_type": "execute_result"
    }
   ],
   "source": [
    "hvezdy[(hvezdy[\"Obsazovanost\"] >= 30) & (hvezdy[\"Hvězdnost\"].isnull())].sort_values(by=\"Obsazovanost\", ascending=False).shape"
   ]
  },
  {
   "cell_type": "code",
   "execution_count": 33,
   "id": "489b557f",
   "metadata": {},
   "outputs": [
    {
     "data": {
      "text/html": [
       "<div>\n",
       "<style scoped>\n",
       "    .dataframe tbody tr th:only-of-type {\n",
       "        vertical-align: middle;\n",
       "    }\n",
       "\n",
       "    .dataframe tbody tr th {\n",
       "        vertical-align: top;\n",
       "    }\n",
       "\n",
       "    .dataframe thead th {\n",
       "        text-align: right;\n",
       "    }\n",
       "</style>\n",
       "<table border=\"1\" class=\"dataframe\">\n",
       "  <thead>\n",
       "    <tr style=\"text-align: right;\">\n",
       "      <th></th>\n",
       "      <th>Hvězdnost</th>\n",
       "      <th>Obsazovanost</th>\n",
       "    </tr>\n",
       "  </thead>\n",
       "  <tbody>\n",
       "    <tr>\n",
       "      <th>Jaroslav Tomsa (2576)</th>\n",
       "      <td>0.006579</td>\n",
       "      <td>152.0</td>\n",
       "    </tr>\n",
       "    <tr>\n",
       "      <th>Jiřina Bílá (3629)</th>\n",
       "      <td>0.008696</td>\n",
       "      <td>115.0</td>\n",
       "    </tr>\n",
       "    <tr>\n",
       "      <th>Karel Engel (14390)</th>\n",
       "      <td>0.009174</td>\n",
       "      <td>109.0</td>\n",
       "    </tr>\n",
       "    <tr>\n",
       "      <th>Josef Oliak (128024)</th>\n",
       "      <td>0.010417</td>\n",
       "      <td>96.0</td>\n",
       "    </tr>\n",
       "    <tr>\n",
       "      <th>Emanuel Hříbal (127758)</th>\n",
       "      <td>0.010753</td>\n",
       "      <td>93.0</td>\n",
       "    </tr>\n",
       "    <tr>\n",
       "      <th>Josef Steigl (128760)</th>\n",
       "      <td>0.012346</td>\n",
       "      <td>81.0</td>\n",
       "    </tr>\n",
       "    <tr>\n",
       "      <th>Karel Pavlík (126439)</th>\n",
       "      <td>0.012658</td>\n",
       "      <td>79.0</td>\n",
       "    </tr>\n",
       "    <tr>\n",
       "      <th>Viktor Maurer (78076)</th>\n",
       "      <td>0.013889</td>\n",
       "      <td>72.0</td>\n",
       "    </tr>\n",
       "    <tr>\n",
       "      <th>F. X. Mlejnek (128287)</th>\n",
       "      <td>0.015385</td>\n",
       "      <td>130.0</td>\n",
       "    </tr>\n",
       "    <tr>\n",
       "      <th>Karel Augusta (5058)</th>\n",
       "      <td>0.015625</td>\n",
       "      <td>128.0</td>\n",
       "    </tr>\n",
       "  </tbody>\n",
       "</table>\n",
       "</div>"
      ],
      "text/plain": [
       "                         Hvězdnost  Obsazovanost\n",
       "Jaroslav Tomsa (2576)     0.006579         152.0\n",
       "Jiřina Bílá (3629)        0.008696         115.0\n",
       "Karel Engel (14390)       0.009174         109.0\n",
       "Josef Oliak (128024)      0.010417          96.0\n",
       "Emanuel Hříbal (127758)   0.010753          93.0\n",
       "Josef Steigl (128760)     0.012346          81.0\n",
       "Karel Pavlík (126439)     0.012658          79.0\n",
       "Viktor Maurer (78076)     0.013889          72.0\n",
       "F. X. Mlejnek (128287)    0.015385         130.0\n",
       "Karel Augusta (5058)      0.015625         128.0"
      ]
     },
     "execution_count": 33,
     "metadata": {},
     "output_type": "execute_result"
    }
   ],
   "source": [
    "hvezdy[(hvezdy[\"Obsazovanost\"] >= 30) & (~hvezdy[\"Hvězdnost\"].isnull())].sort_values(by=\"Hvězdnost\", ascending=True).head(10)"
   ]
  }
 ],
 "metadata": {
  "kernelspec": {
   "display_name": "Python 3 (ipykernel)",
   "language": "python",
   "name": "python3"
  },
  "language_info": {
   "codemirror_mode": {
    "name": "ipython",
    "version": 3
   },
   "file_extension": ".py",
   "mimetype": "text/x-python",
   "name": "python",
   "nbconvert_exporter": "python",
   "pygments_lexer": "ipython3",
   "version": "3.10.8"
  }
 },
 "nbformat": 4,
 "nbformat_minor": 5
}
