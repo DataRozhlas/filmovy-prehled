{
 "cells": [
  {
   "cell_type": "code",
   "execution_count": 1,
   "id": "5a010dde",
   "metadata": {},
   "outputs": [],
   "source": [
    "import os\n",
    "import pandas as pd\n",
    "herectvo = pd.read_json(os.path.join(\"data\", \"herectvo.json\"))\n",
    "pd.set_option('display.max_columns', None)"
   ]
  },
  {
   "cell_type": "code",
   "execution_count": 2,
   "id": "b4112520",
   "metadata": {},
   "outputs": [
    {
     "ename": "KeyError",
     "evalue": "'Úloha'",
     "output_type": "error",
     "traceback": [
      "\u001b[1;31m---------------------------------------------------------------------------\u001b[0m",
      "\u001b[1;31mKeyError\u001b[0m                                  Traceback (most recent call last)",
      "File \u001b[1;32mC:\\Python310\\lib\\site-packages\\pandas\\core\\indexes\\base.py:3652\u001b[0m, in \u001b[0;36mIndex.get_loc\u001b[1;34m(self, key)\u001b[0m\n\u001b[0;32m   3651\u001b[0m \u001b[38;5;28;01mtry\u001b[39;00m:\n\u001b[1;32m-> 3652\u001b[0m     \u001b[38;5;28;01mreturn\u001b[39;00m \u001b[38;5;28;43mself\u001b[39;49m\u001b[38;5;241;43m.\u001b[39;49m\u001b[43m_engine\u001b[49m\u001b[38;5;241;43m.\u001b[39;49m\u001b[43mget_loc\u001b[49m\u001b[43m(\u001b[49m\u001b[43mcasted_key\u001b[49m\u001b[43m)\u001b[49m\n\u001b[0;32m   3653\u001b[0m \u001b[38;5;28;01mexcept\u001b[39;00m \u001b[38;5;167;01mKeyError\u001b[39;00m \u001b[38;5;28;01mas\u001b[39;00m err:\n",
      "File \u001b[1;32mC:\\Python310\\lib\\site-packages\\pandas\\_libs\\index.pyx:147\u001b[0m, in \u001b[0;36mpandas._libs.index.IndexEngine.get_loc\u001b[1;34m()\u001b[0m\n",
      "File \u001b[1;32mC:\\Python310\\lib\\site-packages\\pandas\\_libs\\index.pyx:176\u001b[0m, in \u001b[0;36mpandas._libs.index.IndexEngine.get_loc\u001b[1;34m()\u001b[0m\n",
      "File \u001b[1;32mpandas\\_libs\\hashtable_class_helper.pxi:7080\u001b[0m, in \u001b[0;36mpandas._libs.hashtable.PyObjectHashTable.get_item\u001b[1;34m()\u001b[0m\n",
      "File \u001b[1;32mpandas\\_libs\\hashtable_class_helper.pxi:7088\u001b[0m, in \u001b[0;36mpandas._libs.hashtable.PyObjectHashTable.get_item\u001b[1;34m()\u001b[0m\n",
      "\u001b[1;31mKeyError\u001b[0m: 'Úloha'",
      "\nThe above exception was the direct cause of the following exception:\n",
      "\u001b[1;31mKeyError\u001b[0m                                  Traceback (most recent call last)",
      "Cell \u001b[1;32mIn[2], line 2\u001b[0m\n\u001b[0;32m      1\u001b[0m herectvo \u001b[38;5;241m=\u001b[39m herectvo\u001b[38;5;241m.\u001b[39mexplode(\u001b[38;5;124m\"\u001b[39m\u001b[38;5;124mRole\u001b[39m\u001b[38;5;124m\"\u001b[39m)\n\u001b[1;32m----> 2\u001b[0m herectvo \u001b[38;5;241m=\u001b[39m \u001b[43mherectvo\u001b[49m\u001b[38;5;241;43m.\u001b[39;49m\u001b[43mexplode\u001b[49m\u001b[43m(\u001b[49m\u001b[38;5;124;43m\"\u001b[39;49m\u001b[38;5;124;43mÚloha\u001b[39;49m\u001b[38;5;124;43m\"\u001b[39;49m\u001b[43m)\u001b[49m\n\u001b[0;32m      3\u001b[0m herectvo \u001b[38;5;241m=\u001b[39m herectvo[herectvo[\u001b[38;5;124m\"\u001b[39m\u001b[38;5;124mÚloha\u001b[39m\u001b[38;5;124m\"\u001b[39m] \u001b[38;5;241m==\u001b[39m \u001b[38;5;124m\"\u001b[39m\u001b[38;5;124mHrají\u001b[39m\u001b[38;5;124m\"\u001b[39m]\n",
      "File \u001b[1;32mC:\\Python310\\lib\\site-packages\\pandas\\core\\frame.py:8881\u001b[0m, in \u001b[0;36mDataFrame.explode\u001b[1;34m(self, column, ignore_index)\u001b[0m\n\u001b[0;32m   8879\u001b[0m df \u001b[38;5;241m=\u001b[39m \u001b[38;5;28mself\u001b[39m\u001b[38;5;241m.\u001b[39mreset_index(drop\u001b[38;5;241m=\u001b[39m\u001b[38;5;28;01mTrue\u001b[39;00m)\n\u001b[0;32m   8880\u001b[0m \u001b[38;5;28;01mif\u001b[39;00m \u001b[38;5;28mlen\u001b[39m(columns) \u001b[38;5;241m==\u001b[39m \u001b[38;5;241m1\u001b[39m:\n\u001b[1;32m-> 8881\u001b[0m     result \u001b[38;5;241m=\u001b[39m \u001b[43mdf\u001b[49m\u001b[43m[\u001b[49m\u001b[43mcolumns\u001b[49m\u001b[43m[\u001b[49m\u001b[38;5;241;43m0\u001b[39;49m\u001b[43m]\u001b[49m\u001b[43m]\u001b[49m\u001b[38;5;241m.\u001b[39mexplode()\n\u001b[0;32m   8882\u001b[0m \u001b[38;5;28;01melse\u001b[39;00m:\n\u001b[0;32m   8883\u001b[0m     mylen \u001b[38;5;241m=\u001b[39m \u001b[38;5;28;01mlambda\u001b[39;00m x: \u001b[38;5;28mlen\u001b[39m(x) \u001b[38;5;28;01mif\u001b[39;00m (is_list_like(x) \u001b[38;5;129;01mand\u001b[39;00m \u001b[38;5;28mlen\u001b[39m(x) \u001b[38;5;241m>\u001b[39m \u001b[38;5;241m0\u001b[39m) \u001b[38;5;28;01melse\u001b[39;00m \u001b[38;5;241m1\u001b[39m\n",
      "File \u001b[1;32mC:\\Python310\\lib\\site-packages\\pandas\\core\\frame.py:3761\u001b[0m, in \u001b[0;36mDataFrame.__getitem__\u001b[1;34m(self, key)\u001b[0m\n\u001b[0;32m   3759\u001b[0m \u001b[38;5;28;01mif\u001b[39;00m \u001b[38;5;28mself\u001b[39m\u001b[38;5;241m.\u001b[39mcolumns\u001b[38;5;241m.\u001b[39mnlevels \u001b[38;5;241m>\u001b[39m \u001b[38;5;241m1\u001b[39m:\n\u001b[0;32m   3760\u001b[0m     \u001b[38;5;28;01mreturn\u001b[39;00m \u001b[38;5;28mself\u001b[39m\u001b[38;5;241m.\u001b[39m_getitem_multilevel(key)\n\u001b[1;32m-> 3761\u001b[0m indexer \u001b[38;5;241m=\u001b[39m \u001b[38;5;28;43mself\u001b[39;49m\u001b[38;5;241;43m.\u001b[39;49m\u001b[43mcolumns\u001b[49m\u001b[38;5;241;43m.\u001b[39;49m\u001b[43mget_loc\u001b[49m\u001b[43m(\u001b[49m\u001b[43mkey\u001b[49m\u001b[43m)\u001b[49m\n\u001b[0;32m   3762\u001b[0m \u001b[38;5;28;01mif\u001b[39;00m is_integer(indexer):\n\u001b[0;32m   3763\u001b[0m     indexer \u001b[38;5;241m=\u001b[39m [indexer]\n",
      "File \u001b[1;32mC:\\Python310\\lib\\site-packages\\pandas\\core\\indexes\\base.py:3654\u001b[0m, in \u001b[0;36mIndex.get_loc\u001b[1;34m(self, key)\u001b[0m\n\u001b[0;32m   3652\u001b[0m     \u001b[38;5;28;01mreturn\u001b[39;00m \u001b[38;5;28mself\u001b[39m\u001b[38;5;241m.\u001b[39m_engine\u001b[38;5;241m.\u001b[39mget_loc(casted_key)\n\u001b[0;32m   3653\u001b[0m \u001b[38;5;28;01mexcept\u001b[39;00m \u001b[38;5;167;01mKeyError\u001b[39;00m \u001b[38;5;28;01mas\u001b[39;00m err:\n\u001b[1;32m-> 3654\u001b[0m     \u001b[38;5;28;01mraise\u001b[39;00m \u001b[38;5;167;01mKeyError\u001b[39;00m(key) \u001b[38;5;28;01mfrom\u001b[39;00m \u001b[38;5;21;01merr\u001b[39;00m\n\u001b[0;32m   3655\u001b[0m \u001b[38;5;28;01mexcept\u001b[39;00m \u001b[38;5;167;01mTypeError\u001b[39;00m:\n\u001b[0;32m   3656\u001b[0m     \u001b[38;5;66;03m# If we have a listlike key, _check_indexing_error will raise\u001b[39;00m\n\u001b[0;32m   3657\u001b[0m     \u001b[38;5;66;03m#  InvalidIndexError. Otherwise we fall through and re-raise\u001b[39;00m\n\u001b[0;32m   3658\u001b[0m     \u001b[38;5;66;03m#  the TypeError.\u001b[39;00m\n\u001b[0;32m   3659\u001b[0m     \u001b[38;5;28mself\u001b[39m\u001b[38;5;241m.\u001b[39m_check_indexing_error(key)\n",
      "\u001b[1;31mKeyError\u001b[0m: 'Úloha'"
     ]
    }
   ],
   "source": [
    "herectvo = herectvo.explode(\"Role\")\n",
    "herectvo = herectvo.explode(\"Úloha\")\n",
    "herectvo = herectvo[herectvo[\"Úloha\"] == \"Hrají\"]"
   ]
  },
  {
   "cell_type": "markdown",
   "id": "d78ec203",
   "metadata": {},
   "source": [
    "## Explorace"
   ]
  },
  {
   "cell_type": "code",
   "execution_count": null,
   "id": "e4d72f30",
   "metadata": {
    "scrolled": true
   },
   "outputs": [],
   "source": [
    "herectvo.sample(5)"
   ]
  },
  {
   "cell_type": "code",
   "execution_count": null,
   "id": "c94b5243",
   "metadata": {},
   "outputs": [],
   "source": [
    "herectvo_ciste = herectvo"
   ]
  },
  {
   "cell_type": "code",
   "execution_count": null,
   "id": "a344570f",
   "metadata": {},
   "outputs": [],
   "source": [
    "herectvo_ciste[\"Role\"].nunique()"
   ]
  },
  {
   "cell_type": "code",
   "execution_count": null,
   "id": "89284468",
   "metadata": {},
   "outputs": [],
   "source": [
    "herectvo_ciste.groupby(\"Role\")[\"Film\"].nunique().nlargest(50)"
   ]
  },
  {
   "cell_type": "markdown",
   "id": "3996362a",
   "metadata": {},
   "source": [
    "## Muž s / žena s"
   ]
  },
  {
   "cell_type": "code",
   "execution_count": null,
   "id": "48a53fc1",
   "metadata": {},
   "outputs": [],
   "source": [
    "herectvo[herectvo[\"Role\"].str.lower().str.contains(\"muž s |muž se \")][\"Role\"].drop_duplicates().to_list()"
   ]
  },
  {
   "cell_type": "code",
   "execution_count": null,
   "id": "984dc3d4",
   "metadata": {},
   "outputs": [],
   "source": [
    "herectvo[herectvo[\"Role\"].str.lower().str.contains(\"žena s |žena se \")][\"Role\"].drop_duplicates().to_list()"
   ]
  },
  {
   "cell_type": "markdown",
   "id": "e6e6ebef",
   "metadata": {},
   "source": [
    "## Pokus o sjednocení"
   ]
  },
  {
   "cell_type": "code",
   "execution_count": null,
   "id": "6c8bde69",
   "metadata": {},
   "outputs": [],
   "source": [
    "herectvo[herectvo[\"Role\"].str.lower().str.contains(\"sousedk\")][\"Role\"].drop_duplicates().to_list()"
   ]
  },
  {
   "cell_type": "code",
   "execution_count": null,
   "id": "e9fe8c25",
   "metadata": {},
   "outputs": [],
   "source": [
    "nahrazeni = {\n",
    "    \"příslušník VB\": \"policista\",\n",
    "    \"příslušník SNB\": \"policista\",\n",
    "    \"nadstrážmistr VB\": \"policista\",\n",
    "    \"hospodský\": \"hostinský\",\n",
    "    \"doktor\": \"lékař\",\n",
    "    \"vrchní číšník\": \"hostinský\",\n",
    "    \"číšník v restauraci\": \"hostinský\",\n",
    "    \"vrchní ve vinárně\": \"hostinský\",\n",
    "    \"vrchní\": \"hostinský\",\n",
    "    \"četník\": \"policista\",\n",
    "    \"strážník\": \"policista\",\n",
    "    \"policejní komisař\": \"policista\",\n",
    "    \"kriminalista\": \"policista\",\n",
    "    \"číšník\": \"hostinský\",\n",
    "    \"strážmistr VB\": \"policista\",\n",
    "    \"policejní inspektor\": \"policista\",\n",
    "    \"kněz\": \"farář\",\n",
    "    \"redaktor\": \"novinář\",\n",
    "    \"výčepní\": \"hostinský\",\n",
    "    \"praporčík VB\": \"policista\",\n",
    "    \"podpraporčík VB\": \"policista\",\n",
    "    \"poručík VB\": \"policista\",\n",
    "    \"strážmistr\": \"policista\",\n",
    "    \"primář\": \"lékař\",\n",
    "    \"lékař v nemocnici\": \"lékař\",\n",
    "    \"šofér\": \"řidič\",\n",
    "    \"tajný policista\": \"policista\",\n",
    "    \"tajný\": \"policista\",\n",
    "    \"policejní úředník\": \"policista\",\n",
    "    \"příslušník StB'\": \"policista\",\n",
    "    \"číšník v Savarinu\": \"hostinský\",\n",
    "    \"číšník na večírku\": \"hostinský\",\n",
    "    \"číšník v baru\": \"hostinský\",\n",
    "    \"vrchní v letní restauraci\": \"hostinský\",\n",
    "    \"vrchní sestra\": \"zdravotní sestra\",\n",
    "    \"řidič nákladního auta\": \"řidič\",\n",
    "    \"šofér\": \"řidič\",\n",
    "    \"tatínek\": \"otec\",\n",
    "    \"maminka\": \"matka\"\n",
    "}"
   ]
  },
  {
   "cell_type": "code",
   "execution_count": null,
   "id": "c38fd58b",
   "metadata": {},
   "outputs": [],
   "source": [
    "herectvo[\"Role\"].nunique()"
   ]
  },
  {
   "cell_type": "code",
   "execution_count": null,
   "id": "5a55f686",
   "metadata": {},
   "outputs": [],
   "source": [
    "herectvo[\"Role\"] = herectvo[\"Role\"].replace(nahrazeni)"
   ]
  },
  {
   "cell_type": "code",
   "execution_count": null,
   "id": "81ff4219",
   "metadata": {},
   "outputs": [],
   "source": [
    "herectvo[\"Role\"].nunique()"
   ]
  },
  {
   "cell_type": "code",
   "execution_count": null,
   "id": "7c76bd72",
   "metadata": {},
   "outputs": [],
   "source": [
    "herectvo.groupby(\"Role\")[\"Film\"].nunique().nlargest(60)"
   ]
  },
  {
   "cell_type": "code",
   "execution_count": null,
   "id": "034d353d",
   "metadata": {},
   "outputs": [],
   "source": [
    "top100roli = herectvo.groupby(\"Role\")[\"Film\"].nunique().nlargest(100).index.to_list()\n",
    "\", \".join(top100roli)"
   ]
  },
  {
   "cell_type": "code",
   "execution_count": null,
   "id": "03ff66f2",
   "metadata": {},
   "outputs": [],
   "source": [
    "jmena = [\"Petr\",\"Eva\",\"Jana\",\"Marie\",\"Martin\",\"Tomáš\",\"Karel\",\"Marta\",\"Pavel\",\"Anna\",\"Jirka\"]"
   ]
  },
  {
   "cell_type": "code",
   "execution_count": null,
   "id": "61d6c088",
   "metadata": {},
   "outputs": [],
   "source": [
    "herectvo[\"Role\"].nunique()"
   ]
  },
  {
   "cell_type": "code",
   "execution_count": null,
   "id": "fc9bb3fd",
   "metadata": {},
   "outputs": [],
   "source": [
    "for t in top100roli:\n",
    "    if t not in jmena:\n",
    "        herectvo.loc[herectvo['Role'].str.contains(t), 'Role'] = t"
   ]
  },
  {
   "cell_type": "code",
   "execution_count": null,
   "id": "06e8c9e0",
   "metadata": {},
   "outputs": [],
   "source": [
    "herectvo[\"Role\"].nunique()"
   ]
  },
  {
   "cell_type": "code",
   "execution_count": null,
   "id": "81fb9db3",
   "metadata": {},
   "outputs": [],
   "source": [
    "herectvo.groupby(\"Role\")[\"Film\"].nunique().nlargest(60)"
   ]
  },
  {
   "cell_type": "code",
   "execution_count": null,
   "id": "b70a67a8",
   "metadata": {},
   "outputs": [],
   "source": [
    "top20roli = herectvo.groupby(\"Role\")[\"Film\"].nunique().nlargest(20).index.to_list()\n",
    "top20roli"
   ]
  },
  {
   "cell_type": "code",
   "execution_count": null,
   "id": "de393bec",
   "metadata": {},
   "outputs": [],
   "source": [
    "herectvo.groupby(\"Role\")[\"Film\"].nunique().nlargest(1000).index.to_list()"
   ]
  },
  {
   "cell_type": "markdown",
   "id": "d498d764",
   "metadata": {},
   "source": [
    "## Obsazení"
   ]
  },
  {
   "cell_type": "code",
   "execution_count": null,
   "id": "64b2a31b",
   "metadata": {},
   "outputs": [],
   "source": [
    "for t in top20roli:\n",
    "    pracovni = herectvo[(herectvo[\"Role\"] == t)].groupby(\"Jméno\")[\"Film\"].nunique().nlargest(3)\n",
    "    print(f\"\"\"{t}: {pracovni}\\n\"\"\")"
   ]
  },
  {
   "cell_type": "code",
   "execution_count": null,
   "id": "b53ebbe4",
   "metadata": {},
   "outputs": [],
   "source": [
    "for t in top20roli:\n",
    "    pracovni = herectvo[(herectvo[\"Role\"] == t) & (herectvo[\"Rok\"] >= 1930)].groupby(\"Jméno\")[\"Film\"].nunique().nlargest(5)\n",
    "    print(f\"\"\"{t}: {pracovni}\\n\"\"\")"
   ]
  },
  {
   "cell_type": "code",
   "execution_count": null,
   "id": "43f3372f",
   "metadata": {},
   "outputs": [],
   "source": [
    "for t in top20roli:\n",
    "    pracovni = herectvo[(herectvo[\"Role\"] == t) & ~herectvo[\"Datum narození\"].isnull() & herectvo[\"Datum úmrtí\"].isnull()].groupby(\"Jméno\")[\"Film\"].nunique().nlargest(3)\n",
    "    print(f\"\"\"{t}: {pracovni}\\n\"\"\")"
   ]
  },
  {
   "cell_type": "code",
   "execution_count": null,
   "id": "474a56c7",
   "metadata": {},
   "outputs": [],
   "source": [
    "obsazovanost = pd.Series(herectvo.groupby(\"Jméno\")[\"Film\"].nunique(), name=\"Obsazovanost\")\n",
    "herectvo = herectvo.merge(obsazovanost, on=\"Jméno\")"
   ]
  },
  {
   "cell_type": "code",
   "execution_count": null,
   "id": "5ec2f103",
   "metadata": {},
   "outputs": [],
   "source": [
    "q = herectvo[\"Obsazovanost\"].quantile(0.666)\n",
    "q"
   ]
  },
  {
   "cell_type": "code",
   "execution_count": null,
   "id": "c9ad01e0",
   "metadata": {},
   "outputs": [],
   "source": [
    "for t in top20roli:\n",
    "    pracovni = herectvo[(herectvo[\"Role\"] == t) & (herectvo[\"Rok\"] >= 1930) & (herectvo[\"Obsazovanost\"] >= q)].groupby(\"Jméno\")[\"Film\"].nunique().nlargest(5)\n",
    "    print(f\"\"\"{t}: {pracovni}\\n\"\"\")"
   ]
  }
 ],
 "metadata": {
  "kernelspec": {
   "display_name": "Python 3 (ipykernel)",
   "language": "python",
   "name": "python3"
  },
  "language_info": {
   "codemirror_mode": {
    "name": "ipython",
    "version": 3
   },
   "file_extension": ".py",
   "mimetype": "text/x-python",
   "name": "python",
   "nbconvert_exporter": "python",
   "pygments_lexer": "ipython3",
   "version": "3.10.8"
  }
 },
 "nbformat": 4,
 "nbformat_minor": 5
}
