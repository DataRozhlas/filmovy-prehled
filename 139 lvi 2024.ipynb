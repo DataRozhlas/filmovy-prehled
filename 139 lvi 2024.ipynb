{
 "cells": [
  {
   "cell_type": "code",
   "execution_count": 9,
   "id": "2707945f",
   "metadata": {},
   "outputs": [],
   "source": [
    "import os\n",
    "import pandas as pd"
   ]
  },
  {
   "cell_type": "code",
   "execution_count": 10,
   "id": "c3dbf64f",
   "metadata": {},
   "outputs": [],
   "source": [
    "df = pd.read_json(os.path.join(\"data\", \"ceske_lvy.json\"))"
   ]
  },
  {
   "cell_type": "code",
   "execution_count": 11,
   "id": "73d41b4c",
   "metadata": {},
   "outputs": [
    {
     "data": {
      "text/html": [
       "<div>\n",
       "<style scoped>\n",
       "    .dataframe tbody tr th:only-of-type {\n",
       "        vertical-align: middle;\n",
       "    }\n",
       "\n",
       "    .dataframe tbody tr th {\n",
       "        vertical-align: top;\n",
       "    }\n",
       "\n",
       "    .dataframe thead th {\n",
       "        text-align: right;\n",
       "    }\n",
       "</style>\n",
       "<table border=\"1\" class=\"dataframe\">\n",
       "  <thead>\n",
       "    <tr style=\"text-align: right;\">\n",
       "      <th></th>\n",
       "      <th>index</th>\n",
       "      <th>rok</th>\n",
       "      <th>kategorie</th>\n",
       "      <th>kdo</th>\n",
       "      <th>film</th>\n",
       "      <th>co</th>\n",
       "    </tr>\n",
       "  </thead>\n",
       "  <tbody>\n",
       "    <tr>\n",
       "      <th>0</th>\n",
       "      <td>0</td>\n",
       "      <td>1993</td>\n",
       "      <td>Nejlepší film</td>\n",
       "      <td>Jiří Ježek</td>\n",
       "      <td>Šakalí léta</td>\n",
       "      <td>vyhra</td>\n",
       "    </tr>\n",
       "    <tr>\n",
       "      <th>1</th>\n",
       "      <td>1</td>\n",
       "      <td>1993</td>\n",
       "      <td>Nejlepší režie</td>\n",
       "      <td>Jan Hřebejk</td>\n",
       "      <td>Šakalí léta</td>\n",
       "      <td>vyhra</td>\n",
       "    </tr>\n",
       "    <tr>\n",
       "      <th>2</th>\n",
       "      <td>2</td>\n",
       "      <td>1993</td>\n",
       "      <td>Hlavní ženský herecký výkon</td>\n",
       "      <td>Jiřina Bohdalová</td>\n",
       "      <td>Nesmrtelná teta</td>\n",
       "      <td>vyhra</td>\n",
       "    </tr>\n",
       "    <tr>\n",
       "      <th>3</th>\n",
       "      <td>3</td>\n",
       "      <td>1993</td>\n",
       "      <td>Hlavní mužský herecký výkon</td>\n",
       "      <td>Josef Abrhám</td>\n",
       "      <td>Šakalí léta</td>\n",
       "      <td>vyhra</td>\n",
       "    </tr>\n",
       "    <tr>\n",
       "      <th>4</th>\n",
       "      <td>4</td>\n",
       "      <td>1993</td>\n",
       "      <td>Nejlepší scénář</td>\n",
       "      <td>Václav Šašek</td>\n",
       "      <td>Helimadoe</td>\n",
       "      <td>vyhra</td>\n",
       "    </tr>\n",
       "    <tr>\n",
       "      <th>...</th>\n",
       "      <td>...</td>\n",
       "      <td>...</td>\n",
       "      <td>...</td>\n",
       "      <td>...</td>\n",
       "      <td>...</td>\n",
       "      <td>...</td>\n",
       "    </tr>\n",
       "    <tr>\n",
       "      <th>1812</th>\n",
       "      <td>137</td>\n",
       "      <td>2023</td>\n",
       "      <td>Cena Magnesia za nejlepší studentský film</td>\n",
       "      <td>Anna Wowra</td>\n",
       "      <td>Jsme v tom spolu</td>\n",
       "      <td>nominace</td>\n",
       "    </tr>\n",
       "    <tr>\n",
       "      <th>1813</th>\n",
       "      <td>138</td>\n",
       "      <td>2023</td>\n",
       "      <td>Cena Magnesia za nejlepší studentský film</td>\n",
       "      <td>Petr Pylypčuk</td>\n",
       "      <td>Osmý den</td>\n",
       "      <td>nominace</td>\n",
       "    </tr>\n",
       "    <tr>\n",
       "      <th>1814</th>\n",
       "      <td>139</td>\n",
       "      <td>2023</td>\n",
       "      <td>Nejlepší filmový plakát</td>\n",
       "      <td>Zuzana Burgrová</td>\n",
       "      <td>Němá tajemství</td>\n",
       "      <td>vyhra</td>\n",
       "    </tr>\n",
       "    <tr>\n",
       "      <th>1815</th>\n",
       "      <td>140</td>\n",
       "      <td>2023</td>\n",
       "      <td>Nejlepší filmový plakát</td>\n",
       "      <td>Robert V. Novák</td>\n",
       "      <td>Němá tajemství</td>\n",
       "      <td>vyhra</td>\n",
       "    </tr>\n",
       "    <tr>\n",
       "      <th>1816</th>\n",
       "      <td>141</td>\n",
       "      <td>2023</td>\n",
       "      <td>Cena filmových fanoušků</td>\n",
       "      <td>Robert Hloz</td>\n",
       "      <td>Bod obnovy</td>\n",
       "      <td>vyhra</td>\n",
       "    </tr>\n",
       "  </tbody>\n",
       "</table>\n",
       "<p>1817 rows × 6 columns</p>\n",
       "</div>"
      ],
      "text/plain": [
       "      index   rok                                  kategorie  \\\n",
       "0         0  1993                              Nejlepší film   \n",
       "1         1  1993                             Nejlepší režie   \n",
       "2         2  1993                Hlavní ženský herecký výkon   \n",
       "3         3  1993                Hlavní mužský herecký výkon   \n",
       "4         4  1993                            Nejlepší scénář   \n",
       "...     ...   ...                                        ...   \n",
       "1812    137  2023  Cena Magnesia za nejlepší studentský film   \n",
       "1813    138  2023  Cena Magnesia za nejlepší studentský film   \n",
       "1814    139  2023                    Nejlepší filmový plakát   \n",
       "1815    140  2023                    Nejlepší filmový plakát   \n",
       "1816    141  2023                    Cena filmových fanoušků   \n",
       "\n",
       "                   kdo              film        co  \n",
       "0           Jiří Ježek       Šakalí léta     vyhra  \n",
       "1          Jan Hřebejk       Šakalí léta     vyhra  \n",
       "2     Jiřina Bohdalová   Nesmrtelná teta     vyhra  \n",
       "3         Josef Abrhám       Šakalí léta     vyhra  \n",
       "4         Václav Šašek         Helimadoe     vyhra  \n",
       "...                ...               ...       ...  \n",
       "1812        Anna Wowra  Jsme v tom spolu  nominace  \n",
       "1813     Petr Pylypčuk          Osmý den  nominace  \n",
       "1814   Zuzana Burgrová    Němá tajemství     vyhra  \n",
       "1815   Robert V. Novák    Němá tajemství     vyhra  \n",
       "1816       Robert Hloz        Bod obnovy     vyhra  \n",
       "\n",
       "[1817 rows x 6 columns]"
      ]
     },
     "execution_count": 11,
     "metadata": {},
     "output_type": "execute_result"
    }
   ],
   "source": [
    "df"
   ]
  },
  {
   "cell_type": "code",
   "execution_count": 13,
   "id": "dbba88f9",
   "metadata": {},
   "outputs": [
    {
     "data": {
      "text/plain": [
       "film\n",
       "Hořící keř               13\n",
       "Je třeba zabít Sekala    11\n",
       "Ve stínu                 11\n",
       "Zátopek                   9\n",
       "Kobry a užovky            8\n",
       "Name: kategorie, dtype: int64"
      ]
     },
     "execution_count": 13,
     "metadata": {},
     "output_type": "execute_result"
    }
   ],
   "source": [
    "df[df['co'] == 'vyhra'].groupby('film')['kategorie'].nunique().nlargest()"
   ]
  },
  {
   "cell_type": "code",
   "execution_count": 15,
   "id": "ca2be6b1",
   "metadata": {},
   "outputs": [
    {
     "data": {
      "text/plain": [
       "kdo\n",
       "Jan Svěrák        8\n",
       "Jiří Brožek       8\n",
       "David Ondříček    7\n",
       "Ivan Trojan       6\n",
       "Alois Fišárek     5\n",
       "dtype: int64"
      ]
     },
     "execution_count": 15,
     "metadata": {},
     "output_type": "execute_result"
    }
   ],
   "source": [
    "df[df['co'] == 'vyhra'].groupby('kdo').size().nlargest()"
   ]
  }
 ],
 "metadata": {
  "kernelspec": {
   "display_name": "Python 3 (ipykernel)",
   "language": "python",
   "name": "python3"
  },
  "language_info": {
   "codemirror_mode": {
    "name": "ipython",
    "version": 3
   },
   "file_extension": ".py",
   "mimetype": "text/x-python",
   "name": "python",
   "nbconvert_exporter": "python",
   "pygments_lexer": "ipython3",
   "version": "3.11.5"
  }
 },
 "nbformat": 4,
 "nbformat_minor": 5
}
