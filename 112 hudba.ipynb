{
 "cells": [
  {
   "cell_type": "code",
   "execution_count": 7,
   "id": "b8d529c2",
   "metadata": {},
   "outputs": [],
   "source": [
    "import pandas as pd"
   ]
  },
  {
   "cell_type": "code",
   "execution_count": 8,
   "id": "c165647c",
   "metadata": {},
   "outputs": [],
   "source": [
    "df = pd.read_json(\"filmy.json\")"
   ]
  },
  {
   "cell_type": "code",
   "execution_count": 9,
   "id": "d0830422",
   "metadata": {},
   "outputs": [
    {
     "data": {
      "text/plain": [
       "['Film',\n",
       " 'Země původu',\n",
       " 'Copyright',\n",
       " 'Rok výroby',\n",
       " 'Premiéra',\n",
       " 'Minutáž',\n",
       " 'Režie',\n",
       " 'Kategorie',\n",
       " 'Žánr',\n",
       " 'Typologie',\n",
       " 'Originální název',\n",
       " 'Český název',\n",
       " 'Anglický název',\n",
       " 'Souběžný název',\n",
       " 'Pracovní název',\n",
       " 'Pomocná režie',\n",
       " 'Asistent režie',\n",
       " 'Původní filmový námět',\n",
       " 'Scénář',\n",
       " 'Dramaturg',\n",
       " 'Kamera',\n",
       " 'Asistent kamery',\n",
       " 'Architekt',\n",
       " 'Návrhy kostýmů',\n",
       " 'Masky',\n",
       " 'Střih',\n",
       " 'Zvuk',\n",
       " 'Producent',\n",
       " 'Vedoucí výroby',\n",
       " 'Zástupce vedoucího výroby',\n",
       " 'Odborný poradce',\n",
       " 'Hudba',\n",
       " 'Choreografie',\n",
       " 'Lokace',\n",
       " 'Distribuční slogan',\n",
       " 'Výrobce',\n",
       " 'S podporou',\n",
       " 'Nositelé copyrightu',\n",
       " 'Distribuce',\n",
       " 'Délka',\n",
       " 'Distribuční nosič',\n",
       " 'Poměr stran',\n",
       " 'Barva',\n",
       " 'Zvukový systém/formát',\n",
       " 'Verze',\n",
       " 'Mluveno',\n",
       " 'Podtitulky',\n",
       " 'Úvodní/závěrečné titulky',\n",
       " 'Anotace',\n",
       " 'Obsah',\n",
       " 'Technický scénář',\n",
       " 'Výtvarník',\n",
       " 'Animace',\n",
       " 'Triky',\n",
       " 'Postprodukce',\n",
       " 'Návrhy titulků',\n",
       " 'Pedagogické vedení',\n",
       " 'Použitá hudba',\n",
       " 'Studentský film',\n",
       " 'Původní metráž',\n",
       " 'Mezititulky',\n",
       " 'Ocenění',\n",
       " 'Vizuální efekty',\n",
       " 'Vedoucí produkce',\n",
       " 'Předloha',\n",
       " 'Kaskadéři',\n",
       " 'Text písně',\n",
       " 'Zpívá',\n",
       " 'pásmo',\n",
       " 'Části',\n",
       " 'Produkce',\n",
       " 'Výtvarná spolupráce',\n",
       " 'Nahrál',\n",
       " 'Partner',\n",
       " 'Animační technika',\n",
       " 'Výprava',\n",
       " 'Spolupráce',\n",
       " 'Autor komentáře',\n",
       " 'Druhá kamera',\n",
       " 'Zvláštní efekty',\n",
       " 'Koproducent',\n",
       " 'Výběr hudby',\n",
       " 'Hudební dramaturgie',\n",
       " 'Písně',\n",
       " 'Produkční data',\n",
       " 'Koordinátor kaskadérů',\n",
       " 'Výkonná produkce',\n",
       " 'Zástupce vedoucího produkce',\n",
       " 'Hudební režie',\n",
       " 'Dirigent',\n",
       " 'Ateliéry',\n",
       " 'Tančí',\n",
       " 'Natáčecí formát',\n",
       " 'Hudba k písni',\n",
       " 'Souběžný anglický název',\n",
       " 'Stav filmu',\n",
       " 'Podnázev',\n",
       " 'Zpěv role',\n",
       " 'Prodej práv',\n",
       " 'Podnázev anglický',\n",
       " 'Výrobní skupina',\n",
       " 'Zákazník',\n",
       " 'Vývozní společnost',\n",
       " 'Rychlost',\n",
       " 'Přístupnost',\n",
       " 'Začátek výroby',\n",
       " 'Konec výroby']"
      ]
     },
     "execution_count": 9,
     "metadata": {},
     "output_type": "execute_result"
    }
   ],
   "source": [
    "df.columns.to_list()"
   ]
  },
  {
   "cell_type": "code",
   "execution_count": 10,
   "id": "14b80810",
   "metadata": {},
   "outputs": [
    {
     "data": {
      "text/plain": [
       "Písně\n",
       "Kde domov můj                    32\n",
       "Škoda lásky                      28\n",
       "Zelení hájové                    22\n",
       "Internacionála                   19\n",
       "Život je jen náhoda              19\n",
       "Ktož jsú boží bojovníci          18\n",
       "Už mou milou do kostela vedou    17\n",
       "Šly panenky silnicí              16\n",
       "Kolíne, Kolíne                   15\n",
       "Kupředu, zpátky ni krok          15\n",
       "Name: Film, dtype: int64"
      ]
     },
     "execution_count": 10,
     "metadata": {},
     "output_type": "execute_result"
    }
   ],
   "source": [
    "df.explode(\"Písně\").groupby(\"Písně\")[\"Film\"].nunique().nlargest(10)"
   ]
  },
  {
   "cell_type": "code",
   "execution_count": 12,
   "id": "617ce85e",
   "metadata": {},
   "outputs": [
    {
     "data": {
      "text/plain": [
       "Dirigent\n",
       "Adam Klemens (1779)               16\n",
       "Leoš Svárovský (1110)              9\n",
       "Mario Klemens (2973)               9\n",
       "Jan Chalupecký (5380)              6\n",
       "Jan Kučera (21988)                 6\n",
       "Oskar Rózsa (13685)                6\n",
       "Štěpán Koníček (5613)              6\n",
       "Mário Klemens (2973)               5\n",
       "František Preisler ml. (16987)     4\n",
       "Giuseppe Becce (129341)            3\n",
       "Name: Film, dtype: int64"
      ]
     },
     "execution_count": 12,
     "metadata": {},
     "output_type": "execute_result"
    }
   ],
   "source": [
    "df.explode(\"Dirigent\").groupby(\"Dirigent\")[\"Film\"].nunique().nlargest(10)"
   ]
  },
  {
   "cell_type": "code",
   "execution_count": 13,
   "id": "6926ab1a",
   "metadata": {},
   "outputs": [
    {
     "data": {
      "text/plain": [
       "Použitá hudba\n",
       "Bedřich Smetana (2269)                 131\n",
       "Ludwig van Beethoven (2311)             84\n",
       "Antonín Dvořák (1570)                   74\n",
       "Wolfgang Amadeus Mozart (10959)         63\n",
       "Johann Sebastian Bach (6661)            58\n",
       "Johann Strauss ml. (88126)              44\n",
       "Georges Bizet (13269)                   42\n",
       "Petr Iljič Čajkovskij (12032)           37\n",
       "Felix Mendelssohn-Bartholdy (13092)     33\n",
       "Giuseppe Verdi (6404)                   29\n",
       "Name: Film, dtype: int64"
      ]
     },
     "execution_count": 13,
     "metadata": {},
     "output_type": "execute_result"
    }
   ],
   "source": [
    "df.explode(\"Použitá hudba\").groupby(\"Použitá hudba\")[\"Film\"].nunique().nlargest(10)"
   ]
  },
  {
   "cell_type": "code",
   "execution_count": 15,
   "id": "fee6629e",
   "metadata": {},
   "outputs": [
    {
     "data": {
      "text/plain": [
       "Režie                      Použitá hudba                  \n",
       "Otakar Vávra (9507)        Bedřich Smetana (2269)             9\n",
       "Martin Frič (20324)        Georges Bizet (13269)              5\n",
       "Jiří Slavíček (31972)      Bedřich Smetana (2269)             4\n",
       "Karel Vachek (565)         Bedřich Smetana (2269)             4\n",
       "Drahomíra Vihanová (2076)  Johann Sebastian Bach (6661)       3\n",
       "Jan Hřebejk (4831)         Jaroslav Ježek (1780)              3\n",
       "                           Ludwig van Beethoven (2311)        3\n",
       "                           Petr Iljič Čajkovskij (12032)      3\n",
       "Jaromil Jireš (5317)       Wolfgang Amadeus Mozart (10959)    3\n",
       "Jindřich Polák (7891)      Ludwig van Beethoven (2311)        3\n",
       "Name: Film, dtype: int64"
      ]
     },
     "execution_count": 15,
     "metadata": {},
     "output_type": "execute_result"
    }
   ],
   "source": [
    "df.explode(\"Použitá hudba\").explode(\"Režie\").groupby([\"Režie\",\"Použitá hudba\"])[\"Film\"].nunique().nlargest(10)"
   ]
  },
  {
   "cell_type": "code",
   "execution_count": 17,
   "id": "53efb583",
   "metadata": {},
   "outputs": [
    {
     "data": {
      "text/plain": [
       "Písně                            Žánr      \n",
       "Internacionála                   drama         10\n",
       "Škoda lásky                      komedie       10\n",
       "Už mou milou do kostela vedou    komedie        9\n",
       "Castaldo                         komedie        8\n",
       "Kde domov můj                    drama          8\n",
       "V Hodoníně za vojáčka mňa vzali  komedie        8\n",
       "Jen pro ten dnešní den           komedie        7\n",
       "Kde domov můj                    politický      7\n",
       "Ktož jsú boží bojovníci          historický     7\n",
       "Živijó, živijó                   komedie        7\n",
       "Name: Film, dtype: int64"
      ]
     },
     "execution_count": 17,
     "metadata": {},
     "output_type": "execute_result"
    }
   ],
   "source": [
    "df.explode(\"Žánr\").explode(\"Písně\").groupby([\"Písně\",\"Žánr\"])[\"Film\"].nunique().nlargest(10)"
   ]
  },
  {
   "cell_type": "code",
   "execution_count": 18,
   "id": "292dd942",
   "metadata": {},
   "outputs": [
    {
     "data": {
      "text/plain": [
       "Copyright  Písně                \n",
       "1963       Oliver Twist             5\n",
       "2017       Internacionála           4\n",
       "2018       Kde domov můj            4\n",
       "1932       Melodie beze slov        3\n",
       "1937       Ukolébavka               3\n",
       "           Zelení hájové            3\n",
       "1963       Ach, ta láska nebeská    3\n",
       "           Život je jen náhoda      3\n",
       "1989       Rozkvetlý den            3\n",
       "           Škoda lásky              3\n",
       "Name: Film, dtype: int64"
      ]
     },
     "execution_count": 18,
     "metadata": {},
     "output_type": "execute_result"
    }
   ],
   "source": [
    "df.explode(\"Písně\").groupby([\"Copyright\",\"Písně\"])[\"Film\"].nunique().nlargest(10)"
   ]
  },
  {
   "cell_type": "code",
   "execution_count": 23,
   "id": "121eba4a",
   "metadata": {},
   "outputs": [
    {
     "data": {
      "text/plain": [
       "Copyright\n",
       "1949    2\n",
       "1952    2\n",
       "1955    1\n",
       "1960    2\n",
       "1971    1\n",
       "1973    1\n",
       "1990    2\n",
       "1991    1\n",
       "1993    2\n",
       "2013    1\n",
       "2017    4\n",
       "Name: Film, dtype: int64"
      ]
     },
     "execution_count": 23,
     "metadata": {},
     "output_type": "execute_result"
    }
   ],
   "source": [
    "df[df[\"Písně\"] == \"Internacionála\"].groupby(\"Copyright\")[\"Film\"].nunique()"
   ]
  },
  {
   "cell_type": "markdown",
   "id": "23d3ddf7",
   "metadata": {},
   "source": [
    "#POZN Internacionála 8 / 10, víckrát po revoluci."
   ]
  },
  {
   "cell_type": "code",
   "execution_count": 25,
   "id": "71228040",
   "metadata": {},
   "outputs": [
    {
     "data": {
      "text/plain": [
       "<AxesSubplot:xlabel='Copyright'>"
      ]
     },
     "execution_count": 25,
     "metadata": {},
     "output_type": "execute_result"
    },
    {
     "data": {
      "image/png": "[encoded data removed]",
      "text/plain": [
       "<Figure size 432x288 with 1 Axes>"
      ]
     },
     "metadata": {
      "needs_background": "light"
     },
     "output_type": "display_data"
    }
   ],
   "source": [
    "df[df[\"Použitá hudba\"] == \"Bedřich Smetana (2269)\"].groupby(\"Copyright\")[\"Film\"].nunique().plot.bar()"
   ]
  },
  {
   "cell_type": "code",
   "execution_count": 26,
   "id": "2f0e69ed",
   "metadata": {},
   "outputs": [
    {
     "data": {
      "text/plain": [
       "<AxesSubplot:xlabel='Copyright'>"
      ]
     },
     "execution_count": 26,
     "metadata": {},
     "output_type": "execute_result"
    },
    {
     "data": {
      "image/png": "[encoded data removed]",
      "text/plain": [
       "<Figure size 432x288 with 1 Axes>"
      ]
     },
     "metadata": {
      "needs_background": "light"
     },
     "output_type": "display_data"
    }
   ],
   "source": [
    "df[df[\"Použitá hudba\"] == \"Antonín Dvořák (1570)\"].groupby(\"Copyright\")[\"Film\"].nunique().plot.bar()"
   ]
  },
  {
   "cell_type": "markdown",
   "id": "9491083b",
   "metadata": {},
   "source": [
    "Smetana + Dvořák do matplotlib."
   ]
  }
 ],
 "metadata": {
  "kernelspec": {
   "display_name": "Python 3 (ipykernel)",
   "language": "python",
   "name": "python3"
  },
  "language_info": {
   "codemirror_mode": {
    "name": "ipython",
    "version": 3
   },
   "file_extension": ".py",
   "mimetype": "text/x-python",
   "name": "python",
   "nbconvert_exporter": "python",
   "pygments_lexer": "ipython3",
   "version": "3.10.8"
  }
 },
 "nbformat": 4,
 "nbformat_minor": 5
}
