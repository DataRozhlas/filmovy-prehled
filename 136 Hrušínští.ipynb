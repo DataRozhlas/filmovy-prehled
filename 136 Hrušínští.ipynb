{
 "cells": [
  {
   "cell_type": "code",
   "execution_count": 6,
   "id": "dcc3c0e8",
   "metadata": {},
   "outputs": [],
   "source": [
    "import os\n",
    "import pandas as pd\n",
    "pd.set_option('display.max_columns', None)"
   ]
  },
  {
   "cell_type": "code",
   "execution_count": 7,
   "id": "e3043dda",
   "metadata": {},
   "outputs": [],
   "source": [
    "df = pd.read_json(os.path.join(\"data\", \"filmy.json\"))\n",
    "df[\"Hlavní role\"] = df[\"Hrají\"].dropna().apply(lambda x: x[:3])\n",
    "df[\"Vedlejší role\"] = df[\"Hrají\"].dropna().apply(lambda x: x[3:])\n",
    "df = df.explode(\"Hrají\")"
   ]
  },
  {
   "cell_type": "code",
   "execution_count": 8,
   "id": "908be57a",
   "metadata": {},
   "outputs": [],
   "source": [
    "df = df.explode(\"Hlavní role\")"
   ]
  },
  {
   "cell_type": "code",
   "execution_count": 13,
   "id": "4bd28307",
   "metadata": {},
   "outputs": [
    {
     "data": {
      "text/plain": [
       "['Humoreska (395885)',\n",
       " 'Věra Lukášová (395860)',\n",
       " 'Pancho se žení (396028)',\n",
       " 'Rodinné trampoty oficiála Tříšky (396087)',\n",
       " 'Dobrý voják Švejk (396264)',\n",
       " 'Poslušně hlásím (396291)',\n",
       " 'Kasaři (396334)',\n",
       " 'Hvězda jede na jih (396329)',\n",
       " 'Dařbuján a Pandrhola (396380)',\n",
       " 'Ledoví muži (396411)',\n",
       " 'Noční host (396446)',\n",
       " 'Tarzanova smrt (396484)',\n",
       " 'Blbec z Xeenemünde (396504)',\n",
       " 'Velká cesta (396474)',\n",
       " 'Naděje (396535)',\n",
       " 'Strach (396528)',\n",
       " 'Pět hříšníků (396592)',\n",
       " 'Třicet jedna ve stínu (396642)',\n",
       " 'Hrdina má strach (396654)',\n",
       " 'Bílá paní (396659)',\n",
       " 'Vrah skrývá tvář (396683)',\n",
       " 'Vražda po našem (396682)',\n",
       " 'Jak se krade milión (396741)',\n",
       " 'Rozmarné léto (396728)',\n",
       " 'Spalovač mrtvol (396780)',\n",
       " 'Čest a sláva (396795)',\n",
       " 'Po stopách krve (396822)',\n",
       " 'Skřivánci na niti (396810)',\n",
       " 'Claim na Hluchém potoku (396919)',\n",
       " 'Oáza (396957)',\n",
       " 'Dým bramborové natě (397118)',\n",
       " 'Časofonia (397130)',\n",
       " 'Adéla ještě nevečeřela (397168)',\n",
       " 'Sázka na třináctku (397150)',\n",
       " 'Kulový blesk (397202)',\n",
       " 'Silnější než strach (397180)',\n",
       " 'Báječní muži s klikou (397214)',\n",
       " 'Diagnóza smrti (397238)',\n",
       " 'Zlatí úhoři (54020)',\n",
       " 'Temné slunce (397277)',\n",
       " 'Pozor, vizita! (397338)',\n",
       " 'Vražedný útok (397356)',\n",
       " 'Slavnosti sněženek (397407)',\n",
       " 'Tři veteráni (397401)',\n",
       " 'Rozpuštěný a vypuštěný (397438)',\n",
       " 'Zastihla mě noc (397498)',\n",
       " 'Vesničko má středisková (397480)',\n",
       " 'Smrt krásných srnců (397521)',\n",
       " 'Strašidla z vikýře (397546)',\n",
       " 'Evropa tančila valčík (397641)',\n",
       " 'Tichá bolest (397680)',\n",
       " 'Začátek dlouhého podzimu (397657)',\n",
       " 'Svědek umírajícího času (397662)']"
      ]
     },
     "execution_count": 13,
     "metadata": {},
     "output_type": "execute_result"
    }
   ],
   "source": [
    "df[df[\"Hlavní role\"] == \"Rudolf Hrušínský st. (4842)\"][\"Film\"].drop_duplicates().to_list()"
   ]
  }
 ],
 "metadata": {
  "kernelspec": {
   "display_name": "Python 3 (ipykernel)",
   "language": "python",
   "name": "python3"
  },
  "language_info": {
   "codemirror_mode": {
    "name": "ipython",
    "version": 3
   },
   "file_extension": ".py",
   "mimetype": "text/x-python",
   "name": "python",
   "nbconvert_exporter": "python",
   "pygments_lexer": "ipython3",
   "version": "3.10.8"
  }
 },
 "nbformat": 4,
 "nbformat_minor": 5
}
