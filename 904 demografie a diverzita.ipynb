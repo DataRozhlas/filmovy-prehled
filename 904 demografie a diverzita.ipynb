{
 "cells": [
  {
   "cell_type": "code",
   "execution_count": 1,
   "id": "a0888417",
   "metadata": {},
   "outputs": [],
   "source": [
    "import os\n",
    "import json\n",
    "import pandas as pd\n",
    "from src.gender import gender\n",
    "from src.vycisti import vycisti\n",
    "pd.set_option('display.max_columns', None)\n",
    "df = pd.read_json(os.path.join(\"data\", \"filmy.json\"))\n",
    "with open(os.path.join(\"data_fixes\", \"opravy.json\"), encoding=\"utf-8\") as opravy:\n",
    "    opravy = json.loads(opravy.read())\n",
    "with open(os.path.join(\"data_fixes\", \"seznamy.json\"), encoding=\"utf-8\") as seznamy:\n",
    "    seznamy = json.loads(seznamy.read())\n",
    "with open(os.path.join(\"data_fixes\", \"zeny.json\"), encoding=\"utf-8\") as zeny:\n",
    "    zeny = json.loads(zeny.read())\n",
    "with open(os.path.join(\"data_fixes\", \"nelide.json\"), encoding=\"utf-8\") as nelide:\n",
    "    nelide = json.loads(nelide.read())"
   ]
  },
  {
   "cell_type": "code",
   "execution_count": 2,
   "id": "5eb81d98",
   "metadata": {},
   "outputs": [
    {
     "name": "stdout",
     "output_type": "stream",
     "text": [
      "2023/05/26 15:42:36 z 4532 filmů odstraněno 125. Aktuální dataframe obsahuje 4407 filmů.\n"
     ]
    }
   ],
   "source": [
    "df = vycisti(df, opravy)"
   ]
  },
  {
   "cell_type": "code",
   "execution_count": 3,
   "id": "9c585525",
   "metadata": {},
   "outputs": [],
   "source": [
    "hcf = df[df[\"Délka\"] == \"dlouhometrážní\"].explode(\"Typologie\")\n",
    "hcf = hcf[hcf[\"Typologie\"] == \"hraný\"]"
   ]
  },
  {
   "cell_type": "code",
   "execution_count": 4,
   "id": "8d7a1c9e",
   "metadata": {},
   "outputs": [],
   "source": [
    "dve_pohlavi = [\"muž\",\"žena\"]"
   ]
  },
  {
   "cell_type": "markdown",
   "id": "5512d591",
   "metadata": {},
   "source": [
    "## Herectvo"
   ]
  },
  {
   "cell_type": "code",
   "execution_count": 5,
   "id": "7bfd232a",
   "metadata": {},
   "outputs": [],
   "source": [
    "hcfhraji = hcf[[\"Film\",\"Copyright\",\"Režie\",\"Scénář\",\"Původní filmový námět\",\"Hrají\",\"Typologie\"]]"
   ]
  },
  {
   "cell_type": "code",
   "execution_count": 6,
   "id": "f613af62",
   "metadata": {},
   "outputs": [],
   "source": [
    "def hlrole(x):\n",
    "    try:\n",
    "        x = x[0]\n",
    "    except:\n",
    "        x = x\n",
    "    return x"
   ]
  },
  {
   "cell_type": "code",
   "execution_count": 7,
   "id": "dbc3d361",
   "metadata": {},
   "outputs": [
    {
     "name": "stderr",
     "output_type": "stream",
     "text": [
      "C:\\Users\\micha\\AppData\\Local\\Temp\\ipykernel_26140\\3404391821.py:1: SettingWithCopyWarning: \n",
      "A value is trying to be set on a copy of a slice from a DataFrame.\n",
      "Try using .loc[row_indexer,col_indexer] = value instead\n",
      "\n",
      "See the caveats in the documentation: https://pandas.pydata.org/pandas-docs/stable/user_guide/indexing.html#returning-a-view-versus-a-copy\n",
      "  hcfhraji[\"Hlavní role\"] = hcfhraji[\"Hrají\"].apply(lambda x: hlrole(x))\n"
     ]
    }
   ],
   "source": [
    "hcfhraji[\"Hlavní role\"] = hcfhraji[\"Hrají\"].apply(lambda x: hlrole(x))"
   ]
  },
  {
   "cell_type": "code",
   "execution_count": 8,
   "id": "45141179",
   "metadata": {},
   "outputs": [
    {
     "name": "stderr",
     "output_type": "stream",
     "text": [
      "C:\\Users\\micha\\AppData\\Local\\Temp\\ipykernel_26140\\2976082911.py:1: SettingWithCopyWarning: \n",
      "A value is trying to be set on a copy of a slice from a DataFrame.\n",
      "Try using .loc[row_indexer,col_indexer] = value instead\n",
      "\n",
      "See the caveats in the documentation: https://pandas.pydata.org/pandas-docs/stable/user_guide/indexing.html#returning-a-view-versus-a-copy\n",
      "  hcfhraji[\"Gender hlavní role\"] = hcfhraji[\"Hlavní role\"].apply(lambda x: gender(x, zeny, nelide))\n"
     ]
    }
   ],
   "source": [
    "hcfhraji[\"Gender hlavní role\"] = hcfhraji[\"Hlavní role\"].apply(lambda x: gender(x, zeny, nelide))"
   ]
  },
  {
   "cell_type": "code",
   "execution_count": 9,
   "id": "8ce11fb5",
   "metadata": {},
   "outputs": [
    {
     "data": {
      "text/html": [
       "<div>\n",
       "<style scoped>\n",
       "    .dataframe tbody tr th:only-of-type {\n",
       "        vertical-align: middle;\n",
       "    }\n",
       "\n",
       "    .dataframe tbody tr th {\n",
       "        vertical-align: top;\n",
       "    }\n",
       "\n",
       "    .dataframe thead th {\n",
       "        text-align: right;\n",
       "    }\n",
       "</style>\n",
       "<table border=\"1\" class=\"dataframe\">\n",
       "  <thead>\n",
       "    <tr style=\"text-align: right;\">\n",
       "      <th></th>\n",
       "      <th>Film</th>\n",
       "      <th>Hlavní role</th>\n",
       "      <th>Gender hlavní role</th>\n",
       "    </tr>\n",
       "  </thead>\n",
       "  <tbody>\n",
       "    <tr>\n",
       "      <th>3848</th>\n",
       "      <td>Příliš mladá noc (172446)</td>\n",
       "      <td>Martin Pechlát (9426)</td>\n",
       "      <td>muž</td>\n",
       "    </tr>\n",
       "    <tr>\n",
       "      <th>1172</th>\n",
       "      <td>Muži bez křídel (396021)</td>\n",
       "      <td>Gustav Nezval (5085)</td>\n",
       "      <td>muž</td>\n",
       "    </tr>\n",
       "    <tr>\n",
       "      <th>3937</th>\n",
       "      <td>Carmen (400570)</td>\n",
       "      <td>Lucie Bílá (7010)</td>\n",
       "      <td>žena</td>\n",
       "    </tr>\n",
       "    <tr>\n",
       "      <th>1379</th>\n",
       "      <td>Byl jednou jeden král... (396193)</td>\n",
       "      <td>Jan Werich (1287)</td>\n",
       "      <td>muž</td>\n",
       "    </tr>\n",
       "    <tr>\n",
       "      <th>639</th>\n",
       "      <td>Kantor Ideál [francouzská verze] (395584)</td>\n",
       "      <td>Truda Grosslichtová (125521)</td>\n",
       "      <td>žena</td>\n",
       "    </tr>\n",
       "  </tbody>\n",
       "</table>\n",
       "</div>"
      ],
      "text/plain": [
       "                                           Film                   Hlavní role   \n",
       "3848                  Příliš mladá noc (172446)         Martin Pechlát (9426)  \\\n",
       "1172                   Muži bez křídel (396021)          Gustav Nezval (5085)   \n",
       "3937                            Carmen (400570)             Lucie Bílá (7010)   \n",
       "1379          Byl jednou jeden král... (396193)             Jan Werich (1287)   \n",
       "639   Kantor Ideál [francouzská verze] (395584)  Truda Grosslichtová (125521)   \n",
       "\n",
       "     Gender hlavní role  \n",
       "3848                muž  \n",
       "1172                muž  \n",
       "3937               žena  \n",
       "1379                muž  \n",
       "639                žena  "
      ]
     },
     "execution_count": 9,
     "metadata": {},
     "output_type": "execute_result"
    }
   ],
   "source": [
    "hcfhraji[[\"Film\",\"Hlavní role\",\"Gender hlavní role\"]].sample(5)"
   ]
  },
  {
   "cell_type": "code",
   "execution_count": 10,
   "id": "63b888f3",
   "metadata": {},
   "outputs": [],
   "source": [
    "pomer_hl_roli = pd.Series(hcfhraji[hcfhraji[\"Gender hlavní role\"] == \"žena\"].groupby(\"Copyright\")[\"Hlavní role\"].nunique() / hcfhraji[(hcfhraji[\"Gender hlavní role\"] == \"muž\") | (hcfhraji[\"Gender hlavní role\"] == \"žena\")].groupby(\"Copyright\")[\"Hlavní role\"].nunique())"
   ]
  },
  {
   "cell_type": "code",
   "execution_count": 11,
   "id": "8b7776a5",
   "metadata": {},
   "outputs": [
    {
     "data": {
      "text/plain": [
       "<AxesSubplot:xlabel='Copyright'>"
      ]
     },
     "execution_count": 11,
     "metadata": {},
     "output_type": "execute_result"
    },
    {
     "data": {
      "image/png": "[encoded data removed]",
      "text/plain": [
       "<Figure size 1440x360 with 1 Axes>"
      ]
     },
     "metadata": {
      "needs_background": "light"
     },
     "output_type": "display_data"
    }
   ],
   "source": [
    "pomer_hl_roli.plot.bar(figsize=(20,5))"
   ]
  },
  {
   "cell_type": "code",
   "execution_count": 12,
   "id": "566d0090",
   "metadata": {},
   "outputs": [],
   "source": [
    "hcfhraji = hcfhraji.explode(\"Hrají\")"
   ]
  },
  {
   "cell_type": "code",
   "execution_count": 13,
   "id": "1beaf69a",
   "metadata": {},
   "outputs": [],
   "source": [
    "hcfhraji[\"Gender\"] = hcfhraji[\"Hrají\"].apply(lambda x: gender(x, zeny, nelide))"
   ]
  },
  {
   "cell_type": "code",
   "execution_count": 14,
   "id": "11130e7c",
   "metadata": {},
   "outputs": [],
   "source": [
    "def pomer_herecek(dataframe):\n",
    "    pomer = pd.Series(dataframe[dataframe[\"Gender\"] == \"žena\"].groupby(\"Film\")[\"Hrají\"].nunique().sum() / dataframe[(dataframe[\"Gender\"] == \"muž\") | (dataframe[\"Gender\"] == \"žena\")].groupby(\"Film\")[\"Hrají\"].nunique().sum())\n",
    "    return pomer"
   ]
  },
  {
   "cell_type": "code",
   "execution_count": 15,
   "id": "a68ea3ce",
   "metadata": {},
   "outputs": [
    {
     "data": {
      "text/plain": [
       "0    0.302006\n",
       "dtype: float64"
      ]
     },
     "execution_count": 15,
     "metadata": {},
     "output_type": "execute_result"
    }
   ],
   "source": [
    "herecky_celkem = pomer_herecek(hcfhraji)\n",
    "herecky_celkem"
   ]
  },
  {
   "cell_type": "code",
   "execution_count": 16,
   "id": "b368cf49",
   "metadata": {},
   "outputs": [
    {
     "data": {
      "text/plain": [
       "0    0.302006\n",
       "dtype: float64"
      ]
     },
     "execution_count": 16,
     "metadata": {},
     "output_type": "execute_result"
    }
   ],
   "source": [
    "herecky_7398 = pomer_herecek(hcfhraji[(hcfhraji[\"Copyright\"]) >= 1973 & (hcfhraji[\"Copyright\"] < 1999)])\n",
    "herecky_7398"
   ]
  },
  {
   "cell_type": "code",
   "execution_count": 17,
   "id": "bbc5639d",
   "metadata": {},
   "outputs": [
    {
     "data": {
      "text/plain": [
       "0    0.35017\n",
       "dtype: float64"
      ]
     },
     "execution_count": 17,
     "metadata": {},
     "output_type": "execute_result"
    }
   ],
   "source": [
    "herecky_99 = pomer_herecek(hcfhraji[hcfhraji[\"Copyright\"] >= 1999])\n",
    "herecky_99"
   ]
  },
  {
   "cell_type": "code",
   "execution_count": 18,
   "id": "3ed00f88",
   "metadata": {},
   "outputs": [
    {
     "name": "stdout",
     "output_type": "stream",
     "text": [
      "2083: 0.4908071812620393\n",
      "2084: 0.49273371982516784\n",
      "2085: 0.49466025838829636\n",
      "2086: 0.4965867969514249\n",
      "2087: 0.4985133355145534\n",
      "2088: 0.500439874077682\n",
      "2089: 0.5023664126408105\n",
      "2090: 0.504292951203939\n",
      "2091: 0.5062194897670675\n",
      "2092: 0.5081460283301961\n",
      "2093: 0.5100725668933246\n"
     ]
    },
    {
     "name": "stderr",
     "output_type": "stream",
     "text": [
      "C:\\Users\\micha\\AppData\\Local\\Temp\\ipykernel_26140\\3207822581.py:4: FutureWarning: Calling float on a single element Series is deprecated and will raise a TypeError in the future. Use float(ser.iloc[0]) instead\n",
      "  while float(podil) < 0.51:\n",
      "C:\\Users\\micha\\AppData\\Local\\Temp\\ipykernel_26140\\3207822581.py:7: FutureWarning: Calling float on a single element Series is deprecated and will raise a TypeError in the future. Use float(ser.iloc[0]) instead\n",
      "  if float(podil) > 0.49:\n",
      "C:\\Users\\micha\\AppData\\Local\\Temp\\ipykernel_26140\\3207822581.py:8: FutureWarning: Calling float on a single element Series is deprecated and will raise a TypeError in the future. Use float(ser.iloc[0]) instead\n",
      "  print(f\"{int(rok)}: {float(podil)}\")\n"
     ]
    }
   ],
   "source": [
    "tempo = (herecky_99-herecky_7398) / 25\n",
    "rok = 2010\n",
    "podil = herecky_99\n",
    "while float(podil) < 0.51:\n",
    "    rok = rok + 1\n",
    "    podil = podil + tempo\n",
    "    if float(podil) > 0.49:\n",
    "        print(f\"{int(rok)}: {float(podil)}\")"
   ]
  },
  {
   "cell_type": "markdown",
   "id": "60190c8f",
   "metadata": {},
   "source": [
    "## Herectvo"
   ]
  },
  {
   "cell_type": "code",
   "execution_count": 19,
   "id": "eb95b560",
   "metadata": {},
   "outputs": [
    {
     "name": "stdout",
     "output_type": "stream",
     "text": [
      "2023/05/26 15:42:52 z 86651 filmů odstraněno 1199. Aktuální dataframe obsahuje 85452 filmů.\n"
     ]
    }
   ],
   "source": [
    "herectvo = vycisti(pd.read_json(os.path.join(\"data\", \"herectvo.json\")), opravy)"
   ]
  },
  {
   "cell_type": "code",
   "execution_count": 20,
   "id": "3c5a019c",
   "metadata": {},
   "outputs": [
    {
     "data": {
      "text/html": [
       "<div>\n",
       "<style scoped>\n",
       "    .dataframe tbody tr th:only-of-type {\n",
       "        vertical-align: middle;\n",
       "    }\n",
       "\n",
       "    .dataframe tbody tr th {\n",
       "        vertical-align: top;\n",
       "    }\n",
       "\n",
       "    .dataframe thead th {\n",
       "        text-align: right;\n",
       "    }\n",
       "</style>\n",
       "<table border=\"1\" class=\"dataframe\">\n",
       "  <thead>\n",
       "    <tr style=\"text-align: right;\">\n",
       "      <th></th>\n",
       "      <th>Jméno</th>\n",
       "      <th>Bio</th>\n",
       "      <th>Datum narození</th>\n",
       "      <th>Místo narození</th>\n",
       "      <th>Datum úmrtí</th>\n",
       "      <th>Místo úmrtí</th>\n",
       "      <th>Titul</th>\n",
       "      <th>Film</th>\n",
       "      <th>Rok</th>\n",
       "      <th>Úloha</th>\n",
       "      <th>Role</th>\n",
       "      <th>Alternativní jména</th>\n",
       "      <th>Město narození</th>\n",
       "      <th>Stát narození</th>\n",
       "      <th>Město úmrtí</th>\n",
       "      <th>Stát úmrtí</th>\n",
       "      <th>Rok narození</th>\n",
       "      <th>Rok úmrtí</th>\n",
       "      <th>Věk</th>\n",
       "    </tr>\n",
       "  </thead>\n",
       "  <tbody>\n",
       "    <tr>\n",
       "      <th>0</th>\n",
       "      <td>Jan Kašpar (10009)</td>\n",
       "      <td>JAN KAŠPAR (nar. 6.9.1952, Praha – zemřel 11. ...</td>\n",
       "      <td>06.09.1952</td>\n",
       "      <td>Praha, Československo</td>\n",
       "      <td>11.06.2013</td>\n",
       "      <td>Praha, Česká republika</td>\n",
       "      <td>Vratné lahve</td>\n",
       "      <td>Vratné lahve (23639)</td>\n",
       "      <td>2007</td>\n",
       "      <td>Hrají</td>\n",
       "      <td>důchodce v parku</td>\n",
       "      <td>None</td>\n",
       "      <td>Praha</td>\n",
       "      <td>Československo</td>\n",
       "      <td>Česká republika</td>\n",
       "      <td>Česká republika</td>\n",
       "      <td>1952.0</td>\n",
       "      <td>2013.0</td>\n",
       "      <td>55.0</td>\n",
       "    </tr>\n",
       "    <tr>\n",
       "      <th>1</th>\n",
       "      <td>Jan Kašpar (10009)</td>\n",
       "      <td>JAN KAŠPAR (nar. 6.9.1952, Praha – zemřel 11. ...</td>\n",
       "      <td>06.09.1952</td>\n",
       "      <td>Praha, Československo</td>\n",
       "      <td>11.06.2013</td>\n",
       "      <td>Praha, Česká republika</td>\n",
       "      <td>Nejistá sezóna</td>\n",
       "      <td>Nejistá sezóna (397550)</td>\n",
       "      <td>1987</td>\n",
       "      <td>Hrají</td>\n",
       "      <td>kulisák Honza Melichar</td>\n",
       "      <td>None</td>\n",
       "      <td>Praha</td>\n",
       "      <td>Československo</td>\n",
       "      <td>Česká republika</td>\n",
       "      <td>Česká republika</td>\n",
       "      <td>1952.0</td>\n",
       "      <td>2013.0</td>\n",
       "      <td>35.0</td>\n",
       "    </tr>\n",
       "    <tr>\n",
       "      <th>2</th>\n",
       "      <td>Jan Kašpar (10009)</td>\n",
       "      <td>JAN KAŠPAR (nar. 6.9.1952, Praha – zemřel 11. ...</td>\n",
       "      <td>06.09.1952</td>\n",
       "      <td>Praha, Československo</td>\n",
       "      <td>11.06.2013</td>\n",
       "      <td>Praha, Česká republika</td>\n",
       "      <td>Vesničko má středisková</td>\n",
       "      <td>Vesničko má středisková (397480)</td>\n",
       "      <td>1985</td>\n",
       "      <td>Hrají</td>\n",
       "      <td>bagrista Ferda</td>\n",
       "      <td>None</td>\n",
       "      <td>Praha</td>\n",
       "      <td>Československo</td>\n",
       "      <td>Česká republika</td>\n",
       "      <td>Česká republika</td>\n",
       "      <td>1952.0</td>\n",
       "      <td>2013.0</td>\n",
       "      <td>33.0</td>\n",
       "    </tr>\n",
       "    <tr>\n",
       "      <th>3</th>\n",
       "      <td>Jan Kašpar (10009)</td>\n",
       "      <td>JAN KAŠPAR (nar. 6.9.1952, Praha – zemřel 11. ...</td>\n",
       "      <td>06.09.1952</td>\n",
       "      <td>Praha, Československo</td>\n",
       "      <td>11.06.2013</td>\n",
       "      <td>Praha, Česká republika</td>\n",
       "      <td>Rozpuštěný a vypuštěný</td>\n",
       "      <td>Rozpuštěný a vypuštěný (397438)</td>\n",
       "      <td>1984</td>\n",
       "      <td>Hrají</td>\n",
       "      <td>agent Ziegler</td>\n",
       "      <td>None</td>\n",
       "      <td>Praha</td>\n",
       "      <td>Československo</td>\n",
       "      <td>Česká republika</td>\n",
       "      <td>Česká republika</td>\n",
       "      <td>1952.0</td>\n",
       "      <td>2013.0</td>\n",
       "      <td>32.0</td>\n",
       "    </tr>\n",
       "    <tr>\n",
       "      <th>4</th>\n",
       "      <td>Jan Kašpar (10009)</td>\n",
       "      <td>JAN KAŠPAR (nar. 6.9.1952, Praha – zemřel 11. ...</td>\n",
       "      <td>06.09.1952</td>\n",
       "      <td>Praha, Československo</td>\n",
       "      <td>11.06.2013</td>\n",
       "      <td>Praha, Česká republika</td>\n",
       "      <td>Jára Cimrman, ležící, spící</td>\n",
       "      <td>Jára Cimrman, ležící, spící (397423)</td>\n",
       "      <td>1983</td>\n",
       "      <td>Hrají</td>\n",
       "      <td>krajánek</td>\n",
       "      <td>None</td>\n",
       "      <td>Praha</td>\n",
       "      <td>Československo</td>\n",
       "      <td>Česká republika</td>\n",
       "      <td>Česká republika</td>\n",
       "      <td>1952.0</td>\n",
       "      <td>2013.0</td>\n",
       "      <td>31.0</td>\n",
       "    </tr>\n",
       "    <tr>\n",
       "      <th>...</th>\n",
       "      <td>...</td>\n",
       "      <td>...</td>\n",
       "      <td>...</td>\n",
       "      <td>...</td>\n",
       "      <td>...</td>\n",
       "      <td>...</td>\n",
       "      <td>...</td>\n",
       "      <td>...</td>\n",
       "      <td>...</td>\n",
       "      <td>...</td>\n",
       "      <td>...</td>\n",
       "      <td>...</td>\n",
       "      <td>...</td>\n",
       "      <td>...</td>\n",
       "      <td>...</td>\n",
       "      <td>...</td>\n",
       "      <td>...</td>\n",
       "      <td>...</td>\n",
       "      <td>...</td>\n",
       "    </tr>\n",
       "    <tr>\n",
       "      <th>86646</th>\n",
       "      <td>Rostislav Novák st. (person)</td>\n",
       "      <td>None</td>\n",
       "      <td>25.11.1948</td>\n",
       "      <td>Praha, Československo</td>\n",
       "      <td>None</td>\n",
       "      <td>None</td>\n",
       "      <td>Straka v hrsti</td>\n",
       "      <td>Straka v hrsti (397595)</td>\n",
       "      <td>1987</td>\n",
       "      <td>Hrají</td>\n",
       "      <td>čeledín</td>\n",
       "      <td>Rosťa Novák, Rosťa Novák st.</td>\n",
       "      <td>Praha</td>\n",
       "      <td>Československo</td>\n",
       "      <td>None</td>\n",
       "      <td>None</td>\n",
       "      <td>1948.0</td>\n",
       "      <td>NaN</td>\n",
       "      <td>39.0</td>\n",
       "    </tr>\n",
       "    <tr>\n",
       "      <th>86647</th>\n",
       "      <td>Rostislav Novák st. (person)</td>\n",
       "      <td>None</td>\n",
       "      <td>25.11.1948</td>\n",
       "      <td>Praha, Československo</td>\n",
       "      <td>None</td>\n",
       "      <td>None</td>\n",
       "      <td>Rekord</td>\n",
       "      <td>Rekord (397357)</td>\n",
       "      <td>1982</td>\n",
       "      <td>Hrají</td>\n",
       "      <td>chlapec</td>\n",
       "      <td>Rosťa Novák, Rosťa Novák st.</td>\n",
       "      <td>Praha</td>\n",
       "      <td>Československo</td>\n",
       "      <td>None</td>\n",
       "      <td>None</td>\n",
       "      <td>1948.0</td>\n",
       "      <td>NaN</td>\n",
       "      <td>34.0</td>\n",
       "    </tr>\n",
       "    <tr>\n",
       "      <th>86648</th>\n",
       "      <td>Rostislav Novák st. (person)</td>\n",
       "      <td>None</td>\n",
       "      <td>25.11.1948</td>\n",
       "      <td>Praha, Československo</td>\n",
       "      <td>None</td>\n",
       "      <td>None</td>\n",
       "      <td>Opera ve vinici</td>\n",
       "      <td>Opera ve vinici (397330)</td>\n",
       "      <td>1981</td>\n",
       "      <td>Hrají</td>\n",
       "      <td>přítel Jiří</td>\n",
       "      <td>Rosťa Novák, Rosťa Novák st.</td>\n",
       "      <td>Praha</td>\n",
       "      <td>Československo</td>\n",
       "      <td>None</td>\n",
       "      <td>None</td>\n",
       "      <td>1948.0</td>\n",
       "      <td>NaN</td>\n",
       "      <td>33.0</td>\n",
       "    </tr>\n",
       "    <tr>\n",
       "      <th>86649</th>\n",
       "      <td>Rostislav Novák st. (person)</td>\n",
       "      <td>None</td>\n",
       "      <td>25.11.1948</td>\n",
       "      <td>Praha, Československo</td>\n",
       "      <td>None</td>\n",
       "      <td>None</td>\n",
       "      <td>Kalamita</td>\n",
       "      <td>Kalamita (397340)</td>\n",
       "      <td>1980</td>\n",
       "      <td>Hrají</td>\n",
       "      <td>milenec</td>\n",
       "      <td>Rosťa Novák, Rosťa Novák st.</td>\n",
       "      <td>Praha</td>\n",
       "      <td>Československo</td>\n",
       "      <td>None</td>\n",
       "      <td>None</td>\n",
       "      <td>1948.0</td>\n",
       "      <td>NaN</td>\n",
       "      <td>32.0</td>\n",
       "    </tr>\n",
       "    <tr>\n",
       "      <th>86650</th>\n",
       "      <td>Rostislav Novák st. (person)</td>\n",
       "      <td>None</td>\n",
       "      <td>25.11.1948</td>\n",
       "      <td>Praha, Československo</td>\n",
       "      <td>None</td>\n",
       "      <td>None</td>\n",
       "      <td>Den pro mou lásku</td>\n",
       "      <td>Den pro mou lásku (397129)</td>\n",
       "      <td>1976</td>\n",
       "      <td>Hrají</td>\n",
       "      <td>svatebčan</td>\n",
       "      <td>Rosťa Novák, Rosťa Novák st.</td>\n",
       "      <td>Praha</td>\n",
       "      <td>Československo</td>\n",
       "      <td>None</td>\n",
       "      <td>None</td>\n",
       "      <td>1948.0</td>\n",
       "      <td>NaN</td>\n",
       "      <td>28.0</td>\n",
       "    </tr>\n",
       "  </tbody>\n",
       "</table>\n",
       "<p>85452 rows × 19 columns</p>\n",
       "</div>"
      ],
      "text/plain": [
       "                              Jméno   \n",
       "0                Jan Kašpar (10009)  \\\n",
       "1                Jan Kašpar (10009)   \n",
       "2                Jan Kašpar (10009)   \n",
       "3                Jan Kašpar (10009)   \n",
       "4                Jan Kašpar (10009)   \n",
       "...                             ...   \n",
       "86646  Rostislav Novák st. (person)   \n",
       "86647  Rostislav Novák st. (person)   \n",
       "86648  Rostislav Novák st. (person)   \n",
       "86649  Rostislav Novák st. (person)   \n",
       "86650  Rostislav Novák st. (person)   \n",
       "\n",
       "                                                     Bio Datum narození   \n",
       "0      JAN KAŠPAR (nar. 6.9.1952, Praha – zemřel 11. ...     06.09.1952  \\\n",
       "1      JAN KAŠPAR (nar. 6.9.1952, Praha – zemřel 11. ...     06.09.1952   \n",
       "2      JAN KAŠPAR (nar. 6.9.1952, Praha – zemřel 11. ...     06.09.1952   \n",
       "3      JAN KAŠPAR (nar. 6.9.1952, Praha – zemřel 11. ...     06.09.1952   \n",
       "4      JAN KAŠPAR (nar. 6.9.1952, Praha – zemřel 11. ...     06.09.1952   \n",
       "...                                                  ...            ...   \n",
       "86646                                               None     25.11.1948   \n",
       "86647                                               None     25.11.1948   \n",
       "86648                                               None     25.11.1948   \n",
       "86649                                               None     25.11.1948   \n",
       "86650                                               None     25.11.1948   \n",
       "\n",
       "              Místo narození Datum úmrtí             Místo úmrtí   \n",
       "0      Praha, Československo  11.06.2013  Praha, Česká republika  \\\n",
       "1      Praha, Československo  11.06.2013  Praha, Česká republika   \n",
       "2      Praha, Československo  11.06.2013  Praha, Česká republika   \n",
       "3      Praha, Československo  11.06.2013  Praha, Česká republika   \n",
       "4      Praha, Československo  11.06.2013  Praha, Česká republika   \n",
       "...                      ...         ...                     ...   \n",
       "86646  Praha, Československo        None                    None   \n",
       "86647  Praha, Československo        None                    None   \n",
       "86648  Praha, Československo        None                    None   \n",
       "86649  Praha, Československo        None                    None   \n",
       "86650  Praha, Československo        None                    None   \n",
       "\n",
       "                             Titul                                  Film   \n",
       "0                     Vratné lahve                  Vratné lahve (23639)  \\\n",
       "1                   Nejistá sezóna               Nejistá sezóna (397550)   \n",
       "2          Vesničko má středisková      Vesničko má středisková (397480)   \n",
       "3           Rozpuštěný a vypuštěný       Rozpuštěný a vypuštěný (397438)   \n",
       "4      Jára Cimrman, ležící, spící  Jára Cimrman, ležící, spící (397423)   \n",
       "...                            ...                                   ...   \n",
       "86646               Straka v hrsti               Straka v hrsti (397595)   \n",
       "86647                       Rekord                       Rekord (397357)   \n",
       "86648              Opera ve vinici              Opera ve vinici (397330)   \n",
       "86649                     Kalamita                     Kalamita (397340)   \n",
       "86650            Den pro mou lásku            Den pro mou lásku (397129)   \n",
       "\n",
       "        Rok  Úloha                    Role            Alternativní jména   \n",
       "0      2007  Hrají        důchodce v parku                          None  \\\n",
       "1      1987  Hrají  kulisák Honza Melichar                          None   \n",
       "2      1985  Hrají          bagrista Ferda                          None   \n",
       "3      1984  Hrají           agent Ziegler                          None   \n",
       "4      1983  Hrají                krajánek                          None   \n",
       "...     ...    ...                     ...                           ...   \n",
       "86646  1987  Hrají                 čeledín  Rosťa Novák, Rosťa Novák st.   \n",
       "86647  1982  Hrají                 chlapec  Rosťa Novák, Rosťa Novák st.   \n",
       "86648  1981  Hrají             přítel Jiří  Rosťa Novák, Rosťa Novák st.   \n",
       "86649  1980  Hrají                 milenec  Rosťa Novák, Rosťa Novák st.   \n",
       "86650  1976  Hrají               svatebčan  Rosťa Novák, Rosťa Novák st.   \n",
       "\n",
       "      Město narození    Stát narození       Město úmrtí        Stát úmrtí   \n",
       "0              Praha   Československo   Česká republika   Česká republika  \\\n",
       "1              Praha   Československo   Česká republika   Česká republika   \n",
       "2              Praha   Československo   Česká republika   Česká republika   \n",
       "3              Praha   Československo   Česká republika   Česká republika   \n",
       "4              Praha   Československo   Česká republika   Česká republika   \n",
       "...              ...              ...               ...               ...   \n",
       "86646          Praha   Československo              None              None   \n",
       "86647          Praha   Československo              None              None   \n",
       "86648          Praha   Československo              None              None   \n",
       "86649          Praha   Československo              None              None   \n",
       "86650          Praha   Československo              None              None   \n",
       "\n",
       "       Rok narození  Rok úmrtí   Věk  \n",
       "0            1952.0     2013.0  55.0  \n",
       "1            1952.0     2013.0  35.0  \n",
       "2            1952.0     2013.0  33.0  \n",
       "3            1952.0     2013.0  32.0  \n",
       "4            1952.0     2013.0  31.0  \n",
       "...             ...        ...   ...  \n",
       "86646        1948.0        NaN  39.0  \n",
       "86647        1948.0        NaN  34.0  \n",
       "86648        1948.0        NaN  33.0  \n",
       "86649        1948.0        NaN  32.0  \n",
       "86650        1948.0        NaN  28.0  \n",
       "\n",
       "[85452 rows x 19 columns]"
      ]
     },
     "execution_count": 20,
     "metadata": {},
     "output_type": "execute_result"
    }
   ],
   "source": [
    "herectvo"
   ]
  },
  {
   "cell_type": "code",
   "execution_count": 21,
   "id": "90553759",
   "metadata": {},
   "outputs": [],
   "source": [
    "herectvo = herectvo.explode(\"Role\")"
   ]
  },
  {
   "cell_type": "code",
   "execution_count": 22,
   "id": "c2ac70a4",
   "metadata": {},
   "outputs": [
    {
     "data": {
      "text/html": [
       "<div>\n",
       "<style scoped>\n",
       "    .dataframe tbody tr th:only-of-type {\n",
       "        vertical-align: middle;\n",
       "    }\n",
       "\n",
       "    .dataframe tbody tr th {\n",
       "        vertical-align: top;\n",
       "    }\n",
       "\n",
       "    .dataframe thead th {\n",
       "        text-align: right;\n",
       "    }\n",
       "</style>\n",
       "<table border=\"1\" class=\"dataframe\">\n",
       "  <thead>\n",
       "    <tr style=\"text-align: right;\">\n",
       "      <th></th>\n",
       "      <th>Jméno</th>\n",
       "      <th>Rok</th>\n",
       "      <th>Role</th>\n",
       "      <th>Věk</th>\n",
       "    </tr>\n",
       "  </thead>\n",
       "  <tbody>\n",
       "    <tr>\n",
       "      <th>62289</th>\n",
       "      <td>Ladislav Pešek (53326)</td>\n",
       "      <td>1975</td>\n",
       "      <td>principál komediantů</td>\n",
       "      <td>69.0</td>\n",
       "    </tr>\n",
       "    <tr>\n",
       "      <th>48165</th>\n",
       "      <td>Marie Häusslerová (33648)</td>\n",
       "      <td>1933</td>\n",
       "      <td>starší komorná princezny</td>\n",
       "      <td>67.0</td>\n",
       "    </tr>\n",
       "    <tr>\n",
       "      <th>58141</th>\n",
       "      <td>Martin Růžek (4934)</td>\n",
       "      <td>1984</td>\n",
       "      <td>principál Fortunatus</td>\n",
       "      <td>66.0</td>\n",
       "    </tr>\n",
       "    <tr>\n",
       "      <th>52332</th>\n",
       "      <td>Theodor Pištěk (37366)</td>\n",
       "      <td>1959</td>\n",
       "      <td>princův pobočník</td>\n",
       "      <td>64.0</td>\n",
       "    </tr>\n",
       "    <tr>\n",
       "      <th>41869</th>\n",
       "      <td>Ludmila Vostrčilová (27337)</td>\n",
       "      <td>1978</td>\n",
       "      <td>sekretářka Šprinclová</td>\n",
       "      <td>60.0</td>\n",
       "    </tr>\n",
       "    <tr>\n",
       "      <th>41841</th>\n",
       "      <td>Ludmila Vostrčilová (27337)</td>\n",
       "      <td>1978</td>\n",
       "      <td>sekretářka Šprinclová</td>\n",
       "      <td>60.0</td>\n",
       "    </tr>\n",
       "    <tr>\n",
       "      <th>26242</th>\n",
       "      <td>Antonín Bulík (130255)</td>\n",
       "      <td>1938</td>\n",
       "      <td>princ Lobkovic</td>\n",
       "      <td>60.0</td>\n",
       "    </tr>\n",
       "    <tr>\n",
       "      <th>81923</th>\n",
       "      <td>František Kubíček (87096)</td>\n",
       "      <td>1971</td>\n",
       "      <td>sluha princátka</td>\n",
       "      <td>57.0</td>\n",
       "    </tr>\n",
       "    <tr>\n",
       "      <th>47711</th>\n",
       "      <td>Radovan Lukavský (3301)</td>\n",
       "      <td>1976</td>\n",
       "      <td>král všech moří, otec šesti princezen</td>\n",
       "      <td>57.0</td>\n",
       "    </tr>\n",
       "    <tr>\n",
       "      <th>57719</th>\n",
       "      <td>Josef Kemr (4897)</td>\n",
       "      <td>1978</td>\n",
       "      <td>principál, otec Tončky</td>\n",
       "      <td>56.0</td>\n",
       "    </tr>\n",
       "    <tr>\n",
       "      <th>63945</th>\n",
       "      <td>Martin Štěpánek (5567)</td>\n",
       "      <td>2001</td>\n",
       "      <td>vyslanec princezny</td>\n",
       "      <td>54.0</td>\n",
       "    </tr>\n",
       "    <tr>\n",
       "      <th>63963</th>\n",
       "      <td>Martin Štěpánek (5567)</td>\n",
       "      <td>2001</td>\n",
       "      <td>vyslanec princezny</td>\n",
       "      <td>54.0</td>\n",
       "    </tr>\n",
       "    <tr>\n",
       "      <th>76064</th>\n",
       "      <td>Josef Bělský (80698)</td>\n",
       "      <td>1943</td>\n",
       "      <td>baron Schwarz, tajemník princezny Marie Luisy</td>\n",
       "      <td>52.0</td>\n",
       "    </tr>\n",
       "    <tr>\n",
       "      <th>2204</th>\n",
       "      <td>Ema Kreutzerová (110748)</td>\n",
       "      <td>1948</td>\n",
       "      <td>Marike, komorná princezny</td>\n",
       "      <td>51.0</td>\n",
       "    </tr>\n",
       "    <tr>\n",
       "      <th>50638</th>\n",
       "      <td>Vlastimil Hašek (35693)</td>\n",
       "      <td>1977</td>\n",
       "      <td>sluha prince Jiřího</td>\n",
       "      <td>49.0</td>\n",
       "    </tr>\n",
       "    <tr>\n",
       "      <th>1134</th>\n",
       "      <td>Josef Somr (1054)</td>\n",
       "      <td>1983</td>\n",
       "      <td>inspektor Saueressig/starosta/principál</td>\n",
       "      <td>49.0</td>\n",
       "    </tr>\n",
       "    <tr>\n",
       "      <th>67705</th>\n",
       "      <td>Pavel Pípal (6302)</td>\n",
       "      <td>1987</td>\n",
       "      <td>principál Alois Kuldan, Frantův otec</td>\n",
       "      <td>49.0</td>\n",
       "    </tr>\n",
       "    <tr>\n",
       "      <th>13471</th>\n",
       "      <td>Václav Švec (126974)</td>\n",
       "      <td>1952</td>\n",
       "      <td>dvořan u prince</td>\n",
       "      <td>49.0</td>\n",
       "    </tr>\n",
       "    <tr>\n",
       "      <th>55884</th>\n",
       "      <td>František Filipovský (4735)</td>\n",
       "      <td>1955</td>\n",
       "      <td>principál komediantů</td>\n",
       "      <td>48.0</td>\n",
       "    </tr>\n",
       "    <tr>\n",
       "      <th>41751</th>\n",
       "      <td>Milan Karpíšek (27321)</td>\n",
       "      <td>1975</td>\n",
       "      <td>zpěv principála komediantů</td>\n",
       "      <td>47.0</td>\n",
       "    </tr>\n",
       "    <tr>\n",
       "      <th>44326</th>\n",
       "      <td>Milka Balek-Brodská (28799)</td>\n",
       "      <td>1933</td>\n",
       "      <td>komorná princezny</td>\n",
       "      <td>45.0</td>\n",
       "    </tr>\n",
       "    <tr>\n",
       "      <th>30152</th>\n",
       "      <td>Arnošt Goldflam (1579)</td>\n",
       "      <td>1990</td>\n",
       "      <td>principál a herec Karel Vyžilý</td>\n",
       "      <td>44.0</td>\n",
       "    </tr>\n",
       "    <tr>\n",
       "      <th>24579</th>\n",
       "      <td>Jaroslav Orlický (129724)</td>\n",
       "      <td>1943</td>\n",
       "      <td>komorník u prince Maxmiliána</td>\n",
       "      <td>44.0</td>\n",
       "    </tr>\n",
       "    <tr>\n",
       "      <th>51494</th>\n",
       "      <td>Čestmír Řanda st. (36487)</td>\n",
       "      <td>1966</td>\n",
       "      <td>principál cirkusu National</td>\n",
       "      <td>43.0</td>\n",
       "    </tr>\n",
       "    <tr>\n",
       "      <th>51434</th>\n",
       "      <td>Čestmír Řanda st. (36487)</td>\n",
       "      <td>1966</td>\n",
       "      <td>principál cirkusu National</td>\n",
       "      <td>43.0</td>\n",
       "    </tr>\n",
       "    <tr>\n",
       "      <th>73516</th>\n",
       "      <td>Johanna Tesařová (7764)</td>\n",
       "      <td>1987</td>\n",
       "      <td>principálová, Frantova matka</td>\n",
       "      <td>42.0</td>\n",
       "    </tr>\n",
       "    <tr>\n",
       "      <th>73531</th>\n",
       "      <td>Johanna Tesařová (7764)</td>\n",
       "      <td>1987</td>\n",
       "      <td>principálová, Frantova matka</td>\n",
       "      <td>42.0</td>\n",
       "    </tr>\n",
       "    <tr>\n",
       "      <th>73546</th>\n",
       "      <td>Johanna Tesařová (7764)</td>\n",
       "      <td>1987</td>\n",
       "      <td>principálová, Frantova matka</td>\n",
       "      <td>42.0</td>\n",
       "    </tr>\n",
       "    <tr>\n",
       "      <th>22702</th>\n",
       "      <td>Karel Hruška (128870)</td>\n",
       "      <td>1933</td>\n",
       "      <td>principál komediantů</td>\n",
       "      <td>42.0</td>\n",
       "    </tr>\n",
       "    <tr>\n",
       "      <th>40892</th>\n",
       "      <td>Jitka Moučková (2719)</td>\n",
       "      <td>2020</td>\n",
       "      <td>hlas princezny Elleny</td>\n",
       "      <td>41.0</td>\n",
       "    </tr>\n",
       "    <tr>\n",
       "      <th>74396</th>\n",
       "      <td>Vladimír Pospíšil-Born (78982)</td>\n",
       "      <td>1937</td>\n",
       "      <td>velitel princovy stráže</td>\n",
       "      <td>41.0</td>\n",
       "    </tr>\n",
       "    <tr>\n",
       "      <th>74442</th>\n",
       "      <td>Vladimír Pospíšil-Born (78982)</td>\n",
       "      <td>1937</td>\n",
       "      <td>velitel princovy stráže</td>\n",
       "      <td>41.0</td>\n",
       "    </tr>\n",
       "    <tr>\n",
       "      <th>76483</th>\n",
       "      <td>Jiří Maryško (81150)</td>\n",
       "      <td>2021</td>\n",
       "      <td>princ Oleandr, nápadník</td>\n",
       "      <td>41.0</td>\n",
       "    </tr>\n",
       "    <tr>\n",
       "      <th>45963</th>\n",
       "      <td>Vladimír Ráž (2991)</td>\n",
       "      <td>1962</td>\n",
       "      <td>princ</td>\n",
       "      <td>39.0</td>\n",
       "    </tr>\n",
       "    <tr>\n",
       "      <th>50526</th>\n",
       "      <td>Petr Hanuš (3548)</td>\n",
       "      <td>1982</td>\n",
       "      <td>princ na koni</td>\n",
       "      <td>39.0</td>\n",
       "    </tr>\n",
       "    <tr>\n",
       "      <th>6325</th>\n",
       "      <td>Vladimír Zoubek (125641)</td>\n",
       "      <td>1959</td>\n",
       "      <td>princ Vítek</td>\n",
       "      <td>39.0</td>\n",
       "    </tr>\n",
       "    <tr>\n",
       "      <th>17697</th>\n",
       "      <td>Otto Rubík (127638)</td>\n",
       "      <td>1937</td>\n",
       "      <td>princ Alamír, snoubenec Zuliky</td>\n",
       "      <td>39.0</td>\n",
       "    </tr>\n",
       "    <tr>\n",
       "      <th>17669</th>\n",
       "      <td>Otto Rubík (127638)</td>\n",
       "      <td>1937</td>\n",
       "      <td>princ Alamír, snoubenec Zuliky</td>\n",
       "      <td>39.0</td>\n",
       "    </tr>\n",
       "    <tr>\n",
       "      <th>5067</th>\n",
       "      <td>Hana Talpová (12453)</td>\n",
       "      <td>1976</td>\n",
       "      <td>královna, princova matka</td>\n",
       "      <td>38.0</td>\n",
       "    </tr>\n",
       "    <tr>\n",
       "      <th>16619</th>\n",
       "      <td>Suzanne Marwille (127373)</td>\n",
       "      <td>1933</td>\n",
       "      <td>princezna Anna Luisa</td>\n",
       "      <td>38.0</td>\n",
       "    </tr>\n",
       "    <tr>\n",
       "      <th>5026</th>\n",
       "      <td>Hana Talpová (12453)</td>\n",
       "      <td>1976</td>\n",
       "      <td>královna, princova matka</td>\n",
       "      <td>38.0</td>\n",
       "    </tr>\n",
       "    <tr>\n",
       "      <th>26722</th>\n",
       "      <td>Miroslav Kalný (131466)</td>\n",
       "      <td>1959</td>\n",
       "      <td>princ nápadník</td>\n",
       "      <td>37.0</td>\n",
       "    </tr>\n",
       "    <tr>\n",
       "      <th>85435</th>\n",
       "      <td>František Velecký (9687)</td>\n",
       "      <td>1971</td>\n",
       "      <td>Černý princ</td>\n",
       "      <td>37.0</td>\n",
       "    </tr>\n",
       "    <tr>\n",
       "      <th>85425</th>\n",
       "      <td>František Velecký (9687)</td>\n",
       "      <td>1971</td>\n",
       "      <td>Černý princ</td>\n",
       "      <td>37.0</td>\n",
       "    </tr>\n",
       "    <tr>\n",
       "      <th>6556</th>\n",
       "      <td>Jiří Dohnal (126022)</td>\n",
       "      <td>1942</td>\n",
       "      <td>princ</td>\n",
       "      <td>37.0</td>\n",
       "    </tr>\n",
       "    <tr>\n",
       "      <th>6621</th>\n",
       "      <td>Jiří Dohnal (126022)</td>\n",
       "      <td>1942</td>\n",
       "      <td>princ</td>\n",
       "      <td>37.0</td>\n",
       "    </tr>\n",
       "    <tr>\n",
       "      <th>40002</th>\n",
       "      <td>Miro Grisa (26959)</td>\n",
       "      <td>1984</td>\n",
       "      <td>princ</td>\n",
       "      <td>37.0</td>\n",
       "    </tr>\n",
       "    <tr>\n",
       "      <th>85445</th>\n",
       "      <td>František Velecký (9687)</td>\n",
       "      <td>1971</td>\n",
       "      <td>Černý princ</td>\n",
       "      <td>37.0</td>\n",
       "    </tr>\n",
       "    <tr>\n",
       "      <th>83529</th>\n",
       "      <td>Soběslav Sejk (9018)</td>\n",
       "      <td>1959</td>\n",
       "      <td>princ Hynek</td>\n",
       "      <td>37.0</td>\n",
       "    </tr>\n",
       "    <tr>\n",
       "      <th>41950</th>\n",
       "      <td>Marta Richterová (27358)</td>\n",
       "      <td>1976</td>\n",
       "      <td>dvorní dáma princovy matky</td>\n",
       "      <td>36.0</td>\n",
       "    </tr>\n",
       "  </tbody>\n",
       "</table>\n",
       "</div>"
      ],
      "text/plain": [
       "                                Jméno   Rok   \n",
       "62289          Ladislav Pešek (53326)  1975  \\\n",
       "48165       Marie Häusslerová (33648)  1933   \n",
       "58141             Martin Růžek (4934)  1984   \n",
       "52332          Theodor Pištěk (37366)  1959   \n",
       "41869     Ludmila Vostrčilová (27337)  1978   \n",
       "41841     Ludmila Vostrčilová (27337)  1978   \n",
       "26242          Antonín Bulík (130255)  1938   \n",
       "81923       František Kubíček (87096)  1971   \n",
       "47711         Radovan Lukavský (3301)  1976   \n",
       "57719               Josef Kemr (4897)  1978   \n",
       "63945          Martin Štěpánek (5567)  2001   \n",
       "63963          Martin Štěpánek (5567)  2001   \n",
       "76064            Josef Bělský (80698)  1943   \n",
       "2204         Ema Kreutzerová (110748)  1948   \n",
       "50638         Vlastimil Hašek (35693)  1977   \n",
       "1134                Josef Somr (1054)  1983   \n",
       "67705              Pavel Pípal (6302)  1987   \n",
       "13471            Václav Švec (126974)  1952   \n",
       "55884     František Filipovský (4735)  1955   \n",
       "41751          Milan Karpíšek (27321)  1975   \n",
       "44326     Milka Balek-Brodská (28799)  1933   \n",
       "30152          Arnošt Goldflam (1579)  1990   \n",
       "24579       Jaroslav Orlický (129724)  1943   \n",
       "51494       Čestmír Řanda st. (36487)  1966   \n",
       "51434       Čestmír Řanda st. (36487)  1966   \n",
       "73516         Johanna Tesařová (7764)  1987   \n",
       "73531         Johanna Tesařová (7764)  1987   \n",
       "73546         Johanna Tesařová (7764)  1987   \n",
       "22702           Karel Hruška (128870)  1933   \n",
       "40892           Jitka Moučková (2719)  2020   \n",
       "74396  Vladimír Pospíšil-Born (78982)  1937   \n",
       "74442  Vladimír Pospíšil-Born (78982)  1937   \n",
       "76483            Jiří Maryško (81150)  2021   \n",
       "45963             Vladimír Ráž (2991)  1962   \n",
       "50526               Petr Hanuš (3548)  1982   \n",
       "6325         Vladimír Zoubek (125641)  1959   \n",
       "17697             Otto Rubík (127638)  1937   \n",
       "17669             Otto Rubík (127638)  1937   \n",
       "5067             Hana Talpová (12453)  1976   \n",
       "16619       Suzanne Marwille (127373)  1933   \n",
       "5026             Hana Talpová (12453)  1976   \n",
       "26722         Miroslav Kalný (131466)  1959   \n",
       "85435        František Velecký (9687)  1971   \n",
       "85425        František Velecký (9687)  1971   \n",
       "6556             Jiří Dohnal (126022)  1942   \n",
       "6621             Jiří Dohnal (126022)  1942   \n",
       "40002              Miro Grisa (26959)  1984   \n",
       "85445        František Velecký (9687)  1971   \n",
       "83529            Soběslav Sejk (9018)  1959   \n",
       "41950        Marta Richterová (27358)  1976   \n",
       "\n",
       "                                                Role   Věk  \n",
       "62289                           principál komediantů  69.0  \n",
       "48165                       starší komorná princezny  67.0  \n",
       "58141                           principál Fortunatus  66.0  \n",
       "52332                               princův pobočník  64.0  \n",
       "41869                          sekretářka Šprinclová  60.0  \n",
       "41841                          sekretářka Šprinclová  60.0  \n",
       "26242                                 princ Lobkovic  60.0  \n",
       "81923                                sluha princátka  57.0  \n",
       "47711          král všech moří, otec šesti princezen  57.0  \n",
       "57719                         principál, otec Tončky  56.0  \n",
       "63945                             vyslanec princezny  54.0  \n",
       "63963                             vyslanec princezny  54.0  \n",
       "76064  baron Schwarz, tajemník princezny Marie Luisy  52.0  \n",
       "2204                       Marike, komorná princezny  51.0  \n",
       "50638                            sluha prince Jiřího  49.0  \n",
       "1134         inspektor Saueressig/starosta/principál  49.0  \n",
       "67705           principál Alois Kuldan, Frantův otec  49.0  \n",
       "13471                                dvořan u prince  49.0  \n",
       "55884                           principál komediantů  48.0  \n",
       "41751                     zpěv principála komediantů  47.0  \n",
       "44326                              komorná princezny  45.0  \n",
       "30152                 principál a herec Karel Vyžilý  44.0  \n",
       "24579                   komorník u prince Maxmiliána  44.0  \n",
       "51494                     principál cirkusu National  43.0  \n",
       "51434                     principál cirkusu National  43.0  \n",
       "73516                   principálová, Frantova matka  42.0  \n",
       "73531                   principálová, Frantova matka  42.0  \n",
       "73546                   principálová, Frantova matka  42.0  \n",
       "22702                           principál komediantů  42.0  \n",
       "40892                          hlas princezny Elleny  41.0  \n",
       "74396                        velitel princovy stráže  41.0  \n",
       "74442                        velitel princovy stráže  41.0  \n",
       "76483                        princ Oleandr, nápadník  41.0  \n",
       "45963                                          princ  39.0  \n",
       "50526                                  princ na koni  39.0  \n",
       "6325                                     princ Vítek  39.0  \n",
       "17697                 princ Alamír, snoubenec Zuliky  39.0  \n",
       "17669                 princ Alamír, snoubenec Zuliky  39.0  \n",
       "5067                        královna, princova matka  38.0  \n",
       "16619                           princezna Anna Luisa  38.0  \n",
       "5026                        královna, princova matka  38.0  \n",
       "26722                                 princ nápadník  37.0  \n",
       "85435                                    Černý princ  37.0  \n",
       "85425                                    Černý princ  37.0  \n",
       "6556                                           princ  37.0  \n",
       "6621                                           princ  37.0  \n",
       "40002                                          princ  37.0  \n",
       "85445                                    Černý princ  37.0  \n",
       "83529                                    princ Hynek  37.0  \n",
       "41950                     dvorní dáma princovy matky  36.0  "
      ]
     },
     "execution_count": 22,
     "metadata": {},
     "output_type": "execute_result"
    }
   ],
   "source": [
    "herectvo[herectvo[\"Role\"].str.lower().str.contains(\"princ\",na=True)][[\"Jméno\",\"Rok\",\"Role\",\"Věk\"]].sort_values(by=\"Věk\",ascending=False).head(50)"
   ]
  },
  {
   "cell_type": "code",
   "execution_count": 23,
   "id": "6f08709c",
   "metadata": {},
   "outputs": [],
   "source": [
    "zanry = df[[\"Film\",\"Žánr\"]]"
   ]
  },
  {
   "cell_type": "code",
   "execution_count": 24,
   "id": "39876662",
   "metadata": {},
   "outputs": [
    {
     "data": {
      "text/html": [
       "<div>\n",
       "<style scoped>\n",
       "    .dataframe tbody tr th:only-of-type {\n",
       "        vertical-align: middle;\n",
       "    }\n",
       "\n",
       "    .dataframe tbody tr th {\n",
       "        vertical-align: top;\n",
       "    }\n",
       "\n",
       "    .dataframe thead th {\n",
       "        text-align: right;\n",
       "    }\n",
       "</style>\n",
       "<table border=\"1\" class=\"dataframe\">\n",
       "  <thead>\n",
       "    <tr style=\"text-align: right;\">\n",
       "      <th></th>\n",
       "      <th>Film</th>\n",
       "      <th>Žánr</th>\n",
       "    </tr>\n",
       "  </thead>\n",
       "  <tbody>\n",
       "    <tr>\n",
       "      <th>0</th>\n",
       "      <td>Polední výstřel na Mariánských hradbách (401709)</td>\n",
       "      <td>reportáž</td>\n",
       "    </tr>\n",
       "    <tr>\n",
       "      <th>1</th>\n",
       "      <td>Cvičení s kužely Sokolů malostranských (401704)</td>\n",
       "      <td>[reportáž, sportovní]</td>\n",
       "    </tr>\n",
       "    <tr>\n",
       "      <th>2</th>\n",
       "      <td>Cyklisté (401705)</td>\n",
       "      <td>reportáž</td>\n",
       "    </tr>\n",
       "    <tr>\n",
       "      <th>3</th>\n",
       "      <td>Defilování vojska o Božím těle na Královských ...</td>\n",
       "      <td>reportáž</td>\n",
       "    </tr>\n",
       "    <tr>\n",
       "      <th>4</th>\n",
       "      <td>Hanácké banderium (401707)</td>\n",
       "      <td>reportáž</td>\n",
       "    </tr>\n",
       "    <tr>\n",
       "      <th>...</th>\n",
       "      <td>...</td>\n",
       "      <td>...</td>\n",
       "    </tr>\n",
       "    <tr>\n",
       "      <th>4527</th>\n",
       "      <td>Mimořádná událost (402176)</td>\n",
       "      <td>[komedie, satira, bláznivá komedie]</td>\n",
       "    </tr>\n",
       "    <tr>\n",
       "      <th>4528</th>\n",
       "      <td>Po čem muži touží 2 (402173)</td>\n",
       "      <td>[fantastický, komedie]</td>\n",
       "    </tr>\n",
       "    <tr>\n",
       "      <th>4529</th>\n",
       "      <td>Až zařve lev (402204)</td>\n",
       "      <td>[historický, životopisný, esej]</td>\n",
       "    </tr>\n",
       "    <tr>\n",
       "      <th>4530</th>\n",
       "      <td>Planeta Praha (402218)</td>\n",
       "      <td>[přírodopisný, rodinný]</td>\n",
       "    </tr>\n",
       "    <tr>\n",
       "      <th>4531</th>\n",
       "      <td>Identita ES (402166)</td>\n",
       "      <td>medailon</td>\n",
       "    </tr>\n",
       "  </tbody>\n",
       "</table>\n",
       "<p>4407 rows × 2 columns</p>\n",
       "</div>"
      ],
      "text/plain": [
       "                                                   Film   \n",
       "0      Polední výstřel na Mariánských hradbách (401709)  \\\n",
       "1       Cvičení s kužely Sokolů malostranských (401704)   \n",
       "2                                     Cyklisté (401705)   \n",
       "3     Defilování vojska o Božím těle na Královských ...   \n",
       "4                            Hanácké banderium (401707)   \n",
       "...                                                 ...   \n",
       "4527                         Mimořádná událost (402176)   \n",
       "4528                       Po čem muži touží 2 (402173)   \n",
       "4529                              Až zařve lev (402204)   \n",
       "4530                             Planeta Praha (402218)   \n",
       "4531                               Identita ES (402166)   \n",
       "\n",
       "                                     Žánr  \n",
       "0                                reportáž  \n",
       "1                   [reportáž, sportovní]  \n",
       "2                                reportáž  \n",
       "3                                reportáž  \n",
       "4                                reportáž  \n",
       "...                                   ...  \n",
       "4527  [komedie, satira, bláznivá komedie]  \n",
       "4528               [fantastický, komedie]  \n",
       "4529      [historický, životopisný, esej]  \n",
       "4530              [přírodopisný, rodinný]  \n",
       "4531                             medailon  \n",
       "\n",
       "[4407 rows x 2 columns]"
      ]
     },
     "execution_count": 24,
     "metadata": {},
     "output_type": "execute_result"
    }
   ],
   "source": [
    "zanry"
   ]
  },
  {
   "cell_type": "code",
   "execution_count": 25,
   "id": "8e5fa28d",
   "metadata": {
    "scrolled": true
   },
   "outputs": [
    {
     "data": {
      "text/plain": [
       "Žánr\n",
       "komedie              955\n",
       "drama                632\n",
       "psychologický        394\n",
       "příběh               229\n",
       "povídka              227\n",
       "pohádka              216\n",
       "reklamní             216\n",
       "dětský               188\n",
       "historický           161\n",
       "melodrama            154\n",
       "dokument             129\n",
       "kriminální           117\n",
       "etuda                110\n",
       "hudební              106\n",
       "životopisný          106\n",
       "satira                92\n",
       "dobrodružný           85\n",
       "groteska              77\n",
       "hořká komedie         76\n",
       "povídkový             76\n",
       "osvětový              70\n",
       "reportáž              69\n",
       "rodinný               68\n",
       "politický             67\n",
       "detektivní            66\n",
       "sociální              65\n",
       "tragikomedie          58\n",
       "umělecký              57\n",
       "válečný               49\n",
       "fantastický           44\n",
       "medailon              43\n",
       "smutná komedie        42\n",
       "poetický              41\n",
       "thriller              41\n",
       "časosběrný            41\n",
       "podobenství           40\n",
       "esej                  39\n",
       "propagační            39\n",
       "sci-fi                39\n",
       "road movie            38\n",
       "sportovní             37\n",
       "romantický            34\n",
       "experimentální        33\n",
       "milostný              32\n",
       "populárně-vědecký     29\n",
       "černá komedie         29\n",
       "střihový              26\n",
       "balada                25\n",
       "parodie               25\n",
       "horor                 23\n",
       "Name: Film, dtype: int64"
      ]
     },
     "execution_count": 25,
     "metadata": {},
     "output_type": "execute_result"
    }
   ],
   "source": [
    "zanry.explode(\"Žánr\").groupby(\"Žánr\")[\"Film\"].nunique().nlargest(50)"
   ]
  },
  {
   "cell_type": "code",
   "execution_count": 26,
   "id": "16c526f5",
   "metadata": {},
   "outputs": [],
   "source": [
    "pohadky = [\"pohádka\",\"dětský\",\"rodinný\"]"
   ]
  },
  {
   "cell_type": "code",
   "execution_count": 27,
   "id": "365b70f4",
   "metadata": {},
   "outputs": [],
   "source": [
    "herectvo = herectvo.merge(zanry, on=\"Film\")"
   ]
  },
  {
   "cell_type": "code",
   "execution_count": 28,
   "id": "78b76d48",
   "metadata": {},
   "outputs": [],
   "source": [
    "herectvo = herectvo.explode(\"Žánr\")"
   ]
  },
  {
   "cell_type": "code",
   "execution_count": 29,
   "id": "80856e99",
   "metadata": {},
   "outputs": [
    {
     "data": {
      "text/plain": [
       "Jméno                        Film                                 Role                                           \n",
       "Lubomír Kostelka (841)       Přehlídce velím já! (396823)         invalidní důchodce Josef Rendl                     42.0\n",
       "Josef Vinklář (4983)         Jakou barvu má láska (396997)        hlas důchodce Máchy                                43.0\n",
       "Luděk Pilc (128781)          Nikdo se nebude smát (396650)        elegantní důchodce                                 43.0\n",
       "Josef Somr (1054)            Evžen mezi námi (397316)             důchodce Koutný                                    47.0\n",
       "Martin Finger (19835)        Zahradnictví: Nápadník (401672)      invalidní důchodce Jindřich Rohn, Vilmin manžel    47.0\n",
       "Ondřej Malý (59148)          Učitelka (400766)                    invalidní důchodce Řehák                           50.0\n",
       "Josef Koza (126437)          Zlá noc (396978)                     důchodce Kverka, výpomocný zámečník                52.0\n",
       "Josef Burda (78901)          Jakou barvu má láska (396997)        důchodce Mácha                                     53.0\n",
       "Jan Kašpar (10009)           Vratné lahve (23639)                 důchodce v parku                                   55.0\n",
       "Ladislav Hádl (123615)       Havárie (397496)                     důchodce                                           58.0\n",
       "Otomar Korbelář (126899)     Brankář bydlí v naší ulici (396294)  důchodce Šácha                                     58.0\n",
       "Jan Skopeček (8252)          Láska s vůní pryskyřice (397443)     důchodce Kroutil                                   59.0\n",
       "Karel Koloušek (125640)      Láska s vůní pryskyřice (397443)     důchodce Hampl                                     60.0\n",
       "Jaroslav Radimecký (36619)   Stalo se v Brazílii (397432)         důchodce Jan                                       63.0\n",
       "Stanislav Hájek (27286)      Proč? (397558)                       důchodce                                           63.0\n",
       "František Kreuzmann (75624)  Pět z milionu (396366)               důchodce Hanousek                                  64.0\n",
       "Jiří Kostka (126460)         Zbraně pro Prahu (397041)            topič důchodce Hovorka                             64.0\n",
       "Petr Brukner (7945)          Vratné lahve (23639)                 důchodce v parku                                   64.0\n",
       "Václav Neužil (28919)        Výjimečná situace (397485)           důchodce Arnošt Pacina                             64.0\n",
       "Jiří Lír (4926)              Horká kaše (397607)                  důchodce s holí                                    65.0\n",
       "Name: Věk, dtype: float64"
      ]
     },
     "execution_count": 29,
     "metadata": {},
     "output_type": "execute_result"
    }
   ],
   "source": [
    "herectvo[(herectvo[\"Role\"].str.lower().str.contains(\"důchodce\",na=True,regex=True))].groupby([\"Jméno\",\"Film\",\"Role\"])[\"Věk\"].max().nsmallest(20)"
   ]
  },
  {
   "cell_type": "code",
   "execution_count": 30,
   "id": "7f84fb95",
   "metadata": {},
   "outputs": [
    {
     "data": {
      "text/html": [
       "<div>\n",
       "<style scoped>\n",
       "    .dataframe tbody tr th:only-of-type {\n",
       "        vertical-align: middle;\n",
       "    }\n",
       "\n",
       "    .dataframe tbody tr th {\n",
       "        vertical-align: top;\n",
       "    }\n",
       "\n",
       "    .dataframe thead th {\n",
       "        text-align: right;\n",
       "    }\n",
       "</style>\n",
       "<table border=\"1\" class=\"dataframe\">\n",
       "  <thead>\n",
       "    <tr style=\"text-align: right;\">\n",
       "      <th></th>\n",
       "      <th></th>\n",
       "      <th></th>\n",
       "      <th>Věk</th>\n",
       "    </tr>\n",
       "    <tr>\n",
       "      <th>Jméno</th>\n",
       "      <th>Film</th>\n",
       "      <th>Role</th>\n",
       "      <th></th>\n",
       "    </tr>\n",
       "  </thead>\n",
       "  <tbody>\n",
       "    <tr>\n",
       "      <th>Jiří Maryško (81150)</th>\n",
       "      <th>Tajemství staré bambitky 2 (402174)</th>\n",
       "      <th>princ Oleandr, nápadník</th>\n",
       "      <td>41.0</td>\n",
       "    </tr>\n",
       "    <tr>\n",
       "      <th>Petr Hanuš (3548)</th>\n",
       "      <th>Třetí princ (397364)</th>\n",
       "      <th>princ na koni</th>\n",
       "      <td>39.0</td>\n",
       "    </tr>\n",
       "    <tr>\n",
       "      <th>Vladimír Zoubek (125641)</th>\n",
       "      <th>O medvědu Ondřejovi (396371)</th>\n",
       "      <th>princ Vítek</th>\n",
       "      <td>39.0</td>\n",
       "    </tr>\n",
       "    <tr>\n",
       "      <th>Miroslav Kalný (131466)</th>\n",
       "      <th>O medvědu Ondřejovi (396371)</th>\n",
       "      <th>princ nápadník</th>\n",
       "      <td>37.0</td>\n",
       "    </tr>\n",
       "    <tr>\n",
       "      <th>Soběslav Sejk (9018)</th>\n",
       "      <th>O medvědu Ondřejovi (396371)</th>\n",
       "      <th>princ Hynek</th>\n",
       "      <td>37.0</td>\n",
       "    </tr>\n",
       "    <tr>\n",
       "      <th>Václav Neužil (9101)</th>\n",
       "      <th>Sedmero krkavců (400594)</th>\n",
       "      <th>princ Norbert</th>\n",
       "      <td>36.0</td>\n",
       "    </tr>\n",
       "    <tr>\n",
       "      <th>Miroslav Horníček (13266)</th>\n",
       "      <th>Byl jednou jeden král... (396193)</th>\n",
       "      <th>princ krásný, syn Alabastra XVI.</th>\n",
       "      <td>36.0</td>\n",
       "    </tr>\n",
       "    <tr>\n",
       "      <th>Jiří Bartoška (827)</th>\n",
       "      <th>Třetí princ (397364)</th>\n",
       "      <th>princ Jindřich</th>\n",
       "      <td>35.0</td>\n",
       "    </tr>\n",
       "    <tr>\n",
       "      <th>Ondřej Vetchý (836)</th>\n",
       "      <th>Kouzelný měšec (8531)</th>\n",
       "      <th>princ Velemír</th>\n",
       "      <td>34.0</td>\n",
       "    </tr>\n",
       "    <tr>\n",
       "      <th>Miloš Kopecký (4959)</th>\n",
       "      <th>Byl jednou jeden král... (396193)</th>\n",
       "      <th>princ chytrý</th>\n",
       "      <td>32.0</td>\n",
       "    </tr>\n",
       "    <tr>\n",
       "      <th>Pavel Trávníček (43700)</th>\n",
       "      <th>Třetí princ (397364)</th>\n",
       "      <th>princ Jaromír/princ Jaroslav</th>\n",
       "      <td>32.0</td>\n",
       "    </tr>\n",
       "    <tr>\n",
       "      <th>Jiří Ouhleda (128334)</th>\n",
       "      <th>O medvědu Ondřejovi (396371)</th>\n",
       "      <th>princ Zbyněk</th>\n",
       "      <td>32.0</td>\n",
       "    </tr>\n",
       "    <tr>\n",
       "      <th>Karel Fiala (19778)</th>\n",
       "      <th>Labakan (396258)</th>\n",
       "      <th>princ Omar</th>\n",
       "      <td>31.0</td>\n",
       "    </tr>\n",
       "    <tr>\n",
       "      <th>Miloš Nesvadba (16509)</th>\n",
       "      <th>Hrátky s čertem (396261)</th>\n",
       "      <th>nápadník princ Romuald</th>\n",
       "      <td>31.0</td>\n",
       "    </tr>\n",
       "    <tr>\n",
       "      <th>Lubomír Lipský (9728)</th>\n",
       "      <th>Byl jednou jeden král... (396193)</th>\n",
       "      <th>princ chrabrý, syn Děloslava VIII.</th>\n",
       "      <td>31.0</td>\n",
       "    </tr>\n",
       "    <tr>\n",
       "      <th>Ivan Palúch (6638)</th>\n",
       "      <th>Princ Bajaja (396912)</th>\n",
       "      <th>princ Bajaja</th>\n",
       "      <td>31.0</td>\n",
       "    </tr>\n",
       "    <tr>\n",
       "      <th>Jiří Langmajer (2981)</th>\n",
       "      <th>Pták Ohnivák (9214)</th>\n",
       "      <th>princ Wolf</th>\n",
       "      <td>31.0</td>\n",
       "    </tr>\n",
       "    <tr>\n",
       "      <th>Lukáš Příkazký (20116)</th>\n",
       "      <th>Sedmero krkavců (400594)</th>\n",
       "      <th>princ Bartoloměj</th>\n",
       "      <td>30.0</td>\n",
       "    </tr>\n",
       "    <tr>\n",
       "      <th>Petr Svojtka (31062)</th>\n",
       "      <th>Malá mořská víla (397113)</th>\n",
       "      <th>princ Jižní říše</th>\n",
       "      <td>30.0</td>\n",
       "    </tr>\n",
       "    <tr>\n",
       "      <th>Václav Jílek (19834)</th>\n",
       "      <th>Micimutr (185946)</th>\n",
       "      <th>princ Ivan</th>\n",
       "      <td>30.0</td>\n",
       "    </tr>\n",
       "    <tr>\n",
       "      <th>Jan Vágner (9049)</th>\n",
       "      <th>Malá mořská víla (397113)</th>\n",
       "      <th>princ Moře zapadajícího slunce, ženich malé mořské víly</th>\n",
       "      <td>28.0</td>\n",
       "    </tr>\n",
       "    <tr>\n",
       "      <th>Václav Vydra nejml. (2666)</th>\n",
       "      <th>S čerty nejsou žerty (397460)</th>\n",
       "      <th>princ strašpytel</th>\n",
       "      <td>28.0</td>\n",
       "    </tr>\n",
       "    <tr>\n",
       "      <th>Miloš Nesvadba (16509)</th>\n",
       "      <th>Pyšná princezna (396140)</th>\n",
       "      <th>princ ze Země zacházejícího slunce</th>\n",
       "      <td>27.0</td>\n",
       "    </tr>\n",
       "    <tr>\n",
       "      <th>Aleš Bílík (87908)</th>\n",
       "      <th>Řachanda (400701)</th>\n",
       "      <th>Matěj/princ Václav</th>\n",
       "      <td>27.0</td>\n",
       "    </tr>\n",
       "    <tr>\n",
       "      <th>Josef Zíma (2821)</th>\n",
       "      <th>Princezna se zlatou hvězdou (396365)</th>\n",
       "      <th>princ Radovan</th>\n",
       "      <td>27.0</td>\n",
       "    </tr>\n",
       "    <tr>\n",
       "      <th>Juraj Ďurdiak (21861)</th>\n",
       "      <th>Princ a Večernice (397192)</th>\n",
       "      <th>princ Velen</th>\n",
       "      <td>26.0</td>\n",
       "    </tr>\n",
       "    <tr>\n",
       "      <th>Vojtěch Dyk (26739)</th>\n",
       "      <th>Micimutr (185946)</th>\n",
       "      <th>princ Vladimír</th>\n",
       "      <td>26.0</td>\n",
       "    </tr>\n",
       "    <tr>\n",
       "      <th>František Bubla (130387)</th>\n",
       "      <th>Sněhurka a sedm trpaslíků (395597)</th>\n",
       "      <th>princ Jasmín</th>\n",
       "      <td>25.0</td>\n",
       "    </tr>\n",
       "    <tr>\n",
       "      <th>Václav Neckář (8835)</th>\n",
       "      <th>Šíleně smutná princezna (396779)</th>\n",
       "      <th>princ Václav</th>\n",
       "      <td>25.0</td>\n",
       "    </tr>\n",
       "    <tr>\n",
       "      <th>Ivan Lupták (40287)</th>\n",
       "      <th>Micimutr (185946)</th>\n",
       "      <th>princ Igor</th>\n",
       "      <td>25.0</td>\n",
       "    </tr>\n",
       "    <tr>\n",
       "      <th>Petr Svoboda (4526)</th>\n",
       "      <th>Malá mořská víla (397113)</th>\n",
       "      <th>princ Sargasového moře, ženich první sestry</th>\n",
       "      <td>24.0</td>\n",
       "    </tr>\n",
       "    <tr>\n",
       "      <th>Saša Rašilov nejml. (8072)</th>\n",
       "      <th>Kouzelný měšec (8531)</th>\n",
       "      <th>princ Petr</th>\n",
       "      <td>24.0</td>\n",
       "    </tr>\n",
       "    <tr>\n",
       "      <th>Jan Kraus (1062)</th>\n",
       "      <th>Jak se budí princezny (397160)</th>\n",
       "      <th>princ Jiří</th>\n",
       "      <td>24.0</td>\n",
       "    </tr>\n",
       "    <tr>\n",
       "      <th>Jiří Suchý (24920)</th>\n",
       "      <th>Micimutr (185946)</th>\n",
       "      <th>princ Bedřich</th>\n",
       "      <td>23.0</td>\n",
       "    </tr>\n",
       "    <tr>\n",
       "      <th>Lubomír Bryg (126444)</th>\n",
       "      <th>Hrátky s čertem (396261)</th>\n",
       "      <th>nápadník princ Isidor</th>\n",
       "      <td>22.0</td>\n",
       "    </tr>\n",
       "    <tr>\n",
       "      <th>Jiří Mádl (18965)</th>\n",
       "      <th>Peklo s princeznou (70854)</th>\n",
       "      <th>princ Jeroným</th>\n",
       "      <td>22.0</td>\n",
       "    </tr>\n",
       "    <tr>\n",
       "      <th>Jan Hrušínský (9926)</th>\n",
       "      <th>Jak se budí princezny (397160)</th>\n",
       "      <th>princ Jaroslav</th>\n",
       "      <td>22.0</td>\n",
       "    </tr>\n",
       "    <tr>\n",
       "      <th>Jan Šťastný (18468)</th>\n",
       "      <th>Za humny je drak (397358)</th>\n",
       "      <th>princ Jan, syn krále Jana</th>\n",
       "      <td>17.0</td>\n",
       "    </tr>\n",
       "    <tr>\n",
       "      <th>Ondřej Brousek (12548)</th>\n",
       "      <th>Pták Ohnivák (9214)</th>\n",
       "      <th>princ Otmar</th>\n",
       "      <td>16.0</td>\n",
       "    </tr>\n",
       "    <tr>\n",
       "      <th>Mikuláš Matoušek (131553)</th>\n",
       "      <th>Alenka v zemi zázraků (401746)</th>\n",
       "      <th>Malý princ/Pražské Jezulátko</th>\n",
       "      <td>13.0</td>\n",
       "    </tr>\n",
       "    <tr>\n",
       "      <th>Ivan Dejmal (8557)</th>\n",
       "      <th>Micimutr (185946)</th>\n",
       "      <th>princ Jiří</th>\n",
       "      <td>NaN</td>\n",
       "    </tr>\n",
       "    <tr>\n",
       "      <th>Max Urlacher (89051)</th>\n",
       "      <th>Jezerní královna (150214)</th>\n",
       "      <th>princ Viktor</th>\n",
       "      <td>NaN</td>\n",
       "    </tr>\n",
       "    <tr>\n",
       "      <th>Nikola Navrátil (9734)</th>\n",
       "      <th>Micimutr (185946)</th>\n",
       "      <th>princ Ludvík</th>\n",
       "      <td>NaN</td>\n",
       "    </tr>\n",
       "    <tr>\n",
       "      <th>Petr Havlovic (56106)</th>\n",
       "      <th>Peklo s princeznou (70854)</th>\n",
       "      <th>malý princ Jeroným</th>\n",
       "      <td>NaN</td>\n",
       "    </tr>\n",
       "    <tr>\n",
       "      <th>Petr Urban (79798)</th>\n",
       "      <th>Zakleté pírko (402047)</th>\n",
       "      <th>zakletý princ Vítek</th>\n",
       "      <td>NaN</td>\n",
       "    </tr>\n",
       "    <tr>\n",
       "      <th>Roman Roda-Růžička (128234)</th>\n",
       "      <th>Popelka (395483)</th>\n",
       "      <th>princ Zlatovlas</th>\n",
       "      <td>NaN</td>\n",
       "    </tr>\n",
       "    <tr>\n",
       "      <th>Roman Vejdovec (57790)</th>\n",
       "      <th>Jezerní královna (150214)</th>\n",
       "      <th>princ Evžen</th>\n",
       "      <td>NaN</td>\n",
       "    </tr>\n",
       "    <tr>\n",
       "      <th>Thomas Krkoška (32941)</th>\n",
       "      <th>Z pekla štěstí (53139)</th>\n",
       "      <th>princ francouzský</th>\n",
       "      <td>NaN</td>\n",
       "    </tr>\n",
       "  </tbody>\n",
       "</table>\n",
       "</div>"
      ],
      "text/plain": [
       "                                                                                                                      Věk\n",
       "Jméno                       Film                                 Role                                                    \n",
       "Jiří Maryško (81150)        Tajemství staré bambitky 2 (402174)  princ Oleandr, nápadník                             41.0\n",
       "Petr Hanuš (3548)           Třetí princ (397364)                 princ na koni                                       39.0\n",
       "Vladimír Zoubek (125641)    O medvědu Ondřejovi (396371)         princ Vítek                                         39.0\n",
       "Miroslav Kalný (131466)     O medvědu Ondřejovi (396371)         princ nápadník                                      37.0\n",
       "Soběslav Sejk (9018)        O medvědu Ondřejovi (396371)         princ Hynek                                         37.0\n",
       "Václav Neužil (9101)        Sedmero krkavců (400594)             princ Norbert                                       36.0\n",
       "Miroslav Horníček (13266)   Byl jednou jeden král... (396193)    princ krásný, syn Alabastra XVI.                    36.0\n",
       "Jiří Bartoška (827)         Třetí princ (397364)                 princ Jindřich                                      35.0\n",
       "Ondřej Vetchý (836)         Kouzelný měšec (8531)                princ Velemír                                       34.0\n",
       "Miloš Kopecký (4959)        Byl jednou jeden král... (396193)    princ chytrý                                        32.0\n",
       "Pavel Trávníček (43700)     Třetí princ (397364)                 princ Jaromír/princ Jaroslav                        32.0\n",
       "Jiří Ouhleda (128334)       O medvědu Ondřejovi (396371)         princ Zbyněk                                        32.0\n",
       "Karel Fiala (19778)         Labakan (396258)                     princ Omar                                          31.0\n",
       "Miloš Nesvadba (16509)      Hrátky s čertem (396261)             nápadník princ Romuald                              31.0\n",
       "Lubomír Lipský (9728)       Byl jednou jeden král... (396193)    princ chrabrý, syn Děloslava VIII.                  31.0\n",
       "Ivan Palúch (6638)          Princ Bajaja (396912)                princ Bajaja                                        31.0\n",
       "Jiří Langmajer (2981)       Pták Ohnivák (9214)                  princ Wolf                                          31.0\n",
       "Lukáš Příkazký (20116)      Sedmero krkavců (400594)             princ Bartoloměj                                    30.0\n",
       "Petr Svojtka (31062)        Malá mořská víla (397113)            princ Jižní říše                                    30.0\n",
       "Václav Jílek (19834)        Micimutr (185946)                    princ Ivan                                          30.0\n",
       "Jan Vágner (9049)           Malá mořská víla (397113)            princ Moře zapadajícího slunce, ženich malé moř...  28.0\n",
       "Václav Vydra nejml. (2666)  S čerty nejsou žerty (397460)        princ strašpytel                                    28.0\n",
       "Miloš Nesvadba (16509)      Pyšná princezna (396140)             princ ze Země zacházejícího slunce                  27.0\n",
       "Aleš Bílík (87908)          Řachanda (400701)                    Matěj/princ Václav                                  27.0\n",
       "Josef Zíma (2821)           Princezna se zlatou hvězdou (396365) princ Radovan                                       27.0\n",
       "Juraj Ďurdiak (21861)       Princ a Večernice (397192)           princ Velen                                         26.0\n",
       "Vojtěch Dyk (26739)         Micimutr (185946)                    princ Vladimír                                      26.0\n",
       "František Bubla (130387)    Sněhurka a sedm trpaslíků (395597)   princ Jasmín                                        25.0\n",
       "Václav Neckář (8835)        Šíleně smutná princezna (396779)     princ Václav                                        25.0\n",
       "Ivan Lupták (40287)         Micimutr (185946)                    princ Igor                                          25.0\n",
       "Petr Svoboda (4526)         Malá mořská víla (397113)            princ Sargasového moře, ženich první sestry         24.0\n",
       "Saša Rašilov nejml. (8072)  Kouzelný měšec (8531)                princ Petr                                          24.0\n",
       "Jan Kraus (1062)            Jak se budí princezny (397160)       princ Jiří                                          24.0\n",
       "Jiří Suchý (24920)          Micimutr (185946)                    princ Bedřich                                       23.0\n",
       "Lubomír Bryg (126444)       Hrátky s čertem (396261)             nápadník princ Isidor                               22.0\n",
       "Jiří Mádl (18965)           Peklo s princeznou (70854)           princ Jeroným                                       22.0\n",
       "Jan Hrušínský (9926)        Jak se budí princezny (397160)       princ Jaroslav                                      22.0\n",
       "Jan Šťastný (18468)         Za humny je drak (397358)            princ Jan, syn krále Jana                           17.0\n",
       "Ondřej Brousek (12548)      Pták Ohnivák (9214)                  princ Otmar                                         16.0\n",
       "Mikuláš Matoušek (131553)   Alenka v zemi zázraků (401746)       Malý princ/Pražské Jezulátko                        13.0\n",
       "Ivan Dejmal (8557)          Micimutr (185946)                    princ Jiří                                           NaN\n",
       "Max Urlacher (89051)        Jezerní královna (150214)            princ Viktor                                         NaN\n",
       "Nikola Navrátil (9734)      Micimutr (185946)                    princ Ludvík                                         NaN\n",
       "Petr Havlovic (56106)       Peklo s princeznou (70854)           malý princ Jeroným                                   NaN\n",
       "Petr Urban (79798)          Zakleté pírko (402047)               zakletý princ Vítek                                  NaN\n",
       "Roman Roda-Růžička (128234) Popelka (395483)                     princ Zlatovlas                                      NaN\n",
       "Roman Vejdovec (57790)      Jezerní královna (150214)            princ Evžen                                          NaN\n",
       "Thomas Krkoška (32941)      Z pekla štěstí (53139)               princ francouzský                                    NaN"
      ]
     },
     "execution_count": 30,
     "metadata": {},
     "output_type": "execute_result"
    }
   ],
   "source": [
    "princove = pd.DataFrame(herectvo[(herectvo[\"Role\"].str.lower().str.contains(\"princ[^\\w]\",na=True,regex=True)) & herectvo[\"Žánr\"].isin(pohadky)].groupby([\"Jméno\",\"Film\",\"Role\"])[\"Věk\"].max())\n",
    "princove.sort_values(by=\"Věk\",ascending=False)"
   ]
  },
  {
   "cell_type": "code",
   "execution_count": 31,
   "id": "793cabf0",
   "metadata": {},
   "outputs": [
    {
     "data": {
      "text/plain": [
       "29.0"
      ]
     },
     "execution_count": 31,
     "metadata": {},
     "output_type": "execute_result"
    }
   ],
   "source": [
    "herectvo[(herectvo[\"Role\"].str.lower().str.contains(\"princ[^\\w]\",na=True,regex=True)) & herectvo[\"Žánr\"].isin(pohadky)].groupby([\"Jméno\",\"Film\",\"Role\"])[\"Věk\"].max().median()"
   ]
  },
  {
   "cell_type": "code",
   "execution_count": 32,
   "id": "8465a503",
   "metadata": {},
   "outputs": [
    {
     "data": {
      "text/plain": [
       "28.65"
      ]
     },
     "execution_count": 32,
     "metadata": {},
     "output_type": "execute_result"
    }
   ],
   "source": [
    "herectvo[(herectvo[\"Role\"].str.lower().str.contains(\"princ[^\\w]\",na=True,regex=True)) & herectvo[\"Žánr\"].isin(pohadky)].groupby([\"Jméno\",\"Film\",\"Role\"])[\"Věk\"].max().mean()"
   ]
  },
  {
   "cell_type": "code",
   "execution_count": 33,
   "id": "e848bf64",
   "metadata": {},
   "outputs": [
    {
     "data": {
      "text/html": [
       "<div>\n",
       "<style scoped>\n",
       "    .dataframe tbody tr th:only-of-type {\n",
       "        vertical-align: middle;\n",
       "    }\n",
       "\n",
       "    .dataframe tbody tr th {\n",
       "        vertical-align: top;\n",
       "    }\n",
       "\n",
       "    .dataframe thead th {\n",
       "        text-align: right;\n",
       "    }\n",
       "</style>\n",
       "<table border=\"1\" class=\"dataframe\">\n",
       "  <thead>\n",
       "    <tr style=\"text-align: right;\">\n",
       "      <th></th>\n",
       "      <th></th>\n",
       "      <th></th>\n",
       "      <th>Věk</th>\n",
       "    </tr>\n",
       "    <tr>\n",
       "      <th>Jméno</th>\n",
       "      <th>Film</th>\n",
       "      <th>Role</th>\n",
       "      <th></th>\n",
       "    </tr>\n",
       "  </thead>\n",
       "  <tbody>\n",
       "    <tr>\n",
       "      <th>Jitka Ježková (5336)</th>\n",
       "      <th>O princezně, která se nesmála (179679)</th>\n",
       "      <th>princezna</th>\n",
       "      <td>33.0</td>\n",
       "    </tr>\n",
       "    <tr>\n",
       "      <th>Stella Májová (67287)</th>\n",
       "      <th>Byl jednou jeden král... (396193)</th>\n",
       "      <th>princezna Zpěvanka</th>\n",
       "      <td>31.0</td>\n",
       "    </tr>\n",
       "    <tr>\n",
       "      <th>Jorga Kotrbová (125595)</th>\n",
       "      <th>Honza málem králem (397135)</th>\n",
       "      <th>princezna</th>\n",
       "      <td>30.0</td>\n",
       "    </tr>\n",
       "    <tr>\n",
       "      <th>Květa Fialová (5338)</th>\n",
       "      <th>Princezna se zlatou hvězdou (396365)</th>\n",
       "      <th>princezna Florindella</th>\n",
       "      <td>30.0</td>\n",
       "    </tr>\n",
       "    <tr>\n",
       "      <th>Irena Kačírková (81377)</th>\n",
       "      <th>Byl jednou jeden král... (396193)</th>\n",
       "      <th>princezna Drahomíra</th>\n",
       "      <td>29.0</td>\n",
       "    </tr>\n",
       "    <tr>\n",
       "      <th>Libuše Šafránková (2272)</th>\n",
       "      <th>Třetí princ (397364)</th>\n",
       "      <th>princezna Milena/princezna ze skal</th>\n",
       "      <td>29.0</td>\n",
       "    </tr>\n",
       "    <tr>\n",
       "      <th>Sabina Laurinová (3857)</th>\n",
       "      <th>Z pekla štěstí 2 (1201)</th>\n",
       "      <th>princezna Eufrozína</th>\n",
       "      <td>29.0</td>\n",
       "    </tr>\n",
       "    <tr>\n",
       "      <th>Vlasta Fialová (5062)</th>\n",
       "      <th>Legenda o lásce (396257)</th>\n",
       "      <th>princezna Mechmene Banu</th>\n",
       "      <td>28.0</td>\n",
       "    </tr>\n",
       "    <tr>\n",
       "      <th>Sabina Laurinová (3857)</th>\n",
       "      <th>Z pekla štěstí (53139)</th>\n",
       "      <th>princezna Eufrozína</th>\n",
       "      <td>27.0</td>\n",
       "    </tr>\n",
       "    <tr>\n",
       "      <th>Věra Benšová (127407)</th>\n",
       "      <th>Strakonický dudák (396214)</th>\n",
       "      <th>princezna Zulika, Aleonorosova dcera</th>\n",
       "      <td>26.0</td>\n",
       "    </tr>\n",
       "    <tr>\n",
       "      <th>Jitka Schneiderová (3264)</th>\n",
       "      <th>Jezerní královna (150214)</th>\n",
       "      <th>princezna Odetta</th>\n",
       "      <td>25.0</td>\n",
       "    </tr>\n",
       "    <tr>\n",
       "      <th>Alena Vránová (4984)</th>\n",
       "      <th>Hrátky s čertem (396261)</th>\n",
       "      <th>princezna Dišperanda</th>\n",
       "      <td>24.0</td>\n",
       "    </tr>\n",
       "    <tr>\n",
       "      <th>Marie Kyselková (53291)</th>\n",
       "      <th>Princezna se zlatou hvězdou (396365)</th>\n",
       "      <th>princezna Lada, Hostivítova dcera</th>\n",
       "      <td>24.0</td>\n",
       "    </tr>\n",
       "    <tr>\n",
       "      <th>Aglaia Morávková (128888)</th>\n",
       "      <th>O medvědu Ondřejovi (396371)</th>\n",
       "      <th>princezna Blanka</th>\n",
       "      <td>23.0</td>\n",
       "    </tr>\n",
       "    <tr>\n",
       "      <th>Jana Kasanová (27344)</th>\n",
       "      <th>Tři zlaté vlasy děda Vševěda (396526)</th>\n",
       "      <th>princezna</th>\n",
       "      <td>23.0</td>\n",
       "    </tr>\n",
       "    <tr>\n",
       "      <th rowspan=\"2\" valign=\"top\">Julie Jurištová (87459)</th>\n",
       "      <th>Deváté srdce (397210)</th>\n",
       "      <th>princezna Adriena</th>\n",
       "      <td>23.0</td>\n",
       "    </tr>\n",
       "    <tr>\n",
       "      <th>Princ a Večernice (397192)</th>\n",
       "      <th>princezna Helenka</th>\n",
       "      <td>23.0</td>\n",
       "    </tr>\n",
       "    <tr>\n",
       "      <th>Libuše Šafránková (2272)</th>\n",
       "      <th>Malá mořská víla (397113)</th>\n",
       "      <th>princezna ze sousední říše</th>\n",
       "      <td>23.0</td>\n",
       "    </tr>\n",
       "    <tr>\n",
       "      <th>Magda Vášáryová (31019)</th>\n",
       "      <th>Princ Bajaja (396912)</th>\n",
       "      <th>princezna Slavěna</th>\n",
       "      <td>23.0</td>\n",
       "    </tr>\n",
       "    <tr>\n",
       "      <th>Taťána Čechovská (27546)</th>\n",
       "      <th>O statečném kováři (397412)</th>\n",
       "      <th>plavovlasá princezna</th>\n",
       "      <td>23.0</td>\n",
       "    </tr>\n",
       "  </tbody>\n",
       "</table>\n",
       "</div>"
      ],
      "text/plain": [
       "                                                                                                        Věk\n",
       "Jméno                     Film                                   Role                                      \n",
       "Jitka Ježková (5336)      O princezně, která se nesmála (179679) princezna                             33.0\n",
       "Stella Májová (67287)     Byl jednou jeden král... (396193)      princezna Zpěvanka                    31.0\n",
       "Jorga Kotrbová (125595)   Honza málem králem (397135)            princezna                             30.0\n",
       "Květa Fialová (5338)      Princezna se zlatou hvězdou (396365)   princezna Florindella                 30.0\n",
       "Irena Kačírková (81377)   Byl jednou jeden král... (396193)      princezna Drahomíra                   29.0\n",
       "Libuše Šafránková (2272)  Třetí princ (397364)                   princezna Milena/princezna ze skal    29.0\n",
       "Sabina Laurinová (3857)   Z pekla štěstí 2 (1201)                princezna Eufrozína                   29.0\n",
       "Vlasta Fialová (5062)     Legenda o lásce (396257)               princezna Mechmene Banu               28.0\n",
       "Sabina Laurinová (3857)   Z pekla štěstí (53139)                 princezna Eufrozína                   27.0\n",
       "Věra Benšová (127407)     Strakonický dudák (396214)             princezna Zulika, Aleonorosova dcera  26.0\n",
       "Jitka Schneiderová (3264) Jezerní královna (150214)              princezna Odetta                      25.0\n",
       "Alena Vránová (4984)      Hrátky s čertem (396261)               princezna Dišperanda                  24.0\n",
       "Marie Kyselková (53291)   Princezna se zlatou hvězdou (396365)   princezna Lada, Hostivítova dcera     24.0\n",
       "Aglaia Morávková (128888) O medvědu Ondřejovi (396371)           princezna Blanka                      23.0\n",
       "Jana Kasanová (27344)     Tři zlaté vlasy děda Vševěda (396526)  princezna                             23.0\n",
       "Julie Jurištová (87459)   Deváté srdce (397210)                  princezna Adriena                     23.0\n",
       "                          Princ a Večernice (397192)             princezna Helenka                     23.0\n",
       "Libuše Šafránková (2272)  Malá mořská víla (397113)              princezna ze sousední říše            23.0\n",
       "Magda Vášáryová (31019)   Princ Bajaja (396912)                  princezna Slavěna                     23.0\n",
       "Taťána Čechovská (27546)  O statečném kováři (397412)            plavovlasá princezna                  23.0"
      ]
     },
     "execution_count": 33,
     "metadata": {},
     "output_type": "execute_result"
    }
   ],
   "source": [
    "princezny = pd.DataFrame(herectvo[(herectvo[\"Role\"].str.lower().str.contains(\"princezna\",na=True,regex=True)) & herectvo[\"Žánr\"].isin(pohadky)].groupby([\"Jméno\",\"Film\",\"Role\"])[\"Věk\"].max().nlargest(20))\n",
    "princezny"
   ]
  },
  {
   "cell_type": "code",
   "execution_count": 34,
   "id": "a2ecddcc",
   "metadata": {},
   "outputs": [
    {
     "data": {
      "text/plain": [
       "9"
      ]
     },
     "execution_count": 34,
     "metadata": {},
     "output_type": "execute_result"
    }
   ],
   "source": [
    "len(princove[princove[\"Věk\"] > princezny[\"Věk\"].max()])"
   ]
  },
  {
   "cell_type": "code",
   "execution_count": 35,
   "id": "89a21f04",
   "metadata": {},
   "outputs": [
    {
     "data": {
      "text/plain": [
       "22.5"
      ]
     },
     "execution_count": 35,
     "metadata": {},
     "output_type": "execute_result"
    }
   ],
   "source": [
    "herectvo[(herectvo[\"Role\"].str.lower().str.contains(\"princezna\",na=True,regex=True)) & herectvo[\"Žánr\"].isin(pohadky)].groupby([\"Jméno\",\"Film\",\"Role\"])[\"Věk\"].max().median()"
   ]
  },
  {
   "cell_type": "code",
   "execution_count": 36,
   "id": "743e6727",
   "metadata": {},
   "outputs": [
    {
     "data": {
      "text/plain": [
       "22.65"
      ]
     },
     "execution_count": 36,
     "metadata": {},
     "output_type": "execute_result"
    }
   ],
   "source": [
    "herectvo[(herectvo[\"Role\"].str.lower().str.contains(\"princezna\",na=True,regex=True)) & herectvo[\"Žánr\"].isin(pohadky)].groupby([\"Jméno\",\"Film\",\"Role\"])[\"Věk\"].max().mean()"
   ]
  },
  {
   "cell_type": "code",
   "execution_count": 37,
   "id": "2d0e6aed",
   "metadata": {},
   "outputs": [
    {
     "data": {
      "text/plain": [
       "Jméno\n",
       "Jaroslav Hilbert (63466)      108.0\n",
       "František Kovářík (126912)    104.0\n",
       "Zdeněk Procházka (127279)     100.0\n",
       "Zita Kabátová (839)            96.0\n",
       "Miroslav Mráz (125568)         95.0\n",
       "Name: Věk, dtype: float64"
      ]
     },
     "execution_count": 37,
     "metadata": {},
     "output_type": "execute_result"
    }
   ],
   "source": [
    "herectvo.groupby(\"Jméno\")[\"Věk\"].max().nlargest()"
   ]
  },
  {
   "cell_type": "code",
   "execution_count": 38,
   "id": "f7b0d290",
   "metadata": {},
   "outputs": [],
   "source": [
    "herectvo[\"Gender\"] = herectvo[\"Jméno\"].apply(lambda x: gender(x, zeny, nelide))"
   ]
  },
  {
   "cell_type": "code",
   "execution_count": 39,
   "id": "e8ac287c",
   "metadata": {},
   "outputs": [
    {
     "name": "stdout",
     "output_type": "stream",
     "text": [
      "6234\n",
      "5383\n"
     ]
    }
   ],
   "source": [
    "vyplneno = pd.Series(herectvo.groupby(\"Jméno\")[\"Rok narození\"].first(), name=\"vyplneno\")\n",
    "print(vyplneno[~vyplneno.isnull()].index.nunique())\n",
    "print((vyplneno[vyplneno.isnull()].index.nunique()))"
   ]
  },
  {
   "cell_type": "code",
   "execution_count": 40,
   "id": "aa7fd7f6",
   "metadata": {},
   "outputs": [],
   "source": [
    "distribuce = pd.DataFrame(herectvo.groupby([\"Film\",\"Rok\",\"Jméno\",\"Věk\",\"Gender\"])[\"Rok úmrtí\"].first().reset_index())"
   ]
  },
  {
   "cell_type": "code",
   "execution_count": 41,
   "id": "712446ce",
   "metadata": {},
   "outputs": [
    {
     "data": {
      "text/html": [
       "<div>\n",
       "<style scoped>\n",
       "    .dataframe tbody tr th:only-of-type {\n",
       "        vertical-align: middle;\n",
       "    }\n",
       "\n",
       "    .dataframe tbody tr th {\n",
       "        vertical-align: top;\n",
       "    }\n",
       "\n",
       "    .dataframe thead th {\n",
       "        text-align: right;\n",
       "    }\n",
       "</style>\n",
       "<table border=\"1\" class=\"dataframe\">\n",
       "  <thead>\n",
       "    <tr style=\"text-align: right;\">\n",
       "      <th></th>\n",
       "      <th>Film</th>\n",
       "      <th>Rok</th>\n",
       "      <th>Jméno</th>\n",
       "      <th>Věk</th>\n",
       "      <th>Gender</th>\n",
       "      <th>Rok úmrtí</th>\n",
       "    </tr>\n",
       "  </thead>\n",
       "  <tbody>\n",
       "    <tr>\n",
       "      <th>0</th>\n",
       "      <td>...A bílá bledla, až celkem ztmavla (397394)</td>\n",
       "      <td>1983</td>\n",
       "      <td>Dagmar Čárová (12058)</td>\n",
       "      <td>25.0</td>\n",
       "      <td>žena</td>\n",
       "      <td>NaN</td>\n",
       "    </tr>\n",
       "    <tr>\n",
       "      <th>1</th>\n",
       "      <td>...A bílá bledla, až celkem ztmavla (397394)</td>\n",
       "      <td>1983</td>\n",
       "      <td>Jiří Schwarz (1346)</td>\n",
       "      <td>24.0</td>\n",
       "      <td>muž</td>\n",
       "      <td>NaN</td>\n",
       "    </tr>\n",
       "    <tr>\n",
       "      <th>3</th>\n",
       "      <td>...A bílá bledla, až celkem ztmavla (397394)</td>\n",
       "      <td>1983</td>\n",
       "      <td>Lucie Žulová (58489)</td>\n",
       "      <td>31.0</td>\n",
       "      <td>žena</td>\n",
       "      <td>NaN</td>\n",
       "    </tr>\n",
       "    <tr>\n",
       "      <th>4</th>\n",
       "      <td>...A bílá bledla, až celkem ztmavla (397394)</td>\n",
       "      <td>1983</td>\n",
       "      <td>Marta Malá (129700)</td>\n",
       "      <td>30.0</td>\n",
       "      <td>žena</td>\n",
       "      <td>NaN</td>\n",
       "    </tr>\n",
       "    <tr>\n",
       "      <th>5</th>\n",
       "      <td>...A bílá bledla, až celkem ztmavla (397394)</td>\n",
       "      <td>1983</td>\n",
       "      <td>Martin Kubala (714)</td>\n",
       "      <td>25.0</td>\n",
       "      <td>muž</td>\n",
       "      <td>NaN</td>\n",
       "    </tr>\n",
       "    <tr>\n",
       "      <th>...</th>\n",
       "      <td>...</td>\n",
       "      <td>...</td>\n",
       "      <td>...</td>\n",
       "      <td>...</td>\n",
       "      <td>...</td>\n",
       "      <td>...</td>\n",
       "    </tr>\n",
       "    <tr>\n",
       "      <th>65150</th>\n",
       "      <td>„Čtyři vraždy stačí, drahoušku“ (396882)</td>\n",
       "      <td>1970</td>\n",
       "      <td>Karel Vítek (126651)</td>\n",
       "      <td>34.0</td>\n",
       "      <td>muž</td>\n",
       "      <td>NaN</td>\n",
       "    </tr>\n",
       "    <tr>\n",
       "      <th>65151</th>\n",
       "      <td>„Čtyři vraždy stačí, drahoušku“ (396882)</td>\n",
       "      <td>1970</td>\n",
       "      <td>Kateřina Frýbová (88894)</td>\n",
       "      <td>21.0</td>\n",
       "      <td>žena</td>\n",
       "      <td>NaN</td>\n",
       "    </tr>\n",
       "    <tr>\n",
       "      <th>65152</th>\n",
       "      <td>„Čtyři vraždy stačí, drahoušku“ (396882)</td>\n",
       "      <td>1970</td>\n",
       "      <td>Ladislav Mrnka (126577)</td>\n",
       "      <td>47.0</td>\n",
       "      <td>muž</td>\n",
       "      <td>NaN</td>\n",
       "    </tr>\n",
       "    <tr>\n",
       "      <th>65159</th>\n",
       "      <td>„Čtyři vraždy stačí, drahoušku“ (396882)</td>\n",
       "      <td>1970</td>\n",
       "      <td>Nora Krčmářová (128785)</td>\n",
       "      <td>45.0</td>\n",
       "      <td>žena</td>\n",
       "      <td>NaN</td>\n",
       "    </tr>\n",
       "    <tr>\n",
       "      <th>65165</th>\n",
       "      <td>„Čtyři vraždy stačí, drahoušku“ (396882)</td>\n",
       "      <td>1970</td>\n",
       "      <td>Rudolf Kalina (129024)</td>\n",
       "      <td>39.0</td>\n",
       "      <td>muž</td>\n",
       "      <td>NaN</td>\n",
       "    </tr>\n",
       "  </tbody>\n",
       "</table>\n",
       "<p>22441 rows × 6 columns</p>\n",
       "</div>"
      ],
      "text/plain": [
       "                                               Film   Rok   \n",
       "0      ...A bílá bledla, až celkem ztmavla (397394)  1983  \\\n",
       "1      ...A bílá bledla, až celkem ztmavla (397394)  1983   \n",
       "3      ...A bílá bledla, až celkem ztmavla (397394)  1983   \n",
       "4      ...A bílá bledla, až celkem ztmavla (397394)  1983   \n",
       "5      ...A bílá bledla, až celkem ztmavla (397394)  1983   \n",
       "...                                             ...   ...   \n",
       "65150      „Čtyři vraždy stačí, drahoušku“ (396882)  1970   \n",
       "65151      „Čtyři vraždy stačí, drahoušku“ (396882)  1970   \n",
       "65152      „Čtyři vraždy stačí, drahoušku“ (396882)  1970   \n",
       "65159      „Čtyři vraždy stačí, drahoušku“ (396882)  1970   \n",
       "65165      „Čtyři vraždy stačí, drahoušku“ (396882)  1970   \n",
       "\n",
       "                          Jméno   Věk Gender  Rok úmrtí  \n",
       "0         Dagmar Čárová (12058)  25.0   žena        NaN  \n",
       "1           Jiří Schwarz (1346)  24.0    muž        NaN  \n",
       "3          Lucie Žulová (58489)  31.0   žena        NaN  \n",
       "4           Marta Malá (129700)  30.0   žena        NaN  \n",
       "5           Martin Kubala (714)  25.0    muž        NaN  \n",
       "...                         ...   ...    ...        ...  \n",
       "65150      Karel Vítek (126651)  34.0    muž        NaN  \n",
       "65151  Kateřina Frýbová (88894)  21.0   žena        NaN  \n",
       "65152   Ladislav Mrnka (126577)  47.0    muž        NaN  \n",
       "65159   Nora Krčmářová (128785)  45.0   žena        NaN  \n",
       "65165    Rudolf Kalina (129024)  39.0    muž        NaN  \n",
       "\n",
       "[22441 rows x 6 columns]"
      ]
     },
     "execution_count": 41,
     "metadata": {},
     "output_type": "execute_result"
    }
   ],
   "source": [
    "distribuce[distribuce[\"Rok úmrtí\"].isnull()]"
   ]
  },
  {
   "cell_type": "code",
   "execution_count": 42,
   "id": "5dddba3b",
   "metadata": {},
   "outputs": [
    {
     "data": {
      "text/html": [
       "<div>\n",
       "<style scoped>\n",
       "    .dataframe tbody tr th:only-of-type {\n",
       "        vertical-align: middle;\n",
       "    }\n",
       "\n",
       "    .dataframe tbody tr th {\n",
       "        vertical-align: top;\n",
       "    }\n",
       "\n",
       "    .dataframe thead th {\n",
       "        text-align: right;\n",
       "    }\n",
       "</style>\n",
       "<table border=\"1\" class=\"dataframe\">\n",
       "  <thead>\n",
       "    <tr style=\"text-align: right;\">\n",
       "      <th></th>\n",
       "      <th>Film</th>\n",
       "      <th>Rok</th>\n",
       "      <th>Jméno</th>\n",
       "      <th>Věk</th>\n",
       "      <th>Gender</th>\n",
       "      <th>Rok úmrtí</th>\n",
       "    </tr>\n",
       "  </thead>\n",
       "  <tbody>\n",
       "    <tr>\n",
       "      <th>0</th>\n",
       "      <td>...A bílá bledla, až celkem ztmavla (397394)</td>\n",
       "      <td>1983</td>\n",
       "      <td>Dagmar Čárová (12058)</td>\n",
       "      <td>25.0</td>\n",
       "      <td>žena</td>\n",
       "      <td>NaN</td>\n",
       "    </tr>\n",
       "    <tr>\n",
       "      <th>1</th>\n",
       "      <td>...A bílá bledla, až celkem ztmavla (397394)</td>\n",
       "      <td>1983</td>\n",
       "      <td>Jiří Schwarz (1346)</td>\n",
       "      <td>24.0</td>\n",
       "      <td>muž</td>\n",
       "      <td>NaN</td>\n",
       "    </tr>\n",
       "    <tr>\n",
       "      <th>2</th>\n",
       "      <td>...A bílá bledla, až celkem ztmavla (397394)</td>\n",
       "      <td>1983</td>\n",
       "      <td>Karel Hovorka (76534)</td>\n",
       "      <td>59.0</td>\n",
       "      <td>muž</td>\n",
       "      <td>1988.0</td>\n",
       "    </tr>\n",
       "    <tr>\n",
       "      <th>3</th>\n",
       "      <td>...A bílá bledla, až celkem ztmavla (397394)</td>\n",
       "      <td>1983</td>\n",
       "      <td>Lucie Žulová (58489)</td>\n",
       "      <td>31.0</td>\n",
       "      <td>žena</td>\n",
       "      <td>NaN</td>\n",
       "    </tr>\n",
       "    <tr>\n",
       "      <th>4</th>\n",
       "      <td>...A bílá bledla, až celkem ztmavla (397394)</td>\n",
       "      <td>1983</td>\n",
       "      <td>Marta Malá (129700)</td>\n",
       "      <td>30.0</td>\n",
       "      <td>žena</td>\n",
       "      <td>NaN</td>\n",
       "    </tr>\n",
       "    <tr>\n",
       "      <th>...</th>\n",
       "      <td>...</td>\n",
       "      <td>...</td>\n",
       "      <td>...</td>\n",
       "      <td>...</td>\n",
       "      <td>...</td>\n",
       "      <td>...</td>\n",
       "    </tr>\n",
       "    <tr>\n",
       "      <th>65168</th>\n",
       "      <td>„Čtyři vraždy stačí, drahoušku“ (396882)</td>\n",
       "      <td>1970</td>\n",
       "      <td>Vlastimil Hašek (35693)</td>\n",
       "      <td>42.0</td>\n",
       "      <td>muž</td>\n",
       "      <td>1992.0</td>\n",
       "    </tr>\n",
       "    <tr>\n",
       "      <th>65169</th>\n",
       "      <td>„Čtyři vraždy stačí, drahoušku“ (396882)</td>\n",
       "      <td>1970</td>\n",
       "      <td>Zdeněk Blažek (126904)</td>\n",
       "      <td>48.0</td>\n",
       "      <td>muž</td>\n",
       "      <td>1984.0</td>\n",
       "    </tr>\n",
       "    <tr>\n",
       "      <th>65170</th>\n",
       "      <td>„Čtyři vraždy stačí, drahoušku“ (396882)</td>\n",
       "      <td>1970</td>\n",
       "      <td>Zdeněk Kryzánek (81388)</td>\n",
       "      <td>50.0</td>\n",
       "      <td>muž</td>\n",
       "      <td>1975.0</td>\n",
       "    </tr>\n",
       "    <tr>\n",
       "      <th>65171</th>\n",
       "      <td>„Čtyři vraždy stačí, drahoušku“ (396882)</td>\n",
       "      <td>1970</td>\n",
       "      <td>Zdeněk Srstka (7960)</td>\n",
       "      <td>35.0</td>\n",
       "      <td>muž</td>\n",
       "      <td>2019.0</td>\n",
       "    </tr>\n",
       "    <tr>\n",
       "      <th>65172</th>\n",
       "      <td>„Čtyři vraždy stačí, drahoušku“ (396882)</td>\n",
       "      <td>1970</td>\n",
       "      <td>Zdeněk Řehoř (4855)</td>\n",
       "      <td>50.0</td>\n",
       "      <td>muž</td>\n",
       "      <td>1994.0</td>\n",
       "    </tr>\n",
       "  </tbody>\n",
       "</table>\n",
       "<p>65173 rows × 6 columns</p>\n",
       "</div>"
      ],
      "text/plain": [
       "                                               Film   Rok   \n",
       "0      ...A bílá bledla, až celkem ztmavla (397394)  1983  \\\n",
       "1      ...A bílá bledla, až celkem ztmavla (397394)  1983   \n",
       "2      ...A bílá bledla, až celkem ztmavla (397394)  1983   \n",
       "3      ...A bílá bledla, až celkem ztmavla (397394)  1983   \n",
       "4      ...A bílá bledla, až celkem ztmavla (397394)  1983   \n",
       "...                                             ...   ...   \n",
       "65168      „Čtyři vraždy stačí, drahoušku“ (396882)  1970   \n",
       "65169      „Čtyři vraždy stačí, drahoušku“ (396882)  1970   \n",
       "65170      „Čtyři vraždy stačí, drahoušku“ (396882)  1970   \n",
       "65171      „Čtyři vraždy stačí, drahoušku“ (396882)  1970   \n",
       "65172      „Čtyři vraždy stačí, drahoušku“ (396882)  1970   \n",
       "\n",
       "                         Jméno   Věk Gender  Rok úmrtí  \n",
       "0        Dagmar Čárová (12058)  25.0   žena        NaN  \n",
       "1          Jiří Schwarz (1346)  24.0    muž        NaN  \n",
       "2        Karel Hovorka (76534)  59.0    muž     1988.0  \n",
       "3         Lucie Žulová (58489)  31.0   žena        NaN  \n",
       "4          Marta Malá (129700)  30.0   žena        NaN  \n",
       "...                        ...   ...    ...        ...  \n",
       "65168  Vlastimil Hašek (35693)  42.0    muž     1992.0  \n",
       "65169   Zdeněk Blažek (126904)  48.0    muž     1984.0  \n",
       "65170  Zdeněk Kryzánek (81388)  50.0    muž     1975.0  \n",
       "65171     Zdeněk Srstka (7960)  35.0    muž     2019.0  \n",
       "65172      Zdeněk Řehoř (4855)  50.0    muž     1994.0  \n",
       "\n",
       "[65173 rows x 6 columns]"
      ]
     },
     "execution_count": 42,
     "metadata": {},
     "output_type": "execute_result"
    }
   ],
   "source": [
    "distribuce"
   ]
  },
  {
   "cell_type": "code",
   "execution_count": 43,
   "id": "ba72b6f8",
   "metadata": {},
   "outputs": [],
   "source": [
    "distribuce = distribuce[(distribuce[\"Rok úmrtí\"] >= (distribuce[\"Rok\"] + 2)) | (distribuce[\"Rok úmrtí\"].isnull())]"
   ]
  },
  {
   "cell_type": "code",
   "execution_count": 44,
   "id": "f4e3a89b",
   "metadata": {},
   "outputs": [
    {
     "data": {
      "text/html": [
       "<div>\n",
       "<style scoped>\n",
       "    .dataframe tbody tr th:only-of-type {\n",
       "        vertical-align: middle;\n",
       "    }\n",
       "\n",
       "    .dataframe tbody tr th {\n",
       "        vertical-align: top;\n",
       "    }\n",
       "\n",
       "    .dataframe thead th {\n",
       "        text-align: right;\n",
       "    }\n",
       "</style>\n",
       "<table border=\"1\" class=\"dataframe\">\n",
       "  <thead>\n",
       "    <tr style=\"text-align: right;\">\n",
       "      <th></th>\n",
       "      <th>Film</th>\n",
       "      <th>Rok</th>\n",
       "      <th>Jméno</th>\n",
       "      <th>Věk</th>\n",
       "      <th>Gender</th>\n",
       "      <th>Rok úmrtí</th>\n",
       "    </tr>\n",
       "  </thead>\n",
       "  <tbody>\n",
       "    <tr>\n",
       "      <th>0</th>\n",
       "      <td>...A bílá bledla, až celkem ztmavla (397394)</td>\n",
       "      <td>1983</td>\n",
       "      <td>Dagmar Čárová (12058)</td>\n",
       "      <td>25.0</td>\n",
       "      <td>žena</td>\n",
       "      <td>NaN</td>\n",
       "    </tr>\n",
       "    <tr>\n",
       "      <th>1</th>\n",
       "      <td>...A bílá bledla, až celkem ztmavla (397394)</td>\n",
       "      <td>1983</td>\n",
       "      <td>Jiří Schwarz (1346)</td>\n",
       "      <td>24.0</td>\n",
       "      <td>muž</td>\n",
       "      <td>NaN</td>\n",
       "    </tr>\n",
       "    <tr>\n",
       "      <th>2</th>\n",
       "      <td>...A bílá bledla, až celkem ztmavla (397394)</td>\n",
       "      <td>1983</td>\n",
       "      <td>Karel Hovorka (76534)</td>\n",
       "      <td>59.0</td>\n",
       "      <td>muž</td>\n",
       "      <td>1988.0</td>\n",
       "    </tr>\n",
       "    <tr>\n",
       "      <th>3</th>\n",
       "      <td>...A bílá bledla, až celkem ztmavla (397394)</td>\n",
       "      <td>1983</td>\n",
       "      <td>Lucie Žulová (58489)</td>\n",
       "      <td>31.0</td>\n",
       "      <td>žena</td>\n",
       "      <td>NaN</td>\n",
       "    </tr>\n",
       "    <tr>\n",
       "      <th>4</th>\n",
       "      <td>...A bílá bledla, až celkem ztmavla (397394)</td>\n",
       "      <td>1983</td>\n",
       "      <td>Marta Malá (129700)</td>\n",
       "      <td>30.0</td>\n",
       "      <td>žena</td>\n",
       "      <td>NaN</td>\n",
       "    </tr>\n",
       "    <tr>\n",
       "      <th>...</th>\n",
       "      <td>...</td>\n",
       "      <td>...</td>\n",
       "      <td>...</td>\n",
       "      <td>...</td>\n",
       "      <td>...</td>\n",
       "      <td>...</td>\n",
       "    </tr>\n",
       "    <tr>\n",
       "      <th>65168</th>\n",
       "      <td>„Čtyři vraždy stačí, drahoušku“ (396882)</td>\n",
       "      <td>1970</td>\n",
       "      <td>Vlastimil Hašek (35693)</td>\n",
       "      <td>42.0</td>\n",
       "      <td>muž</td>\n",
       "      <td>1992.0</td>\n",
       "    </tr>\n",
       "    <tr>\n",
       "      <th>65169</th>\n",
       "      <td>„Čtyři vraždy stačí, drahoušku“ (396882)</td>\n",
       "      <td>1970</td>\n",
       "      <td>Zdeněk Blažek (126904)</td>\n",
       "      <td>48.0</td>\n",
       "      <td>muž</td>\n",
       "      <td>1984.0</td>\n",
       "    </tr>\n",
       "    <tr>\n",
       "      <th>65170</th>\n",
       "      <td>„Čtyři vraždy stačí, drahoušku“ (396882)</td>\n",
       "      <td>1970</td>\n",
       "      <td>Zdeněk Kryzánek (81388)</td>\n",
       "      <td>50.0</td>\n",
       "      <td>muž</td>\n",
       "      <td>1975.0</td>\n",
       "    </tr>\n",
       "    <tr>\n",
       "      <th>65171</th>\n",
       "      <td>„Čtyři vraždy stačí, drahoušku“ (396882)</td>\n",
       "      <td>1970</td>\n",
       "      <td>Zdeněk Srstka (7960)</td>\n",
       "      <td>35.0</td>\n",
       "      <td>muž</td>\n",
       "      <td>2019.0</td>\n",
       "    </tr>\n",
       "    <tr>\n",
       "      <th>65172</th>\n",
       "      <td>„Čtyři vraždy stačí, drahoušku“ (396882)</td>\n",
       "      <td>1970</td>\n",
       "      <td>Zdeněk Řehoř (4855)</td>\n",
       "      <td>50.0</td>\n",
       "      <td>muž</td>\n",
       "      <td>1994.0</td>\n",
       "    </tr>\n",
       "  </tbody>\n",
       "</table>\n",
       "<p>64411 rows × 6 columns</p>\n",
       "</div>"
      ],
      "text/plain": [
       "                                               Film   Rok   \n",
       "0      ...A bílá bledla, až celkem ztmavla (397394)  1983  \\\n",
       "1      ...A bílá bledla, až celkem ztmavla (397394)  1983   \n",
       "2      ...A bílá bledla, až celkem ztmavla (397394)  1983   \n",
       "3      ...A bílá bledla, až celkem ztmavla (397394)  1983   \n",
       "4      ...A bílá bledla, až celkem ztmavla (397394)  1983   \n",
       "...                                             ...   ...   \n",
       "65168      „Čtyři vraždy stačí, drahoušku“ (396882)  1970   \n",
       "65169      „Čtyři vraždy stačí, drahoušku“ (396882)  1970   \n",
       "65170      „Čtyři vraždy stačí, drahoušku“ (396882)  1970   \n",
       "65171      „Čtyři vraždy stačí, drahoušku“ (396882)  1970   \n",
       "65172      „Čtyři vraždy stačí, drahoušku“ (396882)  1970   \n",
       "\n",
       "                         Jméno   Věk Gender  Rok úmrtí  \n",
       "0        Dagmar Čárová (12058)  25.0   žena        NaN  \n",
       "1          Jiří Schwarz (1346)  24.0    muž        NaN  \n",
       "2        Karel Hovorka (76534)  59.0    muž     1988.0  \n",
       "3         Lucie Žulová (58489)  31.0   žena        NaN  \n",
       "4          Marta Malá (129700)  30.0   žena        NaN  \n",
       "...                        ...   ...    ...        ...  \n",
       "65168  Vlastimil Hašek (35693)  42.0    muž     1992.0  \n",
       "65169   Zdeněk Blažek (126904)  48.0    muž     1984.0  \n",
       "65170  Zdeněk Kryzánek (81388)  50.0    muž     1975.0  \n",
       "65171     Zdeněk Srstka (7960)  35.0    muž     2019.0  \n",
       "65172      Zdeněk Řehoř (4855)  50.0    muž     1994.0  \n",
       "\n",
       "[64411 rows x 6 columns]"
      ]
     },
     "execution_count": 44,
     "metadata": {},
     "output_type": "execute_result"
    }
   ],
   "source": [
    "distribuce"
   ]
  },
  {
   "cell_type": "code",
   "execution_count": 45,
   "id": "dd4af970",
   "metadata": {},
   "outputs": [
    {
     "data": {
      "text/html": [
       "<div>\n",
       "<style scoped>\n",
       "    .dataframe tbody tr th:only-of-type {\n",
       "        vertical-align: middle;\n",
       "    }\n",
       "\n",
       "    .dataframe tbody tr th {\n",
       "        vertical-align: top;\n",
       "    }\n",
       "\n",
       "    .dataframe thead th {\n",
       "        text-align: right;\n",
       "    }\n",
       "</style>\n",
       "<table border=\"1\" class=\"dataframe\">\n",
       "  <thead>\n",
       "    <tr style=\"text-align: right;\">\n",
       "      <th></th>\n",
       "      <th>Film</th>\n",
       "      <th>Rok</th>\n",
       "      <th>Jméno</th>\n",
       "      <th>Věk</th>\n",
       "      <th>Gender</th>\n",
       "      <th>Rok úmrtí</th>\n",
       "    </tr>\n",
       "  </thead>\n",
       "  <tbody>\n",
       "    <tr>\n",
       "      <th>55232</th>\n",
       "      <td>Vlastníci (402008)</td>\n",
       "      <td>2019</td>\n",
       "      <td>Andrej Polák (10913)</td>\n",
       "      <td>40.0</td>\n",
       "      <td>muž</td>\n",
       "      <td>NaN</td>\n",
       "    </tr>\n",
       "    <tr>\n",
       "      <th>55233</th>\n",
       "      <td>Vlastníci (402008)</td>\n",
       "      <td>2019</td>\n",
       "      <td>Dagmar Havlová (76136)</td>\n",
       "      <td>68.0</td>\n",
       "      <td>žena</td>\n",
       "      <td>NaN</td>\n",
       "    </tr>\n",
       "    <tr>\n",
       "      <th>55234</th>\n",
       "      <td>Vlastníci (402008)</td>\n",
       "      <td>2019</td>\n",
       "      <td>David Novotný (1834)</td>\n",
       "      <td>50.0</td>\n",
       "      <td>muž</td>\n",
       "      <td>NaN</td>\n",
       "    </tr>\n",
       "    <tr>\n",
       "      <th>55235</th>\n",
       "      <td>Vlastníci (402008)</td>\n",
       "      <td>2019</td>\n",
       "      <td>Halka Třešňáková (24197)</td>\n",
       "      <td>47.0</td>\n",
       "      <td>žena</td>\n",
       "      <td>NaN</td>\n",
       "    </tr>\n",
       "    <tr>\n",
       "      <th>55236</th>\n",
       "      <td>Vlastníci (402008)</td>\n",
       "      <td>2019</td>\n",
       "      <td>Jiří Lábus (838)</td>\n",
       "      <td>69.0</td>\n",
       "      <td>muž</td>\n",
       "      <td>NaN</td>\n",
       "    </tr>\n",
       "    <tr>\n",
       "      <th>55237</th>\n",
       "      <td>Vlastníci (402008)</td>\n",
       "      <td>2019</td>\n",
       "      <td>Jiří Černý (13756)</td>\n",
       "      <td>37.0</td>\n",
       "      <td>muž</td>\n",
       "      <td>NaN</td>\n",
       "    </tr>\n",
       "    <tr>\n",
       "      <th>55238</th>\n",
       "      <td>Vlastníci (402008)</td>\n",
       "      <td>2019</td>\n",
       "      <td>Klára Melíšková (13764)</td>\n",
       "      <td>48.0</td>\n",
       "      <td>žena</td>\n",
       "      <td>NaN</td>\n",
       "    </tr>\n",
       "    <tr>\n",
       "      <th>55239</th>\n",
       "      <td>Vlastníci (402008)</td>\n",
       "      <td>2019</td>\n",
       "      <td>Kryštof Hádek (1830)</td>\n",
       "      <td>37.0</td>\n",
       "      <td>muž</td>\n",
       "      <td>NaN</td>\n",
       "    </tr>\n",
       "    <tr>\n",
       "      <th>55240</th>\n",
       "      <td>Vlastníci (402008)</td>\n",
       "      <td>2019</td>\n",
       "      <td>Ladislav Trojan (10040)</td>\n",
       "      <td>87.0</td>\n",
       "      <td>muž</td>\n",
       "      <td>2022.0</td>\n",
       "    </tr>\n",
       "    <tr>\n",
       "      <th>55241</th>\n",
       "      <td>Vlastníci (402008)</td>\n",
       "      <td>2019</td>\n",
       "      <td>Ondřej Malý (59148)</td>\n",
       "      <td>53.0</td>\n",
       "      <td>muž</td>\n",
       "      <td>NaN</td>\n",
       "    </tr>\n",
       "    <tr>\n",
       "      <th>55242</th>\n",
       "      <td>Vlastníci (402008)</td>\n",
       "      <td>2019</td>\n",
       "      <td>Pavla Tomicová (5142)</td>\n",
       "      <td>57.0</td>\n",
       "      <td>žena</td>\n",
       "      <td>NaN</td>\n",
       "    </tr>\n",
       "    <tr>\n",
       "      <th>55243</th>\n",
       "      <td>Vlastníci (402008)</td>\n",
       "      <td>2019</td>\n",
       "      <td>Stanislav Majer (63568)</td>\n",
       "      <td>41.0</td>\n",
       "      <td>muž</td>\n",
       "      <td>NaN</td>\n",
       "    </tr>\n",
       "    <tr>\n",
       "      <th>55244</th>\n",
       "      <td>Vlastníci (402008)</td>\n",
       "      <td>2019</td>\n",
       "      <td>Tereza Voříšková (26752)</td>\n",
       "      <td>30.0</td>\n",
       "      <td>žena</td>\n",
       "      <td>NaN</td>\n",
       "    </tr>\n",
       "    <tr>\n",
       "      <th>55245</th>\n",
       "      <td>Vlastníci (402008)</td>\n",
       "      <td>2019</td>\n",
       "      <td>Vojtěch Kotek (1673)</td>\n",
       "      <td>31.0</td>\n",
       "      <td>muž</td>\n",
       "      <td>NaN</td>\n",
       "    </tr>\n",
       "  </tbody>\n",
       "</table>\n",
       "</div>"
      ],
      "text/plain": [
       "                     Film   Rok                     Jméno   Věk Gender   \n",
       "55232  Vlastníci (402008)  2019      Andrej Polák (10913)  40.0    muž  \\\n",
       "55233  Vlastníci (402008)  2019    Dagmar Havlová (76136)  68.0   žena   \n",
       "55234  Vlastníci (402008)  2019      David Novotný (1834)  50.0    muž   \n",
       "55235  Vlastníci (402008)  2019  Halka Třešňáková (24197)  47.0   žena   \n",
       "55236  Vlastníci (402008)  2019          Jiří Lábus (838)  69.0    muž   \n",
       "55237  Vlastníci (402008)  2019        Jiří Černý (13756)  37.0    muž   \n",
       "55238  Vlastníci (402008)  2019   Klára Melíšková (13764)  48.0   žena   \n",
       "55239  Vlastníci (402008)  2019      Kryštof Hádek (1830)  37.0    muž   \n",
       "55240  Vlastníci (402008)  2019   Ladislav Trojan (10040)  87.0    muž   \n",
       "55241  Vlastníci (402008)  2019       Ondřej Malý (59148)  53.0    muž   \n",
       "55242  Vlastníci (402008)  2019     Pavla Tomicová (5142)  57.0   žena   \n",
       "55243  Vlastníci (402008)  2019   Stanislav Majer (63568)  41.0    muž   \n",
       "55244  Vlastníci (402008)  2019  Tereza Voříšková (26752)  30.0   žena   \n",
       "55245  Vlastníci (402008)  2019      Vojtěch Kotek (1673)  31.0    muž   \n",
       "\n",
       "       Rok úmrtí  \n",
       "55232        NaN  \n",
       "55233        NaN  \n",
       "55234        NaN  \n",
       "55235        NaN  \n",
       "55236        NaN  \n",
       "55237        NaN  \n",
       "55238        NaN  \n",
       "55239        NaN  \n",
       "55240     2022.0  \n",
       "55241        NaN  \n",
       "55242        NaN  \n",
       "55243        NaN  \n",
       "55244        NaN  \n",
       "55245        NaN  "
      ]
     },
     "execution_count": 45,
     "metadata": {},
     "output_type": "execute_result"
    }
   ],
   "source": [
    "distribuce[distribuce[\"Film\"] == \"Vlastníci (402008)\"]"
   ]
  },
  {
   "cell_type": "code",
   "execution_count": 46,
   "id": "7fd53551",
   "metadata": {},
   "outputs": [
    {
     "data": {
      "text/plain": [
       "Film\n",
       "Pomalu, ale slábnu (78814)                      86.500000\n",
       "Panenství Lídy Baarové (400756)                 83.000000\n",
       "Rosa & Dara: Co je to gravitace? (400674)       81.000000\n",
       "Rosa & Dara: Jak velké jsou hvězdy? (400676)    81.000000\n",
       "Rosa & Dara: Proč prší? (400672)                81.000000\n",
       "Kouzelná skříň (397535)                         73.000000\n",
       "Pamětnice (123955)                              72.266667\n",
       "Pátá loď (401180)                               72.000000\n",
       "Odborný dohled nad výkladem snu (401766)        71.750000\n",
       "Až zařve lev (402204)                           70.333333\n",
       "Name: Věk, dtype: float64"
      ]
     },
     "execution_count": 46,
     "metadata": {},
     "output_type": "execute_result"
    }
   ],
   "source": [
    "distribuce.groupby(\"Film\")[\"Věk\"].mean().nlargest(10)"
   ]
  },
  {
   "cell_type": "code",
   "execution_count": 47,
   "id": "221ba9a1",
   "metadata": {},
   "outputs": [
    {
     "data": {
      "text/plain": [
       "Film\n",
       "Červená Karkulka (402180)               5.0\n",
       "Potkal jsem ho v zoo (397759)          11.0\n",
       "Psí historie (117009)                  11.5\n",
       "Malý sen (396231)                      13.0\n",
       "Cesta do pravěku (396218)              14.4\n",
       "Československý Ježíšek (395161)        15.0\n",
       "Černý démant (398743)                  15.4\n",
       "Jak Vašíček přišel k nohám (395247)    17.0\n",
       "Kino (396465)                          17.0\n",
       "Očima fotografky (400647)              17.0\n",
       "Name: Věk, dtype: float64"
      ]
     },
     "execution_count": 47,
     "metadata": {},
     "output_type": "execute_result"
    }
   ],
   "source": [
    "distribuce.groupby(\"Film\")[\"Věk\"].mean().nsmallest(10)"
   ]
  },
  {
   "cell_type": "code",
   "execution_count": 48,
   "id": "98cd2a64",
   "metadata": {},
   "outputs": [
    {
     "data": {
      "text/plain": [
       "<AxesSubplot:ylabel='Frequency'>"
      ]
     },
     "execution_count": 48,
     "metadata": {},
     "output_type": "execute_result"
    },
    {
     "data": {
      "image/png": "[encoded data removed]",
      "text/plain": [
       "<Figure size 432x288 with 1 Axes>"
      ]
     },
     "metadata": {
      "needs_background": "light"
     },
     "output_type": "display_data"
    }
   ],
   "source": [
    "distribuce[distribuce[\"Gender\"] == \"muž\"][\"Věk\"].plot.hist(bins=98)"
   ]
  },
  {
   "cell_type": "code",
   "execution_count": 49,
   "id": "e0f5b3f7",
   "metadata": {},
   "outputs": [
    {
     "data": {
      "text/plain": [
       "<AxesSubplot:ylabel='Frequency'>"
      ]
     },
     "execution_count": 49,
     "metadata": {},
     "output_type": "execute_result"
    },
    {
     "data": {
      "image/png": "[encoded data removed]",
      "text/plain": [
       "<Figure size 432x288 with 1 Axes>"
      ]
     },
     "metadata": {
      "needs_background": "light"
     },
     "output_type": "display_data"
    }
   ],
   "source": [
    "distribuce[distribuce[\"Gender\"] == \"žena\"][\"Věk\"].plot.hist(bins=95)"
   ]
  },
  {
   "cell_type": "code",
   "execution_count": 50,
   "id": "d9688a0d",
   "metadata": {},
   "outputs": [
    {
     "data": {
      "text/plain": [
       "43.0"
      ]
     },
     "execution_count": 50,
     "metadata": {},
     "output_type": "execute_result"
    }
   ],
   "source": [
    "distribuce[distribuce[\"Gender\"] == \"muž\"][\"Věk\"].median()"
   ]
  },
  {
   "cell_type": "code",
   "execution_count": 51,
   "id": "1c819911",
   "metadata": {
    "scrolled": true
   },
   "outputs": [
    {
     "data": {
      "text/plain": [
       "36.0"
      ]
     },
     "execution_count": 51,
     "metadata": {},
     "output_type": "execute_result"
    }
   ],
   "source": [
    "distribuce[distribuce[\"Gender\"] == \"žena\"][\"Věk\"].median()"
   ]
  },
  {
   "cell_type": "code",
   "execution_count": 52,
   "id": "d5e43845",
   "metadata": {},
   "outputs": [
    {
     "data": {
      "text/plain": [
       "0    41.0\n",
       "Name: Věk, dtype: float64"
      ]
     },
     "execution_count": 52,
     "metadata": {},
     "output_type": "execute_result"
    }
   ],
   "source": [
    "distribuce[distribuce[\"Gender\"] == \"muž\"][\"Věk\"].mode()"
   ]
  },
  {
   "cell_type": "code",
   "execution_count": 53,
   "id": "32c1b3ce",
   "metadata": {},
   "outputs": [
    {
     "data": {
      "text/plain": [
       "0    24.0\n",
       "Name: Věk, dtype: float64"
      ]
     },
     "execution_count": 53,
     "metadata": {},
     "output_type": "execute_result"
    }
   ],
   "source": [
    "distribuce[distribuce[\"Gender\"] == \"žena\"][\"Věk\"].mode()"
   ]
  },
  {
   "cell_type": "code",
   "execution_count": 54,
   "id": "08921b30",
   "metadata": {},
   "outputs": [
    {
     "data": {
      "text/plain": [
       "46.0"
      ]
     },
     "execution_count": 54,
     "metadata": {},
     "output_type": "execute_result"
    }
   ],
   "source": [
    "distribuce[(distribuce[\"Rok\"] >= 2003) & (distribuce[\"Gender\"] == \"muž\")][\"Věk\"].median()"
   ]
  },
  {
   "cell_type": "code",
   "execution_count": 55,
   "id": "ad382e54",
   "metadata": {},
   "outputs": [
    {
     "data": {
      "text/plain": [
       "42.0"
      ]
     },
     "execution_count": 55,
     "metadata": {},
     "output_type": "execute_result"
    }
   ],
   "source": [
    "distribuce[(distribuce[\"Rok\"] >= 2003) & (distribuce[\"Gender\"] == \"žena\")][\"Věk\"].median()"
   ]
  },
  {
   "cell_type": "code",
   "execution_count": 56,
   "id": "503b12d2",
   "metadata": {},
   "outputs": [
    {
     "data": {
      "text/plain": [
       "<AxesSubplot:ylabel='Frequency'>"
      ]
     },
     "execution_count": 56,
     "metadata": {},
     "output_type": "execute_result"
    },
    {
     "data": {
      "image/png": "[encoded data removed]",
      "text/plain": [
       "<Figure size 432x288 with 1 Axes>"
      ]
     },
     "metadata": {
      "needs_background": "light"
     },
     "output_type": "display_data"
    }
   ],
   "source": [
    "distribuce[(distribuce[\"Rok\"] >= 1998) & (distribuce[\"Gender\"] == \"muž\")][\"Věk\"].plot.hist()"
   ]
  },
  {
   "cell_type": "code",
   "execution_count": 57,
   "id": "9a3fa202",
   "metadata": {},
   "outputs": [
    {
     "data": {
      "text/plain": [
       "<AxesSubplot:ylabel='Frequency'>"
      ]
     },
     "execution_count": 57,
     "metadata": {},
     "output_type": "execute_result"
    },
    {
     "data": {
      "image/png": "[encoded data removed]",
      "text/plain": [
       "<Figure size 432x288 with 1 Axes>"
      ]
     },
     "metadata": {
      "needs_background": "light"
     },
     "output_type": "display_data"
    }
   ],
   "source": [
    "distribuce[(distribuce[\"Rok\"] >= 1998) & (distribuce[\"Gender\"] == \"žena\")][\"Věk\"].plot.hist()"
   ]
  },
  {
   "cell_type": "markdown",
   "id": "6686e26f",
   "metadata": {},
   "source": [
    "## Režisérstvo"
   ]
  },
  {
   "cell_type": "code",
   "execution_count": 58,
   "id": "42daec49",
   "metadata": {},
   "outputs": [],
   "source": [
    "reziserstvo = df[[\"Copyright\",\"Typologie\",\"Délka\",\"Žánr\",\"Film\",\"Režie\"]]"
   ]
  },
  {
   "cell_type": "code",
   "execution_count": 59,
   "id": "d8ecbbb6",
   "metadata": {},
   "outputs": [],
   "source": [
    "reziserstvo = reziserstvo.explode(\"Režie\").explode(\"Typologie\").explode(\"Délka\")"
   ]
  },
  {
   "cell_type": "code",
   "execution_count": 60,
   "id": "466a8070",
   "metadata": {},
   "outputs": [],
   "source": [
    "reziserstvo[\"Gender\"] = reziserstvo[\"Režie\"].apply(lambda x: gender (x, zeny, nelide))"
   ]
  },
  {
   "cell_type": "code",
   "execution_count": 61,
   "id": "7ecbeeb0",
   "metadata": {},
   "outputs": [
    {
     "data": {
      "text/html": [
       "<div>\n",
       "<style scoped>\n",
       "    .dataframe tbody tr th:only-of-type {\n",
       "        vertical-align: middle;\n",
       "    }\n",
       "\n",
       "    .dataframe tbody tr th {\n",
       "        vertical-align: top;\n",
       "    }\n",
       "\n",
       "    .dataframe thead th {\n",
       "        text-align: right;\n",
       "    }\n",
       "</style>\n",
       "<table border=\"1\" class=\"dataframe\">\n",
       "  <thead>\n",
       "    <tr style=\"text-align: right;\">\n",
       "      <th></th>\n",
       "      <th>Copyright</th>\n",
       "      <th>Typologie</th>\n",
       "      <th>Délka</th>\n",
       "      <th>Žánr</th>\n",
       "      <th>Film</th>\n",
       "      <th>Režie</th>\n",
       "      <th>Gender</th>\n",
       "    </tr>\n",
       "  </thead>\n",
       "  <tbody>\n",
       "    <tr>\n",
       "      <th>3475</th>\n",
       "      <td>2003</td>\n",
       "      <td>dokumentární</td>\n",
       "      <td>dlouhometrážní</td>\n",
       "      <td>dokument</td>\n",
       "      <td>Ničeho nelituji (26300)</td>\n",
       "      <td>Theodora Remundová (5425)</td>\n",
       "      <td>žena</td>\n",
       "    </tr>\n",
       "    <tr>\n",
       "      <th>3475</th>\n",
       "      <td>2003</td>\n",
       "      <td>distribuční</td>\n",
       "      <td>dlouhometrážní</td>\n",
       "      <td>dokument</td>\n",
       "      <td>Ničeho nelituji (26300)</td>\n",
       "      <td>Theodora Remundová (5425)</td>\n",
       "      <td>žena</td>\n",
       "    </tr>\n",
       "    <tr>\n",
       "      <th>3476</th>\n",
       "      <td>2003</td>\n",
       "      <td>hraný</td>\n",
       "      <td>dlouhometrážní</td>\n",
       "      <td>psychologický</td>\n",
       "      <td>Nevěrné hry (20323)</td>\n",
       "      <td>Michaela Pavlátová (6866)</td>\n",
       "      <td>žena</td>\n",
       "    </tr>\n",
       "    <tr>\n",
       "      <th>3476</th>\n",
       "      <td>2003</td>\n",
       "      <td>distribuční</td>\n",
       "      <td>dlouhometrážní</td>\n",
       "      <td>psychologický</td>\n",
       "      <td>Nevěrné hry (20323)</td>\n",
       "      <td>Michaela Pavlátová (6866)</td>\n",
       "      <td>žena</td>\n",
       "    </tr>\n",
       "    <tr>\n",
       "      <th>3480</th>\n",
       "      <td>2003</td>\n",
       "      <td>animovaný</td>\n",
       "      <td>krátkometrážní</td>\n",
       "      <td>komedie</td>\n",
       "      <td>Čapí film (25375)</td>\n",
       "      <td>Denisa Grimmová (9607)</td>\n",
       "      <td>žena</td>\n",
       "    </tr>\n",
       "    <tr>\n",
       "      <th>...</th>\n",
       "      <td>...</td>\n",
       "      <td>...</td>\n",
       "      <td>...</td>\n",
       "      <td>...</td>\n",
       "      <td>...</td>\n",
       "      <td>...</td>\n",
       "      <td>...</td>\n",
       "    </tr>\n",
       "    <tr>\n",
       "      <th>4515</th>\n",
       "      <td>2021</td>\n",
       "      <td>distribuční</td>\n",
       "      <td>dlouhometrážní</td>\n",
       "      <td>[dobrodružný, rodinný]</td>\n",
       "      <td>Myši patří do nebe (402168)</td>\n",
       "      <td>Alice Hurychová (81624)</td>\n",
       "      <td>žena</td>\n",
       "    </tr>\n",
       "    <tr>\n",
       "      <th>4523</th>\n",
       "      <td>2021</td>\n",
       "      <td>hraný</td>\n",
       "      <td>dlouhometrážní</td>\n",
       "      <td>[komedie, parodie, bláznivá komedie]</td>\n",
       "      <td>Mstitel (402140)</td>\n",
       "      <td>Lucia Gažiová (19838)</td>\n",
       "      <td>žena</td>\n",
       "    </tr>\n",
       "    <tr>\n",
       "      <th>4523</th>\n",
       "      <td>2021</td>\n",
       "      <td>distribuční</td>\n",
       "      <td>dlouhometrážní</td>\n",
       "      <td>[komedie, parodie, bláznivá komedie]</td>\n",
       "      <td>Mstitel (402140)</td>\n",
       "      <td>Lucia Gažiová (19838)</td>\n",
       "      <td>žena</td>\n",
       "    </tr>\n",
       "    <tr>\n",
       "      <th>4531</th>\n",
       "      <td>2022</td>\n",
       "      <td>dokumentární</td>\n",
       "      <td>dlouhometrážní</td>\n",
       "      <td>medailon</td>\n",
       "      <td>Identita ES (402166)</td>\n",
       "      <td>Alena Činčerová (5732)</td>\n",
       "      <td>žena</td>\n",
       "    </tr>\n",
       "    <tr>\n",
       "      <th>4531</th>\n",
       "      <td>2022</td>\n",
       "      <td>distribuční</td>\n",
       "      <td>dlouhometrážní</td>\n",
       "      <td>medailon</td>\n",
       "      <td>Identita ES (402166)</td>\n",
       "      <td>Alena Činčerová (5732)</td>\n",
       "      <td>žena</td>\n",
       "    </tr>\n",
       "  </tbody>\n",
       "</table>\n",
       "<p>588 rows × 7 columns</p>\n",
       "</div>"
      ],
      "text/plain": [
       "      Copyright     Typologie           Délka   \n",
       "3475       2003  dokumentární  dlouhometrážní  \\\n",
       "3475       2003   distribuční  dlouhometrážní   \n",
       "3476       2003         hraný  dlouhometrážní   \n",
       "3476       2003   distribuční  dlouhometrážní   \n",
       "3480       2003     animovaný  krátkometrážní   \n",
       "...         ...           ...             ...   \n",
       "4515       2021   distribuční  dlouhometrážní   \n",
       "4523       2021         hraný  dlouhometrážní   \n",
       "4523       2021   distribuční  dlouhometrážní   \n",
       "4531       2022  dokumentární  dlouhometrážní   \n",
       "4531       2022   distribuční  dlouhometrážní   \n",
       "\n",
       "                                      Žánr                         Film   \n",
       "3475                              dokument      Ničeho nelituji (26300)  \\\n",
       "3475                              dokument      Ničeho nelituji (26300)   \n",
       "3476                         psychologický          Nevěrné hry (20323)   \n",
       "3476                         psychologický          Nevěrné hry (20323)   \n",
       "3480                               komedie            Čapí film (25375)   \n",
       "...                                    ...                          ...   \n",
       "4515                [dobrodružný, rodinný]  Myši patří do nebe (402168)   \n",
       "4523  [komedie, parodie, bláznivá komedie]             Mstitel (402140)   \n",
       "4523  [komedie, parodie, bláznivá komedie]             Mstitel (402140)   \n",
       "4531                              medailon         Identita ES (402166)   \n",
       "4531                              medailon         Identita ES (402166)   \n",
       "\n",
       "                          Režie Gender  \n",
       "3475  Theodora Remundová (5425)   žena  \n",
       "3475  Theodora Remundová (5425)   žena  \n",
       "3476  Michaela Pavlátová (6866)   žena  \n",
       "3476  Michaela Pavlátová (6866)   žena  \n",
       "3480     Denisa Grimmová (9607)   žena  \n",
       "...                         ...    ...  \n",
       "4515    Alice Hurychová (81624)   žena  \n",
       "4523      Lucia Gažiová (19838)   žena  \n",
       "4523      Lucia Gažiová (19838)   žena  \n",
       "4531     Alena Činčerová (5732)   žena  \n",
       "4531     Alena Činčerová (5732)   žena  \n",
       "\n",
       "[588 rows x 7 columns]"
      ]
     },
     "execution_count": 61,
     "metadata": {},
     "output_type": "execute_result"
    }
   ],
   "source": [
    "reziserstvo[(reziserstvo[\"Gender\"] == \"žena\") & (reziserstvo[\"Copyright\"] >= 2003)]"
   ]
  },
  {
   "cell_type": "code",
   "execution_count": 62,
   "id": "3dd0ada5",
   "metadata": {},
   "outputs": [
    {
     "data": {
      "text/plain": [
       "0.10347174948944861"
      ]
     },
     "execution_count": 62,
     "metadata": {},
     "output_type": "execute_result"
    }
   ],
   "source": [
    "reziserstvo[(reziserstvo[\"Gender\"] == \"žena\")][\"Film\"].nunique() / reziserstvo[\"Film\"].nunique()"
   ]
  },
  {
   "cell_type": "code",
   "execution_count": 63,
   "id": "014e10b0",
   "metadata": {},
   "outputs": [
    {
     "data": {
      "text/plain": [
       "0.057457922228670924"
      ]
     },
     "execution_count": 63,
     "metadata": {},
     "output_type": "execute_result"
    }
   ],
   "source": [
    "reziserstvo[(reziserstvo[\"Gender\"] == \"žena\") & (reziserstvo[\"Typologie\"] == \"hraný\")][\"Film\"].nunique() / reziserstvo[(reziserstvo[\"Typologie\"] == \"hraný\")][\"Film\"].nunique()"
   ]
  },
  {
   "cell_type": "code",
   "execution_count": 64,
   "id": "511a9058",
   "metadata": {},
   "outputs": [
    {
     "data": {
      "text/plain": [
       "0.24777006937561943"
      ]
     },
     "execution_count": 64,
     "metadata": {},
     "output_type": "execute_result"
    }
   ],
   "source": [
    "reziserstvo[(reziserstvo[\"Gender\"] == \"žena\") & (reziserstvo[\"Copyright\"] >= 2003)][\"Film\"].nunique() / reziserstvo[(reziserstvo[\"Copyright\"] >= 2003)][\"Film\"].nunique()"
   ]
  },
  {
   "cell_type": "code",
   "execution_count": 65,
   "id": "c9f6a886",
   "metadata": {},
   "outputs": [
    {
     "data": {
      "text/plain": [
       "0.15917602996254682"
      ]
     },
     "execution_count": 65,
     "metadata": {},
     "output_type": "execute_result"
    }
   ],
   "source": [
    "reziserstvo[(reziserstvo[\"Gender\"] == \"žena\") & (reziserstvo[\"Typologie\"] == \"hraný\") & (reziserstvo[\"Copyright\"] >= 2003)][\"Film\"].nunique() / reziserstvo[(reziserstvo[\"Copyright\"] >= 2003) & (reziserstvo[\"Typologie\"] == \"hraný\")][\"Film\"].nunique()"
   ]
  },
  {
   "cell_type": "code",
   "execution_count": 66,
   "id": "967c04b1",
   "metadata": {},
   "outputs": [
    {
     "data": {
      "text/plain": [
       "<AxesSubplot:xlabel='Copyright'>"
      ]
     },
     "execution_count": 66,
     "metadata": {},
     "output_type": "execute_result"
    },
    {
     "data": {
      "image/png": "[encoded data removed]",
      "text/plain": [
       "<Figure size 1440x360 with 1 Axes>"
      ]
     },
     "metadata": {
      "needs_background": "light"
     },
     "output_type": "display_data"
    }
   ],
   "source": [
    "pomer_reziserek = pd.Series(reziserstvo[reziserstvo[\"Gender\"] == \"žena\"].groupby([\"Copyright\",\"Režie\"])[\"Film\"].nunique().groupby(\"Copyright\").sum() / reziserstvo.groupby([\"Copyright\",\"Režie\"])[\"Film\"].nunique().groupby(\"Copyright\").sum())\n",
    "pomer_reziserek.plot.bar(figsize = (20,5))"
   ]
  },
  {
   "cell_type": "code",
   "execution_count": null,
   "id": "2a008d1e",
   "metadata": {},
   "outputs": [
    {
     "data": {
      "text/plain": [
       "<AxesSubplot:xlabel='Copyright'>"
      ]
     },
     "execution_count": 67,
     "metadata": {},
     "output_type": "execute_result"
    }
   ],
   "source": [
    "pomer_reziserek = pd.Series(reziserstvo[(reziserstvo[\"Gender\"] == \"žena\") & (reziserstvo[\"Typologie\"] == \"hraný\") & (reziserstvo[\"Délka\"] == \"dlouhometrážní\")].groupby([\"Copyright\",\"Režie\"])[\"Film\"].nunique().groupby(\"Copyright\").sum() / reziserstvo[(reziserstvo[\"Typologie\"] == \"hraný\") & (reziserstvo[\"Délka\"] == \"dlouhometrážní\")].groupby([\"Copyright\",\"Režie\"])[\"Film\"].nunique().groupby(\"Copyright\").sum())\n",
    "pomer_reziserek.plot.bar(figsize = (20,5))"
   ]
  },
  {
   "cell_type": "code",
   "execution_count": null,
   "id": "5163acac",
   "metadata": {},
   "outputs": [],
   "source": [
    "reziserstvo[reziserstvo[\"Gender\"] == \"žena\"].groupby(\"Režie\")[[\"Copyright\",\"Film\",\"Typologie\"]].min().sort_values(by=\"Copyright\")"
   ]
  },
  {
   "cell_type": "code",
   "execution_count": null,
   "id": "804ab9b3",
   "metadata": {},
   "outputs": [],
   "source": [
    "typy = reziserstvo[\"Typologie\"].drop_duplicates().to_list()"
   ]
  },
  {
   "cell_type": "code",
   "execution_count": null,
   "id": "1465a7b0",
   "metadata": {},
   "outputs": [],
   "source": [
    "for t in typy:\n",
    "    try:\n",
    "        mu = reziserstvo[(reziserstvo[\"Copyright\"] >= 1998) & (reziserstvo[\"Typologie\"] == t)].groupby(\"Gender\")[\"Film\"].nunique().iloc[0]\n",
    "        ze = reziserstvo[(reziserstvo[\"Copyright\"] >= 1998) & (reziserstvo[\"Typologie\"] == t)].groupby(\"Gender\")[\"Film\"].nunique().iloc[1]\n",
    "        print(f\"\"\"{t}: {ze/(ze+mu)}, m: {mu}, ž: {ze}\"\"\")\n",
    "    except:\n",
    "        print(f\"\"\"{t}: m: {mu}, ž: {ze}\"\"\")"
   ]
  },
  {
   "cell_type": "code",
   "execution_count": null,
   "id": "0a1b5acd",
   "metadata": {},
   "outputs": [],
   "source": [
    "pomer_reziserek = pd.Series(reziserstvo[(reziserstvo[\"Gender\"] == \"žena\") & (reziserstvo[\"Typologie\"] == \"dokumentární\") & (reziserstvo[\"Délka\"] == \"dlouhometrážní\")].groupby([\"Copyright\",\"Režie\"])[\"Film\"].nunique().groupby(\"Copyright\").sum() / reziserstvo[(reziserstvo[\"Typologie\"] == \"dokumentární\") & (reziserstvo[\"Délka\"] == \"dlouhometrážní\")].groupby([\"Copyright\",\"Režie\"])[\"Film\"].nunique().groupby(\"Copyright\").sum())\n",
    "pomer_reziserek.plot.bar(figsize = (20,5))"
   ]
  },
  {
   "cell_type": "markdown",
   "id": "afe399d8",
   "metadata": {},
   "source": [
    "## Různé profese"
   ]
  },
  {
   "cell_type": "code",
   "execution_count": null,
   "id": "05bf3bac",
   "metadata": {},
   "outputs": [],
   "source": [
    "persony = pd.read_json(os.path.join(\"data\", \"persony.json\"))"
   ]
  },
  {
   "cell_type": "code",
   "execution_count": null,
   "id": "4802b3c6",
   "metadata": {},
   "outputs": [],
   "source": [
    "fyzicke = persony[persony[\"Osoba\"] != \"právní\"]"
   ]
  },
  {
   "cell_type": "code",
   "execution_count": null,
   "id": "bcf1e5aa",
   "metadata": {},
   "outputs": [],
   "source": [
    "def profesni_pomery(frame, persony, prvni=True):\n",
    "    pomery = {}\n",
    "    for p in seznamy[\"profese\"]:\n",
    "        df_pracovni = frame[[\"Film\",\"Copyright\",p]].explode(p)\n",
    "        df_pracovni = df_pracovni.merge(persony[[\"Jméno\",\"Osoba\"]], left_on = p, right_on = \"Jméno\", how=\"outer\")\n",
    "        df_pracovni = df_pracovni[df_pracovni[\"Osoba\"] != \"právní\"]\n",
    "        df_pracovni[\"Gender profese\"] = df_pracovni[p].apply(lambda x: gender(x, zeny, nelide))\n",
    "        stats = []\n",
    "        stats.append(df_pracovni.groupby(\"Film\")[p].nunique().sum())\n",
    "        stats.append(df_pracovni[df_pracovni[\"Gender profese\"] == \"muž\"].groupby(\"Film\")[p].nunique().sum())\n",
    "        stats.append(df_pracovni[df_pracovni[\"Gender profese\"] == \"žena\"].groupby(\"Film\")[p].nunique().sum())\n",
    "        stats.append(df_pracovni[df_pracovni[\"Gender profese\"] == \"žena\"].groupby(\"Film\")[p].nunique().sum() / df_pracovni[df_pracovni[\"Gender profese\"].isin(dve_pohlavi)].groupby(\"Film\")[p].nunique().sum())\n",
    "        if prvni:\n",
    "            stats.append(df_pracovni[df_pracovni[\"Gender profese\"] == \"muž\"][\"Copyright\"].min())\n",
    "            stats.append(df_pracovni[df_pracovni[\"Gender profese\"] == \"žena\"][\"Copyright\"].min())\n",
    "        pomery[p] = stats\n",
    "    pomery = pd.DataFrame.from_dict(pomery).transpose().rename(columns={0: \"Celkem\", 1: \"Mužů\", 2: \"Žen\", 3: \"Podíl žen\", 4: \"První muž\", 5: \"První žena\"})\n",
    "    return pomery.sort_values(by=\"Podíl žen\",ascending=False)"
   ]
  },
  {
   "cell_type": "code",
   "execution_count": null,
   "id": "38f62a42",
   "metadata": {},
   "outputs": [],
   "source": [
    "profesni_pomery(df, fyzicke)"
   ]
  },
  {
   "cell_type": "code",
   "execution_count": null,
   "id": "dd7fe9c7",
   "metadata": {},
   "outputs": [],
   "source": [
    "profesni_pomery(hcf, fyzicke)"
   ]
  },
  {
   "cell_type": "code",
   "execution_count": null,
   "id": "fbf4c6db",
   "metadata": {
    "scrolled": true
   },
   "outputs": [],
   "source": [
    "profesni_pomery(df[df[\"Copyright\"] >= 1998], fyzicke, prvni=False)"
   ]
  },
  {
   "cell_type": "markdown",
   "id": "caf119ce",
   "metadata": {},
   "source": [
    "## Věk"
   ]
  },
  {
   "cell_type": "markdown",
   "id": "c4b4af5e",
   "metadata": {},
   "source": [
    "(Moc to nevypovídá, u řady profesí je málo dat.)"
   ]
  },
  {
   "cell_type": "code",
   "execution_count": null,
   "id": "7452dff5",
   "metadata": {},
   "outputs": [],
   "source": [
    "def vek(dataframe, persony, filtr):\n",
    "    global p\n",
    "    vek = {}\n",
    "    for p in seznamy[\"profese\"]:\n",
    "        df_pracovni = dataframe.explode(\"Typologie\")\n",
    "        df_pracovni = df_pracovni[(df_pracovni[\"Typologie\"] == \"hraný\") & (df_pracovni[\"Délka\"] == \"dlouhometrážní\")]\n",
    "        df_pracovni = df_pracovni[df_pracovni[\"Copyright\"] >= 1998][[\"Film\",\"Copyright\",p]].explode(p)\n",
    "        df_pracovni = df_pracovni.merge(persony, left_on = p, right_on = \"Jméno\")\n",
    "        df_pracovni = df_pracovni[df_pracovni[\"Osoba\"] == \"fyzická\"]\n",
    "        df_pracovni[\"Věk\"] = df_pracovni[\"Copyright\"] - df_pracovni[\"Rok narození\"]\n",
    "        df_pracovni = df_pracovni[~(df_pracovni[\"Rok úmrtí\"] < df_pracovni[\"Copyright\"])]\n",
    "        vek[p] = [df_pracovni[\"Věk\"].median(), df_pracovni[\"Věk\"].mean(), df_pracovni[\"Věk\"].min(), df_pracovni[\"Věk\"].max(), df_pracovni[p].nunique()]\n",
    "    vek = pd.DataFrame.from_dict(vek).transpose().rename(columns={0: \"Medián\", 1: \"Průměr\", 2: \"Nejnižší\", 3: \"Nejvyšší\", 4: \"n\"})\n",
    "    return vek[vek[\"n\"] > filtr].sort_values(by=\"Medián\",ascending=False)"
   ]
  },
  {
   "cell_type": "code",
   "execution_count": null,
   "id": "b8131126",
   "metadata": {},
   "outputs": [],
   "source": [
    "vek(df, fyzicke, 20)"
   ]
  },
  {
   "cell_type": "code",
   "execution_count": null,
   "id": "b2c7b84b",
   "metadata": {},
   "outputs": [],
   "source": [
    "vek(df[df[\"Copyright\"] > 1998], fyzicke, 150)"
   ]
  },
  {
   "cell_type": "code",
   "execution_count": null,
   "id": "9e1ac956",
   "metadata": {},
   "outputs": [],
   "source": [
    "rezie = df[[\"Film\",\"Copyright\",\"Režie\",\"Typologie\",\"Délka\"]].explode(\"Režie\").explode(\"Typologie\")\n",
    "rezie = rezie[(rezie[\"Typologie\"] == \"hraný\") & (rezie[\"Délka\"] == \"dlouhometrážní\")]"
   ]
  },
  {
   "cell_type": "code",
   "execution_count": null,
   "id": "bb03da45",
   "metadata": {},
   "outputs": [],
   "source": [
    "rezie = rezie.merge(persony[[\"Jméno\",\"Rok narození\"]], left_on = \"Režie\", right_on = \"Jméno\")"
   ]
  },
  {
   "cell_type": "code",
   "execution_count": null,
   "id": "23984632",
   "metadata": {},
   "outputs": [],
   "source": [
    "rezie[\"Věk\"] = rezie[\"Copyright\"] - rezie[\"Rok narození\"]"
   ]
  },
  {
   "cell_type": "code",
   "execution_count": null,
   "id": "0b4581e4",
   "metadata": {},
   "outputs": [],
   "source": [
    "rezie = rezie.drop_duplicates()"
   ]
  },
  {
   "cell_type": "code",
   "execution_count": null,
   "id": "0d6a7180",
   "metadata": {},
   "outputs": [],
   "source": [
    "rezie.groupby(\"Copyright\")[\"Věk\"].mean().plot.bar(figsize=(20,5))"
   ]
  },
  {
   "cell_type": "code",
   "execution_count": null,
   "id": "58876538",
   "metadata": {},
   "outputs": [],
   "source": [
    "nejmladsi_reziseri = rezie.groupby(\"Copyright\")[\"Věk\"].min()"
   ]
  },
  {
   "cell_type": "code",
   "execution_count": null,
   "id": "deb0a3fc",
   "metadata": {},
   "outputs": [],
   "source": [
    "nejmladsi_reziseri[nejmladsi_reziseri >= 30]"
   ]
  },
  {
   "cell_type": "code",
   "execution_count": null,
   "id": "cd1d8b27",
   "metadata": {},
   "outputs": [],
   "source": [
    "rezie[(rezie[\"Věk\"] < 30) & (rezie[\"Copyright\"].isin(range(1960,1991)))]"
   ]
  },
  {
   "cell_type": "markdown",
   "id": "2a4d55c0",
   "metadata": {},
   "source": [
    "## Mluveno"
   ]
  },
  {
   "cell_type": "code",
   "execution_count": null,
   "id": "c9994d15",
   "metadata": {},
   "outputs": [],
   "source": [
    "mluveno = df.explode(\"Mluveno\")"
   ]
  },
  {
   "cell_type": "code",
   "execution_count": null,
   "id": "c03e9bd3",
   "metadata": {},
   "outputs": [],
   "source": [
    "mluveno[\"Mluveno\"].drop_duplicates().to_list()"
   ]
  },
  {
   "cell_type": "code",
   "execution_count": null,
   "id": "6e7db3fd",
   "metadata": {},
   "outputs": [],
   "source": [
    "mluveno[mluveno[\"Mluveno\"] == \"romsky\"].groupby(\"Copyright\")[\"Film\"].nunique().nlargest().plot.bar()"
   ]
  },
  {
   "cell_type": "code",
   "execution_count": null,
   "id": "95c3e139",
   "metadata": {},
   "outputs": [],
   "source": [
    "mluveno[mluveno[\"Mluveno\"] == \"romsky\"][[\"Film\",\"Copyright\"]].sort_values(by=\"Copyright\")"
   ]
  },
  {
   "cell_type": "code",
   "execution_count": null,
   "id": "0c36c708",
   "metadata": {},
   "outputs": [],
   "source": [
    "mluveno[mluveno[\"Mluveno\"] == \"rusínsky\"].groupby(\"Copyright\")[\"Film\"].nunique().nlargest().plot.bar()"
   ]
  },
  {
   "cell_type": "code",
   "execution_count": null,
   "id": "cd4d8330",
   "metadata": {},
   "outputs": [],
   "source": [
    "mluveno[mluveno[\"Mluveno\"] == \"vietnamsky\"].groupby(\"Copyright\")[\"Film\"].nunique().nlargest().plot.bar()"
   ]
  },
  {
   "cell_type": "markdown",
   "id": "fd88b337",
   "metadata": {},
   "source": [
    "## Rodiště"
   ]
  },
  {
   "cell_type": "code",
   "execution_count": null,
   "id": "1f83f6d8",
   "metadata": {},
   "outputs": [],
   "source": [
    "persony = pd.read_json(os.path.join(\"data\", \"persony.json\"))"
   ]
  },
  {
   "cell_type": "code",
   "execution_count": null,
   "id": "3755069d",
   "metadata": {},
   "outputs": [],
   "source": [
    "persony[persony[\"Osoba\"] == \"fyzická\"].shape"
   ]
  },
  {
   "cell_type": "code",
   "execution_count": null,
   "id": "dc1e2264",
   "metadata": {},
   "outputs": [],
   "source": [
    "persony[~persony[\"Město narození\"].isnull()].shape"
   ]
  },
  {
   "cell_type": "code",
   "execution_count": null,
   "id": "9f508f4a",
   "metadata": {},
   "outputs": [],
   "source": [
    "persony[(persony[\"Osoba\"] == \"fyzická\") & (~persony[\"Město narození\"].isnull())].shape"
   ]
  },
  {
   "cell_type": "code",
   "execution_count": null,
   "id": "4f17ac7a",
   "metadata": {},
   "outputs": [],
   "source": [
    "persony[persony[\"Město narození\"] == \"Praha\"].shape"
   ]
  },
  {
   "cell_type": "markdown",
   "id": "691e9241",
   "metadata": {},
   "source": [
    "### Kontrola"
   ]
  },
  {
   "cell_type": "code",
   "execution_count": null,
   "id": "1616d829",
   "metadata": {
    "scrolled": true
   },
   "outputs": [],
   "source": [
    "persony[persony[\"Město narození\"] == \"Praha\"].sample(10)"
   ]
  },
  {
   "cell_type": "code",
   "execution_count": null,
   "id": "b71f1641",
   "metadata": {},
   "outputs": [],
   "source": [
    "with open(os.path.join(\"data_fixes\", \"1000nejcastejsich.json\"), encoding=\"utf-8\") as nejcastejsi:\n",
    "    nejcastejsi = json.loads(nejcastejsi.read())"
   ]
  },
  {
   "cell_type": "code",
   "execution_count": null,
   "id": "fecd5209",
   "metadata": {},
   "outputs": [],
   "source": [
    "persony[(persony[\"Jméno\"].isin(nejcastejsi)) & (persony[\"Město narození\"] == \"Praha\")][[\"Jméno\",\"Medailon\",\"Rok narození\",\"Místo narození\"]].sample(20)"
   ]
  },
  {
   "cell_type": "markdown",
   "id": "a3efad7b",
   "metadata": {},
   "source": [
    "### Analýza"
   ]
  },
  {
   "cell_type": "code",
   "execution_count": null,
   "id": "e6dccc59",
   "metadata": {},
   "outputs": [],
   "source": [
    "persony = pd.read_json(os.path.join(\"data\", \"persony.json\"))"
   ]
  },
  {
   "cell_type": "code",
   "execution_count": null,
   "id": "e3cfe1a2",
   "metadata": {},
   "outputs": [],
   "source": [
    "def rodiste(frame, persony, nelide, podil=float, n=int):\n",
    "    pomery = {}\n",
    "    for p in seznamy[\"profese\"]:\n",
    "        persony_pracovni = persony[persony[\"Osoba\"] == \"fyzická\"]\n",
    "        df_pracovni = frame[[\"Film\",\"Copyright\",p]].explode(p)\n",
    "        df_pracovni = df_pracovni.merge(persony_pracovni[[\"Jméno\",\"Osoba\",\"Město narození\",\"Stát narození\"]], left_on = p, right_on = \"Jméno\")\n",
    "        stats = []\n",
    "        celkem = frame.explode(p)\n",
    "        celkem = celkem[~(celkem[p].isnull())]\n",
    "        celkem = celkem[~(celkem[p].isin(nelide))]\n",
    "        celkem = len(celkem[p].to_list())\n",
    "        # člověkofilmy celkem, vč. lidí bez id\n",
    "        stats.append(celkem)\n",
    "        df_pracovni = df_pracovni[(df_pracovni[\"Stát narození\"].str.strip().isin([\"Československo\",\"Rakousko-Uhersko\",\"Česká republika\"])) & (~df_pracovni[\"Město narození\"].isnull())]\n",
    "        celkem_cr = df_pracovni.groupby(\"Film\")[p].nunique().sum() \n",
    "        stats.append(celkem_cr) # člověkofilmy: narození v čr\n",
    "        stats.append(celkem_cr / celkem) # poměr čr / všech vč. nevyplněných\n",
    "        stats.append(df_pracovni[df_pracovni[\"Město narození\"] == \"Praha\"].groupby(\"Film\")[p].nunique().sum() / celkem)\n",
    "        stats.append(df_pracovni[df_pracovni[\"Město narození\"] == \"Brno\"].groupby(\"Film\")[p].nunique().sum() / celkem)\n",
    "        stats.append(df_pracovni[df_pracovni[\"Město narození\"] == \"Ostrava\"].groupby(\"Film\")[p].nunique().sum() / celkem)\n",
    "        stats.append(df_pracovni[df_pracovni[\"Město narození\"] == \"Plzeň\"].groupby(\"Film\")[p].nunique().sum() / celkem)\n",
    "        pomery[p] = stats\n",
    "    pomery = pd.DataFrame.from_dict(pomery).transpose().rename(columns={0: \"Celkem\", 1: \"S údajem o narození v ČR\", 2: \"%\", 3: \"Praha\", 4: \"Brno\", 5: \"Ostrava\", 6: \"Plzeň\"})\n",
    "    return pomery[(pomery[\"%\"] >= podil) & (pomery[\"S údajem o narození v ČR\"] >= n)].sort_values(by=\"Praha\",ascending=False)"
   ]
  },
  {
   "cell_type": "code",
   "execution_count": null,
   "id": "928de63f",
   "metadata": {},
   "outputs": [],
   "source": [
    "rodiste(df, persony, nelide, podil=0.5, n=100)"
   ]
  },
  {
   "cell_type": "code",
   "execution_count": null,
   "id": "65e6120e",
   "metadata": {},
   "outputs": [],
   "source": [
    "rodiste(hcf[hcf[\"Copyright\"] >= 1998], persony, nelide, podil=0, n=200)"
   ]
  },
  {
   "cell_type": "code",
   "execution_count": null,
   "id": "b1965bf4",
   "metadata": {},
   "outputs": [],
   "source": [
    "napokusy = rodiste(hcf[hcf[\"Copyright\"] >= 1998], persony, nelide, podil=0, n=200)"
   ]
  },
  {
   "cell_type": "code",
   "execution_count": null,
   "id": "474fbe2a",
   "metadata": {},
   "outputs": [],
   "source": [
    "napokusy[\"Praha / Brno\"] = napokusy[\"Praha\"] / napokusy[\"Brno\"]\n",
    "napokusy.sort_values(by=\"Praha / Brno\")"
   ]
  },
  {
   "cell_type": "code",
   "execution_count": null,
   "id": "37e2c843",
   "metadata": {},
   "outputs": [],
   "source": [
    "reziehcf = df[[\"Režie\",\"Copyright\",\"Film\",\"Typologie\",\"Délka\"]].explode(\"Režie\").explode(\"Typologie\")\n",
    "reziehcf = reziehcf[(reziehcf[\"Délka\"] == \"dlouhometrážní\") & (reziehcf[\"Typologie\"] == \"hraný\")]"
   ]
  },
  {
   "cell_type": "code",
   "execution_count": null,
   "id": "beec27ed",
   "metadata": {},
   "outputs": [],
   "source": [
    "reziehcf.merge(persony, left_on = \"Režie\", right_on = \"Jméno\")"
   ]
  },
  {
   "cell_type": "code",
   "execution_count": null,
   "id": "f0003154",
   "metadata": {},
   "outputs": [],
   "source": [
    "reziehcf = reziehcf.merge(persony, left_on = \"Režie\", right_on = \"Jméno\")"
   ]
  },
  {
   "cell_type": "code",
   "execution_count": null,
   "id": "62a80e92",
   "metadata": {
    "scrolled": true
   },
   "outputs": [],
   "source": [
    "pd.Series(reziehcf[reziehcf[\"Město narození\"] == \"Praha\"].groupby(\"Copyright\")[\"Film\"].nunique() / reziehcf[reziehcf[\"Stát narození\"].str.strip().isin([\"Československo\",\"Rakousko-Uhersko\",\"Česká republika\"])].groupby(\"Copyright\")[\"Film\"].nunique()).plot.bar(figsize=(20,5))"
   ]
  },
  {
   "cell_type": "code",
   "execution_count": null,
   "id": "4fd869f6",
   "metadata": {},
   "outputs": [],
   "source": [
    "pd.Series(reziehcf[reziehcf[\"Město narození\"] == \"Bratislava\"].groupby(\"Copyright\")[\"Film\"].nunique() / reziehcf[reziehcf[\"Stát narození\"].str.strip().isin([\"Československo\",\"Rakousko-Uhersko\",\"Česká republika\"])].groupby(\"Copyright\")[\"Film\"].nunique()).plot.bar(figsize=(20,5))"
   ]
  },
  {
   "cell_type": "markdown",
   "id": "a00e25da",
   "metadata": {},
   "source": [
    "## Kolik filmů spískal Státní fond kinematografie?"
   ]
  },
  {
   "cell_type": "code",
   "execution_count": null,
   "id": "dc71cb04",
   "metadata": {},
   "outputs": [],
   "source": [
    "podpora = hcf.explode(\"S podporou\")"
   ]
  },
  {
   "cell_type": "code",
   "execution_count": null,
   "id": "f48f9fe4",
   "metadata": {},
   "outputs": [],
   "source": [
    "podpora[podpora[\"Copyright\"] >= 1998].groupby(\"S podporou\")[\"Film\"].nunique().nlargest(15)"
   ]
  },
  {
   "cell_type": "code",
   "execution_count": null,
   "id": "d35ff5ba",
   "metadata": {},
   "outputs": [],
   "source": [
    "pd.Series(podpora[podpora[\"S podporou\"].isin([\"Státní fond kinematografie (124966)\",\"Státní fond České republiky pro podporu a rozvoj české kinematografie (90421)\"])].groupby(\"Copyright\")[\"Film\"].nunique() / podpora.groupby(\"Copyright\")[\"Film\"].nunique()).plot.bar(figsize=(20,5))"
   ]
  },
  {
   "cell_type": "code",
   "execution_count": null,
   "id": "aeb28619",
   "metadata": {},
   "outputs": [],
   "source": [
    "pd.Series(podpora[podpora[\"S podporou\"] == \"Media Programme EU (123258)\"].groupby(\"Copyright\")[\"Film\"].nunique() / podpora.groupby(\"Copyright\")[\"Film\"].nunique()).plot.bar(figsize=(20,5))"
   ]
  }
 ],
 "metadata": {
  "kernelspec": {
   "display_name": "Python 3 (ipykernel)",
   "language": "python",
   "name": "python3"
  },
  "language_info": {
   "codemirror_mode": {
    "name": "ipython",
    "version": 3
   },
   "file_extension": ".py",
   "mimetype": "text/x-python",
   "name": "python",
   "nbconvert_exporter": "python",
   "pygments_lexer": "ipython3",
   "version": "3.10.8"
  }
 },
 "nbformat": 4,
 "nbformat_minor": 5
}
