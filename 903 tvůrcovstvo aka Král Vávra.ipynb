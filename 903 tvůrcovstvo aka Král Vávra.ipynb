{
 "cells": [
  {
   "cell_type": "markdown",
   "id": "93f1064b",
   "metadata": {},
   "source": [
    "- nejproduktivněji v různých ukazatelích vycházejí M. Frič a O. Vávra: srovnání osob a ér\n",
    "- dramaturg Václav Šašek (1766) u 5 filmů nominovaných na oskara, fotograf Jiří Stach (34555) u 2 oceněných\n",
    "- neznámí produktivní tvůrci v jiných rolích: fotograf Willy Ströminger (55487), střihač Miroslav Hájek (54607)"
   ]
  },
  {
   "cell_type": "code",
   "execution_count": 1,
   "id": "e9b0c5af",
   "metadata": {},
   "outputs": [],
   "source": [
    "import os\n",
    "import pandas as pd\n",
    "pd.set_option('display.max_columns', None)\n",
    "df = pd.read_json(os.path.join(\"data\", \"filmy.json\"))"
   ]
  },
  {
   "cell_type": "code",
   "execution_count": 2,
   "id": "1d319108",
   "metadata": {},
   "outputs": [],
   "source": [
    "import json\n",
    "with open(os.path.join(\"data_fixes\", \"seznamy.json\"), encoding=\"utf-8\") as seznamy:\n",
    "    seznamy = json.loads(seznamy.read())"
   ]
  },
  {
   "cell_type": "code",
   "execution_count": 3,
   "id": "ac1506bb",
   "metadata": {},
   "outputs": [],
   "source": [
    "profese = seznamy[\"profese\"]"
   ]
  },
  {
   "cell_type": "markdown",
   "id": "971287eb",
   "metadata": {},
   "source": [
    "## Celkový počet lidí uvedených u jednotlivých filmů"
   ]
  },
  {
   "cell_type": "code",
   "execution_count": 4,
   "id": "0f98771a",
   "metadata": {},
   "outputs": [],
   "source": [
    "def plose_jednoduse(x):\n",
    "    seznam = []\n",
    "    for y in x:\n",
    "        if y == None:\n",
    "            pass\n",
    "        if isinstance(y, str):\n",
    "            if y not in seznam:\n",
    "                seznam.append(y)\n",
    "        if isinstance(y, list):\n",
    "            for z in y:\n",
    "                if z not in seznam:\n",
    "                    seznam.append(z)\n",
    "    return(seznam)"
   ]
  },
  {
   "cell_type": "code",
   "execution_count": 5,
   "id": "4e292498",
   "metadata": {},
   "outputs": [],
   "source": [
    "df[\"Lidé\"] = df[profese].values.tolist()\n",
    "df[\"Lidé\"] = df[\"Lidé\"].apply(lambda x: plose_jednoduse(x))"
   ]
  },
  {
   "cell_type": "code",
   "execution_count": 6,
   "id": "6d769af9",
   "metadata": {},
   "outputs": [],
   "source": [
    "df[\"Počet lidí\"] = df[\"Lidé\"].apply(lambda x: len(x))"
   ]
  },
  {
   "cell_type": "code",
   "execution_count": 7,
   "id": "5d4aa061",
   "metadata": {
    "scrolled": true
   },
   "outputs": [
    {
     "data": {
      "text/html": [
       "<div>\n",
       "<style scoped>\n",
       "    .dataframe tbody tr th:only-of-type {\n",
       "        vertical-align: middle;\n",
       "    }\n",
       "\n",
       "    .dataframe tbody tr th {\n",
       "        vertical-align: top;\n",
       "    }\n",
       "\n",
       "    .dataframe thead th {\n",
       "        text-align: right;\n",
       "    }\n",
       "</style>\n",
       "<table border=\"1\" class=\"dataframe\">\n",
       "  <thead>\n",
       "    <tr style=\"text-align: right;\">\n",
       "      <th></th>\n",
       "      <th>Film</th>\n",
       "      <th>Počet lidí</th>\n",
       "    </tr>\n",
       "  </thead>\n",
       "  <tbody>\n",
       "    <tr>\n",
       "      <th>2701</th>\n",
       "      <td>Temné slunce (397277)</td>\n",
       "      <td>483</td>\n",
       "    </tr>\n",
       "    <tr>\n",
       "      <th>4371</th>\n",
       "      <td>Nabarvené ptáče (401962)</td>\n",
       "      <td>425</td>\n",
       "    </tr>\n",
       "    <tr>\n",
       "      <th>2383</th>\n",
       "      <td>Dny zrady (396979)</td>\n",
       "      <td>355</td>\n",
       "    </tr>\n",
       "    <tr>\n",
       "      <th>2513</th>\n",
       "      <td>Osvobození Prahy (397108)</td>\n",
       "      <td>353</td>\n",
       "    </tr>\n",
       "    <tr>\n",
       "      <th>2815</th>\n",
       "      <td>Putování Jana Amose (397429)</td>\n",
       "      <td>351</td>\n",
       "    </tr>\n",
       "    <tr>\n",
       "      <th>4346</th>\n",
       "      <td>Králíček Jojo (402171)</td>\n",
       "      <td>321</td>\n",
       "    </tr>\n",
       "    <tr>\n",
       "      <th>4378</th>\n",
       "      <td>Skleněný pokoj (401929)</td>\n",
       "      <td>303</td>\n",
       "    </tr>\n",
       "    <tr>\n",
       "      <th>4301</th>\n",
       "      <td>Jan Palach (401799)</td>\n",
       "      <td>286</td>\n",
       "    </tr>\n",
       "    <tr>\n",
       "      <th>2634</th>\n",
       "      <td>Lásky mezi kapkami deště (397232)</td>\n",
       "      <td>282</td>\n",
       "    </tr>\n",
       "    <tr>\n",
       "      <th>2393</th>\n",
       "      <td>Hvězda padá vzhůru (397037)</td>\n",
       "      <td>275</td>\n",
       "    </tr>\n",
       "  </tbody>\n",
       "</table>\n",
       "</div>"
      ],
      "text/plain": [
       "                                   Film  Počet lidí\n",
       "2701              Temné slunce (397277)         483\n",
       "4371           Nabarvené ptáče (401962)         425\n",
       "2383                 Dny zrady (396979)         355\n",
       "2513          Osvobození Prahy (397108)         353\n",
       "2815       Putování Jana Amose (397429)         351\n",
       "4346             Králíček Jojo (402171)         321\n",
       "4378            Skleněný pokoj (401929)         303\n",
       "4301                Jan Palach (401799)         286\n",
       "2634  Lásky mezi kapkami deště (397232)         282\n",
       "2393        Hvězda padá vzhůru (397037)         275"
      ]
     },
     "execution_count": 7,
     "metadata": {},
     "output_type": "execute_result"
    }
   ],
   "source": [
    "df[[\"Film\",\"Počet lidí\"]].sort_values(\"Počet lidí\",ascending=False).head(10)"
   ]
  },
  {
   "cell_type": "markdown",
   "id": "bea2dd6c",
   "metadata": {},
   "source": [
    "## První profese"
   ]
  },
  {
   "cell_type": "code",
   "execution_count": 8,
   "id": "4d1f0b3c",
   "metadata": {},
   "outputs": [
    {
     "data": {
      "text/html": [
       "<div>\n",
       "<style scoped>\n",
       "    .dataframe tbody tr th:only-of-type {\n",
       "        vertical-align: middle;\n",
       "    }\n",
       "\n",
       "    .dataframe tbody tr th {\n",
       "        vertical-align: top;\n",
       "    }\n",
       "\n",
       "    .dataframe thead th {\n",
       "        text-align: right;\n",
       "    }\n",
       "</style>\n",
       "<table border=\"1\" class=\"dataframe\">\n",
       "  <thead>\n",
       "    <tr style=\"text-align: right;\">\n",
       "      <th></th>\n",
       "      <th>Rok</th>\n",
       "    </tr>\n",
       "  </thead>\n",
       "  <tbody>\n",
       "    <tr>\n",
       "      <th>Režie</th>\n",
       "      <td>1898</td>\n",
       "    </tr>\n",
       "    <tr>\n",
       "      <th>Původní filmový námět</th>\n",
       "      <td>1898</td>\n",
       "    </tr>\n",
       "    <tr>\n",
       "      <th>Kamera</th>\n",
       "      <td>1898</td>\n",
       "    </tr>\n",
       "    <tr>\n",
       "      <th>Hrají</th>\n",
       "      <td>1898</td>\n",
       "    </tr>\n",
       "    <tr>\n",
       "      <th>Účinkují</th>\n",
       "      <td>1901</td>\n",
       "    </tr>\n",
       "    <tr>\n",
       "      <th>Spolupráce</th>\n",
       "      <td>1902</td>\n",
       "    </tr>\n",
       "    <tr>\n",
       "      <th>Scénář</th>\n",
       "      <td>1910</td>\n",
       "    </tr>\n",
       "    <tr>\n",
       "      <th>Druhá kamera</th>\n",
       "      <td>1913</td>\n",
       "    </tr>\n",
       "    <tr>\n",
       "      <th>Architekt</th>\n",
       "      <td>1914</td>\n",
       "    </tr>\n",
       "    <tr>\n",
       "      <th>Výtvarník</th>\n",
       "      <td>1918</td>\n",
       "    </tr>\n",
       "    <tr>\n",
       "      <th>Asistent kamery</th>\n",
       "      <td>1919</td>\n",
       "    </tr>\n",
       "    <tr>\n",
       "      <th>Odborný poradce</th>\n",
       "      <td>1919</td>\n",
       "    </tr>\n",
       "    <tr>\n",
       "      <th>Návrhy titulků</th>\n",
       "      <td>1919</td>\n",
       "    </tr>\n",
       "    <tr>\n",
       "      <th>Animace</th>\n",
       "      <td>1920</td>\n",
       "    </tr>\n",
       "    <tr>\n",
       "      <th>Výprava</th>\n",
       "      <td>1922</td>\n",
       "    </tr>\n",
       "    <tr>\n",
       "      <th>Triky</th>\n",
       "      <td>1922</td>\n",
       "    </tr>\n",
       "    <tr>\n",
       "      <th>Návrhy kostýmů</th>\n",
       "      <td>1922</td>\n",
       "    </tr>\n",
       "    <tr>\n",
       "      <th>Asistent režie</th>\n",
       "      <td>1922</td>\n",
       "    </tr>\n",
       "    <tr>\n",
       "      <th>Střih</th>\n",
       "      <td>1924</td>\n",
       "    </tr>\n",
       "    <tr>\n",
       "      <th>Choreografie</th>\n",
       "      <td>1924</td>\n",
       "    </tr>\n",
       "    <tr>\n",
       "      <th>Vedoucí výroby</th>\n",
       "      <td>1926</td>\n",
       "    </tr>\n",
       "    <tr>\n",
       "      <th>Masky</th>\n",
       "      <td>1926</td>\n",
       "    </tr>\n",
       "    <tr>\n",
       "      <th>Hudba, text a zpěv písně</th>\n",
       "      <td>1928</td>\n",
       "    </tr>\n",
       "    <tr>\n",
       "      <th>Zvláštní efekty</th>\n",
       "      <td>1928</td>\n",
       "    </tr>\n",
       "    <tr>\n",
       "      <th>Autor komentáře</th>\n",
       "      <td>1929</td>\n",
       "    </tr>\n",
       "    <tr>\n",
       "      <th>Výtvarná spolupráce</th>\n",
       "      <td>1929</td>\n",
       "    </tr>\n",
       "    <tr>\n",
       "      <th>Pomocná režie</th>\n",
       "      <td>1929</td>\n",
       "    </tr>\n",
       "    <tr>\n",
       "      <th>Zvuk</th>\n",
       "      <td>1929</td>\n",
       "    </tr>\n",
       "    <tr>\n",
       "      <th>Mluví</th>\n",
       "      <td>1929</td>\n",
       "    </tr>\n",
       "    <tr>\n",
       "      <th>Kostýmy</th>\n",
       "      <td>1931</td>\n",
       "    </tr>\n",
       "    <tr>\n",
       "      <th>Zástupce vedoucího výroby</th>\n",
       "      <td>1931</td>\n",
       "    </tr>\n",
       "    <tr>\n",
       "      <th>Hudba k písni</th>\n",
       "      <td>1932</td>\n",
       "    </tr>\n",
       "    <tr>\n",
       "      <th>Asistent vedoucího výroby</th>\n",
       "      <td>1932</td>\n",
       "    </tr>\n",
       "    <tr>\n",
       "      <th>Asistent zvuku</th>\n",
       "      <td>1932</td>\n",
       "    </tr>\n",
       "    <tr>\n",
       "      <th>Dirigent</th>\n",
       "      <td>1932</td>\n",
       "    </tr>\n",
       "    <tr>\n",
       "      <th>Hudební režie</th>\n",
       "      <td>1933</td>\n",
       "    </tr>\n",
       "    <tr>\n",
       "      <th>Komentář</th>\n",
       "      <td>1933</td>\n",
       "    </tr>\n",
       "    <tr>\n",
       "      <th>Dramaturg</th>\n",
       "      <td>1933</td>\n",
       "    </tr>\n",
       "    <tr>\n",
       "      <th>Zpívá</th>\n",
       "      <td>1934</td>\n",
       "    </tr>\n",
       "    <tr>\n",
       "      <th>Produkce</th>\n",
       "      <td>1935</td>\n",
       "    </tr>\n",
       "    <tr>\n",
       "      <th>České podtitulky</th>\n",
       "      <td>1936</td>\n",
       "    </tr>\n",
       "    <tr>\n",
       "      <th>Assistent architekta</th>\n",
       "      <td>1936</td>\n",
       "    </tr>\n",
       "    <tr>\n",
       "      <th>Skript</th>\n",
       "      <td>1938</td>\n",
       "    </tr>\n",
       "    <tr>\n",
       "      <th>Producent</th>\n",
       "      <td>1939</td>\n",
       "    </tr>\n",
       "    <tr>\n",
       "      <th>Asistent střihu</th>\n",
       "      <td>1945</td>\n",
       "    </tr>\n",
       "    <tr>\n",
       "      <th>Výběr hudby</th>\n",
       "      <td>1945</td>\n",
       "    </tr>\n",
       "    <tr>\n",
       "      <th>Technický scénář</th>\n",
       "      <td>1947</td>\n",
       "    </tr>\n",
       "    <tr>\n",
       "      <th>Pedagogické vedení</th>\n",
       "      <td>1949</td>\n",
       "    </tr>\n",
       "    <tr>\n",
       "      <th>Asistent vedoucího produkce</th>\n",
       "      <td>1952</td>\n",
       "    </tr>\n",
       "    <tr>\n",
       "      <th>Režie české verze</th>\n",
       "      <td>1965</td>\n",
       "    </tr>\n",
       "    <tr>\n",
       "      <th>Dialogy české verze</th>\n",
       "      <td>1965</td>\n",
       "    </tr>\n",
       "    <tr>\n",
       "      <th>Autor projektu</th>\n",
       "      <td>1967</td>\n",
       "    </tr>\n",
       "    <tr>\n",
       "      <th>Kaskadéři</th>\n",
       "      <td>1970</td>\n",
       "    </tr>\n",
       "    <tr>\n",
       "      <th>Koordinátor kaskadérů</th>\n",
       "      <td>1982</td>\n",
       "    </tr>\n",
       "    <tr>\n",
       "      <th>Výkonná produkce</th>\n",
       "      <td>1990</td>\n",
       "    </tr>\n",
       "    <tr>\n",
       "      <th>Zástupce vedoucího produkce</th>\n",
       "      <td>1991</td>\n",
       "    </tr>\n",
       "    <tr>\n",
       "      <th>Vedoucí produkce</th>\n",
       "      <td>1991</td>\n",
       "    </tr>\n",
       "    <tr>\n",
       "      <th>Postprodukce</th>\n",
       "      <td>1997</td>\n",
       "    </tr>\n",
       "  </tbody>\n",
       "</table>\n",
       "</div>"
      ],
      "text/plain": [
       "                              Rok\n",
       "Režie                        1898\n",
       "Původní filmový námět        1898\n",
       "Kamera                       1898\n",
       "Hrají                        1898\n",
       "Účinkují                     1901\n",
       "Spolupráce                   1902\n",
       "Scénář                       1910\n",
       "Druhá kamera                 1913\n",
       "Architekt                    1914\n",
       "Výtvarník                    1918\n",
       "Asistent kamery              1919\n",
       "Odborný poradce              1919\n",
       "Návrhy titulků               1919\n",
       "Animace                      1920\n",
       "Výprava                      1922\n",
       "Triky                        1922\n",
       "Návrhy kostýmů               1922\n",
       "Asistent režie               1922\n",
       "Střih                        1924\n",
       "Choreografie                 1924\n",
       "Vedoucí výroby               1926\n",
       "Masky                        1926\n",
       "Hudba, text a zpěv písně     1928\n",
       "Zvláštní efekty              1928\n",
       "Autor komentáře              1929\n",
       "Výtvarná spolupráce          1929\n",
       "Pomocná režie                1929\n",
       "Zvuk                         1929\n",
       "Mluví                        1929\n",
       "Kostýmy                      1931\n",
       "Zástupce vedoucího výroby    1931\n",
       "Hudba k písni                1932\n",
       "Asistent vedoucího výroby    1932\n",
       "Asistent zvuku               1932\n",
       "Dirigent                     1932\n",
       "Hudební režie                1933\n",
       "Komentář                     1933\n",
       "Dramaturg                    1933\n",
       "Zpívá                        1934\n",
       "Produkce                     1935\n",
       "České podtitulky             1936\n",
       "Assistent architekta         1936\n",
       "Skript                       1938\n",
       "Producent                    1939\n",
       "Asistent střihu              1945\n",
       "Výběr hudby                  1945\n",
       "Technický scénář             1947\n",
       "Pedagogické vedení           1949\n",
       "Asistent vedoucího produkce  1952\n",
       "Režie české verze            1965\n",
       "Dialogy české verze          1965\n",
       "Autor projektu               1967\n",
       "Kaskadéři                    1970\n",
       "Koordinátor kaskadérů        1982\n",
       "Výkonná produkce             1990\n",
       "Zástupce vedoucího produkce  1991\n",
       "Vedoucí produkce             1991\n",
       "Postprodukce                 1997"
      ]
     },
     "execution_count": 8,
     "metadata": {},
     "output_type": "execute_result"
    }
   ],
   "source": [
    "prvni_profese = {}\n",
    "for p in profese:\n",
    "    prvni_profese[p] = df.explode(p).groupby(p)[\"Copyright\"].min().min()\n",
    "prvni_profese = pd.DataFrame.from_dict(prvni_profese, orient=\"index\", columns=[\"Rok\"]).sort_values(by=\"Rok\")\n",
    "prvni_profese"
   ]
  },
  {
   "cell_type": "markdown",
   "id": "0834ecf8",
   "metadata": {},
   "source": [
    "## Režie"
   ]
  },
  {
   "cell_type": "markdown",
   "id": "44c82447",
   "metadata": {},
   "source": [
    "### Délka kariéry a produktivita"
   ]
  },
  {
   "cell_type": "code",
   "execution_count": 9,
   "id": "a96e6128",
   "metadata": {},
   "outputs": [],
   "source": [
    "rezie = df.explode(\"Režie\").explode(\"Typologie\")"
   ]
  },
  {
   "cell_type": "code",
   "execution_count": 10,
   "id": "7fdf3752",
   "metadata": {},
   "outputs": [],
   "source": [
    "rezie = rezie.replace({\"neuvedeno\": None})"
   ]
  },
  {
   "cell_type": "code",
   "execution_count": 11,
   "id": "eeea4226",
   "metadata": {
    "scrolled": true
   },
   "outputs": [
    {
     "data": {
      "text/plain": [
       "Režie\n",
       "Martin Frič (20324)           85\n",
       "Miroslav Cikán (31969)        48\n",
       "Karel Kachyňa (3526)          47\n",
       "Vladimír Slavínský (31967)    47\n",
       "Otakar Vávra (9507)           45\n",
       "Karel Lamač (37847)           37\n",
       "Svatopluk Innemann (33860)    36\n",
       "Václav Kubásek (37286)        35\n",
       "Václav Binovec (37467)        29\n",
       "Vladimír Čech (7871)          27\n",
       "Name: Film, dtype: int64"
      ]
     },
     "execution_count": 11,
     "metadata": {},
     "output_type": "execute_result"
    }
   ],
   "source": [
    "rezie[rezie[\"Délka\"] == \"dlouhometrážní\"].groupby(\"Režie\")[\"Film\"].nunique().nlargest(10)"
   ]
  },
  {
   "cell_type": "code",
   "execution_count": 12,
   "id": "471a2fb2",
   "metadata": {},
   "outputs": [
    {
     "data": {
      "text/plain": [
       "Typologie  Režie                     \n",
       "hraný      Martin Frič (20324)           86\n",
       "           Vladimír Slavínský (31967)    51\n",
       "           Miroslav Cikán (31969)        49\n",
       "           Václav Binovec (37467)        49\n",
       "           Otakar Vávra (9507)           46\n",
       "           Karel Kachyňa (3526)          45\n",
       "           Svatopluk Innemann (33860)    44\n",
       "animovaný  Karel Dodal (127380)          42\n",
       "hraný      Karel Lamač (37847)           42\n",
       "animovaný  Hermína Týrlová (4754)        40\n",
       "Name: Film, dtype: int64"
      ]
     },
     "execution_count": 12,
     "metadata": {},
     "output_type": "execute_result"
    }
   ],
   "source": [
    "rezie[rezie[\"Typologie\"].isin([\"hraný\",\"dokumentární\",\"animovaný\"])].groupby([\"Typologie\",\"Režie\"])[\"Film\"].nunique().nlargest(10)"
   ]
  },
  {
   "cell_type": "markdown",
   "id": "ae2b2a36",
   "metadata": {},
   "source": [
    "Nejdelší kariéry:"
   ]
  },
  {
   "cell_type": "code",
   "execution_count": 13,
   "id": "32317148",
   "metadata": {},
   "outputs": [
    {
     "data": {
      "text/plain": [
       "Režie\n",
       "Břetislav Pojar (3113)       60\n",
       "Karel Vachek (565)           59\n",
       "Otakar Vávra (9507)          59\n",
       "Hermína Týrlová (4754)       58\n",
       "Václav Vorlíček (1044)       57\n",
       "Jan Němec (3041)             56\n",
       "Dušan Klein (2568)           55\n",
       "Jiří Menzel (7887)           52\n",
       "Agnieszka Holland (12106)    51\n",
       "Jan Švankmajer (406)         50\n",
       "Karel Kachyňa (3526)         50\n",
       "Vojtěch Jasný (4666)         50\n",
       "Rajko Grlić (80991)          47\n",
       "Věra Chytilová (1555)        47\n",
       "František Filip (7822)       46\n",
       "Name: Copyright, dtype: int64"
      ]
     },
     "execution_count": 13,
     "metadata": {},
     "output_type": "execute_result"
    }
   ],
   "source": [
    "pd.Series(rezie.groupby(\"Režie\")[\"Copyright\"].max() - rezie.groupby(\"Režie\")[\"Copyright\"].min()).nlargest(15)"
   ]
  },
  {
   "cell_type": "code",
   "execution_count": 14,
   "id": "e067e0de",
   "metadata": {},
   "outputs": [
    {
     "data": {
      "text/plain": [
       "Režie\n",
       "Břetislav Pojar (3113)    56\n",
       "Otakar Vávra (9507)       53\n",
       "Dušan Klein (2568)        52\n",
       "Jan Němec (3041)          52\n",
       "Václav Vorlíček (1044)    51\n",
       "Jiří Menzel (7887)        47\n",
       "Miloš Forman (7872)       46\n",
       "Karel Kachyňa (3526)      45\n",
       "Vojtěch Jasný (4666)      45\n",
       "Vít Olmer (632)           44\n",
       "Juraj Herz (7875)         43\n",
       "Věra Chytilová (1555)     43\n",
       "Martin Frič (20324)       40\n",
       "Zdeněk Troška (3874)      40\n",
       "Karel Steklý (35894)      39\n",
       "Name: Copyright, dtype: int64"
      ]
     },
     "execution_count": 14,
     "metadata": {},
     "output_type": "execute_result"
    }
   ],
   "source": [
    "pd.Series(rezie[(rezie[\"Typologie\"] ==\"hraný\") & (rezie[\"Délka\"] == \"dlouhometrážní\")].groupby(\"Režie\")[\"Copyright\"].max() - rezie[(rezie[\"Typologie\"] ==\"hraný\") & (rezie[\"Délka\"] == \"dlouhometrážní\")].groupby(\"Režie\")[\"Copyright\"].min()).nlargest(15)"
   ]
  },
  {
   "cell_type": "code",
   "execution_count": 15,
   "id": "42223d1d",
   "metadata": {},
   "outputs": [],
   "source": [
    "persony = pd.read_json(os.path.join(\"data\", \"persony.json\"))"
   ]
  },
  {
   "cell_type": "code",
   "execution_count": 16,
   "id": "bbf5e8be",
   "metadata": {},
   "outputs": [],
   "source": [
    "rezie = rezie.merge(persony, left_on=\"Režie\", right_on=\"Jméno\", how=\"outer\")"
   ]
  },
  {
   "cell_type": "code",
   "execution_count": 17,
   "id": "d749d7d7",
   "metadata": {},
   "outputs": [],
   "source": [
    "rezie[\"Věk\"] = rezie[\"Copyright\"] - rezie[\"Rok narození\"]"
   ]
  },
  {
   "cell_type": "code",
   "execution_count": 18,
   "id": "a1c2d317",
   "metadata": {},
   "outputs": [
    {
     "data": {
      "text/plain": [
       "Režie\n",
       "Břetislav Pojar (3113)    88.0\n",
       "Jan Švankmajer (406)      84.0\n",
       "Karel Steklý (35894)      82.0\n",
       "Václav Vorlíček (1044)    81.0\n",
       "Jan Němec (3041)          80.0\n",
       "Name: Věk, dtype: float64"
      ]
     },
     "execution_count": 18,
     "metadata": {},
     "output_type": "execute_result"
    }
   ],
   "source": [
    "rezie[rezie[\"Délka\"] == \"dlouhometrážní\"].groupby(\"Režie\")[\"Věk\"].max().nlargest()"
   ]
  },
  {
   "cell_type": "code",
   "execution_count": 19,
   "id": "6427e40a",
   "metadata": {},
   "outputs": [
    {
     "data": {
      "text/plain": [
       "Režie\n",
       "Václav Havel (676)             75.0\n",
       "Jiří Adamec (28467)            71.0\n",
       "Lev Golub (54110)              71.0\n",
       "Martin Slunečko (989)          69.0\n",
       "Rajko Grlić (80991)            69.0\n",
       "Alena Činčerová (5732)         68.0\n",
       "Zdeněk Havlíček (26955)        68.0\n",
       "Vlasta Pospíšilová (4386)      67.0\n",
       "Jaroslav Bouček (146)          65.0\n",
       "Stanisław Różewicz (126216)    65.0\n",
       "Name: Věk, dtype: float64"
      ]
     },
     "execution_count": 19,
     "metadata": {},
     "output_type": "execute_result"
    }
   ],
   "source": [
    "rezie[rezie[\"Délka\"] == \"dlouhometrážní\"].groupby(\"Režie\")[\"Věk\"].min().nlargest(10)"
   ]
  },
  {
   "cell_type": "code",
   "execution_count": 20,
   "id": "a2c40e85",
   "metadata": {},
   "outputs": [
    {
     "data": {
      "text/plain": [
       "Režie\n",
       "Matěj Chlupáček (86730)    18.0\n",
       "David Balda (65707)        19.0\n",
       "Radim Špaček (496)         22.0\n",
       "Tomáš Řehořek (20771)      22.0\n",
       "Eman Fiala (64088)         23.0\n",
       "Name: Věk, dtype: float64"
      ]
     },
     "execution_count": 20,
     "metadata": {},
     "output_type": "execute_result"
    }
   ],
   "source": [
    "rezie[(rezie[\"Typologie\"] == \"hraný\") & (rezie[\"Délka\"] == \"dlouhometrážní\")].groupby(\"Režie\")[\"Věk\"].min().nsmallest()"
   ]
  },
  {
   "cell_type": "code",
   "execution_count": 21,
   "id": "98f9428c",
   "metadata": {
    "scrolled": true
   },
   "outputs": [
    {
     "data": {
      "text/plain": [
       "<AxesSubplot:xlabel='Copyright'>"
      ]
     },
     "execution_count": 21,
     "metadata": {},
     "output_type": "execute_result"
    },
    {
     "data": {
      "image/png": "[encoded data removed]",
      "text/plain": [
       "<Figure size 1440x360 with 1 Axes>"
      ]
     },
     "metadata": {
      "needs_background": "light"
     },
     "output_type": "display_data"
    }
   ],
   "source": [
    "rezie[(rezie[\"Typologie\"] == \"hraný\") & (rezie[\"Délka\"] == \"dlouhometrážní\")].groupby(\"Copyright\")[\"Věk\"].min().plot.bar(figsize=(20,5))"
   ]
  },
  {
   "cell_type": "markdown",
   "id": "5f6ec425",
   "metadata": {},
   "source": [
    "### Režie: další pikošky"
   ]
  },
  {
   "cell_type": "code",
   "execution_count": 22,
   "id": "73e09fd0",
   "metadata": {},
   "outputs": [],
   "source": [
    "odrezirovano = pd.Series(rezie.groupby(\"Režie\")[\"Film\"].nunique(), name=\"Odrežírováno\")"
   ]
  },
  {
   "cell_type": "code",
   "execution_count": 23,
   "id": "3f07797d",
   "metadata": {},
   "outputs": [],
   "source": [
    "rezie = rezie.merge(odrezirovano, on=\"Režie\")"
   ]
  },
  {
   "cell_type": "code",
   "execution_count": 24,
   "id": "a9f8d20b",
   "metadata": {},
   "outputs": [
    {
     "data": {
      "text/plain": [
       "Režie\n",
       "Ladislav Rychman (7892)     127.909091\n",
       "Tomáš Vorel (106)           121.916667\n",
       "Václav Matějka (29527)      119.214286\n",
       "Oldřich Lipský (7883)       118.095238\n",
       "Jan Svěrák (476)            111.200000\n",
       "Karel Janák (16647)         111.125000\n",
       "K. M. Walló (51350)         109.583333\n",
       "Zdeněk Podskalský (4749)    107.666667\n",
       "Juraj Herz (7875)           106.411765\n",
       "Otakar Vávra (9507)         103.282609\n",
       "Name: Počet lidí, dtype: float64"
      ]
     },
     "execution_count": 24,
     "metadata": {},
     "output_type": "execute_result"
    }
   ],
   "source": [
    "rezie[(rezie[\"Odrežírováno\"] >= 10) & (rezie[\"Délka\"] == \"dlouhometrážní\")].groupby(\"Režie\")[\"Počet lidí\"].mean().nlargest(10)"
   ]
  },
  {
   "cell_type": "code",
   "execution_count": 25,
   "id": "a4d488db",
   "metadata": {},
   "outputs": [
    {
     "data": {
      "text/plain": [
       "Režie\n",
       "Tomáš Vorel (106)          119.5\n",
       "Jan Svěrák (476)           118.0\n",
       "Karel Janák (16647)        117.5\n",
       "Václav Matějka (29527)     117.0\n",
       "Oldřich Lipský (7883)      111.0\n",
       "K. M. Walló (51350)        109.5\n",
       "Ladislav Rychman (7892)    103.0\n",
       "Jaroslav Soukup (1171)     100.0\n",
       "Juraj Herz (7875)           99.0\n",
       "Zdeněk Troška (3874)        99.0\n",
       "Name: Počet lidí, dtype: float64"
      ]
     },
     "execution_count": 25,
     "metadata": {},
     "output_type": "execute_result"
    }
   ],
   "source": [
    "rezie[(rezie[\"Odrežírováno\"] >= 10) & (rezie[\"Délka\"] == \"dlouhometrážní\")].groupby(\"Režie\")[\"Počet lidí\"].median().nlargest(10)"
   ]
  },
  {
   "cell_type": "code",
   "execution_count": 26,
   "id": "d644fc2c",
   "metadata": {},
   "outputs": [
    {
     "data": {
      "text/plain": [
       "Režie\n",
       "Otakar Vávra (9507)        1993\n",
       "Karel Kachyňa (3526)       1288\n",
       "Oldřich Lipský (7883)      1114\n",
       "Karel Steklý (35894)       1079\n",
       "Zdeněk Troška (3874)        993\n",
       "Martin Frič (20324)         969\n",
       "Juraj Herz (7875)           958\n",
       "Dušan Klein (2568)          942\n",
       "Václav Vorlíček (1044)      928\n",
       "Ladislav Rychman (7892)     913\n",
       "Name: Hrají, dtype: int64"
      ]
     },
     "execution_count": 26,
     "metadata": {},
     "output_type": "execute_result"
    }
   ],
   "source": [
    "rezie.explode(\"Hrají\").groupby(\"Režie\")[\"Hrají\"].nunique().nlargest(10)"
   ]
  },
  {
   "cell_type": "code",
   "execution_count": 27,
   "id": "160913a0",
   "metadata": {},
   "outputs": [
    {
     "data": {
      "text/plain": [
       "Režie\n",
       "Otakar Vávra (9507)         329\n",
       "Martin Frič (20324)         286\n",
       "Karel Steklý (35894)        285\n",
       "Karel Kachyňa (3526)        236\n",
       "Oldřich Lipský (7883)       234\n",
       "Ivo Novák (7889)            229\n",
       "Josef Mach (7885)           229\n",
       "Vladimír Čech (7871)        229\n",
       "Václav Vorlíček (1044)      228\n",
       "Zdeněk Podskalský (4749)    218\n",
       "Name: Hrají, dtype: int64"
      ]
     },
     "execution_count": 27,
     "metadata": {},
     "output_type": "execute_result"
    }
   ],
   "source": [
    "nejobsazovanejsi = df.explode(\"Hrají\").groupby(\"Hrají\")[\"Film\"].nunique().nlargest(500).index.to_list()\n",
    "df_nejobsazovanejsi = df.explode(\"Hrají\")\n",
    "df_nejobsazovanejsi = df_nejobsazovanejsi[df_nejobsazovanejsi[\"Hrají\"].isin(nejobsazovanejsi)]\n",
    "df_nejobsazovanejsi.explode(\"Režie\").groupby(\"Režie\")[\"Hrají\"].nunique().nlargest(10)"
   ]
  },
  {
   "cell_type": "code",
   "execution_count": 28,
   "id": "654dfffc",
   "metadata": {},
   "outputs": [
    {
     "data": {
      "text/plain": [
       "Režie\n",
       "Martin Frič (20324)           26\n",
       "Otakar Vávra (9507)           25\n",
       "Věra Chytilová (1555)         23\n",
       "Evald Schorm (7895)           22\n",
       "Karel Kachyňa (3526)          19\n",
       "F. A. Brabec (5610)           18\n",
       "Jaromil Jireš (5317)          16\n",
       "Svatopluk Innemann (33860)    16\n",
       "Václav Vorlíček (1044)        16\n",
       "neuvedeno                     16\n",
       "Name: Žánr, dtype: int64"
      ]
     },
     "execution_count": 28,
     "metadata": {},
     "output_type": "execute_result"
    }
   ],
   "source": [
    "df.explode(\"Režie\").explode(\"Žánr\").groupby(\"Režie\")[\"Žánr\"].nunique().nlargest(10)"
   ]
  },
  {
   "cell_type": "code",
   "execution_count": 29,
   "id": "adc2e1b0",
   "metadata": {},
   "outputs": [
    {
     "data": {
      "text/plain": [
       "Režie\n",
       "Martin Frič (20324)           82\n",
       "Tomáš Vorel (106)             57\n",
       "Miroslav Cikán (31969)        42\n",
       "Václav Binovec (37467)        42\n",
       "Vladimír Čech (7871)          40\n",
       "Svatopluk Innemann (33860)    36\n",
       "Karel Lamač (37847)           31\n",
       "Karel Kachyňa (3526)          30\n",
       "Oldřich Lipský (7883)         29\n",
       "Otakar Vávra (9507)           28\n",
       "Name: Scénář, dtype: int64"
      ]
     },
     "execution_count": 29,
     "metadata": {},
     "output_type": "execute_result"
    }
   ],
   "source": [
    "rezie.explode(\"Scénář\").groupby(\"Režie\")[\"Scénář\"].nunique().nlargest(10)"
   ]
  },
  {
   "cell_type": "code",
   "execution_count": 30,
   "id": "08319d18",
   "metadata": {},
   "outputs": [
    {
     "data": {
      "text/plain": [
       "Režie\n",
       "Otakar Vávra (9507)         79\n",
       "J. A. Holman (37290)        62\n",
       "Michael Kocáb (9669)        38\n",
       "David Sís (10869)           37\n",
       "Martin Frič (20324)         32\n",
       "Helena Třeštíková (709)     30\n",
       "Miroslav Janek (536)        30\n",
       "Vladimír Škultéty (7223)    30\n",
       "Václav Kubásek (37286)      28\n",
       "Pavel Abrahám (19039)       27\n",
       "Name: Kamera, dtype: int64"
      ]
     },
     "execution_count": 30,
     "metadata": {},
     "output_type": "execute_result"
    }
   ],
   "source": [
    "rezie.explode(\"Kamera\").groupby(\"Režie\")[\"Kamera\"].nunique().nlargest(10)"
   ]
  },
  {
   "cell_type": "code",
   "execution_count": 31,
   "id": "abee694c",
   "metadata": {},
   "outputs": [
    {
     "data": {
      "text/plain": [
       "[]"
      ]
     },
     "execution_count": 31,
     "metadata": {},
     "output_type": "execute_result"
    }
   ],
   "source": [
    "rezie[rezie[\"Režie\"] == \"J. A. Holman\"][\"Kamera\"].to_list()"
   ]
  },
  {
   "cell_type": "code",
   "execution_count": 32,
   "id": "fd5dda36",
   "metadata": {},
   "outputs": [
    {
     "data": {
      "text/html": [
       "<div>\n",
       "<style scoped>\n",
       "    .dataframe tbody tr th:only-of-type {\n",
       "        vertical-align: middle;\n",
       "    }\n",
       "\n",
       "    .dataframe tbody tr th {\n",
       "        vertical-align: top;\n",
       "    }\n",
       "\n",
       "    .dataframe thead th {\n",
       "        text-align: right;\n",
       "    }\n",
       "</style>\n",
       "<table border=\"1\" class=\"dataframe\">\n",
       "  <thead>\n",
       "    <tr style=\"text-align: right;\">\n",
       "      <th></th>\n",
       "      <th>Film</th>\n",
       "      <th>Země původu</th>\n",
       "      <th>Copyright</th>\n",
       "      <th>Rok výroby</th>\n",
       "      <th>Premiéra</th>\n",
       "      <th>Minutáž</th>\n",
       "      <th>Režie</th>\n",
       "      <th>Kategorie</th>\n",
       "      <th>Žánr</th>\n",
       "      <th>Typologie</th>\n",
       "      <th>Originální název</th>\n",
       "      <th>Český název</th>\n",
       "      <th>Anglický název</th>\n",
       "      <th>Souběžný název</th>\n",
       "      <th>Pracovní název</th>\n",
       "      <th>Hrají</th>\n",
       "      <th>Postavy</th>\n",
       "      <th>Pomocná režie</th>\n",
       "      <th>Asistent režie</th>\n",
       "      <th>Původní filmový námět</th>\n",
       "      <th>Scénář</th>\n",
       "      <th>Dramaturg</th>\n",
       "      <th>Kamera</th>\n",
       "      <th>Asistent kamery</th>\n",
       "      <th>Architekt</th>\n",
       "      <th>Návrhy kostýmů</th>\n",
       "      <th>Masky</th>\n",
       "      <th>Střih</th>\n",
       "      <th>Zvuk</th>\n",
       "      <th>Producent</th>\n",
       "      <th>Vedoucí výroby</th>\n",
       "      <th>Zástupce vedoucího výroby</th>\n",
       "      <th>Odborný poradce</th>\n",
       "      <th>Hudba</th>\n",
       "      <th>Choreografie</th>\n",
       "      <th>Lokace</th>\n",
       "      <th>Distribuční slogan</th>\n",
       "      <th>Výrobce</th>\n",
       "      <th>S podporou</th>\n",
       "      <th>Nositelé copyrightu</th>\n",
       "      <th>Distribuce</th>\n",
       "      <th>Délka</th>\n",
       "      <th>Distribuční nosič</th>\n",
       "      <th>Poměr stran</th>\n",
       "      <th>Barva</th>\n",
       "      <th>Zvukový</th>\n",
       "      <th>Zvukový systém/formát</th>\n",
       "      <th>Verze</th>\n",
       "      <th>Mluveno</th>\n",
       "      <th>Podtitulky</th>\n",
       "      <th>Úvodní/závěrečné titulky</th>\n",
       "      <th>Anotace</th>\n",
       "      <th>Obsah</th>\n",
       "      <th>Technický scénář</th>\n",
       "      <th>Výtvarník</th>\n",
       "      <th>Animace</th>\n",
       "      <th>Triky</th>\n",
       "      <th>Postprodukce</th>\n",
       "      <th>Návrhy titulků</th>\n",
       "      <th>Pedagogické vedení</th>\n",
       "      <th>Použitá hudba</th>\n",
       "      <th>Studentský film</th>\n",
       "      <th>Původní metráž</th>\n",
       "      <th>Mezititulky</th>\n",
       "      <th>Ocenění</th>\n",
       "      <th>Poznámka</th>\n",
       "      <th>Mluví</th>\n",
       "      <th>Vizuální efekty</th>\n",
       "      <th>Vedoucí produkce</th>\n",
       "      <th>Předloha</th>\n",
       "      <th>Kaskadéři</th>\n",
       "      <th>Text písně</th>\n",
       "      <th>Zpívá</th>\n",
       "      <th>pásmo</th>\n",
       "      <th>Části</th>\n",
       "      <th>Produkce</th>\n",
       "      <th>Výtvarná spolupráce</th>\n",
       "      <th>Nahrál</th>\n",
       "      <th>Partner</th>\n",
       "      <th>Animační technika</th>\n",
       "      <th>Výprava</th>\n",
       "      <th>Spolupráce</th>\n",
       "      <th>Komentář</th>\n",
       "      <th>Autor komentáře</th>\n",
       "      <th>Druhá kamera</th>\n",
       "      <th>Zvláštní efekty</th>\n",
       "      <th>Koproducent</th>\n",
       "      <th>Výběr hudby</th>\n",
       "      <th>Hudební dramaturgie</th>\n",
       "      <th>Písně</th>\n",
       "      <th>Hudba, text a zpěv písně</th>\n",
       "      <th>Produkční data</th>\n",
       "      <th>Koordinátor kaskadérů</th>\n",
       "      <th>Výkonná produkce</th>\n",
       "      <th>Zástupce vedoucího produkce</th>\n",
       "      <th>Hudební režie</th>\n",
       "      <th>Účinkují</th>\n",
       "      <th>Dirigent</th>\n",
       "      <th>Ateliéry</th>\n",
       "      <th>Režie české verze</th>\n",
       "      <th>Výrobce české verze</th>\n",
       "      <th>Tančí</th>\n",
       "      <th>České podtitulky</th>\n",
       "      <th>Výrobce českých podtitulků</th>\n",
       "      <th>Asistent vedoucího produkce</th>\n",
       "      <th>Natáčecí formát</th>\n",
       "      <th>Dialogy české verze</th>\n",
       "      <th>Autor projektu</th>\n",
       "      <th>Stav filmu</th>\n",
       "      <th>Souběžný anglický název</th>\n",
       "      <th>Assistent architekta</th>\n",
       "      <th>Asistent zvuku</th>\n",
       "      <th>Podnázev</th>\n",
       "      <th>Asistent vedoucího výroby</th>\n",
       "      <th>Skript</th>\n",
       "      <th>Kostýmy</th>\n",
       "      <th>Asistent střihu</th>\n",
       "      <th>povídkový film</th>\n",
       "      <th>Povídky</th>\n",
       "      <th>Hudba k písni</th>\n",
       "      <th>Prodej práv</th>\n",
       "      <th>Podnázev anglický</th>\n",
       "      <th>Výtvarník pozadí</th>\n",
       "      <th>Výrobní skupina</th>\n",
       "      <th>Zákazník</th>\n",
       "      <th>Vývozní společnost</th>\n",
       "      <th>Umělecké vedení</th>\n",
       "      <th>Zpěv role</th>\n",
       "      <th>Překlad české verze</th>\n",
       "      <th>Rychlost</th>\n",
       "      <th>Přístupnost</th>\n",
       "      <th>Začátek výroby</th>\n",
       "      <th>Konec výroby</th>\n",
       "      <th>Lidé</th>\n",
       "      <th>Počet lidí</th>\n",
       "      <th>Jméno</th>\n",
       "      <th>Id</th>\n",
       "      <th>Medailon</th>\n",
       "      <th>Osoba</th>\n",
       "      <th>Alternativní jména</th>\n",
       "      <th>Životopis</th>\n",
       "      <th>Datum narození</th>\n",
       "      <th>Místo narození</th>\n",
       "      <th>Datum úmrtí</th>\n",
       "      <th>Místo úmrtí</th>\n",
       "      <th>Město narození</th>\n",
       "      <th>Stát narození</th>\n",
       "      <th>Město úmrtí</th>\n",
       "      <th>Stát úmrtí</th>\n",
       "      <th>Rok narození</th>\n",
       "      <th>Rok úmrtí</th>\n",
       "      <th>Věk</th>\n",
       "      <th>Odrežírováno</th>\n",
       "    </tr>\n",
       "  </thead>\n",
       "  <tbody>\n",
       "  </tbody>\n",
       "</table>\n",
       "</div>"
      ],
      "text/plain": [
       "Empty DataFrame\n",
       "Columns: [Film, Země původu, Copyright, Rok výroby, Premiéra, Minutáž, Režie, Kategorie, Žánr, Typologie, Originální název, Český název, Anglický název, Souběžný název, Pracovní název, Hrají, Postavy, Pomocná režie, Asistent režie, Původní filmový námět, Scénář, Dramaturg, Kamera, Asistent kamery, Architekt, Návrhy kostýmů, Masky, Střih, Zvuk, Producent, Vedoucí výroby, Zástupce vedoucího výroby, Odborný poradce, Hudba, Choreografie, Lokace, Distribuční slogan, Výrobce, S podporou, Nositelé copyrightu, Distribuce, Délka, Distribuční nosič, Poměr stran, Barva, Zvukový, Zvukový systém/formát, Verze, Mluveno, Podtitulky, Úvodní/závěrečné titulky, Anotace, Obsah, Technický scénář, Výtvarník, Animace, Triky, Postprodukce, Návrhy titulků, Pedagogické vedení, Použitá hudba, Studentský film, Původní metráž, Mezititulky, Ocenění, Poznámka, Mluví, Vizuální efekty, Vedoucí produkce, Předloha, Kaskadéři, Text písně, Zpívá, pásmo, Části, Produkce, Výtvarná spolupráce, Nahrál, Partner, Animační technika, Výprava, Spolupráce, Komentář, Autor komentáře, Druhá kamera, Zvláštní efekty, Koproducent, Výběr hudby, Hudební dramaturgie, Písně, Hudba, text a zpěv písně, Produkční data, Koordinátor kaskadérů, Výkonná produkce, Zástupce vedoucího produkce, Hudební režie, Účinkují, Dirigent, Ateliéry, Režie české verze, ...]\n",
       "Index: []"
      ]
     },
     "execution_count": 32,
     "metadata": {},
     "output_type": "execute_result"
    }
   ],
   "source": [
    "rezie[rezie[\"Režie\"].str.contains(\"/ž/\")]"
   ]
  },
  {
   "cell_type": "code",
   "execution_count": 33,
   "id": "255a4774",
   "metadata": {},
   "outputs": [
    {
     "data": {
      "text/html": [
       "<div>\n",
       "<style scoped>\n",
       "    .dataframe tbody tr th:only-of-type {\n",
       "        vertical-align: middle;\n",
       "    }\n",
       "\n",
       "    .dataframe tbody tr th {\n",
       "        vertical-align: top;\n",
       "    }\n",
       "\n",
       "    .dataframe thead th {\n",
       "        text-align: right;\n",
       "    }\n",
       "</style>\n",
       "<table border=\"1\" class=\"dataframe\">\n",
       "  <thead>\n",
       "    <tr style=\"text-align: right;\">\n",
       "      <th></th>\n",
       "      <th>Film</th>\n",
       "      <th>Země původu</th>\n",
       "      <th>Copyright</th>\n",
       "      <th>Rok výroby</th>\n",
       "      <th>Premiéra</th>\n",
       "      <th>Minutáž</th>\n",
       "      <th>Režie</th>\n",
       "      <th>Kategorie</th>\n",
       "      <th>Žánr</th>\n",
       "      <th>Typologie</th>\n",
       "      <th>Originální název</th>\n",
       "      <th>Český název</th>\n",
       "      <th>Anglický název</th>\n",
       "      <th>Souběžný název</th>\n",
       "      <th>Pracovní název</th>\n",
       "      <th>Hrají</th>\n",
       "      <th>Postavy</th>\n",
       "      <th>Pomocná režie</th>\n",
       "      <th>Asistent režie</th>\n",
       "      <th>Původní filmový námět</th>\n",
       "      <th>Scénář</th>\n",
       "      <th>Dramaturg</th>\n",
       "      <th>Kamera</th>\n",
       "      <th>Asistent kamery</th>\n",
       "      <th>Architekt</th>\n",
       "      <th>Návrhy kostýmů</th>\n",
       "      <th>Masky</th>\n",
       "      <th>Střih</th>\n",
       "      <th>Zvuk</th>\n",
       "      <th>Producent</th>\n",
       "      <th>Vedoucí výroby</th>\n",
       "      <th>Zástupce vedoucího výroby</th>\n",
       "      <th>Odborný poradce</th>\n",
       "      <th>Hudba</th>\n",
       "      <th>Choreografie</th>\n",
       "      <th>Lokace</th>\n",
       "      <th>Distribuční slogan</th>\n",
       "      <th>Výrobce</th>\n",
       "      <th>S podporou</th>\n",
       "      <th>Nositelé copyrightu</th>\n",
       "      <th>Distribuce</th>\n",
       "      <th>Délka</th>\n",
       "      <th>Distribuční nosič</th>\n",
       "      <th>Poměr stran</th>\n",
       "      <th>Barva</th>\n",
       "      <th>Zvukový</th>\n",
       "      <th>Zvukový systém/formát</th>\n",
       "      <th>Verze</th>\n",
       "      <th>Mluveno</th>\n",
       "      <th>Podtitulky</th>\n",
       "      <th>Úvodní/závěrečné titulky</th>\n",
       "      <th>Anotace</th>\n",
       "      <th>Obsah</th>\n",
       "      <th>Technický scénář</th>\n",
       "      <th>Výtvarník</th>\n",
       "      <th>Animace</th>\n",
       "      <th>Triky</th>\n",
       "      <th>Postprodukce</th>\n",
       "      <th>Návrhy titulků</th>\n",
       "      <th>Pedagogické vedení</th>\n",
       "      <th>Použitá hudba</th>\n",
       "      <th>Studentský film</th>\n",
       "      <th>Původní metráž</th>\n",
       "      <th>Mezititulky</th>\n",
       "      <th>Ocenění</th>\n",
       "      <th>Poznámka</th>\n",
       "      <th>Mluví</th>\n",
       "      <th>Vizuální efekty</th>\n",
       "      <th>Vedoucí produkce</th>\n",
       "      <th>Předloha</th>\n",
       "      <th>Kaskadéři</th>\n",
       "      <th>Text písně</th>\n",
       "      <th>Zpívá</th>\n",
       "      <th>pásmo</th>\n",
       "      <th>Části</th>\n",
       "      <th>Produkce</th>\n",
       "      <th>Výtvarná spolupráce</th>\n",
       "      <th>Nahrál</th>\n",
       "      <th>Partner</th>\n",
       "      <th>Animační technika</th>\n",
       "      <th>Výprava</th>\n",
       "      <th>Spolupráce</th>\n",
       "      <th>Komentář</th>\n",
       "      <th>Autor komentáře</th>\n",
       "      <th>Druhá kamera</th>\n",
       "      <th>Zvláštní efekty</th>\n",
       "      <th>Koproducent</th>\n",
       "      <th>Výběr hudby</th>\n",
       "      <th>Hudební dramaturgie</th>\n",
       "      <th>Písně</th>\n",
       "      <th>Hudba, text a zpěv písně</th>\n",
       "      <th>Produkční data</th>\n",
       "      <th>Koordinátor kaskadérů</th>\n",
       "      <th>Výkonná produkce</th>\n",
       "      <th>Zástupce vedoucího produkce</th>\n",
       "      <th>Hudební režie</th>\n",
       "      <th>Účinkují</th>\n",
       "      <th>Dirigent</th>\n",
       "      <th>Ateliéry</th>\n",
       "      <th>Režie české verze</th>\n",
       "      <th>Výrobce české verze</th>\n",
       "      <th>Tančí</th>\n",
       "      <th>České podtitulky</th>\n",
       "      <th>Výrobce českých podtitulků</th>\n",
       "      <th>Asistent vedoucího produkce</th>\n",
       "      <th>Natáčecí formát</th>\n",
       "      <th>Dialogy české verze</th>\n",
       "      <th>Autor projektu</th>\n",
       "      <th>Stav filmu</th>\n",
       "      <th>Souběžný anglický název</th>\n",
       "      <th>Assistent architekta</th>\n",
       "      <th>Asistent zvuku</th>\n",
       "      <th>Podnázev</th>\n",
       "      <th>Asistent vedoucího výroby</th>\n",
       "      <th>Skript</th>\n",
       "      <th>Kostýmy</th>\n",
       "      <th>Asistent střihu</th>\n",
       "      <th>povídkový film</th>\n",
       "      <th>Povídky</th>\n",
       "      <th>Hudba k písni</th>\n",
       "      <th>Prodej práv</th>\n",
       "      <th>Podnázev anglický</th>\n",
       "      <th>Výtvarník pozadí</th>\n",
       "      <th>Výrobní skupina</th>\n",
       "      <th>Zákazník</th>\n",
       "      <th>Vývozní společnost</th>\n",
       "      <th>Umělecké vedení</th>\n",
       "      <th>Zpěv role</th>\n",
       "      <th>Překlad české verze</th>\n",
       "      <th>Rychlost</th>\n",
       "      <th>Přístupnost</th>\n",
       "      <th>Začátek výroby</th>\n",
       "      <th>Konec výroby</th>\n",
       "      <th>Lidé</th>\n",
       "      <th>Počet lidí</th>\n",
       "      <th>Jméno</th>\n",
       "      <th>Id</th>\n",
       "      <th>Medailon</th>\n",
       "      <th>Osoba</th>\n",
       "      <th>Alternativní jména</th>\n",
       "      <th>Životopis</th>\n",
       "      <th>Datum narození</th>\n",
       "      <th>Místo narození</th>\n",
       "      <th>Datum úmrtí</th>\n",
       "      <th>Místo úmrtí</th>\n",
       "      <th>Město narození</th>\n",
       "      <th>Stát narození</th>\n",
       "      <th>Město úmrtí</th>\n",
       "      <th>Stát úmrtí</th>\n",
       "      <th>Rok narození</th>\n",
       "      <th>Rok úmrtí</th>\n",
       "      <th>Věk</th>\n",
       "      <th>Odrežírováno</th>\n",
       "    </tr>\n",
       "  </thead>\n",
       "  <tbody>\n",
       "  </tbody>\n",
       "</table>\n",
       "</div>"
      ],
      "text/plain": [
       "Empty DataFrame\n",
       "Columns: [Film, Země původu, Copyright, Rok výroby, Premiéra, Minutáž, Režie, Kategorie, Žánr, Typologie, Originální název, Český název, Anglický název, Souběžný název, Pracovní název, Hrají, Postavy, Pomocná režie, Asistent režie, Původní filmový námět, Scénář, Dramaturg, Kamera, Asistent kamery, Architekt, Návrhy kostýmů, Masky, Střih, Zvuk, Producent, Vedoucí výroby, Zástupce vedoucího výroby, Odborný poradce, Hudba, Choreografie, Lokace, Distribuční slogan, Výrobce, S podporou, Nositelé copyrightu, Distribuce, Délka, Distribuční nosič, Poměr stran, Barva, Zvukový, Zvukový systém/formát, Verze, Mluveno, Podtitulky, Úvodní/závěrečné titulky, Anotace, Obsah, Technický scénář, Výtvarník, Animace, Triky, Postprodukce, Návrhy titulků, Pedagogické vedení, Použitá hudba, Studentský film, Původní metráž, Mezititulky, Ocenění, Poznámka, Mluví, Vizuální efekty, Vedoucí produkce, Předloha, Kaskadéři, Text písně, Zpívá, pásmo, Části, Produkce, Výtvarná spolupráce, Nahrál, Partner, Animační technika, Výprava, Spolupráce, Komentář, Autor komentáře, Druhá kamera, Zvláštní efekty, Koproducent, Výběr hudby, Hudební dramaturgie, Písně, Hudba, text a zpěv písně, Produkční data, Koordinátor kaskadérů, Výkonná produkce, Zástupce vedoucího produkce, Hudební režie, Účinkují, Dirigent, Ateliéry, Režie české verze, ...]\n",
       "Index: []"
      ]
     },
     "execution_count": 33,
     "metadata": {},
     "output_type": "execute_result"
    }
   ],
   "source": [
    "rezie[rezie[\"Režie\"] == \"Otakar Vávra\"]"
   ]
  },
  {
   "cell_type": "code",
   "execution_count": 34,
   "id": "5971b3e7",
   "metadata": {},
   "outputs": [
    {
     "data": {
      "text/plain": [
       "Režie\n",
       "Jan Hřebejk (4831)       7\n",
       "Petr Nikolaev (540)      6\n",
       "Viktor Polesný (7797)    5\n",
       "Dušan Klein (2568)       3\n",
       "Filip Renč (558)         3\n",
       "Jiří Vejdělek (24168)    3\n",
       "Tomáš Vorel (106)        3\n",
       "F. A. Brabec (5610)      2\n",
       "Hynek Bočan (2947)       2\n",
       "Jan Svěrák (476)         2\n",
       "Name: Dirigent, dtype: int64"
      ]
     },
     "execution_count": 34,
     "metadata": {},
     "output_type": "execute_result"
    }
   ],
   "source": [
    "df.explode(\"Režie\").explode(\"Dirigent\").groupby(\"Režie\")[\"Dirigent\"].nunique().nlargest(10)"
   ]
  },
  {
   "cell_type": "code",
   "execution_count": 35,
   "id": "6dff13c7",
   "metadata": {},
   "outputs": [
    {
     "data": {
      "text/plain": [
       "Režie\n",
       "K. M. Walló (51350)          19\n",
       "Břetislav Pojar (3113)       17\n",
       "Karel Vachek (565)           17\n",
       "David Čálek (495)            16\n",
       "Tomáš Vorel (106)            13\n",
       "Věra Chytilová (1555)        13\n",
       "Karel Kachyňa (3526)         12\n",
       "Milan Cieslar (3593)         12\n",
       "Vlasta Pospíšilová (4386)    12\n",
       "Radim Špaček (496)           11\n",
       "Name: Střih, dtype: int64"
      ]
     },
     "execution_count": 35,
     "metadata": {},
     "output_type": "execute_result"
    }
   ],
   "source": [
    "df.explode(\"Režie\").explode(\"Střih\").groupby(\"Režie\")[\"Střih\"].nunique().nlargest(10)"
   ]
  },
  {
   "cell_type": "code",
   "execution_count": 36,
   "id": "847e6bda",
   "metadata": {},
   "outputs": [
    {
     "data": {
      "text/plain": [
       "Režie\n",
       "K. M. Walló (51350)          25\n",
       "Otakar Vávra (9507)          23\n",
       "Agnieszka Holland (12106)    21\n",
       "Karel Kachyňa (3526)         20\n",
       "Pavel Abrahám (19039)        20\n",
       "Jindřich Polák (7891)        18\n",
       "Jaromil Jireš (5317)         17\n",
       "Jiří Hanibal (7873)          17\n",
       "Ivo Novák (7889)             15\n",
       "Václav Matějka (29527)       15\n",
       "Name: Pomocná režie, dtype: int64"
      ]
     },
     "execution_count": 36,
     "metadata": {},
     "output_type": "execute_result"
    }
   ],
   "source": [
    "df.explode(\"Režie\").explode(\"Pomocná režie\").groupby(\"Režie\")[\"Pomocná režie\"].nunique().nlargest(10)"
   ]
  },
  {
   "cell_type": "code",
   "execution_count": 37,
   "id": "5687d1e8",
   "metadata": {},
   "outputs": [
    {
     "data": {
      "text/plain": [
       "Kamera\n",
       "Vladimír Smutný (1772)    1733\n",
       "Jaromír Šofr (4285)       1671\n",
       "Josef Illík (12730)       1637\n",
       "Jan Čuřík (4946)          1500\n",
       "Jiří Macháně (11743)      1469\n",
       "Ivan Šlapeta (2968)       1419\n",
       "Josef Vaniš (9510)        1419\n",
       "Jiří Macák (1725)         1389\n",
       "Jan Stallich (126242)     1382\n",
       "Viktor Růžička (10079)    1252\n",
       "Name: Hrají, dtype: int64"
      ]
     },
     "execution_count": 37,
     "metadata": {},
     "output_type": "execute_result"
    }
   ],
   "source": [
    "df.explode(\"Kamera\").explode(\"Hrají\").groupby(\"Kamera\")[\"Hrají\"].nunique().nlargest(10)"
   ]
  },
  {
   "cell_type": "code",
   "execution_count": 38,
   "id": "975c75f9",
   "metadata": {},
   "outputs": [],
   "source": [
    "kariery_reziseru = pd.Series(df.explode(\"Režie\").groupby(\"Režie\")[\"Copyright\"].max() -df.explode(\"Režie\").groupby(\"Režie\")[\"Copyright\"].min(), name=\"Kariéry režisérů\")"
   ]
  },
  {
   "cell_type": "code",
   "execution_count": 39,
   "id": "a7dc1693",
   "metadata": {
    "scrolled": true
   },
   "outputs": [
    {
     "data": {
      "text/plain": [
       "Režie\n",
       "Břetislav Pojar (3113)        60\n",
       "Otakar Vávra (9507)           59\n",
       "Karel Vachek (565)            59\n",
       "Hermína Týrlová (4754)        58\n",
       "Václav Vorlíček (1044)        57\n",
       "Jan Němec (3041)              56\n",
       "Dušan Klein (2568)            55\n",
       "Jiří Menzel (7887)            52\n",
       "Agnieszka Holland (12106)     51\n",
       "Vojtěch Jasný (4666)          50\n",
       "Karel Kachyňa (3526)          50\n",
       "Jan Švankmajer (406)          50\n",
       "Rajko Grlić (80991)           47\n",
       "Věra Chytilová (1555)         47\n",
       "Věra Plívová-Šimková (186)    46\n",
       "Name: Kariéry režisérů, dtype: int64"
      ]
     },
     "execution_count": 39,
     "metadata": {},
     "output_type": "execute_result"
    }
   ],
   "source": [
    "kariery_reziseru.sort_values(ascending=False).nlargest(15)"
   ]
  },
  {
   "cell_type": "code",
   "execution_count": 40,
   "id": "1cbe2af9",
   "metadata": {},
   "outputs": [
    {
     "data": {
      "text/plain": [
       "<AxesSubplot:ylabel='Frequency'>"
      ]
     },
     "execution_count": 40,
     "metadata": {},
     "output_type": "execute_result"
    },
    {
     "data": {
      "image/png": "[encoded data removed]",
      "text/plain": [
       "<Figure size 432x288 with 1 Axes>"
      ]
     },
     "metadata": {
      "needs_background": "light"
     },
     "output_type": "display_data"
    }
   ],
   "source": [
    "kariery_reziseru.plot.hist(bins=50)"
   ]
  },
  {
   "cell_type": "code",
   "execution_count": 41,
   "id": "e42e3608",
   "metadata": {},
   "outputs": [
    {
     "data": {
      "text/plain": [
       "Režie\n",
       "Svatopluk Innemann (33860)    486\n",
       "Martin Frič (20324)           473\n",
       "Karel Lamač (37847)           379\n",
       "Vladimír Slavínský (31967)    367\n",
       "Václav Binovec (37467)        351\n",
       "Name: Hrají, dtype: int64"
      ]
     },
     "execution_count": 41,
     "metadata": {},
     "output_type": "execute_result"
    }
   ],
   "source": [
    "df[(df[\"Copyright\"] > 1918) & (df[\"Copyright\"] < 1939)].explode(\"Režie\").explode(\"Hrají\").groupby(\"Režie\")[\"Hrají\"].nunique().nlargest(5)"
   ]
  },
  {
   "cell_type": "code",
   "execution_count": 42,
   "id": "e982be49",
   "metadata": {},
   "outputs": [
    {
     "data": {
      "text/plain": [
       "Režie\n",
       "neuvedeno                     129\n",
       "Svatopluk Innemann (33860)     46\n",
       "Karel Dodal (127380)           42\n",
       "Karel Lamač (37847)            41\n",
       "Martin Frič (20324)            41\n",
       "Name: Film, dtype: int64"
      ]
     },
     "execution_count": 42,
     "metadata": {},
     "output_type": "execute_result"
    }
   ],
   "source": [
    "df[(df[\"Copyright\"] > 1918) & (df[\"Copyright\"] < 1939)].explode(\"Režie\").groupby(\"Režie\")[\"Film\"].nunique().nlargest(5)"
   ]
  },
  {
   "cell_type": "code",
   "execution_count": 43,
   "id": "ddcb737e",
   "metadata": {},
   "outputs": [
    {
     "data": {
      "text/plain": [
       "Režie\n",
       "Miroslav Cikán (31969)        242\n",
       "Martin Frič (20324)           240\n",
       "Vladimír Slavínský (31967)    225\n",
       "Otakar Vávra (9507)           189\n",
       "František Čáp (13530)         183\n",
       "Name: Hrají, dtype: int64"
      ]
     },
     "execution_count": 43,
     "metadata": {},
     "output_type": "execute_result"
    }
   ],
   "source": [
    "df[(df[\"Copyright\"] >= 1939) & (df[\"Copyright\"] <= 1944)].explode(\"Režie\").explode(\"Hrají\").groupby(\"Režie\")[\"Hrají\"].nunique().nlargest(5)"
   ]
  },
  {
   "cell_type": "code",
   "execution_count": 44,
   "id": "f10dd6bf",
   "metadata": {},
   "outputs": [
    {
     "data": {
      "text/plain": [
       "Režie\n",
       "Martin Frič (20324)           19\n",
       "Miroslav Cikán (31969)        17\n",
       "Vladimír Slavínský (31967)    13\n",
       "Otakar Vávra (9507)           12\n",
       "František Čáp (13530)         10\n",
       "Name: Film, dtype: int64"
      ]
     },
     "execution_count": 44,
     "metadata": {},
     "output_type": "execute_result"
    }
   ],
   "source": [
    "df[(df[\"Copyright\"] >= 1939) & (df[\"Copyright\"] <= 1944)].explode(\"Režie\").groupby(\"Režie\")[\"Film\"].nunique().nlargest(5)"
   ]
  },
  {
   "cell_type": "code",
   "execution_count": 45,
   "id": "7f5bab7b",
   "metadata": {},
   "outputs": [
    {
     "data": {
      "text/plain": [
       "Režie\n",
       "Otakar Vávra (9507)        1843\n",
       "Karel Kachyňa (3526)       1173\n",
       "Oldřich Lipský (7883)      1114\n",
       "Karel Steklý (35894)       1074\n",
       "Ladislav Rychman (7892)     913\n",
       "Name: Hrají, dtype: int64"
      ]
     },
     "execution_count": 45,
     "metadata": {},
     "output_type": "execute_result"
    }
   ],
   "source": [
    "df[(df[\"Copyright\"] >= 1945) & (df[\"Copyright\"] <= 1989)].explode(\"Režie\").explode(\"Hrají\").groupby(\"Režie\")[\"Hrají\"].nunique().nlargest(5)"
   ]
  },
  {
   "cell_type": "code",
   "execution_count": 46,
   "id": "dc83388a",
   "metadata": {},
   "outputs": [
    {
     "data": {
      "text/plain": [
       "Režie\n",
       "Karel Kachyňa (3526)      42\n",
       "Hermína Týrlová (4754)    35\n",
       "Otakar Vávra (9507)       34\n",
       "Jindřich Polák (7891)     30\n",
       "Martin Frič (20324)       28\n",
       "Name: Film, dtype: int64"
      ]
     },
     "execution_count": 46,
     "metadata": {},
     "output_type": "execute_result"
    }
   ],
   "source": [
    "df[(df[\"Copyright\"] >= 1945) & (df[\"Copyright\"] <= 1989)].explode(\"Režie\").groupby(\"Režie\")[\"Film\"].nunique().nlargest(5)"
   ]
  },
  {
   "cell_type": "code",
   "execution_count": 47,
   "id": "5067c0be",
   "metadata": {},
   "outputs": [
    {
     "data": {
      "text/plain": [
       "Režie\n",
       "Martin Frič (20324)           124.950000\n",
       "Karel Lamač (37847)           108.433333\n",
       "Václav Kubásek (37286)        104.600000\n",
       "Vladimír Slavínský (31967)     79.066667\n",
       "Otakar Vávra (9507)            74.533333\n",
       "Miroslav Cikán (31969)         69.433333\n",
       "Věra Plívová-Šimková (186)     67.350000\n",
       "Karel Kachyňa (3526)           65.950000\n",
       "Elmar Klos (4742)              65.600000\n",
       "Svatopluk Innemann (33860)     62.450000\n",
       "Václav Wasserman (37326)       57.533333\n",
       "Juraj Herz (7875)              55.766667\n",
       "Jiří Krejčík (7882)            52.766667\n",
       "Jiří Menzel (7887)             52.733333\n",
       "Jaroslav Soukup (1171)         51.066667\n",
       "Josef Kokeisl (55986)          48.066667\n",
       "Václav Binovec (37467)         47.066667\n",
       "Zdeněk Troška (3874)           43.383333\n",
       "Karel Steklý (35894)           41.900000\n",
       "Vladimír Čech (7871)           40.233333\n",
       "Name: Minutáž, dtype: float64"
      ]
     },
     "execution_count": 47,
     "metadata": {},
     "output_type": "execute_result"
    }
   ],
   "source": [
    "rezie[rezie[\"Typologie\"] == \"hraný\"].groupby(\"Režie\")[\"Minutáž\"].sum().nlargest(20).apply(lambda x: x/60)"
   ]
  },
  {
   "cell_type": "markdown",
   "id": "d9fe33e5",
   "metadata": {},
   "source": [
    "### Režiséři & éry"
   ]
  },
  {
   "cell_type": "code",
   "execution_count": 48,
   "id": "b18d7225",
   "metadata": {},
   "outputs": [],
   "source": [
    "ery = {\n",
    "    \"R-U\": [1898, 1918],\n",
    "    \"19-38\": [1919, 1938],\n",
    "    \"39-45\": [1939, 1944],\n",
    "    \"45-47\": [1945, 1947],\n",
    "    \"48-68\": [1948, 1968],\n",
    "    \"69-89\": [1969, 1989],\n",
    "    \"90-92\": [1990, 1992],\n",
    "    \"93-23\": [1993, 2023]\n",
    "}"
   ]
  },
  {
   "cell_type": "code",
   "execution_count": 49,
   "id": "26986dfb",
   "metadata": {},
   "outputs": [
    {
     "name": "stdout",
     "output_type": "stream",
     "text": [
      "R-U\n",
      "Režie\n",
      "Jan Kříženecký (127419)    42\n",
      "Max Urban (95056)          12\n",
      "Antonín Pech (99760)       11\n",
      "Name: Film, dtype: int64\n",
      "19-38\n",
      "Režie\n",
      "Svatopluk Innemann (33860)    46\n",
      "Karel Dodal (127380)          42\n",
      "Karel Lamač (37847)           41\n",
      "Name: Film, dtype: int64\n",
      "39-45\n",
      "Režie\n",
      "Martin Frič (20324)           19\n",
      "Miroslav Cikán (31969)        17\n",
      "Vladimír Slavínský (31967)    13\n",
      "Name: Film, dtype: int64\n",
      "45-47\n",
      "Režie\n",
      "Jiří Trnka (28391)       6\n",
      "Otakar Vávra (9507)      6\n",
      "František Čáp (13530)    5\n",
      "Name: Film, dtype: int64\n",
      "48-68\n",
      "Režie\n",
      "Martin Frič (20324)       25\n",
      "Jiří Trnka (28391)        21\n",
      "Hermína Týrlová (4754)    20\n",
      "Name: Film, dtype: int64\n",
      "69-89\n",
      "Režie\n",
      "Karel Kachyňa (3526)     25\n",
      "Jindřich Polák (7891)    23\n",
      "Dušan Klein (2568)       16\n",
      "Name: Film, dtype: int64\n",
      "90-92\n",
      "Režie\n",
      "Věra Chytilová (1555)    3\n",
      "Bohdan Sláma (926)       2\n",
      "Hynek Bočan (2947)       2\n",
      "Name: Film, dtype: int64\n",
      "93-23\n",
      "Režie\n",
      "Jan Hřebejk (4831)         21\n",
      "Zdeněk Troška (3874)       17\n",
      "Helena Třeštíková (709)    12\n",
      "Name: Film, dtype: int64\n"
     ]
    }
   ],
   "source": [
    "for key, val in ery.items():\n",
    "    print(key)\n",
    "    print(rezie[(rezie[\"Copyright\"] >= val[0]) & (rezie[\"Copyright\"] <= val[1])].groupby(\"Režie\")[\"Film\"].nunique().nlargest(3))"
   ]
  },
  {
   "cell_type": "code",
   "execution_count": 50,
   "id": "1d48952e",
   "metadata": {},
   "outputs": [],
   "source": [
    "def v_ere(x):\n",
    "    global ery\n",
    "    for key, val in ery.items():\n",
    "        if x >= val[0]:\n",
    "            if x <= val [1]:\n",
    "                return key"
   ]
  },
  {
   "cell_type": "code",
   "execution_count": 51,
   "id": "f1f97e8f",
   "metadata": {},
   "outputs": [],
   "source": [
    "rezie[\"Éra\"] = rezie[\"Copyright\"].apply(v_ere)"
   ]
  },
  {
   "cell_type": "code",
   "execution_count": 52,
   "id": "efe83dff",
   "metadata": {},
   "outputs": [
    {
     "data": {
      "text/plain": [
       "Režie\n",
       "Elmar Klos (4742)            5\n",
       "Hermína Týrlová (4754)       5\n",
       "Otakar Vávra (9507)          5\n",
       "Bohumil Vošahlík (127436)    4\n",
       "Bořivoj Zeman (8886)         4\n",
       "Name: Éra, dtype: int64"
      ]
     },
     "execution_count": 52,
     "metadata": {},
     "output_type": "execute_result"
    }
   ],
   "source": [
    "rezie.groupby(\"Režie\")[\"Éra\"].nunique().nlargest()"
   ]
  },
  {
   "cell_type": "markdown",
   "id": "fb1ec761",
   "metadata": {},
   "source": [
    "## Náměty"
   ]
  },
  {
   "cell_type": "code",
   "execution_count": 53,
   "id": "ec2080bb",
   "metadata": {},
   "outputs": [],
   "source": [
    "namety = df.explode(\"Původní filmový námět\")"
   ]
  },
  {
   "cell_type": "code",
   "execution_count": 54,
   "id": "31e39407",
   "metadata": {},
   "outputs": [
    {
     "data": {
      "text/plain": [
       "Původní filmový námět\n",
       "Ota Hofman (126062)            47\n",
       "Jan Procházka (34081)          28\n",
       "Hermína Týrlová (4754)         23\n",
       "František Vlček st. (87095)    22\n",
       "Miloš Macourek (1045)          22\n",
       "Jindřich Polák (7891)          21\n",
       "Vladimír Kalina (4895)         21\n",
       "Karel Steklý (35894)           18\n",
       "Otakar Vávra (9507)            18\n",
       "Věra Chytilová (1555)          18\n",
       "Name: Film, dtype: int64"
      ]
     },
     "execution_count": 54,
     "metadata": {},
     "output_type": "execute_result"
    }
   ],
   "source": [
    "namety.groupby(\"Původní filmový námět\")[\"Film\"].nunique().nlargest(10)"
   ]
  },
  {
   "cell_type": "markdown",
   "id": "6e76fd9d",
   "metadata": {},
   "source": [
    "## Scénáře"
   ]
  },
  {
   "cell_type": "code",
   "execution_count": 55,
   "id": "d443e9bc",
   "metadata": {},
   "outputs": [],
   "source": [
    "scenare = df.explode(\"Scénář\")"
   ]
  },
  {
   "cell_type": "code",
   "execution_count": 56,
   "id": "76b903ae",
   "metadata": {},
   "outputs": [
    {
     "data": {
      "text/plain": [
       "Scénář\n",
       "Václav Wasserman (37326)      90\n",
       "Otakar Vávra (9507)           68\n",
       "Ota Hofman (126062)           64\n",
       "Karel Steklý (35894)          60\n",
       "Josef Neuberg (127301)        46\n",
       "Vladimír Slavínský (31967)    45\n",
       "Karel Kachyňa (3526)          42\n",
       "Elmar Klos (4742)             40\n",
       "Jiří Brdečka (18026)          39\n",
       "Martin Frič (20324)           39\n",
       "Name: Film, dtype: int64"
      ]
     },
     "execution_count": 56,
     "metadata": {},
     "output_type": "execute_result"
    }
   ],
   "source": [
    "scenare.groupby(\"Scénář\")[\"Film\"].nunique().nlargest(10)"
   ]
  },
  {
   "cell_type": "markdown",
   "id": "e3b4946f",
   "metadata": {},
   "source": [
    "## Komba a auterstvo"
   ]
  },
  {
   "cell_type": "code",
   "execution_count": 57,
   "id": "458a5d77",
   "metadata": {},
   "outputs": [],
   "source": [
    "tvurci = df.explode(\"Režie\").explode(\"Scénář\").explode(\"Původní filmový námět\").explode(\"Typologie\")"
   ]
  },
  {
   "cell_type": "code",
   "execution_count": 58,
   "id": "3b247dc9",
   "metadata": {},
   "outputs": [],
   "source": [
    "tvurci = tvurci[(tvurci[\"Typologie\"] == \"hraný\") & (tvurci[\"Délka\"] == \"dlouhometrážní\")]"
   ]
  },
  {
   "cell_type": "code",
   "execution_count": 59,
   "id": "ccd99de2",
   "metadata": {},
   "outputs": [
    {
     "data": {
      "text/plain": [
       "Režie                       Scénář                      Původní filmový námět     \n",
       "Karel Steklý (35894)        Karel Steklý (35894)        Karel Steklý (35894)          12\n",
       "Věra Plívová-Šimková (186)  Věra Plívová-Šimková (186)  Věra Plívová-Šimková (186)    12\n",
       "Zdeněk Troška (3874)        Zdeněk Troška (3874)        Zdeněk Troška (3874)          12\n",
       "Karel Kachyňa (3526)        Jan Procházka (34081)       Jan Procházka (34081)         11\n",
       "                            Karel Kachyňa (3526)        Jan Procházka (34081)         11\n",
       "Petr Schulhoff (7896)       Petr Schulhoff (7896)       Petr Schulhoff (7896)         10\n",
       "Václav Vorlíček (1044)      Miloš Macourek (1045)       Miloš Macourek (1045)         10\n",
       "Jan Hřebejk (4831)          Petr Jarchovský (2075)      Petr Jarchovský (2075)         9\n",
       "Jindřich Polák (7891)       Jindřich Polák (7891)       Ota Hofman (126062)            9\n",
       "Jiří Hanibal (7873)         Jiří Hanibal (7873)         Jiří Hanibal (7873)            9\n",
       "Name: Film, dtype: int64"
      ]
     },
     "execution_count": 59,
     "metadata": {},
     "output_type": "execute_result"
    }
   ],
   "source": [
    "tvurci.groupby([\"Režie\",\"Scénář\",\"Původní filmový námět\"])[\"Film\"].nunique().nlargest(10)"
   ]
  },
  {
   "cell_type": "code",
   "execution_count": 60,
   "id": "91b3fe71",
   "metadata": {},
   "outputs": [
    {
     "data": {
      "text/plain": [
       "Režie\n",
       "Karel Steklý (35894)          12\n",
       "Věra Plívová-Šimková (186)    12\n",
       "Zdeněk Troška (3874)          12\n",
       "Petr Schulhoff (7896)         10\n",
       "Jiří Hanibal (7873)            9\n",
       "Věra Chytilová (1555)          9\n",
       "Jaroslav Soukup (1171)         8\n",
       "Oldřich Lipský (7883)          8\n",
       "Otakar Vávra (9507)            8\n",
       "Jaroslav Papoušek (4930)       7\n",
       "Name: Film, dtype: int64"
      ]
     },
     "execution_count": 60,
     "metadata": {},
     "output_type": "execute_result"
    }
   ],
   "source": [
    "autorske = tvurci[(tvurci[\"Režie\"] == tvurci[\"Scénář\"]) & (tvurci[\"Scénář\"] == tvurci[\"Původní filmový námět\"])]\n",
    "autorske.groupby(\"Režie\")[\"Film\"].nunique().nlargest(10)"
   ]
  },
  {
   "cell_type": "code",
   "execution_count": 61,
   "id": "2a3f557e",
   "metadata": {},
   "outputs": [
    {
     "name": "stdout",
     "output_type": "stream",
     "text": [
      "R-U\n",
      "Series([], Name: Film, dtype: int64)\n",
      "19-38\n",
      "Režie\n",
      "Vladimír Slavínský (31967)    6\n",
      "Karel Lamač (37847)           5\n",
      "Gustav Machatý (33488)        4\n",
      "Name: Film, dtype: int64\n",
      "39-45\n",
      "Režie\n",
      "Miroslav Cikán (31969)        4\n",
      "Vladimír Slavínský (31967)    1\n",
      "Václav Krška (20325)          1\n",
      "Name: Film, dtype: int64\n",
      "45-47\n",
      "Režie\n",
      "Václav Krška (20325)    2\n",
      "Josef Mach (7885)       1\n",
      "Martin Frič (20324)     1\n",
      "Name: Film, dtype: int64\n",
      "48-68\n",
      "Režie\n",
      "Bořivoj Zeman (8886)    4\n",
      "Jiří Sequens (7893)     4\n",
      "Karel Zeman (37288)     4\n",
      "Name: Film, dtype: int64\n",
      "69-89\n",
      "Režie\n",
      "Věra Plívová-Šimková (186)    10\n",
      "Karel Steklý (35894)           9\n",
      "Petr Schulhoff (7896)          9\n",
      "Name: Film, dtype: int64\n",
      "90-92\n",
      "Režie\n",
      "František Fenič (608)      1\n",
      "Hynek Bočan (2947)         1\n",
      "Irena Pavlásková (1724)    1\n",
      "Name: Film, dtype: int64\n",
      "93-23\n",
      "Režie\n",
      "Zdeněk Troška (3874)    9\n",
      "Tomáš Vorel (106)       6\n",
      "Martin Šulík (5432)     5\n",
      "Name: Film, dtype: int64\n"
     ]
    }
   ],
   "source": [
    "for key, val in ery.items():\n",
    "    print(key)\n",
    "    print(autorske[(autorske[\"Copyright\"] >= val[0]) & (autorske[\"Copyright\"] <= val[1])].groupby(\"Režie\")[\"Film\"].nunique().nlargest(3))"
   ]
  },
  {
   "cell_type": "markdown",
   "id": "0fa78b64",
   "metadata": {},
   "source": [
    "## Top lidé v jednotlivých profesích"
   ]
  },
  {
   "cell_type": "code",
   "execution_count": 62,
   "id": "8de0cb71",
   "metadata": {},
   "outputs": [
    {
     "name": "stdout",
     "output_type": "stream",
     "text": [
      "Animace\n",
      "Hermína Týrlová (4754)             38\n",
      "Stanislav Látal (4849)             22\n",
      "Bohuslav Šrámek (129804)           21\n",
      "Alfons Mensdorff-Pouilly (8768)    17\n",
      "Jan Karpaš (125275)                17\n",
      "Jan Dudešek (54248)                16\n",
      "Name: Film, dtype: int64\n",
      "***\n",
      "Architekt\n",
      "Štěpán Kopecký (127347)       157\n",
      "Jan Zázvorka (28108)          135\n",
      "Alois Mecera (127364)         111\n",
      "Oldřich Bosák (4942)           93\n",
      "Karel Škvor (81834)            82\n",
      "Vilém Rittershain (127306)     81\n",
      "Name: Film, dtype: int64\n",
      "***\n",
      "Asistent kamery\n",
      "Václav Zajíček (10832)      55\n",
      "Bohumil Vodička (126011)    53\n",
      "Vojtěch Kuthan (18310)      52\n",
      "Ivan Šimůnek (3259)         51\n",
      "Jiří Zavřel (2408)          41\n",
      "Emil Hora (88957)           40\n",
      "Name: Film, dtype: int64\n",
      "***\n",
      "Asistent kamery\n",
      "Václav Zajíček (10832)      55\n",
      "Bohumil Vodička (126011)    53\n",
      "Vojtěch Kuthan (18310)      52\n",
      "Ivan Šimůnek (3259)         51\n",
      "Jiří Zavřel (2408)          41\n",
      "Emil Hora (88957)           40\n",
      "Name: Film, dtype: int64\n",
      "***\n",
      "Asistent režie\n",
      "Rudolf Stahl st. (127315)    50\n",
      "Antonín Kubový (127325)      41\n",
      "Eduard Šimáček (127361)      33\n",
      "Walter Schorsch (51567)      28\n",
      "Josef Zezulka (128426)       27\n",
      "Robert Vacík (55068)         27\n",
      "Name: Film, dtype: int64\n",
      "***\n",
      "Asistent střihu\n",
      "Růžena Hejsková (27840)      113\n",
      "Eva Horázná (129633)         101\n",
      "Magda Hájková (128666)       100\n",
      "Anna Mejtská (126799)         70\n",
      "Helena Lehovcová (126046)     69\n",
      "Jitka Šulcová (129636)        62\n",
      "Name: Film, dtype: int64\n",
      "***\n",
      "Asistent vedoucího produkce\n",
      "Waly V. Kolman (46614)        29\n",
      "Ivana Lupačová (78169)         9\n",
      "Eva Pavlíčková (33413)         6\n",
      "Antonie Dědečková (123312)     5\n",
      "Helena Starcová                5\n",
      "Barbora Zelenková              4\n",
      "Name: Film, dtype: int64\n",
      "***\n",
      "Asistent vedoucího výroby\n",
      "Lucie Hertlová           23\n",
      "Gabriela Kerekešová      17\n",
      "Miloš Matula (2012)      15\n",
      "Hana Štefanová (2423)    13\n",
      "Václav Veruněk           13\n",
      "Jaroslava Pražská        12\n",
      "Name: Film, dtype: int64\n",
      "***\n",
      "Asistent zvuku\n",
      "Ladislav Procházka (109365)    18\n",
      "Václav Kliegel (114701)        15\n",
      "Zdeněk Bobek (56205)           15\n",
      "Jiří Bělík (45726)             11\n",
      "Robert Gumala (82504)           9\n",
      "Dominik Čech                    8\n",
      "Name: Film, dtype: int64\n",
      "***\n",
      "Assistent architekta\n",
      "Bohumil Nový (126028)      75\n",
      "Jan Kňákal (84159)         43\n",
      "Libuše Jahodová (18007)    43\n",
      "Věra Líznerová (126147)    36\n",
      "Miloš Červinka (31108)     33\n",
      "Jaromír Švarc (10787)      31\n",
      "Name: Film, dtype: int64\n",
      "***\n",
      "Autor komentáře\n",
      "Evald Schorm (7895)      6\n",
      "Ivan Urban (27334)       6\n",
      "Jan Werich (1287)        5\n",
      "Věra Chytilová (1555)    5\n",
      "Eduard Hofman (78970)    4\n",
      "Karel Vachek (565)       4\n",
      "Name: Film, dtype: int64\n",
      "***\n",
      "Autor projektu\n",
      "Anna Kopecká (76947)       1\n",
      "Artemio Benki (1906)       1\n",
      "David Jungmann (88569)     1\n",
      "František Fenič (608)      1\n",
      "Helena Třeštíková (709)    1\n",
      "Jan Buriánek               1\n",
      "Name: Film, dtype: int64\n",
      "***\n",
      "Choreografie\n",
      "Josef Koníček (75651)    16\n",
      "Luboš Ogoun (8128)       14\n",
      "Jan Hartmann (7794)      13\n",
      "Joe Jenčík (124243)      11\n",
      "Pavel Šmok (8129)        11\n",
      "Frank Towen (87101)       9\n",
      "Name: Film, dtype: int64\n",
      "***\n",
      "České podtitulky\n",
      "neuvedeno                     32\n",
      "Hana Janovská (26685)         11\n",
      "Anna Kareninová (15374)        8\n",
      "Christian Falvey (85429)       4\n",
      "Lenka Pospíchalová (40407)     4\n",
      "Lukáš Přibyl (35920)           4\n",
      "Name: Film, dtype: int64\n",
      "***\n",
      "Dialogy české verze\n",
      "K. M. Walló (51350)         7\n",
      "Zdenek Sirový (4935)        3\n",
      "Jiří Balcárek (2541)        2\n",
      "Pavlína Vojtová             2\n",
      "Alena Fišerová              1\n",
      "Andrea Sedláčková (4786)    1\n",
      "Name: Film, dtype: int64\n",
      "***\n",
      "Dirigent\n",
      "Adam Klemens (1779)      12\n",
      "Mario Klemens (2973)     12\n",
      "Leoš Svárovský (1110)     7\n",
      "Jan Chalupecký (5380)     6\n",
      "Jan Kučera (21988)        6\n",
      "Štěpán Koníček (5613)     6\n",
      "Name: Film, dtype: int64\n",
      "***\n",
      "Dramaturg\n",
      "Kristián Suda (927)            104\n",
      "Marcela Pittermannová (188)     99\n",
      "Jaroslav Sedláček (33506)       76\n",
      "Václav Nývlt (5174)             73\n",
      "Věra Kalábová (4740)            72\n",
      "Jaroslav Sedláček               69\n",
      "Name: Film, dtype: int64\n",
      "***\n",
      "Druhá kamera\n",
      "Václav Helliman (18270)     52\n",
      "Karel Hejsek (18313)        47\n",
      "Jan Kváča (34106)           43\n",
      "Ladislav Chroust (59307)    37\n",
      "Eduard Kadeřábek (3239)     35\n",
      "Rudolf Jokl (13487)         35\n",
      "Name: Film, dtype: int64\n",
      "***\n",
      "Hrají\n",
      "Jan W. Speerger (55928)        281\n",
      "Theodor Pištěk (37366)         254\n",
      "Eman Fiala (64088)             214\n",
      "Jaroslav Marvan (9550)         208\n",
      "František Filipovský (4735)    181\n",
      "Alois Dvorský (127491)         169\n",
      "Name: Film, dtype: int64\n",
      "***\n",
      "Hudba k písni\n",
      "Angelo Michajlov (5083)    2\n",
      "Ohmsquare (5940)           2\n",
      "Aleš Březina (7094)        1\n",
      "Boris Carloff (15882)      1\n",
      "Burt Bacharach (15880)     1\n",
      "Chava Alberstein (7096)    1\n",
      "Name: Film, dtype: int64\n",
      "***\n",
      "Hudba, text a zpěv písně\n",
      "Jiří Suchý (2270)         99\n",
      "Zdeněk Borovec (2828)     92\n",
      "Jaroslav Mottl (55549)    87\n",
      "Jiří Šlitr (2822)         86\n",
      "Karel Gott (3861)         83\n",
      "Jaroslav Ježek (1780)     58\n",
      "Name: Film, dtype: int64\n",
      "***\n",
      "Hudební režie\n",
      "Jiří Zobač (3073)          27\n",
      "Juraj Ďurovič (449)         8\n",
      "Petra Malíšková (76551)     8\n",
      "Petr Ostrouchov (5833)      6\n",
      "Milan Jílek (13235)         4\n",
      "Miroslav Chyška (18686)     4\n",
      "Name: Film, dtype: int64\n",
      "***\n",
      "Kamera\n",
      "Otto Heller (127281)          122\n",
      "Jan Stallich (126242)         114\n",
      "Ferdinand Pečenka (126621)    104\n",
      "Jan Roth (6557)                92\n",
      "Václav Hanuš (18126)           76\n",
      "Josef Střecha (55613)          75\n",
      "Name: Film, dtype: int64\n",
      "***\n",
      "Kaskadéři\n",
      "Agentura filmových kaskadérů – FILMKA (92420)    114\n",
      "Ladislav Lahoda (1817)                            73\n",
      "IPON – agentura filmových kaskadérů (94376)       64\n",
      "Jiří Kuba (4709)                                  62\n",
      "Jaroslav Tomsa (2576)                             59\n",
      "Pavel Myslík (2615)                               47\n",
      "Name: Film, dtype: int64\n",
      "***\n",
      "Komentář\n",
      "Karel Höger (38146)          24\n",
      "Otakar Brousek st. (3390)    18\n",
      "Václav Voska (76149)         16\n",
      "Jan Werich (1287)            15\n",
      "Antonín Zíb (99716)          14\n",
      "Eduard Cupák (4944)          10\n",
      "Name: Film, dtype: int64\n",
      "***\n",
      "Koordinátor kaskadérů\n",
      "Luděk Jelen (1407)        48\n",
      "Ladislav Lahoda (1817)    38\n",
      "Petr Drozda (1502)        27\n",
      "Jiří Kuba (4709)          24\n",
      "Martin Hub (7650)         21\n",
      "Pavel Bezděk (12825)      11\n",
      "Name: Film, dtype: int64\n",
      "***\n",
      "Kostýmy\n",
      "František Říha (25336)         95\n",
      "František Zapletal (78241)     63\n",
      "Marie Holanová (123603)        57\n",
      "Helena Vondrušková (126340)    56\n",
      "Miloslava Šmídová (19221)      53\n",
      "Zdena Šnajdarová (31117)       53\n",
      "Name: Film, dtype: int64\n",
      "***\n",
      "Masky\n",
      "Josef Kobík (127346)        170\n",
      "František Rous (127890)     136\n",
      "František Čížek (12362)      94\n",
      "Stanislav Petřek (4854)      80\n",
      "František Příhoda (7109)     75\n",
      "Rudolf Hammer (5119)         70\n",
      "Name: Film, dtype: int64\n",
      "***\n",
      "Mluví\n",
      "Mirko Musil (33555)         41\n",
      "Jindřich Narenta (87097)    17\n",
      "Jiří Lábus (838)            15\n",
      "Antonín Jedlička (4739)     12\n",
      "Jiří Zahajský (8033)        12\n",
      "Miroslav Moravec (1674)     12\n",
      "Name: Film, dtype: int64\n",
      "***\n",
      "Návrhy kostýmů\n",
      "Jan Kropáček (5320)           94\n",
      "Theodor Pištěk ml. (13227)    79\n",
      "Fernand Vácha (86358)         62\n",
      "Lída Novotná (5411)           60\n",
      "Karel Postřehovský (73049)    58\n",
      "Irena Greifová (1501)         57\n",
      "Name: Film, dtype: int64\n",
      "***\n",
      "Návrhy titulků\n",
      "Lorenc (67989)           29\n",
      "Aleš Najbrt (5647)       10\n",
      "Jiří Větroň (59427)      10\n",
      "Antonín Frič (127707)     8\n",
      "Adolf Born (1496)         7\n",
      "AFIT (127949)             6\n",
      "Name: Film, dtype: int64\n",
      "***\n",
      "Odborný poradce\n",
      "Jaroslav Tomsa (2576)         43\n",
      "CSc.                          35\n",
      "František Michálek (34045)    32\n",
      "Alois Bíca (92421)            19\n",
      "DrSc.                         17\n",
      "Zbyšek Svoboda                11\n",
      "Name: Film, dtype: int64\n",
      "***\n",
      "Pedagogické vedení\n",
      "Jan Kališ (2009)         111\n",
      "Alois Fišárek (570)       69\n",
      "Bohumil Šmída (31114)     65\n",
      "Václav Hanuš              52\n",
      "Václav Hanuš (18126)      52\n",
      "Bořivoj Zeman             39\n",
      "Name: Film, dtype: int64\n",
      "***\n",
      "Pomocná režie\n",
      "Vladimír Zelenka (32571)     33\n",
      "Milada Mikešová (23586)      31\n",
      "Josef Loučím (3591)          30\n",
      "František Matoušek (5353)    27\n",
      "Jiří Mikeťuk (8997)          27\n",
      "Milan Kadlec                 27\n",
      "Name: Film, dtype: int64\n",
      "***\n",
      "Postprodukce\n",
      "Soundsquare, a.s. (100417)                     70\n",
      "Soundsquare                                    65\n",
      "Universal Production Partners, a.s. (92762)    65\n",
      "Magiclab s.r.o. (124040)                       61\n",
      "Ivo Marák (22203)                              53\n",
      "PFX s.r.o. (105193)                            48\n",
      "Name: Film, dtype: int64\n",
      "***\n",
      "Producent\n",
      "Pavel Strnad (2506)        32\n",
      "Rudolf Biermann (4528)     32\n",
      "Jaroslav Kučera (1647)     30\n",
      "Jiří Konečný (1922)        30\n",
      "Alena Müllerová (11622)    26\n",
      "Filip Remunda (555)        23\n",
      "Name: Film, dtype: int64\n",
      "***\n",
      "Producent\n",
      "Pavel Strnad (2506)        32\n",
      "Rudolf Biermann (4528)     32\n",
      "Jaroslav Kučera (1647)     30\n",
      "Jiří Konečný (1922)        30\n",
      "Alena Müllerová (11622)    26\n",
      "Filip Remunda (555)        23\n",
      "Name: Film, dtype: int64\n",
      "***\n",
      "Produkce\n",
      "Zuzana Vrbová (7187)         15\n",
      "Albert Malinovský (84874)    11\n",
      "Lucie Zvěřinová (24395)      11\n",
      "Markéta Sedelmayerová        11\n",
      "Albert Malinovský             9\n",
      "Dagmar Šperlová (75522)       7\n",
      "Name: Film, dtype: int64\n",
      "***\n",
      "Původní filmový námět\n",
      "Ota Hofman (126062)            47\n",
      "Jan Procházka (34081)          28\n",
      "Hermína Týrlová (4754)         23\n",
      "František Vlček st. (87095)    22\n",
      "Miloš Macourek (1045)          22\n",
      "Jindřich Polák (7891)          21\n",
      "Name: Film, dtype: int64\n",
      "***\n",
      "Režie\n",
      "neuvedeno                     142\n",
      "Martin Frič (20324)            88\n",
      "Otakar Vávra (9507)            56\n",
      "Vladimír Slavínský (31967)     51\n",
      "Miroslav Cikán (31969)         49\n",
      "Václav Binovec (37467)         49\n",
      "Name: Film, dtype: int64\n",
      "***\n",
      "Režie české verze\n",
      "K. M. Walló (51350)        8\n",
      "Alice Hurychová (81624)    5\n",
      "Petr Sitár (3697)          3\n",
      "Zdenek Sirový (4935)       3\n",
      "Zdeněk Štěpán (26944)      3\n",
      "Irena Skružná (10798)      2\n",
      "Name: Film, dtype: int64\n",
      "***\n",
      "Scénář\n",
      "Václav Wasserman (37326)      90\n",
      "Otakar Vávra (9507)           68\n",
      "Ota Hofman (126062)           64\n",
      "Karel Steklý (35894)          60\n",
      "Josef Neuberg (127301)        46\n",
      "Vladimír Slavínský (31967)    45\n",
      "Name: Film, dtype: int64\n",
      "***\n",
      "Skript\n",
      "Irena Klausová (75485)       32\n",
      "Pavla Marková (36607)        32\n",
      "Dagmar Zelenková (126758)    28\n",
      "Lenka Němečková (124941)     28\n",
      "Věra Vláčilová (17915)       27\n",
      "Dagmar Švejdová (38506)      25\n",
      "Name: Film, dtype: int64\n",
      "***\n",
      "Spolupráce\n",
      "Willy Ströminger (55487)    273\n",
      "Antonín Frič (127707)       158\n",
      "Karel Ješátko (45886)        85\n",
      "Miloslav Mirvald (21426)     66\n",
      "Václav Tomšovský (1486)      63\n",
      "Alena Červená (125734)       60\n",
      "Name: Film, dtype: int64\n",
      "***\n"
     ]
    },
    {
     "name": "stdout",
     "output_type": "stream",
     "text": [
      "Střih\n",
      "Miroslav Hájek (54607)         266\n",
      "Antonín Zelenka (4758)         228\n",
      "Jan Kohout (126135)            188\n",
      "Josef Dobřichovský (126074)    152\n",
      "Jiří Brožek (154)              139\n",
      "Zdeněk Stehlík (76483)         126\n",
      "Name: Film, dtype: int64\n",
      "***\n",
      "Technický scénář\n",
      "Karel Kachyňa (3526)      35\n",
      "Jindřich Polák (7891)     30\n",
      "Otakar Vávra (9507)       28\n",
      "Zbyněk Brynych (4881)     23\n",
      "Jiří Hanibal (7873)       22\n",
      "Václav Vorlíček (1044)    21\n",
      "Name: Film, dtype: int64\n",
      "***\n",
      "Triky\n",
      "Boris Masník (1489)                                    50\n",
      "Trikový ateliér Filmového studia Barrandov (127023)    50\n",
      "Jiří Rumler (7758)                                     49\n",
      "Jiří Šimůnek (12788)                                   44\n",
      "Miroslav Šnábl (5805)                                  29\n",
      "Vladimír Dvořák (36614)                                29\n",
      "Name: Film, dtype: int64\n",
      "***\n",
      "Účinkují\n",
      "Václav Havel (676)          17\n",
      "Ivan Martin Jirous (670)    10\n",
      "Miloš Zeman (8591)          10\n",
      "Václav Klaus (251)           9\n",
      "John Bok (8553)              8\n",
      "Vít Klusák (3966)            8\n",
      "Name: Film, dtype: int64\n",
      "***\n",
      "Vedoucí produkce\n",
      "Jiří Koštýř (5973)      124\n",
      "Zdeněk Hala (29088)      21\n",
      "Tomáš Šimon (45286)      18\n",
      "Marek Jindra (61286)     14\n",
      "Marek Jindra             13\n",
      "Věra Ferdová (7278)      12\n",
      "Name: Film, dtype: int64\n",
      "***\n",
      "Vedoucí výroby\n",
      "Karel Fiala (126467)      81\n",
      "Jan Sinnreich (127324)    54\n",
      "Eliška Nejedlá (19939)    50\n",
      "Josef Ouzký (126337)      44\n",
      "Ladislav Kolda (46752)    44\n",
      "Ladislav Terš (3631)      43\n",
      "Name: Film, dtype: int64\n",
      "***\n",
      "Výběr hudby\n",
      "Jiří Šust (4937)            6\n",
      "Jan Špáta (6693)            2\n",
      "Jiří Srnka (64086)          2\n",
      "Petr Tuček (53946)          2\n",
      "DJ Jonathan Sysel (1514)    1\n",
      "Dalibor Lipský (1476)       1\n",
      "Name: Film, dtype: int64\n",
      "***\n",
      "Výkonná produkce\n",
      "Jaroslav Kučera (1647)       96\n",
      "Jiří Vlach (9748)            32\n",
      "Ivana Kurincová (84166)      28\n",
      "Kateřina Kovářová (88592)    23\n",
      "Zdeněk Hala (29088)          17\n",
      "Veronika Slámová             16\n",
      "Name: Film, dtype: int64\n",
      "***\n",
      "Výprava\n",
      "Karel Kočí (126043)              110\n",
      "Arnold Reimann (126808)          103\n",
      "Ladislav Winkelhöfer (126029)    100\n",
      "Vladimír Mácha (127847)           80\n",
      "Jiří Rulík                        75\n",
      "Josef Pavlík (127872)             73\n",
      "Name: Film, dtype: int64\n",
      "***\n",
      "Výtvarná spolupráce\n",
      "Zdeněk Klusáček         16\n",
      "Jan Poukar (117876)     11\n",
      "Aleš Najbrt (5647)       9\n",
      "Lukáš Sakala             9\n",
      "Lukáš Sakala (92803)     9\n",
      "Milan Vinš               9\n",
      "Name: Film, dtype: int64\n",
      "***\n",
      "Výtvarník\n",
      "Jiří Trnka (28391)          39\n",
      "Ester Krumbachová (3512)    22\n",
      "Ludvík Kadleček (9492)      20\n",
      "Karel Dodal (127380)        19\n",
      "Jan Švankmajer (406)        13\n",
      "Stanislav Látal (4849)      12\n",
      "Name: Film, dtype: int64\n",
      "***\n",
      "Zástupce vedoucího produkce\n",
      "Zuzana Vrbová (7187)       75\n",
      "Dagmar Chudomelová         11\n",
      "Lucie Zvěřinová (24395)     8\n",
      "Ivana Boháčková             7\n",
      "Magda Chýlková              6\n",
      "Magda Chýlková (4529)       6\n",
      "Name: Film, dtype: int64\n",
      "***\n",
      "Zástupce vedoucího výroby\n",
      "Vlasta Synkulová         65\n",
      "Zdeňka Černá (129683)    61\n",
      "Rudolf Mos (313)         57\n",
      "Dana Dudová (129502)     42\n",
      "František Jaderník       42\n",
      "Věra Winkelhöferová      41\n",
      "Name: Film, dtype: int64\n",
      "***\n",
      "Zpívá\n",
      "Lucie Bílá (7010)           6\n",
      "Eva Olmerová (4746)         5\n",
      "Lucie Vondráčková (1057)    5\n",
      "Eva Pilarová (10373)        4\n",
      "Jiří Korn (8831)            4\n",
      "Lenka Dusilová (1359)       4\n",
      "Name: Film, dtype: int64\n",
      "***\n",
      "Zvláštní efekty\n",
      "Vít Petrášek (11625)                                55\n",
      "FLASH BARRANDOV Speciální efekty, s.r.o. (93097)    51\n",
      "Martin Oberländer (14111)                           22\n",
      "Milan Blažek (22352)                                22\n",
      "Pavel Policar (41867)                               22\n",
      "FLASH BARRANDOV Speciální efekty s. r. o.           20\n",
      "Name: Film, dtype: int64\n",
      "***\n",
      "Zvuk\n",
      "Bohumír Brunclík (126058)      175\n",
      "František Šindelář (126098)    138\n",
      "Josef Zora (127308)            137\n",
      "Emanuel Formánek (83850)        93\n",
      "František Fabián (126066)       93\n",
      "Stanislav Vondraš (126301)      78\n",
      "Name: Film, dtype: int64\n",
      "***\n"
     ]
    }
   ],
   "source": [
    "for p in profese:\n",
    "    df_pracovni = df[[\"Film\",p]].explode(p)\n",
    "    print(df_pracovni.groupby(p)[\"Film\"].nunique().nlargest(6))\n",
    "    print(\"***\")"
   ]
  },
  {
   "cell_type": "markdown",
   "id": "146904a3",
   "metadata": {},
   "source": [
    "## Nejčastější člověk vůbec"
   ]
  },
  {
   "cell_type": "code",
   "execution_count": 63,
   "id": "a9b19590",
   "metadata": {},
   "outputs": [
    {
     "data": {
      "text/plain": [
       "Lidé\n",
       "Jan W. Speerger (55928)        282\n",
       "Willy Ströminger (55487)       273\n",
       "Miroslav Hájek (54607)         267\n",
       "Theodor Pištěk (37366)         257\n",
       "Antonín Zelenka (4758)         240\n",
       "Jaroslav Tomsa (2576)          232\n",
       "Eman Fiala (64088)             227\n",
       "Jaroslav Marvan (9550)         209\n",
       "František Filipovský (4735)    193\n",
       "Jan Kohout (126135)            188\n",
       "Name: Film, dtype: int64"
      ]
     },
     "execution_count": 63,
     "metadata": {},
     "output_type": "execute_result"
    }
   ],
   "source": [
    "nejcastejsi = df[[\"Film\",\"Lidé\"]]\n",
    "nejcastejsi.explode(\"Lidé\").groupby(\"Lidé\")[\"Film\"].nunique().nlargest(10)"
   ]
  },
  {
   "cell_type": "code",
   "execution_count": 64,
   "id": "1f624626",
   "metadata": {},
   "outputs": [
    {
     "data": {
      "text/plain": [
       "Lidé\n",
       "Miroslav Hájek (54607)         267\n",
       "Jaroslav Tomsa (2576)          232\n",
       "Bohumír Brunclík (126058)      176\n",
       "Oldřich Velen (12725)          172\n",
       "Josef Dobřichovský (126074)    170\n",
       "Ladislav Lahoda (1817)         158\n",
       "Jiří Koštýř (5973)             156\n",
       "Mirko Musil (33555)            156\n",
       "Josef Hlinomaz (26212)         148\n",
       "Jiří Brožek (154)              146\n",
       "Name: Film, dtype: int64"
      ]
     },
     "execution_count": 64,
     "metadata": {},
     "output_type": "execute_result"
    }
   ],
   "source": [
    "nejcastejsi = df[df[\"Copyright\"] >= 1945][[\"Film\",\"Lidé\"]]\n",
    "nejcastejsi.explode(\"Lidé\").groupby(\"Lidé\")[\"Film\"].nunique().nlargest(10)"
   ]
  },
  {
   "cell_type": "markdown",
   "id": "ed44c457",
   "metadata": {},
   "source": [
    "## Oskarové filmy"
   ]
  },
  {
   "cell_type": "code",
   "execution_count": 65,
   "id": "8ce300e4",
   "metadata": {},
   "outputs": [],
   "source": [
    "with open(os.path.join(\"data_fixes\", \"seznamy.json\"), encoding=\"utf-8\") as seznamy:\n",
    "    seznamy = json.loads(seznamy.read())"
   ]
  },
  {
   "cell_type": "code",
   "execution_count": 66,
   "id": "479d43fe",
   "metadata": {},
   "outputs": [
    {
     "data": {
      "text/plain": [
       "Lidé\n",
       "Jiří Stach (34555)         2\n",
       "Adam Matejka (126967)      1\n",
       "Alois Fišárek (570)        1\n",
       "Alois Vachek (130102)      1\n",
       "Alojz Kramár               1\n",
       "Andrej Chalimon (37311)    1\n",
       "Andrej Šilan (59766)       1\n",
       "Anna Volšičková (26068)    1\n",
       "Anna Vášová (37301)        1\n",
       "Anton Baláž                1\n",
       "Name: Film, dtype: int64"
      ]
     },
     "execution_count": 66,
     "metadata": {},
     "output_type": "execute_result"
    }
   ],
   "source": [
    "nejcastejsi = df[df[\"Film\"].isin(seznamy[\"oskari\"])][[\"Film\",\"Lidé\"]]\n",
    "nejcastejsi.explode(\"Lidé\").groupby(\"Lidé\")[\"Film\"].nunique().nlargest(10)"
   ]
  },
  {
   "cell_type": "code",
   "execution_count": 67,
   "id": "5bdadaaa",
   "metadata": {},
   "outputs": [
    {
     "data": {
      "text/plain": [
       "Lidé\n",
       "Václav Šašek (1766)         5\n",
       "Milada Ježková (79014)      4\n",
       "Rudolf Hammer (5119)        4\n",
       "Jiří Kučera (114418)        3\n",
       "Jiří Menzel (7887)          3\n",
       "Libuše Šafránková (2272)    3\n",
       "Rudolf Beneš                3\n",
       "Zdeněk Svěrák (1892)        3\n",
       "Adolf Böhm (126000)         2\n",
       "Alois Fišárek (570)         2\n",
       "Name: Film, dtype: int64"
      ]
     },
     "execution_count": 67,
     "metadata": {},
     "output_type": "execute_result"
    }
   ],
   "source": [
    "nejcastejsi = df[df[\"Film\"].isin(seznamy[\"oskarianominace\"])][[\"Film\",\"Lidé\"]]\n",
    "nejcastejsi.explode(\"Lidé\").groupby(\"Lidé\")[\"Film\"].nunique().nlargest(10)"
   ]
  }
 ],
 "metadata": {
  "kernelspec": {
   "display_name": "Python 3 (ipykernel)",
   "language": "python",
   "name": "python3"
  },
  "language_info": {
   "codemirror_mode": {
    "name": "ipython",
    "version": 3
   },
   "file_extension": ".py",
   "mimetype": "text/x-python",
   "name": "python",
   "nbconvert_exporter": "python",
   "pygments_lexer": "ipython3",
   "version": "3.10.8"
  }
 },
 "nbformat": 4,
 "nbformat_minor": 5
}
