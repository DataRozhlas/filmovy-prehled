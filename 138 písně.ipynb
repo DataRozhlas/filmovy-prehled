{
 "cells": [
  {
   "cell_type": "code",
   "execution_count": 18,
   "id": "035cf5dc",
   "metadata": {},
   "outputs": [],
   "source": [
    "import os\n",
    "import pandas as pd\n",
    "pisne = pd.read_json(os.path.join(\"data\", \"pisne.json\"))\n",
    "df = pd.read_json(os.path.join(\"data\", \"filmy.json\"))"
   ]
  },
  {
   "cell_type": "code",
   "execution_count": 19,
   "id": "cfec8be8",
   "metadata": {},
   "outputs": [],
   "source": [
    "df = df[[\"Film\",\"Copyright\",\"Režie\",\"Žánr\"]]"
   ]
  },
  {
   "cell_type": "code",
   "execution_count": 20,
   "id": "ba613616",
   "metadata": {},
   "outputs": [],
   "source": [
    "pisne = pisne.merge(df, on=\"Film\")"
   ]
  },
  {
   "cell_type": "code",
   "execution_count": 21,
   "id": "2ebe2aa0",
   "metadata": {},
   "outputs": [
    {
     "data": {
      "text/html": [
       "<div>\n",
       "<style scoped>\n",
       "    .dataframe tbody tr th:only-of-type {\n",
       "        vertical-align: middle;\n",
       "    }\n",
       "\n",
       "    .dataframe tbody tr th {\n",
       "        vertical-align: top;\n",
       "    }\n",
       "\n",
       "    .dataframe thead th {\n",
       "        text-align: right;\n",
       "    }\n",
       "</style>\n",
       "<table border=\"1\" class=\"dataframe\">\n",
       "  <thead>\n",
       "    <tr style=\"text-align: right;\">\n",
       "      <th></th>\n",
       "      <th>Film</th>\n",
       "      <th>Píseň</th>\n",
       "      <th>Hudba k písni</th>\n",
       "      <th>Text písně</th>\n",
       "      <th>Zpívá</th>\n",
       "      <th>Copyright</th>\n",
       "      <th>Režie</th>\n",
       "      <th>Žánr</th>\n",
       "    </tr>\n",
       "  </thead>\n",
       "  <tbody>\n",
       "    <tr>\n",
       "      <th>0</th>\n",
       "      <td>Občanský průkaz (103354)</td>\n",
       "      <td>Most of the Time</td>\n",
       "      <td>Bob Dylan</td>\n",
       "      <td>None</td>\n",
       "      <td>None</td>\n",
       "      <td>2010</td>\n",
       "      <td>Ondřej Trojan (1348)</td>\n",
       "      <td>[historický, komedie, hořká komedie]</td>\n",
       "    </tr>\n",
       "    <tr>\n",
       "      <th>1</th>\n",
       "      <td>Občanský průkaz (103354)</td>\n",
       "      <td>Obut a oblečen</td>\n",
       "      <td>Petr Ostrouchov</td>\n",
       "      <td>None</td>\n",
       "      <td>None</td>\n",
       "      <td>2010</td>\n",
       "      <td>Ondřej Trojan (1348)</td>\n",
       "      <td>[historický, komedie, hořká komedie]</td>\n",
       "    </tr>\n",
       "    <tr>\n",
       "      <th>2</th>\n",
       "      <td>Občanský průkaz (103354)</td>\n",
       "      <td>Paranoid</td>\n",
       "      <td>[Tony Iommi, Bill Ward, Ozzy Osbourne, Geezer ...</td>\n",
       "      <td>None</td>\n",
       "      <td>None</td>\n",
       "      <td>2010</td>\n",
       "      <td>Ondřej Trojan (1348)</td>\n",
       "      <td>[historický, komedie, hořká komedie]</td>\n",
       "    </tr>\n",
       "    <tr>\n",
       "      <th>3</th>\n",
       "      <td>Občanský průkaz (103354)</td>\n",
       "      <td>Ballroom Blitz</td>\n",
       "      <td>[Michael Chapman, Nicholas Chinn]</td>\n",
       "      <td>None</td>\n",
       "      <td>None</td>\n",
       "      <td>2010</td>\n",
       "      <td>Ondřej Trojan (1348)</td>\n",
       "      <td>[historický, komedie, hořká komedie]</td>\n",
       "    </tr>\n",
       "    <tr>\n",
       "      <th>4</th>\n",
       "      <td>Občanský průkaz (103354)</td>\n",
       "      <td>Dobré ráno blues</td>\n",
       "      <td>None</td>\n",
       "      <td>None</td>\n",
       "      <td>None</td>\n",
       "      <td>2010</td>\n",
       "      <td>Ondřej Trojan (1348)</td>\n",
       "      <td>[historický, komedie, hořká komedie]</td>\n",
       "    </tr>\n",
       "    <tr>\n",
       "      <th>...</th>\n",
       "      <td>...</td>\n",
       "      <td>...</td>\n",
       "      <td>...</td>\n",
       "      <td>...</td>\n",
       "      <td>...</td>\n",
       "      <td>...</td>\n",
       "      <td>...</td>\n",
       "      <td>...</td>\n",
       "    </tr>\n",
       "    <tr>\n",
       "      <th>10016</th>\n",
       "      <td>Baader Meinhof Komplex (99894)</td>\n",
       "      <td>Dizzy Miss Lizzy</td>\n",
       "      <td>Larry E. Williams</td>\n",
       "      <td>Larry E. Williams</td>\n",
       "      <td>None</td>\n",
       "      <td>2008</td>\n",
       "      <td>Uli Edel (50906)</td>\n",
       "      <td>[historický, politický, thriller, životopisný]</td>\n",
       "    </tr>\n",
       "    <tr>\n",
       "      <th>10017</th>\n",
       "      <td>Baader Meinhof Komplex (99894)</td>\n",
       "      <td>Child in Time</td>\n",
       "      <td>[Jon Lord, Ian Gillan, Roger Glover, Ian Paice]</td>\n",
       "      <td>[Jon Lord, Ian Gillan, Roger Glover, Ian Paice]</td>\n",
       "      <td>None</td>\n",
       "      <td>2008</td>\n",
       "      <td>Uli Edel (50906)</td>\n",
       "      <td>[historický, politický, thriller, životopisný]</td>\n",
       "    </tr>\n",
       "    <tr>\n",
       "      <th>10018</th>\n",
       "      <td>Baader Meinhof Komplex (99894)</td>\n",
       "      <td>Please, Please, Please</td>\n",
       "      <td>Michael Gerdes-Heitling</td>\n",
       "      <td>[Michael Gerdes-Heitling, Jens-Peter Fuhse]</td>\n",
       "      <td>None</td>\n",
       "      <td>2008</td>\n",
       "      <td>Uli Edel (50906)</td>\n",
       "      <td>[historický, politický, thriller, životopisný]</td>\n",
       "    </tr>\n",
       "    <tr>\n",
       "      <th>10019</th>\n",
       "      <td>Baader Meinhof Komplex (99894)</td>\n",
       "      <td>Blowin' in the Wind</td>\n",
       "      <td>Bob Dylan</td>\n",
       "      <td>Bob Dylan</td>\n",
       "      <td>Bob Dylan</td>\n",
       "      <td>2008</td>\n",
       "      <td>Uli Edel (50906)</td>\n",
       "      <td>[historický, politický, thriller, životopisný]</td>\n",
       "    </tr>\n",
       "    <tr>\n",
       "      <th>10020</th>\n",
       "      <td>Baader Meinhof Komplex (99894)</td>\n",
       "      <td>Guaranteed Satisfaction</td>\n",
       "      <td>Beau Charles</td>\n",
       "      <td>Beau Charles</td>\n",
       "      <td>None</td>\n",
       "      <td>2008</td>\n",
       "      <td>Uli Edel (50906)</td>\n",
       "      <td>[historický, politický, thriller, životopisný]</td>\n",
       "    </tr>\n",
       "  </tbody>\n",
       "</table>\n",
       "<p>10021 rows × 8 columns</p>\n",
       "</div>"
      ],
      "text/plain": [
       "                                 Film                    Píseň   \n",
       "0            Občanský průkaz (103354)         Most of the Time  \\\n",
       "1            Občanský průkaz (103354)           Obut a oblečen   \n",
       "2            Občanský průkaz (103354)                 Paranoid   \n",
       "3            Občanský průkaz (103354)           Ballroom Blitz   \n",
       "4            Občanský průkaz (103354)         Dobré ráno blues   \n",
       "...                               ...                      ...   \n",
       "10016  Baader Meinhof Komplex (99894)         Dizzy Miss Lizzy   \n",
       "10017  Baader Meinhof Komplex (99894)            Child in Time   \n",
       "10018  Baader Meinhof Komplex (99894)   Please, Please, Please   \n",
       "10019  Baader Meinhof Komplex (99894)      Blowin' in the Wind   \n",
       "10020  Baader Meinhof Komplex (99894)  Guaranteed Satisfaction   \n",
       "\n",
       "                                           Hudba k písni   \n",
       "0                                              Bob Dylan  \\\n",
       "1                                        Petr Ostrouchov   \n",
       "2      [Tony Iommi, Bill Ward, Ozzy Osbourne, Geezer ...   \n",
       "3                      [Michael Chapman, Nicholas Chinn]   \n",
       "4                                                   None   \n",
       "...                                                  ...   \n",
       "10016                                  Larry E. Williams   \n",
       "10017    [Jon Lord, Ian Gillan, Roger Glover, Ian Paice]   \n",
       "10018                            Michael Gerdes-Heitling   \n",
       "10019                                          Bob Dylan   \n",
       "10020                                       Beau Charles   \n",
       "\n",
       "                                            Text písně      Zpívá  Copyright   \n",
       "0                                                 None       None       2010  \\\n",
       "1                                                 None       None       2010   \n",
       "2                                                 None       None       2010   \n",
       "3                                                 None       None       2010   \n",
       "4                                                 None       None       2010   \n",
       "...                                                ...        ...        ...   \n",
       "10016                                Larry E. Williams       None       2008   \n",
       "10017  [Jon Lord, Ian Gillan, Roger Glover, Ian Paice]       None       2008   \n",
       "10018      [Michael Gerdes-Heitling, Jens-Peter Fuhse]       None       2008   \n",
       "10019                                        Bob Dylan  Bob Dylan       2008   \n",
       "10020                                     Beau Charles       None       2008   \n",
       "\n",
       "                      Režie                                            Žánr  \n",
       "0      Ondřej Trojan (1348)            [historický, komedie, hořká komedie]  \n",
       "1      Ondřej Trojan (1348)            [historický, komedie, hořká komedie]  \n",
       "2      Ondřej Trojan (1348)            [historický, komedie, hořká komedie]  \n",
       "3      Ondřej Trojan (1348)            [historický, komedie, hořká komedie]  \n",
       "4      Ondřej Trojan (1348)            [historický, komedie, hořká komedie]  \n",
       "...                     ...                                             ...  \n",
       "10016      Uli Edel (50906)  [historický, politický, thriller, životopisný]  \n",
       "10017      Uli Edel (50906)  [historický, politický, thriller, životopisný]  \n",
       "10018      Uli Edel (50906)  [historický, politický, thriller, životopisný]  \n",
       "10019      Uli Edel (50906)  [historický, politický, thriller, životopisný]  \n",
       "10020      Uli Edel (50906)  [historický, politický, thriller, životopisný]  \n",
       "\n",
       "[10021 rows x 8 columns]"
      ]
     },
     "execution_count": 21,
     "metadata": {},
     "output_type": "execute_result"
    }
   ],
   "source": [
    "pisne"
   ]
  },
  {
   "cell_type": "code",
   "execution_count": 25,
   "id": "384df87e",
   "metadata": {},
   "outputs": [],
   "source": [
    "pisne = pisne.explode(\"Hudba k písni\").explode(\"Text písně\").explode(\"Zpívá\").explode(\"Žánr\").explode(\"Režie\")"
   ]
  },
  {
   "cell_type": "code",
   "execution_count": 23,
   "id": "ad361b52",
   "metadata": {},
   "outputs": [
    {
     "data": {
      "text/plain": [
       "Zpívá\n",
       "Karel Gott            79\n",
       "Waldemar Matuška      46\n",
       "Setleři               38\n",
       "Eva Pilarová          34\n",
       "Oldřich Kovář         33\n",
       "Helena Vondráčková    29\n",
       "Jiří Suchý            29\n",
       "Vlasta Burian         29\n",
       "Václav Neckář         28\n",
       "Jiří Korn             25\n",
       "R. A. Dvorský         25\n",
       "Oldřich Nový          24\n",
       "Hana Zagorová         22\n",
       "Fanda Mrázek          21\n",
       "Hana Vítová           21\n",
       "Michal David          20\n",
       "Josef Zíma            19\n",
       "Naďa Urbánková        19\n",
       "Hana Hegerová         18\n",
       "Jan Werich            18\n",
       "Name: Film, dtype: int64"
      ]
     },
     "execution_count": 23,
     "metadata": {},
     "output_type": "execute_result"
    }
   ],
   "source": [
    "pisne.groupby(\"Zpívá\")[\"Film\"].nunique().nlargest(20)"
   ]
  },
  {
   "cell_type": "code",
   "execution_count": 15,
   "id": "f9b9b985",
   "metadata": {},
   "outputs": [
    {
     "data": {
      "text/plain": [
       "Text písně\n",
       "Jiří Suchý           91\n",
       "Zdeněk Borovec       90\n",
       "Jaroslav Mottl       85\n",
       "Jiří Štaidl          53\n",
       "Zdeněk Rytíř         51\n",
       "Jan Werich           49\n",
       "Jiří Voskovec        45\n",
       "Karel Hašler         45\n",
       "Pavel Kopta          43\n",
       "Karel Melíšek        38\n",
       "Ivo Fischer          36\n",
       "K. M. Walló          33\n",
       "František Kudrna     31\n",
       "Eduard Krečmar       30\n",
       "Karel Tobis          26\n",
       "Josef Kajetán Tyl    24\n",
       "Josef Gruss          23\n",
       "Pavel Žák            23\n",
       "Zdeněk Svěrák        23\n",
       "Vratislav Blažek     22\n",
       "Name: Film, dtype: int64"
      ]
     },
     "execution_count": 15,
     "metadata": {},
     "output_type": "execute_result"
    }
   ],
   "source": [
    "pisne.groupby(\"Text písně\")[\"Film\"].nunique().nlargest(20)"
   ]
  },
  {
   "cell_type": "code",
   "execution_count": 16,
   "id": "028ee04c",
   "metadata": {},
   "outputs": [
    {
     "data": {
      "text/plain": [
       "Hudba k písni\n",
       "Jiří Šlitr          85\n",
       "Jaroslav Ježek      58\n",
       "Josef Stelibský     58\n",
       "Karel Hašler        49\n",
       "Josef Dobeš         48\n",
       "Jára Beneš          46\n",
       "Karel Svoboda       43\n",
       "Jaromír Vejvoda     36\n",
       "Karel Vacek         35\n",
       "František Škroup    34\n",
       "Ladislav Štaidl     34\n",
       "Petr Hapka          33\n",
       "František Kmoch     32\n",
       "Karel Mareš         30\n",
       "Vlastimil Hála      29\n",
       "Eman Fiala          26\n",
       "Jiří Srnka          26\n",
       "Bedřich Smetana     23\n",
       "Jaromír Vomáčka     23\n",
       "Jaroslav Uhlíř      23\n",
       "Name: Film, dtype: int64"
      ]
     },
     "execution_count": 16,
     "metadata": {},
     "output_type": "execute_result"
    }
   ],
   "source": [
    "pisne.groupby(\"Hudba k písni\")[\"Film\"].nunique().nlargest(20)"
   ]
  },
  {
   "cell_type": "code",
   "execution_count": 28,
   "id": "77e4367b",
   "metadata": {},
   "outputs": [
    {
     "data": {
      "text/plain": [
       "Režie                       Zpívá                   \n",
       "Martin Frič (20324)         Vlasta Burian               14\n",
       "Karel Lamač (37847)         Vlasta Burian               10\n",
       "Martin Frič (20324)         Hugo Haas                    7\n",
       "Vladimír Slavínský (31967)  Setleři                      6\n",
       "Jaroslav Soukup (1171)      Michal David                 5\n",
       "Martin Frič (20324)         R. A. Dvorský                5\n",
       "Miroslav Cikán (31969)      Hana Vítová                  5\n",
       "                            Jindřich Plachta             5\n",
       "Vladimír Slavínský (31967)  František Krištof-Veselý     5\n",
       "                            Oldřich Kovář                5\n",
       "Name: Film, dtype: int64"
      ]
     },
     "execution_count": 28,
     "metadata": {},
     "output_type": "execute_result"
    }
   ],
   "source": [
    "pisne.groupby([\"Režie\",\"Zpívá\"])[\"Film\"].nunique().nlargest(10)"
   ]
  },
  {
   "cell_type": "code",
   "execution_count": 30,
   "id": "922681ce",
   "metadata": {},
   "outputs": [
    {
     "data": {
      "text/plain": [
       "Píseň\n",
       "Kde domov můj                    32\n",
       "Škoda lásky                      28\n",
       "Zelení hájové                    22\n",
       "Internacionála                   19\n",
       "Život je jen náhoda              19\n",
       "Ktož jsú boží bojovníci          18\n",
       "Už mou milou do kostela vedou    17\n",
       "Šly panenky silnicí              16\n",
       "Kolíne, Kolíne                   15\n",
       "Kupředu, zpátky ni krok          15\n",
       "Name: Film, dtype: int64"
      ]
     },
     "execution_count": 30,
     "metadata": {},
     "output_type": "execute_result"
    }
   ],
   "source": [
    "pisne.groupby(\"Píseň\")[\"Film\"].nunique().nlargest(10)"
   ]
  },
  {
   "cell_type": "code",
   "execution_count": 32,
   "id": "b6a02a5f",
   "metadata": {},
   "outputs": [
    {
     "data": {
      "text/plain": [
       "Text písně\n",
       "Jaroslav Mottl      178\n",
       "Jiří Suchý          139\n",
       "Zdeněk Borovec      112\n",
       "Jiří Štaidl          80\n",
       "Karel Melíšek        71\n",
       "Pavel Kopta          71\n",
       "Karel Hašler         70\n",
       "Vratislav Blažek     65\n",
       "Zdeněk Rytíř         59\n",
       "Karel Tobis          55\n",
       "Name: Píseň, dtype: int64"
      ]
     },
     "execution_count": 32,
     "metadata": {},
     "output_type": "execute_result"
    }
   ],
   "source": [
    "pisne.groupby(\"Text písně\")[\"Píseň\"].nunique().nlargest(10)"
   ]
  },
  {
   "cell_type": "code",
   "execution_count": 33,
   "id": "f011912c",
   "metadata": {},
   "outputs": [
    {
     "data": {
      "text/plain": [
       "Zpívá\n",
       "Karel Gott            130\n",
       "Setleři                81\n",
       "Jiří Suchý             75\n",
       "Waldemar Matuška       71\n",
       "Vlasta Burian          52\n",
       "Michal David           41\n",
       "Miro Žbirka            41\n",
       "Helena Vondráčková     40\n",
       "Oldřich Kovář          40\n",
       "Eva Pilarová           38\n",
       "Name: Píseň, dtype: int64"
      ]
     },
     "execution_count": 33,
     "metadata": {},
     "output_type": "execute_result"
    }
   ],
   "source": [
    "pisne.groupby(\"Zpívá\")[\"Píseň\"].nunique().nlargest(10)"
   ]
  }
 ],
 "metadata": {
  "kernelspec": {
   "display_name": "Python 3 (ipykernel)",
   "language": "python",
   "name": "python3"
  },
  "language_info": {
   "codemirror_mode": {
    "name": "ipython",
    "version": 3
   },
   "file_extension": ".py",
   "mimetype": "text/x-python",
   "name": "python",
   "nbconvert_exporter": "python",
   "pygments_lexer": "ipython3",
   "version": "3.10.8"
  }
 },
 "nbformat": 4,
 "nbformat_minor": 5
}
