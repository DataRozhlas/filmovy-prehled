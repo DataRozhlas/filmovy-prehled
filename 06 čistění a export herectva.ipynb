{
 "cells": [
  {
   "cell_type": "code",
   "execution_count": 1,
   "id": "7f2f5af5",
   "metadata": {},
   "outputs": [],
   "source": [
    "import pandas as pd"
   ]
  },
  {
   "cell_type": "code",
   "execution_count": 3,
   "id": "15b276da",
   "metadata": {},
   "outputs": [],
   "source": [
    "herectvo = pd.read_json(\"herectvo_pracovni.json\")"
   ]
  },
  {
   "cell_type": "code",
   "execution_count": 4,
   "id": "7df1da42",
   "metadata": {},
   "outputs": [],
   "source": [
    "herectvo[\"Rok narození\"] = herectvo[\"Datum narození\"].astype(str).apply(lambda x: x[-4:])\n",
    "herectvo[\"Rok narození\"] = pd.to_numeric(herectvo[\"Rok narození\"], errors='coerce') "
   ]
  },
  {
   "cell_type": "code",
   "execution_count": 6,
   "id": "da7953ee",
   "metadata": {},
   "outputs": [],
   "source": [
    "herectvo[\"Věk\"] = herectvo[\"Rok\"].astype(float) - herectvo[\"Rok narození\"].astype(float)"
   ]
  },
  {
   "cell_type": "code",
   "execution_count": 7,
   "id": "6d09df1d",
   "metadata": {},
   "outputs": [],
   "source": [
    "herectvo.to_json(\"herectvo.json\", orient=\"records\")"
   ]
  }
 ],
 "metadata": {
  "kernelspec": {
   "display_name": "Python 3 (ipykernel)",
   "language": "python",
   "name": "python3"
  },
  "language_info": {
   "codemirror_mode": {
    "name": "ipython",
    "version": 3
   },
   "file_extension": ".py",
   "mimetype": "text/x-python",
   "name": "python",
   "nbconvert_exporter": "python",
   "pygments_lexer": "ipython3",
   "version": "3.10.8"
  }
 },
 "nbformat": 4,
 "nbformat_minor": 5
}
