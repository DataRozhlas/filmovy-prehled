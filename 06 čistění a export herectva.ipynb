{
 "cells": [
  {
   "cell_type": "code",
   "execution_count": 2,
   "id": "2f0cdacc",
   "metadata": {},
   "outputs": [],
   "source": [
    "import pandas as pd"
   ]
  },
  {
   "cell_type": "code",
   "execution_count": 7,
   "id": "66753655",
   "metadata": {},
   "outputs": [],
   "source": [
    "herectvo = pd.read_json(\"herectvo_raw.json\")"
   ]
  },
  {
   "cell_type": "code",
   "execution_count": 8,
   "id": "068a1e87",
   "metadata": {},
   "outputs": [],
   "source": [
    "herectvo[\"Rok narození\"] = herectvo[\"Datum narození\"].astype(str).apply(lambda x: x[-4:])\n",
    "herectvo[\"Rok narození\"] = pd.to_numeric(herectvo[\"Rok narození\"], errors='coerce') "
   ]
  },
  {
   "cell_type": "code",
   "execution_count": 11,
   "id": "6b5f5008",
   "metadata": {},
   "outputs": [],
   "source": [
    "herectvo[\"Datum narození\"] = pd.to_datetime(herectvo[\"Datum narození\"], errors=\"ignore\", format = \"%d.%m.%Y\")"
   ]
  },
  {
   "cell_type": "code",
   "execution_count": 12,
   "id": "15f9c4a6",
   "metadata": {},
   "outputs": [],
   "source": [
    "herectvo[\"Datum úmrtí\"] = pd.to_datetime(herectvo[\"Datum úmrtí\"], errors=\"ignore\", format = \"%d.%m.%Y\")"
   ]
  },
  {
   "cell_type": "code",
   "execution_count": 9,
   "id": "c5c0a8fd",
   "metadata": {},
   "outputs": [],
   "source": [
    "herectvo[\"Věk\"] = herectvo[\"Rok\"].astype(float) - herectvo[\"Rok narození\"].astype(float)"
   ]
  },
  {
   "cell_type": "code",
   "execution_count": 13,
   "id": "c3f85f54",
   "metadata": {},
   "outputs": [],
   "source": [
    "herectvo.to_json(\"herectvo.json\", orient=\"records\")"
   ]
  }
 ],
 "metadata": {
  "kernelspec": {
   "display_name": "Python 3 (ipykernel)",
   "language": "python",
   "name": "python3"
  },
  "language_info": {
   "codemirror_mode": {
    "name": "ipython",
    "version": 3
   },
   "file_extension": ".py",
   "mimetype": "text/x-python",
   "name": "python",
   "nbconvert_exporter": "python",
   "pygments_lexer": "ipython3",
   "version": "3.10.8"
  }
 },
 "nbformat": 4,
 "nbformat_minor": 5
}
