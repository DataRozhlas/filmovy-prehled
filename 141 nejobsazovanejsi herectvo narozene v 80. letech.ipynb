{
 "cells": [
  {
   "cell_type": "markdown",
   "id": "f5eff173",
   "metadata": {},
   "source": [
    "Smyslem tohoto sešitu je nalézt „herecké obsazení“ pro beletrii, jejíž dvě hlavní postavy se narodily kolem roku 1985. („[Write for a star](https://stevenpressfield.com/2011/08/write-for-a-star/)“, radí Steven Pressfield.)"
   ]
  },
  {
   "cell_type": "code",
   "execution_count": 11,
   "id": "f22aa6cf",
   "metadata": {},
   "outputs": [],
   "source": [
    "import os\n",
    "import pandas as pd"
   ]
  },
  {
   "cell_type": "code",
   "execution_count": 12,
   "id": "3202e7d3",
   "metadata": {},
   "outputs": [],
   "source": [
    "persony = pd.read_json(os.path.join(\"data\", \"persony.json\"))"
   ]
  },
  {
   "cell_type": "code",
   "execution_count": 13,
   "id": "93f1cd00",
   "metadata": {},
   "outputs": [],
   "source": [
    "herectvo = pd.read_json(os.path.join(\"data\", \"herectvo.json\"))"
   ]
  },
  {
   "cell_type": "code",
   "execution_count": 14,
   "id": "1a935640",
   "metadata": {},
   "outputs": [],
   "source": [
    "herectvo = herectvo.explode(\"Role\")"
   ]
  },
  {
   "cell_type": "code",
   "execution_count": 16,
   "id": "dd268aba",
   "metadata": {},
   "outputs": [],
   "source": [
    "herectvo = herectvo.merge(persony, left_on = \"Hraje\", right_on = \"Jméno\")"
   ]
  },
  {
   "cell_type": "code",
   "execution_count": 26,
   "id": "c9bf0e21",
   "metadata": {},
   "outputs": [
    {
     "data": {
      "text/plain": [
       "Hraje\n",
       "Kryštof Hádek (1830)             31\n",
       "Jiří Mádl (18965)                27\n",
       "Hana Vagnerová (16186)           23\n",
       "Petra Nesvačilová (21710)        21\n",
       "Tatiana Pauhofová (7594)         21\n",
       "Jana Plodková (24916)            20\n",
       "Jiří Černý (13756)               20\n",
       "Ester Geislerová (7019)          19\n",
       "Jenovéfa Boková (74272)          19\n",
       "Tereza Voříšková (26752)         19\n",
       "Vojtěch Kotek (1673)             18\n",
       "Jakub Prachař (18670)            17\n",
       "Veronika Kubařová (26753)        17\n",
       "Vica Kerekes (78381)             16\n",
       "Eliška Křenková (26750)          15\n",
       "Tomáš Magnusek (28382)           15\n",
       "Vojtěch Dyk (26739)              15\n",
       "Barbora Poláková (24914)         14\n",
       "Ladislav Hampl (1693)            14\n",
       "Lukáš Příkazký (20116)           14\n",
       "Sandra Nováková (6364)           14\n",
       "Vladimír Polívka (31319)         14\n",
       "Vladimír Škultéty (7223)         14\n",
       "Anita Krausová (47228)           13\n",
       "Filip Brouk (20047)              13\n",
       "Marika Šoposká (29488)           13\n",
       "Martha Issová (1683)             13\n",
       "Ľuboš Kostelný (586)             13\n",
       "Šárka Vaculíková (16033)         13\n",
       "Kristýna Nováková (6366)         12\n",
       "Igor Orozovič (40331)            11\n",
       "Aneta Krejčíková (48968)         10\n",
       "Anna Stropnická (63206)          10\n",
       "Barbora Seidlová (1212)          10\n",
       "Kristína Svarinská (11494)       10\n",
       "Zuzana Onufráková (17671)        10\n",
       "Adam Mišík (27584)                9\n",
       "Anna Fialová (21871)              9\n",
       "Elizaveta Maximová (122160)       9\n",
       "Eva Leimbergerová (17059)         9\n",
       "Jakub Štáfek (82135)              9\n",
       "Jan Komínek (59308)               9\n",
       "Judit Bárdos (75921)              9\n",
       "Matouš Ruml (76350)               9\n",
       "Daniel Fischer (41630)            8\n",
       "Eva Josefíková (76909)            8\n",
       "Filip Březina (59786)             8\n",
       "Jan Cina (4900)                   8\n",
       "Jan Jankovský (27447)             8\n",
       "Jan Plouhar (5134)                8\n",
       "Kristýna Liška-Boková (13128)     8\n",
       "Lucie Polišenská (42987)          8\n",
       "Patrik Děrgel (83665)             8\n",
       "Pavla Beretová (35593)            8\n",
       "Tomáš Vorel ml. (163)             8\n",
       "Václav Jílek (19834)              8\n",
       "Alena Doláková (81216)            7\n",
       "Berenika Kohoutová (36209)        7\n",
       "Dorota Nvotová (4352)             7\n",
       "Jakub Gottwald (35502)            7\n",
       "Name: Film, dtype: int64"
      ]
     },
     "execution_count": 26,
     "metadata": {},
     "output_type": "execute_result"
    }
   ],
   "source": [
    "herectvo[herectvo['Rok narození'].isin(range(1981,1999))].groupby(\"Hraje\")['Film'].nunique().nlargest(60)"
   ]
  },
  {
   "cell_type": "markdown",
   "id": "009f5e5c",
   "metadata": {},
   "source": [
    "Tipy M:\n",
    "- Daniel Fischer\n",
    "- Filip Brouk\n",
    "- Anita Krausová\n",
    "\n",
    "Tipy Ž:\n",
    "- Alena Doláková\n",
    "- Pavla Beretová\n",
    "- Johana Švarcová"
   ]
  }
 ],
 "metadata": {
  "kernelspec": {
   "display_name": "Python 3 (ipykernel)",
   "language": "python",
   "name": "python3"
  },
  "language_info": {
   "codemirror_mode": {
    "name": "ipython",
    "version": 3
   },
   "file_extension": ".py",
   "mimetype": "text/x-python",
   "name": "python",
   "nbconvert_exporter": "python",
   "pygments_lexer": "ipython3",
   "version": "3.11.5"
  }
 },
 "nbformat": 4,
 "nbformat_minor": 5
}
