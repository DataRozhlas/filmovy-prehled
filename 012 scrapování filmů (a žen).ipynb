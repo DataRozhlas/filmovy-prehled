{
 "cells": [
  {
   "cell_type": "code",
   "execution_count": 1,
   "id": "980e3c8f",
   "metadata": {},
   "outputs": [],
   "source": [
    "import os\n",
    "import json\n",
    "from datetime import datetime\n",
    "from bs4 import BeautifulSoup"
   ]
  },
  {
   "cell_type": "code",
   "execution_count": 2,
   "id": "4b1f24c3",
   "metadata": {},
   "outputs": [
    {
     "name": "stdout",
     "output_type": "stream",
     "text": [
      "2024/02/16 00:05:06\n"
     ]
    }
   ],
   "source": [
    "print(datetime.now().strftime(\"%Y/%m/%d %H:%M:%S\"))"
   ]
  },
  {
   "cell_type": "code",
   "execution_count": 3,
   "id": "9577b5d3",
   "metadata": {},
   "outputs": [],
   "source": [
    "slozka = \"filmy\""
   ]
  },
  {
   "cell_type": "code",
   "execution_count": 4,
   "id": "7989507b",
   "metadata": {},
   "outputs": [],
   "source": [
    "def seznam_souboru(slozka):\n",
    "    seznam = []\n",
    "    for file in os.listdir(slozka):\n",
    "        seznam.append(file)\n",
    "    return(seznam)"
   ]
  },
  {
   "cell_type": "code",
   "execution_count": 5,
   "id": "259204e6",
   "metadata": {},
   "outputs": [
    {
     "data": {
      "text/plain": [
       "['10144-tabor-padlych-zen.html',\n",
       " '10173-eastern-krvavy-hugo.html',\n",
       " '102282-o-jecminkovi.html',\n",
       " '102314-zimni-vila.html',\n",
       " '10242-narkoblues.html',\n",
       " '103341-jan-hus-mse-za-tri-mrtve-muze.html',\n",
       " '103354-obcansky-prukaz.html',\n",
       " '103358-7-dni-hrichu.html',\n",
       " '103360-vojta-lavicka-nahoru-a-dolu.html',\n",
       " '103369-kuky-se-vraci.html']"
      ]
     },
     "execution_count": 5,
     "metadata": {},
     "output_type": "execute_result"
    }
   ],
   "source": [
    "seznam_filmu = seznam_souboru(slozka)\n",
    "seznam_filmu[0:10]"
   ]
  },
  {
   "cell_type": "markdown",
   "id": "20da540d",
   "metadata": {},
   "source": [
    "## Začínáme scrapovat"
   ]
  },
  {
   "cell_type": "markdown",
   "id": "a5872fe8",
   "metadata": {},
   "source": [
    "### Nejdřív zjistíme, co všechno budeme scrapovat"
   ]
  },
  {
   "cell_type": "code",
   "execution_count": 6,
   "id": "cdba2452",
   "metadata": {},
   "outputs": [],
   "source": [
    "kolik = None"
   ]
  },
  {
   "cell_type": "markdown",
   "id": "14237630",
   "metadata": {},
   "source": [
    "(Čím menší číslo, tím menší vzorek a tím rychlejší test. Pro zpracování kompletního seznamu nutno změnit proměnou na None.)"
   ]
  },
  {
   "cell_type": "code",
   "execution_count": 7,
   "id": "59806f32",
   "metadata": {},
   "outputs": [],
   "source": [
    "def jake_jsou_sekce(slozka):\n",
    "    sekce = []\n",
    "    for s in seznam_souboru(slozka)[:kolik]:\n",
    "        with open(os.path.join(slozka, s), \"r\", encoding=\"utf-8\") as f:\n",
    "            soup = BeautifulSoup(f, \"html.parser\")\n",
    "            item_details = soup.find_all(class_='db-film-section')\n",
    "            for item_detail in item_details:\n",
    "                h2_tags = item_detail.find_all('h2')\n",
    "                for h2_tag in h2_tags:\n",
    "                    if h2_tag.get_text() not in sekce:\n",
    "                        sekce.append(h2_tag.get_text())\n",
    "    return(sekce)"
   ]
  },
  {
   "cell_type": "code",
   "execution_count": 8,
   "id": "0e36faac",
   "metadata": {},
   "outputs": [],
   "source": [
    "sekce = jake_jsou_sekce(\"filmy\")"
   ]
  },
  {
   "cell_type": "code",
   "execution_count": 9,
   "id": "a4b4c813",
   "metadata": {},
   "outputs": [
    {
     "data": {
      "text/plain": [
       "['Anotace',\n",
       " 'Obsah',\n",
       " 'Hrají',\n",
       " 'Štáb a tvůrci',\n",
       " 'Hudba',\n",
       " 'Lokace',\n",
       " 'Produkční údaje',\n",
       " 'Technické údaje',\n",
       " 'Knihovna',\n",
       " 'Poznámka',\n",
       " 'Ocenění',\n",
       " 'Galerie',\n",
       " 'Komentář',\n",
       " 'Písně',\n",
       " 'Revue',\n",
       " 'Účinkují',\n",
       " 'Mluví',\n",
       " 'Film online']"
      ]
     },
     "execution_count": 9,
     "metadata": {},
     "output_type": "execute_result"
    }
   ],
   "source": [
    "sekce"
   ]
  },
  {
   "cell_type": "code",
   "execution_count": 10,
   "id": "8a4f106e",
   "metadata": {},
   "outputs": [],
   "source": [
    "def jake_jsou_detaily(slozka):\n",
    "    detaily = []\n",
    "    for s in seznam_souboru(slozka)[:kolik]:\n",
    "        with open(os.path.join(slozka, s), \"r\", encoding=\"utf-8\") as f:\n",
    "            soup = BeautifulSoup(f, \"html.parser\")\n",
    "            item_details = soup.find_all(class_='item-details')\n",
    "            for item_detail in item_details:\n",
    "                h3_tags = item_detail.find_all('h3')\n",
    "                for h3_tag in h3_tags:\n",
    "                    if h3_tag.get_text() not in detaily:\n",
    "                        detaily.append(h3_tag.get_text())\n",
    "    return(detaily)"
   ]
  },
  {
   "cell_type": "code",
   "execution_count": 11,
   "id": "acd90e0d",
   "metadata": {},
   "outputs": [],
   "source": [
    "detaily = jake_jsou_detaily(slozka)"
   ]
  },
  {
   "cell_type": "code",
   "execution_count": 12,
   "id": "64cbca36",
   "metadata": {},
   "outputs": [],
   "source": [
    "def jake_jsou_kredity(slozka):\n",
    "    kredity = []\n",
    "    for s in seznam_souboru(slozka)[:kolik]:\n",
    "        with open(os.path.join(slozka, s), \"r\", encoding=\"utf-8\") as f:\n",
    "            soup = BeautifulSoup(f, \"html.parser\")\n",
    "            item_details = soup.find_all(class_='db-film-credits-section')\n",
    "            for item_detail in item_details:\n",
    "                if \"Štáb a tvůrci\" in item_detail.text:\n",
    "                    h3_tags = item_detail.find_all('h3')\n",
    "                    for h3_tag in h3_tags:\n",
    "                        if h3_tag.get_text() not in kredity:\n",
    "                            kredity.append(h3_tag.get_text())\n",
    "    return(kredity)"
   ]
  },
  {
   "cell_type": "code",
   "execution_count": 13,
   "id": "de9fe172",
   "metadata": {},
   "outputs": [],
   "source": [
    "kredity = jake_jsou_kredity(slozka)"
   ]
  },
  {
   "cell_type": "code",
   "execution_count": 14,
   "id": "bdc55a06",
   "metadata": {},
   "outputs": [],
   "source": [
    "def jake_jsou_technicke_detaily(slozka):\n",
    "    technika = []\n",
    "    for s in seznam_souboru(slozka)[:kolik]:\n",
    "        with open(os.path.join(slozka, s), \"r\", encoding=\"utf-8\") as f:\n",
    "            soup = BeautifulSoup(f, \"html.parser\")\n",
    "            item_details = soup.find_all(class_='db-film-credits-section')\n",
    "            for item_detail in item_details:\n",
    "                if \"Technické údaje\" in item_detail.text:\n",
    "                    h3_tags = item_detail.find_all('h3')\n",
    "                    for h3_tag in h3_tags:\n",
    "                        if h3_tag.get_text() not in technika:\n",
    "                            technika.append(h3_tag.get_text())\n",
    "    return(technika)"
   ]
  },
  {
   "cell_type": "code",
   "execution_count": null,
   "id": "cdabc51f",
   "metadata": {},
   "outputs": [],
   "source": [
    "technika = jake_jsou_technicke_detaily(slozka)"
   ]
  },
  {
   "cell_type": "code",
   "execution_count": null,
   "id": "6873d86d",
   "metadata": {},
   "outputs": [],
   "source": [
    "technika"
   ]
  },
  {
   "cell_type": "markdown",
   "id": "ce66d3fe",
   "metadata": {},
   "source": [
    "## Scrapování filmů"
   ]
  },
  {
   "cell_type": "code",
   "execution_count": null,
   "id": "de399810",
   "metadata": {},
   "outputs": [],
   "source": [
    "def id_persony(url):\n",
    "    if \"cs/person/\" in url:\n",
    "        id_persony = url.split(\"/\")[-2]\n",
    "    else:\n",
    "        id_persony = 0\n",
    "    return(id_persony)"
   ]
  },
  {
   "cell_type": "code",
   "execution_count": null,
   "id": "31f5d884",
   "metadata": {},
   "outputs": [],
   "source": [
    "def pridej_atributy(slovnik, seznam, nalezene):\n",
    "    for s in seznam:\n",
    "        for n in nalezene:\n",
    "            if s in n:\n",
    "                n = n.replace(s,\" \")\n",
    "                slovnik[s] = n.strip()"
   ]
  },
  {
   "cell_type": "code",
   "execution_count": null,
   "id": "88a2d9e7",
   "metadata": {},
   "outputs": [],
   "source": [
    "with open(os.path.join(\"data_fixes\", \"zeny_rucne.json\"), encoding=\"utf-8\") as zeny:\n",
    "    zeny = json.loads(zeny.read())"
   ]
  },
  {
   "cell_type": "code",
   "execution_count": null,
   "id": "39133465",
   "metadata": {},
   "outputs": [],
   "source": [
    "def scrape_film(slozka, soubor):\n",
    "    \n",
    "    def jmeno_nejmeno(div):\n",
    "        global zeny\n",
    "        try:\n",
    "            jmeno = id_persony(div.find(\"h3\").find(\"a\")[\"href\"])   \n",
    "        except:\n",
    "            jmeno = div.find(\"h3\").text\n",
    "        if \"/ž/\" in div.find(\"h3\").text:\n",
    "            zena = div.find(\"h3\").text.split(\"/ž/\")[0].strip()\n",
    "            if zena not in zeny:\n",
    "                zeny.append(zena)\n",
    "        return(jmeno)\n",
    "            \n",
    "    with open(os.path.join(slozka, soubor), \"r\", encoding=\"utf-8\") as f:\n",
    "        soup = BeautifulSoup(f, \"html.parser\")\n",
    "    \n",
    "    atributy = {}\n",
    "        \n",
    "    atributy[\"Film\"] = f\"\"\"{soup.find(\"h1\").text.strip()} ({soup.find('meta', {'property': 'og:url'})['content'].split(\"/\")[-2]})\"\"\"\n",
    "\n",
    "    ## Detaily – země původu, copyright…\n",
    "    \n",
    "    item_details = soup.find_all(class_='item-details')\n",
    "    divs_text = []\n",
    "\n",
    "    for item_detail in item_details:\n",
    "        divs = item_detail.find_all('div')\n",
    "        for div in divs:\n",
    "            obsah = div.text\n",
    "            if div.find(\"span\"):\n",
    "                obsah = div.find(\"h3\").text + \", \".join([s.text for s in div.find_all(class_=\"comma\")])\n",
    "            divs_text.append(obsah)\n",
    "\n",
    "    pridej_atributy(atributy, detaily, divs_text)\n",
    "    \n",
    "    ## Credits\n",
    "    \n",
    "    item_details = soup.find_all(class_='db-film-credits-section')\n",
    "    divs_text = []\n",
    "    mluvi = []\n",
    "\n",
    "    for item_detail in item_details:\n",
    "        \n",
    "        if \"Hrají\" in item_detail.find(\"h2\").text:\n",
    "            divs = item_detail.find_all(class_=\"credit-item\")\n",
    "            hraji = []\n",
    "            postavy = []\n",
    "            \n",
    "            for div in divs:\n",
    "                jmeno = jmeno_nejmeno(div) \n",
    "                hraji.append(jmeno)\n",
    "                if div.find(\"p\"):\n",
    "                    role = div.find(\"p\").text\n",
    "                    if div.find(\"p\").find(\"a\"):\n",
    "                        role = role.replace(div.find(\"p\").find(\"a\").text,\"\")\n",
    "                        mluvi.append(id_persony(div.find(\"a\")[\"href\"]))\n",
    "                    if div.find(\"p\").find(\"span\"):\n",
    "                        role = role.replace(div.find(\"p\").find(\"span\").text,\"\")\n",
    "                    postavy.append(role.strip())\n",
    "            atributy[\"Hrají\"] = hraji\n",
    "            atributy[\"Postavy\"] = postavy\n",
    "            \n",
    "        if \"Mluví\" in item_detail.find(\"h2\").text:\n",
    "            divs = item_detail.find_all(class_=\"credit-item\")\n",
    "            for div in divs:\n",
    "                jmeno = jmeno_nejmeno(div)\n",
    "                mluvi.append(jmeno)\n",
    "            \n",
    "        if mluvi:\n",
    "            atributy[\"Mluví\"] = mluvi\n",
    "            \n",
    "        if \"Komentář\" in item_detail.find(\"h2\").text:\n",
    "            komentar = []\n",
    "            divs = item_detail.find_all(class_=\"credit-item\")\n",
    "            for div in divs:\n",
    "                jmeno = jmeno_nejmeno(div)\n",
    "                komentar.append(jmeno)\n",
    "            atributy[\"Komentář\"] = komentar\n",
    "\n",
    "        if \"Účinkují\" in item_detail.find(\"h2\").text:\n",
    "            ucinkuji = []\n",
    "            divs = item_detail.find_all(class_=\"credit-item\")\n",
    "            for div in divs:\n",
    "                try:\n",
    "                    jmeno = id_persony(div.find(\"a\")[\"href\"])\n",
    "                except:\n",
    "                    jmeno = div.find(\"h3\").text \n",
    "                ucinkuji.append(jmeno)\n",
    "            atributy[\"Účinkují\"] = ucinkuji\n",
    "            \n",
    "        if \"Štáb a tvůrci\" in item_detail.find(\"h2\").text:\n",
    "            divs = item_detail.find_all(class_='credit-item')\n",
    "            for div in divs:\n",
    "                jmena_v_odkazech = []\n",
    "                odkazy = div.find_all(\"a\")\n",
    "                for o in odkazy:\n",
    "                    jmena_v_odkazech.append(o.text.strip())\n",
    "                jmena_vsude = div.find(\"p\").text.strip().split(\",\")\n",
    "                jmena_vsude = [j.replace(\", \",\"\") for j in jmena_vsude if j]\n",
    "                jmena_mimo_odkazy = [j.strip() for j in jmena_vsude if j.strip() not in jmena_v_odkazech]\n",
    "                ids = [id_persony(o[\"href\"]) for o in odkazy]\n",
    "                if not ids:\n",
    "                    ids = []\n",
    "                if not jmena_mimo_odkazy:\n",
    "                    jmena_mimo_odkazy = []\n",
    "                divs_text.append(f\"\"\"{div.find(\"h3\").text} {(\", \".join(ids))}, {(\", \").join(jmena_mimo_odkazy)}\"\"\")\n",
    "                            \n",
    "            pridej_atributy(atributy, kredity, divs_text)\n",
    "            \n",
    "        if \"Technické údaje\" in item_detail.find(\"h2\").text or \"Produkční údaje\" in item_detail.find(\"h2\").text:\n",
    "            divs = item_detail.find_all('div')\n",
    "            for div in divs:\n",
    "                if div.find(\"h3\"):\n",
    "                    if div.find(\"p\"):\n",
    "                        if div.find(\"h3\").text.strip() == \"Zvuk\":\n",
    "                            atributy[\"Zvukový\"] = div.find(\"p\").text.strip()\n",
    "                        else:\n",
    "                            atributy[div.find(\"h3\").text.strip()] = div.find(\"p\").text.strip()\n",
    "                        if \"Žánr\" in div.find(\"h3\").text:\n",
    "                            zanry = [z.strip() for z in div.find(\"p\").text.split(\",\")]\n",
    "                            zanry = \", \".join(zanry)\n",
    "                            atributy[div.find(\"h3\").text.strip()] = zanry\n",
    "                        if div.find(class_=\"comma\"):\n",
    "                                atributy[div.find(\"h3\").text.strip()] = \", \".join([s.text.strip() for s in div.find_all(class_=\"comma\")])\n",
    "                        if div.find(\"h3\").text.strip() in [\"Výrobce\",\"S podporou\",\"Nositelé copyrightu\",\"Distribuce\"]:\n",
    "                            odkazy = div.find_all(\"a\")\n",
    "                            jmena_v_odkazech = [id_persony(o[\"href\"]) for o in odkazy]\n",
    "                            atributy[div.find(\"h3\").text.strip()] = jmena_v_odkazech\n",
    "                        \n",
    "        if \"Písně\" in item_detail.find(\"h2\").text:\n",
    "            pisne = item_detail.find_all('h3')\n",
    "            pisne = [pisen.text.strip() for pisen in pisne]\n",
    "            atributy[\"Písně\"] = pisne\n",
    "            atributy[\"Hudba, text a zpěv písně\"] = [id_persony(a[\"href\"]) for a in item_detail.find_all(\"a\")]\n",
    "            \n",
    "        if \"Lokace\" in item_detail.find(\"h2\").text:\n",
    "            lokace = item_detail.find('p')\n",
    "            atributy[\"Lokace\"] = lokace.text.strip()\n",
    "\n",
    "        if \"Ocenění\" in item_detail.find(\"h2\").text:\n",
    "            oceneni = item_detail.find_all(class_=\"col-md-3\")\n",
    "            oceneni = [cena.text.strip() for cena in oceneni]\n",
    "            atributy[\"Ocenění\"] = oceneni\n",
    "            \n",
    "        if \"Hudba\" in item_detail.find(\"h2\").text:\n",
    "            divs = item_detail.find_all('div')\n",
    "            for div in divs:\n",
    "                atributy[div.find(\"h3\").text] = [id_persony(a[\"href\"]) for a in div.find_all(\"a\")]\n",
    "            \n",
    "    item_details = soup.find_all(class_='film-description')\n",
    "    \n",
    "    for item_detail in item_details:\n",
    "    \n",
    "        if \"Anotace\" in item_detail.find(\"h2\").text:\n",
    "            atributy[\"Anotace\"] = item_detail.find('p').text.strip()\n",
    "            \n",
    "        if \"Obsah\" in item_detail.find(\"h2\").text:\n",
    "            atributy[\"Obsah\"] = item_detail.find('p').text.strip()\n",
    "        \n",
    "        if \"Poznámka\" in item_detail.find(\"h2\").text:\n",
    "            atributy[\"Poznámka\"] = item_detail.find('p').text.strip()\n",
    "        \n",
    "    return(atributy)"
   ]
  },
  {
   "cell_type": "markdown",
   "id": "b546750d",
   "metadata": {},
   "source": [
    "## Test"
   ]
  },
  {
   "cell_type": "code",
   "execution_count": null,
   "id": "f991ea0a",
   "metadata": {},
   "outputs": [],
   "source": [
    "scrape_film(slozka, \"401929-skleneny-pokoj.html\")"
   ]
  },
  {
   "cell_type": "code",
   "execution_count": null,
   "id": "1d16cf76",
   "metadata": {},
   "outputs": [],
   "source": [
    "scrape_film(slozka, \"395251-manzele-pani-mileny.html\")"
   ]
  },
  {
   "cell_type": "code",
   "execution_count": null,
   "id": "87d744c5",
   "metadata": {},
   "outputs": [],
   "source": [
    "zeny"
   ]
  },
  {
   "cell_type": "markdown",
   "id": "76defbbd",
   "metadata": {},
   "source": [
    "## Konečně DataFrame"
   ]
  },
  {
   "cell_type": "code",
   "execution_count": null,
   "id": "61bff373",
   "metadata": {},
   "outputs": [],
   "source": [
    "import pandas as pd"
   ]
  },
  {
   "cell_type": "code",
   "execution_count": null,
   "id": "f79b3660",
   "metadata": {},
   "outputs": [],
   "source": [
    "kolik = None"
   ]
  },
  {
   "cell_type": "code",
   "execution_count": null,
   "id": "a271ca1a",
   "metadata": {},
   "outputs": [],
   "source": [
    "def frejm(slozka):\n",
    "    df = pd.DataFrame()\n",
    "    total = len(seznam_souboru(slozka)[:kolik])\n",
    "    count = 0\n",
    "    for s in seznam_souboru(slozka)[:kolik]:\n",
    "        count = count + 1\n",
    "        print(f\"{count} / {total} / {s}\")\n",
    "        line = pd.DataFrame.from_dict([scrape_film(slozka, s)])\n",
    "        df = pd.concat([df, line])\n",
    "    df = df.reset_index(drop = True)\n",
    "    return(df)"
   ]
  },
  {
   "cell_type": "code",
   "execution_count": null,
   "id": "16dccc8a",
   "metadata": {
    "scrolled": false
   },
   "outputs": [],
   "source": [
    "df = frejm(\"filmy\")\n",
    "df"
   ]
  },
  {
   "cell_type": "code",
   "execution_count": null,
   "id": "21b29ffd",
   "metadata": {},
   "outputs": [],
   "source": [
    "df[\"Asistent vedoucího produkce\"].drop_duplicates().to_list()"
   ]
  },
  {
   "cell_type": "code",
   "execution_count": null,
   "id": "12557251",
   "metadata": {},
   "outputs": [],
   "source": [
    "df.columns"
   ]
  },
  {
   "cell_type": "markdown",
   "id": "51d16c4a",
   "metadata": {},
   "source": [
    "## Export"
   ]
  },
  {
   "cell_type": "code",
   "execution_count": null,
   "id": "d0abf466",
   "metadata": {},
   "outputs": [],
   "source": [
    "with open(os.path.join(\"data_fixes\", \"zeny.json\"), \"w+\", encoding=\"utf-8\") as zeny_soubor:\n",
    "    json.dump(zeny, zeny_soubor)"
   ]
  },
  {
   "cell_type": "code",
   "execution_count": null,
   "id": "f701a137",
   "metadata": {},
   "outputs": [],
   "source": [
    "df.to_json(os.path.join(\"data\", \"filmy_raw.json\"), orient=\"records\")"
   ]
  },
  {
   "cell_type": "code",
   "execution_count": null,
   "id": "b62f4db1",
   "metadata": {},
   "outputs": [],
   "source": [
    "print(datetime.now().strftime(\"%Y/%m/%d %H:%M:%S\"))"
   ]
  }
 ],
 "metadata": {
  "kernelspec": {
   "display_name": "Python 3 (ipykernel)",
   "language": "python",
   "name": "python3"
  },
  "language_info": {
   "codemirror_mode": {
    "name": "ipython",
    "version": 3
   },
   "file_extension": ".py",
   "mimetype": "text/x-python",
   "name": "python",
   "nbconvert_exporter": "python",
   "pygments_lexer": "ipython3",
   "version": "3.11.5"
  }
 },
 "nbformat": 4,
 "nbformat_minor": 5
}
