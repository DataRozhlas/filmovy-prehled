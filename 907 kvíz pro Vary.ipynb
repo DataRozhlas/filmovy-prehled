{
 "cells": [
  {
   "cell_type": "code",
   "execution_count": 20,
   "id": "87fadf55",
   "metadata": {
    "scrolled": true
   },
   "outputs": [
    {
     "name": "stdout",
     "output_type": "stream",
     "text": [
      "2023/06/30 12:18:08 z 4555 řádků odstraněno 133. Aktuální dataframe má 4422 řádků.\n"
     ]
    }
   ],
   "source": [
    "import os\n",
    "import json\n",
    "import pandas as pd\n",
    "from src.gender import gender\n",
    "from src.vycisti import vycisti\n",
    "from src.tabulka import tabulka\n",
    "pd.set_option('display.max_columns', None)\n",
    "with open(os.path.join(\"data_fixes\", \"opravy.json\"), encoding=\"utf-8\") as opravy:\n",
    "    opravy = json.loads(opravy.read())\n",
    "with open(os.path.join(\"data_fixes\", \"seznamy.json\"), encoding=\"utf-8\") as seznamy:\n",
    "    seznamy = json.loads(seznamy.read())\n",
    "with open(os.path.join(\"data_fixes\", \"zeny.json\"), encoding=\"utf-8\") as zeny:\n",
    "    zeny = json.loads(zeny.read())\n",
    "with open(os.path.join(\"data_fixes\", \"nelide.json\"), encoding=\"utf-8\") as nelide:\n",
    "    nelide = json.loads(nelide.read())\n",
    "df = vycisti(pd.read_json(os.path.join(\"data\", \"filmy.json\")),opravy)\n",
    "hcf = df[df[\"Délka\"] == \"dlouhometrážní\"].explode(\"Typologie\")\n",
    "hcf = hcf[hcf[\"Typologie\"] == \"hraný\"]"
   ]
  },
  {
   "cell_type": "code",
   "execution_count": 21,
   "id": "8ca9d146",
   "metadata": {},
   "outputs": [
    {
     "data": {
      "text/plain": [
       "Komentář\n",
       "Karel Höger (38146)          24\n",
       "Otakar Brousek st. (3390)    18\n",
       "Václav Voska (76149)         16\n",
       "Jan Werich (1287)            15\n",
       "Antonín Zíb (99716)          14\n",
       "Name: Film, dtype: int64"
      ]
     },
     "execution_count": 21,
     "metadata": {},
     "output_type": "execute_result"
    }
   ],
   "source": [
    "vypraveci = df.explode(\"Komentář\")\n",
    "vypraveci.groupby(\"Komentář\")[\"Film\"].nunique().nlargest()"
   ]
  },
  {
   "cell_type": "code",
   "execution_count": 22,
   "id": "34f39407",
   "metadata": {
    "scrolled": true
   },
   "outputs": [
    {
     "data": {
      "text/html": [
       "<div>\n",
       "<style scoped>\n",
       "    .dataframe tbody tr th:only-of-type {\n",
       "        vertical-align: middle;\n",
       "    }\n",
       "\n",
       "    .dataframe tbody tr th {\n",
       "        vertical-align: top;\n",
       "    }\n",
       "\n",
       "    .dataframe thead th {\n",
       "        text-align: right;\n",
       "    }\n",
       "</style>\n",
       "<table border=\"1\" class=\"dataframe\">\n",
       "  <thead>\n",
       "    <tr style=\"text-align: right;\">\n",
       "      <th></th>\n",
       "      <th>Film</th>\n",
       "      <th>Copyright</th>\n",
       "    </tr>\n",
       "  </thead>\n",
       "  <tbody>\n",
       "    <tr>\n",
       "      <th>983</th>\n",
       "      <td>Čtyři lidé – jedna řeč (395857)</td>\n",
       "      <td>1939</td>\n",
       "    </tr>\n",
       "    <tr>\n",
       "      <th>1322</th>\n",
       "      <td>Staré pověsti české (398728)</td>\n",
       "      <td>1952</td>\n",
       "    </tr>\n",
       "    <tr>\n",
       "      <th>1327</th>\n",
       "      <td>Červené tulipány (396158)</td>\n",
       "      <td>1952</td>\n",
       "    </tr>\n",
       "    <tr>\n",
       "      <th>1352</th>\n",
       "      <td>Večery s Jindřichem Plachtou (402135)</td>\n",
       "      <td>1953</td>\n",
       "    </tr>\n",
       "    <tr>\n",
       "      <th>1375</th>\n",
       "      <td>Matúš (396160)</td>\n",
       "      <td>1953</td>\n",
       "    </tr>\n",
       "    <tr>\n",
       "      <th>1390</th>\n",
       "      <td>Stříbrný vítr (396183)</td>\n",
       "      <td>1954</td>\n",
       "    </tr>\n",
       "    <tr>\n",
       "      <th>1391</th>\n",
       "      <td>Dny a noci (396181)</td>\n",
       "      <td>1954</td>\n",
       "    </tr>\n",
       "    <tr>\n",
       "      <th>1397</th>\n",
       "      <td>Cesta vede do Tibetu (401846)</td>\n",
       "      <td>1954</td>\n",
       "    </tr>\n",
       "    <tr>\n",
       "      <th>1462</th>\n",
       "      <td>Dědeček automobil (396265)</td>\n",
       "      <td>1956</td>\n",
       "    </tr>\n",
       "    <tr>\n",
       "      <th>1498</th>\n",
       "      <td>Pasáček vepřů (398789)</td>\n",
       "      <td>1957</td>\n",
       "    </tr>\n",
       "    <tr>\n",
       "      <th>1510</th>\n",
       "      <td>Schůzka o půl čtvrté... (396276)</td>\n",
       "      <td>1957</td>\n",
       "    </tr>\n",
       "    <tr>\n",
       "      <th>1539</th>\n",
       "      <td>Hry a sny (396335)</td>\n",
       "      <td>1958</td>\n",
       "    </tr>\n",
       "    <tr>\n",
       "      <th>1624</th>\n",
       "      <td>Psí pohádka (398818)</td>\n",
       "      <td>1959</td>\n",
       "    </tr>\n",
       "    <tr>\n",
       "      <th>1637</th>\n",
       "      <td>Vláček Kolejáček (398824)</td>\n",
       "      <td>1959</td>\n",
       "    </tr>\n",
       "    <tr>\n",
       "      <th>1648</th>\n",
       "      <td>Jak se chovati? (396422)</td>\n",
       "      <td>1960</td>\n",
       "    </tr>\n",
       "    <tr>\n",
       "      <th>1678</th>\n",
       "      <td>Národní umělec Zdeněk Štěpánek (401972)</td>\n",
       "      <td>1960</td>\n",
       "    </tr>\n",
       "    <tr>\n",
       "      <th>1724</th>\n",
       "      <td>Václavské náměstí (401906)</td>\n",
       "      <td>1961</td>\n",
       "    </tr>\n",
       "    <tr>\n",
       "      <th>1736</th>\n",
       "      <td>Florián (396458)</td>\n",
       "      <td>1961</td>\n",
       "    </tr>\n",
       "    <tr>\n",
       "      <th>1740</th>\n",
       "      <td>Pošťácká pohádka (398877)</td>\n",
       "      <td>1961</td>\n",
       "    </tr>\n",
       "    <tr>\n",
       "      <th>1821</th>\n",
       "      <td>Doktorská pohádka (398913)</td>\n",
       "      <td>1963</td>\n",
       "    </tr>\n",
       "    <tr>\n",
       "      <th>1884</th>\n",
       "      <td>Loupežnická pohádka (398955)</td>\n",
       "      <td>1964</td>\n",
       "    </tr>\n",
       "    <tr>\n",
       "      <th>1907</th>\n",
       "      <td>Fuga na černých klávesách (396566)</td>\n",
       "      <td>1964</td>\n",
       "    </tr>\n",
       "    <tr>\n",
       "      <th>1959</th>\n",
       "      <td>Otýlie a 1580 kaněk (399001)</td>\n",
       "      <td>1965</td>\n",
       "    </tr>\n",
       "    <tr>\n",
       "      <th>2396</th>\n",
       "      <td>Třicet panen a Pythagoras (396982)</td>\n",
       "      <td>1973</td>\n",
       "    </tr>\n",
       "  </tbody>\n",
       "</table>\n",
       "</div>"
      ],
      "text/plain": [
       "                                         Film  Copyright\n",
       "983           Čtyři lidé – jedna řeč (395857)       1939\n",
       "1322             Staré pověsti české (398728)       1952\n",
       "1327                Červené tulipány (396158)       1952\n",
       "1352    Večery s Jindřichem Plachtou (402135)       1953\n",
       "1375                           Matúš (396160)       1953\n",
       "1390                   Stříbrný vítr (396183)       1954\n",
       "1391                      Dny a noci (396181)       1954\n",
       "1397            Cesta vede do Tibetu (401846)       1954\n",
       "1462               Dědeček automobil (396265)       1956\n",
       "1498                   Pasáček vepřů (398789)       1957\n",
       "1510         Schůzka o půl čtvrté... (396276)       1957\n",
       "1539                       Hry a sny (396335)       1958\n",
       "1624                     Psí pohádka (398818)       1959\n",
       "1637                Vláček Kolejáček (398824)       1959\n",
       "1648                 Jak se chovati? (396422)       1960\n",
       "1678  Národní umělec Zdeněk Štěpánek (401972)       1960\n",
       "1724               Václavské náměstí (401906)       1961\n",
       "1736                         Florián (396458)       1961\n",
       "1740                Pošťácká pohádka (398877)       1961\n",
       "1821               Doktorská pohádka (398913)       1963\n",
       "1884             Loupežnická pohádka (398955)       1964\n",
       "1907       Fuga na černých klávesách (396566)       1964\n",
       "1959             Otýlie a 1580 kaněk (399001)       1965\n",
       "2396       Třicet panen a Pythagoras (396982)       1973"
      ]
     },
     "execution_count": 22,
     "metadata": {},
     "output_type": "execute_result"
    }
   ],
   "source": [
    "vypraveci[vypraveci[\"Komentář\"] == \"Karel Höger (38146)\"][[\"Film\",\"Copyright\"]].drop_duplicates()"
   ]
  },
  {
   "cell_type": "code",
   "execution_count": 23,
   "id": "167d14be",
   "metadata": {},
   "outputs": [],
   "source": [
    "hraji_zanry = df[[\"Film\",\"Žánr\",\"Hrají\"]].explode(\"Žánr\").explode(\"Hrají\")"
   ]
  },
  {
   "cell_type": "code",
   "execution_count": 24,
   "id": "75570bd7",
   "metadata": {},
   "outputs": [
    {
     "data": {
      "text/plain": [
       "Hrají\n",
       "Jiří Pomeje (3876)           3\n",
       "Martina Adamcová (28466)     3\n",
       "Bronislav Poloczek (2877)    2\n",
       "Dana Homolová (8258)         2\n",
       "Josef Bradna (84075)         2\n",
       "Josef Nedorost (6137)        2\n",
       "Karel Brožek (75976)         2\n",
       "Kateřina Hubálková           2\n",
       "Lenka Blažejová (76296)      2\n",
       "Michaela Kuklová (3313)      2\n",
       "Oldřich Vízner (8257)        2\n",
       "Slávek Boura                 2\n",
       "Adam Jánošík (19613)         1\n",
       "Andrea Bogušovská (8227)     1\n",
       "Andrea Vrbovská (19617)      1\n",
       "Beata Greneche (19609)       1\n",
       "Blanka Lormanová (14388)     1\n",
       "Dagmar Bláhová (2533)        1\n",
       "Dana Syslová (52427)         1\n",
       "Daniel Margolius (12948)     1\n",
       "Name: Film, dtype: int64"
      ]
     },
     "execution_count": 24,
     "metadata": {},
     "output_type": "execute_result"
    }
   ],
   "source": [
    "hraji_zanry[hraji_zanry[\"Žánr\"] == \"erotický\"].groupby(\"Hrají\")[\"Film\"].nunique().nlargest(20)"
   ]
  },
  {
   "cell_type": "code",
   "execution_count": 25,
   "id": "85523fe6",
   "metadata": {},
   "outputs": [
    {
     "data": {
      "text/html": [
       "<div>\n",
       "<style scoped>\n",
       "    .dataframe tbody tr th:only-of-type {\n",
       "        vertical-align: middle;\n",
       "    }\n",
       "\n",
       "    .dataframe tbody tr th {\n",
       "        vertical-align: top;\n",
       "    }\n",
       "\n",
       "    .dataframe thead th {\n",
       "        text-align: right;\n",
       "    }\n",
       "</style>\n",
       "<table border=\"1\" class=\"dataframe\">\n",
       "  <thead>\n",
       "    <tr style=\"text-align: right;\">\n",
       "      <th></th>\n",
       "      <th>Film</th>\n",
       "      <th>Copyright</th>\n",
       "    </tr>\n",
       "  </thead>\n",
       "  <tbody>\n",
       "    <tr>\n",
       "      <th>331</th>\n",
       "      <td>Sextánka (395418)</td>\n",
       "      <td>1927</td>\n",
       "    </tr>\n",
       "    <tr>\n",
       "      <th>797</th>\n",
       "      <td>Sextánka (395725)</td>\n",
       "      <td>1936</td>\n",
       "    </tr>\n",
       "    <tr>\n",
       "      <th>3032</th>\n",
       "      <td>Co všechno chcete vědět o sexu a bojíte se to ...</td>\n",
       "      <td>1988</td>\n",
       "    </tr>\n",
       "    <tr>\n",
       "      <th>3642</th>\n",
       "      <td>O sexu (66095)</td>\n",
       "      <td>2008</td>\n",
       "    </tr>\n",
       "  </tbody>\n",
       "</table>\n",
       "</div>"
      ],
      "text/plain": [
       "                                                   Film  Copyright\n",
       "331                                   Sextánka (395418)       1927\n",
       "797                                   Sextánka (395725)       1936\n",
       "3032  Co všechno chcete vědět o sexu a bojíte se to ...       1988\n",
       "3642                                     O sexu (66095)       2008"
      ]
     },
     "execution_count": 25,
     "metadata": {},
     "output_type": "execute_result"
    }
   ],
   "source": [
    "df[df[\"Film\"].str.lower().str.contains(\"sex\")][[\"Film\",\"Copyright\"]]"
   ]
  },
  {
   "cell_type": "code",
   "execution_count": 26,
   "id": "acc6027a",
   "metadata": {},
   "outputs": [],
   "source": [
    "hraji = df.explode(\"Hrají\")"
   ]
  },
  {
   "cell_type": "code",
   "execution_count": 27,
   "id": "f6b3c254",
   "metadata": {},
   "outputs": [
    {
     "data": {
      "text/plain": [
       "1"
      ]
     },
     "execution_count": 27,
     "metadata": {},
     "output_type": "execute_result"
    }
   ],
   "source": [
    "hraji[hraji[\"Hrají\"].str.lower().str.contains(\"goril\",na=False)][\"Film\"].nunique()"
   ]
  },
  {
   "cell_type": "code",
   "execution_count": 28,
   "id": "a83fd27e",
   "metadata": {},
   "outputs": [
    {
     "data": {
      "text/plain": [
       "5"
      ]
     },
     "execution_count": 28,
     "metadata": {},
     "output_type": "execute_result"
    }
   ],
   "source": [
    "hraji[hraji[\"Hrají\"].str.lower().str.contains(\"šimpanz\",na=False)][\"Film\"].nunique()"
   ]
  },
  {
   "cell_type": "code",
   "execution_count": 29,
   "id": "a2d545ce",
   "metadata": {},
   "outputs": [
    {
     "data": {
      "text/plain": [
       "2042                 Jak Sammy o kalhoty přišel (396669)\n",
       "2050                   Slavný chirurg Dr. Sammy (396677)\n",
       "2322                       6 medvědů s Cibulkou (396956)\n",
       "2526    Terezu bych kvůli žádné holce neopustil (397103)\n",
       "2562                       Hop – a je tu lidoop (397162)\n",
       "2562                       Hop – a je tu lidoop (397162)\n",
       "Name: Film, dtype: object"
      ]
     },
     "execution_count": 29,
     "metadata": {},
     "output_type": "execute_result"
    }
   ],
   "source": [
    "hraji[hraji[\"Hrají\"].str.lower().str.contains(\"šimpanz\",na=False)][\"Film\"]"
   ]
  },
  {
   "cell_type": "code",
   "execution_count": 30,
   "id": "3ee174c5",
   "metadata": {},
   "outputs": [
    {
     "data": {
      "text/plain": [
       "2"
      ]
     },
     "execution_count": 30,
     "metadata": {},
     "output_type": "execute_result"
    }
   ],
   "source": [
    "hraji[hraji[\"Hrají\"].str.lower().str.contains(\"krkave\",na=False)][\"Film\"].nunique()"
   ]
  },
  {
   "cell_type": "code",
   "execution_count": 31,
   "id": "aa34bd72",
   "metadata": {},
   "outputs": [
    {
     "data": {
      "text/plain": [
       "3"
      ]
     },
     "execution_count": 31,
     "metadata": {},
     "output_type": "execute_result"
    }
   ],
   "source": [
    "hraji[hraji[\"Hrají\"].str.lower().str.contains(\"medvěd\",na=False)][\"Film\"].nunique()"
   ]
  },
  {
   "cell_type": "code",
   "execution_count": 32,
   "id": "1fc96cd4",
   "metadata": {},
   "outputs": [
    {
     "data": {
      "text/plain": [
       "600       medvěd Viola\n",
       "2322      medvěd Valoš\n",
       "2322       medvěd Máša\n",
       "2322       medvěd Máňa\n",
       "2322     medvěd Regina\n",
       "2322      medvěd Džony\n",
       "2322      medvěd Ilona\n",
       "3373    medvědice Dáša\n",
       "Name: Hrají, dtype: object"
      ]
     },
     "execution_count": 32,
     "metadata": {},
     "output_type": "execute_result"
    }
   ],
   "source": [
    "hraji[hraji[\"Hrají\"].str.lower().str.contains(\"medvěd\",na=False)][\"Hrají\"]"
   ]
  },
  {
   "cell_type": "code",
   "execution_count": 33,
   "id": "3ab87ce9",
   "metadata": {},
   "outputs": [
    {
     "data": {
      "text/plain": [
       "['Zlatá žena (395232)',\n",
       " 'Nepočestná žena (395509)',\n",
       " 'Žena, která se směje (395526)',\n",
       " 'Žena, která ví co chce (395636)',\n",
       " 'Žena na rozcestí (395753)',\n",
       " 'Žena pod křížem (395754)',\n",
       " 'Výdělečné ženy (395758)',\n",
       " 'Ženy u benzinu (395865)',\n",
       " 'Provdám svou ženu (395948)',\n",
       " 'Slovo dělá ženu (396142)',\n",
       " 'Co řekne žena... (396340)',\n",
       " 'Strašná žena (396633)',\n",
       " 'Jak se koupe žena (396626)',\n",
       " 'Ženu ani květinou neuhodíš (396681)',\n",
       " 'Ženy v ofsajdu (396910)',\n",
       " 'Aféry mé ženy (396959)',\n",
       " 'V každém pokoji žena (397043)',\n",
       " 'Žena pro tři muže (397255)',\n",
       " 'Oldřich a Božena (397442)',\n",
       " 'Ženy pro měny (31166)',\n",
       " 'Román pro ženy (36598)',\n",
       " 'Ženy mého muže (57023)',\n",
       " 'Ženy v pokušení (151461)',\n",
       " 'Zoufalé ženy dělají zoufalé věci (401729)',\n",
       " 'Ženy v běhu (401853)']"
      ]
     },
     "execution_count": 33,
     "metadata": {},
     "output_type": "execute_result"
    }
   ],
   "source": [
    "df[df[\"Film\"].str.lower().str.contains(\"žen[auěyo]\",regex=True,na=False)][\"Film\"].drop_duplicates().to_list()"
   ]
  },
  {
   "cell_type": "code",
   "execution_count": 34,
   "id": "b86aab9c",
   "metadata": {},
   "outputs": [
    {
     "data": {
      "text/plain": [
       "25"
      ]
     },
     "execution_count": 34,
     "metadata": {},
     "output_type": "execute_result"
    }
   ],
   "source": [
    "len(df[df[\"Film\"].str.lower().str.contains(\"žen[auěyo]\",regex=True,na=False)][\"Film\"].drop_duplicates().to_list())"
   ]
  },
  {
   "cell_type": "code",
   "execution_count": 35,
   "id": "b366f097",
   "metadata": {},
   "outputs": [
    {
     "data": {
      "text/plain": [
       "['Svěcení základního kamene jubilejního kostela sv. Antonína v Praze VII. (401708)',\n",
       " 'Kreslený trikfilm podle orig. obalů mýdla a sice Oxydont, Jass, Lanol, Mýdlo v kostce (398517)',\n",
       " 'Maličkost (395985)',\n",
       " 'Slepice a kostelník (396120)',\n",
       " 'Kostelník (401818)',\n",
       " 'Síla lidskosti – Nicholas Winton (15871)',\n",
       " 'Absence blízkosti (401273)']"
      ]
     },
     "execution_count": 35,
     "metadata": {},
     "output_type": "execute_result"
    }
   ],
   "source": [
    "df[df[\"Film\"].str.lower().str.contains(\"kost\",regex=True,na=False)][\"Film\"].drop_duplicates().to_list()"
   ]
  },
  {
   "cell_type": "code",
   "execution_count": 36,
   "id": "f6c6568c",
   "metadata": {},
   "outputs": [
    {
     "data": {
      "text/plain": [
       "['Rytíř Bledé růže (395265)',\n",
       " 'Divoká růže (395310)',\n",
       " 'Sněhová Růženka (395301)',\n",
       " 'Šípková Růženka (398542)',\n",
       " 'Z růže kvítek (396004)',\n",
       " 'Poslední růže od Casanovy (396692)',\n",
       " 'Slaná růže (397361)',\n",
       " 'Růže pro Algernon (397537)',\n",
       " 'Kawasakiho růže (118281)']"
      ]
     },
     "execution_count": 36,
     "metadata": {},
     "output_type": "execute_result"
    }
   ],
   "source": [
    "df[df[\"Film\"].str.lower().str.contains(\"růže\",regex=True,na=False)][\"Film\"].drop_duplicates().to_list()"
   ]
  },
  {
   "cell_type": "code",
   "execution_count": 37,
   "id": "55a507f5",
   "metadata": {},
   "outputs": [
    {
     "name": "stderr",
     "output_type": "stream",
     "text": [
      "C:\\Users\\micha\\AppData\\Local\\Temp\\ipykernel_9736\\2144591843.py:1: UserWarning: This pattern is interpreted as a regular expression, and has match groups. To actually get the groups, use str.extract.\n",
      "  df[df[\"Film\"].str.lower().str.contains(\"pís(eň|ní|ni)\",regex=True,na=False)][\"Film\"].drop_duplicates().to_list()\n"
     ]
    },
    {
     "data": {
      "text/plain": [
       "['Píseň lásky (395198)',\n",
       " 'Píseň života (395340)',\n",
       " 'Píseň o velké lásce (395567)',\n",
       " 'Písničkář (395566)',\n",
       " 'Srdce za písničku (395620)',\n",
       " 'Píseň pro všechny (398541)',\n",
       " 'Skřivánčí píseň (395598)',\n",
       " 'Nová píseň (395681)',\n",
       " 'Píseň drožkáře (395714)',\n",
       " 'Jarní písnička (395793)',\n",
       " 'Píseň podzimu (398592)',\n",
       " 'Písní k srdci (395895)',\n",
       " 'Píseň lásky (395912)',\n",
       " 'Jarní píseň (395996)',\n",
       " 'Písnička za groš (396150)',\n",
       " 'Věneček písní (398758)',\n",
       " 'Lev a písnička (398809)',\n",
       " 'Otrhaná písnička (400435)',\n",
       " 'Ta naše písnička česká (396724)',\n",
       " 'Píseň o stromu a růži (397194)',\n",
       " 'Píseň nemilovaného (402178)',\n",
       " 'Pějme píseň dohola (397668)',\n",
       " 'Ta naše písnička česká II (397682)']"
      ]
     },
     "execution_count": 37,
     "metadata": {},
     "output_type": "execute_result"
    }
   ],
   "source": [
    "df[df[\"Film\"].str.lower().str.contains(\"pís(eň|ní|ni)\",regex=True,na=False)][\"Film\"].drop_duplicates().to_list()"
   ]
  },
  {
   "cell_type": "code",
   "execution_count": 38,
   "id": "2f018825",
   "metadata": {},
   "outputs": [
    {
     "name": "stderr",
     "output_type": "stream",
     "text": [
      "C:\\Users\\micha\\AppData\\Local\\Temp\\ipykernel_9736\\4083951922.py:1: UserWarning: This pattern is interpreted as a regular expression, and has match groups. To actually get the groups, use str.extract.\n",
      "  len(df[df[\"Film\"].str.lower().str.contains(\"pís(eň|ní|ni)\",regex=True,na=False)][\"Film\"].drop_duplicates().to_list())\n"
     ]
    },
    {
     "data": {
      "text/plain": [
       "23"
      ]
     },
     "execution_count": 38,
     "metadata": {},
     "output_type": "execute_result"
    }
   ],
   "source": [
    "len(df[df[\"Film\"].str.lower().str.contains(\"pís(eň|ní|ni)\",regex=True,na=False)][\"Film\"].drop_duplicates().to_list())"
   ]
  },
  {
   "cell_type": "code",
   "execution_count": 39,
   "id": "88f51a90",
   "metadata": {},
   "outputs": [
    {
     "data": {
      "text/plain": [
       "Index(['Film', 'Země původu', 'Copyright', 'Rok výroby', 'Premiéra', 'Minutáž',\n",
       "       'Režie', 'Kategorie', 'Žánr', 'Typologie',\n",
       "       ...\n",
       "       'Zákazník', 'Vývozní společnost', 'Umělecké vedení', 'Zpěv role',\n",
       "       'Překlad české verze', 'Rychlost', 'Přístupnost', 'cyklus',\n",
       "       'Začátek výroby', 'Konec výroby'],\n",
       "      dtype='object', length=133)"
      ]
     },
     "execution_count": 39,
     "metadata": {},
     "output_type": "execute_result"
    }
   ],
   "source": [
    "df.columns"
   ]
  },
  {
   "cell_type": "markdown",
   "id": "e8b1c49d",
   "metadata": {},
   "source": [
    "## Extra pro Suchana"
   ]
  },
  {
   "cell_type": "code",
   "execution_count": 41,
   "id": "27ccf85f",
   "metadata": {},
   "outputs": [],
   "source": [
    "profese = seznamy[\"profese\"]"
   ]
  },
  {
   "cell_type": "code",
   "execution_count": 43,
   "id": "6809734e",
   "metadata": {},
   "outputs": [],
   "source": [
    "def plose_jednoduse(x):\n",
    "    seznam = []\n",
    "    for y in x:\n",
    "        if y == None:\n",
    "            pass\n",
    "        if isinstance(y, str):\n",
    "            if y not in seznam:\n",
    "                seznam.append(y)\n",
    "        if isinstance(y, list):\n",
    "            for z in y:\n",
    "                if z not in seznam:\n",
    "                    seznam.append(z)\n",
    "    return(seznam)"
   ]
  },
  {
   "cell_type": "code",
   "execution_count": 44,
   "id": "ab38c048",
   "metadata": {},
   "outputs": [],
   "source": [
    "df[\"Lidé\"] = df[profese].values.tolist()\n",
    "df[\"Lidé\"] = df[\"Lidé\"].apply(lambda x: plose_jednoduse(x))"
   ]
  },
  {
   "cell_type": "code",
   "execution_count": 45,
   "id": "839ad706",
   "metadata": {},
   "outputs": [],
   "source": [
    "lidotabulka = df[[\"Film\",\"Lidé\"]].explode(\"Lidé\")"
   ]
  },
  {
   "cell_type": "code",
   "execution_count": 46,
   "id": "e2daa737",
   "metadata": {},
   "outputs": [
    {
     "data": {
      "text/html": [
       "<div>\n",
       "<style scoped>\n",
       "    .dataframe tbody tr th:only-of-type {\n",
       "        vertical-align: middle;\n",
       "    }\n",
       "\n",
       "    .dataframe tbody tr th {\n",
       "        vertical-align: top;\n",
       "    }\n",
       "\n",
       "    .dataframe thead th {\n",
       "        text-align: right;\n",
       "    }\n",
       "</style>\n",
       "<table border=\"1\" class=\"dataframe\">\n",
       "  <thead>\n",
       "    <tr style=\"text-align: right;\">\n",
       "      <th></th>\n",
       "      <th>Film</th>\n",
       "      <th>Lidé</th>\n",
       "    </tr>\n",
       "  </thead>\n",
       "  <tbody>\n",
       "  </tbody>\n",
       "</table>\n",
       "</div>"
      ],
      "text/plain": [
       "Empty DataFrame\n",
       "Columns: [Film, Lidé]\n",
       "Index: []"
      ]
     },
     "execution_count": 46,
     "metadata": {},
     "output_type": "execute_result"
    }
   ],
   "source": [
    "lidotabulka[lidotabulka[\"Lidé\"].str.contains(\" Mirai\",na=False)]"
   ]
  },
  {
   "cell_type": "code",
   "execution_count": 56,
   "id": "0d1293c0",
   "metadata": {},
   "outputs": [
    {
     "data": {
      "text/plain": [
       "14"
      ]
     },
     "execution_count": 56,
     "metadata": {},
     "output_type": "execute_result"
    }
   ],
   "source": [
    "len(lidotabulka[lidotabulka[\"Lidé\"].str.contains(\"Samková\",na=False)])"
   ]
  },
  {
   "cell_type": "code",
   "execution_count": 57,
   "id": "7451e029",
   "metadata": {},
   "outputs": [
    {
     "data": {
      "text/plain": [
       "0"
      ]
     },
     "execution_count": 57,
     "metadata": {},
     "output_type": "execute_result"
    }
   ],
   "source": [
    "len(lidotabulka[lidotabulka[\"Lidé\"].str.contains(\"Adamczyková\",na=False)])"
   ]
  },
  {
   "cell_type": "code",
   "execution_count": 58,
   "id": "fe41460d",
   "metadata": {},
   "outputs": [
    {
     "data": {
      "text/plain": [
       "9"
      ]
     },
     "execution_count": 58,
     "metadata": {},
     "output_type": "execute_result"
    }
   ],
   "source": [
    "len(lidotabulka[lidotabulka[\"Lidé\"].str.contains(\"Adamczyk\",na=False)])"
   ]
  },
  {
   "cell_type": "code",
   "execution_count": 59,
   "id": "e12ee9d1",
   "metadata": {},
   "outputs": [
    {
     "data": {
      "text/plain": [
       "448"
      ]
     },
     "execution_count": 59,
     "metadata": {},
     "output_type": "execute_result"
    }
   ],
   "source": [
    "len(lidotabulka[lidotabulka[\"Lidé\"].str.contains(\"Navrátil\",na=False)])"
   ]
  },
  {
   "cell_type": "code",
   "execution_count": 60,
   "id": "91cd6632",
   "metadata": {},
   "outputs": [
    {
     "data": {
      "text/plain": [
       "266"
      ]
     },
     "execution_count": 60,
     "metadata": {},
     "output_type": "execute_result"
    }
   ],
   "source": [
    "len(lidotabulka[lidotabulka[\"Lidé\"].str.contains(\"Pokorný\",na=False)])"
   ]
  },
  {
   "cell_type": "code",
   "execution_count": 62,
   "id": "e7e556c2",
   "metadata": {},
   "outputs": [
    {
     "data": {
      "text/html": [
       "<div>\n",
       "<style scoped>\n",
       "    .dataframe tbody tr th:only-of-type {\n",
       "        vertical-align: middle;\n",
       "    }\n",
       "\n",
       "    .dataframe tbody tr th {\n",
       "        vertical-align: top;\n",
       "    }\n",
       "\n",
       "    .dataframe thead th {\n",
       "        text-align: right;\n",
       "    }\n",
       "</style>\n",
       "<table border=\"1\" class=\"dataframe\">\n",
       "  <thead>\n",
       "    <tr style=\"text-align: right;\">\n",
       "      <th></th>\n",
       "      <th>Film</th>\n",
       "      <th>Lidé</th>\n",
       "    </tr>\n",
       "  </thead>\n",
       "  <tbody>\n",
       "    <tr>\n",
       "      <th>4400</th>\n",
       "      <td>Přes prsty (401981)</td>\n",
       "      <td>Mirai Navrátil</td>\n",
       "    </tr>\n",
       "  </tbody>\n",
       "</table>\n",
       "</div>"
      ],
      "text/plain": [
       "                     Film            Lidé\n",
       "4400  Přes prsty (401981)  Mirai Navrátil"
      ]
     },
     "execution_count": 62,
     "metadata": {},
     "output_type": "execute_result"
    }
   ],
   "source": [
    "lidotabulka[lidotabulka[\"Lidé\"].str.contains(\"Mirai\",na=False)]"
   ]
  }
 ],
 "metadata": {
  "kernelspec": {
   "display_name": "Python 3 (ipykernel)",
   "language": "python",
   "name": "python3"
  },
  "language_info": {
   "codemirror_mode": {
    "name": "ipython",
    "version": 3
   },
   "file_extension": ".py",
   "mimetype": "text/x-python",
   "name": "python",
   "nbconvert_exporter": "python",
   "pygments_lexer": "ipython3",
   "version": "3.10.8"
  }
 },
 "nbformat": 4,
 "nbformat_minor": 5
}
