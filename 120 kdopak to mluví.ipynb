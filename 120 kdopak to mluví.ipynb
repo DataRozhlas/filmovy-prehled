{
 "cells": [
  {
   "cell_type": "code",
   "execution_count": 1,
   "id": "4528cbd1",
   "metadata": {},
   "outputs": [],
   "source": [
    "import os"
   ]
  },
  {
   "cell_type": "code",
   "execution_count": 2,
   "id": "8d5b3a3b",
   "metadata": {},
   "outputs": [],
   "source": [
    "import pandas as pd"
   ]
  },
  {
   "cell_type": "code",
   "execution_count": 3,
   "id": "d588cca9",
   "metadata": {},
   "outputs": [],
   "source": [
    "df = pd.read_json(os.path.join(\"data\", \"filmy.json\"))"
   ]
  },
  {
   "cell_type": "code",
   "execution_count": 4,
   "id": "1306cf1c",
   "metadata": {},
   "outputs": [],
   "source": [
    "pd.set_option('display.max_columns', None)"
   ]
  },
  {
   "cell_type": "code",
   "execution_count": 5,
   "id": "192157c7",
   "metadata": {},
   "outputs": [
    {
     "data": {
      "text/plain": [
       "'Film, Země původu, Copyright, Rok výroby, Premiéra, Minutáž, Režie, Kategorie, Žánr, Typologie, Originální název, Český název, Anglický název, Souběžný název, Pracovní název, Hrají, Postavy, Pomocná režie, Asistent režie, Původní filmový námět, Scénář, Dramaturg, Kamera, Asistent kamery, Architekt, Návrhy kostýmů, Masky, Střih, Zvuk, Producent, Vedoucí výroby, Zástupce vedoucího výroby, Odborný poradce, Hudba, Choreografie, Lokace, Distribuční slogan, Výrobce, S podporou, Nositelé copyrightu, Distribuce, Délka, Distribuční nosič, Poměr stran, Barva, Zvukový systém/formát, Verze, Mluveno, Podtitulky, Úvodní/závěrečné titulky, Anotace, Obsah, Technický scénář, Výtvarník, Animace, Triky, Postprodukce, Návrhy titulků, Pedagogické vedení, Použitá hudba, Studentský film, Původní metráž, Mezititulky, Ocenění, Poznámka, Mluví, Vizuální efekty, Vedoucí produkce, Předloha, Kaskadéři, Text písně, Zpívá, pásmo, Části, Produkce, Výtvarná spolupráce, Nahrál, Partner, Animační technika, Výprava, Spolupráce, Komentář, Autor komentáře, Druhá kamera, Zvláštní efekty, Koproducent, Výběr hudby, Hudební dramaturgie, Písně, Produkční data, Koordinátor kaskadérů, Výkonná produkce, Zástupce vedoucího produkce, Hudební režie, Účinkují, Dirigent, Ateliéry, Režie české verze, Výrobce české verze, Tančí, České podtitulky, Výrobce českých podtitulků, Asistent vedoucího produkce, Natáčecí formát, Dialogy české verze, Hudba k písni, Autor projektu, Stav filmu, Souběžný anglický název, Assistent architekta, Asistent zvuku, Podnázev, Asistent vedoucího výroby, Skript, Kostýmy, Asistent střihu, Zpěv role, povídkový film, Povídky, Prodej práv, Podnázev anglický, Výtvarník pozadí, Výrobní skupina, Zákazník, Vývozní společnost, Umělecké vedení, Překlad české verze, Rychlost, Přístupnost, Začátek výroby, Konec výroby'"
      ]
     },
     "execution_count": 5,
     "metadata": {},
     "output_type": "execute_result"
    }
   ],
   "source": [
    "\", \".join(df.columns.to_list())"
   ]
  },
  {
   "cell_type": "code",
   "execution_count": 6,
   "id": "ef2241c3",
   "metadata": {},
   "outputs": [
    {
     "data": {
      "text/plain": [
       "131"
      ]
     },
     "execution_count": 6,
     "metadata": {},
     "output_type": "execute_result"
    }
   ],
   "source": [
    "len(df.columns.to_list())"
   ]
  },
  {
   "cell_type": "code",
   "execution_count": 7,
   "id": "2534cfda",
   "metadata": {},
   "outputs": [],
   "source": [
    "df = df.explode(\"Mluví\").explode(\"Komentář\")"
   ]
  },
  {
   "cell_type": "code",
   "execution_count": 8,
   "id": "e760c328",
   "metadata": {},
   "outputs": [
    {
     "data": {
      "text/plain": [
       "Mluví\n",
       "Mirko Musil (33555)          40\n",
       "Jindřich Narenta (87097)     17\n",
       "Jiří Lábus (838)             15\n",
       "Antonín Jedlička (4739)      12\n",
       "Jiří Zahajský (8033)         12\n",
       "Miroslav Moravec (1674)      12\n",
       "Oldřich Velen (12725)        12\n",
       "Alena Kreuzmannová (4743)    11\n",
       "Jan Pohan (7665)             11\n",
       "Jiřina Bohdalová (2878)      11\n",
       "Name: Film, dtype: int64"
      ]
     },
     "execution_count": 8,
     "metadata": {},
     "output_type": "execute_result"
    }
   ],
   "source": [
    "df.groupby(\"Mluví\")[\"Film\"].nunique().nlargest(10)"
   ]
  },
  {
   "cell_type": "code",
   "execution_count": 9,
   "id": "c624e360",
   "metadata": {},
   "outputs": [
    {
     "data": {
      "text/plain": [
       "Komentář\n",
       "Karel Höger (38146)            24\n",
       "Otakar Brousek (3390)          18\n",
       "Václav Voska (76149)           16\n",
       "Jan Werich (1287)              15\n",
       "Antonín Zíb (99716)            14\n",
       "Eduard Cupák (4944)            10\n",
       "Jiří Šrámek (22529)             9\n",
       "Luděk Munzar (12942)            9\n",
       "Zdeněk Štěpánek (87457)         8\n",
       "František Filipovský (4735)     7\n",
       "Karel Beníško (125440)          7\n",
       "Rudolf Deyl ml. (126471)        7\n",
       "Bohumil Švarc (27238)           6\n",
       "Jan Kačer (1165)                6\n",
       "Oldřich Kaiser (1794)           6\n",
       "Vlastimil Brodský (833)         6\n",
       "Miroslav Táborský (1841)        5\n",
       "David Novotný (1834)            4\n",
       "Josef Abrhám (2274)             4\n",
       "Josef Chvalina (126894)         4\n",
       "Name: Film, dtype: int64"
      ]
     },
     "execution_count": 9,
     "metadata": {},
     "output_type": "execute_result"
    }
   ],
   "source": [
    "df.groupby(\"Komentář\")[\"Film\"].nunique().nlargest(20)"
   ]
  },
  {
   "cell_type": "code",
   "execution_count": 19,
   "id": "1e367c65",
   "metadata": {},
   "outputs": [
    {
     "data": {
      "text/plain": [
       "Komentář                     Žánr      \n",
       "Jan Werich (1287)            pohádka       6\n",
       "Karel Höger (38146)          pohádka       6\n",
       "Rudolf Deyl ml. (126471)     pohádka       6\n",
       "Otakar Brousek (3390)        drama         5\n",
       "Eduard Cupák (4944)          komedie       4\n",
       "František Filipovský (4735)  agitka        4\n",
       "Zdeněk Štěpánek (87457)      drama         4\n",
       "Bohumil Vošahlík (127436)    reklamní      3\n",
       "Bohumil Švarc (27238)        historický    3\n",
       "David Novotný (1834)         cestopisný    3\n",
       "Name: Film, dtype: int64"
      ]
     },
     "execution_count": 19,
     "metadata": {},
     "output_type": "execute_result"
    }
   ],
   "source": [
    "df.explode(\"Žánr\").groupby([\"Komentář\",\"Žánr\"])[\"Film\"].nunique().nlargest(10)"
   ]
  },
  {
   "cell_type": "code",
   "execution_count": 12,
   "id": "840e86da",
   "metadata": {},
   "outputs": [],
   "source": [
    "df = df.explode(\"Účinkují\")"
   ]
  },
  {
   "cell_type": "code",
   "execution_count": 14,
   "id": "8c8cb2b6",
   "metadata": {},
   "outputs": [
    {
     "data": {
      "text/plain": [
       "Účinkují\n",
       "Václav Havel (676)          17\n",
       "Miloš Zeman (8591)          10\n",
       "Václav Klaus (251)           9\n",
       "John Bok (8553)              8\n",
       "Vít Klusák (3966)            8\n",
       "Jan Kačer (1165)             7\n",
       "Jiří Suchý (2270)            7\n",
       "Egon Bondy (69366)           6\n",
       "Ivan Martin Jirous (670)     6\n",
       "Jan Němec (3041)             6\n",
       "Name: Film, dtype: int64"
      ]
     },
     "execution_count": 14,
     "metadata": {},
     "output_type": "execute_result"
    }
   ],
   "source": [
    "df.groupby(\"Účinkují\")[\"Film\"].nunique().nlargest(10)"
   ]
  },
  {
   "cell_type": "code",
   "execution_count": 15,
   "id": "dd2c1f7f",
   "metadata": {},
   "outputs": [],
   "source": [
    "df = df.explode(\"Hrají\")"
   ]
  },
  {
   "cell_type": "code",
   "execution_count": 16,
   "id": "cf063a69",
   "metadata": {},
   "outputs": [
    {
     "data": {
      "text/plain": [
       "Hrají\n",
       "Jan W. Speerger (55928)        281\n",
       "Theodor Pištěk (37366)         254\n",
       "Eman Fiala (64088)             214\n",
       "Jaroslav Marvan (9550)         208\n",
       "František Filipovský (4735)    181\n",
       "Alois Dvorský (127491)         169\n",
       "Milka Balek-Brodská (28799)    166\n",
       "Oldřich Velen (12725)          166\n",
       "Josef Kemr (4897)              161\n",
       "Jaroslav Tomsa (2576)          152\n",
       "Name: Film, dtype: int64"
      ]
     },
     "execution_count": 16,
     "metadata": {},
     "output_type": "execute_result"
    }
   ],
   "source": [
    "df.groupby(\"Hrají\")[\"Film\"].nunique().nlargest(10)"
   ]
  }
 ],
 "metadata": {
  "kernelspec": {
   "display_name": "Python 3 (ipykernel)",
   "language": "python",
   "name": "python3"
  },
  "language_info": {
   "codemirror_mode": {
    "name": "ipython",
    "version": 3
   },
   "file_extension": ".py",
   "mimetype": "text/x-python",
   "name": "python",
   "nbconvert_exporter": "python",
   "pygments_lexer": "ipython3",
   "version": "3.10.8"
  }
 },
 "nbformat": 4,
 "nbformat_minor": 5
}
