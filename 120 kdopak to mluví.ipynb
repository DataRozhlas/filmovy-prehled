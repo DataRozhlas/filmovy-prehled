{
 "cells": [
  {
   "cell_type": "code",
   "execution_count": 1,
   "id": "8d5b3a3b",
   "metadata": {},
   "outputs": [],
   "source": [
    "import pandas as pd"
   ]
  },
  {
   "cell_type": "code",
   "execution_count": 2,
   "id": "d588cca9",
   "metadata": {},
   "outputs": [],
   "source": [
    "df = pd.read_json(\"filmy.json\")"
   ]
  },
  {
   "cell_type": "code",
   "execution_count": 3,
   "id": "1306cf1c",
   "metadata": {},
   "outputs": [],
   "source": [
    "pd.set_option('display.max_columns', None)"
   ]
  },
  {
   "cell_type": "code",
   "execution_count": 4,
   "id": "192157c7",
   "metadata": {},
   "outputs": [
    {
     "data": {
      "text/plain": [
       "'Film, Země původu, Copyright, Rok výroby, Premiéra, Minutáž, Režie, Kategorie, Žánr, Typologie, Originální název, Český název, Anglický název, Souběžný název, Pracovní název, Hrají, Postavy, Pomocná režie, Asistent režie, Původní filmový námět, Scénář, Dramaturg, Kamera, Asistent kamery, Architekt, Návrhy kostýmů, Masky, Střih, Zvuk, Producent, Vedoucí výroby, Zástupce vedoucího výroby, Odborný poradce, Hudba, Choreografie, Lokace, Distribuční slogan, Výrobce, S podporou, Nositelé copyrightu, Distribuce, Délka, Distribuční nosič, Poměr stran, Barva, Zvukový systém/formát, Verze, Mluveno, Podtitulky, Úvodní/závěrečné titulky, Anotace, Obsah, Technický scénář, Výtvarník, Animace, Triky, Postprodukce, Návrhy titulků, Pedagogické vedení, Použitá hudba, Studentský film, Původní metráž, Mezititulky, Ocenění, Poznámka, Mluví, Vizuální efekty, Vedoucí produkce, Předloha, Kaskadéři, Text písně, Zpívá, pásmo, Části, Produkce, Výtvarná spolupráce, Nahrál, Partner, Animační technika, Výprava, Spolupráce, Komentář, Autor komentáře, Druhá kamera, Zvláštní efekty, Koproducent, Výběr hudby, Hudební dramaturgie, Písně, Produkční data, Koordinátor kaskadérů, Výkonná produkce, Zástupce vedoucího produkce, Hudební režie, Účinkují, Dirigent, Ateliéry, Režie české verze, Výrobce české verze, Tančí, České podtitulky, Výrobce českých podtitulků, Asistent vedoucího produkce, Natáčecí formát, Dialogy české verze, Hudba k písni, Autor projektu, Stav filmu, Souběžný anglický název, Assistent architekta, Asistent zvuku, Podnázev, Asistent vedoucího výroby, Skript, Kostýmy, Asistent střihu, Zpěv role, povídkový film, Povídky, Prodej práv, Podnázev anglický, Výtvarník pozadí, Výrobní skupina, Zákazník, Vývozní společnost, Umělecké vedení, Překlad české verze, Rychlost, Přístupnost, cyklus, Začátek výroby, Konec výroby'"
      ]
     },
     "execution_count": 4,
     "metadata": {},
     "output_type": "execute_result"
    }
   ],
   "source": [
    "\", \".join(df.columns.to_list())"
   ]
  },
  {
   "cell_type": "code",
   "execution_count": 15,
   "id": "ef2241c3",
   "metadata": {},
   "outputs": [
    {
     "data": {
      "text/plain": [
       "132"
      ]
     },
     "execution_count": 15,
     "metadata": {},
     "output_type": "execute_result"
    }
   ],
   "source": [
    "len(df.columns.to_list())"
   ]
  },
  {
   "cell_type": "code",
   "execution_count": 5,
   "id": "2534cfda",
   "metadata": {},
   "outputs": [],
   "source": [
    "df = df.explode(\"Mluví\").explode(\"Komentář\")"
   ]
  },
  {
   "cell_type": "code",
   "execution_count": 6,
   "id": "e760c328",
   "metadata": {},
   "outputs": [
    {
     "data": {
      "text/plain": [
       "Mluví\n",
       "Mirko Musil (33555)          40\n",
       "Jindřich Narenta (87097)     17\n",
       "Jiří Lábus (838)             15\n",
       "Antonín Jedlička (4739)      12\n",
       "Jiří Zahajský (8033)         12\n",
       "Miroslav Moravec (1674)      12\n",
       "Oldřich Velen (12725)        12\n",
       "Alena Kreuzmannová (4743)    11\n",
       "Jan Pohan (7665)             11\n",
       "Jiřina Bohdalová (2878)      11\n",
       "Name: Film, dtype: int64"
      ]
     },
     "execution_count": 6,
     "metadata": {},
     "output_type": "execute_result"
    }
   ],
   "source": [
    "df.groupby(\"Mluví\")[\"Film\"].nunique().nlargest(10)"
   ]
  },
  {
   "cell_type": "code",
   "execution_count": 16,
   "id": "c624e360",
   "metadata": {},
   "outputs": [
    {
     "data": {
      "text/plain": [
       "Komentář\n",
       "Karel Höger (38146)            24\n",
       "Otakar Brousek (3390)          18\n",
       "Václav Voska (76149)           16\n",
       "Jan Werich (1287)              15\n",
       "Antonín Zíb (99716)            14\n",
       "Eduard Cupák (4944)            10\n",
       "Jiří Šrámek (22529)             9\n",
       "Luděk Munzar (12942)            9\n",
       "Zdeněk Štěpánek (87457)         8\n",
       "František Filipovský (4735)     7\n",
       "Karel Beníško (125440)          7\n",
       "Rudolf Deyl ml. (126471)        7\n",
       "Bohumil Švarc (27238)           6\n",
       "Jan Kačer (1165)                6\n",
       "Oldřich Kaiser (1794)           6\n",
       "Vlastimil Brodský (833)         6\n",
       "Miroslav Táborský (1841)        5\n",
       "David Novotný (1834)            4\n",
       "Josef Abrhám (2274)             4\n",
       "Josef Chvalina (126894)         4\n",
       "Name: Film, dtype: int64"
      ]
     },
     "execution_count": 16,
     "metadata": {},
     "output_type": "execute_result"
    }
   ],
   "source": [
    "df.groupby(\"Komentář\")[\"Film\"].nunique().nlargest(20)"
   ]
  },
  {
   "cell_type": "code",
   "execution_count": 8,
   "id": "f1a874d1",
   "metadata": {},
   "outputs": [
    {
     "data": {
      "text/html": [
       "<div>\n",
       "<style scoped>\n",
       "    .dataframe tbody tr th:only-of-type {\n",
       "        vertical-align: middle;\n",
       "    }\n",
       "\n",
       "    .dataframe tbody tr th {\n",
       "        vertical-align: top;\n",
       "    }\n",
       "\n",
       "    .dataframe thead th {\n",
       "        text-align: right;\n",
       "    }\n",
       "</style>\n",
       "<table border=\"1\" class=\"dataframe\">\n",
       "  <thead>\n",
       "    <tr style=\"text-align: right;\">\n",
       "      <th></th>\n",
       "      <th>Film</th>\n",
       "      <th>Země původu</th>\n",
       "      <th>Copyright</th>\n",
       "      <th>Rok výroby</th>\n",
       "      <th>Premiéra</th>\n",
       "      <th>Minutáž</th>\n",
       "      <th>Režie</th>\n",
       "      <th>Kategorie</th>\n",
       "      <th>Žánr</th>\n",
       "      <th>Typologie</th>\n",
       "      <th>Originální název</th>\n",
       "      <th>Český název</th>\n",
       "      <th>Anglický název</th>\n",
       "      <th>Souběžný název</th>\n",
       "      <th>Pracovní název</th>\n",
       "      <th>Hrají</th>\n",
       "      <th>Postavy</th>\n",
       "      <th>Pomocná režie</th>\n",
       "      <th>Asistent režie</th>\n",
       "      <th>Původní filmový námět</th>\n",
       "      <th>Scénář</th>\n",
       "      <th>Dramaturg</th>\n",
       "      <th>Kamera</th>\n",
       "      <th>Asistent kamery</th>\n",
       "      <th>Architekt</th>\n",
       "      <th>Návrhy kostýmů</th>\n",
       "      <th>Masky</th>\n",
       "      <th>Střih</th>\n",
       "      <th>Zvuk</th>\n",
       "      <th>Producent</th>\n",
       "      <th>Vedoucí výroby</th>\n",
       "      <th>Zástupce vedoucího výroby</th>\n",
       "      <th>Odborný poradce</th>\n",
       "      <th>Hudba</th>\n",
       "      <th>Choreografie</th>\n",
       "      <th>Lokace</th>\n",
       "      <th>Distribuční slogan</th>\n",
       "      <th>Výrobce</th>\n",
       "      <th>S podporou</th>\n",
       "      <th>Nositelé copyrightu</th>\n",
       "      <th>Distribuce</th>\n",
       "      <th>Délka</th>\n",
       "      <th>Distribuční nosič</th>\n",
       "      <th>Poměr stran</th>\n",
       "      <th>Barva</th>\n",
       "      <th>Zvukový systém/formát</th>\n",
       "      <th>Verze</th>\n",
       "      <th>Mluveno</th>\n",
       "      <th>Podtitulky</th>\n",
       "      <th>Úvodní/závěrečné titulky</th>\n",
       "      <th>Anotace</th>\n",
       "      <th>Obsah</th>\n",
       "      <th>Technický scénář</th>\n",
       "      <th>Výtvarník</th>\n",
       "      <th>Animace</th>\n",
       "      <th>Triky</th>\n",
       "      <th>Postprodukce</th>\n",
       "      <th>Návrhy titulků</th>\n",
       "      <th>Pedagogické vedení</th>\n",
       "      <th>Použitá hudba</th>\n",
       "      <th>Studentský film</th>\n",
       "      <th>Původní metráž</th>\n",
       "      <th>Mezititulky</th>\n",
       "      <th>Ocenění</th>\n",
       "      <th>Poznámka</th>\n",
       "      <th>Mluví</th>\n",
       "      <th>Vizuální efekty</th>\n",
       "      <th>Vedoucí produkce</th>\n",
       "      <th>Předloha</th>\n",
       "      <th>Kaskadéři</th>\n",
       "      <th>Text písně</th>\n",
       "      <th>Zpívá</th>\n",
       "      <th>pásmo</th>\n",
       "      <th>Části</th>\n",
       "      <th>Produkce</th>\n",
       "      <th>Výtvarná spolupráce</th>\n",
       "      <th>Nahrál</th>\n",
       "      <th>Partner</th>\n",
       "      <th>Animační technika</th>\n",
       "      <th>Výprava</th>\n",
       "      <th>Spolupráce</th>\n",
       "      <th>Komentář</th>\n",
       "      <th>Autor komentáře</th>\n",
       "      <th>Druhá kamera</th>\n",
       "      <th>Zvláštní efekty</th>\n",
       "      <th>Koproducent</th>\n",
       "      <th>Výběr hudby</th>\n",
       "      <th>Hudební dramaturgie</th>\n",
       "      <th>Písně</th>\n",
       "      <th>Produkční data</th>\n",
       "      <th>Koordinátor kaskadérů</th>\n",
       "      <th>Výkonná produkce</th>\n",
       "      <th>Zástupce vedoucího produkce</th>\n",
       "      <th>Hudební režie</th>\n",
       "      <th>Účinkují</th>\n",
       "      <th>Dirigent</th>\n",
       "      <th>Ateliéry</th>\n",
       "      <th>Režie české verze</th>\n",
       "      <th>Výrobce české verze</th>\n",
       "      <th>Tančí</th>\n",
       "      <th>České podtitulky</th>\n",
       "      <th>Výrobce českých podtitulků</th>\n",
       "      <th>Asistent vedoucího produkce</th>\n",
       "      <th>Natáčecí formát</th>\n",
       "      <th>Dialogy české verze</th>\n",
       "      <th>Hudba k písni</th>\n",
       "      <th>Autor projektu</th>\n",
       "      <th>Stav filmu</th>\n",
       "      <th>Souběžný anglický název</th>\n",
       "      <th>Assistent architekta</th>\n",
       "      <th>Asistent zvuku</th>\n",
       "      <th>Podnázev</th>\n",
       "      <th>Asistent vedoucího výroby</th>\n",
       "      <th>Skript</th>\n",
       "      <th>Kostýmy</th>\n",
       "      <th>Asistent střihu</th>\n",
       "      <th>Zpěv role</th>\n",
       "      <th>povídkový film</th>\n",
       "      <th>Povídky</th>\n",
       "      <th>Prodej práv</th>\n",
       "      <th>Podnázev anglický</th>\n",
       "      <th>Výtvarník pozadí</th>\n",
       "      <th>Výrobní skupina</th>\n",
       "      <th>Zákazník</th>\n",
       "      <th>Vývozní společnost</th>\n",
       "      <th>Umělecké vedení</th>\n",
       "      <th>Překlad české verze</th>\n",
       "      <th>Rychlost</th>\n",
       "      <th>Přístupnost</th>\n",
       "      <th>cyklus</th>\n",
       "      <th>Začátek výroby</th>\n",
       "      <th>Konec výroby</th>\n",
       "    </tr>\n",
       "  </thead>\n",
       "  <tbody>\n",
       "  </tbody>\n",
       "</table>\n",
       "</div>"
      ],
      "text/plain": [
       "Empty DataFrame\n",
       "Columns: [Film, Země původu, Copyright, Rok výroby, Premiéra, Minutáž, Režie, Kategorie, Žánr, Typologie, Originální název, Český název, Anglický název, Souběžný název, Pracovní název, Hrají, Postavy, Pomocná režie, Asistent režie, Původní filmový námět, Scénář, Dramaturg, Kamera, Asistent kamery, Architekt, Návrhy kostýmů, Masky, Střih, Zvuk, Producent, Vedoucí výroby, Zástupce vedoucího výroby, Odborný poradce, Hudba, Choreografie, Lokace, Distribuční slogan, Výrobce, S podporou, Nositelé copyrightu, Distribuce, Délka, Distribuční nosič, Poměr stran, Barva, Zvukový systém/formát, Verze, Mluveno, Podtitulky, Úvodní/závěrečné titulky, Anotace, Obsah, Technický scénář, Výtvarník, Animace, Triky, Postprodukce, Návrhy titulků, Pedagogické vedení, Použitá hudba, Studentský film, Původní metráž, Mezititulky, Ocenění, Poznámka, Mluví, Vizuální efekty, Vedoucí produkce, Předloha, Kaskadéři, Text písně, Zpívá, pásmo, Části, Produkce, Výtvarná spolupráce, Nahrál, Partner, Animační technika, Výprava, Spolupráce, Komentář, Autor komentáře, Druhá kamera, Zvláštní efekty, Koproducent, Výběr hudby, Hudební dramaturgie, Písně, Produkční data, Koordinátor kaskadérů, Výkonná produkce, Zástupce vedoucího produkce, Hudební režie, Účinkují, Dirigent, Ateliéry, Režie české verze, Výrobce české verze, Tančí, ...]\n",
       "Index: []"
      ]
     },
     "execution_count": 8,
     "metadata": {},
     "output_type": "execute_result"
    }
   ],
   "source": [
    "df[df[\"Mluví\"] == \"Části (0)\"]"
   ]
  },
  {
   "cell_type": "code",
   "execution_count": 9,
   "id": "56cc1e10",
   "metadata": {},
   "outputs": [
    {
     "data": {
      "text/html": [
       "<div>\n",
       "<style scoped>\n",
       "    .dataframe tbody tr th:only-of-type {\n",
       "        vertical-align: middle;\n",
       "    }\n",
       "\n",
       "    .dataframe tbody tr th {\n",
       "        vertical-align: top;\n",
       "    }\n",
       "\n",
       "    .dataframe thead th {\n",
       "        text-align: right;\n",
       "    }\n",
       "</style>\n",
       "<table border=\"1\" class=\"dataframe\">\n",
       "  <thead>\n",
       "    <tr style=\"text-align: right;\">\n",
       "      <th></th>\n",
       "      <th>Film</th>\n",
       "      <th>Země původu</th>\n",
       "      <th>Copyright</th>\n",
       "      <th>Rok výroby</th>\n",
       "      <th>Premiéra</th>\n",
       "      <th>Minutáž</th>\n",
       "      <th>Režie</th>\n",
       "      <th>Kategorie</th>\n",
       "      <th>Žánr</th>\n",
       "      <th>Typologie</th>\n",
       "      <th>Originální název</th>\n",
       "      <th>Český název</th>\n",
       "      <th>Anglický název</th>\n",
       "      <th>Souběžný název</th>\n",
       "      <th>Pracovní název</th>\n",
       "      <th>Hrají</th>\n",
       "      <th>Postavy</th>\n",
       "      <th>Pomocná režie</th>\n",
       "      <th>Asistent režie</th>\n",
       "      <th>Původní filmový námět</th>\n",
       "      <th>Scénář</th>\n",
       "      <th>Dramaturg</th>\n",
       "      <th>Kamera</th>\n",
       "      <th>Asistent kamery</th>\n",
       "      <th>Architekt</th>\n",
       "      <th>Návrhy kostýmů</th>\n",
       "      <th>Masky</th>\n",
       "      <th>Střih</th>\n",
       "      <th>Zvuk</th>\n",
       "      <th>Producent</th>\n",
       "      <th>Vedoucí výroby</th>\n",
       "      <th>Zástupce vedoucího výroby</th>\n",
       "      <th>Odborný poradce</th>\n",
       "      <th>Hudba</th>\n",
       "      <th>Choreografie</th>\n",
       "      <th>Lokace</th>\n",
       "      <th>Distribuční slogan</th>\n",
       "      <th>Výrobce</th>\n",
       "      <th>S podporou</th>\n",
       "      <th>Nositelé copyrightu</th>\n",
       "      <th>Distribuce</th>\n",
       "      <th>Délka</th>\n",
       "      <th>Distribuční nosič</th>\n",
       "      <th>Poměr stran</th>\n",
       "      <th>Barva</th>\n",
       "      <th>Zvukový systém/formát</th>\n",
       "      <th>Verze</th>\n",
       "      <th>Mluveno</th>\n",
       "      <th>Podtitulky</th>\n",
       "      <th>Úvodní/závěrečné titulky</th>\n",
       "      <th>Anotace</th>\n",
       "      <th>Obsah</th>\n",
       "      <th>Technický scénář</th>\n",
       "      <th>Výtvarník</th>\n",
       "      <th>Animace</th>\n",
       "      <th>Triky</th>\n",
       "      <th>Postprodukce</th>\n",
       "      <th>Návrhy titulků</th>\n",
       "      <th>Pedagogické vedení</th>\n",
       "      <th>Použitá hudba</th>\n",
       "      <th>Studentský film</th>\n",
       "      <th>Původní metráž</th>\n",
       "      <th>Mezititulky</th>\n",
       "      <th>Ocenění</th>\n",
       "      <th>Poznámka</th>\n",
       "      <th>Mluví</th>\n",
       "      <th>Vizuální efekty</th>\n",
       "      <th>Vedoucí produkce</th>\n",
       "      <th>Předloha</th>\n",
       "      <th>Kaskadéři</th>\n",
       "      <th>Text písně</th>\n",
       "      <th>Zpívá</th>\n",
       "      <th>pásmo</th>\n",
       "      <th>Části</th>\n",
       "      <th>Produkce</th>\n",
       "      <th>Výtvarná spolupráce</th>\n",
       "      <th>Nahrál</th>\n",
       "      <th>Partner</th>\n",
       "      <th>Animační technika</th>\n",
       "      <th>Výprava</th>\n",
       "      <th>Spolupráce</th>\n",
       "      <th>Komentář</th>\n",
       "      <th>Autor komentáře</th>\n",
       "      <th>Druhá kamera</th>\n",
       "      <th>Zvláštní efekty</th>\n",
       "      <th>Koproducent</th>\n",
       "      <th>Výběr hudby</th>\n",
       "      <th>Hudební dramaturgie</th>\n",
       "      <th>Písně</th>\n",
       "      <th>Produkční data</th>\n",
       "      <th>Koordinátor kaskadérů</th>\n",
       "      <th>Výkonná produkce</th>\n",
       "      <th>Zástupce vedoucího produkce</th>\n",
       "      <th>Hudební režie</th>\n",
       "      <th>Účinkují</th>\n",
       "      <th>Dirigent</th>\n",
       "      <th>Ateliéry</th>\n",
       "      <th>Režie české verze</th>\n",
       "      <th>Výrobce české verze</th>\n",
       "      <th>Tančí</th>\n",
       "      <th>České podtitulky</th>\n",
       "      <th>Výrobce českých podtitulků</th>\n",
       "      <th>Asistent vedoucího produkce</th>\n",
       "      <th>Natáčecí formát</th>\n",
       "      <th>Dialogy české verze</th>\n",
       "      <th>Hudba k písni</th>\n",
       "      <th>Autor projektu</th>\n",
       "      <th>Stav filmu</th>\n",
       "      <th>Souběžný anglický název</th>\n",
       "      <th>Assistent architekta</th>\n",
       "      <th>Asistent zvuku</th>\n",
       "      <th>Podnázev</th>\n",
       "      <th>Asistent vedoucího výroby</th>\n",
       "      <th>Skript</th>\n",
       "      <th>Kostýmy</th>\n",
       "      <th>Asistent střihu</th>\n",
       "      <th>Zpěv role</th>\n",
       "      <th>povídkový film</th>\n",
       "      <th>Povídky</th>\n",
       "      <th>Prodej práv</th>\n",
       "      <th>Podnázev anglický</th>\n",
       "      <th>Výtvarník pozadí</th>\n",
       "      <th>Výrobní skupina</th>\n",
       "      <th>Zákazník</th>\n",
       "      <th>Vývozní společnost</th>\n",
       "      <th>Umělecké vedení</th>\n",
       "      <th>Překlad české verze</th>\n",
       "      <th>Rychlost</th>\n",
       "      <th>Přístupnost</th>\n",
       "      <th>cyklus</th>\n",
       "      <th>Začátek výroby</th>\n",
       "      <th>Konec výroby</th>\n",
       "    </tr>\n",
       "  </thead>\n",
       "  <tbody>\n",
       "  </tbody>\n",
       "</table>\n",
       "</div>"
      ],
      "text/plain": [
       "Empty DataFrame\n",
       "Columns: [Film, Země původu, Copyright, Rok výroby, Premiéra, Minutáž, Režie, Kategorie, Žánr, Typologie, Originální název, Český název, Anglický název, Souběžný název, Pracovní název, Hrají, Postavy, Pomocná režie, Asistent režie, Původní filmový námět, Scénář, Dramaturg, Kamera, Asistent kamery, Architekt, Návrhy kostýmů, Masky, Střih, Zvuk, Producent, Vedoucí výroby, Zástupce vedoucího výroby, Odborný poradce, Hudba, Choreografie, Lokace, Distribuční slogan, Výrobce, S podporou, Nositelé copyrightu, Distribuce, Délka, Distribuční nosič, Poměr stran, Barva, Zvukový systém/formát, Verze, Mluveno, Podtitulky, Úvodní/závěrečné titulky, Anotace, Obsah, Technický scénář, Výtvarník, Animace, Triky, Postprodukce, Návrhy titulků, Pedagogické vedení, Použitá hudba, Studentský film, Původní metráž, Mezititulky, Ocenění, Poznámka, Mluví, Vizuální efekty, Vedoucí produkce, Předloha, Kaskadéři, Text písně, Zpívá, pásmo, Části, Produkce, Výtvarná spolupráce, Nahrál, Partner, Animační technika, Výprava, Spolupráce, Komentář, Autor komentáře, Druhá kamera, Zvláštní efekty, Koproducent, Výběr hudby, Hudební dramaturgie, Písně, Produkční data, Koordinátor kaskadérů, Výkonná produkce, Zástupce vedoucího produkce, Hudební režie, Účinkují, Dirigent, Ateliéry, Režie české verze, Výrobce české verze, Tančí, ...]\n",
       "Index: []"
      ]
     },
     "execution_count": 9,
     "metadata": {},
     "output_type": "execute_result"
    }
   ],
   "source": [
    "df[df[\"Komentář\"] == \"Části (0)\"]"
   ]
  },
  {
   "cell_type": "code",
   "execution_count": 10,
   "id": "840e86da",
   "metadata": {},
   "outputs": [],
   "source": [
    "df = df.explode(\"Účinkují\")"
   ]
  },
  {
   "cell_type": "code",
   "execution_count": 11,
   "id": "8c8cb2b6",
   "metadata": {},
   "outputs": [
    {
     "data": {
      "text/plain": [
       "Účinkují\n",
       "Václav Havel (676)    17\n",
       "Miloš Zeman (8591)    10\n",
       "Václav Klaus (251)     9\n",
       "John Bok (8553)        8\n",
       "Vít Klusák (3966)      8\n",
       "Name: Film, dtype: int64"
      ]
     },
     "execution_count": 11,
     "metadata": {},
     "output_type": "execute_result"
    }
   ],
   "source": [
    "df.groupby(\"Účinkují\")[\"Film\"].nunique().nlargest()"
   ]
  },
  {
   "cell_type": "code",
   "execution_count": 13,
   "id": "dd2c1f7f",
   "metadata": {},
   "outputs": [],
   "source": [
    "df = df.explode(\"Hrají\")"
   ]
  },
  {
   "cell_type": "code",
   "execution_count": 14,
   "id": "cf063a69",
   "metadata": {},
   "outputs": [
    {
     "data": {
      "text/plain": [
       "Hrají\n",
       "Jan W. Speerger (55928)        281\n",
       "Theodor Pištěk (37366)         254\n",
       "Eman Fiala (64088)             214\n",
       "Jaroslav Marvan (9550)         208\n",
       "František Filipovský (4735)    181\n",
       "Name: Film, dtype: int64"
      ]
     },
     "execution_count": 14,
     "metadata": {},
     "output_type": "execute_result"
    }
   ],
   "source": [
    "df.groupby(\"Hrají\")[\"Film\"].nunique().nlargest()"
   ]
  },
  {
   "cell_type": "code",
   "execution_count": null,
   "id": "6910998f",
   "metadata": {},
   "outputs": [],
   "source": [
    "df[df[\"Originální název\"] == \"Šiesty statočný Aurel Klimt / O kouzelném zvonu\"][[\"Mluví\",\"Komentář\"]]"
   ]
  }
 ],
 "metadata": {
  "kernelspec": {
   "display_name": "Python 3 (ipykernel)",
   "language": "python",
   "name": "python3"
  },
  "language_info": {
   "codemirror_mode": {
    "name": "ipython",
    "version": 3
   },
   "file_extension": ".py",
   "mimetype": "text/x-python",
   "name": "python",
   "nbconvert_exporter": "python",
   "pygments_lexer": "ipython3",
   "version": "3.10.8"
  }
 },
 "nbformat": 4,
 "nbformat_minor": 5
}
