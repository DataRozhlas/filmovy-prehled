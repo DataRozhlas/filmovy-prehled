{
 "cells": [
  {
   "cell_type": "markdown",
   "id": "323d0d21",
   "metadata": {},
   "source": [
    "Todo:\n",
    "- vydefinovat si A festivaly\n",
    "- merge s herectvem, kdo hrál v nejvíc oskarových nominacích (a nejen hrál?)"
   ]
  },
  {
   "cell_type": "code",
   "execution_count": 1,
   "id": "32391d51",
   "metadata": {},
   "outputs": [],
   "source": [
    "import pandas as pd"
   ]
  },
  {
   "cell_type": "code",
   "execution_count": 2,
   "id": "055998a7",
   "metadata": {},
   "outputs": [],
   "source": [
    "df = pd.read_json(\"filmy.json\")"
   ]
  },
  {
   "cell_type": "code",
   "execution_count": 3,
   "id": "9562db47",
   "metadata": {},
   "outputs": [],
   "source": [
    "df = df.explode(\"Ocenění\").explode(\"Režie\")"
   ]
  },
  {
   "cell_type": "code",
   "execution_count": 4,
   "id": "8b3d147f",
   "metadata": {},
   "outputs": [
    {
     "data": {
      "text/plain": [
       "Režie\n",
       "Karel Kachyňa (3526)       155\n",
       "Otakar Vávra (9507)        151\n",
       "Jan Svěrák (476)           126\n",
       "Jan Hřebejk (4831)         120\n",
       "Jiří Trnka (28391)          98\n",
       "Jiří Menzel (7887)          97\n",
       "Martin Frič (20324)         90\n",
       "Oldřich Lipský (7883)       83\n",
       "Václav Vorlíček (1044)      77\n",
       "František Vláčil (5191)     76\n",
       "Josef Pinkava (8992)        74\n",
       "Věra Chytilová (1555)       71\n",
       "Jiří Krejčík (7882)         70\n",
       "Petr Zelenka (4806)         70\n",
       "Martin Šulík (5432)         68\n",
       "Name: Ocenění, dtype: int64"
      ]
     },
     "execution_count": 4,
     "metadata": {},
     "output_type": "execute_result"
    }
   ],
   "source": [
    "df[df[\"Ocenění\"].str.lower().str.contains(\"vítěz\", na=False)].groupby(\"Režie\")[\"Ocenění\"].nunique().nlargest(15)"
   ]
  },
  {
   "cell_type": "code",
   "execution_count": 5,
   "id": "af7b1302",
   "metadata": {},
   "outputs": [
    {
     "data": {
      "text/plain": [
       "Film\n",
       "Ve stínu (66076)                  46\n",
       "Návrat idiota (36916)             45\n",
       "Krakatit (396074)                 42\n",
       "Hořící keř (398412)               40\n",
       "Obchod na korze (396649)          40\n",
       "Pelíšky (37635)                   35\n",
       "Lea (9296)                        34\n",
       "Je třeba zabít Sekala (163291)    33\n",
       "Kolja (9013)                      30\n",
       "Knoflíkáři (9793)                 28\n",
       "Name: Ocenění, dtype: int64"
      ]
     },
     "execution_count": 5,
     "metadata": {},
     "output_type": "execute_result"
    }
   ],
   "source": [
    "df.groupby(\"Film\")[\"Ocenění\"].nunique().nlargest(10)"
   ]
  },
  {
   "cell_type": "code",
   "execution_count": 28,
   "id": "f5a45014",
   "metadata": {},
   "outputs": [],
   "source": [
    "def ukaz_cenu(cena):\n",
    "    cena = cena.lower()\n",
    "    return df[df[\"Ocenění\"].str.lower().str.contains(cena, na=False)].groupby(\"Film\")[\"Copyright\"].first().sort_values()"
   ]
  },
  {
   "cell_type": "code",
   "execution_count": 66,
   "id": "0342be5b",
   "metadata": {},
   "outputs": [],
   "source": [
    "big5oskari_ceny = [\"americké Oscar za nejlepší\",\"francie zlatá palma\",\"Německo Zlatý medvěd\",]"
   ]
  },
  {
   "cell_type": "code",
   "execution_count": 74,
   "id": "72f79904",
   "metadata": {},
   "outputs": [],
   "source": [
    "big5oskari_filmy = []"
   ]
  },
  {
   "cell_type": "code",
   "execution_count": 75,
   "id": "3a63e8b4",
   "metadata": {},
   "outputs": [],
   "source": [
    "for x in big5oskari_ceny:\n",
    "    sublist = ukaz_cenu(x).index.to_list()\n",
    "    for y in sublist:\n",
    "        big5oskari_filmy.append(y)"
   ]
  },
  {
   "cell_type": "code",
   "execution_count": 69,
   "id": "a38c3878",
   "metadata": {},
   "outputs": [],
   "source": []
  },
  {
   "cell_type": "code",
   "execution_count": 76,
   "id": "c1ce06a4",
   "metadata": {},
   "outputs": [
    {
     "data": {
      "text/plain": [
       "['O místo na slunci... (398814)',\n",
       " 'Lásky jedné plavovlásky (396651)',\n",
       " 'Obchod na korze (396649)',\n",
       " 'Ostře sledované vlaky (396694)',\n",
       " 'Hoří, má panenko (396750)',\n",
       " 'Horečka všedního dne (397308)',\n",
       " 'Vesničko má středisková (397480)',\n",
       " 'Obecná škola (397700)',\n",
       " 'Kolja (9013)',\n",
       " 'Eastern – Krvavý Hugo (10173)',\n",
       " 'Musíme si pomáhat (15231)',\n",
       " 'Želary (13452)',\n",
       " 'Petrolejové lampy (396917)',\n",
       " 'Skřivánci na niti (396810)']"
      ]
     },
     "execution_count": 76,
     "metadata": {},
     "output_type": "execute_result"
    }
   ],
   "source": [
    "big5oskari_filmy"
   ]
  },
  {
   "cell_type": "code",
   "execution_count": 48,
   "id": "eb234357",
   "metadata": {},
   "outputs": [
    {
     "data": {
      "text/plain": [
       "[Index(['O místo na slunci... (398814)', 'Lásky jedné plavovlásky (396651)',\n",
       "        'Obchod na korze (396649)', 'Ostře sledované vlaky (396694)',\n",
       "        'Hoří, má panenko (396750)', 'Horečka všedního dne (397308)',\n",
       "        'Vesničko má středisková (397480)', 'Obecná škola (397700)',\n",
       "        'Kolja (9013)', 'Eastern – Krvavý Hugo (10173)',\n",
       "        'Musíme si pomáhat (15231)', 'Želary (13452)'],\n",
       "       dtype='object', name='Film')]"
      ]
     },
     "execution_count": 48,
     "metadata": {},
     "output_type": "execute_result"
    }
   ],
   "source": [
    "big5oskari"
   ]
  },
  {
   "cell_type": "code",
   "execution_count": 54,
   "id": "0955df97",
   "metadata": {},
   "outputs": [
    {
     "data": {
      "text/plain": [
       "Film\n",
       "Bouře nad Tatrami (401859)      1932\n",
       "Extase (395575)                 1932\n",
       "Zem spieva (401936)             1933\n",
       "Řeka (395601)                   1933\n",
       "Tatranská romance (395634)      1934\n",
       "                                ... \n",
       "Akumulátor 1 (7542)             1994\n",
       "Kolja (9013)                    1996\n",
       "Pasti pasti pastičky (45588)    1998\n",
       "Marguerite (400588)             2015\n",
       "Nabarvené ptáče (401962)        2019\n",
       "Name: Copyright, Length: 70, dtype: int64"
      ]
     },
     "execution_count": 54,
     "metadata": {},
     "output_type": "execute_result"
    }
   ],
   "source": [
    "ukaz_cenu(\"benátky\")"
   ]
  },
  {
   "cell_type": "code",
   "execution_count": 51,
   "id": "ebeb9341",
   "metadata": {},
   "outputs": [],
   "source": [
    "big5oskari.append(ukaz_cenu(\"americké Oscar za nejlepší\").index.to_list())"
   ]
  },
  {
   "cell_type": "code",
   "execution_count": 62,
   "id": "c8978028",
   "metadata": {},
   "outputs": [
    {
     "data": {
      "text/plain": [
       "Film\n",
       "Smradi (12834)    2002\n",
       "Name: Copyright, dtype: int64"
      ]
     },
     "execution_count": 62,
     "metadata": {},
     "output_type": "execute_result"
    }
   ],
   "source": [
    "ukaz_cenu(\"sundan\")"
   ]
  },
  {
   "cell_type": "code",
   "execution_count": 63,
   "id": "eb071fa1",
   "metadata": {},
   "outputs": [
    {
     "data": {
      "text/plain": [
       "['Vítěz Akce: 4. středoevropská scenáristická dílna 2000 Praha / Česká republika Účast českého finalisty mezinárodního programu na podporu začínajících autorů Sundance InstitutuTereza Boučková uděleno za scénář']"
      ]
     },
     "execution_count": 63,
     "metadata": {},
     "output_type": "execute_result"
    }
   ],
   "source": [
    "df[df[\"Ocenění\"].str.lower().str.contains(\"sundanc\", na=False)].groupby(\"Film\")[\"Ocenění\"].first().to_list()"
   ]
  },
  {
   "cell_type": "code",
   "execution_count": 35,
   "id": "17f1d6db",
   "metadata": {},
   "outputs": [
    {
     "data": {
      "text/plain": [
       "Film\n",
       "Bílá nemoc (395788)                    1937\n",
       "Vánoční sen (400510)                   1944\n",
       "Muži bez křídel (396021)               1946\n",
       "Zvířátka a petrovští (398624)          1946\n",
       "O skleničku víc (398725)               1953\n",
       "Paraplíčko (398774)                    1957\n",
       "Uzel na kapesníku (398797)             1958\n",
       "Touha (396325)                         1958\n",
       "Sen noci svatojanské (398820)          1959\n",
       "Pětikoruna (396381)                    1959\n",
       "Vláček Kolejáček (398824)              1959\n",
       "O místo na slunci... (398814)          1959\n",
       "Holubice (396415)                      1960\n",
       "Vyšší princip (396395)                 1960\n",
       "Trápení (396434)                       1961\n",
       "Kino (396465)                          1961\n",
       "Baron Prášil (396461)                  1961\n",
       "Chlapec a srna (396500)                1962\n",
       "Křik (396542)                          1963\n",
       "Až přijde kocour (396553)              1963\n",
       "Bláznova kronika (396608)              1964\n",
       "Povídky o dětech (396591)              1964\n",
       "Místo v houfu (396595)                 1964\n",
       "Každý mladý muž (396663)               1965\n",
       "Intimní osvětlení (396652)             1965\n",
       "Obchod na korze (396649)               1965\n",
       "Táňa a dva pistolníci (396723)         1967\n",
       "Útěk (396721)                          1967\n",
       "Pět holek na krku (396732)             1967\n",
       "Všichni dobří rodáci (396774)          1968\n",
       "Petrolejové lampy (396917)             1971\n",
       "...a pozdravuji vlaštovky (396886)     1972\n",
       "Milenci v roce jedna (397008)          1973\n",
       "Jen si tak trochu písknout (397288)    1980\n",
       "Pat (397304)                           1981\n",
       "Zánik samoty Berhof (397430)           1983\n",
       "Name: Copyright, dtype: int64"
      ]
     },
     "execution_count": 35,
     "metadata": {},
     "output_type": "execute_result"
    }
   ],
   "source": [
    "ukaz_cenu(\"Cannes\")"
   ]
  },
  {
   "cell_type": "code",
   "execution_count": 22,
   "id": "5740a246",
   "metadata": {},
   "outputs": [
    {
     "data": {
      "text/plain": [
       "Film\n",
       "O místo na slunci... (398814)       1959\n",
       "Lásky jedné plavovlásky (396651)    1965\n",
       "Obchod na korze (396649)            1965\n",
       "Ostře sledované vlaky (396694)      1966\n",
       "Hoří, má panenko (396750)           1967\n",
       "Milenci v roce jedna (397008)       1973\n",
       "Cirkus v cirkuse (397082)           1975\n",
       "Jeden stříbrný (397128)             1976\n",
       "Horečka všedního dne (397308)       1981\n",
       "Vesničko má středisková (397480)    1985\n",
       "Obecná škola (397700)               1991\n",
       "Kolja (9013)                        1996\n",
       "Eastern – Krvavý Hugo (10173)       1997\n",
       "Musíme si pomáhat (15231)           2000\n",
       "Želary (13452)                      2003\n",
       "Name: Copyright, dtype: int64"
      ]
     },
     "execution_count": 22,
     "metadata": {},
     "output_type": "execute_result"
    }
   ],
   "source": [
    "df[df[\"Ocenění\"].str.lower().str.contains(\"hollywood, los angeles\", na=False)].groupby(\"Film\")[\"Copyright\"].first().sort_values().tail(50)"
   ]
  }
 ],
 "metadata": {
  "kernelspec": {
   "display_name": "Python 3 (ipykernel)",
   "language": "python",
   "name": "python3"
  },
  "language_info": {
   "codemirror_mode": {
    "name": "ipython",
    "version": 3
   },
   "file_extension": ".py",
   "mimetype": "text/x-python",
   "name": "python",
   "nbconvert_exporter": "python",
   "pygments_lexer": "ipython3",
   "version": "3.10.8"
  }
 },
 "nbformat": 4,
 "nbformat_minor": 5
}
