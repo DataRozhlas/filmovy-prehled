{
 "cells": [
  {
   "cell_type": "code",
   "execution_count": 65,
   "id": "0391a24e",
   "metadata": {},
   "outputs": [],
   "source": [
    "import pandas as pd"
   ]
  },
  {
   "cell_type": "code",
   "execution_count": 66,
   "id": "45662b35",
   "metadata": {},
   "outputs": [],
   "source": [
    "herectvo = pd.read_json(\"herectvo.json\")"
   ]
  },
  {
   "cell_type": "code",
   "execution_count": 67,
   "id": "4254ab43",
   "metadata": {},
   "outputs": [],
   "source": [
    "herectvo = herectvo.explode(\"Role\")\n",
    "herectvo = herectvo.explode(\"Úloha\")"
   ]
  },
  {
   "cell_type": "code",
   "execution_count": 4,
   "id": "d5d85a30",
   "metadata": {},
   "outputs": [],
   "source": [
    "# herectvo = herectvo[herectvo[\"Úloha\"] == \"Hrají\"]"
   ]
  },
  {
   "cell_type": "code",
   "execution_count": 68,
   "id": "acf0f318",
   "metadata": {},
   "outputs": [],
   "source": [
    "with open(\"dlouhometrazni.txt\", \"r\", encoding = \"utf-8\") as dlouhometrazni:\n",
    "    dlouhometrazni = dlouhometrazni.readlines()\n",
    "    dlouhometrazni = [d.strip() for d in dlouhometrazni]"
   ]
  },
  {
   "cell_type": "code",
   "execution_count": 69,
   "id": "64121d88",
   "metadata": {},
   "outputs": [],
   "source": [
    "herectvo = herectvo[herectvo[\"Film\"].isin(dlouhometrazni)]"
   ]
  },
  {
   "cell_type": "markdown",
   "id": "6e639547",
   "metadata": {},
   "source": [
    "## Herci x herečky"
   ]
  },
  {
   "cell_type": "code",
   "execution_count": 70,
   "id": "7b22d5ba",
   "metadata": {},
   "outputs": [],
   "source": [
    "def gender(jmeno):\n",
    "    if jmeno:\n",
    "        gender = \"\"\n",
    "        jmeno = jmeno.split(\"(\")[0].strip()\n",
    "        if jmeno[-1:] == \"á\":\n",
    "            gender = \"žena\"\n",
    "        elif jmeno[-3:] == \"ova\":\n",
    "            gender = \"žena\"\n",
    "        elif \"Vica\" in jmeno:\n",
    "            gender = \"žena\"\n",
    "        elif \"Chantal\" in jmeno:\n",
    "            gender = \"žena\"\n",
    "        elif \"Lilian\" in jmeno:\n",
    "            gender = \"žena\"\n",
    "        elif \"Nataša\" in jmeno:\n",
    "            gender = \"žena\"\n",
    "        elif \"Beata\" in jmeno:\n",
    "            gender = \"žena\"\n",
    "        else:\n",
    "            gender = \"muž\"\n",
    "    else:\n",
    "        gender = None\n",
    "    return gender"
   ]
  },
  {
   "cell_type": "code",
   "execution_count": 71,
   "id": "c82e411e",
   "metadata": {},
   "outputs": [],
   "source": [
    "herectvo[\"Gender\"] = herectvo[\"Jméno\"].apply(lambda x: gender(x))"
   ]
  },
  {
   "cell_type": "code",
   "execution_count": 72,
   "id": "cb0b1423",
   "metadata": {},
   "outputs": [
    {
     "data": {
      "text/plain": [
       "<AxesSubplot:xlabel='Rok'>"
      ]
     },
     "execution_count": 72,
     "metadata": {},
     "output_type": "execute_result"
    },
    {
     "data": {
      "image/png": "[encoded data removed]",
      "text/plain": [
       "<Figure size 1440x360 with 1 Axes>"
      ]
     },
     "metadata": {
      "needs_background": "light"
     },
     "output_type": "display_data"
    }
   ],
   "source": [
    "pd.Series((herectvo[herectvo[\"Gender\"] == \"žena\"].groupby(\"Rok\")[\"Jméno\"].nunique()) / (herectvo.groupby(\"Rok\")[\"Jméno\"].nunique())).plot.bar(figsize = (20,5))"
   ]
  },
  {
   "cell_type": "markdown",
   "id": "90e0c269",
   "metadata": {},
   "source": [
    "#POZN LOL"
   ]
  },
  {
   "cell_type": "markdown",
   "id": "751deed3",
   "metadata": {},
   "source": [
    "## Režie aj."
   ]
  },
  {
   "cell_type": "code",
   "execution_count": 73,
   "id": "b688ea38",
   "metadata": {},
   "outputs": [],
   "source": [
    "df = pd.read_json(\"filmy.json\")"
   ]
  },
  {
   "cell_type": "code",
   "execution_count": 74,
   "id": "222a8d00",
   "metadata": {},
   "outputs": [],
   "source": [
    "df = df[df[\"Film\"].isin(dlouhometrazni)]"
   ]
  },
  {
   "cell_type": "code",
   "execution_count": 75,
   "id": "ed95eb18",
   "metadata": {},
   "outputs": [],
   "source": [
    "df = df.explode(\"Režie\").explode(\"Scénář\").explode(\"Dramaturg\").explode(\"Původní filmový námět\")"
   ]
  },
  {
   "cell_type": "code",
   "execution_count": 76,
   "id": "6ee36913",
   "metadata": {},
   "outputs": [],
   "source": [
    "df[\"Režie gender\"] = df[\"Režie\"].apply(lambda x: gender(x))\n",
    "df[\"Scénář gender\"] = df[\"Scénář\"].apply(lambda x: gender(x))\n",
    "df[\"Dramaturg gender\"] = df[\"Dramaturg\"].apply(lambda x: gender(x))\n",
    "df[\"Námět gender\"] = df[\"Původní filmový námět\"].apply(lambda x: gender(x))"
   ]
  },
  {
   "cell_type": "code",
   "execution_count": 77,
   "id": "a46ac363",
   "metadata": {},
   "outputs": [],
   "source": [
    "rezie_gender = df[[\"Film\",\"Režie gender\",\"Scénář gender\",\"Dramaturg gender\",\"Námět gender\"]]"
   ]
  },
  {
   "cell_type": "markdown",
   "id": "2101511e",
   "metadata": {},
   "source": [
    "## Věková distribuce"
   ]
  },
  {
   "cell_type": "code",
   "execution_count": 78,
   "id": "f1b41e0f",
   "metadata": {},
   "outputs": [
    {
     "data": {
      "text/plain": [
       "<AxesSubplot:ylabel='Frequency'>"
      ]
     },
     "execution_count": 78,
     "metadata": {},
     "output_type": "execute_result"
    },
    {
     "data": {
      "image/png": "[encoded data removed]",
      "text/plain": [
       "<Figure size 432x288 with 1 Axes>"
      ]
     },
     "metadata": {
      "needs_background": "light"
     },
     "output_type": "display_data"
    }
   ],
   "source": [
    "herectvo[\"Věk\"].plot.hist(bins=54)"
   ]
  },
  {
   "cell_type": "code",
   "execution_count": 79,
   "id": "bee2f390",
   "metadata": {},
   "outputs": [
    {
     "data": {
      "text/plain": [
       "<AxesSubplot:ylabel='Frequency'>"
      ]
     },
     "execution_count": 79,
     "metadata": {},
     "output_type": "execute_result"
    },
    {
     "data": {
      "image/png": "[encoded data removed]",
      "text/plain": [
       "<Figure size 432x288 with 1 Axes>"
      ]
     },
     "metadata": {
      "needs_background": "light"
     },
     "output_type": "display_data"
    }
   ],
   "source": [
    "herectvo[herectvo[\"Gender\"] == \"muž\"][\"Věk\"].plot.hist(bins=54)"
   ]
  },
  {
   "cell_type": "code",
   "execution_count": 80,
   "id": "fa0d05d2",
   "metadata": {},
   "outputs": [
    {
     "data": {
      "text/plain": [
       "<AxesSubplot:ylabel='Frequency'>"
      ]
     },
     "execution_count": 80,
     "metadata": {},
     "output_type": "execute_result"
    },
    {
     "data": {
      "image/png": "[encoded data removed]",
      "text/plain": [
       "<Figure size 432x288 with 1 Axes>"
      ]
     },
     "metadata": {
      "needs_background": "light"
     },
     "output_type": "display_data"
    }
   ],
   "source": [
    "herectvo[herectvo[\"Gender\"] == \"žena\"][\"Věk\"].plot.hist(bins=48)"
   ]
  },
  {
   "cell_type": "code",
   "execution_count": 81,
   "id": "c09fd971",
   "metadata": {},
   "outputs": [
    {
     "data": {
      "text/plain": [
       "<AxesSubplot:xlabel='Rok'>"
      ]
     },
     "execution_count": 81,
     "metadata": {},
     "output_type": "execute_result"
    },
    {
     "data": {
      "image/png": "[encoded data removed]",
      "text/plain": [
       "<Figure size 432x288 with 1 Axes>"
      ]
     },
     "metadata": {
      "needs_background": "light"
     },
     "output_type": "display_data"
    }
   ],
   "source": [
    "herectvo[herectvo[\"Gender\"] == \"muž\"].groupby(\"Rok\")[\"Věk\"].median().plot()"
   ]
  },
  {
   "cell_type": "code",
   "execution_count": 82,
   "id": "0ef7da8e",
   "metadata": {},
   "outputs": [
    {
     "data": {
      "text/plain": [
       "<AxesSubplot:xlabel='Rok'>"
      ]
     },
     "execution_count": 82,
     "metadata": {},
     "output_type": "execute_result"
    },
    {
     "data": {
      "image/png": "[encoded data removed]",
      "text/plain": [
       "<Figure size 432x288 with 1 Axes>"
      ]
     },
     "metadata": {
      "needs_background": "light"
     },
     "output_type": "display_data"
    }
   ],
   "source": [
    "herectvo[(herectvo[\"Gender\"] == \"žena\")].groupby(\"Rok\")[\"Věk\"].median().plot()"
   ]
  },
  {
   "cell_type": "code",
   "execution_count": 83,
   "id": "08139a20",
   "metadata": {},
   "outputs": [
    {
     "data": {
      "text/plain": [
       "Jméno\n",
       "Jaroslav Hilbert (63466)      108.0\n",
       "František Kovářík (126912)    104.0\n",
       "Zdeněk Procházka (127279)     100.0\n",
       "Zita Kabátová (839)            96.0\n",
       "Miroslav Mráz (125568)         95.0\n",
       "Name: Věk, dtype: float64"
      ]
     },
     "execution_count": 83,
     "metadata": {},
     "output_type": "execute_result"
    }
   ],
   "source": [
    "herectvo.groupby(\"Jméno\")[\"Věk\"].max().nlargest()"
   ]
  },
  {
   "cell_type": "markdown",
   "id": "f58fe144",
   "metadata": {},
   "source": [
    "## Unikátní filmy"
   ]
  },
  {
   "cell_type": "code",
   "execution_count": 84,
   "id": "aadc6e03",
   "metadata": {},
   "outputs": [
    {
     "data": {
      "text/plain": [
       "Film\n",
       "Hmyz (401737)                               84.0\n",
       "Tlumočník (401728)                          80.0\n",
       "Dobře placená procházka (103374)            78.0\n",
       "Až zařve lev (402204)                       76.0\n",
       "Přežít svůj život (163876)                  76.0\n",
       "Odborný dohled nad výkladem snu (401766)    75.0\n",
       "Pamětnice (123955)                          75.0\n",
       "Holka Ferrari Dino (65982)                  73.0\n",
       "Pátá loď (401180)                           72.0\n",
       "Školní výlet (181928)                       72.0\n",
       "Name: Věk, dtype: float64"
      ]
     },
     "execution_count": 84,
     "metadata": {},
     "output_type": "execute_result"
    }
   ],
   "source": [
    "herectvo.groupby(\"Film\")[\"Věk\"].median().nlargest(10)"
   ]
  },
  {
   "cell_type": "code",
   "execution_count": 85,
   "id": "3378bbdf",
   "metadata": {},
   "outputs": [
    {
     "data": {
      "text/plain": [
       "Film\n",
       "Potkal jsem ho v zoo (397759)                 11.0\n",
       "Oliver Twist (37449)                          12.0\n",
       "Cesta do pravěku (396218)                     15.0\n",
       "Indiánské léto (8296)                         17.0\n",
       "Leť, ptáku leť! (397205)                      17.0\n",
       "Očima fotografky (400647)                     17.0\n",
       "Žalman aneb Naslouchám tichu Země (401765)    17.0\n",
       "Malé letní blues (396736)                     18.5\n",
       "Panter čeká v 17,30 (396894)                  18.5\n",
       "Stav ztroskotání (397418)                     18.5\n",
       "Name: Věk, dtype: float64"
      ]
     },
     "execution_count": 85,
     "metadata": {},
     "output_type": "execute_result"
    }
   ],
   "source": [
    "herectvo.groupby(\"Film\")[\"Věk\"].median().nsmallest(10)"
   ]
  },
  {
   "cell_type": "code",
   "execution_count": 86,
   "id": "84c757bd",
   "metadata": {},
   "outputs": [
    {
     "data": {
      "text/plain": [
       "Film                            Rok \n",
       "Mistři (27735)                  2004    0.023810\n",
       "Atentát (396609)                1964    0.023810\n",
       "Já, spravedlnost (396742)       1967    0.027778\n",
       "Návrat čápů (56407)             2007    0.035714\n",
       "Přežil jsem svou smrt (396405)  1960    0.035714\n",
       "Tobruk (51759)                  2008    0.038462\n",
       "Příhody pana Příhody (397376)   1982    0.040000\n",
       "Čertí brko (401838)             2018    0.040000\n",
       "Wilsonov (400602)               2015    0.041667\n",
       "Tristan a Isolda (45297)        2005    0.041667\n",
       "Name: Jméno, dtype: float64"
      ]
     },
     "execution_count": 86,
     "metadata": {},
     "output_type": "execute_result"
    }
   ],
   "source": [
    "pd.Series(herectvo[herectvo[\"Gender\"] == \"žena\"].groupby([\"Film\",\"Rok\"])[\"Jméno\"].nunique() / herectvo.groupby(\"Film\")[\"Jméno\"].nunique()).sort_values().head(10)"
   ]
  },
  {
   "cell_type": "markdown",
   "id": "dd9b3e80",
   "metadata": {},
   "source": [
    "#POZN: není to k mistrům fér, pár herců + celý hokejový tým. Při scrapování seskládat hrají v původním pořadí + vyfiltrovat 5!"
   ]
  },
  {
   "cell_type": "code",
   "execution_count": 87,
   "id": "10d18fc7",
   "metadata": {},
   "outputs": [
    {
     "data": {
      "text/plain": [
       "Film                                  Rok \n",
       "Špendlík na motýla (7788)             1994    0.75\n",
       "Jiří Trnka: Nalezený přítel (401905)  2019    0.75\n",
       "Hrad z písku (8249)                   1994    0.75\n",
       "Poslouchej (402077)                   2019    0.75\n",
       "Trestanci na Špilberku (395304)       1922    1.00\n",
       "Cesta ven (400548)                    2014    1.00\n",
       "Skokan (401277)                       2017    1.00\n",
       "Pátá loď (401180)                     2017    1.00\n",
       "Krajina mého srdce (28993)            2004    1.00\n",
       "FAMU v kině 01 (402101)               2020    1.00\n",
       "Name: Jméno, dtype: float64"
      ]
     },
     "execution_count": 87,
     "metadata": {},
     "output_type": "execute_result"
    }
   ],
   "source": [
    "pd.Series(herectvo[herectvo[\"Gender\"] == \"žena\"].groupby([\"Film\",\"Rok\"])[\"Jméno\"].nunique() / herectvo.groupby(\"Film\")[\"Jméno\"].nunique()).sort_values().dropna().tail(10)"
   ]
  },
  {
   "cell_type": "markdown",
   "id": "60eb771c",
   "metadata": {},
   "source": [
    "## Ženské tvůrkyně"
   ]
  },
  {
   "cell_type": "code",
   "execution_count": 88,
   "id": "ccce2ba5",
   "metadata": {},
   "outputs": [],
   "source": [
    "herectvo = herectvo.merge(rezie_gender, on=\"Film\")"
   ]
  },
  {
   "cell_type": "code",
   "execution_count": 89,
   "id": "b8436ece",
   "metadata": {},
   "outputs": [
    {
     "data": {
      "text/plain": [
       "<AxesSubplot:xlabel='Rok'>"
      ]
     },
     "execution_count": 89,
     "metadata": {},
     "output_type": "execute_result"
    },
    {
     "data": {
      "image/png": "[encoded data removed]",
      "text/plain": [
       "<Figure size 1440x360 with 1 Axes>"
      ]
     },
     "metadata": {
      "needs_background": "light"
     },
     "output_type": "display_data"
    }
   ],
   "source": [
    "pd.Series((herectvo[herectvo[\"Režie gender\"] == \"žena\"].groupby(\"Rok\")[\"Film\"].nunique()) / (herectvo.groupby(\"Rok\")[\"Film\"].nunique())).plot.bar(figsize = (20,5))"
   ]
  },
  {
   "cell_type": "code",
   "execution_count": 57,
   "id": "f5c5730f",
   "metadata": {},
   "outputs": [
    {
     "data": {
      "text/plain": [
       "<AxesSubplot:xlabel='Rok'>"
      ]
     },
     "execution_count": 57,
     "metadata": {},
     "output_type": "execute_result"
    },
    {
     "data": {
      "image/png": "[encoded data removed]",
      "text/plain": [
       "<Figure size 1440x360 with 1 Axes>"
      ]
     },
     "metadata": {
      "needs_background": "light"
     },
     "output_type": "display_data"
    }
   ],
   "source": [
    "pd.Series((herectvo[herectvo[\"Scénář gender\"] == \"žena\"].groupby(\"Rok\")[\"Film\"].nunique()) / (herectvo.groupby(\"Rok\")[\"Film\"].nunique())).plot.bar(figsize = (20,5))"
   ]
  },
  {
   "cell_type": "code",
   "execution_count": 91,
   "id": "8850de74",
   "metadata": {},
   "outputs": [
    {
     "data": {
      "text/plain": [
       "<AxesSubplot:xlabel='Rok'>"
      ]
     },
     "execution_count": 91,
     "metadata": {},
     "output_type": "execute_result"
    },
    {
     "data": {
      "image/png": "[encoded data removed]",
      "text/plain": [
       "<Figure size 1440x360 with 1 Axes>"
      ]
     },
     "metadata": {
      "needs_background": "light"
     },
     "output_type": "display_data"
    }
   ],
   "source": [
    "pd.Series((herectvo[herectvo[\"Dramaturg gender\"] == \"žena\"].groupby(\"Rok\")[\"Film\"].nunique()) / (herectvo.groupby(\"Rok\")[\"Film\"].nunique())).plot.bar(figsize = (20,5))"
   ]
  },
  {
   "cell_type": "code",
   "execution_count": 92,
   "id": "8e6d2c6e",
   "metadata": {},
   "outputs": [
    {
     "data": {
      "text/plain": [
       "<AxesSubplot:xlabel='Rok'>"
      ]
     },
     "execution_count": 92,
     "metadata": {},
     "output_type": "execute_result"
    },
    {
     "data": {
      "image/png": "[encoded data removed]",
      "text/plain": [
       "<Figure size 1440x360 with 1 Axes>"
      ]
     },
     "metadata": {
      "needs_background": "light"
     },
     "output_type": "display_data"
    }
   ],
   "source": [
    "pd.Series((herectvo[herectvo[\"Námět gender\"] == \"žena\"].groupby(\"Rok\")[\"Film\"].nunique()) / (herectvo.groupby(\"Rok\")[\"Film\"].nunique())).plot.bar(figsize = (20,5))"
   ]
  },
  {
   "cell_type": "code",
   "execution_count": 93,
   "id": "e68c6487",
   "metadata": {},
   "outputs": [],
   "source": [
    "herectvo89 = herectvo[herectvo[\"Rok\"] > 1989]"
   ]
  },
  {
   "cell_type": "code",
   "execution_count": 94,
   "id": "085d8113",
   "metadata": {},
   "outputs": [
    {
     "data": {
      "text/plain": [
       "Gender\n",
       "muž     773\n",
       "žena    484\n",
       "Name: Jméno, dtype: int64"
      ]
     },
     "execution_count": 94,
     "metadata": {},
     "output_type": "execute_result"
    }
   ],
   "source": [
    "herectvo89[herectvo89[\"Režie gender\"] == \"žena\"].groupby(\"Gender\")[\"Jméno\"].nunique()"
   ]
  },
  {
   "cell_type": "code",
   "execution_count": 95,
   "id": "d12a72a4",
   "metadata": {},
   "outputs": [
    {
     "data": {
      "text/plain": [
       "Gender\n",
       "muž     4927\n",
       "žena    2141\n",
       "Name: Jméno, dtype: int64"
      ]
     },
     "execution_count": 95,
     "metadata": {},
     "output_type": "execute_result"
    }
   ],
   "source": [
    "herectvo89[herectvo89[\"Režie gender\"] == \"muž\"].groupby(\"Gender\")[\"Jméno\"].nunique()"
   ]
  },
  {
   "cell_type": "code",
   "execution_count": 96,
   "id": "d4e8991b",
   "metadata": {},
   "outputs": [
    {
     "data": {
      "text/plain": [
       "0.3844510892780863"
      ]
     },
     "execution_count": 96,
     "metadata": {},
     "output_type": "execute_result"
    }
   ],
   "source": [
    "herectvo89[(herectvo89[\"Režie gender\"] == \"žena\") & (herectvo89[\"Gender\"] == \"žena\")][\"Role\"].count() / herectvo89[(herectvo89[\"Režie gender\"] == \"žena\")][\"Role\"].count()"
   ]
  },
  {
   "cell_type": "code",
   "execution_count": 97,
   "id": "70ec8860",
   "metadata": {},
   "outputs": [
    {
     "data": {
      "text/plain": [
       "0.2865593237173474"
      ]
     },
     "execution_count": 97,
     "metadata": {},
     "output_type": "execute_result"
    }
   ],
   "source": [
    "herectvo89[(herectvo89[\"Režie gender\"] == \"muž\") & (herectvo89[\"Gender\"] == \"žena\")][\"Role\"].count() / herectvo89[(herectvo89[\"Režie gender\"] == \"muž\")][\"Role\"].count()"
   ]
  },
  {
   "cell_type": "code",
   "execution_count": 98,
   "id": "f92df29f",
   "metadata": {},
   "outputs": [
    {
     "data": {
      "text/plain": [
       "0.3877113402061856"
      ]
     },
     "execution_count": 98,
     "metadata": {},
     "output_type": "execute_result"
    }
   ],
   "source": [
    "herectvo89[(herectvo89[\"Scénář gender\"] == \"žena\") & (herectvo89[\"Gender\"] == \"žena\")][\"Role\"].count() / herectvo89[(herectvo89[\"Scénář gender\"] == \"žena\")][\"Role\"].count()"
   ]
  },
  {
   "cell_type": "code",
   "execution_count": 99,
   "id": "7e6be620",
   "metadata": {},
   "outputs": [
    {
     "data": {
      "text/plain": [
       "0.2829924220842117"
      ]
     },
     "execution_count": 99,
     "metadata": {},
     "output_type": "execute_result"
    }
   ],
   "source": [
    "herectvo89[(herectvo89[\"Scénář gender\"] == \"muž\") & (herectvo89[\"Gender\"] == \"žena\")][\"Role\"].count() / herectvo89[(herectvo89[\"Scénář gender\"] == \"muž\")][\"Role\"].count()"
   ]
  },
  {
   "cell_type": "code",
   "execution_count": 100,
   "id": "72bc9eae",
   "metadata": {},
   "outputs": [
    {
     "data": {
      "text/plain": [
       "0.40318554617853325"
      ]
     },
     "execution_count": 100,
     "metadata": {},
     "output_type": "execute_result"
    }
   ],
   "source": [
    "herectvo89[(herectvo89[\"Námět gender\"] == \"žena\") & (herectvo89[\"Gender\"] == \"žena\")][\"Role\"].count() / herectvo89[(herectvo89[\"Námět gender\"] == \"žena\")][\"Role\"].count()"
   ]
  },
  {
   "cell_type": "code",
   "execution_count": 101,
   "id": "5e66d623",
   "metadata": {},
   "outputs": [
    {
     "data": {
      "text/plain": [
       "0.27887416596184567"
      ]
     },
     "execution_count": 101,
     "metadata": {},
     "output_type": "execute_result"
    }
   ],
   "source": [
    "herectvo89[(herectvo89[\"Námět gender\"] == \"muž\") & (herectvo89[\"Gender\"] == \"žena\")][\"Role\"].count() / herectvo89[(herectvo89[\"Námět gender\"] == \"muž\")][\"Role\"].count()"
   ]
  },
  {
   "cell_type": "code",
   "execution_count": 102,
   "id": "7a25e002",
   "metadata": {},
   "outputs": [
    {
     "data": {
      "text/plain": [
       "0.3135089686098655"
      ]
     },
     "execution_count": 102,
     "metadata": {},
     "output_type": "execute_result"
    }
   ],
   "source": [
    "herectvo89[(herectvo89[\"Dramaturg gender\"] == \"žena\") & (herectvo89[\"Gender\"] == \"žena\")][\"Role\"].count() / herectvo89[(herectvo89[\"Dramaturg gender\"] == \"žena\")][\"Role\"].count()"
   ]
  },
  {
   "cell_type": "code",
   "execution_count": 103,
   "id": "e7a0b91a",
   "metadata": {},
   "outputs": [
    {
     "data": {
      "text/plain": [
       "0.29818868174442864"
      ]
     },
     "execution_count": 103,
     "metadata": {},
     "output_type": "execute_result"
    }
   ],
   "source": [
    "herectvo89[(herectvo89[\"Dramaturg gender\"] == \"muž\") & (herectvo89[\"Gender\"] == \"žena\")][\"Role\"].count() / herectvo89[(herectvo89[\"Dramaturg gender\"] == \"muž\")][\"Role\"].count()"
   ]
  },
  {
   "cell_type": "code",
   "execution_count": 104,
   "id": "4700e4b1",
   "metadata": {},
   "outputs": [
    {
     "data": {
      "text/plain": [
       "<AxesSubplot:ylabel='Frequency'>"
      ]
     },
     "execution_count": 104,
     "metadata": {},
     "output_type": "execute_result"
    },
    {
     "data": {
      "image/png": "[encoded data removed]",
      "text/plain": [
       "<Figure size 432x288 with 1 Axes>"
      ]
     },
     "metadata": {
      "needs_background": "light"
     },
     "output_type": "display_data"
    }
   ],
   "source": [
    "herectvo89[herectvo89[\"Gender\"] == \"muž\"][\"Věk\"].plot.hist()"
   ]
  },
  {
   "cell_type": "code",
   "execution_count": 105,
   "id": "67503caf",
   "metadata": {},
   "outputs": [
    {
     "data": {
      "text/plain": [
       "<AxesSubplot:ylabel='Frequency'>"
      ]
     },
     "execution_count": 105,
     "metadata": {},
     "output_type": "execute_result"
    },
    {
     "data": {
      "image/png": "[encoded data removed]",
      "text/plain": [
       "<Figure size 432x288 with 1 Axes>"
      ]
     },
     "metadata": {
      "needs_background": "light"
     },
     "output_type": "display_data"
    }
   ],
   "source": [
    "herectvo89[herectvo89[\"Gender\"] == \"žena\"][\"Věk\"].plot.hist()"
   ]
  }
 ],
 "metadata": {
  "kernelspec": {
   "display_name": "Python 3 (ipykernel)",
   "language": "python",
   "name": "python3"
  },
  "language_info": {
   "codemirror_mode": {
    "name": "ipython",
    "version": 3
   },
   "file_extension": ".py",
   "mimetype": "text/x-python",
   "name": "python",
   "nbconvert_exporter": "python",
   "pygments_lexer": "ipython3",
   "version": "3.10.8"
  }
 },
 "nbformat": 4,
 "nbformat_minor": 5
}
