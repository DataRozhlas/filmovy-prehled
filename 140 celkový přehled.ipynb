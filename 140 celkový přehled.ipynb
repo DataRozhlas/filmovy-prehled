{
 "cells": [
  {
   "cell_type": "markdown",
   "id": "0e4abd4a",
   "metadata": {},
   "source": [
    "Grafy a otázky:\n",
    "\n",
    "- úplně první film + první hraný celovečerní film\n",
    "- nedochované filmy\n",
    "- sex v 50s\n",
    "- proč se v 60s přestává točit barevně\n",
    "- proč v 80s mizejí komunisté\n",
    "- privatizace: omezení produkce & konec monopolu\n",
    "- koprodukce\n",
    "- čeho jsem si nevšiml, co vystihuje současný film?"
   ]
  },
  {
   "cell_type": "code",
   "execution_count": 1,
   "id": "30a2f73d",
   "metadata": {},
   "outputs": [],
   "source": [
    "import os\n",
    "import pandas as pd\n",
    "pd.set_option('display.max_columns', None)\n",
    "df = pd.read_json(os.path.join(\"data\", \"filmy.json\"))"
   ]
  },
  {
   "cell_type": "code",
   "execution_count": 2,
   "id": "bb109521",
   "metadata": {},
   "outputs": [
    {
     "data": {
      "text/plain": [
       "(4517, 131)"
      ]
     },
     "execution_count": 2,
     "metadata": {},
     "output_type": "execute_result"
    }
   ],
   "source": [
    "df.shape"
   ]
  },
  {
   "cell_type": "code",
   "execution_count": 14,
   "id": "ef2ac53d",
   "metadata": {},
   "outputs": [
    {
     "data": {
      "text/plain": [
       "['Film',\n",
       " 'Země původu',\n",
       " 'Copyright',\n",
       " 'Rok výroby',\n",
       " 'Premiéra',\n",
       " 'Minutáž',\n",
       " 'Režie',\n",
       " 'Kategorie',\n",
       " 'Žánr',\n",
       " 'Typologie',\n",
       " 'Originální název',\n",
       " 'Český název',\n",
       " 'Anglický název',\n",
       " 'Souběžný název',\n",
       " 'Pracovní název',\n",
       " 'Hrají',\n",
       " 'Postavy',\n",
       " 'Pomocná režie',\n",
       " 'Asistent režie',\n",
       " 'Původní filmový námět',\n",
       " 'Scénář',\n",
       " 'Dramaturg',\n",
       " 'Kamera',\n",
       " 'Asistent kamery',\n",
       " 'Architekt',\n",
       " 'Návrhy kostýmů',\n",
       " 'Masky',\n",
       " 'Střih',\n",
       " 'Zvuk',\n",
       " 'Producent',\n",
       " 'Vedoucí výroby',\n",
       " 'Zástupce vedoucího výroby',\n",
       " 'Odborný poradce',\n",
       " 'Hudba',\n",
       " 'Choreografie',\n",
       " 'Lokace',\n",
       " 'Distribuční slogan',\n",
       " 'Výrobce',\n",
       " 'S podporou',\n",
       " 'Nositelé copyrightu',\n",
       " 'Distribuce',\n",
       " 'Délka',\n",
       " 'Distribuční nosič',\n",
       " 'Poměr stran',\n",
       " 'Barva',\n",
       " 'Zvukový systém/formát',\n",
       " 'Verze',\n",
       " 'Mluveno',\n",
       " 'Podtitulky',\n",
       " 'Úvodní/závěrečné titulky',\n",
       " 'Anotace',\n",
       " 'Obsah',\n",
       " 'Technický scénář',\n",
       " 'Výtvarník',\n",
       " 'Animace',\n",
       " 'Triky',\n",
       " 'Postprodukce',\n",
       " 'Návrhy titulků',\n",
       " 'Pedagogické vedení',\n",
       " 'Použitá hudba',\n",
       " 'Studentský film',\n",
       " 'Původní metráž',\n",
       " 'Mezititulky',\n",
       " 'Ocenění',\n",
       " 'Poznámka',\n",
       " 'Mluví',\n",
       " 'Vizuální efekty',\n",
       " 'Vedoucí produkce',\n",
       " 'Předloha',\n",
       " 'Kaskadéři',\n",
       " 'Text písně',\n",
       " 'Zpívá',\n",
       " 'pásmo',\n",
       " 'Části',\n",
       " 'Produkce',\n",
       " 'Výtvarná spolupráce',\n",
       " 'Nahrál',\n",
       " 'Partner',\n",
       " 'Animační technika',\n",
       " 'Výprava',\n",
       " 'Spolupráce',\n",
       " 'Komentář',\n",
       " 'Autor komentáře',\n",
       " 'Druhá kamera',\n",
       " 'Zvláštní efekty',\n",
       " 'Koproducent',\n",
       " 'Výběr hudby',\n",
       " 'Hudební dramaturgie',\n",
       " 'Písně',\n",
       " 'Produkční data',\n",
       " 'Koordinátor kaskadérů',\n",
       " 'Výkonná produkce',\n",
       " 'Zástupce vedoucího produkce',\n",
       " 'Hudební režie',\n",
       " 'Účinkují',\n",
       " 'Dirigent',\n",
       " 'Ateliéry',\n",
       " 'Režie české verze',\n",
       " 'Výrobce české verze',\n",
       " 'Tančí',\n",
       " 'České podtitulky',\n",
       " 'Výrobce českých podtitulků',\n",
       " 'Asistent vedoucího produkce',\n",
       " 'Natáčecí formát',\n",
       " 'Dialogy české verze',\n",
       " 'Autor projektu',\n",
       " 'Stav filmu',\n",
       " 'Souběžný anglický název',\n",
       " 'Assistent architekta',\n",
       " 'Asistent zvuku',\n",
       " 'Podnázev',\n",
       " 'Asistent vedoucího výroby',\n",
       " 'Skript',\n",
       " 'Kostýmy',\n",
       " 'Asistent střihu',\n",
       " 'povídkový film',\n",
       " 'Povídky',\n",
       " 'Hudba k písni',\n",
       " 'Prodej práv',\n",
       " 'Podnázev anglický',\n",
       " 'Výtvarník pozadí',\n",
       " 'Výrobní skupina',\n",
       " 'Zákazník',\n",
       " 'Vývozní společnost',\n",
       " 'Umělecké vedení',\n",
       " 'Zpěv role',\n",
       " 'Překlad české verze',\n",
       " 'Rychlost',\n",
       " 'Přístupnost',\n",
       " 'Začátek výroby',\n",
       " 'Konec výroby']"
      ]
     },
     "execution_count": 14,
     "metadata": {},
     "output_type": "execute_result"
    }
   ],
   "source": [
    "df.columns.to_list()"
   ]
  },
  {
   "cell_type": "code",
   "execution_count": 3,
   "id": "9f71777c",
   "metadata": {},
   "outputs": [
    {
     "data": {
      "text/plain": [
       "<AxesSubplot:xlabel='Copyright'>"
      ]
     },
     "execution_count": 3,
     "metadata": {},
     "output_type": "execute_result"
    },
    {
     "data": {
      "image/png": "[encoded data removed]",
      "text/plain": [
       "<Figure size 1800x360 with 1 Axes>"
      ]
     },
     "metadata": {
      "needs_background": "light"
     },
     "output_type": "display_data"
    }
   ],
   "source": [
    "df.groupby(\"Copyright\")[\"Film\"].nunique().plot.bar(figsize=(25,5))"
   ]
  },
  {
   "cell_type": "code",
   "execution_count": 4,
   "id": "2a55293b",
   "metadata": {},
   "outputs": [],
   "source": [
    "hcf = df[df[\"Délka\"] == \"dlouhometrážní\"].explode(\"Typologie\")\n",
    "hcf = hcf[hcf[\"Typologie\"] == \"hraný\"]"
   ]
  },
  {
   "cell_type": "code",
   "execution_count": 5,
   "id": "b86af0c3",
   "metadata": {},
   "outputs": [
    {
     "data": {
      "text/plain": [
       "(2524, 131)"
      ]
     },
     "execution_count": 5,
     "metadata": {},
     "output_type": "execute_result"
    }
   ],
   "source": [
    "hcf.shape"
   ]
  },
  {
   "cell_type": "code",
   "execution_count": 6,
   "id": "20c3c690",
   "metadata": {},
   "outputs": [
    {
     "data": {
      "text/plain": [
       "<AxesSubplot:xlabel='Copyright'>"
      ]
     },
     "execution_count": 6,
     "metadata": {},
     "output_type": "execute_result"
    },
    {
     "data": {
      "image/png": "[encoded data removed]",
      "text/plain": [
       "<Figure size 1800x360 with 1 Axes>"
      ]
     },
     "metadata": {
      "needs_background": "light"
     },
     "output_type": "display_data"
    }
   ],
   "source": [
    "hcf.groupby(\"Copyright\")[\"Film\"].nunique().plot.bar(figsize=(25,5))"
   ]
  },
  {
   "cell_type": "code",
   "execution_count": 7,
   "id": "39460175",
   "metadata": {},
   "outputs": [
    {
     "data": {
      "text/plain": [
       "Copyright\n",
       "2022     2\n",
       "1945     4\n",
       "1951     6\n",
       "1920     8\n",
       "1924     8\n",
       "1991     8\n",
       "1921     9\n",
       "1943    10\n",
       "1944    10\n",
       "1992    10\n",
       "1942    11\n",
       "1925    12\n",
       "1953    12\n",
       "1923    13\n",
       "1946    13\n",
       "1949    13\n",
       "1954    13\n",
       "1955    14\n",
       "1952    16\n",
       "1998    16\n",
       "Name: Film, dtype: int64"
      ]
     },
     "execution_count": 7,
     "metadata": {},
     "output_type": "execute_result"
    }
   ],
   "source": [
    "hcf.groupby(\"Copyright\")[\"Film\"].nunique().nsmallest(20)"
   ]
  },
  {
   "cell_type": "code",
   "execution_count": 8,
   "id": "f501070e",
   "metadata": {},
   "outputs": [
    {
     "data": {
      "text/plain": [
       "603     černobílý\n",
       "4196      barevný\n",
       "2079      barevný\n",
       "2200    černobílý\n",
       "2873      barevný\n",
       "1622    černobílý\n",
       "1066    černobílý\n",
       "797     černobílý\n",
       "1677    černobílý\n",
       "4451      barevný\n",
       "Name: Barva, dtype: object"
      ]
     },
     "execution_count": 8,
     "metadata": {},
     "output_type": "execute_result"
    }
   ],
   "source": [
    "hcf[\"Barva\"].sample(10)"
   ]
  },
  {
   "cell_type": "code",
   "execution_count": 9,
   "id": "029e4d4b",
   "metadata": {},
   "outputs": [
    {
     "data": {
      "text/plain": [
       "<AxesSubplot:xlabel='Copyright'>"
      ]
     },
     "execution_count": 9,
     "metadata": {},
     "output_type": "execute_result"
    },
    {
     "data": {
      "image/png": "[encoded data removed]",
      "text/plain": [
       "<Figure size 1440x360 with 1 Axes>"
      ]
     },
     "metadata": {
      "needs_background": "light"
     },
     "output_type": "display_data"
    }
   ],
   "source": [
    "pd.Series(hcf[hcf[\"Barva\"] == \"barevný\"].groupby(\"Copyright\")[\"Film\"].nunique() / hcf.groupby(\"Copyright\")[\"Film\"].nunique()).plot.bar(figsize=(20,5))"
   ]
  },
  {
   "cell_type": "code",
   "execution_count": 10,
   "id": "fe1564bc",
   "metadata": {},
   "outputs": [
    {
     "data": {
      "text/plain": [
       "<AxesSubplot:xlabel='Copyright'>"
      ]
     },
     "execution_count": 10,
     "metadata": {},
     "output_type": "execute_result"
    },
    {
     "data": {
      "image/png": "[encoded data removed]",
      "text/plain": [
       "<Figure size 1440x360 with 1 Axes>"
      ]
     },
     "metadata": {
      "needs_background": "light"
     },
     "output_type": "display_data"
    }
   ],
   "source": [
    "hcf.explode(\"Země původu\").groupby(\"Copyright\")[\"Země původu\"].nunique().plot.bar(figsize=(20,5))"
   ]
  },
  {
   "cell_type": "code",
   "execution_count": 13,
   "id": "a6dabb90",
   "metadata": {
    "scrolled": true
   },
   "outputs": [
    {
     "data": {
      "text/plain": [
       "<AxesSubplot:xlabel='Copyright'>"
      ]
     },
     "execution_count": 13,
     "metadata": {},
     "output_type": "execute_result"
    },
    {
     "data": {
      "image/png": "[encoded data removed]",
      "text/plain": [
       "<Figure size 1440x360 with 1 Axes>"
      ]
     },
     "metadata": {
      "needs_background": "light"
     },
     "output_type": "display_data"
    }
   ],
   "source": [
    "hcf.explode(\"Výrobce\").groupby(\"Copyright\")[\"Výrobce\"].nunique().plot.bar(figsize=(20,5))"
   ]
  },
  {
   "cell_type": "markdown",
   "id": "600557c3",
   "metadata": {},
   "source": [
    "## Nedochované filmy"
   ]
  },
  {
   "cell_type": "code",
   "execution_count": 16,
   "id": "63d24352",
   "metadata": {},
   "outputs": [
    {
     "data": {
      "text/plain": [
       "0                          None\n",
       "4                   nedochovaný\n",
       "46     nedokončený, nedochovaný\n",
       "165                 nedokončený\n",
       "Name: Stav filmu, dtype: object"
      ]
     },
     "execution_count": 16,
     "metadata": {},
     "output_type": "execute_result"
    }
   ],
   "source": [
    "df[\"Stav filmu\"].drop_duplicates()"
   ]
  },
  {
   "cell_type": "code",
   "execution_count": 25,
   "id": "bf1fccb7",
   "metadata": {},
   "outputs": [
    {
     "data": {
      "text/plain": [
       "<AxesSubplot:xlabel='Copyright'>"
      ]
     },
     "execution_count": 25,
     "metadata": {},
     "output_type": "execute_result"
    },
    {
     "data": {
      "image/png": "[encoded data removed]",
      "text/plain": [
       "<Figure size 1440x360 with 1 Axes>"
      ]
     },
     "metadata": {
      "needs_background": "light"
     },
     "output_type": "display_data"
    }
   ],
   "source": [
    "(df[df[\"Stav filmu\"].str.lower().str.contains(\"nedocho\",na=False)].groupby(\"Copyright\")[\"Film\"].nunique() / df.groupby(\"Copyright\")[\"Film\"].nunique()).plot.bar(figsize=(20,5))"
   ]
  },
  {
   "cell_type": "code",
   "execution_count": 27,
   "id": "453e328d",
   "metadata": {},
   "outputs": [],
   "source": [
    "nejobsazovanejsi_herci = df.explode(\"Hrají\").groupby(\"Hrají\")[\"Film\"].nunique().nlargest(50).to_list()"
   ]
  },
  {
   "cell_type": "code",
   "execution_count": 33,
   "id": "e7fbd821",
   "metadata": {},
   "outputs": [],
   "source": [
    "nedochovane = df[df[\"Stav filmu\"].str.lower().str.contains(\"nedocho\",na=False)].explode(\"Hrají\")"
   ]
  },
  {
   "cell_type": "code",
   "execution_count": 34,
   "id": "05f576b9",
   "metadata": {},
   "outputs": [
    {
     "data": {
      "text/plain": [
       "Hrají\n",
       "Theodor Pištěk (37366)             33\n",
       "Jan W. Speerger (55928)            27\n",
       "Josef Šváb-Malostranský (55291)    22\n",
       "Karel Lamač (37847)                21\n",
       "Suzanne Marwille (127373)          17\n",
       "Karel Schleichert (83230)          15\n",
       "Marie Oliaková (124867)            14\n",
       "Alois Sedláček (126991)            13\n",
       "Josef Rovenský (37766)             13\n",
       "Luigi Hofman (125431)              13\n",
       "Name: Film, dtype: int64"
      ]
     },
     "execution_count": 34,
     "metadata": {},
     "output_type": "execute_result"
    }
   ],
   "source": [
    "nedochovane.groupby(\"Hrají\")[\"Film\"].nunique().nlargest(10)"
   ]
  },
  {
   "cell_type": "code",
   "execution_count": 37,
   "id": "a2c4a6ce",
   "metadata": {
    "scrolled": true
   },
   "outputs": [
    {
     "data": {
      "text/html": [
       "<div>\n",
       "<style scoped>\n",
       "    .dataframe tbody tr th:only-of-type {\n",
       "        vertical-align: middle;\n",
       "    }\n",
       "\n",
       "    .dataframe tbody tr th {\n",
       "        vertical-align: top;\n",
       "    }\n",
       "\n",
       "    .dataframe thead th {\n",
       "        text-align: right;\n",
       "    }\n",
       "</style>\n",
       "<table border=\"1\" class=\"dataframe\">\n",
       "  <thead>\n",
       "    <tr style=\"text-align: right;\">\n",
       "      <th></th>\n",
       "      <th>Film</th>\n",
       "      <th>Země původu</th>\n",
       "      <th>Copyright</th>\n",
       "      <th>Rok výroby</th>\n",
       "      <th>Premiéra</th>\n",
       "      <th>Minutáž</th>\n",
       "      <th>Režie</th>\n",
       "      <th>Kategorie</th>\n",
       "      <th>Žánr</th>\n",
       "      <th>Typologie</th>\n",
       "      <th>Originální název</th>\n",
       "      <th>Český název</th>\n",
       "      <th>Anglický název</th>\n",
       "      <th>Souběžný název</th>\n",
       "      <th>Pracovní název</th>\n",
       "      <th>Hrají</th>\n",
       "      <th>Postavy</th>\n",
       "      <th>Pomocná režie</th>\n",
       "      <th>Asistent režie</th>\n",
       "      <th>Původní filmový námět</th>\n",
       "      <th>Scénář</th>\n",
       "      <th>Dramaturg</th>\n",
       "      <th>Kamera</th>\n",
       "      <th>Asistent kamery</th>\n",
       "      <th>Architekt</th>\n",
       "      <th>Návrhy kostýmů</th>\n",
       "      <th>Masky</th>\n",
       "      <th>Střih</th>\n",
       "      <th>Zvuk</th>\n",
       "      <th>Producent</th>\n",
       "      <th>Vedoucí výroby</th>\n",
       "      <th>Zástupce vedoucího výroby</th>\n",
       "      <th>Odborný poradce</th>\n",
       "      <th>Hudba</th>\n",
       "      <th>Choreografie</th>\n",
       "      <th>Lokace</th>\n",
       "      <th>Distribuční slogan</th>\n",
       "      <th>Výrobce</th>\n",
       "      <th>S podporou</th>\n",
       "      <th>Nositelé copyrightu</th>\n",
       "      <th>Distribuce</th>\n",
       "      <th>Délka</th>\n",
       "      <th>Distribuční nosič</th>\n",
       "      <th>Poměr stran</th>\n",
       "      <th>Barva</th>\n",
       "      <th>Zvukový systém/formát</th>\n",
       "      <th>Verze</th>\n",
       "      <th>Mluveno</th>\n",
       "      <th>Podtitulky</th>\n",
       "      <th>Úvodní/závěrečné titulky</th>\n",
       "      <th>Anotace</th>\n",
       "      <th>Obsah</th>\n",
       "      <th>Technický scénář</th>\n",
       "      <th>Výtvarník</th>\n",
       "      <th>Animace</th>\n",
       "      <th>Triky</th>\n",
       "      <th>Postprodukce</th>\n",
       "      <th>Návrhy titulků</th>\n",
       "      <th>Pedagogické vedení</th>\n",
       "      <th>Použitá hudba</th>\n",
       "      <th>Studentský film</th>\n",
       "      <th>Původní metráž</th>\n",
       "      <th>Mezititulky</th>\n",
       "      <th>Ocenění</th>\n",
       "      <th>Poznámka</th>\n",
       "      <th>Mluví</th>\n",
       "      <th>Vizuální efekty</th>\n",
       "      <th>Vedoucí produkce</th>\n",
       "      <th>Předloha</th>\n",
       "      <th>Kaskadéři</th>\n",
       "      <th>Text písně</th>\n",
       "      <th>Zpívá</th>\n",
       "      <th>pásmo</th>\n",
       "      <th>Části</th>\n",
       "      <th>Produkce</th>\n",
       "      <th>Výtvarná spolupráce</th>\n",
       "      <th>Nahrál</th>\n",
       "      <th>Partner</th>\n",
       "      <th>Animační technika</th>\n",
       "      <th>Výprava</th>\n",
       "      <th>Spolupráce</th>\n",
       "      <th>Komentář</th>\n",
       "      <th>Autor komentáře</th>\n",
       "      <th>Druhá kamera</th>\n",
       "      <th>Zvláštní efekty</th>\n",
       "      <th>Koproducent</th>\n",
       "      <th>Výběr hudby</th>\n",
       "      <th>Hudební dramaturgie</th>\n",
       "      <th>Písně</th>\n",
       "      <th>Produkční data</th>\n",
       "      <th>Koordinátor kaskadérů</th>\n",
       "      <th>Výkonná produkce</th>\n",
       "      <th>Zástupce vedoucího produkce</th>\n",
       "      <th>Hudební režie</th>\n",
       "      <th>Účinkují</th>\n",
       "      <th>Dirigent</th>\n",
       "      <th>Ateliéry</th>\n",
       "      <th>Režie české verze</th>\n",
       "      <th>Výrobce české verze</th>\n",
       "      <th>Tančí</th>\n",
       "      <th>České podtitulky</th>\n",
       "      <th>Výrobce českých podtitulků</th>\n",
       "      <th>Asistent vedoucího produkce</th>\n",
       "      <th>Natáčecí formát</th>\n",
       "      <th>Dialogy české verze</th>\n",
       "      <th>Autor projektu</th>\n",
       "      <th>Stav filmu</th>\n",
       "      <th>Souběžný anglický název</th>\n",
       "      <th>Assistent architekta</th>\n",
       "      <th>Asistent zvuku</th>\n",
       "      <th>Podnázev</th>\n",
       "      <th>Asistent vedoucího výroby</th>\n",
       "      <th>Skript</th>\n",
       "      <th>Kostýmy</th>\n",
       "      <th>Asistent střihu</th>\n",
       "      <th>povídkový film</th>\n",
       "      <th>Povídky</th>\n",
       "      <th>Hudba k písni</th>\n",
       "      <th>Prodej práv</th>\n",
       "      <th>Podnázev anglický</th>\n",
       "      <th>Výtvarník pozadí</th>\n",
       "      <th>Výrobní skupina</th>\n",
       "      <th>Zákazník</th>\n",
       "      <th>Vývozní společnost</th>\n",
       "      <th>Umělecké vedení</th>\n",
       "      <th>Zpěv role</th>\n",
       "      <th>Překlad české verze</th>\n",
       "      <th>Rychlost</th>\n",
       "      <th>Přístupnost</th>\n",
       "      <th>Začátek výroby</th>\n",
       "      <th>Konec výroby</th>\n",
       "    </tr>\n",
       "  </thead>\n",
       "  <tbody>\n",
       "    <tr>\n",
       "      <th>262</th>\n",
       "      <td>Tu ten kámen (395326)</td>\n",
       "      <td>Československo</td>\n",
       "      <td>1923</td>\n",
       "      <td>1923</td>\n",
       "      <td>premiéra 7. 9. 1923 /nepřístupný mládeži/ (kin...</td>\n",
       "      <td>64.0</td>\n",
       "      <td>Karel Anton (37987)</td>\n",
       "      <td>film</td>\n",
       "      <td>komedie</td>\n",
       "      <td>[hraný, distribuční]</td>\n",
       "      <td>Tu ten kámen</td>\n",
       "      <td>Tu ten kámen</td>\n",
       "      <td>Tutankhamen</td>\n",
       "      <td>Kterak láskou možno v mžiku vzplanout třeba k ...</td>\n",
       "      <td>None</td>\n",
       "      <td>Vlasta Burian (11992)</td>\n",
       "      <td>[Fridolín, egyptolog Rapapides Bulva, starosta...</td>\n",
       "      <td>None</td>\n",
       "      <td>None</td>\n",
       "      <td>Karel Anton (37987)</td>\n",
       "      <td>Karel Anton (37987)</td>\n",
       "      <td>None</td>\n",
       "      <td>Otto Heller (127281)</td>\n",
       "      <td>None</td>\n",
       "      <td>[Bohuslav Šula (127389), František Poneš (1279...</td>\n",
       "      <td>None</td>\n",
       "      <td>None</td>\n",
       "      <td>None</td>\n",
       "      <td>němý</td>\n",
       "      <td>None</td>\n",
       "      <td>None</td>\n",
       "      <td>None</td>\n",
       "      <td>None</td>\n",
       "      <td>None</td>\n",
       "      <td>None</td>\n",
       "      <td>[]</td>\n",
       "      <td>Nejrozpustilejší česká veselohra. V hlavních ú...</td>\n",
       "      <td>Anton</td>\n",
       "      <td>None</td>\n",
       "      <td>Národní filmový archiv</td>\n",
       "      <td>Julius Schmitt</td>\n",
       "      <td>dlouhometrážní</td>\n",
       "      <td>35mm</td>\n",
       "      <td>1.33</td>\n",
       "      <td>černobílý</td>\n",
       "      <td>None</td>\n",
       "      <td>česká</td>\n",
       "      <td>bez dialogů</td>\n",
       "      <td>bez titulků</td>\n",
       "      <td>české</td>\n",
       "      <td>None</td>\n",
       "      <td>Hrdinou příběhu je mladý sličný asistent slavn...</td>\n",
       "      <td>None</td>\n",
       "      <td>None</td>\n",
       "      <td>None</td>\n",
       "      <td>None</td>\n",
       "      <td>None</td>\n",
       "      <td>None</td>\n",
       "      <td>None</td>\n",
       "      <td>None</td>\n",
       "      <td>None</td>\n",
       "      <td>1800.0</td>\n",
       "      <td>české</td>\n",
       "      <td>None</td>\n",
       "      <td>První filmová role Vlasty Buriana. Filmové mat...</td>\n",
       "      <td>None</td>\n",
       "      <td>None</td>\n",
       "      <td>None</td>\n",
       "      <td>None</td>\n",
       "      <td>None</td>\n",
       "      <td>None</td>\n",
       "      <td>None</td>\n",
       "      <td>None</td>\n",
       "      <td>None</td>\n",
       "      <td>None</td>\n",
       "      <td>None</td>\n",
       "      <td>None</td>\n",
       "      <td>None</td>\n",
       "      <td>None</td>\n",
       "      <td>None</td>\n",
       "      <td>Jaroslav Balzar (124087)</td>\n",
       "      <td>None</td>\n",
       "      <td>None</td>\n",
       "      <td>None</td>\n",
       "      <td>None</td>\n",
       "      <td>None</td>\n",
       "      <td>None</td>\n",
       "      <td>None</td>\n",
       "      <td>None</td>\n",
       "      <td>None</td>\n",
       "      <td>None</td>\n",
       "      <td>None</td>\n",
       "      <td>None</td>\n",
       "      <td>None</td>\n",
       "      <td>None</td>\n",
       "      <td>None</td>\n",
       "      <td>AB Vinohrady</td>\n",
       "      <td>None</td>\n",
       "      <td>None</td>\n",
       "      <td>None</td>\n",
       "      <td>None</td>\n",
       "      <td>None</td>\n",
       "      <td>None</td>\n",
       "      <td>None</td>\n",
       "      <td>None</td>\n",
       "      <td>None</td>\n",
       "      <td>nedochovaný</td>\n",
       "      <td>How Love Can Flame in an Instant, Even for the...</td>\n",
       "      <td>None</td>\n",
       "      <td>None</td>\n",
       "      <td>None</td>\n",
       "      <td>None</td>\n",
       "      <td>None</td>\n",
       "      <td>None</td>\n",
       "      <td>None</td>\n",
       "      <td>None</td>\n",
       "      <td>None</td>\n",
       "      <td>None</td>\n",
       "      <td>None</td>\n",
       "      <td>None</td>\n",
       "      <td>None</td>\n",
       "      <td>None</td>\n",
       "      <td>None</td>\n",
       "      <td>None</td>\n",
       "      <td>None</td>\n",
       "      <td>None</td>\n",
       "      <td>None</td>\n",
       "      <td>None</td>\n",
       "      <td>None</td>\n",
       "      <td>1923</td>\n",
       "      <td>1923</td>\n",
       "    </tr>\n",
       "  </tbody>\n",
       "</table>\n",
       "</div>"
      ],
      "text/plain": [
       "                      Film     Země původu  Copyright Rok výroby   \n",
       "262  Tu ten kámen (395326)  Československo       1923       1923  \\\n",
       "\n",
       "                                              Premiéra  Minutáž   \n",
       "262  premiéra 7. 9. 1923 /nepřístupný mládeži/ (kin...     64.0  \\\n",
       "\n",
       "                   Režie Kategorie     Žánr             Typologie   \n",
       "262  Karel Anton (37987)      film  komedie  [hraný, distribuční]  \\\n",
       "\n",
       "    Originální název   Český název Anglický název   \n",
       "262     Tu ten kámen  Tu ten kámen    Tutankhamen  \\\n",
       "\n",
       "                                        Souběžný název Pracovní název   \n",
       "262  Kterak láskou možno v mžiku vzplanout třeba k ...           None  \\\n",
       "\n",
       "                     Hrají                                            Postavy   \n",
       "262  Vlasta Burian (11992)  [Fridolín, egyptolog Rapapides Bulva, starosta...  \\\n",
       "\n",
       "    Pomocná režie Asistent režie Původní filmový námět               Scénář   \n",
       "262          None           None   Karel Anton (37987)  Karel Anton (37987)  \\\n",
       "\n",
       "    Dramaturg                Kamera Asistent kamery   \n",
       "262      None  Otto Heller (127281)            None  \\\n",
       "\n",
       "                                             Architekt Návrhy kostýmů Masky   \n",
       "262  [Bohuslav Šula (127389), František Poneš (1279...           None  None  \\\n",
       "\n",
       "    Střih  Zvuk Producent Vedoucí výroby Zástupce vedoucího výroby   \n",
       "262  None  němý      None           None                      None  \\\n",
       "\n",
       "    Odborný poradce Hudba Choreografie Lokace   \n",
       "262            None  None         None     []  \\\n",
       "\n",
       "                                    Distribuční slogan Výrobce S podporou   \n",
       "262  Nejrozpustilejší česká veselohra. V hlavních ú...   Anton       None  \\\n",
       "\n",
       "        Nositelé copyrightu      Distribuce           Délka Distribuční nosič   \n",
       "262  Národní filmový archiv  Julius Schmitt  dlouhometrážní              35mm  \\\n",
       "\n",
       "    Poměr stran      Barva Zvukový systém/formát  Verze      Mluveno   \n",
       "262        1.33  černobílý                  None  česká  bez dialogů  \\\n",
       "\n",
       "      Podtitulky Úvodní/závěrečné titulky Anotace   \n",
       "262  bez titulků                    české    None  \\\n",
       "\n",
       "                                                 Obsah Technický scénář   \n",
       "262  Hrdinou příběhu je mladý sličný asistent slavn...             None  \\\n",
       "\n",
       "    Výtvarník Animace Triky Postprodukce Návrhy titulků Pedagogické vedení   \n",
       "262      None    None  None         None           None               None  \\\n",
       "\n",
       "    Použitá hudba Studentský film  Původní metráž Mezititulky Ocenění   \n",
       "262          None            None          1800.0       české    None  \\\n",
       "\n",
       "                                              Poznámka Mluví Vizuální efekty   \n",
       "262  První filmová role Vlasty Buriana. Filmové mat...  None            None  \\\n",
       "\n",
       "    Vedoucí produkce Předloha Kaskadéři Text písně Zpívá pásmo Části Produkce   \n",
       "262             None     None      None       None  None  None  None     None  \\\n",
       "\n",
       "    Výtvarná spolupráce Nahrál Partner Animační technika Výprava   \n",
       "262                None   None    None              None    None  \\\n",
       "\n",
       "                   Spolupráce Komentář Autor komentáře Druhá kamera   \n",
       "262  Jaroslav Balzar (124087)     None            None         None  \\\n",
       "\n",
       "    Zvláštní efekty Koproducent Výběr hudby Hudební dramaturgie Písně   \n",
       "262            None        None        None                None  None  \\\n",
       "\n",
       "    Produkční data Koordinátor kaskadérů Výkonná produkce   \n",
       "262           None                  None             None  \\\n",
       "\n",
       "    Zástupce vedoucího produkce Hudební režie Účinkují Dirigent      Ateliéry   \n",
       "262                        None          None     None     None  AB Vinohrady  \\\n",
       "\n",
       "    Režie české verze Výrobce české verze Tančí České podtitulky   \n",
       "262              None                None  None             None  \\\n",
       "\n",
       "    Výrobce českých podtitulků Asistent vedoucího produkce Natáčecí formát   \n",
       "262                       None                        None            None  \\\n",
       "\n",
       "    Dialogy české verze Autor projektu   Stav filmu   \n",
       "262                None           None  nedochovaný  \\\n",
       "\n",
       "                               Souběžný anglický název Assistent architekta   \n",
       "262  How Love Can Flame in an Instant, Even for the...                 None  \\\n",
       "\n",
       "    Asistent zvuku Podnázev Asistent vedoucího výroby Skript Kostýmy   \n",
       "262           None     None                      None   None    None  \\\n",
       "\n",
       "    Asistent střihu povídkový film Povídky Hudba k písni Prodej práv   \n",
       "262            None           None    None          None        None  \\\n",
       "\n",
       "    Podnázev anglický Výtvarník pozadí Výrobní skupina Zákazník   \n",
       "262              None             None            None     None  \\\n",
       "\n",
       "    Vývozní společnost Umělecké vedení Zpěv role Překlad české verze Rychlost   \n",
       "262               None            None      None                None     None  \\\n",
       "\n",
       "    Přístupnost  Začátek výroby  Konec výroby  \n",
       "262        None            1923          1923  "
      ]
     },
     "execution_count": 37,
     "metadata": {},
     "output_type": "execute_result"
    }
   ],
   "source": [
    "nedochovane[nedochovane[\"Hrají\"] == \"Vlasta Burian (11992)\"]"
   ]
  },
  {
   "cell_type": "code",
   "execution_count": 39,
   "id": "1447eb64",
   "metadata": {},
   "outputs": [
    {
     "data": {
      "text/plain": [
       "Film\n",
       "Pytagorejci (396963)             1973\n",
       "A v tom zámku... (400451)        1970\n",
       "Anně K. je zima (400452)         1970\n",
       "Hippokratova přísaha (400450)    1970\n",
       "Návštěvy (400449)                1970\n",
       "Vzorný fízl (401944)             1955\n",
       "Jenom krok (396005)              1945\n",
       "Pošťácká pohádka (398617)        1945\n",
       "Z růže kvítek (396004)           1945\n",
       "Předtucha (395984)               1944\n",
       "Name: Copyright, dtype: int64"
      ]
     },
     "execution_count": 39,
     "metadata": {},
     "output_type": "execute_result"
    }
   ],
   "source": [
    "nedochovane.groupby(\"Film\")[\"Copyright\"].max().nlargest(10)"
   ]
  },
  {
   "cell_type": "code",
   "execution_count": 40,
   "id": "a65df2c5",
   "metadata": {},
   "outputs": [
    {
     "data": {
      "text/plain": [
       "Film\n",
       "Jenom krok (396005)                         1945\n",
       "Z růže kvítek (396004)                      1945\n",
       "Předtucha (395984)                          1944\n",
       "Královna stříbrných hor (395855)            1939\n",
       "Cikánská láska (395810)                     1938\n",
       "Panenka [německá verze] (395803)            1938\n",
       "Boží mlýny [německá verze] (395806)         1937\n",
       "Lidé pod horami [německá verze] (395804)    1937\n",
       "Ze všech jediná [německá verze] (395808)    1937\n",
       "Pan otec Karafiát (395673)                  1935\n",
       "Name: Copyright, dtype: int64"
      ]
     },
     "execution_count": 40,
     "metadata": {},
     "output_type": "execute_result"
    }
   ],
   "source": [
    "nedochovane[nedochovane[\"Délka\"] == \"dlouhometrážní\"].groupby(\"Film\")[\"Copyright\"].max().nlargest(10)"
   ]
  },
  {
   "cell_type": "markdown",
   "id": "6dbebad6",
   "metadata": {},
   "source": [
    "## Obsahy"
   ]
  },
  {
   "cell_type": "code",
   "execution_count": 80,
   "id": "ddfadd04",
   "metadata": {},
   "outputs": [],
   "source": [
    "obsahy = hcf[\"Obsah\"].drop_duplicates().to_list()\n",
    "slova = [s for o in obsahy if o for s in o.replace(',', '').replace('.', '').split(' ')]"
   ]
  },
  {
   "cell_type": "code",
   "execution_count": 83,
   "id": "d74500be",
   "metadata": {},
   "outputs": [
    {
     "data": {
      "text/plain": [
       "[('se', 35896),\n",
       " ('a', 29636),\n",
       " ('–', 20276),\n",
       " ('na', 18996),\n",
       " ('s', 15105),\n",
       " ('v', 13793),\n",
       " ('že', 12946),\n",
       " ('je', 11021),\n",
       " ('do', 9862),\n",
       " ('si', 6847),\n",
       " ('o', 6352),\n",
       " ('z', 6305),\n",
       " ('ho', 5333),\n",
       " ('mu', 5030),\n",
       " ('za', 4911),\n",
       " ('ale', 4847),\n",
       " ('jeho', 4239),\n",
       " ('i', 4175),\n",
       " ('který', 4057),\n",
       " ('k', 4055),\n",
       " ('aby', 3739),\n",
       " ('ji', 3594),\n",
       " ('však', 3462),\n",
       " ('po', 3283),\n",
       " ('ve', 3182),\n",
       " ('jí', 3115),\n",
       " ('má', 3056),\n",
       " ('to', 2990),\n",
       " ('u', 2905),\n",
       " ('V', 2651),\n",
       " ('před', 2506),\n",
       " ('pro', 2283),\n",
       " ('jako', 2280),\n",
       " ('Na', 2188),\n",
       " ('která', 2152),\n",
       " ('od', 2128),\n",
       " ('chce', 2065),\n",
       " ('pak', 1947),\n",
       " ('ní', 1831),\n",
       " ('kde', 1817),\n",
       " ('když', 1766),\n",
       " ('své', 1741),\n",
       " ('při', 1705),\n",
       " ('jak', 1653),\n",
       " ('její', 1649),\n",
       " ('jsou', 1600),\n",
       " ('jen', 1547),\n",
       " ('už', 1503),\n",
       " ('ze', 1470),\n",
       " ('Po', 1436),\n",
       " ('tak', 1416),\n",
       " ('Když', 1383),\n",
       " ('kvůli', 1307),\n",
       " ('ním', 1304),\n",
       " ('by', 1259),\n",
       " ('musí', 1255),\n",
       " ('něj', 1197),\n",
       " ('jejich', 1170),\n",
       " ('svou', 1111),\n",
       " ('jim', 1059),\n",
       " ('dá', 1051),\n",
       " ('muž', 1046),\n",
       " ('domů', 1040),\n",
       " ('Při', 1029),\n",
       " ('žena', 1024),\n",
       " ('také', 994),\n",
       " ('protože', 950),\n",
       " ('byl', 923),\n",
       " ('Ten', 916),\n",
       " ('svého', 911),\n",
       " ('tu', 906),\n",
       " ('otec', 905),\n",
       " ('dívka', 894),\n",
       " ('tam', 866),\n",
       " ('-', 856),\n",
       " ('co', 849),\n",
       " ('které', 848),\n",
       " ('Pak', 845),\n",
       " ('zjistí', 843),\n",
       " ('Muž', 834),\n",
       " ('najde', 829),\n",
       " ('Je', 824),\n",
       " ('on', 817),\n",
       " ('dostane', 810),\n",
       " ('místo', 808),\n",
       " ('doma', 808),\n",
       " ('Dívka', 807),\n",
       " ('peníze', 804),\n",
       " ('ke', 795),\n",
       " ('proto', 780),\n",
       " ('řekne', 780),\n",
       " ('jde', 766),\n",
       " ('podle', 762),\n",
       " ('Petr', 742),\n",
       " ('objeví', 740),\n",
       " ('vrátí', 735),\n",
       " ('noci', 732),\n",
       " ('prý', 729),\n",
       " ('bude', 717),\n",
       " ('odmítne', 716)]"
      ]
     },
     "execution_count": 83,
     "metadata": {},
     "output_type": "execute_result"
    }
   ],
   "source": [
    "from collections import Counter\n",
    "count = Counter(slova)\n",
    "most_common_100 = count.most_common(100)\n",
    "most_common_100"
   ]
  },
  {
   "cell_type": "code",
   "execution_count": 48,
   "id": "82771b38",
   "metadata": {},
   "outputs": [],
   "source": [
    "def jak_casto (slovo, frame):\n",
    "    df_pracovni = frame[[\"Copyright\",\"Obsah\",\"Film\",\"Minutáž\"]]\n",
    "    cetnost = df_pracovni[df_pracovni[\"Obsah\"].str.lower().str.contains(slovo,regex=True,na=False)].groupby(\"Copyright\")[\"Film\"].nunique() / df_pracovni.groupby(\"Copyright\")[\"Film\"].nunique()\n",
    "    cetnost.plot.bar(figsize=(20,5))\n",
    "    return(cetnost)"
   ]
  },
  {
   "cell_type": "markdown",
   "id": "e333c735",
   "metadata": {},
   "source": [
    "Nejdřív zkusíme \"když\" – zjistíme tak, jestli někde něco nechybí."
   ]
  },
  {
   "cell_type": "code",
   "execution_count": 84,
   "id": "ce386990",
   "metadata": {},
   "outputs": [
    {
     "data": {
      "text/plain": [
       "Copyright\n",
       "1920    0.250000\n",
       "1921    0.666667\n",
       "1922    0.476190\n",
       "1923    0.384615\n",
       "1924    0.375000\n",
       "          ...   \n",
       "2018    0.931818\n",
       "2019    0.954545\n",
       "2020    1.000000\n",
       "2021    0.818182\n",
       "2022    1.000000\n",
       "Name: Film, Length: 103, dtype: float64"
      ]
     },
     "execution_count": 84,
     "metadata": {},
     "output_type": "execute_result"
    },
    {
     "data": {
      "image/png": "[encoded data removed]",
      "text/plain": [
       "<Figure size 1440x360 with 1 Axes>"
      ]
     },
     "metadata": {
      "needs_background": "light"
     },
     "output_type": "display_data"
    }
   ],
   "source": [
    "jak_casto(\"když\",hcf)"
   ]
  },
  {
   "cell_type": "markdown",
   "id": "74f30162",
   "metadata": {},
   "source": [
    "Hurá, nechybí!"
   ]
  },
  {
   "cell_type": "code",
   "execution_count": 52,
   "id": "1e8841ba",
   "metadata": {},
   "outputs": [
    {
     "data": {
      "text/plain": [
       "Copyright\n",
       "1920         NaN\n",
       "1921         NaN\n",
       "1922         NaN\n",
       "1923         NaN\n",
       "1924         NaN\n",
       "          ...   \n",
       "2018    0.022727\n",
       "2019         NaN\n",
       "2020    0.050000\n",
       "2021    0.045455\n",
       "2022         NaN\n",
       "Name: Film, Length: 103, dtype: float64"
      ]
     },
     "execution_count": 52,
     "metadata": {},
     "output_type": "execute_result"
    },
    {
     "data": {
      "image/png": "[encoded data removed]",
      "text/plain": [
       "<Figure size 1440x360 with 1 Axes>"
      ]
     },
     "metadata": {
      "needs_background": "light"
     },
     "output_type": "display_data"
    }
   ],
   "source": [
    "jak_casto(\"prostitu\",hcf)"
   ]
  },
  {
   "cell_type": "code",
   "execution_count": 57,
   "id": "e804a963",
   "metadata": {},
   "outputs": [
    {
     "name": "stderr",
     "output_type": "stream",
     "text": [
      "C:\\Users\\micha\\AppData\\Local\\Temp\\ipykernel_5704\\3623620700.py:3: UserWarning: This pattern is interpreted as a regular expression, and has match groups. To actually get the groups, use str.extract.\n",
      "  cetnost = df_pracovni[df_pracovni[\"Obsah\"].str.lower().str.contains(slovo,regex=True,na=False)].groupby(\"Copyright\")[\"Film\"].nunique() / df_pracovni.groupby(\"Copyright\")[\"Film\"].nunique()\n"
     ]
    },
    {
     "data": {
      "text/plain": [
       "Copyright\n",
       "1920    0.125000\n",
       "1921    0.222222\n",
       "1922    0.095238\n",
       "1923    0.384615\n",
       "1924    0.250000\n",
       "          ...   \n",
       "2018    0.477273\n",
       "2019    0.363636\n",
       "2020    0.700000\n",
       "2021    0.363636\n",
       "2022    0.500000\n",
       "Name: Film, Length: 103, dtype: float64"
      ]
     },
     "execution_count": 57,
     "metadata": {},
     "output_type": "execute_result"
    },
    {
     "data": {
      "image/png": "[encoded data removed]",
      "text/plain": [
       "<Figure size 1440x360 with 1 Axes>"
      ]
     },
     "metadata": {
      "needs_background": "light"
     },
     "output_type": "display_data"
    }
   ],
   "source": [
    "jak_casto(\"(milenk|milence|milenec|poměr[^\\w]|nemanželsk)\",hcf)"
   ]
  },
  {
   "cell_type": "code",
   "execution_count": 51,
   "id": "91f9800a",
   "metadata": {},
   "outputs": [
    {
     "name": "stderr",
     "output_type": "stream",
     "text": [
      "C:\\Users\\micha\\AppData\\Local\\Temp\\ipykernel_5704\\3623620700.py:3: UserWarning: This pattern is interpreted as a regular expression, and has match groups. To actually get the groups, use str.extract.\n",
      "  cetnost = df_pracovni[df_pracovni[\"Obsah\"].str.lower().str.contains(slovo,regex=True,na=False)].groupby(\"Copyright\")[\"Film\"].nunique() / df_pracovni.groupby(\"Copyright\")[\"Film\"].nunique()\n"
     ]
    },
    {
     "data": {
      "text/plain": [
       "Copyright\n",
       "1920         NaN\n",
       "1921         NaN\n",
       "1922         NaN\n",
       "1923         NaN\n",
       "1924         NaN\n",
       "          ...   \n",
       "2018    0.227273\n",
       "2019    0.159091\n",
       "2020    0.200000\n",
       "2021    0.136364\n",
       "2022         NaN\n",
       "Name: Film, Length: 103, dtype: float64"
      ]
     },
     "execution_count": 51,
     "metadata": {},
     "output_type": "execute_result"
    },
    {
     "data": {
      "image/png": "[encoded data removed]",
      "text/plain": [
       "<Figure size 1440x360 with 1 Axes>"
      ]
     },
     "metadata": {
      "needs_background": "light"
     },
     "output_type": "display_data"
    }
   ],
   "source": [
    "jak_casto(\"(komunis|KSČ)\",hcf)"
   ]
  },
  {
   "cell_type": "code",
   "execution_count": 49,
   "id": "e6aa5166",
   "metadata": {},
   "outputs": [
    {
     "data": {
      "text/plain": [
       "Copyright\n",
       "1920         NaN\n",
       "1921    0.111111\n",
       "1922         NaN\n",
       "1923         NaN\n",
       "1924         NaN\n",
       "          ...   \n",
       "2018    0.318182\n",
       "2019    0.159091\n",
       "2020    0.300000\n",
       "2021    0.136364\n",
       "2022         NaN\n",
       "Name: Film, Length: 103, dtype: float64"
      ]
     },
     "execution_count": 49,
     "metadata": {},
     "output_type": "execute_result"
    },
    {
     "data": {
      "image/png": "[encoded data removed]",
      "text/plain": [
       "<Figure size 1440x360 with 1 Axes>"
      ]
     },
     "metadata": {
      "needs_background": "light"
     },
     "output_type": "display_data"
    }
   ],
   "source": [
    "jak_casto(\"hotel\",hcf)"
   ]
  }
 ],
 "metadata": {
  "kernelspec": {
   "display_name": "Python 3 (ipykernel)",
   "language": "python",
   "name": "python3"
  },
  "language_info": {
   "codemirror_mode": {
    "name": "ipython",
    "version": 3
   },
   "file_extension": ".py",
   "mimetype": "text/x-python",
   "name": "python",
   "nbconvert_exporter": "python",
   "pygments_lexer": "ipython3",
   "version": "3.10.8"
  }
 },
 "nbformat": 4,
 "nbformat_minor": 5
}
