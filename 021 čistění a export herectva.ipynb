{
 "cells": [
  {
   "cell_type": "code",
   "execution_count": 1,
   "id": "2f0cdacc",
   "metadata": {},
   "outputs": [],
   "source": [
    "import os\n",
    "import pandas as pd\n",
    "import json"
   ]
  },
  {
   "cell_type": "code",
   "execution_count": 2,
   "id": "c723e64a",
   "metadata": {},
   "outputs": [],
   "source": [
    "with open(os.path.join(\"data_fixes\", \"opravy.json\"), encoding=\"utf-8\") as opravy:\n",
    "    opravy = json.loads(opravy.read())"
   ]
  },
  {
   "cell_type": "code",
   "execution_count": 3,
   "id": "66753655",
   "metadata": {},
   "outputs": [],
   "source": [
    "herectvo = pd.read_json(\"herectvo_raw.json\")"
   ]
  },
  {
   "cell_type": "code",
   "execution_count": 4,
   "id": "8d46d1cd",
   "metadata": {},
   "outputs": [
    {
     "data": {
      "text/plain": [
       "(86844, 12)"
      ]
     },
     "execution_count": 4,
     "metadata": {},
     "output_type": "execute_result"
    }
   ],
   "source": [
    "herectvo.shape"
   ]
  },
  {
   "cell_type": "markdown",
   "id": "4ad6dfd2",
   "metadata": {},
   "source": [
    "## Jen relevantní filmy"
   ]
  },
  {
   "cell_type": "code",
   "execution_count": 5,
   "id": "11722320",
   "metadata": {},
   "outputs": [],
   "source": [
    "df = pd.read_json(os.path.join(\"data\", \"filmy.json\"))"
   ]
  },
  {
   "cell_type": "code",
   "execution_count": 6,
   "id": "286c216e",
   "metadata": {},
   "outputs": [],
   "source": [
    "relevantni_filmy = df[\"Film\"].to_list()"
   ]
  },
  {
   "cell_type": "code",
   "execution_count": 7,
   "id": "027d4265",
   "metadata": {},
   "outputs": [],
   "source": [
    "herectvo = herectvo[herectvo[\"Film\"].isin(relevantni_filmy)]"
   ]
  },
  {
   "cell_type": "code",
   "execution_count": 8,
   "id": "c6a32e83",
   "metadata": {},
   "outputs": [
    {
     "data": {
      "text/plain": [
       "(86651, 12)"
      ]
     },
     "execution_count": 8,
     "metadata": {},
     "output_type": "execute_result"
    }
   ],
   "source": [
    "herectvo.shape"
   ]
  },
  {
   "cell_type": "markdown",
   "id": "895c08d9",
   "metadata": {},
   "source": [
    "## Opravy"
   ]
  },
  {
   "cell_type": "code",
   "execution_count": 9,
   "id": "ea187765",
   "metadata": {},
   "outputs": [],
   "source": [
    "for key, val in opravy[\"data_narozeni\"].items():\n",
    "    herectvo.loc[herectvo[\"Jméno\"] == key, \"Datum narození\"] = val\n",
    "for key, val in opravy[\"jmena\"].items():\n",
    "    herectvo.loc[herectvo[\"Jméno\"] == key, \"Jméno\"] = val"
   ]
  },
  {
   "cell_type": "markdown",
   "id": "abdfd8c3",
   "metadata": {},
   "source": [
    "## Doplnění dat z Wikidat"
   ]
  },
  {
   "cell_type": "code",
   "execution_count": 10,
   "id": "3500b907",
   "metadata": {},
   "outputs": [
    {
     "data": {
      "text/html": [
       "<div>\n",
       "<style scoped>\n",
       "    .dataframe tbody tr th:only-of-type {\n",
       "        vertical-align: middle;\n",
       "    }\n",
       "\n",
       "    .dataframe tbody tr th {\n",
       "        vertical-align: top;\n",
       "    }\n",
       "\n",
       "    .dataframe thead th {\n",
       "        text-align: right;\n",
       "    }\n",
       "</style>\n",
       "<table border=\"1\" class=\"dataframe\">\n",
       "  <thead>\n",
       "    <tr style=\"text-align: right;\">\n",
       "      <th></th>\n",
       "      <th>Jméno</th>\n",
       "      <th>Bio</th>\n",
       "      <th>Datum narození</th>\n",
       "      <th>Místo narození</th>\n",
       "      <th>Datum úmrtí</th>\n",
       "      <th>Místo úmrtí</th>\n",
       "      <th>Titul</th>\n",
       "      <th>Film</th>\n",
       "      <th>Rok</th>\n",
       "      <th>Úloha</th>\n",
       "      <th>Role</th>\n",
       "      <th>Alternativní jména</th>\n",
       "    </tr>\n",
       "  </thead>\n",
       "  <tbody>\n",
       "    <tr>\n",
       "      <th>76674</th>\n",
       "      <td>Jiří Maryško (81150)</td>\n",
       "      <td>None</td>\n",
       "      <td>None</td>\n",
       "      <td>None</td>\n",
       "      <td>None</td>\n",
       "      <td>None</td>\n",
       "      <td>Modrý tygr</td>\n",
       "      <td>Modrý tygr (66111)</td>\n",
       "      <td>2012</td>\n",
       "      <td>Hrají</td>\n",
       "      <td>lepič plakátů</td>\n",
       "      <td>None</td>\n",
       "    </tr>\n",
       "  </tbody>\n",
       "</table>\n",
       "</div>"
      ],
      "text/plain": [
       "                      Jméno   Bio Datum narození Místo narození Datum úmrtí   \n",
       "76674  Jiří Maryško (81150)  None           None           None        None  \\\n",
       "\n",
       "      Místo úmrtí       Titul                Film   Rok  Úloha           Role   \n",
       "76674        None  Modrý tygr  Modrý tygr (66111)  2012  Hrají  lepič plakátů  \\\n",
       "\n",
       "      Alternativní jména  \n",
       "76674               None  "
      ]
     },
     "execution_count": 10,
     "metadata": {},
     "output_type": "execute_result"
    }
   ],
   "source": [
    "herectvo[herectvo[\"Jméno\"] == \"Jiří Maryško (81150)\"].sample(1)"
   ]
  },
  {
   "cell_type": "code",
   "execution_count": 11,
   "id": "9986a82e",
   "metadata": {},
   "outputs": [
    {
     "data": {
      "text/html": [
       "<div>\n",
       "<style scoped>\n",
       "    .dataframe tbody tr th:only-of-type {\n",
       "        vertical-align: middle;\n",
       "    }\n",
       "\n",
       "    .dataframe tbody tr th {\n",
       "        vertical-align: top;\n",
       "    }\n",
       "\n",
       "    .dataframe thead th {\n",
       "        text-align: right;\n",
       "    }\n",
       "</style>\n",
       "<table border=\"1\" class=\"dataframe\">\n",
       "  <thead>\n",
       "    <tr style=\"text-align: right;\">\n",
       "      <th></th>\n",
       "      <th>Jméno</th>\n",
       "      <th>Bio</th>\n",
       "      <th>Datum narození</th>\n",
       "      <th>Místo narození</th>\n",
       "      <th>Datum úmrtí</th>\n",
       "      <th>Místo úmrtí</th>\n",
       "      <th>Titul</th>\n",
       "      <th>Film</th>\n",
       "      <th>Rok</th>\n",
       "      <th>Úloha</th>\n",
       "      <th>Role</th>\n",
       "      <th>Alternativní jména</th>\n",
       "    </tr>\n",
       "  </thead>\n",
       "  <tbody>\n",
       "    <tr>\n",
       "      <th>28231</th>\n",
       "      <td>Jitka Sedláčková (1435)</td>\n",
       "      <td>None</td>\n",
       "      <td>None</td>\n",
       "      <td>None</td>\n",
       "      <td>None</td>\n",
       "      <td>None</td>\n",
       "      <td>Jedině Tereza</td>\n",
       "      <td>Jedině Tereza (402152)</td>\n",
       "      <td>2021</td>\n",
       "      <td>Hrají</td>\n",
       "      <td>recepční Alena</td>\n",
       "      <td>None</td>\n",
       "    </tr>\n",
       "  </tbody>\n",
       "</table>\n",
       "</div>"
      ],
      "text/plain": [
       "                         Jméno   Bio Datum narození Místo narození   \n",
       "28231  Jitka Sedláčková (1435)  None           None           None  \\\n",
       "\n",
       "      Datum úmrtí Místo úmrtí          Titul                    Film   Rok   \n",
       "28231        None        None  Jedině Tereza  Jedině Tereza (402152)  2021  \\\n",
       "\n",
       "       Úloha            Role Alternativní jména  \n",
       "28231  Hrají  recepční Alena               None  "
      ]
     },
     "execution_count": 11,
     "metadata": {},
     "output_type": "execute_result"
    }
   ],
   "source": [
    "herectvo[herectvo[\"Jméno\"] == \"Jitka Sedláčková (1435)\"].sample(1)"
   ]
  },
  {
   "cell_type": "code",
   "execution_count": 12,
   "id": "b1b6a849",
   "metadata": {},
   "outputs": [],
   "source": [
    "with open(os.path.join(\"data_fixes\", \"data_z_wikidat.json\"), encoding=\"utf-8\") as data_z_wikidat:\n",
    "    data_z_wikidat = json.loads(data_z_wikidat.read())"
   ]
  },
  {
   "cell_type": "code",
   "execution_count": 13,
   "id": "17c7f284",
   "metadata": {},
   "outputs": [],
   "source": [
    "for key, val in data_z_wikidat.items():\n",
    "    herectvo.loc[herectvo[\"Jméno\"] == key, \"Datum narození\"] = val[0]"
   ]
  },
  {
   "cell_type": "code",
   "execution_count": 14,
   "id": "839697c1",
   "metadata": {},
   "outputs": [],
   "source": [
    "for key, val in data_z_wikidat.items():\n",
    "    herectvo.loc[herectvo[\"Jméno\"] == key, \"Datum úmrtí\"] = val[1]"
   ]
  },
  {
   "cell_type": "code",
   "execution_count": 15,
   "id": "18363bb6",
   "metadata": {},
   "outputs": [
    {
     "data": {
      "text/html": [
       "<div>\n",
       "<style scoped>\n",
       "    .dataframe tbody tr th:only-of-type {\n",
       "        vertical-align: middle;\n",
       "    }\n",
       "\n",
       "    .dataframe tbody tr th {\n",
       "        vertical-align: top;\n",
       "    }\n",
       "\n",
       "    .dataframe thead th {\n",
       "        text-align: right;\n",
       "    }\n",
       "</style>\n",
       "<table border=\"1\" class=\"dataframe\">\n",
       "  <thead>\n",
       "    <tr style=\"text-align: right;\">\n",
       "      <th></th>\n",
       "      <th>Jméno</th>\n",
       "      <th>Bio</th>\n",
       "      <th>Datum narození</th>\n",
       "      <th>Místo narození</th>\n",
       "      <th>Datum úmrtí</th>\n",
       "      <th>Místo úmrtí</th>\n",
       "      <th>Titul</th>\n",
       "      <th>Film</th>\n",
       "      <th>Rok</th>\n",
       "      <th>Úloha</th>\n",
       "      <th>Role</th>\n",
       "      <th>Alternativní jména</th>\n",
       "    </tr>\n",
       "  </thead>\n",
       "  <tbody>\n",
       "    <tr>\n",
       "      <th>28243</th>\n",
       "      <td>Jitka Sedláčková (1435)</td>\n",
       "      <td>None</td>\n",
       "      <td>18.03.1961</td>\n",
       "      <td>None</td>\n",
       "      <td>None</td>\n",
       "      <td>None</td>\n",
       "      <td>Mach, Šebestová a kouzelné sluchátko</td>\n",
       "      <td>Mach, Šebestová a kouzelné sluchátko (1659)</td>\n",
       "      <td>2001</td>\n",
       "      <td>Hrají</td>\n",
       "      <td>školníková</td>\n",
       "      <td>None</td>\n",
       "    </tr>\n",
       "  </tbody>\n",
       "</table>\n",
       "</div>"
      ],
      "text/plain": [
       "                         Jméno   Bio Datum narození Místo narození   \n",
       "28243  Jitka Sedláčková (1435)  None     18.03.1961           None  \\\n",
       "\n",
       "      Datum úmrtí Místo úmrtí                                 Titul   \n",
       "28243        None        None  Mach, Šebestová a kouzelné sluchátko  \\\n",
       "\n",
       "                                              Film   Rok  Úloha        Role   \n",
       "28243  Mach, Šebestová a kouzelné sluchátko (1659)  2001  Hrají  školníková  \\\n",
       "\n",
       "      Alternativní jména  \n",
       "28243               None  "
      ]
     },
     "execution_count": 15,
     "metadata": {},
     "output_type": "execute_result"
    }
   ],
   "source": [
    "herectvo[herectvo[\"Jméno\"] == \"Jitka Sedláčková (1435)\"].sample(1)"
   ]
  },
  {
   "cell_type": "code",
   "execution_count": 16,
   "id": "4c7768f8",
   "metadata": {},
   "outputs": [
    {
     "data": {
      "text/html": [
       "<div>\n",
       "<style scoped>\n",
       "    .dataframe tbody tr th:only-of-type {\n",
       "        vertical-align: middle;\n",
       "    }\n",
       "\n",
       "    .dataframe tbody tr th {\n",
       "        vertical-align: top;\n",
       "    }\n",
       "\n",
       "    .dataframe thead th {\n",
       "        text-align: right;\n",
       "    }\n",
       "</style>\n",
       "<table border=\"1\" class=\"dataframe\">\n",
       "  <thead>\n",
       "    <tr style=\"text-align: right;\">\n",
       "      <th></th>\n",
       "      <th>Jméno</th>\n",
       "      <th>Bio</th>\n",
       "      <th>Datum narození</th>\n",
       "      <th>Místo narození</th>\n",
       "      <th>Datum úmrtí</th>\n",
       "      <th>Místo úmrtí</th>\n",
       "      <th>Titul</th>\n",
       "      <th>Film</th>\n",
       "      <th>Rok</th>\n",
       "      <th>Úloha</th>\n",
       "      <th>Role</th>\n",
       "      <th>Alternativní jména</th>\n",
       "    </tr>\n",
       "  </thead>\n",
       "  <tbody>\n",
       "    <tr>\n",
       "      <th>76663</th>\n",
       "      <td>Jiří Maryško (81150)</td>\n",
       "      <td>None</td>\n",
       "      <td>04.04.1980</td>\n",
       "      <td>None</td>\n",
       "      <td>None</td>\n",
       "      <td>None</td>\n",
       "      <td>Tajemství staré bambitky 2</td>\n",
       "      <td>Tajemství staré bambitky 2 (402174)</td>\n",
       "      <td>2021</td>\n",
       "      <td>Hrají</td>\n",
       "      <td>princ Oleandr, nápadník</td>\n",
       "      <td>None</td>\n",
       "    </tr>\n",
       "  </tbody>\n",
       "</table>\n",
       "</div>"
      ],
      "text/plain": [
       "                      Jméno   Bio Datum narození Místo narození Datum úmrtí   \n",
       "76663  Jiří Maryško (81150)  None     04.04.1980           None        None  \\\n",
       "\n",
       "      Místo úmrtí                       Titul   \n",
       "76663        None  Tajemství staré bambitky 2  \\\n",
       "\n",
       "                                      Film   Rok  Úloha   \n",
       "76663  Tajemství staré bambitky 2 (402174)  2021  Hrají  \\\n",
       "\n",
       "                          Role Alternativní jména  \n",
       "76663  princ Oleandr, nápadník               None  "
      ]
     },
     "execution_count": 16,
     "metadata": {},
     "output_type": "execute_result"
    }
   ],
   "source": [
    "herectvo[herectvo[\"Jméno\"] == \"Jiří Maryško (81150)\"].sample(1)"
   ]
  },
  {
   "cell_type": "markdown",
   "id": "4059a3d3",
   "metadata": {},
   "source": [
    "## Data a místa"
   ]
  },
  {
   "cell_type": "code",
   "execution_count": 17,
   "id": "f73e5040",
   "metadata": {},
   "outputs": [],
   "source": [
    "def rozdel_misto(x):\n",
    "    if type(x) == str:\n",
    "        try:\n",
    "            mesto = x.split(\",\")[0]\n",
    "            stat = x.split(\",\")[1]\n",
    "        except:\n",
    "            mesto = None\n",
    "            stat = x\n",
    "    else:\n",
    "        mesto = None\n",
    "        stat = None\n",
    "    return [mesto, stat]"
   ]
  },
  {
   "cell_type": "code",
   "execution_count": 18,
   "id": "ca0744a8",
   "metadata": {},
   "outputs": [],
   "source": [
    "herectvo[\"Město narození\"] = herectvo[\"Místo narození\"].apply(lambda x: rozdel_misto(x)[0])\n",
    "herectvo[\"Stát narození\"] = herectvo[\"Místo narození\"].apply(lambda x: rozdel_misto(x)[1])\n",
    "herectvo[\"Město úmrtí\"] = herectvo[\"Místo úmrtí\"].apply(lambda x: rozdel_misto(x)[1])\n",
    "herectvo[\"Stát úmrtí\"] = herectvo[\"Místo úmrtí\"].apply(lambda x: rozdel_misto(x)[1])"
   ]
  },
  {
   "cell_type": "code",
   "execution_count": 19,
   "id": "068a1e87",
   "metadata": {},
   "outputs": [],
   "source": [
    "herectvo[\"Rok narození\"] = herectvo[\"Datum narození\"].astype(str).apply(lambda x: x[-4:])\n",
    "herectvo[\"Rok narození\"] = pd.to_numeric(herectvo[\"Rok narození\"], errors='coerce') "
   ]
  },
  {
   "cell_type": "code",
   "execution_count": 20,
   "id": "6b5f5008",
   "metadata": {},
   "outputs": [],
   "source": [
    "herectvo[\"Datum narození\"] = pd.to_datetime(herectvo[\"Datum narození\"], errors=\"ignore\", format = \"%d.%m.%Y\")"
   ]
  },
  {
   "cell_type": "code",
   "execution_count": 21,
   "id": "cd08e003",
   "metadata": {},
   "outputs": [],
   "source": [
    "herectvo[\"Rok úmrtí\"] = herectvo[\"Datum úmrtí\"].astype(str).apply(lambda x: x[-4:])\n",
    "herectvo[\"Rok úmrtí\"] = pd.to_numeric(herectvo[\"Rok úmrtí\"], errors='coerce') "
   ]
  },
  {
   "cell_type": "code",
   "execution_count": 22,
   "id": "15f9c4a6",
   "metadata": {},
   "outputs": [],
   "source": [
    "herectvo[\"Datum úmrtí\"] = pd.to_datetime(herectvo[\"Datum úmrtí\"], errors=\"ignore\", format = \"%d.%m.%Y\")"
   ]
  },
  {
   "cell_type": "code",
   "execution_count": 23,
   "id": "c5c0a8fd",
   "metadata": {},
   "outputs": [],
   "source": [
    "herectvo[\"Věk\"] = herectvo[\"Rok\"].astype(float) - herectvo[\"Rok narození\"].astype(float)"
   ]
  },
  {
   "cell_type": "markdown",
   "id": "ba01098d",
   "metadata": {},
   "source": [
    "## Uložení"
   ]
  },
  {
   "cell_type": "code",
   "execution_count": 24,
   "id": "0c192b54",
   "metadata": {},
   "outputs": [],
   "source": [
    "herectvo.to_json(os.path.join(\"data\", \"herectvo.json\"), orient=\"records\")"
   ]
  },
  {
   "cell_type": "code",
   "execution_count": 25,
   "id": "c3f85f54",
   "metadata": {},
   "outputs": [],
   "source": [
    "import zipfile\n",
    "try:\n",
    "    import zlib\n",
    "    mode= zipfile.ZIP_DEFLATED\n",
    "except:\n",
    "    mode= zipfile.ZIP_STORED"
   ]
  },
  {
   "cell_type": "code",
   "execution_count": 26,
   "id": "d3a3df3c",
   "metadata": {},
   "outputs": [],
   "source": [
    "with zipfile.ZipFile(os.path.join(\"data\", \"herectvo.zip\"), mode=\"w\") as my_zip:\n",
    "    my_zip.write(os.path.join(\"data\", \"herectvo.json\"), compress_type=zipfile.ZIP_DEFLATED)"
   ]
  }
 ],
 "metadata": {
  "kernelspec": {
   "display_name": "Python 3 (ipykernel)",
   "language": "python",
   "name": "python3"
  },
  "language_info": {
   "codemirror_mode": {
    "name": "ipython",
    "version": 3
   },
   "file_extension": ".py",
   "mimetype": "text/x-python",
   "name": "python",
   "nbconvert_exporter": "python",
   "pygments_lexer": "ipython3",
   "version": "3.10.8"
  }
 },
 "nbformat": 4,
 "nbformat_minor": 5
}
