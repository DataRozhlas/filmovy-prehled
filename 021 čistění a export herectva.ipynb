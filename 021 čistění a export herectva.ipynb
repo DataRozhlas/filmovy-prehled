{
 "cells": [
  {
   "cell_type": "code",
   "execution_count": 1,
   "id": "2f0cdacc",
   "metadata": {},
   "outputs": [],
   "source": [
    "import os\n",
    "import pandas as pd"
   ]
  },
  {
   "cell_type": "code",
   "execution_count": 2,
   "id": "66753655",
   "metadata": {},
   "outputs": [],
   "source": [
    "herectvo = pd.read_json(\"herectvo_raw.json\")"
   ]
  },
  {
   "cell_type": "code",
   "execution_count": 3,
   "id": "8d46d1cd",
   "metadata": {},
   "outputs": [
    {
     "data": {
      "text/plain": [
       "(86844, 12)"
      ]
     },
     "execution_count": 3,
     "metadata": {},
     "output_type": "execute_result"
    }
   ],
   "source": [
    "herectvo.shape"
   ]
  },
  {
   "cell_type": "markdown",
   "id": "4ad6dfd2",
   "metadata": {},
   "source": [
    "## Jen relevantní filmy"
   ]
  },
  {
   "cell_type": "code",
   "execution_count": 4,
   "id": "11722320",
   "metadata": {},
   "outputs": [],
   "source": [
    "df = pd.read_json(os.path.join(\"data\", \"filmy.json\"))"
   ]
  },
  {
   "cell_type": "code",
   "execution_count": 5,
   "id": "286c216e",
   "metadata": {},
   "outputs": [],
   "source": [
    "relevantni_filmy = df[\"Film\"].to_list()"
   ]
  },
  {
   "cell_type": "code",
   "execution_count": 6,
   "id": "027d4265",
   "metadata": {},
   "outputs": [],
   "source": [
    "herectvo = herectvo[herectvo[\"Film\"].isin(relevantni_filmy)]"
   ]
  },
  {
   "cell_type": "code",
   "execution_count": 7,
   "id": "c6a32e83",
   "metadata": {},
   "outputs": [
    {
     "data": {
      "text/plain": [
       "(86648, 12)"
      ]
     },
     "execution_count": 7,
     "metadata": {},
     "output_type": "execute_result"
    }
   ],
   "source": [
    "herectvo.shape"
   ]
  },
  {
   "cell_type": "markdown",
   "id": "abdfd8c3",
   "metadata": {},
   "source": [
    "## Doplnění dat z Wikidat"
   ]
  },
  {
   "cell_type": "code",
   "execution_count": 8,
   "id": "9aac03e5",
   "metadata": {},
   "outputs": [
    {
     "data": {
      "text/plain": [
       "Jméno\n",
       "Oldřich Vlach (14387)       85\n",
       "Stanislav Litera (35280)    44\n",
       "Igor Smržík (13197)         37\n",
       "Jaroslav Vozáb (81363)      31\n",
       "Jaroslav Šanda (11812)      31\n",
       "Martin Sitta (847)          30\n",
       "Josef Kubíček (27284)       28\n",
       "František Stupka (11806)    26\n",
       "Věra Křesadlová (22867)     22\n",
       "Jiří Kalenský (7952)        21\n",
       "Marcel Vašinka (9147)       20\n",
       "Jitka Sedláčková (1435)     19\n",
       "Setleři (129620)            18\n",
       "Iva Hüttnerová (25411)      17\n",
       "Jan Vostrčil (11100)        17\n",
       "Růžena Kurelová (130454)    16\n",
       "Jiří Maryško (81150)        15\n",
       "Martin Kolár (7977)         15\n",
       "Jan Diviš (126435)          14\n",
       "Tomáš Turek (7085)          14\n",
       "Name: Film, dtype: int64"
      ]
     },
     "execution_count": 8,
     "metadata": {},
     "output_type": "execute_result"
    }
   ],
   "source": [
    "herectvo[herectvo[\"Datum narození\"].isnull()].groupby(\"Jméno\")[\"Film\"].nunique().nlargest(20)"
   ]
  },
  {
   "cell_type": "code",
   "execution_count": 9,
   "id": "848b83e2",
   "metadata": {},
   "outputs": [],
   "source": [
    "bez_dat = {\n",
    "\"Oldřich Vlach (14387)\": \"Q12042457\",\n",
    "\"Stanislav Litera (35280)\": \"Q101080646\",\n",
    "\"Igor Smržík (13197)\": \"Q95172873\",\n",
    "\"Jaroslav Vozáb (81363)\": \"Q12024124\",\n",
    "\"Martin Sitta (847)\": \"Q61043065\",\n",
    "\"Věra Křesadlová (22867)\": \"Q12001943\",\n",
    "\"Jiří Kalenský (7952)\": \"Q12035254\",\n",
    "\"Jitka Sedláčková (1435)\": \"Q12024960\",\n",
    "\"Jan Vostrčil (11100)\": \"Q12023235\",\n",
    "\"Jiří Maryško (81150)\": \"Q23765412\",\n",
    "\"Iva Hüttnerová (25411)\": \"Q17227470\",\n",
    "\"Martin Kolár (7977)\": \"Q65038076\"\n",
    "}"
   ]
  },
  {
   "cell_type": "code",
   "execution_count": 10,
   "id": "0c33f7d0",
   "metadata": {},
   "outputs": [],
   "source": [
    "from wikidata.client import Client\n",
    "import wikidata.entity"
   ]
  },
  {
   "cell_type": "code",
   "execution_count": 11,
   "id": "73e1d689",
   "metadata": {},
   "outputs": [],
   "source": [
    "def wikidates(id):\n",
    "    # zřejmě absurdně neefektivní kód, ale potřebuju ho jen jednou a z GPT-4 to fungovalo\n",
    "    client = Client()  # doctest: +SKIP\n",
    "    entity = client.get(id, load=True)\n",
    "    P569_entity = wikidata.entity.Entity(\"P569\", client)\n",
    "    entity_dict = dict(entity)\n",
    "    date_of_birth = entity_dict[P569_entity].strftime('%d. %m. %Y')\n",
    "    try:\n",
    "        P570_entity = wikidata.entity.Entity(\"P570\", client)\n",
    "        date_of_death = entity_dict[P570_entity].strftime('%d. %m. %Y')\n",
    "    except KeyError:\n",
    "        date_of_death = None\n",
    "    \n",
    "    return [date_of_birth, date_of_death]"
   ]
  },
  {
   "cell_type": "code",
   "execution_count": 12,
   "id": "70886797",
   "metadata": {},
   "outputs": [
    {
     "name": "stdout",
     "output_type": "stream",
     "text": [
      "Oldřich Vlach (14387), ['03. 07. 1941', None]\n",
      "Stanislav Litera (35280), ['11. 06. 1931', '21. 09. 2003']\n",
      "Igor Smržík (13197), ['09. 06. 1949', None]\n",
      "Jaroslav Vozáb (81363), ['16. 12. 1919', '03. 04. 1988']\n",
      "Martin Sitta (847), ['18. 11. 1968', None]\n",
      "Věra Křesadlová (22867), ['28. 02. 1944', None]\n",
      "Jiří Kalenský (7952), ['02. 10. 1954', None]\n",
      "Jitka Sedláčková (1435), ['18. 03. 1961', None]\n",
      "Jan Vostrčil (11100), ['03. 12. 1903', '25. 01. 1985']\n",
      "Jiří Maryško (81150), ['04. 04. 1980', None]\n",
      "Iva Hüttnerová (25411), ['17. 12. 1948', None]\n",
      "Martin Kolár (7977), ['27. 07. 1958', '24. 08. 2010']\n"
     ]
    }
   ],
   "source": [
    "for key, val in bez_dat.items():\n",
    "    herectvo.loc[herectvo[\"Jméno\"] == key,\"Datum narození\"]=wikidates(val)[0]\n",
    "    herectvo.loc[herectvo[\"Jméno\"] == key,\"Datum úmrtí\"]=wikidates(val)[1]\n",
    "    print(f\"{key}, {wikidates(val)}\")"
   ]
  },
  {
   "cell_type": "markdown",
   "id": "4059a3d3",
   "metadata": {},
   "source": [
    "## Data a místa"
   ]
  },
  {
   "cell_type": "code",
   "execution_count": 13,
   "id": "f73e5040",
   "metadata": {},
   "outputs": [],
   "source": [
    "def rozdel_misto(x):\n",
    "    if type(x) == str:\n",
    "        try:\n",
    "            mesto = x.split(\",\")[0]\n",
    "            stat = x.split(\",\")[1]\n",
    "        except:\n",
    "            mesto = None\n",
    "            stat = x\n",
    "    else:\n",
    "        mesto = None\n",
    "        stat = None\n",
    "    return [mesto, stat]"
   ]
  },
  {
   "cell_type": "code",
   "execution_count": 14,
   "id": "ca0744a8",
   "metadata": {},
   "outputs": [],
   "source": [
    "herectvo[\"Město narození\"] = herectvo[\"Místo narození\"].apply(lambda x: rozdel_misto(x)[0])\n",
    "herectvo[\"Stát narození\"] = herectvo[\"Místo narození\"].apply(lambda x: rozdel_misto(x)[1])\n",
    "herectvo[\"Město úmrtí\"] = herectvo[\"Místo úmrtí\"].apply(lambda x: rozdel_misto(x)[1])\n",
    "herectvo[\"Stát úmrtí\"] = herectvo[\"Místo úmrtí\"].apply(lambda x: rozdel_misto(x)[1])"
   ]
  },
  {
   "cell_type": "code",
   "execution_count": 15,
   "id": "267fa0ac",
   "metadata": {},
   "outputs": [],
   "source": [
    "herectvo.loc[herectvo[\"Jméno\"] == \"Bolek Polívka (1556)\", \"Jméno\"] = \"Boleslav Polívka (1556)\""
   ]
  },
  {
   "cell_type": "code",
   "execution_count": 16,
   "id": "61ea8d1a",
   "metadata": {},
   "outputs": [],
   "source": [
    "herectvo.loc[herectvo[\"Jméno\"] == \"Eva Pecková (34563)\", \"Datum narození\"] = None"
   ]
  },
  {
   "cell_type": "code",
   "execution_count": 17,
   "id": "068a1e87",
   "metadata": {},
   "outputs": [],
   "source": [
    "herectvo[\"Rok narození\"] = herectvo[\"Datum narození\"].astype(str).apply(lambda x: x[-4:])\n",
    "herectvo[\"Rok narození\"] = pd.to_numeric(herectvo[\"Rok narození\"], errors='coerce') "
   ]
  },
  {
   "cell_type": "code",
   "execution_count": 18,
   "id": "6b5f5008",
   "metadata": {},
   "outputs": [],
   "source": [
    "herectvo[\"Datum narození\"] = pd.to_datetime(herectvo[\"Datum narození\"], errors=\"ignore\", format = \"%d.%m.%Y\")"
   ]
  },
  {
   "cell_type": "code",
   "execution_count": 19,
   "id": "cd08e003",
   "metadata": {},
   "outputs": [],
   "source": [
    "herectvo[\"Rok úmrtí\"] = herectvo[\"Datum úmrtí\"].astype(str).apply(lambda x: x[-4:])\n",
    "herectvo[\"Rok úmrtí\"] = pd.to_numeric(herectvo[\"Rok úmrtí\"], errors='coerce') "
   ]
  },
  {
   "cell_type": "code",
   "execution_count": 20,
   "id": "15f9c4a6",
   "metadata": {},
   "outputs": [],
   "source": [
    "herectvo[\"Datum úmrtí\"] = pd.to_datetime(herectvo[\"Datum úmrtí\"], errors=\"ignore\", format = \"%d.%m.%Y\")"
   ]
  },
  {
   "cell_type": "code",
   "execution_count": 21,
   "id": "c5c0a8fd",
   "metadata": {},
   "outputs": [],
   "source": [
    "herectvo[\"Věk\"] = herectvo[\"Rok\"].astype(float) - herectvo[\"Rok narození\"].astype(float)"
   ]
  },
  {
   "cell_type": "markdown",
   "id": "ba01098d",
   "metadata": {},
   "source": [
    "## Uložení"
   ]
  },
  {
   "cell_type": "code",
   "execution_count": 23,
   "id": "0c192b54",
   "metadata": {},
   "outputs": [],
   "source": [
    "herectvo.to_json(os.path.join(\"data\", \"herectvo.json\"), orient=\"records\")"
   ]
  },
  {
   "cell_type": "code",
   "execution_count": 24,
   "id": "c3f85f54",
   "metadata": {},
   "outputs": [],
   "source": [
    "import zipfile\n",
    "try:\n",
    "    import zlib\n",
    "    mode= zipfile.ZIP_DEFLATED\n",
    "except:\n",
    "    mode= zipfile.ZIP_STORED"
   ]
  },
  {
   "cell_type": "code",
   "execution_count": 25,
   "id": "d3a3df3c",
   "metadata": {},
   "outputs": [],
   "source": [
    "with zipfile.ZipFile(os.path.join(\"data\", \"herectvo.zip\"), mode=\"w\") as my_zip:\n",
    "    my_zip.write(os.path.join(\"data\", \"herectvo.json\"), compress_type=zipfile.ZIP_DEFLATED)"
   ]
  }
 ],
 "metadata": {
  "kernelspec": {
   "display_name": "Python 3 (ipykernel)",
   "language": "python",
   "name": "python3"
  },
  "language_info": {
   "codemirror_mode": {
    "name": "ipython",
    "version": 3
   },
   "file_extension": ".py",
   "mimetype": "text/x-python",
   "name": "python",
   "nbconvert_exporter": "python",
   "pygments_lexer": "ipython3",
   "version": "3.10.8"
  }
 },
 "nbformat": 4,
 "nbformat_minor": 5
}
